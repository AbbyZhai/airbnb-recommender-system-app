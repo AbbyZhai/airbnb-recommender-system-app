{
 "cells": [
  {
   "cell_type": "markdown",
   "metadata": {
    "cell_id": "96770bb74ba347a6aeb04a9814b91a43",
    "deepnote_cell_type": "markdown"
   },
   "source": [
    "## Prepare datasets for streamlit app\n",
    "1. explore listing related dataframes\n",
    "2. explore review related dataframes\n",
    "3. prepare final listing dataframe for streamlit app."
   ]
  },
  {
   "cell_type": "code",
   "execution_count": null,
   "metadata": {
    "cell_id": "956ffc641607404abf93dee606cb30c2",
    "deepnote_cell_type": "code",
    "deepnote_to_be_reexecuted": false,
    "execution_millis": 4,
    "execution_start": 1681846404685,
    "source_hash": "9b82ee11"
   },
   "outputs": [],
   "source": [
    "import pandas as pd"
   ]
  },
  {
   "cell_type": "markdown",
   "metadata": {
    "cell_id": "465f906d25f74e099811e6c3e0be85f9",
    "deepnote_cell_type": "markdown"
   },
   "source": [
    "#### 1. explore listing related dataframes"
   ]
  },
  {
   "cell_type": "code",
   "execution_count": null,
   "metadata": {
    "cell_id": "f54f820d1cbe4231a857fa81fe1a2aea",
    "deepnote_cell_type": "code",
    "deepnote_to_be_reexecuted": false,
    "execution_millis": 2209,
    "execution_start": 1681846404685,
    "source_hash": "1ceb9217"
   },
   "outputs": [
    {
     "name": "stdout",
     "output_type": "stream",
     "text": [
      "(4933, 71)\n",
      "(4933, 73)\n",
      "(4933, 75)\n",
      "(4933, 47)\n"
     ]
    }
   ],
   "source": [
    "# explore listing related dataframes\n",
    "listing_df = pd.read_pickle('../data/data_cleaned/cleaned_listing.zip')\n",
    "listing_with_polarity_df = pd.read_pickle('../data/data_cleaned/cleaned_listing_and_review_with_polarity.zip')\n",
    "listing_with_polarity_and_text_content_df = pd.read_pickle('../data/data_cleaned/cleaned_listing_and_review_with_polarity_and_text_content.zip')\n",
    "listing_with_cluster_similarity_polarity_df = pd.read_pickle('../data/data_cleaned/listings_with_cluster_similarity_polarity.zip')\n",
    "\n",
    "print(listing_df.shape)\n",
    "print(listing_with_polarity_df.shape)\n",
    "print(listing_with_polarity_and_text_content_df.shape)\n",
    "print(listing_with_cluster_similarity_polarity_df.shape)"
   ]
  },
  {
   "cell_type": "code",
   "execution_count": null,
   "metadata": {
    "cell_id": "03e06f78bee7419699c6493ed170b18e",
    "deepnote_cell_type": "code",
    "deepnote_to_be_reexecuted": false,
    "execution_millis": 28,
    "execution_start": 1681846406865,
    "source_hash": "28a5cb3c"
   },
   "outputs": [
    {
     "data": {
      "text/plain": [
       "Index(['comments', 'polarity', 'content', 'cleaned_content'], dtype='object')"
      ]
     },
     "execution_count": 3,
     "metadata": {},
     "output_type": "execute_result"
    }
   ],
   "source": [
    "# check added columns \n",
    "# listing_with_polarity_and_text_content_df vs listing_df\n",
    "listing_with_polarity_and_text_content_df.loc[:,~listing_with_polarity_and_text_content_df.columns.isin(listing_df.columns)].columns"
   ]
  },
  {
   "cell_type": "code",
   "execution_count": null,
   "metadata": {
    "cell_id": "9eb78c9bd4204e56812d5c3b0c283f6e",
    "deepnote_cell_type": "code",
    "deepnote_to_be_reexecuted": false,
    "execution_millis": 31,
    "execution_start": 1681846406866,
    "source_hash": "34505e8b"
   },
   "outputs": [
    {
     "data": {
      "text/plain": [
       "Index(['cluster', 'similarity'], dtype='object')"
      ]
     },
     "execution_count": 4,
     "metadata": {},
     "output_type": "execute_result"
    }
   ],
   "source": [
    "# check added columns\n",
    "# listing_with_cluster_similarity_polarity_df vs listing_with_polarity_and_text_content_df\n",
    "listing_with_cluster_similarity_polarity_df.loc[:,~listing_with_cluster_similarity_polarity_df.columns.isin(listing_with_polarity_and_text_content_df.columns)].columns"
   ]
  },
  {
   "cell_type": "markdown",
   "metadata": {
    "cell_id": "e5db228ff03145818c732c2e661db659",
    "deepnote_cell_type": "markdown"
   },
   "source": [
    "##### Findings:\n",
    "\n",
    "6 new columns ['comments', 'polarity', 'content', 'cleaned_content','cluster', 'similarity'] are added comparing to the cleand_listing.zip file."
   ]
  },
  {
   "cell_type": "markdown",
   "metadata": {
    "cell_id": "7227426e5252404ba981ad67017782b9",
    "deepnote_cell_type": "markdown"
   },
   "source": [
    "#### 2. explore review related dataframes"
   ]
  },
  {
   "cell_type": "code",
   "execution_count": null,
   "metadata": {
    "cell_id": "1071d7d2bfb7469eb4dbfe532c79bee3",
    "deepnote_cell_type": "code",
    "deepnote_to_be_reexecuted": false,
    "execution_millis": 4031,
    "execution_start": 1681846406865,
    "source_hash": "84aa9888"
   },
   "outputs": [
    {
     "name": "stdout",
     "output_type": "stream",
     "text": [
      "(375173, 4)\n",
      "(375173, 5)\n",
      "(5091, 4)\n",
      "(375173, 9)\n"
     ]
    }
   ],
   "source": [
    "# explore review related dataframes\n",
    "review_df = pd.read_pickle('../data/data_cleaned/cleaned_review.zip')\n",
    "review_with_polarity_df = pd.read_pickle('../data/data_cleaned/cleaned_review_with_polarity.zip')\n",
    "review_for_wordcloud_df = pd.read_pickle('../data/data_cleaned/cleaned_review_for_review_wordcloud.zip')\n",
    "review_with_polarity_topic_df = pd.read_pickle('../data/data_cleaned/cleaned_review_with_polarity_and_topic.zip')\n",
    "\n",
    "print(review_df.shape)\n",
    "print(review_with_polarity_df.shape)\n",
    "print(review_for_wordcloud_df.shape)\n",
    "print(review_with_polarity_topic_df.shape)\n"
   ]
  },
  {
   "cell_type": "code",
   "execution_count": null,
   "metadata": {
    "cell_id": "3198624ce3624e08b330dc76a7235daf",
    "deepnote_cell_type": "code",
    "deepnote_to_be_reexecuted": false,
    "execution_millis": 16,
    "execution_start": 1681846410922,
    "source_hash": "a2853bac"
   },
   "outputs": [
    {
     "name": "stdout",
     "output_type": "stream",
     "text": [
      "['listing_id', 'date', 'reviewer_id', 'comments']\n",
      "['listing_id', 'date', 'reviewer_id', 'comments', 'polarity']\n",
      "['listing_id', 'comments', 'cleaned_comments', 'comments_nouns_adjs']\n",
      "['listing_id', 'date', 'reviewer_id', 'comments', 'polarity', 'cleaned_comments', 'comments_nouns_adjs', 'review_topic', 'review_topic_interpreted']\n"
     ]
    }
   ],
   "source": [
    "# check columns\n",
    "print(review_df.columns.tolist())\n",
    "print(review_with_polarity_df.columns.tolist())\n",
    "print(review_for_wordcloud_df.columns.tolist())\n",
    "print(review_with_polarity_topic_df.columns.tolist())"
   ]
  },
  {
   "cell_type": "markdown",
   "metadata": {
    "cell_id": "65d6f41befc94ad193834cd3289e0123",
    "deepnote_cell_type": "markdown"
   },
   "source": [
    "##### Findings:\n",
    "5 new columns ['polarity','cleaned_comments', 'comments_nouns_adjs','review_topic', 'review_topic_interpreted'] added comparing to cleaned_review.zip file.\n"
   ]
  },
  {
   "cell_type": "markdown",
   "metadata": {
    "cell_id": "52c1bd88465a4e2e9cbfe82c33282712",
    "deepnote_cell_type": "markdown"
   },
   "source": [
    "#### 3. prepare final listing dataframe for streamlit app."
   ]
  },
  {
   "cell_type": "code",
   "execution_count": null,
   "metadata": {
    "cell_id": "a474cce2253c45eab1461db5fc134f9f",
    "deepnote_cell_type": "code",
    "deepnote_to_be_reexecuted": false,
    "execution_millis": 16,
    "execution_start": 1681846410922,
    "source_hash": "6da557e4"
   },
   "outputs": [
    {
     "data": {
      "text/plain": [
       "(4933, 77)"
      ]
     },
     "execution_count": 7,
     "metadata": {},
     "output_type": "execute_result"
    }
   ],
   "source": [
    "# add 'cluster' and 'similarity' cols \n",
    "cleaned_listing_finalized_for_streamlit_df = listing_with_polarity_and_text_content_df.join (listing_with_cluster_similarity_polarity_df[['cluster', 'similarity']])\n",
    "cleaned_listing_finalized_for_streamlit_df.shape"
   ]
  },
  {
   "cell_type": "code",
   "execution_count": null,
   "metadata": {
    "cell_id": "d59bf34fc48849b9bc8715f85a498039",
    "deepnote_cell_type": "code",
    "deepnote_to_be_reexecuted": false,
    "execution_millis": 15,
    "execution_start": 1681846410923,
    "source_hash": "3ccbc1d"
   },
   "outputs": [
    {
     "data": {
      "text/plain": [
       "(4933, 79)"
      ]
     },
     "execution_count": 8,
     "metadata": {},
     "output_type": "execute_result"
    }
   ],
   "source": [
    "# add 'cleaned_comments' and 'comments_nouns_adjs' cols \n",
    "cleaned_listing_finalized_for_streamlit_df = cleaned_listing_finalized_for_streamlit_df.merge(review_for_wordcloud_df.loc[:,['listing_id','cleaned_comments', 'comments_nouns_adjs']], on='listing_id', how = 'left' )\n",
    "cleaned_listing_finalized_for_streamlit_df.shape"
   ]
  },
  {
   "cell_type": "code",
   "execution_count": null,
   "metadata": {
    "cell_id": "bf85b060eb864ef5a0ce2e60c0fc7504",
    "deepnote_cell_type": "code",
    "deepnote_to_be_reexecuted": false,
    "execution_millis": 16,
    "execution_start": 1681846410923,
    "source_hash": "2ce951c4"
   },
   "outputs": [],
   "source": [
    "# cleaned_listing_finalized_for_streamlit_df.columns"
   ]
  },
  {
   "cell_type": "code",
   "execution_count": null,
   "metadata": {
    "cell_id": "6d962b2d4b6d4bd8b428f3438f1730a4",
    "deepnote_cell_type": "code",
    "deepnote_to_be_reexecuted": false,
    "execution_millis": 14,
    "execution_start": 1681846410925,
    "source_hash": "41d02d27"
   },
   "outputs": [
    {
     "data": {
      "text/plain": [
       "Index(['host_response_time_encoded', 'host_operate_years', 'comments',\n",
       "       'polarity', 'content', 'cleaned_content', 'cluster', 'similarity',\n",
       "       'cleaned_comments', 'comments_nouns_adjs'],\n",
       "      dtype='object')"
      ]
     },
     "execution_count": 10,
     "metadata": {},
     "output_type": "execute_result"
    }
   ],
   "source": [
    "# check all (8) added cols  compared to cleaned_listing.zip\n",
    "# (starting from 'comments' to 'comments_nouns_adjs') \n",
    "cleaned_listing_finalized_for_streamlit_df.columns[-10:]"
   ]
  },
  {
   "cell_type": "code",
   "execution_count": null,
   "metadata": {
    "cell_id": "8d0e0f1868414124859514e9c66299e7",
    "deepnote_cell_type": "code",
    "deepnote_to_be_reexecuted": false,
    "execution_millis": 8897,
    "execution_start": 1681846534972,
    "source_hash": "1b5fa38b"
   },
   "outputs": [],
   "source": [
    "# save the prepared cleaned_listing_finalized_for_streamlit_df to file \n",
    "cleaned_listing_finalized_for_streamlit_df.to_pickle('data/data_cleaned/cleaned_listing_finalized_for_streamlit.zip')"
   ]
  },
  {
   "cell_type": "markdown",
   "metadata": {
    "cell_id": "c2592b0d57144973bf9746a8bbd7d50f",
    "deepnote_cell_type": "markdown"
   },
   "source": [
    "#### Summary\n",
    "1. **use cleaned_listing_finalized_for_streamlit.zip file (4933,79) for streamlit app**. Except the interpreted cluster column, the cleaned_listing_finalized_for_streamlit_df contains all the features we added to the original cleand_listing.zip data.\n",
    "2. **use cleaned_review_with_polarity_and_topic.zip file (375173, 9) for review sentiment trends and review topics plotting sections**. It has review date, polarity, and topic information so we can plot the time series to see the trends and the review topic distribution for a given listing."
   ]
  },
  {
   "cell_type": "code",
   "execution_count": null,
   "metadata": {
    "cell_id": "fe560ab2f1f642239f88279683ea601d",
    "deepnote_cell_type": "code",
    "deepnote_to_be_reexecuted": false,
    "execution_millis": 1131,
    "execution_start": 1681846553806,
    "source_hash": "ede7a06f"
   },
   "outputs": [
    {
     "data": {
      "text/plain": [
       "(4933, 79)"
      ]
     },
     "execution_count": 13,
     "metadata": {},
     "output_type": "execute_result"
    }
   ],
   "source": [
    "# check the finalized dataset\n",
    "df = pd.read_pickle('../data/data_cleaned/cleaned_listing_finalized_for_streamlit.zip')\n",
    "df.shape"
   ]
  },
  {
   "cell_type": "code",
   "execution_count": null,
   "metadata": {
    "cell_id": "6a634e239bc843f290d239b21c7b93ec",
    "deepnote_cell_type": "code",
    "deepnote_to_be_reexecuted": false,
    "execution_millis": 201,
    "execution_start": 1681846557388,
    "source_hash": "6cd8acfd"
   },
   "outputs": [
    {
     "data": {
      "application/vnd.deepnote.dataframe.v3+json": {
       "column_count": 79,
       "columns": [
        {
         "dtype": "int64",
         "name": "listing_id",
         "stats": {
          "histogram": [
           {
            "bin_end": 11621631.4,
            "bin_start": 7455832,
            "count": 1
           },
           {
            "bin_end": 15787430.8,
            "bin_start": 11621631.4,
            "count": 0
           },
           {
            "bin_end": 19953230.2,
            "bin_start": 15787430.8,
            "count": 0
           },
           {
            "bin_end": 24119029.6,
            "bin_start": 19953230.2,
            "count": 0
           },
           {
            "bin_end": 28284829,
            "bin_start": 24119029.6,
            "count": 0
           },
           {
            "bin_end": 32450628.4,
            "bin_start": 28284829,
            "count": 0
           },
           {
            "bin_end": 36616427.8,
            "bin_start": 32450628.4,
            "count": 0
           },
           {
            "bin_end": 40782227.2,
            "bin_start": 36616427.8,
            "count": 0
           },
           {
            "bin_end": 44948026.6,
            "bin_start": 40782227.2,
            "count": 0
           },
           {
            "bin_end": 49113826,
            "bin_start": 44948026.6,
            "count": 1
           }
          ],
          "max": "49113826",
          "min": "7455832",
          "nan_count": 0,
          "unique_count": 2
         }
        },
        {
         "dtype": "object",
         "name": "listing_url",
         "stats": {
          "categories": [
           {
            "count": 1,
            "name": "https://www.airbnb.com/rooms/49113826"
           },
           {
            "count": 1,
            "name": "https://www.airbnb.com/rooms/7455832"
           }
          ],
          "nan_count": 0,
          "unique_count": 2
         }
        },
        {
         "dtype": "datetime64[ns]",
         "name": "last_scraped",
         "stats": {
          "histogram": null,
          "max": "2022-12-24 00:00:00",
          "min": "2022-12-24 00:00:00",
          "nan_count": 0,
          "unique_count": 1
         }
        },
        {
         "dtype": "object",
         "name": "listing_name",
         "stats": {
          "categories": [
           {
            "count": 1,
            "name": "Private Seattle Getaway Home Near Lake Washington!"
           },
           {
            "count": 1,
            "name": "Classic remodeled in Georgetown"
           }
          ],
          "nan_count": 0,
          "unique_count": 2
         }
        },
        {
         "dtype": "object",
         "name": "description",
         "stats": {
          "categories": [
           {
            "count": 1,
            "name": "A Seattle vacation destination for those from out of town or a Staycation for those who live close by. We welcome you to this partial lake view gated family friendly home with 4 bedrooms, 2 bathrooms. A beautiful & serene creek flows through the front of the home. There is a fully functioning kitchen with appliances & utensils.  & laundry room. Only a few mins walk to Lakeridge playfield just behind the house! 15 min drive to SeaTac International Airport and 25 min drive to downtown Seattle.<br /><br /><b>The space</b><br />Smart lock for easy check in and Xfinity Home Security Alarm for your protection and peace of mind. There are a few steps leading into the home. There is one security camera at the house facing the front entrance and driveway. The front driveway can fit 6 cars.<br /><br />Bed Arrangements: <br /><br />Lower levels: 2 bedrooms, 1 bathroom<br />Room #1: One Queen bed (sleeps 2)<br />Room #4: One Queen bed (sleeps 2)<br /><br />Upper level: 2 bedrooms, 1 bathroom<br />"
           },
           {
            "count": 1,
            "name": "Enjoy your Seattle stay in the vibrant & artistic Georgetown neighborhood! Georgetown is truly one of the last artsy, funky neighborhoods left in Seattle - you will be a five minute walk from the many restaurants, bars, wine tasting rooms & more in the \"downtown\" Georgetown neighborhood. It's also kid friendly as you will see many families out and pushing strollers around.<br /><br />The neighborhood is located a few miles south of the downtown Seattle core.<br /><br /><b>The space</b><br />This is the top unit of a completely remodeled craftsman (if bottom unit is available you can rent the whole house and have 6 beds & 4 baths!)<br /><br />This unit has the classic craftsman feel, but it has been completely remodeled with some modern touches!<br /><br /><b>Guest access</b><br />Obviously you have access to the entire unit - there is a lower unit of the house that may be rented too, so you will need to be respectful of other guests. The front yard and side yards are also yours to enjo"
           }
          ],
          "nan_count": 0,
          "unique_count": 2
         }
        },
        {
         "dtype": "object",
         "name": "neighborhood_overview",
         "stats": {
          "categories": [
           {
            "count": 1,
            "name": "SeaTac International Airport: 14 min drive<br /><br />Grocery Stores nearby:<br />- Safeway & Rite Aid: 5 min drive<br />- Walgreens: 6 min drive<br />- Walmart & Fred Meyer: 9 min drive<br />- Uwajimaya: 10 min drive<br /><br />Dining nearby:<br />- Pizzeria Pulcinella: 2 min walk<br />- Stonehouse Cafe: 10 min walk<br />- The Landing (popular outdoor retail & restaurant area): 10 min drive<br /><br />Activities nearby:<br />- Lakeridge Playground: 2 min walk<br />- Downtown Renton: 10 min drive<br />- Southcenter Mall (large shopping mall): 14 min drive<br />- Round 1 (arcade, bowling, pool) inside Southcenter: 14 min drive<br />- iFly (mock sky diving): 15 min drive<br />- Downtown Seattle & Pike Place Market: 25 min drive"
           },
           {
            "count": 1,
            "name": "Georgetown is a cool neighborhood about three miles south of Seattle. Formerly an industrial area filled with warehouses, Georgetown has gone from shabby to chic, from industrial to artsy. Today, the neighborhood is a great place to find trendy restaurants, breweries, and art galleries."
           }
          ],
          "nan_count": 0,
          "unique_count": 2
         }
        },
        {
         "dtype": "object",
         "name": "picture_url",
         "stats": {
          "categories": [
           {
            "count": 1,
            "name": "https://a0.muscache.com/pictures/miso/Hosting-49113826/original/29c08a31-b625-4e8f-bbc6-93e7994fef05.jpeg"
           },
           {
            "count": 1,
            "name": "https://a0.muscache.com/pictures/miso/Hosting-7455832/original/87dcaee3-d543-440c-8cf0-19ac171d7200.jpeg"
           }
          ],
          "nan_count": 0,
          "unique_count": 2
         }
        },
        {
         "dtype": "int64",
         "name": "host_id",
         "stats": {
          "histogram": [
           {
            "bin_end": 20784291.1,
            "bin_start": 2144954,
            "count": 1
           },
           {
            "bin_end": 39423628.2,
            "bin_start": 20784291.1,
            "count": 0
           },
           {
            "bin_end": 58062965.300000004,
            "bin_start": 39423628.2,
            "count": 0
           },
           {
            "bin_end": 76702302.4,
            "bin_start": 58062965.300000004,
            "count": 0
           },
           {
            "bin_end": 95341639.5,
            "bin_start": 76702302.4,
            "count": 0
           },
           {
            "bin_end": 113980976.60000001,
            "bin_start": 95341639.5,
            "count": 0
           },
           {
            "bin_end": 132620313.70000002,
            "bin_start": 113980976.60000001,
            "count": 0
           },
           {
            "bin_end": 151259650.8,
            "bin_start": 132620313.70000002,
            "count": 0
           },
           {
            "bin_end": 169898987.9,
            "bin_start": 151259650.8,
            "count": 0
           },
           {
            "bin_end": 188538325,
            "bin_start": 169898987.9,
            "count": 1
           }
          ],
          "max": "188538325",
          "min": "2144954",
          "nan_count": 0,
          "unique_count": 2
         }
        },
        {
         "dtype": "object",
         "name": "host_url",
         "stats": {
          "categories": [
           {
            "count": 1,
            "name": "https://www.airbnb.com/users/show/188538325"
           },
           {
            "count": 1,
            "name": "https://www.airbnb.com/users/show/2144954"
           }
          ],
          "nan_count": 0,
          "unique_count": 2
         }
        },
        {
         "dtype": "object",
         "name": "host_name",
         "stats": {
          "categories": [
           {
            "count": 1,
            "name": "Xiao"
           },
           {
            "count": 1,
            "name": "Ryan"
           }
          ],
          "nan_count": 0,
          "unique_count": 2
         }
        },
        {
         "dtype": "datetime64[ns]",
         "name": "host_since",
         "stats": {
          "histogram": [
           {
            "bin_end": 1353576960000000000,
            "bin_start": 1334448000000000000,
            "count": 1
           },
           {
            "bin_end": 1372705920000000000,
            "bin_start": 1353576960000000000,
            "count": 0
           },
           {
            "bin_end": 1391834880000000000,
            "bin_start": 1372705920000000000,
            "count": 0
           },
           {
            "bin_end": 1410963840000000000,
            "bin_start": 1391834880000000000,
            "count": 0
           },
           {
            "bin_end": 1430092800000000000,
            "bin_start": 1410963840000000000,
            "count": 0
           },
           {
            "bin_end": 1449221760000000000,
            "bin_start": 1430092800000000000,
            "count": 0
           },
           {
            "bin_end": 1468350720000000000,
            "bin_start": 1449221760000000000,
            "count": 0
           },
           {
            "bin_end": 1487479680000000000,
            "bin_start": 1468350720000000000,
            "count": 0
           },
           {
            "bin_end": 1506608640000000000,
            "bin_start": 1487479680000000000,
            "count": 0
           },
           {
            "bin_end": 1525737600000000000,
            "bin_start": 1506608640000000000,
            "count": 1
           }
          ],
          "max": "2018-05-08 00:00:00",
          "min": "2012-04-15 00:00:00",
          "nan_count": 0,
          "unique_count": 2
         }
        },
        {
         "dtype": "object",
         "name": "host_location",
         "stats": {
          "categories": [
           {
            "count": 2,
            "name": "Seattle, WA"
           }
          ],
          "nan_count": 0,
          "unique_count": 1
         }
        },
        {
         "dtype": "object",
         "name": "host_about",
         "stats": {
          "categories": [
           {
            "count": 2,
            "name": " "
           }
          ],
          "nan_count": 0,
          "unique_count": 1
         }
        },
        {
         "dtype": "object",
         "name": "host_response_time",
         "stats": {
          "categories": [
           {
            "count": 2,
            "name": "within an hour"
           }
          ],
          "nan_count": 0,
          "unique_count": 1
         }
        },
        {
         "dtype": "float64",
         "name": "host_response_rate",
         "stats": {
          "histogram": [
           {
            "bin_end": 0.6,
            "bin_start": 0.5,
            "count": 0
           },
           {
            "bin_end": 0.7,
            "bin_start": 0.6,
            "count": 0
           },
           {
            "bin_end": 0.8,
            "bin_start": 0.7,
            "count": 0
           },
           {
            "bin_end": 0.9,
            "bin_start": 0.8,
            "count": 0
           },
           {
            "bin_end": 1,
            "bin_start": 0.9,
            "count": 0
           },
           {
            "bin_end": 1.1,
            "bin_start": 1,
            "count": 2
           },
           {
            "bin_end": 1.2000000000000002,
            "bin_start": 1.1,
            "count": 0
           },
           {
            "bin_end": 1.3,
            "bin_start": 1.2000000000000002,
            "count": 0
           },
           {
            "bin_end": 1.4,
            "bin_start": 1.3,
            "count": 0
           },
           {
            "bin_end": 1.5,
            "bin_start": 1.4,
            "count": 0
           }
          ],
          "max": "1.0",
          "min": "1.0",
          "nan_count": 0,
          "unique_count": 1
         }
        },
        {
         "dtype": "float64",
         "name": "host_acceptance_rate",
         "stats": {
          "histogram": [
           {
            "bin_end": 0.6,
            "bin_start": 0.5,
            "count": 0
           },
           {
            "bin_end": 0.7,
            "bin_start": 0.6,
            "count": 0
           },
           {
            "bin_end": 0.8,
            "bin_start": 0.7,
            "count": 0
           },
           {
            "bin_end": 0.9,
            "bin_start": 0.8,
            "count": 0
           },
           {
            "bin_end": 1,
            "bin_start": 0.9,
            "count": 0
           },
           {
            "bin_end": 1.1,
            "bin_start": 1,
            "count": 2
           },
           {
            "bin_end": 1.2000000000000002,
            "bin_start": 1.1,
            "count": 0
           },
           {
            "bin_end": 1.3,
            "bin_start": 1.2000000000000002,
            "count": 0
           },
           {
            "bin_end": 1.4,
            "bin_start": 1.3,
            "count": 0
           },
           {
            "bin_end": 1.5,
            "bin_start": 1.4,
            "count": 0
           }
          ],
          "max": "1.0",
          "min": "1.0",
          "nan_count": 0,
          "unique_count": 1
         }
        },
        {
         "dtype": "int64",
         "name": "host_is_superhost",
         "stats": {
          "histogram": [
           {
            "bin_end": 0.1,
            "bin_start": 0,
            "count": 1
           },
           {
            "bin_end": 0.2,
            "bin_start": 0.1,
            "count": 0
           },
           {
            "bin_end": 0.30000000000000004,
            "bin_start": 0.2,
            "count": 0
           },
           {
            "bin_end": 0.4,
            "bin_start": 0.30000000000000004,
            "count": 0
           },
           {
            "bin_end": 0.5,
            "bin_start": 0.4,
            "count": 0
           },
           {
            "bin_end": 0.6000000000000001,
            "bin_start": 0.5,
            "count": 0
           },
           {
            "bin_end": 0.7000000000000001,
            "bin_start": 0.6000000000000001,
            "count": 0
           },
           {
            "bin_end": 0.8,
            "bin_start": 0.7000000000000001,
            "count": 0
           },
           {
            "bin_end": 0.9,
            "bin_start": 0.8,
            "count": 0
           },
           {
            "bin_end": 1,
            "bin_start": 0.9,
            "count": 1
           }
          ],
          "max": "1",
          "min": "0",
          "nan_count": 0,
          "unique_count": 2
         }
        },
        {
         "dtype": "object",
         "name": "host_picture_url",
         "stats": {
          "categories": [
           {
            "count": 1,
            "name": "https://a0.muscache.com/im/pictures/user/32fd3116-b515-46d9-8048-d5773e1bac5a.jpg?aki_policy=profile_x_medium"
           },
           {
            "count": 1,
            "name": "https://a0.muscache.com/im/pictures/user/a671129c-f502-4968-85ef-7ef088d81ab3.jpg?aki_policy=profile_x_medium"
           }
          ],
          "nan_count": 0,
          "unique_count": 2
         }
        },
        {
         "dtype": "object",
         "name": "host_neighbourhood",
         "stats": {
          "categories": [
           {
            "count": 1,
            "name": "Oakland"
           },
           {
            "count": 1,
            "name": "Greater Duwamish"
           }
          ],
          "nan_count": 0,
          "unique_count": 2
         }
        },
        {
         "dtype": "int64",
         "name": "host_listings_count",
         "stats": {
          "histogram": [
           {
            "bin_end": 2.2,
            "bin_start": 2,
            "count": 1
           },
           {
            "bin_end": 2.4,
            "bin_start": 2.2,
            "count": 0
           },
           {
            "bin_end": 2.6,
            "bin_start": 2.4,
            "count": 0
           },
           {
            "bin_end": 2.8,
            "bin_start": 2.6,
            "count": 0
           },
           {
            "bin_end": 3,
            "bin_start": 2.8,
            "count": 0
           },
           {
            "bin_end": 3.2,
            "bin_start": 3,
            "count": 0
           },
           {
            "bin_end": 3.4000000000000004,
            "bin_start": 3.2,
            "count": 0
           },
           {
            "bin_end": 3.6,
            "bin_start": 3.4000000000000004,
            "count": 0
           },
           {
            "bin_end": 3.8,
            "bin_start": 3.6,
            "count": 0
           },
           {
            "bin_end": 4,
            "bin_start": 3.8,
            "count": 1
           }
          ],
          "max": "4",
          "min": "2",
          "nan_count": 0,
          "unique_count": 2
         }
        },
        {
         "dtype": "int64",
         "name": "host_total_listings_count",
         "stats": {
          "histogram": [
           {
            "bin_end": 2.2,
            "bin_start": 2,
            "count": 1
           },
           {
            "bin_end": 2.4,
            "bin_start": 2.2,
            "count": 0
           },
           {
            "bin_end": 2.6,
            "bin_start": 2.4,
            "count": 0
           },
           {
            "bin_end": 2.8,
            "bin_start": 2.6,
            "count": 0
           },
           {
            "bin_end": 3,
            "bin_start": 2.8,
            "count": 0
           },
           {
            "bin_end": 3.2,
            "bin_start": 3,
            "count": 0
           },
           {
            "bin_end": 3.4000000000000004,
            "bin_start": 3.2,
            "count": 0
           },
           {
            "bin_end": 3.6,
            "bin_start": 3.4000000000000004,
            "count": 0
           },
           {
            "bin_end": 3.8,
            "bin_start": 3.6,
            "count": 0
           },
           {
            "bin_end": 4,
            "bin_start": 3.8,
            "count": 1
           }
          ],
          "max": "4",
          "min": "2",
          "nan_count": 0,
          "unique_count": 2
         }
        },
        {
         "dtype": "object",
         "name": "host_verifications",
         "stats": {
          "categories": [
           {
            "count": 1,
            "name": "['email', 'phone']"
           },
           {
            "count": 1,
            "name": "['email', 'phone', 'work_email']"
           }
          ],
          "nan_count": 0,
          "unique_count": 2
         }
        },
        {
         "dtype": "int64",
         "name": "host_has_profile_pic",
         "stats": {
          "histogram": [
           {
            "bin_end": 0.6,
            "bin_start": 0.5,
            "count": 0
           },
           {
            "bin_end": 0.7,
            "bin_start": 0.6,
            "count": 0
           },
           {
            "bin_end": 0.8,
            "bin_start": 0.7,
            "count": 0
           },
           {
            "bin_end": 0.9,
            "bin_start": 0.8,
            "count": 0
           },
           {
            "bin_end": 1,
            "bin_start": 0.9,
            "count": 0
           },
           {
            "bin_end": 1.1,
            "bin_start": 1,
            "count": 2
           },
           {
            "bin_end": 1.2000000000000002,
            "bin_start": 1.1,
            "count": 0
           },
           {
            "bin_end": 1.3,
            "bin_start": 1.2000000000000002,
            "count": 0
           },
           {
            "bin_end": 1.4,
            "bin_start": 1.3,
            "count": 0
           },
           {
            "bin_end": 1.5,
            "bin_start": 1.4,
            "count": 0
           }
          ],
          "max": "1",
          "min": "1",
          "nan_count": 0,
          "unique_count": 1
         }
        },
        {
         "dtype": "int64",
         "name": "host_identity_verified",
         "stats": {
          "histogram": [
           {
            "bin_end": 0.1,
            "bin_start": 0,
            "count": 1
           },
           {
            "bin_end": 0.2,
            "bin_start": 0.1,
            "count": 0
           },
           {
            "bin_end": 0.30000000000000004,
            "bin_start": 0.2,
            "count": 0
           },
           {
            "bin_end": 0.4,
            "bin_start": 0.30000000000000004,
            "count": 0
           },
           {
            "bin_end": 0.5,
            "bin_start": 0.4,
            "count": 0
           },
           {
            "bin_end": 0.6000000000000001,
            "bin_start": 0.5,
            "count": 0
           },
           {
            "bin_end": 0.7000000000000001,
            "bin_start": 0.6000000000000001,
            "count": 0
           },
           {
            "bin_end": 0.8,
            "bin_start": 0.7000000000000001,
            "count": 0
           },
           {
            "bin_end": 0.9,
            "bin_start": 0.8,
            "count": 0
           },
           {
            "bin_end": 1,
            "bin_start": 0.9,
            "count": 1
           }
          ],
          "max": "1",
          "min": "0",
          "nan_count": 0,
          "unique_count": 2
         }
        },
        {
         "dtype": "object",
         "name": "neighbourhood_cleansed",
         "stats": {
          "categories": [
           {
            "count": 1,
            "name": "Rainier View"
           },
           {
            "count": 1,
            "name": "Georgetown"
           }
          ],
          "nan_count": 0,
          "unique_count": 2
         }
        },
        {
         "dtype": "object",
         "name": "neighbourhood_group_cleansed",
         "stats": {
          "categories": [
           {
            "count": 1,
            "name": "Rainier Valley"
           },
           {
            "count": 1,
            "name": "Other neighborhoods"
           }
          ],
          "nan_count": 0,
          "unique_count": 2
         }
        },
        {
         "dtype": "float64",
         "name": "latitude",
         "stats": {
          "histogram": [
           {
            "bin_end": 47.513725900000004,
            "bin_start": 47.51028,
            "count": 1
           },
           {
            "bin_end": 47.5171718,
            "bin_start": 47.513725900000004,
            "count": 0
           },
           {
            "bin_end": 47.5206177,
            "bin_start": 47.5171718,
            "count": 0
           },
           {
            "bin_end": 47.5240636,
            "bin_start": 47.5206177,
            "count": 0
           },
           {
            "bin_end": 47.5275095,
            "bin_start": 47.5240636,
            "count": 0
           },
           {
            "bin_end": 47.5309554,
            "bin_start": 47.5275095,
            "count": 0
           },
           {
            "bin_end": 47.5344013,
            "bin_start": 47.5309554,
            "count": 0
           },
           {
            "bin_end": 47.5378472,
            "bin_start": 47.5344013,
            "count": 0
           },
           {
            "bin_end": 47.5412931,
            "bin_start": 47.5378472,
            "count": 0
           },
           {
            "bin_end": 47.544739,
            "bin_start": 47.5412931,
            "count": 1
           }
          ],
          "max": "47.544739",
          "min": "47.51028",
          "nan_count": 0,
          "unique_count": 2
         }
        },
        {
         "dtype": "float64",
         "name": "longitude",
         "stats": {
          "histogram": [
           {
            "bin_end": -122.3124754,
            "bin_start": -122.319786,
            "count": 1
           },
           {
            "bin_end": -122.3051648,
            "bin_start": -122.3124754,
            "count": 0
           },
           {
            "bin_end": -122.29785419999999,
            "bin_start": -122.3051648,
            "count": 0
           },
           {
            "bin_end": -122.29054359999999,
            "bin_start": -122.29785419999999,
            "count": 0
           },
           {
            "bin_end": -122.283233,
            "bin_start": -122.29054359999999,
            "count": 0
           },
           {
            "bin_end": -122.2759224,
            "bin_start": -122.283233,
            "count": 0
           },
           {
            "bin_end": -122.2686118,
            "bin_start": -122.2759224,
            "count": 0
           },
           {
            "bin_end": -122.26130119999999,
            "bin_start": -122.2686118,
            "count": 0
           },
           {
            "bin_end": -122.2539906,
            "bin_start": -122.26130119999999,
            "count": 0
           },
           {
            "bin_end": -122.24668,
            "bin_start": -122.2539906,
            "count": 1
           }
          ],
          "max": "-122.24668",
          "min": "-122.319786",
          "nan_count": 0,
          "unique_count": 2
         }
        },
        {
         "dtype": "object",
         "name": "property_type",
         "stats": {
          "categories": [
           {
            "count": 2,
            "name": "Entire home"
           }
          ],
          "nan_count": 0,
          "unique_count": 1
         }
        },
        {
         "dtype": "object",
         "name": "room_type",
         "stats": {
          "categories": [
           {
            "count": 2,
            "name": "Entire home/apt"
           }
          ],
          "nan_count": 0,
          "unique_count": 1
         }
        },
        {
         "dtype": "int64",
         "name": "accommodates",
         "stats": {
          "histogram": [
           {
            "bin_end": 6.2,
            "bin_start": 6,
            "count": 1
           },
           {
            "bin_end": 6.4,
            "bin_start": 6.2,
            "count": 0
           },
           {
            "bin_end": 6.6,
            "bin_start": 6.4,
            "count": 0
           },
           {
            "bin_end": 6.8,
            "bin_start": 6.6,
            "count": 0
           },
           {
            "bin_end": 7,
            "bin_start": 6.8,
            "count": 0
           },
           {
            "bin_end": 7.2,
            "bin_start": 7,
            "count": 0
           },
           {
            "bin_end": 7.4,
            "bin_start": 7.2,
            "count": 0
           },
           {
            "bin_end": 7.6,
            "bin_start": 7.4,
            "count": 0
           },
           {
            "bin_end": 7.8,
            "bin_start": 7.6,
            "count": 0
           },
           {
            "bin_end": 8,
            "bin_start": 7.8,
            "count": 1
           }
          ],
          "max": "8",
          "min": "6",
          "nan_count": 0,
          "unique_count": 2
         }
        },
        {
         "dtype": "float64",
         "name": "bedrooms",
         "stats": {
          "histogram": [
           {
            "bin_end": 3.1,
            "bin_start": 3,
            "count": 1
           },
           {
            "bin_end": 3.2,
            "bin_start": 3.1,
            "count": 0
           },
           {
            "bin_end": 3.3,
            "bin_start": 3.2,
            "count": 0
           },
           {
            "bin_end": 3.4,
            "bin_start": 3.3,
            "count": 0
           },
           {
            "bin_end": 3.5,
            "bin_start": 3.4,
            "count": 0
           },
           {
            "bin_end": 3.6,
            "bin_start": 3.5,
            "count": 0
           },
           {
            "bin_end": 3.7,
            "bin_start": 3.6,
            "count": 0
           },
           {
            "bin_end": 3.8,
            "bin_start": 3.7,
            "count": 0
           },
           {
            "bin_end": 3.9,
            "bin_start": 3.8,
            "count": 0
           },
           {
            "bin_end": 4,
            "bin_start": 3.9,
            "count": 1
           }
          ],
          "max": "4.0",
          "min": "3.0",
          "nan_count": 0,
          "unique_count": 2
         }
        },
        {
         "dtype": "float64",
         "name": "beds",
         "stats": {
          "histogram": [
           {
            "bin_end": 3.1,
            "bin_start": 3,
            "count": 1
           },
           {
            "bin_end": 3.2,
            "bin_start": 3.1,
            "count": 0
           },
           {
            "bin_end": 3.3,
            "bin_start": 3.2,
            "count": 0
           },
           {
            "bin_end": 3.4,
            "bin_start": 3.3,
            "count": 0
           },
           {
            "bin_end": 3.5,
            "bin_start": 3.4,
            "count": 0
           },
           {
            "bin_end": 3.6,
            "bin_start": 3.5,
            "count": 0
           },
           {
            "bin_end": 3.7,
            "bin_start": 3.6,
            "count": 0
           },
           {
            "bin_end": 3.8,
            "bin_start": 3.7,
            "count": 0
           },
           {
            "bin_end": 3.9,
            "bin_start": 3.8,
            "count": 0
           },
           {
            "bin_end": 4,
            "bin_start": 3.9,
            "count": 1
           }
          ],
          "max": "4.0",
          "min": "3.0",
          "nan_count": 0,
          "unique_count": 2
         }
        },
        {
         "dtype": "object",
         "name": "amenities",
         "stats": {
          "categories": [
           {
            "count": 1,
            "name": "[\"Hot water\", \"Dining table\", \"Toaster\", \"Refrigerator\", \"Bathtub\", \"Dishwasher\", \"Coffee maker: drip coffee maker\", \"Room-darkening shades\", \"Private entrance\", \"Dishes and silverware\", \"Washer\", \"Kitchen\", \"TV\", \"Body soap\", \"Indoor fireplace\", \"Private patio or balcony\", \"Free street parking\", \"Iron\", \"Hair dryer\", \"Microwave\", \"Cooking basics\", \"Oven\", \"Private backyard \\u2013 Fully fenced\", \"Pack \\u2019n play/Travel crib\", \"Keypad\", \"Stove\", \"Smoke alarm\", \"Dryer\", \"Essentials\", \"Wine glasses\", \"Self check-in\", \"Cleaning products\", \"Fire extinguisher\", \"High chair\", \"Heating\", \"Outdoor furniture\", \"Long term stays allowed\", \"Wifi\", \"Air conditioning\", \"Outdoor dining area\", \"BBQ grill\", \"First aid kit\", \"Hangers\", \"Extra pillows and blankets\", \"Shampoo\", \"Security cameras on property\", \"Carbon monoxide alarm\", \"Fire pit\", \"Dedicated workspace\", \"Lake view\", \"Bed linens\", \"Park view\", \"Free parking on premises\"]"
           },
           {
            "count": 1,
            "name": "[\"Hot water\", \"Crib - available upon request\", \"Dining table\", \"Toaster\", \"Refrigerator\", \"Bathtub\", \"Dishwasher\", \"Hot water kettle\", \"Room-darkening shades\", \"Private entrance\", \"Dishes and silverware\", \"Conditioner\", \"Kitchen\", \"Body soap\", \"Private patio or balcony\", \"Free street parking\", \"Google Nest sound system\", \"Iron\", \"Hair dryer\", \"Microwave\", \"Cooking basics\", \"Oven\", \"Shared backyard \\u2013 Not fully fenced\", \"Pets allowed\", \"Keypad\", \"Free dryer \\u2013 In unit\", \"Stove\", \"Smoke alarm\", \"Wine glasses\", \"Essentials\", \"Pack \\u2019n play/Travel crib - available upon request\", \"Self check-in\", \"Cleaning products\", \"AC - split type ductless system\", \"Fire extinguisher\", \"Long term stays allowed\", \"Outdoor furniture\", \"Wifi\", \"Coffee\", \"Single level home\", \"Outdoor dining area\", \"Coffee maker: french press\", \"First aid kit\", \"65\\\" HDTV with standard cable\", \"Hangers\", \"Freezer\", \"Free washer \\u2013 In unit\", \"Extra pillows and blankets\", \"Shampoo\", \"Carbon monoxide alarm\", \"Heating - split type ductless system\", \"Dedicated workspace\", \"Bed linens\", \"Free parking on premises\", \"Books and reading material\"]"
           }
          ],
          "nan_count": 0,
          "unique_count": 2
         }
        },
        {
         "dtype": "float64",
         "name": "price",
         "stats": {
          "histogram": [
           {
            "bin_end": 168.4,
            "bin_start": 156,
            "count": 1
           },
           {
            "bin_end": 180.8,
            "bin_start": 168.4,
            "count": 0
           },
           {
            "bin_end": 193.2,
            "bin_start": 180.8,
            "count": 0
           },
           {
            "bin_end": 205.6,
            "bin_start": 193.2,
            "count": 0
           },
           {
            "bin_end": 218,
            "bin_start": 205.6,
            "count": 0
           },
           {
            "bin_end": 230.4,
            "bin_start": 218,
            "count": 0
           },
           {
            "bin_end": 242.8,
            "bin_start": 230.4,
            "count": 0
           },
           {
            "bin_end": 255.2,
            "bin_start": 242.8,
            "count": 0
           },
           {
            "bin_end": 267.6,
            "bin_start": 255.2,
            "count": 0
           },
           {
            "bin_end": 280,
            "bin_start": 267.6,
            "count": 1
           }
          ],
          "max": "280.0",
          "min": "156.0",
          "nan_count": 0,
          "unique_count": 2
         }
        },
        {
         "dtype": "int64",
         "name": "minimum_nights",
         "stats": {
          "histogram": [
           {
            "bin_end": 1.2,
            "bin_start": 1,
            "count": 1
           },
           {
            "bin_end": 1.4,
            "bin_start": 1.2,
            "count": 0
           },
           {
            "bin_end": 1.6,
            "bin_start": 1.4,
            "count": 0
           },
           {
            "bin_end": 1.8,
            "bin_start": 1.6,
            "count": 0
           },
           {
            "bin_end": 2,
            "bin_start": 1.8,
            "count": 0
           },
           {
            "bin_end": 2.2,
            "bin_start": 2,
            "count": 0
           },
           {
            "bin_end": 2.4000000000000004,
            "bin_start": 2.2,
            "count": 0
           },
           {
            "bin_end": 2.6,
            "bin_start": 2.4000000000000004,
            "count": 0
           },
           {
            "bin_end": 2.8,
            "bin_start": 2.6,
            "count": 0
           },
           {
            "bin_end": 3,
            "bin_start": 2.8,
            "count": 1
           }
          ],
          "max": "3",
          "min": "1",
          "nan_count": 0,
          "unique_count": 2
         }
        },
        {
         "dtype": "int64",
         "name": "maximum_nights",
         "stats": {
          "histogram": [
           {
            "bin_end": 42,
            "bin_start": 30,
            "count": 1
           },
           {
            "bin_end": 54,
            "bin_start": 42,
            "count": 0
           },
           {
            "bin_end": 66,
            "bin_start": 54,
            "count": 0
           },
           {
            "bin_end": 78,
            "bin_start": 66,
            "count": 0
           },
           {
            "bin_end": 90,
            "bin_start": 78,
            "count": 0
           },
           {
            "bin_end": 102,
            "bin_start": 90,
            "count": 0
           },
           {
            "bin_end": 114,
            "bin_start": 102,
            "count": 0
           },
           {
            "bin_end": 126,
            "bin_start": 114,
            "count": 0
           },
           {
            "bin_end": 138,
            "bin_start": 126,
            "count": 0
           },
           {
            "bin_end": 150,
            "bin_start": 138,
            "count": 1
           }
          ],
          "max": "150",
          "min": "30",
          "nan_count": 0,
          "unique_count": 2
         }
        },
        {
         "dtype": "float64",
         "name": "minimum_minimum_nights",
         "stats": {
          "histogram": [
           {
            "bin_end": 2.1,
            "bin_start": 2,
            "count": 1
           },
           {
            "bin_end": 2.2,
            "bin_start": 2.1,
            "count": 0
           },
           {
            "bin_end": 2.3,
            "bin_start": 2.2,
            "count": 0
           },
           {
            "bin_end": 2.4,
            "bin_start": 2.3,
            "count": 0
           },
           {
            "bin_end": 2.5,
            "bin_start": 2.4,
            "count": 0
           },
           {
            "bin_end": 2.6,
            "bin_start": 2.5,
            "count": 0
           },
           {
            "bin_end": 2.7,
            "bin_start": 2.6,
            "count": 0
           },
           {
            "bin_end": 2.8,
            "bin_start": 2.7,
            "count": 0
           },
           {
            "bin_end": 2.9,
            "bin_start": 2.8,
            "count": 0
           },
           {
            "bin_end": 3,
            "bin_start": 2.9,
            "count": 1
           }
          ],
          "max": "3.0",
          "min": "2.0",
          "nan_count": 0,
          "unique_count": 2
         }
        },
        {
         "dtype": "float64",
         "name": "maximum_minimum_nights",
         "stats": {
          "histogram": [
           {
            "bin_end": 2.6,
            "bin_start": 2.5,
            "count": 0
           },
           {
            "bin_end": 2.7,
            "bin_start": 2.6,
            "count": 0
           },
           {
            "bin_end": 2.8,
            "bin_start": 2.7,
            "count": 0
           },
           {
            "bin_end": 2.9,
            "bin_start": 2.8,
            "count": 0
           },
           {
            "bin_end": 3,
            "bin_start": 2.9,
            "count": 0
           },
           {
            "bin_end": 3.1,
            "bin_start": 3,
            "count": 2
           },
           {
            "bin_end": 3.2,
            "bin_start": 3.1,
            "count": 0
           },
           {
            "bin_end": 3.3,
            "bin_start": 3.2,
            "count": 0
           },
           {
            "bin_end": 3.4,
            "bin_start": 3.3,
            "count": 0
           },
           {
            "bin_end": 3.5,
            "bin_start": 3.4,
            "count": 0
           }
          ],
          "max": "3.0",
          "min": "3.0",
          "nan_count": 0,
          "unique_count": 1
         }
        },
        {
         "dtype": "float64",
         "name": "minimum_maximum_nights",
         "stats": {
          "histogram": [
           {
            "bin_end": 1124.6,
            "bin_start": 1124.5,
            "count": 0
           },
           {
            "bin_end": 1124.7,
            "bin_start": 1124.6,
            "count": 0
           },
           {
            "bin_end": 1124.8,
            "bin_start": 1124.7,
            "count": 0
           },
           {
            "bin_end": 1124.9,
            "bin_start": 1124.8,
            "count": 0
           },
           {
            "bin_end": 1125,
            "bin_start": 1124.9,
            "count": 0
           },
           {
            "bin_end": 1125.1,
            "bin_start": 1125,
            "count": 2
           },
           {
            "bin_end": 1125.2,
            "bin_start": 1125.1,
            "count": 0
           },
           {
            "bin_end": 1125.3,
            "bin_start": 1125.2,
            "count": 0
           },
           {
            "bin_end": 1125.4,
            "bin_start": 1125.3,
            "count": 0
           },
           {
            "bin_end": 1125.5,
            "bin_start": 1125.4,
            "count": 0
           }
          ],
          "max": "1125.0",
          "min": "1125.0",
          "nan_count": 0,
          "unique_count": 1
         }
        },
        {
         "dtype": "float64",
         "name": "maximum_maximum_nights",
         "stats": {
          "histogram": [
           {
            "bin_end": 1124.6,
            "bin_start": 1124.5,
            "count": 0
           },
           {
            "bin_end": 1124.7,
            "bin_start": 1124.6,
            "count": 0
           },
           {
            "bin_end": 1124.8,
            "bin_start": 1124.7,
            "count": 0
           },
           {
            "bin_end": 1124.9,
            "bin_start": 1124.8,
            "count": 0
           },
           {
            "bin_end": 1125,
            "bin_start": 1124.9,
            "count": 0
           },
           {
            "bin_end": 1125.1,
            "bin_start": 1125,
            "count": 2
           },
           {
            "bin_end": 1125.2,
            "bin_start": 1125.1,
            "count": 0
           },
           {
            "bin_end": 1125.3,
            "bin_start": 1125.2,
            "count": 0
           },
           {
            "bin_end": 1125.4,
            "bin_start": 1125.3,
            "count": 0
           },
           {
            "bin_end": 1125.5,
            "bin_start": 1125.4,
            "count": 0
           }
          ],
          "max": "1125.0",
          "min": "1125.0",
          "nan_count": 0,
          "unique_count": 1
         }
        },
        {
         "dtype": "float64",
         "name": "minimum_nights_avg_ntm",
         "stats": {
          "histogram": [
           {
            "bin_end": 2.19,
            "bin_start": 2.1,
            "count": 1
           },
           {
            "bin_end": 2.2800000000000002,
            "bin_start": 2.19,
            "count": 0
           },
           {
            "bin_end": 2.37,
            "bin_start": 2.2800000000000002,
            "count": 0
           },
           {
            "bin_end": 2.46,
            "bin_start": 2.37,
            "count": 0
           },
           {
            "bin_end": 2.55,
            "bin_start": 2.46,
            "count": 0
           },
           {
            "bin_end": 2.64,
            "bin_start": 2.55,
            "count": 0
           },
           {
            "bin_end": 2.73,
            "bin_start": 2.64,
            "count": 0
           },
           {
            "bin_end": 2.8200000000000003,
            "bin_start": 2.73,
            "count": 0
           },
           {
            "bin_end": 2.91,
            "bin_start": 2.8200000000000003,
            "count": 0
           },
           {
            "bin_end": 3,
            "bin_start": 2.91,
            "count": 1
           }
          ],
          "max": "3.0",
          "min": "2.1",
          "nan_count": 0,
          "unique_count": 2
         }
        },
        {
         "dtype": "float64",
         "name": "maximum_nights_avg_ntm",
         "stats": {
          "histogram": [
           {
            "bin_end": 1124.6,
            "bin_start": 1124.5,
            "count": 0
           },
           {
            "bin_end": 1124.7,
            "bin_start": 1124.6,
            "count": 0
           },
           {
            "bin_end": 1124.8,
            "bin_start": 1124.7,
            "count": 0
           },
           {
            "bin_end": 1124.9,
            "bin_start": 1124.8,
            "count": 0
           },
           {
            "bin_end": 1125,
            "bin_start": 1124.9,
            "count": 0
           },
           {
            "bin_end": 1125.1,
            "bin_start": 1125,
            "count": 2
           },
           {
            "bin_end": 1125.2,
            "bin_start": 1125.1,
            "count": 0
           },
           {
            "bin_end": 1125.3,
            "bin_start": 1125.2,
            "count": 0
           },
           {
            "bin_end": 1125.4,
            "bin_start": 1125.3,
            "count": 0
           },
           {
            "bin_end": 1125.5,
            "bin_start": 1125.4,
            "count": 0
           }
          ],
          "max": "1125.0",
          "min": "1125.0",
          "nan_count": 0,
          "unique_count": 1
         }
        },
        {
         "dtype": "int64",
         "name": "has_availability",
         "stats": {
          "histogram": [
           {
            "bin_end": 0.6,
            "bin_start": 0.5,
            "count": 0
           },
           {
            "bin_end": 0.7,
            "bin_start": 0.6,
            "count": 0
           },
           {
            "bin_end": 0.8,
            "bin_start": 0.7,
            "count": 0
           },
           {
            "bin_end": 0.9,
            "bin_start": 0.8,
            "count": 0
           },
           {
            "bin_end": 1,
            "bin_start": 0.9,
            "count": 0
           },
           {
            "bin_end": 1.1,
            "bin_start": 1,
            "count": 2
           },
           {
            "bin_end": 1.2000000000000002,
            "bin_start": 1.1,
            "count": 0
           },
           {
            "bin_end": 1.3,
            "bin_start": 1.2000000000000002,
            "count": 0
           },
           {
            "bin_end": 1.4,
            "bin_start": 1.3,
            "count": 0
           },
           {
            "bin_end": 1.5,
            "bin_start": 1.4,
            "count": 0
           }
          ],
          "max": "1",
          "min": "1",
          "nan_count": 0,
          "unique_count": 1
         }
        },
        {
         "dtype": "int64",
         "name": "availability_30",
         "stats": {
          "histogram": [
           {
            "bin_end": 17.6,
            "bin_start": 17,
            "count": 1
           },
           {
            "bin_end": 18.2,
            "bin_start": 17.6,
            "count": 0
           },
           {
            "bin_end": 18.8,
            "bin_start": 18.2,
            "count": 0
           },
           {
            "bin_end": 19.4,
            "bin_start": 18.8,
            "count": 0
           },
           {
            "bin_end": 20,
            "bin_start": 19.4,
            "count": 0
           },
           {
            "bin_end": 20.6,
            "bin_start": 20,
            "count": 0
           },
           {
            "bin_end": 21.2,
            "bin_start": 20.6,
            "count": 0
           },
           {
            "bin_end": 21.8,
            "bin_start": 21.2,
            "count": 0
           },
           {
            "bin_end": 22.4,
            "bin_start": 21.8,
            "count": 0
           },
           {
            "bin_end": 23,
            "bin_start": 22.4,
            "count": 1
           }
          ],
          "max": "23",
          "min": "17",
          "nan_count": 0,
          "unique_count": 2
         }
        },
        {
         "dtype": "int64",
         "name": "availability_60",
         "stats": {
          "histogram": [
           {
            "bin_end": 36.8,
            "bin_start": 35,
            "count": 1
           },
           {
            "bin_end": 38.6,
            "bin_start": 36.8,
            "count": 0
           },
           {
            "bin_end": 40.4,
            "bin_start": 38.6,
            "count": 0
           },
           {
            "bin_end": 42.2,
            "bin_start": 40.4,
            "count": 0
           },
           {
            "bin_end": 44,
            "bin_start": 42.2,
            "count": 0
           },
           {
            "bin_end": 45.8,
            "bin_start": 44,
            "count": 0
           },
           {
            "bin_end": 47.6,
            "bin_start": 45.8,
            "count": 0
           },
           {
            "bin_end": 49.4,
            "bin_start": 47.6,
            "count": 0
           },
           {
            "bin_end": 51.2,
            "bin_start": 49.4,
            "count": 0
           },
           {
            "bin_end": 53,
            "bin_start": 51.2,
            "count": 1
           }
          ],
          "max": "53",
          "min": "35",
          "nan_count": 0,
          "unique_count": 2
         }
        },
        {
         "dtype": "int64",
         "name": "availability_90",
         "stats": {
          "histogram": [
           {
            "bin_end": 66.8,
            "bin_start": 65,
            "count": 1
           },
           {
            "bin_end": 68.6,
            "bin_start": 66.8,
            "count": 0
           },
           {
            "bin_end": 70.4,
            "bin_start": 68.6,
            "count": 0
           },
           {
            "bin_end": 72.2,
            "bin_start": 70.4,
            "count": 0
           },
           {
            "bin_end": 74,
            "bin_start": 72.2,
            "count": 0
           },
           {
            "bin_end": 75.8,
            "bin_start": 74,
            "count": 0
           },
           {
            "bin_end": 77.6,
            "bin_start": 75.8,
            "count": 0
           },
           {
            "bin_end": 79.4,
            "bin_start": 77.6,
            "count": 0
           },
           {
            "bin_end": 81.2,
            "bin_start": 79.4,
            "count": 0
           },
           {
            "bin_end": 83,
            "bin_start": 81.2,
            "count": 1
           }
          ],
          "max": "83",
          "min": "65",
          "nan_count": 0,
          "unique_count": 2
         }
        },
        {
         "dtype": "int64",
         "name": "availability_365",
         "stats": {
          "histogram": [
           {
            "bin_end": 330.2,
            "bin_start": 329,
            "count": 1
           },
           {
            "bin_end": 331.4,
            "bin_start": 330.2,
            "count": 0
           },
           {
            "bin_end": 332.6,
            "bin_start": 331.4,
            "count": 0
           },
           {
            "bin_end": 333.8,
            "bin_start": 332.6,
            "count": 0
           },
           {
            "bin_end": 335,
            "bin_start": 333.8,
            "count": 0
           },
           {
            "bin_end": 336.2,
            "bin_start": 335,
            "count": 0
           },
           {
            "bin_end": 337.4,
            "bin_start": 336.2,
            "count": 0
           },
           {
            "bin_end": 338.6,
            "bin_start": 337.4,
            "count": 0
           },
           {
            "bin_end": 339.8,
            "bin_start": 338.6,
            "count": 0
           },
           {
            "bin_end": 341,
            "bin_start": 339.8,
            "count": 1
           }
          ],
          "max": "341",
          "min": "329",
          "nan_count": 0,
          "unique_count": 2
         }
        },
        {
         "dtype": "int64",
         "name": "number_of_reviews",
         "stats": {
          "histogram": [
           {
            "bin_end": 18.9,
            "bin_start": 18,
            "count": 1
           },
           {
            "bin_end": 19.8,
            "bin_start": 18.9,
            "count": 0
           },
           {
            "bin_end": 20.7,
            "bin_start": 19.8,
            "count": 0
           },
           {
            "bin_end": 21.6,
            "bin_start": 20.7,
            "count": 0
           },
           {
            "bin_end": 22.5,
            "bin_start": 21.6,
            "count": 0
           },
           {
            "bin_end": 23.4,
            "bin_start": 22.5,
            "count": 0
           },
           {
            "bin_end": 24.3,
            "bin_start": 23.4,
            "count": 0
           },
           {
            "bin_end": 25.2,
            "bin_start": 24.3,
            "count": 0
           },
           {
            "bin_end": 26.1,
            "bin_start": 25.2,
            "count": 0
           },
           {
            "bin_end": 27,
            "bin_start": 26.1,
            "count": 1
           }
          ],
          "max": "27",
          "min": "18",
          "nan_count": 0,
          "unique_count": 2
         }
        },
        {
         "dtype": "int64",
         "name": "number_of_reviews_ltm",
         "stats": {
          "histogram": [
           {
            "bin_end": 9,
            "bin_start": 7,
            "count": 1
           },
           {
            "bin_end": 11,
            "bin_start": 9,
            "count": 0
           },
           {
            "bin_end": 13,
            "bin_start": 11,
            "count": 0
           },
           {
            "bin_end": 15,
            "bin_start": 13,
            "count": 0
           },
           {
            "bin_end": 17,
            "bin_start": 15,
            "count": 0
           },
           {
            "bin_end": 19,
            "bin_start": 17,
            "count": 0
           },
           {
            "bin_end": 21,
            "bin_start": 19,
            "count": 0
           },
           {
            "bin_end": 23,
            "bin_start": 21,
            "count": 0
           },
           {
            "bin_end": 25,
            "bin_start": 23,
            "count": 0
           },
           {
            "bin_end": 27,
            "bin_start": 25,
            "count": 1
           }
          ],
          "max": "27",
          "min": "7",
          "nan_count": 0,
          "unique_count": 2
         }
        },
        {
         "dtype": "int64",
         "name": "number_of_reviews_l30d",
         "stats": {
          "histogram": [
           {
            "bin_end": 1.2,
            "bin_start": 1,
            "count": 1
           },
           {
            "bin_end": 1.4,
            "bin_start": 1.2,
            "count": 0
           },
           {
            "bin_end": 1.6,
            "bin_start": 1.4,
            "count": 0
           },
           {
            "bin_end": 1.8,
            "bin_start": 1.6,
            "count": 0
           },
           {
            "bin_end": 2,
            "bin_start": 1.8,
            "count": 0
           },
           {
            "bin_end": 2.2,
            "bin_start": 2,
            "count": 0
           },
           {
            "bin_end": 2.4000000000000004,
            "bin_start": 2.2,
            "count": 0
           },
           {
            "bin_end": 2.6,
            "bin_start": 2.4000000000000004,
            "count": 0
           },
           {
            "bin_end": 2.8,
            "bin_start": 2.6,
            "count": 0
           },
           {
            "bin_end": 3,
            "bin_start": 2.8,
            "count": 1
           }
          ],
          "max": "3",
          "min": "1",
          "nan_count": 0,
          "unique_count": 2
         }
        },
        {
         "dtype": "datetime64[ns]",
         "name": "first_review",
         "stats": {
          "histogram": [
           {
            "bin_end": 1627361280000000000,
            "bin_start": 1624320000000000000,
            "count": 1
           },
           {
            "bin_end": 1630402560000000000,
            "bin_start": 1627361280000000000,
            "count": 0
           },
           {
            "bin_end": 1633443840000000000,
            "bin_start": 1630402560000000000,
            "count": 0
           },
           {
            "bin_end": 1636485120000000000,
            "bin_start": 1633443840000000000,
            "count": 0
           },
           {
            "bin_end": 1639526400000000000,
            "bin_start": 1636485120000000000,
            "count": 0
           },
           {
            "bin_end": 1642567680000000000,
            "bin_start": 1639526400000000000,
            "count": 0
           },
           {
            "bin_end": 1645608960000000000,
            "bin_start": 1642567680000000000,
            "count": 0
           },
           {
            "bin_end": 1648650240000000000,
            "bin_start": 1645608960000000000,
            "count": 0
           },
           {
            "bin_end": 1651691520000000000,
            "bin_start": 1648650240000000000,
            "count": 0
           },
           {
            "bin_end": 1654732800000000000,
            "bin_start": 1651691520000000000,
            "count": 1
           }
          ],
          "max": "2022-06-09 00:00:00",
          "min": "2021-06-22 00:00:00",
          "nan_count": 0,
          "unique_count": 2
         }
        },
        {
         "dtype": "datetime64[ns]",
         "name": "last_review",
         "stats": {
          "histogram": [
           {
            "bin_end": 1669800960000000000,
            "bin_start": 1669680000000000000,
            "count": 1
           },
           {
            "bin_end": 1669921920000000000,
            "bin_start": 1669800960000000000,
            "count": 0
           },
           {
            "bin_end": 1670042880000000000,
            "bin_start": 1669921920000000000,
            "count": 0
           },
           {
            "bin_end": 1670163840000000000,
            "bin_start": 1670042880000000000,
            "count": 0
           },
           {
            "bin_end": 1670284800000000000,
            "bin_start": 1670163840000000000,
            "count": 0
           },
           {
            "bin_end": 1670405760000000000,
            "bin_start": 1670284800000000000,
            "count": 0
           },
           {
            "bin_end": 1670526720000000000,
            "bin_start": 1670405760000000000,
            "count": 0
           },
           {
            "bin_end": 1670647680000000000,
            "bin_start": 1670526720000000000,
            "count": 0
           },
           {
            "bin_end": 1670768640000000000,
            "bin_start": 1670647680000000000,
            "count": 0
           },
           {
            "bin_end": 1670889600000000000,
            "bin_start": 1670768640000000000,
            "count": 1
           }
          ],
          "max": "2022-12-13 00:00:00",
          "min": "2022-11-29 00:00:00",
          "nan_count": 0,
          "unique_count": 2
         }
        },
        {
         "dtype": "float64",
         "name": "review_scores_rating",
         "stats": {
          "histogram": [
           {
            "bin_end": 4.836,
            "bin_start": 4.83,
            "count": 1
           },
           {
            "bin_end": 4.842,
            "bin_start": 4.836,
            "count": 0
           },
           {
            "bin_end": 4.848,
            "bin_start": 4.842,
            "count": 0
           },
           {
            "bin_end": 4.854,
            "bin_start": 4.848,
            "count": 0
           },
           {
            "bin_end": 4.859999999999999,
            "bin_start": 4.854,
            "count": 0
           },
           {
            "bin_end": 4.866,
            "bin_start": 4.859999999999999,
            "count": 0
           },
           {
            "bin_end": 4.872,
            "bin_start": 4.866,
            "count": 0
           },
           {
            "bin_end": 4.878,
            "bin_start": 4.872,
            "count": 0
           },
           {
            "bin_end": 4.8839999999999995,
            "bin_start": 4.878,
            "count": 0
           },
           {
            "bin_end": 4.89,
            "bin_start": 4.8839999999999995,
            "count": 1
           }
          ],
          "max": "4.89",
          "min": "4.83",
          "nan_count": 0,
          "unique_count": 2
         }
        },
        {
         "dtype": "float64",
         "name": "review_scores_accuracy",
         "stats": {
          "histogram": [
           {
            "bin_end": 4.896999999999999,
            "bin_start": 4.89,
            "count": 1
           },
           {
            "bin_end": 4.904,
            "bin_start": 4.896999999999999,
            "count": 0
           },
           {
            "bin_end": 4.911,
            "bin_start": 4.904,
            "count": 0
           },
           {
            "bin_end": 4.918,
            "bin_start": 4.911,
            "count": 0
           },
           {
            "bin_end": 4.925,
            "bin_start": 4.918,
            "count": 0
           },
           {
            "bin_end": 4.9319999999999995,
            "bin_start": 4.925,
            "count": 0
           },
           {
            "bin_end": 4.939,
            "bin_start": 4.9319999999999995,
            "count": 0
           },
           {
            "bin_end": 4.946,
            "bin_start": 4.939,
            "count": 0
           },
           {
            "bin_end": 4.953,
            "bin_start": 4.946,
            "count": 0
           },
           {
            "bin_end": 4.96,
            "bin_start": 4.953,
            "count": 1
           }
          ],
          "max": "4.96",
          "min": "4.89",
          "nan_count": 0,
          "unique_count": 2
         }
        },
        {
         "dtype": "float64",
         "name": "review_scores_cleanliness",
         "stats": {
          "histogram": [
           {
            "bin_end": 4.895,
            "bin_start": 4.89,
            "count": 1
           },
           {
            "bin_end": 4.8999999999999995,
            "bin_start": 4.895,
            "count": 0
           },
           {
            "bin_end": 4.905,
            "bin_start": 4.8999999999999995,
            "count": 0
           },
           {
            "bin_end": 4.91,
            "bin_start": 4.905,
            "count": 0
           },
           {
            "bin_end": 4.915,
            "bin_start": 4.91,
            "count": 0
           },
           {
            "bin_end": 4.92,
            "bin_start": 4.915,
            "count": 0
           },
           {
            "bin_end": 4.925,
            "bin_start": 4.92,
            "count": 0
           },
           {
            "bin_end": 4.930000000000001,
            "bin_start": 4.925,
            "count": 0
           },
           {
            "bin_end": 4.9350000000000005,
            "bin_start": 4.930000000000001,
            "count": 0
           },
           {
            "bin_end": 4.94,
            "bin_start": 4.9350000000000005,
            "count": 1
           }
          ],
          "max": "4.94",
          "min": "4.89",
          "nan_count": 0,
          "unique_count": 2
         }
        },
        {
         "dtype": "float64",
         "name": "review_scores_checkin",
         "stats": {
          "histogram": [
           {
            "bin_end": 4.894,
            "bin_start": 4.89,
            "count": 1
           },
           {
            "bin_end": 4.898,
            "bin_start": 4.894,
            "count": 0
           },
           {
            "bin_end": 4.901999999999999,
            "bin_start": 4.898,
            "count": 0
           },
           {
            "bin_end": 4.906,
            "bin_start": 4.901999999999999,
            "count": 0
           },
           {
            "bin_end": 4.91,
            "bin_start": 4.906,
            "count": 0
           },
           {
            "bin_end": 4.914,
            "bin_start": 4.91,
            "count": 0
           },
           {
            "bin_end": 4.917999999999999,
            "bin_start": 4.914,
            "count": 0
           },
           {
            "bin_end": 4.922,
            "bin_start": 4.917999999999999,
            "count": 0
           },
           {
            "bin_end": 4.926,
            "bin_start": 4.922,
            "count": 0
           },
           {
            "bin_end": 4.93,
            "bin_start": 4.926,
            "count": 1
           }
          ],
          "max": "4.93",
          "min": "4.89",
          "nan_count": 0,
          "unique_count": 2
         }
        },
        {
         "dtype": "float64",
         "name": "review_scores_communication",
         "stats": {
          "histogram": [
           {
            "bin_end": 4.896999999999999,
            "bin_start": 4.89,
            "count": 1
           },
           {
            "bin_end": 4.904,
            "bin_start": 4.896999999999999,
            "count": 0
           },
           {
            "bin_end": 4.911,
            "bin_start": 4.904,
            "count": 0
           },
           {
            "bin_end": 4.918,
            "bin_start": 4.911,
            "count": 0
           },
           {
            "bin_end": 4.925,
            "bin_start": 4.918,
            "count": 0
           },
           {
            "bin_end": 4.9319999999999995,
            "bin_start": 4.925,
            "count": 0
           },
           {
            "bin_end": 4.939,
            "bin_start": 4.9319999999999995,
            "count": 0
           },
           {
            "bin_end": 4.946,
            "bin_start": 4.939,
            "count": 0
           },
           {
            "bin_end": 4.953,
            "bin_start": 4.946,
            "count": 0
           },
           {
            "bin_end": 4.96,
            "bin_start": 4.953,
            "count": 1
           }
          ],
          "max": "4.96",
          "min": "4.89",
          "nan_count": 0,
          "unique_count": 2
         }
        },
        {
         "dtype": "float64",
         "name": "review_scores_location",
         "stats": {
          "histogram": [
           {
            "bin_end": 4.642,
            "bin_start": 4.61,
            "count": 1
           },
           {
            "bin_end": 4.674,
            "bin_start": 4.642,
            "count": 0
           },
           {
            "bin_end": 4.706,
            "bin_start": 4.674,
            "count": 0
           },
           {
            "bin_end": 4.738,
            "bin_start": 4.706,
            "count": 0
           },
           {
            "bin_end": 4.77,
            "bin_start": 4.738,
            "count": 0
           },
           {
            "bin_end": 4.802,
            "bin_start": 4.77,
            "count": 0
           },
           {
            "bin_end": 4.834,
            "bin_start": 4.802,
            "count": 0
           },
           {
            "bin_end": 4.866,
            "bin_start": 4.834,
            "count": 0
           },
           {
            "bin_end": 4.898,
            "bin_start": 4.866,
            "count": 0
           },
           {
            "bin_end": 4.93,
            "bin_start": 4.898,
            "count": 1
           }
          ],
          "max": "4.93",
          "min": "4.61",
          "nan_count": 0,
          "unique_count": 2
         }
        },
        {
         "dtype": "float64",
         "name": "review_scores_value",
         "stats": {
          "histogram": [
           {
            "bin_end": 4.741,
            "bin_start": 4.72,
            "count": 1
           },
           {
            "bin_end": 4.762,
            "bin_start": 4.741,
            "count": 0
           },
           {
            "bin_end": 4.7829999999999995,
            "bin_start": 4.762,
            "count": 0
           },
           {
            "bin_end": 4.803999999999999,
            "bin_start": 4.7829999999999995,
            "count": 0
           },
           {
            "bin_end": 4.824999999999999,
            "bin_start": 4.803999999999999,
            "count": 0
           },
           {
            "bin_end": 4.846,
            "bin_start": 4.824999999999999,
            "count": 0
           },
           {
            "bin_end": 4.867,
            "bin_start": 4.846,
            "count": 0
           },
           {
            "bin_end": 4.888,
            "bin_start": 4.867,
            "count": 0
           },
           {
            "bin_end": 4.909,
            "bin_start": 4.888,
            "count": 0
           },
           {
            "bin_end": 4.93,
            "bin_start": 4.909,
            "count": 1
           }
          ],
          "max": "4.93",
          "min": "4.72",
          "nan_count": 0,
          "unique_count": 2
         }
        },
        {
         "dtype": "int64",
         "name": "has_license",
         "stats": {
          "histogram": [
           {
            "bin_end": 0.6,
            "bin_start": 0.5,
            "count": 0
           },
           {
            "bin_end": 0.7,
            "bin_start": 0.6,
            "count": 0
           },
           {
            "bin_end": 0.8,
            "bin_start": 0.7,
            "count": 0
           },
           {
            "bin_end": 0.9,
            "bin_start": 0.8,
            "count": 0
           },
           {
            "bin_end": 1,
            "bin_start": 0.9,
            "count": 0
           },
           {
            "bin_end": 1.1,
            "bin_start": 1,
            "count": 2
           },
           {
            "bin_end": 1.2000000000000002,
            "bin_start": 1.1,
            "count": 0
           },
           {
            "bin_end": 1.3,
            "bin_start": 1.2000000000000002,
            "count": 0
           },
           {
            "bin_end": 1.4,
            "bin_start": 1.3,
            "count": 0
           },
           {
            "bin_end": 1.5,
            "bin_start": 1.4,
            "count": 0
           }
          ],
          "max": "1",
          "min": "1",
          "nan_count": 0,
          "unique_count": 1
         }
        },
        {
         "dtype": "int64",
         "name": "instant_bookable",
         "stats": {
          "histogram": [
           {
            "bin_end": 0.1,
            "bin_start": 0,
            "count": 1
           },
           {
            "bin_end": 0.2,
            "bin_start": 0.1,
            "count": 0
           },
           {
            "bin_end": 0.30000000000000004,
            "bin_start": 0.2,
            "count": 0
           },
           {
            "bin_end": 0.4,
            "bin_start": 0.30000000000000004,
            "count": 0
           },
           {
            "bin_end": 0.5,
            "bin_start": 0.4,
            "count": 0
           },
           {
            "bin_end": 0.6000000000000001,
            "bin_start": 0.5,
            "count": 0
           },
           {
            "bin_end": 0.7000000000000001,
            "bin_start": 0.6000000000000001,
            "count": 0
           },
           {
            "bin_end": 0.8,
            "bin_start": 0.7000000000000001,
            "count": 0
           },
           {
            "bin_end": 0.9,
            "bin_start": 0.8,
            "count": 0
           },
           {
            "bin_end": 1,
            "bin_start": 0.9,
            "count": 1
           }
          ],
          "max": "1",
          "min": "0",
          "nan_count": 0,
          "unique_count": 2
         }
        },
        {
         "dtype": "int64",
         "name": "calculated_host_listings_count",
         "stats": {
          "histogram": [
           {
            "bin_end": 1.1,
            "bin_start": 1,
            "count": 1
           },
           {
            "bin_end": 1.2,
            "bin_start": 1.1,
            "count": 0
           },
           {
            "bin_end": 1.3,
            "bin_start": 1.2,
            "count": 0
           },
           {
            "bin_end": 1.4,
            "bin_start": 1.3,
            "count": 0
           },
           {
            "bin_end": 1.5,
            "bin_start": 1.4,
            "count": 0
           },
           {
            "bin_end": 1.6,
            "bin_start": 1.5,
            "count": 0
           },
           {
            "bin_end": 1.7000000000000002,
            "bin_start": 1.6,
            "count": 0
           },
           {
            "bin_end": 1.8,
            "bin_start": 1.7000000000000002,
            "count": 0
           },
           {
            "bin_end": 1.9,
            "bin_start": 1.8,
            "count": 0
           },
           {
            "bin_end": 2,
            "bin_start": 1.9,
            "count": 1
           }
          ],
          "max": "2",
          "min": "1",
          "nan_count": 0,
          "unique_count": 2
         }
        },
        {
         "dtype": "int64",
         "name": "calculated_host_listings_count_entire_homes",
         "stats": {
          "histogram": [
           {
            "bin_end": 1.1,
            "bin_start": 1,
            "count": 1
           },
           {
            "bin_end": 1.2,
            "bin_start": 1.1,
            "count": 0
           },
           {
            "bin_end": 1.3,
            "bin_start": 1.2,
            "count": 0
           },
           {
            "bin_end": 1.4,
            "bin_start": 1.3,
            "count": 0
           },
           {
            "bin_end": 1.5,
            "bin_start": 1.4,
            "count": 0
           },
           {
            "bin_end": 1.6,
            "bin_start": 1.5,
            "count": 0
           },
           {
            "bin_end": 1.7000000000000002,
            "bin_start": 1.6,
            "count": 0
           },
           {
            "bin_end": 1.8,
            "bin_start": 1.7000000000000002,
            "count": 0
           },
           {
            "bin_end": 1.9,
            "bin_start": 1.8,
            "count": 0
           },
           {
            "bin_end": 2,
            "bin_start": 1.9,
            "count": 1
           }
          ],
          "max": "2",
          "min": "1",
          "nan_count": 0,
          "unique_count": 2
         }
        },
        {
         "dtype": "int64",
         "name": "calculated_host_listings_count_private_rooms",
         "stats": {
          "histogram": [
           {
            "bin_end": -0.4,
            "bin_start": -0.5,
            "count": 0
           },
           {
            "bin_end": -0.3,
            "bin_start": -0.4,
            "count": 0
           },
           {
            "bin_end": -0.19999999999999996,
            "bin_start": -0.3,
            "count": 0
           },
           {
            "bin_end": -0.09999999999999998,
            "bin_start": -0.19999999999999996,
            "count": 0
           },
           {
            "bin_end": 0,
            "bin_start": -0.09999999999999998,
            "count": 0
           },
           {
            "bin_end": 0.10000000000000009,
            "bin_start": 0,
            "count": 2
           },
           {
            "bin_end": 0.20000000000000007,
            "bin_start": 0.10000000000000009,
            "count": 0
           },
           {
            "bin_end": 0.30000000000000004,
            "bin_start": 0.20000000000000007,
            "count": 0
           },
           {
            "bin_end": 0.4,
            "bin_start": 0.30000000000000004,
            "count": 0
           },
           {
            "bin_end": 0.5,
            "bin_start": 0.4,
            "count": 0
           }
          ],
          "max": "0",
          "min": "0",
          "nan_count": 0,
          "unique_count": 1
         }
        },
        {
         "dtype": "int64",
         "name": "calculated_host_listings_count_shared_rooms",
         "stats": {
          "histogram": [
           {
            "bin_end": -0.4,
            "bin_start": -0.5,
            "count": 0
           },
           {
            "bin_end": -0.3,
            "bin_start": -0.4,
            "count": 0
           },
           {
            "bin_end": -0.19999999999999996,
            "bin_start": -0.3,
            "count": 0
           },
           {
            "bin_end": -0.09999999999999998,
            "bin_start": -0.19999999999999996,
            "count": 0
           },
           {
            "bin_end": 0,
            "bin_start": -0.09999999999999998,
            "count": 0
           },
           {
            "bin_end": 0.10000000000000009,
            "bin_start": 0,
            "count": 2
           },
           {
            "bin_end": 0.20000000000000007,
            "bin_start": 0.10000000000000009,
            "count": 0
           },
           {
            "bin_end": 0.30000000000000004,
            "bin_start": 0.20000000000000007,
            "count": 0
           },
           {
            "bin_end": 0.4,
            "bin_start": 0.30000000000000004,
            "count": 0
           },
           {
            "bin_end": 0.5,
            "bin_start": 0.4,
            "count": 0
           }
          ],
          "max": "0",
          "min": "0",
          "nan_count": 0,
          "unique_count": 1
         }
        },
        {
         "dtype": "float64",
         "name": "reviews_per_month",
         "stats": {
          "histogram": [
           {
            "bin_end": 1.2890000000000001,
            "bin_start": 0.98,
            "count": 1
           },
           {
            "bin_end": 1.598,
            "bin_start": 1.2890000000000001,
            "count": 0
           },
           {
            "bin_end": 1.907,
            "bin_start": 1.598,
            "count": 0
           },
           {
            "bin_end": 2.216,
            "bin_start": 1.907,
            "count": 0
           },
           {
            "bin_end": 2.5250000000000004,
            "bin_start": 2.216,
            "count": 0
           },
           {
            "bin_end": 2.8340000000000005,
            "bin_start": 2.5250000000000004,
            "count": 0
           },
           {
            "bin_end": 3.1430000000000002,
            "bin_start": 2.8340000000000005,
            "count": 0
           },
           {
            "bin_end": 3.4520000000000004,
            "bin_start": 3.1430000000000002,
            "count": 0
           },
           {
            "bin_end": 3.7610000000000006,
            "bin_start": 3.4520000000000004,
            "count": 0
           },
           {
            "bin_end": 4.07,
            "bin_start": 3.7610000000000006,
            "count": 1
           }
          ],
          "max": "4.07",
          "min": "0.98",
          "nan_count": 0,
          "unique_count": 2
         }
        },
        {
         "dtype": "float64",
         "name": "bathrooms_count",
         "stats": {
          "histogram": [
           {
            "bin_end": 1.6,
            "bin_start": 1.5,
            "count": 0
           },
           {
            "bin_end": 1.7,
            "bin_start": 1.6,
            "count": 0
           },
           {
            "bin_end": 1.8,
            "bin_start": 1.7,
            "count": 0
           },
           {
            "bin_end": 1.9,
            "bin_start": 1.8,
            "count": 0
           },
           {
            "bin_end": 2,
            "bin_start": 1.9,
            "count": 0
           },
           {
            "bin_end": 2.1,
            "bin_start": 2,
            "count": 2
           },
           {
            "bin_end": 2.2,
            "bin_start": 2.1,
            "count": 0
           },
           {
            "bin_end": 2.3,
            "bin_start": 2.2,
            "count": 0
           },
           {
            "bin_end": 2.4,
            "bin_start": 2.3,
            "count": 0
           },
           {
            "bin_end": 2.5,
            "bin_start": 2.4,
            "count": 0
           }
          ],
          "max": "2.0",
          "min": "2.0",
          "nan_count": 0,
          "unique_count": 1
         }
        },
        {
         "dtype": "int64",
         "name": "amenities_count",
         "stats": {
          "histogram": [
           {
            "bin_end": 53.2,
            "bin_start": 53,
            "count": 1
           },
           {
            "bin_end": 53.4,
            "bin_start": 53.2,
            "count": 0
           },
           {
            "bin_end": 53.6,
            "bin_start": 53.4,
            "count": 0
           },
           {
            "bin_end": 53.8,
            "bin_start": 53.6,
            "count": 0
           },
           {
            "bin_end": 54,
            "bin_start": 53.8,
            "count": 0
           },
           {
            "bin_end": 54.2,
            "bin_start": 54,
            "count": 0
           },
           {
            "bin_end": 54.4,
            "bin_start": 54.2,
            "count": 0
           },
           {
            "bin_end": 54.6,
            "bin_start": 54.4,
            "count": 0
           },
           {
            "bin_end": 54.8,
            "bin_start": 54.6,
            "count": 0
           },
           {
            "bin_end": 55,
            "bin_start": 54.8,
            "count": 1
           }
          ],
          "max": "55",
          "min": "53",
          "nan_count": 0,
          "unique_count": 2
         }
        },
        {
         "dtype": "int64",
         "name": "host_response_time_encoded",
         "stats": {
          "histogram": [
           {
            "bin_end": 0.6,
            "bin_start": 0.5,
            "count": 0
           },
           {
            "bin_end": 0.7,
            "bin_start": 0.6,
            "count": 0
           },
           {
            "bin_end": 0.8,
            "bin_start": 0.7,
            "count": 0
           },
           {
            "bin_end": 0.9,
            "bin_start": 0.8,
            "count": 0
           },
           {
            "bin_end": 1,
            "bin_start": 0.9,
            "count": 0
           },
           {
            "bin_end": 1.1,
            "bin_start": 1,
            "count": 2
           },
           {
            "bin_end": 1.2000000000000002,
            "bin_start": 1.1,
            "count": 0
           },
           {
            "bin_end": 1.3,
            "bin_start": 1.2000000000000002,
            "count": 0
           },
           {
            "bin_end": 1.4,
            "bin_start": 1.3,
            "count": 0
           },
           {
            "bin_end": 1.5,
            "bin_start": 1.4,
            "count": 0
           }
          ],
          "max": "1",
          "min": "1",
          "nan_count": 0,
          "unique_count": 1
         }
        },
        {
         "dtype": "int64",
         "name": "host_operate_years",
         "stats": {
          "histogram": [
           {
            "bin_end": 4.6,
            "bin_start": 4,
            "count": 1
           },
           {
            "bin_end": 5.2,
            "bin_start": 4.6,
            "count": 0
           },
           {
            "bin_end": 5.8,
            "bin_start": 5.2,
            "count": 0
           },
           {
            "bin_end": 6.4,
            "bin_start": 5.8,
            "count": 0
           },
           {
            "bin_end": 7,
            "bin_start": 6.4,
            "count": 0
           },
           {
            "bin_end": 7.6,
            "bin_start": 7,
            "count": 0
           },
           {
            "bin_end": 8.2,
            "bin_start": 7.6,
            "count": 0
           },
           {
            "bin_end": 8.8,
            "bin_start": 8.2,
            "count": 0
           },
           {
            "bin_end": 9.399999999999999,
            "bin_start": 8.8,
            "count": 0
           },
           {
            "bin_end": 10,
            "bin_start": 9.399999999999999,
            "count": 1
           }
          ],
          "max": "10",
          "min": "4",
          "nan_count": 0,
          "unique_count": 2
         }
        },
        {
         "dtype": "object",
         "name": "comments",
         "stats": {
          "categories": [
           {
            "count": 1,
            "name": "Unexpectedly the place was like new home since it got recently refreshed. Xiao was very reponsive and easy to communicate with. We really enjoyed this compy home and proximity to downtown Seattle. Thanks Xiao! Excellent home, great communication from start to finish , nice location - surely recommend! We enjoyed our trip thoroughly. All amenities listed were in great working order. The flow of the house was splendid and the outdoor space was amazing. Even with two kids, there was ample room. It was easy taking up the hosts and they gave us all the information very quickly after booking. Great hosts, great house, great location! Xiao's place is a great house for groups to stay in the Seattle area. It is situated just off of the south side of lake Washington with a very nice creek running right through the property. Just a few steps away is a delicious pizza restaurant and a nice forested park for hiking. Traffic is very minimal in the area and creates virtually no noise. There is also access to a freeway that goes north to Seattle and a light rail station, with free parking, only a few miles from the location. This house was clean, spacious, and secure. Check-in instructions were great and host was quick to respond to messages. Would have given a 5 star review but we thought the beds were uncomfortable, we had to buy some kitchen basics in order to prepare meals, and we did not see any ducks during our stay. Beautiful home close to Lake Washington.  My family and I had a wonderful time walking the nearby trail and grabbing a bite at the local pizzeria.  <br/><br/>Xiao was very attentive to the couple of needs we had during our stay.  We would definitely stay here again! Oh where do I start! From the moment you pull up to the home, you'll find a very large driveway with a yard that has a really cool creek! the sound of the water is so relaxing. Entrance to the home was easy as Xiao's communication was very thorough. This is such a beautiful, and cozy home. Very thoughtful touches were added to make our stay as relaxing as possible.  Very spacious indoor AND outdoor area. Everything we needed was here. and the area / town is beautiful as well. THANK YOU FOR A WONDERFUL STAY!!! The property was true to its listing. It can accommodate a larger party, the home was clean and comfortable. A bit farther from the central city, but about 20 min away. Clean, roomy house in South Seattle. We were in town for our daughters wedding in Ranier Beach, and it was great. Nice little walking path just up the road, too. Amazing home & an incredibly communicative and accommodating host! If I were to choose a place to recommend for anyone that will be traveling to Seattle, and wants to experience what the PNW has to offer, Xiao’s Airbnb would be the first that comes to mind. <br/><br/>From the picturesque surroundings, to how clean & well stocked the house is, there’s nothing bad I could say about the home at all. It is also incredibly spacious. The house is also conveniently located to a number of convenient stores, as well as a local bakery called Umami Kushi that serves up excellent beignets and stuffed baked goods.<br/><br/>Xiao was also quick to respond to any questions that I had, and was thorough and concise with her communication. Our check-in was smooth and there wasn’t any hiccups along the way. We enjoyed a perfect stay at this private home in south Seattle. The perfect home base for us visiting friends and family. We appreciated the home's security and bathroom/shower updates. Host communication was excellent. Really an enjoyable stay within an easy drive to everywhere we needed to go. Plus pizza and Kubota garden. We had a great stay in this house. The playground and pizza place nearby were convenient, and the stream running through the front yard was beautiful.  Would absolutely stay there again. We were able to get into this house on short notice after another one fell through. Nice place, true to pictures and clean. Really liked walking up the street to the park and walking up the valley in the snow. Kids were able to sled in the park behind the house. Fun to watch the family get out of the car and look up at the trees, not realizing it was the creek they were hearing and not the wind. this was a wonderful home. very spacious with a clawfoot bathtub and open fully stocked kitchen and private creek. Our team of 4 got thier own room and bed.<br/><br/>the neighbohood is quiet and very family friendly. getting from renton area to downtown is a 14 min drive but there are plenty of shops in the area to visit.<br/><br/>the gate to enter the property isnt automated so if you have a car some one has to get out to manually unlock the gate. Clean and nice decorated house with everything we needed for the trip.   Host responded quickly to an unexpected issue.    Really enjoyed our stay. Very nice. Just what we wanted and asked for. 100/10 on our experience with Xiao. Responds quickly to questions and the whole experience was as painless as she could make it. The home itself was nice & cozy and equipped with the essentials you would need during your stay. It was perfect for our family of 7 and a safe enough space for kids to roam and explore within the house."
           },
           {
            "count": 1,
            "name": "The house is so comfortable and clean. It has everything you need and makes you feel like home. I like the one floor house compared some 3 floor townhouse it’s easy for everything. Ryan is very helpful with all questions and service. Great experience here. Our family had a wonderful stay at Ryan’s place. Check-in was easy; location was great with quick access to highway; house was beautiful and well stocked; great neighborhood with restaurants nearby. The location was great as it was close to downtown and easily accessible by car or bus. It is recently remodeled with new furnishings and very spacious and clean. Ryan was also very responsive to our questions and was a great host. Would definitely recommend! Ryan’s place was wonderful. Roomy, clean, and in a fun neighborhood. Our kids loved walking to Oxbow park (for the giant hat and boots), and we were only a short walk to downtown Georgetown!<br/><br/>I wholeheartedly recommend! Wow! This place is extraordinarily clean and well appointed. Great modern amenities, great neighborhood. The beds were comfortable, the kitchen and bathrooms looked newly remodeled. Would definitely stay here again when in Seattle! Really lovely house and feels like a miracle to find a true three bedroom. Stayed for a week with two co-workers for required work meetings. House is awesomely convenient to I-5, Marginal Way and 99 as well as restaurants and things to do in Georgetown (most are walk-able!). Incredibly clean and larger than expected, there was plenty of room for all of us to spend time together... or apart. Beautiful kitchen and laundry room. Quiet and secure. Look forward to our next stay. Ryan is an attentive and thoughtful host. Thank you! Great spot! Cute place - easy to get to and close to downtown! Nice house is a great location. Would recommend. this is a lovely homey home in a very charming part of town.  with a walking adventure in every direction  😀 We enjoyed staying at Ryan’s house in Georgetown. The house is remodeled and modern mixed with a little bit of rustic charm as described. Lots of room for a family with everyone on one story. Two good bathrooms one with a nice tub. The location is good for getting to the airport or Seward park, downtown on I-5 or getting out to the beach without staying at the beach.  There is some airport noise but that is common in many places in Seattle. Proximity to The Museum of Flight is a bonus, I was able to start the day with my toddler and then send her home for a nap while i continued exploring the planes! I felt secure and happy here for 3 nights with my family. Great location, clean, and charming. Our family was staying at Ryan's place as we attended a wedding in Seattle. This was my parents first time staying at an Airbnb, and they absolutely loved it! Plenty of space to sleep, eat, and hangout. We enjoyed our stay very much. Great stay, freshly renovated and well equipped house! Great location for what we needed and Ryan is VERY responsive. Probably the easiest check-in and check-out procedure I’ve ever had for a bnb unit. And the House was great, too. Ryan’s place is very clean, beautifully updated and nicely appointed with everything you might need. Beds are comfortable & linens are great. We appreciated the big luxurious bath towels!! Plenty of the basics:paper towels,TP, garbage bags, etc which a lot of rentals skimp on. Nice neighborhood, sweet front porch & fabulous fenced outdoor area with table & chairs. We had one small issue with having very few drinking glasses but as soon as Ryan was made aware he dropped off an entire set! <br/>The house is great & Ryan is an excellent host. We recommend this little gem! Nice spot near downtown. Great if you there as a business traveler Our family enjoyed our stay at this location.  Very clean and close walking distance to restaurants and coffee shops. Comfortable beds and cozy outside patio. Easy access to airport and downtown Seattle.  Would look to use again when we return to Seattle in the future. Hello from our Indiana travel tribe.. We enjoyed Ryan’s place so much.  Extremely clean, spacious yet private feeling.  The house was so comfortable, we didn’t want to leave.  Great location between Seattle and The Airport.  The bedrooms were  a great size with comfortable beds and bedding.  We will definitely try to stay next time we visit the area. This is really a gem of a place to stay… hope you all try it out. Beautiful, well appointed home. Charming neighborhood with llvely gardens and an amazing nakery a couple blocks away. Ryan was very quick to respond when we messaged him with some questions, and his response was super helpful. Ill definitely look for an opportunity to go back! A quick-to-respond host and a beautifully renovated and spacious craftsman house with cozy beds made for an excellent stay during our trip down south. The kitchen was equipped with brand new appliances and condiments, and the beds were all comfortable to sleep in. We enjoyed the outdoor space well as the indoor space. We loved the proximity to our targeted tourist sites, and appreciated the quiet neighborhood the house is situated in. The kids found it fun to hear the planes as they came into landing and take off from the nearby airport. We have bookmarked Ryan’s place for future Seattle trips! Lovely house, clean and well taken care of. Good location near freeway, restaurants and bars but in a quiet neighborhood with a cute park nearby. The whole family enjoyed it very much. Master bedroom door sticks slightly, in the way doors in older houses often do. I wouldn’t have noticed if I didn’t have a toddler I was worried about waking. Would recommend! This place was perfect! Clean, bright, with plenty of room for six guests. Super close to Georgetown in a beautiful neighbourhood. Highly recommend! We had a little mishap with our checkin but Ryan was great helping us resolve things and being very accommodating to our needs. The location is walkable to some great restaurants and breweries. We were there for business and had no issues with the wifi. Easy parking too. Ryan had a super cozy and clean home. It was perfect for my parents and grandparents. Very warm, comfortable beds, and a nice kitchen space. Only thing is you hear the planes overhead but still 5/5. Our family loved Ryan’s place.  It had all the amenities that made our stay extremely comfortable.  The location is perfect for sightseeing, eating and walking. We would rent Ryan’s house again.  Thank you for being a responsible and responsive host. My work colleague and I enjoyed our stay. We would be happy to stay there again. Close to job site, easy commute to down town Seattle, walking distance to local Mexican, Thai, Sushi restaurants. Ryan was very helpful - we arrived on an early flight and but we were able to drop our bags at the house before check in and once the cleaner was finished we were able to check in several hours early. The home was clean and comfortable. Would definitely stay here again!"
           }
          ],
          "nan_count": 0,
          "unique_count": 2
         }
        },
        {
         "dtype": "float64",
         "name": "polarity",
         "stats": {
          "histogram": [
           {
            "bin_end": 0.8269930501089324,
            "bin_start": 0.8173647058823529,
            "count": 1
           },
           {
            "bin_end": 0.836621394335512,
            "bin_start": 0.8269930501089324,
            "count": 0
           },
           {
            "bin_end": 0.8462497385620915,
            "bin_start": 0.836621394335512,
            "count": 0
           },
           {
            "bin_end": 0.8558780827886711,
            "bin_start": 0.8462497385620915,
            "count": 0
           },
           {
            "bin_end": 0.8655064270152506,
            "bin_start": 0.8558780827886711,
            "count": 0
           },
           {
            "bin_end": 0.87513477124183,
            "bin_start": 0.8655064270152506,
            "count": 0
           },
           {
            "bin_end": 0.8847631154684096,
            "bin_start": 0.87513477124183,
            "count": 0
           },
           {
            "bin_end": 0.8943914596949891,
            "bin_start": 0.8847631154684096,
            "count": 0
           },
           {
            "bin_end": 0.9040198039215687,
            "bin_start": 0.8943914596949891,
            "count": 0
           },
           {
            "bin_end": 0.9136481481481482,
            "bin_start": 0.9040198039215687,
            "count": 1
           }
          ],
          "max": "0.9136481481481482",
          "min": "0.8173647058823529",
          "nan_count": 0,
          "unique_count": 2
         }
        },
        {
         "dtype": "object",
         "name": "content",
         "stats": {
          "categories": [
           {
            "count": 1,
            "name": "Private Seattle Getaway Home Near Lake Washington! A Seattle vacation destination for those from out of town or a Staycation for those who live close by. We welcome you to this partial lake view gated family friendly home with 4 bedrooms, 2 bathrooms. A beautiful & serene creek flows through the front of the home. There is a fully functioning kitchen with appliances & utensils.  & laundry room. Only a few mins walk to Lakeridge playfield just behind the house! 15 min drive to SeaTac International Airport and 25 min drive to downtown Seattle.<br /><br /><b>The space</b><br />Smart lock for easy check in and Xfinity Home Security Alarm for your protection and peace of mind. There are a few steps leading into the home. There is one security camera at the house facing the front entrance and driveway. The front driveway can fit 6 cars.<br /><br />Bed Arrangements: <br /><br />Lower levels: 2 bedrooms, 1 bathroom<br />Room #1: One Queen bed (sleeps 2)<br />Room #4: One Queen bed (sleeps 2)<br /><br />Upper level: 2 bedrooms, 1 bathroom<br /> Xiao Seattle, WA   within an hour Oakland ['email', 'phone'] Rainier View Rainier Valley SeaTac International Airport: 14 min drive<br /><br />Grocery Stores nearby:<br />- Safeway & Rite Aid: 5 min drive<br />- Walgreens: 6 min drive<br />- Walmart & Fred Meyer: 9 min drive<br />- Uwajimaya: 10 min drive<br /><br />Dining nearby:<br />- Pizzeria Pulcinella: 2 min walk<br />- Stonehouse Cafe: 10 min walk<br />- The Landing (popular outdoor retail & restaurant area): 10 min drive<br /><br />Activities nearby:<br />- Lakeridge Playground: 2 min walk<br />- Downtown Renton: 10 min drive<br />- Southcenter Mall (large shopping mall): 14 min drive<br />- Round 1 (arcade, bowling, pool) inside Southcenter: 14 min drive<br />- iFly (mock sky diving): 15 min drive<br />- Downtown Seattle & Pike Place Market: 25 min drive Entire home Entire home/apt [\"Hot water\", \"Dining table\", \"Toaster\", \"Refrigerator\", \"Bathtub\", \"Dishwasher\", \"Coffee maker: drip coffee maker\", \"Room-darkening shades\", \"Private entrance\", \"Dishes and silverware\", \"Washer\", \"Kitchen\", \"TV\", \"Body soap\", \"Indoor fireplace\", \"Private patio or balcony\", \"Free street parking\", \"Iron\", \"Hair dryer\", \"Microwave\", \"Cooking basics\", \"Oven\", \"Private backyard \\u2013 Fully fenced\", \"Pack \\u2019n play/Travel crib\", \"Keypad\", \"Stove\", \"Smoke alarm\", \"Dryer\", \"Essentials\", \"Wine glasses\", \"Self check-in\", \"Cleaning products\", \"Fire extinguisher\", \"High chair\", \"Heating\", \"Outdoor furniture\", \"Long term stays allowed\", \"Wifi\", \"Air conditioning\", \"Outdoor dining area\", \"BBQ grill\", \"First aid kit\", \"Hangers\", \"Extra pillows and blankets\", \"Shampoo\", \"Security cameras on property\", \"Carbon monoxide alarm\", \"Fire pit\", \"Dedicated workspace\", \"Lake view\", \"Bed linens\", \"Park view\", \"Free parking on premises\"]"
           },
           {
            "count": 1,
            "name": "Classic remodeled in Georgetown Enjoy your Seattle stay in the vibrant & artistic Georgetown neighborhood! Georgetown is truly one of the last artsy, funky neighborhoods left in Seattle - you will be a five minute walk from the many restaurants, bars, wine tasting rooms & more in the \"downtown\" Georgetown neighborhood. It's also kid friendly as you will see many families out and pushing strollers around.<br /><br />The neighborhood is located a few miles south of the downtown Seattle core.<br /><br /><b>The space</b><br />This is the top unit of a completely remodeled craftsman (if bottom unit is available you can rent the whole house and have 6 beds & 4 baths!)<br /><br />This unit has the classic craftsman feel, but it has been completely remodeled with some modern touches!<br /><br /><b>Guest access</b><br />Obviously you have access to the entire unit - there is a lower unit of the house that may be rented too, so you will need to be respectful of other guests. The front yard and side yards are also yours to enjo Ryan Seattle, WA   within an hour Greater Duwamish ['email', 'phone', 'work_email'] Georgetown Other neighborhoods Georgetown is a cool neighborhood about three miles south of Seattle. Formerly an industrial area filled with warehouses, Georgetown has gone from shabby to chic, from industrial to artsy. Today, the neighborhood is a great place to find trendy restaurants, breweries, and art galleries. Entire home Entire home/apt [\"Hot water\", \"Crib - available upon request\", \"Dining table\", \"Toaster\", \"Refrigerator\", \"Bathtub\", \"Dishwasher\", \"Hot water kettle\", \"Room-darkening shades\", \"Private entrance\", \"Dishes and silverware\", \"Conditioner\", \"Kitchen\", \"Body soap\", \"Private patio or balcony\", \"Free street parking\", \"Google Nest sound system\", \"Iron\", \"Hair dryer\", \"Microwave\", \"Cooking basics\", \"Oven\", \"Shared backyard \\u2013 Not fully fenced\", \"Pets allowed\", \"Keypad\", \"Free dryer \\u2013 In unit\", \"Stove\", \"Smoke alarm\", \"Wine glasses\", \"Essentials\", \"Pack \\u2019n play/Travel crib - available upon request\", \"Self check-in\", \"Cleaning products\", \"AC - split type ductless system\", \"Fire extinguisher\", \"Long term stays allowed\", \"Outdoor furniture\", \"Wifi\", \"Coffee\", \"Single level home\", \"Outdoor dining area\", \"Coffee maker: french press\", \"First aid kit\", \"65\\\" HDTV with standard cable\", \"Hangers\", \"Freezer\", \"Free washer \\u2013 In unit\", \"Extra pillows and blankets\", \"Shampoo\", \"Carbon monoxide alarm\", \"Heating - split type ductless system\", \"Dedicated workspace\", \"Bed linens\", \"Free parking on premises\", \"Books and reading material\"]"
           }
          ],
          "nan_count": 0,
          "unique_count": 2
         }
        },
        {
         "dtype": "object",
         "name": "cleaned_content",
         "stats": {
          "categories": [
           {
            "count": 1,
            "name": "private seattle getaway home near lake washington seattle vacation destination town staycation live close welcome partial lake view gated family friendly home 4 bedroom 2 bathroom beautiful serene creek flow front home fully functioning kitchen appliance utensil laundry room min walk lakeridge playfield behind house 15 min drive seatac international airport 25 min drive downtown seattlethe spacesmart lock easy check xfinity home security alarm protection peace mind step leading home one security camera house facing front entrance driveway front driveway fit 6 carsbed arrangement lower level 2 bedroom 1 bathroomroom 1 one queen bed sleep 2room 4 one queen bed sleep 2upper level 2 bedroom 1 bathroom xiao seattle wa hour oakland email phone rainier view rainier valley seatac international airport 14 min drivegrocery store nearby safeway rite aid 5 min drive walgreens 6 min drive walmart fred meyer 9 min drive uwajimaya 10 min drivedining nearby pizzeria pulcinella 2 min walk stonehouse cafe 10 min walk landing popular outdoor retail restaurant area 10 min driveactivities nearby lakeridge playground 2 min walk downtown renton 10 min drive southcenter mall large shopping mall 14 min drive round 1 arcade bowling pool inside southcenter 14 min drive ifly mock sky diving 15 min drive downtown seattle pike place market 25 min drive entire home entire homeapt hot water dining table toaster refrigerator bathtub dishwasher coffee maker drip coffee maker roomdarkening shade private entrance dish silverware washer kitchen tv body soap indoor fireplace private patio balcony free street parking iron hair dryer microwave cooking basic oven private backyard u2013 fully fenced pack u2019n playtravel crib keypad stove smoke alarm dryer essential wine glass self checkin cleaning product fire extinguisher high chair heating outdoor furniture long term stay allowed wifi air conditioning outdoor dining area bbq grill first aid kit hanger extra pillow blanket shampoo security camera property carbon monoxide alarm fire pit dedicated workspace lake view bed linen park view free parking premise"
           },
           {
            "count": 1,
            "name": "classic remodeled georgetown enjoy seattle viant artistic georgetown neighborhood georgetown truly one last artsy funky neighborhood left seattle five minute walk many restaurant bar wine tasting room downtown georgetown neighborhood kid friendly see many family pushing stroller aroundthe neighborhood located mile south downtown seattle corethe spacethis top unit completely remodeled craftsman bottom unit available rent whole house 6 bed 4 bathsthis unit classic craftsman feel completely remodeled modern touchesguest accessobviously access entire unit lower unit house may rented need respectful guest front yard side yard enjo ryan seattle wa hour greater duwamish email phone workemail georgetown neighborhood georgetown cool neighborhood three mile south seattle formerly industrial area filled warehouse georgetown gone shabby chic industrial artsy today neighborhood great place find trendy restaurant eweries art gallery entire home entire homeapt hot water crib available upon request dining table toaster refrigerator bathtub dishwasher hot water kettle roomdarkening shade private entrance dish silverware conditioner kitchen body soap private patio balcony free street parking google nest sound system iron hair dryer microwave cooking basic oven shared backyard u2013 fully fenced pet allowed keypad free dryer u2013 unit stove smoke alarm wine glass essential pack u2019n playtravel crib available upon request self checkin cleaning product ac split type ductless system fire extinguisher long term stay allowed outdoor furniture wifi coffee single level home outdoor dining area coffee maker french press first aid kit 65 hdtv standard cable hanger freezer free washer u2013 unit extra pillow blanket shampoo carbon monoxide alarm heating split type ductless system dedicated workspace bed linen free parking premise book reading material"
           }
          ],
          "nan_count": 0,
          "unique_count": 2
         }
        },
        {
         "dtype": "category",
         "name": "cluster",
         "stats": {
          "categories": [
           {
            "count": 1,
            "name": "0"
           },
           {
            "count": 1,
            "name": "2"
           }
          ],
          "nan_count": 0,
          "unique_count": 2
         }
        },
        {
         "dtype": "float64",
         "name": "similarity",
         "stats": {
          "histogram": [
           {
            "bin_end": 0.8191461058327307,
            "bin_start": 0.7990512287030341,
            "count": 1
           },
           {
            "bin_end": 0.8392409829624272,
            "bin_start": 0.8191461058327307,
            "count": 0
           },
           {
            "bin_end": 0.8593358600921237,
            "bin_start": 0.8392409829624272,
            "count": 0
           },
           {
            "bin_end": 0.8794307372218203,
            "bin_start": 0.8593358600921237,
            "count": 0
           },
           {
            "bin_end": 0.8995256143515169,
            "bin_start": 0.8794307372218203,
            "count": 0
           },
           {
            "bin_end": 0.9196204914812134,
            "bin_start": 0.8995256143515169,
            "count": 0
           },
           {
            "bin_end": 0.9397153686109099,
            "bin_start": 0.9196204914812134,
            "count": 0
           },
           {
            "bin_end": 0.9598102457406065,
            "bin_start": 0.9397153686109099,
            "count": 0
           },
           {
            "bin_end": 0.9799051228703031,
            "bin_start": 0.9598102457406065,
            "count": 0
           },
           {
            "bin_end": 0.9999999999999996,
            "bin_start": 0.9799051228703031,
            "count": 1
           }
          ],
          "max": "0.9999999999999996",
          "min": "0.7990512287030341",
          "nan_count": 0,
          "unique_count": 2
         }
        },
        {
         "dtype": "object",
         "name": "cleaned_comments",
         "stats": {
          "categories": [
           {
            "count": 1,
            "name": "unexpectedly place like new home got recently refreshed xiao reponsive easy communicate really enjoyed compy home proximity downtown seattle thanks xiao excellent home great communication start finish nice location surely recommend enjoyed trip thoroughly amenity listed great working order flow house splendid outdoor space amazing even two kid ample room easy taking host gave information quickly booking great host great house great location xiao place great house group seattle area situated south side lake washington nice creek running right property step away delicious pizza restaurant nice forested park hiking traffic minimal area creates virtually noise access freeway go north seattle light rail station free parking mile location house clean spacious secure check instruction great host quick respond message given 5 star review thought bed uncomfortable buy kitchen basic order prepare meal see duck beautiful home close lake washington family wonderful time walking nearby trail grabbing bite local pizzeria xiao attentive couple need definitely oh start moment pull home find large driveway yard really cool creek sound water relaxing entrance home easy xiao communication thorough beautiful cozy home thoughtful touch added make relaxing possible spacious indoor outdoor area everything needed area town beautiful well thank wonderful property true listing accommodate larger party home clean comfortable bit farther central city 20 min away clean roomy house south seattle town daughter wedding ranier beach great nice little walking path road amazing home incredibly communicative accommodating host choose place recommend anyone traveling seattle want experience pnw offer xiao airbnb first come mind picturesque surroundings clean well stocked house nothing bad could home incredibly spacious house conveniently located number convenient store well local bakery called umami kushi serf excellent beignet stuffed baked good xiao quick respond question thorough concise communication check smooth hiccup along way enjoyed perfect private home south seattle perfect home base visiting friend family appreciated home security bathroom shower update host communication excellent really enjoyable easy drive everywhere needed go plus pizza kubota garden great house playground pizza place nearby convenient stream running front yard beautiful absolutely able get house short notice another one fell nice place true picture clean really liked walking street park walking valley snow kid able sled park behind house fun watch family get car look tree realizing creek hearing wind wonderful home spacious clawfoot bathtub open fully stocked kitchen private creek team 4 got thier room bed neighbohood quiet family friendly getting renton area downtown 14 min drive plenty shop area visit gate enter property isnt automated car one get manually unlock gate clean nice decorated house everything needed trip host responded quickly unexpected issue really enjoyed nice wanted asked 100 10 experience xiao responds quickly question whole experience painless could make home nice cozy equipped essential need perfect family 7 safe enough space kid roam explore house"
           },
           {
            "count": 1,
            "name": "house comfortable clean everything need make feel like home like one floor house compared 3 floor townhouse easy everything ryan helpful question service great experience family wonderful ryan place check easy location great quick access highway house beautiful well stocked great neighborhood restaurant nearby location great close downtown easily accessible car bus recently remodeled new furnishing spacious clean ryan responsive question great host definitely recommend ryan place wonderful roomy clean fun neighborhood kid loved walking oxbow park giant hat boot short walk downtown georgetown wholeheartedly recommend wow place extraordinarily clean well appointed great modern amenity great neighborhood bed comfortable kitchen bathroom looked newly remodeled definitely seattle really lovely house feel like miracle find true three bedroom stayed week two co worker required work meeting house awesomely convenient 5 marginal way 99 well restaurant thing georgetown walk able incredibly clean larger expected plenty room spend time together apart beautiful kitchen laundry room quiet secure look forward next ryan attentive thoughtful host thank great spot cute place easy get close downtown nice house great location recommend lovely homey home charming part town walking adventure every direction enjoyed staying ryan house georgetown house remodeled modern mixed little bit rustic charm described lot room family everyone one story two good bathroom one nice tub location good getting airport seward park downtown 5 getting beach without staying beach airport noise common many place seattle proximity museum flight bonus able start day toddler send home nap continued exploring plane felt secure happy 3 night family great location clean charming family staying ryan place attended wedding seattle parent first time staying airbnb absolutely loved plenty space sleep eat hangout enjoyed much great freshly renovated well equipped house great location needed ryan responsive probably easiest check check procedure ever bnb unit house great ryan place clean beautifully updated nicely appointed everything might need bed comfortable linen great appreciated big luxurious bath towel plenty basic paper towel tp garbage bag etc lot rental skimp nice neighborhood sweet front porch fabulous fenced outdoor area table chair one small issue drinking glass soon ryan made aware dropped entire set house great ryan excellent host recommend little gem nice spot near downtown great business traveler family enjoyed location clean close walking distance restaurant coffee shop comfortable bed cozy outside patio easy access airport downtown seattle look use return seattle future hello indiana travel tribe enjoyed ryan place much extremely clean spacious yet private feeling house comfortable want leave great location seattle airport bedroom great size comfortable bed bedding definitely try next time visit area really gem place hope try beautiful well appointed home charming neighborhood llvely garden amazing nakery couple block away ryan quick respond messaged question response super helpful ill definitely look opportunity go back quick respond host beautifully renovated spacious craftsman house cozy bed made excellent trip south kitchen equipped brand new appliance condiment bed comfortable sleep enjoyed outdoor space well indoor space loved proximity targeted tourist site appreciated quiet neighborhood house situated kid found fun hear plane came landing take nearby airport bookmarked ryan place future seattle trip lovely house clean well taken care good location near freeway restaurant bar quiet neighborhood cute park nearby whole family enjoyed much master bedroom door stick slightly way door older house often noticed toddler worried waking recommend place perfect clean bright plenty room six guest super close georgetown beautiful neighbourhood highly recommend little mishap checkin ryan great helping resolve thing accommodating need location walkable great restaurant brewery business issue wifi easy parking ryan super cozy clean home perfect parent grandparent warm comfortable bed nice kitchen space thing hear plane overhead still 5 5 family loved ryan place amenity made extremely comfortable location perfect sightseeing eating walking rent ryan house thank responsible responsive host work colleague enjoyed happy close job site easy commute town seattle walking distance local mexican thai sushi restaurant ryan helpful arrived early flight able drop bag house check cleaner finished able check several hour early home clean comfortable definitely"
           }
          ],
          "nan_count": 0,
          "unique_count": 2
         }
        },
        {
         "dtype": "object",
         "name": "comments_nouns_adjs",
         "stats": {
          "categories": [
           {
            "count": 1,
            "name": "place new home xiao reponsive easy communicate compy home proximity downtown seattle thanks excellent home great communication start nice location enjoyed trip amenity great working order flow house outdoor space kid ample room easy host information great host great house great location xiao place great house group seattle area south side washington nice creek right property delicious pizza restaurant nice park traffic minimal area noise access north light rail station free mile location house clean spacious secure check instruction great host quick respond message star review bed uncomfortable buy kitchen basic order prepare meal duck beautiful home lake washington family wonderful time nearby trail bite local pizzeria xiao attentive couple oh moment pull home large cool creek sound water entrance home easy xiao communication beautiful cozy home thoughtful touch make possible spacious indoor outdoor area everything area town beautiful thank wonderful property true listing accommodate larger party home clean comfortable bit farther central city min clean roomy house south seattle town daughter ranier beach great nice little path road home communicative host choose place anyone seattle want experience pnw offer xiao airbnb mind picturesque surroundings house nothing bad spacious house number convenient local bakery umami kushi serf excellent beignet stuffed good xiao quick respond question concise communication smooth hiccup way perfect private home south seattle perfect home base family home security bathroom shower update host communication excellent enjoyable easy drive plus pizza kubota garden great house playground pizza place nearby convenient stream front beautiful able get house short notice nice place true picture clean street park valley snow able park house fun family get car look creek hearing wind wonderful home spacious clawfoot bathtub open kitchen private creek team thier room neighbohood quiet family renton area downtown min drive plenty shop area visit gate enter property isnt car get unlock gate clean house everything trip host unexpected issue enjoyed nice experience xiao question whole experience painless home nice cozy essential need family safe space kid roam explore house"
           },
           {
            "count": 1,
            "name": "house comfortable clean everything home floor house floor townhouse easy everything ryan helpful question service great experience family wonderful ryan place check easy location great quick access highway house beautiful stocked great neighborhood restaurant nearby location great close downtown accessible car bus new spacious clean ryan responsive question great host ryan place wonderful roomy clean fun neighborhood kid oxbow park giant short walk georgetown wow place clean great modern amenity great neighborhood comfortable kitchen bathroom seattle house feel miracle true bedroom week co worker work meeting house convenient marginal way restaurant thing georgetown walk able clean larger plenty room spend time beautiful kitchen laundry room quiet secure next ryan attentive thoughtful host thank great spot cute place easy get close downtown nice house great location recommend home part town walking adventure direction ryan house georgetown house modern mixed little bit rustic charm lot room family everyone story good bathroom nice tub location good park downtown beach beach airport noise common many place seattle proximity museum flight bonus able start day send home nap plane secure happy night family great location clean family ryan place wedding seattle parent first time airbnb plenty space sleep eat hangout great house great location ryan responsive easiest check check procedure unit house great ryan place clean everything bed comfortable linen great big luxurious bath towel plenty basic paper towel tp garbage bag etc lot rental skimp nice neighborhood sweet front porch fabulous outdoor area table chair small issue glass aware dropped entire set house great ryan excellent host little gem nice spot downtown great business traveler family location clean distance restaurant coffee shop comfortable bed cozy patio easy access airport downtown seattle look use return seattle future hello indiana travel tribe ryan place much clean spacious private feeling house comfortable great location seattle airport bedroom great size comfortable bed next time visit area gem place try beautiful home neighborhood garden amazing nakery couple block ryan quick respond question response super helpful ill opportunity quick respond host spacious craftsman house cozy bed excellent trip south kitchen brand new appliance condiment comfortable sleep outdoor space indoor space proximity tourist site quiet neighborhood house kid fun hear plane take nearby airport ryan place future seattle trip house clean care good location freeway restaurant bar quiet neighborhood cute park nearby whole family master bedroom door way door older house toddler recommend place perfect clean bright plenty room guest super georgetown beautiful neighbourhood recommend little mishap checkin ryan great thing need location walkable great restaurant brewery business issue wifi easy ryan super cozy clean home perfect parent grandparent warm comfortable bed nice kitchen space thing hear plane overhead family ryan place amenity comfortable location perfect rent ryan house thank responsible responsive host work colleague happy close job site easy commute town seattle distance local mexican thai sushi restaurant ryan helpful early flight able drop bag house check cleaner able several hour early home clean comfortable"
           }
          ],
          "nan_count": 0,
          "unique_count": 2
         }
        },
        {
         "dtype": "int64",
         "name": "_deepnote_index_column"
        }
       ],
       "row_count": 2,
       "rows": [
        {
         "_deepnote_index_column": "0",
         "accommodates": "8",
         "amenities": "[\"Hot water\", \"Dining table\", \"Toaster\", \"Refrigerator\", \"Bathtub\", \"Dishwasher\", \"Coffee maker: drip coffee maker\", \"Room-darkening shades\", \"Private entrance\", \"Dishes and silverware\", \"Washer\", \"Kitchen\", \"TV\", \"Body soap\", \"Indoor fireplace\", \"Private patio or balcony\", \"Free street parking\", \"Iron\", \"Hair dryer\", \"Microwave\", \"Cooking basics\", \"Oven\", \"Private backyard \\u2013 Fully fenced\", \"Pack \\u2019n play/Travel crib\", \"Keypad\", \"Stove\", \"Smoke alarm\", \"Dryer\", \"Essentials\", \"Wine glasses\", \"Self check-in\", \"Cleaning products\", \"Fire extinguisher\", \"High chair\", \"Heating\", \"Outdoor furniture\", \"Long term stays allowed\", \"Wifi\", \"Air conditioning\", \"Outdoor dining area\", \"BBQ grill\", \"First aid kit\", \"Hangers\", \"Extra pillows and blankets\", \"Shampoo\", \"Security cameras on property\", \"Carbon monoxide alarm\", \"Fire pit\", \"Dedicated workspace\", \"Lake view\", \"Bed linens\", \"Park view\", \"Free parking on premises\"]",
         "amenities_count": "53",
         "availability_30": "23",
         "availability_365": "341",
         "availability_60": "53",
         "availability_90": "83",
         "bathrooms_count": "2.0",
         "bedrooms": "4.0",
         "beds": "4.0",
         "calculated_host_listings_count": "1",
         "calculated_host_listings_count_entire_homes": "1",
         "calculated_host_listings_count_private_rooms": "0",
         "calculated_host_listings_count_shared_rooms": "0",
         "cleaned_comments": "unexpectedly place like new home got recently refreshed xiao reponsive easy communicate really enjoyed compy home proximity downtown seattle thanks xiao excellent home great communication start finish nice location surely recommend enjoyed trip thoroughly amenity listed great working order flow house splendid outdoor space amazing even two kid ample room easy taking host gave information quickly booking great host great house great location xiao place great house group seattle area situated south side lake washington nice creek running right property step away delicious pizza restaurant nice forested park hiking traffic minimal area creates virtually noise access freeway go north seattle light rail station free parking mile location house clean spacious secure check instruction great host quick respond message given 5 star review thought bed uncomfortable buy kitchen basic order prepare meal see duck beautiful home close lake washington family wonderful time walking nearby trail grabb…",
         "cleaned_content": "private seattle getaway home near lake washington seattle vacation destination town staycation live close welcome partial lake view gated family friendly home 4 bedroom 2 bathroom beautiful serene creek flow front home fully functioning kitchen appliance utensil laundry room min walk lakeridge playfield behind house 15 min drive seatac international airport 25 min drive downtown seattlethe spacesmart lock easy check xfinity home security alarm protection peace mind step leading home one security camera house facing front entrance driveway front driveway fit 6 carsbed arrangement lower level 2 bedroom 1 bathroomroom 1 one queen bed sleep 2room 4 one queen bed sleep 2upper level 2 bedroom 1 bathroom xiao seattle wa hour oakland email phone rainier view rainier valley seatac international airport 14 min drivegrocery store nearby safeway rite aid 5 min drive walgreens 6 min drive walmart fred meyer 9 min drive uwajimaya 10 min drivedining nearby pizzeria pulcinella 2 min walk stonehouse c…",
         "cluster": "0",
         "comments": "Unexpectedly the place was like new home since it got recently refreshed. Xiao was very reponsive and easy to communicate with. We really enjoyed this compy home and proximity to downtown Seattle. Thanks Xiao! Excellent home, great communication from start to finish , nice location - surely recommend! We enjoyed our trip thoroughly. All amenities listed were in great working order. The flow of the house was splendid and the outdoor space was amazing. Even with two kids, there was ample room. It was easy taking up the hosts and they gave us all the information very quickly after booking. Great hosts, great house, great location! Xiao's place is a great house for groups to stay in the Seattle area. It is situated just off of the south side of lake Washington with a very nice creek running right through the property. Just a few steps away is a delicious pizza restaurant and a nice forested park for hiking. Traffic is very minimal in the area and creates virtually no noise. There is also …",
         "comments_nouns_adjs": "place new home xiao reponsive easy communicate compy home proximity downtown seattle thanks excellent home great communication start nice location enjoyed trip amenity great working order flow house outdoor space kid ample room easy host information great host great house great location xiao place great house group seattle area south side washington nice creek right property delicious pizza restaurant nice park traffic minimal area noise access north light rail station free mile location house clean spacious secure check instruction great host quick respond message star review bed uncomfortable buy kitchen basic order prepare meal duck beautiful home lake washington family wonderful time nearby trail bite local pizzeria xiao attentive couple oh moment pull home large cool creek sound water entrance home easy xiao communication beautiful cozy home thoughtful touch make possible spacious indoor outdoor area everything area town beautiful thank wonderful property true listing accommodate…",
         "content": "Private Seattle Getaway Home Near Lake Washington! A Seattle vacation destination for those from out of town or a Staycation for those who live close by. We welcome you to this partial lake view gated family friendly home with 4 bedrooms, 2 bathrooms. A beautiful & serene creek flows through the front of the home. There is a fully functioning kitchen with appliances & utensils.  & laundry room. Only a few mins walk to Lakeridge playfield just behind the house! 15 min drive to SeaTac International Airport and 25 min drive to downtown Seattle.<br /><br /><b>The space</b><br />Smart lock for easy check in and Xfinity Home Security Alarm for your protection and peace of mind. There are a few steps leading into the home. There is one security camera at the house facing the front entrance and driveway. The front driveway can fit 6 cars.<br /><br />Bed Arrangements: <br /><br />Lower levels: 2 bedrooms, 1 bathroom<br />Room #1: One Queen bed (sleeps 2)<br />Room #4: One Queen bed (sleeps 2)<…",
         "description": "A Seattle vacation destination for those from out of town or a Staycation for those who live close by. We welcome you to this partial lake view gated family friendly home with 4 bedrooms, 2 bathrooms. A beautiful & serene creek flows through the front of the home. There is a fully functioning kitchen with appliances & utensils.  & laundry room. Only a few mins walk to Lakeridge playfield just behind the house! 15 min drive to SeaTac International Airport and 25 min drive to downtown Seattle.<br /><br /><b>The space</b><br />Smart lock for easy check in and Xfinity Home Security Alarm for your protection and peace of mind. There are a few steps leading into the home. There is one security camera at the house facing the front entrance and driveway. The front driveway can fit 6 cars.<br /><br />Bed Arrangements: <br /><br />Lower levels: 2 bedrooms, 1 bathroom<br />Room #1: One Queen bed (sleeps 2)<br />Room #4: One Queen bed (sleeps 2)<br /><br />Upper level: 2 bedrooms, 1 bathroom<br />",
         "first_review": "2021-06-22 00:00:00",
         "has_availability": "1",
         "has_license": "1",
         "host_about": " ",
         "host_acceptance_rate": "1.0",
         "host_has_profile_pic": "1",
         "host_id": "188538325",
         "host_identity_verified": "1",
         "host_is_superhost": "1",
         "host_listings_count": "4",
         "host_location": "Seattle, WA",
         "host_name": "Xiao",
         "host_neighbourhood": "Oakland",
         "host_operate_years": "4",
         "host_picture_url": "https://a0.muscache.com/im/pictures/user/32fd3116-b515-46d9-8048-d5773e1bac5a.jpg?aki_policy=profile_x_medium",
         "host_response_rate": "1.0",
         "host_response_time": "within an hour",
         "host_response_time_encoded": "1",
         "host_since": "2018-05-08 00:00:00",
         "host_total_listings_count": "4",
         "host_url": "https://www.airbnb.com/users/show/188538325",
         "host_verifications": "['email', 'phone']",
         "instant_bookable": "0",
         "last_review": "2022-11-29 00:00:00",
         "last_scraped": "2022-12-24 00:00:00",
         "latitude": "47.51028",
         "listing_id": "49113826",
         "listing_name": "Private Seattle Getaway Home Near Lake Washington!",
         "listing_url": "https://www.airbnb.com/rooms/49113826",
         "longitude": "-122.24668",
         "maximum_maximum_nights": "1125.0",
         "maximum_minimum_nights": "3.0",
         "maximum_nights": "30",
         "maximum_nights_avg_ntm": "1125.0",
         "minimum_maximum_nights": "1125.0",
         "minimum_minimum_nights": "3.0",
         "minimum_nights": "3",
         "minimum_nights_avg_ntm": "3.0",
         "neighborhood_overview": "SeaTac International Airport: 14 min drive<br /><br />Grocery Stores nearby:<br />- Safeway & Rite Aid: 5 min drive<br />- Walgreens: 6 min drive<br />- Walmart & Fred Meyer: 9 min drive<br />- Uwajimaya: 10 min drive<br /><br />Dining nearby:<br />- Pizzeria Pulcinella: 2 min walk<br />- Stonehouse Cafe: 10 min walk<br />- The Landing (popular outdoor retail & restaurant area): 10 min drive<br /><br />Activities nearby:<br />- Lakeridge Playground: 2 min walk<br />- Downtown Renton: 10 min drive<br />- Southcenter Mall (large shopping mall): 14 min drive<br />- Round 1 (arcade, bowling, pool) inside Southcenter: 14 min drive<br />- iFly (mock sky diving): 15 min drive<br />- Downtown Seattle & Pike Place Market: 25 min drive",
         "neighbourhood_cleansed": "Rainier View",
         "neighbourhood_group_cleansed": "Rainier Valley",
         "number_of_reviews": "18",
         "number_of_reviews_l30d": "1",
         "number_of_reviews_ltm": "7",
         "picture_url": "https://a0.muscache.com/pictures/miso/Hosting-49113826/original/29c08a31-b625-4e8f-bbc6-93e7994fef05.jpeg",
         "polarity": "0.8173647058823529",
         "price": "280.0",
         "property_type": "Entire home",
         "review_scores_accuracy": "4.89",
         "review_scores_checkin": "4.89",
         "review_scores_cleanliness": "4.94",
         "review_scores_communication": "4.89",
         "review_scores_location": "4.61",
         "review_scores_rating": "4.83",
         "review_scores_value": "4.72",
         "reviews_per_month": "0.98",
         "room_type": "Entire home/apt",
         "similarity": "0.9999999999999996"
        },
        {
         "_deepnote_index_column": "1",
         "accommodates": "6",
         "amenities": "[\"Hot water\", \"Crib - available upon request\", \"Dining table\", \"Toaster\", \"Refrigerator\", \"Bathtub\", \"Dishwasher\", \"Hot water kettle\", \"Room-darkening shades\", \"Private entrance\", \"Dishes and silverware\", \"Conditioner\", \"Kitchen\", \"Body soap\", \"Private patio or balcony\", \"Free street parking\", \"Google Nest sound system\", \"Iron\", \"Hair dryer\", \"Microwave\", \"Cooking basics\", \"Oven\", \"Shared backyard \\u2013 Not fully fenced\", \"Pets allowed\", \"Keypad\", \"Free dryer \\u2013 In unit\", \"Stove\", \"Smoke alarm\", \"Wine glasses\", \"Essentials\", \"Pack \\u2019n play/Travel crib - available upon request\", \"Self check-in\", \"Cleaning products\", \"AC - split type ductless system\", \"Fire extinguisher\", \"Long term stays allowed\", \"Outdoor furniture\", \"Wifi\", \"Coffee\", \"Single level home\", \"Outdoor dining area\", \"Coffee maker: french press\", \"First aid kit\", \"65\\\" HDTV with standard cable\", \"Hangers\", \"Freezer\", \"Free washer \\u2013 In unit\", \"Extra pillows and blankets\", \"Shampoo\", \"Carbon monoxide alarm\", \"He…",
         "amenities_count": "55",
         "availability_30": "17",
         "availability_365": "329",
         "availability_60": "35",
         "availability_90": "65",
         "bathrooms_count": "2.0",
         "bedrooms": "3.0",
         "beds": "3.0",
         "calculated_host_listings_count": "2",
         "calculated_host_listings_count_entire_homes": "2",
         "calculated_host_listings_count_private_rooms": "0",
         "calculated_host_listings_count_shared_rooms": "0",
         "cleaned_comments": "house comfortable clean everything need make feel like home like one floor house compared 3 floor townhouse easy everything ryan helpful question service great experience family wonderful ryan place check easy location great quick access highway house beautiful well stocked great neighborhood restaurant nearby location great close downtown easily accessible car bus recently remodeled new furnishing spacious clean ryan responsive question great host definitely recommend ryan place wonderful roomy clean fun neighborhood kid loved walking oxbow park giant hat boot short walk downtown georgetown wholeheartedly recommend wow place extraordinarily clean well appointed great modern amenity great neighborhood bed comfortable kitchen bathroom looked newly remodeled definitely seattle really lovely house feel like miracle find true three bedroom stayed week two co worker required work meeting house awesomely convenient 5 marginal way 99 well restaurant thing georgetown walk able incredibly clea…",
         "cleaned_content": "classic remodeled georgetown enjoy seattle viant artistic georgetown neighborhood georgetown truly one last artsy funky neighborhood left seattle five minute walk many restaurant bar wine tasting room downtown georgetown neighborhood kid friendly see many family pushing stroller aroundthe neighborhood located mile south downtown seattle corethe spacethis top unit completely remodeled craftsman bottom unit available rent whole house 6 bed 4 bathsthis unit classic craftsman feel completely remodeled modern touchesguest accessobviously access entire unit lower unit house may rented need respectful guest front yard side yard enjo ryan seattle wa hour greater duwamish email phone workemail georgetown neighborhood georgetown cool neighborhood three mile south seattle formerly industrial area filled warehouse georgetown gone shabby chic industrial artsy today neighborhood great place find trendy restaurant eweries art gallery entire home entire homeapt hot water crib available upon request d…",
         "cluster": "2",
         "comments": "The house is so comfortable and clean. It has everything you need and makes you feel like home. I like the one floor house compared some 3 floor townhouse it’s easy for everything. Ryan is very helpful with all questions and service. Great experience here. Our family had a wonderful stay at Ryan’s place. Check-in was easy; location was great with quick access to highway; house was beautiful and well stocked; great neighborhood with restaurants nearby. The location was great as it was close to downtown and easily accessible by car or bus. It is recently remodeled with new furnishings and very spacious and clean. Ryan was also very responsive to our questions and was a great host. Would definitely recommend! Ryan’s place was wonderful. Roomy, clean, and in a fun neighborhood. Our kids loved walking to Oxbow park (for the giant hat and boots), and we were only a short walk to downtown Georgetown!<br/><br/>I wholeheartedly recommend! Wow! This place is extraordinarily clean and well appoi…",
         "comments_nouns_adjs": "house comfortable clean everything home floor house floor townhouse easy everything ryan helpful question service great experience family wonderful ryan place check easy location great quick access highway house beautiful stocked great neighborhood restaurant nearby location great close downtown accessible car bus new spacious clean ryan responsive question great host ryan place wonderful roomy clean fun neighborhood kid oxbow park giant short walk georgetown wow place clean great modern amenity great neighborhood comfortable kitchen bathroom seattle house feel miracle true bedroom week co worker work meeting house convenient marginal way restaurant thing georgetown walk able clean larger plenty room spend time beautiful kitchen laundry room quiet secure next ryan attentive thoughtful host thank great spot cute place easy get close downtown nice house great location recommend home part town walking adventure direction ryan house georgetown house modern mixed little bit rustic charm lo…",
         "content": "Classic remodeled in Georgetown Enjoy your Seattle stay in the vibrant & artistic Georgetown neighborhood! Georgetown is truly one of the last artsy, funky neighborhoods left in Seattle - you will be a five minute walk from the many restaurants, bars, wine tasting rooms & more in the \"downtown\" Georgetown neighborhood. It's also kid friendly as you will see many families out and pushing strollers around.<br /><br />The neighborhood is located a few miles south of the downtown Seattle core.<br /><br /><b>The space</b><br />This is the top unit of a completely remodeled craftsman (if bottom unit is available you can rent the whole house and have 6 beds & 4 baths!)<br /><br />This unit has the classic craftsman feel, but it has been completely remodeled with some modern touches!<br /><br /><b>Guest access</b><br />Obviously you have access to the entire unit - there is a lower unit of the house that may be rented too, so you will need to be respectful of other guests. The front yard and …",
         "description": "Enjoy your Seattle stay in the vibrant & artistic Georgetown neighborhood! Georgetown is truly one of the last artsy, funky neighborhoods left in Seattle - you will be a five minute walk from the many restaurants, bars, wine tasting rooms & more in the \"downtown\" Georgetown neighborhood. It's also kid friendly as you will see many families out and pushing strollers around.<br /><br />The neighborhood is located a few miles south of the downtown Seattle core.<br /><br /><b>The space</b><br />This is the top unit of a completely remodeled craftsman (if bottom unit is available you can rent the whole house and have 6 beds & 4 baths!)<br /><br />This unit has the classic craftsman feel, but it has been completely remodeled with some modern touches!<br /><br /><b>Guest access</b><br />Obviously you have access to the entire unit - there is a lower unit of the house that may be rented too, so you will need to be respectful of other guests. The front yard and side yards are also yours to enjo",
         "first_review": "2022-06-09 00:00:00",
         "has_availability": "1",
         "has_license": "1",
         "host_about": " ",
         "host_acceptance_rate": "1.0",
         "host_has_profile_pic": "1",
         "host_id": "2144954",
         "host_identity_verified": "0",
         "host_is_superhost": "0",
         "host_listings_count": "2",
         "host_location": "Seattle, WA",
         "host_name": "Ryan",
         "host_neighbourhood": "Greater Duwamish",
         "host_operate_years": "10",
         "host_picture_url": "https://a0.muscache.com/im/pictures/user/a671129c-f502-4968-85ef-7ef088d81ab3.jpg?aki_policy=profile_x_medium",
         "host_response_rate": "1.0",
         "host_response_time": "within an hour",
         "host_response_time_encoded": "1",
         "host_since": "2012-04-15 00:00:00",
         "host_total_listings_count": "2",
         "host_url": "https://www.airbnb.com/users/show/2144954",
         "host_verifications": "['email', 'phone', 'work_email']",
         "instant_bookable": "1",
         "last_review": "2022-12-13 00:00:00",
         "last_scraped": "2022-12-24 00:00:00",
         "latitude": "47.544739",
         "listing_id": "7455832",
         "listing_name": "Classic remodeled in Georgetown",
         "listing_url": "https://www.airbnb.com/rooms/7455832",
         "longitude": "-122.319786",
         "maximum_maximum_nights": "1125.0",
         "maximum_minimum_nights": "3.0",
         "maximum_nights": "150",
         "maximum_nights_avg_ntm": "1125.0",
         "minimum_maximum_nights": "1125.0",
         "minimum_minimum_nights": "2.0",
         "minimum_nights": "1",
         "minimum_nights_avg_ntm": "2.1",
         "neighborhood_overview": "Georgetown is a cool neighborhood about three miles south of Seattle. Formerly an industrial area filled with warehouses, Georgetown has gone from shabby to chic, from industrial to artsy. Today, the neighborhood is a great place to find trendy restaurants, breweries, and art galleries.",
         "neighbourhood_cleansed": "Georgetown",
         "neighbourhood_group_cleansed": "Other neighborhoods",
         "number_of_reviews": "27",
         "number_of_reviews_l30d": "3",
         "number_of_reviews_ltm": "27",
         "picture_url": "https://a0.muscache.com/pictures/miso/Hosting-7455832/original/87dcaee3-d543-440c-8cf0-19ac171d7200.jpeg",
         "polarity": "0.9136481481481482",
         "price": "156.0",
         "property_type": "Entire home",
         "review_scores_accuracy": "4.96",
         "review_scores_checkin": "4.93",
         "review_scores_cleanliness": "4.89",
         "review_scores_communication": "4.96",
         "review_scores_location": "4.93",
         "review_scores_rating": "4.89",
         "review_scores_value": "4.93",
         "reviews_per_month": "4.07",
         "room_type": "Entire home/apt",
         "similarity": "0.7990512287030341"
        }
       ]
      },
      "text/html": [
       "<div>\n",
       "<style scoped>\n",
       "    .dataframe tbody tr th:only-of-type {\n",
       "        vertical-align: middle;\n",
       "    }\n",
       "\n",
       "    .dataframe tbody tr th {\n",
       "        vertical-align: top;\n",
       "    }\n",
       "\n",
       "    .dataframe thead th {\n",
       "        text-align: right;\n",
       "    }\n",
       "</style>\n",
       "<table border=\"1\" class=\"dataframe\">\n",
       "  <thead>\n",
       "    <tr style=\"text-align: right;\">\n",
       "      <th></th>\n",
       "      <th>listing_id</th>\n",
       "      <th>listing_url</th>\n",
       "      <th>last_scraped</th>\n",
       "      <th>listing_name</th>\n",
       "      <th>description</th>\n",
       "      <th>neighborhood_overview</th>\n",
       "      <th>picture_url</th>\n",
       "      <th>host_id</th>\n",
       "      <th>host_url</th>\n",
       "      <th>host_name</th>\n",
       "      <th>...</th>\n",
       "      <th>host_response_time_encoded</th>\n",
       "      <th>host_operate_years</th>\n",
       "      <th>comments</th>\n",
       "      <th>polarity</th>\n",
       "      <th>content</th>\n",
       "      <th>cleaned_content</th>\n",
       "      <th>cluster</th>\n",
       "      <th>similarity</th>\n",
       "      <th>cleaned_comments</th>\n",
       "      <th>comments_nouns_adjs</th>\n",
       "    </tr>\n",
       "  </thead>\n",
       "  <tbody>\n",
       "    <tr>\n",
       "      <th>0</th>\n",
       "      <td>49113826</td>\n",
       "      <td>https://www.airbnb.com/rooms/49113826</td>\n",
       "      <td>2022-12-24</td>\n",
       "      <td>Private Seattle Getaway Home Near Lake Washing...</td>\n",
       "      <td>A Seattle vacation destination for those from ...</td>\n",
       "      <td>SeaTac International Airport: 14 min drive&lt;br ...</td>\n",
       "      <td>https://a0.muscache.com/pictures/miso/Hosting-...</td>\n",
       "      <td>188538325</td>\n",
       "      <td>https://www.airbnb.com/users/show/188538325</td>\n",
       "      <td>Xiao</td>\n",
       "      <td>...</td>\n",
       "      <td>1</td>\n",
       "      <td>4</td>\n",
       "      <td>Unexpectedly the place was like new home since...</td>\n",
       "      <td>0.817365</td>\n",
       "      <td>Private Seattle Getaway Home Near Lake Washing...</td>\n",
       "      <td>private seattle getaway home near lake washing...</td>\n",
       "      <td>0</td>\n",
       "      <td>1.000000</td>\n",
       "      <td>unexpectedly place like new home got recently ...</td>\n",
       "      <td>place new home xiao reponsive easy communicate...</td>\n",
       "    </tr>\n",
       "    <tr>\n",
       "      <th>1</th>\n",
       "      <td>7455832</td>\n",
       "      <td>https://www.airbnb.com/rooms/7455832</td>\n",
       "      <td>2022-12-24</td>\n",
       "      <td>Classic remodeled in Georgetown</td>\n",
       "      <td>Enjoy your Seattle stay in the vibrant &amp; artis...</td>\n",
       "      <td>Georgetown is a cool neighborhood about three ...</td>\n",
       "      <td>https://a0.muscache.com/pictures/miso/Hosting-...</td>\n",
       "      <td>2144954</td>\n",
       "      <td>https://www.airbnb.com/users/show/2144954</td>\n",
       "      <td>Ryan</td>\n",
       "      <td>...</td>\n",
       "      <td>1</td>\n",
       "      <td>10</td>\n",
       "      <td>The house is so comfortable and clean. It has ...</td>\n",
       "      <td>0.913648</td>\n",
       "      <td>Classic remodeled in Georgetown Enjoy your Sea...</td>\n",
       "      <td>classic remodeled georgetown enjoy seattle via...</td>\n",
       "      <td>2</td>\n",
       "      <td>0.799051</td>\n",
       "      <td>house comfortable clean everything need make f...</td>\n",
       "      <td>house comfortable clean everything home floor ...</td>\n",
       "    </tr>\n",
       "  </tbody>\n",
       "</table>\n",
       "<p>2 rows × 79 columns</p>\n",
       "</div>"
      ],
      "text/plain": [
       "   listing_id                            listing_url last_scraped   \n",
       "0    49113826  https://www.airbnb.com/rooms/49113826   2022-12-24  \\\n",
       "1     7455832   https://www.airbnb.com/rooms/7455832   2022-12-24   \n",
       "\n",
       "                                        listing_name   \n",
       "0  Private Seattle Getaway Home Near Lake Washing...  \\\n",
       "1                    Classic remodeled in Georgetown   \n",
       "\n",
       "                                         description   \n",
       "0  A Seattle vacation destination for those from ...  \\\n",
       "1  Enjoy your Seattle stay in the vibrant & artis...   \n",
       "\n",
       "                               neighborhood_overview   \n",
       "0  SeaTac International Airport: 14 min drive<br ...  \\\n",
       "1  Georgetown is a cool neighborhood about three ...   \n",
       "\n",
       "                                         picture_url    host_id   \n",
       "0  https://a0.muscache.com/pictures/miso/Hosting-...  188538325  \\\n",
       "1  https://a0.muscache.com/pictures/miso/Hosting-...    2144954   \n",
       "\n",
       "                                      host_url host_name  ...   \n",
       "0  https://www.airbnb.com/users/show/188538325      Xiao  ...  \\\n",
       "1    https://www.airbnb.com/users/show/2144954      Ryan  ...   \n",
       "\n",
       "  host_response_time_encoded host_operate_years   \n",
       "0                          1                  4  \\\n",
       "1                          1                 10   \n",
       "\n",
       "                                            comments  polarity   \n",
       "0  Unexpectedly the place was like new home since...  0.817365  \\\n",
       "1  The house is so comfortable and clean. It has ...  0.913648   \n",
       "\n",
       "                                             content   \n",
       "0  Private Seattle Getaway Home Near Lake Washing...  \\\n",
       "1  Classic remodeled in Georgetown Enjoy your Sea...   \n",
       "\n",
       "                                     cleaned_content  cluster similarity   \n",
       "0  private seattle getaway home near lake washing...        0   1.000000  \\\n",
       "1  classic remodeled georgetown enjoy seattle via...        2   0.799051   \n",
       "\n",
       "                                    cleaned_comments   \n",
       "0  unexpectedly place like new home got recently ...  \\\n",
       "1  house comfortable clean everything need make f...   \n",
       "\n",
       "                                 comments_nouns_adjs  \n",
       "0  place new home xiao reponsive easy communicate...  \n",
       "1  house comfortable clean everything home floor ...  \n",
       "\n",
       "[2 rows x 79 columns]"
      ]
     },
     "execution_count": 14,
     "metadata": {},
     "output_type": "execute_result"
    }
   ],
   "source": [
    "df.head(2)"
   ]
  },
  {
   "cell_type": "code",
   "execution_count": null,
   "metadata": {
    "cell_id": "d6bfd7d9eb0044b494bce1d4bbe89f82",
    "deepnote_cell_type": "code",
    "deepnote_to_be_reexecuted": false,
    "execution_millis": 1,
    "execution_start": 1681846564302,
    "source_hash": "25d43fa0"
   },
   "outputs": [
    {
     "data": {
      "text/plain": [
       "Index(['listing_id', 'listing_url', 'last_scraped', 'listing_name',\n",
       "       'description', 'neighborhood_overview', 'picture_url', 'host_id',\n",
       "       'host_url', 'host_name', 'host_since', 'host_location', 'host_about',\n",
       "       'host_response_time', 'host_response_rate', 'host_acceptance_rate',\n",
       "       'host_is_superhost', 'host_picture_url', 'host_neighbourhood',\n",
       "       'host_listings_count', 'host_total_listings_count',\n",
       "       'host_verifications', 'host_has_profile_pic', 'host_identity_verified',\n",
       "       'neighbourhood_cleansed', 'neighbourhood_group_cleansed', 'latitude',\n",
       "       'longitude', 'property_type', 'room_type', 'accommodates', 'bedrooms',\n",
       "       'beds', 'amenities', 'price', 'minimum_nights', 'maximum_nights',\n",
       "       'minimum_minimum_nights', 'maximum_minimum_nights',\n",
       "       'minimum_maximum_nights', 'maximum_maximum_nights',\n",
       "       'minimum_nights_avg_ntm', 'maximum_nights_avg_ntm', 'has_availability',\n",
       "       'availability_30', 'availability_60', 'availability_90',\n",
       "       'availability_365', 'number_of_reviews', 'number_of_reviews_ltm',\n",
       "       'number_of_reviews_l30d', 'first_review', 'last_review',\n",
       "       'review_scores_rating', 'review_scores_accuracy',\n",
       "       'review_scores_cleanliness', 'review_scores_checkin',\n",
       "       'review_scores_communication', 'review_scores_location',\n",
       "       'review_scores_value', 'has_license', 'instant_bookable',\n",
       "       'calculated_host_listings_count',\n",
       "       'calculated_host_listings_count_entire_homes',\n",
       "       'calculated_host_listings_count_private_rooms',\n",
       "       'calculated_host_listings_count_shared_rooms', 'reviews_per_month',\n",
       "       'bathrooms_count', 'amenities_count', 'host_response_time_encoded',\n",
       "       'host_operate_years', 'comments', 'polarity', 'content',\n",
       "       'cleaned_content', 'cluster', 'similarity', 'cleaned_comments',\n",
       "       'comments_nouns_adjs'],\n",
       "      dtype='object')"
      ]
     },
     "execution_count": 15,
     "metadata": {},
     "output_type": "execute_result"
    }
   ],
   "source": [
    "df.columns"
   ]
  },
  {
   "cell_type": "markdown",
   "metadata": {
    "created_in_deepnote_cell": true,
    "deepnote_cell_type": "markdown"
   },
   "source": [
    "<a style='text-decoration:none;line-height:16px;display:flex;color:#5B5B62;padding:10px;justify-content:end;' href='https://deepnote.com?utm_source=created-in-deepnote-cell&projectId=f2a50dc6-ff6a-45ff-9dbe-d7a35bd1e393' target=\"_blank\">\n",
    "<img alt='Created in deepnote.com' style='display:inline;max-height:16px;margin:0px;margin-right:7.5px;' src='data:image/svg+xml;base64,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' > </img>\n",
    "Created in <span style='font-weight:600;margin-left:4px;'>Deepnote</span></a>"
   ]
  }
 ],
 "metadata": {
  "deepnote": {},
  "deepnote_execution_queue": [],
  "deepnote_notebook_id": "5d0487235a374e9f8f65318d9d88c66d",
  "kernelspec": {
   "display_name": "Python 3",
   "language": "python",
   "name": "python3"
  },
  "language_info": {
   "codemirror_mode": {
    "name": "ipython",
    "version": 3
   },
   "file_extension": ".py",
   "mimetype": "text/x-python",
   "name": "python",
   "nbconvert_exporter": "python",
   "pygments_lexer": "ipython3",
   "version": "3.8.3"
  }
 },
 "nbformat": 4,
 "nbformat_minor": 1
}
