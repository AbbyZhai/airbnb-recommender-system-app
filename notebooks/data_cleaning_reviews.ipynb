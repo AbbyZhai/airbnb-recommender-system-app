{
 "cells": [
  {
   "cell_type": "markdown",
   "metadata": {
    "cell_id": "bc10affc58184e0aac7d6d4cd52498ee",
    "deepnote_cell_type": "markdown",
    "tags": []
   },
   "source": [
    "## Clean reviews dataset\n",
    "#### Friendly reminder: Please do not run this notebook since it will take about 30mins.\n",
    "You can read the cleaned review dataset directly using the code below:\n",
    "cleaned_review_df = pd.read_pickle('../data/data_cleaned/cleaned_review.zip')"
   ]
  },
  {
   "cell_type": "markdown",
   "metadata": {
    "cell_id": "6b9e8954978e4cd8be30fd0e765b14e2",
    "deepnote_cell_type": "markdown"
   },
   "source": [
    "### 0. Import reviews dataset"
   ]
  },
  {
   "cell_type": "code",
   "execution_count": 1,
   "metadata": {
    "cell_id": "90a7a28120b54baabf7c0a3543d953e6",
    "deepnote_cell_type": "code",
    "deepnote_to_be_reexecuted": false,
    "execution_millis": 1842,
    "execution_start": 1678511072639,
    "source_hash": "65604d7f"
   },
   "outputs": [],
   "source": [
    "import pandas as pd\n",
    "import numpy as np\n",
    "import seaborn as sns\n",
    "import json\n",
    "import matplotlib.pyplot as plt\n",
    "\n",
    "import warnings\n",
    "warnings.filterwarnings('ignore')\n",
    "\n",
    "from tqdm.notebook import tqdm\n",
    "from langdetect import detect\n",
    "\n",
    "pd.set_option('display.max_columns', 100)\n",
    "\n",
    "RANDOM_STATE= 42"
   ]
  },
  {
   "cell_type": "code",
   "execution_count": 2,
   "metadata": {
    "cell_id": "ba89673e74464db1b65b26ebf909dffe",
    "deepnote_cell_type": "code"
   },
   "outputs": [],
   "source": [
    "# load raw reviews dataset\n",
    "review_df_raw = pd.read_csv('../data/data_raw/reviews.csv.gz', compression='gzip')"
   ]
  },
  {
   "cell_type": "markdown",
   "metadata": {
    "cell_id": "7e86398139c842b9af905f04d91b06e2",
    "deepnote_cell_type": "markdown"
   },
   "source": [
    "### 1. Clean raw reviews dataset"
   ]
  },
  {
   "cell_type": "markdown",
   "metadata": {
    "cell_id": "8e5b715c57af4fe79b065cd8f678ceac",
    "deepnote_cell_type": "markdown"
   },
   "source": [
    "First, let's explore the review dataset"
   ]
  },
  {
   "cell_type": "code",
   "execution_count": 3,
   "metadata": {
    "cell_id": "1f755b445d094fb0b917647b29a5bde8",
    "deepnote_cell_type": "code",
    "deepnote_to_be_reexecuted": false,
    "execution_millis": 34,
    "execution_start": 1678511081052,
    "source_hash": "b86299ad"
   },
   "outputs": [],
   "source": [
    "# review_df_raw.info()\n",
    "# review_df_raw.isna().sum()\n",
    "# review_df_raw.head()"
   ]
  },
  {
   "cell_type": "markdown",
   "metadata": {
    "cell_id": "0f22da90ba7a46028e6719b21e0968d7",
    "deepnote_cell_type": "markdown",
    "tags": []
   },
   "source": [
    "#### Note: \n",
    "\n",
    "After we cleaned the reivews dataset, we **directly load the cleaned_review dataset** instead of rerun the code below for quick accessing. \n",
    "\n",
    "You can **use the code below to load the cleaned_review dataset directly**.\n",
    "cleaned_review_df = pd.read_pickle('../data/data_cleaned/cleaned_review.zip')\n",
    "print(cleaned_review_df.shape)\n",
    "cleaned_review_df.head(2)\n"
   ]
  },
  {
   "cell_type": "markdown",
   "metadata": {
    "cell_id": "df7154d085d54c5fbb62791d97d0390e",
    "deepnote_cell_type": "markdown"
   },
   "source": [
    "#### updates 3.9\n",
    "1. dropped nan values in the comments\n",
    "2. dropped canceled comment prototypes\n",
    "3. dropped non-text comments (eg. --, .., /, emojis..)\n",
    "4. dropped non-english comments (eg. fr, ro, zh-cn,..)"
   ]
  },
  {
   "cell_type": "code",
   "execution_count": 4,
   "metadata": {
    "cell_id": "b9e2b60de331400f9fc38df4de59dcf5",
    "deepnote_cell_type": "code",
    "deepnote_to_be_reexecuted": false,
    "execution_millis": 396,
    "execution_start": 1678511081079,
    "source_hash": "ce7ef4c4",
    "tags": []
   },
   "outputs": [
    {
     "name": "stdout",
     "output_type": "stream",
     "text": [
      "0.01% of all comments are nans(Dropped).\n",
      "0.11% of all comments are canceled comment prototypes(Dropped).\n"
     ]
    }
   ],
   "source": [
    "# updated 3.9\n",
    "# dropped nan values in the comments\n",
    "\n",
    "def clean_raw_review(df):\n",
    "    # columns to remove\n",
    "    review_col_to_remove = ['id', 'reviewer_name']\n",
    "    cleaned_df = df.drop(review_col_to_remove,axis=1)\n",
    "    \n",
    "    # convert date to date type\n",
    "    cleaned_df['date'] = pd.to_datetime(cleaned_df['date'])\n",
    "    \n",
    "    # convert listing_id datatype to object\n",
    "    cleaned_df['listing_id'] = cleaned_df['listing_id'].astype('object')    \n",
    "    \n",
    "    # drop nans\n",
    "    print(\"{:.2f}% of all comments are nans(Dropped).\".format((cleaned_df['comments'].isna().sum())/cleaned_df.shape[0]*100))\n",
    "    cleaned_df.dropna(subset=['comments'], axis = 0, inplace= True) \n",
    "    \n",
    "    # drop canceled comment prototypes\n",
    "    canceled_index = cleaned_df[cleaned_df['comments'].str.match('The host canceled this reservation')].index\n",
    "    cleaned_df.drop(index = canceled_index,inplace= True)\n",
    "    print(\"{:.2f}% of all comments are canceled comment prototypes(Dropped).\".format(len(canceled_index)/cleaned_df.shape[0]*100))\n",
    "    \n",
    "    return cleaned_df\n",
    "\n",
    "# review_df = clean_raw_review(review_df_raw)"
   ]
  },
  {
   "cell_type": "code",
   "execution_count": 5,
   "metadata": {
    "cell_id": "a5c5b2a7bc804da7ac749df37bd9f42a",
    "deepnote_cell_type": "code",
    "deepnote_to_be_reexecuted": false,
    "execution_millis": 1631802,
    "execution_start": 1678511081483,
    "source_hash": "d30483a0",
    "tags": []
   },
   "outputs": [
    {
     "name": "stdout",
     "output_type": "stream",
     "text": [
      "CPU times: user 27min 9s, sys: 18.2 s, total: 27min 27s\n",
      "Wall time: 28min 6s\n"
     ]
    }
   ],
   "source": [
    "%%time\n",
    "# detect languages # it takes about 18 mins to run\n",
    "# (We'll use the pickled cleaned_review.zip to do further nlp analysis)\n",
    "def detect_language(df):\n",
    "    num_errors = 0\n",
    "    non_text_index = []\n",
    "    text_index = []\n",
    "    languages = []\n",
    "\n",
    "    # here it takes a long time to run\n",
    "    for index, row in df.iterrows():\n",
    "        try:\n",
    "            language = detect(row['comments']) \n",
    "            languages.append(language)\n",
    "            text_index.append(index)\n",
    "        except:\n",
    "            num_errors += 1 # LangDetectException: No features in text\n",
    "            non_text_index.append(index)\n",
    "#             print(\"This row throws an error:\", row['comments'])    \n",
    "    return non_text_index, text_index, languages\n",
    "\n",
    "# non_text_index, text_index, languages = detect_language(review_df)"
   ]
  },
  {
   "cell_type": "code",
   "execution_count": 6,
   "metadata": {
    "cell_id": "baf5e8845ab54fc79b6e2212d4c2a772",
    "deepnote_cell_type": "code",
    "deepnote_to_be_reexecuted": false,
    "execution_millis": 2,
    "execution_start": 1678512713284,
    "source_hash": "8d5b8a33",
    "tags": []
   },
   "outputs": [
    {
     "data": {
      "text/plain": [
       "(559, 383027, 383027)"
      ]
     },
     "execution_count": 6,
     "metadata": {},
     "output_type": "execute_result"
    }
   ],
   "source": [
    "# len(non_text_index), len(text_index), len(languages)"
   ]
  },
  {
   "cell_type": "code",
   "execution_count": 7,
   "metadata": {
    "cell_id": "bc5580e83f974d9892ff6a95d726bd42",
    "deepnote_cell_type": "code",
    "deepnote_to_be_reexecuted": false,
    "execution_millis": 154,
    "execution_start": 1678512713285,
    "source_hash": "cb9cbeec",
    "tags": []
   },
   "outputs": [
    {
     "name": "stdout",
     "output_type": "stream",
     "text": [
      "0.15% of all comments do not contain words(Dropped).\n",
      "0.0002% of all comments are not in English(Dropped).\n"
     ]
    }
   ],
   "source": [
    "# remove non-English comments\n",
    "def remove_non_english_review(df):\n",
    "\n",
    "    global non_text_index, text_index, languages\n",
    "            \n",
    "    # drop non-words comments (<0.15%)\n",
    "    df.drop(non_text_index, axis=0, inplace=True)\n",
    "    print(\"{:.2f}% of all comments do not contain words(Dropped).\".format(len(non_text_index)/df.shape[0]*100))    \n",
    "    # create a new col, language \n",
    "    df['language'] = languages    \n",
    "    # drop non-english comments\n",
    "    non_english_index = df[df['language'] != 'en'].index\n",
    "    df.drop(index = non_english_index, inplace=True)\n",
    "    print(\"{:.4f}% of all comments are not in English(Dropped).\".format((len(non_english_index))/(df.shape[0]*100)))\n",
    "    #drop language col\n",
    "    review_df.drop('language', axis=1, inplace=True)\n",
    "    \n",
    "    return df\n",
    "\n",
    "# review_df = remove_non_english_review(review_df)"
   ]
  },
  {
   "cell_type": "code",
   "execution_count": 8,
   "metadata": {
    "cell_id": "b6577e1c36344bf390fafb8e838ad7b8",
    "deepnote_cell_type": "code",
    "deepnote_to_be_reexecuted": false,
    "execution_millis": 37,
    "execution_start": 1678512713445,
    "source_hash": "1426cc04",
    "tags": []
   },
   "outputs": [
    {
     "data": {
      "text/html": [
       "<div>\n",
       "<style scoped>\n",
       "    .dataframe tbody tr th:only-of-type {\n",
       "        vertical-align: middle;\n",
       "    }\n",
       "\n",
       "    .dataframe tbody tr th {\n",
       "        vertical-align: top;\n",
       "    }\n",
       "\n",
       "    .dataframe thead th {\n",
       "        text-align: right;\n",
       "    }\n",
       "</style>\n",
       "<table border=\"1\" class=\"dataframe\">\n",
       "  <thead>\n",
       "    <tr style=\"text-align: right;\">\n",
       "      <th></th>\n",
       "      <th>listing_id</th>\n",
       "      <th>date</th>\n",
       "      <th>reviewer_id</th>\n",
       "      <th>comments</th>\n",
       "    </tr>\n",
       "  </thead>\n",
       "  <tbody>\n",
       "    <tr>\n",
       "      <th>221650</th>\n",
       "      <td>24410427</td>\n",
       "      <td>2022-08-31</td>\n",
       "      <td>57400362</td>\n",
       "      <td>Very comfortable unit in a quiet location. The...</td>\n",
       "    </tr>\n",
       "    <tr>\n",
       "      <th>106001</th>\n",
       "      <td>10364350</td>\n",
       "      <td>2019-07-26</td>\n",
       "      <td>24713400</td>\n",
       "      <td>This stay met or exceeded all of my expectatio...</td>\n",
       "    </tr>\n",
       "  </tbody>\n",
       "</table>\n",
       "</div>"
      ],
      "text/plain": [
       "       listing_id       date  reviewer_id  \\\n",
       "221650   24410427 2022-08-31     57400362   \n",
       "106001   10364350 2019-07-26     24713400   \n",
       "\n",
       "                                                 comments  \n",
       "221650  Very comfortable unit in a quiet location. The...  \n",
       "106001  This stay met or exceeded all of my expectatio...  "
      ]
     },
     "execution_count": 8,
     "metadata": {},
     "output_type": "execute_result"
    }
   ],
   "source": [
    "review_df.reset_index(inplace=True, drop=True)\n",
    "review_df.sample(2)"
   ]
  },
  {
   "cell_type": "markdown",
   "metadata": {
    "cell_id": "d4a5107b77ef4c529a7b98a1b04544be",
    "deepnote_cell_type": "markdown"
   },
   "source": [
    "### 2. Save the cleaned reviews dataset"
   ]
  },
  {
   "cell_type": "code",
   "execution_count": 9,
   "metadata": {
    "cell_id": "b36d32838608442386bb12d8f2a00f02",
    "deepnote_cell_type": "code",
    "deepnote_to_be_reexecuted": false,
    "execution_millis": 6456,
    "execution_start": 1678512713487,
    "source_hash": "de303336"
   },
   "outputs": [],
   "source": [
    "# save the cleaned data \n",
    "review_df.to_pickle('../data/data_cleaned/cleaned_review.zip')"
   ]
  },
  {
   "cell_type": "code",
   "execution_count": 10,
   "metadata": {
    "cell_id": "f425f8e970bb47dcab7b752542efb83f",
    "deepnote_cell_type": "code"
   },
   "outputs": [
    {
     "name": "stdout",
     "output_type": "stream",
     "text": [
      "(375173, 4)\n"
     ]
    },
    {
     "data": {
      "text/html": [
       "<div>\n",
       "<style scoped>\n",
       "    .dataframe tbody tr th:only-of-type {\n",
       "        vertical-align: middle;\n",
       "    }\n",
       "\n",
       "    .dataframe tbody tr th {\n",
       "        vertical-align: top;\n",
       "    }\n",
       "\n",
       "    .dataframe thead th {\n",
       "        text-align: right;\n",
       "    }\n",
       "</style>\n",
       "<table border=\"1\" class=\"dataframe\">\n",
       "  <thead>\n",
       "    <tr style=\"text-align: right;\">\n",
       "      <th></th>\n",
       "      <th>listing_id</th>\n",
       "      <th>date</th>\n",
       "      <th>reviewer_id</th>\n",
       "      <th>comments</th>\n",
       "    </tr>\n",
       "  </thead>\n",
       "  <tbody>\n",
       "    <tr>\n",
       "      <th>0</th>\n",
       "      <td>6606</td>\n",
       "      <td>2009-07-17</td>\n",
       "      <td>18085</td>\n",
       "      <td>The Urban Cottage is comfortable, beautiful, f...</td>\n",
       "    </tr>\n",
       "    <tr>\n",
       "      <th>1</th>\n",
       "      <td>491958</td>\n",
       "      <td>2012-07-09</td>\n",
       "      <td>2595909</td>\n",
       "      <td>Jay, Colleen, Mica &amp; Gigi-dog were excellent h...</td>\n",
       "    </tr>\n",
       "  </tbody>\n",
       "</table>\n",
       "</div>"
      ],
      "text/plain": [
       "  listing_id       date  reviewer_id  \\\n",
       "0       6606 2009-07-17        18085   \n",
       "1     491958 2012-07-09      2595909   \n",
       "\n",
       "                                            comments  \n",
       "0  The Urban Cottage is comfortable, beautiful, f...  \n",
       "1  Jay, Colleen, Mica & Gigi-dog were excellent h...  "
      ]
     },
     "execution_count": 10,
     "metadata": {},
     "output_type": "execute_result"
    }
   ],
   "source": [
    "# read the cleaned review dataset directly\n",
    "cleaned_review_df = pd.read_pickle('../data/data_cleaned/cleaned_review.zip')\n",
    "print(cleaned_review_df.shape)\n",
    "cleaned_review_df.head(2)"
   ]
  },
  {
   "cell_type": "markdown",
   "metadata": {
    "cell_id": "735cd00b4dae4ee19ca7fdb1021ad34b",
    "deepnote_cell_type": "markdown",
    "tags": []
   },
   "source": []
  },
  {
   "cell_type": "markdown",
   "metadata": {
    "created_in_deepnote_cell": true,
    "deepnote_cell_type": "markdown"
   },
   "source": [
    "<a style='text-decoration:none;line-height:16px;display:flex;color:#5B5B62;padding:10px;justify-content:end;' href='https://deepnote.com?utm_source=created-in-deepnote-cell&projectId=f2a50dc6-ff6a-45ff-9dbe-d7a35bd1e393' target=\"_blank\">\n",
    "<img alt='Created in deepnote.com' style='display:inline;max-height:16px;margin:0px;margin-right:7.5px;' src='data:image/svg+xml;base64,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' > </img>\n",
    "Created in <span style='font-weight:600;margin-left:4px;'>Deepnote</span></a>"
   ]
  }
 ],
 "metadata": {
  "deepnote": {},
  "deepnote_execution_queue": [],
  "deepnote_notebook_id": "cef42bf24b5249c9a42ef69394c9e448",
  "kernelspec": {
   "display_name": "Python 3",
   "language": "python",
   "name": "python3"
  },
  "language_info": {
   "codemirror_mode": {
    "name": "ipython",
    "version": 3
   },
   "file_extension": ".py",
   "mimetype": "text/x-python",
   "name": "python",
   "nbconvert_exporter": "python",
   "pygments_lexer": "ipython3",
   "version": "3.8.3"
  }
 },
 "nbformat": 4,
 "nbformat_minor": 1
}
