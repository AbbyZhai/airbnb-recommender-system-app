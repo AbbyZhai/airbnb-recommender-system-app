{
 "cells": [
  {
   "cell_type": "markdown",
   "metadata": {
    "cell_id": "f7cef08c16ec48319930e0e65434ee0f",
    "deepnote_cell_type": "text-cell-h2",
    "formattedRanges": [],
    "is_collapsed": false,
    "tags": []
   },
   "source": [
    "## EDA"
   ]
  },
  {
   "cell_type": "markdown",
   "metadata": {
    "cell_id": "a13d3689bad447f1b20f4cff252e50c6",
    "deepnote_cell_type": "text-cell-p",
    "formattedRanges": [
     {
      "fromCodePoint": 63,
      "marks": {
       "bold": true
      },
      "toCodePoint": 81,
      "type": "marks"
     }
    ],
    "is_collapsed": false,
    "tags": []
   },
   "source": [
    "The following EDA is done based on the Xinqian's (03132023) cleansed data set cleaned_listing_df. "
   ]
  },
  {
   "cell_type": "markdown",
   "metadata": {
    "cell_id": "7f6a2f4bc3794c82a0587f51cefabd18",
    "deepnote_cell_type": "text-cell-p",
    "formattedRanges": [
     {
      "fromCodePoint": 30,
      "marks": {
       "bold": true
      },
      "toCodePoint": 58,
      "type": "marks"
     },
     {
      "fromCodePoint": 63,
      "marks": {
       "bold": true
      },
      "toCodePoint": 86,
      "type": "marks"
     }
    ],
    "is_collapsed": false,
    "tags": []
   },
   "source": [
    "In this data set, two columns neighbourhood_group_cleansed and neighbourhood_cleansed draws our attentions. The former is the higher level category of the latter. So, we want to check how things distribute in each neighbourhood group. Then, we visualize the following three distributions: Fig(1) - Fig(4)"
   ]
  },
  {
   "cell_type": "markdown",
   "metadata": {
    "cell_id": "72928f334f114a61a25e0a9e0e0a6915",
    "deepnote_cell_type": "markdown",
    "tags": []
   },
   "source": [
    "- The distribution of listings in each neighbouhood group\n",
    "- The distribution of avg price in each neighbourhood group\n",
    "- The distribution of avg scores in each neighbourhood group"
   ]
  },
  {
   "cell_type": "markdown",
   "metadata": {
    "cell_id": "534bf1cbb0db447bb65ee10641bb4705",
    "deepnote_cell_type": "text-cell-p",
    "formattedRanges": [],
    "is_collapsed": false,
    "tags": []
   },
   "source": [
    "Besides the neighbourhood related features, we want to check some features about the room type and property type. Then, we visualize the following: Fig(5) - Fig(6)"
   ]
  },
  {
   "cell_type": "markdown",
   "metadata": {
    "cell_id": "e4d44e7d972f4609857f7a9a7288f0cf",
    "deepnote_cell_type": "markdown",
    "tags": []
   },
   "source": [
    "- The distribution of distinct property types in each room type\n",
    "- The distribution of listings in each room type"
   ]
  },
  {
   "cell_type": "markdown",
   "metadata": {
    "cell_id": "702ce97343b34ce285efb4c8c5590cde",
    "deepnote_cell_type": "text-cell-p",
    "formattedRanges": [],
    "is_collapsed": false,
    "tags": []
   },
   "source": [
    "Then, how about we combine the neighbourhood features and the room type features to see what we get? "
   ]
  },
  {
   "cell_type": "markdown",
   "metadata": {
    "cell_id": "8fe2b0b2f8e346528e605bb1244a0d45",
    "deepnote_cell_type": "markdown",
    "tags": []
   },
   "source": [
    "- The distribution of room type listings in each neighbourhood group"
   ]
  },
  {
   "cell_type": "markdown",
   "metadata": {
    "cell_id": "b7b33da097db4dcea86f7c97d0cffe50",
    "deepnote_cell_type": "text-cell-p",
    "formattedRanges": [],
    "is_collapsed": false,
    "tags": []
   },
   "source": [
    "Last, we check the correlation among the following features to see if they correlate each other."
   ]
  },
  {
   "cell_type": "markdown",
   "metadata": {
    "cell_id": "a7df5584c73444cba5efc6c9bce54982",
    "deepnote_cell_type": "markdown",
    "tags": []
   },
   "source": [
    "- price\n",
    "- instant bookable\n",
    "- have license\n",
    "- verified host identity\n",
    "- being a superhost\n",
    "- the number of reviews received each month"
   ]
  },
  {
   "cell_type": "markdown",
   "metadata": {
    "cell_id": "ca1f118c1de44e649f7a88f75a6ea5b4",
    "deepnote_cell_type": "markdown"
   },
   "source": [
    "## 0. Import listings dataset"
   ]
  },
  {
   "cell_type": "code",
   "execution_count": 1,
   "metadata": {
    "cell_id": "2aa1a8b92e2c4210a574c1f13d610f16",
    "deepnote_cell_type": "code",
    "deepnote_to_be_reexecuted": false,
    "execution_millis": 2404,
    "execution_start": 1678802468483,
    "source_hash": "f4ddfeac"
   },
   "outputs": [],
   "source": [
    "import pandas as pd\n",
    "import numpy as np\n",
    "import seaborn as sns\n",
    "import json\n",
    "import matplotlib.pyplot as plt\n",
    "\n",
    "import warnings\n",
    "warnings.filterwarnings('ignore')\n",
    "\n",
    "from tqdm.notebook import tqdm\n",
    "# from langdetect import detect\n",
    "\n",
    "pd.set_option('display.max_columns', 100)\n",
    "pd.set_option('display.max_rows', 100)\n",
    "\n",
    "RANDOM_STATE= 42"
   ]
  },
  {
   "cell_type": "code",
   "execution_count": 2,
   "metadata": {
    "cell_id": "a148258a0db94b6c8d3e01501e17d04f",
    "deepnote_cell_type": "code",
    "deepnote_to_be_reexecuted": false,
    "execution_millis": 248,
    "execution_start": 1678802470889,
    "source_hash": "941249c7",
    "tags": []
   },
   "outputs": [
    {
     "name": "stdout",
     "output_type": "stream",
     "text": [
      "(4933, 71)\n"
     ]
    },
    {
     "data": {
      "application/vnd.deepnote.dataframe.v3+json": {
       "column_count": 71,
       "columns": [
        {
         "dtype": "int64",
         "name": "listing_id",
         "stats": {
          "histogram": [
           {
            "bin_end": 11621631.4,
            "bin_start": 7455832,
            "count": 1
           },
           {
            "bin_end": 15787430.8,
            "bin_start": 11621631.4,
            "count": 0
           },
           {
            "bin_end": 19953230.2,
            "bin_start": 15787430.8,
            "count": 0
           },
           {
            "bin_end": 24119029.6,
            "bin_start": 19953230.2,
            "count": 0
           },
           {
            "bin_end": 28284829,
            "bin_start": 24119029.6,
            "count": 0
           },
           {
            "bin_end": 32450628.4,
            "bin_start": 28284829,
            "count": 0
           },
           {
            "bin_end": 36616427.8,
            "bin_start": 32450628.4,
            "count": 0
           },
           {
            "bin_end": 40782227.2,
            "bin_start": 36616427.8,
            "count": 0
           },
           {
            "bin_end": 44948026.6,
            "bin_start": 40782227.2,
            "count": 0
           },
           {
            "bin_end": 49113826,
            "bin_start": 44948026.6,
            "count": 1
           }
          ],
          "max": "49113826",
          "min": "7455832",
          "nan_count": 0,
          "unique_count": 2
         }
        },
        {
         "dtype": "object",
         "name": "listing_url",
         "stats": {
          "categories": [
           {
            "count": 1,
            "name": "https://www.airbnb.com/rooms/49113826"
           },
           {
            "count": 1,
            "name": "https://www.airbnb.com/rooms/7455832"
           }
          ],
          "nan_count": 0,
          "unique_count": 2
         }
        },
        {
         "dtype": "datetime64[ns]",
         "name": "last_scraped",
         "stats": {
          "histogram": null,
          "max": "2022-12-24 00:00:00",
          "min": "2022-12-24 00:00:00",
          "nan_count": 0,
          "unique_count": 1
         }
        },
        {
         "dtype": "object",
         "name": "listing_name",
         "stats": {
          "categories": [
           {
            "count": 1,
            "name": "Private Seattle Getaway Home Near Lake Washington!"
           },
           {
            "count": 1,
            "name": "Classic remodeled in Georgetown"
           }
          ],
          "nan_count": 0,
          "unique_count": 2
         }
        },
        {
         "dtype": "object",
         "name": "description",
         "stats": {
          "categories": [
           {
            "count": 1,
            "name": "A Seattle vacation destination for those from out of town or a Staycation for those who live close by. We welcome you to this partial lake view gated family friendly home with 4 bedrooms, 2 bathrooms. A beautiful & serene creek flows through the front of the home. There is a fully functioning kitchen with appliances & utensils.  & laundry room. Only a few mins walk to Lakeridge playfield just behind the house! 15 min drive to SeaTac International Airport and 25 min drive to downtown Seattle.<br /><br /><b>The space</b><br />Smart lock for easy check in and Xfinity Home Security Alarm for your protection and peace of mind. There are a few steps leading into the home. There is one security camera at the house facing the front entrance and driveway. The front driveway can fit 6 cars.<br /><br />Bed Arrangements: <br /><br />Lower levels: 2 bedrooms, 1 bathroom<br />Room #1: One Queen bed (sleeps 2)<br />Room #4: One Queen bed (sleeps 2)<br /><br />Upper level: 2 bedrooms, 1 bathroom<br />"
           },
           {
            "count": 1,
            "name": "Enjoy your Seattle stay in the vibrant & artistic Georgetown neighborhood! Georgetown is truly one of the last artsy, funky neighborhoods left in Seattle - you will be a five minute walk from the many restaurants, bars, wine tasting rooms & more in the \"downtown\" Georgetown neighborhood. It's also kid friendly as you will see many families out and pushing strollers around.<br /><br />The neighborhood is located a few miles south of the downtown Seattle core.<br /><br /><b>The space</b><br />This is the top unit of a completely remodeled craftsman (if bottom unit is available you can rent the whole house and have 6 beds & 4 baths!)<br /><br />This unit has the classic craftsman feel, but it has been completely remodeled with some modern touches!<br /><br /><b>Guest access</b><br />Obviously you have access to the entire unit - there is a lower unit of the house that may be rented too, so you will need to be respectful of other guests. The front yard and side yards are also yours to enjo"
           }
          ],
          "nan_count": 0,
          "unique_count": 2
         }
        },
        {
         "dtype": "object",
         "name": "neighborhood_overview",
         "stats": {
          "categories": [
           {
            "count": 1,
            "name": "SeaTac International Airport: 14 min drive<br /><br />Grocery Stores nearby:<br />- Safeway & Rite Aid: 5 min drive<br />- Walgreens: 6 min drive<br />- Walmart & Fred Meyer: 9 min drive<br />- Uwajimaya: 10 min drive<br /><br />Dining nearby:<br />- Pizzeria Pulcinella: 2 min walk<br />- Stonehouse Cafe: 10 min walk<br />- The Landing (popular outdoor retail & restaurant area): 10 min drive<br /><br />Activities nearby:<br />- Lakeridge Playground: 2 min walk<br />- Downtown Renton: 10 min drive<br />- Southcenter Mall (large shopping mall): 14 min drive<br />- Round 1 (arcade, bowling, pool) inside Southcenter: 14 min drive<br />- iFly (mock sky diving): 15 min drive<br />- Downtown Seattle & Pike Place Market: 25 min drive"
           },
           {
            "count": 1,
            "name": "Georgetown is a cool neighborhood about three miles south of Seattle. Formerly an industrial area filled with warehouses, Georgetown has gone from shabby to chic, from industrial to artsy. Today, the neighborhood is a great place to find trendy restaurants, breweries, and art galleries."
           }
          ],
          "nan_count": 0,
          "unique_count": 2
         }
        },
        {
         "dtype": "object",
         "name": "picture_url",
         "stats": {
          "categories": [
           {
            "count": 1,
            "name": "https://a0.muscache.com/pictures/miso/Hosting-49113826/original/29c08a31-b625-4e8f-bbc6-93e7994fef05.jpeg"
           },
           {
            "count": 1,
            "name": "https://a0.muscache.com/pictures/miso/Hosting-7455832/original/87dcaee3-d543-440c-8cf0-19ac171d7200.jpeg"
           }
          ],
          "nan_count": 0,
          "unique_count": 2
         }
        },
        {
         "dtype": "int64",
         "name": "host_id",
         "stats": {
          "histogram": [
           {
            "bin_end": 20784291.1,
            "bin_start": 2144954,
            "count": 1
           },
           {
            "bin_end": 39423628.2,
            "bin_start": 20784291.1,
            "count": 0
           },
           {
            "bin_end": 58062965.300000004,
            "bin_start": 39423628.2,
            "count": 0
           },
           {
            "bin_end": 76702302.4,
            "bin_start": 58062965.300000004,
            "count": 0
           },
           {
            "bin_end": 95341639.5,
            "bin_start": 76702302.4,
            "count": 0
           },
           {
            "bin_end": 113980976.60000001,
            "bin_start": 95341639.5,
            "count": 0
           },
           {
            "bin_end": 132620313.70000002,
            "bin_start": 113980976.60000001,
            "count": 0
           },
           {
            "bin_end": 151259650.8,
            "bin_start": 132620313.70000002,
            "count": 0
           },
           {
            "bin_end": 169898987.9,
            "bin_start": 151259650.8,
            "count": 0
           },
           {
            "bin_end": 188538325,
            "bin_start": 169898987.9,
            "count": 1
           }
          ],
          "max": "188538325",
          "min": "2144954",
          "nan_count": 0,
          "unique_count": 2
         }
        },
        {
         "dtype": "object",
         "name": "host_url",
         "stats": {
          "categories": [
           {
            "count": 1,
            "name": "https://www.airbnb.com/users/show/188538325"
           },
           {
            "count": 1,
            "name": "https://www.airbnb.com/users/show/2144954"
           }
          ],
          "nan_count": 0,
          "unique_count": 2
         }
        },
        {
         "dtype": "object",
         "name": "host_name",
         "stats": {
          "categories": [
           {
            "count": 1,
            "name": "Xiao"
           },
           {
            "count": 1,
            "name": "Ryan"
           }
          ],
          "nan_count": 0,
          "unique_count": 2
         }
        },
        {
         "dtype": "datetime64[ns]",
         "name": "host_since",
         "stats": {
          "histogram": [
           {
            "bin_end": 1353576960000000000,
            "bin_start": 1334448000000000000,
            "count": 1
           },
           {
            "bin_end": 1372705920000000000,
            "bin_start": 1353576960000000000,
            "count": 0
           },
           {
            "bin_end": 1391834880000000000,
            "bin_start": 1372705920000000000,
            "count": 0
           },
           {
            "bin_end": 1410963840000000000,
            "bin_start": 1391834880000000000,
            "count": 0
           },
           {
            "bin_end": 1430092800000000000,
            "bin_start": 1410963840000000000,
            "count": 0
           },
           {
            "bin_end": 1449221760000000000,
            "bin_start": 1430092800000000000,
            "count": 0
           },
           {
            "bin_end": 1468350720000000000,
            "bin_start": 1449221760000000000,
            "count": 0
           },
           {
            "bin_end": 1487479680000000000,
            "bin_start": 1468350720000000000,
            "count": 0
           },
           {
            "bin_end": 1506608640000000000,
            "bin_start": 1487479680000000000,
            "count": 0
           },
           {
            "bin_end": 1525737600000000000,
            "bin_start": 1506608640000000000,
            "count": 1
           }
          ],
          "max": "2018-05-08 00:00:00",
          "min": "2012-04-15 00:00:00",
          "nan_count": 0,
          "unique_count": 2
         }
        },
        {
         "dtype": "object",
         "name": "host_location",
         "stats": {
          "categories": [
           {
            "count": 2,
            "name": "Seattle, WA"
           }
          ],
          "nan_count": 0,
          "unique_count": 1
         }
        },
        {
         "dtype": "object",
         "name": "host_about",
         "stats": {
          "categories": [
           {
            "count": 2,
            "name": " "
           }
          ],
          "nan_count": 0,
          "unique_count": 1
         }
        },
        {
         "dtype": "object",
         "name": "host_response_time",
         "stats": {
          "categories": [
           {
            "count": 2,
            "name": "within an hour"
           }
          ],
          "nan_count": 0,
          "unique_count": 1
         }
        },
        {
         "dtype": "float64",
         "name": "host_response_rate",
         "stats": {
          "histogram": [
           {
            "bin_end": 0.6,
            "bin_start": 0.5,
            "count": 0
           },
           {
            "bin_end": 0.7,
            "bin_start": 0.6,
            "count": 0
           },
           {
            "bin_end": 0.8,
            "bin_start": 0.7,
            "count": 0
           },
           {
            "bin_end": 0.9,
            "bin_start": 0.8,
            "count": 0
           },
           {
            "bin_end": 1,
            "bin_start": 0.9,
            "count": 0
           },
           {
            "bin_end": 1.1,
            "bin_start": 1,
            "count": 2
           },
           {
            "bin_end": 1.2000000000000002,
            "bin_start": 1.1,
            "count": 0
           },
           {
            "bin_end": 1.3,
            "bin_start": 1.2000000000000002,
            "count": 0
           },
           {
            "bin_end": 1.4,
            "bin_start": 1.3,
            "count": 0
           },
           {
            "bin_end": 1.5,
            "bin_start": 1.4,
            "count": 0
           }
          ],
          "max": "1.0",
          "min": "1.0",
          "nan_count": 0,
          "unique_count": 1
         }
        },
        {
         "dtype": "float64",
         "name": "host_acceptance_rate",
         "stats": {
          "histogram": [
           {
            "bin_end": 0.6,
            "bin_start": 0.5,
            "count": 0
           },
           {
            "bin_end": 0.7,
            "bin_start": 0.6,
            "count": 0
           },
           {
            "bin_end": 0.8,
            "bin_start": 0.7,
            "count": 0
           },
           {
            "bin_end": 0.9,
            "bin_start": 0.8,
            "count": 0
           },
           {
            "bin_end": 1,
            "bin_start": 0.9,
            "count": 0
           },
           {
            "bin_end": 1.1,
            "bin_start": 1,
            "count": 2
           },
           {
            "bin_end": 1.2000000000000002,
            "bin_start": 1.1,
            "count": 0
           },
           {
            "bin_end": 1.3,
            "bin_start": 1.2000000000000002,
            "count": 0
           },
           {
            "bin_end": 1.4,
            "bin_start": 1.3,
            "count": 0
           },
           {
            "bin_end": 1.5,
            "bin_start": 1.4,
            "count": 0
           }
          ],
          "max": "1.0",
          "min": "1.0",
          "nan_count": 0,
          "unique_count": 1
         }
        },
        {
         "dtype": "int64",
         "name": "host_is_superhost",
         "stats": {
          "histogram": [
           {
            "bin_end": 0.1,
            "bin_start": 0,
            "count": 1
           },
           {
            "bin_end": 0.2,
            "bin_start": 0.1,
            "count": 0
           },
           {
            "bin_end": 0.30000000000000004,
            "bin_start": 0.2,
            "count": 0
           },
           {
            "bin_end": 0.4,
            "bin_start": 0.30000000000000004,
            "count": 0
           },
           {
            "bin_end": 0.5,
            "bin_start": 0.4,
            "count": 0
           },
           {
            "bin_end": 0.6000000000000001,
            "bin_start": 0.5,
            "count": 0
           },
           {
            "bin_end": 0.7000000000000001,
            "bin_start": 0.6000000000000001,
            "count": 0
           },
           {
            "bin_end": 0.8,
            "bin_start": 0.7000000000000001,
            "count": 0
           },
           {
            "bin_end": 0.9,
            "bin_start": 0.8,
            "count": 0
           },
           {
            "bin_end": 1,
            "bin_start": 0.9,
            "count": 1
           }
          ],
          "max": "1",
          "min": "0",
          "nan_count": 0,
          "unique_count": 2
         }
        },
        {
         "dtype": "object",
         "name": "host_picture_url",
         "stats": {
          "categories": [
           {
            "count": 1,
            "name": "https://a0.muscache.com/im/pictures/user/32fd3116-b515-46d9-8048-d5773e1bac5a.jpg?aki_policy=profile_x_medium"
           },
           {
            "count": 1,
            "name": "https://a0.muscache.com/im/pictures/user/a671129c-f502-4968-85ef-7ef088d81ab3.jpg?aki_policy=profile_x_medium"
           }
          ],
          "nan_count": 0,
          "unique_count": 2
         }
        },
        {
         "dtype": "object",
         "name": "host_neighbourhood",
         "stats": {
          "categories": [
           {
            "count": 1,
            "name": "Oakland"
           },
           {
            "count": 1,
            "name": "Greater Duwamish"
           }
          ],
          "nan_count": 0,
          "unique_count": 2
         }
        },
        {
         "dtype": "int64",
         "name": "host_listings_count",
         "stats": {
          "histogram": [
           {
            "bin_end": 2.2,
            "bin_start": 2,
            "count": 1
           },
           {
            "bin_end": 2.4,
            "bin_start": 2.2,
            "count": 0
           },
           {
            "bin_end": 2.6,
            "bin_start": 2.4,
            "count": 0
           },
           {
            "bin_end": 2.8,
            "bin_start": 2.6,
            "count": 0
           },
           {
            "bin_end": 3,
            "bin_start": 2.8,
            "count": 0
           },
           {
            "bin_end": 3.2,
            "bin_start": 3,
            "count": 0
           },
           {
            "bin_end": 3.4000000000000004,
            "bin_start": 3.2,
            "count": 0
           },
           {
            "bin_end": 3.6,
            "bin_start": 3.4000000000000004,
            "count": 0
           },
           {
            "bin_end": 3.8,
            "bin_start": 3.6,
            "count": 0
           },
           {
            "bin_end": 4,
            "bin_start": 3.8,
            "count": 1
           }
          ],
          "max": "4",
          "min": "2",
          "nan_count": 0,
          "unique_count": 2
         }
        },
        {
         "dtype": "int64",
         "name": "host_total_listings_count",
         "stats": {
          "histogram": [
           {
            "bin_end": 2.2,
            "bin_start": 2,
            "count": 1
           },
           {
            "bin_end": 2.4,
            "bin_start": 2.2,
            "count": 0
           },
           {
            "bin_end": 2.6,
            "bin_start": 2.4,
            "count": 0
           },
           {
            "bin_end": 2.8,
            "bin_start": 2.6,
            "count": 0
           },
           {
            "bin_end": 3,
            "bin_start": 2.8,
            "count": 0
           },
           {
            "bin_end": 3.2,
            "bin_start": 3,
            "count": 0
           },
           {
            "bin_end": 3.4000000000000004,
            "bin_start": 3.2,
            "count": 0
           },
           {
            "bin_end": 3.6,
            "bin_start": 3.4000000000000004,
            "count": 0
           },
           {
            "bin_end": 3.8,
            "bin_start": 3.6,
            "count": 0
           },
           {
            "bin_end": 4,
            "bin_start": 3.8,
            "count": 1
           }
          ],
          "max": "4",
          "min": "2",
          "nan_count": 0,
          "unique_count": 2
         }
        },
        {
         "dtype": "object",
         "name": "host_verifications",
         "stats": {
          "categories": [
           {
            "count": 1,
            "name": "['email', 'phone']"
           },
           {
            "count": 1,
            "name": "['email', 'phone', 'work_email']"
           }
          ],
          "nan_count": 0,
          "unique_count": 2
         }
        },
        {
         "dtype": "int64",
         "name": "host_has_profile_pic",
         "stats": {
          "histogram": [
           {
            "bin_end": 0.6,
            "bin_start": 0.5,
            "count": 0
           },
           {
            "bin_end": 0.7,
            "bin_start": 0.6,
            "count": 0
           },
           {
            "bin_end": 0.8,
            "bin_start": 0.7,
            "count": 0
           },
           {
            "bin_end": 0.9,
            "bin_start": 0.8,
            "count": 0
           },
           {
            "bin_end": 1,
            "bin_start": 0.9,
            "count": 0
           },
           {
            "bin_end": 1.1,
            "bin_start": 1,
            "count": 2
           },
           {
            "bin_end": 1.2000000000000002,
            "bin_start": 1.1,
            "count": 0
           },
           {
            "bin_end": 1.3,
            "bin_start": 1.2000000000000002,
            "count": 0
           },
           {
            "bin_end": 1.4,
            "bin_start": 1.3,
            "count": 0
           },
           {
            "bin_end": 1.5,
            "bin_start": 1.4,
            "count": 0
           }
          ],
          "max": "1",
          "min": "1",
          "nan_count": 0,
          "unique_count": 1
         }
        },
        {
         "dtype": "int64",
         "name": "host_identity_verified",
         "stats": {
          "histogram": [
           {
            "bin_end": 0.1,
            "bin_start": 0,
            "count": 1
           },
           {
            "bin_end": 0.2,
            "bin_start": 0.1,
            "count": 0
           },
           {
            "bin_end": 0.30000000000000004,
            "bin_start": 0.2,
            "count": 0
           },
           {
            "bin_end": 0.4,
            "bin_start": 0.30000000000000004,
            "count": 0
           },
           {
            "bin_end": 0.5,
            "bin_start": 0.4,
            "count": 0
           },
           {
            "bin_end": 0.6000000000000001,
            "bin_start": 0.5,
            "count": 0
           },
           {
            "bin_end": 0.7000000000000001,
            "bin_start": 0.6000000000000001,
            "count": 0
           },
           {
            "bin_end": 0.8,
            "bin_start": 0.7000000000000001,
            "count": 0
           },
           {
            "bin_end": 0.9,
            "bin_start": 0.8,
            "count": 0
           },
           {
            "bin_end": 1,
            "bin_start": 0.9,
            "count": 1
           }
          ],
          "max": "1",
          "min": "0",
          "nan_count": 0,
          "unique_count": 2
         }
        },
        {
         "dtype": "object",
         "name": "neighbourhood_cleansed",
         "stats": {
          "categories": [
           {
            "count": 1,
            "name": "Rainier View"
           },
           {
            "count": 1,
            "name": "Georgetown"
           }
          ],
          "nan_count": 0,
          "unique_count": 2
         }
        },
        {
         "dtype": "object",
         "name": "neighbourhood_group_cleansed",
         "stats": {
          "categories": [
           {
            "count": 1,
            "name": "Rainier Valley"
           },
           {
            "count": 1,
            "name": "Other neighborhoods"
           }
          ],
          "nan_count": 0,
          "unique_count": 2
         }
        },
        {
         "dtype": "float64",
         "name": "latitude",
         "stats": {
          "histogram": [
           {
            "bin_end": 47.513725900000004,
            "bin_start": 47.51028,
            "count": 1
           },
           {
            "bin_end": 47.5171718,
            "bin_start": 47.513725900000004,
            "count": 0
           },
           {
            "bin_end": 47.5206177,
            "bin_start": 47.5171718,
            "count": 0
           },
           {
            "bin_end": 47.5240636,
            "bin_start": 47.5206177,
            "count": 0
           },
           {
            "bin_end": 47.5275095,
            "bin_start": 47.5240636,
            "count": 0
           },
           {
            "bin_end": 47.5309554,
            "bin_start": 47.5275095,
            "count": 0
           },
           {
            "bin_end": 47.5344013,
            "bin_start": 47.5309554,
            "count": 0
           },
           {
            "bin_end": 47.5378472,
            "bin_start": 47.5344013,
            "count": 0
           },
           {
            "bin_end": 47.5412931,
            "bin_start": 47.5378472,
            "count": 0
           },
           {
            "bin_end": 47.544739,
            "bin_start": 47.5412931,
            "count": 1
           }
          ],
          "max": "47.544739",
          "min": "47.51028",
          "nan_count": 0,
          "unique_count": 2
         }
        },
        {
         "dtype": "float64",
         "name": "longitude",
         "stats": {
          "histogram": [
           {
            "bin_end": -122.3124754,
            "bin_start": -122.319786,
            "count": 1
           },
           {
            "bin_end": -122.3051648,
            "bin_start": -122.3124754,
            "count": 0
           },
           {
            "bin_end": -122.29785419999999,
            "bin_start": -122.3051648,
            "count": 0
           },
           {
            "bin_end": -122.29054359999999,
            "bin_start": -122.29785419999999,
            "count": 0
           },
           {
            "bin_end": -122.283233,
            "bin_start": -122.29054359999999,
            "count": 0
           },
           {
            "bin_end": -122.2759224,
            "bin_start": -122.283233,
            "count": 0
           },
           {
            "bin_end": -122.2686118,
            "bin_start": -122.2759224,
            "count": 0
           },
           {
            "bin_end": -122.26130119999999,
            "bin_start": -122.2686118,
            "count": 0
           },
           {
            "bin_end": -122.2539906,
            "bin_start": -122.26130119999999,
            "count": 0
           },
           {
            "bin_end": -122.24668,
            "bin_start": -122.2539906,
            "count": 1
           }
          ],
          "max": "-122.24668",
          "min": "-122.319786",
          "nan_count": 0,
          "unique_count": 2
         }
        },
        {
         "dtype": "object",
         "name": "property_type",
         "stats": {
          "categories": [
           {
            "count": 2,
            "name": "Entire home"
           }
          ],
          "nan_count": 0,
          "unique_count": 1
         }
        },
        {
         "dtype": "object",
         "name": "room_type",
         "stats": {
          "categories": [
           {
            "count": 2,
            "name": "Entire home/apt"
           }
          ],
          "nan_count": 0,
          "unique_count": 1
         }
        },
        {
         "dtype": "int64",
         "name": "accommodates",
         "stats": {
          "histogram": [
           {
            "bin_end": 6.2,
            "bin_start": 6,
            "count": 1
           },
           {
            "bin_end": 6.4,
            "bin_start": 6.2,
            "count": 0
           },
           {
            "bin_end": 6.6,
            "bin_start": 6.4,
            "count": 0
           },
           {
            "bin_end": 6.8,
            "bin_start": 6.6,
            "count": 0
           },
           {
            "bin_end": 7,
            "bin_start": 6.8,
            "count": 0
           },
           {
            "bin_end": 7.2,
            "bin_start": 7,
            "count": 0
           },
           {
            "bin_end": 7.4,
            "bin_start": 7.2,
            "count": 0
           },
           {
            "bin_end": 7.6,
            "bin_start": 7.4,
            "count": 0
           },
           {
            "bin_end": 7.8,
            "bin_start": 7.6,
            "count": 0
           },
           {
            "bin_end": 8,
            "bin_start": 7.8,
            "count": 1
           }
          ],
          "max": "8",
          "min": "6",
          "nan_count": 0,
          "unique_count": 2
         }
        },
        {
         "dtype": "float64",
         "name": "bedrooms",
         "stats": {
          "histogram": [
           {
            "bin_end": 3.1,
            "bin_start": 3,
            "count": 1
           },
           {
            "bin_end": 3.2,
            "bin_start": 3.1,
            "count": 0
           },
           {
            "bin_end": 3.3,
            "bin_start": 3.2,
            "count": 0
           },
           {
            "bin_end": 3.4,
            "bin_start": 3.3,
            "count": 0
           },
           {
            "bin_end": 3.5,
            "bin_start": 3.4,
            "count": 0
           },
           {
            "bin_end": 3.6,
            "bin_start": 3.5,
            "count": 0
           },
           {
            "bin_end": 3.7,
            "bin_start": 3.6,
            "count": 0
           },
           {
            "bin_end": 3.8,
            "bin_start": 3.7,
            "count": 0
           },
           {
            "bin_end": 3.9,
            "bin_start": 3.8,
            "count": 0
           },
           {
            "bin_end": 4,
            "bin_start": 3.9,
            "count": 1
           }
          ],
          "max": "4.0",
          "min": "3.0",
          "nan_count": 0,
          "unique_count": 2
         }
        },
        {
         "dtype": "float64",
         "name": "beds",
         "stats": {
          "histogram": [
           {
            "bin_end": 3.1,
            "bin_start": 3,
            "count": 1
           },
           {
            "bin_end": 3.2,
            "bin_start": 3.1,
            "count": 0
           },
           {
            "bin_end": 3.3,
            "bin_start": 3.2,
            "count": 0
           },
           {
            "bin_end": 3.4,
            "bin_start": 3.3,
            "count": 0
           },
           {
            "bin_end": 3.5,
            "bin_start": 3.4,
            "count": 0
           },
           {
            "bin_end": 3.6,
            "bin_start": 3.5,
            "count": 0
           },
           {
            "bin_end": 3.7,
            "bin_start": 3.6,
            "count": 0
           },
           {
            "bin_end": 3.8,
            "bin_start": 3.7,
            "count": 0
           },
           {
            "bin_end": 3.9,
            "bin_start": 3.8,
            "count": 0
           },
           {
            "bin_end": 4,
            "bin_start": 3.9,
            "count": 1
           }
          ],
          "max": "4.0",
          "min": "3.0",
          "nan_count": 0,
          "unique_count": 2
         }
        },
        {
         "dtype": "object",
         "name": "amenities",
         "stats": {
          "categories": [
           {
            "count": 1,
            "name": "[\"Hot water\", \"Dining table\", \"Toaster\", \"Refrigerator\", \"Bathtub\", \"Dishwasher\", \"Coffee maker: drip coffee maker\", \"Room-darkening shades\", \"Private entrance\", \"Dishes and silverware\", \"Washer\", \"Kitchen\", \"TV\", \"Body soap\", \"Indoor fireplace\", \"Private patio or balcony\", \"Free street parking\", \"Iron\", \"Hair dryer\", \"Microwave\", \"Cooking basics\", \"Oven\", \"Private backyard \\u2013 Fully fenced\", \"Pack \\u2019n play/Travel crib\", \"Keypad\", \"Stove\", \"Smoke alarm\", \"Dryer\", \"Essentials\", \"Wine glasses\", \"Self check-in\", \"Cleaning products\", \"Fire extinguisher\", \"High chair\", \"Heating\", \"Outdoor furniture\", \"Long term stays allowed\", \"Wifi\", \"Air conditioning\", \"Outdoor dining area\", \"BBQ grill\", \"First aid kit\", \"Hangers\", \"Extra pillows and blankets\", \"Shampoo\", \"Security cameras on property\", \"Carbon monoxide alarm\", \"Fire pit\", \"Dedicated workspace\", \"Lake view\", \"Bed linens\", \"Park view\", \"Free parking on premises\"]"
           },
           {
            "count": 1,
            "name": "[\"Hot water\", \"Crib - available upon request\", \"Dining table\", \"Toaster\", \"Refrigerator\", \"Bathtub\", \"Dishwasher\", \"Hot water kettle\", \"Room-darkening shades\", \"Private entrance\", \"Dishes and silverware\", \"Conditioner\", \"Kitchen\", \"Body soap\", \"Private patio or balcony\", \"Free street parking\", \"Google Nest sound system\", \"Iron\", \"Hair dryer\", \"Microwave\", \"Cooking basics\", \"Oven\", \"Shared backyard \\u2013 Not fully fenced\", \"Pets allowed\", \"Keypad\", \"Free dryer \\u2013 In unit\", \"Stove\", \"Smoke alarm\", \"Wine glasses\", \"Essentials\", \"Pack \\u2019n play/Travel crib - available upon request\", \"Self check-in\", \"Cleaning products\", \"AC - split type ductless system\", \"Fire extinguisher\", \"Long term stays allowed\", \"Outdoor furniture\", \"Wifi\", \"Coffee\", \"Single level home\", \"Outdoor dining area\", \"Coffee maker: french press\", \"First aid kit\", \"65\\\" HDTV with standard cable\", \"Hangers\", \"Freezer\", \"Free washer \\u2013 In unit\", \"Extra pillows and blankets\", \"Shampoo\", \"Carbon monoxide alarm\", \"Heating - split type ductless system\", \"Dedicated workspace\", \"Bed linens\", \"Free parking on premises\", \"Books and reading material\"]"
           }
          ],
          "nan_count": 0,
          "unique_count": 2
         }
        },
        {
         "dtype": "float64",
         "name": "price",
         "stats": {
          "histogram": [
           {
            "bin_end": 168.4,
            "bin_start": 156,
            "count": 1
           },
           {
            "bin_end": 180.8,
            "bin_start": 168.4,
            "count": 0
           },
           {
            "bin_end": 193.2,
            "bin_start": 180.8,
            "count": 0
           },
           {
            "bin_end": 205.6,
            "bin_start": 193.2,
            "count": 0
           },
           {
            "bin_end": 218,
            "bin_start": 205.6,
            "count": 0
           },
           {
            "bin_end": 230.4,
            "bin_start": 218,
            "count": 0
           },
           {
            "bin_end": 242.8,
            "bin_start": 230.4,
            "count": 0
           },
           {
            "bin_end": 255.2,
            "bin_start": 242.8,
            "count": 0
           },
           {
            "bin_end": 267.6,
            "bin_start": 255.2,
            "count": 0
           },
           {
            "bin_end": 280,
            "bin_start": 267.6,
            "count": 1
           }
          ],
          "max": "280.0",
          "min": "156.0",
          "nan_count": 0,
          "unique_count": 2
         }
        },
        {
         "dtype": "int64",
         "name": "minimum_nights",
         "stats": {
          "histogram": [
           {
            "bin_end": 1.2,
            "bin_start": 1,
            "count": 1
           },
           {
            "bin_end": 1.4,
            "bin_start": 1.2,
            "count": 0
           },
           {
            "bin_end": 1.6,
            "bin_start": 1.4,
            "count": 0
           },
           {
            "bin_end": 1.8,
            "bin_start": 1.6,
            "count": 0
           },
           {
            "bin_end": 2,
            "bin_start": 1.8,
            "count": 0
           },
           {
            "bin_end": 2.2,
            "bin_start": 2,
            "count": 0
           },
           {
            "bin_end": 2.4000000000000004,
            "bin_start": 2.2,
            "count": 0
           },
           {
            "bin_end": 2.6,
            "bin_start": 2.4000000000000004,
            "count": 0
           },
           {
            "bin_end": 2.8,
            "bin_start": 2.6,
            "count": 0
           },
           {
            "bin_end": 3,
            "bin_start": 2.8,
            "count": 1
           }
          ],
          "max": "3",
          "min": "1",
          "nan_count": 0,
          "unique_count": 2
         }
        },
        {
         "dtype": "int64",
         "name": "maximum_nights",
         "stats": {
          "histogram": [
           {
            "bin_end": 42,
            "bin_start": 30,
            "count": 1
           },
           {
            "bin_end": 54,
            "bin_start": 42,
            "count": 0
           },
           {
            "bin_end": 66,
            "bin_start": 54,
            "count": 0
           },
           {
            "bin_end": 78,
            "bin_start": 66,
            "count": 0
           },
           {
            "bin_end": 90,
            "bin_start": 78,
            "count": 0
           },
           {
            "bin_end": 102,
            "bin_start": 90,
            "count": 0
           },
           {
            "bin_end": 114,
            "bin_start": 102,
            "count": 0
           },
           {
            "bin_end": 126,
            "bin_start": 114,
            "count": 0
           },
           {
            "bin_end": 138,
            "bin_start": 126,
            "count": 0
           },
           {
            "bin_end": 150,
            "bin_start": 138,
            "count": 1
           }
          ],
          "max": "150",
          "min": "30",
          "nan_count": 0,
          "unique_count": 2
         }
        },
        {
         "dtype": "float64",
         "name": "minimum_minimum_nights",
         "stats": {
          "histogram": [
           {
            "bin_end": 2.1,
            "bin_start": 2,
            "count": 1
           },
           {
            "bin_end": 2.2,
            "bin_start": 2.1,
            "count": 0
           },
           {
            "bin_end": 2.3,
            "bin_start": 2.2,
            "count": 0
           },
           {
            "bin_end": 2.4,
            "bin_start": 2.3,
            "count": 0
           },
           {
            "bin_end": 2.5,
            "bin_start": 2.4,
            "count": 0
           },
           {
            "bin_end": 2.6,
            "bin_start": 2.5,
            "count": 0
           },
           {
            "bin_end": 2.7,
            "bin_start": 2.6,
            "count": 0
           },
           {
            "bin_end": 2.8,
            "bin_start": 2.7,
            "count": 0
           },
           {
            "bin_end": 2.9,
            "bin_start": 2.8,
            "count": 0
           },
           {
            "bin_end": 3,
            "bin_start": 2.9,
            "count": 1
           }
          ],
          "max": "3.0",
          "min": "2.0",
          "nan_count": 0,
          "unique_count": 2
         }
        },
        {
         "dtype": "float64",
         "name": "maximum_minimum_nights",
         "stats": {
          "histogram": [
           {
            "bin_end": 2.6,
            "bin_start": 2.5,
            "count": 0
           },
           {
            "bin_end": 2.7,
            "bin_start": 2.6,
            "count": 0
           },
           {
            "bin_end": 2.8,
            "bin_start": 2.7,
            "count": 0
           },
           {
            "bin_end": 2.9,
            "bin_start": 2.8,
            "count": 0
           },
           {
            "bin_end": 3,
            "bin_start": 2.9,
            "count": 0
           },
           {
            "bin_end": 3.1,
            "bin_start": 3,
            "count": 2
           },
           {
            "bin_end": 3.2,
            "bin_start": 3.1,
            "count": 0
           },
           {
            "bin_end": 3.3,
            "bin_start": 3.2,
            "count": 0
           },
           {
            "bin_end": 3.4,
            "bin_start": 3.3,
            "count": 0
           },
           {
            "bin_end": 3.5,
            "bin_start": 3.4,
            "count": 0
           }
          ],
          "max": "3.0",
          "min": "3.0",
          "nan_count": 0,
          "unique_count": 1
         }
        },
        {
         "dtype": "float64",
         "name": "minimum_maximum_nights",
         "stats": {
          "histogram": [
           {
            "bin_end": 1124.6,
            "bin_start": 1124.5,
            "count": 0
           },
           {
            "bin_end": 1124.7,
            "bin_start": 1124.6,
            "count": 0
           },
           {
            "bin_end": 1124.8,
            "bin_start": 1124.7,
            "count": 0
           },
           {
            "bin_end": 1124.9,
            "bin_start": 1124.8,
            "count": 0
           },
           {
            "bin_end": 1125,
            "bin_start": 1124.9,
            "count": 0
           },
           {
            "bin_end": 1125.1,
            "bin_start": 1125,
            "count": 2
           },
           {
            "bin_end": 1125.2,
            "bin_start": 1125.1,
            "count": 0
           },
           {
            "bin_end": 1125.3,
            "bin_start": 1125.2,
            "count": 0
           },
           {
            "bin_end": 1125.4,
            "bin_start": 1125.3,
            "count": 0
           },
           {
            "bin_end": 1125.5,
            "bin_start": 1125.4,
            "count": 0
           }
          ],
          "max": "1125.0",
          "min": "1125.0",
          "nan_count": 0,
          "unique_count": 1
         }
        },
        {
         "dtype": "float64",
         "name": "maximum_maximum_nights",
         "stats": {
          "histogram": [
           {
            "bin_end": 1124.6,
            "bin_start": 1124.5,
            "count": 0
           },
           {
            "bin_end": 1124.7,
            "bin_start": 1124.6,
            "count": 0
           },
           {
            "bin_end": 1124.8,
            "bin_start": 1124.7,
            "count": 0
           },
           {
            "bin_end": 1124.9,
            "bin_start": 1124.8,
            "count": 0
           },
           {
            "bin_end": 1125,
            "bin_start": 1124.9,
            "count": 0
           },
           {
            "bin_end": 1125.1,
            "bin_start": 1125,
            "count": 2
           },
           {
            "bin_end": 1125.2,
            "bin_start": 1125.1,
            "count": 0
           },
           {
            "bin_end": 1125.3,
            "bin_start": 1125.2,
            "count": 0
           },
           {
            "bin_end": 1125.4,
            "bin_start": 1125.3,
            "count": 0
           },
           {
            "bin_end": 1125.5,
            "bin_start": 1125.4,
            "count": 0
           }
          ],
          "max": "1125.0",
          "min": "1125.0",
          "nan_count": 0,
          "unique_count": 1
         }
        },
        {
         "dtype": "float64",
         "name": "minimum_nights_avg_ntm",
         "stats": {
          "histogram": [
           {
            "bin_end": 2.19,
            "bin_start": 2.1,
            "count": 1
           },
           {
            "bin_end": 2.2800000000000002,
            "bin_start": 2.19,
            "count": 0
           },
           {
            "bin_end": 2.37,
            "bin_start": 2.2800000000000002,
            "count": 0
           },
           {
            "bin_end": 2.46,
            "bin_start": 2.37,
            "count": 0
           },
           {
            "bin_end": 2.55,
            "bin_start": 2.46,
            "count": 0
           },
           {
            "bin_end": 2.64,
            "bin_start": 2.55,
            "count": 0
           },
           {
            "bin_end": 2.73,
            "bin_start": 2.64,
            "count": 0
           },
           {
            "bin_end": 2.8200000000000003,
            "bin_start": 2.73,
            "count": 0
           },
           {
            "bin_end": 2.91,
            "bin_start": 2.8200000000000003,
            "count": 0
           },
           {
            "bin_end": 3,
            "bin_start": 2.91,
            "count": 1
           }
          ],
          "max": "3.0",
          "min": "2.1",
          "nan_count": 0,
          "unique_count": 2
         }
        },
        {
         "dtype": "float64",
         "name": "maximum_nights_avg_ntm",
         "stats": {
          "histogram": [
           {
            "bin_end": 1124.6,
            "bin_start": 1124.5,
            "count": 0
           },
           {
            "bin_end": 1124.7,
            "bin_start": 1124.6,
            "count": 0
           },
           {
            "bin_end": 1124.8,
            "bin_start": 1124.7,
            "count": 0
           },
           {
            "bin_end": 1124.9,
            "bin_start": 1124.8,
            "count": 0
           },
           {
            "bin_end": 1125,
            "bin_start": 1124.9,
            "count": 0
           },
           {
            "bin_end": 1125.1,
            "bin_start": 1125,
            "count": 2
           },
           {
            "bin_end": 1125.2,
            "bin_start": 1125.1,
            "count": 0
           },
           {
            "bin_end": 1125.3,
            "bin_start": 1125.2,
            "count": 0
           },
           {
            "bin_end": 1125.4,
            "bin_start": 1125.3,
            "count": 0
           },
           {
            "bin_end": 1125.5,
            "bin_start": 1125.4,
            "count": 0
           }
          ],
          "max": "1125.0",
          "min": "1125.0",
          "nan_count": 0,
          "unique_count": 1
         }
        },
        {
         "dtype": "int64",
         "name": "has_availability",
         "stats": {
          "histogram": [
           {
            "bin_end": 0.6,
            "bin_start": 0.5,
            "count": 0
           },
           {
            "bin_end": 0.7,
            "bin_start": 0.6,
            "count": 0
           },
           {
            "bin_end": 0.8,
            "bin_start": 0.7,
            "count": 0
           },
           {
            "bin_end": 0.9,
            "bin_start": 0.8,
            "count": 0
           },
           {
            "bin_end": 1,
            "bin_start": 0.9,
            "count": 0
           },
           {
            "bin_end": 1.1,
            "bin_start": 1,
            "count": 2
           },
           {
            "bin_end": 1.2000000000000002,
            "bin_start": 1.1,
            "count": 0
           },
           {
            "bin_end": 1.3,
            "bin_start": 1.2000000000000002,
            "count": 0
           },
           {
            "bin_end": 1.4,
            "bin_start": 1.3,
            "count": 0
           },
           {
            "bin_end": 1.5,
            "bin_start": 1.4,
            "count": 0
           }
          ],
          "max": "1",
          "min": "1",
          "nan_count": 0,
          "unique_count": 1
         }
        },
        {
         "dtype": "int64",
         "name": "availability_30",
         "stats": {
          "histogram": [
           {
            "bin_end": 17.6,
            "bin_start": 17,
            "count": 1
           },
           {
            "bin_end": 18.2,
            "bin_start": 17.6,
            "count": 0
           },
           {
            "bin_end": 18.8,
            "bin_start": 18.2,
            "count": 0
           },
           {
            "bin_end": 19.4,
            "bin_start": 18.8,
            "count": 0
           },
           {
            "bin_end": 20,
            "bin_start": 19.4,
            "count": 0
           },
           {
            "bin_end": 20.6,
            "bin_start": 20,
            "count": 0
           },
           {
            "bin_end": 21.2,
            "bin_start": 20.6,
            "count": 0
           },
           {
            "bin_end": 21.8,
            "bin_start": 21.2,
            "count": 0
           },
           {
            "bin_end": 22.4,
            "bin_start": 21.8,
            "count": 0
           },
           {
            "bin_end": 23,
            "bin_start": 22.4,
            "count": 1
           }
          ],
          "max": "23",
          "min": "17",
          "nan_count": 0,
          "unique_count": 2
         }
        },
        {
         "dtype": "int64",
         "name": "availability_60",
         "stats": {
          "histogram": [
           {
            "bin_end": 36.8,
            "bin_start": 35,
            "count": 1
           },
           {
            "bin_end": 38.6,
            "bin_start": 36.8,
            "count": 0
           },
           {
            "bin_end": 40.4,
            "bin_start": 38.6,
            "count": 0
           },
           {
            "bin_end": 42.2,
            "bin_start": 40.4,
            "count": 0
           },
           {
            "bin_end": 44,
            "bin_start": 42.2,
            "count": 0
           },
           {
            "bin_end": 45.8,
            "bin_start": 44,
            "count": 0
           },
           {
            "bin_end": 47.6,
            "bin_start": 45.8,
            "count": 0
           },
           {
            "bin_end": 49.4,
            "bin_start": 47.6,
            "count": 0
           },
           {
            "bin_end": 51.2,
            "bin_start": 49.4,
            "count": 0
           },
           {
            "bin_end": 53,
            "bin_start": 51.2,
            "count": 1
           }
          ],
          "max": "53",
          "min": "35",
          "nan_count": 0,
          "unique_count": 2
         }
        },
        {
         "dtype": "int64",
         "name": "availability_90",
         "stats": {
          "histogram": [
           {
            "bin_end": 66.8,
            "bin_start": 65,
            "count": 1
           },
           {
            "bin_end": 68.6,
            "bin_start": 66.8,
            "count": 0
           },
           {
            "bin_end": 70.4,
            "bin_start": 68.6,
            "count": 0
           },
           {
            "bin_end": 72.2,
            "bin_start": 70.4,
            "count": 0
           },
           {
            "bin_end": 74,
            "bin_start": 72.2,
            "count": 0
           },
           {
            "bin_end": 75.8,
            "bin_start": 74,
            "count": 0
           },
           {
            "bin_end": 77.6,
            "bin_start": 75.8,
            "count": 0
           },
           {
            "bin_end": 79.4,
            "bin_start": 77.6,
            "count": 0
           },
           {
            "bin_end": 81.2,
            "bin_start": 79.4,
            "count": 0
           },
           {
            "bin_end": 83,
            "bin_start": 81.2,
            "count": 1
           }
          ],
          "max": "83",
          "min": "65",
          "nan_count": 0,
          "unique_count": 2
         }
        },
        {
         "dtype": "int64",
         "name": "availability_365",
         "stats": {
          "histogram": [
           {
            "bin_end": 330.2,
            "bin_start": 329,
            "count": 1
           },
           {
            "bin_end": 331.4,
            "bin_start": 330.2,
            "count": 0
           },
           {
            "bin_end": 332.6,
            "bin_start": 331.4,
            "count": 0
           },
           {
            "bin_end": 333.8,
            "bin_start": 332.6,
            "count": 0
           },
           {
            "bin_end": 335,
            "bin_start": 333.8,
            "count": 0
           },
           {
            "bin_end": 336.2,
            "bin_start": 335,
            "count": 0
           },
           {
            "bin_end": 337.4,
            "bin_start": 336.2,
            "count": 0
           },
           {
            "bin_end": 338.6,
            "bin_start": 337.4,
            "count": 0
           },
           {
            "bin_end": 339.8,
            "bin_start": 338.6,
            "count": 0
           },
           {
            "bin_end": 341,
            "bin_start": 339.8,
            "count": 1
           }
          ],
          "max": "341",
          "min": "329",
          "nan_count": 0,
          "unique_count": 2
         }
        },
        {
         "dtype": "int64",
         "name": "number_of_reviews",
         "stats": {
          "histogram": [
           {
            "bin_end": 18.9,
            "bin_start": 18,
            "count": 1
           },
           {
            "bin_end": 19.8,
            "bin_start": 18.9,
            "count": 0
           },
           {
            "bin_end": 20.7,
            "bin_start": 19.8,
            "count": 0
           },
           {
            "bin_end": 21.6,
            "bin_start": 20.7,
            "count": 0
           },
           {
            "bin_end": 22.5,
            "bin_start": 21.6,
            "count": 0
           },
           {
            "bin_end": 23.4,
            "bin_start": 22.5,
            "count": 0
           },
           {
            "bin_end": 24.3,
            "bin_start": 23.4,
            "count": 0
           },
           {
            "bin_end": 25.2,
            "bin_start": 24.3,
            "count": 0
           },
           {
            "bin_end": 26.1,
            "bin_start": 25.2,
            "count": 0
           },
           {
            "bin_end": 27,
            "bin_start": 26.1,
            "count": 1
           }
          ],
          "max": "27",
          "min": "18",
          "nan_count": 0,
          "unique_count": 2
         }
        },
        {
         "dtype": "int64",
         "name": "number_of_reviews_ltm",
         "stats": {
          "histogram": [
           {
            "bin_end": 9,
            "bin_start": 7,
            "count": 1
           },
           {
            "bin_end": 11,
            "bin_start": 9,
            "count": 0
           },
           {
            "bin_end": 13,
            "bin_start": 11,
            "count": 0
           },
           {
            "bin_end": 15,
            "bin_start": 13,
            "count": 0
           },
           {
            "bin_end": 17,
            "bin_start": 15,
            "count": 0
           },
           {
            "bin_end": 19,
            "bin_start": 17,
            "count": 0
           },
           {
            "bin_end": 21,
            "bin_start": 19,
            "count": 0
           },
           {
            "bin_end": 23,
            "bin_start": 21,
            "count": 0
           },
           {
            "bin_end": 25,
            "bin_start": 23,
            "count": 0
           },
           {
            "bin_end": 27,
            "bin_start": 25,
            "count": 1
           }
          ],
          "max": "27",
          "min": "7",
          "nan_count": 0,
          "unique_count": 2
         }
        },
        {
         "dtype": "int64",
         "name": "number_of_reviews_l30d",
         "stats": {
          "histogram": [
           {
            "bin_end": 1.2,
            "bin_start": 1,
            "count": 1
           },
           {
            "bin_end": 1.4,
            "bin_start": 1.2,
            "count": 0
           },
           {
            "bin_end": 1.6,
            "bin_start": 1.4,
            "count": 0
           },
           {
            "bin_end": 1.8,
            "bin_start": 1.6,
            "count": 0
           },
           {
            "bin_end": 2,
            "bin_start": 1.8,
            "count": 0
           },
           {
            "bin_end": 2.2,
            "bin_start": 2,
            "count": 0
           },
           {
            "bin_end": 2.4000000000000004,
            "bin_start": 2.2,
            "count": 0
           },
           {
            "bin_end": 2.6,
            "bin_start": 2.4000000000000004,
            "count": 0
           },
           {
            "bin_end": 2.8,
            "bin_start": 2.6,
            "count": 0
           },
           {
            "bin_end": 3,
            "bin_start": 2.8,
            "count": 1
           }
          ],
          "max": "3",
          "min": "1",
          "nan_count": 0,
          "unique_count": 2
         }
        },
        {
         "dtype": "datetime64[ns]",
         "name": "first_review",
         "stats": {
          "histogram": [
           {
            "bin_end": 1627361280000000000,
            "bin_start": 1624320000000000000,
            "count": 1
           },
           {
            "bin_end": 1630402560000000000,
            "bin_start": 1627361280000000000,
            "count": 0
           },
           {
            "bin_end": 1633443840000000000,
            "bin_start": 1630402560000000000,
            "count": 0
           },
           {
            "bin_end": 1636485120000000000,
            "bin_start": 1633443840000000000,
            "count": 0
           },
           {
            "bin_end": 1639526400000000000,
            "bin_start": 1636485120000000000,
            "count": 0
           },
           {
            "bin_end": 1642567680000000000,
            "bin_start": 1639526400000000000,
            "count": 0
           },
           {
            "bin_end": 1645608960000000000,
            "bin_start": 1642567680000000000,
            "count": 0
           },
           {
            "bin_end": 1648650240000000000,
            "bin_start": 1645608960000000000,
            "count": 0
           },
           {
            "bin_end": 1651691520000000000,
            "bin_start": 1648650240000000000,
            "count": 0
           },
           {
            "bin_end": 1654732800000000000,
            "bin_start": 1651691520000000000,
            "count": 1
           }
          ],
          "max": "2022-06-09 00:00:00",
          "min": "2021-06-22 00:00:00",
          "nan_count": 0,
          "unique_count": 2
         }
        },
        {
         "dtype": "datetime64[ns]",
         "name": "last_review",
         "stats": {
          "histogram": [
           {
            "bin_end": 1669800960000000000,
            "bin_start": 1669680000000000000,
            "count": 1
           },
           {
            "bin_end": 1669921920000000000,
            "bin_start": 1669800960000000000,
            "count": 0
           },
           {
            "bin_end": 1670042880000000000,
            "bin_start": 1669921920000000000,
            "count": 0
           },
           {
            "bin_end": 1670163840000000000,
            "bin_start": 1670042880000000000,
            "count": 0
           },
           {
            "bin_end": 1670284800000000000,
            "bin_start": 1670163840000000000,
            "count": 0
           },
           {
            "bin_end": 1670405760000000000,
            "bin_start": 1670284800000000000,
            "count": 0
           },
           {
            "bin_end": 1670526720000000000,
            "bin_start": 1670405760000000000,
            "count": 0
           },
           {
            "bin_end": 1670647680000000000,
            "bin_start": 1670526720000000000,
            "count": 0
           },
           {
            "bin_end": 1670768640000000000,
            "bin_start": 1670647680000000000,
            "count": 0
           },
           {
            "bin_end": 1670889600000000000,
            "bin_start": 1670768640000000000,
            "count": 1
           }
          ],
          "max": "2022-12-13 00:00:00",
          "min": "2022-11-29 00:00:00",
          "nan_count": 0,
          "unique_count": 2
         }
        },
        {
         "dtype": "float64",
         "name": "review_scores_rating",
         "stats": {
          "histogram": [
           {
            "bin_end": 4.836,
            "bin_start": 4.83,
            "count": 1
           },
           {
            "bin_end": 4.842,
            "bin_start": 4.836,
            "count": 0
           },
           {
            "bin_end": 4.848,
            "bin_start": 4.842,
            "count": 0
           },
           {
            "bin_end": 4.854,
            "bin_start": 4.848,
            "count": 0
           },
           {
            "bin_end": 4.859999999999999,
            "bin_start": 4.854,
            "count": 0
           },
           {
            "bin_end": 4.866,
            "bin_start": 4.859999999999999,
            "count": 0
           },
           {
            "bin_end": 4.872,
            "bin_start": 4.866,
            "count": 0
           },
           {
            "bin_end": 4.878,
            "bin_start": 4.872,
            "count": 0
           },
           {
            "bin_end": 4.8839999999999995,
            "bin_start": 4.878,
            "count": 0
           },
           {
            "bin_end": 4.89,
            "bin_start": 4.8839999999999995,
            "count": 1
           }
          ],
          "max": "4.89",
          "min": "4.83",
          "nan_count": 0,
          "unique_count": 2
         }
        },
        {
         "dtype": "float64",
         "name": "review_scores_accuracy",
         "stats": {
          "histogram": [
           {
            "bin_end": 4.896999999999999,
            "bin_start": 4.89,
            "count": 1
           },
           {
            "bin_end": 4.904,
            "bin_start": 4.896999999999999,
            "count": 0
           },
           {
            "bin_end": 4.911,
            "bin_start": 4.904,
            "count": 0
           },
           {
            "bin_end": 4.918,
            "bin_start": 4.911,
            "count": 0
           },
           {
            "bin_end": 4.925,
            "bin_start": 4.918,
            "count": 0
           },
           {
            "bin_end": 4.9319999999999995,
            "bin_start": 4.925,
            "count": 0
           },
           {
            "bin_end": 4.939,
            "bin_start": 4.9319999999999995,
            "count": 0
           },
           {
            "bin_end": 4.946,
            "bin_start": 4.939,
            "count": 0
           },
           {
            "bin_end": 4.953,
            "bin_start": 4.946,
            "count": 0
           },
           {
            "bin_end": 4.96,
            "bin_start": 4.953,
            "count": 1
           }
          ],
          "max": "4.96",
          "min": "4.89",
          "nan_count": 0,
          "unique_count": 2
         }
        },
        {
         "dtype": "float64",
         "name": "review_scores_cleanliness",
         "stats": {
          "histogram": [
           {
            "bin_end": 4.895,
            "bin_start": 4.89,
            "count": 1
           },
           {
            "bin_end": 4.8999999999999995,
            "bin_start": 4.895,
            "count": 0
           },
           {
            "bin_end": 4.905,
            "bin_start": 4.8999999999999995,
            "count": 0
           },
           {
            "bin_end": 4.91,
            "bin_start": 4.905,
            "count": 0
           },
           {
            "bin_end": 4.915,
            "bin_start": 4.91,
            "count": 0
           },
           {
            "bin_end": 4.92,
            "bin_start": 4.915,
            "count": 0
           },
           {
            "bin_end": 4.925,
            "bin_start": 4.92,
            "count": 0
           },
           {
            "bin_end": 4.930000000000001,
            "bin_start": 4.925,
            "count": 0
           },
           {
            "bin_end": 4.9350000000000005,
            "bin_start": 4.930000000000001,
            "count": 0
           },
           {
            "bin_end": 4.94,
            "bin_start": 4.9350000000000005,
            "count": 1
           }
          ],
          "max": "4.94",
          "min": "4.89",
          "nan_count": 0,
          "unique_count": 2
         }
        },
        {
         "dtype": "float64",
         "name": "review_scores_checkin",
         "stats": {
          "histogram": [
           {
            "bin_end": 4.894,
            "bin_start": 4.89,
            "count": 1
           },
           {
            "bin_end": 4.898,
            "bin_start": 4.894,
            "count": 0
           },
           {
            "bin_end": 4.901999999999999,
            "bin_start": 4.898,
            "count": 0
           },
           {
            "bin_end": 4.906,
            "bin_start": 4.901999999999999,
            "count": 0
           },
           {
            "bin_end": 4.91,
            "bin_start": 4.906,
            "count": 0
           },
           {
            "bin_end": 4.914,
            "bin_start": 4.91,
            "count": 0
           },
           {
            "bin_end": 4.917999999999999,
            "bin_start": 4.914,
            "count": 0
           },
           {
            "bin_end": 4.922,
            "bin_start": 4.917999999999999,
            "count": 0
           },
           {
            "bin_end": 4.926,
            "bin_start": 4.922,
            "count": 0
           },
           {
            "bin_end": 4.93,
            "bin_start": 4.926,
            "count": 1
           }
          ],
          "max": "4.93",
          "min": "4.89",
          "nan_count": 0,
          "unique_count": 2
         }
        },
        {
         "dtype": "float64",
         "name": "review_scores_communication",
         "stats": {
          "histogram": [
           {
            "bin_end": 4.896999999999999,
            "bin_start": 4.89,
            "count": 1
           },
           {
            "bin_end": 4.904,
            "bin_start": 4.896999999999999,
            "count": 0
           },
           {
            "bin_end": 4.911,
            "bin_start": 4.904,
            "count": 0
           },
           {
            "bin_end": 4.918,
            "bin_start": 4.911,
            "count": 0
           },
           {
            "bin_end": 4.925,
            "bin_start": 4.918,
            "count": 0
           },
           {
            "bin_end": 4.9319999999999995,
            "bin_start": 4.925,
            "count": 0
           },
           {
            "bin_end": 4.939,
            "bin_start": 4.9319999999999995,
            "count": 0
           },
           {
            "bin_end": 4.946,
            "bin_start": 4.939,
            "count": 0
           },
           {
            "bin_end": 4.953,
            "bin_start": 4.946,
            "count": 0
           },
           {
            "bin_end": 4.96,
            "bin_start": 4.953,
            "count": 1
           }
          ],
          "max": "4.96",
          "min": "4.89",
          "nan_count": 0,
          "unique_count": 2
         }
        },
        {
         "dtype": "float64",
         "name": "review_scores_location",
         "stats": {
          "histogram": [
           {
            "bin_end": 4.642,
            "bin_start": 4.61,
            "count": 1
           },
           {
            "bin_end": 4.674,
            "bin_start": 4.642,
            "count": 0
           },
           {
            "bin_end": 4.706,
            "bin_start": 4.674,
            "count": 0
           },
           {
            "bin_end": 4.738,
            "bin_start": 4.706,
            "count": 0
           },
           {
            "bin_end": 4.77,
            "bin_start": 4.738,
            "count": 0
           },
           {
            "bin_end": 4.802,
            "bin_start": 4.77,
            "count": 0
           },
           {
            "bin_end": 4.834,
            "bin_start": 4.802,
            "count": 0
           },
           {
            "bin_end": 4.866,
            "bin_start": 4.834,
            "count": 0
           },
           {
            "bin_end": 4.898,
            "bin_start": 4.866,
            "count": 0
           },
           {
            "bin_end": 4.93,
            "bin_start": 4.898,
            "count": 1
           }
          ],
          "max": "4.93",
          "min": "4.61",
          "nan_count": 0,
          "unique_count": 2
         }
        },
        {
         "dtype": "float64",
         "name": "review_scores_value",
         "stats": {
          "histogram": [
           {
            "bin_end": 4.741,
            "bin_start": 4.72,
            "count": 1
           },
           {
            "bin_end": 4.762,
            "bin_start": 4.741,
            "count": 0
           },
           {
            "bin_end": 4.7829999999999995,
            "bin_start": 4.762,
            "count": 0
           },
           {
            "bin_end": 4.803999999999999,
            "bin_start": 4.7829999999999995,
            "count": 0
           },
           {
            "bin_end": 4.824999999999999,
            "bin_start": 4.803999999999999,
            "count": 0
           },
           {
            "bin_end": 4.846,
            "bin_start": 4.824999999999999,
            "count": 0
           },
           {
            "bin_end": 4.867,
            "bin_start": 4.846,
            "count": 0
           },
           {
            "bin_end": 4.888,
            "bin_start": 4.867,
            "count": 0
           },
           {
            "bin_end": 4.909,
            "bin_start": 4.888,
            "count": 0
           },
           {
            "bin_end": 4.93,
            "bin_start": 4.909,
            "count": 1
           }
          ],
          "max": "4.93",
          "min": "4.72",
          "nan_count": 0,
          "unique_count": 2
         }
        },
        {
         "dtype": "int64",
         "name": "has_license",
         "stats": {
          "histogram": [
           {
            "bin_end": 0.6,
            "bin_start": 0.5,
            "count": 0
           },
           {
            "bin_end": 0.7,
            "bin_start": 0.6,
            "count": 0
           },
           {
            "bin_end": 0.8,
            "bin_start": 0.7,
            "count": 0
           },
           {
            "bin_end": 0.9,
            "bin_start": 0.8,
            "count": 0
           },
           {
            "bin_end": 1,
            "bin_start": 0.9,
            "count": 0
           },
           {
            "bin_end": 1.1,
            "bin_start": 1,
            "count": 2
           },
           {
            "bin_end": 1.2000000000000002,
            "bin_start": 1.1,
            "count": 0
           },
           {
            "bin_end": 1.3,
            "bin_start": 1.2000000000000002,
            "count": 0
           },
           {
            "bin_end": 1.4,
            "bin_start": 1.3,
            "count": 0
           },
           {
            "bin_end": 1.5,
            "bin_start": 1.4,
            "count": 0
           }
          ],
          "max": "1",
          "min": "1",
          "nan_count": 0,
          "unique_count": 1
         }
        },
        {
         "dtype": "int64",
         "name": "instant_bookable",
         "stats": {
          "histogram": [
           {
            "bin_end": 0.1,
            "bin_start": 0,
            "count": 1
           },
           {
            "bin_end": 0.2,
            "bin_start": 0.1,
            "count": 0
           },
           {
            "bin_end": 0.30000000000000004,
            "bin_start": 0.2,
            "count": 0
           },
           {
            "bin_end": 0.4,
            "bin_start": 0.30000000000000004,
            "count": 0
           },
           {
            "bin_end": 0.5,
            "bin_start": 0.4,
            "count": 0
           },
           {
            "bin_end": 0.6000000000000001,
            "bin_start": 0.5,
            "count": 0
           },
           {
            "bin_end": 0.7000000000000001,
            "bin_start": 0.6000000000000001,
            "count": 0
           },
           {
            "bin_end": 0.8,
            "bin_start": 0.7000000000000001,
            "count": 0
           },
           {
            "bin_end": 0.9,
            "bin_start": 0.8,
            "count": 0
           },
           {
            "bin_end": 1,
            "bin_start": 0.9,
            "count": 1
           }
          ],
          "max": "1",
          "min": "0",
          "nan_count": 0,
          "unique_count": 2
         }
        },
        {
         "dtype": "int64",
         "name": "calculated_host_listings_count",
         "stats": {
          "histogram": [
           {
            "bin_end": 1.1,
            "bin_start": 1,
            "count": 1
           },
           {
            "bin_end": 1.2,
            "bin_start": 1.1,
            "count": 0
           },
           {
            "bin_end": 1.3,
            "bin_start": 1.2,
            "count": 0
           },
           {
            "bin_end": 1.4,
            "bin_start": 1.3,
            "count": 0
           },
           {
            "bin_end": 1.5,
            "bin_start": 1.4,
            "count": 0
           },
           {
            "bin_end": 1.6,
            "bin_start": 1.5,
            "count": 0
           },
           {
            "bin_end": 1.7000000000000002,
            "bin_start": 1.6,
            "count": 0
           },
           {
            "bin_end": 1.8,
            "bin_start": 1.7000000000000002,
            "count": 0
           },
           {
            "bin_end": 1.9,
            "bin_start": 1.8,
            "count": 0
           },
           {
            "bin_end": 2,
            "bin_start": 1.9,
            "count": 1
           }
          ],
          "max": "2",
          "min": "1",
          "nan_count": 0,
          "unique_count": 2
         }
        },
        {
         "dtype": "int64",
         "name": "calculated_host_listings_count_entire_homes",
         "stats": {
          "histogram": [
           {
            "bin_end": 1.1,
            "bin_start": 1,
            "count": 1
           },
           {
            "bin_end": 1.2,
            "bin_start": 1.1,
            "count": 0
           },
           {
            "bin_end": 1.3,
            "bin_start": 1.2,
            "count": 0
           },
           {
            "bin_end": 1.4,
            "bin_start": 1.3,
            "count": 0
           },
           {
            "bin_end": 1.5,
            "bin_start": 1.4,
            "count": 0
           },
           {
            "bin_end": 1.6,
            "bin_start": 1.5,
            "count": 0
           },
           {
            "bin_end": 1.7000000000000002,
            "bin_start": 1.6,
            "count": 0
           },
           {
            "bin_end": 1.8,
            "bin_start": 1.7000000000000002,
            "count": 0
           },
           {
            "bin_end": 1.9,
            "bin_start": 1.8,
            "count": 0
           },
           {
            "bin_end": 2,
            "bin_start": 1.9,
            "count": 1
           }
          ],
          "max": "2",
          "min": "1",
          "nan_count": 0,
          "unique_count": 2
         }
        },
        {
         "dtype": "int64",
         "name": "calculated_host_listings_count_private_rooms",
         "stats": {
          "histogram": [
           {
            "bin_end": -0.4,
            "bin_start": -0.5,
            "count": 0
           },
           {
            "bin_end": -0.3,
            "bin_start": -0.4,
            "count": 0
           },
           {
            "bin_end": -0.19999999999999996,
            "bin_start": -0.3,
            "count": 0
           },
           {
            "bin_end": -0.09999999999999998,
            "bin_start": -0.19999999999999996,
            "count": 0
           },
           {
            "bin_end": 0,
            "bin_start": -0.09999999999999998,
            "count": 0
           },
           {
            "bin_end": 0.10000000000000009,
            "bin_start": 0,
            "count": 2
           },
           {
            "bin_end": 0.20000000000000007,
            "bin_start": 0.10000000000000009,
            "count": 0
           },
           {
            "bin_end": 0.30000000000000004,
            "bin_start": 0.20000000000000007,
            "count": 0
           },
           {
            "bin_end": 0.4,
            "bin_start": 0.30000000000000004,
            "count": 0
           },
           {
            "bin_end": 0.5,
            "bin_start": 0.4,
            "count": 0
           }
          ],
          "max": "0",
          "min": "0",
          "nan_count": 0,
          "unique_count": 1
         }
        },
        {
         "dtype": "int64",
         "name": "calculated_host_listings_count_shared_rooms",
         "stats": {
          "histogram": [
           {
            "bin_end": -0.4,
            "bin_start": -0.5,
            "count": 0
           },
           {
            "bin_end": -0.3,
            "bin_start": -0.4,
            "count": 0
           },
           {
            "bin_end": -0.19999999999999996,
            "bin_start": -0.3,
            "count": 0
           },
           {
            "bin_end": -0.09999999999999998,
            "bin_start": -0.19999999999999996,
            "count": 0
           },
           {
            "bin_end": 0,
            "bin_start": -0.09999999999999998,
            "count": 0
           },
           {
            "bin_end": 0.10000000000000009,
            "bin_start": 0,
            "count": 2
           },
           {
            "bin_end": 0.20000000000000007,
            "bin_start": 0.10000000000000009,
            "count": 0
           },
           {
            "bin_end": 0.30000000000000004,
            "bin_start": 0.20000000000000007,
            "count": 0
           },
           {
            "bin_end": 0.4,
            "bin_start": 0.30000000000000004,
            "count": 0
           },
           {
            "bin_end": 0.5,
            "bin_start": 0.4,
            "count": 0
           }
          ],
          "max": "0",
          "min": "0",
          "nan_count": 0,
          "unique_count": 1
         }
        },
        {
         "dtype": "float64",
         "name": "reviews_per_month",
         "stats": {
          "histogram": [
           {
            "bin_end": 1.2890000000000001,
            "bin_start": 0.98,
            "count": 1
           },
           {
            "bin_end": 1.598,
            "bin_start": 1.2890000000000001,
            "count": 0
           },
           {
            "bin_end": 1.907,
            "bin_start": 1.598,
            "count": 0
           },
           {
            "bin_end": 2.216,
            "bin_start": 1.907,
            "count": 0
           },
           {
            "bin_end": 2.5250000000000004,
            "bin_start": 2.216,
            "count": 0
           },
           {
            "bin_end": 2.8340000000000005,
            "bin_start": 2.5250000000000004,
            "count": 0
           },
           {
            "bin_end": 3.1430000000000002,
            "bin_start": 2.8340000000000005,
            "count": 0
           },
           {
            "bin_end": 3.4520000000000004,
            "bin_start": 3.1430000000000002,
            "count": 0
           },
           {
            "bin_end": 3.7610000000000006,
            "bin_start": 3.4520000000000004,
            "count": 0
           },
           {
            "bin_end": 4.07,
            "bin_start": 3.7610000000000006,
            "count": 1
           }
          ],
          "max": "4.07",
          "min": "0.98",
          "nan_count": 0,
          "unique_count": 2
         }
        },
        {
         "dtype": "float64",
         "name": "bathrooms_count",
         "stats": {
          "histogram": [
           {
            "bin_end": 1.6,
            "bin_start": 1.5,
            "count": 0
           },
           {
            "bin_end": 1.7,
            "bin_start": 1.6,
            "count": 0
           },
           {
            "bin_end": 1.8,
            "bin_start": 1.7,
            "count": 0
           },
           {
            "bin_end": 1.9,
            "bin_start": 1.8,
            "count": 0
           },
           {
            "bin_end": 2,
            "bin_start": 1.9,
            "count": 0
           },
           {
            "bin_end": 2.1,
            "bin_start": 2,
            "count": 2
           },
           {
            "bin_end": 2.2,
            "bin_start": 2.1,
            "count": 0
           },
           {
            "bin_end": 2.3,
            "bin_start": 2.2,
            "count": 0
           },
           {
            "bin_end": 2.4,
            "bin_start": 2.3,
            "count": 0
           },
           {
            "bin_end": 2.5,
            "bin_start": 2.4,
            "count": 0
           }
          ],
          "max": "2.0",
          "min": "2.0",
          "nan_count": 0,
          "unique_count": 1
         }
        },
        {
         "dtype": "int64",
         "name": "amenities_count",
         "stats": {
          "histogram": [
           {
            "bin_end": 53.2,
            "bin_start": 53,
            "count": 1
           },
           {
            "bin_end": 53.4,
            "bin_start": 53.2,
            "count": 0
           },
           {
            "bin_end": 53.6,
            "bin_start": 53.4,
            "count": 0
           },
           {
            "bin_end": 53.8,
            "bin_start": 53.6,
            "count": 0
           },
           {
            "bin_end": 54,
            "bin_start": 53.8,
            "count": 0
           },
           {
            "bin_end": 54.2,
            "bin_start": 54,
            "count": 0
           },
           {
            "bin_end": 54.4,
            "bin_start": 54.2,
            "count": 0
           },
           {
            "bin_end": 54.6,
            "bin_start": 54.4,
            "count": 0
           },
           {
            "bin_end": 54.8,
            "bin_start": 54.6,
            "count": 0
           },
           {
            "bin_end": 55,
            "bin_start": 54.8,
            "count": 1
           }
          ],
          "max": "55",
          "min": "53",
          "nan_count": 0,
          "unique_count": 2
         }
        },
        {
         "dtype": "int64",
         "name": "host_response_time_encoded",
         "stats": {
          "histogram": [
           {
            "bin_end": 0.6,
            "bin_start": 0.5,
            "count": 0
           },
           {
            "bin_end": 0.7,
            "bin_start": 0.6,
            "count": 0
           },
           {
            "bin_end": 0.8,
            "bin_start": 0.7,
            "count": 0
           },
           {
            "bin_end": 0.9,
            "bin_start": 0.8,
            "count": 0
           },
           {
            "bin_end": 1,
            "bin_start": 0.9,
            "count": 0
           },
           {
            "bin_end": 1.1,
            "bin_start": 1,
            "count": 2
           },
           {
            "bin_end": 1.2000000000000002,
            "bin_start": 1.1,
            "count": 0
           },
           {
            "bin_end": 1.3,
            "bin_start": 1.2000000000000002,
            "count": 0
           },
           {
            "bin_end": 1.4,
            "bin_start": 1.3,
            "count": 0
           },
           {
            "bin_end": 1.5,
            "bin_start": 1.4,
            "count": 0
           }
          ],
          "max": "1",
          "min": "1",
          "nan_count": 0,
          "unique_count": 1
         }
        },
        {
         "dtype": "int64",
         "name": "host_operate_years",
         "stats": {
          "histogram": [
           {
            "bin_end": 4.6,
            "bin_start": 4,
            "count": 1
           },
           {
            "bin_end": 5.2,
            "bin_start": 4.6,
            "count": 0
           },
           {
            "bin_end": 5.8,
            "bin_start": 5.2,
            "count": 0
           },
           {
            "bin_end": 6.4,
            "bin_start": 5.8,
            "count": 0
           },
           {
            "bin_end": 7,
            "bin_start": 6.4,
            "count": 0
           },
           {
            "bin_end": 7.6,
            "bin_start": 7,
            "count": 0
           },
           {
            "bin_end": 8.2,
            "bin_start": 7.6,
            "count": 0
           },
           {
            "bin_end": 8.8,
            "bin_start": 8.2,
            "count": 0
           },
           {
            "bin_end": 9.399999999999999,
            "bin_start": 8.8,
            "count": 0
           },
           {
            "bin_end": 10,
            "bin_start": 9.399999999999999,
            "count": 1
           }
          ],
          "max": "10",
          "min": "4",
          "nan_count": 0,
          "unique_count": 2
         }
        },
        {
         "dtype": "int64",
         "name": "_deepnote_index_column"
        }
       ],
       "row_count": 2,
       "rows": [
        {
         "_deepnote_index_column": "0",
         "accommodates": "8",
         "amenities": "[\"Hot water\", \"Dining table\", \"Toaster\", \"Refrigerator\", \"Bathtub\", \"Dishwasher\", \"Coffee maker: drip coffee maker\", \"Room-darkening shades\", \"Private entrance\", \"Dishes and silverware\", \"Washer\", \"Kitchen\", \"TV\", \"Body soap\", \"Indoor fireplace\", \"Private patio or balcony\", \"Free street parking\", \"Iron\", \"Hair dryer\", \"Microwave\", \"Cooking basics\", \"Oven\", \"Private backyard \\u2013 Fully fenced\", \"Pack \\u2019n play/Travel crib\", \"Keypad\", \"Stove\", \"Smoke alarm\", \"Dryer\", \"Essentials\", \"Wine glasses\", \"Self check-in\", \"Cleaning products\", \"Fire extinguisher\", \"High chair\", \"Heating\", \"Outdoor furniture\", \"Long term stays allowed\", \"Wifi\", \"Air conditioning\", \"Outdoor dining area\", \"BBQ grill\", \"First aid kit\", \"Hangers\", \"Extra pillows and blankets\", \"Shampoo\", \"Security cameras on property\", \"Carbon monoxide alarm\", \"Fire pit\", \"Dedicated workspace\", \"Lake view\", \"Bed linens\", \"Park view\", \"Free parking on premises\"]",
         "amenities_count": "53",
         "availability_30": "23",
         "availability_365": "341",
         "availability_60": "53",
         "availability_90": "83",
         "bathrooms_count": "2.0",
         "bedrooms": "4.0",
         "beds": "4.0",
         "calculated_host_listings_count": "1",
         "calculated_host_listings_count_entire_homes": "1",
         "calculated_host_listings_count_private_rooms": "0",
         "calculated_host_listings_count_shared_rooms": "0",
         "description": "A Seattle vacation destination for those from out of town or a Staycation for those who live close by. We welcome you to this partial lake view gated family friendly home with 4 bedrooms, 2 bathrooms. A beautiful & serene creek flows through the front of the home. There is a fully functioning kitchen with appliances & utensils.  & laundry room. Only a few mins walk to Lakeridge playfield just behind the house! 15 min drive to SeaTac International Airport and 25 min drive to downtown Seattle.<br /><br /><b>The space</b><br />Smart lock for easy check in and Xfinity Home Security Alarm for your protection and peace of mind. There are a few steps leading into the home. There is one security camera at the house facing the front entrance and driveway. The front driveway can fit 6 cars.<br /><br />Bed Arrangements: <br /><br />Lower levels: 2 bedrooms, 1 bathroom<br />Room #1: One Queen bed (sleeps 2)<br />Room #4: One Queen bed (sleeps 2)<br /><br />Upper level: 2 bedrooms, 1 bathroom<br />",
         "first_review": "2021-06-22 00:00:00",
         "has_availability": "1",
         "has_license": "1",
         "host_about": " ",
         "host_acceptance_rate": "1.0",
         "host_has_profile_pic": "1",
         "host_id": "188538325",
         "host_identity_verified": "1",
         "host_is_superhost": "1",
         "host_listings_count": "4",
         "host_location": "Seattle, WA",
         "host_name": "Xiao",
         "host_neighbourhood": "Oakland",
         "host_operate_years": "4",
         "host_picture_url": "https://a0.muscache.com/im/pictures/user/32fd3116-b515-46d9-8048-d5773e1bac5a.jpg?aki_policy=profile_x_medium",
         "host_response_rate": "1.0",
         "host_response_time": "within an hour",
         "host_response_time_encoded": "1",
         "host_since": "2018-05-08 00:00:00",
         "host_total_listings_count": "4",
         "host_url": "https://www.airbnb.com/users/show/188538325",
         "host_verifications": "['email', 'phone']",
         "instant_bookable": "0",
         "last_review": "2022-11-29 00:00:00",
         "last_scraped": "2022-12-24 00:00:00",
         "latitude": "47.51028",
         "listing_id": "49113826",
         "listing_name": "Private Seattle Getaway Home Near Lake Washington!",
         "listing_url": "https://www.airbnb.com/rooms/49113826",
         "longitude": "-122.24668",
         "maximum_maximum_nights": "1125.0",
         "maximum_minimum_nights": "3.0",
         "maximum_nights": "30",
         "maximum_nights_avg_ntm": "1125.0",
         "minimum_maximum_nights": "1125.0",
         "minimum_minimum_nights": "3.0",
         "minimum_nights": "3",
         "minimum_nights_avg_ntm": "3.0",
         "neighborhood_overview": "SeaTac International Airport: 14 min drive<br /><br />Grocery Stores nearby:<br />- Safeway & Rite Aid: 5 min drive<br />- Walgreens: 6 min drive<br />- Walmart & Fred Meyer: 9 min drive<br />- Uwajimaya: 10 min drive<br /><br />Dining nearby:<br />- Pizzeria Pulcinella: 2 min walk<br />- Stonehouse Cafe: 10 min walk<br />- The Landing (popular outdoor retail & restaurant area): 10 min drive<br /><br />Activities nearby:<br />- Lakeridge Playground: 2 min walk<br />- Downtown Renton: 10 min drive<br />- Southcenter Mall (large shopping mall): 14 min drive<br />- Round 1 (arcade, bowling, pool) inside Southcenter: 14 min drive<br />- iFly (mock sky diving): 15 min drive<br />- Downtown Seattle & Pike Place Market: 25 min drive",
         "neighbourhood_cleansed": "Rainier View",
         "neighbourhood_group_cleansed": "Rainier Valley",
         "number_of_reviews": "18",
         "number_of_reviews_l30d": "1",
         "number_of_reviews_ltm": "7",
         "picture_url": "https://a0.muscache.com/pictures/miso/Hosting-49113826/original/29c08a31-b625-4e8f-bbc6-93e7994fef05.jpeg",
         "price": "280.0",
         "property_type": "Entire home",
         "review_scores_accuracy": "4.89",
         "review_scores_checkin": "4.89",
         "review_scores_cleanliness": "4.94",
         "review_scores_communication": "4.89",
         "review_scores_location": "4.61",
         "review_scores_rating": "4.83",
         "review_scores_value": "4.72",
         "reviews_per_month": "0.98",
         "room_type": "Entire home/apt"
        },
        {
         "_deepnote_index_column": "1",
         "accommodates": "6",
         "amenities": "[\"Hot water\", \"Crib - available upon request\", \"Dining table\", \"Toaster\", \"Refrigerator\", \"Bathtub\", \"Dishwasher\", \"Hot water kettle\", \"Room-darkening shades\", \"Private entrance\", \"Dishes and silverware\", \"Conditioner\", \"Kitchen\", \"Body soap\", \"Private patio or balcony\", \"Free street parking\", \"Google Nest sound system\", \"Iron\", \"Hair dryer\", \"Microwave\", \"Cooking basics\", \"Oven\", \"Shared backyard \\u2013 Not fully fenced\", \"Pets allowed\", \"Keypad\", \"Free dryer \\u2013 In unit\", \"Stove\", \"Smoke alarm\", \"Wine glasses\", \"Essentials\", \"Pack \\u2019n play/Travel crib - available upon request\", \"Self check-in\", \"Cleaning products\", \"AC - split type ductless system\", \"Fire extinguisher\", \"Long term stays allowed\", \"Outdoor furniture\", \"Wifi\", \"Coffee\", \"Single level home\", \"Outdoor dining area\", \"Coffee maker: french press\", \"First aid kit\", \"65\\\" HDTV with standard cable\", \"Hangers\", \"Freezer\", \"Free washer \\u2013 In unit\", \"Extra pillows and blankets\", \"Shampoo\", \"Carbon monoxide alarm\", \"He…",
         "amenities_count": "55",
         "availability_30": "17",
         "availability_365": "329",
         "availability_60": "35",
         "availability_90": "65",
         "bathrooms_count": "2.0",
         "bedrooms": "3.0",
         "beds": "3.0",
         "calculated_host_listings_count": "2",
         "calculated_host_listings_count_entire_homes": "2",
         "calculated_host_listings_count_private_rooms": "0",
         "calculated_host_listings_count_shared_rooms": "0",
         "description": "Enjoy your Seattle stay in the vibrant & artistic Georgetown neighborhood! Georgetown is truly one of the last artsy, funky neighborhoods left in Seattle - you will be a five minute walk from the many restaurants, bars, wine tasting rooms & more in the \"downtown\" Georgetown neighborhood. It's also kid friendly as you will see many families out and pushing strollers around.<br /><br />The neighborhood is located a few miles south of the downtown Seattle core.<br /><br /><b>The space</b><br />This is the top unit of a completely remodeled craftsman (if bottom unit is available you can rent the whole house and have 6 beds & 4 baths!)<br /><br />This unit has the classic craftsman feel, but it has been completely remodeled with some modern touches!<br /><br /><b>Guest access</b><br />Obviously you have access to the entire unit - there is a lower unit of the house that may be rented too, so you will need to be respectful of other guests. The front yard and side yards are also yours to enjo",
         "first_review": "2022-06-09 00:00:00",
         "has_availability": "1",
         "has_license": "1",
         "host_about": " ",
         "host_acceptance_rate": "1.0",
         "host_has_profile_pic": "1",
         "host_id": "2144954",
         "host_identity_verified": "0",
         "host_is_superhost": "0",
         "host_listings_count": "2",
         "host_location": "Seattle, WA",
         "host_name": "Ryan",
         "host_neighbourhood": "Greater Duwamish",
         "host_operate_years": "10",
         "host_picture_url": "https://a0.muscache.com/im/pictures/user/a671129c-f502-4968-85ef-7ef088d81ab3.jpg?aki_policy=profile_x_medium",
         "host_response_rate": "1.0",
         "host_response_time": "within an hour",
         "host_response_time_encoded": "1",
         "host_since": "2012-04-15 00:00:00",
         "host_total_listings_count": "2",
         "host_url": "https://www.airbnb.com/users/show/2144954",
         "host_verifications": "['email', 'phone', 'work_email']",
         "instant_bookable": "1",
         "last_review": "2022-12-13 00:00:00",
         "last_scraped": "2022-12-24 00:00:00",
         "latitude": "47.544739",
         "listing_id": "7455832",
         "listing_name": "Classic remodeled in Georgetown",
         "listing_url": "https://www.airbnb.com/rooms/7455832",
         "longitude": "-122.319786",
         "maximum_maximum_nights": "1125.0",
         "maximum_minimum_nights": "3.0",
         "maximum_nights": "150",
         "maximum_nights_avg_ntm": "1125.0",
         "minimum_maximum_nights": "1125.0",
         "minimum_minimum_nights": "2.0",
         "minimum_nights": "1",
         "minimum_nights_avg_ntm": "2.1",
         "neighborhood_overview": "Georgetown is a cool neighborhood about three miles south of Seattle. Formerly an industrial area filled with warehouses, Georgetown has gone from shabby to chic, from industrial to artsy. Today, the neighborhood is a great place to find trendy restaurants, breweries, and art galleries.",
         "neighbourhood_cleansed": "Georgetown",
         "neighbourhood_group_cleansed": "Other neighborhoods",
         "number_of_reviews": "27",
         "number_of_reviews_l30d": "3",
         "number_of_reviews_ltm": "27",
         "picture_url": "https://a0.muscache.com/pictures/miso/Hosting-7455832/original/87dcaee3-d543-440c-8cf0-19ac171d7200.jpeg",
         "price": "156.0",
         "property_type": "Entire home",
         "review_scores_accuracy": "4.96",
         "review_scores_checkin": "4.93",
         "review_scores_cleanliness": "4.89",
         "review_scores_communication": "4.96",
         "review_scores_location": "4.93",
         "review_scores_rating": "4.89",
         "review_scores_value": "4.93",
         "reviews_per_month": "4.07",
         "room_type": "Entire home/apt"
        }
       ]
      },
      "text/html": [
       "<div>\n",
       "<style scoped>\n",
       "    .dataframe tbody tr th:only-of-type {\n",
       "        vertical-align: middle;\n",
       "    }\n",
       "\n",
       "    .dataframe tbody tr th {\n",
       "        vertical-align: top;\n",
       "    }\n",
       "\n",
       "    .dataframe thead th {\n",
       "        text-align: right;\n",
       "    }\n",
       "</style>\n",
       "<table border=\"1\" class=\"dataframe\">\n",
       "  <thead>\n",
       "    <tr style=\"text-align: right;\">\n",
       "      <th></th>\n",
       "      <th>listing_id</th>\n",
       "      <th>listing_url</th>\n",
       "      <th>last_scraped</th>\n",
       "      <th>listing_name</th>\n",
       "      <th>description</th>\n",
       "      <th>neighborhood_overview</th>\n",
       "      <th>picture_url</th>\n",
       "      <th>host_id</th>\n",
       "      <th>host_url</th>\n",
       "      <th>host_name</th>\n",
       "      <th>host_since</th>\n",
       "      <th>host_location</th>\n",
       "      <th>host_about</th>\n",
       "      <th>host_response_time</th>\n",
       "      <th>host_response_rate</th>\n",
       "      <th>host_acceptance_rate</th>\n",
       "      <th>host_is_superhost</th>\n",
       "      <th>host_picture_url</th>\n",
       "      <th>host_neighbourhood</th>\n",
       "      <th>host_listings_count</th>\n",
       "      <th>host_total_listings_count</th>\n",
       "      <th>host_verifications</th>\n",
       "      <th>host_has_profile_pic</th>\n",
       "      <th>host_identity_verified</th>\n",
       "      <th>neighbourhood_cleansed</th>\n",
       "      <th>neighbourhood_group_cleansed</th>\n",
       "      <th>latitude</th>\n",
       "      <th>longitude</th>\n",
       "      <th>property_type</th>\n",
       "      <th>room_type</th>\n",
       "      <th>accommodates</th>\n",
       "      <th>bedrooms</th>\n",
       "      <th>beds</th>\n",
       "      <th>amenities</th>\n",
       "      <th>price</th>\n",
       "      <th>minimum_nights</th>\n",
       "      <th>maximum_nights</th>\n",
       "      <th>minimum_minimum_nights</th>\n",
       "      <th>maximum_minimum_nights</th>\n",
       "      <th>minimum_maximum_nights</th>\n",
       "      <th>maximum_maximum_nights</th>\n",
       "      <th>minimum_nights_avg_ntm</th>\n",
       "      <th>maximum_nights_avg_ntm</th>\n",
       "      <th>has_availability</th>\n",
       "      <th>availability_30</th>\n",
       "      <th>availability_60</th>\n",
       "      <th>availability_90</th>\n",
       "      <th>availability_365</th>\n",
       "      <th>number_of_reviews</th>\n",
       "      <th>number_of_reviews_ltm</th>\n",
       "      <th>number_of_reviews_l30d</th>\n",
       "      <th>first_review</th>\n",
       "      <th>last_review</th>\n",
       "      <th>review_scores_rating</th>\n",
       "      <th>review_scores_accuracy</th>\n",
       "      <th>review_scores_cleanliness</th>\n",
       "      <th>review_scores_checkin</th>\n",
       "      <th>review_scores_communication</th>\n",
       "      <th>review_scores_location</th>\n",
       "      <th>review_scores_value</th>\n",
       "      <th>has_license</th>\n",
       "      <th>instant_bookable</th>\n",
       "      <th>calculated_host_listings_count</th>\n",
       "      <th>calculated_host_listings_count_entire_homes</th>\n",
       "      <th>calculated_host_listings_count_private_rooms</th>\n",
       "      <th>calculated_host_listings_count_shared_rooms</th>\n",
       "      <th>reviews_per_month</th>\n",
       "      <th>bathrooms_count</th>\n",
       "      <th>amenities_count</th>\n",
       "      <th>host_response_time_encoded</th>\n",
       "      <th>host_operate_years</th>\n",
       "    </tr>\n",
       "  </thead>\n",
       "  <tbody>\n",
       "    <tr>\n",
       "      <th>0</th>\n",
       "      <td>49113826</td>\n",
       "      <td>https://www.airbnb.com/rooms/49113826</td>\n",
       "      <td>2022-12-24</td>\n",
       "      <td>Private Seattle Getaway Home Near Lake Washing...</td>\n",
       "      <td>A Seattle vacation destination for those from ...</td>\n",
       "      <td>SeaTac International Airport: 14 min drive&lt;br ...</td>\n",
       "      <td>https://a0.muscache.com/pictures/miso/Hosting-...</td>\n",
       "      <td>188538325</td>\n",
       "      <td>https://www.airbnb.com/users/show/188538325</td>\n",
       "      <td>Xiao</td>\n",
       "      <td>2018-05-08</td>\n",
       "      <td>Seattle, WA</td>\n",
       "      <td></td>\n",
       "      <td>within an hour</td>\n",
       "      <td>1.0</td>\n",
       "      <td>1.0</td>\n",
       "      <td>1</td>\n",
       "      <td>https://a0.muscache.com/im/pictures/user/32fd3...</td>\n",
       "      <td>Oakland</td>\n",
       "      <td>4</td>\n",
       "      <td>4</td>\n",
       "      <td>['email', 'phone']</td>\n",
       "      <td>1</td>\n",
       "      <td>1</td>\n",
       "      <td>Rainier View</td>\n",
       "      <td>Rainier Valley</td>\n",
       "      <td>47.510280</td>\n",
       "      <td>-122.246680</td>\n",
       "      <td>Entire home</td>\n",
       "      <td>Entire home/apt</td>\n",
       "      <td>8</td>\n",
       "      <td>4.0</td>\n",
       "      <td>4.0</td>\n",
       "      <td>[\"Hot water\", \"Dining table\", \"Toaster\", \"Refr...</td>\n",
       "      <td>280.0</td>\n",
       "      <td>3</td>\n",
       "      <td>30</td>\n",
       "      <td>3.0</td>\n",
       "      <td>3.0</td>\n",
       "      <td>1125.0</td>\n",
       "      <td>1125.0</td>\n",
       "      <td>3.0</td>\n",
       "      <td>1125.0</td>\n",
       "      <td>1</td>\n",
       "      <td>23</td>\n",
       "      <td>53</td>\n",
       "      <td>83</td>\n",
       "      <td>341</td>\n",
       "      <td>18</td>\n",
       "      <td>7</td>\n",
       "      <td>1</td>\n",
       "      <td>2021-06-22</td>\n",
       "      <td>2022-11-29</td>\n",
       "      <td>4.83</td>\n",
       "      <td>4.89</td>\n",
       "      <td>4.94</td>\n",
       "      <td>4.89</td>\n",
       "      <td>4.89</td>\n",
       "      <td>4.61</td>\n",
       "      <td>4.72</td>\n",
       "      <td>1</td>\n",
       "      <td>0</td>\n",
       "      <td>1</td>\n",
       "      <td>1</td>\n",
       "      <td>0</td>\n",
       "      <td>0</td>\n",
       "      <td>0.98</td>\n",
       "      <td>2.0</td>\n",
       "      <td>53</td>\n",
       "      <td>1</td>\n",
       "      <td>4</td>\n",
       "    </tr>\n",
       "    <tr>\n",
       "      <th>1</th>\n",
       "      <td>7455832</td>\n",
       "      <td>https://www.airbnb.com/rooms/7455832</td>\n",
       "      <td>2022-12-24</td>\n",
       "      <td>Classic remodeled in Georgetown</td>\n",
       "      <td>Enjoy your Seattle stay in the vibrant &amp; artis...</td>\n",
       "      <td>Georgetown is a cool neighborhood about three ...</td>\n",
       "      <td>https://a0.muscache.com/pictures/miso/Hosting-...</td>\n",
       "      <td>2144954</td>\n",
       "      <td>https://www.airbnb.com/users/show/2144954</td>\n",
       "      <td>Ryan</td>\n",
       "      <td>2012-04-15</td>\n",
       "      <td>Seattle, WA</td>\n",
       "      <td></td>\n",
       "      <td>within an hour</td>\n",
       "      <td>1.0</td>\n",
       "      <td>1.0</td>\n",
       "      <td>0</td>\n",
       "      <td>https://a0.muscache.com/im/pictures/user/a6711...</td>\n",
       "      <td>Greater Duwamish</td>\n",
       "      <td>2</td>\n",
       "      <td>2</td>\n",
       "      <td>['email', 'phone', 'work_email']</td>\n",
       "      <td>1</td>\n",
       "      <td>0</td>\n",
       "      <td>Georgetown</td>\n",
       "      <td>Other neighborhoods</td>\n",
       "      <td>47.544739</td>\n",
       "      <td>-122.319786</td>\n",
       "      <td>Entire home</td>\n",
       "      <td>Entire home/apt</td>\n",
       "      <td>6</td>\n",
       "      <td>3.0</td>\n",
       "      <td>3.0</td>\n",
       "      <td>[\"Hot water\", \"Crib - available upon request\",...</td>\n",
       "      <td>156.0</td>\n",
       "      <td>1</td>\n",
       "      <td>150</td>\n",
       "      <td>2.0</td>\n",
       "      <td>3.0</td>\n",
       "      <td>1125.0</td>\n",
       "      <td>1125.0</td>\n",
       "      <td>2.1</td>\n",
       "      <td>1125.0</td>\n",
       "      <td>1</td>\n",
       "      <td>17</td>\n",
       "      <td>35</td>\n",
       "      <td>65</td>\n",
       "      <td>329</td>\n",
       "      <td>27</td>\n",
       "      <td>27</td>\n",
       "      <td>3</td>\n",
       "      <td>2022-06-09</td>\n",
       "      <td>2022-12-13</td>\n",
       "      <td>4.89</td>\n",
       "      <td>4.96</td>\n",
       "      <td>4.89</td>\n",
       "      <td>4.93</td>\n",
       "      <td>4.96</td>\n",
       "      <td>4.93</td>\n",
       "      <td>4.93</td>\n",
       "      <td>1</td>\n",
       "      <td>1</td>\n",
       "      <td>2</td>\n",
       "      <td>2</td>\n",
       "      <td>0</td>\n",
       "      <td>0</td>\n",
       "      <td>4.07</td>\n",
       "      <td>2.0</td>\n",
       "      <td>55</td>\n",
       "      <td>1</td>\n",
       "      <td>10</td>\n",
       "    </tr>\n",
       "  </tbody>\n",
       "</table>\n",
       "</div>"
      ],
      "text/plain": [
       "   listing_id                            listing_url last_scraped  \\\n",
       "0    49113826  https://www.airbnb.com/rooms/49113826   2022-12-24   \n",
       "1     7455832   https://www.airbnb.com/rooms/7455832   2022-12-24   \n",
       "\n",
       "                                        listing_name  \\\n",
       "0  Private Seattle Getaway Home Near Lake Washing...   \n",
       "1                    Classic remodeled in Georgetown   \n",
       "\n",
       "                                         description  \\\n",
       "0  A Seattle vacation destination for those from ...   \n",
       "1  Enjoy your Seattle stay in the vibrant & artis...   \n",
       "\n",
       "                               neighborhood_overview  \\\n",
       "0  SeaTac International Airport: 14 min drive<br ...   \n",
       "1  Georgetown is a cool neighborhood about three ...   \n",
       "\n",
       "                                         picture_url    host_id  \\\n",
       "0  https://a0.muscache.com/pictures/miso/Hosting-...  188538325   \n",
       "1  https://a0.muscache.com/pictures/miso/Hosting-...    2144954   \n",
       "\n",
       "                                      host_url host_name host_since  \\\n",
       "0  https://www.airbnb.com/users/show/188538325      Xiao 2018-05-08   \n",
       "1    https://www.airbnb.com/users/show/2144954      Ryan 2012-04-15   \n",
       "\n",
       "  host_location host_about host_response_time  host_response_rate  \\\n",
       "0   Seattle, WA                within an hour                 1.0   \n",
       "1   Seattle, WA                within an hour                 1.0   \n",
       "\n",
       "   host_acceptance_rate  host_is_superhost  \\\n",
       "0                   1.0                  1   \n",
       "1                   1.0                  0   \n",
       "\n",
       "                                    host_picture_url host_neighbourhood  \\\n",
       "0  https://a0.muscache.com/im/pictures/user/32fd3...            Oakland   \n",
       "1  https://a0.muscache.com/im/pictures/user/a6711...   Greater Duwamish   \n",
       "\n",
       "   host_listings_count  host_total_listings_count  \\\n",
       "0                    4                          4   \n",
       "1                    2                          2   \n",
       "\n",
       "                 host_verifications  host_has_profile_pic  \\\n",
       "0                ['email', 'phone']                     1   \n",
       "1  ['email', 'phone', 'work_email']                     1   \n",
       "\n",
       "   host_identity_verified neighbourhood_cleansed neighbourhood_group_cleansed  \\\n",
       "0                       1           Rainier View               Rainier Valley   \n",
       "1                       0             Georgetown          Other neighborhoods   \n",
       "\n",
       "    latitude   longitude property_type        room_type  accommodates  \\\n",
       "0  47.510280 -122.246680   Entire home  Entire home/apt             8   \n",
       "1  47.544739 -122.319786   Entire home  Entire home/apt             6   \n",
       "\n",
       "   bedrooms  beds                                          amenities  price  \\\n",
       "0       4.0   4.0  [\"Hot water\", \"Dining table\", \"Toaster\", \"Refr...  280.0   \n",
       "1       3.0   3.0  [\"Hot water\", \"Crib - available upon request\",...  156.0   \n",
       "\n",
       "   minimum_nights  maximum_nights  minimum_minimum_nights  \\\n",
       "0               3              30                     3.0   \n",
       "1               1             150                     2.0   \n",
       "\n",
       "   maximum_minimum_nights  minimum_maximum_nights  maximum_maximum_nights  \\\n",
       "0                     3.0                  1125.0                  1125.0   \n",
       "1                     3.0                  1125.0                  1125.0   \n",
       "\n",
       "   minimum_nights_avg_ntm  maximum_nights_avg_ntm  has_availability  \\\n",
       "0                     3.0                  1125.0                 1   \n",
       "1                     2.1                  1125.0                 1   \n",
       "\n",
       "   availability_30  availability_60  availability_90  availability_365  \\\n",
       "0               23               53               83               341   \n",
       "1               17               35               65               329   \n",
       "\n",
       "   number_of_reviews  number_of_reviews_ltm  number_of_reviews_l30d  \\\n",
       "0                 18                      7                       1   \n",
       "1                 27                     27                       3   \n",
       "\n",
       "  first_review last_review  review_scores_rating  review_scores_accuracy  \\\n",
       "0   2021-06-22  2022-11-29                  4.83                    4.89   \n",
       "1   2022-06-09  2022-12-13                  4.89                    4.96   \n",
       "\n",
       "   review_scores_cleanliness  review_scores_checkin  \\\n",
       "0                       4.94                   4.89   \n",
       "1                       4.89                   4.93   \n",
       "\n",
       "   review_scores_communication  review_scores_location  review_scores_value  \\\n",
       "0                         4.89                    4.61                 4.72   \n",
       "1                         4.96                    4.93                 4.93   \n",
       "\n",
       "   has_license  instant_bookable  calculated_host_listings_count  \\\n",
       "0            1                 0                               1   \n",
       "1            1                 1                               2   \n",
       "\n",
       "   calculated_host_listings_count_entire_homes  \\\n",
       "0                                            1   \n",
       "1                                            2   \n",
       "\n",
       "   calculated_host_listings_count_private_rooms  \\\n",
       "0                                             0   \n",
       "1                                             0   \n",
       "\n",
       "   calculated_host_listings_count_shared_rooms  reviews_per_month  \\\n",
       "0                                            0               0.98   \n",
       "1                                            0               4.07   \n",
       "\n",
       "   bathrooms_count  amenities_count  host_response_time_encoded  \\\n",
       "0              2.0               53                           1   \n",
       "1              2.0               55                           1   \n",
       "\n",
       "   host_operate_years  \n",
       "0                   4  \n",
       "1                  10  "
      ]
     },
     "execution_count": 2,
     "metadata": {},
     "output_type": "execute_result"
    }
   ],
   "source": [
    "# check and read the saved data\n",
    "cleaned_listing_df = pd.read_pickle('../data/data_cleaned/cleaned_listing.zip')\n",
    "print(cleaned_listing_df.shape)\n",
    "cleaned_listing_df.head(2)"
   ]
  },
  {
   "cell_type": "code",
   "execution_count": 3,
   "metadata": {
    "cell_id": "0784b49930d549699e2484a5790ecf6b",
    "deepnote_cell_type": "code",
    "deepnote_to_be_reexecuted": false,
    "execution_millis": 24,
    "execution_start": 1678802471142,
    "source_hash": "71a13533",
    "tags": []
   },
   "outputs": [],
   "source": [
    "# Create a new dataframe about each neighbourhood group\n",
    "df_by_neighbourhood = cleaned_listing_df.groupby(['neighbourhood_group_cleansed']).agg(\n",
    "    {'neighbourhood_cleansed':lambda x: x.nunique(), # Check the number of distinct neighbourhood in each neighbourhood group\n",
    "    'listing_id':'count', # Check the number of listings in each neighbourhood group\n",
    "    'host_id':lambda x: x.nunique(), # Check the number of unique hosts in each neighbourhood group\n",
    "    'price':lambda x: np.round(np.mean(x),1), # Check the avg price of listings in each neighbourhood group\n",
    "    'review_scores_rating':'mean', # Check the avg various scores in each neighbourhood group\n",
    "    'review_scores_accuracy':'mean',\n",
    "    'review_scores_cleanliness':'mean',\n",
    "    'review_scores_checkin':'mean',\n",
    "    'review_scores_communication':'mean',\n",
    "    'review_scores_location':'mean',\n",
    "    'review_scores_value':'mean'}).round(1).reset_index() \n"
   ]
  },
  {
   "cell_type": "code",
   "execution_count": 4,
   "metadata": {
    "cell_id": "ec3b357cfe674be6aae62d87c9ec40a5",
    "deepnote_cell_type": "code",
    "deepnote_to_be_reexecuted": false,
    "execution_millis": 8,
    "execution_start": 1678802471169,
    "source_hash": "aa9160f7",
    "tags": []
   },
   "outputs": [],
   "source": [
    "# extract part of the columns of the new dataframe for purpose of renaming\n",
    "col_original = list(df_by_neighbourhood.columns)[1:]  \n",
    "\n",
    "# a list of new names for the extracted columns above\n",
    "col_new = \\\n",
    "['unique_neighbourhood','number_of_listings','number_of_hosts',\n",
    "'avg_price','avg_rating','avg_on_accuracy','avg_on_cleanliness',\n",
    "'avg_on_chekin','avg_on_communication','avg_on_location','avg_on_value']\n",
    "\n",
    "# rename the columns of the new data frame\n",
    "for c in range(len(col_original)):\n",
    "    df_by_neighbourhood.rename(columns = {col_original[c] : col_new[c]}, inplace=True)\n",
    "\n",
    "# create a new feature for the new column, \n",
    "# checking how many listings per host per neighbourhood group on average\n",
    "    \n",
    "df_by_neighbourhood['listing_per_host'] = df_by_neighbourhood['number_of_listings']/df_by_neighbourhood['number_of_hosts']\n"
   ]
  },
  {
   "cell_type": "markdown",
   "metadata": {
    "cell_id": "c57d929b36844e3b9518de891f864885",
    "deepnote_cell_type": "text-cell-p",
    "formattedRanges": [
     {
      "fromCodePoint": 0,
      "marks": {
       "italic": true
      },
      "toCodePoint": 7,
      "type": "marks"
     }
    ],
    "is_collapsed": false,
    "tags": []
   },
   "source": [
    "Fig (1) shows the listing distribution of each neighbourhood group. The x-axis represents the different neighbourhood group, the y-axis represents the number of distinct neighbourhoods in the corresponding neighbourhood group, and the size of the scatter points represents the number of listings. So, the bigger the scatter point is, the more listings the corresponding neighbourhood group has. "
   ]
  },
  {
   "cell_type": "markdown",
   "metadata": {
    "cell_id": "9cb79ba352c14957934aa6d11b4389d0",
    "deepnote_cell_type": "text-cell-p",
    "formattedRanges": [
     {
      "fromCodePoint": 0,
      "marks": {
       "italic": true
      },
      "toCodePoint": 7,
      "type": "marks"
     }
    ],
    "is_collapsed": false,
    "tags": []
   },
   "source": [
    "Fig (2) shows the average price of each neighbourhood group. The x-axis represents the different neighbourhood group, the y-axis represents the number of distinct neighbourhoods in the corresponding neighbourhood group, and the size of the scatter points represents the average price. So, the bigger the scatter point is, the higher the average price of the listings in the corresponding neighbourhood group is."
   ]
  },
  {
   "cell_type": "markdown",
   "metadata": {
    "cell_id": "25ae0dd57b5f45f983c06054309a2b90",
    "deepnote_cell_type": "text-cell-p",
    "formattedRanges": [
     {
      "fromCodePoint": 10,
      "marks": {
       "italic": true
      },
      "toCodePoint": 17,
      "type": "marks"
     },
     {
      "fromCodePoint": 94,
      "marks": {
       "bold": true
      },
      "toCodePoint": 116,
      "type": "marks"
     }
    ],
    "is_collapsed": false,
    "tags": []
   },
   "source": [
    "Observing Fig (1),  we find the biggest scatter point represents a neighbourhood group called Other neighbourhoods; in other words, this group has the highest number of neighbourhoods and listings. Semantically, it makes sense because the name of this group implies that this group is composed of miscellaneous neighbourhoods. However, since the number of the listings in this group is unproportionately bigger than that of the other groups, it might impact the granularity of the recommendations."
   ]
  },
  {
   "cell_type": "markdown",
   "metadata": {
    "cell_id": "393272bc0e7649a9b56a0fc74a97bfff",
    "deepnote_cell_type": "text-cell-p",
    "formattedRanges": [
     {
      "fromCodePoint": 67,
      "marks": {
       "italic": true
      },
      "toCodePoint": 74,
      "type": "marks"
     }
    ],
    "is_collapsed": false,
    "tags": []
   },
   "source": [
    "Though the number of listings in each neighbourhood group differs, Fig (2) tells us that the average price of the listings in all the neighbourhood group is similar."
   ]
  },
  {
   "cell_type": "code",
   "execution_count": 5,
   "metadata": {
    "cell_id": "a255c5cfbb3f4273b9be1fdf0415d4e3",
    "deepnote_cell_type": "code",
    "deepnote_to_be_reexecuted": false,
    "execution_millis": 559,
    "execution_start": 1678802471219,
    "source_hash": "7a22a078",
    "tags": []
   },
   "outputs": [
    {
     "data": {
      "image/png": "[encoded data removed]",
      "text/plain": [
       "<Figure size 1500x400 with 2 Axes>"
      ]
     },
     "metadata": {
      "image/png": {
       "height": 503,
       "width": 1258
      }
     },
     "output_type": "display_data"
    }
   ],
   "source": [
    "fig, axis = plt.subplots(1, 2, figsize=(15, 4))\n",
    "\n",
    "x = df_by_neighbourhood['neighbourhood_group_cleansed']\n",
    "y = df_by_neighbourhood['unique_neighbourhood']\n",
    "z_a = df_by_neighbourhood['number_of_listings']\n",
    "z_b = df_by_neighbourhood['avg_price']\n",
    "colors = np.array([0, 1, 2, 3, 4, 5, 6, 7, 8, 9, 10, 11, 12, 13, 14, 15, 16])\n",
    "\n",
    "# Fig (1)\n",
    "axis[0].scatter(x, y, s=z_a, alpha=0.9, c = colors, cmap ='winter')\n",
    "axis[0].set_xticklabels(x, rotation = 45, ha ='right')\n",
    "axis[0].set_ylabel('# of distinct neighourhood\\n', fontsize = 10)\n",
    "axis[0].set_title('Fig(1) Listing distribution\\nby neibourhood group\\n', fontsize = 10)\n",
    "\n",
    "# Fig (2)\n",
    "axis[1].scatter(x, y, s=z_b, alpha=0.9, c = colors, cmap ='winter')\n",
    "axis[1].set_xticklabels(x, rotation = 45, ha ='right')\n",
    "axis[1].set_title('Fig (2) AVG price\\nby neibourhood group\\n', fontsize = 10)\n",
    "\n",
    "fig.text(0.5, 0.01, '\\n\\n\\n\\n\\n\\n\\nNeighourhood Group', ha='center', va='center', fontsize=10)\n",
    "\n",
    "plt.show()"
   ]
  },
  {
   "cell_type": "markdown",
   "metadata": {
    "cell_id": "09739454d16447db86037fedc1e12490",
    "deepnote_cell_type": "text-cell-p",
    "formattedRanges": [
     {
      "fromCodePoint": 134,
      "marks": {
       "italic": true
      },
      "toCodePoint": 141,
      "type": "marks"
     },
     {
      "fromCodePoint": 337,
      "marks": {
       "bold": true
      },
      "toCodePoint": 344,
      "type": "marks"
     },
     {
      "fromCodePoint": 434,
      "marks": {
       "italic": true
      },
      "toCodePoint": 441,
      "type": "marks"
     }
    ],
    "is_collapsed": false,
    "tags": []
   },
   "source": [
    "Then, we want to see how the guests assess the listings in each neighbourhood group. We visualize this intention with line charts. In Fig (3), the x-axis represents the rating dimensions, the y-axis represents the scores, and the lines represents distinct neighbourhood groups. It's found that an outlier is a neighbourhood group called Cascade. The average scores of this group are much lower than the other groups. And, if we check Fig (1) and find Cascade, it's found that this group is bigger than at least other 3 groups (Interbay, Seward Park, and University District). Why its scores are so low? After checking the dataset, it's found there are too many 0 values in the score columns corresponding to this group. Therefore, Fig (3) helps us to find out this outlier."
   ]
  },
  {
   "cell_type": "code",
   "execution_count": 6,
   "metadata": {
    "cell_id": "a6eff902ffba4277b21ba8e011b33121",
    "deepnote_cell_type": "code",
    "deepnote_to_be_reexecuted": false,
    "execution_millis": 404,
    "execution_start": 1678802471777,
    "source_hash": "9e82f9c5",
    "tags": []
   },
   "outputs": [
    {
     "data": {
      "image/png": "[encoded data removed]",
      "text/plain": [
       "<Figure size 1500x500 with 1 Axes>"
      ]
     },
     "metadata": {
      "image/png": {
       "height": 586,
       "width": 1476
      }
     },
     "output_type": "display_data"
    }
   ],
   "source": [
    "# Fig (3)\n",
    "plt.figure(figsize=(15,5))\n",
    "plt.plot(df_by_neighbourhood.iloc[:,5:-1].T)\n",
    "plt.xticks(rotation = 45, ha ='right')\n",
    "plt.legend(df_by_neighbourhood['neighbourhood_group_cleansed'],bbox_to_anchor = (1.05,1), loc=\"best\")\n",
    "plt.title('Fig (3) Scores of different neighbourhood groups\\n', fontsize=14)\n",
    "\n",
    "plt.show()"
   ]
  },
  {
   "cell_type": "markdown",
   "metadata": {
    "cell_id": "72d116193d824f53b8d1da89bda76a40",
    "deepnote_cell_type": "text-cell-p",
    "formattedRanges": [],
    "is_collapsed": false,
    "tags": []
   },
   "source": [
    "Then, we check the distribution of each score. As shown in Fig (4-#), all of them contains many 0 values."
   ]
  },
  {
   "cell_type": "code",
   "execution_count": 7,
   "metadata": {
    "cell_id": "ec9d004d09354a91b2ccd3402dc04604",
    "deepnote_cell_type": "code",
    "deepnote_to_be_reexecuted": false,
    "execution_millis": 803,
    "execution_start": 1678802472189,
    "source_hash": "6e3d5f1e",
    "tags": []
   },
   "outputs": [
    {
     "data": {
      "image/png": "[encoded data removed]",
      "text/plain": [
       "<Figure size 1000x300 with 8 Axes>"
      ]
     },
     "metadata": {
      "image/png": {
       "height": 405,
       "width": 842
      }
     },
     "output_type": "display_data"
    }
   ],
   "source": [
    "# Fig (4)\n",
    "scores = ['review_scores_rating', 'review_scores_accuracy',\n",
    "       'review_scores_cleanliness', 'review_scores_checkin',\n",
    "       'review_scores_communication', 'review_scores_location',\n",
    "       'review_scores_value']\n",
    "\n",
    "fig, axis = plt.subplots(2, 4, figsize=(10, 3))\n",
    "plt.subplots_adjust(top = 0.99, bottom=0.01, hspace=1.5, wspace=0.4)\n",
    "\n",
    "for i in range(2):\n",
    "    if i == 0:\n",
    "        for m in range(4):\n",
    "            axis[i, m].hist(cleaned_listing_df.loc[cleaned_listing_df['neighbourhood_group_cleansed']=='Cascade'][scores[m]])\n",
    "            axis[i, m].set_xlabel('score', fontsize = 8)\n",
    "            axis[i, m].set_title(\"Fig(4-{})\\n Distribution of\\n{}\\n\".format(m+1,scores[m]), fontsize = 8)\n",
    "    else:\n",
    "        for n in range(3):\n",
    "            axis[i, n].hist(cleaned_listing_df.loc[cleaned_listing_df['neighbourhood_group_cleansed']=='Cascade'][scores[4+n]])\n",
    "            axis[i, n].set_xlabel('score', fontsize = 8)\n",
    "            axis[i, n].set_title(\"Fig(4-{})\\n Distribution of\\n{}\\n\".format(5+n, scores[4+n]), fontsize = 8)"
   ]
  },
  {
   "cell_type": "markdown",
   "metadata": {
    "cell_id": "c3a1ce03cc77484186baa6e8cc429bf7",
    "deepnote_cell_type": "text-cell-p",
    "formattedRanges": [],
    "is_collapsed": false,
    "tags": []
   },
   "source": [
    "Now, let's check how room type and property type matter. We first create a new dataframe, showing the number of unique property type, the number of listings, the number of entire room, private rooms and shared rooms by room types."
   ]
  },
  {
   "cell_type": "code",
   "execution_count": 8,
   "metadata": {
    "cell_id": "d89966a586c14b219edb6febe8f43130",
    "deepnote_cell_type": "code",
    "deepnote_to_be_reexecuted": false,
    "execution_millis": 9,
    "execution_start": 1678802472995,
    "source_hash": "411bb44a",
    "tags": []
   },
   "outputs": [],
   "source": [
    "# extract the following columns to a list\n",
    "room_type_col = ['host_id'\n",
    ",\"calculated_host_listings_count\"  \n",
    ",\"calculated_host_listings_count_entire_homes\"    \n",
    ",\"calculated_host_listings_count_private_rooms\"   \n",
    ",\"calculated_host_listings_count_shared_rooms\"]\n",
    "\n",
    "# create a new dataframe about the room types\n",
    "df_by_roomtype = cleaned_listing_df.groupby(['room_type']).agg(\n",
    "    {'property_type':lambda x: x.nunique(), # unique property type\n",
    "    room_type_col[1]:sum, # number of listings\n",
    "    room_type_col[2]:sum, # number of entire homes\n",
    "    room_type_col[3]:sum, # number of private rooms\n",
    "    room_type_col[4]:sum })\n"
   ]
  },
  {
   "cell_type": "markdown",
   "metadata": {
    "cell_id": "b2403474625c4404833b2a69d7abe0f8",
    "deepnote_cell_type": "text-cell-p",
    "formattedRanges": [],
    "is_collapsed": false,
    "tags": []
   },
   "source": [
    "Starting from the intuition, let's first check how the distinct property types distribute in each room type. Fig (5) shows that most property types are in Entire homes and Private rooms. But, does a room type with a small number of property types also has a small number of listings? With this in mind, we plot Fig (6)."
   ]
  },
  {
   "cell_type": "markdown",
   "metadata": {
    "cell_id": "d6672154f74a474a80b14cce4ab5f1f4",
    "deepnote_cell_type": "text-cell-p",
    "formattedRanges": [],
    "is_collapsed": false,
    "tags": []
   },
   "source": [
    "Fig (6) shows the distribution of listings in each room type. We can see that 96% of the listings are in the room type of Entire home/apt, and both shared room and the hotel room have very few listings. This is consistent with Fig (5). However, it's worth our attention that in Fig (5), Private room is a room type with the second most unique property types, and the number of its property type is almost the same as that of the Entire room, but in Fig (6), it's seen that this room type has unproportional listings with the Entire room."
   ]
  },
  {
   "cell_type": "code",
   "execution_count": 9,
   "metadata": {
    "cell_id": "484efeccec584e1dbf3ff7e75da7dd8a",
    "deepnote_cell_type": "code",
    "deepnote_to_be_reexecuted": false,
    "execution_millis": 275,
    "execution_start": 1678802473012,
    "source_hash": "d91f6263",
    "tags": []
   },
   "outputs": [
    {
     "data": {
      "image/png": "[encoded data removed]",
      "text/plain": [
       "<Figure size 1000x300 with 2 Axes>"
      ]
     },
     "metadata": {
      "image/png": {
       "height": 512,
       "width": 997
      }
     },
     "output_type": "display_data"
    }
   ],
   "source": [
    "fig, axis = plt.subplots(1, 2, figsize=(10, 3))\n",
    "plt.subplots_adjust(top = 0.99, bottom=0.01, hspace=1.5, wspace=0.4)\n",
    "myexplode = [0, 0.7, 0.7, 0.7]\n",
    "mycolors = ['#66b3ff','r','#99ff99','b']\n",
    "\n",
    "for r in range(2):\n",
    "    if r == 0:\n",
    "        axis[r].bar(df_by_roomtype.index, df_by_roomtype['property_type'])\n",
    "        axis[r].set_ylabel('# of distinct property type\\n')\n",
    "        axis[r].set_xlabel('\\nroom type')\n",
    "        axis[r].set_xticklabels(df_by_roomtype.index, rotation = 45, ha ='right')\n",
    "        axis[r].set_title('Fig(5) Unique property type\\nper room type\\n')\n",
    "    else:\n",
    "        axis[r].pie(df_by_roomtype['calculated_host_listings_count'],labels=df_by_roomtype.index, \n",
    "        autopct='%.0f%%', \n",
    "        explode = myexplode, colors = mycolors)\n",
    "        axis[r].set_title('Fig(6) Distribution of listings\\nper room type')\n",
    "\n",
    "plt.show()"
   ]
  },
  {
   "cell_type": "markdown",
   "metadata": {
    "cell_id": "45f9b18d09604b4b8f75a146576c365d",
    "deepnote_cell_type": "text-cell-p",
    "formattedRanges": [],
    "is_collapsed": false,
    "tags": []
   },
   "source": [
    "Then, we extract data to see how the room types distribute among different neighbourhood groups. Seeing in Fig (7), Downtown has the most listings, and most listings are Entire homes, and most of the private rooms listings are in Capital Hill, Cascade and Other neighbourhood groups."
   ]
  },
  {
   "cell_type": "code",
   "execution_count": 10,
   "metadata": {
    "cell_id": "563ec28c477c435899799bcbe5fd5b37",
    "deepnote_cell_type": "code",
    "deepnote_to_be_reexecuted": false,
    "execution_millis": 615,
    "execution_start": 1678802473290,
    "source_hash": "7c50a8a",
    "tags": []
   },
   "outputs": [
    {
     "data": {
      "image/png": "[encoded data removed]",
      "text/plain": [
       "<Figure size 1500x300 with 3 Axes>"
      ]
     },
     "metadata": {
      "image/png": {
       "height": 437,
       "width": 1346
      }
     },
     "output_type": "display_data"
    }
   ],
   "source": [
    "df_room_type_byneighbourhood = cleaned_listing_df.groupby(['neighbourhood_group_cleansed']).agg({room_type_col[2]:sum,\n",
    "                                                  room_type_col[3]:sum,\n",
    "                                                  room_type_col[4]:sum}).sort_values('calculated_host_listings_count_entire_homes')\n",
    "\n",
    "\n",
    "fig, axis = plt.subplots(1, 3, figsize=(15, 3))\n",
    "plt.subplots_adjust(top = 0.99, bottom=0.01, hspace=1.5, wspace=1)\n",
    "room_type = ['entire_homes','private_rooms','shared_rooms']\n",
    "\n",
    "for i in range(3):\n",
    "    axis[i].barh(df_room_type_byneighbourhood.index,df_room_type_byneighbourhood.iloc[:,i])\n",
    "    axis[i].set_xlabel('\\n# of {}'.format(room_type[i]))\n",
    "    axis[i].set_title('Fig(7) Room type distribution \\nper neighbourhood group\\n')\n",
    "\n",
    "plt.show()"
   ]
  },
  {
   "cell_type": "markdown",
   "metadata": {
    "cell_id": "633ea71d20a5421895a25d3f38154009",
    "deepnote_cell_type": "text-cell-p",
    "formattedRanges": [],
    "is_collapsed": false,
    "tags": []
   },
   "source": [
    "In our data set, we also have some True or False features. We encode them as 1 and 0. We wonder if those \"credentials\" impact the price of the listings."
   ]
  },
  {
   "cell_type": "markdown",
   "metadata": {
    "cell_id": "c5c8f3f1055e44879d2d1f57be12b4b2",
    "deepnote_cell_type": "text-cell-p",
    "formattedRanges": [],
    "is_collapsed": false,
    "tags": []
   },
   "source": [
    "Fig(8) is a correlation map to show if a host with the following credentials can promote their listings with a higher price:"
   ]
  },
  {
   "cell_type": "markdown",
   "metadata": {
    "cell_id": "2838adbd44a5443bbbd8d4a9ad02eb5d",
    "deepnote_cell_type": "markdown",
    "tags": []
   },
   "source": [
    "- instant bookable\n",
    "- have license\n",
    "- verified host identity\n",
    "- being a superhost\n",
    "- the number of reviews received each month"
   ]
  },
  {
   "cell_type": "markdown",
   "metadata": {
    "cell_id": "61c97eb587864ca29ff90e6d4625f4bf",
    "deepnote_cell_type": "text-cell-p",
    "formattedRanges": [],
    "is_collapsed": false,
    "tags": []
   },
   "source": [
    "It's found that having a license is a little bit positive correlated with price, but none of the others impact prices much. But, it's interesting to find that having a license impacts to be a super host and to receive reviews each month."
   ]
  },
  {
   "cell_type": "code",
   "execution_count": 11,
   "metadata": {
    "cell_id": "e213c6ef2e2248d8a6006b9c9d67666f",
    "deepnote_cell_type": "code",
    "deepnote_to_be_reexecuted": false,
    "execution_millis": 384,
    "execution_start": 1678802473904,
    "source_hash": "ace4d259",
    "tags": []
   },
   "outputs": [
    {
     "data": {
      "image/png": "[encoded data removed]",
      "text/plain": [
       "<Figure size 600x400 with 2 Axes>"
      ]
     },
     "metadata": {
      "image/png": {
       "height": 456,
       "width": 570
      }
     },
     "output_type": "display_data"
    }
   ],
   "source": [
    "correlation_col = [\"price\", \"instant_bookable\", \"has_license\", \"host_identity_verified\", \n",
    "                   \"host_is_superhost\", \"reviews_per_month\"]\n",
    "\n",
    "df_correlation = cleaned_listing_df[correlation_col]\n",
    "corr = df_correlation.corr()\n",
    "\n",
    "plt.figure(figsize=(6, 4))\n",
    "sns.set(font_scale=0.6)\n",
    "sns.heatmap(corr, cmap =\"Blues\", annot = True)\n",
    "plt.title('Fig(8) Correlation map')\n",
    "\n",
    "plt.show()"
   ]
  },
  {
   "cell_type": "code",
   "execution_count": 11,
   "metadata": {
    "cell_id": "d7474c83c8f642889c4cdc009627593c",
    "deepnote_cell_type": "code",
    "deepnote_to_be_reexecuted": false,
    "execution_millis": 6,
    "execution_start": 1678802474285,
    "source_hash": "b623e53d",
    "tags": []
   },
   "outputs": [],
   "source": []
  },
  {
   "cell_type": "markdown",
   "metadata": {
    "created_in_deepnote_cell": true,
    "deepnote_cell_type": "markdown"
   },
   "source": [
    "<a style='text-decoration:none;line-height:16px;display:flex;color:#5B5B62;padding:10px;justify-content:end;' href='https://deepnote.com?utm_source=created-in-deepnote-cell&projectId=f2a50dc6-ff6a-45ff-9dbe-d7a35bd1e393' target=\"_blank\">\n",
    "<img alt='Created in deepnote.com' style='display:inline;max-height:16px;margin:0px;margin-right:7.5px;' src='data:image/svg+xml;base64,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' > </img>\n",
    "Created in <span style='font-weight:600;margin-left:4px;'>Deepnote</span></a>"
   ]
  }
 ],
 "metadata": {
  "deepnote": {},
  "deepnote_execution_queue": [],
  "deepnote_notebook_id": "906e05966d914cee8b40b6b75c79568b",
  "kernelspec": {
   "display_name": "Python 3",
   "language": "python",
   "name": "python3"
  },
  "language_info": {
   "codemirror_mode": {
    "name": "ipython",
    "version": 3
   },
   "file_extension": ".py",
   "mimetype": "text/x-python",
   "name": "python",
   "nbconvert_exporter": "python",
   "pygments_lexer": "ipython3",
   "version": "3.8.3"
  }
 },
 "nbformat": 4,
 "nbformat_minor": 1
}
