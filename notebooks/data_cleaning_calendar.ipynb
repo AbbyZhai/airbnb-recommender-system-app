{
 "cells": [
  {
   "cell_type": "markdown",
   "metadata": {
    "cell_id": "6ab5718977b44ff58a9b7f1eabd839fe",
    "deepnote_cell_type": "markdown"
   },
   "source": [
    "## Clean calendar dataset"
   ]
  },
  {
   "cell_type": "markdown",
   "metadata": {
    "cell_id": "e9152e29073c4a45a7f837d8ffc5072c",
    "deepnote_cell_type": "markdown"
   },
   "source": [
    "### Framwork:\n",
    "0. Import calendar dataset\n",
    "1. Clean raw calendar dataset\n",
    "2. Save the cleaned calendar dataset"
   ]
  },
  {
   "cell_type": "markdown",
   "metadata": {
    "cell_id": "6edd40c91dff43458a8a71bfdc2ca300",
    "deepnote_cell_type": "markdown"
   },
   "source": [
    "### 0. Import calendar dataset"
   ]
  },
  {
   "cell_type": "code",
   "execution_count": 1,
   "metadata": {
    "cell_id": "aa45f5796b8f4ab4bfa1749abc9af909",
    "deepnote_cell_type": "code",
    "deepnote_to_be_reexecuted": false,
    "execution_millis": 1170,
    "execution_start": 1681863687728,
    "source_hash": "d02678eb"
   },
   "outputs": [],
   "source": [
    "import pandas as pd\n",
    "import numpy as np\n",
    "import seaborn as sns\n",
    "import json\n",
    "import matplotlib.pyplot as plt\n",
    "\n",
    "import warnings\n",
    "warnings.filterwarnings('ignore')\n",
    "\n",
    "from tqdm.notebook import tqdm\n",
    "from langdetect import detect\n",
    "\n",
    "pd.set_option('display.max_columns', 100)\n",
    "\n",
    "RANDOM_STATE= 42"
   ]
  },
  {
   "cell_type": "code",
   "execution_count": 2,
   "metadata": {
    "cell_id": "30803bedddc044459e5a84c62ccbff58",
    "deepnote_cell_type": "code",
    "deepnote_to_be_reexecuted": false,
    "execution_millis": 1051,
    "execution_start": 1681863688899,
    "source_hash": "24a9f182"
   },
   "outputs": [],
   "source": [
    "# load raw calendar dataset\n",
    "calendar_df_raw = pd.read_csv('../data/data_raw/calendar.csv.gz', compression='gzip')"
   ]
  },
  {
   "cell_type": "markdown",
   "metadata": {
    "cell_id": "696682a94e994a21b149db8a2f4201c3",
    "deepnote_cell_type": "markdown"
   },
   "source": [
    "### 1. Clean raw calendar dataset"
   ]
  },
  {
   "cell_type": "code",
   "execution_count": 3,
   "metadata": {
    "cell_id": "ee676dcd43a54a0aa39812ebd1a4e3f5",
    "deepnote_cell_type": "code",
    "deepnote_to_be_reexecuted": false,
    "execution_millis": 5,
    "execution_start": 1681863689949,
    "source_hash": "fa182e8"
   },
   "outputs": [],
   "source": [
    "# calendar_df_raw.info()\n",
    "# calendar_df_raw.isna().sum()\n",
    "# calendar_df.listing_id.nunique()\n",
    "# calendar_df_raw.head(3)"
   ]
  },
  {
   "cell_type": "code",
   "execution_count": 4,
   "metadata": {
    "cell_id": "8159231d269b4134a703b905e92d2289",
    "deepnote_cell_type": "code",
    "deepnote_to_be_reexecuted": false,
    "execution_millis": 2,
    "execution_start": 1681863689953,
    "source_hash": "18bcdb7e"
   },
   "outputs": [],
   "source": [
    "def clean_calendar(df):\n",
    "\n",
    "    # convert date to date type\n",
    "    df['date'] = pd.to_datetime(df['date'])\n",
    "\n",
    "    # convert license into 1 and 0\n",
    "    df['available'] = df['available'].replace(({'t':1, 'f':0}))\n",
    "\n",
    "    # extract price and adjusted_price and convert to int\n",
    "    df['price'] = df['price'].str.replace('$', '')\\\n",
    "                .replace(to_replace ='\\.00', value = '', regex = True)\\\n",
    "                .replace(to_replace =',', value = '', regex = True)\\\n",
    "                .astype(float)\n",
    "\n",
    "    df['adjusted_price'] = df['adjusted_price'].str.replace('$', '')\\\n",
    "                .replace(to_replace ='\\.00', value = '', regex = True)\\\n",
    "                .replace(to_replace =',', value = '', regex = True)\\\n",
    "                .astype(float)\n",
    "    \n",
    "    return df"
   ]
  },
  {
   "cell_type": "code",
   "execution_count": 5,
   "metadata": {
    "cell_id": "743e9cd7a1dd4f2b9a3deacbe70165dc",
    "deepnote_cell_type": "code",
    "deepnote_to_be_reexecuted": false,
    "execution_millis": 10021,
    "execution_start": 1681863689953,
    "source_hash": "364ae0db"
   },
   "outputs": [
    {
     "name": "stdout",
     "output_type": "stream",
     "text": [
      "(2249860, 7)\n",
      "CPU times: user 9.74 s, sys: 239 ms, total: 9.98 s\n",
      "Wall time: 9.98 s\n"
     ]
    },
    {
     "data": {
      "application/vnd.deepnote.dataframe.v3+json": {
       "column_count": 7,
       "columns": [
        {
         "dtype": "int64",
         "name": "listing_id",
         "stats": {
          "histogram": [
           {
            "bin_end": 844938.6,
            "bin_start": 844938.5,
            "count": 0
           },
           {
            "bin_end": 844938.7,
            "bin_start": 844938.6,
            "count": 0
           },
           {
            "bin_end": 844938.8,
            "bin_start": 844938.7,
            "count": 0
           },
           {
            "bin_end": 844938.9,
            "bin_start": 844938.8,
            "count": 0
           },
           {
            "bin_end": 844939,
            "bin_start": 844938.9,
            "count": 0
           },
           {
            "bin_end": 844939.1,
            "bin_start": 844939,
            "count": 3
           },
           {
            "bin_end": 844939.2,
            "bin_start": 844939.1,
            "count": 0
           },
           {
            "bin_end": 844939.3,
            "bin_start": 844939.2,
            "count": 0
           },
           {
            "bin_end": 844939.4,
            "bin_start": 844939.3,
            "count": 0
           },
           {
            "bin_end": 844939.5,
            "bin_start": 844939.4,
            "count": 0
           }
          ],
          "max": "844939",
          "min": "844939",
          "nan_count": 0,
          "unique_count": 1
         }
        },
        {
         "dtype": "datetime64[ns]",
         "name": "date",
         "stats": {
          "histogram": [
           {
            "bin_end": 1671857280000000000,
            "bin_start": 1671840000000000000,
            "count": 1
           },
           {
            "bin_end": 1671874560000000000,
            "bin_start": 1671857280000000000,
            "count": 0
           },
           {
            "bin_end": 1671891840000000000,
            "bin_start": 1671874560000000000,
            "count": 0
           },
           {
            "bin_end": 1671909120000000000,
            "bin_start": 1671891840000000000,
            "count": 0
           },
           {
            "bin_end": 1671926400000000000,
            "bin_start": 1671909120000000000,
            "count": 0
           },
           {
            "bin_end": 1671943680000000000,
            "bin_start": 1671926400000000000,
            "count": 1
           },
           {
            "bin_end": 1671960960000000000,
            "bin_start": 1671943680000000000,
            "count": 0
           },
           {
            "bin_end": 1671978240000000000,
            "bin_start": 1671960960000000000,
            "count": 0
           },
           {
            "bin_end": 1671995520000000000,
            "bin_start": 1671978240000000000,
            "count": 0
           },
           {
            "bin_end": 1672012800000000000,
            "bin_start": 1671995520000000000,
            "count": 1
           }
          ],
          "max": "2022-12-26 00:00:00",
          "min": "2022-12-24 00:00:00",
          "nan_count": 0,
          "unique_count": 3
         }
        },
        {
         "dtype": "int64",
         "name": "available",
         "stats": {
          "histogram": [
           {
            "bin_end": 0.1,
            "bin_start": 0,
            "count": 2
           },
           {
            "bin_end": 0.2,
            "bin_start": 0.1,
            "count": 0
           },
           {
            "bin_end": 0.30000000000000004,
            "bin_start": 0.2,
            "count": 0
           },
           {
            "bin_end": 0.4,
            "bin_start": 0.30000000000000004,
            "count": 0
           },
           {
            "bin_end": 0.5,
            "bin_start": 0.4,
            "count": 0
           },
           {
            "bin_end": 0.6000000000000001,
            "bin_start": 0.5,
            "count": 0
           },
           {
            "bin_end": 0.7000000000000001,
            "bin_start": 0.6000000000000001,
            "count": 0
           },
           {
            "bin_end": 0.8,
            "bin_start": 0.7000000000000001,
            "count": 0
           },
           {
            "bin_end": 0.9,
            "bin_start": 0.8,
            "count": 0
           },
           {
            "bin_end": 1,
            "bin_start": 0.9,
            "count": 1
           }
          ],
          "max": "1",
          "min": "0",
          "nan_count": 0,
          "unique_count": 2
         }
        },
        {
         "dtype": "float64",
         "name": "price",
         "stats": {
          "histogram": [
           {
            "bin_end": 116,
            "bin_start": 115,
            "count": 2
           },
           {
            "bin_end": 117,
            "bin_start": 116,
            "count": 0
           },
           {
            "bin_end": 118,
            "bin_start": 117,
            "count": 0
           },
           {
            "bin_end": 119,
            "bin_start": 118,
            "count": 0
           },
           {
            "bin_end": 120,
            "bin_start": 119,
            "count": 0
           },
           {
            "bin_end": 121,
            "bin_start": 120,
            "count": 0
           },
           {
            "bin_end": 122,
            "bin_start": 121,
            "count": 0
           },
           {
            "bin_end": 123,
            "bin_start": 122,
            "count": 0
           },
           {
            "bin_end": 124,
            "bin_start": 123,
            "count": 0
           },
           {
            "bin_end": 125,
            "bin_start": 124,
            "count": 1
           }
          ],
          "max": "125.0",
          "min": "115.0",
          "nan_count": 0,
          "unique_count": 2
         }
        },
        {
         "dtype": "float64",
         "name": "adjusted_price",
         "stats": {
          "histogram": [
           {
            "bin_end": 110,
            "bin_start": 109,
            "count": 2
           },
           {
            "bin_end": 111,
            "bin_start": 110,
            "count": 0
           },
           {
            "bin_end": 112,
            "bin_start": 111,
            "count": 0
           },
           {
            "bin_end": 113,
            "bin_start": 112,
            "count": 0
           },
           {
            "bin_end": 114,
            "bin_start": 113,
            "count": 0
           },
           {
            "bin_end": 115,
            "bin_start": 114,
            "count": 0
           },
           {
            "bin_end": 116,
            "bin_start": 115,
            "count": 0
           },
           {
            "bin_end": 117,
            "bin_start": 116,
            "count": 0
           },
           {
            "bin_end": 118,
            "bin_start": 117,
            "count": 0
           },
           {
            "bin_end": 119,
            "bin_start": 118,
            "count": 1
           }
          ],
          "max": "119.0",
          "min": "109.0",
          "nan_count": 0,
          "unique_count": 2
         }
        },
        {
         "dtype": "int64",
         "name": "minimum_nights",
         "stats": {
          "histogram": [
           {
            "bin_end": 1.6,
            "bin_start": 1.5,
            "count": 0
           },
           {
            "bin_end": 1.7,
            "bin_start": 1.6,
            "count": 0
           },
           {
            "bin_end": 1.8,
            "bin_start": 1.7,
            "count": 0
           },
           {
            "bin_end": 1.9,
            "bin_start": 1.8,
            "count": 0
           },
           {
            "bin_end": 2,
            "bin_start": 1.9,
            "count": 0
           },
           {
            "bin_end": 2.1,
            "bin_start": 2,
            "count": 3
           },
           {
            "bin_end": 2.2,
            "bin_start": 2.1,
            "count": 0
           },
           {
            "bin_end": 2.3,
            "bin_start": 2.2,
            "count": 0
           },
           {
            "bin_end": 2.4,
            "bin_start": 2.3,
            "count": 0
           },
           {
            "bin_end": 2.5,
            "bin_start": 2.4,
            "count": 0
           }
          ],
          "max": "2",
          "min": "2",
          "nan_count": 0,
          "unique_count": 1
         }
        },
        {
         "dtype": "int64",
         "name": "maximum_nights",
         "stats": {
          "histogram": [
           {
            "bin_end": 1124.6,
            "bin_start": 1124.5,
            "count": 0
           },
           {
            "bin_end": 1124.7,
            "bin_start": 1124.6,
            "count": 0
           },
           {
            "bin_end": 1124.8,
            "bin_start": 1124.7,
            "count": 0
           },
           {
            "bin_end": 1124.9,
            "bin_start": 1124.8,
            "count": 0
           },
           {
            "bin_end": 1125,
            "bin_start": 1124.9,
            "count": 0
           },
           {
            "bin_end": 1125.1,
            "bin_start": 1125,
            "count": 3
           },
           {
            "bin_end": 1125.2,
            "bin_start": 1125.1,
            "count": 0
           },
           {
            "bin_end": 1125.3,
            "bin_start": 1125.2,
            "count": 0
           },
           {
            "bin_end": 1125.4,
            "bin_start": 1125.3,
            "count": 0
           },
           {
            "bin_end": 1125.5,
            "bin_start": 1125.4,
            "count": 0
           }
          ],
          "max": "1125",
          "min": "1125",
          "nan_count": 0,
          "unique_count": 1
         }
        },
        {
         "dtype": "int64",
         "name": "_deepnote_index_column"
        }
       ],
       "row_count": 3,
       "rows": [
        {
         "_deepnote_index_column": "0",
         "adjusted_price": "119.0",
         "available": "1",
         "date": "2022-12-24 00:00:00",
         "listing_id": "844939",
         "maximum_nights": "1125",
         "minimum_nights": "2",
         "price": "125.0"
        },
        {
         "_deepnote_index_column": "1",
         "adjusted_price": "109.0",
         "available": "0",
         "date": "2022-12-25 00:00:00",
         "listing_id": "844939",
         "maximum_nights": "1125",
         "minimum_nights": "2",
         "price": "115.0"
        },
        {
         "_deepnote_index_column": "2",
         "adjusted_price": "109.0",
         "available": "0",
         "date": "2022-12-26 00:00:00",
         "listing_id": "844939",
         "maximum_nights": "1125",
         "minimum_nights": "2",
         "price": "115.0"
        }
       ]
      },
      "text/html": [
       "<div>\n",
       "<style scoped>\n",
       "    .dataframe tbody tr th:only-of-type {\n",
       "        vertical-align: middle;\n",
       "    }\n",
       "\n",
       "    .dataframe tbody tr th {\n",
       "        vertical-align: top;\n",
       "    }\n",
       "\n",
       "    .dataframe thead th {\n",
       "        text-align: right;\n",
       "    }\n",
       "</style>\n",
       "<table border=\"1\" class=\"dataframe\">\n",
       "  <thead>\n",
       "    <tr style=\"text-align: right;\">\n",
       "      <th></th>\n",
       "      <th>listing_id</th>\n",
       "      <th>date</th>\n",
       "      <th>available</th>\n",
       "      <th>price</th>\n",
       "      <th>adjusted_price</th>\n",
       "      <th>minimum_nights</th>\n",
       "      <th>maximum_nights</th>\n",
       "    </tr>\n",
       "  </thead>\n",
       "  <tbody>\n",
       "    <tr>\n",
       "      <th>0</th>\n",
       "      <td>844939</td>\n",
       "      <td>2022-12-24</td>\n",
       "      <td>1</td>\n",
       "      <td>125.0</td>\n",
       "      <td>119.0</td>\n",
       "      <td>2</td>\n",
       "      <td>1125</td>\n",
       "    </tr>\n",
       "    <tr>\n",
       "      <th>1</th>\n",
       "      <td>844939</td>\n",
       "      <td>2022-12-25</td>\n",
       "      <td>0</td>\n",
       "      <td>115.0</td>\n",
       "      <td>109.0</td>\n",
       "      <td>2</td>\n",
       "      <td>1125</td>\n",
       "    </tr>\n",
       "    <tr>\n",
       "      <th>2</th>\n",
       "      <td>844939</td>\n",
       "      <td>2022-12-26</td>\n",
       "      <td>0</td>\n",
       "      <td>115.0</td>\n",
       "      <td>109.0</td>\n",
       "      <td>2</td>\n",
       "      <td>1125</td>\n",
       "    </tr>\n",
       "  </tbody>\n",
       "</table>\n",
       "</div>"
      ],
      "text/plain": [
       "   listing_id       date  available  price  adjusted_price  minimum_nights   \n",
       "0      844939 2022-12-24          1  125.0           119.0               2  \\\n",
       "1      844939 2022-12-25          0  115.0           109.0               2   \n",
       "2      844939 2022-12-26          0  115.0           109.0               2   \n",
       "\n",
       "   maximum_nights  \n",
       "0            1125  \n",
       "1            1125  \n",
       "2            1125  "
      ]
     },
     "execution_count": 5,
     "metadata": {},
     "output_type": "execute_result"
    }
   ],
   "source": [
    "%%time\n",
    "calendar_df = clean_calendar(calendar_df_raw)\n",
    "print(calendar_df.shape)\n",
    "calendar_df.head(3)"
   ]
  },
  {
   "cell_type": "markdown",
   "metadata": {
    "cell_id": "51d12f440a7347c2aa9e3ba3f56b8682",
    "deepnote_cell_type": "markdown"
   },
   "source": [
    "### 2. Save the cleaned calendar dataset"
   ]
  },
  {
   "cell_type": "markdown",
   "metadata": {
    "cell_id": "e82aede0227f4ea39133b27f8f7178bd",
    "deepnote_cell_type": "markdown"
   },
   "source": [
    "Save the cleaned calendar dataset."
   ]
  },
  {
   "cell_type": "code",
   "execution_count": 6,
   "metadata": {
    "cell_id": "2bcf76559d304bcc8c4eabc807a67ef8",
    "deepnote_cell_type": "code",
    "deepnote_to_be_reexecuted": false,
    "execution_millis": 897,
    "execution_start": 1681863699975,
    "source_hash": "1b548df7"
   },
   "outputs": [],
   "source": [
    "# save the cleaned data \n",
    "calendar_df.to_pickle('../data/data_cleaned/cleaned_calendar.zip')"
   ]
  },
  {
   "cell_type": "code",
   "execution_count": 7,
   "metadata": {
    "cell_id": "ddc9f73d8eb04e0fb83674195a7c13fd",
    "deepnote_cell_type": "code",
    "deepnote_to_be_reexecuted": false,
    "execution_millis": 295,
    "execution_start": 1681863700872,
    "source_hash": "4d4492f0"
   },
   "outputs": [
    {
     "name": "stdout",
     "output_type": "stream",
     "text": [
      "(2249860, 7)\n"
     ]
    },
    {
     "data": {
      "application/vnd.deepnote.dataframe.v3+json": {
       "column_count": 7,
       "columns": [
        {
         "dtype": "int64",
         "name": "listing_id",
         "stats": {
          "histogram": [
           {
            "bin_end": 844938.6,
            "bin_start": 844938.5,
            "count": 0
           },
           {
            "bin_end": 844938.7,
            "bin_start": 844938.6,
            "count": 0
           },
           {
            "bin_end": 844938.8,
            "bin_start": 844938.7,
            "count": 0
           },
           {
            "bin_end": 844938.9,
            "bin_start": 844938.8,
            "count": 0
           },
           {
            "bin_end": 844939,
            "bin_start": 844938.9,
            "count": 0
           },
           {
            "bin_end": 844939.1,
            "bin_start": 844939,
            "count": 2
           },
           {
            "bin_end": 844939.2,
            "bin_start": 844939.1,
            "count": 0
           },
           {
            "bin_end": 844939.3,
            "bin_start": 844939.2,
            "count": 0
           },
           {
            "bin_end": 844939.4,
            "bin_start": 844939.3,
            "count": 0
           },
           {
            "bin_end": 844939.5,
            "bin_start": 844939.4,
            "count": 0
           }
          ],
          "max": "844939",
          "min": "844939",
          "nan_count": 0,
          "unique_count": 1
         }
        },
        {
         "dtype": "datetime64[ns]",
         "name": "date",
         "stats": {
          "histogram": [
           {
            "bin_end": 1671848640000000000,
            "bin_start": 1671840000000000000,
            "count": 1
           },
           {
            "bin_end": 1671857280000000000,
            "bin_start": 1671848640000000000,
            "count": 0
           },
           {
            "bin_end": 1671865920000000000,
            "bin_start": 1671857280000000000,
            "count": 0
           },
           {
            "bin_end": 1671874560000000000,
            "bin_start": 1671865920000000000,
            "count": 0
           },
           {
            "bin_end": 1671883200000000000,
            "bin_start": 1671874560000000000,
            "count": 0
           },
           {
            "bin_end": 1671891840000000000,
            "bin_start": 1671883200000000000,
            "count": 0
           },
           {
            "bin_end": 1671900480000000000,
            "bin_start": 1671891840000000000,
            "count": 0
           },
           {
            "bin_end": 1671909120000000000,
            "bin_start": 1671900480000000000,
            "count": 0
           },
           {
            "bin_end": 1671917760000000000,
            "bin_start": 1671909120000000000,
            "count": 0
           },
           {
            "bin_end": 1671926400000000000,
            "bin_start": 1671917760000000000,
            "count": 1
           }
          ],
          "max": "2022-12-25 00:00:00",
          "min": "2022-12-24 00:00:00",
          "nan_count": 0,
          "unique_count": 2
         }
        },
        {
         "dtype": "int64",
         "name": "available",
         "stats": {
          "histogram": [
           {
            "bin_end": 0.1,
            "bin_start": 0,
            "count": 1
           },
           {
            "bin_end": 0.2,
            "bin_start": 0.1,
            "count": 0
           },
           {
            "bin_end": 0.30000000000000004,
            "bin_start": 0.2,
            "count": 0
           },
           {
            "bin_end": 0.4,
            "bin_start": 0.30000000000000004,
            "count": 0
           },
           {
            "bin_end": 0.5,
            "bin_start": 0.4,
            "count": 0
           },
           {
            "bin_end": 0.6000000000000001,
            "bin_start": 0.5,
            "count": 0
           },
           {
            "bin_end": 0.7000000000000001,
            "bin_start": 0.6000000000000001,
            "count": 0
           },
           {
            "bin_end": 0.8,
            "bin_start": 0.7000000000000001,
            "count": 0
           },
           {
            "bin_end": 0.9,
            "bin_start": 0.8,
            "count": 0
           },
           {
            "bin_end": 1,
            "bin_start": 0.9,
            "count": 1
           }
          ],
          "max": "1",
          "min": "0",
          "nan_count": 0,
          "unique_count": 2
         }
        },
        {
         "dtype": "float64",
         "name": "price",
         "stats": {
          "histogram": [
           {
            "bin_end": 116,
            "bin_start": 115,
            "count": 1
           },
           {
            "bin_end": 117,
            "bin_start": 116,
            "count": 0
           },
           {
            "bin_end": 118,
            "bin_start": 117,
            "count": 0
           },
           {
            "bin_end": 119,
            "bin_start": 118,
            "count": 0
           },
           {
            "bin_end": 120,
            "bin_start": 119,
            "count": 0
           },
           {
            "bin_end": 121,
            "bin_start": 120,
            "count": 0
           },
           {
            "bin_end": 122,
            "bin_start": 121,
            "count": 0
           },
           {
            "bin_end": 123,
            "bin_start": 122,
            "count": 0
           },
           {
            "bin_end": 124,
            "bin_start": 123,
            "count": 0
           },
           {
            "bin_end": 125,
            "bin_start": 124,
            "count": 1
           }
          ],
          "max": "125.0",
          "min": "115.0",
          "nan_count": 0,
          "unique_count": 2
         }
        },
        {
         "dtype": "float64",
         "name": "adjusted_price",
         "stats": {
          "histogram": [
           {
            "bin_end": 110,
            "bin_start": 109,
            "count": 1
           },
           {
            "bin_end": 111,
            "bin_start": 110,
            "count": 0
           },
           {
            "bin_end": 112,
            "bin_start": 111,
            "count": 0
           },
           {
            "bin_end": 113,
            "bin_start": 112,
            "count": 0
           },
           {
            "bin_end": 114,
            "bin_start": 113,
            "count": 0
           },
           {
            "bin_end": 115,
            "bin_start": 114,
            "count": 0
           },
           {
            "bin_end": 116,
            "bin_start": 115,
            "count": 0
           },
           {
            "bin_end": 117,
            "bin_start": 116,
            "count": 0
           },
           {
            "bin_end": 118,
            "bin_start": 117,
            "count": 0
           },
           {
            "bin_end": 119,
            "bin_start": 118,
            "count": 1
           }
          ],
          "max": "119.0",
          "min": "109.0",
          "nan_count": 0,
          "unique_count": 2
         }
        },
        {
         "dtype": "int64",
         "name": "minimum_nights",
         "stats": {
          "histogram": [
           {
            "bin_end": 1.6,
            "bin_start": 1.5,
            "count": 0
           },
           {
            "bin_end": 1.7,
            "bin_start": 1.6,
            "count": 0
           },
           {
            "bin_end": 1.8,
            "bin_start": 1.7,
            "count": 0
           },
           {
            "bin_end": 1.9,
            "bin_start": 1.8,
            "count": 0
           },
           {
            "bin_end": 2,
            "bin_start": 1.9,
            "count": 0
           },
           {
            "bin_end": 2.1,
            "bin_start": 2,
            "count": 2
           },
           {
            "bin_end": 2.2,
            "bin_start": 2.1,
            "count": 0
           },
           {
            "bin_end": 2.3,
            "bin_start": 2.2,
            "count": 0
           },
           {
            "bin_end": 2.4,
            "bin_start": 2.3,
            "count": 0
           },
           {
            "bin_end": 2.5,
            "bin_start": 2.4,
            "count": 0
           }
          ],
          "max": "2",
          "min": "2",
          "nan_count": 0,
          "unique_count": 1
         }
        },
        {
         "dtype": "int64",
         "name": "maximum_nights",
         "stats": {
          "histogram": [
           {
            "bin_end": 1124.6,
            "bin_start": 1124.5,
            "count": 0
           },
           {
            "bin_end": 1124.7,
            "bin_start": 1124.6,
            "count": 0
           },
           {
            "bin_end": 1124.8,
            "bin_start": 1124.7,
            "count": 0
           },
           {
            "bin_end": 1124.9,
            "bin_start": 1124.8,
            "count": 0
           },
           {
            "bin_end": 1125,
            "bin_start": 1124.9,
            "count": 0
           },
           {
            "bin_end": 1125.1,
            "bin_start": 1125,
            "count": 2
           },
           {
            "bin_end": 1125.2,
            "bin_start": 1125.1,
            "count": 0
           },
           {
            "bin_end": 1125.3,
            "bin_start": 1125.2,
            "count": 0
           },
           {
            "bin_end": 1125.4,
            "bin_start": 1125.3,
            "count": 0
           },
           {
            "bin_end": 1125.5,
            "bin_start": 1125.4,
            "count": 0
           }
          ],
          "max": "1125",
          "min": "1125",
          "nan_count": 0,
          "unique_count": 1
         }
        },
        {
         "dtype": "int64",
         "name": "_deepnote_index_column"
        }
       ],
       "row_count": 2,
       "rows": [
        {
         "_deepnote_index_column": "0",
         "adjusted_price": "119.0",
         "available": "1",
         "date": "2022-12-24 00:00:00",
         "listing_id": "844939",
         "maximum_nights": "1125",
         "minimum_nights": "2",
         "price": "125.0"
        },
        {
         "_deepnote_index_column": "1",
         "adjusted_price": "109.0",
         "available": "0",
         "date": "2022-12-25 00:00:00",
         "listing_id": "844939",
         "maximum_nights": "1125",
         "minimum_nights": "2",
         "price": "115.0"
        }
       ]
      },
      "text/html": [
       "<div>\n",
       "<style scoped>\n",
       "    .dataframe tbody tr th:only-of-type {\n",
       "        vertical-align: middle;\n",
       "    }\n",
       "\n",
       "    .dataframe tbody tr th {\n",
       "        vertical-align: top;\n",
       "    }\n",
       "\n",
       "    .dataframe thead th {\n",
       "        text-align: right;\n",
       "    }\n",
       "</style>\n",
       "<table border=\"1\" class=\"dataframe\">\n",
       "  <thead>\n",
       "    <tr style=\"text-align: right;\">\n",
       "      <th></th>\n",
       "      <th>listing_id</th>\n",
       "      <th>date</th>\n",
       "      <th>available</th>\n",
       "      <th>price</th>\n",
       "      <th>adjusted_price</th>\n",
       "      <th>minimum_nights</th>\n",
       "      <th>maximum_nights</th>\n",
       "    </tr>\n",
       "  </thead>\n",
       "  <tbody>\n",
       "    <tr>\n",
       "      <th>0</th>\n",
       "      <td>844939</td>\n",
       "      <td>2022-12-24</td>\n",
       "      <td>1</td>\n",
       "      <td>125.0</td>\n",
       "      <td>119.0</td>\n",
       "      <td>2</td>\n",
       "      <td>1125</td>\n",
       "    </tr>\n",
       "    <tr>\n",
       "      <th>1</th>\n",
       "      <td>844939</td>\n",
       "      <td>2022-12-25</td>\n",
       "      <td>0</td>\n",
       "      <td>115.0</td>\n",
       "      <td>109.0</td>\n",
       "      <td>2</td>\n",
       "      <td>1125</td>\n",
       "    </tr>\n",
       "  </tbody>\n",
       "</table>\n",
       "</div>"
      ],
      "text/plain": [
       "   listing_id       date  available  price  adjusted_price  minimum_nights   \n",
       "0      844939 2022-12-24          1  125.0           119.0               2  \\\n",
       "1      844939 2022-12-25          0  115.0           109.0               2   \n",
       "\n",
       "   maximum_nights  \n",
       "0            1125  \n",
       "1            1125  "
      ]
     },
     "execution_count": 7,
     "metadata": {},
     "output_type": "execute_result"
    }
   ],
   "source": [
    "# check and read the saved data\n",
    "cleaned_calendar_df = pd.read_pickle('../data/data_cleaned//cleaned_calendar.zip')\n",
    "print(cleaned_calendar_df.shape)\n",
    "cleaned_calendar_df.head(2)"
   ]
  },
  {
   "cell_type": "markdown",
   "metadata": {
    "cell_id": "319b5a1cd68b4544af2e5ada3f3cfba9",
    "deepnote_cell_type": "markdown",
    "tags": []
   },
   "source": []
  },
  {
   "cell_type": "markdown",
   "metadata": {
    "created_in_deepnote_cell": true,
    "deepnote_cell_type": "markdown"
   },
   "source": [
    "<a style='text-decoration:none;line-height:16px;display:flex;color:#5B5B62;padding:10px;justify-content:end;' href='https://deepnote.com?utm_source=created-in-deepnote-cell&projectId=f2a50dc6-ff6a-45ff-9dbe-d7a35bd1e393' target=\"_blank\">\n",
    "<img alt='Created in deepnote.com' style='display:inline;max-height:16px;margin:0px;margin-right:7.5px;' src='data:image/svg+xml;base64,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' > </img>\n",
    "Created in <span style='font-weight:600;margin-left:4px;'>Deepnote</span></a>"
   ]
  }
 ],
 "metadata": {
  "deepnote": {},
  "deepnote_execution_queue": [],
  "deepnote_notebook_id": "aef00185afcd493c8abf25c5eeb3542b",
  "kernelspec": {
   "display_name": "Python 3",
   "language": "python",
   "name": "python3"
  },
  "language_info": {
   "codemirror_mode": {
    "name": "ipython",
    "version": 3
   },
   "file_extension": ".py",
   "mimetype": "text/x-python",
   "name": "python",
   "nbconvert_exporter": "python",
   "pygments_lexer": "ipython3",
   "version": "3.8.3"
  }
 },
 "nbformat": 4,
 "nbformat_minor": 1
}
