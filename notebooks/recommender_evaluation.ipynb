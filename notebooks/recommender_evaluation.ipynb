{
 "cells": [
  {
   "cell_type": "markdown",
   "metadata": {
    "cell_id": "daee4371899e47a2953bb8364bfd16f8",
    "deepnote_cell_type": "markdown"
   },
   "source": [
    "## Evaluation for the text-based recommender and the combined recommender based on survey data"
   ]
  },
  {
   "cell_type": "code",
   "execution_count": 1,
   "metadata": {
    "cell_id": "676bd6c702d44fbb9a2fdb875077a9e7",
    "deepnote_cell_type": "code",
    "deepnote_to_be_reexecuted": false,
    "execution_millis": 1698,
    "execution_start": 1681851948486,
    "source_hash": "914795f7"
   },
   "outputs": [],
   "source": [
    "# !pip list"
   ]
  },
  {
   "cell_type": "markdown",
   "metadata": {
    "cell_id": "d557282fec1b4ca58d1706989ada9fa2",
    "deepnote_cell_type": "markdown",
    "id": "yP2saHhCWDtO"
   },
   "source": [
    "## Recommender Evaluation"
   ]
  },
  {
   "cell_type": "markdown",
   "metadata": {
    "cell_id": "c100b046f6634acbb333e94e64517ba8",
    "deepnote_cell_type": "markdown",
    "id": "jkfKip3XWIca"
   },
   "source": [
    "### Load and clean the data"
   ]
  },
  {
   "cell_type": "markdown",
   "metadata": {
    "cell_id": "eca3caeb2cf642efb75828f4f303c4e6",
    "deepnote_cell_type": "markdown",
    "id": "idu3eeBhQRyW"
   },
   "source": [
    "We have two Airbnb recommenders and we want to evaluate both of them. \n",
    "\n",
    "One recommender is a text based only search engine. The other recommender is a combined recommender that tries to improved upon the text only one by trying to utilize some numeric features. See other notebooks and the report for more details.\n",
    "\n",
    "We conducted surveys having humans rate the search results from each search engine. This notebook processes those surveys and evaluates the search engines using NDCG.\n",
    "\n",
    "The survey data consists of spreadsheets, which are the responses of our human raters. Each spreadsheet consists of a list of queries and their search result list, sorted by what the system thinks is the most relevant. \n",
    "\n",
    "The rater would look at the Airbnb recommender web app's search result in detail and then rate the particular search result (suggested Airbnb listing) on a scale of 1 to 5, 1 being not relevant, 5 being highly relevant.\n",
    "\n",
    "The survey data is already somewhat cleaned, because the user only has to fill in the relevance column with a number from 1 to 5.\n",
    "\n",
    "Although the surveys for the combined recommender may contain more columns than the text based one, for the purposes of *this* notebook the survey files are identical, the only real difference being the rater's ratings. So we'll read in one file and make it the main data frame. Then we read in the other survey result files but only take the ratings column. The column we need from the other files is \"Relevance: 1 to 5\", which we'll rename to match the rater name and the type of search engine evaluated.\n",
    "\n",
    "Then we use this data frame to evaluate the two search engines.\n"
   ]
  },
  {
   "cell_type": "code",
   "execution_count": 2,
   "metadata": {
    "cell_id": "f12ba2a14c0c4bc7b9478db4265f744d",
    "deepnote_cell_type": "code",
    "deepnote_to_be_reexecuted": false,
    "execution_millis": 107,
    "execution_start": 1681851950229,
    "id": "7nXBEJUYVXEo",
    "source_hash": "cd03a997"
   },
   "outputs": [],
   "source": [
    "import numpy as np\n",
    "import pandas as pd\n",
    "import math\n",
    "import altair as alt\n",
    "\n",
    "basepath='../data/surveys/'\n",
    "rater_files = ['Text only Airbnb recommender survey_rater_1.xlsx',\n",
    "              'Text only Airbnb recommender survey_rater_2.xlsx',\n",
    "              'Text only Airbnb recommender survey_rater_3.xlsx',\n",
    "              'Combined Airbnb recommender survey_rater_1.xlsx',\n",
    "              'Combined Airbnb recommender survey_rater_2.xlsx',\n",
    "              'Combined Airbnb recommender survey_rater_3.xlsx',]\n",
    "\n",
    "columns=['Query text','Price range','listing_id','listing_url','listing_name','Relevance: 1 to 5']\n",
    "\n",
    "cols_exel_issue = ['Query text', 'Price range', 'Bed, bedroom, bathroom',\n",
    "                   'cluster_id', 'listing_id', 'listing_url', 'listing_name',\n",
    "                   'Relevance: 1 to 5']"
   ]
  },
  {
   "cell_type": "code",
   "execution_count": 3,
   "metadata": {
    "cell_id": "0415dbf473254b128169382c44d93609",
    "colab": {
     "base_uri": "https://localhost:8080/",
     "height": 686
    },
    "deepnote_cell_type": "code",
    "deepnote_to_be_reexecuted": false,
    "execution_millis": 194,
    "execution_start": 1681851950377,
    "id": "tqILm1anYdG1",
    "outputId": "35df6835-fda5-4977-e93f-322975d699f2",
    "source_hash": "3d6363d5"
   },
   "outputs": [
    {
     "data": {
      "application/vnd.deepnote.dataframe.v3+json": {
       "column_count": 6,
       "columns": [
        {
         "dtype": "object",
         "name": "Query text",
         "stats": {
          "categories": [
           {
            "count": 1,
            "name": "I want a private room close to uw campus with parking and coffee shop."
           },
           {
            "count": 2,
            "name": "2 others"
           },
           {
            "count": 9,
            "name": "Missing"
           }
          ],
          "nan_count": 9,
          "unique_count": 3
         }
        },
        {
         "dtype": "object",
         "name": "Price range",
         "stats": {
          "categories": [
           {
            "count": 1,
            "name": "$50-$5000"
           },
           {
            "count": 11,
            "name": "Missing"
           }
          ],
          "nan_count": 11,
          "unique_count": 1
         }
        },
        {
         "dtype": "int64",
         "name": "listing_id",
         "stats": {
          "histogram": [
           {
            "bin_end": 66973561749672230,
            "bin_start": 3852185,
            "count": 11
           },
           {
            "bin_end": 133947123495492290,
            "bin_start": 66973561749672230,
            "count": 0
           },
           {
            "bin_end": 200920685241312350,
            "bin_start": 133947123495492290,
            "count": 0
           },
           {
            "bin_end": 267894246987132380,
            "bin_start": 200920685241312350,
            "count": 0
           },
           {
            "bin_end": 334867808732952400,
            "bin_start": 267894246987132380,
            "count": 0
           },
           {
            "bin_end": 401841370478772500,
            "bin_start": 334867808732952400,
            "count": 0
           },
           {
            "bin_end": 468814932224592500,
            "bin_start": 401841370478772500,
            "count": 0
           },
           {
            "bin_end": 535788493970412540,
            "bin_start": 468814932224592500,
            "count": 0
           },
           {
            "bin_end": 602762055716232600,
            "bin_start": 535788493970412540,
            "count": 0
           },
           {
            "bin_end": 669735617462052600,
            "bin_start": 602762055716232600,
            "count": 1
           }
          ],
          "max": "669735617462052600",
          "min": "3852185",
          "nan_count": 0,
          "unique_count": 12
         }
        },
        {
         "dtype": "object",
         "name": "listing_url",
         "stats": {
          "categories": [
           {
            "count": 1,
            "name": "https://www.airbnb.com/rooms/37640654"
           },
           {
            "count": 1,
            "name": "https://www.airbnb.com/rooms/54166095"
           },
           {
            "count": 10,
            "name": "10 others"
           }
          ],
          "nan_count": 0,
          "unique_count": 12
         }
        },
        {
         "dtype": "object",
         "name": "listing_name",
         "stats": {
          "categories": [
           {
            "count": 1,
            "name": "Montlake Apt 3 blocks from UW Light Rail & Hosp."
           },
           {
            "count": 1,
            "name": "Comfy Big Room by UW with Free Parking & Fast Wifi"
           },
           {
            "count": 10,
            "name": "10 others"
           }
          ],
          "nan_count": 0,
          "unique_count": 12
         }
        },
        {
         "dtype": "float64",
         "name": "Relevance: 1 to 5",
         "stats": {
          "histogram": [
           {
            "bin_end": 2.3,
            "bin_start": 2,
            "count": 1
           },
           {
            "bin_end": 2.6,
            "bin_start": 2.3,
            "count": 0
           },
           {
            "bin_end": 2.9,
            "bin_start": 2.6,
            "count": 0
           },
           {
            "bin_end": 3.2,
            "bin_start": 2.9,
            "count": 2
           },
           {
            "bin_end": 3.5,
            "bin_start": 3.2,
            "count": 0
           },
           {
            "bin_end": 3.8,
            "bin_start": 3.5,
            "count": 2
           },
           {
            "bin_end": 4.1,
            "bin_start": 3.8,
            "count": 4
           },
           {
            "bin_end": 4.4,
            "bin_start": 4.1,
            "count": 0
           },
           {
            "bin_end": 4.699999999999999,
            "bin_start": 4.4,
            "count": 2
           },
           {
            "bin_end": 5,
            "bin_start": 4.699999999999999,
            "count": 1
           }
          ],
          "max": "5.0",
          "min": "2.0",
          "nan_count": 0,
          "unique_count": 6
         }
        },
        {
         "dtype": "float64",
         "name": "_deepnote_index_column"
        }
       ],
       "row_count": 12,
       "rows": [
        {
         "Price range": "$50-$5000",
         "Query text": "I want a private room close to uw campus with parking and coffee shop.",
         "Relevance: 1 to 5": "4.5",
         "_deepnote_index_column": "1.0",
         "listing_id": "37640654",
         "listing_name": "Montlake Apt 3 blocks from UW Light Rail & Hosp.",
         "listing_url": "https://www.airbnb.com/rooms/37640654"
        },
        {
         "Price range": "nan",
         "Query text": "nan",
         "Relevance: 1 to 5": "5.0",
         "_deepnote_index_column": "nan",
         "listing_id": "54166095",
         "listing_name": "Comfy Big Room by UW with Free Parking & Fast Wifi",
         "listing_url": "https://www.airbnb.com/rooms/54166095"
        },
        {
         "Price range": "nan",
         "Query text": "nan",
         "Relevance: 1 to 5": "4.0",
         "_deepnote_index_column": "nan",
         "listing_id": "50549818",
         "listing_name": "Quiet, spacious, one bedroom daylight basement",
         "listing_url": "https://www.airbnb.com/rooms/50549818"
        },
        {
         "Price range": "nan",
         "Query text": "nan",
         "Relevance: 1 to 5": "4.0",
         "_deepnote_index_column": "nan",
         "listing_id": "34448530",
         "listing_name": "Montlake Tudor 3 blocks from UW Light Rail Station",
         "listing_url": "https://www.airbnb.com/rooms/34448530"
        },
        {
         "Price range": "nan",
         "Query text": "nan",
         "Relevance: 1 to 5": "3.0",
         "_deepnote_index_column": "nan",
         "listing_id": "3852185",
         "listing_name": "Room for rotating med students!",
         "listing_url": "https://www.airbnb.com/rooms/3852185"
        },
        {
         "Price range": "nan",
         "Query text": "condo near Space Needle",
         "Relevance: 1 to 5": "3.0",
         "_deepnote_index_column": "2.0",
         "listing_id": "5362889",
         "listing_name": "Stunning 2 BR Next To Space Needle & Arena!!",
         "listing_url": "https://www.airbnb.com/rooms/5362889"
        },
        {
         "Price range": "nan",
         "Query text": "nan",
         "Relevance: 1 to 5": "4.5",
         "_deepnote_index_column": "nan",
         "listing_id": "19438023",
         "listing_name": "Immaculate 2 BR Under the Space Needle & Key Arena",
         "listing_url": "https://www.airbnb.com/rooms/19438023"
        },
        {
         "Price range": "nan",
         "Query text": "nan",
         "Relevance: 1 to 5": "3.5",
         "_deepnote_index_column": "nan",
         "listing_id": "53402998",
         "listing_name": "1-bedroom condo near Space Needle",
         "listing_url": "https://www.airbnb.com/rooms/53402998"
        },
        {
         "Price range": "nan",
         "Query text": "nan",
         "Relevance: 1 to 5": "4.0",
         "_deepnote_index_column": "nan",
         "listing_id": "36770186",
         "listing_name": "Condo w/ Great View, Location, & Free Parking",
         "listing_url": "https://www.airbnb.com/rooms/36770186"
        },
        {
         "Price range": "nan",
         "Query text": "nan",
         "Relevance: 1 to 5": "2.0",
         "_deepnote_index_column": "nan",
         "listing_id": "669735617462052600",
         "listing_name": "Amazing Getaway in the Heart of Seattle",
         "listing_url": "https://www.airbnb.com/rooms/669735617462052577"
        }
       ]
      },
      "text/html": [
       "<div>\n",
       "<style scoped>\n",
       "    .dataframe tbody tr th:only-of-type {\n",
       "        vertical-align: middle;\n",
       "    }\n",
       "\n",
       "    .dataframe tbody tr th {\n",
       "        vertical-align: top;\n",
       "    }\n",
       "\n",
       "    .dataframe thead th {\n",
       "        text-align: right;\n",
       "    }\n",
       "</style>\n",
       "<table border=\"1\" class=\"dataframe\">\n",
       "  <thead>\n",
       "    <tr style=\"text-align: right;\">\n",
       "      <th></th>\n",
       "      <th>Query text</th>\n",
       "      <th>Price range</th>\n",
       "      <th>listing_id</th>\n",
       "      <th>listing_url</th>\n",
       "      <th>listing_name</th>\n",
       "      <th>Relevance: 1 to 5</th>\n",
       "    </tr>\n",
       "  </thead>\n",
       "  <tbody>\n",
       "    <tr>\n",
       "      <th>1.0</th>\n",
       "      <td>I want a private room close to uw campus with ...</td>\n",
       "      <td>$50-$5000</td>\n",
       "      <td>37640654</td>\n",
       "      <td>https://www.airbnb.com/rooms/37640654</td>\n",
       "      <td>Montlake Apt 3 blocks from UW Light Rail &amp; Hosp.</td>\n",
       "      <td>4.5</td>\n",
       "    </tr>\n",
       "    <tr>\n",
       "      <th>NaN</th>\n",
       "      <td>NaN</td>\n",
       "      <td>NaN</td>\n",
       "      <td>54166095</td>\n",
       "      <td>https://www.airbnb.com/rooms/54166095</td>\n",
       "      <td>Comfy Big Room by UW with Free Parking &amp; Fast ...</td>\n",
       "      <td>5.0</td>\n",
       "    </tr>\n",
       "    <tr>\n",
       "      <th>NaN</th>\n",
       "      <td>NaN</td>\n",
       "      <td>NaN</td>\n",
       "      <td>50549818</td>\n",
       "      <td>https://www.airbnb.com/rooms/50549818</td>\n",
       "      <td>Quiet, spacious, one bedroom daylight basement</td>\n",
       "      <td>4.0</td>\n",
       "    </tr>\n",
       "    <tr>\n",
       "      <th>NaN</th>\n",
       "      <td>NaN</td>\n",
       "      <td>NaN</td>\n",
       "      <td>34448530</td>\n",
       "      <td>https://www.airbnb.com/rooms/34448530</td>\n",
       "      <td>Montlake Tudor 3 blocks from UW Light Rail Sta...</td>\n",
       "      <td>4.0</td>\n",
       "    </tr>\n",
       "    <tr>\n",
       "      <th>NaN</th>\n",
       "      <td>NaN</td>\n",
       "      <td>NaN</td>\n",
       "      <td>3852185</td>\n",
       "      <td>https://www.airbnb.com/rooms/3852185</td>\n",
       "      <td>Room for rotating med students!</td>\n",
       "      <td>3.0</td>\n",
       "    </tr>\n",
       "    <tr>\n",
       "      <th>2.0</th>\n",
       "      <td>condo near Space Needle</td>\n",
       "      <td>NaN</td>\n",
       "      <td>5362889</td>\n",
       "      <td>https://www.airbnb.com/rooms/5362889</td>\n",
       "      <td>Stunning 2 BR Next To Space Needle &amp; Arena!!</td>\n",
       "      <td>3.0</td>\n",
       "    </tr>\n",
       "    <tr>\n",
       "      <th>NaN</th>\n",
       "      <td>NaN</td>\n",
       "      <td>NaN</td>\n",
       "      <td>19438023</td>\n",
       "      <td>https://www.airbnb.com/rooms/19438023</td>\n",
       "      <td>Immaculate 2 BR Under the Space Needle &amp; Key A...</td>\n",
       "      <td>4.5</td>\n",
       "    </tr>\n",
       "    <tr>\n",
       "      <th>NaN</th>\n",
       "      <td>NaN</td>\n",
       "      <td>NaN</td>\n",
       "      <td>53402998</td>\n",
       "      <td>https://www.airbnb.com/rooms/53402998</td>\n",
       "      <td>1-bedroom condo near Space Needle</td>\n",
       "      <td>3.5</td>\n",
       "    </tr>\n",
       "    <tr>\n",
       "      <th>NaN</th>\n",
       "      <td>NaN</td>\n",
       "      <td>NaN</td>\n",
       "      <td>36770186</td>\n",
       "      <td>https://www.airbnb.com/rooms/36770186</td>\n",
       "      <td>Condo w/ Great View, Location, &amp; Free Parking</td>\n",
       "      <td>4.0</td>\n",
       "    </tr>\n",
       "    <tr>\n",
       "      <th>NaN</th>\n",
       "      <td>NaN</td>\n",
       "      <td>NaN</td>\n",
       "      <td>669735617462052600</td>\n",
       "      <td>https://www.airbnb.com/rooms/669735617462052577</td>\n",
       "      <td>Amazing Getaway in the Heart of Seattle</td>\n",
       "      <td>2.0</td>\n",
       "    </tr>\n",
       "    <tr>\n",
       "      <th>3.0</th>\n",
       "      <td>house near famous Pike Place Starbucks</td>\n",
       "      <td>NaN</td>\n",
       "      <td>50086942</td>\n",
       "      <td>https://www.airbnb.com/rooms/50086942</td>\n",
       "      <td>Beautiful Bay View Apt near Pike Place</td>\n",
       "      <td>4.0</td>\n",
       "    </tr>\n",
       "    <tr>\n",
       "      <th>NaN</th>\n",
       "      <td>NaN</td>\n",
       "      <td>NaN</td>\n",
       "      <td>32474278</td>\n",
       "      <td>https://www.airbnb.com/rooms/32474278</td>\n",
       "      <td>Blue Haven- Water Front Condo</td>\n",
       "      <td>3.5</td>\n",
       "    </tr>\n",
       "  </tbody>\n",
       "</table>\n",
       "</div>"
      ],
      "text/plain": [
       "                                            Query text Price range   \n",
       "1.0  I want a private room close to uw campus with ...   $50-$5000  \\\n",
       "NaN                                                NaN         NaN   \n",
       "NaN                                                NaN         NaN   \n",
       "NaN                                                NaN         NaN   \n",
       "NaN                                                NaN         NaN   \n",
       "2.0                            condo near Space Needle         NaN   \n",
       "NaN                                                NaN         NaN   \n",
       "NaN                                                NaN         NaN   \n",
       "NaN                                                NaN         NaN   \n",
       "NaN                                                NaN         NaN   \n",
       "3.0             house near famous Pike Place Starbucks         NaN   \n",
       "NaN                                                NaN         NaN   \n",
       "\n",
       "             listing_id                                      listing_url   \n",
       "1.0            37640654            https://www.airbnb.com/rooms/37640654  \\\n",
       "NaN            54166095            https://www.airbnb.com/rooms/54166095   \n",
       "NaN            50549818            https://www.airbnb.com/rooms/50549818   \n",
       "NaN            34448530            https://www.airbnb.com/rooms/34448530   \n",
       "NaN             3852185             https://www.airbnb.com/rooms/3852185   \n",
       "2.0             5362889             https://www.airbnb.com/rooms/5362889   \n",
       "NaN            19438023            https://www.airbnb.com/rooms/19438023   \n",
       "NaN            53402998            https://www.airbnb.com/rooms/53402998   \n",
       "NaN            36770186            https://www.airbnb.com/rooms/36770186   \n",
       "NaN  669735617462052600  https://www.airbnb.com/rooms/669735617462052577   \n",
       "3.0            50086942            https://www.airbnb.com/rooms/50086942   \n",
       "NaN            32474278            https://www.airbnb.com/rooms/32474278   \n",
       "\n",
       "                                          listing_name  Relevance: 1 to 5  \n",
       "1.0   Montlake Apt 3 blocks from UW Light Rail & Hosp.                4.5  \n",
       "NaN  Comfy Big Room by UW with Free Parking & Fast ...                5.0  \n",
       "NaN     Quiet, spacious, one bedroom daylight basement                4.0  \n",
       "NaN  Montlake Tudor 3 blocks from UW Light Rail Sta...                4.0  \n",
       "NaN                    Room for rotating med students!                3.0  \n",
       "2.0       Stunning 2 BR Next To Space Needle & Arena!!                3.0  \n",
       "NaN  Immaculate 2 BR Under the Space Needle & Key A...                4.5  \n",
       "NaN                  1-bedroom condo near Space Needle                3.5  \n",
       "NaN      Condo w/ Great View, Location, & Free Parking                4.0  \n",
       "NaN            Amazing Getaway in the Heart of Seattle                2.0  \n",
       "3.0             Beautiful Bay View Apt near Pike Place                4.0  \n",
       "NaN                      Blue Haven- Water Front Condo                3.5  "
      ]
     },
     "execution_count": 3,
     "metadata": {},
     "output_type": "execute_result"
    }
   ],
   "source": [
    "df_ratings_raw = pd.read_excel(basepath+rater_files[0], header=13,names=columns)\n",
    "df_ratings_raw.head(12)"
   ]
  },
  {
   "cell_type": "code",
   "execution_count": 4,
   "metadata": {
    "cell_id": "cdf81ace0aa14f2d924c26a1dafaba0f",
    "colab": {
     "base_uri": "https://localhost:8080/"
    },
    "deepnote_cell_type": "code",
    "deepnote_to_be_reexecuted": false,
    "execution_millis": 8,
    "execution_start": 1681851950593,
    "id": "vYxXLB5HQPHj",
    "outputId": "ed75aeb1-3818-4dce-f25f-e82c25886bd2",
    "source_hash": "db8b32c"
   },
   "outputs": [
    {
     "name": "stdout",
     "output_type": "stream",
     "text": [
      "<class 'pandas.core.frame.DataFrame'>\n",
      "Index: 75 entries, 1.0 to nan\n",
      "Data columns (total 6 columns):\n",
      " #   Column             Non-Null Count  Dtype  \n",
      "---  ------             --------------  -----  \n",
      " 0   Query text         15 non-null     object \n",
      " 1   Price range        1 non-null      object \n",
      " 2   listing_id         75 non-null     int64  \n",
      " 3   listing_url        75 non-null     object \n",
      " 4   listing_name       75 non-null     object \n",
      " 5   Relevance: 1 to 5  75 non-null     float64\n",
      "dtypes: float64(1), int64(1), object(4)\n",
      "memory usage: 4.1+ KB\n"
     ]
    }
   ],
   "source": [
    "df_ratings_raw.info()"
   ]
  },
  {
   "cell_type": "code",
   "execution_count": 5,
   "metadata": {
    "cell_id": "f0bd7f826fea40309124f13e5c5df8e3",
    "colab": {
     "base_uri": "https://localhost:8080/"
    },
    "deepnote_cell_type": "code",
    "deepnote_to_be_reexecuted": false,
    "execution_millis": 10,
    "execution_start": 1681851950593,
    "id": "JaHdiQQrlgOo",
    "outputId": "1558f156-576a-46bb-b394-b9abc3243f61",
    "source_hash": "e7ed6e32"
   },
   "outputs": [
    {
     "data": {
      "text/plain": [
       "(75, 6)"
      ]
     },
     "execution_count": 5,
     "metadata": {},
     "output_type": "execute_result"
    }
   ],
   "source": [
    "df_ratings_raw.shape"
   ]
  },
  {
   "cell_type": "markdown",
   "metadata": {
    "cell_id": "06c85b78c8cd44229c758591e8a4cf8b",
    "deepnote_cell_type": "markdown",
    "id": "ekVP3huEaIhX"
   },
   "source": [
    "As mentioned the survey files are identical except for the rater's actual ratings and again they were already precleaned in the sense that we already examined them in a spreadsheet program. So we'll now read in just the other rater's rating column and append to our table here."
   ]
  },
  {
   "cell_type": "code",
   "execution_count": 6,
   "metadata": {
    "cell_id": "445d8a372cc447a995ce142069db97cc",
    "colab": {
     "base_uri": "https://localhost:8080/"
    },
    "deepnote_cell_type": "code",
    "deepnote_to_be_reexecuted": false,
    "execution_millis": 147,
    "execution_start": 1681851950594,
    "id": "1Gwb1kzwfP1n",
    "outputId": "289d3195-420f-455e-f8b0-33e88136faf7",
    "source_hash": "dfe155d4"
   },
   "outputs": [
    {
     "name": "stdout",
     "output_type": "stream",
     "text": [
      "Text only Airbnb recommender survey_rater_1.xlsx\n",
      "Text only Airbnb recommender survey_rater_2.xlsx\n",
      "Text only Airbnb recommender survey_rater_3.xlsx\n",
      "Combined Airbnb recommender survey_rater_1.xlsx\n",
      "Combined Airbnb recommender survey_rater_2.xlsx\n",
      "Combined Airbnb recommender survey_rater_3.xlsx\n"
     ]
    }
   ],
   "source": [
    "rating_cols = ['rater_1_text', 'rater_2_text', 'rater_3_text',\n",
    "               'rater_1_combined', 'rater_2_combined', 'rater_3_combined']\n",
    "\n",
    "df_ratings_raw.rename(columns={'Relevance: 1 to 5': rating_cols[0]},\n",
    "                      inplace = True)\n",
    "\n",
    "for i, rating_col in enumerate(rating_cols):\n",
    "    print(rater_files[i])\n",
    "    if i == 0:\n",
    "        continue\n",
    "    if i > 2:\n",
    "        header = 15\n",
    "        cols_to_use = cols_exel_issue\n",
    "    else:\n",
    "        header = 13\n",
    "        cols_to_use = columns\n",
    "    df_temp = pd.read_excel(basepath+rater_files[i], header=header,names=cols_to_use)\n",
    "    df_ratings_raw[rating_cols[i]] = df_temp['Relevance: 1 to 5']"
   ]
  },
  {
   "cell_type": "code",
   "execution_count": 7,
   "metadata": {
    "cell_id": "7486e07e71f549c189ed097b0fa7dff9",
    "colab": {
     "base_uri": "https://localhost:8080/",
     "height": 1000
    },
    "deepnote_cell_type": "code",
    "deepnote_to_be_reexecuted": false,
    "execution_millis": 6,
    "execution_start": 1681851950770,
    "id": "OETBL3YyuxqX",
    "outputId": "cd4a0e27-7c5d-43f5-98b0-f610611440f0",
    "source_hash": "4234ffb6"
   },
   "outputs": [
    {
     "data": {
      "application/vnd.deepnote.dataframe.v3+json": {
       "column_count": 11,
       "columns": [
        {
         "dtype": "object",
         "name": "Query text",
         "stats": {
          "categories": [
           {
            "count": 1,
            "name": "I want a private room close to uw campus with parking and coffee shop."
           },
           {
            "count": 14,
            "name": "14 others"
           },
           {
            "count": 60,
            "name": "Missing"
           }
          ],
          "nan_count": 60,
          "unique_count": 15
         }
        },
        {
         "dtype": "object",
         "name": "Price range",
         "stats": {
          "categories": [
           {
            "count": 1,
            "name": "$50-$5000"
           },
           {
            "count": 74,
            "name": "Missing"
           }
          ],
          "nan_count": 74,
          "unique_count": 1
         }
        },
        {
         "dtype": "int64",
         "name": "listing_id",
         "stats": {
          "histogram": [
           {
            "bin_end": 75617869745124400,
            "bin_start": 3852185,
            "count": 56
           },
           {
            "bin_end": 151235739486396600,
            "bin_start": 75617869745124400,
            "count": 0
           },
           {
            "bin_end": 226853609227668830,
            "bin_start": 151235739486396600,
            "count": 0
           },
           {
            "bin_end": 302471478968941000,
            "bin_start": 226853609227668830,
            "count": 0
           },
           {
            "bin_end": 378089348710213200,
            "bin_start": 302471478968941000,
            "count": 0
           },
           {
            "bin_end": 453707218451485440,
            "bin_start": 378089348710213200,
            "count": 0
           },
           {
            "bin_end": 529325088192757600,
            "bin_start": 453707218451485440,
            "count": 0
           },
           {
            "bin_end": 604942957934029800,
            "bin_start": 529325088192757600,
            "count": 5
           },
           {
            "bin_end": 680560827675302000,
            "bin_start": 604942957934029800,
            "count": 7
           },
           {
            "bin_end": 756178697416574200,
            "bin_start": 680560827675302000,
            "count": 7
           }
          ],
          "max": "756178697416574200",
          "min": "3852185",
          "nan_count": 0,
          "unique_count": 67
         }
        },
        {
         "dtype": "object",
         "name": "listing_url",
         "stats": {
          "categories": [
           {
            "count": 3,
            "name": "https://www.airbnb.com/rooms/36770186"
           },
           {
            "count": 2,
            "name": "https://www.airbnb.com/rooms/32474278"
           },
           {
            "count": 70,
            "name": "65 others"
           }
          ],
          "nan_count": 0,
          "unique_count": 67
         }
        },
        {
         "dtype": "object",
         "name": "listing_name",
         "stats": {
          "categories": [
           {
            "count": 4,
            "name": "Pioneer Sq 1BR w/ Gym, W/D, nr. Occidental Sq"
           },
           {
            "count": 3,
            "name": "Condo w/ Great View, Location, & Free Parking"
           },
           {
            "count": 68,
            "name": "62 others"
           }
          ],
          "nan_count": 0,
          "unique_count": 64
         }
        },
        {
         "dtype": "float64",
         "name": "rater_1_text",
         "stats": {
          "histogram": [
           {
            "bin_end": 2.3,
            "bin_start": 2,
            "count": 1
           },
           {
            "bin_end": 2.6,
            "bin_start": 2.3,
            "count": 2
           },
           {
            "bin_end": 2.9,
            "bin_start": 2.6,
            "count": 0
           },
           {
            "bin_end": 3.2,
            "bin_start": 2.9,
            "count": 5
           },
           {
            "bin_end": 3.5,
            "bin_start": 3.2,
            "count": 0
           },
           {
            "bin_end": 3.8,
            "bin_start": 3.5,
            "count": 16
           },
           {
            "bin_end": 4.1,
            "bin_start": 3.8,
            "count": 13
           },
           {
            "bin_end": 4.4,
            "bin_start": 4.1,
            "count": 0
           },
           {
            "bin_end": 4.699999999999999,
            "bin_start": 4.4,
            "count": 13
           },
           {
            "bin_end": 5,
            "bin_start": 4.699999999999999,
            "count": 25
           }
          ],
          "max": "5.0",
          "min": "2.0",
          "nan_count": 0,
          "unique_count": 8
         }
        },
        {
         "dtype": "float64",
         "name": "rater_2_text",
         "stats": {
          "histogram": [
           {
            "bin_end": 3.65,
            "bin_start": 3.5,
            "count": 24
           },
           {
            "bin_end": 3.8,
            "bin_start": 3.65,
            "count": 0
           },
           {
            "bin_end": 3.95,
            "bin_start": 3.8,
            "count": 0
           },
           {
            "bin_end": 4.1,
            "bin_start": 3.95,
            "count": 4
           },
           {
            "bin_end": 4.25,
            "bin_start": 4.1,
            "count": 0
           },
           {
            "bin_end": 4.4,
            "bin_start": 4.25,
            "count": 0
           },
           {
            "bin_end": 4.55,
            "bin_start": 4.4,
            "count": 6
           },
           {
            "bin_end": 4.7,
            "bin_start": 4.55,
            "count": 0
           },
           {
            "bin_end": 4.85,
            "bin_start": 4.7,
            "count": 1
           },
           {
            "bin_end": 5,
            "bin_start": 4.85,
            "count": 40
           }
          ],
          "max": "5.0",
          "min": "3.5",
          "nan_count": 0,
          "unique_count": 5
         }
        },
        {
         "dtype": "float64",
         "name": "rater_3_text",
         "stats": {
          "histogram": [
           {
            "bin_end": 2.3,
            "bin_start": 2,
            "count": 1
           },
           {
            "bin_end": 2.6,
            "bin_start": 2.3,
            "count": 0
           },
           {
            "bin_end": 2.9,
            "bin_start": 2.6,
            "count": 0
           },
           {
            "bin_end": 3.2,
            "bin_start": 2.9,
            "count": 19
           },
           {
            "bin_end": 3.5,
            "bin_start": 3.2,
            "count": 0
           },
           {
            "bin_end": 3.8,
            "bin_start": 3.5,
            "count": 3
           },
           {
            "bin_end": 4.1,
            "bin_start": 3.8,
            "count": 26
           },
           {
            "bin_end": 4.4,
            "bin_start": 4.1,
            "count": 0
           },
           {
            "bin_end": 4.699999999999999,
            "bin_start": 4.4,
            "count": 9
           },
           {
            "bin_end": 5,
            "bin_start": 4.699999999999999,
            "count": 17
           }
          ],
          "max": "5.0",
          "min": "2.0",
          "nan_count": 0,
          "unique_count": 6
         }
        },
        {
         "dtype": "float64",
         "name": "rater_1_combined",
         "stats": {
          "histogram": [
           {
            "bin_end": 2.3,
            "bin_start": 2,
            "count": 1
           },
           {
            "bin_end": 2.6,
            "bin_start": 2.3,
            "count": 2
           },
           {
            "bin_end": 2.9,
            "bin_start": 2.6,
            "count": 0
           },
           {
            "bin_end": 3.2,
            "bin_start": 2.9,
            "count": 4
           },
           {
            "bin_end": 3.5,
            "bin_start": 3.2,
            "count": 0
           },
           {
            "bin_end": 3.8,
            "bin_start": 3.5,
            "count": 7
           },
           {
            "bin_end": 4.1,
            "bin_start": 3.8,
            "count": 12
           },
           {
            "bin_end": 4.4,
            "bin_start": 4.1,
            "count": 0
           },
           {
            "bin_end": 4.699999999999999,
            "bin_start": 4.4,
            "count": 19
           },
           {
            "bin_end": 5,
            "bin_start": 4.699999999999999,
            "count": 30
           }
          ],
          "max": "5.0",
          "min": "2.0",
          "nan_count": 0,
          "unique_count": 7
         }
        },
        {
         "dtype": "float64",
         "name": "rater_2_combined",
         "stats": {
          "histogram": [
           {
            "bin_end": 3.65,
            "bin_start": 3.5,
            "count": 5
           },
           {
            "bin_end": 3.8,
            "bin_start": 3.65,
            "count": 0
           },
           {
            "bin_end": 3.95,
            "bin_start": 3.8,
            "count": 0
           },
           {
            "bin_end": 4.1,
            "bin_start": 3.95,
            "count": 3
           },
           {
            "bin_end": 4.25,
            "bin_start": 4.1,
            "count": 1
           },
           {
            "bin_end": 4.4,
            "bin_start": 4.25,
            "count": 0
           },
           {
            "bin_end": 4.55,
            "bin_start": 4.4,
            "count": 5
           },
           {
            "bin_end": 4.7,
            "bin_start": 4.55,
            "count": 1
           },
           {
            "bin_end": 4.85,
            "bin_start": 4.7,
            "count": 8
           },
           {
            "bin_end": 5,
            "bin_start": 4.85,
            "count": 52
           }
          ],
          "max": "5.0",
          "min": "3.5",
          "nan_count": 0,
          "unique_count": 8
         }
        },
        {
         "dtype": "float64",
         "name": "rater_3_combined",
         "stats": {
          "histogram": [
           {
            "bin_end": 2.3,
            "bin_start": 2,
            "count": 1
           },
           {
            "bin_end": 2.6,
            "bin_start": 2.3,
            "count": 0
           },
           {
            "bin_end": 2.9,
            "bin_start": 2.6,
            "count": 0
           },
           {
            "bin_end": 3.2,
            "bin_start": 2.9,
            "count": 18
           },
           {
            "bin_end": 3.5,
            "bin_start": 3.2,
            "count": 0
           },
           {
            "bin_end": 3.8,
            "bin_start": 3.5,
            "count": 6
           },
           {
            "bin_end": 4.1,
            "bin_start": 3.8,
            "count": 26
           },
           {
            "bin_end": 4.4,
            "bin_start": 4.1,
            "count": 0
           },
           {
            "bin_end": 4.699999999999999,
            "bin_start": 4.4,
            "count": 8
           },
           {
            "bin_end": 5,
            "bin_start": 4.699999999999999,
            "count": 16
           }
          ],
          "max": "5.0",
          "min": "2.0",
          "nan_count": 0,
          "unique_count": 6
         }
        },
        {
         "dtype": "float64",
         "name": "_deepnote_index_column"
        }
       ],
       "row_count": 75,
       "rows": [
        {
         "Price range": "$50-$5000",
         "Query text": "I want a private room close to uw campus with parking and coffee shop.",
         "_deepnote_index_column": "1.0",
         "listing_id": "37640654",
         "listing_name": "Montlake Apt 3 blocks from UW Light Rail & Hosp.",
         "listing_url": "https://www.airbnb.com/rooms/37640654",
         "rater_1_combined": "4.5",
         "rater_1_text": "4.5",
         "rater_2_combined": "4.5",
         "rater_2_text": "4.5",
         "rater_3_combined": "4.0",
         "rater_3_text": "4.0"
        },
        {
         "Price range": "nan",
         "Query text": "nan",
         "_deepnote_index_column": "nan",
         "listing_id": "54166095",
         "listing_name": "Comfy Big Room by UW with Free Parking & Fast Wifi",
         "listing_url": "https://www.airbnb.com/rooms/54166095",
         "rater_1_combined": "5.0",
         "rater_1_text": "5.0",
         "rater_2_combined": "5.0",
         "rater_2_text": "5.0",
         "rater_3_combined": "5.0",
         "rater_3_text": "5.0"
        },
        {
         "Price range": "nan",
         "Query text": "nan",
         "_deepnote_index_column": "nan",
         "listing_id": "50549818",
         "listing_name": "Quiet, spacious, one bedroom daylight basement",
         "listing_url": "https://www.airbnb.com/rooms/50549818",
         "rater_1_combined": "4.0",
         "rater_1_text": "4.0",
         "rater_2_combined": "5.0",
         "rater_2_text": "5.0",
         "rater_3_combined": "4.0",
         "rater_3_text": "4.0"
        },
        {
         "Price range": "nan",
         "Query text": "nan",
         "_deepnote_index_column": "nan",
         "listing_id": "34448530",
         "listing_name": "Montlake Tudor 3 blocks from UW Light Rail Station",
         "listing_url": "https://www.airbnb.com/rooms/34448530",
         "rater_1_combined": "4.0",
         "rater_1_text": "4.0",
         "rater_2_combined": "4.5",
         "rater_2_text": "4.5",
         "rater_3_combined": "4.0",
         "rater_3_text": "4.0"
        },
        {
         "Price range": "nan",
         "Query text": "nan",
         "_deepnote_index_column": "nan",
         "listing_id": "3852185",
         "listing_name": "Room for rotating med students!",
         "listing_url": "https://www.airbnb.com/rooms/3852185",
         "rater_1_combined": "3.0",
         "rater_1_text": "3.0",
         "rater_2_combined": "4.5",
         "rater_2_text": "4.5",
         "rater_3_combined": "3.0",
         "rater_3_text": "3.0"
        },
        {
         "Price range": "nan",
         "Query text": "condo near Space Needle",
         "_deepnote_index_column": "2.0",
         "listing_id": "5362889",
         "listing_name": "Stunning 2 BR Next To Space Needle & Arena!!",
         "listing_url": "https://www.airbnb.com/rooms/5362889",
         "rater_1_combined": "3.0",
         "rater_1_text": "3.0",
         "rater_2_combined": "5.0",
         "rater_2_text": "5.0",
         "rater_3_combined": "5.0",
         "rater_3_text": "5.0"
        },
        {
         "Price range": "nan",
         "Query text": "nan",
         "_deepnote_index_column": "nan",
         "listing_id": "19438023",
         "listing_name": "Immaculate 2 BR Under the Space Needle & Key Arena",
         "listing_url": "https://www.airbnb.com/rooms/19438023",
         "rater_1_combined": "4.5",
         "rater_1_text": "4.5",
         "rater_2_combined": "5.0",
         "rater_2_text": "5.0",
         "rater_3_combined": "5.0",
         "rater_3_text": "5.0"
        },
        {
         "Price range": "nan",
         "Query text": "nan",
         "_deepnote_index_column": "nan",
         "listing_id": "53402998",
         "listing_name": "1-bedroom condo near Space Needle",
         "listing_url": "https://www.airbnb.com/rooms/53402998",
         "rater_1_combined": "3.5",
         "rater_1_text": "3.5",
         "rater_2_combined": "5.0",
         "rater_2_text": "5.0",
         "rater_3_combined": "5.0",
         "rater_3_text": "5.0"
        },
        {
         "Price range": "nan",
         "Query text": "nan",
         "_deepnote_index_column": "nan",
         "listing_id": "36770186",
         "listing_name": "Condo w/ Great View, Location, & Free Parking",
         "listing_url": "https://www.airbnb.com/rooms/36770186",
         "rater_1_combined": "4.0",
         "rater_1_text": "4.0",
         "rater_2_combined": "5.0",
         "rater_2_text": "5.0",
         "rater_3_combined": "4.0",
         "rater_3_text": "4.0"
        },
        {
         "Price range": "nan",
         "Query text": "nan",
         "_deepnote_index_column": "nan",
         "listing_id": "669735617462052600",
         "listing_name": "Amazing Getaway in the Heart of Seattle",
         "listing_url": "https://www.airbnb.com/rooms/669735617462052577",
         "rater_1_combined": "2.0",
         "rater_1_text": "2.0",
         "rater_2_combined": "5.0",
         "rater_2_text": "5.0",
         "rater_3_combined": "4.0",
         "rater_3_text": "4.0"
        }
       ]
      },
      "text/html": [
       "<div>\n",
       "<style scoped>\n",
       "    .dataframe tbody tr th:only-of-type {\n",
       "        vertical-align: middle;\n",
       "    }\n",
       "\n",
       "    .dataframe tbody tr th {\n",
       "        vertical-align: top;\n",
       "    }\n",
       "\n",
       "    .dataframe thead th {\n",
       "        text-align: right;\n",
       "    }\n",
       "</style>\n",
       "<table border=\"1\" class=\"dataframe\">\n",
       "  <thead>\n",
       "    <tr style=\"text-align: right;\">\n",
       "      <th></th>\n",
       "      <th>Query text</th>\n",
       "      <th>Price range</th>\n",
       "      <th>listing_id</th>\n",
       "      <th>listing_url</th>\n",
       "      <th>listing_name</th>\n",
       "      <th>rater_1_text</th>\n",
       "      <th>rater_2_text</th>\n",
       "      <th>rater_3_text</th>\n",
       "      <th>rater_1_combined</th>\n",
       "      <th>rater_2_combined</th>\n",
       "      <th>rater_3_combined</th>\n",
       "    </tr>\n",
       "  </thead>\n",
       "  <tbody>\n",
       "    <tr>\n",
       "      <th>1.0</th>\n",
       "      <td>I want a private room close to uw campus with ...</td>\n",
       "      <td>$50-$5000</td>\n",
       "      <td>37640654</td>\n",
       "      <td>https://www.airbnb.com/rooms/37640654</td>\n",
       "      <td>Montlake Apt 3 blocks from UW Light Rail &amp; Hosp.</td>\n",
       "      <td>4.5</td>\n",
       "      <td>4.5</td>\n",
       "      <td>4.0</td>\n",
       "      <td>4.5</td>\n",
       "      <td>4.5</td>\n",
       "      <td>4.0</td>\n",
       "    </tr>\n",
       "    <tr>\n",
       "      <th>NaN</th>\n",
       "      <td>NaN</td>\n",
       "      <td>NaN</td>\n",
       "      <td>54166095</td>\n",
       "      <td>https://www.airbnb.com/rooms/54166095</td>\n",
       "      <td>Comfy Big Room by UW with Free Parking &amp; Fast ...</td>\n",
       "      <td>5.0</td>\n",
       "      <td>5.0</td>\n",
       "      <td>5.0</td>\n",
       "      <td>5.0</td>\n",
       "      <td>5.0</td>\n",
       "      <td>5.0</td>\n",
       "    </tr>\n",
       "    <tr>\n",
       "      <th>NaN</th>\n",
       "      <td>NaN</td>\n",
       "      <td>NaN</td>\n",
       "      <td>50549818</td>\n",
       "      <td>https://www.airbnb.com/rooms/50549818</td>\n",
       "      <td>Quiet, spacious, one bedroom daylight basement</td>\n",
       "      <td>4.0</td>\n",
       "      <td>5.0</td>\n",
       "      <td>4.0</td>\n",
       "      <td>4.0</td>\n",
       "      <td>5.0</td>\n",
       "      <td>4.0</td>\n",
       "    </tr>\n",
       "    <tr>\n",
       "      <th>NaN</th>\n",
       "      <td>NaN</td>\n",
       "      <td>NaN</td>\n",
       "      <td>34448530</td>\n",
       "      <td>https://www.airbnb.com/rooms/34448530</td>\n",
       "      <td>Montlake Tudor 3 blocks from UW Light Rail Sta...</td>\n",
       "      <td>4.0</td>\n",
       "      <td>4.5</td>\n",
       "      <td>4.0</td>\n",
       "      <td>4.0</td>\n",
       "      <td>4.5</td>\n",
       "      <td>4.0</td>\n",
       "    </tr>\n",
       "    <tr>\n",
       "      <th>NaN</th>\n",
       "      <td>NaN</td>\n",
       "      <td>NaN</td>\n",
       "      <td>3852185</td>\n",
       "      <td>https://www.airbnb.com/rooms/3852185</td>\n",
       "      <td>Room for rotating med students!</td>\n",
       "      <td>3.0</td>\n",
       "      <td>4.5</td>\n",
       "      <td>3.0</td>\n",
       "      <td>3.0</td>\n",
       "      <td>4.5</td>\n",
       "      <td>3.0</td>\n",
       "    </tr>\n",
       "    <tr>\n",
       "      <th>...</th>\n",
       "      <td>...</td>\n",
       "      <td>...</td>\n",
       "      <td>...</td>\n",
       "      <td>...</td>\n",
       "      <td>...</td>\n",
       "      <td>...</td>\n",
       "      <td>...</td>\n",
       "      <td>...</td>\n",
       "      <td>...</td>\n",
       "      <td>...</td>\n",
       "      <td>...</td>\n",
       "    </tr>\n",
       "    <tr>\n",
       "      <th>15.0</th>\n",
       "      <td>Looking for a 4 bedroom 3 bath house walking d...</td>\n",
       "      <td>NaN</td>\n",
       "      <td>18934440</td>\n",
       "      <td>https://www.airbnb.com/rooms/18934440</td>\n",
       "      <td>Arboretum Retreat</td>\n",
       "      <td>3.5</td>\n",
       "      <td>3.5</td>\n",
       "      <td>4.5</td>\n",
       "      <td>5.0</td>\n",
       "      <td>5.0</td>\n",
       "      <td>4.0</td>\n",
       "    </tr>\n",
       "    <tr>\n",
       "      <th>NaN</th>\n",
       "      <td>NaN</td>\n",
       "      <td>NaN</td>\n",
       "      <td>753841636123637900</td>\n",
       "      <td>https://www.airbnb.com/rooms/753841636123637928</td>\n",
       "      <td>Arboretum Tranquil 2 BR</td>\n",
       "      <td>4.0</td>\n",
       "      <td>3.5</td>\n",
       "      <td>4.5</td>\n",
       "      <td>4.0</td>\n",
       "      <td>4.7</td>\n",
       "      <td>3.5</td>\n",
       "    </tr>\n",
       "    <tr>\n",
       "      <th>NaN</th>\n",
       "      <td>NaN</td>\n",
       "      <td>NaN</td>\n",
       "      <td>641288819512351500</td>\n",
       "      <td>https://www.airbnb.com/rooms/641288819512351447</td>\n",
       "      <td>Capitol Hill Lake and Mountain View English Tudor</td>\n",
       "      <td>4.5</td>\n",
       "      <td>3.5</td>\n",
       "      <td>4.5</td>\n",
       "      <td>4.0</td>\n",
       "      <td>4.8</td>\n",
       "      <td>4.0</td>\n",
       "    </tr>\n",
       "    <tr>\n",
       "      <th>NaN</th>\n",
       "      <td>NaN</td>\n",
       "      <td>NaN</td>\n",
       "      <td>34924092</td>\n",
       "      <td>https://www.airbnb.com/rooms/34924092</td>\n",
       "      <td>5 bed 3 bath house, Volunteer Park Capitol Hill</td>\n",
       "      <td>5.0</td>\n",
       "      <td>4.8</td>\n",
       "      <td>5.0</td>\n",
       "      <td>4.0</td>\n",
       "      <td>4.8</td>\n",
       "      <td>4.0</td>\n",
       "    </tr>\n",
       "    <tr>\n",
       "      <th>NaN</th>\n",
       "      <td>NaN</td>\n",
       "      <td>NaN</td>\n",
       "      <td>753840689120381600</td>\n",
       "      <td>https://www.airbnb.com/rooms/753840689120381612</td>\n",
       "      <td>Arboretum Little Oasis</td>\n",
       "      <td>4.0</td>\n",
       "      <td>3.5</td>\n",
       "      <td>4.5</td>\n",
       "      <td>5.0</td>\n",
       "      <td>5.0</td>\n",
       "      <td>5.0</td>\n",
       "    </tr>\n",
       "  </tbody>\n",
       "</table>\n",
       "<p>75 rows × 11 columns</p>\n",
       "</div>"
      ],
      "text/plain": [
       "                                             Query text Price range   \n",
       "1.0   I want a private room close to uw campus with ...   $50-$5000  \\\n",
       "NaN                                                 NaN         NaN   \n",
       "NaN                                                 NaN         NaN   \n",
       "NaN                                                 NaN         NaN   \n",
       "NaN                                                 NaN         NaN   \n",
       "...                                                 ...         ...   \n",
       "15.0  Looking for a 4 bedroom 3 bath house walking d...         NaN   \n",
       "NaN                                                 NaN         NaN   \n",
       "NaN                                                 NaN         NaN   \n",
       "NaN                                                 NaN         NaN   \n",
       "NaN                                                 NaN         NaN   \n",
       "\n",
       "              listing_id                                      listing_url   \n",
       "1.0             37640654            https://www.airbnb.com/rooms/37640654  \\\n",
       "NaN             54166095            https://www.airbnb.com/rooms/54166095   \n",
       "NaN             50549818            https://www.airbnb.com/rooms/50549818   \n",
       "NaN             34448530            https://www.airbnb.com/rooms/34448530   \n",
       "NaN              3852185             https://www.airbnb.com/rooms/3852185   \n",
       "...                  ...                                              ...   \n",
       "15.0            18934440            https://www.airbnb.com/rooms/18934440   \n",
       "NaN   753841636123637900  https://www.airbnb.com/rooms/753841636123637928   \n",
       "NaN   641288819512351500  https://www.airbnb.com/rooms/641288819512351447   \n",
       "NaN             34924092            https://www.airbnb.com/rooms/34924092   \n",
       "NaN   753840689120381600  https://www.airbnb.com/rooms/753840689120381612   \n",
       "\n",
       "                                           listing_name  rater_1_text   \n",
       "1.0    Montlake Apt 3 blocks from UW Light Rail & Hosp.           4.5  \\\n",
       "NaN   Comfy Big Room by UW with Free Parking & Fast ...           5.0   \n",
       "NaN      Quiet, spacious, one bedroom daylight basement           4.0   \n",
       "NaN   Montlake Tudor 3 blocks from UW Light Rail Sta...           4.0   \n",
       "NaN                     Room for rotating med students!           3.0   \n",
       "...                                                 ...           ...   \n",
       "15.0                                  Arboretum Retreat           3.5   \n",
       "NaN                             Arboretum Tranquil 2 BR           4.0   \n",
       "NaN   Capitol Hill Lake and Mountain View English Tudor           4.5   \n",
       "NaN     5 bed 3 bath house, Volunteer Park Capitol Hill           5.0   \n",
       "NaN                              Arboretum Little Oasis           4.0   \n",
       "\n",
       "      rater_2_text  rater_3_text  rater_1_combined  rater_2_combined   \n",
       "1.0            4.5           4.0               4.5               4.5  \\\n",
       "NaN            5.0           5.0               5.0               5.0   \n",
       "NaN            5.0           4.0               4.0               5.0   \n",
       "NaN            4.5           4.0               4.0               4.5   \n",
       "NaN            4.5           3.0               3.0               4.5   \n",
       "...            ...           ...               ...               ...   \n",
       "15.0           3.5           4.5               5.0               5.0   \n",
       "NaN            3.5           4.5               4.0               4.7   \n",
       "NaN            3.5           4.5               4.0               4.8   \n",
       "NaN            4.8           5.0               4.0               4.8   \n",
       "NaN            3.5           4.5               5.0               5.0   \n",
       "\n",
       "      rater_3_combined  \n",
       "1.0                4.0  \n",
       "NaN                5.0  \n",
       "NaN                4.0  \n",
       "NaN                4.0  \n",
       "NaN                3.0  \n",
       "...                ...  \n",
       "15.0               4.0  \n",
       "NaN                3.5  \n",
       "NaN                4.0  \n",
       "NaN                4.0  \n",
       "NaN                5.0  \n",
       "\n",
       "[75 rows x 11 columns]"
      ]
     },
     "execution_count": 7,
     "metadata": {},
     "output_type": "execute_result"
    }
   ],
   "source": [
    "df_ratings_raw"
   ]
  },
  {
   "cell_type": "markdown",
   "metadata": {
    "cell_id": "7185bb583c8e440b883bfd1299ab09be",
    "deepnote_cell_type": "markdown",
    "id": "FXmRQsFKd5Dx"
   },
   "source": [
    "Below shows only simple additional cleaning is needed. We do see that there are Nan's and we know that when we created the survey, for convenience we didn't repeat same entries in two columns to make it more readable. And the info() function confirms the only two columnns with Nan were 'Query text' and 'Price range' were the ones we purposefully did that to. We also see that no other columns have Nan and the rating columns are the correct data type. We'll fill those Nans now with forward fill."
   ]
  },
  {
   "cell_type": "code",
   "execution_count": 8,
   "metadata": {
    "cell_id": "5f8c912f6e7b425993f2ee92af1a2481",
    "colab": {
     "base_uri": "https://localhost:8080/"
    },
    "deepnote_cell_type": "code",
    "deepnote_to_be_reexecuted": false,
    "execution_millis": 8,
    "execution_start": 1681851950782,
    "id": "JPw3FaZM_CwB",
    "outputId": "acf88339-75de-46dd-bbb1-9eb970fc493f",
    "source_hash": "bb108cfe"
   },
   "outputs": [
    {
     "data": {
      "text/plain": [
       "True"
      ]
     },
     "execution_count": 8,
     "metadata": {},
     "output_type": "execute_result"
    }
   ],
   "source": [
    "df_ratings_raw.isnull().values.any()"
   ]
  },
  {
   "cell_type": "code",
   "execution_count": 9,
   "metadata": {
    "cell_id": "94280856b29c4cbf90ac3efbcea7bdf8",
    "colab": {
     "base_uri": "https://localhost:8080/"
    },
    "deepnote_cell_type": "code",
    "deepnote_to_be_reexecuted": false,
    "execution_millis": 7,
    "execution_start": 1681851950786,
    "id": "Rq-v1ZgZ_-WB",
    "outputId": "98b1f6c2-bd76-402e-b001-7aeee9bf8466",
    "source_hash": "db8b32c"
   },
   "outputs": [
    {
     "name": "stdout",
     "output_type": "stream",
     "text": [
      "<class 'pandas.core.frame.DataFrame'>\n",
      "Index: 75 entries, 1.0 to nan\n",
      "Data columns (total 11 columns):\n",
      " #   Column            Non-Null Count  Dtype  \n",
      "---  ------            --------------  -----  \n",
      " 0   Query text        15 non-null     object \n",
      " 1   Price range       1 non-null      object \n",
      " 2   listing_id        75 non-null     int64  \n",
      " 3   listing_url       75 non-null     object \n",
      " 4   listing_name      75 non-null     object \n",
      " 5   rater_1_text      75 non-null     float64\n",
      " 6   rater_2_text      75 non-null     float64\n",
      " 7   rater_3_text      75 non-null     float64\n",
      " 8   rater_1_combined  75 non-null     float64\n",
      " 9   rater_2_combined  75 non-null     float64\n",
      " 10  rater_3_combined  75 non-null     float64\n",
      "dtypes: float64(6), int64(1), object(4)\n",
      "memory usage: 7.0+ KB\n"
     ]
    }
   ],
   "source": [
    "df_ratings_raw.info()"
   ]
  },
  {
   "cell_type": "code",
   "execution_count": 10,
   "metadata": {
    "cell_id": "92548d211545442c91289dd8fd84c609",
    "colab": {
     "base_uri": "https://localhost:8080/",
     "height": 1000
    },
    "deepnote_cell_type": "code",
    "deepnote_to_be_reexecuted": false,
    "execution_millis": 91,
    "execution_start": 1681851950793,
    "id": "kLkJPqIvZFLf",
    "outputId": "a9829061-e4e8-4073-e733-101f9937e7dd",
    "source_hash": "cec59946"
   },
   "outputs": [
    {
     "data": {
      "application/vnd.deepnote.dataframe.v3+json": {
       "column_count": 11,
       "columns": [
        {
         "dtype": "object",
         "name": "Query text",
         "stats": {
          "categories": [
           {
            "count": 5,
            "name": "I want a private room close to uw campus with parking and coffee shop."
           },
           {
            "count": 5,
            "name": "condo near Space Needle"
           },
           {
            "count": 65,
            "name": "13 others"
           }
          ],
          "nan_count": 0,
          "unique_count": 15
         }
        },
        {
         "dtype": "object",
         "name": "Price range",
         "stats": {
          "categories": [
           {
            "count": 75,
            "name": "$50-$5000"
           }
          ],
          "nan_count": 0,
          "unique_count": 1
         }
        },
        {
         "dtype": "int64",
         "name": "listing_id",
         "stats": {
          "histogram": [
           {
            "bin_end": 75617869745124400,
            "bin_start": 3852185,
            "count": 56
           },
           {
            "bin_end": 151235739486396600,
            "bin_start": 75617869745124400,
            "count": 0
           },
           {
            "bin_end": 226853609227668830,
            "bin_start": 151235739486396600,
            "count": 0
           },
           {
            "bin_end": 302471478968941000,
            "bin_start": 226853609227668830,
            "count": 0
           },
           {
            "bin_end": 378089348710213200,
            "bin_start": 302471478968941000,
            "count": 0
           },
           {
            "bin_end": 453707218451485440,
            "bin_start": 378089348710213200,
            "count": 0
           },
           {
            "bin_end": 529325088192757600,
            "bin_start": 453707218451485440,
            "count": 0
           },
           {
            "bin_end": 604942957934029800,
            "bin_start": 529325088192757600,
            "count": 5
           },
           {
            "bin_end": 680560827675302000,
            "bin_start": 604942957934029800,
            "count": 7
           },
           {
            "bin_end": 756178697416574200,
            "bin_start": 680560827675302000,
            "count": 7
           }
          ],
          "max": "756178697416574200",
          "min": "3852185",
          "nan_count": 0,
          "unique_count": 67
         }
        },
        {
         "dtype": "object",
         "name": "listing_url",
         "stats": {
          "categories": [
           {
            "count": 3,
            "name": "https://www.airbnb.com/rooms/36770186"
           },
           {
            "count": 2,
            "name": "https://www.airbnb.com/rooms/32474278"
           },
           {
            "count": 70,
            "name": "65 others"
           }
          ],
          "nan_count": 0,
          "unique_count": 67
         }
        },
        {
         "dtype": "object",
         "name": "listing_name",
         "stats": {
          "categories": [
           {
            "count": 4,
            "name": "Pioneer Sq 1BR w/ Gym, W/D, nr. Occidental Sq"
           },
           {
            "count": 3,
            "name": "Condo w/ Great View, Location, & Free Parking"
           },
           {
            "count": 68,
            "name": "62 others"
           }
          ],
          "nan_count": 0,
          "unique_count": 64
         }
        },
        {
         "dtype": "float64",
         "name": "rater_1_text",
         "stats": {
          "histogram": [
           {
            "bin_end": 2.3,
            "bin_start": 2,
            "count": 1
           },
           {
            "bin_end": 2.6,
            "bin_start": 2.3,
            "count": 2
           },
           {
            "bin_end": 2.9,
            "bin_start": 2.6,
            "count": 0
           },
           {
            "bin_end": 3.2,
            "bin_start": 2.9,
            "count": 5
           },
           {
            "bin_end": 3.5,
            "bin_start": 3.2,
            "count": 0
           },
           {
            "bin_end": 3.8,
            "bin_start": 3.5,
            "count": 16
           },
           {
            "bin_end": 4.1,
            "bin_start": 3.8,
            "count": 13
           },
           {
            "bin_end": 4.4,
            "bin_start": 4.1,
            "count": 0
           },
           {
            "bin_end": 4.699999999999999,
            "bin_start": 4.4,
            "count": 13
           },
           {
            "bin_end": 5,
            "bin_start": 4.699999999999999,
            "count": 25
           }
          ],
          "max": "5.0",
          "min": "2.0",
          "nan_count": 0,
          "unique_count": 8
         }
        },
        {
         "dtype": "float64",
         "name": "rater_2_text",
         "stats": {
          "histogram": [
           {
            "bin_end": 3.65,
            "bin_start": 3.5,
            "count": 24
           },
           {
            "bin_end": 3.8,
            "bin_start": 3.65,
            "count": 0
           },
           {
            "bin_end": 3.95,
            "bin_start": 3.8,
            "count": 0
           },
           {
            "bin_end": 4.1,
            "bin_start": 3.95,
            "count": 4
           },
           {
            "bin_end": 4.25,
            "bin_start": 4.1,
            "count": 0
           },
           {
            "bin_end": 4.4,
            "bin_start": 4.25,
            "count": 0
           },
           {
            "bin_end": 4.55,
            "bin_start": 4.4,
            "count": 6
           },
           {
            "bin_end": 4.7,
            "bin_start": 4.55,
            "count": 0
           },
           {
            "bin_end": 4.85,
            "bin_start": 4.7,
            "count": 1
           },
           {
            "bin_end": 5,
            "bin_start": 4.85,
            "count": 40
           }
          ],
          "max": "5.0",
          "min": "3.5",
          "nan_count": 0,
          "unique_count": 5
         }
        },
        {
         "dtype": "float64",
         "name": "rater_3_text",
         "stats": {
          "histogram": [
           {
            "bin_end": 2.3,
            "bin_start": 2,
            "count": 1
           },
           {
            "bin_end": 2.6,
            "bin_start": 2.3,
            "count": 0
           },
           {
            "bin_end": 2.9,
            "bin_start": 2.6,
            "count": 0
           },
           {
            "bin_end": 3.2,
            "bin_start": 2.9,
            "count": 19
           },
           {
            "bin_end": 3.5,
            "bin_start": 3.2,
            "count": 0
           },
           {
            "bin_end": 3.8,
            "bin_start": 3.5,
            "count": 3
           },
           {
            "bin_end": 4.1,
            "bin_start": 3.8,
            "count": 26
           },
           {
            "bin_end": 4.4,
            "bin_start": 4.1,
            "count": 0
           },
           {
            "bin_end": 4.699999999999999,
            "bin_start": 4.4,
            "count": 9
           },
           {
            "bin_end": 5,
            "bin_start": 4.699999999999999,
            "count": 17
           }
          ],
          "max": "5.0",
          "min": "2.0",
          "nan_count": 0,
          "unique_count": 6
         }
        },
        {
         "dtype": "float64",
         "name": "rater_1_combined",
         "stats": {
          "histogram": [
           {
            "bin_end": 2.3,
            "bin_start": 2,
            "count": 1
           },
           {
            "bin_end": 2.6,
            "bin_start": 2.3,
            "count": 2
           },
           {
            "bin_end": 2.9,
            "bin_start": 2.6,
            "count": 0
           },
           {
            "bin_end": 3.2,
            "bin_start": 2.9,
            "count": 4
           },
           {
            "bin_end": 3.5,
            "bin_start": 3.2,
            "count": 0
           },
           {
            "bin_end": 3.8,
            "bin_start": 3.5,
            "count": 7
           },
           {
            "bin_end": 4.1,
            "bin_start": 3.8,
            "count": 12
           },
           {
            "bin_end": 4.4,
            "bin_start": 4.1,
            "count": 0
           },
           {
            "bin_end": 4.699999999999999,
            "bin_start": 4.4,
            "count": 19
           },
           {
            "bin_end": 5,
            "bin_start": 4.699999999999999,
            "count": 30
           }
          ],
          "max": "5.0",
          "min": "2.0",
          "nan_count": 0,
          "unique_count": 7
         }
        },
        {
         "dtype": "float64",
         "name": "rater_2_combined",
         "stats": {
          "histogram": [
           {
            "bin_end": 3.65,
            "bin_start": 3.5,
            "count": 5
           },
           {
            "bin_end": 3.8,
            "bin_start": 3.65,
            "count": 0
           },
           {
            "bin_end": 3.95,
            "bin_start": 3.8,
            "count": 0
           },
           {
            "bin_end": 4.1,
            "bin_start": 3.95,
            "count": 3
           },
           {
            "bin_end": 4.25,
            "bin_start": 4.1,
            "count": 1
           },
           {
            "bin_end": 4.4,
            "bin_start": 4.25,
            "count": 0
           },
           {
            "bin_end": 4.55,
            "bin_start": 4.4,
            "count": 5
           },
           {
            "bin_end": 4.7,
            "bin_start": 4.55,
            "count": 1
           },
           {
            "bin_end": 4.85,
            "bin_start": 4.7,
            "count": 8
           },
           {
            "bin_end": 5,
            "bin_start": 4.85,
            "count": 52
           }
          ],
          "max": "5.0",
          "min": "3.5",
          "nan_count": 0,
          "unique_count": 8
         }
        },
        {
         "dtype": "float64",
         "name": "rater_3_combined",
         "stats": {
          "histogram": [
           {
            "bin_end": 2.3,
            "bin_start": 2,
            "count": 1
           },
           {
            "bin_end": 2.6,
            "bin_start": 2.3,
            "count": 0
           },
           {
            "bin_end": 2.9,
            "bin_start": 2.6,
            "count": 0
           },
           {
            "bin_end": 3.2,
            "bin_start": 2.9,
            "count": 18
           },
           {
            "bin_end": 3.5,
            "bin_start": 3.2,
            "count": 0
           },
           {
            "bin_end": 3.8,
            "bin_start": 3.5,
            "count": 6
           },
           {
            "bin_end": 4.1,
            "bin_start": 3.8,
            "count": 26
           },
           {
            "bin_end": 4.4,
            "bin_start": 4.1,
            "count": 0
           },
           {
            "bin_end": 4.699999999999999,
            "bin_start": 4.4,
            "count": 8
           },
           {
            "bin_end": 5,
            "bin_start": 4.699999999999999,
            "count": 16
           }
          ],
          "max": "5.0",
          "min": "2.0",
          "nan_count": 0,
          "unique_count": 6
         }
        },
        {
         "dtype": "int64",
         "name": "_deepnote_index_column"
        }
       ],
       "row_count": 75,
       "rows": [
        {
         "Price range": "$50-$5000",
         "Query text": "I want a private room close to uw campus with parking and coffee shop.",
         "_deepnote_index_column": "0",
         "listing_id": "37640654",
         "listing_name": "Montlake Apt 3 blocks from UW Light Rail & Hosp.",
         "listing_url": "https://www.airbnb.com/rooms/37640654",
         "rater_1_combined": "4.5",
         "rater_1_text": "4.5",
         "rater_2_combined": "4.5",
         "rater_2_text": "4.5",
         "rater_3_combined": "4.0",
         "rater_3_text": "4.0"
        },
        {
         "Price range": "$50-$5000",
         "Query text": "I want a private room close to uw campus with parking and coffee shop.",
         "_deepnote_index_column": "1",
         "listing_id": "54166095",
         "listing_name": "Comfy Big Room by UW with Free Parking & Fast Wifi",
         "listing_url": "https://www.airbnb.com/rooms/54166095",
         "rater_1_combined": "5.0",
         "rater_1_text": "5.0",
         "rater_2_combined": "5.0",
         "rater_2_text": "5.0",
         "rater_3_combined": "5.0",
         "rater_3_text": "5.0"
        },
        {
         "Price range": "$50-$5000",
         "Query text": "I want a private room close to uw campus with parking and coffee shop.",
         "_deepnote_index_column": "2",
         "listing_id": "50549818",
         "listing_name": "Quiet, spacious, one bedroom daylight basement",
         "listing_url": "https://www.airbnb.com/rooms/50549818",
         "rater_1_combined": "4.0",
         "rater_1_text": "4.0",
         "rater_2_combined": "5.0",
         "rater_2_text": "5.0",
         "rater_3_combined": "4.0",
         "rater_3_text": "4.0"
        },
        {
         "Price range": "$50-$5000",
         "Query text": "I want a private room close to uw campus with parking and coffee shop.",
         "_deepnote_index_column": "3",
         "listing_id": "34448530",
         "listing_name": "Montlake Tudor 3 blocks from UW Light Rail Station",
         "listing_url": "https://www.airbnb.com/rooms/34448530",
         "rater_1_combined": "4.0",
         "rater_1_text": "4.0",
         "rater_2_combined": "4.5",
         "rater_2_text": "4.5",
         "rater_3_combined": "4.0",
         "rater_3_text": "4.0"
        },
        {
         "Price range": "$50-$5000",
         "Query text": "I want a private room close to uw campus with parking and coffee shop.",
         "_deepnote_index_column": "4",
         "listing_id": "3852185",
         "listing_name": "Room for rotating med students!",
         "listing_url": "https://www.airbnb.com/rooms/3852185",
         "rater_1_combined": "3.0",
         "rater_1_text": "3.0",
         "rater_2_combined": "4.5",
         "rater_2_text": "4.5",
         "rater_3_combined": "3.0",
         "rater_3_text": "3.0"
        },
        {
         "Price range": "$50-$5000",
         "Query text": "condo near Space Needle",
         "_deepnote_index_column": "5",
         "listing_id": "5362889",
         "listing_name": "Stunning 2 BR Next To Space Needle & Arena!!",
         "listing_url": "https://www.airbnb.com/rooms/5362889",
         "rater_1_combined": "3.0",
         "rater_1_text": "3.0",
         "rater_2_combined": "5.0",
         "rater_2_text": "5.0",
         "rater_3_combined": "5.0",
         "rater_3_text": "5.0"
        },
        {
         "Price range": "$50-$5000",
         "Query text": "condo near Space Needle",
         "_deepnote_index_column": "6",
         "listing_id": "19438023",
         "listing_name": "Immaculate 2 BR Under the Space Needle & Key Arena",
         "listing_url": "https://www.airbnb.com/rooms/19438023",
         "rater_1_combined": "4.5",
         "rater_1_text": "4.5",
         "rater_2_combined": "5.0",
         "rater_2_text": "5.0",
         "rater_3_combined": "5.0",
         "rater_3_text": "5.0"
        },
        {
         "Price range": "$50-$5000",
         "Query text": "condo near Space Needle",
         "_deepnote_index_column": "7",
         "listing_id": "53402998",
         "listing_name": "1-bedroom condo near Space Needle",
         "listing_url": "https://www.airbnb.com/rooms/53402998",
         "rater_1_combined": "3.5",
         "rater_1_text": "3.5",
         "rater_2_combined": "5.0",
         "rater_2_text": "5.0",
         "rater_3_combined": "5.0",
         "rater_3_text": "5.0"
        },
        {
         "Price range": "$50-$5000",
         "Query text": "condo near Space Needle",
         "_deepnote_index_column": "8",
         "listing_id": "36770186",
         "listing_name": "Condo w/ Great View, Location, & Free Parking",
         "listing_url": "https://www.airbnb.com/rooms/36770186",
         "rater_1_combined": "4.0",
         "rater_1_text": "4.0",
         "rater_2_combined": "5.0",
         "rater_2_text": "5.0",
         "rater_3_combined": "4.0",
         "rater_3_text": "4.0"
        },
        {
         "Price range": "$50-$5000",
         "Query text": "condo near Space Needle",
         "_deepnote_index_column": "9",
         "listing_id": "669735617462052600",
         "listing_name": "Amazing Getaway in the Heart of Seattle",
         "listing_url": "https://www.airbnb.com/rooms/669735617462052577",
         "rater_1_combined": "2.0",
         "rater_1_text": "2.0",
         "rater_2_combined": "5.0",
         "rater_2_text": "5.0",
         "rater_3_combined": "4.0",
         "rater_3_text": "4.0"
        }
       ]
      },
      "text/html": [
       "<div>\n",
       "<style scoped>\n",
       "    .dataframe tbody tr th:only-of-type {\n",
       "        vertical-align: middle;\n",
       "    }\n",
       "\n",
       "    .dataframe tbody tr th {\n",
       "        vertical-align: top;\n",
       "    }\n",
       "\n",
       "    .dataframe thead th {\n",
       "        text-align: right;\n",
       "    }\n",
       "</style>\n",
       "<table border=\"1\" class=\"dataframe\">\n",
       "  <thead>\n",
       "    <tr style=\"text-align: right;\">\n",
       "      <th></th>\n",
       "      <th>Query text</th>\n",
       "      <th>Price range</th>\n",
       "      <th>listing_id</th>\n",
       "      <th>listing_url</th>\n",
       "      <th>listing_name</th>\n",
       "      <th>rater_1_text</th>\n",
       "      <th>rater_2_text</th>\n",
       "      <th>rater_3_text</th>\n",
       "      <th>rater_1_combined</th>\n",
       "      <th>rater_2_combined</th>\n",
       "      <th>rater_3_combined</th>\n",
       "    </tr>\n",
       "  </thead>\n",
       "  <tbody>\n",
       "    <tr>\n",
       "      <th>0</th>\n",
       "      <td>I want a private room close to uw campus with ...</td>\n",
       "      <td>$50-$5000</td>\n",
       "      <td>37640654</td>\n",
       "      <td>https://www.airbnb.com/rooms/37640654</td>\n",
       "      <td>Montlake Apt 3 blocks from UW Light Rail &amp; Hosp.</td>\n",
       "      <td>4.5</td>\n",
       "      <td>4.5</td>\n",
       "      <td>4.0</td>\n",
       "      <td>4.5</td>\n",
       "      <td>4.5</td>\n",
       "      <td>4.0</td>\n",
       "    </tr>\n",
       "    <tr>\n",
       "      <th>1</th>\n",
       "      <td>I want a private room close to uw campus with ...</td>\n",
       "      <td>$50-$5000</td>\n",
       "      <td>54166095</td>\n",
       "      <td>https://www.airbnb.com/rooms/54166095</td>\n",
       "      <td>Comfy Big Room by UW with Free Parking &amp; Fast ...</td>\n",
       "      <td>5.0</td>\n",
       "      <td>5.0</td>\n",
       "      <td>5.0</td>\n",
       "      <td>5.0</td>\n",
       "      <td>5.0</td>\n",
       "      <td>5.0</td>\n",
       "    </tr>\n",
       "    <tr>\n",
       "      <th>2</th>\n",
       "      <td>I want a private room close to uw campus with ...</td>\n",
       "      <td>$50-$5000</td>\n",
       "      <td>50549818</td>\n",
       "      <td>https://www.airbnb.com/rooms/50549818</td>\n",
       "      <td>Quiet, spacious, one bedroom daylight basement</td>\n",
       "      <td>4.0</td>\n",
       "      <td>5.0</td>\n",
       "      <td>4.0</td>\n",
       "      <td>4.0</td>\n",
       "      <td>5.0</td>\n",
       "      <td>4.0</td>\n",
       "    </tr>\n",
       "    <tr>\n",
       "      <th>3</th>\n",
       "      <td>I want a private room close to uw campus with ...</td>\n",
       "      <td>$50-$5000</td>\n",
       "      <td>34448530</td>\n",
       "      <td>https://www.airbnb.com/rooms/34448530</td>\n",
       "      <td>Montlake Tudor 3 blocks from UW Light Rail Sta...</td>\n",
       "      <td>4.0</td>\n",
       "      <td>4.5</td>\n",
       "      <td>4.0</td>\n",
       "      <td>4.0</td>\n",
       "      <td>4.5</td>\n",
       "      <td>4.0</td>\n",
       "    </tr>\n",
       "    <tr>\n",
       "      <th>4</th>\n",
       "      <td>I want a private room close to uw campus with ...</td>\n",
       "      <td>$50-$5000</td>\n",
       "      <td>3852185</td>\n",
       "      <td>https://www.airbnb.com/rooms/3852185</td>\n",
       "      <td>Room for rotating med students!</td>\n",
       "      <td>3.0</td>\n",
       "      <td>4.5</td>\n",
       "      <td>3.0</td>\n",
       "      <td>3.0</td>\n",
       "      <td>4.5</td>\n",
       "      <td>3.0</td>\n",
       "    </tr>\n",
       "    <tr>\n",
       "      <th>...</th>\n",
       "      <td>...</td>\n",
       "      <td>...</td>\n",
       "      <td>...</td>\n",
       "      <td>...</td>\n",
       "      <td>...</td>\n",
       "      <td>...</td>\n",
       "      <td>...</td>\n",
       "      <td>...</td>\n",
       "      <td>...</td>\n",
       "      <td>...</td>\n",
       "      <td>...</td>\n",
       "    </tr>\n",
       "    <tr>\n",
       "      <th>70</th>\n",
       "      <td>Looking for a 4 bedroom 3 bath house walking d...</td>\n",
       "      <td>$50-$5000</td>\n",
       "      <td>18934440</td>\n",
       "      <td>https://www.airbnb.com/rooms/18934440</td>\n",
       "      <td>Arboretum Retreat</td>\n",
       "      <td>3.5</td>\n",
       "      <td>3.5</td>\n",
       "      <td>4.5</td>\n",
       "      <td>5.0</td>\n",
       "      <td>5.0</td>\n",
       "      <td>4.0</td>\n",
       "    </tr>\n",
       "    <tr>\n",
       "      <th>71</th>\n",
       "      <td>Looking for a 4 bedroom 3 bath house walking d...</td>\n",
       "      <td>$50-$5000</td>\n",
       "      <td>753841636123637900</td>\n",
       "      <td>https://www.airbnb.com/rooms/753841636123637928</td>\n",
       "      <td>Arboretum Tranquil 2 BR</td>\n",
       "      <td>4.0</td>\n",
       "      <td>3.5</td>\n",
       "      <td>4.5</td>\n",
       "      <td>4.0</td>\n",
       "      <td>4.7</td>\n",
       "      <td>3.5</td>\n",
       "    </tr>\n",
       "    <tr>\n",
       "      <th>72</th>\n",
       "      <td>Looking for a 4 bedroom 3 bath house walking d...</td>\n",
       "      <td>$50-$5000</td>\n",
       "      <td>641288819512351500</td>\n",
       "      <td>https://www.airbnb.com/rooms/641288819512351447</td>\n",
       "      <td>Capitol Hill Lake and Mountain View English Tudor</td>\n",
       "      <td>4.5</td>\n",
       "      <td>3.5</td>\n",
       "      <td>4.5</td>\n",
       "      <td>4.0</td>\n",
       "      <td>4.8</td>\n",
       "      <td>4.0</td>\n",
       "    </tr>\n",
       "    <tr>\n",
       "      <th>73</th>\n",
       "      <td>Looking for a 4 bedroom 3 bath house walking d...</td>\n",
       "      <td>$50-$5000</td>\n",
       "      <td>34924092</td>\n",
       "      <td>https://www.airbnb.com/rooms/34924092</td>\n",
       "      <td>5 bed 3 bath house, Volunteer Park Capitol Hill</td>\n",
       "      <td>5.0</td>\n",
       "      <td>4.8</td>\n",
       "      <td>5.0</td>\n",
       "      <td>4.0</td>\n",
       "      <td>4.8</td>\n",
       "      <td>4.0</td>\n",
       "    </tr>\n",
       "    <tr>\n",
       "      <th>74</th>\n",
       "      <td>Looking for a 4 bedroom 3 bath house walking d...</td>\n",
       "      <td>$50-$5000</td>\n",
       "      <td>753840689120381600</td>\n",
       "      <td>https://www.airbnb.com/rooms/753840689120381612</td>\n",
       "      <td>Arboretum Little Oasis</td>\n",
       "      <td>4.0</td>\n",
       "      <td>3.5</td>\n",
       "      <td>4.5</td>\n",
       "      <td>5.0</td>\n",
       "      <td>5.0</td>\n",
       "      <td>5.0</td>\n",
       "    </tr>\n",
       "  </tbody>\n",
       "</table>\n",
       "<p>75 rows × 11 columns</p>\n",
       "</div>"
      ],
      "text/plain": [
       "                                           Query text Price range   \n",
       "0   I want a private room close to uw campus with ...   $50-$5000  \\\n",
       "1   I want a private room close to uw campus with ...   $50-$5000   \n",
       "2   I want a private room close to uw campus with ...   $50-$5000   \n",
       "3   I want a private room close to uw campus with ...   $50-$5000   \n",
       "4   I want a private room close to uw campus with ...   $50-$5000   \n",
       "..                                                ...         ...   \n",
       "70  Looking for a 4 bedroom 3 bath house walking d...   $50-$5000   \n",
       "71  Looking for a 4 bedroom 3 bath house walking d...   $50-$5000   \n",
       "72  Looking for a 4 bedroom 3 bath house walking d...   $50-$5000   \n",
       "73  Looking for a 4 bedroom 3 bath house walking d...   $50-$5000   \n",
       "74  Looking for a 4 bedroom 3 bath house walking d...   $50-$5000   \n",
       "\n",
       "            listing_id                                      listing_url   \n",
       "0             37640654            https://www.airbnb.com/rooms/37640654  \\\n",
       "1             54166095            https://www.airbnb.com/rooms/54166095   \n",
       "2             50549818            https://www.airbnb.com/rooms/50549818   \n",
       "3             34448530            https://www.airbnb.com/rooms/34448530   \n",
       "4              3852185             https://www.airbnb.com/rooms/3852185   \n",
       "..                 ...                                              ...   \n",
       "70            18934440            https://www.airbnb.com/rooms/18934440   \n",
       "71  753841636123637900  https://www.airbnb.com/rooms/753841636123637928   \n",
       "72  641288819512351500  https://www.airbnb.com/rooms/641288819512351447   \n",
       "73            34924092            https://www.airbnb.com/rooms/34924092   \n",
       "74  753840689120381600  https://www.airbnb.com/rooms/753840689120381612   \n",
       "\n",
       "                                         listing_name  rater_1_text   \n",
       "0    Montlake Apt 3 blocks from UW Light Rail & Hosp.           4.5  \\\n",
       "1   Comfy Big Room by UW with Free Parking & Fast ...           5.0   \n",
       "2      Quiet, spacious, one bedroom daylight basement           4.0   \n",
       "3   Montlake Tudor 3 blocks from UW Light Rail Sta...           4.0   \n",
       "4                     Room for rotating med students!           3.0   \n",
       "..                                                ...           ...   \n",
       "70                                  Arboretum Retreat           3.5   \n",
       "71                            Arboretum Tranquil 2 BR           4.0   \n",
       "72  Capitol Hill Lake and Mountain View English Tudor           4.5   \n",
       "73    5 bed 3 bath house, Volunteer Park Capitol Hill           5.0   \n",
       "74                             Arboretum Little Oasis           4.0   \n",
       "\n",
       "    rater_2_text  rater_3_text  rater_1_combined  rater_2_combined   \n",
       "0            4.5           4.0               4.5               4.5  \\\n",
       "1            5.0           5.0               5.0               5.0   \n",
       "2            5.0           4.0               4.0               5.0   \n",
       "3            4.5           4.0               4.0               4.5   \n",
       "4            4.5           3.0               3.0               4.5   \n",
       "..           ...           ...               ...               ...   \n",
       "70           3.5           4.5               5.0               5.0   \n",
       "71           3.5           4.5               4.0               4.7   \n",
       "72           3.5           4.5               4.0               4.8   \n",
       "73           4.8           5.0               4.0               4.8   \n",
       "74           3.5           4.5               5.0               5.0   \n",
       "\n",
       "    rater_3_combined  \n",
       "0                4.0  \n",
       "1                5.0  \n",
       "2                4.0  \n",
       "3                4.0  \n",
       "4                3.0  \n",
       "..               ...  \n",
       "70               4.0  \n",
       "71               3.5  \n",
       "72               4.0  \n",
       "73               4.0  \n",
       "74               5.0  \n",
       "\n",
       "[75 rows x 11 columns]"
      ]
     },
     "execution_count": 10,
     "metadata": {},
     "output_type": "execute_result"
    }
   ],
   "source": [
    "df_ratings = df_ratings_raw.reset_index(drop=True).ffill()\n",
    "df_ratings"
   ]
  },
  {
   "cell_type": "code",
   "execution_count": 11,
   "metadata": {
    "cell_id": "19577aa248ea40ccaa555036a32e12a4",
    "colab": {
     "base_uri": "https://localhost:8080/"
    },
    "deepnote_cell_type": "code",
    "deepnote_to_be_reexecuted": false,
    "execution_millis": 67,
    "execution_start": 1681851950820,
    "id": "3yVig8uBP0Jf",
    "outputId": "aff04c09-e04b-4e23-bcab-d2c18047f1a9",
    "source_hash": "fd7ca42b"
   },
   "outputs": [
    {
     "name": "stdout",
     "output_type": "stream",
     "text": [
      "<class 'pandas.core.frame.DataFrame'>\n",
      "RangeIndex: 75 entries, 0 to 74\n",
      "Data columns (total 11 columns):\n",
      " #   Column            Non-Null Count  Dtype  \n",
      "---  ------            --------------  -----  \n",
      " 0   Query text        75 non-null     object \n",
      " 1   Price range       75 non-null     object \n",
      " 2   listing_id        75 non-null     int64  \n",
      " 3   listing_url       75 non-null     object \n",
      " 4   listing_name      75 non-null     object \n",
      " 5   rater_1_text      75 non-null     float64\n",
      " 6   rater_2_text      75 non-null     float64\n",
      " 7   rater_3_text      75 non-null     float64\n",
      " 8   rater_1_combined  75 non-null     float64\n",
      " 9   rater_2_combined  75 non-null     float64\n",
      " 10  rater_3_combined  75 non-null     float64\n",
      "dtypes: float64(6), int64(1), object(4)\n",
      "memory usage: 6.6+ KB\n"
     ]
    }
   ],
   "source": [
    "df_ratings.info()"
   ]
  },
  {
   "cell_type": "markdown",
   "metadata": {
    "cell_id": "f4bb816acf184eb2a4c6e5ee5a2abd6b",
    "deepnote_cell_type": "markdown",
    "id": "yf73TpgzBjIX"
   },
   "source": [
    "### Evaluation of the search and recommender"
   ]
  },
  {
   "cell_type": "markdown",
   "metadata": {
    "cell_id": "baa6fe2515984efbad195c6435430de8",
    "deepnote_cell_type": "markdown",
    "id": "57yRhn3ZAjaT"
   },
   "source": [
    "We're almost ready to start doing some calculations to evaluate our model. First we'll get a list of the queries that were used in our search engine surveys. We'll use these to grab out the sub section that contains the search results for that query. We'll evaluate each of these sets of querie/results."
   ]
  },
  {
   "cell_type": "code",
   "execution_count": 12,
   "metadata": {
    "cell_id": "f8de458159f9415fa430b2e0e7d22345",
    "colab": {
     "base_uri": "https://localhost:8080/"
    },
    "deepnote_cell_type": "code",
    "deepnote_to_be_reexecuted": false,
    "execution_millis": 64,
    "execution_start": 1681851950823,
    "id": "yVpNT51wlls0",
    "outputId": "dc88b2d9-8e98-45c3-bb52-90a09a3bb573",
    "source_hash": "b5a6129b"
   },
   "outputs": [
    {
     "data": {
      "text/plain": [
       "(array(['I want a private room close to uw campus with parking and coffee shop.',\n",
       "        'condo near Space Needle',\n",
       "        'house near famous Pike Place Starbucks',\n",
       "        'Nice clean quiet apartment with three beds around downtown',\n",
       "        'Coffeeholic house',\n",
       "        'Clean, quiet 2 bed near famous vietnamese coffee shops',\n",
       "        'Big house near lake washington',\n",
       "        'house with view of mount rainier seattle, quiet, clean!',\n",
       "        'I want to be near uw but close to local music scene too',\n",
       "        'clean place near seattle harbor cruise',\n",
       "        'I want a 2 bedroom 2 bath near the Seattle art museum and walking distance to restaurants',\n",
       "        'I need a 2 bed 1 bedroom 1 bath condo with walking distance to Pike Place Market and great restaurants',\n",
       "        '3 bedroom 2 bath house with 4 beds near Seattle Museum of Popular Culture ',\n",
       "        'Looking for a cozy 1 bedroom 1 bath condo near the famous Smith Tower in Pioneer Square. Must be clean.',\n",
       "        'Looking for a 4 bedroom 3 bath house walking distance to Washington Park Arboretum '],\n",
       "       dtype=object),\n",
       " 15)"
      ]
     },
     "execution_count": 12,
     "metadata": {},
     "output_type": "execute_result"
    }
   ],
   "source": [
    "unique_queries = df_ratings['Query text'].unique()\n",
    "unique_queries, len(unique_queries)"
   ]
  },
  {
   "cell_type": "markdown",
   "metadata": {
    "cell_id": "f20edec533624b839f8ffc622dc50b5e",
    "deepnote_cell_type": "markdown",
    "id": "IHVUzKGLnSLd"
   },
   "source": [
    "#### Calclulate NDCG"
   ]
  },
  {
   "cell_type": "markdown",
   "metadata": {
    "cell_id": "f33596d0ad0649828a28eafd041cbab3",
    "deepnote_cell_type": "markdown",
    "id": "XjT8sJwCmaa-"
   },
   "source": [
    "The data frame representing the survey is grouped by query text and the search results for each query is sorted in descending order of what the search engine believes is the most relevant to the least relevant.\n",
    "\n",
    "NDCG is a modern way to evaluate search engine results that takes into account both the relevance as labeled by raters (human raters in our case) and the order of the results.\n",
    "\n",
    "Now it's time to calculate the NDCG @ n, for each query's search results.  In our case, to keep the survey response time manageable, we only had the rater rate 5 results for each query. Thus in our case n is also the size of of the search result recommendation set.\n"
   ]
  },
  {
   "cell_type": "markdown",
   "metadata": {
    "cell_id": "735cc3a8700348e896e878e42f97eee2",
    "deepnote_cell_type": "markdown",
    "id": "BoZp5Ag0tUkP"
   },
   "source": [
    "As we learned in SIAD685, there are many ways to do the discounted cumulative gain. In our case because we are working with 5 result items per query, we wanted to amplify the difference and also penalize the case when the top ideal ranked item is not on top and one way to do that is to do 2**rating in the numerator [see reference link below]. This will help us better see the difference in performance in our case.\n",
    "\n",
    "**We leave some commented out for you to try!**"
   ]
  },
  {
   "cell_type": "code",
   "execution_count": 13,
   "metadata": {
    "cell_id": "fc1e575dc93a4768aba726730145f8d6",
    "deepnote_cell_type": "code",
    "deepnote_to_be_reexecuted": false,
    "execution_millis": 65,
    "execution_start": 1681851950824,
    "id": "IMIQ-6crmKVB",
    "source_hash": "784d292b"
   },
   "outputs": [],
   "source": [
    "# This is the NCDG that we learned in SIADS685 Search and Recommender Systems\n",
    "# It's values the top 2 results and begins discounting in the 3rd result onward.\n",
    "# Uncomment if you prefer this one.\n",
    "\n",
    "# def calculate_dcg(doc_ranks, base):\n",
    "#     dcg = 0\n",
    "#     for i,r in enumerate(doc_ranks):\n",
    "#         idx = i+1\n",
    "#         if idx > base:\n",
    "#             rank = r / math.log(idx,base)\n",
    "#         else:\n",
    "#             rank = r\n",
    "#         dcg += rank\n",
    "#     return dcg"
   ]
  },
  {
   "cell_type": "code",
   "execution_count": 14,
   "metadata": {
    "cell_id": "caa63b218ec340e1a4c731310d64e02d",
    "deepnote_cell_type": "code",
    "deepnote_to_be_reexecuted": false,
    "execution_millis": 62,
    "execution_start": 1681851950826,
    "id": "SmvPAaxxEg31",
    "source_hash": "42100f8d"
   },
   "outputs": [],
   "source": [
    "# Per SIADS685 where the discount begins is highly reliant on domain knowledge.\n",
    "# Some case you might discount immediately after the first result. See reference\n",
    "# link here:\n",
    "# https://towardsdatascience.com/evaluate-your-recommendation-engine-using-ndcg-759a851452d1\n",
    "# Uncomment if you prefer this one:\n",
    "\n",
    "# def calculate_dcg(doc_ranks, base):\n",
    "#     dcg = 0\n",
    "#     for i,r in enumerate(doc_ranks):\n",
    "#         idx = i+1\n",
    "#         rank = r / math.log(idx+1,base)\n",
    "#         dcg += rank\n",
    "#     return dcg"
   ]
  },
  {
   "cell_type": "code",
   "execution_count": 15,
   "metadata": {
    "cell_id": "836d4544c5ed4cc78d64015e13e05bb9",
    "deepnote_cell_type": "code",
    "deepnote_to_be_reexecuted": false,
    "execution_millis": 20,
    "execution_start": 1681851950869,
    "id": "b970VwsJ6aDE",
    "source_hash": "39e19166"
   },
   "outputs": [],
   "source": [
    "# Per SIADS685 where the discount begins is highly reliant on domain knowledge.\n",
    "# Some case you might discount immediately after the first result AND also\n",
    "# penalize. Since we have a small number of results, five, then we want to spread\n",
    "# out the result to more easily see the difference in performance. See reference\n",
    "# link here:\n",
    "# https://towardsdatascience.com/evaluate-your-recommendation-engine-using-ndcg-759a851452d1\n",
    "# Uncomment if you prefer this one:\n",
    "\n",
    "def calculate_dcg(doc_ranks, base):\n",
    "    dcg = 0\n",
    "    for i,r in enumerate(doc_ranks):\n",
    "        idx = i+1\n",
    "        rank = ((2**r) - 1) / math.log(idx+1,base)\n",
    "        dcg += rank\n",
    "    return dcg"
   ]
  },
  {
   "cell_type": "code",
   "execution_count": 16,
   "metadata": {
    "cell_id": "8d4c4a4105fd449eb6e105f2e7d9c179",
    "deepnote_cell_type": "code",
    "deepnote_to_be_reexecuted": false,
    "execution_millis": 19,
    "execution_start": 1681851950869,
    "id": "RtngBvfhoYxD",
    "source_hash": "ce1f0465"
   },
   "outputs": [],
   "source": [
    "max_docs = 10\n",
    "\n",
    "def calculate_ndcg(ratings, n=-1):\n",
    "    # figure what \"at n\" is, because in NDCG is really always NDCG@n\n",
    "    if n == -1 or n > max_docs:\n",
    "        at_n = len(ratings)\n",
    "    else:\n",
    "        at_n = n\n",
    "    \n",
    "    # calculate the dcg@n for the search engine's ranking of the documents\n",
    "    system_dcg = calculate_dcg(ratings[:at_n], 2)\n",
    "\n",
    "    # calculate the dcg@n for the rater's ranking of documents\n",
    "    #   which we first need to sort by the rater's ranking\n",
    "    ideal_dcg = calculate_dcg(np.sort(ratings)[::-1][:at_n], 2)\n",
    "\n",
    "    # normalized DCG at n\n",
    "    norm_dcg = system_dcg / ideal_dcg     \n",
    "\n",
    "    # For the curious, uncomment this to see the system vs ideal numbers\n",
    "    # print('sdcg:{:.3f}, idcg:{:.3f}, ndcg:{:.f}'.format(system_dcg, ideal_dcg, norm_dcg))\n",
    "    return norm_dcg"
   ]
  },
  {
   "cell_type": "code",
   "execution_count": 17,
   "metadata": {
    "cell_id": "5ac911b61d5f4717bdaa5639910a6854",
    "colab": {
     "base_uri": "https://localhost:8080/"
    },
    "deepnote_cell_type": "code",
    "deepnote_to_be_reexecuted": false,
    "execution_millis": 19,
    "execution_start": 1681851950870,
    "id": "2ho5p48YKi55",
    "outputId": "50bfd6c9-1734-4f8d-a82d-8b06776aa6f4",
    "source_hash": "bd7be1f7"
   },
   "outputs": [
    {
     "data": {
      "text/plain": [
       "7"
      ]
     },
     "execution_count": 17,
     "metadata": {},
     "output_type": "execute_result"
    }
   ],
   "source": [
    "ndcg_data = {'query':unique_queries}\n",
    "\n",
    "for rater in rating_cols:\n",
    "  ndcg = []\n",
    "  for query_text in unique_queries:\n",
    "      # get the ratings for the particular search term, \n",
    "      #   which are already sorted by search engine ranking\n",
    "      ratings = df_ratings[df_ratings['Query text'] == query_text][rater].values\n",
    "\n",
    "      # calculate and save the NDCG @ n\n",
    "      ndcg.append(calculate_ndcg(ratings))\n",
    "  ndcg_data['{}_ndcg'.format(rater)] = ndcg\n",
    "\n",
    "len(ndcg_data)"
   ]
  },
  {
   "cell_type": "code",
   "execution_count": 18,
   "metadata": {
    "cell_id": "98653f681db54abf9c4d48454041edea",
    "colab": {
     "base_uri": "https://localhost:8080/",
     "height": 1000
    },
    "deepnote_cell_type": "code",
    "deepnote_to_be_reexecuted": false,
    "execution_millis": 26,
    "execution_start": 1681851950871,
    "id": "vn7J8UEihJLF",
    "outputId": "0cd37fac-3b75-42a2-cdc7-68c49ac37a12",
    "source_hash": "d6838e32"
   },
   "outputs": [
    {
     "data": {
      "application/vnd.deepnote.dataframe.v3+json": {
       "column_count": 7,
       "columns": [
        {
         "dtype": "object",
         "name": "query",
         "stats": {
          "categories": [
           {
            "count": 1,
            "name": "I want a private room close to uw campus with parking and coffee shop."
           },
           {
            "count": 1,
            "name": "condo near Space Needle"
           },
           {
            "count": 13,
            "name": "13 others"
           }
          ],
          "nan_count": 0,
          "unique_count": 15
         }
        },
        {
         "dtype": "float64",
         "name": "rater_1_text_ndcg",
         "stats": {
          "histogram": [
           {
            "bin_end": 0.7505534731570479,
            "bin_start": 0.7228371923967198,
            "count": 1
           },
           {
            "bin_end": 0.7782697539173759,
            "bin_start": 0.7505534731570479,
            "count": 0
           },
           {
            "bin_end": 0.8059860346777039,
            "bin_start": 0.7782697539173759,
            "count": 1
           },
           {
            "bin_end": 0.8337023154380319,
            "bin_start": 0.8059860346777039,
            "count": 2
           },
           {
            "bin_end": 0.8614185961983599,
            "bin_start": 0.8337023154380319,
            "count": 0
           },
           {
            "bin_end": 0.889134876958688,
            "bin_start": 0.8614185961983599,
            "count": 1
           },
           {
            "bin_end": 0.9168511577190159,
            "bin_start": 0.889134876958688,
            "count": 0
           },
           {
            "bin_end": 0.944567438479344,
            "bin_start": 0.9168511577190159,
            "count": 3
           },
           {
            "bin_end": 0.9722837192396719,
            "bin_start": 0.944567438479344,
            "count": 0
           },
           {
            "bin_end": 1,
            "bin_start": 0.9722837192396719,
            "count": 7
           }
          ],
          "max": "1.0",
          "min": "0.7228371923967198",
          "nan_count": 0,
          "unique_count": 14
         }
        },
        {
         "dtype": "float64",
         "name": "rater_2_text_ndcg",
         "stats": {
          "histogram": [
           {
            "bin_end": 0.7765891010676464,
            "bin_start": 0.7517656678529405,
            "count": 2
           },
           {
            "bin_end": 0.8014125342823524,
            "bin_start": 0.7765891010676464,
            "count": 1
           },
           {
            "bin_end": 0.8262359674970583,
            "bin_start": 0.8014125342823524,
            "count": 0
           },
           {
            "bin_end": 0.8510594007117643,
            "bin_start": 0.8262359674970583,
            "count": 1
           },
           {
            "bin_end": 0.8758828339264703,
            "bin_start": 0.8510594007117643,
            "count": 0
           },
           {
            "bin_end": 0.9007062671411762,
            "bin_start": 0.8758828339264703,
            "count": 0
           },
           {
            "bin_end": 0.9255297003558821,
            "bin_start": 0.9007062671411762,
            "count": 0
           },
           {
            "bin_end": 0.9503531335705881,
            "bin_start": 0.9255297003558821,
            "count": 2
           },
           {
            "bin_end": 0.9751765667852941,
            "bin_start": 0.9503531335705881,
            "count": 0
           },
           {
            "bin_end": 1,
            "bin_start": 0.9751765667852941,
            "count": 9
           }
          ],
          "max": "1.0",
          "min": "0.7517656678529405",
          "nan_count": 0,
          "unique_count": 9
         }
        },
        {
         "dtype": "float64",
         "name": "rater_3_text_ndcg",
         "stats": {
          "histogram": [
           {
            "bin_end": 0.7440125679422604,
            "bin_start": 0.7155695199358449,
            "count": 1
           },
           {
            "bin_end": 0.772455615948676,
            "bin_start": 0.7440125679422604,
            "count": 0
           },
           {
            "bin_end": 0.8008986639550915,
            "bin_start": 0.772455615948676,
            "count": 0
           },
           {
            "bin_end": 0.829341711961507,
            "bin_start": 0.8008986639550915,
            "count": 0
           },
           {
            "bin_end": 0.8577847599679225,
            "bin_start": 0.829341711961507,
            "count": 1
           },
           {
            "bin_end": 0.886227807974338,
            "bin_start": 0.8577847599679225,
            "count": 3
           },
           {
            "bin_end": 0.9146708559807535,
            "bin_start": 0.886227807974338,
            "count": 1
           },
           {
            "bin_end": 0.943113903987169,
            "bin_start": 0.9146708559807535,
            "count": 1
           },
           {
            "bin_end": 0.9715569519935845,
            "bin_start": 0.943113903987169,
            "count": 2
           },
           {
            "bin_end": 1,
            "bin_start": 0.9715569519935845,
            "count": 6
           }
          ],
          "max": "1.0",
          "min": "0.7155695199358449",
          "nan_count": 0,
          "unique_count": 10
         }
        },
        {
         "dtype": "float64",
         "name": "rater_1_combined_ndcg",
         "stats": {
          "histogram": [
           {
            "bin_end": 0.8441374172819374,
            "bin_start": 0.826819352535486,
            "count": 1
           },
           {
            "bin_end": 0.8614554820283888,
            "bin_start": 0.8441374172819374,
            "count": 0
           },
           {
            "bin_end": 0.8787735467748402,
            "bin_start": 0.8614554820283888,
            "count": 0
           },
           {
            "bin_end": 0.8960916115212916,
            "bin_start": 0.8787735467748402,
            "count": 0
           },
           {
            "bin_end": 0.913409676267743,
            "bin_start": 0.8960916115212916,
            "count": 1
           },
           {
            "bin_end": 0.9307277410141944,
            "bin_start": 0.913409676267743,
            "count": 0
           },
           {
            "bin_end": 0.9480458057606458,
            "bin_start": 0.9307277410141944,
            "count": 3
           },
           {
            "bin_end": 0.9653638705070973,
            "bin_start": 0.9480458057606458,
            "count": 0
           },
           {
            "bin_end": 0.9826819352535486,
            "bin_start": 0.9653638705070973,
            "count": 2
           },
           {
            "bin_end": 1,
            "bin_start": 0.9826819352535486,
            "count": 8
           }
          ],
          "max": "1.0",
          "min": "0.826819352535486",
          "nan_count": 0,
          "unique_count": 11
         }
        },
        {
         "dtype": "float64",
         "name": "rater_2_combined_ndcg",
         "stats": {
          "histogram": [
           {
            "bin_end": 0.8631245703779014,
            "bin_start": 0.8479161893087793,
            "count": 1
           },
           {
            "bin_end": 0.8783329514470235,
            "bin_start": 0.8631245703779014,
            "count": 0
           },
           {
            "bin_end": 0.8935413325161455,
            "bin_start": 0.8783329514470235,
            "count": 0
           },
           {
            "bin_end": 0.9087497135852676,
            "bin_start": 0.8935413325161455,
            "count": 0
           },
           {
            "bin_end": 0.9239580946543897,
            "bin_start": 0.9087497135852676,
            "count": 0
           },
           {
            "bin_end": 0.9391664757235118,
            "bin_start": 0.9239580946543897,
            "count": 0
           },
           {
            "bin_end": 0.9543748567926338,
            "bin_start": 0.9391664757235118,
            "count": 1
           },
           {
            "bin_end": 0.9695832378617558,
            "bin_start": 0.9543748567926338,
            "count": 0
           },
           {
            "bin_end": 0.984791618930878,
            "bin_start": 0.9695832378617558,
            "count": 3
           },
           {
            "bin_end": 1,
            "bin_start": 0.984791618930878,
            "count": 10
           }
          ],
          "max": "1.0",
          "min": "0.8479161893087793",
          "nan_count": 0,
          "unique_count": 7
         }
        },
        {
         "dtype": "float64",
         "name": "rater_3_combined_ndcg",
         "stats": {
          "histogram": [
           {
            "bin_end": 0.7440125679422604,
            "bin_start": 0.7155695199358449,
            "count": 1
           },
           {
            "bin_end": 0.772455615948676,
            "bin_start": 0.7440125679422604,
            "count": 0
           },
           {
            "bin_end": 0.8008986639550915,
            "bin_start": 0.772455615948676,
            "count": 0
           },
           {
            "bin_end": 0.829341711961507,
            "bin_start": 0.8008986639550915,
            "count": 1
           },
           {
            "bin_end": 0.8577847599679225,
            "bin_start": 0.829341711961507,
            "count": 1
           },
           {
            "bin_end": 0.886227807974338,
            "bin_start": 0.8577847599679225,
            "count": 1
           },
           {
            "bin_end": 0.9146708559807535,
            "bin_start": 0.886227807974338,
            "count": 1
           },
           {
            "bin_end": 0.943113903987169,
            "bin_start": 0.9146708559807535,
            "count": 0
           },
           {
            "bin_end": 0.9715569519935845,
            "bin_start": 0.943113903987169,
            "count": 3
           },
           {
            "bin_end": 1,
            "bin_start": 0.9715569519935845,
            "count": 7
           }
          ],
          "max": "1.0",
          "min": "0.7155695199358449",
          "nan_count": 0,
          "unique_count": 10
         }
        },
        {
         "dtype": "int64",
         "name": "_deepnote_index_column"
        }
       ],
       "row_count": 15,
       "rows": [
        {
         "_deepnote_index_column": "0",
         "query": "I want a private room close to uw campus with parking and coffee shop.",
         "rater_1_combined_ndcg": "0.943582708859125",
         "rater_1_text_ndcg": "0.943582708859125",
         "rater_2_combined_ndcg": "0.9407200592374166",
         "rater_2_text_ndcg": "0.9407200592374166",
         "rater_3_combined_ndcg": "0.8966408091044562",
         "rater_3_text_ndcg": "0.8966408091044562"
        },
        {
         "_deepnote_index_column": "1",
         "query": "condo near Space Needle",
         "rater_1_combined_ndcg": "0.826819352535486",
         "rater_1_text_ndcg": "0.826819352535486",
         "rater_2_combined_ndcg": "1.0",
         "rater_2_text_ndcg": "1.0",
         "rater_3_combined_ndcg": "1.0",
         "rater_3_text_ndcg": "1.0"
        },
        {
         "_deepnote_index_column": "2",
         "query": "house near famous Pike Place Starbucks",
         "rater_1_combined_ndcg": "0.9965568927454495",
         "rater_1_text_ndcg": "0.9965568927454495",
         "rater_2_combined_ndcg": "1.0",
         "rater_2_text_ndcg": "1.0",
         "rater_3_combined_ndcg": "0.9852842450037125",
         "rater_3_text_ndcg": "0.9852842450037125"
        },
        {
         "_deepnote_index_column": "3",
         "query": "Nice clean quiet apartment with three beds around downtown",
         "rater_1_combined_ndcg": "1.0",
         "rater_1_text_ndcg": "0.8202782067414294",
         "rater_2_combined_ndcg": "1.0",
         "rater_2_text_ndcg": "0.7517656678529405",
         "rater_3_combined_ndcg": "0.7155695199358449",
         "rater_3_text_ndcg": "0.7155695199358449"
        },
        {
         "_deepnote_index_column": "4",
         "query": "Coffeeholic house",
         "rater_1_combined_ndcg": "0.977319969425995",
         "rater_1_text_ndcg": "0.977319969425995",
         "rater_2_combined_ndcg": "0.9787548397292644",
         "rater_2_text_ndcg": "0.9787548397292644",
         "rater_3_combined_ndcg": "0.8543880952490198",
         "rater_3_text_ndcg": "0.8543880952490198"
        },
        {
         "_deepnote_index_column": "5",
         "query": "Clean, quiet 2 bed near famous vietnamese coffee shops",
         "rater_1_combined_ndcg": "0.9076127735560476",
         "rater_1_text_ndcg": "1.0",
         "rater_2_combined_ndcg": "0.9740009843747367",
         "rater_2_text_ndcg": "1.0",
         "rater_3_combined_ndcg": "0.9957053448022521",
         "rater_3_text_ndcg": "0.8603313616273625"
        },
        {
         "_deepnote_index_column": "6",
         "query": "Big house near lake washington",
         "rater_1_combined_ndcg": "0.9953205914544665",
         "rater_1_text_ndcg": "0.9953205914544665",
         "rater_2_combined_ndcg": "1.0",
         "rater_2_text_ndcg": "1.0",
         "rater_3_combined_ndcg": "0.9688387416528931",
         "rater_3_text_ndcg": "0.9688387416528931"
        },
        {
         "_deepnote_index_column": "7",
         "query": "house with view of mount rainier seattle, quiet, clean!",
         "rater_1_combined_ndcg": "1.0",
         "rater_1_text_ndcg": "1.0",
         "rater_2_combined_ndcg": "0.8479161893087793",
         "rater_2_text_ndcg": "0.8479161893087793",
         "rater_3_combined_ndcg": "0.9501535962738357",
         "rater_3_text_ndcg": "0.9501535962738357"
        },
        {
         "_deepnote_index_column": "8",
         "query": "I want to be near uw but close to local music scene too",
         "rater_1_combined_ndcg": "0.9372457172128151",
         "rater_1_text_ndcg": "0.9372457172128151",
         "rater_2_combined_ndcg": "1.0",
         "rater_2_text_ndcg": "1.0",
         "rater_3_combined_ndcg": "0.8603313616273625",
         "rater_3_text_ndcg": "0.8603313616273625"
        },
        {
         "_deepnote_index_column": "9",
         "query": "clean place near seattle harbor cruise",
         "rater_1_combined_ndcg": "0.9726816937363161",
         "rater_1_text_ndcg": "0.9726816937363161",
         "rater_2_combined_ndcg": "1.0",
         "rater_2_text_ndcg": "1.0",
         "rater_3_combined_ndcg": "1.0",
         "rater_3_text_ndcg": "1.0"
        }
       ]
      },
      "text/html": [
       "<div>\n",
       "<style scoped>\n",
       "    .dataframe tbody tr th:only-of-type {\n",
       "        vertical-align: middle;\n",
       "    }\n",
       "\n",
       "    .dataframe tbody tr th {\n",
       "        vertical-align: top;\n",
       "    }\n",
       "\n",
       "    .dataframe thead th {\n",
       "        text-align: right;\n",
       "    }\n",
       "</style>\n",
       "<table border=\"1\" class=\"dataframe\">\n",
       "  <thead>\n",
       "    <tr style=\"text-align: right;\">\n",
       "      <th></th>\n",
       "      <th>query</th>\n",
       "      <th>rater_1_text_ndcg</th>\n",
       "      <th>rater_2_text_ndcg</th>\n",
       "      <th>rater_3_text_ndcg</th>\n",
       "      <th>rater_1_combined_ndcg</th>\n",
       "      <th>rater_2_combined_ndcg</th>\n",
       "      <th>rater_3_combined_ndcg</th>\n",
       "    </tr>\n",
       "  </thead>\n",
       "  <tbody>\n",
       "    <tr>\n",
       "      <th>0</th>\n",
       "      <td>I want a private room close to uw campus with ...</td>\n",
       "      <td>0.943583</td>\n",
       "      <td>0.940720</td>\n",
       "      <td>0.896641</td>\n",
       "      <td>0.943583</td>\n",
       "      <td>0.940720</td>\n",
       "      <td>0.896641</td>\n",
       "    </tr>\n",
       "    <tr>\n",
       "      <th>1</th>\n",
       "      <td>condo near Space Needle</td>\n",
       "      <td>0.826819</td>\n",
       "      <td>1.000000</td>\n",
       "      <td>1.000000</td>\n",
       "      <td>0.826819</td>\n",
       "      <td>1.000000</td>\n",
       "      <td>1.000000</td>\n",
       "    </tr>\n",
       "    <tr>\n",
       "      <th>2</th>\n",
       "      <td>house near famous Pike Place Starbucks</td>\n",
       "      <td>0.996557</td>\n",
       "      <td>1.000000</td>\n",
       "      <td>0.985284</td>\n",
       "      <td>0.996557</td>\n",
       "      <td>1.000000</td>\n",
       "      <td>0.985284</td>\n",
       "    </tr>\n",
       "    <tr>\n",
       "      <th>3</th>\n",
       "      <td>Nice clean quiet apartment with three beds aro...</td>\n",
       "      <td>0.820278</td>\n",
       "      <td>0.751766</td>\n",
       "      <td>0.715570</td>\n",
       "      <td>1.000000</td>\n",
       "      <td>1.000000</td>\n",
       "      <td>0.715570</td>\n",
       "    </tr>\n",
       "    <tr>\n",
       "      <th>4</th>\n",
       "      <td>Coffeeholic house</td>\n",
       "      <td>0.977320</td>\n",
       "      <td>0.978755</td>\n",
       "      <td>0.854388</td>\n",
       "      <td>0.977320</td>\n",
       "      <td>0.978755</td>\n",
       "      <td>0.854388</td>\n",
       "    </tr>\n",
       "    <tr>\n",
       "      <th>5</th>\n",
       "      <td>Clean, quiet 2 bed near famous vietnamese coff...</td>\n",
       "      <td>1.000000</td>\n",
       "      <td>1.000000</td>\n",
       "      <td>0.860331</td>\n",
       "      <td>0.907613</td>\n",
       "      <td>0.974001</td>\n",
       "      <td>0.995705</td>\n",
       "    </tr>\n",
       "    <tr>\n",
       "      <th>6</th>\n",
       "      <td>Big house near lake washington</td>\n",
       "      <td>0.995321</td>\n",
       "      <td>1.000000</td>\n",
       "      <td>0.968839</td>\n",
       "      <td>0.995321</td>\n",
       "      <td>1.000000</td>\n",
       "      <td>0.968839</td>\n",
       "    </tr>\n",
       "    <tr>\n",
       "      <th>7</th>\n",
       "      <td>house with view of mount rainier seattle, quie...</td>\n",
       "      <td>1.000000</td>\n",
       "      <td>0.847916</td>\n",
       "      <td>0.950154</td>\n",
       "      <td>1.000000</td>\n",
       "      <td>0.847916</td>\n",
       "      <td>0.950154</td>\n",
       "    </tr>\n",
       "    <tr>\n",
       "      <th>8</th>\n",
       "      <td>I want to be near uw but close to local music ...</td>\n",
       "      <td>0.937246</td>\n",
       "      <td>1.000000</td>\n",
       "      <td>0.860331</td>\n",
       "      <td>0.937246</td>\n",
       "      <td>1.000000</td>\n",
       "      <td>0.860331</td>\n",
       "    </tr>\n",
       "    <tr>\n",
       "      <th>9</th>\n",
       "      <td>clean place near seattle harbor cruise</td>\n",
       "      <td>0.972682</td>\n",
       "      <td>1.000000</td>\n",
       "      <td>1.000000</td>\n",
       "      <td>0.972682</td>\n",
       "      <td>1.000000</td>\n",
       "      <td>1.000000</td>\n",
       "    </tr>\n",
       "    <tr>\n",
       "      <th>10</th>\n",
       "      <td>I want a 2 bedroom 2 bath near the Seattle art...</td>\n",
       "      <td>0.917052</td>\n",
       "      <td>0.943485</td>\n",
       "      <td>1.000000</td>\n",
       "      <td>1.000000</td>\n",
       "      <td>1.000000</td>\n",
       "      <td>1.000000</td>\n",
       "    </tr>\n",
       "    <tr>\n",
       "      <th>11</th>\n",
       "      <td>I need a 2 bed 1 bedroom 1 bath condo with wal...</td>\n",
       "      <td>0.887712</td>\n",
       "      <td>0.995321</td>\n",
       "      <td>1.000000</td>\n",
       "      <td>1.000000</td>\n",
       "      <td>1.000000</td>\n",
       "      <td>1.000000</td>\n",
       "    </tr>\n",
       "    <tr>\n",
       "      <th>12</th>\n",
       "      <td>3 bedroom 2 bath house with 4 beds near Seattl...</td>\n",
       "      <td>0.722837</td>\n",
       "      <td>0.753993</td>\n",
       "      <td>0.859531</td>\n",
       "      <td>0.984477</td>\n",
       "      <td>0.993888</td>\n",
       "      <td>0.968839</td>\n",
       "    </tr>\n",
       "    <tr>\n",
       "      <th>13</th>\n",
       "      <td>Looking for a cozy 1 bedroom 1 bath condo near...</td>\n",
       "      <td>0.976939</td>\n",
       "      <td>1.000000</td>\n",
       "      <td>1.000000</td>\n",
       "      <td>1.000000</td>\n",
       "      <td>1.000000</td>\n",
       "      <td>1.000000</td>\n",
       "    </tr>\n",
       "    <tr>\n",
       "      <th>14</th>\n",
       "      <td>Looking for a 4 bedroom 3 bath house walking d...</td>\n",
       "      <td>0.794709</td>\n",
       "      <td>0.799401</td>\n",
       "      <td>0.927044</td>\n",
       "      <td>0.944466</td>\n",
       "      <td>0.982793</td>\n",
       "      <td>0.812473</td>\n",
       "    </tr>\n",
       "  </tbody>\n",
       "</table>\n",
       "</div>"
      ],
      "text/plain": [
       "                                                query  rater_1_text_ndcg   \n",
       "0   I want a private room close to uw campus with ...           0.943583  \\\n",
       "1                             condo near Space Needle           0.826819   \n",
       "2              house near famous Pike Place Starbucks           0.996557   \n",
       "3   Nice clean quiet apartment with three beds aro...           0.820278   \n",
       "4                                   Coffeeholic house           0.977320   \n",
       "5   Clean, quiet 2 bed near famous vietnamese coff...           1.000000   \n",
       "6                      Big house near lake washington           0.995321   \n",
       "7   house with view of mount rainier seattle, quie...           1.000000   \n",
       "8   I want to be near uw but close to local music ...           0.937246   \n",
       "9              clean place near seattle harbor cruise           0.972682   \n",
       "10  I want a 2 bedroom 2 bath near the Seattle art...           0.917052   \n",
       "11  I need a 2 bed 1 bedroom 1 bath condo with wal...           0.887712   \n",
       "12  3 bedroom 2 bath house with 4 beds near Seattl...           0.722837   \n",
       "13  Looking for a cozy 1 bedroom 1 bath condo near...           0.976939   \n",
       "14  Looking for a 4 bedroom 3 bath house walking d...           0.794709   \n",
       "\n",
       "    rater_2_text_ndcg  rater_3_text_ndcg  rater_1_combined_ndcg   \n",
       "0            0.940720           0.896641               0.943583  \\\n",
       "1            1.000000           1.000000               0.826819   \n",
       "2            1.000000           0.985284               0.996557   \n",
       "3            0.751766           0.715570               1.000000   \n",
       "4            0.978755           0.854388               0.977320   \n",
       "5            1.000000           0.860331               0.907613   \n",
       "6            1.000000           0.968839               0.995321   \n",
       "7            0.847916           0.950154               1.000000   \n",
       "8            1.000000           0.860331               0.937246   \n",
       "9            1.000000           1.000000               0.972682   \n",
       "10           0.943485           1.000000               1.000000   \n",
       "11           0.995321           1.000000               1.000000   \n",
       "12           0.753993           0.859531               0.984477   \n",
       "13           1.000000           1.000000               1.000000   \n",
       "14           0.799401           0.927044               0.944466   \n",
       "\n",
       "    rater_2_combined_ndcg  rater_3_combined_ndcg  \n",
       "0                0.940720               0.896641  \n",
       "1                1.000000               1.000000  \n",
       "2                1.000000               0.985284  \n",
       "3                1.000000               0.715570  \n",
       "4                0.978755               0.854388  \n",
       "5                0.974001               0.995705  \n",
       "6                1.000000               0.968839  \n",
       "7                0.847916               0.950154  \n",
       "8                1.000000               0.860331  \n",
       "9                1.000000               1.000000  \n",
       "10               1.000000               1.000000  \n",
       "11               1.000000               1.000000  \n",
       "12               0.993888               0.968839  \n",
       "13               1.000000               1.000000  \n",
       "14               0.982793               0.812473  "
      ]
     },
     "execution_count": 18,
     "metadata": {},
     "output_type": "execute_result"
    }
   ],
   "source": [
    "df_ndcg = pd.DataFrame(data=ndcg_data)\n",
    "df_ndcg"
   ]
  },
  {
   "cell_type": "markdown",
   "metadata": {
    "cell_id": "1851101646e2429b829bcf30839c2d38",
    "deepnote_cell_type": "markdown",
    "id": "jPZjZ3JXCnyN"
   },
   "source": [
    "Now we have each rater's NDCG for each of the queries. The typical modern way to evaluate a search engine is to average the NDCG's over a number of queries and raters. The range of the value is from 0 to 1, where a 1 means the search engine perfectly returns the ideal order of the Airbnb listings. \n",
    "\n",
    "But first let's look at some graph for fun to see if we see any obvious patterns."
   ]
  },
  {
   "cell_type": "code",
   "execution_count": 19,
   "metadata": {
    "cell_id": "cf8a4256baae4cc58a010f0b9c5c2bde",
    "colab": {
     "base_uri": "https://localhost:8080/",
     "height": 419
    },
    "deepnote_cell_type": "code",
    "deepnote_to_be_reexecuted": false,
    "execution_millis": 7,
    "execution_start": 1681851950897,
    "id": "Jjokfi0iEPMG",
    "outputId": "9a8efb69-32db-42f8-dff0-0b4f6625d35f",
    "source_hash": "b2e9dc9c"
   },
   "outputs": [
    {
     "data": {
      "application/vnd.deepnote.dataframe.v3+json": {
       "column_count": 3,
       "columns": [
        {
         "dtype": "object",
         "name": "query",
         "stats": {
          "categories": [
           {
            "count": 6,
            "name": "I want a private room close to uw campus with parking and coffee shop."
           },
           {
            "count": 6,
            "name": "condo near Space Needle"
           },
           {
            "count": 78,
            "name": "13 others"
           }
          ],
          "nan_count": 0,
          "unique_count": 15
         }
        },
        {
         "dtype": "object",
         "name": "variable",
         "stats": {
          "categories": [
           {
            "count": 15,
            "name": "rater_1_text_ndcg"
           },
           {
            "count": 15,
            "name": "rater_2_text_ndcg"
           },
           {
            "count": 60,
            "name": "4 others"
           }
          ],
          "nan_count": 0,
          "unique_count": 6
         }
        },
        {
         "dtype": "float64",
         "name": "value",
         "stats": {
          "histogram": [
           {
            "bin_end": 0.7440125679422604,
            "bin_start": 0.7155695199358449,
            "count": 3
           },
           {
            "bin_end": 0.772455615948676,
            "bin_start": 0.7440125679422604,
            "count": 2
           },
           {
            "bin_end": 0.8008986639550915,
            "bin_start": 0.772455615948676,
            "count": 2
           },
           {
            "bin_end": 0.829341711961507,
            "bin_start": 0.8008986639550915,
            "count": 4
           },
           {
            "bin_end": 0.8577847599679225,
            "bin_start": 0.829341711961507,
            "count": 4
           },
           {
            "bin_end": 0.886227807974338,
            "bin_start": 0.8577847599679225,
            "count": 4
           },
           {
            "bin_end": 0.9146708559807535,
            "bin_start": 0.886227807974338,
            "count": 4
           },
           {
            "bin_end": 0.943113903987169,
            "bin_start": 0.9146708559807535,
            "count": 6
           },
           {
            "bin_end": 0.9715569519935845,
            "bin_start": 0.943113903987169,
            "count": 9
           },
           {
            "bin_end": 1,
            "bin_start": 0.9715569519935845,
            "count": 52
           }
          ],
          "max": "1.0",
          "min": "0.7155695199358449",
          "nan_count": 0,
          "unique_count": 38
         }
        },
        {
         "dtype": "int64",
         "name": "_deepnote_index_column"
        }
       ],
       "row_count": 90,
       "rows": [
        {
         "_deepnote_index_column": "0",
         "query": "I want a private room close to uw campus with parking and coffee shop.",
         "value": "0.943582708859125",
         "variable": "rater_1_text_ndcg"
        },
        {
         "_deepnote_index_column": "1",
         "query": "condo near Space Needle",
         "value": "0.826819352535486",
         "variable": "rater_1_text_ndcg"
        },
        {
         "_deepnote_index_column": "2",
         "query": "house near famous Pike Place Starbucks",
         "value": "0.9965568927454495",
         "variable": "rater_1_text_ndcg"
        },
        {
         "_deepnote_index_column": "3",
         "query": "Nice clean quiet apartment with three beds around downtown",
         "value": "0.8202782067414294",
         "variable": "rater_1_text_ndcg"
        },
        {
         "_deepnote_index_column": "4",
         "query": "Coffeeholic house",
         "value": "0.977319969425995",
         "variable": "rater_1_text_ndcg"
        },
        {
         "_deepnote_index_column": "5",
         "query": "Clean, quiet 2 bed near famous vietnamese coffee shops",
         "value": "1.0",
         "variable": "rater_1_text_ndcg"
        },
        {
         "_deepnote_index_column": "6",
         "query": "Big house near lake washington",
         "value": "0.9953205914544665",
         "variable": "rater_1_text_ndcg"
        },
        {
         "_deepnote_index_column": "7",
         "query": "house with view of mount rainier seattle, quiet, clean!",
         "value": "1.0",
         "variable": "rater_1_text_ndcg"
        },
        {
         "_deepnote_index_column": "8",
         "query": "I want to be near uw but close to local music scene too",
         "value": "0.9372457172128151",
         "variable": "rater_1_text_ndcg"
        },
        {
         "_deepnote_index_column": "9",
         "query": "clean place near seattle harbor cruise",
         "value": "0.9726816937363161",
         "variable": "rater_1_text_ndcg"
        }
       ]
      },
      "text/html": [
       "<div>\n",
       "<style scoped>\n",
       "    .dataframe tbody tr th:only-of-type {\n",
       "        vertical-align: middle;\n",
       "    }\n",
       "\n",
       "    .dataframe tbody tr th {\n",
       "        vertical-align: top;\n",
       "    }\n",
       "\n",
       "    .dataframe thead th {\n",
       "        text-align: right;\n",
       "    }\n",
       "</style>\n",
       "<table border=\"1\" class=\"dataframe\">\n",
       "  <thead>\n",
       "    <tr style=\"text-align: right;\">\n",
       "      <th></th>\n",
       "      <th>query</th>\n",
       "      <th>variable</th>\n",
       "      <th>value</th>\n",
       "    </tr>\n",
       "  </thead>\n",
       "  <tbody>\n",
       "    <tr>\n",
       "      <th>0</th>\n",
       "      <td>I want a private room close to uw campus with ...</td>\n",
       "      <td>rater_1_text_ndcg</td>\n",
       "      <td>0.943583</td>\n",
       "    </tr>\n",
       "    <tr>\n",
       "      <th>1</th>\n",
       "      <td>condo near Space Needle</td>\n",
       "      <td>rater_1_text_ndcg</td>\n",
       "      <td>0.826819</td>\n",
       "    </tr>\n",
       "    <tr>\n",
       "      <th>2</th>\n",
       "      <td>house near famous Pike Place Starbucks</td>\n",
       "      <td>rater_1_text_ndcg</td>\n",
       "      <td>0.996557</td>\n",
       "    </tr>\n",
       "    <tr>\n",
       "      <th>3</th>\n",
       "      <td>Nice clean quiet apartment with three beds aro...</td>\n",
       "      <td>rater_1_text_ndcg</td>\n",
       "      <td>0.820278</td>\n",
       "    </tr>\n",
       "    <tr>\n",
       "      <th>4</th>\n",
       "      <td>Coffeeholic house</td>\n",
       "      <td>rater_1_text_ndcg</td>\n",
       "      <td>0.977320</td>\n",
       "    </tr>\n",
       "    <tr>\n",
       "      <th>...</th>\n",
       "      <td>...</td>\n",
       "      <td>...</td>\n",
       "      <td>...</td>\n",
       "    </tr>\n",
       "    <tr>\n",
       "      <th>85</th>\n",
       "      <td>I want a 2 bedroom 2 bath near the Seattle art...</td>\n",
       "      <td>rater_3_combined_ndcg</td>\n",
       "      <td>1.000000</td>\n",
       "    </tr>\n",
       "    <tr>\n",
       "      <th>86</th>\n",
       "      <td>I need a 2 bed 1 bedroom 1 bath condo with wal...</td>\n",
       "      <td>rater_3_combined_ndcg</td>\n",
       "      <td>1.000000</td>\n",
       "    </tr>\n",
       "    <tr>\n",
       "      <th>87</th>\n",
       "      <td>3 bedroom 2 bath house with 4 beds near Seattl...</td>\n",
       "      <td>rater_3_combined_ndcg</td>\n",
       "      <td>0.968839</td>\n",
       "    </tr>\n",
       "    <tr>\n",
       "      <th>88</th>\n",
       "      <td>Looking for a cozy 1 bedroom 1 bath condo near...</td>\n",
       "      <td>rater_3_combined_ndcg</td>\n",
       "      <td>1.000000</td>\n",
       "    </tr>\n",
       "    <tr>\n",
       "      <th>89</th>\n",
       "      <td>Looking for a 4 bedroom 3 bath house walking d...</td>\n",
       "      <td>rater_3_combined_ndcg</td>\n",
       "      <td>0.812473</td>\n",
       "    </tr>\n",
       "  </tbody>\n",
       "</table>\n",
       "<p>90 rows × 3 columns</p>\n",
       "</div>"
      ],
      "text/plain": [
       "                                                query               variable   \n",
       "0   I want a private room close to uw campus with ...      rater_1_text_ndcg  \\\n",
       "1                             condo near Space Needle      rater_1_text_ndcg   \n",
       "2              house near famous Pike Place Starbucks      rater_1_text_ndcg   \n",
       "3   Nice clean quiet apartment with three beds aro...      rater_1_text_ndcg   \n",
       "4                                   Coffeeholic house      rater_1_text_ndcg   \n",
       "..                                                ...                    ...   \n",
       "85  I want a 2 bedroom 2 bath near the Seattle art...  rater_3_combined_ndcg   \n",
       "86  I need a 2 bed 1 bedroom 1 bath condo with wal...  rater_3_combined_ndcg   \n",
       "87  3 bedroom 2 bath house with 4 beds near Seattl...  rater_3_combined_ndcg   \n",
       "88  Looking for a cozy 1 bedroom 1 bath condo near...  rater_3_combined_ndcg   \n",
       "89  Looking for a 4 bedroom 3 bath house walking d...  rater_3_combined_ndcg   \n",
       "\n",
       "       value  \n",
       "0   0.943583  \n",
       "1   0.826819  \n",
       "2   0.996557  \n",
       "3   0.820278  \n",
       "4   0.977320  \n",
       "..       ...  \n",
       "85  1.000000  \n",
       "86  1.000000  \n",
       "87  0.968839  \n",
       "88  1.000000  \n",
       "89  0.812473  \n",
       "\n",
       "[90 rows x 3 columns]"
      ]
     },
     "execution_count": 19,
     "metadata": {},
     "output_type": "execute_result"
    }
   ],
   "source": [
    "df3 = pd.melt(df_ndcg, id_vars=['query'], value_vars=['rater_1_text_ndcg', 'rater_2_text_ndcg', 'rater_3_text_ndcg',\n",
    "       'rater_1_combined_ndcg', 'rater_2_combined_ndcg',\n",
    "       'rater_3_combined_ndcg'])\n",
    "df3"
   ]
  },
  {
   "cell_type": "markdown",
   "metadata": {
    "cell_id": "6dd8c20798f3414d8285c5cb6f07519f",
    "deepnote_cell_type": "markdown",
    "id": "30xY6ps7dKEE"
   },
   "source": [
    "First we see below how each of the search engine(s) performed by each rater and by specific query in our test set. It doesn't look too bad, with many queries hovering around 0.9 or above, even reaching 1.0. We do see bigger variance around the fourth query and maybe the last five queries. It looks like these queries contain numbers, and their NDCG's hover around 0.7 to 0.8."
   ]
  },
  {
   "cell_type": "code",
   "execution_count": 20,
   "metadata": {
    "cell_id": "515efb86b12a444ea867d13bfd4aad4b",
    "colab": {
     "base_uri": "https://localhost:8080/",
     "height": 510
    },
    "deepnote_cell_type": "code",
    "deepnote_to_be_reexecuted": false,
    "execution_millis": 5,
    "execution_start": 1681851950918,
    "id": "rtYrI0h5DGDi",
    "outputId": "87670bd3-5aaf-4b1d-d278-a4dafef98845",
    "source_hash": "298c5a72"
   },
   "outputs": [
    {
     "data": {
      "text/html": [
       "\n",
       "<div id=\"altair-viz-e95181d1b3ee49b78aa7350b7aba9710\"></div>\n",
       "<script type=\"text/javascript\">\n",
       "  var VEGA_DEBUG = (typeof VEGA_DEBUG == \"undefined\") ? {} : VEGA_DEBUG;\n",
       "  (function(spec, embedOpt){\n",
       "    let outputDiv = document.currentScript.previousElementSibling;\n",
       "    if (outputDiv.id !== \"altair-viz-e95181d1b3ee49b78aa7350b7aba9710\") {\n",
       "      outputDiv = document.getElementById(\"altair-viz-e95181d1b3ee49b78aa7350b7aba9710\");\n",
       "    }\n",
       "    const paths = {\n",
       "      \"vega\": \"https://cdn.jsdelivr.net/npm//vega@5?noext\",\n",
       "      \"vega-lib\": \"https://cdn.jsdelivr.net/npm//vega-lib?noext\",\n",
       "      \"vega-lite\": \"https://cdn.jsdelivr.net/npm//vega-lite@4.17.0?noext\",\n",
       "      \"vega-embed\": \"https://cdn.jsdelivr.net/npm//vega-embed@6?noext\",\n",
       "    };\n",
       "\n",
       "    function maybeLoadScript(lib, version) {\n",
       "      var key = `${lib.replace(\"-\", \"\")}_version`;\n",
       "      return (VEGA_DEBUG[key] == version) ?\n",
       "        Promise.resolve(paths[lib]) :\n",
       "        new Promise(function(resolve, reject) {\n",
       "          var s = document.createElement('script');\n",
       "          document.getElementsByTagName(\"head\")[0].appendChild(s);\n",
       "          s.async = true;\n",
       "          s.onload = () => {\n",
       "            VEGA_DEBUG[key] = version;\n",
       "            return resolve(paths[lib]);\n",
       "          };\n",
       "          s.onerror = () => reject(`Error loading script: ${paths[lib]}`);\n",
       "          s.src = paths[lib];\n",
       "        });\n",
       "    }\n",
       "\n",
       "    function showError(err) {\n",
       "      outputDiv.innerHTML = `<div class=\"error\" style=\"color:red;\">${err}</div>`;\n",
       "      throw err;\n",
       "    }\n",
       "\n",
       "    function displayChart(vegaEmbed) {\n",
       "      vegaEmbed(outputDiv, spec, embedOpt)\n",
       "        .catch(err => showError(`Javascript Error: ${err.message}<br>This usually means there's a typo in your chart specification. See the javascript console for the full traceback.`));\n",
       "    }\n",
       "\n",
       "    if(typeof define === \"function\" && define.amd) {\n",
       "      requirejs.config({paths});\n",
       "      require([\"vega-embed\"], displayChart, err => showError(`Error loading script: ${err.message}`));\n",
       "    } else {\n",
       "      maybeLoadScript(\"vega\", \"5\")\n",
       "        .then(() => maybeLoadScript(\"vega-lite\", \"4.17.0\"))\n",
       "        .then(() => maybeLoadScript(\"vega-embed\", \"6\"))\n",
       "        .catch(showError)\n",
       "        .then(() => displayChart(vegaEmbed));\n",
       "    }\n",
       "  })({\"config\": {\"view\": {\"continuousWidth\": 400, \"continuousHeight\": 300}}, \"data\": {\"name\": \"data-e6ed26e694ea9c7a437677fce7710d96\"}, \"mark\": \"line\", \"encoding\": {\"color\": {\"field\": \"variable\", \"scale\": {\"scheme\": \"dark2\"}, \"title\": \"Rater, Search Engine Type\", \"type\": \"nominal\"}, \"x\": {\"axis\": {\"labelAngle\": -45}, \"field\": \"query\", \"sort\": null, \"title\": \"Search Query Term\", \"type\": \"nominal\"}, \"y\": {\"field\": \"value\", \"scale\": {\"domain\": [0.0, 1.1]}, \"title\": \"Normalized Discounted Cumulative Gain\", \"type\": \"quantitative\"}}, \"selection\": {\"selector001\": {\"type\": \"interval\", \"bind\": \"scales\", \"encodings\": [\"x\", \"y\"]}}, \"title\": \"Text Only and Combined Search Performance by Query by Rater\", \"width\": 500, \"$schema\": \"https://vega.github.io/schema/vega-lite/v4.17.0.json\", \"datasets\": {\"data-e6ed26e694ea9c7a437677fce7710d96\": [{\"query\": \"I want a private room close to uw campus with parking and coffee shop.\", \"variable\": \"rater_1_text_ndcg\", \"value\": 0.943582708859125}, {\"query\": \"condo near Space Needle\", \"variable\": \"rater_1_text_ndcg\", \"value\": 0.826819352535486}, {\"query\": \"house near famous Pike Place Starbucks\", \"variable\": \"rater_1_text_ndcg\", \"value\": 0.9965568927454495}, {\"query\": \"Nice clean quiet apartment with three beds around downtown\", \"variable\": \"rater_1_text_ndcg\", \"value\": 0.8202782067414294}, {\"query\": \"Coffeeholic house\", \"variable\": \"rater_1_text_ndcg\", \"value\": 0.977319969425995}, {\"query\": \"Clean, quiet 2 bed near famous vietnamese coffee shops\", \"variable\": \"rater_1_text_ndcg\", \"value\": 1.0}, {\"query\": \"Big house near lake washington\", \"variable\": \"rater_1_text_ndcg\", \"value\": 0.9953205914544665}, {\"query\": \"house with view of mount rainier seattle, quiet, clean!\", \"variable\": \"rater_1_text_ndcg\", \"value\": 1.0}, {\"query\": \"I want to be near uw but close to local music scene too\", \"variable\": \"rater_1_text_ndcg\", \"value\": 0.9372457172128151}, {\"query\": \"clean place near seattle harbor cruise\", \"variable\": \"rater_1_text_ndcg\", \"value\": 0.9726816937363161}, {\"query\": \"I want a 2 bedroom 2 bath near the Seattle art museum and walking distance to restaurants\", \"variable\": \"rater_1_text_ndcg\", \"value\": 0.9170522224181566}, {\"query\": \"I need a 2 bed 1 bedroom 1 bath condo with walking distance to Pike Place Market and great restaurants\", \"variable\": \"rater_1_text_ndcg\", \"value\": 0.88771194121698}, {\"query\": \"3 bedroom 2 bath house with 4 beds near Seattle Museum of Popular Culture \", \"variable\": \"rater_1_text_ndcg\", \"value\": 0.7228371923967198}, {\"query\": \"Looking for a cozy 1 bedroom 1 bath condo near the famous Smith Tower in Pioneer Square. Must be clean.\", \"variable\": \"rater_1_text_ndcg\", \"value\": 0.9769390485012681}, {\"query\": \"Looking for a 4 bedroom 3 bath house walking distance to Washington Park Arboretum \", \"variable\": \"rater_1_text_ndcg\", \"value\": 0.7947088081501493}, {\"query\": \"I want a private room close to uw campus with parking and coffee shop.\", \"variable\": \"rater_2_text_ndcg\", \"value\": 0.9407200592374166}, {\"query\": \"condo near Space Needle\", \"variable\": \"rater_2_text_ndcg\", \"value\": 1.0}, {\"query\": \"house near famous Pike Place Starbucks\", \"variable\": \"rater_2_text_ndcg\", \"value\": 1.0}, {\"query\": \"Nice clean quiet apartment with three beds around downtown\", \"variable\": \"rater_2_text_ndcg\", \"value\": 0.7517656678529405}, {\"query\": \"Coffeeholic house\", \"variable\": \"rater_2_text_ndcg\", \"value\": 0.9787548397292644}, {\"query\": \"Clean, quiet 2 bed near famous vietnamese coffee shops\", \"variable\": \"rater_2_text_ndcg\", \"value\": 1.0}, {\"query\": \"Big house near lake washington\", \"variable\": \"rater_2_text_ndcg\", \"value\": 1.0}, {\"query\": \"house with view of mount rainier seattle, quiet, clean!\", \"variable\": \"rater_2_text_ndcg\", \"value\": 0.8479161893087793}, {\"query\": \"I want to be near uw but close to local music scene too\", \"variable\": \"rater_2_text_ndcg\", \"value\": 1.0}, {\"query\": \"clean place near seattle harbor cruise\", \"variable\": \"rater_2_text_ndcg\", \"value\": 1.0}, {\"query\": \"I want a 2 bedroom 2 bath near the Seattle art museum and walking distance to restaurants\", \"variable\": \"rater_2_text_ndcg\", \"value\": 0.943484739249085}, {\"query\": \"I need a 2 bed 1 bedroom 1 bath condo with walking distance to Pike Place Market and great restaurants\", \"variable\": \"rater_2_text_ndcg\", \"value\": 0.9953205914544665}, {\"query\": \"3 bedroom 2 bath house with 4 beds near Seattle Museum of Popular Culture \", \"variable\": \"rater_2_text_ndcg\", \"value\": 0.7539928446427175}, {\"query\": \"Looking for a cozy 1 bedroom 1 bath condo near the famous Smith Tower in Pioneer Square. Must be clean.\", \"variable\": \"rater_2_text_ndcg\", \"value\": 1.0}, {\"query\": \"Looking for a 4 bedroom 3 bath house walking distance to Washington Park Arboretum \", \"variable\": \"rater_2_text_ndcg\", \"value\": 0.7994005971839862}, {\"query\": \"I want a private room close to uw campus with parking and coffee shop.\", \"variable\": \"rater_3_text_ndcg\", \"value\": 0.8966408091044562}, {\"query\": \"condo near Space Needle\", \"variable\": \"rater_3_text_ndcg\", \"value\": 1.0}, {\"query\": \"house near famous Pike Place Starbucks\", \"variable\": \"rater_3_text_ndcg\", \"value\": 0.9852842450037125}, {\"query\": \"Nice clean quiet apartment with three beds around downtown\", \"variable\": \"rater_3_text_ndcg\", \"value\": 0.7155695199358449}, {\"query\": \"Coffeeholic house\", \"variable\": \"rater_3_text_ndcg\", \"value\": 0.8543880952490198}, {\"query\": \"Clean, quiet 2 bed near famous vietnamese coffee shops\", \"variable\": \"rater_3_text_ndcg\", \"value\": 0.8603313616273625}, {\"query\": \"Big house near lake washington\", \"variable\": \"rater_3_text_ndcg\", \"value\": 0.9688387416528931}, {\"query\": \"house with view of mount rainier seattle, quiet, clean!\", \"variable\": \"rater_3_text_ndcg\", \"value\": 0.9501535962738357}, {\"query\": \"I want to be near uw but close to local music scene too\", \"variable\": \"rater_3_text_ndcg\", \"value\": 0.8603313616273625}, {\"query\": \"clean place near seattle harbor cruise\", \"variable\": \"rater_3_text_ndcg\", \"value\": 1.0}, {\"query\": \"I want a 2 bedroom 2 bath near the Seattle art museum and walking distance to restaurants\", \"variable\": \"rater_3_text_ndcg\", \"value\": 1.0}, {\"query\": \"I need a 2 bed 1 bedroom 1 bath condo with walking distance to Pike Place Market and great restaurants\", \"variable\": \"rater_3_text_ndcg\", \"value\": 1.0}, {\"query\": \"3 bedroom 2 bath house with 4 beds near Seattle Museum of Popular Culture \", \"variable\": \"rater_3_text_ndcg\", \"value\": 0.8595307043998371}, {\"query\": \"Looking for a cozy 1 bedroom 1 bath condo near the famous Smith Tower in Pioneer Square. Must be clean.\", \"variable\": \"rater_3_text_ndcg\", \"value\": 1.0}, {\"query\": \"Looking for a 4 bedroom 3 bath house walking distance to Washington Park Arboretum \", \"variable\": \"rater_3_text_ndcg\", \"value\": 0.9270437359015452}, {\"query\": \"I want a private room close to uw campus with parking and coffee shop.\", \"variable\": \"rater_1_combined_ndcg\", \"value\": 0.943582708859125}, {\"query\": \"condo near Space Needle\", \"variable\": \"rater_1_combined_ndcg\", \"value\": 0.826819352535486}, {\"query\": \"house near famous Pike Place Starbucks\", \"variable\": \"rater_1_combined_ndcg\", \"value\": 0.9965568927454495}, {\"query\": \"Nice clean quiet apartment with three beds around downtown\", \"variable\": \"rater_1_combined_ndcg\", \"value\": 1.0}, {\"query\": \"Coffeeholic house\", \"variable\": \"rater_1_combined_ndcg\", \"value\": 0.977319969425995}, {\"query\": \"Clean, quiet 2 bed near famous vietnamese coffee shops\", \"variable\": \"rater_1_combined_ndcg\", \"value\": 0.9076127735560476}, {\"query\": \"Big house near lake washington\", \"variable\": \"rater_1_combined_ndcg\", \"value\": 0.9953205914544665}, {\"query\": \"house with view of mount rainier seattle, quiet, clean!\", \"variable\": \"rater_1_combined_ndcg\", \"value\": 1.0}, {\"query\": \"I want to be near uw but close to local music scene too\", \"variable\": \"rater_1_combined_ndcg\", \"value\": 0.9372457172128151}, {\"query\": \"clean place near seattle harbor cruise\", \"variable\": \"rater_1_combined_ndcg\", \"value\": 0.9726816937363161}, {\"query\": \"I want a 2 bedroom 2 bath near the Seattle art museum and walking distance to restaurants\", \"variable\": \"rater_1_combined_ndcg\", \"value\": 1.0}, {\"query\": \"I need a 2 bed 1 bedroom 1 bath condo with walking distance to Pike Place Market and great restaurants\", \"variable\": \"rater_1_combined_ndcg\", \"value\": 1.0}, {\"query\": \"3 bedroom 2 bath house with 4 beds near Seattle Museum of Popular Culture \", \"variable\": \"rater_1_combined_ndcg\", \"value\": 0.9844769839284487}, {\"query\": \"Looking for a cozy 1 bedroom 1 bath condo near the famous Smith Tower in Pioneer Square. Must be clean.\", \"variable\": \"rater_1_combined_ndcg\", \"value\": 1.0}, {\"query\": \"Looking for a 4 bedroom 3 bath house walking distance to Washington Park Arboretum \", \"variable\": \"rater_1_combined_ndcg\", \"value\": 0.9444662507926956}, {\"query\": \"I want a private room close to uw campus with parking and coffee shop.\", \"variable\": \"rater_2_combined_ndcg\", \"value\": 0.9407200592374166}, {\"query\": \"condo near Space Needle\", \"variable\": \"rater_2_combined_ndcg\", \"value\": 1.0}, {\"query\": \"house near famous Pike Place Starbucks\", \"variable\": \"rater_2_combined_ndcg\", \"value\": 1.0}, {\"query\": \"Nice clean quiet apartment with three beds around downtown\", \"variable\": \"rater_2_combined_ndcg\", \"value\": 1.0}, {\"query\": \"Coffeeholic house\", \"variable\": \"rater_2_combined_ndcg\", \"value\": 0.9787548397292644}, {\"query\": \"Clean, quiet 2 bed near famous vietnamese coffee shops\", \"variable\": \"rater_2_combined_ndcg\", \"value\": 0.9740009843747367}, {\"query\": \"Big house near lake washington\", \"variable\": \"rater_2_combined_ndcg\", \"value\": 1.0}, {\"query\": \"house with view of mount rainier seattle, quiet, clean!\", \"variable\": \"rater_2_combined_ndcg\", \"value\": 0.8479161893087793}, {\"query\": \"I want to be near uw but close to local music scene too\", \"variable\": \"rater_2_combined_ndcg\", \"value\": 1.0}, {\"query\": \"clean place near seattle harbor cruise\", \"variable\": \"rater_2_combined_ndcg\", \"value\": 1.0}, {\"query\": \"I want a 2 bedroom 2 bath near the Seattle art museum and walking distance to restaurants\", \"variable\": \"rater_2_combined_ndcg\", \"value\": 1.0}, {\"query\": \"I need a 2 bed 1 bedroom 1 bath condo with walking distance to Pike Place Market and great restaurants\", \"variable\": \"rater_2_combined_ndcg\", \"value\": 1.0}, {\"query\": \"3 bedroom 2 bath house with 4 beds near Seattle Museum of Popular Culture \", \"variable\": \"rater_2_combined_ndcg\", \"value\": 0.9938881529960871}, {\"query\": \"Looking for a cozy 1 bedroom 1 bath condo near the famous Smith Tower in Pioneer Square. Must be clean.\", \"variable\": \"rater_2_combined_ndcg\", \"value\": 1.0}, {\"query\": \"Looking for a 4 bedroom 3 bath house walking distance to Washington Park Arboretum \", \"variable\": \"rater_2_combined_ndcg\", \"value\": 0.9827933955340532}, {\"query\": \"I want a private room close to uw campus with parking and coffee shop.\", \"variable\": \"rater_3_combined_ndcg\", \"value\": 0.8966408091044562}, {\"query\": \"condo near Space Needle\", \"variable\": \"rater_3_combined_ndcg\", \"value\": 1.0}, {\"query\": \"house near famous Pike Place Starbucks\", \"variable\": \"rater_3_combined_ndcg\", \"value\": 0.9852842450037125}, {\"query\": \"Nice clean quiet apartment with three beds around downtown\", \"variable\": \"rater_3_combined_ndcg\", \"value\": 0.7155695199358449}, {\"query\": \"Coffeeholic house\", \"variable\": \"rater_3_combined_ndcg\", \"value\": 0.8543880952490198}, {\"query\": \"Clean, quiet 2 bed near famous vietnamese coffee shops\", \"variable\": \"rater_3_combined_ndcg\", \"value\": 0.9957053448022521}, {\"query\": \"Big house near lake washington\", \"variable\": \"rater_3_combined_ndcg\", \"value\": 0.9688387416528931}, {\"query\": \"house with view of mount rainier seattle, quiet, clean!\", \"variable\": \"rater_3_combined_ndcg\", \"value\": 0.9501535962738357}, {\"query\": \"I want to be near uw but close to local music scene too\", \"variable\": \"rater_3_combined_ndcg\", \"value\": 0.8603313616273625}, {\"query\": \"clean place near seattle harbor cruise\", \"variable\": \"rater_3_combined_ndcg\", \"value\": 1.0}, {\"query\": \"I want a 2 bedroom 2 bath near the Seattle art museum and walking distance to restaurants\", \"variable\": \"rater_3_combined_ndcg\", \"value\": 1.0}, {\"query\": \"I need a 2 bed 1 bedroom 1 bath condo with walking distance to Pike Place Market and great restaurants\", \"variable\": \"rater_3_combined_ndcg\", \"value\": 1.0}, {\"query\": \"3 bedroom 2 bath house with 4 beds near Seattle Museum of Popular Culture \", \"variable\": \"rater_3_combined_ndcg\", \"value\": 0.9688387416528931}, {\"query\": \"Looking for a cozy 1 bedroom 1 bath condo near the famous Smith Tower in Pioneer Square. Must be clean.\", \"variable\": \"rater_3_combined_ndcg\", \"value\": 1.0}, {\"query\": \"Looking for a 4 bedroom 3 bath house walking distance to Washington Park Arboretum \", \"variable\": \"rater_3_combined_ndcg\", \"value\": 0.8124734785522468}]}}, {\"mode\": \"vega-lite\"});\n",
       "</script>"
      ],
      "text/plain": [
       "alt.Chart(...)"
      ]
     },
     "execution_count": 20,
     "metadata": {},
     "output_type": "execute_result"
    }
   ],
   "source": [
    "alt.Chart(df3, width=500, \n",
    "          title='Text Only and Combined Search Performance by Query by Rater').mark_line(\n",
    "              \n",
    "          ).encode(\n",
    "            x=alt.X('query:N',title='Search Query Term',axis=alt.Axis(\n",
    "                labelAngle=-45), sort=None),\n",
    "            y=alt.Y('value:Q',title='Normalized Discounted Cumulative Gain',\n",
    "                    scale=alt.Scale(domain=[0.0, 1.1])),\n",
    "            color=alt.Color('variable:N', \n",
    "                            scale=alt.Scale(scheme= 'dark2'),\n",
    "                            title='Rater, Search Engine Type')\n",
    "            ).interactive()\n"
   ]
  },
  {
   "cell_type": "markdown",
   "metadata": {
    "cell_id": "9b2ccf55a9fe437f9105b141f7fed319",
    "deepnote_cell_type": "markdown",
    "id": "Wlw0JirWMEc1"
   },
   "source": [
    "Now let's see how the different types of search engine performance by query. We take the mean NDCG for each type."
   ]
  },
  {
   "cell_type": "code",
   "execution_count": 21,
   "metadata": {
    "cell_id": "9fc1de9febdc4b85bb56103b91bfa61a",
    "colab": {
     "base_uri": "https://localhost:8080/",
     "height": 204
    },
    "deepnote_cell_type": "code",
    "deepnote_to_be_reexecuted": false,
    "execution_millis": 77,
    "execution_start": 1681851950923,
    "id": "1Zt4KCLnXs2R",
    "outputId": "74d524f8-f5a9-4c0b-ad5b-770f9b149da8",
    "source_hash": "a5dc75d3"
   },
   "outputs": [
    {
     "data": {
      "application/vnd.deepnote.dataframe.v3+json": {
       "column_count": 3,
       "columns": [
        {
         "dtype": "object",
         "name": "query",
         "stats": {
          "categories": [
           {
            "count": 1,
            "name": "I want a private room close to uw campus with parking and coffee shop."
           },
           {
            "count": 1,
            "name": "condo near Space Needle"
           },
           {
            "count": 3,
            "name": "3 others"
           }
          ],
          "nan_count": 0,
          "unique_count": 5
         }
        },
        {
         "dtype": "float64",
         "name": "mean_ndcg_text_only",
         "stats": {
          "histogram": [
           {
            "bin_end": 0.7856787229507033,
            "bin_start": 0.7625377981767384,
            "count": 1
           },
           {
            "bin_end": 0.8088196477246682,
            "bin_start": 0.7856787229507033,
            "count": 0
           },
           {
            "bin_end": 0.8319605724986331,
            "bin_start": 0.8088196477246682,
            "count": 0
           },
           {
            "bin_end": 0.855101497272598,
            "bin_start": 0.8319605724986331,
            "count": 0
           },
           {
            "bin_end": 0.8782424220465629,
            "bin_start": 0.855101497272598,
            "count": 0
           },
           {
            "bin_end": 0.9013833468205278,
            "bin_start": 0.8782424220465629,
            "count": 0
           },
           {
            "bin_end": 0.9245242715944927,
            "bin_start": 0.9013833468205278,
            "count": 0
           },
           {
            "bin_end": 0.9476651963684576,
            "bin_start": 0.9245242715944927,
            "count": 3
           },
           {
            "bin_end": 0.9708061211424225,
            "bin_start": 0.9476651963684576,
            "count": 0
           },
           {
            "bin_end": 0.9939470459163874,
            "bin_start": 0.9708061211424225,
            "count": 1
           }
          ],
          "max": "0.9939470459163874",
          "min": "0.7625377981767384",
          "nan_count": 0,
          "unique_count": 5
         }
        },
        {
         "dtype": "float64",
         "name": "mean_ndcg_combined",
         "stats": {
          "histogram": [
           {
            "bin_end": 0.9140655605723923,
            "bin_start": 0.905189839978615,
            "count": 1
           },
           {
            "bin_end": 0.9229412811661695,
            "bin_start": 0.9140655605723923,
            "count": 0
           },
           {
            "bin_end": 0.9318170017599468,
            "bin_start": 0.9229412811661695,
            "count": 1
           },
           {
            "bin_end": 0.9406927223537239,
            "bin_start": 0.9318170017599468,
            "count": 1
           },
           {
            "bin_end": 0.9495684429475012,
            "bin_start": 0.9406927223537239,
            "count": 1
           },
           {
            "bin_end": 0.9584441635412785,
            "bin_start": 0.9495684429475012,
            "count": 0
           },
           {
            "bin_end": 0.9673198841350557,
            "bin_start": 0.9584441635412785,
            "count": 0
           },
           {
            "bin_end": 0.9761956047288329,
            "bin_start": 0.9673198841350557,
            "count": 0
           },
           {
            "bin_end": 0.9850713253226101,
            "bin_start": 0.9761956047288329,
            "count": 0
           },
           {
            "bin_end": 0.9939470459163874,
            "bin_start": 0.9850713253226101,
            "count": 1
           }
          ],
          "max": "0.9939470459163874",
          "min": "0.905189839978615",
          "nan_count": 0,
          "unique_count": 5
         }
        },
        {
         "dtype": "int64",
         "name": "_deepnote_index_column"
        }
       ],
       "row_count": 5,
       "rows": [
        {
         "_deepnote_index_column": "0",
         "mean_ndcg_combined": "0.9269811924003326",
         "mean_ndcg_text_only": "0.9269811924003326",
         "query": "I want a private room close to uw campus with parking and coffee shop."
        },
        {
         "_deepnote_index_column": "1",
         "mean_ndcg_combined": "0.9422731175118287",
         "mean_ndcg_text_only": "0.9422731175118287",
         "query": "condo near Space Needle"
        },
        {
         "_deepnote_index_column": "2",
         "mean_ndcg_combined": "0.9939470459163874",
         "mean_ndcg_text_only": "0.9939470459163874",
         "query": "house near famous Pike Place Starbucks"
        },
        {
         "_deepnote_index_column": "3",
         "mean_ndcg_combined": "0.905189839978615",
         "mean_ndcg_text_only": "0.7625377981767384",
         "query": "Nice clean quiet apartment with three beds around downtown"
        },
        {
         "_deepnote_index_column": "4",
         "mean_ndcg_combined": "0.9368209681347598",
         "mean_ndcg_text_only": "0.9368209681347598",
         "query": "Coffeeholic house"
        }
       ]
      },
      "text/html": [
       "<div>\n",
       "<style scoped>\n",
       "    .dataframe tbody tr th:only-of-type {\n",
       "        vertical-align: middle;\n",
       "    }\n",
       "\n",
       "    .dataframe tbody tr th {\n",
       "        vertical-align: top;\n",
       "    }\n",
       "\n",
       "    .dataframe thead th {\n",
       "        text-align: right;\n",
       "    }\n",
       "</style>\n",
       "<table border=\"1\" class=\"dataframe\">\n",
       "  <thead>\n",
       "    <tr style=\"text-align: right;\">\n",
       "      <th></th>\n",
       "      <th>query</th>\n",
       "      <th>mean_ndcg_text_only</th>\n",
       "      <th>mean_ndcg_combined</th>\n",
       "    </tr>\n",
       "  </thead>\n",
       "  <tbody>\n",
       "    <tr>\n",
       "      <th>0</th>\n",
       "      <td>I want a private room close to uw campus with ...</td>\n",
       "      <td>0.926981</td>\n",
       "      <td>0.926981</td>\n",
       "    </tr>\n",
       "    <tr>\n",
       "      <th>1</th>\n",
       "      <td>condo near Space Needle</td>\n",
       "      <td>0.942273</td>\n",
       "      <td>0.942273</td>\n",
       "    </tr>\n",
       "    <tr>\n",
       "      <th>2</th>\n",
       "      <td>house near famous Pike Place Starbucks</td>\n",
       "      <td>0.993947</td>\n",
       "      <td>0.993947</td>\n",
       "    </tr>\n",
       "    <tr>\n",
       "      <th>3</th>\n",
       "      <td>Nice clean quiet apartment with three beds aro...</td>\n",
       "      <td>0.762538</td>\n",
       "      <td>0.905190</td>\n",
       "    </tr>\n",
       "    <tr>\n",
       "      <th>4</th>\n",
       "      <td>Coffeeholic house</td>\n",
       "      <td>0.936821</td>\n",
       "      <td>0.936821</td>\n",
       "    </tr>\n",
       "  </tbody>\n",
       "</table>\n",
       "</div>"
      ],
      "text/plain": [
       "                                               query  mean_ndcg_text_only   \n",
       "0  I want a private room close to uw campus with ...             0.926981  \\\n",
       "1                            condo near Space Needle             0.942273   \n",
       "2             house near famous Pike Place Starbucks             0.993947   \n",
       "3  Nice clean quiet apartment with three beds aro...             0.762538   \n",
       "4                                  Coffeeholic house             0.936821   \n",
       "\n",
       "   mean_ndcg_combined  \n",
       "0            0.926981  \n",
       "1            0.942273  \n",
       "2            0.993947  \n",
       "3            0.905190  \n",
       "4            0.936821  "
      ]
     },
     "execution_count": 21,
     "metadata": {},
     "output_type": "execute_result"
    }
   ],
   "source": [
    "data = {'query': df_ndcg['query'].values,\n",
    "         'mean_ndcg_text_only': df_ndcg[['rater_1_text_ndcg', 'rater_2_text_ndcg', \n",
    "                                    'rater_3_text_ndcg']].mean(axis=1),\n",
    "         'mean_ndcg_combined': df_ndcg[['rater_1_combined_ndcg', \n",
    "                                        'rater_2_combined_ndcg',\n",
    "                                        'rater_3_combined_ndcg']].mean(axis=1)\n",
    "         }\n",
    "df_ndcg_by_type = pd.DataFrame(data)\n",
    "df_ndcg_by_type[:5]"
   ]
  },
  {
   "cell_type": "code",
   "execution_count": 22,
   "metadata": {
    "cell_id": "f261e4e6bf6d4504abf0e4e0143cd384",
    "colab": {
     "base_uri": "https://localhost:8080/",
     "height": 979
    },
    "deepnote_cell_type": "code",
    "deepnote_to_be_reexecuted": false,
    "execution_millis": 392,
    "execution_start": 1681851950940,
    "id": "wBqAv3GwZcKV",
    "outputId": "975ee00c-e687-4e21-90d8-30965b5bdd4d",
    "source_hash": "8e031165"
   },
   "outputs": [
    {
     "data": {
      "application/vnd.deepnote.dataframe.v3+json": {
       "column_count": 3,
       "columns": [
        {
         "dtype": "object",
         "name": "query",
         "stats": {
          "categories": [
           {
            "count": 2,
            "name": "I want a private room close to uw campus with parking and coffee shop."
           },
           {
            "count": 2,
            "name": "condo near Space Needle"
           },
           {
            "count": 26,
            "name": "13 others"
           }
          ],
          "nan_count": 0,
          "unique_count": 15
         }
        },
        {
         "dtype": "object",
         "name": "variable",
         "stats": {
          "categories": [
           {
            "count": 15,
            "name": "mean_ndcg_text_only"
           },
           {
            "count": 15,
            "name": "mean_ndcg_combined"
           }
          ],
          "nan_count": 0,
          "unique_count": 2
         }
        },
        {
         "dtype": "float64",
         "name": "value",
         "stats": {
          "histogram": [
           {
            "bin_end": 0.7862840183590646,
            "bin_start": 0.7625377981767384,
            "count": 2
           },
           {
            "bin_end": 0.8100302385413907,
            "bin_start": 0.7862840183590646,
            "count": 0
           },
           {
            "bin_end": 0.8337764587237169,
            "bin_start": 0.8100302385413907,
            "count": 0
           },
           {
            "bin_end": 0.8575226789060431,
            "bin_start": 0.8337764587237169,
            "count": 1
           },
           {
            "bin_end": 0.8812688990883693,
            "bin_start": 0.8575226789060431,
            "count": 0
           },
           {
            "bin_end": 0.9050151192706953,
            "bin_start": 0.8812688990883693,
            "count": 0
           },
           {
            "bin_end": 0.9287613394530215,
            "bin_start": 0.9050151192706953,
            "count": 4
           },
           {
            "bin_end": 0.9525075596353476,
            "bin_start": 0.9287613394530215,
            "count": 8
           },
           {
            "bin_end": 0.9762537798176738,
            "bin_start": 0.9525075596353476,
            "count": 4
           },
           {
            "bin_end": 1,
            "bin_start": 0.9762537798176738,
            "count": 11
           }
          ],
          "max": "1.0",
          "min": "0.7625377981767384",
          "nan_count": 0,
          "unique_count": 20
         }
        },
        {
         "dtype": "int64",
         "name": "_deepnote_index_column"
        }
       ],
       "row_count": 30,
       "rows": [
        {
         "_deepnote_index_column": "0",
         "query": "I want a private room close to uw campus with parking and coffee shop.",
         "value": "0.9269811924003326",
         "variable": "mean_ndcg_text_only"
        },
        {
         "_deepnote_index_column": "1",
         "query": "condo near Space Needle",
         "value": "0.9422731175118287",
         "variable": "mean_ndcg_text_only"
        },
        {
         "_deepnote_index_column": "2",
         "query": "house near famous Pike Place Starbucks",
         "value": "0.9939470459163874",
         "variable": "mean_ndcg_text_only"
        },
        {
         "_deepnote_index_column": "3",
         "query": "Nice clean quiet apartment with three beds around downtown",
         "value": "0.7625377981767384",
         "variable": "mean_ndcg_text_only"
        },
        {
         "_deepnote_index_column": "4",
         "query": "Coffeeholic house",
         "value": "0.9368209681347598",
         "variable": "mean_ndcg_text_only"
        },
        {
         "_deepnote_index_column": "5",
         "query": "Clean, quiet 2 bed near famous vietnamese coffee shops",
         "value": "0.9534437872091207",
         "variable": "mean_ndcg_text_only"
        },
        {
         "_deepnote_index_column": "6",
         "query": "Big house near lake washington",
         "value": "0.9880531110357865",
         "variable": "mean_ndcg_text_only"
        },
        {
         "_deepnote_index_column": "7",
         "query": "house with view of mount rainier seattle, quiet, clean!",
         "value": "0.9326899285275383",
         "variable": "mean_ndcg_text_only"
        },
        {
         "_deepnote_index_column": "8",
         "query": "I want to be near uw but close to local music scene too",
         "value": "0.9325256929467258",
         "variable": "mean_ndcg_text_only"
        },
        {
         "_deepnote_index_column": "9",
         "query": "clean place near seattle harbor cruise",
         "value": "0.9908938979121054",
         "variable": "mean_ndcg_text_only"
        }
       ]
      },
      "text/html": [
       "<div>\n",
       "<style scoped>\n",
       "    .dataframe tbody tr th:only-of-type {\n",
       "        vertical-align: middle;\n",
       "    }\n",
       "\n",
       "    .dataframe tbody tr th {\n",
       "        vertical-align: top;\n",
       "    }\n",
       "\n",
       "    .dataframe thead th {\n",
       "        text-align: right;\n",
       "    }\n",
       "</style>\n",
       "<table border=\"1\" class=\"dataframe\">\n",
       "  <thead>\n",
       "    <tr style=\"text-align: right;\">\n",
       "      <th></th>\n",
       "      <th>query</th>\n",
       "      <th>variable</th>\n",
       "      <th>value</th>\n",
       "    </tr>\n",
       "  </thead>\n",
       "  <tbody>\n",
       "    <tr>\n",
       "      <th>0</th>\n",
       "      <td>I want a private room close to uw campus with ...</td>\n",
       "      <td>mean_ndcg_text_only</td>\n",
       "      <td>0.926981</td>\n",
       "    </tr>\n",
       "    <tr>\n",
       "      <th>1</th>\n",
       "      <td>condo near Space Needle</td>\n",
       "      <td>mean_ndcg_text_only</td>\n",
       "      <td>0.942273</td>\n",
       "    </tr>\n",
       "    <tr>\n",
       "      <th>2</th>\n",
       "      <td>house near famous Pike Place Starbucks</td>\n",
       "      <td>mean_ndcg_text_only</td>\n",
       "      <td>0.993947</td>\n",
       "    </tr>\n",
       "    <tr>\n",
       "      <th>3</th>\n",
       "      <td>Nice clean quiet apartment with three beds aro...</td>\n",
       "      <td>mean_ndcg_text_only</td>\n",
       "      <td>0.762538</td>\n",
       "    </tr>\n",
       "    <tr>\n",
       "      <th>4</th>\n",
       "      <td>Coffeeholic house</td>\n",
       "      <td>mean_ndcg_text_only</td>\n",
       "      <td>0.936821</td>\n",
       "    </tr>\n",
       "    <tr>\n",
       "      <th>5</th>\n",
       "      <td>Clean, quiet 2 bed near famous vietnamese coff...</td>\n",
       "      <td>mean_ndcg_text_only</td>\n",
       "      <td>0.953444</td>\n",
       "    </tr>\n",
       "    <tr>\n",
       "      <th>6</th>\n",
       "      <td>Big house near lake washington</td>\n",
       "      <td>mean_ndcg_text_only</td>\n",
       "      <td>0.988053</td>\n",
       "    </tr>\n",
       "    <tr>\n",
       "      <th>7</th>\n",
       "      <td>house with view of mount rainier seattle, quie...</td>\n",
       "      <td>mean_ndcg_text_only</td>\n",
       "      <td>0.932690</td>\n",
       "    </tr>\n",
       "    <tr>\n",
       "      <th>8</th>\n",
       "      <td>I want to be near uw but close to local music ...</td>\n",
       "      <td>mean_ndcg_text_only</td>\n",
       "      <td>0.932526</td>\n",
       "    </tr>\n",
       "    <tr>\n",
       "      <th>9</th>\n",
       "      <td>clean place near seattle harbor cruise</td>\n",
       "      <td>mean_ndcg_text_only</td>\n",
       "      <td>0.990894</td>\n",
       "    </tr>\n",
       "    <tr>\n",
       "      <th>10</th>\n",
       "      <td>I want a 2 bedroom 2 bath near the Seattle art...</td>\n",
       "      <td>mean_ndcg_text_only</td>\n",
       "      <td>0.953512</td>\n",
       "    </tr>\n",
       "    <tr>\n",
       "      <th>11</th>\n",
       "      <td>I need a 2 bed 1 bedroom 1 bath condo with wal...</td>\n",
       "      <td>mean_ndcg_text_only</td>\n",
       "      <td>0.961011</td>\n",
       "    </tr>\n",
       "    <tr>\n",
       "      <th>12</th>\n",
       "      <td>3 bedroom 2 bath house with 4 beds near Seattl...</td>\n",
       "      <td>mean_ndcg_text_only</td>\n",
       "      <td>0.778787</td>\n",
       "    </tr>\n",
       "    <tr>\n",
       "      <th>13</th>\n",
       "      <td>Looking for a cozy 1 bedroom 1 bath condo near...</td>\n",
       "      <td>mean_ndcg_text_only</td>\n",
       "      <td>0.992313</td>\n",
       "    </tr>\n",
       "    <tr>\n",
       "      <th>14</th>\n",
       "      <td>Looking for a 4 bedroom 3 bath house walking d...</td>\n",
       "      <td>mean_ndcg_text_only</td>\n",
       "      <td>0.840384</td>\n",
       "    </tr>\n",
       "    <tr>\n",
       "      <th>15</th>\n",
       "      <td>I want a private room close to uw campus with ...</td>\n",
       "      <td>mean_ndcg_combined</td>\n",
       "      <td>0.926981</td>\n",
       "    </tr>\n",
       "    <tr>\n",
       "      <th>16</th>\n",
       "      <td>condo near Space Needle</td>\n",
       "      <td>mean_ndcg_combined</td>\n",
       "      <td>0.942273</td>\n",
       "    </tr>\n",
       "    <tr>\n",
       "      <th>17</th>\n",
       "      <td>house near famous Pike Place Starbucks</td>\n",
       "      <td>mean_ndcg_combined</td>\n",
       "      <td>0.993947</td>\n",
       "    </tr>\n",
       "    <tr>\n",
       "      <th>18</th>\n",
       "      <td>Nice clean quiet apartment with three beds aro...</td>\n",
       "      <td>mean_ndcg_combined</td>\n",
       "      <td>0.905190</td>\n",
       "    </tr>\n",
       "    <tr>\n",
       "      <th>19</th>\n",
       "      <td>Coffeeholic house</td>\n",
       "      <td>mean_ndcg_combined</td>\n",
       "      <td>0.936821</td>\n",
       "    </tr>\n",
       "    <tr>\n",
       "      <th>20</th>\n",
       "      <td>Clean, quiet 2 bed near famous vietnamese coff...</td>\n",
       "      <td>mean_ndcg_combined</td>\n",
       "      <td>0.959106</td>\n",
       "    </tr>\n",
       "    <tr>\n",
       "      <th>21</th>\n",
       "      <td>Big house near lake washington</td>\n",
       "      <td>mean_ndcg_combined</td>\n",
       "      <td>0.988053</td>\n",
       "    </tr>\n",
       "    <tr>\n",
       "      <th>22</th>\n",
       "      <td>house with view of mount rainier seattle, quie...</td>\n",
       "      <td>mean_ndcg_combined</td>\n",
       "      <td>0.932690</td>\n",
       "    </tr>\n",
       "    <tr>\n",
       "      <th>23</th>\n",
       "      <td>I want to be near uw but close to local music ...</td>\n",
       "      <td>mean_ndcg_combined</td>\n",
       "      <td>0.932526</td>\n",
       "    </tr>\n",
       "    <tr>\n",
       "      <th>24</th>\n",
       "      <td>clean place near seattle harbor cruise</td>\n",
       "      <td>mean_ndcg_combined</td>\n",
       "      <td>0.990894</td>\n",
       "    </tr>\n",
       "    <tr>\n",
       "      <th>25</th>\n",
       "      <td>I want a 2 bedroom 2 bath near the Seattle art...</td>\n",
       "      <td>mean_ndcg_combined</td>\n",
       "      <td>1.000000</td>\n",
       "    </tr>\n",
       "    <tr>\n",
       "      <th>26</th>\n",
       "      <td>I need a 2 bed 1 bedroom 1 bath condo with wal...</td>\n",
       "      <td>mean_ndcg_combined</td>\n",
       "      <td>1.000000</td>\n",
       "    </tr>\n",
       "    <tr>\n",
       "      <th>27</th>\n",
       "      <td>3 bedroom 2 bath house with 4 beds near Seattl...</td>\n",
       "      <td>mean_ndcg_combined</td>\n",
       "      <td>0.982401</td>\n",
       "    </tr>\n",
       "    <tr>\n",
       "      <th>28</th>\n",
       "      <td>Looking for a cozy 1 bedroom 1 bath condo near...</td>\n",
       "      <td>mean_ndcg_combined</td>\n",
       "      <td>1.000000</td>\n",
       "    </tr>\n",
       "    <tr>\n",
       "      <th>29</th>\n",
       "      <td>Looking for a 4 bedroom 3 bath house walking d...</td>\n",
       "      <td>mean_ndcg_combined</td>\n",
       "      <td>0.913244</td>\n",
       "    </tr>\n",
       "  </tbody>\n",
       "</table>\n",
       "</div>"
      ],
      "text/plain": [
       "                                                query             variable   \n",
       "0   I want a private room close to uw campus with ...  mean_ndcg_text_only  \\\n",
       "1                             condo near Space Needle  mean_ndcg_text_only   \n",
       "2              house near famous Pike Place Starbucks  mean_ndcg_text_only   \n",
       "3   Nice clean quiet apartment with three beds aro...  mean_ndcg_text_only   \n",
       "4                                   Coffeeholic house  mean_ndcg_text_only   \n",
       "5   Clean, quiet 2 bed near famous vietnamese coff...  mean_ndcg_text_only   \n",
       "6                      Big house near lake washington  mean_ndcg_text_only   \n",
       "7   house with view of mount rainier seattle, quie...  mean_ndcg_text_only   \n",
       "8   I want to be near uw but close to local music ...  mean_ndcg_text_only   \n",
       "9              clean place near seattle harbor cruise  mean_ndcg_text_only   \n",
       "10  I want a 2 bedroom 2 bath near the Seattle art...  mean_ndcg_text_only   \n",
       "11  I need a 2 bed 1 bedroom 1 bath condo with wal...  mean_ndcg_text_only   \n",
       "12  3 bedroom 2 bath house with 4 beds near Seattl...  mean_ndcg_text_only   \n",
       "13  Looking for a cozy 1 bedroom 1 bath condo near...  mean_ndcg_text_only   \n",
       "14  Looking for a 4 bedroom 3 bath house walking d...  mean_ndcg_text_only   \n",
       "15  I want a private room close to uw campus with ...   mean_ndcg_combined   \n",
       "16                            condo near Space Needle   mean_ndcg_combined   \n",
       "17             house near famous Pike Place Starbucks   mean_ndcg_combined   \n",
       "18  Nice clean quiet apartment with three beds aro...   mean_ndcg_combined   \n",
       "19                                  Coffeeholic house   mean_ndcg_combined   \n",
       "20  Clean, quiet 2 bed near famous vietnamese coff...   mean_ndcg_combined   \n",
       "21                     Big house near lake washington   mean_ndcg_combined   \n",
       "22  house with view of mount rainier seattle, quie...   mean_ndcg_combined   \n",
       "23  I want to be near uw but close to local music ...   mean_ndcg_combined   \n",
       "24             clean place near seattle harbor cruise   mean_ndcg_combined   \n",
       "25  I want a 2 bedroom 2 bath near the Seattle art...   mean_ndcg_combined   \n",
       "26  I need a 2 bed 1 bedroom 1 bath condo with wal...   mean_ndcg_combined   \n",
       "27  3 bedroom 2 bath house with 4 beds near Seattl...   mean_ndcg_combined   \n",
       "28  Looking for a cozy 1 bedroom 1 bath condo near...   mean_ndcg_combined   \n",
       "29  Looking for a 4 bedroom 3 bath house walking d...   mean_ndcg_combined   \n",
       "\n",
       "       value  \n",
       "0   0.926981  \n",
       "1   0.942273  \n",
       "2   0.993947  \n",
       "3   0.762538  \n",
       "4   0.936821  \n",
       "5   0.953444  \n",
       "6   0.988053  \n",
       "7   0.932690  \n",
       "8   0.932526  \n",
       "9   0.990894  \n",
       "10  0.953512  \n",
       "11  0.961011  \n",
       "12  0.778787  \n",
       "13  0.992313  \n",
       "14  0.840384  \n",
       "15  0.926981  \n",
       "16  0.942273  \n",
       "17  0.993947  \n",
       "18  0.905190  \n",
       "19  0.936821  \n",
       "20  0.959106  \n",
       "21  0.988053  \n",
       "22  0.932690  \n",
       "23  0.932526  \n",
       "24  0.990894  \n",
       "25  1.000000  \n",
       "26  1.000000  \n",
       "27  0.982401  \n",
       "28  1.000000  \n",
       "29  0.913244  "
      ]
     },
     "execution_count": 22,
     "metadata": {},
     "output_type": "execute_result"
    }
   ],
   "source": [
    "df4 = pd.melt(df_ndcg_by_type, id_vars=['query'], \n",
    "              value_vars=['mean_ndcg_text_only', 'mean_ndcg_combined'])\n",
    "df4"
   ]
  },
  {
   "cell_type": "code",
   "execution_count": 23,
   "metadata": {
    "cell_id": "b17c40a433c9441d87203baf3542e724",
    "colab": {
     "base_uri": "https://localhost:8080/",
     "height": 510
    },
    "deepnote_cell_type": "code",
    "deepnote_to_be_reexecuted": false,
    "execution_millis": 376,
    "execution_start": 1681851950957,
    "id": "7VHLH6U6Yj2X",
    "outputId": "8214f511-a06b-4db6-f03e-7d808a66760a",
    "source_hash": "9a35d863"
   },
   "outputs": [
    {
     "data": {
      "text/html": [
       "\n",
       "<div id=\"altair-viz-29320a6d6e6d4741abfc470c42893c23\"></div>\n",
       "<script type=\"text/javascript\">\n",
       "  var VEGA_DEBUG = (typeof VEGA_DEBUG == \"undefined\") ? {} : VEGA_DEBUG;\n",
       "  (function(spec, embedOpt){\n",
       "    let outputDiv = document.currentScript.previousElementSibling;\n",
       "    if (outputDiv.id !== \"altair-viz-29320a6d6e6d4741abfc470c42893c23\") {\n",
       "      outputDiv = document.getElementById(\"altair-viz-29320a6d6e6d4741abfc470c42893c23\");\n",
       "    }\n",
       "    const paths = {\n",
       "      \"vega\": \"https://cdn.jsdelivr.net/npm//vega@5?noext\",\n",
       "      \"vega-lib\": \"https://cdn.jsdelivr.net/npm//vega-lib?noext\",\n",
       "      \"vega-lite\": \"https://cdn.jsdelivr.net/npm//vega-lite@4.17.0?noext\",\n",
       "      \"vega-embed\": \"https://cdn.jsdelivr.net/npm//vega-embed@6?noext\",\n",
       "    };\n",
       "\n",
       "    function maybeLoadScript(lib, version) {\n",
       "      var key = `${lib.replace(\"-\", \"\")}_version`;\n",
       "      return (VEGA_DEBUG[key] == version) ?\n",
       "        Promise.resolve(paths[lib]) :\n",
       "        new Promise(function(resolve, reject) {\n",
       "          var s = document.createElement('script');\n",
       "          document.getElementsByTagName(\"head\")[0].appendChild(s);\n",
       "          s.async = true;\n",
       "          s.onload = () => {\n",
       "            VEGA_DEBUG[key] = version;\n",
       "            return resolve(paths[lib]);\n",
       "          };\n",
       "          s.onerror = () => reject(`Error loading script: ${paths[lib]}`);\n",
       "          s.src = paths[lib];\n",
       "        });\n",
       "    }\n",
       "\n",
       "    function showError(err) {\n",
       "      outputDiv.innerHTML = `<div class=\"error\" style=\"color:red;\">${err}</div>`;\n",
       "      throw err;\n",
       "    }\n",
       "\n",
       "    function displayChart(vegaEmbed) {\n",
       "      vegaEmbed(outputDiv, spec, embedOpt)\n",
       "        .catch(err => showError(`Javascript Error: ${err.message}<br>This usually means there's a typo in your chart specification. See the javascript console for the full traceback.`));\n",
       "    }\n",
       "\n",
       "    if(typeof define === \"function\" && define.amd) {\n",
       "      requirejs.config({paths});\n",
       "      require([\"vega-embed\"], displayChart, err => showError(`Error loading script: ${err.message}`));\n",
       "    } else {\n",
       "      maybeLoadScript(\"vega\", \"5\")\n",
       "        .then(() => maybeLoadScript(\"vega-lite\", \"4.17.0\"))\n",
       "        .then(() => maybeLoadScript(\"vega-embed\", \"6\"))\n",
       "        .catch(showError)\n",
       "        .then(() => displayChart(vegaEmbed));\n",
       "    }\n",
       "  })({\"config\": {\"view\": {\"continuousWidth\": 400, \"continuousHeight\": 300}}, \"data\": {\"name\": \"data-11e19c89fa5abe7142dfa29ab760f478\"}, \"mark\": \"line\", \"encoding\": {\"color\": {\"field\": \"variable\", \"scale\": {\"scheme\": \"dark2\"}, \"title\": \"Mean, Search Engine Type\", \"type\": \"nominal\"}, \"x\": {\"axis\": {\"labelAngle\": -45}, \"field\": \"query\", \"sort\": null, \"title\": \"Search Query Term\", \"type\": \"nominal\"}, \"y\": {\"field\": \"value\", \"scale\": {\"domain\": [0.0, 1.1]}, \"title\": \"Normalized Discounted Cumulative Gain\", \"type\": \"quantitative\"}}, \"selection\": {\"selector002\": {\"type\": \"interval\", \"bind\": \"scales\", \"encodings\": [\"x\", \"y\"]}}, \"title\": \"Text Only and Combined Search Performance by Query, mean NDCG\", \"width\": 500, \"$schema\": \"https://vega.github.io/schema/vega-lite/v4.17.0.json\", \"datasets\": {\"data-11e19c89fa5abe7142dfa29ab760f478\": [{\"query\": \"I want a private room close to uw campus with parking and coffee shop.\", \"variable\": \"mean_ndcg_text_only\", \"value\": 0.9269811924003326}, {\"query\": \"condo near Space Needle\", \"variable\": \"mean_ndcg_text_only\", \"value\": 0.9422731175118287}, {\"query\": \"house near famous Pike Place Starbucks\", \"variable\": \"mean_ndcg_text_only\", \"value\": 0.9939470459163874}, {\"query\": \"Nice clean quiet apartment with three beds around downtown\", \"variable\": \"mean_ndcg_text_only\", \"value\": 0.7625377981767384}, {\"query\": \"Coffeeholic house\", \"variable\": \"mean_ndcg_text_only\", \"value\": 0.9368209681347598}, {\"query\": \"Clean, quiet 2 bed near famous vietnamese coffee shops\", \"variable\": \"mean_ndcg_text_only\", \"value\": 0.9534437872091207}, {\"query\": \"Big house near lake washington\", \"variable\": \"mean_ndcg_text_only\", \"value\": 0.9880531110357865}, {\"query\": \"house with view of mount rainier seattle, quiet, clean!\", \"variable\": \"mean_ndcg_text_only\", \"value\": 0.9326899285275383}, {\"query\": \"I want to be near uw but close to local music scene too\", \"variable\": \"mean_ndcg_text_only\", \"value\": 0.9325256929467258}, {\"query\": \"clean place near seattle harbor cruise\", \"variable\": \"mean_ndcg_text_only\", \"value\": 0.9908938979121054}, {\"query\": \"I want a 2 bedroom 2 bath near the Seattle art museum and walking distance to restaurants\", \"variable\": \"mean_ndcg_text_only\", \"value\": 0.9535123205557472}, {\"query\": \"I need a 2 bed 1 bedroom 1 bath condo with walking distance to Pike Place Market and great restaurants\", \"variable\": \"mean_ndcg_text_only\", \"value\": 0.9610108442238156}, {\"query\": \"3 bedroom 2 bath house with 4 beds near Seattle Museum of Popular Culture \", \"variable\": \"mean_ndcg_text_only\", \"value\": 0.7787869138130915}, {\"query\": \"Looking for a cozy 1 bedroom 1 bath condo near the famous Smith Tower in Pioneer Square. Must be clean.\", \"variable\": \"mean_ndcg_text_only\", \"value\": 0.9923130161670893}, {\"query\": \"Looking for a 4 bedroom 3 bath house walking distance to Washington Park Arboretum \", \"variable\": \"mean_ndcg_text_only\", \"value\": 0.8403843804118937}, {\"query\": \"I want a private room close to uw campus with parking and coffee shop.\", \"variable\": \"mean_ndcg_combined\", \"value\": 0.9269811924003326}, {\"query\": \"condo near Space Needle\", \"variable\": \"mean_ndcg_combined\", \"value\": 0.9422731175118287}, {\"query\": \"house near famous Pike Place Starbucks\", \"variable\": \"mean_ndcg_combined\", \"value\": 0.9939470459163874}, {\"query\": \"Nice clean quiet apartment with three beds around downtown\", \"variable\": \"mean_ndcg_combined\", \"value\": 0.905189839978615}, {\"query\": \"Coffeeholic house\", \"variable\": \"mean_ndcg_combined\", \"value\": 0.9368209681347598}, {\"query\": \"Clean, quiet 2 bed near famous vietnamese coffee shops\", \"variable\": \"mean_ndcg_combined\", \"value\": 0.9591063675776788}, {\"query\": \"Big house near lake washington\", \"variable\": \"mean_ndcg_combined\", \"value\": 0.9880531110357865}, {\"query\": \"house with view of mount rainier seattle, quiet, clean!\", \"variable\": \"mean_ndcg_combined\", \"value\": 0.9326899285275383}, {\"query\": \"I want to be near uw but close to local music scene too\", \"variable\": \"mean_ndcg_combined\", \"value\": 0.9325256929467258}, {\"query\": \"clean place near seattle harbor cruise\", \"variable\": \"mean_ndcg_combined\", \"value\": 0.9908938979121054}, {\"query\": \"I want a 2 bedroom 2 bath near the Seattle art museum and walking distance to restaurants\", \"variable\": \"mean_ndcg_combined\", \"value\": 1.0}, {\"query\": \"I need a 2 bed 1 bedroom 1 bath condo with walking distance to Pike Place Market and great restaurants\", \"variable\": \"mean_ndcg_combined\", \"value\": 1.0}, {\"query\": \"3 bedroom 2 bath house with 4 beds near Seattle Museum of Popular Culture \", \"variable\": \"mean_ndcg_combined\", \"value\": 0.982401292859143}, {\"query\": \"Looking for a cozy 1 bedroom 1 bath condo near the famous Smith Tower in Pioneer Square. Must be clean.\", \"variable\": \"mean_ndcg_combined\", \"value\": 1.0}, {\"query\": \"Looking for a 4 bedroom 3 bath house walking distance to Washington Park Arboretum \", \"variable\": \"mean_ndcg_combined\", \"value\": 0.9132443749596653}]}}, {\"mode\": \"vega-lite\"});\n",
       "</script>"
      ],
      "text/plain": [
       "alt.Chart(...)"
      ]
     },
     "execution_count": 23,
     "metadata": {},
     "output_type": "execute_result"
    }
   ],
   "source": [
    "alt.Chart(df4, width=500, \n",
    "          title='Text Only and Combined Search Performance by Query, mean NDCG').mark_line(\n",
    "              \n",
    "          ).encode(\n",
    "            x=alt.X('query:N',title='Search Query Term',axis=alt.Axis(\n",
    "                labelAngle=-45), sort=None),\n",
    "            y=alt.Y('value:Q',title='Normalized Discounted Cumulative Gain',\n",
    "                    scale=alt.Scale(domain=[0.0, 1.1])),\n",
    "            color=alt.Color('variable:N', \n",
    "                            scale=alt.Scale(scheme= 'dark2'),\n",
    "                            title='Mean, Search Engine Type')\n",
    "            ).interactive()"
   ]
  },
  {
   "cell_type": "markdown",
   "metadata": {
    "cell_id": "74668591611e46d6a365bf20f9250594",
    "deepnote_cell_type": "markdown",
    "id": "0k3-_BVubItU"
   },
   "source": [
    "We can see in the above chart the combined search engine model (which again takes into account the text model, but also further refines on numeric data) performs better on average for queries with numeric data, such as the last five queries that take specifically have numeric info such as number of beds and baths."
   ]
  },
  {
   "cell_type": "markdown",
   "metadata": {
    "cell_id": "81f0ce4fba3f4ef1b6f18becf1e92ecd",
    "deepnote_cell_type": "markdown",
    "id": "Rs3IUQnwbw8i"
   },
   "source": [
    "Now finally, let's see the overall performance of the text only search vs the combined search, which is the mean NDCG over all searches performed. It looks like the combined recommender wins... 0.96 to 0.92"
   ]
  },
  {
   "cell_type": "code",
   "execution_count": 24,
   "metadata": {
    "cell_id": "abe76552c5254eeba86f9cc07008c6ef",
    "colab": {
     "base_uri": "https://localhost:8080/",
     "height": 182
    },
    "deepnote_cell_type": "code",
    "deepnote_to_be_reexecuted": false,
    "execution_millis": 17,
    "execution_start": 1681851951333,
    "id": "DzE4Oi2lhLEO",
    "outputId": "f6a92a69-9724-41ab-dff6-926e36688c75",
    "source_hash": "1a56301b"
   },
   "outputs": [
    {
     "data": {
      "text/html": [
       "\n",
       "<div id=\"altair-viz-b12c4b0d3f914635805b477d7c3b4933\"></div>\n",
       "<script type=\"text/javascript\">\n",
       "  var VEGA_DEBUG = (typeof VEGA_DEBUG == \"undefined\") ? {} : VEGA_DEBUG;\n",
       "  (function(spec, embedOpt){\n",
       "    let outputDiv = document.currentScript.previousElementSibling;\n",
       "    if (outputDiv.id !== \"altair-viz-b12c4b0d3f914635805b477d7c3b4933\") {\n",
       "      outputDiv = document.getElementById(\"altair-viz-b12c4b0d3f914635805b477d7c3b4933\");\n",
       "    }\n",
       "    const paths = {\n",
       "      \"vega\": \"https://cdn.jsdelivr.net/npm//vega@5?noext\",\n",
       "      \"vega-lib\": \"https://cdn.jsdelivr.net/npm//vega-lib?noext\",\n",
       "      \"vega-lite\": \"https://cdn.jsdelivr.net/npm//vega-lite@4.17.0?noext\",\n",
       "      \"vega-embed\": \"https://cdn.jsdelivr.net/npm//vega-embed@6?noext\",\n",
       "    };\n",
       "\n",
       "    function maybeLoadScript(lib, version) {\n",
       "      var key = `${lib.replace(\"-\", \"\")}_version`;\n",
       "      return (VEGA_DEBUG[key] == version) ?\n",
       "        Promise.resolve(paths[lib]) :\n",
       "        new Promise(function(resolve, reject) {\n",
       "          var s = document.createElement('script');\n",
       "          document.getElementsByTagName(\"head\")[0].appendChild(s);\n",
       "          s.async = true;\n",
       "          s.onload = () => {\n",
       "            VEGA_DEBUG[key] = version;\n",
       "            return resolve(paths[lib]);\n",
       "          };\n",
       "          s.onerror = () => reject(`Error loading script: ${paths[lib]}`);\n",
       "          s.src = paths[lib];\n",
       "        });\n",
       "    }\n",
       "\n",
       "    function showError(err) {\n",
       "      outputDiv.innerHTML = `<div class=\"error\" style=\"color:red;\">${err}</div>`;\n",
       "      throw err;\n",
       "    }\n",
       "\n",
       "    function displayChart(vegaEmbed) {\n",
       "      vegaEmbed(outputDiv, spec, embedOpt)\n",
       "        .catch(err => showError(`Javascript Error: ${err.message}<br>This usually means there's a typo in your chart specification. See the javascript console for the full traceback.`));\n",
       "    }\n",
       "\n",
       "    if(typeof define === \"function\" && define.amd) {\n",
       "      requirejs.config({paths});\n",
       "      require([\"vega-embed\"], displayChart, err => showError(`Error loading script: ${err.message}`));\n",
       "    } else {\n",
       "      maybeLoadScript(\"vega\", \"5\")\n",
       "        .then(() => maybeLoadScript(\"vega-lite\", \"4.17.0\"))\n",
       "        .then(() => maybeLoadScript(\"vega-embed\", \"6\"))\n",
       "        .catch(showError)\n",
       "        .then(() => displayChart(vegaEmbed));\n",
       "    }\n",
       "  })({\"config\": {\"view\": {\"continuousWidth\": 400, \"continuousHeight\": 300, \"strokeWidth\": 0}, \"scale\": {\"bandPaddingInner\": 0.2}}, \"layer\": [{\"mark\": {\"type\": \"text\", \"align\": \"left\", \"baseline\": \"middle\", \"dx\": 3}, \"encoding\": {\"text\": {\"aggregate\": \"mean\", \"field\": \"value\", \"format\": \".04\", \"type\": \"quantitative\"}, \"x\": {\"aggregate\": \"mean\", \"field\": \"value\", \"scale\": {\"domain\": [0.0, 1.1]}, \"title\": \"Mean NDCG\", \"type\": \"quantitative\"}, \"y\": {\"axis\": {\"labelExpr\": \"datum.label == 'mean_ndcg_text_only' ? 'Text Only' : 'Combined'\"}, \"field\": \"variable\", \"sort\": null, \"title\": \"Search Engine Type\", \"type\": \"nominal\"}}, \"height\": 70, \"width\": 500}, {\"mark\": {\"type\": \"bar\", \"size\": 20}, \"encoding\": {\"x\": {\"aggregate\": \"mean\", \"field\": \"value\", \"scale\": {\"domain\": [0.0, 1.1]}, \"title\": \"Mean NDCG\", \"type\": \"quantitative\"}, \"y\": {\"axis\": {\"labelExpr\": \"datum.label == 'mean_ndcg_text_only' ? 'Text Only' : 'Combined'\"}, \"field\": \"variable\", \"sort\": null, \"title\": \"Search Engine Type\", \"type\": \"nominal\"}}, \"height\": 70, \"width\": 500}], \"data\": {\"name\": \"data-11e19c89fa5abe7142dfa29ab760f478\"}, \"title\": {\"text\": \"Search Engine Performance by Type\", \"subtitle\": [\"The mean NDCG for all queries and results\"]}, \"$schema\": \"https://vega.github.io/schema/vega-lite/v4.17.0.json\", \"datasets\": {\"data-11e19c89fa5abe7142dfa29ab760f478\": [{\"query\": \"I want a private room close to uw campus with parking and coffee shop.\", \"variable\": \"mean_ndcg_text_only\", \"value\": 0.9269811924003326}, {\"query\": \"condo near Space Needle\", \"variable\": \"mean_ndcg_text_only\", \"value\": 0.9422731175118287}, {\"query\": \"house near famous Pike Place Starbucks\", \"variable\": \"mean_ndcg_text_only\", \"value\": 0.9939470459163874}, {\"query\": \"Nice clean quiet apartment with three beds around downtown\", \"variable\": \"mean_ndcg_text_only\", \"value\": 0.7625377981767384}, {\"query\": \"Coffeeholic house\", \"variable\": \"mean_ndcg_text_only\", \"value\": 0.9368209681347598}, {\"query\": \"Clean, quiet 2 bed near famous vietnamese coffee shops\", \"variable\": \"mean_ndcg_text_only\", \"value\": 0.9534437872091207}, {\"query\": \"Big house near lake washington\", \"variable\": \"mean_ndcg_text_only\", \"value\": 0.9880531110357865}, {\"query\": \"house with view of mount rainier seattle, quiet, clean!\", \"variable\": \"mean_ndcg_text_only\", \"value\": 0.9326899285275383}, {\"query\": \"I want to be near uw but close to local music scene too\", \"variable\": \"mean_ndcg_text_only\", \"value\": 0.9325256929467258}, {\"query\": \"clean place near seattle harbor cruise\", \"variable\": \"mean_ndcg_text_only\", \"value\": 0.9908938979121054}, {\"query\": \"I want a 2 bedroom 2 bath near the Seattle art museum and walking distance to restaurants\", \"variable\": \"mean_ndcg_text_only\", \"value\": 0.9535123205557472}, {\"query\": \"I need a 2 bed 1 bedroom 1 bath condo with walking distance to Pike Place Market and great restaurants\", \"variable\": \"mean_ndcg_text_only\", \"value\": 0.9610108442238156}, {\"query\": \"3 bedroom 2 bath house with 4 beds near Seattle Museum of Popular Culture \", \"variable\": \"mean_ndcg_text_only\", \"value\": 0.7787869138130915}, {\"query\": \"Looking for a cozy 1 bedroom 1 bath condo near the famous Smith Tower in Pioneer Square. Must be clean.\", \"variable\": \"mean_ndcg_text_only\", \"value\": 0.9923130161670893}, {\"query\": \"Looking for a 4 bedroom 3 bath house walking distance to Washington Park Arboretum \", \"variable\": \"mean_ndcg_text_only\", \"value\": 0.8403843804118937}, {\"query\": \"I want a private room close to uw campus with parking and coffee shop.\", \"variable\": \"mean_ndcg_combined\", \"value\": 0.9269811924003326}, {\"query\": \"condo near Space Needle\", \"variable\": \"mean_ndcg_combined\", \"value\": 0.9422731175118287}, {\"query\": \"house near famous Pike Place Starbucks\", \"variable\": \"mean_ndcg_combined\", \"value\": 0.9939470459163874}, {\"query\": \"Nice clean quiet apartment with three beds around downtown\", \"variable\": \"mean_ndcg_combined\", \"value\": 0.905189839978615}, {\"query\": \"Coffeeholic house\", \"variable\": \"mean_ndcg_combined\", \"value\": 0.9368209681347598}, {\"query\": \"Clean, quiet 2 bed near famous vietnamese coffee shops\", \"variable\": \"mean_ndcg_combined\", \"value\": 0.9591063675776788}, {\"query\": \"Big house near lake washington\", \"variable\": \"mean_ndcg_combined\", \"value\": 0.9880531110357865}, {\"query\": \"house with view of mount rainier seattle, quiet, clean!\", \"variable\": \"mean_ndcg_combined\", \"value\": 0.9326899285275383}, {\"query\": \"I want to be near uw but close to local music scene too\", \"variable\": \"mean_ndcg_combined\", \"value\": 0.9325256929467258}, {\"query\": \"clean place near seattle harbor cruise\", \"variable\": \"mean_ndcg_combined\", \"value\": 0.9908938979121054}, {\"query\": \"I want a 2 bedroom 2 bath near the Seattle art museum and walking distance to restaurants\", \"variable\": \"mean_ndcg_combined\", \"value\": 1.0}, {\"query\": \"I need a 2 bed 1 bedroom 1 bath condo with walking distance to Pike Place Market and great restaurants\", \"variable\": \"mean_ndcg_combined\", \"value\": 1.0}, {\"query\": \"3 bedroom 2 bath house with 4 beds near Seattle Museum of Popular Culture \", \"variable\": \"mean_ndcg_combined\", \"value\": 0.982401292859143}, {\"query\": \"Looking for a cozy 1 bedroom 1 bath condo near the famous Smith Tower in Pioneer Square. Must be clean.\", \"variable\": \"mean_ndcg_combined\", \"value\": 1.0}, {\"query\": \"Looking for a 4 bedroom 3 bath house walking distance to Washington Park Arboretum \", \"variable\": \"mean_ndcg_combined\", \"value\": 0.9132443749596653}]}}, {\"mode\": \"vega-lite\"});\n",
       "</script>"
      ],
      "text/plain": [
       "alt.LayerChart(...)"
      ]
     },
     "execution_count": 24,
     "metadata": {},
     "output_type": "execute_result"
    }
   ],
   "source": [
    "labelExpression = \"datum.label == 'mean_ndcg_text_only' ? 'Text Only' : 'Combined'\"\n",
    "\n",
    "bars = alt.Chart(df4, width=500, height=70).mark_bar(size=20).encode(\n",
    "  alt.X('mean(value)', title='Mean NDCG', scale=alt.Scale(domain=[0.0, 1.1])),\n",
    "  alt.Y('variable', sort=None, title='Search Engine Type', \n",
    "        axis=alt.Axis(labelExpr=labelExpression)\n",
    "        )\n",
    ")\n",
    "\n",
    "text = bars.mark_text(align='left',\n",
    "                      baseline='middle',\n",
    "                      dx=3 # Nudges text to right so it doesn't appear on top of the bar\n",
    "                      ).encode(\n",
    "                           # we'll use the percentage as the text\n",
    "                      text=alt.Text('mean(value)',format='.04') \n",
    ")\n",
    "\n",
    "(text + bars).configure_view(\n",
    "    # we don't want a stroke around the bars\n",
    "    strokeWidth=0\n",
    ").configure_scale(\n",
    "    # add some padding\n",
    "    bandPaddingInner=0.2\n",
    ").properties(\n",
    "    title={'text': 'Search Engine Performance by Type',\n",
    "           'subtitle': ['The mean NDCG for all queries and results'],\n",
    "           }\n",
    ")"
   ]
  },
  {
   "cell_type": "markdown",
   "metadata": {
    "cell_id": "59ee503535c044f28ff1a8b47dc78de1",
    "deepnote_cell_type": "markdown",
    "id": "Y9VhS0N63Nmz"
   },
   "source": [
    "### Evaluating Rater Agreeability\n",
    "\n",
    "One question comes to mind. While it's good to see that our NDCG score are closer to 1, how do we know that the ideal relevance ratings themselves from the human raters are trustworthy or not. In [Evaluation of Text Retrieval Systems in SIADS685](https://www.coursera.org/learn/siads685/lecture/Rl9ml), the professor notes that \"Of course, when you have multiple raters, you should actually compare their performance and calculate their agreements...In this case, if the agreement is high between the multiple raters then we can trust the relevance judgments.\"\n",
    "\n",
    "One measure of inter-rater agreement is Cohen's kappa for when there are two raters, while Fleiss' kappa are for when there are 3 or more. \n",
    "\n",
    "According to [wikipedia](https://https://en.wikipedia.org/wiki/Fleiss%27_kappa): \"Fleiss' kappa can be used with binary or nominal-scale. It can also be applied to Ordinal data (ranked data)\" however it might not account for ordering. \n",
    "\n",
    "So we decided to take an adventure and try another popular measurement, which is intraclass correlation coefficient (ICC). According to the documentation for a popular statistics library [pingouin](https://pingouin-stats.org/build/html/generated/pingouin.intraclass_corr.html): \"The intraclass correlation (ICC, [1]) assesses the reliability of ratings by comparing the variability of different ratings of the same subject to the total variation across all ratings and all subjects.\"\n",
    "\n",
    "We'll use ICC to evaluate our raters."
   ]
  },
  {
   "cell_type": "markdown",
   "metadata": {
    "cell_id": "bb1308048c21407192207102bf8568c8",
    "deepnote_cell_type": "markdown",
    "id": "h-HwgVT12BqN"
   },
   "source": [
    "#### Intraclass correlation (ICC)"
   ]
  },
  {
   "cell_type": "markdown",
   "metadata": {
    "cell_id": "e3fd67acebc34529a280e3b26ac2dfcf",
    "deepnote_cell_type": "markdown",
    "id": "j5qYJDSXS9b6"
   },
   "source": [
    "So we'll use pingouin to calculate the ICC and then interpret the result."
   ]
  },
  {
   "cell_type": "code",
   "execution_count": 25,
   "metadata": {
    "cell_id": "832b83281533401f82e6da778e3b4d59",
    "deepnote_cell_type": "code",
    "deepnote_to_be_reexecuted": false,
    "execution_millis": 783,
    "execution_start": 1681851951335,
    "id": "6fE9s--jMNw-",
    "source_hash": "dbe6d0ed"
   },
   "outputs": [],
   "source": [
    "import pingouin as pg"
   ]
  },
  {
   "cell_type": "markdown",
   "metadata": {
    "cell_id": "693c5e14ff614d7e97426c27d7895c3b",
    "deepnote_cell_type": "markdown",
    "id": "r29631ryThWf"
   },
   "source": [
    "We need to melt our data into a format for the library to process easily. The documentation's wine example essentially has a number of wines and judges ratings of the wines. It's tempting to use the query as our wine, but we have to remember that each query was used in both the text only and combined recommender, so each relevance rating is really a combination of query and search engine type. We'll break it down into two ICC calculations.\n",
    "\n",
    "If we think of the wine example, we also need to think that the wines are unique items. In our case a query is not unique because the rater was asked to a query's top 5 results. The unique equivalent in this case is a query string and a particular Airbnb listing id."
   ]
  },
  {
   "cell_type": "code",
   "execution_count": 26,
   "metadata": {
    "cell_id": "c79a928b8883472aba24403e8a8df3ff",
    "colab": {
     "base_uri": "https://localhost:8080/"
    },
    "deepnote_cell_type": "code",
    "deepnote_to_be_reexecuted": false,
    "execution_millis": 43,
    "execution_start": 1681851952119,
    "id": "27G7wkNoUOVz",
    "outputId": "6e27a3cf-21b7-4f96-ca51-fb69d8ba5349",
    "source_hash": "8bf488e7"
   },
   "outputs": [
    {
     "data": {
      "text/plain": [
       "Index(['Query text', 'Price range', 'listing_id', 'listing_url',\n",
       "       'listing_name', 'rater_1_text', 'rater_2_text', 'rater_3_text',\n",
       "       'rater_1_combined', 'rater_2_combined', 'rater_3_combined'],\n",
       "      dtype='object')"
      ]
     },
     "execution_count": 26,
     "metadata": {},
     "output_type": "execute_result"
    }
   ],
   "source": [
    "df_ratings.columns\n"
   ]
  },
  {
   "cell_type": "code",
   "execution_count": 27,
   "metadata": {
    "cell_id": "ba2dcb2e2b384c729ac444ef4b3caf1d",
    "colab": {
     "base_uri": "https://localhost:8080/",
     "height": 252
    },
    "deepnote_cell_type": "code",
    "deepnote_to_be_reexecuted": false,
    "execution_millis": 82,
    "execution_start": 1681851952161,
    "id": "H5gnIMbdRSaj",
    "outputId": "6f8586d0-1ef3-4bd1-8e80-04ba7515a133",
    "source_hash": "604b2f37"
   },
   "outputs": [
    {
     "data": {
      "application/vnd.deepnote.dataframe.v3+json": {
       "column_count": 7,
       "columns": [
        {
         "dtype": "object",
         "name": "Description",
         "stats": {
          "categories": [
           {
            "count": 1,
            "name": "Single raters absolute"
           },
           {
            "count": 1,
            "name": "Single random raters"
           },
           {
            "count": 4,
            "name": "4 others"
           }
          ],
          "nan_count": 0,
          "unique_count": 6
         }
        },
        {
         "dtype": "float64",
         "name": "ICC",
         "stats": {
          "histogram": [
           {
            "bin_end": 0.2678,
            "bin_start": 0.238,
            "count": 2
           },
           {
            "bin_end": 0.2976,
            "bin_start": 0.2678,
            "count": 1
           },
           {
            "bin_end": 0.3274,
            "bin_start": 0.2976,
            "count": 0
           },
           {
            "bin_end": 0.3572,
            "bin_start": 0.3274,
            "count": 0
           },
           {
            "bin_end": 0.387,
            "bin_start": 0.3572,
            "count": 0
           },
           {
            "bin_end": 0.4168,
            "bin_start": 0.387,
            "count": 0
           },
           {
            "bin_end": 0.4466,
            "bin_start": 0.4168,
            "count": 0
           },
           {
            "bin_end": 0.47640000000000005,
            "bin_start": 0.4466,
            "count": 0
           },
           {
            "bin_end": 0.5062,
            "bin_start": 0.47640000000000005,
            "count": 1
           },
           {
            "bin_end": 0.536,
            "bin_start": 0.5062,
            "count": 2
           }
          ],
          "max": "0.536",
          "min": "0.238",
          "nan_count": 0,
          "unique_count": 6
         }
        },
        {
         "dtype": "float64",
         "name": "F",
         "stats": {
          "histogram": [
           {
            "bin_end": 1.9608,
            "bin_start": 1.939,
            "count": 2
           },
           {
            "bin_end": 1.9826000000000001,
            "bin_start": 1.9608,
            "count": 0
           },
           {
            "bin_end": 2.0044,
            "bin_start": 1.9826000000000001,
            "count": 0
           },
           {
            "bin_end": 2.0262000000000002,
            "bin_start": 2.0044,
            "count": 0
           },
           {
            "bin_end": 2.048,
            "bin_start": 2.0262000000000002,
            "count": 0
           },
           {
            "bin_end": 2.0698,
            "bin_start": 2.048,
            "count": 0
           },
           {
            "bin_end": 2.0916,
            "bin_start": 2.0698,
            "count": 0
           },
           {
            "bin_end": 2.1134,
            "bin_start": 2.0916,
            "count": 0
           },
           {
            "bin_end": 2.1352,
            "bin_start": 2.1134,
            "count": 0
           },
           {
            "bin_end": 2.157,
            "bin_start": 2.1352,
            "count": 4
           }
          ],
          "max": "2.157",
          "min": "1.939",
          "nan_count": 0,
          "unique_count": 2
         }
        },
        {
         "dtype": "int64",
         "name": "df1",
         "stats": {
          "histogram": [
           {
            "bin_end": 73.6,
            "bin_start": 73.5,
            "count": 0
           },
           {
            "bin_end": 73.7,
            "bin_start": 73.6,
            "count": 0
           },
           {
            "bin_end": 73.8,
            "bin_start": 73.7,
            "count": 0
           },
           {
            "bin_end": 73.9,
            "bin_start": 73.8,
            "count": 0
           },
           {
            "bin_end": 74,
            "bin_start": 73.9,
            "count": 0
           },
           {
            "bin_end": 74.1,
            "bin_start": 74,
            "count": 6
           },
           {
            "bin_end": 74.2,
            "bin_start": 74.1,
            "count": 0
           },
           {
            "bin_end": 74.3,
            "bin_start": 74.2,
            "count": 0
           },
           {
            "bin_end": 74.4,
            "bin_start": 74.3,
            "count": 0
           },
           {
            "bin_end": 74.5,
            "bin_start": 74.4,
            "count": 0
           }
          ],
          "max": "74",
          "min": "74",
          "nan_count": 0,
          "unique_count": 1
         }
        },
        {
         "dtype": "int64",
         "name": "df2",
         "stats": {
          "histogram": [
           {
            "bin_end": 148.2,
            "bin_start": 148,
            "count": 4
           },
           {
            "bin_end": 148.4,
            "bin_start": 148.2,
            "count": 0
           },
           {
            "bin_end": 148.6,
            "bin_start": 148.4,
            "count": 0
           },
           {
            "bin_end": 148.8,
            "bin_start": 148.6,
            "count": 0
           },
           {
            "bin_end": 149,
            "bin_start": 148.8,
            "count": 0
           },
           {
            "bin_end": 149.2,
            "bin_start": 149,
            "count": 0
           },
           {
            "bin_end": 149.4,
            "bin_start": 149.2,
            "count": 0
           },
           {
            "bin_end": 149.6,
            "bin_start": 149.4,
            "count": 0
           },
           {
            "bin_end": 149.8,
            "bin_start": 149.6,
            "count": 0
           },
           {
            "bin_end": 150,
            "bin_start": 149.8,
            "count": 2
           }
          ],
          "max": "150",
          "min": "148",
          "nan_count": 0,
          "unique_count": 2
         }
        },
        {
         "dtype": "float64",
         "name": "pval",
         "stats": {
          "histogram": [
           {
            "bin_end": -0.4,
            "bin_start": -0.5,
            "count": 0
           },
           {
            "bin_end": -0.3,
            "bin_start": -0.4,
            "count": 0
           },
           {
            "bin_end": -0.19999999999999996,
            "bin_start": -0.3,
            "count": 0
           },
           {
            "bin_end": -0.09999999999999998,
            "bin_start": -0.19999999999999996,
            "count": 0
           },
           {
            "bin_end": 0,
            "bin_start": -0.09999999999999998,
            "count": 0
           },
           {
            "bin_end": 0.10000000000000009,
            "bin_start": 0,
            "count": 6
           },
           {
            "bin_end": 0.20000000000000007,
            "bin_start": 0.10000000000000009,
            "count": 0
           },
           {
            "bin_end": 0.30000000000000004,
            "bin_start": 0.20000000000000007,
            "count": 0
           },
           {
            "bin_end": 0.4,
            "bin_start": 0.30000000000000004,
            "count": 0
           },
           {
            "bin_end": 0.5,
            "bin_start": 0.4,
            "count": 0
           }
          ],
          "max": "0.0",
          "min": "0.0",
          "nan_count": 0,
          "unique_count": 1
         }
        },
        {
         "dtype": "object",
         "name": "CI95%",
         "stats": {
          "categories": [
           {
            "count": 1,
            "name": "[0.1  0.39]"
           },
           {
            "count": 1,
            "name": "[0.12 0.41]"
           },
           {
            "count": 4,
            "name": "4 others"
           }
          ],
          "nan_count": 0,
          "unique_count": 6
         }
        },
        {
         "dtype": "object",
         "name": "_deepnote_index_column"
        }
       ],
       "row_count": 6,
       "rows": [
        {
         "CI95%": "[0.1  0.39]",
         "Description": "Single raters absolute",
         "F": "1.939",
         "ICC": "0.238",
         "_deepnote_index_column": "ICC1",
         "df1": "74",
         "df2": "150",
         "pval": "0.0"
        },
        {
         "CI95%": "[0.12 0.41]",
         "Description": "Single random raters",
         "F": "2.157",
         "ICC": "0.257",
         "_deepnote_index_column": "ICC2",
         "df1": "74",
         "df2": "148",
         "pval": "0.0"
        },
        {
         "CI95%": "[0.14 0.43]",
         "Description": "Single fixed raters",
         "F": "2.157",
         "ICC": "0.278",
         "_deepnote_index_column": "ICC3",
         "df1": "74",
         "df2": "148",
         "pval": "0.0"
        },
        {
         "CI95%": "[0.24 0.66]",
         "Description": "Average raters absolute",
         "F": "1.939",
         "ICC": "0.484",
         "_deepnote_index_column": "ICC1k",
         "df1": "74",
         "df2": "150",
         "pval": "0.0"
        },
        {
         "CI95%": "[0.29 0.67]",
         "Description": "Average random raters",
         "F": "2.157",
         "ICC": "0.51",
         "_deepnote_index_column": "ICC2k",
         "df1": "74",
         "df2": "148",
         "pval": "0.0"
        },
        {
         "CI95%": "[0.32 0.69]",
         "Description": "Average fixed raters",
         "F": "2.157",
         "ICC": "0.536",
         "_deepnote_index_column": "ICC3k",
         "df1": "74",
         "df2": "148",
         "pval": "0.0"
        }
       ]
      },
      "text/html": [
       "<div>\n",
       "<style scoped>\n",
       "    .dataframe tbody tr th:only-of-type {\n",
       "        vertical-align: middle;\n",
       "    }\n",
       "\n",
       "    .dataframe tbody tr th {\n",
       "        vertical-align: top;\n",
       "    }\n",
       "\n",
       "    .dataframe thead th {\n",
       "        text-align: right;\n",
       "    }\n",
       "</style>\n",
       "<table border=\"1\" class=\"dataframe\">\n",
       "  <thead>\n",
       "    <tr style=\"text-align: right;\">\n",
       "      <th></th>\n",
       "      <th>Description</th>\n",
       "      <th>ICC</th>\n",
       "      <th>F</th>\n",
       "      <th>df1</th>\n",
       "      <th>df2</th>\n",
       "      <th>pval</th>\n",
       "      <th>CI95%</th>\n",
       "    </tr>\n",
       "    <tr>\n",
       "      <th>Type</th>\n",
       "      <th></th>\n",
       "      <th></th>\n",
       "      <th></th>\n",
       "      <th></th>\n",
       "      <th></th>\n",
       "      <th></th>\n",
       "      <th></th>\n",
       "    </tr>\n",
       "  </thead>\n",
       "  <tbody>\n",
       "    <tr>\n",
       "      <th>ICC1</th>\n",
       "      <td>Single raters absolute</td>\n",
       "      <td>0.238</td>\n",
       "      <td>1.939</td>\n",
       "      <td>74</td>\n",
       "      <td>150</td>\n",
       "      <td>0.0</td>\n",
       "      <td>[0.1, 0.39]</td>\n",
       "    </tr>\n",
       "    <tr>\n",
       "      <th>ICC2</th>\n",
       "      <td>Single random raters</td>\n",
       "      <td>0.257</td>\n",
       "      <td>2.157</td>\n",
       "      <td>74</td>\n",
       "      <td>148</td>\n",
       "      <td>0.0</td>\n",
       "      <td>[0.12, 0.41]</td>\n",
       "    </tr>\n",
       "    <tr>\n",
       "      <th>ICC3</th>\n",
       "      <td>Single fixed raters</td>\n",
       "      <td>0.278</td>\n",
       "      <td>2.157</td>\n",
       "      <td>74</td>\n",
       "      <td>148</td>\n",
       "      <td>0.0</td>\n",
       "      <td>[0.14, 0.43]</td>\n",
       "    </tr>\n",
       "    <tr>\n",
       "      <th>ICC1k</th>\n",
       "      <td>Average raters absolute</td>\n",
       "      <td>0.484</td>\n",
       "      <td>1.939</td>\n",
       "      <td>74</td>\n",
       "      <td>150</td>\n",
       "      <td>0.0</td>\n",
       "      <td>[0.24, 0.66]</td>\n",
       "    </tr>\n",
       "    <tr>\n",
       "      <th>ICC2k</th>\n",
       "      <td>Average random raters</td>\n",
       "      <td>0.510</td>\n",
       "      <td>2.157</td>\n",
       "      <td>74</td>\n",
       "      <td>148</td>\n",
       "      <td>0.0</td>\n",
       "      <td>[0.29, 0.67]</td>\n",
       "    </tr>\n",
       "    <tr>\n",
       "      <th>ICC3k</th>\n",
       "      <td>Average fixed raters</td>\n",
       "      <td>0.536</td>\n",
       "      <td>2.157</td>\n",
       "      <td>74</td>\n",
       "      <td>148</td>\n",
       "      <td>0.0</td>\n",
       "      <td>[0.32, 0.69]</td>\n",
       "    </tr>\n",
       "  </tbody>\n",
       "</table>\n",
       "</div>"
      ],
      "text/plain": [
       "                   Description    ICC      F  df1  df2  pval         CI95%\n",
       "Type                                                                      \n",
       "ICC1    Single raters absolute  0.238  1.939   74  150   0.0   [0.1, 0.39]\n",
       "ICC2      Single random raters  0.257  2.157   74  148   0.0  [0.12, 0.41]\n",
       "ICC3       Single fixed raters  0.278  2.157   74  148   0.0  [0.14, 0.43]\n",
       "ICC1k  Average raters absolute  0.484  1.939   74  150   0.0  [0.24, 0.66]\n",
       "ICC2k    Average random raters  0.510  2.157   74  148   0.0  [0.29, 0.67]\n",
       "ICC3k     Average fixed raters  0.536  2.157   74  148   0.0  [0.32, 0.69]"
      ]
     },
     "execution_count": 27,
     "metadata": {},
     "output_type": "execute_result"
    }
   ],
   "source": [
    "### Combine query text and listing url into a unique wine, then rate\n",
    "\n",
    "df_ratings_icc_text = df_ratings[['Query text','listing_url', 'rater_1_text', 'rater_2_text', 'rater_3_text']].copy()\n",
    "df_ratings_icc_text['search_result_item'] = df_ratings_icc_text['Query text'].astype(str) +\"-\"+ df_ratings_icc_text['listing_url']\n",
    "\n",
    "# Our ratings are 1 to 5, but some are decimal such as 4.5, convert to int\n",
    "df_ratings_icc_text['rater_1_text'] = df_ratings_icc_text['rater_1_text'].apply(lambda x: x*10)\n",
    "df_ratings_icc_text['rater_2_text'] = df_ratings_icc_text['rater_2_text'].apply(lambda x: x*10)\n",
    "df_ratings_icc_text['rater_3_text'] = df_ratings_icc_text['rater_3_text'].apply(lambda x: x*10)\n",
    "\n",
    "df_ratings_icc_text['rater_1_text'] = df_ratings_icc_text['rater_1_text'].astype('int64')\n",
    "df_ratings_icc_text['rater_2_text'] = df_ratings_icc_text['rater_2_text'].astype('int64')\n",
    "df_ratings_icc_text['rater_3_text'] = df_ratings_icc_text['rater_3_text'].astype('int64')\n",
    "\n",
    "# Get the columns we need: item being rated, and the rater's ratings\n",
    "df = df_ratings_icc_text[['search_result_item','rater_1_text', 'rater_2_text', 'rater_3_text']]\n",
    "df_ratings_icc_text = df.copy()\n",
    "df_ratings_icc_text.reset_index(drop=True, inplace=True)\n",
    "df_ratings_icc_text = pd.melt(df_ratings_icc_text, id_vars=['search_result_item'], \n",
    "                         value_vars=['rater_1_text', 'rater_2_text', 'rater_3_text'])\n",
    "\n",
    "# Calculate the ICC\n",
    "icc = pg.intraclass_corr(data=df_ratings_icc_text, \n",
    "                         targets='search_result_item', \n",
    "                         raters='variable',\n",
    "                         ratings='value').round(3)\n",
    "icc.set_index(\"Type\")\n",
    "\n",
    "\n",
    "# 0.239 to 0.537, with basic without multiplying\n",
    "# 0.238 to 0.536, with multiplying by 10"
   ]
  },
  {
   "cell_type": "markdown",
   "metadata": {
    "cell_id": "b146b42ddf094dc2aa67420f19e625d0",
    "deepnote_cell_type": "markdown",
    "id": "AkNrVlmK4pcH"
   },
   "source": [
    "Now calculate the same for the Combined Search Engine's results"
   ]
  },
  {
   "cell_type": "code",
   "execution_count": 28,
   "metadata": {
    "cell_id": "de029a2ab7c14ccba88f97a0db823524",
    "colab": {
     "base_uri": "https://localhost:8080/",
     "height": 252
    },
    "deepnote_cell_type": "code",
    "deepnote_to_be_reexecuted": false,
    "execution_millis": 71,
    "execution_start": 1681851952283,
    "id": "h5w_bUVk4bJF",
    "outputId": "3607cf0a-54f7-41fa-fe84-fd14ca9b4037",
    "source_hash": "f77c48b3"
   },
   "outputs": [
    {
     "data": {
      "application/vnd.deepnote.dataframe.v3+json": {
       "column_count": 7,
       "columns": [
        {
         "dtype": "object",
         "name": "Description",
         "stats": {
          "categories": [
           {
            "count": 1,
            "name": "Single raters absolute"
           },
           {
            "count": 1,
            "name": "Single random raters"
           },
           {
            "count": 4,
            "name": "4 others"
           }
          ],
          "nan_count": 0,
          "unique_count": 6
         }
        },
        {
         "dtype": "float64",
         "name": "ICC",
         "stats": {
          "histogram": [
           {
            "bin_end": 0.1131,
            "bin_start": 0.074,
            "count": 1
           },
           {
            "bin_end": 0.1522,
            "bin_start": 0.1131,
            "count": 0
           },
           {
            "bin_end": 0.19130000000000003,
            "bin_start": 0.1522,
            "count": 1
           },
           {
            "bin_end": 0.2304,
            "bin_start": 0.19130000000000003,
            "count": 2
           },
           {
            "bin_end": 0.2695,
            "bin_start": 0.2304,
            "count": 0
           },
           {
            "bin_end": 0.30860000000000004,
            "bin_start": 0.2695,
            "count": 0
           },
           {
            "bin_end": 0.3477,
            "bin_start": 0.30860000000000004,
            "count": 0
           },
           {
            "bin_end": 0.38680000000000003,
            "bin_start": 0.3477,
            "count": 1
           },
           {
            "bin_end": 0.42590000000000006,
            "bin_start": 0.38680000000000003,
            "count": 0
           },
           {
            "bin_end": 0.465,
            "bin_start": 0.42590000000000006,
            "count": 1
           }
          ],
          "max": "0.465",
          "min": "0.074",
          "nan_count": 0,
          "unique_count": 6
         }
        },
        {
         "dtype": "float64",
         "name": "F",
         "stats": {
          "histogram": [
           {
            "bin_end": 1.3029,
            "bin_start": 1.24,
            "count": 2
           },
           {
            "bin_end": 1.3658,
            "bin_start": 1.3029,
            "count": 0
           },
           {
            "bin_end": 1.4287,
            "bin_start": 1.3658,
            "count": 0
           },
           {
            "bin_end": 1.4916,
            "bin_start": 1.4287,
            "count": 0
           },
           {
            "bin_end": 1.5545,
            "bin_start": 1.4916,
            "count": 0
           },
           {
            "bin_end": 1.6174,
            "bin_start": 1.5545,
            "count": 0
           },
           {
            "bin_end": 1.6803,
            "bin_start": 1.6174,
            "count": 0
           },
           {
            "bin_end": 1.7431999999999999,
            "bin_start": 1.6803,
            "count": 0
           },
           {
            "bin_end": 1.8060999999999998,
            "bin_start": 1.7431999999999999,
            "count": 0
           },
           {
            "bin_end": 1.869,
            "bin_start": 1.8060999999999998,
            "count": 4
           }
          ],
          "max": "1.869",
          "min": "1.24",
          "nan_count": 0,
          "unique_count": 2
         }
        },
        {
         "dtype": "int64",
         "name": "df1",
         "stats": {
          "histogram": [
           {
            "bin_end": 73.6,
            "bin_start": 73.5,
            "count": 0
           },
           {
            "bin_end": 73.7,
            "bin_start": 73.6,
            "count": 0
           },
           {
            "bin_end": 73.8,
            "bin_start": 73.7,
            "count": 0
           },
           {
            "bin_end": 73.9,
            "bin_start": 73.8,
            "count": 0
           },
           {
            "bin_end": 74,
            "bin_start": 73.9,
            "count": 0
           },
           {
            "bin_end": 74.1,
            "bin_start": 74,
            "count": 6
           },
           {
            "bin_end": 74.2,
            "bin_start": 74.1,
            "count": 0
           },
           {
            "bin_end": 74.3,
            "bin_start": 74.2,
            "count": 0
           },
           {
            "bin_end": 74.4,
            "bin_start": 74.3,
            "count": 0
           },
           {
            "bin_end": 74.5,
            "bin_start": 74.4,
            "count": 0
           }
          ],
          "max": "74",
          "min": "74",
          "nan_count": 0,
          "unique_count": 1
         }
        },
        {
         "dtype": "int64",
         "name": "df2",
         "stats": {
          "histogram": [
           {
            "bin_end": 148.2,
            "bin_start": 148,
            "count": 4
           },
           {
            "bin_end": 148.4,
            "bin_start": 148.2,
            "count": 0
           },
           {
            "bin_end": 148.6,
            "bin_start": 148.4,
            "count": 0
           },
           {
            "bin_end": 148.8,
            "bin_start": 148.6,
            "count": 0
           },
           {
            "bin_end": 149,
            "bin_start": 148.8,
            "count": 0
           },
           {
            "bin_end": 149.2,
            "bin_start": 149,
            "count": 0
           },
           {
            "bin_end": 149.4,
            "bin_start": 149.2,
            "count": 0
           },
           {
            "bin_end": 149.6,
            "bin_start": 149.4,
            "count": 0
           },
           {
            "bin_end": 149.8,
            "bin_start": 149.6,
            "count": 0
           },
           {
            "bin_end": 150,
            "bin_start": 149.8,
            "count": 2
           }
          ],
          "max": "150",
          "min": "148",
          "nan_count": 0,
          "unique_count": 2
         }
        },
        {
         "dtype": "float64",
         "name": "pval",
         "stats": {
          "histogram": [
           {
            "bin_end": 0.0144,
            "bin_start": 0.001,
            "count": 4
           },
           {
            "bin_end": 0.027800000000000002,
            "bin_start": 0.0144,
            "count": 0
           },
           {
            "bin_end": 0.0412,
            "bin_start": 0.027800000000000002,
            "count": 0
           },
           {
            "bin_end": 0.0546,
            "bin_start": 0.0412,
            "count": 0
           },
           {
            "bin_end": 0.068,
            "bin_start": 0.0546,
            "count": 0
           },
           {
            "bin_end": 0.0814,
            "bin_start": 0.068,
            "count": 0
           },
           {
            "bin_end": 0.09480000000000001,
            "bin_start": 0.0814,
            "count": 0
           },
           {
            "bin_end": 0.1082,
            "bin_start": 0.09480000000000001,
            "count": 0
           },
           {
            "bin_end": 0.1216,
            "bin_start": 0.1082,
            "count": 0
           },
           {
            "bin_end": 0.135,
            "bin_start": 0.1216,
            "count": 2
           }
          ],
          "max": "0.135",
          "min": "0.001",
          "nan_count": 0,
          "unique_count": 2
         }
        },
        {
         "dtype": "object",
         "name": "CI95%",
         "stats": {
          "categories": [
           {
            "count": 1,
            "name": "[-0.05  0.22]"
           },
           {
            "count": 1,
            "name": "[0.03 0.31]"
           },
           {
            "count": 4,
            "name": "4 others"
           }
          ],
          "nan_count": 0,
          "unique_count": 6
         }
        },
        {
         "dtype": "object",
         "name": "_deepnote_index_column"
        }
       ],
       "row_count": 6,
       "rows": [
        {
         "CI95%": "[-0.05  0.22]",
         "Description": "Single raters absolute",
         "F": "1.24",
         "ICC": "0.074",
         "_deepnote_index_column": "ICC1",
         "df1": "74",
         "df2": "150",
         "pval": "0.135"
        },
        {
         "CI95%": "[0.03 0.31]",
         "Description": "Single random raters",
         "F": "1.869",
         "ICC": "0.161",
         "_deepnote_index_column": "ICC2",
         "df1": "74",
         "df2": "148",
         "pval": "0.001"
        },
        {
         "CI95%": "[0.08 0.38]",
         "Description": "Single fixed raters",
         "F": "1.869",
         "ICC": "0.225",
         "_deepnote_index_column": "ICC3",
         "df1": "74",
         "df2": "148",
         "pval": "0.001"
        },
        {
         "CI95%": "[-0.18  0.46]",
         "Description": "Average raters absolute",
         "F": "1.24",
         "ICC": "0.193",
         "_deepnote_index_column": "ICC1k",
         "df1": "74",
         "df2": "150",
         "pval": "0.135"
        },
        {
         "CI95%": "[0.08 0.57]",
         "Description": "Average random raters",
         "F": "1.869",
         "ICC": "0.366",
         "_deepnote_index_column": "ICC2k",
         "df1": "74",
         "df2": "148",
         "pval": "0.001"
        },
        {
         "CI95%": "[0.21 0.65]",
         "Description": "Average fixed raters",
         "F": "1.869",
         "ICC": "0.465",
         "_deepnote_index_column": "ICC3k",
         "df1": "74",
         "df2": "148",
         "pval": "0.001"
        }
       ]
      },
      "text/html": [
       "<div>\n",
       "<style scoped>\n",
       "    .dataframe tbody tr th:only-of-type {\n",
       "        vertical-align: middle;\n",
       "    }\n",
       "\n",
       "    .dataframe tbody tr th {\n",
       "        vertical-align: top;\n",
       "    }\n",
       "\n",
       "    .dataframe thead th {\n",
       "        text-align: right;\n",
       "    }\n",
       "</style>\n",
       "<table border=\"1\" class=\"dataframe\">\n",
       "  <thead>\n",
       "    <tr style=\"text-align: right;\">\n",
       "      <th></th>\n",
       "      <th>Description</th>\n",
       "      <th>ICC</th>\n",
       "      <th>F</th>\n",
       "      <th>df1</th>\n",
       "      <th>df2</th>\n",
       "      <th>pval</th>\n",
       "      <th>CI95%</th>\n",
       "    </tr>\n",
       "    <tr>\n",
       "      <th>Type</th>\n",
       "      <th></th>\n",
       "      <th></th>\n",
       "      <th></th>\n",
       "      <th></th>\n",
       "      <th></th>\n",
       "      <th></th>\n",
       "      <th></th>\n",
       "    </tr>\n",
       "  </thead>\n",
       "  <tbody>\n",
       "    <tr>\n",
       "      <th>ICC1</th>\n",
       "      <td>Single raters absolute</td>\n",
       "      <td>0.074</td>\n",
       "      <td>1.240</td>\n",
       "      <td>74</td>\n",
       "      <td>150</td>\n",
       "      <td>0.135</td>\n",
       "      <td>[-0.05, 0.22]</td>\n",
       "    </tr>\n",
       "    <tr>\n",
       "      <th>ICC2</th>\n",
       "      <td>Single random raters</td>\n",
       "      <td>0.161</td>\n",
       "      <td>1.869</td>\n",
       "      <td>74</td>\n",
       "      <td>148</td>\n",
       "      <td>0.001</td>\n",
       "      <td>[0.03, 0.31]</td>\n",
       "    </tr>\n",
       "    <tr>\n",
       "      <th>ICC3</th>\n",
       "      <td>Single fixed raters</td>\n",
       "      <td>0.225</td>\n",
       "      <td>1.869</td>\n",
       "      <td>74</td>\n",
       "      <td>148</td>\n",
       "      <td>0.001</td>\n",
       "      <td>[0.08, 0.38]</td>\n",
       "    </tr>\n",
       "    <tr>\n",
       "      <th>ICC1k</th>\n",
       "      <td>Average raters absolute</td>\n",
       "      <td>0.193</td>\n",
       "      <td>1.240</td>\n",
       "      <td>74</td>\n",
       "      <td>150</td>\n",
       "      <td>0.135</td>\n",
       "      <td>[-0.18, 0.46]</td>\n",
       "    </tr>\n",
       "    <tr>\n",
       "      <th>ICC2k</th>\n",
       "      <td>Average random raters</td>\n",
       "      <td>0.366</td>\n",
       "      <td>1.869</td>\n",
       "      <td>74</td>\n",
       "      <td>148</td>\n",
       "      <td>0.001</td>\n",
       "      <td>[0.08, 0.57]</td>\n",
       "    </tr>\n",
       "    <tr>\n",
       "      <th>ICC3k</th>\n",
       "      <td>Average fixed raters</td>\n",
       "      <td>0.465</td>\n",
       "      <td>1.869</td>\n",
       "      <td>74</td>\n",
       "      <td>148</td>\n",
       "      <td>0.001</td>\n",
       "      <td>[0.21, 0.65]</td>\n",
       "    </tr>\n",
       "  </tbody>\n",
       "</table>\n",
       "</div>"
      ],
      "text/plain": [
       "                   Description    ICC      F  df1  df2   pval          CI95%\n",
       "Type                                                                        \n",
       "ICC1    Single raters absolute  0.074  1.240   74  150  0.135  [-0.05, 0.22]\n",
       "ICC2      Single random raters  0.161  1.869   74  148  0.001   [0.03, 0.31]\n",
       "ICC3       Single fixed raters  0.225  1.869   74  148  0.001   [0.08, 0.38]\n",
       "ICC1k  Average raters absolute  0.193  1.240   74  150  0.135  [-0.18, 0.46]\n",
       "ICC2k    Average random raters  0.366  1.869   74  148  0.001   [0.08, 0.57]\n",
       "ICC3k     Average fixed raters  0.465  1.869   74  148  0.001   [0.21, 0.65]"
      ]
     },
     "execution_count": 28,
     "metadata": {},
     "output_type": "execute_result"
    }
   ],
   "source": [
    "### Combine query text and listing url into a unique wine, then rate\n",
    "\n",
    "df_ratings_icc_combined = df_ratings[['Query text','listing_url', 'rater_1_combined', 'rater_2_combined', 'rater_3_combined']].copy()\n",
    "df_ratings_icc_combined['search_result_item'] = df_ratings_icc_combined['Query text'].astype(str) +\"-\"+ df_ratings_icc_combined['listing_url']\n",
    "\n",
    "# Our ratings are 1 to 5, but some are decimal such as 4.5, convert to int\n",
    "df_ratings_icc_combined['rater_1_combined'] = df_ratings_icc_combined['rater_1_combined'].apply(lambda x: x*10)\n",
    "df_ratings_icc_combined['rater_2_combined'] = df_ratings_icc_combined['rater_2_combined'].apply(lambda x: x*10)\n",
    "df_ratings_icc_combined['rater_3_combined'] = df_ratings_icc_combined['rater_3_combined'].apply(lambda x: x*10)\n",
    "\n",
    "df_ratings_icc_combined['rater_1_combined'] = df_ratings_icc_combined['rater_1_combined'].astype('int64')\n",
    "df_ratings_icc_combined['rater_2_combined'] = df_ratings_icc_combined['rater_2_combined'].astype('int64')\n",
    "df_ratings_icc_combined['rater_3_combined'] = df_ratings_icc_combined['rater_3_combined'].astype('int64')\n",
    "\n",
    "# Get the columns we need: item being rated, and the rater's ratings\n",
    "df = df_ratings_icc_combined[['search_result_item','rater_1_combined', 'rater_2_combined', 'rater_3_combined']]\n",
    "df_ratings_icc_combined = df.copy()\n",
    "df_ratings_icc_combined.reset_index(drop=True, inplace=True)\n",
    "df_ratings_icc_combined = pd.melt(df_ratings_icc_combined, id_vars=['search_result_item'], \n",
    "                         value_vars=['rater_1_combined', 'rater_2_combined', 'rater_3_combined'])\n",
    "\n",
    "# Calculate the ICC\n",
    "icc = pg.intraclass_corr(data=df_ratings_icc_combined, \n",
    "                         targets='search_result_item', \n",
    "                         raters='variable',\n",
    "                         ratings='value').round(3)\n",
    "icc.set_index(\"Type\")\n",
    "\n",
    "# 0.074 to 0.465 without multiplying\n",
    "# same with multiplying"
   ]
  },
  {
   "cell_type": "markdown",
   "metadata": {
    "cell_id": "279793659d2548b597c301ffe6219751",
    "deepnote_cell_type": "markdown"
   },
   "source": [
    "#### Interpretation"
   ]
  },
  {
   "cell_type": "markdown",
   "metadata": {
    "cell_id": "bb38cbdfa1e34a44939420c70406df82",
    "deepnote_cell_type": "markdown",
    "id": "wXY4XpV1B-uI"
   },
   "source": [
    "There are a [few types of ICC as noted here in Wikipedia](https://en.wikipedia.org/wiki/Intraclass_correlation). In our case we're focusing on ICC3k which is did the judges rate similar items low and high, which again per Wikipedia:\n",
    "\n",
    "*   Two-way mixed: k fixed raters are defined. Each subject is measured by the k raters.\n",
    "*   Average measures: the reliability is applied to a context where measures of k raters will be averaged for each subject\n",
    "*   Consistency: in the context of repeated measurements by the same rater, systematic errors of the rater are canceled and only the random residual error is kept. (e.g. did the judges rate similar subjects low and high? [link](https://www.statology.org/intraclass-correlation-coefficient/))\n",
    "\n",
    "\n",
    "To interpret the ICC, there are a couple of scales. Per Wikipedia page above:\n",
    "\n",
    "*    Cicchetti scale:\n",
    "\n",
    "     *    Less than 0.40—poor.\n",
    "     *    Between 0.40 and 0.59—fair.\n",
    "     *    Between 0.60 and 0.74—good.\n",
    "     *    Between 0.75 and 1.00—excellent.\n",
    "\n",
    "*    Koo and Li scale:\n",
    "\n",
    "     *    below 0.50: poor\n",
    "     *    between 0.50 and 0.75: moderate\n",
    "     *    between 0.75 and 0.90: good\n",
    "     *    above 0.90: excellent\n",
    "\n",
    "Our scores for ICC3k are as follows. First we look at the Text-only search engine results:\n",
    "\n",
    "*    Text-only Based Search Results: \n",
    "     *    Score: 0.536\n",
    "     *    Confidence Interval (95%): [0.32, 0.69]\n",
    "\n",
    "On the Cicchetti scale we see that our raters's inter-agreement is Text-only \"fair\" and the confidence interval (CI) on the low end of 0.32 would put it into the \"poor\" range while the high end of (CI) would put it into the \"good\" range.\n",
    "\n",
    "On the Koo and Li scale looks like our raters's inter-agreement is \"moderate\" but on the low side of the CI would be \"poor\"\n",
    "\n",
    "Next is the raters's inter-agreement results for the Combined Search engine:\n",
    "\n",
    "*    Combined Search Results:\n",
    "     *    Score: 0.465\n",
    "     *    Confidence Interval (95%): [0.21, 0.65]\n",
    "\n",
    "On the Cicchetti score raters's inter-agreement still in the \"fair\" zone and similarly the confidence interval it ranges from \"poor\" to \"good\". On the Koo and Li scale it dips to the \"poor\" zone. \n",
    "\n",
    "\n",
    "\n",
    "\n"
   ]
  },
  {
   "cell_type": "markdown",
   "metadata": {
    "created_in_deepnote_cell": true,
    "deepnote_cell_type": "markdown"
   },
   "source": [
    "<a style='text-decoration:none;line-height:16px;display:flex;color:#5B5B62;padding:10px;justify-content:end;' href='https://deepnote.com?utm_source=created-in-deepnote-cell&projectId=f2a50dc6-ff6a-45ff-9dbe-d7a35bd1e393' target=\"_blank\">\n",
    "<img alt='Created in deepnote.com' style='display:inline;max-height:16px;margin:0px;margin-right:7.5px;' src='data:image/svg+xml;base64,PD94bWwgdmVyc2lvbj0iMS4wIiBlbmNvZGluZz0iVVRGLTgiPz4KPHN2ZyB3aWR0aD0iODBweCIgaGVpZ2h0PSI4MHB4IiB2aWV3Qm94PSIwIDAgODAgODAiIHZlcnNpb249IjEuMSIgeG1sbnM9Imh0dHA6Ly93d3cudzMub3JnLzIwMDAvc3ZnIiB4bWxuczp4bGluaz0iaHR0cDovL3d3dy53My5vcmcvMTk5OS94bGluayI+CiAgICA8IS0tIEdlbmVyYXRvcjogU2tldGNoIDU0LjEgKDc2NDkwKSAtIGh0dHBzOi8vc2tldGNoYXBwLmNvbSAtLT4KICAgIDx0aXRsZT5Hcm91cCAzPC90aXRsZT4KICAgIDxkZXNjPkNyZWF0ZWQgd2l0aCBTa2V0Y2guPC9kZXNjPgogICAgPGcgaWQ9IkxhbmRpbmciIHN0cm9rZT0ibm9uZSIgc3Ryb2tlLXdpZHRoPSIxIiBmaWxsPSJub25lIiBmaWxsLXJ1bGU9ImV2ZW5vZGQiPgogICAgICAgIDxnIGlkPSJBcnRib2FyZCIgdHJhbnNmb3JtPSJ0cmFuc2xhdGUoLTEyMzUuMDAwMDAwLCAtNzkuMDAwMDAwKSI+CiAgICAgICAgICAgIDxnIGlkPSJHcm91cC0zIiB0cmFuc2Zvcm09InRyYW5zbGF0ZSgxMjM1LjAwMDAwMCwgNzkuMDAwMDAwKSI+CiAgICAgICAgICAgICAgICA8cG9seWdvbiBpZD0iUGF0aC0yMCIgZmlsbD0iIzAyNjVCNCIgcG9pbnRzPSIyLjM3NjIzNzYyIDgwIDM4LjA0NzY2NjcgODAgNTcuODIxNzgyMiA3My44MDU3NTkyIDU3LjgyMTc4MjIgMzIuNzU5MjczOSAzOS4xNDAyMjc4IDMxLjY4MzE2ODMiPjwvcG9seWdvbj4KICAgICAgICAgICAgICAgIDxwYXRoIGQ9Ik0zNS4wMDc3MTgsODAgQzQyLjkwNjIwMDcsNzYuNDU0OTM1OCA0Ny41NjQ5MTY3LDcxLjU0MjI2NzEgNDguOTgzODY2LDY1LjI2MTk5MzkgQzUxLjExMjI4OTksNTUuODQxNTg0MiA0MS42NzcxNzk1LDQ5LjIxMjIyODQgMjUuNjIzOTg0Niw0OS4yMTIyMjg0IEMyNS40ODQ5Mjg5LDQ5LjEyNjg0NDggMjkuODI2MTI5Niw0My4yODM4MjQ4IDM4LjY0NzU4NjksMzEuNjgzMTY4MyBMNzIuODcxMjg3MSwzMi41NTQ0MjUgTDY1LjI4MDk3Myw2Ny42NzYzNDIxIEw1MS4xMTIyODk5LDc3LjM3NjE0NCBMMzUuMDA3NzE4LDgwIFoiIGlkPSJQYXRoLTIyIiBmaWxsPSIjMDAyODY4Ij48L3BhdGg+CiAgICAgICAgICAgICAgICA8cGF0aCBkPSJNMCwzNy43MzA0NDA1IEwyNy4xMTQ1MzcsMC4yNTcxMTE0MzYgQzYyLjM3MTUxMjMsLTEuOTkwNzE3MDEgODAsMTAuNTAwMzkyNyA4MCwzNy43MzA0NDA1IEM4MCw2NC45NjA0ODgyIDY0Ljc3NjUwMzgsNzkuMDUwMzQxNCAzNC4zMjk1MTEzLDgwIEM0Ny4wNTUzNDg5LDc3LjU2NzA4MDggNTMuNDE4MjY3Nyw3MC4zMTM2MTAzIDUzLjQxODI2NzcsNTguMjM5NTg4NSBDNTMuNDE4MjY3Nyw0MC4xMjg1NTU3IDM2LjMwMzk1NDQsMzcuNzMwNDQwNSAyNS4yMjc0MTcsMzcuNzMwNDQwNSBDMTcuODQzMDU4NiwzNy43MzA0NDA1IDkuNDMzOTE5NjYsMzcuNzMwNDQwNSAwLDM3LjczMDQ0MDUgWiIgaWQ9IlBhdGgtMTkiIGZpbGw9IiMzNzkzRUYiPjwvcGF0aD4KICAgICAgICAgICAgPC9nPgogICAgICAgIDwvZz4KICAgIDwvZz4KPC9zdmc+' > </img>\n",
    "Created in <span style='font-weight:600;margin-left:4px;'>Deepnote</span></a>"
   ]
  }
 ],
 "metadata": {
  "colab": {
   "collapsed_sections": [
    "-7QdyZbLoQz8",
    "YQyW6r03vbxA",
    "Wadf30lnwixC",
    "AruwWyTyL3oD",
    "euG9wJfbLLRb"
   ],
   "provenance": []
  },
  "deepnote": {},
  "deepnote_execution_queue": [],
  "deepnote_notebook_id": "0bffcedfeeb0486aa086c3fb73fb19e8",
  "deepnote_persisted_session": {
   "createdAt": "2023-04-18T21:46:11.703Z"
  },
  "kernelspec": {
   "display_name": "Python 3",
   "language": "python",
   "name": "python3"
  },
  "language_info": {
   "codemirror_mode": {
    "name": "ipython",
    "version": 3
   },
   "file_extension": ".py",
   "mimetype": "text/x-python",
   "name": "python",
   "nbconvert_exporter": "python",
   "pygments_lexer": "ipython3",
   "version": "3.8.3"
  }
 },
 "nbformat": 4,
 "nbformat_minor": 1
}
