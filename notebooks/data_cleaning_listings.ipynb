{
 "cells": [
  {
   "cell_type": "markdown",
   "metadata": {
    "cell_id": "2a9b3ebe933f4e168bf4933d20658a34",
    "deepnote_cell_type": "markdown"
   },
   "source": [
    "## Clean listings dataset"
   ]
  },
  {
   "cell_type": "markdown",
   "metadata": {
    "cell_id": "fa002e5de34b41cabb289509391b9bbc",
    "deepnote_cell_type": "markdown"
   },
   "source": [
    "### Framwork:\n",
    "0. Import listings dataset\n",
    "1. Prepare training and holdout datasets\n",
    "2. Explore raw listings dataset\n",
    "3. Clean raw listings dataset\n",
    "4. Wrap data cleaning using functions "
   ]
  },
  {
   "cell_type": "markdown",
   "metadata": {
    "cell_id": "db6a710b3f0f4e8c9bcfcf82d128517a",
    "deepnote_cell_type": "markdown"
   },
   "source": [
    "## 0. Import listings dataset"
   ]
  },
  {
   "cell_type": "code",
   "execution_count": 1,
   "metadata": {
    "cell_id": "06f14acc8e7049dc926f5f1e66bbd545",
    "deepnote_cell_type": "code",
    "deepnote_to_be_reexecuted": false,
    "execution_millis": 1287,
    "execution_start": 1678774750904,
    "source_hash": "d02678eb"
   },
   "outputs": [],
   "source": [
    "import pandas as pd\n",
    "import numpy as np\n",
    "import seaborn as sns\n",
    "import json\n",
    "import matplotlib.pyplot as plt\n",
    "\n",
    "import warnings\n",
    "warnings.filterwarnings('ignore')\n",
    "\n",
    "from tqdm.notebook import tqdm\n",
    "from langdetect import detect\n",
    "\n",
    "pd.set_option('display.max_columns', 100)\n",
    "\n",
    "RANDOM_STATE= 42"
   ]
  },
  {
   "cell_type": "code",
   "execution_count": 2,
   "metadata": {
    "cell_id": "0a5cd4da02074f2880f105f475636b23",
    "deepnote_cell_type": "code",
    "deepnote_to_be_reexecuted": false,
    "execution_millis": 455,
    "execution_start": 1678774752195,
    "source_hash": "452aebb9"
   },
   "outputs": [],
   "source": [
    "listing_df_raw = pd.read_csv('../data/data_raw/listings.csv.gz', compression='gzip')"
   ]
  },
  {
   "cell_type": "markdown",
   "metadata": {
    "cell_id": "9d3579b4392b4bed86a346a130ad5e5b",
    "deepnote_cell_type": "markdown"
   },
   "source": [
    "## 1. Prepare training and holdout datasets \n",
    "\n",
    "To avoid **data leakage**, we separate the listings dataset first then do data cleaning to avoid filling nan values with calculated imputation. We will do the same cleaning for the holdout dataset when we use it."
   ]
  },
  {
   "cell_type": "markdown",
   "metadata": {
    "cell_id": "61668077248d46499164c9c00e3df257",
    "deepnote_cell_type": "markdown"
   },
   "source": [
    "Randomly select 80% of the raw listings dataset as the training dataset, and the rest as the holdout dataset."
   ]
  },
  {
   "cell_type": "code",
   "execution_count": 3,
   "metadata": {
    "cell_id": "08326940dffb4f8587c7c15b5c6c0ba7",
    "deepnote_cell_type": "code",
    "deepnote_to_be_reexecuted": false,
    "execution_millis": 6,
    "execution_start": 1678774752656,
    "source_hash": "5807b0bd"
   },
   "outputs": [
    {
     "name": "stdout",
     "output_type": "stream",
     "text": [
      "(4933, 75) (1233, 75)\n"
     ]
    }
   ],
   "source": [
    "# split data into training and holdout datasets with a ratio of 8:2\n",
    "listing_train = listing_df_raw.sample(frac=0.8, random_state = RANDOM_STATE)\n",
    "listing_holdout = listing_df_raw.loc[~listing_df_raw.index.isin(listing_train.index)]\n",
    "listing_train.reset_index(drop=True, inplace=True)\n",
    "listing_holdout.reset_index(drop=True, inplace=True)\n",
    "print(listing_train.shape, listing_holdout.shape)"
   ]
  },
  {
   "cell_type": "code",
   "execution_count": 4,
   "metadata": {
    "cell_id": "2bac07f49f764ca6b85da9492b985589",
    "deepnote_cell_type": "code",
    "deepnote_to_be_reexecuted": false,
    "execution_millis": 990,
    "execution_start": 1678774752664,
    "source_hash": "ce95a371"
   },
   "outputs": [],
   "source": [
    "# save the training and holdout listing datasets\n",
    "listing_train.to_pickle('../data/data_cleaned/listing_train.zip')\n",
    "listing_holdout.to_pickle('../data/data_cleaned/listing_holdout.zip')"
   ]
  },
  {
   "cell_type": "markdown",
   "metadata": {
    "cell_id": "485e0cdaac3b4103b515fddb0e9740de",
    "deepnote_cell_type": "markdown"
   },
   "source": [
    "## 2. Explore raw listings dataset"
   ]
  },
  {
   "cell_type": "markdown",
   "metadata": {
    "cell_id": "d78c0ed5bbb3425db13f271b292fb6c6",
    "deepnote_cell_type": "markdown"
   },
   "source": [
    "First, let's explore the raw Seattle Airbnb listings dataset downloaded from Inside Airbnb."
   ]
  },
  {
   "cell_type": "code",
   "execution_count": 5,
   "metadata": {
    "cell_id": "75bda8f496f345ca85b49fe11bad9a18",
    "deepnote_cell_type": "code",
    "deepnote_to_be_reexecuted": false,
    "execution_millis": 3,
    "execution_start": 1678774753660,
    "source_hash": "d3563123"
   },
   "outputs": [
    {
     "data": {
      "text/plain": [
       "(4933, 75)"
      ]
     },
     "execution_count": 5,
     "metadata": {},
     "output_type": "execute_result"
    }
   ],
   "source": [
    "listing_train.shape"
   ]
  },
  {
   "cell_type": "code",
   "execution_count": 6,
   "metadata": {
    "cell_id": "58e9dd0a17ba4093b13f7d0945b5c50b",
    "deepnote_cell_type": "code",
    "deepnote_to_be_reexecuted": false,
    "execution_millis": 208,
    "execution_start": 1678774753667,
    "source_hash": "9a9f2efb"
   },
   "outputs": [
    {
     "data": {
      "application/vnd.deepnote.dataframe.v3+json": {
       "column_count": 75,
       "columns": [
        {
         "dtype": "int64",
         "name": "id",
         "stats": {
          "histogram": [
           {
            "bin_end": 11621631.4,
            "bin_start": 7455832,
            "count": 1
           },
           {
            "bin_end": 15787430.8,
            "bin_start": 11621631.4,
            "count": 0
           },
           {
            "bin_end": 19953230.2,
            "bin_start": 15787430.8,
            "count": 0
           },
           {
            "bin_end": 24119029.6,
            "bin_start": 19953230.2,
            "count": 0
           },
           {
            "bin_end": 28284829,
            "bin_start": 24119029.6,
            "count": 0
           },
           {
            "bin_end": 32450628.4,
            "bin_start": 28284829,
            "count": 0
           },
           {
            "bin_end": 36616427.8,
            "bin_start": 32450628.4,
            "count": 0
           },
           {
            "bin_end": 40782227.2,
            "bin_start": 36616427.8,
            "count": 0
           },
           {
            "bin_end": 44948026.6,
            "bin_start": 40782227.2,
            "count": 0
           },
           {
            "bin_end": 49113826,
            "bin_start": 44948026.6,
            "count": 1
           }
          ],
          "max": "49113826",
          "min": "7455832",
          "nan_count": 0,
          "unique_count": 2
         }
        },
        {
         "dtype": "object",
         "name": "listing_url",
         "stats": {
          "categories": [
           {
            "count": 1,
            "name": "https://www.airbnb.com/rooms/49113826"
           },
           {
            "count": 1,
            "name": "https://www.airbnb.com/rooms/7455832"
           }
          ],
          "nan_count": 0,
          "unique_count": 2
         }
        },
        {
         "dtype": "int64",
         "name": "scrape_id",
         "stats": {
          "histogram": [
           {
            "bin_end": 20221224045324.6,
            "bin_start": 20221224045324.5,
            "count": 0
           },
           {
            "bin_end": 20221224045324.7,
            "bin_start": 20221224045324.6,
            "count": 0
           },
           {
            "bin_end": 20221224045324.8,
            "bin_start": 20221224045324.7,
            "count": 0
           },
           {
            "bin_end": 20221224045324.9,
            "bin_start": 20221224045324.8,
            "count": 0
           },
           {
            "bin_end": 20221224045325,
            "bin_start": 20221224045324.9,
            "count": 0
           },
           {
            "bin_end": 20221224045325.1,
            "bin_start": 20221224045325,
            "count": 2
           },
           {
            "bin_end": 20221224045325.2,
            "bin_start": 20221224045325.1,
            "count": 0
           },
           {
            "bin_end": 20221224045325.3,
            "bin_start": 20221224045325.2,
            "count": 0
           },
           {
            "bin_end": 20221224045325.4,
            "bin_start": 20221224045325.3,
            "count": 0
           },
           {
            "bin_end": 20221224045325.5,
            "bin_start": 20221224045325.4,
            "count": 0
           }
          ],
          "max": "20221224045325",
          "min": "20221224045325",
          "nan_count": 0,
          "unique_count": 1
         }
        },
        {
         "dtype": "object",
         "name": "last_scraped",
         "stats": {
          "categories": [
           {
            "count": 2,
            "name": "2022-12-24"
           }
          ],
          "nan_count": 0,
          "unique_count": 1
         }
        },
        {
         "dtype": "object",
         "name": "source",
         "stats": {
          "categories": [
           {
            "count": 2,
            "name": "city scrape"
           }
          ],
          "nan_count": 0,
          "unique_count": 1
         }
        },
        {
         "dtype": "object",
         "name": "name",
         "stats": {
          "categories": [
           {
            "count": 1,
            "name": "Private Seattle Getaway Home Near Lake Washington!"
           },
           {
            "count": 1,
            "name": "Classic remodeled in Georgetown"
           }
          ],
          "nan_count": 0,
          "unique_count": 2
         }
        },
        {
         "dtype": "object",
         "name": "description",
         "stats": {
          "categories": [
           {
            "count": 1,
            "name": "A Seattle vacation destination for those from out of town or a Staycation for those who live close by. We welcome you to this partial lake view gated family friendly home with 4 bedrooms, 2 bathrooms. A beautiful & serene creek flows through the front of the home. There is a fully functioning kitchen with appliances & utensils.  & laundry room. Only a few mins walk to Lakeridge playfield just behind the house! 15 min drive to SeaTac International Airport and 25 min drive to downtown Seattle.<br /><br /><b>The space</b><br />Smart lock for easy check in and Xfinity Home Security Alarm for your protection and peace of mind. There are a few steps leading into the home. There is one security camera at the house facing the front entrance and driveway. The front driveway can fit 6 cars.<br /><br />Bed Arrangements: <br /><br />Lower levels: 2 bedrooms, 1 bathroom<br />Room #1: One Queen bed (sleeps 2)<br />Room #4: One Queen bed (sleeps 2)<br /><br />Upper level: 2 bedrooms, 1 bathroom<br />"
           },
           {
            "count": 1,
            "name": "Enjoy your Seattle stay in the vibrant & artistic Georgetown neighborhood! Georgetown is truly one of the last artsy, funky neighborhoods left in Seattle - you will be a five minute walk from the many restaurants, bars, wine tasting rooms & more in the \"downtown\" Georgetown neighborhood. It's also kid friendly as you will see many families out and pushing strollers around.<br /><br />The neighborhood is located a few miles south of the downtown Seattle core.<br /><br /><b>The space</b><br />This is the top unit of a completely remodeled craftsman (if bottom unit is available you can rent the whole house and have 6 beds & 4 baths!)<br /><br />This unit has the classic craftsman feel, but it has been completely remodeled with some modern touches!<br /><br /><b>Guest access</b><br />Obviously you have access to the entire unit - there is a lower unit of the house that may be rented too, so you will need to be respectful of other guests. The front yard and side yards are also yours to enjo"
           }
          ],
          "nan_count": 0,
          "unique_count": 2
         }
        },
        {
         "dtype": "object",
         "name": "neighborhood_overview",
         "stats": {
          "categories": [
           {
            "count": 1,
            "name": "SeaTac International Airport: 14 min drive<br /><br />Grocery Stores nearby:<br />- Safeway & Rite Aid: 5 min drive<br />- Walgreens: 6 min drive<br />- Walmart & Fred Meyer: 9 min drive<br />- Uwajimaya: 10 min drive<br /><br />Dining nearby:<br />- Pizzeria Pulcinella: 2 min walk<br />- Stonehouse Cafe: 10 min walk<br />- The Landing (popular outdoor retail & restaurant area): 10 min drive<br /><br />Activities nearby:<br />- Lakeridge Playground: 2 min walk<br />- Downtown Renton: 10 min drive<br />- Southcenter Mall (large shopping mall): 14 min drive<br />- Round 1 (arcade, bowling, pool) inside Southcenter: 14 min drive<br />- iFly (mock sky diving): 15 min drive<br />- Downtown Seattle & Pike Place Market: 25 min drive"
           },
           {
            "count": 1,
            "name": "Georgetown is a cool neighborhood about three miles south of Seattle. Formerly an industrial area filled with warehouses, Georgetown has gone from shabby to chic, from industrial to artsy. Today, the neighborhood is a great place to find trendy restaurants, breweries, and art galleries."
           }
          ],
          "nan_count": 0,
          "unique_count": 2
         }
        },
        {
         "dtype": "object",
         "name": "picture_url",
         "stats": {
          "categories": [
           {
            "count": 1,
            "name": "https://a0.muscache.com/pictures/miso/Hosting-49113826/original/29c08a31-b625-4e8f-bbc6-93e7994fef05.jpeg"
           },
           {
            "count": 1,
            "name": "https://a0.muscache.com/pictures/miso/Hosting-7455832/original/87dcaee3-d543-440c-8cf0-19ac171d7200.jpeg"
           }
          ],
          "nan_count": 0,
          "unique_count": 2
         }
        },
        {
         "dtype": "int64",
         "name": "host_id",
         "stats": {
          "histogram": [
           {
            "bin_end": 20784291.1,
            "bin_start": 2144954,
            "count": 1
           },
           {
            "bin_end": 39423628.2,
            "bin_start": 20784291.1,
            "count": 0
           },
           {
            "bin_end": 58062965.300000004,
            "bin_start": 39423628.2,
            "count": 0
           },
           {
            "bin_end": 76702302.4,
            "bin_start": 58062965.300000004,
            "count": 0
           },
           {
            "bin_end": 95341639.5,
            "bin_start": 76702302.4,
            "count": 0
           },
           {
            "bin_end": 113980976.60000001,
            "bin_start": 95341639.5,
            "count": 0
           },
           {
            "bin_end": 132620313.70000002,
            "bin_start": 113980976.60000001,
            "count": 0
           },
           {
            "bin_end": 151259650.8,
            "bin_start": 132620313.70000002,
            "count": 0
           },
           {
            "bin_end": 169898987.9,
            "bin_start": 151259650.8,
            "count": 0
           },
           {
            "bin_end": 188538325,
            "bin_start": 169898987.9,
            "count": 1
           }
          ],
          "max": "188538325",
          "min": "2144954",
          "nan_count": 0,
          "unique_count": 2
         }
        },
        {
         "dtype": "object",
         "name": "host_url",
         "stats": {
          "categories": [
           {
            "count": 1,
            "name": "https://www.airbnb.com/users/show/188538325"
           },
           {
            "count": 1,
            "name": "https://www.airbnb.com/users/show/2144954"
           }
          ],
          "nan_count": 0,
          "unique_count": 2
         }
        },
        {
         "dtype": "object",
         "name": "host_name",
         "stats": {
          "categories": [
           {
            "count": 1,
            "name": "Xiao"
           },
           {
            "count": 1,
            "name": "Ryan"
           }
          ],
          "nan_count": 0,
          "unique_count": 2
         }
        },
        {
         "dtype": "object",
         "name": "host_since",
         "stats": {
          "categories": [
           {
            "count": 1,
            "name": "2018-05-08"
           },
           {
            "count": 1,
            "name": "2012-04-15"
           }
          ],
          "nan_count": 0,
          "unique_count": 2
         }
        },
        {
         "dtype": "object",
         "name": "host_location",
         "stats": {
          "categories": [
           {
            "count": 2,
            "name": "Seattle, WA"
           }
          ],
          "nan_count": 0,
          "unique_count": 1
         }
        },
        {
         "dtype": "object",
         "name": "host_about",
         "stats": {
          "categories": [
           {
            "count": 2,
            "name": "Missing"
           }
          ],
          "nan_count": 2,
          "unique_count": 0
         }
        },
        {
         "dtype": "object",
         "name": "host_response_time",
         "stats": {
          "categories": [
           {
            "count": 2,
            "name": "within an hour"
           }
          ],
          "nan_count": 0,
          "unique_count": 1
         }
        },
        {
         "dtype": "object",
         "name": "host_response_rate",
         "stats": {
          "categories": [
           {
            "count": 2,
            "name": "100%"
           }
          ],
          "nan_count": 0,
          "unique_count": 1
         }
        },
        {
         "dtype": "object",
         "name": "host_acceptance_rate",
         "stats": {
          "categories": [
           {
            "count": 2,
            "name": "100%"
           }
          ],
          "nan_count": 0,
          "unique_count": 1
         }
        },
        {
         "dtype": "object",
         "name": "host_is_superhost",
         "stats": {
          "categories": [
           {
            "count": 1,
            "name": "t"
           },
           {
            "count": 1,
            "name": "f"
           }
          ],
          "nan_count": 0,
          "unique_count": 2
         }
        },
        {
         "dtype": "object",
         "name": "host_thumbnail_url",
         "stats": {
          "categories": [
           {
            "count": 1,
            "name": "https://a0.muscache.com/im/pictures/user/32fd3116-b515-46d9-8048-d5773e1bac5a.jpg?aki_policy=profile_small"
           },
           {
            "count": 1,
            "name": "https://a0.muscache.com/im/pictures/user/a671129c-f502-4968-85ef-7ef088d81ab3.jpg?aki_policy=profile_small"
           }
          ],
          "nan_count": 0,
          "unique_count": 2
         }
        },
        {
         "dtype": "object",
         "name": "host_picture_url",
         "stats": {
          "categories": [
           {
            "count": 1,
            "name": "https://a0.muscache.com/im/pictures/user/32fd3116-b515-46d9-8048-d5773e1bac5a.jpg?aki_policy=profile_x_medium"
           },
           {
            "count": 1,
            "name": "https://a0.muscache.com/im/pictures/user/a671129c-f502-4968-85ef-7ef088d81ab3.jpg?aki_policy=profile_x_medium"
           }
          ],
          "nan_count": 0,
          "unique_count": 2
         }
        },
        {
         "dtype": "object",
         "name": "host_neighbourhood",
         "stats": {
          "categories": [
           {
            "count": 1,
            "name": "Oakland"
           },
           {
            "count": 1,
            "name": "Greater Duwamish"
           }
          ],
          "nan_count": 0,
          "unique_count": 2
         }
        },
        {
         "dtype": "int64",
         "name": "host_listings_count",
         "stats": {
          "histogram": [
           {
            "bin_end": 2.2,
            "bin_start": 2,
            "count": 1
           },
           {
            "bin_end": 2.4,
            "bin_start": 2.2,
            "count": 0
           },
           {
            "bin_end": 2.6,
            "bin_start": 2.4,
            "count": 0
           },
           {
            "bin_end": 2.8,
            "bin_start": 2.6,
            "count": 0
           },
           {
            "bin_end": 3,
            "bin_start": 2.8,
            "count": 0
           },
           {
            "bin_end": 3.2,
            "bin_start": 3,
            "count": 0
           },
           {
            "bin_end": 3.4000000000000004,
            "bin_start": 3.2,
            "count": 0
           },
           {
            "bin_end": 3.6,
            "bin_start": 3.4000000000000004,
            "count": 0
           },
           {
            "bin_end": 3.8,
            "bin_start": 3.6,
            "count": 0
           },
           {
            "bin_end": 4,
            "bin_start": 3.8,
            "count": 1
           }
          ],
          "max": "4",
          "min": "2",
          "nan_count": 0,
          "unique_count": 2
         }
        },
        {
         "dtype": "int64",
         "name": "host_total_listings_count",
         "stats": {
          "histogram": [
           {
            "bin_end": 2.2,
            "bin_start": 2,
            "count": 1
           },
           {
            "bin_end": 2.4,
            "bin_start": 2.2,
            "count": 0
           },
           {
            "bin_end": 2.6,
            "bin_start": 2.4,
            "count": 0
           },
           {
            "bin_end": 2.8,
            "bin_start": 2.6,
            "count": 0
           },
           {
            "bin_end": 3,
            "bin_start": 2.8,
            "count": 0
           },
           {
            "bin_end": 3.2,
            "bin_start": 3,
            "count": 0
           },
           {
            "bin_end": 3.4000000000000004,
            "bin_start": 3.2,
            "count": 0
           },
           {
            "bin_end": 3.6,
            "bin_start": 3.4000000000000004,
            "count": 0
           },
           {
            "bin_end": 3.8,
            "bin_start": 3.6,
            "count": 0
           },
           {
            "bin_end": 4,
            "bin_start": 3.8,
            "count": 1
           }
          ],
          "max": "4",
          "min": "2",
          "nan_count": 0,
          "unique_count": 2
         }
        },
        {
         "dtype": "object",
         "name": "host_verifications",
         "stats": {
          "categories": [
           {
            "count": 1,
            "name": "['email', 'phone']"
           },
           {
            "count": 1,
            "name": "['email', 'phone', 'work_email']"
           }
          ],
          "nan_count": 0,
          "unique_count": 2
         }
        },
        {
         "dtype": "object",
         "name": "host_has_profile_pic",
         "stats": {
          "categories": [
           {
            "count": 2,
            "name": "t"
           }
          ],
          "nan_count": 0,
          "unique_count": 1
         }
        },
        {
         "dtype": "object",
         "name": "host_identity_verified",
         "stats": {
          "categories": [
           {
            "count": 1,
            "name": "t"
           },
           {
            "count": 1,
            "name": "f"
           }
          ],
          "nan_count": 0,
          "unique_count": 2
         }
        },
        {
         "dtype": "object",
         "name": "neighbourhood",
         "stats": {
          "categories": [
           {
            "count": 2,
            "name": "Seattle, Washington, United States"
           }
          ],
          "nan_count": 0,
          "unique_count": 1
         }
        },
        {
         "dtype": "object",
         "name": "neighbourhood_cleansed",
         "stats": {
          "categories": [
           {
            "count": 1,
            "name": "Rainier View"
           },
           {
            "count": 1,
            "name": "Georgetown"
           }
          ],
          "nan_count": 0,
          "unique_count": 2
         }
        },
        {
         "dtype": "object",
         "name": "neighbourhood_group_cleansed",
         "stats": {
          "categories": [
           {
            "count": 1,
            "name": "Rainier Valley"
           },
           {
            "count": 1,
            "name": "Other neighborhoods"
           }
          ],
          "nan_count": 0,
          "unique_count": 2
         }
        },
        {
         "dtype": "float64",
         "name": "latitude",
         "stats": {
          "histogram": [
           {
            "bin_end": 47.513725900000004,
            "bin_start": 47.51028,
            "count": 1
           },
           {
            "bin_end": 47.5171718,
            "bin_start": 47.513725900000004,
            "count": 0
           },
           {
            "bin_end": 47.5206177,
            "bin_start": 47.5171718,
            "count": 0
           },
           {
            "bin_end": 47.5240636,
            "bin_start": 47.5206177,
            "count": 0
           },
           {
            "bin_end": 47.5275095,
            "bin_start": 47.5240636,
            "count": 0
           },
           {
            "bin_end": 47.5309554,
            "bin_start": 47.5275095,
            "count": 0
           },
           {
            "bin_end": 47.5344013,
            "bin_start": 47.5309554,
            "count": 0
           },
           {
            "bin_end": 47.5378472,
            "bin_start": 47.5344013,
            "count": 0
           },
           {
            "bin_end": 47.5412931,
            "bin_start": 47.5378472,
            "count": 0
           },
           {
            "bin_end": 47.544739,
            "bin_start": 47.5412931,
            "count": 1
           }
          ],
          "max": "47.544739",
          "min": "47.51028",
          "nan_count": 0,
          "unique_count": 2
         }
        },
        {
         "dtype": "float64",
         "name": "longitude",
         "stats": {
          "histogram": [
           {
            "bin_end": -122.3124754,
            "bin_start": -122.319786,
            "count": 1
           },
           {
            "bin_end": -122.3051648,
            "bin_start": -122.3124754,
            "count": 0
           },
           {
            "bin_end": -122.29785419999999,
            "bin_start": -122.3051648,
            "count": 0
           },
           {
            "bin_end": -122.29054359999999,
            "bin_start": -122.29785419999999,
            "count": 0
           },
           {
            "bin_end": -122.283233,
            "bin_start": -122.29054359999999,
            "count": 0
           },
           {
            "bin_end": -122.2759224,
            "bin_start": -122.283233,
            "count": 0
           },
           {
            "bin_end": -122.2686118,
            "bin_start": -122.2759224,
            "count": 0
           },
           {
            "bin_end": -122.26130119999999,
            "bin_start": -122.2686118,
            "count": 0
           },
           {
            "bin_end": -122.2539906,
            "bin_start": -122.26130119999999,
            "count": 0
           },
           {
            "bin_end": -122.24668,
            "bin_start": -122.2539906,
            "count": 1
           }
          ],
          "max": "-122.24668",
          "min": "-122.319786",
          "nan_count": 0,
          "unique_count": 2
         }
        },
        {
         "dtype": "object",
         "name": "property_type",
         "stats": {
          "categories": [
           {
            "count": 2,
            "name": "Entire home"
           }
          ],
          "nan_count": 0,
          "unique_count": 1
         }
        },
        {
         "dtype": "object",
         "name": "room_type",
         "stats": {
          "categories": [
           {
            "count": 2,
            "name": "Entire home/apt"
           }
          ],
          "nan_count": 0,
          "unique_count": 1
         }
        },
        {
         "dtype": "int64",
         "name": "accommodates",
         "stats": {
          "histogram": [
           {
            "bin_end": 6.2,
            "bin_start": 6,
            "count": 1
           },
           {
            "bin_end": 6.4,
            "bin_start": 6.2,
            "count": 0
           },
           {
            "bin_end": 6.6,
            "bin_start": 6.4,
            "count": 0
           },
           {
            "bin_end": 6.8,
            "bin_start": 6.6,
            "count": 0
           },
           {
            "bin_end": 7,
            "bin_start": 6.8,
            "count": 0
           },
           {
            "bin_end": 7.2,
            "bin_start": 7,
            "count": 0
           },
           {
            "bin_end": 7.4,
            "bin_start": 7.2,
            "count": 0
           },
           {
            "bin_end": 7.6,
            "bin_start": 7.4,
            "count": 0
           },
           {
            "bin_end": 7.8,
            "bin_start": 7.6,
            "count": 0
           },
           {
            "bin_end": 8,
            "bin_start": 7.8,
            "count": 1
           }
          ],
          "max": "8",
          "min": "6",
          "nan_count": 0,
          "unique_count": 2
         }
        },
        {
         "dtype": "float64",
         "name": "bathrooms",
         "stats": {
          "histogram": [
           {
            "bin_end": 0.1,
            "bin_start": 0,
            "count": 0
           },
           {
            "bin_end": 0.2,
            "bin_start": 0.1,
            "count": 0
           },
           {
            "bin_end": 0.30000000000000004,
            "bin_start": 0.2,
            "count": 0
           },
           {
            "bin_end": 0.4,
            "bin_start": 0.30000000000000004,
            "count": 0
           },
           {
            "bin_end": 0.5,
            "bin_start": 0.4,
            "count": 0
           },
           {
            "bin_end": 0.6000000000000001,
            "bin_start": 0.5,
            "count": 0
           },
           {
            "bin_end": 0.7000000000000001,
            "bin_start": 0.6000000000000001,
            "count": 0
           },
           {
            "bin_end": 0.8,
            "bin_start": 0.7000000000000001,
            "count": 0
           },
           {
            "bin_end": 0.9,
            "bin_start": 0.8,
            "count": 0
           },
           {
            "bin_end": 1,
            "bin_start": 0.9,
            "count": 0
           }
          ],
          "max": null,
          "min": null,
          "nan_count": 2,
          "unique_count": 0
         }
        },
        {
         "dtype": "object",
         "name": "bathrooms_text",
         "stats": {
          "categories": [
           {
            "count": 2,
            "name": "2 baths"
           }
          ],
          "nan_count": 0,
          "unique_count": 1
         }
        },
        {
         "dtype": "float64",
         "name": "bedrooms",
         "stats": {
          "histogram": [
           {
            "bin_end": 3.1,
            "bin_start": 3,
            "count": 1
           },
           {
            "bin_end": 3.2,
            "bin_start": 3.1,
            "count": 0
           },
           {
            "bin_end": 3.3,
            "bin_start": 3.2,
            "count": 0
           },
           {
            "bin_end": 3.4,
            "bin_start": 3.3,
            "count": 0
           },
           {
            "bin_end": 3.5,
            "bin_start": 3.4,
            "count": 0
           },
           {
            "bin_end": 3.6,
            "bin_start": 3.5,
            "count": 0
           },
           {
            "bin_end": 3.7,
            "bin_start": 3.6,
            "count": 0
           },
           {
            "bin_end": 3.8,
            "bin_start": 3.7,
            "count": 0
           },
           {
            "bin_end": 3.9,
            "bin_start": 3.8,
            "count": 0
           },
           {
            "bin_end": 4,
            "bin_start": 3.9,
            "count": 1
           }
          ],
          "max": "4.0",
          "min": "3.0",
          "nan_count": 0,
          "unique_count": 2
         }
        },
        {
         "dtype": "float64",
         "name": "beds",
         "stats": {
          "histogram": [
           {
            "bin_end": 3.1,
            "bin_start": 3,
            "count": 1
           },
           {
            "bin_end": 3.2,
            "bin_start": 3.1,
            "count": 0
           },
           {
            "bin_end": 3.3,
            "bin_start": 3.2,
            "count": 0
           },
           {
            "bin_end": 3.4,
            "bin_start": 3.3,
            "count": 0
           },
           {
            "bin_end": 3.5,
            "bin_start": 3.4,
            "count": 0
           },
           {
            "bin_end": 3.6,
            "bin_start": 3.5,
            "count": 0
           },
           {
            "bin_end": 3.7,
            "bin_start": 3.6,
            "count": 0
           },
           {
            "bin_end": 3.8,
            "bin_start": 3.7,
            "count": 0
           },
           {
            "bin_end": 3.9,
            "bin_start": 3.8,
            "count": 0
           },
           {
            "bin_end": 4,
            "bin_start": 3.9,
            "count": 1
           }
          ],
          "max": "4.0",
          "min": "3.0",
          "nan_count": 0,
          "unique_count": 2
         }
        },
        {
         "dtype": "object",
         "name": "amenities",
         "stats": {
          "categories": [
           {
            "count": 1,
            "name": "[\"Hot water\", \"Dining table\", \"Toaster\", \"Refrigerator\", \"Bathtub\", \"Dishwasher\", \"Coffee maker: drip coffee maker\", \"Room-darkening shades\", \"Private entrance\", \"Dishes and silverware\", \"Washer\", \"Kitchen\", \"TV\", \"Body soap\", \"Indoor fireplace\", \"Private patio or balcony\", \"Free street parking\", \"Iron\", \"Hair dryer\", \"Microwave\", \"Cooking basics\", \"Oven\", \"Private backyard \\u2013 Fully fenced\", \"Pack \\u2019n play/Travel crib\", \"Keypad\", \"Stove\", \"Smoke alarm\", \"Dryer\", \"Essentials\", \"Wine glasses\", \"Self check-in\", \"Cleaning products\", \"Fire extinguisher\", \"High chair\", \"Heating\", \"Outdoor furniture\", \"Long term stays allowed\", \"Wifi\", \"Air conditioning\", \"Outdoor dining area\", \"BBQ grill\", \"First aid kit\", \"Hangers\", \"Extra pillows and blankets\", \"Shampoo\", \"Security cameras on property\", \"Carbon monoxide alarm\", \"Fire pit\", \"Dedicated workspace\", \"Lake view\", \"Bed linens\", \"Park view\", \"Free parking on premises\"]"
           },
           {
            "count": 1,
            "name": "[\"Hot water\", \"Crib - available upon request\", \"Dining table\", \"Toaster\", \"Refrigerator\", \"Bathtub\", \"Dishwasher\", \"Hot water kettle\", \"Room-darkening shades\", \"Private entrance\", \"Dishes and silverware\", \"Conditioner\", \"Kitchen\", \"Body soap\", \"Private patio or balcony\", \"Free street parking\", \"Google Nest sound system\", \"Iron\", \"Hair dryer\", \"Microwave\", \"Cooking basics\", \"Oven\", \"Shared backyard \\u2013 Not fully fenced\", \"Pets allowed\", \"Keypad\", \"Free dryer \\u2013 In unit\", \"Stove\", \"Smoke alarm\", \"Wine glasses\", \"Essentials\", \"Pack \\u2019n play/Travel crib - available upon request\", \"Self check-in\", \"Cleaning products\", \"AC - split type ductless system\", \"Fire extinguisher\", \"Long term stays allowed\", \"Outdoor furniture\", \"Wifi\", \"Coffee\", \"Single level home\", \"Outdoor dining area\", \"Coffee maker: french press\", \"First aid kit\", \"65\\\" HDTV with standard cable\", \"Hangers\", \"Freezer\", \"Free washer \\u2013 In unit\", \"Extra pillows and blankets\", \"Shampoo\", \"Carbon monoxide alarm\", \"Heating - split type ductless system\", \"Dedicated workspace\", \"Bed linens\", \"Free parking on premises\", \"Books and reading material\"]"
           }
          ],
          "nan_count": 0,
          "unique_count": 2
         }
        },
        {
         "dtype": "object",
         "name": "price",
         "stats": {
          "categories": [
           {
            "count": 1,
            "name": "$280.00"
           },
           {
            "count": 1,
            "name": "$156.00"
           }
          ],
          "nan_count": 0,
          "unique_count": 2
         }
        },
        {
         "dtype": "int64",
         "name": "minimum_nights",
         "stats": {
          "histogram": [
           {
            "bin_end": 1.2,
            "bin_start": 1,
            "count": 1
           },
           {
            "bin_end": 1.4,
            "bin_start": 1.2,
            "count": 0
           },
           {
            "bin_end": 1.6,
            "bin_start": 1.4,
            "count": 0
           },
           {
            "bin_end": 1.8,
            "bin_start": 1.6,
            "count": 0
           },
           {
            "bin_end": 2,
            "bin_start": 1.8,
            "count": 0
           },
           {
            "bin_end": 2.2,
            "bin_start": 2,
            "count": 0
           },
           {
            "bin_end": 2.4000000000000004,
            "bin_start": 2.2,
            "count": 0
           },
           {
            "bin_end": 2.6,
            "bin_start": 2.4000000000000004,
            "count": 0
           },
           {
            "bin_end": 2.8,
            "bin_start": 2.6,
            "count": 0
           },
           {
            "bin_end": 3,
            "bin_start": 2.8,
            "count": 1
           }
          ],
          "max": "3",
          "min": "1",
          "nan_count": 0,
          "unique_count": 2
         }
        },
        {
         "dtype": "int64",
         "name": "maximum_nights",
         "stats": {
          "histogram": [
           {
            "bin_end": 42,
            "bin_start": 30,
            "count": 1
           },
           {
            "bin_end": 54,
            "bin_start": 42,
            "count": 0
           },
           {
            "bin_end": 66,
            "bin_start": 54,
            "count": 0
           },
           {
            "bin_end": 78,
            "bin_start": 66,
            "count": 0
           },
           {
            "bin_end": 90,
            "bin_start": 78,
            "count": 0
           },
           {
            "bin_end": 102,
            "bin_start": 90,
            "count": 0
           },
           {
            "bin_end": 114,
            "bin_start": 102,
            "count": 0
           },
           {
            "bin_end": 126,
            "bin_start": 114,
            "count": 0
           },
           {
            "bin_end": 138,
            "bin_start": 126,
            "count": 0
           },
           {
            "bin_end": 150,
            "bin_start": 138,
            "count": 1
           }
          ],
          "max": "150",
          "min": "30",
          "nan_count": 0,
          "unique_count": 2
         }
        },
        {
         "dtype": "float64",
         "name": "minimum_minimum_nights",
         "stats": {
          "histogram": [
           {
            "bin_end": 2.1,
            "bin_start": 2,
            "count": 1
           },
           {
            "bin_end": 2.2,
            "bin_start": 2.1,
            "count": 0
           },
           {
            "bin_end": 2.3,
            "bin_start": 2.2,
            "count": 0
           },
           {
            "bin_end": 2.4,
            "bin_start": 2.3,
            "count": 0
           },
           {
            "bin_end": 2.5,
            "bin_start": 2.4,
            "count": 0
           },
           {
            "bin_end": 2.6,
            "bin_start": 2.5,
            "count": 0
           },
           {
            "bin_end": 2.7,
            "bin_start": 2.6,
            "count": 0
           },
           {
            "bin_end": 2.8,
            "bin_start": 2.7,
            "count": 0
           },
           {
            "bin_end": 2.9,
            "bin_start": 2.8,
            "count": 0
           },
           {
            "bin_end": 3,
            "bin_start": 2.9,
            "count": 1
           }
          ],
          "max": "3.0",
          "min": "2.0",
          "nan_count": 0,
          "unique_count": 2
         }
        },
        {
         "dtype": "float64",
         "name": "maximum_minimum_nights",
         "stats": {
          "histogram": [
           {
            "bin_end": 2.6,
            "bin_start": 2.5,
            "count": 0
           },
           {
            "bin_end": 2.7,
            "bin_start": 2.6,
            "count": 0
           },
           {
            "bin_end": 2.8,
            "bin_start": 2.7,
            "count": 0
           },
           {
            "bin_end": 2.9,
            "bin_start": 2.8,
            "count": 0
           },
           {
            "bin_end": 3,
            "bin_start": 2.9,
            "count": 0
           },
           {
            "bin_end": 3.1,
            "bin_start": 3,
            "count": 2
           },
           {
            "bin_end": 3.2,
            "bin_start": 3.1,
            "count": 0
           },
           {
            "bin_end": 3.3,
            "bin_start": 3.2,
            "count": 0
           },
           {
            "bin_end": 3.4,
            "bin_start": 3.3,
            "count": 0
           },
           {
            "bin_end": 3.5,
            "bin_start": 3.4,
            "count": 0
           }
          ],
          "max": "3.0",
          "min": "3.0",
          "nan_count": 0,
          "unique_count": 1
         }
        },
        {
         "dtype": "float64",
         "name": "minimum_maximum_nights",
         "stats": {
          "histogram": [
           {
            "bin_end": 1124.6,
            "bin_start": 1124.5,
            "count": 0
           },
           {
            "bin_end": 1124.7,
            "bin_start": 1124.6,
            "count": 0
           },
           {
            "bin_end": 1124.8,
            "bin_start": 1124.7,
            "count": 0
           },
           {
            "bin_end": 1124.9,
            "bin_start": 1124.8,
            "count": 0
           },
           {
            "bin_end": 1125,
            "bin_start": 1124.9,
            "count": 0
           },
           {
            "bin_end": 1125.1,
            "bin_start": 1125,
            "count": 2
           },
           {
            "bin_end": 1125.2,
            "bin_start": 1125.1,
            "count": 0
           },
           {
            "bin_end": 1125.3,
            "bin_start": 1125.2,
            "count": 0
           },
           {
            "bin_end": 1125.4,
            "bin_start": 1125.3,
            "count": 0
           },
           {
            "bin_end": 1125.5,
            "bin_start": 1125.4,
            "count": 0
           }
          ],
          "max": "1125.0",
          "min": "1125.0",
          "nan_count": 0,
          "unique_count": 1
         }
        },
        {
         "dtype": "float64",
         "name": "maximum_maximum_nights",
         "stats": {
          "histogram": [
           {
            "bin_end": 1124.6,
            "bin_start": 1124.5,
            "count": 0
           },
           {
            "bin_end": 1124.7,
            "bin_start": 1124.6,
            "count": 0
           },
           {
            "bin_end": 1124.8,
            "bin_start": 1124.7,
            "count": 0
           },
           {
            "bin_end": 1124.9,
            "bin_start": 1124.8,
            "count": 0
           },
           {
            "bin_end": 1125,
            "bin_start": 1124.9,
            "count": 0
           },
           {
            "bin_end": 1125.1,
            "bin_start": 1125,
            "count": 2
           },
           {
            "bin_end": 1125.2,
            "bin_start": 1125.1,
            "count": 0
           },
           {
            "bin_end": 1125.3,
            "bin_start": 1125.2,
            "count": 0
           },
           {
            "bin_end": 1125.4,
            "bin_start": 1125.3,
            "count": 0
           },
           {
            "bin_end": 1125.5,
            "bin_start": 1125.4,
            "count": 0
           }
          ],
          "max": "1125.0",
          "min": "1125.0",
          "nan_count": 0,
          "unique_count": 1
         }
        },
        {
         "dtype": "float64",
         "name": "minimum_nights_avg_ntm",
         "stats": {
          "histogram": [
           {
            "bin_end": 2.19,
            "bin_start": 2.1,
            "count": 1
           },
           {
            "bin_end": 2.2800000000000002,
            "bin_start": 2.19,
            "count": 0
           },
           {
            "bin_end": 2.37,
            "bin_start": 2.2800000000000002,
            "count": 0
           },
           {
            "bin_end": 2.46,
            "bin_start": 2.37,
            "count": 0
           },
           {
            "bin_end": 2.55,
            "bin_start": 2.46,
            "count": 0
           },
           {
            "bin_end": 2.64,
            "bin_start": 2.55,
            "count": 0
           },
           {
            "bin_end": 2.73,
            "bin_start": 2.64,
            "count": 0
           },
           {
            "bin_end": 2.8200000000000003,
            "bin_start": 2.73,
            "count": 0
           },
           {
            "bin_end": 2.91,
            "bin_start": 2.8200000000000003,
            "count": 0
           },
           {
            "bin_end": 3,
            "bin_start": 2.91,
            "count": 1
           }
          ],
          "max": "3.0",
          "min": "2.1",
          "nan_count": 0,
          "unique_count": 2
         }
        },
        {
         "dtype": "float64",
         "name": "maximum_nights_avg_ntm",
         "stats": {
          "histogram": [
           {
            "bin_end": 1124.6,
            "bin_start": 1124.5,
            "count": 0
           },
           {
            "bin_end": 1124.7,
            "bin_start": 1124.6,
            "count": 0
           },
           {
            "bin_end": 1124.8,
            "bin_start": 1124.7,
            "count": 0
           },
           {
            "bin_end": 1124.9,
            "bin_start": 1124.8,
            "count": 0
           },
           {
            "bin_end": 1125,
            "bin_start": 1124.9,
            "count": 0
           },
           {
            "bin_end": 1125.1,
            "bin_start": 1125,
            "count": 2
           },
           {
            "bin_end": 1125.2,
            "bin_start": 1125.1,
            "count": 0
           },
           {
            "bin_end": 1125.3,
            "bin_start": 1125.2,
            "count": 0
           },
           {
            "bin_end": 1125.4,
            "bin_start": 1125.3,
            "count": 0
           },
           {
            "bin_end": 1125.5,
            "bin_start": 1125.4,
            "count": 0
           }
          ],
          "max": "1125.0",
          "min": "1125.0",
          "nan_count": 0,
          "unique_count": 1
         }
        },
        {
         "dtype": "float64",
         "name": "calendar_updated",
         "stats": {
          "histogram": [
           {
            "bin_end": 0.1,
            "bin_start": 0,
            "count": 0
           },
           {
            "bin_end": 0.2,
            "bin_start": 0.1,
            "count": 0
           },
           {
            "bin_end": 0.30000000000000004,
            "bin_start": 0.2,
            "count": 0
           },
           {
            "bin_end": 0.4,
            "bin_start": 0.30000000000000004,
            "count": 0
           },
           {
            "bin_end": 0.5,
            "bin_start": 0.4,
            "count": 0
           },
           {
            "bin_end": 0.6000000000000001,
            "bin_start": 0.5,
            "count": 0
           },
           {
            "bin_end": 0.7000000000000001,
            "bin_start": 0.6000000000000001,
            "count": 0
           },
           {
            "bin_end": 0.8,
            "bin_start": 0.7000000000000001,
            "count": 0
           },
           {
            "bin_end": 0.9,
            "bin_start": 0.8,
            "count": 0
           },
           {
            "bin_end": 1,
            "bin_start": 0.9,
            "count": 0
           }
          ],
          "max": null,
          "min": null,
          "nan_count": 2,
          "unique_count": 0
         }
        },
        {
         "dtype": "object",
         "name": "has_availability",
         "stats": {
          "categories": [
           {
            "count": 2,
            "name": "t"
           }
          ],
          "nan_count": 0,
          "unique_count": 1
         }
        },
        {
         "dtype": "int64",
         "name": "availability_30",
         "stats": {
          "histogram": [
           {
            "bin_end": 17.6,
            "bin_start": 17,
            "count": 1
           },
           {
            "bin_end": 18.2,
            "bin_start": 17.6,
            "count": 0
           },
           {
            "bin_end": 18.8,
            "bin_start": 18.2,
            "count": 0
           },
           {
            "bin_end": 19.4,
            "bin_start": 18.8,
            "count": 0
           },
           {
            "bin_end": 20,
            "bin_start": 19.4,
            "count": 0
           },
           {
            "bin_end": 20.6,
            "bin_start": 20,
            "count": 0
           },
           {
            "bin_end": 21.2,
            "bin_start": 20.6,
            "count": 0
           },
           {
            "bin_end": 21.8,
            "bin_start": 21.2,
            "count": 0
           },
           {
            "bin_end": 22.4,
            "bin_start": 21.8,
            "count": 0
           },
           {
            "bin_end": 23,
            "bin_start": 22.4,
            "count": 1
           }
          ],
          "max": "23",
          "min": "17",
          "nan_count": 0,
          "unique_count": 2
         }
        },
        {
         "dtype": "int64",
         "name": "availability_60",
         "stats": {
          "histogram": [
           {
            "bin_end": 36.8,
            "bin_start": 35,
            "count": 1
           },
           {
            "bin_end": 38.6,
            "bin_start": 36.8,
            "count": 0
           },
           {
            "bin_end": 40.4,
            "bin_start": 38.6,
            "count": 0
           },
           {
            "bin_end": 42.2,
            "bin_start": 40.4,
            "count": 0
           },
           {
            "bin_end": 44,
            "bin_start": 42.2,
            "count": 0
           },
           {
            "bin_end": 45.8,
            "bin_start": 44,
            "count": 0
           },
           {
            "bin_end": 47.6,
            "bin_start": 45.8,
            "count": 0
           },
           {
            "bin_end": 49.4,
            "bin_start": 47.6,
            "count": 0
           },
           {
            "bin_end": 51.2,
            "bin_start": 49.4,
            "count": 0
           },
           {
            "bin_end": 53,
            "bin_start": 51.2,
            "count": 1
           }
          ],
          "max": "53",
          "min": "35",
          "nan_count": 0,
          "unique_count": 2
         }
        },
        {
         "dtype": "int64",
         "name": "availability_90",
         "stats": {
          "histogram": [
           {
            "bin_end": 66.8,
            "bin_start": 65,
            "count": 1
           },
           {
            "bin_end": 68.6,
            "bin_start": 66.8,
            "count": 0
           },
           {
            "bin_end": 70.4,
            "bin_start": 68.6,
            "count": 0
           },
           {
            "bin_end": 72.2,
            "bin_start": 70.4,
            "count": 0
           },
           {
            "bin_end": 74,
            "bin_start": 72.2,
            "count": 0
           },
           {
            "bin_end": 75.8,
            "bin_start": 74,
            "count": 0
           },
           {
            "bin_end": 77.6,
            "bin_start": 75.8,
            "count": 0
           },
           {
            "bin_end": 79.4,
            "bin_start": 77.6,
            "count": 0
           },
           {
            "bin_end": 81.2,
            "bin_start": 79.4,
            "count": 0
           },
           {
            "bin_end": 83,
            "bin_start": 81.2,
            "count": 1
           }
          ],
          "max": "83",
          "min": "65",
          "nan_count": 0,
          "unique_count": 2
         }
        },
        {
         "dtype": "int64",
         "name": "availability_365",
         "stats": {
          "histogram": [
           {
            "bin_end": 330.2,
            "bin_start": 329,
            "count": 1
           },
           {
            "bin_end": 331.4,
            "bin_start": 330.2,
            "count": 0
           },
           {
            "bin_end": 332.6,
            "bin_start": 331.4,
            "count": 0
           },
           {
            "bin_end": 333.8,
            "bin_start": 332.6,
            "count": 0
           },
           {
            "bin_end": 335,
            "bin_start": 333.8,
            "count": 0
           },
           {
            "bin_end": 336.2,
            "bin_start": 335,
            "count": 0
           },
           {
            "bin_end": 337.4,
            "bin_start": 336.2,
            "count": 0
           },
           {
            "bin_end": 338.6,
            "bin_start": 337.4,
            "count": 0
           },
           {
            "bin_end": 339.8,
            "bin_start": 338.6,
            "count": 0
           },
           {
            "bin_end": 341,
            "bin_start": 339.8,
            "count": 1
           }
          ],
          "max": "341",
          "min": "329",
          "nan_count": 0,
          "unique_count": 2
         }
        },
        {
         "dtype": "object",
         "name": "calendar_last_scraped",
         "stats": {
          "categories": [
           {
            "count": 2,
            "name": "2022-12-24"
           }
          ],
          "nan_count": 0,
          "unique_count": 1
         }
        },
        {
         "dtype": "int64",
         "name": "number_of_reviews",
         "stats": {
          "histogram": [
           {
            "bin_end": 18.9,
            "bin_start": 18,
            "count": 1
           },
           {
            "bin_end": 19.8,
            "bin_start": 18.9,
            "count": 0
           },
           {
            "bin_end": 20.7,
            "bin_start": 19.8,
            "count": 0
           },
           {
            "bin_end": 21.6,
            "bin_start": 20.7,
            "count": 0
           },
           {
            "bin_end": 22.5,
            "bin_start": 21.6,
            "count": 0
           },
           {
            "bin_end": 23.4,
            "bin_start": 22.5,
            "count": 0
           },
           {
            "bin_end": 24.3,
            "bin_start": 23.4,
            "count": 0
           },
           {
            "bin_end": 25.2,
            "bin_start": 24.3,
            "count": 0
           },
           {
            "bin_end": 26.1,
            "bin_start": 25.2,
            "count": 0
           },
           {
            "bin_end": 27,
            "bin_start": 26.1,
            "count": 1
           }
          ],
          "max": "27",
          "min": "18",
          "nan_count": 0,
          "unique_count": 2
         }
        },
        {
         "dtype": "int64",
         "name": "number_of_reviews_ltm",
         "stats": {
          "histogram": [
           {
            "bin_end": 9,
            "bin_start": 7,
            "count": 1
           },
           {
            "bin_end": 11,
            "bin_start": 9,
            "count": 0
           },
           {
            "bin_end": 13,
            "bin_start": 11,
            "count": 0
           },
           {
            "bin_end": 15,
            "bin_start": 13,
            "count": 0
           },
           {
            "bin_end": 17,
            "bin_start": 15,
            "count": 0
           },
           {
            "bin_end": 19,
            "bin_start": 17,
            "count": 0
           },
           {
            "bin_end": 21,
            "bin_start": 19,
            "count": 0
           },
           {
            "bin_end": 23,
            "bin_start": 21,
            "count": 0
           },
           {
            "bin_end": 25,
            "bin_start": 23,
            "count": 0
           },
           {
            "bin_end": 27,
            "bin_start": 25,
            "count": 1
           }
          ],
          "max": "27",
          "min": "7",
          "nan_count": 0,
          "unique_count": 2
         }
        },
        {
         "dtype": "int64",
         "name": "number_of_reviews_l30d",
         "stats": {
          "histogram": [
           {
            "bin_end": 1.2,
            "bin_start": 1,
            "count": 1
           },
           {
            "bin_end": 1.4,
            "bin_start": 1.2,
            "count": 0
           },
           {
            "bin_end": 1.6,
            "bin_start": 1.4,
            "count": 0
           },
           {
            "bin_end": 1.8,
            "bin_start": 1.6,
            "count": 0
           },
           {
            "bin_end": 2,
            "bin_start": 1.8,
            "count": 0
           },
           {
            "bin_end": 2.2,
            "bin_start": 2,
            "count": 0
           },
           {
            "bin_end": 2.4000000000000004,
            "bin_start": 2.2,
            "count": 0
           },
           {
            "bin_end": 2.6,
            "bin_start": 2.4000000000000004,
            "count": 0
           },
           {
            "bin_end": 2.8,
            "bin_start": 2.6,
            "count": 0
           },
           {
            "bin_end": 3,
            "bin_start": 2.8,
            "count": 1
           }
          ],
          "max": "3",
          "min": "1",
          "nan_count": 0,
          "unique_count": 2
         }
        },
        {
         "dtype": "object",
         "name": "first_review",
         "stats": {
          "categories": [
           {
            "count": 1,
            "name": "2021-06-22"
           },
           {
            "count": 1,
            "name": "2022-06-09"
           }
          ],
          "nan_count": 0,
          "unique_count": 2
         }
        },
        {
         "dtype": "object",
         "name": "last_review",
         "stats": {
          "categories": [
           {
            "count": 1,
            "name": "2022-11-29"
           },
           {
            "count": 1,
            "name": "2022-12-13"
           }
          ],
          "nan_count": 0,
          "unique_count": 2
         }
        },
        {
         "dtype": "float64",
         "name": "review_scores_rating",
         "stats": {
          "histogram": [
           {
            "bin_end": 4.836,
            "bin_start": 4.83,
            "count": 1
           },
           {
            "bin_end": 4.842,
            "bin_start": 4.836,
            "count": 0
           },
           {
            "bin_end": 4.848,
            "bin_start": 4.842,
            "count": 0
           },
           {
            "bin_end": 4.854,
            "bin_start": 4.848,
            "count": 0
           },
           {
            "bin_end": 4.859999999999999,
            "bin_start": 4.854,
            "count": 0
           },
           {
            "bin_end": 4.866,
            "bin_start": 4.859999999999999,
            "count": 0
           },
           {
            "bin_end": 4.872,
            "bin_start": 4.866,
            "count": 0
           },
           {
            "bin_end": 4.878,
            "bin_start": 4.872,
            "count": 0
           },
           {
            "bin_end": 4.8839999999999995,
            "bin_start": 4.878,
            "count": 0
           },
           {
            "bin_end": 4.89,
            "bin_start": 4.8839999999999995,
            "count": 1
           }
          ],
          "max": "4.89",
          "min": "4.83",
          "nan_count": 0,
          "unique_count": 2
         }
        },
        {
         "dtype": "float64",
         "name": "review_scores_accuracy",
         "stats": {
          "histogram": [
           {
            "bin_end": 4.896999999999999,
            "bin_start": 4.89,
            "count": 1
           },
           {
            "bin_end": 4.904,
            "bin_start": 4.896999999999999,
            "count": 0
           },
           {
            "bin_end": 4.911,
            "bin_start": 4.904,
            "count": 0
           },
           {
            "bin_end": 4.918,
            "bin_start": 4.911,
            "count": 0
           },
           {
            "bin_end": 4.925,
            "bin_start": 4.918,
            "count": 0
           },
           {
            "bin_end": 4.9319999999999995,
            "bin_start": 4.925,
            "count": 0
           },
           {
            "bin_end": 4.939,
            "bin_start": 4.9319999999999995,
            "count": 0
           },
           {
            "bin_end": 4.946,
            "bin_start": 4.939,
            "count": 0
           },
           {
            "bin_end": 4.953,
            "bin_start": 4.946,
            "count": 0
           },
           {
            "bin_end": 4.96,
            "bin_start": 4.953,
            "count": 1
           }
          ],
          "max": "4.96",
          "min": "4.89",
          "nan_count": 0,
          "unique_count": 2
         }
        },
        {
         "dtype": "float64",
         "name": "review_scores_cleanliness",
         "stats": {
          "histogram": [
           {
            "bin_end": 4.895,
            "bin_start": 4.89,
            "count": 1
           },
           {
            "bin_end": 4.8999999999999995,
            "bin_start": 4.895,
            "count": 0
           },
           {
            "bin_end": 4.905,
            "bin_start": 4.8999999999999995,
            "count": 0
           },
           {
            "bin_end": 4.91,
            "bin_start": 4.905,
            "count": 0
           },
           {
            "bin_end": 4.915,
            "bin_start": 4.91,
            "count": 0
           },
           {
            "bin_end": 4.92,
            "bin_start": 4.915,
            "count": 0
           },
           {
            "bin_end": 4.925,
            "bin_start": 4.92,
            "count": 0
           },
           {
            "bin_end": 4.930000000000001,
            "bin_start": 4.925,
            "count": 0
           },
           {
            "bin_end": 4.9350000000000005,
            "bin_start": 4.930000000000001,
            "count": 0
           },
           {
            "bin_end": 4.94,
            "bin_start": 4.9350000000000005,
            "count": 1
           }
          ],
          "max": "4.94",
          "min": "4.89",
          "nan_count": 0,
          "unique_count": 2
         }
        },
        {
         "dtype": "float64",
         "name": "review_scores_checkin",
         "stats": {
          "histogram": [
           {
            "bin_end": 4.894,
            "bin_start": 4.89,
            "count": 1
           },
           {
            "bin_end": 4.898,
            "bin_start": 4.894,
            "count": 0
           },
           {
            "bin_end": 4.901999999999999,
            "bin_start": 4.898,
            "count": 0
           },
           {
            "bin_end": 4.906,
            "bin_start": 4.901999999999999,
            "count": 0
           },
           {
            "bin_end": 4.91,
            "bin_start": 4.906,
            "count": 0
           },
           {
            "bin_end": 4.914,
            "bin_start": 4.91,
            "count": 0
           },
           {
            "bin_end": 4.917999999999999,
            "bin_start": 4.914,
            "count": 0
           },
           {
            "bin_end": 4.922,
            "bin_start": 4.917999999999999,
            "count": 0
           },
           {
            "bin_end": 4.926,
            "bin_start": 4.922,
            "count": 0
           },
           {
            "bin_end": 4.93,
            "bin_start": 4.926,
            "count": 1
           }
          ],
          "max": "4.93",
          "min": "4.89",
          "nan_count": 0,
          "unique_count": 2
         }
        },
        {
         "dtype": "float64",
         "name": "review_scores_communication",
         "stats": {
          "histogram": [
           {
            "bin_end": 4.896999999999999,
            "bin_start": 4.89,
            "count": 1
           },
           {
            "bin_end": 4.904,
            "bin_start": 4.896999999999999,
            "count": 0
           },
           {
            "bin_end": 4.911,
            "bin_start": 4.904,
            "count": 0
           },
           {
            "bin_end": 4.918,
            "bin_start": 4.911,
            "count": 0
           },
           {
            "bin_end": 4.925,
            "bin_start": 4.918,
            "count": 0
           },
           {
            "bin_end": 4.9319999999999995,
            "bin_start": 4.925,
            "count": 0
           },
           {
            "bin_end": 4.939,
            "bin_start": 4.9319999999999995,
            "count": 0
           },
           {
            "bin_end": 4.946,
            "bin_start": 4.939,
            "count": 0
           },
           {
            "bin_end": 4.953,
            "bin_start": 4.946,
            "count": 0
           },
           {
            "bin_end": 4.96,
            "bin_start": 4.953,
            "count": 1
           }
          ],
          "max": "4.96",
          "min": "4.89",
          "nan_count": 0,
          "unique_count": 2
         }
        },
        {
         "dtype": "float64",
         "name": "review_scores_location",
         "stats": {
          "histogram": [
           {
            "bin_end": 4.642,
            "bin_start": 4.61,
            "count": 1
           },
           {
            "bin_end": 4.674,
            "bin_start": 4.642,
            "count": 0
           },
           {
            "bin_end": 4.706,
            "bin_start": 4.674,
            "count": 0
           },
           {
            "bin_end": 4.738,
            "bin_start": 4.706,
            "count": 0
           },
           {
            "bin_end": 4.77,
            "bin_start": 4.738,
            "count": 0
           },
           {
            "bin_end": 4.802,
            "bin_start": 4.77,
            "count": 0
           },
           {
            "bin_end": 4.834,
            "bin_start": 4.802,
            "count": 0
           },
           {
            "bin_end": 4.866,
            "bin_start": 4.834,
            "count": 0
           },
           {
            "bin_end": 4.898,
            "bin_start": 4.866,
            "count": 0
           },
           {
            "bin_end": 4.93,
            "bin_start": 4.898,
            "count": 1
           }
          ],
          "max": "4.93",
          "min": "4.61",
          "nan_count": 0,
          "unique_count": 2
         }
        },
        {
         "dtype": "float64",
         "name": "review_scores_value",
         "stats": {
          "histogram": [
           {
            "bin_end": 4.741,
            "bin_start": 4.72,
            "count": 1
           },
           {
            "bin_end": 4.762,
            "bin_start": 4.741,
            "count": 0
           },
           {
            "bin_end": 4.7829999999999995,
            "bin_start": 4.762,
            "count": 0
           },
           {
            "bin_end": 4.803999999999999,
            "bin_start": 4.7829999999999995,
            "count": 0
           },
           {
            "bin_end": 4.824999999999999,
            "bin_start": 4.803999999999999,
            "count": 0
           },
           {
            "bin_end": 4.846,
            "bin_start": 4.824999999999999,
            "count": 0
           },
           {
            "bin_end": 4.867,
            "bin_start": 4.846,
            "count": 0
           },
           {
            "bin_end": 4.888,
            "bin_start": 4.867,
            "count": 0
           },
           {
            "bin_end": 4.909,
            "bin_start": 4.888,
            "count": 0
           },
           {
            "bin_end": 4.93,
            "bin_start": 4.909,
            "count": 1
           }
          ],
          "max": "4.93",
          "min": "4.72",
          "nan_count": 0,
          "unique_count": 2
         }
        },
        {
         "dtype": "object",
         "name": "license",
         "stats": {
          "categories": [
           {
            "count": 1,
            "name": "STR-OPLI-21-000235"
           },
           {
            "count": 1,
            "name": "STR-OPLI-22-000359"
           }
          ],
          "nan_count": 0,
          "unique_count": 2
         }
        },
        {
         "dtype": "object",
         "name": "instant_bookable",
         "stats": {
          "categories": [
           {
            "count": 1,
            "name": "f"
           },
           {
            "count": 1,
            "name": "t"
           }
          ],
          "nan_count": 0,
          "unique_count": 2
         }
        },
        {
         "dtype": "int64",
         "name": "calculated_host_listings_count",
         "stats": {
          "histogram": [
           {
            "bin_end": 1.1,
            "bin_start": 1,
            "count": 1
           },
           {
            "bin_end": 1.2,
            "bin_start": 1.1,
            "count": 0
           },
           {
            "bin_end": 1.3,
            "bin_start": 1.2,
            "count": 0
           },
           {
            "bin_end": 1.4,
            "bin_start": 1.3,
            "count": 0
           },
           {
            "bin_end": 1.5,
            "bin_start": 1.4,
            "count": 0
           },
           {
            "bin_end": 1.6,
            "bin_start": 1.5,
            "count": 0
           },
           {
            "bin_end": 1.7000000000000002,
            "bin_start": 1.6,
            "count": 0
           },
           {
            "bin_end": 1.8,
            "bin_start": 1.7000000000000002,
            "count": 0
           },
           {
            "bin_end": 1.9,
            "bin_start": 1.8,
            "count": 0
           },
           {
            "bin_end": 2,
            "bin_start": 1.9,
            "count": 1
           }
          ],
          "max": "2",
          "min": "1",
          "nan_count": 0,
          "unique_count": 2
         }
        },
        {
         "dtype": "int64",
         "name": "calculated_host_listings_count_entire_homes",
         "stats": {
          "histogram": [
           {
            "bin_end": 1.1,
            "bin_start": 1,
            "count": 1
           },
           {
            "bin_end": 1.2,
            "bin_start": 1.1,
            "count": 0
           },
           {
            "bin_end": 1.3,
            "bin_start": 1.2,
            "count": 0
           },
           {
            "bin_end": 1.4,
            "bin_start": 1.3,
            "count": 0
           },
           {
            "bin_end": 1.5,
            "bin_start": 1.4,
            "count": 0
           },
           {
            "bin_end": 1.6,
            "bin_start": 1.5,
            "count": 0
           },
           {
            "bin_end": 1.7000000000000002,
            "bin_start": 1.6,
            "count": 0
           },
           {
            "bin_end": 1.8,
            "bin_start": 1.7000000000000002,
            "count": 0
           },
           {
            "bin_end": 1.9,
            "bin_start": 1.8,
            "count": 0
           },
           {
            "bin_end": 2,
            "bin_start": 1.9,
            "count": 1
           }
          ],
          "max": "2",
          "min": "1",
          "nan_count": 0,
          "unique_count": 2
         }
        },
        {
         "dtype": "int64",
         "name": "calculated_host_listings_count_private_rooms",
         "stats": {
          "histogram": [
           {
            "bin_end": -0.4,
            "bin_start": -0.5,
            "count": 0
           },
           {
            "bin_end": -0.3,
            "bin_start": -0.4,
            "count": 0
           },
           {
            "bin_end": -0.19999999999999996,
            "bin_start": -0.3,
            "count": 0
           },
           {
            "bin_end": -0.09999999999999998,
            "bin_start": -0.19999999999999996,
            "count": 0
           },
           {
            "bin_end": 0,
            "bin_start": -0.09999999999999998,
            "count": 0
           },
           {
            "bin_end": 0.10000000000000009,
            "bin_start": 0,
            "count": 2
           },
           {
            "bin_end": 0.20000000000000007,
            "bin_start": 0.10000000000000009,
            "count": 0
           },
           {
            "bin_end": 0.30000000000000004,
            "bin_start": 0.20000000000000007,
            "count": 0
           },
           {
            "bin_end": 0.4,
            "bin_start": 0.30000000000000004,
            "count": 0
           },
           {
            "bin_end": 0.5,
            "bin_start": 0.4,
            "count": 0
           }
          ],
          "max": "0",
          "min": "0",
          "nan_count": 0,
          "unique_count": 1
         }
        },
        {
         "dtype": "int64",
         "name": "calculated_host_listings_count_shared_rooms",
         "stats": {
          "histogram": [
           {
            "bin_end": -0.4,
            "bin_start": -0.5,
            "count": 0
           },
           {
            "bin_end": -0.3,
            "bin_start": -0.4,
            "count": 0
           },
           {
            "bin_end": -0.19999999999999996,
            "bin_start": -0.3,
            "count": 0
           },
           {
            "bin_end": -0.09999999999999998,
            "bin_start": -0.19999999999999996,
            "count": 0
           },
           {
            "bin_end": 0,
            "bin_start": -0.09999999999999998,
            "count": 0
           },
           {
            "bin_end": 0.10000000000000009,
            "bin_start": 0,
            "count": 2
           },
           {
            "bin_end": 0.20000000000000007,
            "bin_start": 0.10000000000000009,
            "count": 0
           },
           {
            "bin_end": 0.30000000000000004,
            "bin_start": 0.20000000000000007,
            "count": 0
           },
           {
            "bin_end": 0.4,
            "bin_start": 0.30000000000000004,
            "count": 0
           },
           {
            "bin_end": 0.5,
            "bin_start": 0.4,
            "count": 0
           }
          ],
          "max": "0",
          "min": "0",
          "nan_count": 0,
          "unique_count": 1
         }
        },
        {
         "dtype": "float64",
         "name": "reviews_per_month",
         "stats": {
          "histogram": [
           {
            "bin_end": 1.2890000000000001,
            "bin_start": 0.98,
            "count": 1
           },
           {
            "bin_end": 1.598,
            "bin_start": 1.2890000000000001,
            "count": 0
           },
           {
            "bin_end": 1.907,
            "bin_start": 1.598,
            "count": 0
           },
           {
            "bin_end": 2.216,
            "bin_start": 1.907,
            "count": 0
           },
           {
            "bin_end": 2.5250000000000004,
            "bin_start": 2.216,
            "count": 0
           },
           {
            "bin_end": 2.8340000000000005,
            "bin_start": 2.5250000000000004,
            "count": 0
           },
           {
            "bin_end": 3.1430000000000002,
            "bin_start": 2.8340000000000005,
            "count": 0
           },
           {
            "bin_end": 3.4520000000000004,
            "bin_start": 3.1430000000000002,
            "count": 0
           },
           {
            "bin_end": 3.7610000000000006,
            "bin_start": 3.4520000000000004,
            "count": 0
           },
           {
            "bin_end": 4.07,
            "bin_start": 3.7610000000000006,
            "count": 1
           }
          ],
          "max": "4.07",
          "min": "0.98",
          "nan_count": 0,
          "unique_count": 2
         }
        },
        {
         "dtype": "int64",
         "name": "_deepnote_index_column"
        }
       ],
       "row_count": 2,
       "rows": [
        {
         "_deepnote_index_column": "0",
         "accommodates": "8",
         "amenities": "[\"Hot water\", \"Dining table\", \"Toaster\", \"Refrigerator\", \"Bathtub\", \"Dishwasher\", \"Coffee maker: drip coffee maker\", \"Room-darkening shades\", \"Private entrance\", \"Dishes and silverware\", \"Washer\", \"Kitchen\", \"TV\", \"Body soap\", \"Indoor fireplace\", \"Private patio or balcony\", \"Free street parking\", \"Iron\", \"Hair dryer\", \"Microwave\", \"Cooking basics\", \"Oven\", \"Private backyard \\u2013 Fully fenced\", \"Pack \\u2019n play/Travel crib\", \"Keypad\", \"Stove\", \"Smoke alarm\", \"Dryer\", \"Essentials\", \"Wine glasses\", \"Self check-in\", \"Cleaning products\", \"Fire extinguisher\", \"High chair\", \"Heating\", \"Outdoor furniture\", \"Long term stays allowed\", \"Wifi\", \"Air conditioning\", \"Outdoor dining area\", \"BBQ grill\", \"First aid kit\", \"Hangers\", \"Extra pillows and blankets\", \"Shampoo\", \"Security cameras on property\", \"Carbon monoxide alarm\", \"Fire pit\", \"Dedicated workspace\", \"Lake view\", \"Bed linens\", \"Park view\", \"Free parking on premises\"]",
         "availability_30": "23",
         "availability_365": "341",
         "availability_60": "53",
         "availability_90": "83",
         "bathrooms": "nan",
         "bathrooms_text": "2 baths",
         "bedrooms": "4.0",
         "beds": "4.0",
         "calculated_host_listings_count": "1",
         "calculated_host_listings_count_entire_homes": "1",
         "calculated_host_listings_count_private_rooms": "0",
         "calculated_host_listings_count_shared_rooms": "0",
         "calendar_last_scraped": "2022-12-24",
         "calendar_updated": "nan",
         "description": "A Seattle vacation destination for those from out of town or a Staycation for those who live close by. We welcome you to this partial lake view gated family friendly home with 4 bedrooms, 2 bathrooms. A beautiful & serene creek flows through the front of the home. There is a fully functioning kitchen with appliances & utensils.  & laundry room. Only a few mins walk to Lakeridge playfield just behind the house! 15 min drive to SeaTac International Airport and 25 min drive to downtown Seattle.<br /><br /><b>The space</b><br />Smart lock for easy check in and Xfinity Home Security Alarm for your protection and peace of mind. There are a few steps leading into the home. There is one security camera at the house facing the front entrance and driveway. The front driveway can fit 6 cars.<br /><br />Bed Arrangements: <br /><br />Lower levels: 2 bedrooms, 1 bathroom<br />Room #1: One Queen bed (sleeps 2)<br />Room #4: One Queen bed (sleeps 2)<br /><br />Upper level: 2 bedrooms, 1 bathroom<br />",
         "first_review": "2021-06-22",
         "has_availability": "t",
         "host_about": "nan",
         "host_acceptance_rate": "100%",
         "host_has_profile_pic": "t",
         "host_id": "188538325",
         "host_identity_verified": "t",
         "host_is_superhost": "t",
         "host_listings_count": "4",
         "host_location": "Seattle, WA",
         "host_name": "Xiao",
         "host_neighbourhood": "Oakland",
         "host_picture_url": "https://a0.muscache.com/im/pictures/user/32fd3116-b515-46d9-8048-d5773e1bac5a.jpg?aki_policy=profile_x_medium",
         "host_response_rate": "100%",
         "host_response_time": "within an hour",
         "host_since": "2018-05-08",
         "host_thumbnail_url": "https://a0.muscache.com/im/pictures/user/32fd3116-b515-46d9-8048-d5773e1bac5a.jpg?aki_policy=profile_small",
         "host_total_listings_count": "4",
         "host_url": "https://www.airbnb.com/users/show/188538325",
         "host_verifications": "['email', 'phone']",
         "id": "49113826",
         "instant_bookable": "f",
         "last_review": "2022-11-29",
         "last_scraped": "2022-12-24",
         "latitude": "47.51028",
         "license": "STR-OPLI-21-000235",
         "listing_url": "https://www.airbnb.com/rooms/49113826",
         "longitude": "-122.24668",
         "maximum_maximum_nights": "1125.0",
         "maximum_minimum_nights": "3.0",
         "maximum_nights": "30",
         "maximum_nights_avg_ntm": "1125.0",
         "minimum_maximum_nights": "1125.0",
         "minimum_minimum_nights": "3.0",
         "minimum_nights": "3",
         "minimum_nights_avg_ntm": "3.0",
         "name": "Private Seattle Getaway Home Near Lake Washington!",
         "neighborhood_overview": "SeaTac International Airport: 14 min drive<br /><br />Grocery Stores nearby:<br />- Safeway & Rite Aid: 5 min drive<br />- Walgreens: 6 min drive<br />- Walmart & Fred Meyer: 9 min drive<br />- Uwajimaya: 10 min drive<br /><br />Dining nearby:<br />- Pizzeria Pulcinella: 2 min walk<br />- Stonehouse Cafe: 10 min walk<br />- The Landing (popular outdoor retail & restaurant area): 10 min drive<br /><br />Activities nearby:<br />- Lakeridge Playground: 2 min walk<br />- Downtown Renton: 10 min drive<br />- Southcenter Mall (large shopping mall): 14 min drive<br />- Round 1 (arcade, bowling, pool) inside Southcenter: 14 min drive<br />- iFly (mock sky diving): 15 min drive<br />- Downtown Seattle & Pike Place Market: 25 min drive",
         "neighbourhood": "Seattle, Washington, United States",
         "neighbourhood_cleansed": "Rainier View",
         "neighbourhood_group_cleansed": "Rainier Valley",
         "number_of_reviews": "18",
         "number_of_reviews_l30d": "1",
         "number_of_reviews_ltm": "7",
         "picture_url": "https://a0.muscache.com/pictures/miso/Hosting-49113826/original/29c08a31-b625-4e8f-bbc6-93e7994fef05.jpeg",
         "price": "$280.00",
         "property_type": "Entire home",
         "review_scores_accuracy": "4.89",
         "review_scores_checkin": "4.89",
         "review_scores_cleanliness": "4.94",
         "review_scores_communication": "4.89",
         "review_scores_location": "4.61",
         "review_scores_rating": "4.83",
         "review_scores_value": "4.72",
         "reviews_per_month": "0.98",
         "room_type": "Entire home/apt",
         "scrape_id": "20221224045325",
         "source": "city scrape"
        },
        {
         "_deepnote_index_column": "1",
         "accommodates": "6",
         "amenities": "[\"Hot water\", \"Crib - available upon request\", \"Dining table\", \"Toaster\", \"Refrigerator\", \"Bathtub\", \"Dishwasher\", \"Hot water kettle\", \"Room-darkening shades\", \"Private entrance\", \"Dishes and silverware\", \"Conditioner\", \"Kitchen\", \"Body soap\", \"Private patio or balcony\", \"Free street parking\", \"Google Nest sound system\", \"Iron\", \"Hair dryer\", \"Microwave\", \"Cooking basics\", \"Oven\", \"Shared backyard \\u2013 Not fully fenced\", \"Pets allowed\", \"Keypad\", \"Free dryer \\u2013 In unit\", \"Stove\", \"Smoke alarm\", \"Wine glasses\", \"Essentials\", \"Pack \\u2019n play/Travel crib - available upon request\", \"Self check-in\", \"Cleaning products\", \"AC - split type ductless system\", \"Fire extinguisher\", \"Long term stays allowed\", \"Outdoor furniture\", \"Wifi\", \"Coffee\", \"Single level home\", \"Outdoor dining area\", \"Coffee maker: french press\", \"First aid kit\", \"65\\\" HDTV with standard cable\", \"Hangers\", \"Freezer\", \"Free washer \\u2013 In unit\", \"Extra pillows and blankets\", \"Shampoo\", \"Carbon monoxide alarm\", \"He…",
         "availability_30": "17",
         "availability_365": "329",
         "availability_60": "35",
         "availability_90": "65",
         "bathrooms": "nan",
         "bathrooms_text": "2 baths",
         "bedrooms": "3.0",
         "beds": "3.0",
         "calculated_host_listings_count": "2",
         "calculated_host_listings_count_entire_homes": "2",
         "calculated_host_listings_count_private_rooms": "0",
         "calculated_host_listings_count_shared_rooms": "0",
         "calendar_last_scraped": "2022-12-24",
         "calendar_updated": "nan",
         "description": "Enjoy your Seattle stay in the vibrant & artistic Georgetown neighborhood! Georgetown is truly one of the last artsy, funky neighborhoods left in Seattle - you will be a five minute walk from the many restaurants, bars, wine tasting rooms & more in the \"downtown\" Georgetown neighborhood. It's also kid friendly as you will see many families out and pushing strollers around.<br /><br />The neighborhood is located a few miles south of the downtown Seattle core.<br /><br /><b>The space</b><br />This is the top unit of a completely remodeled craftsman (if bottom unit is available you can rent the whole house and have 6 beds & 4 baths!)<br /><br />This unit has the classic craftsman feel, but it has been completely remodeled with some modern touches!<br /><br /><b>Guest access</b><br />Obviously you have access to the entire unit - there is a lower unit of the house that may be rented too, so you will need to be respectful of other guests. The front yard and side yards are also yours to enjo",
         "first_review": "2022-06-09",
         "has_availability": "t",
         "host_about": "nan",
         "host_acceptance_rate": "100%",
         "host_has_profile_pic": "t",
         "host_id": "2144954",
         "host_identity_verified": "f",
         "host_is_superhost": "f",
         "host_listings_count": "2",
         "host_location": "Seattle, WA",
         "host_name": "Ryan",
         "host_neighbourhood": "Greater Duwamish",
         "host_picture_url": "https://a0.muscache.com/im/pictures/user/a671129c-f502-4968-85ef-7ef088d81ab3.jpg?aki_policy=profile_x_medium",
         "host_response_rate": "100%",
         "host_response_time": "within an hour",
         "host_since": "2012-04-15",
         "host_thumbnail_url": "https://a0.muscache.com/im/pictures/user/a671129c-f502-4968-85ef-7ef088d81ab3.jpg?aki_policy=profile_small",
         "host_total_listings_count": "2",
         "host_url": "https://www.airbnb.com/users/show/2144954",
         "host_verifications": "['email', 'phone', 'work_email']",
         "id": "7455832",
         "instant_bookable": "t",
         "last_review": "2022-12-13",
         "last_scraped": "2022-12-24",
         "latitude": "47.544739",
         "license": "STR-OPLI-22-000359",
         "listing_url": "https://www.airbnb.com/rooms/7455832",
         "longitude": "-122.319786",
         "maximum_maximum_nights": "1125.0",
         "maximum_minimum_nights": "3.0",
         "maximum_nights": "150",
         "maximum_nights_avg_ntm": "1125.0",
         "minimum_maximum_nights": "1125.0",
         "minimum_minimum_nights": "2.0",
         "minimum_nights": "1",
         "minimum_nights_avg_ntm": "2.1",
         "name": "Classic remodeled in Georgetown",
         "neighborhood_overview": "Georgetown is a cool neighborhood about three miles south of Seattle. Formerly an industrial area filled with warehouses, Georgetown has gone from shabby to chic, from industrial to artsy. Today, the neighborhood is a great place to find trendy restaurants, breweries, and art galleries.",
         "neighbourhood": "Seattle, Washington, United States",
         "neighbourhood_cleansed": "Georgetown",
         "neighbourhood_group_cleansed": "Other neighborhoods",
         "number_of_reviews": "27",
         "number_of_reviews_l30d": "3",
         "number_of_reviews_ltm": "27",
         "picture_url": "https://a0.muscache.com/pictures/miso/Hosting-7455832/original/87dcaee3-d543-440c-8cf0-19ac171d7200.jpeg",
         "price": "$156.00",
         "property_type": "Entire home",
         "review_scores_accuracy": "4.96",
         "review_scores_checkin": "4.93",
         "review_scores_cleanliness": "4.89",
         "review_scores_communication": "4.96",
         "review_scores_location": "4.93",
         "review_scores_rating": "4.89",
         "review_scores_value": "4.93",
         "reviews_per_month": "4.07",
         "room_type": "Entire home/apt",
         "scrape_id": "20221224045325",
         "source": "city scrape"
        }
       ]
      },
      "text/html": [
       "<div>\n",
       "<style scoped>\n",
       "    .dataframe tbody tr th:only-of-type {\n",
       "        vertical-align: middle;\n",
       "    }\n",
       "\n",
       "    .dataframe tbody tr th {\n",
       "        vertical-align: top;\n",
       "    }\n",
       "\n",
       "    .dataframe thead th {\n",
       "        text-align: right;\n",
       "    }\n",
       "</style>\n",
       "<table border=\"1\" class=\"dataframe\">\n",
       "  <thead>\n",
       "    <tr style=\"text-align: right;\">\n",
       "      <th></th>\n",
       "      <th>id</th>\n",
       "      <th>listing_url</th>\n",
       "      <th>scrape_id</th>\n",
       "      <th>last_scraped</th>\n",
       "      <th>source</th>\n",
       "      <th>name</th>\n",
       "      <th>description</th>\n",
       "      <th>neighborhood_overview</th>\n",
       "      <th>picture_url</th>\n",
       "      <th>host_id</th>\n",
       "      <th>host_url</th>\n",
       "      <th>host_name</th>\n",
       "      <th>host_since</th>\n",
       "      <th>host_location</th>\n",
       "      <th>host_about</th>\n",
       "      <th>host_response_time</th>\n",
       "      <th>host_response_rate</th>\n",
       "      <th>host_acceptance_rate</th>\n",
       "      <th>host_is_superhost</th>\n",
       "      <th>host_thumbnail_url</th>\n",
       "      <th>host_picture_url</th>\n",
       "      <th>host_neighbourhood</th>\n",
       "      <th>host_listings_count</th>\n",
       "      <th>host_total_listings_count</th>\n",
       "      <th>host_verifications</th>\n",
       "      <th>host_has_profile_pic</th>\n",
       "      <th>host_identity_verified</th>\n",
       "      <th>neighbourhood</th>\n",
       "      <th>neighbourhood_cleansed</th>\n",
       "      <th>neighbourhood_group_cleansed</th>\n",
       "      <th>latitude</th>\n",
       "      <th>longitude</th>\n",
       "      <th>property_type</th>\n",
       "      <th>room_type</th>\n",
       "      <th>accommodates</th>\n",
       "      <th>bathrooms</th>\n",
       "      <th>bathrooms_text</th>\n",
       "      <th>bedrooms</th>\n",
       "      <th>beds</th>\n",
       "      <th>amenities</th>\n",
       "      <th>price</th>\n",
       "      <th>minimum_nights</th>\n",
       "      <th>maximum_nights</th>\n",
       "      <th>minimum_minimum_nights</th>\n",
       "      <th>maximum_minimum_nights</th>\n",
       "      <th>minimum_maximum_nights</th>\n",
       "      <th>maximum_maximum_nights</th>\n",
       "      <th>minimum_nights_avg_ntm</th>\n",
       "      <th>maximum_nights_avg_ntm</th>\n",
       "      <th>calendar_updated</th>\n",
       "      <th>has_availability</th>\n",
       "      <th>availability_30</th>\n",
       "      <th>availability_60</th>\n",
       "      <th>availability_90</th>\n",
       "      <th>availability_365</th>\n",
       "      <th>calendar_last_scraped</th>\n",
       "      <th>number_of_reviews</th>\n",
       "      <th>number_of_reviews_ltm</th>\n",
       "      <th>number_of_reviews_l30d</th>\n",
       "      <th>first_review</th>\n",
       "      <th>last_review</th>\n",
       "      <th>review_scores_rating</th>\n",
       "      <th>review_scores_accuracy</th>\n",
       "      <th>review_scores_cleanliness</th>\n",
       "      <th>review_scores_checkin</th>\n",
       "      <th>review_scores_communication</th>\n",
       "      <th>review_scores_location</th>\n",
       "      <th>review_scores_value</th>\n",
       "      <th>license</th>\n",
       "      <th>instant_bookable</th>\n",
       "      <th>calculated_host_listings_count</th>\n",
       "      <th>calculated_host_listings_count_entire_homes</th>\n",
       "      <th>calculated_host_listings_count_private_rooms</th>\n",
       "      <th>calculated_host_listings_count_shared_rooms</th>\n",
       "      <th>reviews_per_month</th>\n",
       "    </tr>\n",
       "  </thead>\n",
       "  <tbody>\n",
       "    <tr>\n",
       "      <th>0</th>\n",
       "      <td>49113826</td>\n",
       "      <td>https://www.airbnb.com/rooms/49113826</td>\n",
       "      <td>20221224045325</td>\n",
       "      <td>2022-12-24</td>\n",
       "      <td>city scrape</td>\n",
       "      <td>Private Seattle Getaway Home Near Lake Washing...</td>\n",
       "      <td>A Seattle vacation destination for those from ...</td>\n",
       "      <td>SeaTac International Airport: 14 min drive&lt;br ...</td>\n",
       "      <td>https://a0.muscache.com/pictures/miso/Hosting-...</td>\n",
       "      <td>188538325</td>\n",
       "      <td>https://www.airbnb.com/users/show/188538325</td>\n",
       "      <td>Xiao</td>\n",
       "      <td>2018-05-08</td>\n",
       "      <td>Seattle, WA</td>\n",
       "      <td>NaN</td>\n",
       "      <td>within an hour</td>\n",
       "      <td>100%</td>\n",
       "      <td>100%</td>\n",
       "      <td>t</td>\n",
       "      <td>https://a0.muscache.com/im/pictures/user/32fd3...</td>\n",
       "      <td>https://a0.muscache.com/im/pictures/user/32fd3...</td>\n",
       "      <td>Oakland</td>\n",
       "      <td>4</td>\n",
       "      <td>4</td>\n",
       "      <td>['email', 'phone']</td>\n",
       "      <td>t</td>\n",
       "      <td>t</td>\n",
       "      <td>Seattle, Washington, United States</td>\n",
       "      <td>Rainier View</td>\n",
       "      <td>Rainier Valley</td>\n",
       "      <td>47.510280</td>\n",
       "      <td>-122.246680</td>\n",
       "      <td>Entire home</td>\n",
       "      <td>Entire home/apt</td>\n",
       "      <td>8</td>\n",
       "      <td>NaN</td>\n",
       "      <td>2 baths</td>\n",
       "      <td>4.0</td>\n",
       "      <td>4.0</td>\n",
       "      <td>[\"Hot water\", \"Dining table\", \"Toaster\", \"Refr...</td>\n",
       "      <td>$280.00</td>\n",
       "      <td>3</td>\n",
       "      <td>30</td>\n",
       "      <td>3.0</td>\n",
       "      <td>3.0</td>\n",
       "      <td>1125.0</td>\n",
       "      <td>1125.0</td>\n",
       "      <td>3.0</td>\n",
       "      <td>1125.0</td>\n",
       "      <td>NaN</td>\n",
       "      <td>t</td>\n",
       "      <td>23</td>\n",
       "      <td>53</td>\n",
       "      <td>83</td>\n",
       "      <td>341</td>\n",
       "      <td>2022-12-24</td>\n",
       "      <td>18</td>\n",
       "      <td>7</td>\n",
       "      <td>1</td>\n",
       "      <td>2021-06-22</td>\n",
       "      <td>2022-11-29</td>\n",
       "      <td>4.83</td>\n",
       "      <td>4.89</td>\n",
       "      <td>4.94</td>\n",
       "      <td>4.89</td>\n",
       "      <td>4.89</td>\n",
       "      <td>4.61</td>\n",
       "      <td>4.72</td>\n",
       "      <td>STR-OPLI-21-000235</td>\n",
       "      <td>f</td>\n",
       "      <td>1</td>\n",
       "      <td>1</td>\n",
       "      <td>0</td>\n",
       "      <td>0</td>\n",
       "      <td>0.98</td>\n",
       "    </tr>\n",
       "    <tr>\n",
       "      <th>1</th>\n",
       "      <td>7455832</td>\n",
       "      <td>https://www.airbnb.com/rooms/7455832</td>\n",
       "      <td>20221224045325</td>\n",
       "      <td>2022-12-24</td>\n",
       "      <td>city scrape</td>\n",
       "      <td>Classic remodeled in Georgetown</td>\n",
       "      <td>Enjoy your Seattle stay in the vibrant &amp; artis...</td>\n",
       "      <td>Georgetown is a cool neighborhood about three ...</td>\n",
       "      <td>https://a0.muscache.com/pictures/miso/Hosting-...</td>\n",
       "      <td>2144954</td>\n",
       "      <td>https://www.airbnb.com/users/show/2144954</td>\n",
       "      <td>Ryan</td>\n",
       "      <td>2012-04-15</td>\n",
       "      <td>Seattle, WA</td>\n",
       "      <td>NaN</td>\n",
       "      <td>within an hour</td>\n",
       "      <td>100%</td>\n",
       "      <td>100%</td>\n",
       "      <td>f</td>\n",
       "      <td>https://a0.muscache.com/im/pictures/user/a6711...</td>\n",
       "      <td>https://a0.muscache.com/im/pictures/user/a6711...</td>\n",
       "      <td>Greater Duwamish</td>\n",
       "      <td>2</td>\n",
       "      <td>2</td>\n",
       "      <td>['email', 'phone', 'work_email']</td>\n",
       "      <td>t</td>\n",
       "      <td>f</td>\n",
       "      <td>Seattle, Washington, United States</td>\n",
       "      <td>Georgetown</td>\n",
       "      <td>Other neighborhoods</td>\n",
       "      <td>47.544739</td>\n",
       "      <td>-122.319786</td>\n",
       "      <td>Entire home</td>\n",
       "      <td>Entire home/apt</td>\n",
       "      <td>6</td>\n",
       "      <td>NaN</td>\n",
       "      <td>2 baths</td>\n",
       "      <td>3.0</td>\n",
       "      <td>3.0</td>\n",
       "      <td>[\"Hot water\", \"Crib - available upon request\",...</td>\n",
       "      <td>$156.00</td>\n",
       "      <td>1</td>\n",
       "      <td>150</td>\n",
       "      <td>2.0</td>\n",
       "      <td>3.0</td>\n",
       "      <td>1125.0</td>\n",
       "      <td>1125.0</td>\n",
       "      <td>2.1</td>\n",
       "      <td>1125.0</td>\n",
       "      <td>NaN</td>\n",
       "      <td>t</td>\n",
       "      <td>17</td>\n",
       "      <td>35</td>\n",
       "      <td>65</td>\n",
       "      <td>329</td>\n",
       "      <td>2022-12-24</td>\n",
       "      <td>27</td>\n",
       "      <td>27</td>\n",
       "      <td>3</td>\n",
       "      <td>2022-06-09</td>\n",
       "      <td>2022-12-13</td>\n",
       "      <td>4.89</td>\n",
       "      <td>4.96</td>\n",
       "      <td>4.89</td>\n",
       "      <td>4.93</td>\n",
       "      <td>4.96</td>\n",
       "      <td>4.93</td>\n",
       "      <td>4.93</td>\n",
       "      <td>STR-OPLI-22-000359</td>\n",
       "      <td>t</td>\n",
       "      <td>2</td>\n",
       "      <td>2</td>\n",
       "      <td>0</td>\n",
       "      <td>0</td>\n",
       "      <td>4.07</td>\n",
       "    </tr>\n",
       "  </tbody>\n",
       "</table>\n",
       "</div>"
      ],
      "text/plain": [
       "         id                            listing_url       scrape_id  \\\n",
       "0  49113826  https://www.airbnb.com/rooms/49113826  20221224045325   \n",
       "1   7455832   https://www.airbnb.com/rooms/7455832  20221224045325   \n",
       "\n",
       "  last_scraped       source  \\\n",
       "0   2022-12-24  city scrape   \n",
       "1   2022-12-24  city scrape   \n",
       "\n",
       "                                                name  \\\n",
       "0  Private Seattle Getaway Home Near Lake Washing...   \n",
       "1                    Classic remodeled in Georgetown   \n",
       "\n",
       "                                         description  \\\n",
       "0  A Seattle vacation destination for those from ...   \n",
       "1  Enjoy your Seattle stay in the vibrant & artis...   \n",
       "\n",
       "                               neighborhood_overview  \\\n",
       "0  SeaTac International Airport: 14 min drive<br ...   \n",
       "1  Georgetown is a cool neighborhood about three ...   \n",
       "\n",
       "                                         picture_url    host_id  \\\n",
       "0  https://a0.muscache.com/pictures/miso/Hosting-...  188538325   \n",
       "1  https://a0.muscache.com/pictures/miso/Hosting-...    2144954   \n",
       "\n",
       "                                      host_url host_name  host_since  \\\n",
       "0  https://www.airbnb.com/users/show/188538325      Xiao  2018-05-08   \n",
       "1    https://www.airbnb.com/users/show/2144954      Ryan  2012-04-15   \n",
       "\n",
       "  host_location host_about host_response_time host_response_rate  \\\n",
       "0   Seattle, WA        NaN     within an hour               100%   \n",
       "1   Seattle, WA        NaN     within an hour               100%   \n",
       "\n",
       "  host_acceptance_rate host_is_superhost  \\\n",
       "0                 100%                 t   \n",
       "1                 100%                 f   \n",
       "\n",
       "                                  host_thumbnail_url  \\\n",
       "0  https://a0.muscache.com/im/pictures/user/32fd3...   \n",
       "1  https://a0.muscache.com/im/pictures/user/a6711...   \n",
       "\n",
       "                                    host_picture_url host_neighbourhood  \\\n",
       "0  https://a0.muscache.com/im/pictures/user/32fd3...            Oakland   \n",
       "1  https://a0.muscache.com/im/pictures/user/a6711...   Greater Duwamish   \n",
       "\n",
       "   host_listings_count  host_total_listings_count  \\\n",
       "0                    4                          4   \n",
       "1                    2                          2   \n",
       "\n",
       "                 host_verifications host_has_profile_pic  \\\n",
       "0                ['email', 'phone']                    t   \n",
       "1  ['email', 'phone', 'work_email']                    t   \n",
       "\n",
       "  host_identity_verified                       neighbourhood  \\\n",
       "0                      t  Seattle, Washington, United States   \n",
       "1                      f  Seattle, Washington, United States   \n",
       "\n",
       "  neighbourhood_cleansed neighbourhood_group_cleansed   latitude   longitude  \\\n",
       "0           Rainier View               Rainier Valley  47.510280 -122.246680   \n",
       "1             Georgetown          Other neighborhoods  47.544739 -122.319786   \n",
       "\n",
       "  property_type        room_type  accommodates  bathrooms bathrooms_text  \\\n",
       "0   Entire home  Entire home/apt             8        NaN        2 baths   \n",
       "1   Entire home  Entire home/apt             6        NaN        2 baths   \n",
       "\n",
       "   bedrooms  beds                                          amenities    price  \\\n",
       "0       4.0   4.0  [\"Hot water\", \"Dining table\", \"Toaster\", \"Refr...  $280.00   \n",
       "1       3.0   3.0  [\"Hot water\", \"Crib - available upon request\",...  $156.00   \n",
       "\n",
       "   minimum_nights  maximum_nights  minimum_minimum_nights  \\\n",
       "0               3              30                     3.0   \n",
       "1               1             150                     2.0   \n",
       "\n",
       "   maximum_minimum_nights  minimum_maximum_nights  maximum_maximum_nights  \\\n",
       "0                     3.0                  1125.0                  1125.0   \n",
       "1                     3.0                  1125.0                  1125.0   \n",
       "\n",
       "   minimum_nights_avg_ntm  maximum_nights_avg_ntm  calendar_updated  \\\n",
       "0                     3.0                  1125.0               NaN   \n",
       "1                     2.1                  1125.0               NaN   \n",
       "\n",
       "  has_availability  availability_30  availability_60  availability_90  \\\n",
       "0                t               23               53               83   \n",
       "1                t               17               35               65   \n",
       "\n",
       "   availability_365 calendar_last_scraped  number_of_reviews  \\\n",
       "0               341            2022-12-24                 18   \n",
       "1               329            2022-12-24                 27   \n",
       "\n",
       "   number_of_reviews_ltm  number_of_reviews_l30d first_review last_review  \\\n",
       "0                      7                       1   2021-06-22  2022-11-29   \n",
       "1                     27                       3   2022-06-09  2022-12-13   \n",
       "\n",
       "   review_scores_rating  review_scores_accuracy  review_scores_cleanliness  \\\n",
       "0                  4.83                    4.89                       4.94   \n",
       "1                  4.89                    4.96                       4.89   \n",
       "\n",
       "   review_scores_checkin  review_scores_communication  review_scores_location  \\\n",
       "0                   4.89                         4.89                    4.61   \n",
       "1                   4.93                         4.96                    4.93   \n",
       "\n",
       "   review_scores_value             license instant_bookable  \\\n",
       "0                 4.72  STR-OPLI-21-000235                f   \n",
       "1                 4.93  STR-OPLI-22-000359                t   \n",
       "\n",
       "   calculated_host_listings_count  \\\n",
       "0                               1   \n",
       "1                               2   \n",
       "\n",
       "   calculated_host_listings_count_entire_homes  \\\n",
       "0                                            1   \n",
       "1                                            2   \n",
       "\n",
       "   calculated_host_listings_count_private_rooms  \\\n",
       "0                                             0   \n",
       "1                                             0   \n",
       "\n",
       "   calculated_host_listings_count_shared_rooms  reviews_per_month  \n",
       "0                                            0               0.98  \n",
       "1                                            0               4.07  "
      ]
     },
     "execution_count": 6,
     "metadata": {},
     "output_type": "execute_result"
    }
   ],
   "source": [
    "listing_train.head(2)"
   ]
  },
  {
   "cell_type": "code",
   "execution_count": 7,
   "metadata": {
    "cell_id": "bd615cdf8e9c48caa1b0834d06beb812",
    "deepnote_cell_type": "code",
    "deepnote_to_be_reexecuted": false,
    "execution_millis": 36,
    "execution_start": 1678774753888,
    "source_hash": "4caac182"
   },
   "outputs": [
    {
     "name": "stdout",
     "output_type": "stream",
     "text": [
      "<class 'pandas.core.frame.DataFrame'>\n",
      "RangeIndex: 4933 entries, 0 to 4932\n",
      "Data columns (total 75 columns):\n",
      " #   Column                                        Non-Null Count  Dtype  \n",
      "---  ------                                        --------------  -----  \n",
      " 0   id                                            4933 non-null   int64  \n",
      " 1   listing_url                                   4933 non-null   object \n",
      " 2   scrape_id                                     4933 non-null   int64  \n",
      " 3   last_scraped                                  4933 non-null   object \n",
      " 4   source                                        4933 non-null   object \n",
      " 5   name                                          4933 non-null   object \n",
      " 6   description                                   4925 non-null   object \n",
      " 7   neighborhood_overview                         3591 non-null   object \n",
      " 8   picture_url                                   4933 non-null   object \n",
      " 9   host_id                                       4933 non-null   int64  \n",
      " 10  host_url                                      4933 non-null   object \n",
      " 11  host_name                                     4933 non-null   object \n",
      " 12  host_since                                    4933 non-null   object \n",
      " 13  host_location                                 4254 non-null   object \n",
      " 14  host_about                                    3562 non-null   object \n",
      " 15  host_response_time                            4324 non-null   object \n",
      " 16  host_response_rate                            4324 non-null   object \n",
      " 17  host_acceptance_rate                          4574 non-null   object \n",
      " 18  host_is_superhost                             4931 non-null   object \n",
      " 19  host_thumbnail_url                            4933 non-null   object \n",
      " 20  host_picture_url                              4933 non-null   object \n",
      " 21  host_neighbourhood                            4644 non-null   object \n",
      " 22  host_listings_count                           4933 non-null   int64  \n",
      " 23  host_total_listings_count                     4933 non-null   int64  \n",
      " 24  host_verifications                            4933 non-null   object \n",
      " 25  host_has_profile_pic                          4933 non-null   object \n",
      " 26  host_identity_verified                        4933 non-null   object \n",
      " 27  neighbourhood                                 3591 non-null   object \n",
      " 28  neighbourhood_cleansed                        4933 non-null   object \n",
      " 29  neighbourhood_group_cleansed                  4933 non-null   object \n",
      " 30  latitude                                      4933 non-null   float64\n",
      " 31  longitude                                     4933 non-null   float64\n",
      " 32  property_type                                 4933 non-null   object \n",
      " 33  room_type                                     4933 non-null   object \n",
      " 34  accommodates                                  4933 non-null   int64  \n",
      " 35  bathrooms                                     0 non-null      float64\n",
      " 36  bathrooms_text                                4930 non-null   object \n",
      " 37  bedrooms                                      4362 non-null   float64\n",
      " 38  beds                                          4879 non-null   float64\n",
      " 39  amenities                                     4933 non-null   object \n",
      " 40  price                                         4933 non-null   object \n",
      " 41  minimum_nights                                4933 non-null   int64  \n",
      " 42  maximum_nights                                4933 non-null   int64  \n",
      " 43  minimum_minimum_nights                        4931 non-null   float64\n",
      " 44  maximum_minimum_nights                        4931 non-null   float64\n",
      " 45  minimum_maximum_nights                        4931 non-null   float64\n",
      " 46  maximum_maximum_nights                        4931 non-null   float64\n",
      " 47  minimum_nights_avg_ntm                        4931 non-null   float64\n",
      " 48  maximum_nights_avg_ntm                        4931 non-null   float64\n",
      " 49  calendar_updated                              0 non-null      float64\n",
      " 50  has_availability                              4933 non-null   object \n",
      " 51  availability_30                               4933 non-null   int64  \n",
      " 52  availability_60                               4933 non-null   int64  \n",
      " 53  availability_90                               4933 non-null   int64  \n",
      " 54  availability_365                              4933 non-null   int64  \n",
      " 55  calendar_last_scraped                         4933 non-null   object \n",
      " 56  number_of_reviews                             4933 non-null   int64  \n",
      " 57  number_of_reviews_ltm                         4933 non-null   int64  \n",
      " 58  number_of_reviews_l30d                        4933 non-null   int64  \n",
      " 59  first_review                                  4095 non-null   object \n",
      " 60  last_review                                   4095 non-null   object \n",
      " 61  review_scores_rating                          4095 non-null   float64\n",
      " 62  review_scores_accuracy                        4093 non-null   float64\n",
      " 63  review_scores_cleanliness                     4093 non-null   float64\n",
      " 64  review_scores_checkin                         4093 non-null   float64\n",
      " 65  review_scores_communication                   4093 non-null   float64\n",
      " 66  review_scores_location                        4093 non-null   float64\n",
      " 67  review_scores_value                           4093 non-null   float64\n",
      " 68  license                                       3814 non-null   object \n",
      " 69  instant_bookable                              4933 non-null   object \n",
      " 70  calculated_host_listings_count                4933 non-null   int64  \n",
      " 71  calculated_host_listings_count_entire_homes   4933 non-null   int64  \n",
      " 72  calculated_host_listings_count_private_rooms  4933 non-null   int64  \n",
      " 73  calculated_host_listings_count_shared_rooms   4933 non-null   int64  \n",
      " 74  reviews_per_month                             4095 non-null   float64\n",
      "dtypes: float64(20), int64(19), object(36)\n",
      "memory usage: 2.8+ MB\n"
     ]
    }
   ],
   "source": [
    "listing_train.info()"
   ]
  },
  {
   "cell_type": "code",
   "execution_count": 8,
   "metadata": {
    "cell_id": "48474997493a413ea1d459ff878f7e37",
    "deepnote_cell_type": "code",
    "deepnote_to_be_reexecuted": false,
    "execution_millis": 3,
    "execution_start": 1678774753925,
    "source_hash": "25e69f90"
   },
   "outputs": [
    {
     "data": {
      "text/plain": [
       "array(['2022-12-24'], dtype=object)"
      ]
     },
     "execution_count": 8,
     "metadata": {},
     "output_type": "execute_result"
    }
   ],
   "source": [
    "listing_train.last_scraped.unique()"
   ]
  },
  {
   "cell_type": "code",
   "execution_count": 9,
   "metadata": {
    "cell_id": "1a10c3b4445742cf87785a7046d8ef79",
    "deepnote_cell_type": "code",
    "deepnote_to_be_reexecuted": false,
    "execution_millis": 252,
    "execution_start": 1678774753940,
    "source_hash": "b8c27085"
   },
   "outputs": [
    {
     "data": {
      "application/vnd.deepnote.dataframe.v3+json": {
       "column_count": 39,
       "columns": [
        {
         "dtype": "float64",
         "name": "id",
         "stats": {
          "histogram": [
           {
            "bin_end": 78781397069508130,
            "bin_start": 4933,
            "count": 4
           },
           {
            "bin_end": 157562794139011330,
            "bin_start": 78781397069508130,
            "count": 0
           },
           {
            "bin_end": 236344191208514530,
            "bin_start": 157562794139011330,
            "count": 1
           },
           {
            "bin_end": 315125588278017700,
            "bin_start": 236344191208514530,
            "count": 0
           },
           {
            "bin_end": 393906985347520960,
            "bin_start": 315125588278017700,
            "count": 1
           },
           {
            "bin_end": 472688382417024100,
            "bin_start": 393906985347520960,
            "count": 0
           },
           {
            "bin_end": 551469779486527300,
            "bin_start": 472688382417024100,
            "count": 0
           },
           {
            "bin_end": 630251176556030600,
            "bin_start": 551469779486527300,
            "count": 1
           },
           {
            "bin_end": 709032573625533800,
            "bin_start": 630251176556030600,
            "count": 0
           },
           {
            "bin_end": 787813970695036900,
            "bin_start": 709032573625533800,
            "count": 1
           }
          ],
          "max": "7.878139706950369e+17",
          "min": "4933.0",
          "nan_count": 0,
          "unique_count": 8
         }
        },
        {
         "dtype": "float64",
         "name": "scrape_id",
         "stats": {
          "histogram": [
           {
            "bin_end": 2022122404532.5,
            "bin_start": 0,
            "count": 2
           },
           {
            "bin_end": 4044244809065,
            "bin_start": 2022122404532.5,
            "count": 0
           },
           {
            "bin_end": 6066367213597.5,
            "bin_start": 4044244809065,
            "count": 0
           },
           {
            "bin_end": 8088489618130,
            "bin_start": 6066367213597.5,
            "count": 0
           },
           {
            "bin_end": 10110612022662.5,
            "bin_start": 8088489618130,
            "count": 0
           },
           {
            "bin_end": 12132734427195,
            "bin_start": 10110612022662.5,
            "count": 0
           },
           {
            "bin_end": 14154856831727.5,
            "bin_start": 12132734427195,
            "count": 0
           },
           {
            "bin_end": 16176979236260,
            "bin_start": 14154856831727.5,
            "count": 0
           },
           {
            "bin_end": 18199101640792.5,
            "bin_start": 16176979236260,
            "count": 0
           },
           {
            "bin_end": 20221224045325,
            "bin_start": 18199101640792.5,
            "count": 6
           }
          ],
          "max": "20221224045325.0",
          "min": "0.0",
          "nan_count": 0,
          "unique_count": 3
         }
        },
        {
         "dtype": "float64",
         "name": "host_id",
         "stats": {
          "histogram": [
           {
            "bin_end": 49199239.1,
            "bin_start": 2536,
            "count": 3
           },
           {
            "bin_end": 98395942.2,
            "bin_start": 49199239.1,
            "count": 1
           },
           {
            "bin_end": 147592645.3,
            "bin_start": 98395942.2,
            "count": 2
           },
           {
            "bin_end": 196789348.4,
            "bin_start": 147592645.3,
            "count": 1
           },
           {
            "bin_end": 245986051.5,
            "bin_start": 196789348.4,
            "count": 0
           },
           {
            "bin_end": 295182754.6,
            "bin_start": 245986051.5,
            "count": 0
           },
           {
            "bin_end": 344379457.7,
            "bin_start": 295182754.6,
            "count": 0
           },
           {
            "bin_end": 393576160.8,
            "bin_start": 344379457.7,
            "count": 0
           },
           {
            "bin_end": 442772863.90000004,
            "bin_start": 393576160.8,
            "count": 0
           },
           {
            "bin_end": 491969567,
            "bin_start": 442772863.90000004,
            "count": 1
           }
          ],
          "max": "491969567.0",
          "min": "2536.0",
          "nan_count": 0,
          "unique_count": 8
         }
        },
        {
         "dtype": "float64",
         "name": "host_listings_count",
         "stats": {
          "histogram": [
           {
            "bin_end": 494.2,
            "bin_start": 1,
            "count": 5
           },
           {
            "bin_end": 987.4,
            "bin_start": 494.2,
            "count": 0
           },
           {
            "bin_end": 1480.6,
            "bin_start": 987.4,
            "count": 1
           },
           {
            "bin_end": 1973.8,
            "bin_start": 1480.6,
            "count": 0
           },
           {
            "bin_end": 2467,
            "bin_start": 1973.8,
            "count": 0
           },
           {
            "bin_end": 2960.2,
            "bin_start": 2467,
            "count": 0
           },
           {
            "bin_end": 3453.4,
            "bin_start": 2960.2,
            "count": 0
           },
           {
            "bin_end": 3946.6,
            "bin_start": 3453.4,
            "count": 0
           },
           {
            "bin_end": 4439.8,
            "bin_start": 3946.6,
            "count": 0
           },
           {
            "bin_end": 4933,
            "bin_start": 4439.8,
            "count": 2
           }
          ],
          "max": "4933.0",
          "min": "1.0",
          "nan_count": 0,
          "unique_count": 7
         }
        },
        {
         "dtype": "float64",
         "name": "host_total_listings_count",
         "stats": {
          "histogram": [
           {
            "bin_end": 508.1,
            "bin_start": 1,
            "count": 5
           },
           {
            "bin_end": 1015.2,
            "bin_start": 508.1,
            "count": 0
           },
           {
            "bin_end": 1522.3000000000002,
            "bin_start": 1015.2,
            "count": 1
           },
           {
            "bin_end": 2029.4,
            "bin_start": 1522.3000000000002,
            "count": 0
           },
           {
            "bin_end": 2536.5,
            "bin_start": 2029.4,
            "count": 0
           },
           {
            "bin_end": 3043.6000000000004,
            "bin_start": 2536.5,
            "count": 0
           },
           {
            "bin_end": 3550.7000000000003,
            "bin_start": 3043.6000000000004,
            "count": 0
           },
           {
            "bin_end": 4057.8,
            "bin_start": 3550.7000000000003,
            "count": 0
           },
           {
            "bin_end": 4564.900000000001,
            "bin_start": 4057.8,
            "count": 0
           },
           {
            "bin_end": 5072,
            "bin_start": 4564.900000000001,
            "count": 2
           }
          ],
          "max": "5072.0",
          "min": "1.0",
          "nan_count": 0,
          "unique_count": 7
         }
        },
        {
         "dtype": "float64",
         "name": "latitude",
         "stats": {
          "histogram": [
           {
            "bin_end": 493.34460469599367,
            "bin_start": 0.049560773326341796,
            "count": 7
           },
           {
            "bin_end": 986.639648618661,
            "bin_start": 493.34460469599367,
            "count": 0
           },
           {
            "bin_end": 1479.9346925413283,
            "bin_start": 986.639648618661,
            "count": 0
           },
           {
            "bin_end": 1973.2297364639958,
            "bin_start": 1479.9346925413283,
            "count": 0
           },
           {
            "bin_end": 2466.524780386663,
            "bin_start": 1973.2297364639958,
            "count": 0
           },
           {
            "bin_end": 2959.81982430933,
            "bin_start": 2466.524780386663,
            "count": 0
           },
           {
            "bin_end": 3453.1148682319977,
            "bin_start": 2959.81982430933,
            "count": 0
           },
           {
            "bin_end": 3946.409912154665,
            "bin_start": 3453.1148682319977,
            "count": 0
           },
           {
            "bin_end": 4439.704956077332,
            "bin_start": 3946.409912154665,
            "count": 0
           },
           {
            "bin_end": 4933,
            "bin_start": 4439.704956077332,
            "count": 1
           }
          ],
          "max": "4933.0",
          "min": "0.049560773326341796",
          "nan_count": 0,
          "unique_count": 8
         }
        },
        {
         "dtype": "float64",
         "name": "longitude",
         "stats": {
          "histogram": [
           {
            "bin_end": 383.1228550000001,
            "bin_start": -122.41905,
            "count": 7
           },
           {
            "bin_end": 888.6647600000001,
            "bin_start": 383.1228550000001,
            "count": 0
           },
           {
            "bin_end": 1394.2066650000002,
            "bin_start": 888.6647600000001,
            "count": 0
           },
           {
            "bin_end": 1899.7485700000002,
            "bin_start": 1394.2066650000002,
            "count": 0
           },
           {
            "bin_end": 2405.2904750000002,
            "bin_start": 1899.7485700000002,
            "count": 0
           },
           {
            "bin_end": 2910.8323800000003,
            "bin_start": 2405.2904750000002,
            "count": 0
           },
           {
            "bin_end": 3416.3742850000003,
            "bin_start": 2910.8323800000003,
            "count": 0
           },
           {
            "bin_end": 3921.9161900000004,
            "bin_start": 3416.3742850000003,
            "count": 0
           },
           {
            "bin_end": 4427.458095,
            "bin_start": 3921.9161900000004,
            "count": 0
           },
           {
            "bin_end": 4933,
            "bin_start": 4427.458095,
            "count": 1
           }
          ],
          "max": "4933.0",
          "min": "-122.41905",
          "nan_count": 0,
          "unique_count": 8
         }
        },
        {
         "dtype": "float64",
         "name": "accommodates",
         "stats": {
          "histogram": [
           {
            "bin_end": 493.3,
            "bin_start": 0,
            "count": 7
           },
           {
            "bin_end": 986.6,
            "bin_start": 493.3,
            "count": 0
           },
           {
            "bin_end": 1479.9,
            "bin_start": 986.6,
            "count": 0
           },
           {
            "bin_end": 1973.2,
            "bin_start": 1479.9,
            "count": 0
           },
           {
            "bin_end": 2466.5,
            "bin_start": 1973.2,
            "count": 0
           },
           {
            "bin_end": 2959.8,
            "bin_start": 2466.5,
            "count": 0
           },
           {
            "bin_end": 3453.1,
            "bin_start": 2959.8,
            "count": 0
           },
           {
            "bin_end": 3946.4,
            "bin_start": 3453.1,
            "count": 0
           },
           {
            "bin_end": 4439.7,
            "bin_start": 3946.4,
            "count": 0
           },
           {
            "bin_end": 4933,
            "bin_start": 4439.7,
            "count": 1
           }
          ],
          "max": "4933.0",
          "min": "0.0",
          "nan_count": 0,
          "unique_count": 8
         }
        },
        {
         "dtype": "float64",
         "name": "bathrooms",
         "stats": {
          "histogram": [
           {
            "bin_end": -0.4,
            "bin_start": -0.5,
            "count": 0
           },
           {
            "bin_end": -0.3,
            "bin_start": -0.4,
            "count": 0
           },
           {
            "bin_end": -0.19999999999999996,
            "bin_start": -0.3,
            "count": 0
           },
           {
            "bin_end": -0.09999999999999998,
            "bin_start": -0.19999999999999996,
            "count": 0
           },
           {
            "bin_end": 0,
            "bin_start": -0.09999999999999998,
            "count": 0
           },
           {
            "bin_end": 0.10000000000000009,
            "bin_start": 0,
            "count": 1
           },
           {
            "bin_end": 0.20000000000000007,
            "bin_start": 0.10000000000000009,
            "count": 0
           },
           {
            "bin_end": 0.30000000000000004,
            "bin_start": 0.20000000000000007,
            "count": 0
           },
           {
            "bin_end": 0.4,
            "bin_start": 0.30000000000000004,
            "count": 0
           },
           {
            "bin_end": 0.5,
            "bin_start": 0.4,
            "count": 0
           }
          ],
          "max": "0.0",
          "min": "0.0",
          "nan_count": 7,
          "unique_count": 1
         }
        },
        {
         "dtype": "float64",
         "name": "bedrooms",
         "stats": {
          "histogram": [
           {
            "bin_end": 437.1,
            "bin_start": 1,
            "count": 7
           },
           {
            "bin_end": 873.2,
            "bin_start": 437.1,
            "count": 0
           },
           {
            "bin_end": 1309.3000000000002,
            "bin_start": 873.2,
            "count": 0
           },
           {
            "bin_end": 1745.4,
            "bin_start": 1309.3000000000002,
            "count": 0
           },
           {
            "bin_end": 2181.5,
            "bin_start": 1745.4,
            "count": 0
           },
           {
            "bin_end": 2617.6000000000004,
            "bin_start": 2181.5,
            "count": 0
           },
           {
            "bin_end": 3053.7000000000003,
            "bin_start": 2617.6000000000004,
            "count": 0
           },
           {
            "bin_end": 3489.8,
            "bin_start": 3053.7000000000003,
            "count": 0
           },
           {
            "bin_end": 3925.9,
            "bin_start": 3489.8,
            "count": 0
           },
           {
            "bin_end": 4362,
            "bin_start": 3925.9,
            "count": 1
           }
          ],
          "max": "4362.0",
          "min": "1.0",
          "nan_count": 0,
          "unique_count": 6
         }
        },
        {
         "dtype": "float64",
         "name": "beds",
         "stats": {
          "histogram": [
           {
            "bin_end": 488.8,
            "bin_start": 1,
            "count": 7
           },
           {
            "bin_end": 976.6,
            "bin_start": 488.8,
            "count": 0
           },
           {
            "bin_end": 1464.4,
            "bin_start": 976.6,
            "count": 0
           },
           {
            "bin_end": 1952.2,
            "bin_start": 1464.4,
            "count": 0
           },
           {
            "bin_end": 2440,
            "bin_start": 1952.2,
            "count": 0
           },
           {
            "bin_end": 2927.8,
            "bin_start": 2440,
            "count": 0
           },
           {
            "bin_end": 3415.6,
            "bin_start": 2927.8,
            "count": 0
           },
           {
            "bin_end": 3903.4,
            "bin_start": 3415.6,
            "count": 0
           },
           {
            "bin_end": 4391.2,
            "bin_start": 3903.4,
            "count": 0
           },
           {
            "bin_end": 4879,
            "bin_start": 4391.2,
            "count": 1
           }
          ],
          "max": "4879.0",
          "min": "1.0",
          "nan_count": 0,
          "unique_count": 7
         }
        },
        {
         "dtype": "float64",
         "name": "minimum_nights",
         "stats": {
          "histogram": [
           {
            "bin_end": 494.2,
            "bin_start": 1,
            "count": 7
           },
           {
            "bin_end": 987.4,
            "bin_start": 494.2,
            "count": 0
           },
           {
            "bin_end": 1480.6,
            "bin_start": 987.4,
            "count": 0
           },
           {
            "bin_end": 1973.8,
            "bin_start": 1480.6,
            "count": 0
           },
           {
            "bin_end": 2467,
            "bin_start": 1973.8,
            "count": 0
           },
           {
            "bin_end": 2960.2,
            "bin_start": 2467,
            "count": 0
           },
           {
            "bin_end": 3453.4,
            "bin_start": 2960.2,
            "count": 0
           },
           {
            "bin_end": 3946.6,
            "bin_start": 3453.4,
            "count": 0
           },
           {
            "bin_end": 4439.8,
            "bin_start": 3946.6,
            "count": 0
           },
           {
            "bin_end": 4933,
            "bin_start": 4439.8,
            "count": 1
           }
          ],
          "max": "4933.0",
          "min": "1.0",
          "nan_count": 0,
          "unique_count": 8
         }
        },
        {
         "dtype": "float64",
         "name": "maximum_nights",
         "stats": {
          "histogram": [
           {
            "bin_end": 1000.9,
            "bin_start": 1,
            "count": 5
           },
           {
            "bin_end": 2000.8,
            "bin_start": 1000.9,
            "count": 1
           },
           {
            "bin_end": 3000.7,
            "bin_start": 2000.8,
            "count": 0
           },
           {
            "bin_end": 4000.6,
            "bin_start": 3000.7,
            "count": 0
           },
           {
            "bin_end": 5000.5,
            "bin_start": 4000.6,
            "count": 1
           },
           {
            "bin_end": 6000.4,
            "bin_start": 5000.5,
            "count": 0
           },
           {
            "bin_end": 7000.3,
            "bin_start": 6000.4,
            "count": 0
           },
           {
            "bin_end": 8000.2,
            "bin_start": 7000.3,
            "count": 0
           },
           {
            "bin_end": 9000.1,
            "bin_start": 8000.2,
            "count": 0
           },
           {
            "bin_end": 10000,
            "bin_start": 9000.1,
            "count": 1
           }
          ],
          "max": "10000.0",
          "min": "1.0",
          "nan_count": 0,
          "unique_count": 8
         }
        },
        {
         "dtype": "float64",
         "name": "minimum_minimum_nights",
         "stats": {
          "histogram": [
           {
            "bin_end": 494,
            "bin_start": 1,
            "count": 7
           },
           {
            "bin_end": 987,
            "bin_start": 494,
            "count": 0
           },
           {
            "bin_end": 1480,
            "bin_start": 987,
            "count": 0
           },
           {
            "bin_end": 1973,
            "bin_start": 1480,
            "count": 0
           },
           {
            "bin_end": 2466,
            "bin_start": 1973,
            "count": 0
           },
           {
            "bin_end": 2959,
            "bin_start": 2466,
            "count": 0
           },
           {
            "bin_end": 3452,
            "bin_start": 2959,
            "count": 0
           },
           {
            "bin_end": 3945,
            "bin_start": 3452,
            "count": 0
           },
           {
            "bin_end": 4438,
            "bin_start": 3945,
            "count": 0
           },
           {
            "bin_end": 4931,
            "bin_start": 4438,
            "count": 1
           }
          ],
          "max": "4931.0",
          "min": "1.0",
          "nan_count": 0,
          "unique_count": 7
         }
        },
        {
         "dtype": "float64",
         "name": "maximum_minimum_nights",
         "stats": {
          "histogram": [
           {
            "bin_end": 494,
            "bin_start": 1,
            "count": 7
           },
           {
            "bin_end": 987,
            "bin_start": 494,
            "count": 0
           },
           {
            "bin_end": 1480,
            "bin_start": 987,
            "count": 0
           },
           {
            "bin_end": 1973,
            "bin_start": 1480,
            "count": 0
           },
           {
            "bin_end": 2466,
            "bin_start": 1973,
            "count": 0
           },
           {
            "bin_end": 2959,
            "bin_start": 2466,
            "count": 0
           },
           {
            "bin_end": 3452,
            "bin_start": 2959,
            "count": 0
           },
           {
            "bin_end": 3945,
            "bin_start": 3452,
            "count": 0
           },
           {
            "bin_end": 4438,
            "bin_start": 3945,
            "count": 0
           },
           {
            "bin_end": 4931,
            "bin_start": 4438,
            "count": 1
           }
          ],
          "max": "4931.0",
          "min": "1.0",
          "nan_count": 0,
          "unique_count": 8
         }
        },
        {
         "dtype": "float64",
         "name": "minimum_maximum_nights",
         "stats": {
          "histogram": [
           {
            "bin_end": 214748365.6,
            "bin_start": 1,
            "count": 7
           },
           {
            "bin_end": 429496730.2,
            "bin_start": 214748365.6,
            "count": 0
           },
           {
            "bin_end": 644245094.8,
            "bin_start": 429496730.2,
            "count": 0
           },
           {
            "bin_end": 858993459.4,
            "bin_start": 644245094.8,
            "count": 0
           },
           {
            "bin_end": 1073741824,
            "bin_start": 858993459.4,
            "count": 0
           },
           {
            "bin_end": 1288490188.6,
            "bin_start": 1073741824,
            "count": 0
           },
           {
            "bin_end": 1503238553.2,
            "bin_start": 1288490188.6,
            "count": 0
           },
           {
            "bin_end": 1717986917.8,
            "bin_start": 1503238553.2,
            "count": 0
           },
           {
            "bin_end": 1932735282.3999999,
            "bin_start": 1717986917.8,
            "count": 0
           },
           {
            "bin_end": 2147483647,
            "bin_start": 1932735282.3999999,
            "count": 1
           }
          ],
          "max": "2147483647.0",
          "min": "1.0",
          "nan_count": 0,
          "unique_count": 7
         }
        },
        {
         "dtype": "float64",
         "name": "maximum_maximum_nights",
         "stats": {
          "histogram": [
           {
            "bin_end": 214748365.6,
            "bin_start": 1,
            "count": 7
           },
           {
            "bin_end": 429496730.2,
            "bin_start": 214748365.6,
            "count": 0
           },
           {
            "bin_end": 644245094.8,
            "bin_start": 429496730.2,
            "count": 0
           },
           {
            "bin_end": 858993459.4,
            "bin_start": 644245094.8,
            "count": 0
           },
           {
            "bin_end": 1073741824,
            "bin_start": 858993459.4,
            "count": 0
           },
           {
            "bin_end": 1288490188.6,
            "bin_start": 1073741824,
            "count": 0
           },
           {
            "bin_end": 1503238553.2,
            "bin_start": 1288490188.6,
            "count": 0
           },
           {
            "bin_end": 1717986917.8,
            "bin_start": 1503238553.2,
            "count": 0
           },
           {
            "bin_end": 1932735282.3999999,
            "bin_start": 1717986917.8,
            "count": 0
           },
           {
            "bin_end": 2147483647,
            "bin_start": 1932735282.3999999,
            "count": 1
           }
          ],
          "max": "2147483647.0",
          "min": "1.0",
          "nan_count": 0,
          "unique_count": 7
         }
        },
        {
         "dtype": "float64",
         "name": "minimum_nights_avg_ntm",
         "stats": {
          "histogram": [
           {
            "bin_end": 494,
            "bin_start": 1,
            "count": 7
           },
           {
            "bin_end": 987,
            "bin_start": 494,
            "count": 0
           },
           {
            "bin_end": 1480,
            "bin_start": 987,
            "count": 0
           },
           {
            "bin_end": 1973,
            "bin_start": 1480,
            "count": 0
           },
           {
            "bin_end": 2466,
            "bin_start": 1973,
            "count": 0
           },
           {
            "bin_end": 2959,
            "bin_start": 2466,
            "count": 0
           },
           {
            "bin_end": 3452,
            "bin_start": 2959,
            "count": 0
           },
           {
            "bin_end": 3945,
            "bin_start": 3452,
            "count": 0
           },
           {
            "bin_end": 4438,
            "bin_start": 3945,
            "count": 0
           },
           {
            "bin_end": 4931,
            "bin_start": 4438,
            "count": 1
           }
          ],
          "max": "4931.0",
          "min": "1.0",
          "nan_count": 0,
          "unique_count": 8
         }
        },
        {
         "dtype": "float64",
         "name": "maximum_nights_avg_ntm",
         "stats": {
          "histogram": [
           {
            "bin_end": 214748365.6,
            "bin_start": 1,
            "count": 7
           },
           {
            "bin_end": 429496730.2,
            "bin_start": 214748365.6,
            "count": 0
           },
           {
            "bin_end": 644245094.8,
            "bin_start": 429496730.2,
            "count": 0
           },
           {
            "bin_end": 858993459.4,
            "bin_start": 644245094.8,
            "count": 0
           },
           {
            "bin_end": 1073741824,
            "bin_start": 858993459.4,
            "count": 0
           },
           {
            "bin_end": 1288490188.6,
            "bin_start": 1073741824,
            "count": 0
           },
           {
            "bin_end": 1503238553.2,
            "bin_start": 1288490188.6,
            "count": 0
           },
           {
            "bin_end": 1717986917.8,
            "bin_start": 1503238553.2,
            "count": 0
           },
           {
            "bin_end": 1932735282.3999999,
            "bin_start": 1717986917.8,
            "count": 0
           },
           {
            "bin_end": 2147483647,
            "bin_start": 1932735282.3999999,
            "count": 1
           }
          ],
          "max": "2147483647.0",
          "min": "1.0",
          "nan_count": 0,
          "unique_count": 7
         }
        },
        {
         "dtype": "float64",
         "name": "calendar_updated",
         "stats": {
          "histogram": [
           {
            "bin_end": -0.4,
            "bin_start": -0.5,
            "count": 0
           },
           {
            "bin_end": -0.3,
            "bin_start": -0.4,
            "count": 0
           },
           {
            "bin_end": -0.19999999999999996,
            "bin_start": -0.3,
            "count": 0
           },
           {
            "bin_end": -0.09999999999999998,
            "bin_start": -0.19999999999999996,
            "count": 0
           },
           {
            "bin_end": 0,
            "bin_start": -0.09999999999999998,
            "count": 0
           },
           {
            "bin_end": 0.10000000000000009,
            "bin_start": 0,
            "count": 1
           },
           {
            "bin_end": 0.20000000000000007,
            "bin_start": 0.10000000000000009,
            "count": 0
           },
           {
            "bin_end": 0.30000000000000004,
            "bin_start": 0.20000000000000007,
            "count": 0
           },
           {
            "bin_end": 0.4,
            "bin_start": 0.30000000000000004,
            "count": 0
           },
           {
            "bin_end": 0.5,
            "bin_start": 0.4,
            "count": 0
           }
          ],
          "max": "0.0",
          "min": "0.0",
          "nan_count": 7,
          "unique_count": 1
         }
        },
        {
         "dtype": "float64",
         "name": "availability_30",
         "stats": {
          "histogram": [
           {
            "bin_end": 493.3,
            "bin_start": 0,
            "count": 7
           },
           {
            "bin_end": 986.6,
            "bin_start": 493.3,
            "count": 0
           },
           {
            "bin_end": 1479.9,
            "bin_start": 986.6,
            "count": 0
           },
           {
            "bin_end": 1973.2,
            "bin_start": 1479.9,
            "count": 0
           },
           {
            "bin_end": 2466.5,
            "bin_start": 1973.2,
            "count": 0
           },
           {
            "bin_end": 2959.8,
            "bin_start": 2466.5,
            "count": 0
           },
           {
            "bin_end": 3453.1,
            "bin_start": 2959.8,
            "count": 0
           },
           {
            "bin_end": 3946.4,
            "bin_start": 3453.1,
            "count": 0
           },
           {
            "bin_end": 4439.7,
            "bin_start": 3946.4,
            "count": 0
           },
           {
            "bin_end": 4933,
            "bin_start": 4439.7,
            "count": 1
           }
          ],
          "max": "4933.0",
          "min": "0.0",
          "nan_count": 0,
          "unique_count": 8
         }
        },
        {
         "dtype": "float64",
         "name": "availability_60",
         "stats": {
          "histogram": [
           {
            "bin_end": 493.3,
            "bin_start": 0,
            "count": 7
           },
           {
            "bin_end": 986.6,
            "bin_start": 493.3,
            "count": 0
           },
           {
            "bin_end": 1479.9,
            "bin_start": 986.6,
            "count": 0
           },
           {
            "bin_end": 1973.2,
            "bin_start": 1479.9,
            "count": 0
           },
           {
            "bin_end": 2466.5,
            "bin_start": 1973.2,
            "count": 0
           },
           {
            "bin_end": 2959.8,
            "bin_start": 2466.5,
            "count": 0
           },
           {
            "bin_end": 3453.1,
            "bin_start": 2959.8,
            "count": 0
           },
           {
            "bin_end": 3946.4,
            "bin_start": 3453.1,
            "count": 0
           },
           {
            "bin_end": 4439.7,
            "bin_start": 3946.4,
            "count": 0
           },
           {
            "bin_end": 4933,
            "bin_start": 4439.7,
            "count": 1
           }
          ],
          "max": "4933.0",
          "min": "0.0",
          "nan_count": 0,
          "unique_count": 8
         }
        },
        {
         "dtype": "float64",
         "name": "availability_90",
         "stats": {
          "histogram": [
           {
            "bin_end": 493.3,
            "bin_start": 0,
            "count": 7
           },
           {
            "bin_end": 986.6,
            "bin_start": 493.3,
            "count": 0
           },
           {
            "bin_end": 1479.9,
            "bin_start": 986.6,
            "count": 0
           },
           {
            "bin_end": 1973.2,
            "bin_start": 1479.9,
            "count": 0
           },
           {
            "bin_end": 2466.5,
            "bin_start": 1973.2,
            "count": 0
           },
           {
            "bin_end": 2959.8,
            "bin_start": 2466.5,
            "count": 0
           },
           {
            "bin_end": 3453.1,
            "bin_start": 2959.8,
            "count": 0
           },
           {
            "bin_end": 3946.4,
            "bin_start": 3453.1,
            "count": 0
           },
           {
            "bin_end": 4439.7,
            "bin_start": 3946.4,
            "count": 0
           },
           {
            "bin_end": 4933,
            "bin_start": 4439.7,
            "count": 1
           }
          ],
          "max": "4933.0",
          "min": "0.0",
          "nan_count": 0,
          "unique_count": 8
         }
        },
        {
         "dtype": "float64",
         "name": "availability_365",
         "stats": {
          "histogram": [
           {
            "bin_end": 493.3,
            "bin_start": 0,
            "count": 7
           },
           {
            "bin_end": 986.6,
            "bin_start": 493.3,
            "count": 0
           },
           {
            "bin_end": 1479.9,
            "bin_start": 986.6,
            "count": 0
           },
           {
            "bin_end": 1973.2,
            "bin_start": 1479.9,
            "count": 0
           },
           {
            "bin_end": 2466.5,
            "bin_start": 1973.2,
            "count": 0
           },
           {
            "bin_end": 2959.8,
            "bin_start": 2466.5,
            "count": 0
           },
           {
            "bin_end": 3453.1,
            "bin_start": 2959.8,
            "count": 0
           },
           {
            "bin_end": 3946.4,
            "bin_start": 3453.1,
            "count": 0
           },
           {
            "bin_end": 4439.7,
            "bin_start": 3946.4,
            "count": 0
           },
           {
            "bin_end": 4933,
            "bin_start": 4439.7,
            "count": 1
           }
          ],
          "max": "4933.0",
          "min": "0.0",
          "nan_count": 0,
          "unique_count": 8
         }
        },
        {
         "dtype": "float64",
         "name": "number_of_reviews",
         "stats": {
          "histogram": [
           {
            "bin_end": 493.3,
            "bin_start": 0,
            "count": 6
           },
           {
            "bin_end": 986.6,
            "bin_start": 493.3,
            "count": 0
           },
           {
            "bin_end": 1479.9,
            "bin_start": 986.6,
            "count": 1
           },
           {
            "bin_end": 1973.2,
            "bin_start": 1479.9,
            "count": 0
           },
           {
            "bin_end": 2466.5,
            "bin_start": 1973.2,
            "count": 0
           },
           {
            "bin_end": 2959.8,
            "bin_start": 2466.5,
            "count": 0
           },
           {
            "bin_end": 3453.1,
            "bin_start": 2959.8,
            "count": 0
           },
           {
            "bin_end": 3946.4,
            "bin_start": 3453.1,
            "count": 0
           },
           {
            "bin_end": 4439.7,
            "bin_start": 3946.4,
            "count": 0
           },
           {
            "bin_end": 4933,
            "bin_start": 4439.7,
            "count": 1
           }
          ],
          "max": "4933.0",
          "min": "0.0",
          "nan_count": 0,
          "unique_count": 8
         }
        },
        {
         "dtype": "float64",
         "name": "number_of_reviews_ltm",
         "stats": {
          "histogram": [
           {
            "bin_end": 493.3,
            "bin_start": 0,
            "count": 7
           },
           {
            "bin_end": 986.6,
            "bin_start": 493.3,
            "count": 0
           },
           {
            "bin_end": 1479.9,
            "bin_start": 986.6,
            "count": 0
           },
           {
            "bin_end": 1973.2,
            "bin_start": 1479.9,
            "count": 0
           },
           {
            "bin_end": 2466.5,
            "bin_start": 1973.2,
            "count": 0
           },
           {
            "bin_end": 2959.8,
            "bin_start": 2466.5,
            "count": 0
           },
           {
            "bin_end": 3453.1,
            "bin_start": 2959.8,
            "count": 0
           },
           {
            "bin_end": 3946.4,
            "bin_start": 3453.1,
            "count": 0
           },
           {
            "bin_end": 4439.7,
            "bin_start": 3946.4,
            "count": 0
           },
           {
            "bin_end": 4933,
            "bin_start": 4439.7,
            "count": 1
           }
          ],
          "max": "4933.0",
          "min": "0.0",
          "nan_count": 0,
          "unique_count": 8
         }
        },
        {
         "dtype": "float64",
         "name": "number_of_reviews_l30d",
         "stats": {
          "histogram": [
           {
            "bin_end": 493.3,
            "bin_start": 0,
            "count": 7
           },
           {
            "bin_end": 986.6,
            "bin_start": 493.3,
            "count": 0
           },
           {
            "bin_end": 1479.9,
            "bin_start": 986.6,
            "count": 0
           },
           {
            "bin_end": 1973.2,
            "bin_start": 1479.9,
            "count": 0
           },
           {
            "bin_end": 2466.5,
            "bin_start": 1973.2,
            "count": 0
           },
           {
            "bin_end": 2959.8,
            "bin_start": 2466.5,
            "count": 0
           },
           {
            "bin_end": 3453.1,
            "bin_start": 2959.8,
            "count": 0
           },
           {
            "bin_end": 3946.4,
            "bin_start": 3453.1,
            "count": 0
           },
           {
            "bin_end": 4439.7,
            "bin_start": 3946.4,
            "count": 0
           },
           {
            "bin_end": 4933,
            "bin_start": 4439.7,
            "count": 1
           }
          ],
          "max": "4933.0",
          "min": "0.0",
          "nan_count": 0,
          "unique_count": 6
         }
        },
        {
         "dtype": "float64",
         "name": "review_scores_rating",
         "stats": {
          "histogram": [
           {
            "bin_end": 409.5,
            "bin_start": 0,
            "count": 7
           },
           {
            "bin_end": 819,
            "bin_start": 409.5,
            "count": 0
           },
           {
            "bin_end": 1228.5,
            "bin_start": 819,
            "count": 0
           },
           {
            "bin_end": 1638,
            "bin_start": 1228.5,
            "count": 0
           },
           {
            "bin_end": 2047.5,
            "bin_start": 1638,
            "count": 0
           },
           {
            "bin_end": 2457,
            "bin_start": 2047.5,
            "count": 0
           },
           {
            "bin_end": 2866.5,
            "bin_start": 2457,
            "count": 0
           },
           {
            "bin_end": 3276,
            "bin_start": 2866.5,
            "count": 0
           },
           {
            "bin_end": 3685.5,
            "bin_start": 3276,
            "count": 0
           },
           {
            "bin_end": 4095,
            "bin_start": 3685.5,
            "count": 1
           }
          ],
          "max": "4095.0",
          "min": "0.0",
          "nan_count": 0,
          "unique_count": 8
         }
        },
        {
         "dtype": "float64",
         "name": "review_scores_accuracy",
         "stats": {
          "histogram": [
           {
            "bin_end": 409.5832773451226,
            "bin_start": 0.3147526056918049,
            "count": 7
           },
           {
            "bin_end": 818.8518020845534,
            "bin_start": 409.5832773451226,
            "count": 0
           },
           {
            "bin_end": 1228.1203268239842,
            "bin_start": 818.8518020845534,
            "count": 0
           },
           {
            "bin_end": 1637.388851563415,
            "bin_start": 1228.1203268239842,
            "count": 0
           },
           {
            "bin_end": 2046.657376302846,
            "bin_start": 1637.388851563415,
            "count": 0
           },
           {
            "bin_end": 2455.9259010422766,
            "bin_start": 2046.657376302846,
            "count": 0
           },
           {
            "bin_end": 2865.1944257817077,
            "bin_start": 2455.9259010422766,
            "count": 0
           },
           {
            "bin_end": 3274.4629505211383,
            "bin_start": 2865.1944257817077,
            "count": 0
           },
           {
            "bin_end": 3683.731475260569,
            "bin_start": 3274.4629505211383,
            "count": 0
           },
           {
            "bin_end": 4093,
            "bin_start": 3683.731475260569,
            "count": 1
           }
          ],
          "max": "4093.0",
          "min": "0.3147526056918049",
          "nan_count": 0,
          "unique_count": 8
         }
        },
        {
         "dtype": "float64",
         "name": "review_scores_cleanliness",
         "stats": {
          "histogram": [
           {
            "bin_end": 409.59446802873856,
            "bin_start": 0.32718669859837207,
            "count": 7
           },
           {
            "bin_end": 818.8617493588787,
            "bin_start": 409.59446802873856,
            "count": 0
           },
           {
            "bin_end": 1228.129030689019,
            "bin_start": 818.8617493588787,
            "count": 0
           },
           {
            "bin_end": 1637.396312019159,
            "bin_start": 1228.129030689019,
            "count": 0
           },
           {
            "bin_end": 2046.6635933492992,
            "bin_start": 1637.396312019159,
            "count": 0
           },
           {
            "bin_end": 2455.9308746794395,
            "bin_start": 2046.6635933492992,
            "count": 0
           },
           {
            "bin_end": 2865.1981560095796,
            "bin_start": 2455.9308746794395,
            "count": 0
           },
           {
            "bin_end": 3274.4654373397198,
            "bin_start": 2865.1981560095796,
            "count": 0
           },
           {
            "bin_end": 3683.73271866986,
            "bin_start": 3274.4654373397198,
            "count": 0
           },
           {
            "bin_end": 4093,
            "bin_start": 3683.73271866986,
            "count": 1
           }
          ],
          "max": "4093.0",
          "min": "0.32718669859837207",
          "nan_count": 0,
          "unique_count": 7
         }
        },
        {
         "dtype": "float64",
         "name": "review_scores_checkin",
         "stats": {
          "histogram": [
           {
            "bin_end": 409.5788475103178,
            "bin_start": 0.3098305670197677,
            "count": 7
           },
           {
            "bin_end": 818.8478644536158,
            "bin_start": 409.5788475103178,
            "count": 0
           },
           {
            "bin_end": 1228.1168813969139,
            "bin_start": 818.8478644536158,
            "count": 0
           },
           {
            "bin_end": 1637.385898340212,
            "bin_start": 1228.1168813969139,
            "count": 0
           },
           {
            "bin_end": 2046.65491528351,
            "bin_start": 1637.385898340212,
            "count": 0
           },
           {
            "bin_end": 2455.9239322268077,
            "bin_start": 2046.65491528351,
            "count": 0
           },
           {
            "bin_end": 2865.1929491701057,
            "bin_start": 2455.9239322268077,
            "count": 0
           },
           {
            "bin_end": 3274.461966113404,
            "bin_start": 2865.1929491701057,
            "count": 0
           },
           {
            "bin_end": 3683.730983056702,
            "bin_start": 3274.461966113404,
            "count": 0
           },
           {
            "bin_end": 4093,
            "bin_start": 3683.730983056702,
            "count": 1
           }
          ],
          "max": "4093.0",
          "min": "0.3098305670197677",
          "nan_count": 0,
          "unique_count": 7
         }
        },
        {
         "dtype": "float64",
         "name": "review_scores_communication",
         "stats": {
          "histogram": [
           {
            "bin_end": 409.5997942803118,
            "bin_start": 0.33310475590201094,
            "count": 7
           },
           {
            "bin_end": 818.8664838047216,
            "bin_start": 409.5997942803118,
            "count": 0
           },
           {
            "bin_end": 1228.1331733291315,
            "bin_start": 818.8664838047216,
            "count": 0
           },
           {
            "bin_end": 1637.3998628535412,
            "bin_start": 1228.1331733291315,
            "count": 0
           },
           {
            "bin_end": 2046.666552377951,
            "bin_start": 1637.3998628535412,
            "count": 0
           },
           {
            "bin_end": 2455.933241902361,
            "bin_start": 2046.666552377951,
            "count": 0
           },
           {
            "bin_end": 2865.1999314267705,
            "bin_start": 2455.933241902361,
            "count": 0
           },
           {
            "bin_end": 3274.46662095118,
            "bin_start": 2865.1999314267705,
            "count": 0
           },
           {
            "bin_end": 3683.73331047559,
            "bin_start": 3274.46662095118,
            "count": 0
           },
           {
            "bin_end": 4093,
            "bin_start": 3683.73331047559,
            "count": 1
           }
          ],
          "max": "4093.0",
          "min": "0.33310475590201094",
          "nan_count": 0,
          "unique_count": 7
         }
        },
        {
         "dtype": "float64",
         "name": "review_scores_location",
         "stats": {
          "histogram": [
           {
            "bin_end": 409.5244355328448,
            "bin_start": 0.24937281427193625,
            "count": 7
           },
           {
            "bin_end": 818.7994982514176,
            "bin_start": 409.5244355328448,
            "count": 0
           },
           {
            "bin_end": 1228.0745609699904,
            "bin_start": 818.7994982514176,
            "count": 0
           },
           {
            "bin_end": 1637.3496236885633,
            "bin_start": 1228.0745609699904,
            "count": 0
           },
           {
            "bin_end": 2046.624686407136,
            "bin_start": 1637.3496236885633,
            "count": 0
           },
           {
            "bin_end": 2455.8997491257087,
            "bin_start": 2046.624686407136,
            "count": 0
           },
           {
            "bin_end": 2865.1748118442815,
            "bin_start": 2455.8997491257087,
            "count": 0
           },
           {
            "bin_end": 3274.4498745628543,
            "bin_start": 2865.1748118442815,
            "count": 0
           },
           {
            "bin_end": 3683.724937281427,
            "bin_start": 3274.4498745628543,
            "count": 0
           },
           {
            "bin_end": 4093,
            "bin_start": 3683.724937281427,
            "count": 1
           }
          ],
          "max": "4093.0",
          "min": "0.24937281427193625",
          "nan_count": 0,
          "unique_count": 8
         }
        },
        {
         "dtype": "float64",
         "name": "review_scores_value",
         "stats": {
          "histogram": [
           {
            "bin_end": 409.619524134829,
            "bin_start": 0.3550268164766908,
            "count": 7
           },
           {
            "bin_end": 818.8840214531813,
            "bin_start": 409.619524134829,
            "count": 0
           },
           {
            "bin_end": 1228.1485187715336,
            "bin_start": 818.8840214531813,
            "count": 0
           },
           {
            "bin_end": 1637.413016089886,
            "bin_start": 1228.1485187715336,
            "count": 0
           },
           {
            "bin_end": 2046.6775134082384,
            "bin_start": 1637.413016089886,
            "count": 0
           },
           {
            "bin_end": 2455.9420107265905,
            "bin_start": 2046.6775134082384,
            "count": 0
           },
           {
            "bin_end": 2865.206508044943,
            "bin_start": 2455.9420107265905,
            "count": 0
           },
           {
            "bin_end": 3274.4710053632953,
            "bin_start": 2865.206508044943,
            "count": 0
           },
           {
            "bin_end": 3683.7355026816476,
            "bin_start": 3274.4710053632953,
            "count": 0
           },
           {
            "bin_end": 4093,
            "bin_start": 3683.7355026816476,
            "count": 1
           }
          ],
          "max": "4093.0",
          "min": "0.3550268164766908",
          "nan_count": 0,
          "unique_count": 8
         }
        },
        {
         "dtype": "float64",
         "name": "calculated_host_listings_count",
         "stats": {
          "histogram": [
           {
            "bin_end": 494.2,
            "bin_start": 1,
            "count": 7
           },
           {
            "bin_end": 987.4,
            "bin_start": 494.2,
            "count": 0
           },
           {
            "bin_end": 1480.6,
            "bin_start": 987.4,
            "count": 0
           },
           {
            "bin_end": 1973.8,
            "bin_start": 1480.6,
            "count": 0
           },
           {
            "bin_end": 2467,
            "bin_start": 1973.8,
            "count": 0
           },
           {
            "bin_end": 2960.2,
            "bin_start": 2467,
            "count": 0
           },
           {
            "bin_end": 3453.4,
            "bin_start": 2960.2,
            "count": 0
           },
           {
            "bin_end": 3946.6,
            "bin_start": 3453.4,
            "count": 0
           },
           {
            "bin_end": 4439.8,
            "bin_start": 3946.6,
            "count": 0
           },
           {
            "bin_end": 4933,
            "bin_start": 4439.8,
            "count": 1
           }
          ],
          "max": "4933.0",
          "min": "1.0",
          "nan_count": 0,
          "unique_count": 7
         }
        },
        {
         "dtype": "float64",
         "name": "calculated_host_listings_count_entire_homes",
         "stats": {
          "histogram": [
           {
            "bin_end": 493.3,
            "bin_start": 0,
            "count": 7
           },
           {
            "bin_end": 986.6,
            "bin_start": 493.3,
            "count": 0
           },
           {
            "bin_end": 1479.9,
            "bin_start": 986.6,
            "count": 0
           },
           {
            "bin_end": 1973.2,
            "bin_start": 1479.9,
            "count": 0
           },
           {
            "bin_end": 2466.5,
            "bin_start": 1973.2,
            "count": 0
           },
           {
            "bin_end": 2959.8,
            "bin_start": 2466.5,
            "count": 0
           },
           {
            "bin_end": 3453.1,
            "bin_start": 2959.8,
            "count": 0
           },
           {
            "bin_end": 3946.4,
            "bin_start": 3453.1,
            "count": 0
           },
           {
            "bin_end": 4439.7,
            "bin_start": 3946.4,
            "count": 0
           },
           {
            "bin_end": 4933,
            "bin_start": 4439.7,
            "count": 1
           }
          ],
          "max": "4933.0",
          "min": "0.0",
          "nan_count": 0,
          "unique_count": 7
         }
        },
        {
         "dtype": "float64",
         "name": "calculated_host_listings_count_private_rooms",
         "stats": {
          "histogram": [
           {
            "bin_end": 493.3,
            "bin_start": 0,
            "count": 7
           },
           {
            "bin_end": 986.6,
            "bin_start": 493.3,
            "count": 0
           },
           {
            "bin_end": 1479.9,
            "bin_start": 986.6,
            "count": 0
           },
           {
            "bin_end": 1973.2,
            "bin_start": 1479.9,
            "count": 0
           },
           {
            "bin_end": 2466.5,
            "bin_start": 1973.2,
            "count": 0
           },
           {
            "bin_end": 2959.8,
            "bin_start": 2466.5,
            "count": 0
           },
           {
            "bin_end": 3453.1,
            "bin_start": 2959.8,
            "count": 0
           },
           {
            "bin_end": 3946.4,
            "bin_start": 3453.1,
            "count": 0
           },
           {
            "bin_end": 4439.7,
            "bin_start": 3946.4,
            "count": 0
           },
           {
            "bin_end": 4933,
            "bin_start": 4439.7,
            "count": 1
           }
          ],
          "max": "4933.0",
          "min": "0.0",
          "nan_count": 0,
          "unique_count": 5
         }
        },
        {
         "dtype": "float64",
         "name": "calculated_host_listings_count_shared_rooms",
         "stats": {
          "histogram": [
           {
            "bin_end": 493.3,
            "bin_start": 0,
            "count": 7
           },
           {
            "bin_end": 986.6,
            "bin_start": 493.3,
            "count": 0
           },
           {
            "bin_end": 1479.9,
            "bin_start": 986.6,
            "count": 0
           },
           {
            "bin_end": 1973.2,
            "bin_start": 1479.9,
            "count": 0
           },
           {
            "bin_end": 2466.5,
            "bin_start": 1973.2,
            "count": 0
           },
           {
            "bin_end": 2959.8,
            "bin_start": 2466.5,
            "count": 0
           },
           {
            "bin_end": 3453.1,
            "bin_start": 2959.8,
            "count": 0
           },
           {
            "bin_end": 3946.4,
            "bin_start": 3453.1,
            "count": 0
           },
           {
            "bin_end": 4439.7,
            "bin_start": 3946.4,
            "count": 0
           },
           {
            "bin_end": 4933,
            "bin_start": 4439.7,
            "count": 1
           }
          ],
          "max": "4933.0",
          "min": "0.0",
          "nan_count": 0,
          "unique_count": 5
         }
        },
        {
         "dtype": "float64",
         "name": "reviews_per_month",
         "stats": {
          "histogram": [
           {
            "bin_end": 409.50899999999996,
            "bin_start": 0.01,
            "count": 7
           },
           {
            "bin_end": 819.0079999999999,
            "bin_start": 409.50899999999996,
            "count": 0
           },
           {
            "bin_end": 1228.5069999999998,
            "bin_start": 819.0079999999999,
            "count": 0
           },
           {
            "bin_end": 1638.0059999999999,
            "bin_start": 1228.5069999999998,
            "count": 0
           },
           {
            "bin_end": 2047.5049999999999,
            "bin_start": 1638.0059999999999,
            "count": 0
           },
           {
            "bin_end": 2457.004,
            "bin_start": 2047.5049999999999,
            "count": 0
           },
           {
            "bin_end": 2866.503,
            "bin_start": 2457.004,
            "count": 0
           },
           {
            "bin_end": 3276.002,
            "bin_start": 2866.503,
            "count": 0
           },
           {
            "bin_end": 3685.5009999999997,
            "bin_start": 3276.002,
            "count": 0
           },
           {
            "bin_end": 4095,
            "bin_start": 3685.5009999999997,
            "count": 1
           }
          ],
          "max": "4095.0",
          "min": "0.01",
          "nan_count": 0,
          "unique_count": 8
         }
        },
        {
         "dtype": "object",
         "name": "_deepnote_index_column"
        }
       ],
       "row_count": 8,
       "rows": [
        {
         "_deepnote_index_column": "count",
         "accommodates": "4933.0",
         "availability_30": "4933.0",
         "availability_365": "4933.0",
         "availability_60": "4933.0",
         "availability_90": "4933.0",
         "bathrooms": "0.0",
         "bedrooms": "4362.0",
         "beds": "4879.0",
         "calculated_host_listings_count": "4933.0",
         "calculated_host_listings_count_entire_homes": "4933.0",
         "calculated_host_listings_count_private_rooms": "4933.0",
         "calculated_host_listings_count_shared_rooms": "4933.0",
         "calendar_updated": "0.0",
         "host_id": "4933.0",
         "host_listings_count": "4933.0",
         "host_total_listings_count": "4933.0",
         "id": "4933.0",
         "latitude": "4933.0",
         "longitude": "4933.0",
         "maximum_maximum_nights": "4931.0",
         "maximum_minimum_nights": "4931.0",
         "maximum_nights": "4933.0",
         "maximum_nights_avg_ntm": "4931.0",
         "minimum_maximum_nights": "4931.0",
         "minimum_minimum_nights": "4931.0",
         "minimum_nights": "4933.0",
         "minimum_nights_avg_ntm": "4931.0",
         "number_of_reviews": "4933.0",
         "number_of_reviews_l30d": "4933.0",
         "number_of_reviews_ltm": "4933.0",
         "review_scores_accuracy": "4093.0",
         "review_scores_checkin": "4093.0",
         "review_scores_cleanliness": "4093.0",
         "review_scores_communication": "4093.0",
         "review_scores_location": "4093.0",
         "review_scores_rating": "4095.0",
         "review_scores_value": "4093.0",
         "reviews_per_month": "4095.0",
         "scrape_id": "4933.0"
        },
        {
         "_deepnote_index_column": "mean",
         "accommodates": "3.977498479627002",
         "availability_30": "15.466855868639772",
         "availability_365": "200.41820393269816",
         "availability_60": "35.85809852017028",
         "availability_90": "57.11068315426718",
         "bathrooms": "nan",
         "bedrooms": "1.779917469050894",
         "beds": "2.1264603402336544",
         "calculated_host_listings_count": "38.526454490168256",
         "calculated_host_listings_count_entire_homes": "37.018852625177374",
         "calculated_host_listings_count_private_rooms": "1.4986823434015812",
         "calculated_host_listings_count_shared_rooms": "0.008514088789783093",
         "calendar_updated": "nan",
         "host_id": "128452728.29089804",
         "host_listings_count": "398.31218325562537",
         "host_total_listings_count": "463.6010541252787",
         "id": "2.1848799600496848e+17",
         "latitude": "47.626240787311005",
         "longitude": "-122.33429488437369",
         "maximum_maximum_nights": "871836.5122693166",
         "maximum_minimum_nights": "35.556682214560944",
         "maximum_nights": "525.3405635515913",
         "maximum_nights_avg_ntm": "871824.9246197527",
         "minimum_maximum_nights": "871810.5787872643",
         "minimum_minimum_nights": "12.777529912796593",
         "minimum_nights": "12.531927832961687",
         "minimum_nights_avg_ntm": "34.0828026769418",
         "number_of_reviews": "64.05493614433408",
         "number_of_reviews_l30d": "0.8503952969795257",
         "number_of_reviews_ltm": "17.699371579160754",
         "review_scores_accuracy": "4.8322770583923775",
         "review_scores_checkin": "4.8715025653554855",
         "review_scores_cleanliness": "4.807825555827022",
         "review_scores_communication": "4.862450525287076",
         "review_scores_location": "4.847603225018324",
         "review_scores_rating": "4.787245421245422",
         "review_scores_value": "4.71806743220132",
         "reviews_per_month": "2.2827643467643464",
         "scrape_id": "20221224045325.0"
        },
        {
         "_deepnote_index_column": "std",
         "accommodates": "2.511631592114784",
         "availability_30": "11.112725428563108",
         "availability_365": "128.48582768821169",
         "availability_60": "21.546845685509467",
         "availability_90": "31.282007345696186",
         "bathrooms": "nan",
         "bedrooms": "1.0648240281976291",
         "beds": "1.4600722523133456",
         "calculated_host_listings_count": "102.20315134033186",
         "calculated_host_listings_count_entire_homes": "102.37246258760298",
         "calculated_host_listings_count_private_rooms": "5.18879652468086",
         "calculated_host_listings_count_shared_rooms": "0.14910003627524993",
         "calendar_updated": "nan",
         "host_id": "145847803.4291919",
         "host_listings_count": "1200.9448351222675",
         "host_total_listings_count": "1349.7212444530926",
         "id": "3.178194266629851e+17",
         "latitude": "0.049560773326341796",
         "longitude": "0.03303001985305004",
         "maximum_maximum_nights": "43244725.51629052",
         "maximum_minimum_nights": "89.76472392156178",
         "maximum_nights": "500.76779003075444",
         "maximum_nights_avg_ntm": "43244725.74981796",
         "minimum_maximum_nights": "43244726.038941994",
         "minimum_minimum_nights": "24.53336077953469",
         "minimum_nights": "18.337901561832684",
         "minimum_nights_avg_ntm": "86.89795685172034",
         "number_of_reviews": "102.20976366861443",
         "number_of_reviews_l30d": "1.5700455183458204",
         "number_of_reviews_ltm": "23.239972975183203",
         "review_scores_accuracy": "0.3147526056918049",
         "review_scores_checkin": "0.3098305670197677",
         "review_scores_cleanliness": "0.32718669859837207",
         "review_scores_communication": "0.33310475590201094",
         "review_scores_location": "0.24937281427193625",
         "review_scores_rating": "0.35367521455321743",
         "review_scores_value": "0.3550268164766908",
         "reviews_per_month": "1.9884251099988453",
         "scrape_id": "0.0"
        },
        {
         "_deepnote_index_column": "min",
         "accommodates": "0.0",
         "availability_30": "0.0",
         "availability_365": "0.0",
         "availability_60": "0.0",
         "availability_90": "0.0",
         "bathrooms": "nan",
         "bedrooms": "1.0",
         "beds": "1.0",
         "calculated_host_listings_count": "1.0",
         "calculated_host_listings_count_entire_homes": "0.0",
         "calculated_host_listings_count_private_rooms": "0.0",
         "calculated_host_listings_count_shared_rooms": "0.0",
         "calendar_updated": "nan",
         "host_id": "2536.0",
         "host_listings_count": "1.0",
         "host_total_listings_count": "1.0",
         "id": "6606.0",
         "latitude": "47.49792",
         "longitude": "-122.41905",
         "maximum_maximum_nights": "1.0",
         "maximum_minimum_nights": "1.0",
         "maximum_nights": "1.0",
         "maximum_nights_avg_ntm": "1.0",
         "minimum_maximum_nights": "1.0",
         "minimum_minimum_nights": "1.0",
         "minimum_nights": "1.0",
         "minimum_nights_avg_ntm": "1.0",
         "number_of_reviews": "0.0",
         "number_of_reviews_l30d": "0.0",
         "number_of_reviews_ltm": "0.0",
         "review_scores_accuracy": "1.0",
         "review_scores_checkin": "1.0",
         "review_scores_cleanliness": "1.0",
         "review_scores_communication": "1.0",
         "review_scores_location": "1.0",
         "review_scores_rating": "0.0",
         "review_scores_value": "1.0",
         "reviews_per_month": "0.01",
         "scrape_id": "20221224045325.0"
        },
        {
         "_deepnote_index_column": "25%",
         "accommodates": "2.0",
         "availability_30": "4.0",
         "availability_365": "81.0",
         "availability_60": "18.0",
         "availability_90": "34.0",
         "bathrooms": "nan",
         "bedrooms": "1.0",
         "beds": "1.0",
         "calculated_host_listings_count": "1.0",
         "calculated_host_listings_count_entire_homes": "1.0",
         "calculated_host_listings_count_private_rooms": "0.0",
         "calculated_host_listings_count_shared_rooms": "0.0",
         "calendar_updated": "nan",
         "host_id": "15381977.0",
         "host_listings_count": "1.0",
         "host_total_listings_count": "1.0",
         "id": "24000508.0",
         "latitude": "47.60179",
         "longitude": "-122.35677",
         "maximum_maximum_nights": "365.0",
         "maximum_minimum_nights": "2.0",
         "maximum_nights": "31.0",
         "maximum_nights_avg_ntm": "365.0",
         "minimum_maximum_nights": "365.0",
         "minimum_minimum_nights": "2.0",
         "minimum_nights": "2.0",
         "minimum_nights_avg_ntm": "2.0",
         "number_of_reviews": "2.0",
         "number_of_reviews_l30d": "0.0",
         "number_of_reviews_ltm": "1.0",
         "review_scores_accuracy": "4.8",
         "review_scores_checkin": "4.88",
         "review_scores_cleanliness": "4.76",
         "review_scores_communication": "4.88",
         "review_scores_location": "4.81",
         "review_scores_rating": "4.74",
         "review_scores_value": "4.66",
         "reviews_per_month": "0.67",
         "scrape_id": "20221224045325.0"
        },
        {
         "_deepnote_index_column": "50%",
         "accommodates": "4.0",
         "availability_30": "17.0",
         "availability_365": "180.0",
         "availability_60": "43.0",
         "availability_90": "67.0",
         "bathrooms": "nan",
         "bedrooms": "1.0",
         "beds": "2.0",
         "calculated_host_listings_count": "2.0",
         "calculated_host_listings_count_entire_homes": "1.0",
         "calculated_host_listings_count_private_rooms": "0.0",
         "calculated_host_listings_count_shared_rooms": "0.0",
         "calendar_updated": "nan",
         "host_id": "68385710.0",
         "host_listings_count": "3.0",
         "host_total_listings_count": "4.0",
         "id": "49354000.0",
         "latitude": "47.62258",
         "longitude": "-122.3331",
         "maximum_maximum_nights": "1125.0",
         "maximum_minimum_nights": "3.0",
         "maximum_nights": "365.0",
         "maximum_nights_avg_ntm": "1125.0",
         "minimum_maximum_nights": "1125.0",
         "minimum_minimum_nights": "2.0",
         "minimum_nights": "3.0",
         "minimum_nights_avg_ntm": "3.0",
         "number_of_reviews": "22.0",
         "number_of_reviews_l30d": "0.0",
         "number_of_reviews_ltm": "7.0",
         "review_scores_accuracy": "4.92",
         "review_scores_checkin": "4.96",
         "review_scores_cleanliness": "4.91",
         "review_scores_communication": "4.96",
         "review_scores_location": "4.92",
         "review_scores_rating": "4.89",
         "review_scores_value": "4.8",
         "reviews_per_month": "1.81",
         "scrape_id": "20221224045325.0"
        },
        {
         "_deepnote_index_column": "75%",
         "accommodates": "5.0",
         "availability_30": "26.0",
         "availability_365": "335.0",
         "availability_60": "55.0",
         "availability_90": "84.0",
         "bathrooms": "nan",
         "bedrooms": "2.0",
         "beds": "3.0",
         "calculated_host_listings_count": "11.0",
         "calculated_host_listings_count_entire_homes": "8.0",
         "calculated_host_listings_count_private_rooms": "0.0",
         "calculated_host_listings_count_shared_rooms": "0.0",
         "calendar_updated": "nan",
         "host_id": "190507384.0",
         "host_listings_count": "18.0",
         "host_total_listings_count": "25.0",
         "id": "6.137287419734862e+17",
         "latitude": "47.66377",
         "longitude": "-122.31155",
         "maximum_maximum_nights": "1125.0",
         "maximum_minimum_nights": "30.0",
         "maximum_nights": "1125.0",
         "maximum_nights_avg_ntm": "1125.0",
         "minimum_maximum_nights": "1125.0",
         "minimum_minimum_nights": "30.0",
         "minimum_nights": "30.0",
         "minimum_nights_avg_ntm": "30.0",
         "number_of_reviews": "81.0",
         "number_of_reviews_l30d": "1.0",
         "number_of_reviews_ltm": "28.0",
         "review_scores_accuracy": "4.99",
         "review_scores_checkin": "5.0",
         "review_scores_cleanliness": "5.0",
         "review_scores_communication": "5.0",
         "review_scores_location": "4.98",
         "review_scores_rating": "4.98",
         "review_scores_value": "4.91",
         "reviews_per_month": "3.34",
         "scrape_id": "20221224045325.0"
        },
        {
         "_deepnote_index_column": "max",
         "accommodates": "16.0",
         "availability_30": "30.0",
         "availability_365": "365.0",
         "availability_60": "60.0",
         "availability_90": "90.0",
         "bathrooms": "nan",
         "bedrooms": "11.0",
         "beds": "16.0",
         "calculated_host_listings_count": "410.0",
         "calculated_host_listings_count_entire_homes": "410.0",
         "calculated_host_listings_count_private_rooms": "38.0",
         "calculated_host_listings_count_shared_rooms": "4.0",
         "calendar_updated": "nan",
         "host_id": "491969567.0",
         "host_listings_count": "4648.0",
         "host_total_listings_count": "5072.0",
         "id": "7.878139706950369e+17",
         "latitude": "47.73401",
         "longitude": "-122.24087",
         "maximum_maximum_nights": "2147483647.0",
         "maximum_minimum_nights": "366.0",
         "maximum_nights": "10000.0",
         "maximum_nights_avg_ntm": "2147483647.0",
         "minimum_maximum_nights": "2147483647.0",
         "minimum_minimum_nights": "365.0",
         "minimum_nights": "365.0",
         "minimum_nights_avg_ntm": "365.0",
         "number_of_reviews": "1224.0",
         "number_of_reviews_l30d": "36.0",
         "number_of_reviews_ltm": "152.0",
         "review_scores_accuracy": "5.0",
         "review_scores_checkin": "5.0",
         "review_scores_cleanliness": "5.0",
         "review_scores_communication": "5.0",
         "review_scores_location": "5.0",
         "review_scores_rating": "5.0",
         "review_scores_value": "5.0",
         "reviews_per_month": "15.88",
         "scrape_id": "20221224045325.0"
        }
       ]
      },
      "text/html": [
       "<div>\n",
       "<style scoped>\n",
       "    .dataframe tbody tr th:only-of-type {\n",
       "        vertical-align: middle;\n",
       "    }\n",
       "\n",
       "    .dataframe tbody tr th {\n",
       "        vertical-align: top;\n",
       "    }\n",
       "\n",
       "    .dataframe thead th {\n",
       "        text-align: right;\n",
       "    }\n",
       "</style>\n",
       "<table border=\"1\" class=\"dataframe\">\n",
       "  <thead>\n",
       "    <tr style=\"text-align: right;\">\n",
       "      <th></th>\n",
       "      <th>id</th>\n",
       "      <th>scrape_id</th>\n",
       "      <th>host_id</th>\n",
       "      <th>host_listings_count</th>\n",
       "      <th>host_total_listings_count</th>\n",
       "      <th>latitude</th>\n",
       "      <th>longitude</th>\n",
       "      <th>accommodates</th>\n",
       "      <th>bathrooms</th>\n",
       "      <th>bedrooms</th>\n",
       "      <th>beds</th>\n",
       "      <th>minimum_nights</th>\n",
       "      <th>maximum_nights</th>\n",
       "      <th>minimum_minimum_nights</th>\n",
       "      <th>maximum_minimum_nights</th>\n",
       "      <th>minimum_maximum_nights</th>\n",
       "      <th>maximum_maximum_nights</th>\n",
       "      <th>minimum_nights_avg_ntm</th>\n",
       "      <th>maximum_nights_avg_ntm</th>\n",
       "      <th>calendar_updated</th>\n",
       "      <th>availability_30</th>\n",
       "      <th>availability_60</th>\n",
       "      <th>availability_90</th>\n",
       "      <th>availability_365</th>\n",
       "      <th>number_of_reviews</th>\n",
       "      <th>number_of_reviews_ltm</th>\n",
       "      <th>number_of_reviews_l30d</th>\n",
       "      <th>review_scores_rating</th>\n",
       "      <th>review_scores_accuracy</th>\n",
       "      <th>review_scores_cleanliness</th>\n",
       "      <th>review_scores_checkin</th>\n",
       "      <th>review_scores_communication</th>\n",
       "      <th>review_scores_location</th>\n",
       "      <th>review_scores_value</th>\n",
       "      <th>calculated_host_listings_count</th>\n",
       "      <th>calculated_host_listings_count_entire_homes</th>\n",
       "      <th>calculated_host_listings_count_private_rooms</th>\n",
       "      <th>calculated_host_listings_count_shared_rooms</th>\n",
       "      <th>reviews_per_month</th>\n",
       "    </tr>\n",
       "  </thead>\n",
       "  <tbody>\n",
       "    <tr>\n",
       "      <th>count</th>\n",
       "      <td>4.933000e+03</td>\n",
       "      <td>4.933000e+03</td>\n",
       "      <td>4.933000e+03</td>\n",
       "      <td>4933.000000</td>\n",
       "      <td>4933.000000</td>\n",
       "      <td>4933.000000</td>\n",
       "      <td>4933.000000</td>\n",
       "      <td>4933.000000</td>\n",
       "      <td>0.0</td>\n",
       "      <td>4362.000000</td>\n",
       "      <td>4879.000000</td>\n",
       "      <td>4933.000000</td>\n",
       "      <td>4933.000000</td>\n",
       "      <td>4931.000000</td>\n",
       "      <td>4931.000000</td>\n",
       "      <td>4.931000e+03</td>\n",
       "      <td>4.931000e+03</td>\n",
       "      <td>4931.000000</td>\n",
       "      <td>4.931000e+03</td>\n",
       "      <td>0.0</td>\n",
       "      <td>4933.000000</td>\n",
       "      <td>4933.000000</td>\n",
       "      <td>4933.000000</td>\n",
       "      <td>4933.000000</td>\n",
       "      <td>4933.000000</td>\n",
       "      <td>4933.000000</td>\n",
       "      <td>4933.000000</td>\n",
       "      <td>4095.000000</td>\n",
       "      <td>4093.000000</td>\n",
       "      <td>4093.000000</td>\n",
       "      <td>4093.000000</td>\n",
       "      <td>4093.000000</td>\n",
       "      <td>4093.000000</td>\n",
       "      <td>4093.000000</td>\n",
       "      <td>4933.000000</td>\n",
       "      <td>4933.000000</td>\n",
       "      <td>4933.000000</td>\n",
       "      <td>4933.000000</td>\n",
       "      <td>4095.000000</td>\n",
       "    </tr>\n",
       "    <tr>\n",
       "      <th>mean</th>\n",
       "      <td>2.184880e+17</td>\n",
       "      <td>2.022122e+13</td>\n",
       "      <td>1.284527e+08</td>\n",
       "      <td>398.312183</td>\n",
       "      <td>463.601054</td>\n",
       "      <td>47.626241</td>\n",
       "      <td>-122.334295</td>\n",
       "      <td>3.977498</td>\n",
       "      <td>NaN</td>\n",
       "      <td>1.779917</td>\n",
       "      <td>2.126460</td>\n",
       "      <td>12.531928</td>\n",
       "      <td>525.340564</td>\n",
       "      <td>12.777530</td>\n",
       "      <td>35.556682</td>\n",
       "      <td>8.718106e+05</td>\n",
       "      <td>8.718365e+05</td>\n",
       "      <td>34.082803</td>\n",
       "      <td>8.718249e+05</td>\n",
       "      <td>NaN</td>\n",
       "      <td>15.466856</td>\n",
       "      <td>35.858099</td>\n",
       "      <td>57.110683</td>\n",
       "      <td>200.418204</td>\n",
       "      <td>64.054936</td>\n",
       "      <td>17.699372</td>\n",
       "      <td>0.850395</td>\n",
       "      <td>4.787245</td>\n",
       "      <td>4.832277</td>\n",
       "      <td>4.807826</td>\n",
       "      <td>4.871503</td>\n",
       "      <td>4.862451</td>\n",
       "      <td>4.847603</td>\n",
       "      <td>4.718067</td>\n",
       "      <td>38.526454</td>\n",
       "      <td>37.018853</td>\n",
       "      <td>1.498682</td>\n",
       "      <td>0.008514</td>\n",
       "      <td>2.282764</td>\n",
       "    </tr>\n",
       "    <tr>\n",
       "      <th>std</th>\n",
       "      <td>3.178194e+17</td>\n",
       "      <td>0.000000e+00</td>\n",
       "      <td>1.458478e+08</td>\n",
       "      <td>1200.944835</td>\n",
       "      <td>1349.721244</td>\n",
       "      <td>0.049561</td>\n",
       "      <td>0.033030</td>\n",
       "      <td>2.511632</td>\n",
       "      <td>NaN</td>\n",
       "      <td>1.064824</td>\n",
       "      <td>1.460072</td>\n",
       "      <td>18.337902</td>\n",
       "      <td>500.767790</td>\n",
       "      <td>24.533361</td>\n",
       "      <td>89.764724</td>\n",
       "      <td>4.324473e+07</td>\n",
       "      <td>4.324473e+07</td>\n",
       "      <td>86.897957</td>\n",
       "      <td>4.324473e+07</td>\n",
       "      <td>NaN</td>\n",
       "      <td>11.112725</td>\n",
       "      <td>21.546846</td>\n",
       "      <td>31.282007</td>\n",
       "      <td>128.485828</td>\n",
       "      <td>102.209764</td>\n",
       "      <td>23.239973</td>\n",
       "      <td>1.570046</td>\n",
       "      <td>0.353675</td>\n",
       "      <td>0.314753</td>\n",
       "      <td>0.327187</td>\n",
       "      <td>0.309831</td>\n",
       "      <td>0.333105</td>\n",
       "      <td>0.249373</td>\n",
       "      <td>0.355027</td>\n",
       "      <td>102.203151</td>\n",
       "      <td>102.372463</td>\n",
       "      <td>5.188797</td>\n",
       "      <td>0.149100</td>\n",
       "      <td>1.988425</td>\n",
       "    </tr>\n",
       "    <tr>\n",
       "      <th>min</th>\n",
       "      <td>6.606000e+03</td>\n",
       "      <td>2.022122e+13</td>\n",
       "      <td>2.536000e+03</td>\n",
       "      <td>1.000000</td>\n",
       "      <td>1.000000</td>\n",
       "      <td>47.497920</td>\n",
       "      <td>-122.419050</td>\n",
       "      <td>0.000000</td>\n",
       "      <td>NaN</td>\n",
       "      <td>1.000000</td>\n",
       "      <td>1.000000</td>\n",
       "      <td>1.000000</td>\n",
       "      <td>1.000000</td>\n",
       "      <td>1.000000</td>\n",
       "      <td>1.000000</td>\n",
       "      <td>1.000000e+00</td>\n",
       "      <td>1.000000e+00</td>\n",
       "      <td>1.000000</td>\n",
       "      <td>1.000000e+00</td>\n",
       "      <td>NaN</td>\n",
       "      <td>0.000000</td>\n",
       "      <td>0.000000</td>\n",
       "      <td>0.000000</td>\n",
       "      <td>0.000000</td>\n",
       "      <td>0.000000</td>\n",
       "      <td>0.000000</td>\n",
       "      <td>0.000000</td>\n",
       "      <td>0.000000</td>\n",
       "      <td>1.000000</td>\n",
       "      <td>1.000000</td>\n",
       "      <td>1.000000</td>\n",
       "      <td>1.000000</td>\n",
       "      <td>1.000000</td>\n",
       "      <td>1.000000</td>\n",
       "      <td>1.000000</td>\n",
       "      <td>0.000000</td>\n",
       "      <td>0.000000</td>\n",
       "      <td>0.000000</td>\n",
       "      <td>0.010000</td>\n",
       "    </tr>\n",
       "    <tr>\n",
       "      <th>25%</th>\n",
       "      <td>2.400051e+07</td>\n",
       "      <td>2.022122e+13</td>\n",
       "      <td>1.538198e+07</td>\n",
       "      <td>1.000000</td>\n",
       "      <td>1.000000</td>\n",
       "      <td>47.601790</td>\n",
       "      <td>-122.356770</td>\n",
       "      <td>2.000000</td>\n",
       "      <td>NaN</td>\n",
       "      <td>1.000000</td>\n",
       "      <td>1.000000</td>\n",
       "      <td>2.000000</td>\n",
       "      <td>31.000000</td>\n",
       "      <td>2.000000</td>\n",
       "      <td>2.000000</td>\n",
       "      <td>3.650000e+02</td>\n",
       "      <td>3.650000e+02</td>\n",
       "      <td>2.000000</td>\n",
       "      <td>3.650000e+02</td>\n",
       "      <td>NaN</td>\n",
       "      <td>4.000000</td>\n",
       "      <td>18.000000</td>\n",
       "      <td>34.000000</td>\n",
       "      <td>81.000000</td>\n",
       "      <td>2.000000</td>\n",
       "      <td>1.000000</td>\n",
       "      <td>0.000000</td>\n",
       "      <td>4.740000</td>\n",
       "      <td>4.800000</td>\n",
       "      <td>4.760000</td>\n",
       "      <td>4.880000</td>\n",
       "      <td>4.880000</td>\n",
       "      <td>4.810000</td>\n",
       "      <td>4.660000</td>\n",
       "      <td>1.000000</td>\n",
       "      <td>1.000000</td>\n",
       "      <td>0.000000</td>\n",
       "      <td>0.000000</td>\n",
       "      <td>0.670000</td>\n",
       "    </tr>\n",
       "    <tr>\n",
       "      <th>50%</th>\n",
       "      <td>4.935400e+07</td>\n",
       "      <td>2.022122e+13</td>\n",
       "      <td>6.838571e+07</td>\n",
       "      <td>3.000000</td>\n",
       "      <td>4.000000</td>\n",
       "      <td>47.622580</td>\n",
       "      <td>-122.333100</td>\n",
       "      <td>4.000000</td>\n",
       "      <td>NaN</td>\n",
       "      <td>1.000000</td>\n",
       "      <td>2.000000</td>\n",
       "      <td>3.000000</td>\n",
       "      <td>365.000000</td>\n",
       "      <td>2.000000</td>\n",
       "      <td>3.000000</td>\n",
       "      <td>1.125000e+03</td>\n",
       "      <td>1.125000e+03</td>\n",
       "      <td>3.000000</td>\n",
       "      <td>1.125000e+03</td>\n",
       "      <td>NaN</td>\n",
       "      <td>17.000000</td>\n",
       "      <td>43.000000</td>\n",
       "      <td>67.000000</td>\n",
       "      <td>180.000000</td>\n",
       "      <td>22.000000</td>\n",
       "      <td>7.000000</td>\n",
       "      <td>0.000000</td>\n",
       "      <td>4.890000</td>\n",
       "      <td>4.920000</td>\n",
       "      <td>4.910000</td>\n",
       "      <td>4.960000</td>\n",
       "      <td>4.960000</td>\n",
       "      <td>4.920000</td>\n",
       "      <td>4.800000</td>\n",
       "      <td>2.000000</td>\n",
       "      <td>1.000000</td>\n",
       "      <td>0.000000</td>\n",
       "      <td>0.000000</td>\n",
       "      <td>1.810000</td>\n",
       "    </tr>\n",
       "    <tr>\n",
       "      <th>75%</th>\n",
       "      <td>6.137287e+17</td>\n",
       "      <td>2.022122e+13</td>\n",
       "      <td>1.905074e+08</td>\n",
       "      <td>18.000000</td>\n",
       "      <td>25.000000</td>\n",
       "      <td>47.663770</td>\n",
       "      <td>-122.311550</td>\n",
       "      <td>5.000000</td>\n",
       "      <td>NaN</td>\n",
       "      <td>2.000000</td>\n",
       "      <td>3.000000</td>\n",
       "      <td>30.000000</td>\n",
       "      <td>1125.000000</td>\n",
       "      <td>30.000000</td>\n",
       "      <td>30.000000</td>\n",
       "      <td>1.125000e+03</td>\n",
       "      <td>1.125000e+03</td>\n",
       "      <td>30.000000</td>\n",
       "      <td>1.125000e+03</td>\n",
       "      <td>NaN</td>\n",
       "      <td>26.000000</td>\n",
       "      <td>55.000000</td>\n",
       "      <td>84.000000</td>\n",
       "      <td>335.000000</td>\n",
       "      <td>81.000000</td>\n",
       "      <td>28.000000</td>\n",
       "      <td>1.000000</td>\n",
       "      <td>4.980000</td>\n",
       "      <td>4.990000</td>\n",
       "      <td>5.000000</td>\n",
       "      <td>5.000000</td>\n",
       "      <td>5.000000</td>\n",
       "      <td>4.980000</td>\n",
       "      <td>4.910000</td>\n",
       "      <td>11.000000</td>\n",
       "      <td>8.000000</td>\n",
       "      <td>0.000000</td>\n",
       "      <td>0.000000</td>\n",
       "      <td>3.340000</td>\n",
       "    </tr>\n",
       "    <tr>\n",
       "      <th>max</th>\n",
       "      <td>7.878140e+17</td>\n",
       "      <td>2.022122e+13</td>\n",
       "      <td>4.919696e+08</td>\n",
       "      <td>4648.000000</td>\n",
       "      <td>5072.000000</td>\n",
       "      <td>47.734010</td>\n",
       "      <td>-122.240870</td>\n",
       "      <td>16.000000</td>\n",
       "      <td>NaN</td>\n",
       "      <td>11.000000</td>\n",
       "      <td>16.000000</td>\n",
       "      <td>365.000000</td>\n",
       "      <td>10000.000000</td>\n",
       "      <td>365.000000</td>\n",
       "      <td>366.000000</td>\n",
       "      <td>2.147484e+09</td>\n",
       "      <td>2.147484e+09</td>\n",
       "      <td>365.000000</td>\n",
       "      <td>2.147484e+09</td>\n",
       "      <td>NaN</td>\n",
       "      <td>30.000000</td>\n",
       "      <td>60.000000</td>\n",
       "      <td>90.000000</td>\n",
       "      <td>365.000000</td>\n",
       "      <td>1224.000000</td>\n",
       "      <td>152.000000</td>\n",
       "      <td>36.000000</td>\n",
       "      <td>5.000000</td>\n",
       "      <td>5.000000</td>\n",
       "      <td>5.000000</td>\n",
       "      <td>5.000000</td>\n",
       "      <td>5.000000</td>\n",
       "      <td>5.000000</td>\n",
       "      <td>5.000000</td>\n",
       "      <td>410.000000</td>\n",
       "      <td>410.000000</td>\n",
       "      <td>38.000000</td>\n",
       "      <td>4.000000</td>\n",
       "      <td>15.880000</td>\n",
       "    </tr>\n",
       "  </tbody>\n",
       "</table>\n",
       "</div>"
      ],
      "text/plain": [
       "                 id     scrape_id       host_id  host_listings_count  \\\n",
       "count  4.933000e+03  4.933000e+03  4.933000e+03          4933.000000   \n",
       "mean   2.184880e+17  2.022122e+13  1.284527e+08           398.312183   \n",
       "std    3.178194e+17  0.000000e+00  1.458478e+08          1200.944835   \n",
       "min    6.606000e+03  2.022122e+13  2.536000e+03             1.000000   \n",
       "25%    2.400051e+07  2.022122e+13  1.538198e+07             1.000000   \n",
       "50%    4.935400e+07  2.022122e+13  6.838571e+07             3.000000   \n",
       "75%    6.137287e+17  2.022122e+13  1.905074e+08            18.000000   \n",
       "max    7.878140e+17  2.022122e+13  4.919696e+08          4648.000000   \n",
       "\n",
       "       host_total_listings_count     latitude    longitude  accommodates  \\\n",
       "count                4933.000000  4933.000000  4933.000000   4933.000000   \n",
       "mean                  463.601054    47.626241  -122.334295      3.977498   \n",
       "std                  1349.721244     0.049561     0.033030      2.511632   \n",
       "min                     1.000000    47.497920  -122.419050      0.000000   \n",
       "25%                     1.000000    47.601790  -122.356770      2.000000   \n",
       "50%                     4.000000    47.622580  -122.333100      4.000000   \n",
       "75%                    25.000000    47.663770  -122.311550      5.000000   \n",
       "max                  5072.000000    47.734010  -122.240870     16.000000   \n",
       "\n",
       "       bathrooms     bedrooms         beds  minimum_nights  maximum_nights  \\\n",
       "count        0.0  4362.000000  4879.000000     4933.000000     4933.000000   \n",
       "mean         NaN     1.779917     2.126460       12.531928      525.340564   \n",
       "std          NaN     1.064824     1.460072       18.337902      500.767790   \n",
       "min          NaN     1.000000     1.000000        1.000000        1.000000   \n",
       "25%          NaN     1.000000     1.000000        2.000000       31.000000   \n",
       "50%          NaN     1.000000     2.000000        3.000000      365.000000   \n",
       "75%          NaN     2.000000     3.000000       30.000000     1125.000000   \n",
       "max          NaN    11.000000    16.000000      365.000000    10000.000000   \n",
       "\n",
       "       minimum_minimum_nights  maximum_minimum_nights  minimum_maximum_nights  \\\n",
       "count             4931.000000             4931.000000            4.931000e+03   \n",
       "mean                12.777530               35.556682            8.718106e+05   \n",
       "std                 24.533361               89.764724            4.324473e+07   \n",
       "min                  1.000000                1.000000            1.000000e+00   \n",
       "25%                  2.000000                2.000000            3.650000e+02   \n",
       "50%                  2.000000                3.000000            1.125000e+03   \n",
       "75%                 30.000000               30.000000            1.125000e+03   \n",
       "max                365.000000              366.000000            2.147484e+09   \n",
       "\n",
       "       maximum_maximum_nights  minimum_nights_avg_ntm  maximum_nights_avg_ntm  \\\n",
       "count            4.931000e+03             4931.000000            4.931000e+03   \n",
       "mean             8.718365e+05               34.082803            8.718249e+05   \n",
       "std              4.324473e+07               86.897957            4.324473e+07   \n",
       "min              1.000000e+00                1.000000            1.000000e+00   \n",
       "25%              3.650000e+02                2.000000            3.650000e+02   \n",
       "50%              1.125000e+03                3.000000            1.125000e+03   \n",
       "75%              1.125000e+03               30.000000            1.125000e+03   \n",
       "max              2.147484e+09              365.000000            2.147484e+09   \n",
       "\n",
       "       calendar_updated  availability_30  availability_60  availability_90  \\\n",
       "count               0.0      4933.000000      4933.000000      4933.000000   \n",
       "mean                NaN        15.466856        35.858099        57.110683   \n",
       "std                 NaN        11.112725        21.546846        31.282007   \n",
       "min                 NaN         0.000000         0.000000         0.000000   \n",
       "25%                 NaN         4.000000        18.000000        34.000000   \n",
       "50%                 NaN        17.000000        43.000000        67.000000   \n",
       "75%                 NaN        26.000000        55.000000        84.000000   \n",
       "max                 NaN        30.000000        60.000000        90.000000   \n",
       "\n",
       "       availability_365  number_of_reviews  number_of_reviews_ltm  \\\n",
       "count       4933.000000        4933.000000            4933.000000   \n",
       "mean         200.418204          64.054936              17.699372   \n",
       "std          128.485828         102.209764              23.239973   \n",
       "min            0.000000           0.000000               0.000000   \n",
       "25%           81.000000           2.000000               1.000000   \n",
       "50%          180.000000          22.000000               7.000000   \n",
       "75%          335.000000          81.000000              28.000000   \n",
       "max          365.000000        1224.000000             152.000000   \n",
       "\n",
       "       number_of_reviews_l30d  review_scores_rating  review_scores_accuracy  \\\n",
       "count             4933.000000           4095.000000             4093.000000   \n",
       "mean                 0.850395              4.787245                4.832277   \n",
       "std                  1.570046              0.353675                0.314753   \n",
       "min                  0.000000              0.000000                1.000000   \n",
       "25%                  0.000000              4.740000                4.800000   \n",
       "50%                  0.000000              4.890000                4.920000   \n",
       "75%                  1.000000              4.980000                4.990000   \n",
       "max                 36.000000              5.000000                5.000000   \n",
       "\n",
       "       review_scores_cleanliness  review_scores_checkin  \\\n",
       "count                4093.000000            4093.000000   \n",
       "mean                    4.807826               4.871503   \n",
       "std                     0.327187               0.309831   \n",
       "min                     1.000000               1.000000   \n",
       "25%                     4.760000               4.880000   \n",
       "50%                     4.910000               4.960000   \n",
       "75%                     5.000000               5.000000   \n",
       "max                     5.000000               5.000000   \n",
       "\n",
       "       review_scores_communication  review_scores_location  \\\n",
       "count                  4093.000000             4093.000000   \n",
       "mean                      4.862451                4.847603   \n",
       "std                       0.333105                0.249373   \n",
       "min                       1.000000                1.000000   \n",
       "25%                       4.880000                4.810000   \n",
       "50%                       4.960000                4.920000   \n",
       "75%                       5.000000                4.980000   \n",
       "max                       5.000000                5.000000   \n",
       "\n",
       "       review_scores_value  calculated_host_listings_count  \\\n",
       "count          4093.000000                     4933.000000   \n",
       "mean              4.718067                       38.526454   \n",
       "std               0.355027                      102.203151   \n",
       "min               1.000000                        1.000000   \n",
       "25%               4.660000                        1.000000   \n",
       "50%               4.800000                        2.000000   \n",
       "75%               4.910000                       11.000000   \n",
       "max               5.000000                      410.000000   \n",
       "\n",
       "       calculated_host_listings_count_entire_homes  \\\n",
       "count                                  4933.000000   \n",
       "mean                                     37.018853   \n",
       "std                                     102.372463   \n",
       "min                                       0.000000   \n",
       "25%                                       1.000000   \n",
       "50%                                       1.000000   \n",
       "75%                                       8.000000   \n",
       "max                                     410.000000   \n",
       "\n",
       "       calculated_host_listings_count_private_rooms  \\\n",
       "count                                   4933.000000   \n",
       "mean                                       1.498682   \n",
       "std                                        5.188797   \n",
       "min                                        0.000000   \n",
       "25%                                        0.000000   \n",
       "50%                                        0.000000   \n",
       "75%                                        0.000000   \n",
       "max                                       38.000000   \n",
       "\n",
       "       calculated_host_listings_count_shared_rooms  reviews_per_month  \n",
       "count                                  4933.000000        4095.000000  \n",
       "mean                                      0.008514           2.282764  \n",
       "std                                       0.149100           1.988425  \n",
       "min                                       0.000000           0.010000  \n",
       "25%                                       0.000000           0.670000  \n",
       "50%                                       0.000000           1.810000  \n",
       "75%                                       0.000000           3.340000  \n",
       "max                                       4.000000          15.880000  "
      ]
     },
     "execution_count": 9,
     "metadata": {},
     "output_type": "execute_result"
    }
   ],
   "source": [
    "listing_train.describe()"
   ]
  },
  {
   "cell_type": "code",
   "execution_count": 10,
   "metadata": {
    "cell_id": "3d510e36e15140999bd9eba828772aa8",
    "deepnote_cell_type": "code",
    "deepnote_to_be_reexecuted": false,
    "execution_millis": 31,
    "execution_start": 1678774754205,
    "source_hash": "4e277ae0"
   },
   "outputs": [
    {
     "data": {
      "text/plain": [
       "bathrooms                      1.000000\n",
       "calendar_updated               1.000000\n",
       "host_about                     0.277924\n",
       "neighborhood_overview          0.272045\n",
       "neighbourhood                  0.272045\n",
       "license                        0.226840\n",
       "review_scores_cleanliness      0.170282\n",
       "review_scores_accuracy         0.170282\n",
       "review_scores_checkin          0.170282\n",
       "review_scores_communication    0.170282\n",
       "review_scores_location         0.170282\n",
       "review_scores_value            0.170282\n",
       "review_scores_rating           0.169876\n",
       "last_review                    0.169876\n",
       "first_review                   0.169876\n",
       "reviews_per_month              0.169876\n",
       "host_location                  0.137644\n",
       "host_response_time             0.123454\n",
       "host_response_rate             0.123454\n",
       "bedrooms                       0.115751\n",
       "host_acceptance_rate           0.072775\n",
       "host_neighbourhood             0.058585\n",
       "beds                           0.010947\n",
       "description                    0.001622\n",
       "bathrooms_text                 0.000608\n",
       "dtype: float64"
      ]
     },
     "execution_count": 10,
     "metadata": {},
     "output_type": "execute_result"
    }
   ],
   "source": [
    "# nan value percentage\n",
    "(listing_train.isna().sum()/listing_train.shape[0]).sort_values(ascending=False)[:25]"
   ]
  },
  {
   "cell_type": "code",
   "execution_count": 11,
   "metadata": {
    "cell_id": "b56e74460df24704be1d167bf7979629",
    "deepnote_cell_type": "code",
    "deepnote_to_be_reexecuted": false,
    "execution_millis": 3,
    "execution_start": 1678774754271,
    "source_hash": "43b619fe"
   },
   "outputs": [
    {
     "data": {
      "text/plain": [
       "bathrooms                      4933\n",
       "calendar_updated               4933\n",
       "host_about                     1371\n",
       "neighborhood_overview          1342\n",
       "neighbourhood                  1342\n",
       "license                        1119\n",
       "review_scores_cleanliness       840\n",
       "review_scores_accuracy          840\n",
       "review_scores_checkin           840\n",
       "review_scores_communication     840\n",
       "review_scores_location          840\n",
       "review_scores_value             840\n",
       "review_scores_rating            838\n",
       "last_review                     838\n",
       "first_review                    838\n",
       "reviews_per_month               838\n",
       "host_location                   679\n",
       "host_response_time              609\n",
       "host_response_rate              609\n",
       "bedrooms                        571\n",
       "host_acceptance_rate            359\n",
       "host_neighbourhood              289\n",
       "beds                             54\n",
       "description                       8\n",
       "bathrooms_text                    3\n",
       "dtype: int64"
      ]
     },
     "execution_count": 11,
     "metadata": {},
     "output_type": "execute_result"
    }
   ],
   "source": [
    "# # nan value count\n",
    "listing_train.isna().sum().sort_values(ascending=False)[:25]"
   ]
  },
  {
   "cell_type": "markdown",
   "metadata": {
    "cell_id": "75e2ab000ea049fdb1bac064fcce1520",
    "deepnote_cell_type": "markdown"
   },
   "source": [
    "## 3. Clean raw listings dataset"
   ]
  },
  {
   "cell_type": "markdown",
   "metadata": {
    "cell_id": "1b8a99dcc78c4693b40be277c5f6925b",
    "deepnote_cell_type": "markdown",
    "tags": []
   },
   "source": [
    "### 3.1 remove useless columns\n",
    "\n",
    "removed 7 columns:\n",
    "['scrape_id','source','bathrooms','host_thumbnail_url','neighbourhood','calendar_updated','calendar_last_scraped']"
   ]
  },
  {
   "cell_type": "markdown",
   "metadata": {
    "cell_id": "3e9b5bfa960844a0a76910915c74462e",
    "deepnote_cell_type": "markdown"
   },
   "source": [
    "To do the cleaning, first let's narrow down the listing dataset to only include the features we're interested in."
   ]
  },
  {
   "cell_type": "code",
   "execution_count": 12,
   "metadata": {
    "cell_id": "87f3f5b7eaee42e0b714a52e7dfa0649",
    "deepnote_cell_type": "code",
    "deepnote_to_be_reexecuted": false,
    "execution_millis": 2,
    "execution_start": 1678774754272,
    "source_hash": "93f1066b"
   },
   "outputs": [],
   "source": [
    "# listing_train.columns"
   ]
  },
  {
   "cell_type": "code",
   "execution_count": 13,
   "metadata": {
    "cell_id": "e4b3e62352eb434d82a983cccf3addb2",
    "deepnote_cell_type": "code",
    "deepnote_to_be_reexecuted": false,
    "execution_millis": 37,
    "execution_start": 1678774754272,
    "source_hash": "387d3555"
   },
   "outputs": [
    {
     "name": "stdout",
     "output_type": "stream",
     "text": [
      "(4933, 68)\n",
      "removed 7 columns\n"
     ]
    }
   ],
   "source": [
    "# columns to remove\n",
    "\n",
    "cols_to_remove = ['scrape_id', 'source',\n",
    "                  'bathrooms','calendar_updated', # no values\n",
    "                  'host_thumbnail_url', # same host pic as host_picture_url but in a small size\n",
    "                  'neighbourhood', # will use neighbourhood_cleansed\n",
    "                  'calendar_last_scraped' # 2022-12-24 same values as last_scraped\n",
    "                 ]\n",
    "\n",
    "listing_df = listing_train.drop(cols_to_remove,axis=1)\n",
    "print(listing_df.shape)\n",
    "print('removed {} columns'.format(len(cols_to_remove)))\n",
    "# listing_df.head(3)"
   ]
  },
  {
   "cell_type": "markdown",
   "metadata": {
    "cell_id": "144cb64c6194495e8c318f459159cb88",
    "deepnote_cell_type": "markdown",
    "tags": []
   },
   "source": [
    "### 3.2 clean features\n",
    "#### clean bathrooms_text column\n"
   ]
  },
  {
   "cell_type": "markdown",
   "metadata": {
    "cell_id": "1dcf76f82da24d4f8cff8b4267bf8f65",
    "deepnote_cell_type": "markdown"
   },
   "source": [
    "For ['bathrooms_text'], we extract number of baths from string and convert them to numericals. After that we remove this column."
   ]
  },
  {
   "cell_type": "code",
   "execution_count": 14,
   "metadata": {
    "cell_id": "a65c3b25d9484475921cc371c72fa265",
    "deepnote_cell_type": "code",
    "deepnote_to_be_reexecuted": false,
    "execution_millis": 2,
    "execution_start": 1678774754308,
    "source_hash": "8bdcf806"
   },
   "outputs": [
    {
     "data": {
      "text/plain": [
       "array(['2 baths', '1 bath', '1.5 baths', '3 baths', '3.5 baths',\n",
       "       '1 private bath', '1 shared bath', '1.5 shared baths', '2.5 baths',\n",
       "       '0 shared baths', '2 shared baths', '3 shared baths', nan,\n",
       "       'Half-bath', '0 baths', '2.5 shared baths', '6 baths', '6.5 baths',\n",
       "       '16 shared baths', '4 baths', '4.5 baths', 'Private half-bath',\n",
       "       '7 baths', 'Shared half-bath', '3.5 shared baths'], dtype=object)"
      ]
     },
     "execution_count": 14,
     "metadata": {},
     "output_type": "execute_result"
    }
   ],
   "source": [
    "# example of the raw bathrooms_text col\n",
    "listing_df.bathrooms_text.unique()"
   ]
  },
  {
   "cell_type": "code",
   "execution_count": 15,
   "metadata": {
    "cell_id": "76740f1891c146149da8f47cd12ff564",
    "deepnote_cell_type": "code",
    "deepnote_to_be_reexecuted": false,
    "execution_millis": 49,
    "execution_start": 1678774754308,
    "source_hash": "a29682c9"
   },
   "outputs": [],
   "source": [
    "# extract the num of bathrooms from bathrooms_text\n",
    "\n",
    "replace_dict = dict(zip(['half-bath','baths','bath'],['0.5','','']))\n",
    "cleaned_bathrooms_series = listing_df['bathrooms_text'].str.lower().replace(replace_dict, regex=True).str.strip()\n",
    "# extract all the int and float \n",
    "listing_df['bathrooms_count'] = cleaned_bathrooms_series.str.extract('(\\d*\\.?\\d+)').astype('float64')\n",
    "listing_df.drop(['bathrooms_text'], axis=1, inplace=True)"
   ]
  },
  {
   "cell_type": "markdown",
   "metadata": {
    "cell_id": "d7ce4f6304a1443ab81bff6249856bfd",
    "deepnote_cell_type": "markdown",
    "tags": []
   },
   "source": [
    "#### clean license column\n",
    "['license']\n",
    "convert license column values into True and False, which 1 represents a listing has a license and 0 represents a listing does ont have a license."
   ]
  },
  {
   "cell_type": "code",
   "execution_count": 16,
   "metadata": {
    "cell_id": "d2526dfb418b4554bafb464ac3312920",
    "deepnote_cell_type": "code",
    "deepnote_to_be_reexecuted": false,
    "execution_millis": 2,
    "execution_start": 1678774754415,
    "source_hash": "925e0e5d",
    "tags": []
   },
   "outputs": [],
   "source": [
    "# convert license into True and False\n",
    "listing_df['license'] = listing_df['license'].notnull().astype('int64')\n",
    "listing_df.rename(columns = {'license': 'has_license'}, inplace=True)"
   ]
  },
  {
   "cell_type": "markdown",
   "metadata": {
    "cell_id": "5e65dd92b53c4b5ab8f5464939455ff5",
    "deepnote_cell_type": "markdown",
    "tags": []
   },
   "source": [
    "#### clean binary-like columns \n",
    "['host_is_superhost', 'host_has_profile_pic', 'host_identity_verified', 'has_availability', 'instant_bookable']\n",
    "\n",
    "For these columns, we convert the string t/f to 1/0."
   ]
  },
  {
   "cell_type": "code",
   "execution_count": 17,
   "metadata": {
    "cell_id": "fefc826f18124195b15ddce9bd8d2f77",
    "deepnote_cell_type": "code",
    "deepnote_to_be_reexecuted": false,
    "execution_millis": 68,
    "execution_start": 1678774754416,
    "source_hash": "6042311b"
   },
   "outputs": [],
   "source": [
    "# convert binary cols t/f to 1/0 \n",
    "binary_cols = listing_df.columns[listing_df.isin(['t','f']).any()].to_list()\n",
    "# print(binary_cols)\n",
    "listing_df.loc[:,binary_cols] = listing_df.loc[:,binary_cols].fillna(0).replace(({'t':1, 'f':0}))"
   ]
  },
  {
   "cell_type": "markdown",
   "metadata": {
    "cell_id": "178d5f43ecc940bdae986c0c33f3f48c",
    "deepnote_cell_type": "markdown",
    "tags": []
   },
   "source": [
    "#### clean numeric-like columns \n",
    "['host_response_rate', 'host_acceptance_rate', 'price']\n",
    "For these columns, we extract numbers from the string values and convert them into integers."
   ]
  },
  {
   "cell_type": "code",
   "execution_count": 18,
   "metadata": {
    "cell_id": "4820683d21fa4459a17e096e61910ddc",
    "deepnote_cell_type": "code",
    "deepnote_to_be_reexecuted": false,
    "execution_millis": 49,
    "execution_start": 1678774754489,
    "source_hash": "df448b7e"
   },
   "outputs": [],
   "source": [
    "# extract num from text-based num cols and convert to int\n",
    "\n",
    "listing_df['host_response_rate'] = listing_df['host_response_rate'].str.rstrip('%').astype(float)/100\n",
    "listing_df['host_acceptance_rate'] = listing_df['host_acceptance_rate'].str.rstrip('%').astype(float)/100\n",
    "\n",
    "listing_df['price'] = listing_df['price'].str.replace('$', '')\n",
    "listing_df['price'] = listing_df['price'].replace(to_replace ='\\.00', value = '', regex = True)\n",
    "listing_df['price'] = listing_df['price'].replace(to_replace =',', value = '', regex = True)\n",
    "listing_df['price'] = listing_df['price'].astype(float)"
   ]
  },
  {
   "cell_type": "markdown",
   "metadata": {
    "cell_id": "6cd1a2da40f04275af4ca3a4af5aaa9c",
    "deepnote_cell_type": "markdown",
    "tags": []
   },
   "source": [
    "#### clean date-like columns \n",
    "['last_scraped', 'host_since','first_review','last_review']\n",
    "\n",
    "For these columns, we convert the string date to date datatype."
   ]
  },
  {
   "cell_type": "code",
   "execution_count": 19,
   "metadata": {
    "cell_id": "c7eb1396775742a79c0478701122f374",
    "deepnote_cell_type": "code",
    "deepnote_to_be_reexecuted": false,
    "execution_millis": 3,
    "execution_start": 1678774754587,
    "source_hash": "bbd1013c"
   },
   "outputs": [],
   "source": [
    "# convert date cols to date type\n",
    "\n",
    "date_cols = ['last_scraped', 'host_since','first_review','last_review']\n",
    "listing_df.loc[:,date_cols] = listing_df.loc[:,date_cols].apply(pd.to_datetime, format='%Y-%m-%d')"
   ]
  },
  {
   "cell_type": "markdown",
   "metadata": {
    "cell_id": "3bcd63e963524076bfb8b9f63297e790",
    "deepnote_cell_type": "markdown"
   },
   "source": [
    "#### clean id column\n",
    "Convert the numeric id column to categorical column."
   ]
  },
  {
   "cell_type": "code",
   "execution_count": 20,
   "metadata": {
    "cell_id": "4347f40659214161811290feb6b433fd",
    "deepnote_cell_type": "code",
    "deepnote_to_be_reexecuted": false,
    "execution_millis": 2,
    "execution_start": 1678774754588,
    "scrolled": false,
    "source_hash": "a23b6e26"
   },
   "outputs": [],
   "source": [
    "# convert id datatype to object\n",
    "\n",
    "listing_df['id'] = listing_df['id'].astype('object')\n",
    "listing_df['host_id'] = listing_df['host_id'].astype('object')"
   ]
  },
  {
   "cell_type": "markdown",
   "metadata": {
    "cell_id": "8ac31e05337340eabef1588426407811",
    "deepnote_cell_type": "markdown"
   },
   "source": [
    "#### rename some columns"
   ]
  },
  {
   "cell_type": "code",
   "execution_count": 21,
   "metadata": {
    "cell_id": "bbbd50e10e384edc9dc2407569d5d633",
    "deepnote_cell_type": "code",
    "deepnote_to_be_reexecuted": false,
    "execution_millis": 5,
    "execution_start": 1678774754624,
    "source_hash": "4fb16718",
    "tags": []
   },
   "outputs": [],
   "source": [
    "# rename columns\n",
    "listing_df = listing_df.rename(columns = {'id': 'listing_id', \n",
    "                                          'name': 'listing_name',\n",
    "                                         })"
   ]
  },
  {
   "cell_type": "markdown",
   "metadata": {
    "cell_id": "220910697f4e4a94a02dc21f6a10cb16",
    "deepnote_cell_type": "markdown",
    "tags": []
   },
   "source": [
    "### 3.3 handle missing values"
   ]
  },
  {
   "cell_type": "code",
   "execution_count": 22,
   "metadata": {
    "cell_id": "ca69fb0c974c4ef0817d610685ee2e55",
    "deepnote_cell_type": "code",
    "deepnote_to_be_reexecuted": false,
    "execution_millis": 4,
    "execution_start": 1678774754625,
    "source_hash": "57b5c9c9"
   },
   "outputs": [],
   "source": [
    "# nan value count\n",
    "# listing_df.isna().sum().sort_values(ascending=False)[:30]"
   ]
  },
  {
   "cell_type": "markdown",
   "metadata": {
    "cell_id": "f0782304d8e3462bbd1739dce376eb5e",
    "deepnote_cell_type": "markdown",
    "tags": []
   },
   "source": [
    "#### fill nans for host_response_time\n",
    "For this column, we fill nans with **'no response'** since host_response_time is a categorical feature. "
   ]
  },
  {
   "cell_type": "code",
   "execution_count": 23,
   "metadata": {
    "cell_id": "40c871bcbcee4b4bb6eea3b208b6c499",
    "deepnote_cell_type": "code",
    "deepnote_to_be_reexecuted": false,
    "execution_millis": 3,
    "execution_start": 1678774754626,
    "scrolled": true,
    "source_hash": "849148f2"
   },
   "outputs": [],
   "source": [
    "#fillna for host_response_time\n",
    "listing_df['host_response_time'] = listing_df['host_response_time'].fillna('no response')"
   ]
  },
  {
   "cell_type": "markdown",
   "metadata": {
    "cell_id": "4b3d9f16b7264ecabd40c9c5e624c5ca",
    "deepnote_cell_type": "markdown",
    "tags": []
   },
   "source": [
    "#### fill nans for bathrooms\n",
    "Since there only 3 nan values, **we will fill these nans with \n",
    "0,1,1** by looking up the number of bedrooms from Airbnb website using the listing ids manuially. \n"
   ]
  },
  {
   "cell_type": "code",
   "execution_count": 24,
   "metadata": {
    "cell_id": "f8748c5f20ce4ff8a05af906bb191cc9",
    "deepnote_cell_type": "code",
    "deepnote_to_be_reexecuted": false,
    "execution_millis": 6,
    "execution_start": 1678774754627,
    "source_hash": "f22e8757",
    "tags": []
   },
   "outputs": [],
   "source": [
    "# fillna values for the bathrooms\n",
    "# get the url of the listings with nan values in bathroom\n",
    "# listing_df[listing_df.bathrooms_text.isna()]['listing_url']\n",
    "naval_idx = listing_df[listing_df.bathrooms_count.isna()].index\n",
    "listing_df.loc[naval_idx,'bathrooms_count'] = [0,1,1]"
   ]
  },
  {
   "cell_type": "markdown",
   "metadata": {
    "cell_id": "de32414f4e8448968581e532213c7192",
    "deepnote_cell_type": "markdown"
   },
   "source": [
    "#### fill nans for datetime columns\n",
    "We fill all the nans with mode for the datetime columns"
   ]
  },
  {
   "cell_type": "code",
   "execution_count": 25,
   "metadata": {
    "cell_id": "28e278f67bea427fa6656a1c265c64b2",
    "deepnote_cell_type": "code",
    "deepnote_to_be_reexecuted": false,
    "execution_millis": 4,
    "execution_start": 1678774754675,
    "source_hash": "8a2da341"
   },
   "outputs": [],
   "source": [
    "date_cols = list(listing_df.select_dtypes(include='datetime').columns)\n",
    "# print(date_cols)\n",
    "for col in date_cols:\n",
    "    listing_df[col].fillna(listing_df[col].mode()[0], inplace=True)"
   ]
  },
  {
   "cell_type": "code",
   "execution_count": 26,
   "metadata": {
    "cell_id": "37216966b0e44c768c4464a1e3eb4f43",
    "deepnote_cell_type": "code",
    "deepnote_to_be_reexecuted": false,
    "execution_millis": 3,
    "execution_start": 1678774754676,
    "source_hash": "16a55fac"
   },
   "outputs": [],
   "source": [
    "# listing_df.isna().sum().sort_values(ascending=False)[:30]"
   ]
  },
  {
   "cell_type": "markdown",
   "metadata": {
    "cell_id": "47241954a9ac4ec58bf06b63a1642f65",
    "deepnote_cell_type": "markdown"
   },
   "source": [
    "#### fill nans  for review_cols \n",
    "We fill all nans with 0 for all the numeric review related columns since there are zero comments."
   ]
  },
  {
   "cell_type": "code",
   "execution_count": 27,
   "metadata": {
    "cell_id": "77cfbcf96e25494c9e5a3a6d075dcc18",
    "deepnote_cell_type": "code",
    "deepnote_to_be_reexecuted": false,
    "execution_millis": 5,
    "execution_start": 1678774754720,
    "source_hash": "e9b78e51"
   },
   "outputs": [],
   "source": [
    "numerics = ['int64','float64']\n",
    "review_cols = [col for col in listing_df.select_dtypes(include=numerics).columns if 'review' in col]\n",
    "# print(review_cols)\n",
    "listing_df.loc[:,review_cols] = listing_df[review_cols].fillna(0)"
   ]
  },
  {
   "cell_type": "markdown",
   "metadata": {
    "cell_id": "52e5a00ad74846c7bf46a78301d71845",
    "deepnote_cell_type": "markdown"
   },
   "source": [
    "#### fill nans with mean for host_cols\n",
    "We fill all nans with means for the host_response_rate and host_acceptance_rate columns."
   ]
  },
  {
   "cell_type": "code",
   "execution_count": 28,
   "metadata": {
    "cell_id": "b1740bc98881405598f5faae45db0e9b",
    "deepnote_cell_type": "code",
    "deepnote_to_be_reexecuted": false,
    "execution_millis": 3,
    "execution_start": 1678774754722,
    "source_hash": "1ece942f"
   },
   "outputs": [],
   "source": [
    "listing_df['host_response_rate'].fillna(listing_df['host_response_rate'].mean(), inplace=True)\n",
    "listing_df['host_acceptance_rate'].fillna(listing_df['host_acceptance_rate'].mean(), inplace=True)"
   ]
  },
  {
   "cell_type": "markdown",
   "metadata": {
    "cell_id": "0b6389f420af4d06a768e7159e22a66f",
    "deepnote_cell_type": "markdown"
   },
   "source": [
    "#### fill nans with mini_max_night_cols\n",
    "We fill all nans with the means for these columns."
   ]
  },
  {
   "cell_type": "code",
   "execution_count": 29,
   "metadata": {
    "cell_id": "4703b8580da54d9f8217f86e9230bfe5",
    "deepnote_cell_type": "code",
    "deepnote_to_be_reexecuted": false,
    "execution_millis": 44,
    "execution_start": 1678774754722,
    "source_hash": "c0d45611"
   },
   "outputs": [],
   "source": [
    "mini_max_night_cols = ['minimum_minimum_nights','minimum_maximum_nights','minimum_nights_avg_ntm',\n",
    "                       'maximum_maximum_nights','maximum_minimum_nights','maximum_nights_avg_ntm']\n",
    "\n",
    "for col in mini_max_night_cols:\n",
    "     listing_df[col].fillna(listing_df[col].mean(), inplace=True)"
   ]
  },
  {
   "cell_type": "markdown",
   "metadata": {
    "cell_id": "03676718cac549c2b584f112f1c9a211",
    "deepnote_cell_type": "markdown"
   },
   "source": [
    "#### fill nans for bedrooms col\n",
    "Fill bedrooms with the same value from beds, then fill the rest nans with 1 for bedrooms and beds."
   ]
  },
  {
   "cell_type": "code",
   "execution_count": 30,
   "metadata": {
    "cell_id": "0bda4f22cd4a4262b2e39bf5871679b1",
    "deepnote_cell_type": "code",
    "deepnote_to_be_reexecuted": false,
    "execution_millis": 3,
    "execution_start": 1678774754764,
    "source_hash": "f2fb5a28"
   },
   "outputs": [],
   "source": [
    "listing_df['bedrooms'].fillna(listing_df['beds'], inplace=True)\n",
    "listing_df.loc[:,['bedrooms','beds']] = listing_df.loc[:,['bedrooms','beds']].fillna(1)"
   ]
  },
  {
   "cell_type": "markdown",
   "metadata": {
    "cell_id": "7a378b16ea064c6b9a178900f015bc6d",
    "deepnote_cell_type": "markdown"
   },
   "source": [
    "#### fill \" \" for all the nans in the categorical cols"
   ]
  },
  {
   "cell_type": "code",
   "execution_count": 31,
   "metadata": {
    "cell_id": "4f66fe9e7fa64345aea866662a72aa87",
    "deepnote_cell_type": "code",
    "deepnote_to_be_reexecuted": false,
    "execution_millis": 2,
    "execution_start": 1678774754765,
    "source_hash": "f5dd0018"
   },
   "outputs": [],
   "source": [
    "text_cols = listing_df.select_dtypes(include='object').columns.to_list()\n",
    "listing_df[text_cols] = listing_df[text_cols].fillna(' ')"
   ]
  },
  {
   "cell_type": "markdown",
   "metadata": {
    "cell_id": "3e6dd71fa1e345ee951cc3c5c9096a12",
    "deepnote_cell_type": "markdown"
   },
   "source": [
    "## 4. Wrap data cleaning using functions \n",
    "\n",
    "Here we make a couple of functions to wrap the data cleaning steps we took above for easy access to the holdout dataset later."
   ]
  },
  {
   "cell_type": "code",
   "execution_count": 32,
   "metadata": {
    "cell_id": "10518c449f074040b5ef7baa0a346d93",
    "deepnote_cell_type": "code",
    "deepnote_to_be_reexecuted": false,
    "execution_millis": 5,
    "execution_start": 1678774754783,
    "source_hash": "9e3a1556"
   },
   "outputs": [],
   "source": [
    "def remove_columns(df):\n",
    "    cols_to_remove = ['scrape_id', 'source',\n",
    "                      'bathrooms','calendar_updated', # no values\n",
    "                      'host_thumbnail_url', # same host pic as host_picture_url but in a small size\n",
    "                      'neighbourhood', # will use neighbourhood_cleansed\n",
    "                      'calendar_last_scraped' # 2022-12-24 same values as last_scraped\n",
    "                     ]\n",
    "    new_df = df.drop(cols_to_remove,axis=1)\n",
    "    \n",
    "    return new_df\n"
   ]
  },
  {
   "cell_type": "code",
   "execution_count": 33,
   "metadata": {
    "cell_id": "3d773b69ea4e4154b33ff67e6d5d255f",
    "deepnote_cell_type": "code",
    "deepnote_to_be_reexecuted": false,
    "execution_millis": 3,
    "execution_start": 1678774754801,
    "source_hash": "89e056b3"
   },
   "outputs": [],
   "source": [
    "def clean_columns(df):\n",
    "    \n",
    "    # extract the num of bathrooms from bathrooms_text\n",
    "    replace_dict = dict(zip(['half-bath','baths','bath'],['0.5','','']))\n",
    "    cleaned_bathrooms_series = df['bathrooms_text'].str.lower().replace(replace_dict, regex=True).str.strip()\n",
    "    # extract all the int and float \n",
    "    df['bathrooms_count'] = cleaned_bathrooms_series.str.extract('(\\d*\\.?\\d+)').astype('float64')\n",
    "    df.drop(['bathrooms_text'], axis=1, inplace=True)\n",
    "    \n",
    "    # convert license into True and False\n",
    "    df['license'] = df['license'].notnull().astype('int64')\n",
    "    df.rename(columns = {'license': 'has_license'}, inplace=True)\n",
    "    \n",
    "    # convert binary cols t/f to 1/0 \n",
    "    binary_cols = df.columns[df.isin(['t','f']).any()].to_list()\n",
    "    # print(binary_cols)\n",
    "    df.loc[:,binary_cols] = df.loc[:,binary_cols].fillna(0).replace(({'t':1, 'f':0}))\n",
    "    \n",
    "    # extract num from text-based num cols and convert to int\n",
    "    df['host_response_rate'] = df['host_response_rate'].str.rstrip('%').astype(float)/100\n",
    "    df['host_acceptance_rate'] = df['host_acceptance_rate'].str.rstrip('%').astype(float)/100\n",
    "\n",
    "    df['price'] = df['price'].str.replace('$', '')\n",
    "    df['price'] = df['price'].replace(to_replace ='\\.00', value = '', regex = True)\n",
    "    df['price'] = df['price'].replace(to_replace =',', value = '', regex = True)\n",
    "    df['price'] = df['price'].astype(float)\n",
    "    \n",
    "    # convert date cols to date type\n",
    "    date_cols = ['last_scraped', 'host_since','first_review','last_review']\n",
    "    df.loc[:,date_cols] = df.loc[:,date_cols].apply(pd.to_datetime, format='%Y-%m-%d')\n",
    "    \n",
    "    # convert id datatype to object\n",
    "    df['id'] = df['id'].astype('object')\n",
    "    df['host_id'] = df['host_id'].astype('object')\n",
    "    \n",
    "    # rename columns\n",
    "    df = df.rename(columns = {'id': 'listing_id', 'name': 'listing_name'})\n",
    "    \n",
    "    return df"
   ]
  },
  {
   "cell_type": "code",
   "execution_count": 34,
   "metadata": {
    "cell_id": "c87a831abc064331bfc4b393814be1f9",
    "deepnote_cell_type": "code",
    "deepnote_to_be_reexecuted": false,
    "execution_millis": 4,
    "execution_start": 1678774754824,
    "source_hash": "4641f66f"
   },
   "outputs": [],
   "source": [
    "def handle_missing_values(df):\n",
    "\n",
    "    #fillna for host_response_time\n",
    "    # For this column, we fill nans with 'no response' \n",
    "    # since host_response_time is a categorical feature.\n",
    "    df['host_response_time'] = df['host_response_time'].fillna('no response')\n",
    "    \n",
    "    # fillna values for the bathrooms\n",
    "    # Since there only 3 nan values, we will fill these nans with 0,1,1 \n",
    "    # by looking up the number of bedrooms from Airbnb website \n",
    "    # using the listing ids manuially.\n",
    "    naval_idx = listing_df[listing_df.bathrooms_count.isna()].index\n",
    "    listing_df.loc[naval_idx,'bathrooms_count'] = [0,1,1]\n",
    "    \n",
    "    # fill nans with mode for date type cols\n",
    "    date_cols = list(df.select_dtypes(include='datetime').columns)\n",
    "    # print(date_cols)\n",
    "    for col in date_cols:\n",
    "        df[col].fillna(df[col].mode()[0], inplace=True)\n",
    "\n",
    "    # fill nans with 0 for review_cols since there are zero comments\n",
    "    numerics = ['int64','float64']\n",
    "    review_cols = [col for col in df.select_dtypes(include=numerics).columns if 'review' in col]\n",
    "    # print(review_cols)\n",
    "    df.loc[:,review_cols] = df[review_cols].fillna(0)\n",
    "\n",
    "    # fill nans with mean for host_cols\n",
    "    df['host_response_rate'].fillna(df['host_response_rate'].mean(), inplace=True)\n",
    "    df['host_acceptance_rate'].fillna(df['host_acceptance_rate'].mean(), inplace=True)\n",
    "\n",
    "    # fill nans with the same value from minimum_nights and maximum_nights cols\n",
    "    mini_max_night_cols = ['minimum_minimum_nights','minimum_maximum_nights','minimum_nights_avg_ntm',\n",
    "                           'maximum_maximum_nights','maximum_minimum_nights','maximum_nights_avg_ntm']\n",
    "    for col in mini_max_night_cols:\n",
    "         df[col].fillna(df[col].mean(), inplace=True)\n",
    "\n",
    "    # fill nans with the same value from beds\n",
    "    # then fill the rest nans with 1 for bedrooms and beds\n",
    "    df['bedrooms'].fillna(df['beds'], inplace=True)\n",
    "    df.loc[:,['bedrooms','beds']] = df.loc[:,['bedrooms','beds']].fillna(1)\n",
    "\n",
    "    # fill \" \" for all the nans in the categorical cols\n",
    "    text_cols = df.select_dtypes(include='object').columns.to_list()\n",
    "    df[text_cols] = df[text_cols].fillna(' ')\n",
    "    \n",
    "    return df"
   ]
  },
  {
   "cell_type": "code",
   "execution_count": 35,
   "metadata": {
    "cell_id": "f1b4cb4fd0334e62a617abc5aca73ee8",
    "deepnote_cell_type": "code",
    "deepnote_to_be_reexecuted": false,
    "execution_millis": 2,
    "execution_start": 1678774754875,
    "source_hash": "66b29153"
   },
   "outputs": [],
   "source": [
    "def add_new_features(df):\n",
    "\n",
    "    # new feature amenities_count\n",
    "    # convert string list to list\n",
    "    df['amenities_count'] = df['amenities'].apply(lambda x: len(json.loads(x)))\n",
    "    \n",
    "    # new feature host_response_time_encoded\n",
    "    dict_map = {'within an hour': 1,\n",
    "                'within a few hours': 2,\n",
    "                'within a day': 3,\n",
    "                'a few days or more': 4,\n",
    "                'no response':5}\n",
    "    df['host_response_time_encoded'] = df['host_response_time'].map(dict_map)\n",
    "\n",
    "    # new feature host_operate_years\n",
    "    delta = df['last_scraped'] - df['host_since']\n",
    "    df['host_operate_years'] = (delta/365).apply(lambda x: x.days)\n",
    "    \n",
    "    return df"
   ]
  },
  {
   "cell_type": "code",
   "execution_count": 36,
   "metadata": {
    "cell_id": "8a3121f100164e68a59bcbf8063d3eed",
    "deepnote_cell_type": "code",
    "deepnote_to_be_reexecuted": false,
    "execution_millis": 371,
    "execution_start": 1678774754876,
    "source_hash": "e337940"
   },
   "outputs": [],
   "source": [
    "listing_df = remove_columns(listing_train)\n",
    "listing_df = clean_columns(listing_df)\n",
    "listing_df = handle_missing_values(listing_df)\n",
    "listing_df = add_new_features(listing_df)"
   ]
  },
  {
   "cell_type": "code",
   "execution_count": 37,
   "metadata": {
    "cell_id": "d0e3eac81469443e9fb66eeaba30d419",
    "deepnote_cell_type": "code",
    "deepnote_to_be_reexecuted": false,
    "execution_millis": 4,
    "execution_start": 1678774755249,
    "source_hash": "cb9a1d5a"
   },
   "outputs": [
    {
     "name": "stdout",
     "output_type": "stream",
     "text": [
      "(4933, 71)\n"
     ]
    }
   ],
   "source": [
    "print(listing_df.shape)"
   ]
  },
  {
   "cell_type": "code",
   "execution_count": 38,
   "metadata": {
    "cell_id": "4286e56d93f24ea49b9da2c87e255ca8",
    "deepnote_cell_type": "code",
    "deepnote_to_be_reexecuted": false,
    "execution_millis": 5,
    "execution_start": 1678774755295,
    "source_hash": "c09d0ae0"
   },
   "outputs": [
    {
     "data": {
      "text/plain": [
       "listing_id                0\n",
       "availability_60           0\n",
       "first_review              0\n",
       "number_of_reviews_l30d    0\n",
       "number_of_reviews_ltm     0\n",
       "number_of_reviews         0\n",
       "availability_365          0\n",
       "availability_90           0\n",
       "availability_30           0\n",
       "review_scores_rating      0\n",
       "dtype: int64"
      ]
     },
     "execution_count": 38,
     "metadata": {},
     "output_type": "execute_result"
    }
   ],
   "source": [
    "listing_df.isna().sum().sort_values(ascending=False)[:10]"
   ]
  },
  {
   "cell_type": "code",
   "execution_count": 39,
   "metadata": {
    "cell_id": "4359dac7d0684013b9f0bd845234a3a8",
    "deepnote_cell_type": "code",
    "deepnote_to_be_reexecuted": false,
    "execution_millis": 656,
    "execution_start": 1678774755297,
    "source_hash": "58ffa06a",
    "tags": []
   },
   "outputs": [],
   "source": [
    "# save the cleaned listing data\n",
    "listing_df.to_pickle('../data/data_cleaned/cleaned_listing.zip')"
   ]
  },
  {
   "cell_type": "code",
   "execution_count": 40,
   "metadata": {
    "cell_id": "246d4f70319841f3846f403249009077",
    "deepnote_cell_type": "code",
    "deepnote_to_be_reexecuted": false,
    "execution_millis": 328,
    "execution_start": 1678774755954,
    "source_hash": "941249c7",
    "tags": []
   },
   "outputs": [
    {
     "name": "stdout",
     "output_type": "stream",
     "text": [
      "(4933, 71)\n"
     ]
    },
    {
     "data": {
      "application/vnd.deepnote.dataframe.v3+json": {
       "column_count": 71,
       "columns": [
        {
         "dtype": "int64",
         "name": "listing_id",
         "stats": {
          "histogram": [
           {
            "bin_end": 11621631.4,
            "bin_start": 7455832,
            "count": 1
           },
           {
            "bin_end": 15787430.8,
            "bin_start": 11621631.4,
            "count": 0
           },
           {
            "bin_end": 19953230.2,
            "bin_start": 15787430.8,
            "count": 0
           },
           {
            "bin_end": 24119029.6,
            "bin_start": 19953230.2,
            "count": 0
           },
           {
            "bin_end": 28284829,
            "bin_start": 24119029.6,
            "count": 0
           },
           {
            "bin_end": 32450628.4,
            "bin_start": 28284829,
            "count": 0
           },
           {
            "bin_end": 36616427.8,
            "bin_start": 32450628.4,
            "count": 0
           },
           {
            "bin_end": 40782227.2,
            "bin_start": 36616427.8,
            "count": 0
           },
           {
            "bin_end": 44948026.6,
            "bin_start": 40782227.2,
            "count": 0
           },
           {
            "bin_end": 49113826,
            "bin_start": 44948026.6,
            "count": 1
           }
          ],
          "max": "49113826",
          "min": "7455832",
          "nan_count": 0,
          "unique_count": 2
         }
        },
        {
         "dtype": "object",
         "name": "listing_url",
         "stats": {
          "categories": [
           {
            "count": 1,
            "name": "https://www.airbnb.com/rooms/49113826"
           },
           {
            "count": 1,
            "name": "https://www.airbnb.com/rooms/7455832"
           }
          ],
          "nan_count": 0,
          "unique_count": 2
         }
        },
        {
         "dtype": "datetime64[ns]",
         "name": "last_scraped",
         "stats": {
          "histogram": null,
          "max": "2022-12-24 00:00:00",
          "min": "2022-12-24 00:00:00",
          "nan_count": 0,
          "unique_count": 1
         }
        },
        {
         "dtype": "object",
         "name": "listing_name",
         "stats": {
          "categories": [
           {
            "count": 1,
            "name": "Private Seattle Getaway Home Near Lake Washington!"
           },
           {
            "count": 1,
            "name": "Classic remodeled in Georgetown"
           }
          ],
          "nan_count": 0,
          "unique_count": 2
         }
        },
        {
         "dtype": "object",
         "name": "description",
         "stats": {
          "categories": [
           {
            "count": 1,
            "name": "A Seattle vacation destination for those from out of town or a Staycation for those who live close by. We welcome you to this partial lake view gated family friendly home with 4 bedrooms, 2 bathrooms. A beautiful & serene creek flows through the front of the home. There is a fully functioning kitchen with appliances & utensils.  & laundry room. Only a few mins walk to Lakeridge playfield just behind the house! 15 min drive to SeaTac International Airport and 25 min drive to downtown Seattle.<br /><br /><b>The space</b><br />Smart lock for easy check in and Xfinity Home Security Alarm for your protection and peace of mind. There are a few steps leading into the home. There is one security camera at the house facing the front entrance and driveway. The front driveway can fit 6 cars.<br /><br />Bed Arrangements: <br /><br />Lower levels: 2 bedrooms, 1 bathroom<br />Room #1: One Queen bed (sleeps 2)<br />Room #4: One Queen bed (sleeps 2)<br /><br />Upper level: 2 bedrooms, 1 bathroom<br />"
           },
           {
            "count": 1,
            "name": "Enjoy your Seattle stay in the vibrant & artistic Georgetown neighborhood! Georgetown is truly one of the last artsy, funky neighborhoods left in Seattle - you will be a five minute walk from the many restaurants, bars, wine tasting rooms & more in the \"downtown\" Georgetown neighborhood. It's also kid friendly as you will see many families out and pushing strollers around.<br /><br />The neighborhood is located a few miles south of the downtown Seattle core.<br /><br /><b>The space</b><br />This is the top unit of a completely remodeled craftsman (if bottom unit is available you can rent the whole house and have 6 beds & 4 baths!)<br /><br />This unit has the classic craftsman feel, but it has been completely remodeled with some modern touches!<br /><br /><b>Guest access</b><br />Obviously you have access to the entire unit - there is a lower unit of the house that may be rented too, so you will need to be respectful of other guests. The front yard and side yards are also yours to enjo"
           }
          ],
          "nan_count": 0,
          "unique_count": 2
         }
        },
        {
         "dtype": "object",
         "name": "neighborhood_overview",
         "stats": {
          "categories": [
           {
            "count": 1,
            "name": "SeaTac International Airport: 14 min drive<br /><br />Grocery Stores nearby:<br />- Safeway & Rite Aid: 5 min drive<br />- Walgreens: 6 min drive<br />- Walmart & Fred Meyer: 9 min drive<br />- Uwajimaya: 10 min drive<br /><br />Dining nearby:<br />- Pizzeria Pulcinella: 2 min walk<br />- Stonehouse Cafe: 10 min walk<br />- The Landing (popular outdoor retail & restaurant area): 10 min drive<br /><br />Activities nearby:<br />- Lakeridge Playground: 2 min walk<br />- Downtown Renton: 10 min drive<br />- Southcenter Mall (large shopping mall): 14 min drive<br />- Round 1 (arcade, bowling, pool) inside Southcenter: 14 min drive<br />- iFly (mock sky diving): 15 min drive<br />- Downtown Seattle & Pike Place Market: 25 min drive"
           },
           {
            "count": 1,
            "name": "Georgetown is a cool neighborhood about three miles south of Seattle. Formerly an industrial area filled with warehouses, Georgetown has gone from shabby to chic, from industrial to artsy. Today, the neighborhood is a great place to find trendy restaurants, breweries, and art galleries."
           }
          ],
          "nan_count": 0,
          "unique_count": 2
         }
        },
        {
         "dtype": "object",
         "name": "picture_url",
         "stats": {
          "categories": [
           {
            "count": 1,
            "name": "https://a0.muscache.com/pictures/miso/Hosting-49113826/original/29c08a31-b625-4e8f-bbc6-93e7994fef05.jpeg"
           },
           {
            "count": 1,
            "name": "https://a0.muscache.com/pictures/miso/Hosting-7455832/original/87dcaee3-d543-440c-8cf0-19ac171d7200.jpeg"
           }
          ],
          "nan_count": 0,
          "unique_count": 2
         }
        },
        {
         "dtype": "int64",
         "name": "host_id",
         "stats": {
          "histogram": [
           {
            "bin_end": 20784291.1,
            "bin_start": 2144954,
            "count": 1
           },
           {
            "bin_end": 39423628.2,
            "bin_start": 20784291.1,
            "count": 0
           },
           {
            "bin_end": 58062965.300000004,
            "bin_start": 39423628.2,
            "count": 0
           },
           {
            "bin_end": 76702302.4,
            "bin_start": 58062965.300000004,
            "count": 0
           },
           {
            "bin_end": 95341639.5,
            "bin_start": 76702302.4,
            "count": 0
           },
           {
            "bin_end": 113980976.60000001,
            "bin_start": 95341639.5,
            "count": 0
           },
           {
            "bin_end": 132620313.70000002,
            "bin_start": 113980976.60000001,
            "count": 0
           },
           {
            "bin_end": 151259650.8,
            "bin_start": 132620313.70000002,
            "count": 0
           },
           {
            "bin_end": 169898987.9,
            "bin_start": 151259650.8,
            "count": 0
           },
           {
            "bin_end": 188538325,
            "bin_start": 169898987.9,
            "count": 1
           }
          ],
          "max": "188538325",
          "min": "2144954",
          "nan_count": 0,
          "unique_count": 2
         }
        },
        {
         "dtype": "object",
         "name": "host_url",
         "stats": {
          "categories": [
           {
            "count": 1,
            "name": "https://www.airbnb.com/users/show/188538325"
           },
           {
            "count": 1,
            "name": "https://www.airbnb.com/users/show/2144954"
           }
          ],
          "nan_count": 0,
          "unique_count": 2
         }
        },
        {
         "dtype": "object",
         "name": "host_name",
         "stats": {
          "categories": [
           {
            "count": 1,
            "name": "Xiao"
           },
           {
            "count": 1,
            "name": "Ryan"
           }
          ],
          "nan_count": 0,
          "unique_count": 2
         }
        },
        {
         "dtype": "datetime64[ns]",
         "name": "host_since",
         "stats": {
          "histogram": [
           {
            "bin_end": 1353576960000000000,
            "bin_start": 1334448000000000000,
            "count": 1
           },
           {
            "bin_end": 1372705920000000000,
            "bin_start": 1353576960000000000,
            "count": 0
           },
           {
            "bin_end": 1391834880000000000,
            "bin_start": 1372705920000000000,
            "count": 0
           },
           {
            "bin_end": 1410963840000000000,
            "bin_start": 1391834880000000000,
            "count": 0
           },
           {
            "bin_end": 1430092800000000000,
            "bin_start": 1410963840000000000,
            "count": 0
           },
           {
            "bin_end": 1449221760000000000,
            "bin_start": 1430092800000000000,
            "count": 0
           },
           {
            "bin_end": 1468350720000000000,
            "bin_start": 1449221760000000000,
            "count": 0
           },
           {
            "bin_end": 1487479680000000000,
            "bin_start": 1468350720000000000,
            "count": 0
           },
           {
            "bin_end": 1506608640000000000,
            "bin_start": 1487479680000000000,
            "count": 0
           },
           {
            "bin_end": 1525737600000000000,
            "bin_start": 1506608640000000000,
            "count": 1
           }
          ],
          "max": "2018-05-08 00:00:00",
          "min": "2012-04-15 00:00:00",
          "nan_count": 0,
          "unique_count": 2
         }
        },
        {
         "dtype": "object",
         "name": "host_location",
         "stats": {
          "categories": [
           {
            "count": 2,
            "name": "Seattle, WA"
           }
          ],
          "nan_count": 0,
          "unique_count": 1
         }
        },
        {
         "dtype": "object",
         "name": "host_about",
         "stats": {
          "categories": [
           {
            "count": 2,
            "name": " "
           }
          ],
          "nan_count": 0,
          "unique_count": 1
         }
        },
        {
         "dtype": "object",
         "name": "host_response_time",
         "stats": {
          "categories": [
           {
            "count": 2,
            "name": "within an hour"
           }
          ],
          "nan_count": 0,
          "unique_count": 1
         }
        },
        {
         "dtype": "float64",
         "name": "host_response_rate",
         "stats": {
          "histogram": [
           {
            "bin_end": 0.6,
            "bin_start": 0.5,
            "count": 0
           },
           {
            "bin_end": 0.7,
            "bin_start": 0.6,
            "count": 0
           },
           {
            "bin_end": 0.8,
            "bin_start": 0.7,
            "count": 0
           },
           {
            "bin_end": 0.9,
            "bin_start": 0.8,
            "count": 0
           },
           {
            "bin_end": 1,
            "bin_start": 0.9,
            "count": 0
           },
           {
            "bin_end": 1.1,
            "bin_start": 1,
            "count": 2
           },
           {
            "bin_end": 1.2000000000000002,
            "bin_start": 1.1,
            "count": 0
           },
           {
            "bin_end": 1.3,
            "bin_start": 1.2000000000000002,
            "count": 0
           },
           {
            "bin_end": 1.4,
            "bin_start": 1.3,
            "count": 0
           },
           {
            "bin_end": 1.5,
            "bin_start": 1.4,
            "count": 0
           }
          ],
          "max": "1.0",
          "min": "1.0",
          "nan_count": 0,
          "unique_count": 1
         }
        },
        {
         "dtype": "float64",
         "name": "host_acceptance_rate",
         "stats": {
          "histogram": [
           {
            "bin_end": 0.6,
            "bin_start": 0.5,
            "count": 0
           },
           {
            "bin_end": 0.7,
            "bin_start": 0.6,
            "count": 0
           },
           {
            "bin_end": 0.8,
            "bin_start": 0.7,
            "count": 0
           },
           {
            "bin_end": 0.9,
            "bin_start": 0.8,
            "count": 0
           },
           {
            "bin_end": 1,
            "bin_start": 0.9,
            "count": 0
           },
           {
            "bin_end": 1.1,
            "bin_start": 1,
            "count": 2
           },
           {
            "bin_end": 1.2000000000000002,
            "bin_start": 1.1,
            "count": 0
           },
           {
            "bin_end": 1.3,
            "bin_start": 1.2000000000000002,
            "count": 0
           },
           {
            "bin_end": 1.4,
            "bin_start": 1.3,
            "count": 0
           },
           {
            "bin_end": 1.5,
            "bin_start": 1.4,
            "count": 0
           }
          ],
          "max": "1.0",
          "min": "1.0",
          "nan_count": 0,
          "unique_count": 1
         }
        },
        {
         "dtype": "int64",
         "name": "host_is_superhost",
         "stats": {
          "histogram": [
           {
            "bin_end": 0.1,
            "bin_start": 0,
            "count": 1
           },
           {
            "bin_end": 0.2,
            "bin_start": 0.1,
            "count": 0
           },
           {
            "bin_end": 0.30000000000000004,
            "bin_start": 0.2,
            "count": 0
           },
           {
            "bin_end": 0.4,
            "bin_start": 0.30000000000000004,
            "count": 0
           },
           {
            "bin_end": 0.5,
            "bin_start": 0.4,
            "count": 0
           },
           {
            "bin_end": 0.6000000000000001,
            "bin_start": 0.5,
            "count": 0
           },
           {
            "bin_end": 0.7000000000000001,
            "bin_start": 0.6000000000000001,
            "count": 0
           },
           {
            "bin_end": 0.8,
            "bin_start": 0.7000000000000001,
            "count": 0
           },
           {
            "bin_end": 0.9,
            "bin_start": 0.8,
            "count": 0
           },
           {
            "bin_end": 1,
            "bin_start": 0.9,
            "count": 1
           }
          ],
          "max": "1",
          "min": "0",
          "nan_count": 0,
          "unique_count": 2
         }
        },
        {
         "dtype": "object",
         "name": "host_picture_url",
         "stats": {
          "categories": [
           {
            "count": 1,
            "name": "https://a0.muscache.com/im/pictures/user/32fd3116-b515-46d9-8048-d5773e1bac5a.jpg?aki_policy=profile_x_medium"
           },
           {
            "count": 1,
            "name": "https://a0.muscache.com/im/pictures/user/a671129c-f502-4968-85ef-7ef088d81ab3.jpg?aki_policy=profile_x_medium"
           }
          ],
          "nan_count": 0,
          "unique_count": 2
         }
        },
        {
         "dtype": "object",
         "name": "host_neighbourhood",
         "stats": {
          "categories": [
           {
            "count": 1,
            "name": "Oakland"
           },
           {
            "count": 1,
            "name": "Greater Duwamish"
           }
          ],
          "nan_count": 0,
          "unique_count": 2
         }
        },
        {
         "dtype": "int64",
         "name": "host_listings_count",
         "stats": {
          "histogram": [
           {
            "bin_end": 2.2,
            "bin_start": 2,
            "count": 1
           },
           {
            "bin_end": 2.4,
            "bin_start": 2.2,
            "count": 0
           },
           {
            "bin_end": 2.6,
            "bin_start": 2.4,
            "count": 0
           },
           {
            "bin_end": 2.8,
            "bin_start": 2.6,
            "count": 0
           },
           {
            "bin_end": 3,
            "bin_start": 2.8,
            "count": 0
           },
           {
            "bin_end": 3.2,
            "bin_start": 3,
            "count": 0
           },
           {
            "bin_end": 3.4000000000000004,
            "bin_start": 3.2,
            "count": 0
           },
           {
            "bin_end": 3.6,
            "bin_start": 3.4000000000000004,
            "count": 0
           },
           {
            "bin_end": 3.8,
            "bin_start": 3.6,
            "count": 0
           },
           {
            "bin_end": 4,
            "bin_start": 3.8,
            "count": 1
           }
          ],
          "max": "4",
          "min": "2",
          "nan_count": 0,
          "unique_count": 2
         }
        },
        {
         "dtype": "int64",
         "name": "host_total_listings_count",
         "stats": {
          "histogram": [
           {
            "bin_end": 2.2,
            "bin_start": 2,
            "count": 1
           },
           {
            "bin_end": 2.4,
            "bin_start": 2.2,
            "count": 0
           },
           {
            "bin_end": 2.6,
            "bin_start": 2.4,
            "count": 0
           },
           {
            "bin_end": 2.8,
            "bin_start": 2.6,
            "count": 0
           },
           {
            "bin_end": 3,
            "bin_start": 2.8,
            "count": 0
           },
           {
            "bin_end": 3.2,
            "bin_start": 3,
            "count": 0
           },
           {
            "bin_end": 3.4000000000000004,
            "bin_start": 3.2,
            "count": 0
           },
           {
            "bin_end": 3.6,
            "bin_start": 3.4000000000000004,
            "count": 0
           },
           {
            "bin_end": 3.8,
            "bin_start": 3.6,
            "count": 0
           },
           {
            "bin_end": 4,
            "bin_start": 3.8,
            "count": 1
           }
          ],
          "max": "4",
          "min": "2",
          "nan_count": 0,
          "unique_count": 2
         }
        },
        {
         "dtype": "object",
         "name": "host_verifications",
         "stats": {
          "categories": [
           {
            "count": 1,
            "name": "['email', 'phone']"
           },
           {
            "count": 1,
            "name": "['email', 'phone', 'work_email']"
           }
          ],
          "nan_count": 0,
          "unique_count": 2
         }
        },
        {
         "dtype": "int64",
         "name": "host_has_profile_pic",
         "stats": {
          "histogram": [
           {
            "bin_end": 0.6,
            "bin_start": 0.5,
            "count": 0
           },
           {
            "bin_end": 0.7,
            "bin_start": 0.6,
            "count": 0
           },
           {
            "bin_end": 0.8,
            "bin_start": 0.7,
            "count": 0
           },
           {
            "bin_end": 0.9,
            "bin_start": 0.8,
            "count": 0
           },
           {
            "bin_end": 1,
            "bin_start": 0.9,
            "count": 0
           },
           {
            "bin_end": 1.1,
            "bin_start": 1,
            "count": 2
           },
           {
            "bin_end": 1.2000000000000002,
            "bin_start": 1.1,
            "count": 0
           },
           {
            "bin_end": 1.3,
            "bin_start": 1.2000000000000002,
            "count": 0
           },
           {
            "bin_end": 1.4,
            "bin_start": 1.3,
            "count": 0
           },
           {
            "bin_end": 1.5,
            "bin_start": 1.4,
            "count": 0
           }
          ],
          "max": "1",
          "min": "1",
          "nan_count": 0,
          "unique_count": 1
         }
        },
        {
         "dtype": "int64",
         "name": "host_identity_verified",
         "stats": {
          "histogram": [
           {
            "bin_end": 0.1,
            "bin_start": 0,
            "count": 1
           },
           {
            "bin_end": 0.2,
            "bin_start": 0.1,
            "count": 0
           },
           {
            "bin_end": 0.30000000000000004,
            "bin_start": 0.2,
            "count": 0
           },
           {
            "bin_end": 0.4,
            "bin_start": 0.30000000000000004,
            "count": 0
           },
           {
            "bin_end": 0.5,
            "bin_start": 0.4,
            "count": 0
           },
           {
            "bin_end": 0.6000000000000001,
            "bin_start": 0.5,
            "count": 0
           },
           {
            "bin_end": 0.7000000000000001,
            "bin_start": 0.6000000000000001,
            "count": 0
           },
           {
            "bin_end": 0.8,
            "bin_start": 0.7000000000000001,
            "count": 0
           },
           {
            "bin_end": 0.9,
            "bin_start": 0.8,
            "count": 0
           },
           {
            "bin_end": 1,
            "bin_start": 0.9,
            "count": 1
           }
          ],
          "max": "1",
          "min": "0",
          "nan_count": 0,
          "unique_count": 2
         }
        },
        {
         "dtype": "object",
         "name": "neighbourhood_cleansed",
         "stats": {
          "categories": [
           {
            "count": 1,
            "name": "Rainier View"
           },
           {
            "count": 1,
            "name": "Georgetown"
           }
          ],
          "nan_count": 0,
          "unique_count": 2
         }
        },
        {
         "dtype": "object",
         "name": "neighbourhood_group_cleansed",
         "stats": {
          "categories": [
           {
            "count": 1,
            "name": "Rainier Valley"
           },
           {
            "count": 1,
            "name": "Other neighborhoods"
           }
          ],
          "nan_count": 0,
          "unique_count": 2
         }
        },
        {
         "dtype": "float64",
         "name": "latitude",
         "stats": {
          "histogram": [
           {
            "bin_end": 47.513725900000004,
            "bin_start": 47.51028,
            "count": 1
           },
           {
            "bin_end": 47.5171718,
            "bin_start": 47.513725900000004,
            "count": 0
           },
           {
            "bin_end": 47.5206177,
            "bin_start": 47.5171718,
            "count": 0
           },
           {
            "bin_end": 47.5240636,
            "bin_start": 47.5206177,
            "count": 0
           },
           {
            "bin_end": 47.5275095,
            "bin_start": 47.5240636,
            "count": 0
           },
           {
            "bin_end": 47.5309554,
            "bin_start": 47.5275095,
            "count": 0
           },
           {
            "bin_end": 47.5344013,
            "bin_start": 47.5309554,
            "count": 0
           },
           {
            "bin_end": 47.5378472,
            "bin_start": 47.5344013,
            "count": 0
           },
           {
            "bin_end": 47.5412931,
            "bin_start": 47.5378472,
            "count": 0
           },
           {
            "bin_end": 47.544739,
            "bin_start": 47.5412931,
            "count": 1
           }
          ],
          "max": "47.544739",
          "min": "47.51028",
          "nan_count": 0,
          "unique_count": 2
         }
        },
        {
         "dtype": "float64",
         "name": "longitude",
         "stats": {
          "histogram": [
           {
            "bin_end": -122.3124754,
            "bin_start": -122.319786,
            "count": 1
           },
           {
            "bin_end": -122.3051648,
            "bin_start": -122.3124754,
            "count": 0
           },
           {
            "bin_end": -122.29785419999999,
            "bin_start": -122.3051648,
            "count": 0
           },
           {
            "bin_end": -122.29054359999999,
            "bin_start": -122.29785419999999,
            "count": 0
           },
           {
            "bin_end": -122.283233,
            "bin_start": -122.29054359999999,
            "count": 0
           },
           {
            "bin_end": -122.2759224,
            "bin_start": -122.283233,
            "count": 0
           },
           {
            "bin_end": -122.2686118,
            "bin_start": -122.2759224,
            "count": 0
           },
           {
            "bin_end": -122.26130119999999,
            "bin_start": -122.2686118,
            "count": 0
           },
           {
            "bin_end": -122.2539906,
            "bin_start": -122.26130119999999,
            "count": 0
           },
           {
            "bin_end": -122.24668,
            "bin_start": -122.2539906,
            "count": 1
           }
          ],
          "max": "-122.24668",
          "min": "-122.319786",
          "nan_count": 0,
          "unique_count": 2
         }
        },
        {
         "dtype": "object",
         "name": "property_type",
         "stats": {
          "categories": [
           {
            "count": 2,
            "name": "Entire home"
           }
          ],
          "nan_count": 0,
          "unique_count": 1
         }
        },
        {
         "dtype": "object",
         "name": "room_type",
         "stats": {
          "categories": [
           {
            "count": 2,
            "name": "Entire home/apt"
           }
          ],
          "nan_count": 0,
          "unique_count": 1
         }
        },
        {
         "dtype": "int64",
         "name": "accommodates",
         "stats": {
          "histogram": [
           {
            "bin_end": 6.2,
            "bin_start": 6,
            "count": 1
           },
           {
            "bin_end": 6.4,
            "bin_start": 6.2,
            "count": 0
           },
           {
            "bin_end": 6.6,
            "bin_start": 6.4,
            "count": 0
           },
           {
            "bin_end": 6.8,
            "bin_start": 6.6,
            "count": 0
           },
           {
            "bin_end": 7,
            "bin_start": 6.8,
            "count": 0
           },
           {
            "bin_end": 7.2,
            "bin_start": 7,
            "count": 0
           },
           {
            "bin_end": 7.4,
            "bin_start": 7.2,
            "count": 0
           },
           {
            "bin_end": 7.6,
            "bin_start": 7.4,
            "count": 0
           },
           {
            "bin_end": 7.8,
            "bin_start": 7.6,
            "count": 0
           },
           {
            "bin_end": 8,
            "bin_start": 7.8,
            "count": 1
           }
          ],
          "max": "8",
          "min": "6",
          "nan_count": 0,
          "unique_count": 2
         }
        },
        {
         "dtype": "float64",
         "name": "bedrooms",
         "stats": {
          "histogram": [
           {
            "bin_end": 3.1,
            "bin_start": 3,
            "count": 1
           },
           {
            "bin_end": 3.2,
            "bin_start": 3.1,
            "count": 0
           },
           {
            "bin_end": 3.3,
            "bin_start": 3.2,
            "count": 0
           },
           {
            "bin_end": 3.4,
            "bin_start": 3.3,
            "count": 0
           },
           {
            "bin_end": 3.5,
            "bin_start": 3.4,
            "count": 0
           },
           {
            "bin_end": 3.6,
            "bin_start": 3.5,
            "count": 0
           },
           {
            "bin_end": 3.7,
            "bin_start": 3.6,
            "count": 0
           },
           {
            "bin_end": 3.8,
            "bin_start": 3.7,
            "count": 0
           },
           {
            "bin_end": 3.9,
            "bin_start": 3.8,
            "count": 0
           },
           {
            "bin_end": 4,
            "bin_start": 3.9,
            "count": 1
           }
          ],
          "max": "4.0",
          "min": "3.0",
          "nan_count": 0,
          "unique_count": 2
         }
        },
        {
         "dtype": "float64",
         "name": "beds",
         "stats": {
          "histogram": [
           {
            "bin_end": 3.1,
            "bin_start": 3,
            "count": 1
           },
           {
            "bin_end": 3.2,
            "bin_start": 3.1,
            "count": 0
           },
           {
            "bin_end": 3.3,
            "bin_start": 3.2,
            "count": 0
           },
           {
            "bin_end": 3.4,
            "bin_start": 3.3,
            "count": 0
           },
           {
            "bin_end": 3.5,
            "bin_start": 3.4,
            "count": 0
           },
           {
            "bin_end": 3.6,
            "bin_start": 3.5,
            "count": 0
           },
           {
            "bin_end": 3.7,
            "bin_start": 3.6,
            "count": 0
           },
           {
            "bin_end": 3.8,
            "bin_start": 3.7,
            "count": 0
           },
           {
            "bin_end": 3.9,
            "bin_start": 3.8,
            "count": 0
           },
           {
            "bin_end": 4,
            "bin_start": 3.9,
            "count": 1
           }
          ],
          "max": "4.0",
          "min": "3.0",
          "nan_count": 0,
          "unique_count": 2
         }
        },
        {
         "dtype": "object",
         "name": "amenities",
         "stats": {
          "categories": [
           {
            "count": 1,
            "name": "[\"Hot water\", \"Dining table\", \"Toaster\", \"Refrigerator\", \"Bathtub\", \"Dishwasher\", \"Coffee maker: drip coffee maker\", \"Room-darkening shades\", \"Private entrance\", \"Dishes and silverware\", \"Washer\", \"Kitchen\", \"TV\", \"Body soap\", \"Indoor fireplace\", \"Private patio or balcony\", \"Free street parking\", \"Iron\", \"Hair dryer\", \"Microwave\", \"Cooking basics\", \"Oven\", \"Private backyard \\u2013 Fully fenced\", \"Pack \\u2019n play/Travel crib\", \"Keypad\", \"Stove\", \"Smoke alarm\", \"Dryer\", \"Essentials\", \"Wine glasses\", \"Self check-in\", \"Cleaning products\", \"Fire extinguisher\", \"High chair\", \"Heating\", \"Outdoor furniture\", \"Long term stays allowed\", \"Wifi\", \"Air conditioning\", \"Outdoor dining area\", \"BBQ grill\", \"First aid kit\", \"Hangers\", \"Extra pillows and blankets\", \"Shampoo\", \"Security cameras on property\", \"Carbon monoxide alarm\", \"Fire pit\", \"Dedicated workspace\", \"Lake view\", \"Bed linens\", \"Park view\", \"Free parking on premises\"]"
           },
           {
            "count": 1,
            "name": "[\"Hot water\", \"Crib - available upon request\", \"Dining table\", \"Toaster\", \"Refrigerator\", \"Bathtub\", \"Dishwasher\", \"Hot water kettle\", \"Room-darkening shades\", \"Private entrance\", \"Dishes and silverware\", \"Conditioner\", \"Kitchen\", \"Body soap\", \"Private patio or balcony\", \"Free street parking\", \"Google Nest sound system\", \"Iron\", \"Hair dryer\", \"Microwave\", \"Cooking basics\", \"Oven\", \"Shared backyard \\u2013 Not fully fenced\", \"Pets allowed\", \"Keypad\", \"Free dryer \\u2013 In unit\", \"Stove\", \"Smoke alarm\", \"Wine glasses\", \"Essentials\", \"Pack \\u2019n play/Travel crib - available upon request\", \"Self check-in\", \"Cleaning products\", \"AC - split type ductless system\", \"Fire extinguisher\", \"Long term stays allowed\", \"Outdoor furniture\", \"Wifi\", \"Coffee\", \"Single level home\", \"Outdoor dining area\", \"Coffee maker: french press\", \"First aid kit\", \"65\\\" HDTV with standard cable\", \"Hangers\", \"Freezer\", \"Free washer \\u2013 In unit\", \"Extra pillows and blankets\", \"Shampoo\", \"Carbon monoxide alarm\", \"Heating - split type ductless system\", \"Dedicated workspace\", \"Bed linens\", \"Free parking on premises\", \"Books and reading material\"]"
           }
          ],
          "nan_count": 0,
          "unique_count": 2
         }
        },
        {
         "dtype": "float64",
         "name": "price",
         "stats": {
          "histogram": [
           {
            "bin_end": 168.4,
            "bin_start": 156,
            "count": 1
           },
           {
            "bin_end": 180.8,
            "bin_start": 168.4,
            "count": 0
           },
           {
            "bin_end": 193.2,
            "bin_start": 180.8,
            "count": 0
           },
           {
            "bin_end": 205.6,
            "bin_start": 193.2,
            "count": 0
           },
           {
            "bin_end": 218,
            "bin_start": 205.6,
            "count": 0
           },
           {
            "bin_end": 230.4,
            "bin_start": 218,
            "count": 0
           },
           {
            "bin_end": 242.8,
            "bin_start": 230.4,
            "count": 0
           },
           {
            "bin_end": 255.2,
            "bin_start": 242.8,
            "count": 0
           },
           {
            "bin_end": 267.6,
            "bin_start": 255.2,
            "count": 0
           },
           {
            "bin_end": 280,
            "bin_start": 267.6,
            "count": 1
           }
          ],
          "max": "280.0",
          "min": "156.0",
          "nan_count": 0,
          "unique_count": 2
         }
        },
        {
         "dtype": "int64",
         "name": "minimum_nights",
         "stats": {
          "histogram": [
           {
            "bin_end": 1.2,
            "bin_start": 1,
            "count": 1
           },
           {
            "bin_end": 1.4,
            "bin_start": 1.2,
            "count": 0
           },
           {
            "bin_end": 1.6,
            "bin_start": 1.4,
            "count": 0
           },
           {
            "bin_end": 1.8,
            "bin_start": 1.6,
            "count": 0
           },
           {
            "bin_end": 2,
            "bin_start": 1.8,
            "count": 0
           },
           {
            "bin_end": 2.2,
            "bin_start": 2,
            "count": 0
           },
           {
            "bin_end": 2.4000000000000004,
            "bin_start": 2.2,
            "count": 0
           },
           {
            "bin_end": 2.6,
            "bin_start": 2.4000000000000004,
            "count": 0
           },
           {
            "bin_end": 2.8,
            "bin_start": 2.6,
            "count": 0
           },
           {
            "bin_end": 3,
            "bin_start": 2.8,
            "count": 1
           }
          ],
          "max": "3",
          "min": "1",
          "nan_count": 0,
          "unique_count": 2
         }
        },
        {
         "dtype": "int64",
         "name": "maximum_nights",
         "stats": {
          "histogram": [
           {
            "bin_end": 42,
            "bin_start": 30,
            "count": 1
           },
           {
            "bin_end": 54,
            "bin_start": 42,
            "count": 0
           },
           {
            "bin_end": 66,
            "bin_start": 54,
            "count": 0
           },
           {
            "bin_end": 78,
            "bin_start": 66,
            "count": 0
           },
           {
            "bin_end": 90,
            "bin_start": 78,
            "count": 0
           },
           {
            "bin_end": 102,
            "bin_start": 90,
            "count": 0
           },
           {
            "bin_end": 114,
            "bin_start": 102,
            "count": 0
           },
           {
            "bin_end": 126,
            "bin_start": 114,
            "count": 0
           },
           {
            "bin_end": 138,
            "bin_start": 126,
            "count": 0
           },
           {
            "bin_end": 150,
            "bin_start": 138,
            "count": 1
           }
          ],
          "max": "150",
          "min": "30",
          "nan_count": 0,
          "unique_count": 2
         }
        },
        {
         "dtype": "float64",
         "name": "minimum_minimum_nights",
         "stats": {
          "histogram": [
           {
            "bin_end": 2.1,
            "bin_start": 2,
            "count": 1
           },
           {
            "bin_end": 2.2,
            "bin_start": 2.1,
            "count": 0
           },
           {
            "bin_end": 2.3,
            "bin_start": 2.2,
            "count": 0
           },
           {
            "bin_end": 2.4,
            "bin_start": 2.3,
            "count": 0
           },
           {
            "bin_end": 2.5,
            "bin_start": 2.4,
            "count": 0
           },
           {
            "bin_end": 2.6,
            "bin_start": 2.5,
            "count": 0
           },
           {
            "bin_end": 2.7,
            "bin_start": 2.6,
            "count": 0
           },
           {
            "bin_end": 2.8,
            "bin_start": 2.7,
            "count": 0
           },
           {
            "bin_end": 2.9,
            "bin_start": 2.8,
            "count": 0
           },
           {
            "bin_end": 3,
            "bin_start": 2.9,
            "count": 1
           }
          ],
          "max": "3.0",
          "min": "2.0",
          "nan_count": 0,
          "unique_count": 2
         }
        },
        {
         "dtype": "float64",
         "name": "maximum_minimum_nights",
         "stats": {
          "histogram": [
           {
            "bin_end": 2.6,
            "bin_start": 2.5,
            "count": 0
           },
           {
            "bin_end": 2.7,
            "bin_start": 2.6,
            "count": 0
           },
           {
            "bin_end": 2.8,
            "bin_start": 2.7,
            "count": 0
           },
           {
            "bin_end": 2.9,
            "bin_start": 2.8,
            "count": 0
           },
           {
            "bin_end": 3,
            "bin_start": 2.9,
            "count": 0
           },
           {
            "bin_end": 3.1,
            "bin_start": 3,
            "count": 2
           },
           {
            "bin_end": 3.2,
            "bin_start": 3.1,
            "count": 0
           },
           {
            "bin_end": 3.3,
            "bin_start": 3.2,
            "count": 0
           },
           {
            "bin_end": 3.4,
            "bin_start": 3.3,
            "count": 0
           },
           {
            "bin_end": 3.5,
            "bin_start": 3.4,
            "count": 0
           }
          ],
          "max": "3.0",
          "min": "3.0",
          "nan_count": 0,
          "unique_count": 1
         }
        },
        {
         "dtype": "float64",
         "name": "minimum_maximum_nights",
         "stats": {
          "histogram": [
           {
            "bin_end": 1124.6,
            "bin_start": 1124.5,
            "count": 0
           },
           {
            "bin_end": 1124.7,
            "bin_start": 1124.6,
            "count": 0
           },
           {
            "bin_end": 1124.8,
            "bin_start": 1124.7,
            "count": 0
           },
           {
            "bin_end": 1124.9,
            "bin_start": 1124.8,
            "count": 0
           },
           {
            "bin_end": 1125,
            "bin_start": 1124.9,
            "count": 0
           },
           {
            "bin_end": 1125.1,
            "bin_start": 1125,
            "count": 2
           },
           {
            "bin_end": 1125.2,
            "bin_start": 1125.1,
            "count": 0
           },
           {
            "bin_end": 1125.3,
            "bin_start": 1125.2,
            "count": 0
           },
           {
            "bin_end": 1125.4,
            "bin_start": 1125.3,
            "count": 0
           },
           {
            "bin_end": 1125.5,
            "bin_start": 1125.4,
            "count": 0
           }
          ],
          "max": "1125.0",
          "min": "1125.0",
          "nan_count": 0,
          "unique_count": 1
         }
        },
        {
         "dtype": "float64",
         "name": "maximum_maximum_nights",
         "stats": {
          "histogram": [
           {
            "bin_end": 1124.6,
            "bin_start": 1124.5,
            "count": 0
           },
           {
            "bin_end": 1124.7,
            "bin_start": 1124.6,
            "count": 0
           },
           {
            "bin_end": 1124.8,
            "bin_start": 1124.7,
            "count": 0
           },
           {
            "bin_end": 1124.9,
            "bin_start": 1124.8,
            "count": 0
           },
           {
            "bin_end": 1125,
            "bin_start": 1124.9,
            "count": 0
           },
           {
            "bin_end": 1125.1,
            "bin_start": 1125,
            "count": 2
           },
           {
            "bin_end": 1125.2,
            "bin_start": 1125.1,
            "count": 0
           },
           {
            "bin_end": 1125.3,
            "bin_start": 1125.2,
            "count": 0
           },
           {
            "bin_end": 1125.4,
            "bin_start": 1125.3,
            "count": 0
           },
           {
            "bin_end": 1125.5,
            "bin_start": 1125.4,
            "count": 0
           }
          ],
          "max": "1125.0",
          "min": "1125.0",
          "nan_count": 0,
          "unique_count": 1
         }
        },
        {
         "dtype": "float64",
         "name": "minimum_nights_avg_ntm",
         "stats": {
          "histogram": [
           {
            "bin_end": 2.19,
            "bin_start": 2.1,
            "count": 1
           },
           {
            "bin_end": 2.2800000000000002,
            "bin_start": 2.19,
            "count": 0
           },
           {
            "bin_end": 2.37,
            "bin_start": 2.2800000000000002,
            "count": 0
           },
           {
            "bin_end": 2.46,
            "bin_start": 2.37,
            "count": 0
           },
           {
            "bin_end": 2.55,
            "bin_start": 2.46,
            "count": 0
           },
           {
            "bin_end": 2.64,
            "bin_start": 2.55,
            "count": 0
           },
           {
            "bin_end": 2.73,
            "bin_start": 2.64,
            "count": 0
           },
           {
            "bin_end": 2.8200000000000003,
            "bin_start": 2.73,
            "count": 0
           },
           {
            "bin_end": 2.91,
            "bin_start": 2.8200000000000003,
            "count": 0
           },
           {
            "bin_end": 3,
            "bin_start": 2.91,
            "count": 1
           }
          ],
          "max": "3.0",
          "min": "2.1",
          "nan_count": 0,
          "unique_count": 2
         }
        },
        {
         "dtype": "float64",
         "name": "maximum_nights_avg_ntm",
         "stats": {
          "histogram": [
           {
            "bin_end": 1124.6,
            "bin_start": 1124.5,
            "count": 0
           },
           {
            "bin_end": 1124.7,
            "bin_start": 1124.6,
            "count": 0
           },
           {
            "bin_end": 1124.8,
            "bin_start": 1124.7,
            "count": 0
           },
           {
            "bin_end": 1124.9,
            "bin_start": 1124.8,
            "count": 0
           },
           {
            "bin_end": 1125,
            "bin_start": 1124.9,
            "count": 0
           },
           {
            "bin_end": 1125.1,
            "bin_start": 1125,
            "count": 2
           },
           {
            "bin_end": 1125.2,
            "bin_start": 1125.1,
            "count": 0
           },
           {
            "bin_end": 1125.3,
            "bin_start": 1125.2,
            "count": 0
           },
           {
            "bin_end": 1125.4,
            "bin_start": 1125.3,
            "count": 0
           },
           {
            "bin_end": 1125.5,
            "bin_start": 1125.4,
            "count": 0
           }
          ],
          "max": "1125.0",
          "min": "1125.0",
          "nan_count": 0,
          "unique_count": 1
         }
        },
        {
         "dtype": "int64",
         "name": "has_availability",
         "stats": {
          "histogram": [
           {
            "bin_end": 0.6,
            "bin_start": 0.5,
            "count": 0
           },
           {
            "bin_end": 0.7,
            "bin_start": 0.6,
            "count": 0
           },
           {
            "bin_end": 0.8,
            "bin_start": 0.7,
            "count": 0
           },
           {
            "bin_end": 0.9,
            "bin_start": 0.8,
            "count": 0
           },
           {
            "bin_end": 1,
            "bin_start": 0.9,
            "count": 0
           },
           {
            "bin_end": 1.1,
            "bin_start": 1,
            "count": 2
           },
           {
            "bin_end": 1.2000000000000002,
            "bin_start": 1.1,
            "count": 0
           },
           {
            "bin_end": 1.3,
            "bin_start": 1.2000000000000002,
            "count": 0
           },
           {
            "bin_end": 1.4,
            "bin_start": 1.3,
            "count": 0
           },
           {
            "bin_end": 1.5,
            "bin_start": 1.4,
            "count": 0
           }
          ],
          "max": "1",
          "min": "1",
          "nan_count": 0,
          "unique_count": 1
         }
        },
        {
         "dtype": "int64",
         "name": "availability_30",
         "stats": {
          "histogram": [
           {
            "bin_end": 17.6,
            "bin_start": 17,
            "count": 1
           },
           {
            "bin_end": 18.2,
            "bin_start": 17.6,
            "count": 0
           },
           {
            "bin_end": 18.8,
            "bin_start": 18.2,
            "count": 0
           },
           {
            "bin_end": 19.4,
            "bin_start": 18.8,
            "count": 0
           },
           {
            "bin_end": 20,
            "bin_start": 19.4,
            "count": 0
           },
           {
            "bin_end": 20.6,
            "bin_start": 20,
            "count": 0
           },
           {
            "bin_end": 21.2,
            "bin_start": 20.6,
            "count": 0
           },
           {
            "bin_end": 21.8,
            "bin_start": 21.2,
            "count": 0
           },
           {
            "bin_end": 22.4,
            "bin_start": 21.8,
            "count": 0
           },
           {
            "bin_end": 23,
            "bin_start": 22.4,
            "count": 1
           }
          ],
          "max": "23",
          "min": "17",
          "nan_count": 0,
          "unique_count": 2
         }
        },
        {
         "dtype": "int64",
         "name": "availability_60",
         "stats": {
          "histogram": [
           {
            "bin_end": 36.8,
            "bin_start": 35,
            "count": 1
           },
           {
            "bin_end": 38.6,
            "bin_start": 36.8,
            "count": 0
           },
           {
            "bin_end": 40.4,
            "bin_start": 38.6,
            "count": 0
           },
           {
            "bin_end": 42.2,
            "bin_start": 40.4,
            "count": 0
           },
           {
            "bin_end": 44,
            "bin_start": 42.2,
            "count": 0
           },
           {
            "bin_end": 45.8,
            "bin_start": 44,
            "count": 0
           },
           {
            "bin_end": 47.6,
            "bin_start": 45.8,
            "count": 0
           },
           {
            "bin_end": 49.4,
            "bin_start": 47.6,
            "count": 0
           },
           {
            "bin_end": 51.2,
            "bin_start": 49.4,
            "count": 0
           },
           {
            "bin_end": 53,
            "bin_start": 51.2,
            "count": 1
           }
          ],
          "max": "53",
          "min": "35",
          "nan_count": 0,
          "unique_count": 2
         }
        },
        {
         "dtype": "int64",
         "name": "availability_90",
         "stats": {
          "histogram": [
           {
            "bin_end": 66.8,
            "bin_start": 65,
            "count": 1
           },
           {
            "bin_end": 68.6,
            "bin_start": 66.8,
            "count": 0
           },
           {
            "bin_end": 70.4,
            "bin_start": 68.6,
            "count": 0
           },
           {
            "bin_end": 72.2,
            "bin_start": 70.4,
            "count": 0
           },
           {
            "bin_end": 74,
            "bin_start": 72.2,
            "count": 0
           },
           {
            "bin_end": 75.8,
            "bin_start": 74,
            "count": 0
           },
           {
            "bin_end": 77.6,
            "bin_start": 75.8,
            "count": 0
           },
           {
            "bin_end": 79.4,
            "bin_start": 77.6,
            "count": 0
           },
           {
            "bin_end": 81.2,
            "bin_start": 79.4,
            "count": 0
           },
           {
            "bin_end": 83,
            "bin_start": 81.2,
            "count": 1
           }
          ],
          "max": "83",
          "min": "65",
          "nan_count": 0,
          "unique_count": 2
         }
        },
        {
         "dtype": "int64",
         "name": "availability_365",
         "stats": {
          "histogram": [
           {
            "bin_end": 330.2,
            "bin_start": 329,
            "count": 1
           },
           {
            "bin_end": 331.4,
            "bin_start": 330.2,
            "count": 0
           },
           {
            "bin_end": 332.6,
            "bin_start": 331.4,
            "count": 0
           },
           {
            "bin_end": 333.8,
            "bin_start": 332.6,
            "count": 0
           },
           {
            "bin_end": 335,
            "bin_start": 333.8,
            "count": 0
           },
           {
            "bin_end": 336.2,
            "bin_start": 335,
            "count": 0
           },
           {
            "bin_end": 337.4,
            "bin_start": 336.2,
            "count": 0
           },
           {
            "bin_end": 338.6,
            "bin_start": 337.4,
            "count": 0
           },
           {
            "bin_end": 339.8,
            "bin_start": 338.6,
            "count": 0
           },
           {
            "bin_end": 341,
            "bin_start": 339.8,
            "count": 1
           }
          ],
          "max": "341",
          "min": "329",
          "nan_count": 0,
          "unique_count": 2
         }
        },
        {
         "dtype": "int64",
         "name": "number_of_reviews",
         "stats": {
          "histogram": [
           {
            "bin_end": 18.9,
            "bin_start": 18,
            "count": 1
           },
           {
            "bin_end": 19.8,
            "bin_start": 18.9,
            "count": 0
           },
           {
            "bin_end": 20.7,
            "bin_start": 19.8,
            "count": 0
           },
           {
            "bin_end": 21.6,
            "bin_start": 20.7,
            "count": 0
           },
           {
            "bin_end": 22.5,
            "bin_start": 21.6,
            "count": 0
           },
           {
            "bin_end": 23.4,
            "bin_start": 22.5,
            "count": 0
           },
           {
            "bin_end": 24.3,
            "bin_start": 23.4,
            "count": 0
           },
           {
            "bin_end": 25.2,
            "bin_start": 24.3,
            "count": 0
           },
           {
            "bin_end": 26.1,
            "bin_start": 25.2,
            "count": 0
           },
           {
            "bin_end": 27,
            "bin_start": 26.1,
            "count": 1
           }
          ],
          "max": "27",
          "min": "18",
          "nan_count": 0,
          "unique_count": 2
         }
        },
        {
         "dtype": "int64",
         "name": "number_of_reviews_ltm",
         "stats": {
          "histogram": [
           {
            "bin_end": 9,
            "bin_start": 7,
            "count": 1
           },
           {
            "bin_end": 11,
            "bin_start": 9,
            "count": 0
           },
           {
            "bin_end": 13,
            "bin_start": 11,
            "count": 0
           },
           {
            "bin_end": 15,
            "bin_start": 13,
            "count": 0
           },
           {
            "bin_end": 17,
            "bin_start": 15,
            "count": 0
           },
           {
            "bin_end": 19,
            "bin_start": 17,
            "count": 0
           },
           {
            "bin_end": 21,
            "bin_start": 19,
            "count": 0
           },
           {
            "bin_end": 23,
            "bin_start": 21,
            "count": 0
           },
           {
            "bin_end": 25,
            "bin_start": 23,
            "count": 0
           },
           {
            "bin_end": 27,
            "bin_start": 25,
            "count": 1
           }
          ],
          "max": "27",
          "min": "7",
          "nan_count": 0,
          "unique_count": 2
         }
        },
        {
         "dtype": "int64",
         "name": "number_of_reviews_l30d",
         "stats": {
          "histogram": [
           {
            "bin_end": 1.2,
            "bin_start": 1,
            "count": 1
           },
           {
            "bin_end": 1.4,
            "bin_start": 1.2,
            "count": 0
           },
           {
            "bin_end": 1.6,
            "bin_start": 1.4,
            "count": 0
           },
           {
            "bin_end": 1.8,
            "bin_start": 1.6,
            "count": 0
           },
           {
            "bin_end": 2,
            "bin_start": 1.8,
            "count": 0
           },
           {
            "bin_end": 2.2,
            "bin_start": 2,
            "count": 0
           },
           {
            "bin_end": 2.4000000000000004,
            "bin_start": 2.2,
            "count": 0
           },
           {
            "bin_end": 2.6,
            "bin_start": 2.4000000000000004,
            "count": 0
           },
           {
            "bin_end": 2.8,
            "bin_start": 2.6,
            "count": 0
           },
           {
            "bin_end": 3,
            "bin_start": 2.8,
            "count": 1
           }
          ],
          "max": "3",
          "min": "1",
          "nan_count": 0,
          "unique_count": 2
         }
        },
        {
         "dtype": "datetime64[ns]",
         "name": "first_review",
         "stats": {
          "histogram": [
           {
            "bin_end": 1627361280000000000,
            "bin_start": 1624320000000000000,
            "count": 1
           },
           {
            "bin_end": 1630402560000000000,
            "bin_start": 1627361280000000000,
            "count": 0
           },
           {
            "bin_end": 1633443840000000000,
            "bin_start": 1630402560000000000,
            "count": 0
           },
           {
            "bin_end": 1636485120000000000,
            "bin_start": 1633443840000000000,
            "count": 0
           },
           {
            "bin_end": 1639526400000000000,
            "bin_start": 1636485120000000000,
            "count": 0
           },
           {
            "bin_end": 1642567680000000000,
            "bin_start": 1639526400000000000,
            "count": 0
           },
           {
            "bin_end": 1645608960000000000,
            "bin_start": 1642567680000000000,
            "count": 0
           },
           {
            "bin_end": 1648650240000000000,
            "bin_start": 1645608960000000000,
            "count": 0
           },
           {
            "bin_end": 1651691520000000000,
            "bin_start": 1648650240000000000,
            "count": 0
           },
           {
            "bin_end": 1654732800000000000,
            "bin_start": 1651691520000000000,
            "count": 1
           }
          ],
          "max": "2022-06-09 00:00:00",
          "min": "2021-06-22 00:00:00",
          "nan_count": 0,
          "unique_count": 2
         }
        },
        {
         "dtype": "datetime64[ns]",
         "name": "last_review",
         "stats": {
          "histogram": [
           {
            "bin_end": 1669800960000000000,
            "bin_start": 1669680000000000000,
            "count": 1
           },
           {
            "bin_end": 1669921920000000000,
            "bin_start": 1669800960000000000,
            "count": 0
           },
           {
            "bin_end": 1670042880000000000,
            "bin_start": 1669921920000000000,
            "count": 0
           },
           {
            "bin_end": 1670163840000000000,
            "bin_start": 1670042880000000000,
            "count": 0
           },
           {
            "bin_end": 1670284800000000000,
            "bin_start": 1670163840000000000,
            "count": 0
           },
           {
            "bin_end": 1670405760000000000,
            "bin_start": 1670284800000000000,
            "count": 0
           },
           {
            "bin_end": 1670526720000000000,
            "bin_start": 1670405760000000000,
            "count": 0
           },
           {
            "bin_end": 1670647680000000000,
            "bin_start": 1670526720000000000,
            "count": 0
           },
           {
            "bin_end": 1670768640000000000,
            "bin_start": 1670647680000000000,
            "count": 0
           },
           {
            "bin_end": 1670889600000000000,
            "bin_start": 1670768640000000000,
            "count": 1
           }
          ],
          "max": "2022-12-13 00:00:00",
          "min": "2022-11-29 00:00:00",
          "nan_count": 0,
          "unique_count": 2
         }
        },
        {
         "dtype": "float64",
         "name": "review_scores_rating",
         "stats": {
          "histogram": [
           {
            "bin_end": 4.836,
            "bin_start": 4.83,
            "count": 1
           },
           {
            "bin_end": 4.842,
            "bin_start": 4.836,
            "count": 0
           },
           {
            "bin_end": 4.848,
            "bin_start": 4.842,
            "count": 0
           },
           {
            "bin_end": 4.854,
            "bin_start": 4.848,
            "count": 0
           },
           {
            "bin_end": 4.859999999999999,
            "bin_start": 4.854,
            "count": 0
           },
           {
            "bin_end": 4.866,
            "bin_start": 4.859999999999999,
            "count": 0
           },
           {
            "bin_end": 4.872,
            "bin_start": 4.866,
            "count": 0
           },
           {
            "bin_end": 4.878,
            "bin_start": 4.872,
            "count": 0
           },
           {
            "bin_end": 4.8839999999999995,
            "bin_start": 4.878,
            "count": 0
           },
           {
            "bin_end": 4.89,
            "bin_start": 4.8839999999999995,
            "count": 1
           }
          ],
          "max": "4.89",
          "min": "4.83",
          "nan_count": 0,
          "unique_count": 2
         }
        },
        {
         "dtype": "float64",
         "name": "review_scores_accuracy",
         "stats": {
          "histogram": [
           {
            "bin_end": 4.896999999999999,
            "bin_start": 4.89,
            "count": 1
           },
           {
            "bin_end": 4.904,
            "bin_start": 4.896999999999999,
            "count": 0
           },
           {
            "bin_end": 4.911,
            "bin_start": 4.904,
            "count": 0
           },
           {
            "bin_end": 4.918,
            "bin_start": 4.911,
            "count": 0
           },
           {
            "bin_end": 4.925,
            "bin_start": 4.918,
            "count": 0
           },
           {
            "bin_end": 4.9319999999999995,
            "bin_start": 4.925,
            "count": 0
           },
           {
            "bin_end": 4.939,
            "bin_start": 4.9319999999999995,
            "count": 0
           },
           {
            "bin_end": 4.946,
            "bin_start": 4.939,
            "count": 0
           },
           {
            "bin_end": 4.953,
            "bin_start": 4.946,
            "count": 0
           },
           {
            "bin_end": 4.96,
            "bin_start": 4.953,
            "count": 1
           }
          ],
          "max": "4.96",
          "min": "4.89",
          "nan_count": 0,
          "unique_count": 2
         }
        },
        {
         "dtype": "float64",
         "name": "review_scores_cleanliness",
         "stats": {
          "histogram": [
           {
            "bin_end": 4.895,
            "bin_start": 4.89,
            "count": 1
           },
           {
            "bin_end": 4.8999999999999995,
            "bin_start": 4.895,
            "count": 0
           },
           {
            "bin_end": 4.905,
            "bin_start": 4.8999999999999995,
            "count": 0
           },
           {
            "bin_end": 4.91,
            "bin_start": 4.905,
            "count": 0
           },
           {
            "bin_end": 4.915,
            "bin_start": 4.91,
            "count": 0
           },
           {
            "bin_end": 4.92,
            "bin_start": 4.915,
            "count": 0
           },
           {
            "bin_end": 4.925,
            "bin_start": 4.92,
            "count": 0
           },
           {
            "bin_end": 4.930000000000001,
            "bin_start": 4.925,
            "count": 0
           },
           {
            "bin_end": 4.9350000000000005,
            "bin_start": 4.930000000000001,
            "count": 0
           },
           {
            "bin_end": 4.94,
            "bin_start": 4.9350000000000005,
            "count": 1
           }
          ],
          "max": "4.94",
          "min": "4.89",
          "nan_count": 0,
          "unique_count": 2
         }
        },
        {
         "dtype": "float64",
         "name": "review_scores_checkin",
         "stats": {
          "histogram": [
           {
            "bin_end": 4.894,
            "bin_start": 4.89,
            "count": 1
           },
           {
            "bin_end": 4.898,
            "bin_start": 4.894,
            "count": 0
           },
           {
            "bin_end": 4.901999999999999,
            "bin_start": 4.898,
            "count": 0
           },
           {
            "bin_end": 4.906,
            "bin_start": 4.901999999999999,
            "count": 0
           },
           {
            "bin_end": 4.91,
            "bin_start": 4.906,
            "count": 0
           },
           {
            "bin_end": 4.914,
            "bin_start": 4.91,
            "count": 0
           },
           {
            "bin_end": 4.917999999999999,
            "bin_start": 4.914,
            "count": 0
           },
           {
            "bin_end": 4.922,
            "bin_start": 4.917999999999999,
            "count": 0
           },
           {
            "bin_end": 4.926,
            "bin_start": 4.922,
            "count": 0
           },
           {
            "bin_end": 4.93,
            "bin_start": 4.926,
            "count": 1
           }
          ],
          "max": "4.93",
          "min": "4.89",
          "nan_count": 0,
          "unique_count": 2
         }
        },
        {
         "dtype": "float64",
         "name": "review_scores_communication",
         "stats": {
          "histogram": [
           {
            "bin_end": 4.896999999999999,
            "bin_start": 4.89,
            "count": 1
           },
           {
            "bin_end": 4.904,
            "bin_start": 4.896999999999999,
            "count": 0
           },
           {
            "bin_end": 4.911,
            "bin_start": 4.904,
            "count": 0
           },
           {
            "bin_end": 4.918,
            "bin_start": 4.911,
            "count": 0
           },
           {
            "bin_end": 4.925,
            "bin_start": 4.918,
            "count": 0
           },
           {
            "bin_end": 4.9319999999999995,
            "bin_start": 4.925,
            "count": 0
           },
           {
            "bin_end": 4.939,
            "bin_start": 4.9319999999999995,
            "count": 0
           },
           {
            "bin_end": 4.946,
            "bin_start": 4.939,
            "count": 0
           },
           {
            "bin_end": 4.953,
            "bin_start": 4.946,
            "count": 0
           },
           {
            "bin_end": 4.96,
            "bin_start": 4.953,
            "count": 1
           }
          ],
          "max": "4.96",
          "min": "4.89",
          "nan_count": 0,
          "unique_count": 2
         }
        },
        {
         "dtype": "float64",
         "name": "review_scores_location",
         "stats": {
          "histogram": [
           {
            "bin_end": 4.642,
            "bin_start": 4.61,
            "count": 1
           },
           {
            "bin_end": 4.674,
            "bin_start": 4.642,
            "count": 0
           },
           {
            "bin_end": 4.706,
            "bin_start": 4.674,
            "count": 0
           },
           {
            "bin_end": 4.738,
            "bin_start": 4.706,
            "count": 0
           },
           {
            "bin_end": 4.77,
            "bin_start": 4.738,
            "count": 0
           },
           {
            "bin_end": 4.802,
            "bin_start": 4.77,
            "count": 0
           },
           {
            "bin_end": 4.834,
            "bin_start": 4.802,
            "count": 0
           },
           {
            "bin_end": 4.866,
            "bin_start": 4.834,
            "count": 0
           },
           {
            "bin_end": 4.898,
            "bin_start": 4.866,
            "count": 0
           },
           {
            "bin_end": 4.93,
            "bin_start": 4.898,
            "count": 1
           }
          ],
          "max": "4.93",
          "min": "4.61",
          "nan_count": 0,
          "unique_count": 2
         }
        },
        {
         "dtype": "float64",
         "name": "review_scores_value",
         "stats": {
          "histogram": [
           {
            "bin_end": 4.741,
            "bin_start": 4.72,
            "count": 1
           },
           {
            "bin_end": 4.762,
            "bin_start": 4.741,
            "count": 0
           },
           {
            "bin_end": 4.7829999999999995,
            "bin_start": 4.762,
            "count": 0
           },
           {
            "bin_end": 4.803999999999999,
            "bin_start": 4.7829999999999995,
            "count": 0
           },
           {
            "bin_end": 4.824999999999999,
            "bin_start": 4.803999999999999,
            "count": 0
           },
           {
            "bin_end": 4.846,
            "bin_start": 4.824999999999999,
            "count": 0
           },
           {
            "bin_end": 4.867,
            "bin_start": 4.846,
            "count": 0
           },
           {
            "bin_end": 4.888,
            "bin_start": 4.867,
            "count": 0
           },
           {
            "bin_end": 4.909,
            "bin_start": 4.888,
            "count": 0
           },
           {
            "bin_end": 4.93,
            "bin_start": 4.909,
            "count": 1
           }
          ],
          "max": "4.93",
          "min": "4.72",
          "nan_count": 0,
          "unique_count": 2
         }
        },
        {
         "dtype": "int64",
         "name": "has_license",
         "stats": {
          "histogram": [
           {
            "bin_end": 0.6,
            "bin_start": 0.5,
            "count": 0
           },
           {
            "bin_end": 0.7,
            "bin_start": 0.6,
            "count": 0
           },
           {
            "bin_end": 0.8,
            "bin_start": 0.7,
            "count": 0
           },
           {
            "bin_end": 0.9,
            "bin_start": 0.8,
            "count": 0
           },
           {
            "bin_end": 1,
            "bin_start": 0.9,
            "count": 0
           },
           {
            "bin_end": 1.1,
            "bin_start": 1,
            "count": 2
           },
           {
            "bin_end": 1.2000000000000002,
            "bin_start": 1.1,
            "count": 0
           },
           {
            "bin_end": 1.3,
            "bin_start": 1.2000000000000002,
            "count": 0
           },
           {
            "bin_end": 1.4,
            "bin_start": 1.3,
            "count": 0
           },
           {
            "bin_end": 1.5,
            "bin_start": 1.4,
            "count": 0
           }
          ],
          "max": "1",
          "min": "1",
          "nan_count": 0,
          "unique_count": 1
         }
        },
        {
         "dtype": "int64",
         "name": "instant_bookable",
         "stats": {
          "histogram": [
           {
            "bin_end": 0.1,
            "bin_start": 0,
            "count": 1
           },
           {
            "bin_end": 0.2,
            "bin_start": 0.1,
            "count": 0
           },
           {
            "bin_end": 0.30000000000000004,
            "bin_start": 0.2,
            "count": 0
           },
           {
            "bin_end": 0.4,
            "bin_start": 0.30000000000000004,
            "count": 0
           },
           {
            "bin_end": 0.5,
            "bin_start": 0.4,
            "count": 0
           },
           {
            "bin_end": 0.6000000000000001,
            "bin_start": 0.5,
            "count": 0
           },
           {
            "bin_end": 0.7000000000000001,
            "bin_start": 0.6000000000000001,
            "count": 0
           },
           {
            "bin_end": 0.8,
            "bin_start": 0.7000000000000001,
            "count": 0
           },
           {
            "bin_end": 0.9,
            "bin_start": 0.8,
            "count": 0
           },
           {
            "bin_end": 1,
            "bin_start": 0.9,
            "count": 1
           }
          ],
          "max": "1",
          "min": "0",
          "nan_count": 0,
          "unique_count": 2
         }
        },
        {
         "dtype": "int64",
         "name": "calculated_host_listings_count",
         "stats": {
          "histogram": [
           {
            "bin_end": 1.1,
            "bin_start": 1,
            "count": 1
           },
           {
            "bin_end": 1.2,
            "bin_start": 1.1,
            "count": 0
           },
           {
            "bin_end": 1.3,
            "bin_start": 1.2,
            "count": 0
           },
           {
            "bin_end": 1.4,
            "bin_start": 1.3,
            "count": 0
           },
           {
            "bin_end": 1.5,
            "bin_start": 1.4,
            "count": 0
           },
           {
            "bin_end": 1.6,
            "bin_start": 1.5,
            "count": 0
           },
           {
            "bin_end": 1.7000000000000002,
            "bin_start": 1.6,
            "count": 0
           },
           {
            "bin_end": 1.8,
            "bin_start": 1.7000000000000002,
            "count": 0
           },
           {
            "bin_end": 1.9,
            "bin_start": 1.8,
            "count": 0
           },
           {
            "bin_end": 2,
            "bin_start": 1.9,
            "count": 1
           }
          ],
          "max": "2",
          "min": "1",
          "nan_count": 0,
          "unique_count": 2
         }
        },
        {
         "dtype": "int64",
         "name": "calculated_host_listings_count_entire_homes",
         "stats": {
          "histogram": [
           {
            "bin_end": 1.1,
            "bin_start": 1,
            "count": 1
           },
           {
            "bin_end": 1.2,
            "bin_start": 1.1,
            "count": 0
           },
           {
            "bin_end": 1.3,
            "bin_start": 1.2,
            "count": 0
           },
           {
            "bin_end": 1.4,
            "bin_start": 1.3,
            "count": 0
           },
           {
            "bin_end": 1.5,
            "bin_start": 1.4,
            "count": 0
           },
           {
            "bin_end": 1.6,
            "bin_start": 1.5,
            "count": 0
           },
           {
            "bin_end": 1.7000000000000002,
            "bin_start": 1.6,
            "count": 0
           },
           {
            "bin_end": 1.8,
            "bin_start": 1.7000000000000002,
            "count": 0
           },
           {
            "bin_end": 1.9,
            "bin_start": 1.8,
            "count": 0
           },
           {
            "bin_end": 2,
            "bin_start": 1.9,
            "count": 1
           }
          ],
          "max": "2",
          "min": "1",
          "nan_count": 0,
          "unique_count": 2
         }
        },
        {
         "dtype": "int64",
         "name": "calculated_host_listings_count_private_rooms",
         "stats": {
          "histogram": [
           {
            "bin_end": -0.4,
            "bin_start": -0.5,
            "count": 0
           },
           {
            "bin_end": -0.3,
            "bin_start": -0.4,
            "count": 0
           },
           {
            "bin_end": -0.19999999999999996,
            "bin_start": -0.3,
            "count": 0
           },
           {
            "bin_end": -0.09999999999999998,
            "bin_start": -0.19999999999999996,
            "count": 0
           },
           {
            "bin_end": 0,
            "bin_start": -0.09999999999999998,
            "count": 0
           },
           {
            "bin_end": 0.10000000000000009,
            "bin_start": 0,
            "count": 2
           },
           {
            "bin_end": 0.20000000000000007,
            "bin_start": 0.10000000000000009,
            "count": 0
           },
           {
            "bin_end": 0.30000000000000004,
            "bin_start": 0.20000000000000007,
            "count": 0
           },
           {
            "bin_end": 0.4,
            "bin_start": 0.30000000000000004,
            "count": 0
           },
           {
            "bin_end": 0.5,
            "bin_start": 0.4,
            "count": 0
           }
          ],
          "max": "0",
          "min": "0",
          "nan_count": 0,
          "unique_count": 1
         }
        },
        {
         "dtype": "int64",
         "name": "calculated_host_listings_count_shared_rooms",
         "stats": {
          "histogram": [
           {
            "bin_end": -0.4,
            "bin_start": -0.5,
            "count": 0
           },
           {
            "bin_end": -0.3,
            "bin_start": -0.4,
            "count": 0
           },
           {
            "bin_end": -0.19999999999999996,
            "bin_start": -0.3,
            "count": 0
           },
           {
            "bin_end": -0.09999999999999998,
            "bin_start": -0.19999999999999996,
            "count": 0
           },
           {
            "bin_end": 0,
            "bin_start": -0.09999999999999998,
            "count": 0
           },
           {
            "bin_end": 0.10000000000000009,
            "bin_start": 0,
            "count": 2
           },
           {
            "bin_end": 0.20000000000000007,
            "bin_start": 0.10000000000000009,
            "count": 0
           },
           {
            "bin_end": 0.30000000000000004,
            "bin_start": 0.20000000000000007,
            "count": 0
           },
           {
            "bin_end": 0.4,
            "bin_start": 0.30000000000000004,
            "count": 0
           },
           {
            "bin_end": 0.5,
            "bin_start": 0.4,
            "count": 0
           }
          ],
          "max": "0",
          "min": "0",
          "nan_count": 0,
          "unique_count": 1
         }
        },
        {
         "dtype": "float64",
         "name": "reviews_per_month",
         "stats": {
          "histogram": [
           {
            "bin_end": 1.2890000000000001,
            "bin_start": 0.98,
            "count": 1
           },
           {
            "bin_end": 1.598,
            "bin_start": 1.2890000000000001,
            "count": 0
           },
           {
            "bin_end": 1.907,
            "bin_start": 1.598,
            "count": 0
           },
           {
            "bin_end": 2.216,
            "bin_start": 1.907,
            "count": 0
           },
           {
            "bin_end": 2.5250000000000004,
            "bin_start": 2.216,
            "count": 0
           },
           {
            "bin_end": 2.8340000000000005,
            "bin_start": 2.5250000000000004,
            "count": 0
           },
           {
            "bin_end": 3.1430000000000002,
            "bin_start": 2.8340000000000005,
            "count": 0
           },
           {
            "bin_end": 3.4520000000000004,
            "bin_start": 3.1430000000000002,
            "count": 0
           },
           {
            "bin_end": 3.7610000000000006,
            "bin_start": 3.4520000000000004,
            "count": 0
           },
           {
            "bin_end": 4.07,
            "bin_start": 3.7610000000000006,
            "count": 1
           }
          ],
          "max": "4.07",
          "min": "0.98",
          "nan_count": 0,
          "unique_count": 2
         }
        },
        {
         "dtype": "float64",
         "name": "bathrooms_count",
         "stats": {
          "histogram": [
           {
            "bin_end": 1.6,
            "bin_start": 1.5,
            "count": 0
           },
           {
            "bin_end": 1.7,
            "bin_start": 1.6,
            "count": 0
           },
           {
            "bin_end": 1.8,
            "bin_start": 1.7,
            "count": 0
           },
           {
            "bin_end": 1.9,
            "bin_start": 1.8,
            "count": 0
           },
           {
            "bin_end": 2,
            "bin_start": 1.9,
            "count": 0
           },
           {
            "bin_end": 2.1,
            "bin_start": 2,
            "count": 2
           },
           {
            "bin_end": 2.2,
            "bin_start": 2.1,
            "count": 0
           },
           {
            "bin_end": 2.3,
            "bin_start": 2.2,
            "count": 0
           },
           {
            "bin_end": 2.4,
            "bin_start": 2.3,
            "count": 0
           },
           {
            "bin_end": 2.5,
            "bin_start": 2.4,
            "count": 0
           }
          ],
          "max": "2.0",
          "min": "2.0",
          "nan_count": 0,
          "unique_count": 1
         }
        },
        {
         "dtype": "int64",
         "name": "amenities_count",
         "stats": {
          "histogram": [
           {
            "bin_end": 53.2,
            "bin_start": 53,
            "count": 1
           },
           {
            "bin_end": 53.4,
            "bin_start": 53.2,
            "count": 0
           },
           {
            "bin_end": 53.6,
            "bin_start": 53.4,
            "count": 0
           },
           {
            "bin_end": 53.8,
            "bin_start": 53.6,
            "count": 0
           },
           {
            "bin_end": 54,
            "bin_start": 53.8,
            "count": 0
           },
           {
            "bin_end": 54.2,
            "bin_start": 54,
            "count": 0
           },
           {
            "bin_end": 54.4,
            "bin_start": 54.2,
            "count": 0
           },
           {
            "bin_end": 54.6,
            "bin_start": 54.4,
            "count": 0
           },
           {
            "bin_end": 54.8,
            "bin_start": 54.6,
            "count": 0
           },
           {
            "bin_end": 55,
            "bin_start": 54.8,
            "count": 1
           }
          ],
          "max": "55",
          "min": "53",
          "nan_count": 0,
          "unique_count": 2
         }
        },
        {
         "dtype": "int64",
         "name": "host_response_time_encoded",
         "stats": {
          "histogram": [
           {
            "bin_end": 0.6,
            "bin_start": 0.5,
            "count": 0
           },
           {
            "bin_end": 0.7,
            "bin_start": 0.6,
            "count": 0
           },
           {
            "bin_end": 0.8,
            "bin_start": 0.7,
            "count": 0
           },
           {
            "bin_end": 0.9,
            "bin_start": 0.8,
            "count": 0
           },
           {
            "bin_end": 1,
            "bin_start": 0.9,
            "count": 0
           },
           {
            "bin_end": 1.1,
            "bin_start": 1,
            "count": 2
           },
           {
            "bin_end": 1.2000000000000002,
            "bin_start": 1.1,
            "count": 0
           },
           {
            "bin_end": 1.3,
            "bin_start": 1.2000000000000002,
            "count": 0
           },
           {
            "bin_end": 1.4,
            "bin_start": 1.3,
            "count": 0
           },
           {
            "bin_end": 1.5,
            "bin_start": 1.4,
            "count": 0
           }
          ],
          "max": "1",
          "min": "1",
          "nan_count": 0,
          "unique_count": 1
         }
        },
        {
         "dtype": "int64",
         "name": "host_operate_years",
         "stats": {
          "histogram": [
           {
            "bin_end": 4.6,
            "bin_start": 4,
            "count": 1
           },
           {
            "bin_end": 5.2,
            "bin_start": 4.6,
            "count": 0
           },
           {
            "bin_end": 5.8,
            "bin_start": 5.2,
            "count": 0
           },
           {
            "bin_end": 6.4,
            "bin_start": 5.8,
            "count": 0
           },
           {
            "bin_end": 7,
            "bin_start": 6.4,
            "count": 0
           },
           {
            "bin_end": 7.6,
            "bin_start": 7,
            "count": 0
           },
           {
            "bin_end": 8.2,
            "bin_start": 7.6,
            "count": 0
           },
           {
            "bin_end": 8.8,
            "bin_start": 8.2,
            "count": 0
           },
           {
            "bin_end": 9.399999999999999,
            "bin_start": 8.8,
            "count": 0
           },
           {
            "bin_end": 10,
            "bin_start": 9.399999999999999,
            "count": 1
           }
          ],
          "max": "10",
          "min": "4",
          "nan_count": 0,
          "unique_count": 2
         }
        },
        {
         "dtype": "int64",
         "name": "_deepnote_index_column"
        }
       ],
       "row_count": 2,
       "rows": [
        {
         "_deepnote_index_column": "0",
         "accommodates": "8",
         "amenities": "[\"Hot water\", \"Dining table\", \"Toaster\", \"Refrigerator\", \"Bathtub\", \"Dishwasher\", \"Coffee maker: drip coffee maker\", \"Room-darkening shades\", \"Private entrance\", \"Dishes and silverware\", \"Washer\", \"Kitchen\", \"TV\", \"Body soap\", \"Indoor fireplace\", \"Private patio or balcony\", \"Free street parking\", \"Iron\", \"Hair dryer\", \"Microwave\", \"Cooking basics\", \"Oven\", \"Private backyard \\u2013 Fully fenced\", \"Pack \\u2019n play/Travel crib\", \"Keypad\", \"Stove\", \"Smoke alarm\", \"Dryer\", \"Essentials\", \"Wine glasses\", \"Self check-in\", \"Cleaning products\", \"Fire extinguisher\", \"High chair\", \"Heating\", \"Outdoor furniture\", \"Long term stays allowed\", \"Wifi\", \"Air conditioning\", \"Outdoor dining area\", \"BBQ grill\", \"First aid kit\", \"Hangers\", \"Extra pillows and blankets\", \"Shampoo\", \"Security cameras on property\", \"Carbon monoxide alarm\", \"Fire pit\", \"Dedicated workspace\", \"Lake view\", \"Bed linens\", \"Park view\", \"Free parking on premises\"]",
         "amenities_count": "53",
         "availability_30": "23",
         "availability_365": "341",
         "availability_60": "53",
         "availability_90": "83",
         "bathrooms_count": "2.0",
         "bedrooms": "4.0",
         "beds": "4.0",
         "calculated_host_listings_count": "1",
         "calculated_host_listings_count_entire_homes": "1",
         "calculated_host_listings_count_private_rooms": "0",
         "calculated_host_listings_count_shared_rooms": "0",
         "description": "A Seattle vacation destination for those from out of town or a Staycation for those who live close by. We welcome you to this partial lake view gated family friendly home with 4 bedrooms, 2 bathrooms. A beautiful & serene creek flows through the front of the home. There is a fully functioning kitchen with appliances & utensils.  & laundry room. Only a few mins walk to Lakeridge playfield just behind the house! 15 min drive to SeaTac International Airport and 25 min drive to downtown Seattle.<br /><br /><b>The space</b><br />Smart lock for easy check in and Xfinity Home Security Alarm for your protection and peace of mind. There are a few steps leading into the home. There is one security camera at the house facing the front entrance and driveway. The front driveway can fit 6 cars.<br /><br />Bed Arrangements: <br /><br />Lower levels: 2 bedrooms, 1 bathroom<br />Room #1: One Queen bed (sleeps 2)<br />Room #4: One Queen bed (sleeps 2)<br /><br />Upper level: 2 bedrooms, 1 bathroom<br />",
         "first_review": "2021-06-22 00:00:00",
         "has_availability": "1",
         "has_license": "1",
         "host_about": " ",
         "host_acceptance_rate": "1.0",
         "host_has_profile_pic": "1",
         "host_id": "188538325",
         "host_identity_verified": "1",
         "host_is_superhost": "1",
         "host_listings_count": "4",
         "host_location": "Seattle, WA",
         "host_name": "Xiao",
         "host_neighbourhood": "Oakland",
         "host_operate_years": "4",
         "host_picture_url": "https://a0.muscache.com/im/pictures/user/32fd3116-b515-46d9-8048-d5773e1bac5a.jpg?aki_policy=profile_x_medium",
         "host_response_rate": "1.0",
         "host_response_time": "within an hour",
         "host_response_time_encoded": "1",
         "host_since": "2018-05-08 00:00:00",
         "host_total_listings_count": "4",
         "host_url": "https://www.airbnb.com/users/show/188538325",
         "host_verifications": "['email', 'phone']",
         "instant_bookable": "0",
         "last_review": "2022-11-29 00:00:00",
         "last_scraped": "2022-12-24 00:00:00",
         "latitude": "47.51028",
         "listing_id": "49113826",
         "listing_name": "Private Seattle Getaway Home Near Lake Washington!",
         "listing_url": "https://www.airbnb.com/rooms/49113826",
         "longitude": "-122.24668",
         "maximum_maximum_nights": "1125.0",
         "maximum_minimum_nights": "3.0",
         "maximum_nights": "30",
         "maximum_nights_avg_ntm": "1125.0",
         "minimum_maximum_nights": "1125.0",
         "minimum_minimum_nights": "3.0",
         "minimum_nights": "3",
         "minimum_nights_avg_ntm": "3.0",
         "neighborhood_overview": "SeaTac International Airport: 14 min drive<br /><br />Grocery Stores nearby:<br />- Safeway & Rite Aid: 5 min drive<br />- Walgreens: 6 min drive<br />- Walmart & Fred Meyer: 9 min drive<br />- Uwajimaya: 10 min drive<br /><br />Dining nearby:<br />- Pizzeria Pulcinella: 2 min walk<br />- Stonehouse Cafe: 10 min walk<br />- The Landing (popular outdoor retail & restaurant area): 10 min drive<br /><br />Activities nearby:<br />- Lakeridge Playground: 2 min walk<br />- Downtown Renton: 10 min drive<br />- Southcenter Mall (large shopping mall): 14 min drive<br />- Round 1 (arcade, bowling, pool) inside Southcenter: 14 min drive<br />- iFly (mock sky diving): 15 min drive<br />- Downtown Seattle & Pike Place Market: 25 min drive",
         "neighbourhood_cleansed": "Rainier View",
         "neighbourhood_group_cleansed": "Rainier Valley",
         "number_of_reviews": "18",
         "number_of_reviews_l30d": "1",
         "number_of_reviews_ltm": "7",
         "picture_url": "https://a0.muscache.com/pictures/miso/Hosting-49113826/original/29c08a31-b625-4e8f-bbc6-93e7994fef05.jpeg",
         "price": "280.0",
         "property_type": "Entire home",
         "review_scores_accuracy": "4.89",
         "review_scores_checkin": "4.89",
         "review_scores_cleanliness": "4.94",
         "review_scores_communication": "4.89",
         "review_scores_location": "4.61",
         "review_scores_rating": "4.83",
         "review_scores_value": "4.72",
         "reviews_per_month": "0.98",
         "room_type": "Entire home/apt"
        },
        {
         "_deepnote_index_column": "1",
         "accommodates": "6",
         "amenities": "[\"Hot water\", \"Crib - available upon request\", \"Dining table\", \"Toaster\", \"Refrigerator\", \"Bathtub\", \"Dishwasher\", \"Hot water kettle\", \"Room-darkening shades\", \"Private entrance\", \"Dishes and silverware\", \"Conditioner\", \"Kitchen\", \"Body soap\", \"Private patio or balcony\", \"Free street parking\", \"Google Nest sound system\", \"Iron\", \"Hair dryer\", \"Microwave\", \"Cooking basics\", \"Oven\", \"Shared backyard \\u2013 Not fully fenced\", \"Pets allowed\", \"Keypad\", \"Free dryer \\u2013 In unit\", \"Stove\", \"Smoke alarm\", \"Wine glasses\", \"Essentials\", \"Pack \\u2019n play/Travel crib - available upon request\", \"Self check-in\", \"Cleaning products\", \"AC - split type ductless system\", \"Fire extinguisher\", \"Long term stays allowed\", \"Outdoor furniture\", \"Wifi\", \"Coffee\", \"Single level home\", \"Outdoor dining area\", \"Coffee maker: french press\", \"First aid kit\", \"65\\\" HDTV with standard cable\", \"Hangers\", \"Freezer\", \"Free washer \\u2013 In unit\", \"Extra pillows and blankets\", \"Shampoo\", \"Carbon monoxide alarm\", \"He…",
         "amenities_count": "55",
         "availability_30": "17",
         "availability_365": "329",
         "availability_60": "35",
         "availability_90": "65",
         "bathrooms_count": "2.0",
         "bedrooms": "3.0",
         "beds": "3.0",
         "calculated_host_listings_count": "2",
         "calculated_host_listings_count_entire_homes": "2",
         "calculated_host_listings_count_private_rooms": "0",
         "calculated_host_listings_count_shared_rooms": "0",
         "description": "Enjoy your Seattle stay in the vibrant & artistic Georgetown neighborhood! Georgetown is truly one of the last artsy, funky neighborhoods left in Seattle - you will be a five minute walk from the many restaurants, bars, wine tasting rooms & more in the \"downtown\" Georgetown neighborhood. It's also kid friendly as you will see many families out and pushing strollers around.<br /><br />The neighborhood is located a few miles south of the downtown Seattle core.<br /><br /><b>The space</b><br />This is the top unit of a completely remodeled craftsman (if bottom unit is available you can rent the whole house and have 6 beds & 4 baths!)<br /><br />This unit has the classic craftsman feel, but it has been completely remodeled with some modern touches!<br /><br /><b>Guest access</b><br />Obviously you have access to the entire unit - there is a lower unit of the house that may be rented too, so you will need to be respectful of other guests. The front yard and side yards are also yours to enjo",
         "first_review": "2022-06-09 00:00:00",
         "has_availability": "1",
         "has_license": "1",
         "host_about": " ",
         "host_acceptance_rate": "1.0",
         "host_has_profile_pic": "1",
         "host_id": "2144954",
         "host_identity_verified": "0",
         "host_is_superhost": "0",
         "host_listings_count": "2",
         "host_location": "Seattle, WA",
         "host_name": "Ryan",
         "host_neighbourhood": "Greater Duwamish",
         "host_operate_years": "10",
         "host_picture_url": "https://a0.muscache.com/im/pictures/user/a671129c-f502-4968-85ef-7ef088d81ab3.jpg?aki_policy=profile_x_medium",
         "host_response_rate": "1.0",
         "host_response_time": "within an hour",
         "host_response_time_encoded": "1",
         "host_since": "2012-04-15 00:00:00",
         "host_total_listings_count": "2",
         "host_url": "https://www.airbnb.com/users/show/2144954",
         "host_verifications": "['email', 'phone', 'work_email']",
         "instant_bookable": "1",
         "last_review": "2022-12-13 00:00:00",
         "last_scraped": "2022-12-24 00:00:00",
         "latitude": "47.544739",
         "listing_id": "7455832",
         "listing_name": "Classic remodeled in Georgetown",
         "listing_url": "https://www.airbnb.com/rooms/7455832",
         "longitude": "-122.319786",
         "maximum_maximum_nights": "1125.0",
         "maximum_minimum_nights": "3.0",
         "maximum_nights": "150",
         "maximum_nights_avg_ntm": "1125.0",
         "minimum_maximum_nights": "1125.0",
         "minimum_minimum_nights": "2.0",
         "minimum_nights": "1",
         "minimum_nights_avg_ntm": "2.1",
         "neighborhood_overview": "Georgetown is a cool neighborhood about three miles south of Seattle. Formerly an industrial area filled with warehouses, Georgetown has gone from shabby to chic, from industrial to artsy. Today, the neighborhood is a great place to find trendy restaurants, breweries, and art galleries.",
         "neighbourhood_cleansed": "Georgetown",
         "neighbourhood_group_cleansed": "Other neighborhoods",
         "number_of_reviews": "27",
         "number_of_reviews_l30d": "3",
         "number_of_reviews_ltm": "27",
         "picture_url": "https://a0.muscache.com/pictures/miso/Hosting-7455832/original/87dcaee3-d543-440c-8cf0-19ac171d7200.jpeg",
         "price": "156.0",
         "property_type": "Entire home",
         "review_scores_accuracy": "4.96",
         "review_scores_checkin": "4.93",
         "review_scores_cleanliness": "4.89",
         "review_scores_communication": "4.96",
         "review_scores_location": "4.93",
         "review_scores_rating": "4.89",
         "review_scores_value": "4.93",
         "reviews_per_month": "4.07",
         "room_type": "Entire home/apt"
        }
       ]
      },
      "text/html": [
       "<div>\n",
       "<style scoped>\n",
       "    .dataframe tbody tr th:only-of-type {\n",
       "        vertical-align: middle;\n",
       "    }\n",
       "\n",
       "    .dataframe tbody tr th {\n",
       "        vertical-align: top;\n",
       "    }\n",
       "\n",
       "    .dataframe thead th {\n",
       "        text-align: right;\n",
       "    }\n",
       "</style>\n",
       "<table border=\"1\" class=\"dataframe\">\n",
       "  <thead>\n",
       "    <tr style=\"text-align: right;\">\n",
       "      <th></th>\n",
       "      <th>listing_id</th>\n",
       "      <th>listing_url</th>\n",
       "      <th>last_scraped</th>\n",
       "      <th>listing_name</th>\n",
       "      <th>description</th>\n",
       "      <th>neighborhood_overview</th>\n",
       "      <th>picture_url</th>\n",
       "      <th>host_id</th>\n",
       "      <th>host_url</th>\n",
       "      <th>host_name</th>\n",
       "      <th>host_since</th>\n",
       "      <th>host_location</th>\n",
       "      <th>host_about</th>\n",
       "      <th>host_response_time</th>\n",
       "      <th>host_response_rate</th>\n",
       "      <th>host_acceptance_rate</th>\n",
       "      <th>host_is_superhost</th>\n",
       "      <th>host_picture_url</th>\n",
       "      <th>host_neighbourhood</th>\n",
       "      <th>host_listings_count</th>\n",
       "      <th>host_total_listings_count</th>\n",
       "      <th>host_verifications</th>\n",
       "      <th>host_has_profile_pic</th>\n",
       "      <th>host_identity_verified</th>\n",
       "      <th>neighbourhood_cleansed</th>\n",
       "      <th>neighbourhood_group_cleansed</th>\n",
       "      <th>latitude</th>\n",
       "      <th>longitude</th>\n",
       "      <th>property_type</th>\n",
       "      <th>room_type</th>\n",
       "      <th>accommodates</th>\n",
       "      <th>bedrooms</th>\n",
       "      <th>beds</th>\n",
       "      <th>amenities</th>\n",
       "      <th>price</th>\n",
       "      <th>minimum_nights</th>\n",
       "      <th>maximum_nights</th>\n",
       "      <th>minimum_minimum_nights</th>\n",
       "      <th>maximum_minimum_nights</th>\n",
       "      <th>minimum_maximum_nights</th>\n",
       "      <th>maximum_maximum_nights</th>\n",
       "      <th>minimum_nights_avg_ntm</th>\n",
       "      <th>maximum_nights_avg_ntm</th>\n",
       "      <th>has_availability</th>\n",
       "      <th>availability_30</th>\n",
       "      <th>availability_60</th>\n",
       "      <th>availability_90</th>\n",
       "      <th>availability_365</th>\n",
       "      <th>number_of_reviews</th>\n",
       "      <th>number_of_reviews_ltm</th>\n",
       "      <th>number_of_reviews_l30d</th>\n",
       "      <th>first_review</th>\n",
       "      <th>last_review</th>\n",
       "      <th>review_scores_rating</th>\n",
       "      <th>review_scores_accuracy</th>\n",
       "      <th>review_scores_cleanliness</th>\n",
       "      <th>review_scores_checkin</th>\n",
       "      <th>review_scores_communication</th>\n",
       "      <th>review_scores_location</th>\n",
       "      <th>review_scores_value</th>\n",
       "      <th>has_license</th>\n",
       "      <th>instant_bookable</th>\n",
       "      <th>calculated_host_listings_count</th>\n",
       "      <th>calculated_host_listings_count_entire_homes</th>\n",
       "      <th>calculated_host_listings_count_private_rooms</th>\n",
       "      <th>calculated_host_listings_count_shared_rooms</th>\n",
       "      <th>reviews_per_month</th>\n",
       "      <th>bathrooms_count</th>\n",
       "      <th>amenities_count</th>\n",
       "      <th>host_response_time_encoded</th>\n",
       "      <th>host_operate_years</th>\n",
       "    </tr>\n",
       "  </thead>\n",
       "  <tbody>\n",
       "    <tr>\n",
       "      <th>0</th>\n",
       "      <td>49113826</td>\n",
       "      <td>https://www.airbnb.com/rooms/49113826</td>\n",
       "      <td>2022-12-24</td>\n",
       "      <td>Private Seattle Getaway Home Near Lake Washing...</td>\n",
       "      <td>A Seattle vacation destination for those from ...</td>\n",
       "      <td>SeaTac International Airport: 14 min drive&lt;br ...</td>\n",
       "      <td>https://a0.muscache.com/pictures/miso/Hosting-...</td>\n",
       "      <td>188538325</td>\n",
       "      <td>https://www.airbnb.com/users/show/188538325</td>\n",
       "      <td>Xiao</td>\n",
       "      <td>2018-05-08</td>\n",
       "      <td>Seattle, WA</td>\n",
       "      <td></td>\n",
       "      <td>within an hour</td>\n",
       "      <td>1.0</td>\n",
       "      <td>1.0</td>\n",
       "      <td>1</td>\n",
       "      <td>https://a0.muscache.com/im/pictures/user/32fd3...</td>\n",
       "      <td>Oakland</td>\n",
       "      <td>4</td>\n",
       "      <td>4</td>\n",
       "      <td>['email', 'phone']</td>\n",
       "      <td>1</td>\n",
       "      <td>1</td>\n",
       "      <td>Rainier View</td>\n",
       "      <td>Rainier Valley</td>\n",
       "      <td>47.510280</td>\n",
       "      <td>-122.246680</td>\n",
       "      <td>Entire home</td>\n",
       "      <td>Entire home/apt</td>\n",
       "      <td>8</td>\n",
       "      <td>4.0</td>\n",
       "      <td>4.0</td>\n",
       "      <td>[\"Hot water\", \"Dining table\", \"Toaster\", \"Refr...</td>\n",
       "      <td>280.0</td>\n",
       "      <td>3</td>\n",
       "      <td>30</td>\n",
       "      <td>3.0</td>\n",
       "      <td>3.0</td>\n",
       "      <td>1125.0</td>\n",
       "      <td>1125.0</td>\n",
       "      <td>3.0</td>\n",
       "      <td>1125.0</td>\n",
       "      <td>1</td>\n",
       "      <td>23</td>\n",
       "      <td>53</td>\n",
       "      <td>83</td>\n",
       "      <td>341</td>\n",
       "      <td>18</td>\n",
       "      <td>7</td>\n",
       "      <td>1</td>\n",
       "      <td>2021-06-22</td>\n",
       "      <td>2022-11-29</td>\n",
       "      <td>4.83</td>\n",
       "      <td>4.89</td>\n",
       "      <td>4.94</td>\n",
       "      <td>4.89</td>\n",
       "      <td>4.89</td>\n",
       "      <td>4.61</td>\n",
       "      <td>4.72</td>\n",
       "      <td>1</td>\n",
       "      <td>0</td>\n",
       "      <td>1</td>\n",
       "      <td>1</td>\n",
       "      <td>0</td>\n",
       "      <td>0</td>\n",
       "      <td>0.98</td>\n",
       "      <td>2.0</td>\n",
       "      <td>53</td>\n",
       "      <td>1</td>\n",
       "      <td>4</td>\n",
       "    </tr>\n",
       "    <tr>\n",
       "      <th>1</th>\n",
       "      <td>7455832</td>\n",
       "      <td>https://www.airbnb.com/rooms/7455832</td>\n",
       "      <td>2022-12-24</td>\n",
       "      <td>Classic remodeled in Georgetown</td>\n",
       "      <td>Enjoy your Seattle stay in the vibrant &amp; artis...</td>\n",
       "      <td>Georgetown is a cool neighborhood about three ...</td>\n",
       "      <td>https://a0.muscache.com/pictures/miso/Hosting-...</td>\n",
       "      <td>2144954</td>\n",
       "      <td>https://www.airbnb.com/users/show/2144954</td>\n",
       "      <td>Ryan</td>\n",
       "      <td>2012-04-15</td>\n",
       "      <td>Seattle, WA</td>\n",
       "      <td></td>\n",
       "      <td>within an hour</td>\n",
       "      <td>1.0</td>\n",
       "      <td>1.0</td>\n",
       "      <td>0</td>\n",
       "      <td>https://a0.muscache.com/im/pictures/user/a6711...</td>\n",
       "      <td>Greater Duwamish</td>\n",
       "      <td>2</td>\n",
       "      <td>2</td>\n",
       "      <td>['email', 'phone', 'work_email']</td>\n",
       "      <td>1</td>\n",
       "      <td>0</td>\n",
       "      <td>Georgetown</td>\n",
       "      <td>Other neighborhoods</td>\n",
       "      <td>47.544739</td>\n",
       "      <td>-122.319786</td>\n",
       "      <td>Entire home</td>\n",
       "      <td>Entire home/apt</td>\n",
       "      <td>6</td>\n",
       "      <td>3.0</td>\n",
       "      <td>3.0</td>\n",
       "      <td>[\"Hot water\", \"Crib - available upon request\",...</td>\n",
       "      <td>156.0</td>\n",
       "      <td>1</td>\n",
       "      <td>150</td>\n",
       "      <td>2.0</td>\n",
       "      <td>3.0</td>\n",
       "      <td>1125.0</td>\n",
       "      <td>1125.0</td>\n",
       "      <td>2.1</td>\n",
       "      <td>1125.0</td>\n",
       "      <td>1</td>\n",
       "      <td>17</td>\n",
       "      <td>35</td>\n",
       "      <td>65</td>\n",
       "      <td>329</td>\n",
       "      <td>27</td>\n",
       "      <td>27</td>\n",
       "      <td>3</td>\n",
       "      <td>2022-06-09</td>\n",
       "      <td>2022-12-13</td>\n",
       "      <td>4.89</td>\n",
       "      <td>4.96</td>\n",
       "      <td>4.89</td>\n",
       "      <td>4.93</td>\n",
       "      <td>4.96</td>\n",
       "      <td>4.93</td>\n",
       "      <td>4.93</td>\n",
       "      <td>1</td>\n",
       "      <td>1</td>\n",
       "      <td>2</td>\n",
       "      <td>2</td>\n",
       "      <td>0</td>\n",
       "      <td>0</td>\n",
       "      <td>4.07</td>\n",
       "      <td>2.0</td>\n",
       "      <td>55</td>\n",
       "      <td>1</td>\n",
       "      <td>10</td>\n",
       "    </tr>\n",
       "  </tbody>\n",
       "</table>\n",
       "</div>"
      ],
      "text/plain": [
       "   listing_id                            listing_url last_scraped  \\\n",
       "0    49113826  https://www.airbnb.com/rooms/49113826   2022-12-24   \n",
       "1     7455832   https://www.airbnb.com/rooms/7455832   2022-12-24   \n",
       "\n",
       "                                        listing_name  \\\n",
       "0  Private Seattle Getaway Home Near Lake Washing...   \n",
       "1                    Classic remodeled in Georgetown   \n",
       "\n",
       "                                         description  \\\n",
       "0  A Seattle vacation destination for those from ...   \n",
       "1  Enjoy your Seattle stay in the vibrant & artis...   \n",
       "\n",
       "                               neighborhood_overview  \\\n",
       "0  SeaTac International Airport: 14 min drive<br ...   \n",
       "1  Georgetown is a cool neighborhood about three ...   \n",
       "\n",
       "                                         picture_url    host_id  \\\n",
       "0  https://a0.muscache.com/pictures/miso/Hosting-...  188538325   \n",
       "1  https://a0.muscache.com/pictures/miso/Hosting-...    2144954   \n",
       "\n",
       "                                      host_url host_name host_since  \\\n",
       "0  https://www.airbnb.com/users/show/188538325      Xiao 2018-05-08   \n",
       "1    https://www.airbnb.com/users/show/2144954      Ryan 2012-04-15   \n",
       "\n",
       "  host_location host_about host_response_time  host_response_rate  \\\n",
       "0   Seattle, WA                within an hour                 1.0   \n",
       "1   Seattle, WA                within an hour                 1.0   \n",
       "\n",
       "   host_acceptance_rate  host_is_superhost  \\\n",
       "0                   1.0                  1   \n",
       "1                   1.0                  0   \n",
       "\n",
       "                                    host_picture_url host_neighbourhood  \\\n",
       "0  https://a0.muscache.com/im/pictures/user/32fd3...            Oakland   \n",
       "1  https://a0.muscache.com/im/pictures/user/a6711...   Greater Duwamish   \n",
       "\n",
       "   host_listings_count  host_total_listings_count  \\\n",
       "0                    4                          4   \n",
       "1                    2                          2   \n",
       "\n",
       "                 host_verifications  host_has_profile_pic  \\\n",
       "0                ['email', 'phone']                     1   \n",
       "1  ['email', 'phone', 'work_email']                     1   \n",
       "\n",
       "   host_identity_verified neighbourhood_cleansed neighbourhood_group_cleansed  \\\n",
       "0                       1           Rainier View               Rainier Valley   \n",
       "1                       0             Georgetown          Other neighborhoods   \n",
       "\n",
       "    latitude   longitude property_type        room_type  accommodates  \\\n",
       "0  47.510280 -122.246680   Entire home  Entire home/apt             8   \n",
       "1  47.544739 -122.319786   Entire home  Entire home/apt             6   \n",
       "\n",
       "   bedrooms  beds                                          amenities  price  \\\n",
       "0       4.0   4.0  [\"Hot water\", \"Dining table\", \"Toaster\", \"Refr...  280.0   \n",
       "1       3.0   3.0  [\"Hot water\", \"Crib - available upon request\",...  156.0   \n",
       "\n",
       "   minimum_nights  maximum_nights  minimum_minimum_nights  \\\n",
       "0               3              30                     3.0   \n",
       "1               1             150                     2.0   \n",
       "\n",
       "   maximum_minimum_nights  minimum_maximum_nights  maximum_maximum_nights  \\\n",
       "0                     3.0                  1125.0                  1125.0   \n",
       "1                     3.0                  1125.0                  1125.0   \n",
       "\n",
       "   minimum_nights_avg_ntm  maximum_nights_avg_ntm  has_availability  \\\n",
       "0                     3.0                  1125.0                 1   \n",
       "1                     2.1                  1125.0                 1   \n",
       "\n",
       "   availability_30  availability_60  availability_90  availability_365  \\\n",
       "0               23               53               83               341   \n",
       "1               17               35               65               329   \n",
       "\n",
       "   number_of_reviews  number_of_reviews_ltm  number_of_reviews_l30d  \\\n",
       "0                 18                      7                       1   \n",
       "1                 27                     27                       3   \n",
       "\n",
       "  first_review last_review  review_scores_rating  review_scores_accuracy  \\\n",
       "0   2021-06-22  2022-11-29                  4.83                    4.89   \n",
       "1   2022-06-09  2022-12-13                  4.89                    4.96   \n",
       "\n",
       "   review_scores_cleanliness  review_scores_checkin  \\\n",
       "0                       4.94                   4.89   \n",
       "1                       4.89                   4.93   \n",
       "\n",
       "   review_scores_communication  review_scores_location  review_scores_value  \\\n",
       "0                         4.89                    4.61                 4.72   \n",
       "1                         4.96                    4.93                 4.93   \n",
       "\n",
       "   has_license  instant_bookable  calculated_host_listings_count  \\\n",
       "0            1                 0                               1   \n",
       "1            1                 1                               2   \n",
       "\n",
       "   calculated_host_listings_count_entire_homes  \\\n",
       "0                                            1   \n",
       "1                                            2   \n",
       "\n",
       "   calculated_host_listings_count_private_rooms  \\\n",
       "0                                             0   \n",
       "1                                             0   \n",
       "\n",
       "   calculated_host_listings_count_shared_rooms  reviews_per_month  \\\n",
       "0                                            0               0.98   \n",
       "1                                            0               4.07   \n",
       "\n",
       "   bathrooms_count  amenities_count  host_response_time_encoded  \\\n",
       "0              2.0               53                           1   \n",
       "1              2.0               55                           1   \n",
       "\n",
       "   host_operate_years  \n",
       "0                   4  \n",
       "1                  10  "
      ]
     },
     "execution_count": 40,
     "metadata": {},
     "output_type": "execute_result"
    }
   ],
   "source": [
    "# check and read the saved data\n",
    "cleaned_listing_df = pd.read_pickle('../data/data_cleaned/cleaned_listing.zip')\n",
    "print(cleaned_listing_df.shape)\n",
    "cleaned_listing_df.head(2)"
   ]
  },
  {
   "cell_type": "markdown",
   "metadata": {
    "cell_id": "5e2bb0971ebf4d3ea09b68b5dd1db00e",
    "deepnote_cell_type": "markdown",
    "tags": []
   },
   "source": []
  },
  {
   "cell_type": "markdown",
   "metadata": {
    "cell_id": "4f140975cfe74a1c9a15eeb6f9d15539",
    "deepnote_cell_type": "markdown",
    "tags": []
   },
   "source": [
    "### Below are the columns considered to remove \n",
    "\n",
    "I keep the most columns in the cleaned_listing dataset. Below are the columns we consider to remove for the next step. Please check and add the columns yuo think should be dropped."
   ]
  },
  {
   "cell_type": "code",
   "execution_count": 41,
   "metadata": {
    "cell_id": "79d56f56254d427e95d7f1a6adf409ec",
    "deepnote_cell_type": "code",
    "deepnote_to_be_reexecuted": false,
    "execution_millis": 16,
    "execution_start": 1678774756285,
    "source_hash": "ece55f97",
    "tags": []
   },
   "outputs": [],
   "source": [
    "feature_to_remove = ['host_total_listings_count','host_listings_count', # same description with different values, use calculated_host_listings_count instead\n",
    "                    'minimum_minimum_nights', 'maximum_minimum_nights', # those num are from calender\n",
    "                    'minimum_maximum_nights', 'maximum_maximum_nights', # they're constantly changing \n",
    "                    'minimum_nights_avg_ntm', 'maximum_nights_avg_ntm', # so do not make much sense\n",
    "\n",
    "                    'has_availability','availability_30',\n",
    "                    'availability_60', 'availability_90','availability_365',\n",
    "                    'reviewer_count', #already has it \n",
    "                    'host_number_of_year', # rename it as host_operating_years #RENAMEED\n",
    "                    ]\n",
    "                    \n",
    "\n",
    "\n",
    "\n",
    "\n"
   ]
  },
  {
   "cell_type": "code",
   "execution_count": 51,
   "metadata": {
    "cell_id": "984f1e2af28e455186d608d5445fb42f",
    "deepnote_cell_type": "code",
    "deepnote_to_be_reexecuted": false,
    "execution_millis": 2,
    "execution_start": 1678774760934,
    "source_hash": "b623e53d",
    "tags": []
   },
   "outputs": [],
   "source": []
  },
  {
   "cell_type": "markdown",
   "metadata": {
    "created_in_deepnote_cell": true,
    "deepnote_cell_type": "markdown"
   },
   "source": [
    "<a style='text-decoration:none;line-height:16px;display:flex;color:#5B5B62;padding:10px;justify-content:end;' href='https://deepnote.com?utm_source=created-in-deepnote-cell&projectId=f2a50dc6-ff6a-45ff-9dbe-d7a35bd1e393' target=\"_blank\">\n",
    "<img alt='Created in deepnote.com' style='display:inline;max-height:16px;margin:0px;margin-right:7.5px;' src='data:image/svg+xml;base64,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' > </img>\n",
    "Created in <span style='font-weight:600;margin-left:4px;'>Deepnote</span></a>"
   ]
  }
 ],
 "metadata": {
  "deepnote": {},
  "deepnote_execution_queue": [],
  "deepnote_notebook_id": "456f1c2d365e48fb9e32138465cb6682",
  "kernelspec": {
   "display_name": "Python 3",
   "language": "python",
   "name": "python3"
  },
  "language_info": {
   "codemirror_mode": {
    "name": "ipython",
    "version": 3
   },
   "file_extension": ".py",
   "mimetype": "text/x-python",
   "name": "python",
   "nbconvert_exporter": "python",
   "pygments_lexer": "ipython3",
   "version": "3.8.3"
  }
 },
 "nbformat": 4,
 "nbformat_minor": 1
}
