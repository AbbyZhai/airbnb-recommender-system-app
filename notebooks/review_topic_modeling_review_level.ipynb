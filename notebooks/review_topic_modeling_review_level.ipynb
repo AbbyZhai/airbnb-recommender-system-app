{
 "cells": [
  {
   "cell_type": "markdown",
   "metadata": {
    "cell_id": "18b4f827768b4f0281f76a350e0f7e12",
    "deepnote_cell_type": "markdown"
   },
   "source": [
    "## Review topic modeling 2\n",
    "#### Granularity: one topic per comment for a given listing"
   ]
  },
  {
   "cell_type": "markdown",
   "metadata": {
    "cell_id": "569aa30ee6444d3ead38b2f93e195849",
    "deepnote_cell_type": "markdown"
   },
   "source": [
    "### Import libraries"
   ]
  },
  {
   "cell_type": "code",
   "execution_count": 1,
   "metadata": {
    "cell_id": "a431c1f1db1f40c8b3f041f5724a6b6f",
    "deepnote_cell_type": "code",
    "deepnote_to_be_reexecuted": false,
    "execution_millis": 3068,
    "execution_start": 1679723521582,
    "source_hash": "f540446a"
   },
   "outputs": [],
   "source": [
    "import pandas as pd\n",
    "import numpy as np\n",
    "import seaborn as sns\n",
    "import matplotlib.pyplot as plt\n",
    "\n",
    "import warnings\n",
    "warnings.filterwarnings('ignore',category=DeprecationWarning)\n",
    "\n",
    "pd.set_option('display.max_columns', 100)\n",
    "\n",
    "RANDOM_STATE= 42"
   ]
  },
  {
   "cell_type": "code",
   "execution_count": 2,
   "metadata": {
    "cell_id": "cb012a7c72c24be78078276e69311792",
    "deepnote_cell_type": "code",
    "deepnote_to_be_reexecuted": false,
    "execution_millis": 1588,
    "execution_start": 1679723524659,
    "source_hash": "804d786a"
   },
   "outputs": [],
   "source": [
    "import nltk\n",
    "from nltk import word_tokenize, pos_tag\n",
    "from nltk.tokenize import RegexpTokenizer\n",
    "from nltk.stem import WordNetLemmatizer,PorterStemmer\n",
    "from nltk.corpus import stopwords\n",
    "import re"
   ]
  },
  {
   "cell_type": "code",
   "execution_count": 3,
   "metadata": {
    "cell_id": "7faa022f137d4b39a120bfb0aabd0081",
    "deepnote_cell_type": "code",
    "deepnote_to_be_reexecuted": false,
    "execution_millis": 308,
    "execution_start": 1679723526255,
    "source_hash": "d77c05ab",
    "tags": []
   },
   "outputs": [],
   "source": [
    "# nltk.download('stopwords')\n",
    "# nltk.download('punkt')\n",
    "# nltk.download('wordnet')\n",
    "# nltk.download('omw-1.4')\n",
    "# nltk.download('averaged_perceptron_tagger')"
   ]
  },
  {
   "cell_type": "code",
   "execution_count": 4,
   "metadata": {
    "cell_id": "ddd7e930ec0043fe913b0c2e7fdcac65",
    "deepnote_cell_type": "code",
    "deepnote_to_be_reexecuted": false,
    "execution_millis": 76,
    "execution_start": 1679723526583,
    "source_hash": "3680c2e2"
   },
   "outputs": [],
   "source": [
    "from sklearn.feature_extraction.text import TfidfVectorizer\n",
    "from sklearn.decomposition import NMF"
   ]
  },
  {
   "cell_type": "code",
   "execution_count": 5,
   "metadata": {
    "cell_id": "c46f92a25efa450ca7b1b73294df0154",
    "deepnote_cell_type": "code",
    "deepnote_to_be_reexecuted": false,
    "execution_millis": 6,
    "execution_start": 1679723526669,
    "source_hash": "8c1b77e2"
   },
   "outputs": [],
   "source": [
    "from collections import Counter\n",
    "from wordcloud import WordCloud, STOPWORDS"
   ]
  },
  {
   "cell_type": "code",
   "execution_count": 6,
   "metadata": {
    "cell_id": "17f86112afe94906836538241db5f5dc",
    "deepnote_cell_type": "code",
    "deepnote_to_be_reexecuted": false,
    "execution_millis": 128,
    "execution_start": 1679723526776,
    "scrolled": false,
    "source_hash": "428398a4"
   },
   "outputs": [
    {
     "data": {
      "text/html": [
       "<style>.container { max-width:100% !important; }</style>"
      ],
      "text/plain": [
       "<IPython.core.display.HTML object>"
      ]
     },
     "metadata": {},
     "output_type": "display_data"
    },
    {
     "data": {
      "text/html": [
       "<style>.output_result { max-width:100% !important; }</style>"
      ],
      "text/plain": [
       "<IPython.core.display.HTML object>"
      ]
     },
     "metadata": {},
     "output_type": "display_data"
    },
    {
     "data": {
      "text/html": [
       "<style>.output_area { max-width:100% !important; }</style>"
      ],
      "text/plain": [
       "<IPython.core.display.HTML object>"
      ]
     },
     "metadata": {},
     "output_type": "display_data"
    },
    {
     "data": {
      "text/html": [
       "<style>.input_area { max-width:100% !important; }</style>"
      ],
      "text/plain": [
       "<IPython.core.display.HTML object>"
      ]
     },
     "metadata": {},
     "output_type": "display_data"
    }
   ],
   "source": [
    "from IPython.core.display import display, HTML\n",
    "display(HTML(\"<style>.container { max-width:100% !important; }</style>\"))\n",
    "display(HTML(\"<style>.output_result { max-width:100% !important; }</style>\"))\n",
    "display(HTML(\"<style>.output_area { max-width:100% !important; }</style>\"))\n",
    "display(HTML(\"<style>.input_area { max-width:100% !important; }</style>\"))\n",
    "\n",
    "import pyLDAvis.sklearn"
   ]
  },
  {
   "cell_type": "markdown",
   "metadata": {
    "cell_id": "83122239e7d2444582ea02769d6e269b",
    "deepnote_cell_type": "markdown"
   },
   "source": [
    "### Prepare reviews"
   ]
  },
  {
   "cell_type": "code",
   "execution_count": 7,
   "metadata": {
    "cell_id": "b1cfa34f77e040cc92a4381f75cf344d",
    "deepnote_cell_type": "code",
    "deepnote_to_be_reexecuted": false,
    "execution_millis": 2258,
    "execution_start": 1679723526982,
    "source_hash": "5eaf5a97"
   },
   "outputs": [
    {
     "name": "stdout",
     "output_type": "stream",
     "text": [
      "(375173, 5)\n"
     ]
    }
   ],
   "source": [
    "# load cleaned review dataset\n",
    "review_df = pd.read_pickle('../data/data_cleaned/cleaned_review_with_polarity.zip')\n",
    "print(review_df.shape)\n"
   ]
  },
  {
   "cell_type": "code",
   "execution_count": 8,
   "metadata": {
    "cell_id": "8c49294e3a7d463c8779207025a0513b",
    "deepnote_cell_type": "code",
    "deepnote_to_be_reexecuted": false,
    "execution_millis": 20,
    "execution_start": 1679723530644,
    "source_hash": "8d296fdd"
   },
   "outputs": [],
   "source": [
    "# # use a small sample data to run\n",
    "# sample_review = review_df.sample(200, random_state = RANDOM_STATE).reset_index(drop=True)\n",
    "# sample_review.head(2)"
   ]
  },
  {
   "cell_type": "code",
   "execution_count": 9,
   "metadata": {
    "cell_id": "2d3eb29abafd433f9e0df257e6604b1e",
    "deepnote_cell_type": "code"
   },
   "outputs": [
    {
     "data": {
      "text/html": [
       "<div>\n",
       "<style scoped>\n",
       "    .dataframe tbody tr th:only-of-type {\n",
       "        vertical-align: middle;\n",
       "    }\n",
       "\n",
       "    .dataframe tbody tr th {\n",
       "        vertical-align: top;\n",
       "    }\n",
       "\n",
       "    .dataframe thead th {\n",
       "        text-align: right;\n",
       "    }\n",
       "</style>\n",
       "<table border=\"1\" class=\"dataframe\">\n",
       "  <thead>\n",
       "    <tr style=\"text-align: right;\">\n",
       "      <th></th>\n",
       "      <th>listing_id</th>\n",
       "      <th>date</th>\n",
       "      <th>reviewer_id</th>\n",
       "      <th>comments</th>\n",
       "      <th>polarity</th>\n",
       "    </tr>\n",
       "  </thead>\n",
       "  <tbody>\n",
       "    <tr>\n",
       "      <th>0</th>\n",
       "      <td>6606</td>\n",
       "      <td>2009-07-17</td>\n",
       "      <td>18085</td>\n",
       "      <td>The Urban Cottage is comfortable, beautiful, f...</td>\n",
       "      <td>0.9878</td>\n",
       "    </tr>\n",
       "    <tr>\n",
       "      <th>1</th>\n",
       "      <td>491958</td>\n",
       "      <td>2012-07-09</td>\n",
       "      <td>2595909</td>\n",
       "      <td>Jay, Colleen, Mica &amp; Gigi-dog were excellent h...</td>\n",
       "      <td>0.9979</td>\n",
       "    </tr>\n",
       "  </tbody>\n",
       "</table>\n",
       "</div>"
      ],
      "text/plain": [
       "  listing_id       date  reviewer_id  \\\n",
       "0       6606 2009-07-17        18085   \n",
       "1     491958 2012-07-09      2595909   \n",
       "\n",
       "                                            comments  polarity  \n",
       "0  The Urban Cottage is comfortable, beautiful, f...    0.9878  \n",
       "1  Jay, Colleen, Mica & Gigi-dog were excellent h...    0.9979  "
      ]
     },
     "execution_count": 9,
     "metadata": {},
     "output_type": "execute_result"
    }
   ],
   "source": [
    "# use all data to run\n",
    "sample_review = review_df.copy()\n",
    "sample_review.head(2)"
   ]
  },
  {
   "cell_type": "markdown",
   "metadata": {
    "cell_id": "e065bf69ddcc45c7a607f89a937be837",
    "deepnote_cell_type": "markdown"
   },
   "source": [
    "### Preprocess reviews"
   ]
  },
  {
   "cell_type": "code",
   "execution_count": 10,
   "metadata": {
    "cell_id": "a8096572ad5e448d86754ba13a924298",
    "deepnote_cell_type": "code",
    "deepnote_to_be_reexecuted": false,
    "execution_millis": 6,
    "execution_start": 1679723530666,
    "source_hash": "5b098dd5"
   },
   "outputs": [],
   "source": [
    "def preprocess_text(text, stopwords = None, stem=False, lemma=False):\n",
    "    # clean the text\n",
    "    text = text.lower()\n",
    "    # remove html and all other sybols \n",
    "    text = re.sub(\"(<.*?>)|([^0-9A-Za-z \\t])\",\" \",text)\n",
    "    \n",
    "    # tokenize the text\n",
    "    text = word_tokenize(text)     \n",
    "    # remove stopwords and non alpha words\n",
    "    text = [word for word in text if word not in stopwords]\n",
    "    \n",
    "    # get the root of word\n",
    "    if stem == True:   \n",
    "        stemmer = PorterStemmer()\n",
    "        text = [stemmer.stem(word) for word in text]   \n",
    "    \n",
    "    # normalize the word  \n",
    "    if lemma == True:\n",
    "        lemmatizer = WordNetLemmatizer()\n",
    "        text = [lemmatizer.lemmatize(word) for word in text]\n",
    "        \n",
    "    # list to string\n",
    "    text = ' '.join(text)  \n",
    "    \n",
    "    return text"
   ]
  },
  {
   "cell_type": "code",
   "execution_count": 11,
   "metadata": {
    "cell_id": "2c1fe8c5e69b47c0b2cc39ef1f73efab",
    "deepnote_cell_type": "code",
    "deepnote_to_be_reexecuted": false,
    "execution_millis": 4,
    "execution_start": 1679723530743,
    "source_hash": "16d743ab"
   },
   "outputs": [],
   "source": [
    "# create a function to pull out specific part of speech from a string of text\n",
    "def get_adjs(text):\n",
    "    '''Given a string of text, tokenize the text and pull out only the adjectives.'''\n",
    "    text_list = text.split()\n",
    "    is_adjs = lambda pos: pos[:2] == 'JJ'\n",
    "    all_adjs = [word for (word, pos) in pos_tag(text_list) if is_adjs(pos)] \n",
    "    return ' '.join(all_adjs)\n",
    "\n",
    "def get_nouns(text):\n",
    "    '''Given a string of text, tokenize the text and pull out only the nouns.'''\n",
    "    text_list = text.split()\n",
    "    is_noun = lambda pos: pos[:2] == 'NN'\n",
    "    all_nouns = [word for (word, pos) in pos_tag(text_list) if is_noun(pos)] \n",
    "    return ' '.join(all_nouns)\n",
    "\n",
    "def get_nouns_adjs(text):\n",
    "    '''Given a string of text, tokenize the text and pull out only the nouns and adjectives.'''\n",
    "    text_list = text.split()\n",
    "    is_noun_adj = lambda pos: pos[:2] == 'NN' or pos[:2] == 'JJ'\n",
    "    nouns_adj = [word for (word, pos) in pos_tag(text_list) if is_noun_adj(pos)] \n",
    "    return ' '.join(nouns_adj)"
   ]
  },
  {
   "cell_type": "code",
   "execution_count": 12,
   "metadata": {
    "cell_id": "d58becfce7d049de8f16b1942c42bcca",
    "deepnote_cell_type": "code",
    "deepnote_to_be_reexecuted": false,
    "execution_millis": 2,
    "execution_start": 1679723530794,
    "source_hash": "63341bfa"
   },
   "outputs": [],
   "source": [
    "# prepare stopword set\n",
    "added_stopwords = [\"can't\",'t', 'us', 'say','would', 'also','within','stay', 'since']\n",
    "nltk_STOPWORDS = set(stopwords.words(\"english\"))\n",
    "nltk_STOPWORDS.update(added_stopwords)"
   ]
  },
  {
   "cell_type": "code",
   "execution_count": 13,
   "metadata": {
    "cell_id": "ccfbf47f043e497e844e0a781f440447",
    "deepnote_cell_type": "code",
    "deepnote_to_be_reexecuted": false,
    "execution_millis": 14972,
    "execution_start": 1679723530795,
    "source_hash": "b9d53bd6"
   },
   "outputs": [
    {
     "name": "stdout",
     "output_type": "stream",
     "text": [
      "CPU times: user 1min 52s, sys: 536 ms, total: 1min 52s\n",
      "Wall time: 1min 54s\n"
     ]
    }
   ],
   "source": [
    "%%time\n",
    "# get cleaned comments\n",
    "sample_review['cleaned_comments'] = sample_review['comments'] \\\n",
    "                                    .apply(lambda x: preprocess_text(\n",
    "                                            x,stopwords = nltk_STOPWORDS, \n",
    "                                            stem=False, lemma=True))"
   ]
  },
  {
   "cell_type": "code",
   "execution_count": 14,
   "metadata": {
    "cell_id": "a4762032f65c438680d9c2b69ba4d2e1",
    "deepnote_cell_type": "code",
    "deepnote_to_be_reexecuted": false,
    "execution_millis": 63430,
    "execution_start": 1679723545770,
    "source_hash": "ec4a479"
   },
   "outputs": [
    {
     "name": "stdout",
     "output_type": "stream",
     "text": [
      "CPU times: user 7min 31s, sys: 8.75 s, total: 7min 40s\n",
      "Wall time: 7min 41s\n"
     ]
    }
   ],
   "source": [
    "%%time\n",
    "# only keep nouns and adjs from the cleaned_comments tokens\n",
    "sample_review['comments_nouns_adjs'] = sample_review['cleaned_comments'].apply(get_nouns_adjs)"
   ]
  },
  {
   "cell_type": "code",
   "execution_count": 15,
   "metadata": {
    "cell_id": "4d1bcffe8701420ba6683c6e49a3185a",
    "deepnote_cell_type": "code",
    "deepnote_to_be_reexecuted": false,
    "execution_millis": 58,
    "execution_start": 1679723609199,
    "source_hash": "cd0c263b"
   },
   "outputs": [
    {
     "data": {
      "text/html": [
       "<div>\n",
       "<style scoped>\n",
       "    .dataframe tbody tr th:only-of-type {\n",
       "        vertical-align: middle;\n",
       "    }\n",
       "\n",
       "    .dataframe tbody tr th {\n",
       "        vertical-align: top;\n",
       "    }\n",
       "\n",
       "    .dataframe thead th {\n",
       "        text-align: right;\n",
       "    }\n",
       "</style>\n",
       "<table border=\"1\" class=\"dataframe\">\n",
       "  <thead>\n",
       "    <tr style=\"text-align: right;\">\n",
       "      <th></th>\n",
       "      <th>listing_id</th>\n",
       "      <th>date</th>\n",
       "      <th>reviewer_id</th>\n",
       "      <th>comments</th>\n",
       "      <th>polarity</th>\n",
       "      <th>cleaned_comments</th>\n",
       "      <th>comments_nouns_adjs</th>\n",
       "    </tr>\n",
       "  </thead>\n",
       "  <tbody>\n",
       "    <tr>\n",
       "      <th>0</th>\n",
       "      <td>6606</td>\n",
       "      <td>2009-07-17</td>\n",
       "      <td>18085</td>\n",
       "      <td>The Urban Cottage is comfortable, beautiful, f...</td>\n",
       "      <td>0.9878</td>\n",
       "      <td>urban cottage comfortable beautiful fun really...</td>\n",
       "      <td>urban cottage comfortable beautiful fun conven...</td>\n",
       "    </tr>\n",
       "    <tr>\n",
       "      <th>1</th>\n",
       "      <td>491958</td>\n",
       "      <td>2012-07-09</td>\n",
       "      <td>2595909</td>\n",
       "      <td>Jay, Colleen, Mica &amp; Gigi-dog were excellent h...</td>\n",
       "      <td>0.9979</td>\n",
       "      <td>jay colleen mica gigi dog excellent host welco...</td>\n",
       "      <td>jay colleen mica gigi dog excellent host warm ...</td>\n",
       "    </tr>\n",
       "    <tr>\n",
       "      <th>2</th>\n",
       "      <td>491958</td>\n",
       "      <td>2012-07-12</td>\n",
       "      <td>206203</td>\n",
       "      <td>Wonderful place in a great neighborhood near m...</td>\n",
       "      <td>0.9851</td>\n",
       "      <td>wonderful place great neighborhood near much b...</td>\n",
       "      <td>wonderful place great neighborhood much best s...</td>\n",
       "    </tr>\n",
       "  </tbody>\n",
       "</table>\n",
       "</div>"
      ],
      "text/plain": [
       "  listing_id       date  reviewer_id  \\\n",
       "0       6606 2009-07-17        18085   \n",
       "1     491958 2012-07-09      2595909   \n",
       "2     491958 2012-07-12       206203   \n",
       "\n",
       "                                            comments  polarity  \\\n",
       "0  The Urban Cottage is comfortable, beautiful, f...    0.9878   \n",
       "1  Jay, Colleen, Mica & Gigi-dog were excellent h...    0.9979   \n",
       "2  Wonderful place in a great neighborhood near m...    0.9851   \n",
       "\n",
       "                                    cleaned_comments  \\\n",
       "0  urban cottage comfortable beautiful fun really...   \n",
       "1  jay colleen mica gigi dog excellent host welco...   \n",
       "2  wonderful place great neighborhood near much b...   \n",
       "\n",
       "                                 comments_nouns_adjs  \n",
       "0  urban cottage comfortable beautiful fun conven...  \n",
       "1  jay colleen mica gigi dog excellent host warm ...  \n",
       "2  wonderful place great neighborhood much best s...  "
      ]
     },
     "execution_count": 15,
     "metadata": {},
     "output_type": "execute_result"
    }
   ],
   "source": [
    "sample_review.head(3)"
   ]
  },
  {
   "cell_type": "markdown",
   "metadata": {
    "cell_id": "2d540a51d5964d338e41edd26bb34b0f",
    "deepnote_cell_type": "markdown"
   },
   "source": [
    "### NMF for topic modeling"
   ]
  },
  {
   "cell_type": "code",
   "execution_count": 20,
   "metadata": {
    "cell_id": "1cf4bcc7e7f246c0938bfd92c16f9e12",
    "deepnote_cell_type": "code"
   },
   "outputs": [
    {
     "name": "stdout",
     "output_type": "stream",
     "text": [
      "375173\n"
     ]
    }
   ],
   "source": [
    "# prepare clean corpus\n",
    "\n",
    "review_corpus = sample_review['comments_nouns_adjs'].values.tolist()\n",
    "print(len(review_corpus))"
   ]
  },
  {
   "cell_type": "code",
   "execution_count": 21,
   "metadata": {
    "cell_id": "488734daca534a0aad4829ae8ebd3985",
    "deepnote_cell_type": "code"
   },
   "outputs": [],
   "source": [
    "# prepare stopword set\n",
    "added_STOPWORDS = [\"place\",'great', 'good', 'nice','b','everything','need', 'thank','thanks']\n",
    "nmf_STOPWORDS = set(stopwords.words(\"english\"))\n",
    "nmf_STOPWORDS.update(added_STOPWORDS)"
   ]
  },
  {
   "cell_type": "code",
   "execution_count": 22,
   "metadata": {
    "cell_id": "78eeb05654f54b63b2508f6c399097fa",
    "deepnote_cell_type": "code",
    "deepnote_to_be_reexecuted": false,
    "execution_millis": 2002,
    "execution_start": 1679723639687,
    "source_hash": "9d4de477"
   },
   "outputs": [
    {
     "name": "stdout",
     "output_type": "stream",
     "text": [
      "(375173, 17476)\n",
      "Number of unique terms in vocabulary: 17476\n"
     ]
    }
   ],
   "source": [
    "# TfidfVectorizer\n",
    "tfidf_vectorizer = TfidfVectorizer(\n",
    "                                min_df=2,  \n",
    "                                max_df=0.9, \n",
    "                                stop_words=nmf_STOPWORDS) \n",
    "\n",
    "tfidf_documents = tfidf_vectorizer.fit_transform(review_corpus)\n",
    "\n",
    "\n",
    "# get feature name and vocabulary\n",
    "tfidf_feature_names = tfidf_vectorizer.get_feature_names()\n",
    "tfidf_vocab = tfidf_vectorizer.vocabulary_\n",
    "\n",
    "print(tfidf_documents.shape)\n",
    "print(\"Number of unique terms in vocabulary:\", len(tfidf_feature_names))"
   ]
  },
  {
   "cell_type": "code",
   "execution_count": 23,
   "metadata": {
    "cell_id": "c9369ae6714b4b248dc7a62c48d8d337",
    "deepnote_cell_type": "code",
    "deepnote_to_be_reexecuted": false,
    "execution_millis": 4047,
    "execution_start": 1679723641691,
    "source_hash": "122d9541"
   },
   "outputs": [
    {
     "name": "stderr",
     "output_type": "stream",
     "text": [
      "/Users/abbyz/opt/anaconda3/lib/python3.8/site-packages/scipy/linalg/decomp_qr.py:18: DeprecationWarning: `np.int` is a deprecated alias for the builtin `int`. To silence this warning, use `int` by itself. Doing this will not modify any behavior and is safe. When replacing `np.int`, you may wish to use e.g. `np.int64` or `np.int32` to specify the precision. If you wish to review your current use, check the release note link for additional information.\n",
      "Deprecated in NumPy 1.20; for more details and guidance: https://numpy.org/devdocs/release/1.20.0-notes.html#deprecations\n",
      "  kwargs['lwork'] = ret[-2][0].real.astype(numpy.int)\n",
      "/Users/abbyz/opt/anaconda3/lib/python3.8/site-packages/scipy/linalg/decomp_qr.py:18: DeprecationWarning: `np.int` is a deprecated alias for the builtin `int`. To silence this warning, use `int` by itself. Doing this will not modify any behavior and is safe. When replacing `np.int`, you may wish to use e.g. `np.int64` or `np.int32` to specify the precision. If you wish to review your current use, check the release note link for additional information.\n",
      "Deprecated in NumPy 1.20; for more details and guidance: https://numpy.org/devdocs/release/1.20.0-notes.html#deprecations\n",
      "  kwargs['lwork'] = ret[-2][0].real.astype(numpy.int)\n"
     ]
    }
   ],
   "source": [
    "# create topic using NMF\n",
    "n_topics=4\n",
    "\n",
    "nmf = NMF(n_components=n_topics, random_state=RANDOM_STATE)\n",
    "nmf.fit(tfidf_documents )\n",
    "nmf_topic_components = nmf.components_"
   ]
  },
  {
   "cell_type": "code",
   "execution_count": 24,
   "metadata": {
    "cell_id": "f99751bbd01544f7978e3ebe6dabf17a",
    "deepnote_cell_type": "code"
   },
   "outputs": [
    {
     "name": "stdout",
     "output_type": "stream",
     "text": [
      "topic 0: ['seattle', 'space', 'easy', 'perfect', 'home', 'neighborhood', 'beautiful', 'house', 'restaurant', 'downtown', 'apartment', 'area', 'time', 'quiet', 'spot', 'view', 'distance', 'lot', 'little', 'walk']\n",
      "topic 1: ['location', 'perfect', 'convenient', 'excellent', 'awesome', 'apartment', 'space', 'communication', 'value', 'fantastic', 'view', 'central', 'price', 'amenity', 'easy', 'check', 'condo', 'distance', 'wonderful', 'cute']\n",
      "topic 2: ['host', 'wonderful', 'responsive', 'helpful', 'communication', 'excellent', 'super', 'awesome', 'communicative', 'fantastic', 'kind', 'recommend', 'friendly', 'house', 'question', 'home', 'experience', 'thoughtful', 'amazing', 'gracious']\n",
      "topic 3: ['clean', 'comfortable', 'super', 'quiet', 'cozy', 'convenient', 'bed', 'spacious', 'easy', 'room', 'cute', 'communication', 'apartment', 'space', 'modern', 'stylish', 'check', 'comfy', 'amenity', 'private']\n"
     ]
    }
   ],
   "source": [
    "# display top n words in each topic\n",
    "\n",
    "num_top_words = 20\n",
    "\n",
    "def display_topics(model, feature_names, no_top_words):\n",
    "    \n",
    "    for topic_idx, topic in enumerate(model.components_):\n",
    "        term_list = [feature_names[i]\n",
    "                        for i in topic.argsort()[:-no_top_words - 1:-1]]\n",
    "        print(\"topic %d:\" % (topic_idx), term_list)\n",
    "        \n",
    "display_topics(nmf, tfidf_feature_names, num_top_words)"
   ]
  },
  {
   "cell_type": "code",
   "execution_count": 25,
   "metadata": {
    "cell_id": "fedd9c8bc7e74c3fb821e462cfe795bf",
    "deepnote_cell_type": "code",
    "deepnote_to_be_reexecuted": false,
    "execution_millis": 31,
    "execution_start": 1679723645839,
    "source_hash": "b244f60"
   },
   "outputs": [
    {
     "name": "stdout",
     "output_type": "stream",
     "text": [
      "Highest topic 0 weight is document 183423 : nice cozy room shop restaurant\n",
      "Highest topic 1 weight is document 213154 : great location everything\n",
      "Highest topic 2 weight is document 110921 : great place host\n",
      "Highest topic 3 weight is document 125294 : clean\n"
     ]
    }
   ],
   "source": [
    "# get document weights per topic\n",
    "\n",
    "def get_best_document_per_topic(review_corpus, model, document_matrix):\n",
    "\n",
    "    output = model.transform(document_matrix)\n",
    "    # print(\"NMF transform output:\\n\", nmf_output)\n",
    "    best_document_per_topic = np.argsort(output, axis = 0)[::-1]\n",
    "    for topic_index in range(0, n_topics):\n",
    "        best_index = best_document_per_topic[0, topic_index]\n",
    "        print(\"Highest topic\", topic_index, \"weight is document\", \n",
    "              best_index, \":\", review_corpus[best_index][0:30])\n",
    "\n",
    "\n",
    "get_best_document_per_topic(review_corpus,nmf,tfidf_documents)"
   ]
  },
  {
   "cell_type": "code",
   "execution_count": 26,
   "metadata": {
    "cell_id": "baa113c688a5442b96ec80f690f97459",
    "deepnote_cell_type": "code",
    "deepnote_to_be_reexecuted": false,
    "execution_millis": 602,
    "execution_start": 1679723645884,
    "source_hash": "701675bf"
   },
   "outputs": [
    {
     "data": {
      "image/png": "[encoded data removed]",
      "text/plain": [
       "<Figure size 432x288 with 1 Axes>"
      ]
     },
     "metadata": {
      "image/png": {
       "height": 248,
       "width": 425
      },
      "needs_background": "light"
     },
     "output_type": "display_data"
    }
   ],
   "source": [
    "# display a bar chart of top_n topic weights\n",
    "\n",
    "def top_n_topic_weights(topic_components,feature_names, topic_index):\n",
    "\n",
    "    vocab = np.array(feature_names)\n",
    "    top_term_indices = np.array(np.argsort(topic_components[topic_index, :])[::-1])[0:20]\n",
    "\n",
    "    term_strings = vocab[top_term_indices]\n",
    "    term_weights = topic_components[topic_index, top_term_indices]\n",
    "\n",
    "    sns.set_color_codes(\"pastel\")\n",
    "    sns.barplot(x=term_weights, y=term_strings, label=\"Weight\", color=\"b\")\n",
    "\n",
    "    plt.show()\n",
    "\n",
    "# show the topic weight for topic 1\n",
    "topic_index = 0\n",
    "top_n_topic_weights(nmf_topic_components, tfidf_feature_names, topic_index)"
   ]
  },
  {
   "cell_type": "markdown",
   "metadata": {
    "cell_id": "daf4d5bc5d38426c83c3ae5206fab44b",
    "deepnote_cell_type": "markdown"
   },
   "source": [
    "### Interpret topics "
   ]
  },
  {
   "cell_type": "code",
   "execution_count": 47,
   "metadata": {
    "cell_id": "cfaa46e53cd5465e835d973c35e522d0",
    "deepnote_cell_type": "code"
   },
   "outputs": [
    {
     "name": "stdout",
     "output_type": "stream",
     "text": [
      "topic 0: ['seattle', 'space', 'easy', 'perfect', 'home', 'neighborhood', 'beautiful', 'house', 'restaurant', 'downtown', 'apartment', 'area', 'time', 'quiet', 'spot', 'view', 'distance', 'lot', 'little', 'walk']\n",
      "topic 1: ['location', 'perfect', 'convenient', 'excellent', 'awesome', 'apartment', 'space', 'communication', 'value', 'fantastic', 'view', 'central', 'price', 'amenity', 'easy', 'check', 'condo', 'distance', 'wonderful', 'cute']\n",
      "topic 2: ['host', 'wonderful', 'responsive', 'helpful', 'communication', 'excellent', 'super', 'awesome', 'communicative', 'fantastic', 'kind', 'recommend', 'friendly', 'house', 'question', 'home', 'experience', 'thoughtful', 'amazing', 'gracious']\n",
      "topic 3: ['clean', 'comfortable', 'super', 'quiet', 'cozy', 'convenient', 'bed', 'spacious', 'easy', 'room', 'cute', 'communication', 'apartment', 'space', 'modern', 'stylish', 'check', 'comfy', 'amenity', 'private']\n"
     ]
    }
   ],
   "source": [
    "# the found 4 topics\n",
    "display_topics(nmf, tfidf_feature_names, num_top_words)"
   ]
  },
  {
   "cell_type": "markdown",
   "metadata": {
    "cell_id": "855513eb20724ffcae3fa7d47de66428",
    "deepnote_cell_type": "markdown"
   },
   "source": [
    "After trying different number of topics on the nouns and adjectives of the reviews, we found 4 topics made the most sense. Below are the topics we interpreted.\n",
    "\n",
    "From the top 20 terms in each topic, we found that:\n",
    "\n",
    "- Topic 0: review about overall neighborhood.\n",
    "- Topic 1: review about location convenience.\n",
    "- Topic 2: review about host communication.\n",
    "- Topic 3: review about housing experience."
   ]
  },
  {
   "cell_type": "markdown",
   "metadata": {
    "cell_id": "3242b919e10548e6a92fd3b3aa1956a5",
    "deepnote_cell_type": "markdown"
   },
   "source": [
    "#### Get topic label per review document"
   ]
  },
  {
   "cell_type": "code",
   "execution_count": 27,
   "metadata": {
    "cell_id": "2b21d68540a645b995ae3c7f6134d940",
    "deepnote_cell_type": "code",
    "scrolled": true
   },
   "outputs": [],
   "source": [
    "## add topic label to the review dataframe\n",
    "\n",
    "sample_review['review_topic'] = nmf.transform(tfidf_documents).argmax(axis=1)"
   ]
  },
  {
   "cell_type": "code",
   "execution_count": 37,
   "metadata": {
    "cell_id": "fc1a8abaf4ab4305aad4325cfea9d04d",
    "deepnote_cell_type": "code"
   },
   "outputs": [
    {
     "data": {
      "text/plain": [
       "{0: 'Neighborhood Overall',\n",
       " 1: 'Location Convenience',\n",
       " 2: 'Host Communication',\n",
       " 3: 'Housing Experience'}"
      ]
     },
     "execution_count": 37,
     "metadata": {},
     "output_type": "execute_result"
    }
   ],
   "source": [
    "topic_labels = [0,1,2,3]\n",
    "topic_labels_interpreted = ['Neighborhood Overall', 'Location Convenience', 'Host Communication', 'Housing Experience']\n",
    "topic_label_dict = dict(zip(topic_labels,topic_labels_interpreted))\n",
    "topic_label_dict"
   ]
  },
  {
   "cell_type": "code",
   "execution_count": 38,
   "metadata": {
    "cell_id": "1989500f284348b38e1539d71689b2f9",
    "deepnote_cell_type": "code"
   },
   "outputs": [],
   "source": [
    "sample_review['review_topic_interpreted'] = sample_review['review_topic'].map(topic_label_dict)"
   ]
  },
  {
   "cell_type": "code",
   "execution_count": 39,
   "metadata": {
    "cell_id": "cbda3105b7e94d60bc17d6a422c01e90",
    "deepnote_cell_type": "code"
   },
   "outputs": [
    {
     "data": {
      "text/plain": [
       "Neighborhood Overall    202340\n",
       "Host Communication       62960\n",
       "Location Convenience     59554\n",
       "Housing Experience       50319\n",
       "Name: review_topic_interpreted, dtype: int64"
      ]
     },
     "execution_count": 39,
     "metadata": {},
     "output_type": "execute_result"
    }
   ],
   "source": [
    "sample_review.review_topic_interpreted.value_counts()"
   ]
  },
  {
   "cell_type": "code",
   "execution_count": 40,
   "metadata": {
    "cell_id": "1e74f1b8bd5844688733decee310bf75",
    "deepnote_cell_type": "code"
   },
   "outputs": [
    {
     "data": {
      "text/plain": [
       "listing_id                  0\n",
       "date                        0\n",
       "reviewer_id                 0\n",
       "comments                    0\n",
       "polarity                    0\n",
       "cleaned_comments            0\n",
       "comments_nouns_adjs         0\n",
       "review_topic                0\n",
       "review_topic_interpreted    0\n",
       "dtype: int64"
      ]
     },
     "execution_count": 40,
     "metadata": {},
     "output_type": "execute_result"
    }
   ],
   "source": [
    "sample_review.isna().sum()"
   ]
  },
  {
   "cell_type": "code",
   "execution_count": 41,
   "metadata": {
    "cell_id": "af8ac281c3e0437e8bd990843525f048",
    "deepnote_cell_type": "code"
   },
   "outputs": [
    {
     "name": "stdout",
     "output_type": "stream",
     "text": [
      "(375173, 9)\n"
     ]
    },
    {
     "data": {
      "text/html": [
       "<div>\n",
       "<style scoped>\n",
       "    .dataframe tbody tr th:only-of-type {\n",
       "        vertical-align: middle;\n",
       "    }\n",
       "\n",
       "    .dataframe tbody tr th {\n",
       "        vertical-align: top;\n",
       "    }\n",
       "\n",
       "    .dataframe thead th {\n",
       "        text-align: right;\n",
       "    }\n",
       "</style>\n",
       "<table border=\"1\" class=\"dataframe\">\n",
       "  <thead>\n",
       "    <tr style=\"text-align: right;\">\n",
       "      <th></th>\n",
       "      <th>listing_id</th>\n",
       "      <th>date</th>\n",
       "      <th>reviewer_id</th>\n",
       "      <th>comments</th>\n",
       "      <th>polarity</th>\n",
       "      <th>cleaned_comments</th>\n",
       "      <th>comments_nouns_adjs</th>\n",
       "      <th>review_topic</th>\n",
       "      <th>review_topic_interpreted</th>\n",
       "    </tr>\n",
       "  </thead>\n",
       "  <tbody>\n",
       "    <tr>\n",
       "      <th>0</th>\n",
       "      <td>6606</td>\n",
       "      <td>2009-07-17</td>\n",
       "      <td>18085</td>\n",
       "      <td>The Urban Cottage is comfortable, beautiful, f...</td>\n",
       "      <td>0.9878</td>\n",
       "      <td>urban cottage comfortable beautiful fun really...</td>\n",
       "      <td>urban cottage comfortable beautiful fun conven...</td>\n",
       "      <td>0</td>\n",
       "      <td>Neighborhood Overall</td>\n",
       "    </tr>\n",
       "    <tr>\n",
       "      <th>1</th>\n",
       "      <td>491958</td>\n",
       "      <td>2012-07-09</td>\n",
       "      <td>2595909</td>\n",
       "      <td>Jay, Colleen, Mica &amp; Gigi-dog were excellent h...</td>\n",
       "      <td>0.9979</td>\n",
       "      <td>jay colleen mica gigi dog excellent host welco...</td>\n",
       "      <td>jay colleen mica gigi dog excellent host warm ...</td>\n",
       "      <td>0</td>\n",
       "      <td>Neighborhood Overall</td>\n",
       "    </tr>\n",
       "  </tbody>\n",
       "</table>\n",
       "</div>"
      ],
      "text/plain": [
       "  listing_id       date  reviewer_id  \\\n",
       "0       6606 2009-07-17        18085   \n",
       "1     491958 2012-07-09      2595909   \n",
       "\n",
       "                                            comments  polarity  \\\n",
       "0  The Urban Cottage is comfortable, beautiful, f...    0.9878   \n",
       "1  Jay, Colleen, Mica & Gigi-dog were excellent h...    0.9979   \n",
       "\n",
       "                                    cleaned_comments  \\\n",
       "0  urban cottage comfortable beautiful fun really...   \n",
       "1  jay colleen mica gigi dog excellent host welco...   \n",
       "\n",
       "                                 comments_nouns_adjs  review_topic  \\\n",
       "0  urban cottage comfortable beautiful fun conven...             0   \n",
       "1  jay colleen mica gigi dog excellent host warm ...             0   \n",
       "\n",
       "  review_topic_interpreted  \n",
       "0     Neighborhood Overall  \n",
       "1     Neighborhood Overall  "
      ]
     },
     "execution_count": 41,
     "metadata": {},
     "output_type": "execute_result"
    }
   ],
   "source": [
    "print(sample_review.shape)\n",
    "sample_review.head(2)"
   ]
  },
  {
   "cell_type": "markdown",
   "metadata": {
    "cell_id": "b0df9cecfaf54665a5ec826b7a86057d",
    "deepnote_cell_type": "markdown"
   },
   "source": [
    "#### Plot topics for a given listing"
   ]
  },
  {
   "cell_type": "code",
   "execution_count": 42,
   "metadata": {
    "cell_id": "4af0fbd510da494882011de060ddfef7",
    "deepnote_cell_type": "code"
   },
   "outputs": [],
   "source": [
    "import altair as alt"
   ]
  },
  {
   "cell_type": "code",
   "execution_count": 43,
   "metadata": {
    "cell_id": "831633b6e133489e830a2613de3289b3",
    "deepnote_cell_type": "code"
   },
   "outputs": [
    {
     "data": {
      "text/html": [
       "\n",
       "<div id=\"altair-viz-50e09fab876346118d10c03a4d7fd883\"></div>\n",
       "<script type=\"text/javascript\">\n",
       "  (function(spec, embedOpt){\n",
       "    let outputDiv = document.currentScript.previousElementSibling;\n",
       "    if (outputDiv.id !== \"altair-viz-50e09fab876346118d10c03a4d7fd883\") {\n",
       "      outputDiv = document.getElementById(\"altair-viz-50e09fab876346118d10c03a4d7fd883\");\n",
       "    }\n",
       "    const paths = {\n",
       "      \"vega\": \"https://cdn.jsdelivr.net/npm//vega@5?noext\",\n",
       "      \"vega-lib\": \"https://cdn.jsdelivr.net/npm//vega-lib?noext\",\n",
       "      \"vega-lite\": \"https://cdn.jsdelivr.net/npm//vega-lite@4.8.1?noext\",\n",
       "      \"vega-embed\": \"https://cdn.jsdelivr.net/npm//vega-embed@6?noext\",\n",
       "    };\n",
       "\n",
       "    function loadScript(lib) {\n",
       "      return new Promise(function(resolve, reject) {\n",
       "        var s = document.createElement('script');\n",
       "        s.src = paths[lib];\n",
       "        s.async = true;\n",
       "        s.onload = () => resolve(paths[lib]);\n",
       "        s.onerror = () => reject(`Error loading script: ${paths[lib]}`);\n",
       "        document.getElementsByTagName(\"head\")[0].appendChild(s);\n",
       "      });\n",
       "    }\n",
       "\n",
       "    function showError(err) {\n",
       "      outputDiv.innerHTML = `<div class=\"error\" style=\"color:red;\">${err}</div>`;\n",
       "      throw err;\n",
       "    }\n",
       "\n",
       "    function displayChart(vegaEmbed) {\n",
       "      vegaEmbed(outputDiv, spec, embedOpt)\n",
       "        .catch(err => showError(`Javascript Error: ${err.message}<br>This usually means there's a typo in your chart specification. See the javascript console for the full traceback.`));\n",
       "    }\n",
       "\n",
       "    if(typeof define === \"function\" && define.amd) {\n",
       "      requirejs.config({paths});\n",
       "      require([\"vega-embed\"], displayChart, err => showError(`Error loading script: ${err.message}`));\n",
       "    } else if (typeof vegaEmbed === \"function\") {\n",
       "      displayChart(vegaEmbed);\n",
       "    } else {\n",
       "      loadScript(\"vega\")\n",
       "        .then(() => loadScript(\"vega-lite\"))\n",
       "        .then(() => loadScript(\"vega-embed\"))\n",
       "        .catch(showError)\n",
       "        .then(() => displayChart(vegaEmbed));\n",
       "    }\n",
       "  })({\"config\": {\"view\": {\"continuousWidth\": 400, \"continuousHeight\": 300}}, \"data\": {\"name\": \"data-f8a0392cfdd78958bca5ca017804633a\"}, \"mark\": \"bar\", \"encoding\": {\"color\": {\"type\": \"ordinal\", \"field\": \"listing_id\", \"scale\": {\"scheme\": \"dark2\"}}, \"x\": {\"type\": \"quantitative\", \"aggregate\": \"count\"}, \"y\": {\"type\": \"ordinal\", \"field\": \"review_topic_interpreted\", \"sort\": \"-x\"}}, \"height\": 300, \"selection\": {\"selector002\": {\"type\": \"interval\", \"bind\": \"scales\", \"encodings\": [\"x\", \"y\"]}}, \"width\": 500, \"$schema\": \"https://vega.github.io/schema/vega-lite/v4.8.1.json\", \"datasets\": {\"data-f8a0392cfdd78958bca5ca017804633a\": [{\"listing_id\": 6606, \"date\": \"2009-07-17T00:00:00\", \"reviewer_id\": 18085, \"comments\": \"The Urban Cottage is comfortable, beautiful, fun and really convenient!  Joyce is an amazing host and super friendly.  The Wallingford neighborhood is convenient to outdoor adventures, shopping, relaxation, and to lots of buses to downtown.  If you get a chance to stay with Joyce, I highly recommend it!  We will definitely be back again!\", \"polarity\": 0.9878, \"cleaned_comments\": \"urban cottage comfortable beautiful fun really convenient joyce amazing host super friendly wallingford neighborhood convenient outdoor adventure shopping relaxation lot bus downtown get chance joyce highly recommend definitely back\", \"comments_nouns_adjs\": \"urban cottage comfortable beautiful fun convenient joyce host super friendly wallingford neighborhood convenient outdoor adventure relaxation lot downtown get chance joyce\", \"review_topic\": 0, \"review_topic_interpreted\": \"Neighborhood Overall\"}, {\"listing_id\": 6606, \"date\": \"2011-06-27T00:00:00\", \"reviewer_id\": 434031, \"comments\": \"Joyce was a wonderful host and the urban cottage is a such an awesome place to stay (quiet, clean, comfortable, private).  I highly recommend this place - you will not be disappointed!\", \"polarity\": 0.9609, \"cleaned_comments\": \"joyce wonderful host urban cottage awesome place quiet clean comfortable private highly recommend place disappointed\", \"comments_nouns_adjs\": \"joyce wonderful host urban cottage awesome place quiet clean comfortable private recommend place\", \"review_topic\": 2, \"review_topic_interpreted\": \"Host Communication\"}, {\"listing_id\": 6606, \"date\": \"2011-08-22T00:00:00\", \"reviewer_id\": 976182, \"comments\": \"Beautiful cottage and warm hospitality from Joyce. Even though we never got a chance to see each other I felt welcome. The neighborhood is charming, quiet, and you can walk just a few blocks to good food, drinks and shopping. Joyce was super communicative and cut us a deal as we were only allowed to use the outdoor shower due to the entire house being rented. Don't let that scare you off - it's beautiful and with a little creative towel hanging 100% private!\", \"polarity\": 0.9753, \"cleaned_comments\": \"beautiful cottage warm hospitality joyce even though never got chance see felt welcome neighborhood charming quiet walk block good food drink shopping joyce super communicative cut deal allowed use outdoor shower due entire house rented let scare beautiful little creative towel hanging 100 private\", \"comments_nouns_adjs\": \"beautiful cottage warm hospitality joyce chance see welcome neighborhood quiet walk block good food shopping joyce communicative cut deal outdoor shower due entire house let beautiful little creative towel private\", \"review_topic\": 0, \"review_topic_interpreted\": \"Neighborhood Overall\"}, {\"listing_id\": 6606, \"date\": \"2011-08-27T00:00:00\", \"reviewer_id\": 997921, \"comments\": \"Joyce is a wonderful host! She is warm, helpful and fun to visit with. The cottage is cozy, bright and has all the comforts you could want.  I would stay here again anytime I'm in the area :)\", \"polarity\": 0.9652, \"cleaned_comments\": \"joyce wonderful host warm helpful fun visit cottage cozy bright comfort could want anytime area\", \"comments_nouns_adjs\": \"joyce wonderful host warm helpful fun visit cottage cozy bright comfort anytime area\", \"review_topic\": 2, \"review_topic_interpreted\": \"Host Communication\"}, {\"listing_id\": 6606, \"date\": \"2011-08-30T00:00:00\", \"reviewer_id\": 206901, \"comments\": \"Joyce's cottage is the perfect Seattle location! It's close Fremont, Ballard and Wallingford. The cottage has everything you need with a small kitchenette and the toilet. Joyce really knows what travelers like and she provided everything we wished for. It was clean, quiet and utterly convenient. We would love to stay again!\\r<br/>Pascal + Jeanne\", \"polarity\": 0.9285, \"cleaned_comments\": \"joyce cottage perfect seattle location close fremont ballard wallingford cottage everything need small kitchenette toilet joyce really know traveler like provided everything wished clean quiet utterly convenient love pascal jeanne\", \"comments_nouns_adjs\": \"joyce cottage perfect seattle location fremont ballard wallingford cottage everything small kitchenette toilet joyce traveler everything wished clean quiet utterly convenient pascal jeanne\", \"review_topic\": 0, \"review_topic_interpreted\": \"Neighborhood Overall\"}, {\"listing_id\": 6606, \"date\": \"2011-09-06T00:00:00\", \"reviewer_id\": 552477, \"comments\": \"Joyce's cottage and home were absolutely lovely! So private and pretty, and so centrally located in Seattle. Joyce is a wonderful hostess, offering breakfast, hot tubs, directions and suggestions. I plan on returning again and again. Enjoy! \", \"polarity\": 0.9436, \"cleaned_comments\": \"joyce cottage home absolutely lovely private pretty centrally located seattle joyce wonderful hostess offering breakfast hot tub direction suggestion plan returning enjoy\", \"comments_nouns_adjs\": \"joyce cottage home lovely private pretty seattle joyce wonderful hostess breakfast hot tub direction suggestion plan enjoy\", \"review_topic\": 0, \"review_topic_interpreted\": \"Neighborhood Overall\"}, {\"listing_id\": 6606, \"date\": \"2011-09-26T00:00:00\", \"reviewer_id\": 1110380, \"comments\": \"Sweet little place, quiet, cozy, great location. Loved taking outdoor showers. Composting toilet is just fine, does make the room quite warm.\", \"polarity\": 0.9324, \"cleaned_comments\": \"sweet little place quiet cozy great location loved taking outdoor shower composting toilet fine make room quite warm\", \"comments_nouns_adjs\": \"sweet little place quiet cozy great location outdoor shower toilet fine make room warm\", \"review_topic\": 1, \"review_topic_interpreted\": \"Location Convenience\"}, {\"listing_id\": 6606, \"date\": \"2012-05-21T00:00:00\", \"reviewer_id\": 2354750, \"comments\": \"Joyce accommodated the needs of my daughter and me on very short notice.  We were thrilled at the quality of the Urban Cottage and the guest room.  Having access to the kitchen and bath in the house allowed us to share breakfasts and coffee.  The location in Wallingford is great - walk to grocery store and other shopping/restaurants.  Joyce was helpful, friendly and kind.\", \"polarity\": 0.9559, \"cleaned_comments\": \"joyce accommodated need daughter short notice thrilled quality urban cottage guest room access kitchen bath house allowed share breakfast coffee location wallingford great walk grocery store shopping restaurant joyce helpful friendly kind\", \"comments_nouns_adjs\": \"joyce need daughter short notice quality urban cottage guest room access bath house share breakfast coffee location wallingford great walk grocery store shopping restaurant joyce helpful kind\", \"review_topic\": 0, \"review_topic_interpreted\": \"Neighborhood Overall\"}, {\"listing_id\": 6606, \"date\": \"2012-06-01T00:00:00\", \"reviewer_id\": 1845181, \"comments\": \"the Urban Cottage was a wonderful place to stay for our visit to Seattle and was very nicely furnished with all that we needed in the kitchen, sleeping area and amenities. The surroundings were beautiful and quiet. Joyce was a warm and fun host.  Susan and David Askue\", \"polarity\": 0.9432, \"cleaned_comments\": \"urban cottage wonderful place visit seattle nicely furnished needed kitchen sleeping area amenity surroundings beautiful quiet joyce warm fun host susan david askue\", \"comments_nouns_adjs\": \"urban cottage wonderful place visit seattle kitchen area amenity surroundings beautiful quiet joyce warm fun host susan david askue\", \"review_topic\": 2, \"review_topic_interpreted\": \"Host Communication\"}, {\"listing_id\": 6606, \"date\": \"2012-06-27T00:00:00\", \"reviewer_id\": 1821528, \"comments\": \"Joyce was a great host and she made us feel very much at home. The cottage is in a prime neighborhood in Wallingford with easy access to nearby gas works park (we walked there). She surprised us in the morning with coffee and scones waiting for us on the patio! The garden area was very well designed.\\r<br/>\\r<br/>Composting toilet take a while getting used to, but its part of the sustainable lifestyle. \", \"polarity\": 0.713, \"cleaned_comments\": \"joyce great host made feel much home cottage prime neighborhood wallingford easy access nearby gas work park walked surprised morning coffee scone waiting patio garden area well designed composting toilet take getting used part sustainable lifestyle\", \"comments_nouns_adjs\": \"joyce great host feel much home cottage prime neighborhood wallingford easy access gas work park surprised morning coffee scone patio garden area toilet part sustainable lifestyle\", \"review_topic\": 0, \"review_topic_interpreted\": \"Neighborhood Overall\"}, {\"listing_id\": 6606, \"date\": \"2012-07-11T00:00:00\", \"reviewer_id\": 2703414, \"comments\": \"Loved this cottage and beautiful yard.  This is a very quaint spot in a good location.  It's a short walk to Fremont.  \\r<br/>Plus there is a hot tub for the guests to use!  Doesn't get much better than this.\\r<br/>\\r<br/>Joyce was a great host-very accommodating, interesting to talk to, and very helpful all-around.\", \"polarity\": 0.9611, \"cleaned_comments\": \"loved cottage beautiful yard quaint spot good location short walk fremont plus hot tub guest use get much better joyce great host accommodating interesting talk helpful around\", \"comments_nouns_adjs\": \"cottage beautiful quaint spot good location short walk fremont hot tub guest use better joyce great host interesting talk helpful\", \"review_topic\": 2, \"review_topic_interpreted\": \"Host Communication\"}, {\"listing_id\": 6606, \"date\": \"2012-07-17T00:00:00\", \"reviewer_id\": 1657945, \"comments\": \"Joyce is the perfect host. I cannot say enough good things about her. She is extremely friendly and generous, but also offers plenty of privacy. The cottage is small- perfect for one, very cozy for two. But Joyce thought of everything- rain jackets, bicycles, coffee, beer... She's very up on the Seattle restaurant scene, as well. Her house is perfectly situated just a few blocks from amazing restaurants, Gas Works Park (gorgeous view of downtown Seattle), and a bike trail. \\r<br/>\\r<br/>I have used Airbnb several times now, but have never had a host as thorough or as thoughtful as Joyce. I'm afraid she's set a rather high bar for the future. \", \"polarity\": 0.9797, \"cleaned_comments\": \"joyce perfect host enough good thing extremely friendly generous offer plenty privacy cottage small perfect one cozy two joyce thought everything rain jacket bicycle coffee beer seattle restaurant scene well house perfectly situated block amazing restaurant gas work park gorgeous view downtown seattle bike trail used airbnb several time never host thorough thoughtful joyce afraid set rather high bar future\", \"comments_nouns_adjs\": \"joyce perfect host good thing friendly generous offer plenty privacy cottage small cozy joyce everything rain jacket bicycle coffee beer seattle restaurant scene house block restaurant gas work park gorgeous view downtown seattle bike trail several time thorough thoughtful joyce afraid set high bar future\", \"review_topic\": 0, \"review_topic_interpreted\": \"Neighborhood Overall\"}, {\"listing_id\": 6606, \"date\": \"2012-08-10T00:00:00\", \"reviewer_id\": 2163180, \"comments\": \"Joyce was fantastic and so was the little cottage. Their's the standard stuff: The place was clean, quiet, well furnished, etc.\\r<br/>\\r<br/>The real benefit of this place was the little extras you'd never expect. First, their was the garden between the house and the cottage. It was gorgeous and well kept.\\r<br/>\\r<br/>Secondly, I happened to arrive when the plum tree in the backyard was producing some incredibly delicious plums. Yum!\\r<br/>\\r<br/>Third, I loved the outdoor shower. There is another shower inside but the weather was so gorgeous when I was there that it made showering outside the way to go (and don't worry, it was totally private and in no way uncomfortable).\\r<br/>\\r<br/>Fourth, Joyce is just a great host. There was a cold beer in the fridge for me when I arrived and on my last morning she made me a bowl of yogur, granola, and freshly picked blackberries (she had picked the berries herself a day or two before hand).\\r<br/>\\r<br/>All in all, I cannot recommend this place highly enough! Perfect!\", \"polarity\": 0.9846, \"cleaned_comments\": \"joyce fantastic little cottage standard stuff place clean quiet well furnished etc real benefit place little extra never expect first garden house cottage gorgeous well kept secondly happened arrive plum tree backyard producing incredibly delicious plum yum third loved outdoor shower another shower inside weather gorgeous made showering outside way go worry totally private way uncomfortable fourth joyce great host cold beer fridge arrived last morning made bowl yogur granola freshly picked blackberry picked berry day two hand recommend place highly enough perfect\", \"comments_nouns_adjs\": \"joyce fantastic little cottage standard stuff place clean quiet real benefit place little extra first garden house cottage gorgeous happened arrive plum tree backyard delicious plum yum third outdoor shower shower weather gorgeous outside way private way uncomfortable fourth joyce great host cold beer fridge last morning bowl yogur granola blackberry berry day hand place enough perfect\", \"review_topic\": 0, \"review_topic_interpreted\": \"Neighborhood Overall\"}, {\"listing_id\": 6606, \"date\": \"2012-09-17T00:00:00\", \"reviewer_id\": 3212393, \"comments\": \"We had a great time staying at Joyce's cottage! Joyce was an awesome host and made us feel right at home. My boyfriend got sick during our trip and while I was out, Joyce brought him some juice and checked up on him. She also was great at recommending restaurants and gave us lots of guide books to check out. We traveled by car and there was always a parking spot right outside her house. The cottage was quaint and surrounded by her gorgeous garden and plum tree that were delicious! There was a compost toilet (that I have to admit, took me a little while to get used to) and a shower inside since it was too cold for us to take an outdoor shower. I highly recommend staying with Joyce! A great location in Seattle to stay in! Thanks Joyce :) \", \"polarity\": 0.9866, \"cleaned_comments\": \"great time staying joyce cottage joyce awesome host made feel right home boyfriend got sick trip joyce brought juice checked great recommending restaurant gave lot guide book check traveled car always parking spot right outside house cottage quaint surrounded gorgeous garden plum tree delicious compost toilet admit took little get used shower inside cold take outdoor shower highly recommend staying joyce great location seattle thanks joyce\", \"comments_nouns_adjs\": \"great time joyce cottage joyce awesome host feel home boyfriend sick trip joyce juice great restaurant lot guide book check car spot right outside house cottage quaint gorgeous garden plum delicious compost toilet admit little get shower inside cold take outdoor shower joyce great location seattle thanks joyce\", \"review_topic\": 0, \"review_topic_interpreted\": \"Neighborhood Overall\"}, {\"listing_id\": 6606, \"date\": \"2012-09-25T00:00:00\", \"reviewer_id\": 3559996, \"comments\": \"Awesome, quiet and fun! We had such a great time here and love the quaint spot in a great area of town. Host was exceptionally kind, flexible with getting in (we were in town for a wedding) and generous. Super easy spot to get around Seattle and having a picnic set up, access to parks, awesome food and more. We love this area of Seattle and the home was perfect for a couple. Amenities were fantastic and I'd suggest this as a quiet getaway for anyone that wants to experience a neighborhood in Seattle - unlike the downtown mayhem or noise of a hotel. Having lived in Seattle for years, it was really great to see how she has her cottage set up - even if you've never been, you can get a great understanding of the city - her recommendations of activities, places to eat and more are spot on. I'd highly recommend this awesome cottage any time. THANK YOU, JOYCE!\", \"polarity\": 0.9972, \"cleaned_comments\": \"awesome quiet fun great time love quaint spot great area town host exceptionally kind flexible getting town wedding generous super easy spot get around seattle picnic set access park awesome food love area seattle home perfect couple amenity fantastic suggest quiet getaway anyone want experience neighborhood seattle unlike downtown mayhem noise hotel lived seattle year really great see cottage set even never get great understanding city recommendation activity place eat spot highly recommend awesome cottage time thank joyce\", \"comments_nouns_adjs\": \"awesome quiet fun great time quaint spot great area town host kind flexible town generous super easy spot seattle picnic set access park awesome food area seattle home perfect couple amenity fantastic suggest quiet getaway anyone experience neighborhood seattle mayhem noise hotel seattle year great see cottage great understanding city recommendation activity place eat spot recommend awesome cottage time thank joyce\", \"review_topic\": 0, \"review_topic_interpreted\": \"Neighborhood Overall\"}, {\"listing_id\": 6606, \"date\": \"2013-05-25T00:00:00\", \"reviewer_id\": 6203519, \"comments\": \"Joyce's cottage is very cute and comfortable and in a beautiful garden. We enjoyed our time in the Wallingford area. We were close to transit stops that took us downtown, to Capitol Hill, Georgetown and finally to the airport. Irwin's is a great coffee shop just a few blocks away. And Paseo's is a Cuban sandwich shop we highly recommend, also in walking distance (they only take cash). Joyce's cottage was great way for us to engage the city more like locals than tourists. Plus Joyce was very kind and accommodating, I would recommend this space for a couple or an individual. Thanks!\", \"polarity\": 0.9894, \"cleaned_comments\": \"joyce cottage cute comfortable beautiful garden enjoyed time wallingford area close transit stop took downtown capitol hill georgetown finally airport irwin great coffee shop block away paseo cuban sandwich shop highly recommend walking distance take cash joyce cottage great way engage city like local tourist plus joyce kind accommodating recommend space couple individual thanks\", \"comments_nouns_adjs\": \"joyce cottage cute comfortable beautiful garden time wallingford area close transit stop capitol hill airport irwin great coffee shop paseo cuban sandwich shop recommend distance cash joyce cottage great way engage city local tourist joyce kind recommend space couple individual thanks\", \"review_topic\": 0, \"review_topic_interpreted\": \"Neighborhood Overall\"}, {\"listing_id\": 6606, \"date\": \"2013-08-25T00:00:00\", \"reviewer_id\": 5008872, \"comments\": \"I really appreciated the  privacy of the wee cottage.  An inventive renovation of the garage that was  great for  a smaller person like me but might be challenging for  larger people.\\r<br/>\\r<br/>Joyce was gracious and accommodating.\\r<br/>\\r<br/>It's also in a great location. Transit downtown  or over to the University and  an easy walk up to 45th for meals or groceries. \\r<br/>\\r<br/>We will be returning.\", \"polarity\": 0.9716, \"cleaned_comments\": \"really appreciated privacy wee cottage inventive renovation garage great smaller person like might challenging larger people joyce gracious accommodating great location transit downtown university easy walk 45th meal grocery returning\", \"comments_nouns_adjs\": \"privacy wee cottage inventive renovation garage great smaller person larger people gracious great location transit downtown university easy walk meal grocery\", \"review_topic\": 0, \"review_topic_interpreted\": \"Neighborhood Overall\"}, {\"listing_id\": 6606, \"date\": \"2013-09-23T00:00:00\", \"reviewer_id\": 7951039, \"comments\": \"Tiny cottage, great for no more than two, beautiful setting, close to most everything, and easy freeway access unless their are events at the college or rush hour.  We enjoyed our stay.  \", \"polarity\": 0.9291, \"cleaned_comments\": \"tiny cottage great two beautiful setting close everything easy freeway access unless event college rush hour enjoyed\", \"comments_nouns_adjs\": \"tiny cottage great beautiful close everything easy access event college hour enjoyed\", \"review_topic\": 0, \"review_topic_interpreted\": \"Neighborhood Overall\"}, {\"listing_id\": 6606, \"date\": \"2013-10-09T00:00:00\", \"reviewer_id\": 9069692, \"comments\": \"Pretty good, though the access was a bit confusing. Great location, warm and comfortable.   \", \"polarity\": 0.926, \"cleaned_comments\": \"pretty good though access bit confusing great location warm comfortable\", \"comments_nouns_adjs\": \"good access bit confusing great location warm comfortable\", \"review_topic\": 1, \"review_topic_interpreted\": \"Location Convenience\"}, {\"listing_id\": 6606, \"date\": \"2013-10-15T00:00:00\", \"reviewer_id\": 8989897, \"comments\": \"Joyce was a great host and more than accommodating to our group. The welcoming wine and bread were a very special touch after our long drive. We appreciated the hospitality. Thank you for allowing us to use your home during our trip. - the Canadian Crew.\", \"polarity\": 0.9412, \"cleaned_comments\": \"joyce great host accommodating group welcoming wine bread special touch long drive appreciated hospitality thank allowing use home trip canadian crew\", \"comments_nouns_adjs\": \"joyce great host group wine bread special touch long drive hospitality thank use home trip canadian crew\", \"review_topic\": 2, \"review_topic_interpreted\": \"Host Communication\"}, {\"listing_id\": 6606, \"date\": \"2013-10-26T00:00:00\", \"reviewer_id\": 8615289, \"comments\": \"Joyce's urban cottage is lovely! Quite small, but perfect for a week in Seattle on business. The bed is especially comfortable. Thanks, Joyce!\", \"polarity\": 0.9617, \"cleaned_comments\": \"joyce urban cottage lovely quite small perfect week seattle business bed especially comfortable thanks joyce\", \"comments_nouns_adjs\": \"joyce urban cottage small perfect week seattle business comfortable thanks joyce\", \"review_topic\": 0, \"review_topic_interpreted\": \"Neighborhood Overall\"}, {\"listing_id\": 6606, \"date\": \"2013-11-05T00:00:00\", \"reviewer_id\": 1657945, \"comments\": \"Highly recommended. Joyce is very attentive but equally respectful of one's privacy. Her place is charming and in one of the most desirable locations in Seattle.\", \"polarity\": 0.9341, \"cleaned_comments\": \"highly recommended joyce attentive equally respectful one privacy place charming one desirable location seattle\", \"comments_nouns_adjs\": \"recommended joyce attentive respectful privacy place desirable location seattle\", \"review_topic\": 1, \"review_topic_interpreted\": \"Location Convenience\"}, {\"listing_id\": 6606, \"date\": \"2013-11-11T00:00:00\", \"reviewer_id\": 6262889, \"comments\": \"Thank you Joyce for the lovely place to stay. I was very warm and cozy. It was very convenient to my office located just off of Northlake. Thank you and I will make sure to book here again when I need to travel to the office again. \", \"polarity\": 0.9061, \"cleaned_comments\": \"thank joyce lovely place warm cozy convenient office located northlake thank make sure book need travel office\", \"comments_nouns_adjs\": \"thank joyce place warm cozy convenient office thank sure book travel office\", \"review_topic\": 0, \"review_topic_interpreted\": \"Neighborhood Overall\"}, {\"listing_id\": 6606, \"date\": \"2014-06-14T00:00:00\", \"reviewer_id\": 2897283, \"comments\": \"Joyce lives in my dream home, complete with this quirky little cottage out back. This is the perfect place to stay in the perfect uptown Seattle neighborhood, where no hotel options even exist (do not ever book The Wallingford Inn - sounds charming but is ill frequented). Nestled between Ballard and the U. District, Wallingford is well served by city bus within a few blocks and provides a quiet retreat within a quarter hour of downtown. I lived in this beautiful neighborhood for years and really, there is no place in Seattle I would rather be. Wallyhood has a walk score of 97. Great restaurants and beautiful Green Lake for strolling.\\r<br/>\\r<br/>The cottage served my needs perfectly with a kitchen serviceable for storing and reheating food and making coffee, although there are so many great coffee shops within walking distance that you do yourself a diservice by making your own. Very comfortable bed and superior cable TV and internet. There is even a hot tub on the property that I wish I hadn't been too tired to take advantage of. I hope if the need arises, that I can stay here agin.\", \"polarity\": 0.996, \"cleaned_comments\": \"joyce life dream home complete quirky little cottage back perfect place perfect uptown seattle neighborhood hotel option even exist ever book wallingford inn sound charming ill frequented nestled ballard u district wallingford well served city bus block provides quiet retreat quarter hour downtown lived beautiful neighborhood year really place seattle rather wallyhood walk score 97 great restaurant beautiful green lake strolling cottage served need perfectly kitchen serviceable storing reheating food making coffee although many great coffee shop walking distance diservice making comfortable bed superior cable tv internet even hot tub property wish tired take advantage hope need arises agin\", \"comments_nouns_adjs\": \"joyce life dream home complete little cottage perfect place perfect uptown seattle neighborhood hotel option book wallingford inn sound nestled ballard u district wallingford city bus block quiet retreat quarter hour downtown beautiful neighborhood year place seattle great restaurant beautiful green lake cottage serviceable food coffee many great coffee shop distance diservice comfortable bed superior cable tv internet hot tub property wish take advantage arises\", \"review_topic\": 0, \"review_topic_interpreted\": \"Neighborhood Overall\"}, {\"listing_id\": 6606, \"date\": \"2014-07-02T00:00:00\", \"reviewer_id\": 4969570, \"comments\": \"Joyce's little cottage was the perfect place for our trip. Comfy and cozy, close to transit and other amenities, it was great! \", \"polarity\": 0.8439, \"cleaned_comments\": \"joyce little cottage perfect place trip comfy cozy close transit amenity great\", \"comments_nouns_adjs\": \"joyce little cottage perfect place trip comfy close transit amenity great\", \"review_topic\": 0, \"review_topic_interpreted\": \"Neighborhood Overall\"}, {\"listing_id\": 6606, \"date\": \"2014-07-20T00:00:00\", \"reviewer_id\": 3605722, \"comments\": \"This urban cottage was just as described - private, cozy and clean. Our favorite thing about it was the little garden area right outside our door where we spent the evenings after sightseeing all day. The neighborhood is lovely and we were surprised to find some really great restaurants and bars within walking distance. Joyce was a great host and even left us some warm scones outside our door one morning. Highly recommend this place! \", \"polarity\": 0.9755, \"cleaned_comments\": \"urban cottage described private cozy clean favorite thing little garden area right outside door spent evening sightseeing day neighborhood lovely surprised find really great restaurant bar walking distance joyce great host even left warm scone outside door one morning highly recommend place\", \"comments_nouns_adjs\": \"urban cottage private cozy clean favorite thing little garden area outside door day surprised great restaurant bar distance joyce great host warm scone door morning recommend place\", \"review_topic\": 0, \"review_topic_interpreted\": \"Neighborhood Overall\"}, {\"listing_id\": 6606, \"date\": \"2014-08-07T00:00:00\", \"reviewer_id\": 2237649, \"comments\": \"The cottage was super cute and convenient to public transportation.  It was a great refuge after a busy day at a conference. Joyce left me a cold soda, which was awesome as it was a pretty hot day when I arrived.  She was a very friendly and responsive host.\", \"polarity\": 0.9765, \"cleaned_comments\": \"cottage super cute convenient public transportation great refuge busy day conference joyce left cold soda awesome pretty hot day arrived friendly responsive host\", \"comments_nouns_adjs\": \"cottage super cute convenient public transportation great refuge busy day conference joyce cold soda awesome hot day responsive host\", \"review_topic\": 2, \"review_topic_interpreted\": \"Host Communication\"}, {\"listing_id\": 6606, \"date\": \"2014-08-16T00:00:00\", \"reviewer_id\": 18250896, \"comments\": \"The little cottage worked great for me while I was in Seattle for a week.  Nice and cozy! It has the most beautiful garden with chairs out front as well.  Really nice neighborhood. Joyce even put a beer in the fridge for me for when I arrived. :) \", \"polarity\": 0.9602, \"cleaned_comments\": \"little cottage worked great seattle week nice cozy beautiful garden chair front well really nice neighborhood joyce even put beer fridge arrived\", \"comments_nouns_adjs\": \"little cottage great seattle week nice cozy beautiful garden chair nice neighborhood joyce beer fridge\", \"review_topic\": 0, \"review_topic_interpreted\": \"Neighborhood Overall\"}, {\"listing_id\": 6606, \"date\": \"2014-08-20T00:00:00\", \"reviewer_id\": 14207237, \"comments\": \"Joyce's little cottage was very cute and cozy.  Having coffee, tea, water, etc. was very convenient, too.  Close to bus line, the town and shops, and a park.  I enjoyed a little table in the yard where I could sit out in the sun to eat and drink.  Perfect place to enjoy a summer in Seattle. I wish I could stayed longer!! \", \"polarity\": 0.95, \"cleaned_comments\": \"joyce little cottage cute cozy coffee tea water etc convenient close bus line town shop park enjoyed little table yard could sit sun eat drink perfect place enjoy summer seattle wish could stayed longer\", \"comments_nouns_adjs\": \"joyce little cottage cute cozy coffee tea water convenient bus line town shop park little table yard sun eat drink perfect place enjoy summer seattle wish longer\", \"review_topic\": 0, \"review_topic_interpreted\": \"Neighborhood Overall\"}, {\"listing_id\": 6606, \"date\": \"2014-08-25T00:00:00\", \"reviewer_id\": 8696146, \"comments\": \"I hard a wonderful stay at Joyce's cottage!  It's a perfect little home-base for exploring Seattle.  She's a very kind hostess.\", \"polarity\": 0.8997, \"cleaned_comments\": \"hard wonderful joyce cottage perfect little home base exploring seattle kind hostess\", \"comments_nouns_adjs\": \"wonderful joyce cottage perfect little home base seattle kind hostess\", \"review_topic\": 0, \"review_topic_interpreted\": \"Neighborhood Overall\"}, {\"listing_id\": 6606, \"date\": \"2014-08-27T00:00:00\", \"reviewer_id\": 8926142, \"comments\": \"Joyce was very friendly and welcoming, as was her little pup! The cottage was adorable and comfortable, and the backyard was enchanting. I made a mistake with my reservation and even ended up having to leave earlier than expected and Joyce was willing to work with me. This is a great comfy place to crash after bouncing around Seattle. \", \"polarity\": 0.9224, \"cleaned_comments\": \"joyce friendly welcoming little pup cottage adorable comfortable backyard enchanting made mistake reservation even ended leave earlier expected joyce willing work great comfy place crash bouncing around seattle\", \"comments_nouns_adjs\": \"joyce little pup cottage adorable comfortable backyard mistake reservation expected joyce willing work great comfy place crash\", \"review_topic\": 0, \"review_topic_interpreted\": \"Neighborhood Overall\"}, {\"listing_id\": 6606, \"date\": \"2014-09-28T00:00:00\", \"reviewer_id\": 2510615, \"comments\": \"The cottage was cozy and comfortable and within a great section of Seattle with lots of shops, restaurants, big trees and nice houses.  Joyce was super accommodating.  Great experience.\", \"polarity\": 0.9595, \"cleaned_comments\": \"cottage cozy comfortable great section seattle lot shop restaurant big tree nice house joyce super accommodating great experience\", \"comments_nouns_adjs\": \"cottage cozy comfortable great section seattle lot shop restaurant big tree nice house joyce great experience\", \"review_topic\": 0, \"review_topic_interpreted\": \"Neighborhood Overall\"}, {\"listing_id\": 6606, \"date\": \"2014-12-16T00:00:00\", \"reviewer_id\": 8309687, \"comments\": \"Pictures are old, the place is starting to look a bit rundown. Mattress is stained. Host twice turned off water without notification to check her pipes for leaks - it's nice to be able to flush the toilet and wash your hands after using the bathroom in the morning.\", \"polarity\": 0.4215, \"cleaned_comments\": \"picture old place starting look bit rundown mattress stained host twice turned water without notification check pipe leak nice able flush toilet wash hand using bathroom morning\", \"comments_nouns_adjs\": \"picture old place look rundown mattress host water notification check pipe leak nice able flush toilet wash hand bathroom morning\", \"review_topic\": 2, \"review_topic_interpreted\": \"Host Communication\"}, {\"listing_id\": 6606, \"date\": \"2015-04-21T00:00:00\", \"reviewer_id\": 1271973, \"comments\": \"This was my second booking for the cottage with Joyce.  The first was an extended stay, the second a recent weekend.  The cottage is very comfortable and the garden is lovely on a sunny day.  The bed is extremely comfortable; the fridge is just big enough for everything you need for snacks and beverages for lounging in the garden or a picnic at Gas Works Park a short ways away.  There are a huge range of dining places in walking distance.  A relatively new one and a favorite for me is Bounty on 45th and Stone way--comfortable coffee shop ++ where you can get grilled sandwiches, coffee, beer (including growler fills!) and free movies and popcorn on Friday nights.\\r<br/>\\r<br/>Contrary to what another previous guest suggested, I found the photos to be an excellent reflection of the space.  It was very clean, comfortable, and well appointed for everything I needed.  Joyce is great--helpful and extremely warm and friendly but not at all obtrusive.\\r<br/>\\r<br/>Highly recommend the central location, this space, and Joyce as a terrific host if you are planning a trip to Seattle!\", \"polarity\": 0.9812, \"cleaned_comments\": \"second booking cottage joyce first extended second recent weekend cottage comfortable garden lovely sunny day bed extremely comfortable fridge big enough everything need snack beverage lounging garden picnic gas work park short way away huge range dining place walking distance relatively new one favorite bounty 45th stone way comfortable coffee shop get grilled sandwich coffee beer including growler fill free movie popcorn friday night contrary another previous guest suggested found photo excellent reflection space clean comfortable well appointed everything needed joyce great helpful extremely warm friendly obtrusive highly recommend central location space joyce terrific host planning trip seattle\", \"comments_nouns_adjs\": \"second booking cottage joyce second recent weekend cottage comfortable garden sunny day comfortable fridge big everything beverage garden picnic gas work park short way huge range place distance new favorite bounty stone way comfortable coffee shop sandwich coffee beer growler fill free movie friday night contrary previous guest found photo excellent reflection space clean comfortable everything joyce great helpful warm obtrusive recommend central location space joyce terrific host planning trip seattle\", \"review_topic\": 0, \"review_topic_interpreted\": \"Neighborhood Overall\"}, {\"listing_id\": 6606, \"date\": \"2015-05-31T00:00:00\", \"reviewer_id\": 31376147, \"comments\": \"Joyce was out of town when we got there but  made sure everything was ready for us.   The place was cozy and beautiful.  The garden was certainly a highlight, we enjoyed eating outside, and hanging out in the hot tub. Awesome neighborhood!  When she got there she was super helpful, also her dog, Cleo, is awesome!\\r<br/>\\r<br/>\\r<br/>Some things to note before your stay.  Not necessarily cons, but things you may want to anticipate:\\r<br/>\\r<br/>1) The internet wasn't great, but when Joyce rebooted it, it was much better.  But then the next day went back to being less than great.  Joyce also offered up her basement for us to use since it had better internet.\\r<br/>\\r<br/>2) The toilet is straight up in the shower, and the shower is straight up in the kitchen, which was not to my liking really, but I get grossed out kind of easily.  It was plenty clean, it just weirded me out.  \\r<br/>\\r<br/>3) It's quite small.  This was great for me and my sister since we grew up in a tiny room together, but I wouldn't want to be there with a romantic partner, especially not a smelly one.\", \"polarity\": 0.9943, \"cleaned_comments\": \"joyce town got made sure everything ready place cozy beautiful garden certainly highlight enjoyed eating outside hanging hot tub awesome neighborhood got super helpful dog cleo awesome thing note necessarily con thing may want anticipate 1 internet great joyce rebooted much better next day went back le great joyce offered basement use better internet 2 toilet straight shower shower straight kitchen liking really get grossed kind easily plenty clean weirded 3 quite small great sister grew tiny room together want romantic partner especially smelly one\", \"comments_nouns_adjs\": \"joyce town sure everything ready place cozy beautiful garden outside hot tub awesome neighborhood super helpful dog awesome thing note con thing anticipate internet great joyce better next day le great joyce basement use internet toilet shower shower straight kitchen grossed kind plenty clean small great sister tiny room want romantic partner\", \"review_topic\": 0, \"review_topic_interpreted\": \"Neighborhood Overall\"}, {\"listing_id\": 6606, \"date\": \"2015-06-22T00:00:00\", \"reviewer_id\": 16767993, \"comments\": \"We had a very nice stay in Joyce's quaint and cozy cottage. Very comfortable and great location, wonderful garden and easy street parking. Would highly recommend for a single or intimate couple. \", \"polarity\": 0.9659, \"cleaned_comments\": \"nice joyce quaint cozy cottage comfortable great location wonderful garden easy street parking highly recommend single intimate couple\", \"comments_nouns_adjs\": \"nice joyce quaint cozy cottage comfortable great location wonderful garden easy street recommend single intimate couple\", \"review_topic\": 0, \"review_topic_interpreted\": \"Neighborhood Overall\"}, {\"listing_id\": 6606, \"date\": \"2015-06-27T00:00:00\", \"reviewer_id\": 15737413, \"comments\": \"Joyce's spot is amazing!  I stayed there just under a week and it was perfect for me.  The spot is small but she makes that clear and for the price and location it's unbeatable!  Can't wait to book again\", \"polarity\": 0.8287, \"cleaned_comments\": \"joyce spot amazing stayed week perfect spot small make clear price location unbeatable wait book\", \"comments_nouns_adjs\": \"joyce spot week perfect spot small clear price location unbeatable wait book\", \"review_topic\": 1, \"review_topic_interpreted\": \"Location Convenience\"}, {\"listing_id\": 6606, \"date\": \"2015-07-01T00:00:00\", \"reviewer_id\": 15980634, \"comments\": \"Joyce wasn't at the cottage for our arrival, but her communication prior to our arrival was great.  She even greeted us one morning with delicious, piping hot scones!  The cottage itself was very charming and cozy--perfect for a couple or good friends.  A great place to come home to at the end of a day of exploring, and it was so conveniently located to a number of neighborhoods and also a short walk to the main drag of Wallingford and public transportation.  But if you're looking to cook to save a bit o' cash, I feel that the kitchen is serviceable for only very basic things (coffee, storing leftovers, etc.).  As noted in other reviews, the bathroom and kitchen are one space--didn't bother us too much, but some may not be everyone's cup of tea!  All in all, a cozy, conveniently located spot with a lovely garden in a great neighborhood.  Thanks Joyce!\", \"polarity\": 0.9958, \"cleaned_comments\": \"joyce cottage arrival communication prior arrival great even greeted one morning delicious piping hot scone cottage charming cozy perfect couple good friend great place come home end day exploring conveniently located number neighborhood short walk main drag wallingford public transportation looking cook save bit cash feel kitchen serviceable basic thing coffee storing leftover etc noted review bathroom kitchen one space bother much may everyone cup tea cozy conveniently located spot lovely garden great neighborhood thanks joyce\", \"comments_nouns_adjs\": \"joyce cottage arrival communication arrival great morning delicious hot scone cottage cozy perfect couple good friend great place home end day number neighborhood short walk main drag wallingford public transportation cook bit cash feel kitchen serviceable basic thing coffee leftover review bathroom space much everyone tea cozy spot garden great neighborhood thanks joyce\", \"review_topic\": 0, \"review_topic_interpreted\": \"Neighborhood Overall\"}, {\"listing_id\": 6606, \"date\": \"2015-07-10T00:00:00\", \"reviewer_id\": 28968121, \"comments\": \"Joyce is a wonderful, kind, thoughtful and the warmest host I have met on AirBnB. She is very understanding and very accommodating. She gave us all the necessities and then some (yummy warm breakfast scones!). She was very responsive to our needs. \", \"polarity\": 0.9467, \"cleaned_comments\": \"joyce wonderful kind thoughtful warmest host met airbnb understanding accommodating gave necessity yummy warm breakfast scone responsive need\", \"comments_nouns_adjs\": \"joyce wonderful kind thoughtful warmest host airbnb necessity yummy warm breakfast scone responsive need\", \"review_topic\": 2, \"review_topic_interpreted\": \"Host Communication\"}, {\"listing_id\": 6606, \"date\": \"2015-07-15T00:00:00\", \"reviewer_id\": 7108244, \"comments\": \"Joyce's cottage was great and a great deal. Very cute and perfect for a single person traveling alone or two people who don't mind the lack of door on the bathroom. As previous commenters have noted, the toilet is indeed inside the shower, and the whole bathroom sits inside the kitchen...but everything you need is there and works perfectly. The outdoor space is a really nice perk, too. \\r<br/>\\r<br/>The cottage is closer to Wallingford than Fremont but easily accessible to all the tourist sites by bus (schedules and bus stops are easily findable on the Google Maps app on your smartphone). The Burke-Gilman bike path is nearby and Green Lake is also beautiful and within walking distance. \\r<br/>\\r<br/>The kitchen isn't really made for cooking but is perfect for leftovers, picnics and morning coffee. The internet/wifi was spotty and intermittent - worked better to power the tv than it did my phone - but I also didn't bother to reach out to Joyce to ask her to reset the modem so it's possible it would've worked better if I had. AT&T got fine service though so it worked out fine for me. \\r<br/>\\r<br/>The photos in the listing are accurate or maybe even undersell the place, since it's a quite nice place to stay and is very charmingly put together given the space constraints. I'd happily stay there again. \", \"polarity\": 0.9955, \"cleaned_comments\": \"joyce cottage great great deal cute perfect single person traveling alone two people mind lack door bathroom previous commenters noted toilet indeed inside shower whole bathroom sits inside kitchen everything need work perfectly outdoor space really nice perk cottage closer wallingford fremont easily accessible tourist site bus schedule bus stop easily findable google map app smartphone burke gilman bike path nearby green lake beautiful walking distance kitchen really made cooking perfect leftover picnic morning coffee internet wifi spotty intermittent worked better power tv phone bother reach joyce ask reset modem possible worked better got fine service though worked fine photo listing accurate maybe even undersell place quite nice place charmingly put together given space constraint happily\", \"comments_nouns_adjs\": \"joyce cottage great great deal cute single person people lack door bathroom previous commenters toilet shower whole bathroom sits kitchen everything work outdoor space nice perk cottage closer wallingford accessible tourist site bus schedule bus findable google map smartphone burke gilman path green lake beautiful distance kitchen perfect leftover picnic morning coffee internet wifi spotty intermittent better power tv phone bother reach joyce ask reset modem possible fine service worked fine photo accurate undersell place nice place space constraint\", \"review_topic\": 0, \"review_topic_interpreted\": \"Neighborhood Overall\"}, {\"listing_id\": 6606, \"date\": \"2015-07-22T00:00:00\", \"reviewer_id\": 33503384, \"comments\": \"Joyce was awesome.  She was so friendly and hospitable.  Everything was clean and prepared for us. She had a plenty of Seattle information available for us to check out (magazines , maps etc.) .  The neighborhood is  residential and quite. But, it is a hop, skip , and a jump away from EVERYTHING; restaurants/bars, cafes,grocery store, drug store, shops! I left my art supplies at home. My fingers got restless for my sketch pad. All I had to do was get on a bus and ride for 5 minutes. It was so awesome I walked back to the cottage. I liken it to Wicker Park in Chicago.  \\r<br/>\\r<br/>We did some touristy stuff and didn't have a car. We used Lyft and  from where we were located and depending on the time of day (traffic can be nuts) the rides cost  between $7-$25. The location is pretty central to even the touristy places \", \"polarity\": 0.9602, \"cleaned_comments\": \"joyce awesome friendly hospitable everything clean prepared plenty seattle information available check magazine map etc neighborhood residential quite hop skip jump away everything restaurant bar cafe grocery store drug store shop left art supply home finger got restless sketch pad get bus ride 5 minute awesome walked back cottage liken wicker park chicago touristy stuff car used lyft located depending time day traffic nut ride cost 7 25 location pretty central even touristy place\", \"comments_nouns_adjs\": \"joyce hospitable everything clean plenty seattle information available check magazine map neighborhood residential hop skip jump everything restaurant bar cafe grocery store drug store shop supply home finger restless sketch pad minute awesome cottage liken wicker park chicago touristy stuff car depending time day traffic nut ride cost location central touristy place\", \"review_topic\": 0, \"review_topic_interpreted\": \"Neighborhood Overall\"}, {\"listing_id\": 6606, \"date\": \"2015-07-28T00:00:00\", \"reviewer_id\": 34447060, \"comments\": \"Joyce was very pleasent and when I arrived. The cottage is cozy, fit for two. Beautiful backyard.\", \"polarity\": 0.7506, \"cleaned_comments\": \"joyce pleasent arrived cottage cozy fit two beautiful backyard\", \"comments_nouns_adjs\": \"joyce pleasent cottage cozy fit beautiful backyard\", \"review_topic\": 0, \"review_topic_interpreted\": \"Neighborhood Overall\"}, {\"listing_id\": 6606, \"date\": \"2015-08-07T00:00:00\", \"reviewer_id\": 108658, \"comments\": \"Charming cottage in a nice, walkable neighborhood.\", \"polarity\": 0.765, \"cleaned_comments\": \"charming cottage nice walkable neighborhood\", \"comments_nouns_adjs\": \"cottage nice walkable neighborhood\", \"review_topic\": 0, \"review_topic_interpreted\": \"Neighborhood Overall\"}, {\"listing_id\": 6606, \"date\": \"2015-08-12T00:00:00\", \"reviewer_id\": 34225879, \"comments\": \"This was our first time in Seattle and we loved being in proximity (walking distance) to the great restaurants and breweries in Ballard, Fremont & Wallingford. Downtown was a reasonable uber away. The studio was cute and comfy, thanks Joyce!\", \"polarity\": 0.9348, \"cleaned_comments\": \"first time seattle loved proximity walking distance great restaurant brewery ballard fremont wallingford downtown reasonable uber away studio cute comfy thanks joyce\", \"comments_nouns_adjs\": \"first time seattle proximity distance great restaurant brewery ballard fremont wallingford downtown reasonable uber studio cute comfy thanks joyce\", \"review_topic\": 0, \"review_topic_interpreted\": \"Neighborhood Overall\"}, {\"listing_id\": 6606, \"date\": \"2015-08-25T00:00:00\", \"reviewer_id\": 39288092, \"comments\": \"Joyce's place was fantastic! The cottage was clean and slept two comfortably. Plus, you can't beat the location.\", \"polarity\": 0.8553, \"cleaned_comments\": \"joyce place fantastic cottage clean slept two comfortably plus beat location\", \"comments_nouns_adjs\": \"joyce place fantastic cottage clean beat location\", \"review_topic\": 1, \"review_topic_interpreted\": \"Location Convenience\"}, {\"listing_id\": 6606, \"date\": \"2015-09-15T00:00:00\", \"reviewer_id\": 41894012, \"comments\": \"Quaint and quiet little cottage in the heart of one of the nicest neighborhoods in Seattle. We were visiting for three days and couldn't have asked for a more homey feeling in our stay. Joyce has set up a place for guests that she would stay in herself and the personal touches were evident. The price was great as well. \", \"polarity\": 0.8801, \"cleaned_comments\": \"quaint quiet little cottage heart one nicest neighborhood seattle visiting three day asked homey feeling joyce set place guest personal touch evident price great well\", \"comments_nouns_adjs\": \"quaint quiet little cottage heart nicest neighborhood seattle day homey feeling joyce place guest personal touch evident price great well\", \"review_topic\": 0, \"review_topic_interpreted\": \"Neighborhood Overall\"}, {\"listing_id\": 6606, \"date\": \"2015-09-21T00:00:00\", \"reviewer_id\": 14608030, \"comments\": \"The Urban Cottage was just as described and in photo's.   The bed was very comfortable, and all the needs for a short stay.   Parking was never a problem, and communication with Joyce was simple.\", \"polarity\": 0.7051, \"cleaned_comments\": \"urban cottage described photo bed comfortable need short parking never problem communication joyce simple\", \"comments_nouns_adjs\": \"urban cottage photo bed comfortable need short parking problem communication joyce simple\", \"review_topic\": 3, \"review_topic_interpreted\": \"Housing Experience\"}, {\"listing_id\": 6606, \"date\": \"2015-09-30T00:00:00\", \"reviewer_id\": 40308378, \"comments\": \"The neighborhood is beautiful and a perfect location for us. The photos and description were completely accurate and representative of the cottage space.  \", \"polarity\": 0.8225, \"cleaned_comments\": \"neighborhood beautiful perfect location photo description completely accurate representative cottage space\", \"comments_nouns_adjs\": \"neighborhood beautiful perfect location photo description accurate representative cottage space\", \"review_topic\": 1, \"review_topic_interpreted\": \"Location Convenience\"}, {\"listing_id\": 6606, \"date\": \"2015-11-22T00:00:00\", \"reviewer_id\": 46672070, \"comments\": \"The cottage is an adorable little place, equipped with all of the essentials and even some toiletries in case you forgot your own.  Joyce is the sweetest hostess \\u2013 she even had champagne and snacks waiting for us upon arrival since we were celebrating our honeymoon.  The location was great, walking distance to some fun neighborhoods, and a short uber ride to downtown.  We were only there for two short days, but felt that we had a more local experience of living in Seattle in the little cottage!\", \"polarity\": 0.8419, \"cleaned_comments\": \"cottage adorable little place equipped essential even toiletry case forgot joyce sweetest hostess even champagne snack waiting upon arrival celebrating honeymoon location great walking distance fun neighborhood short uber ride downtown two short day felt local experience living seattle little cottage\", \"comments_nouns_adjs\": \"cottage adorable little place essential case joyce sweetest hostess snack arrival honeymoon location great distance fun neighborhood short uber downtown short day local experience seattle little cottage\", \"review_topic\": 0, \"review_topic_interpreted\": \"Neighborhood Overall\"}, {\"listing_id\": 6606, \"date\": \"2015-11-29T00:00:00\", \"reviewer_id\": 8136995, \"comments\": \"The apartment was as expected. Clean, cozy. I appreciated that Joyce had left out biscotti, hot chocolate, pop corn... a very nice touch!\", \"polarity\": 0.855, \"cleaned_comments\": \"apartment expected clean cozy appreciated joyce left biscotti hot chocolate pop corn nice touch\", \"comments_nouns_adjs\": \"apartment clean cozy joyce biscotti hot chocolate pop corn nice touch\", \"review_topic\": 3, \"review_topic_interpreted\": \"Housing Experience\"}, {\"listing_id\": 6606, \"date\": \"2015-12-28T00:00:00\", \"reviewer_id\": 11235013, \"comments\": \"We had a great experience at Joyce's urban cottage. It's small, but very cozy and suited us and our dog well while we were visiting family for Christmas. Highly recommended!\", \"polarity\": 0.7982, \"cleaned_comments\": \"great experience joyce urban cottage small cozy suited dog well visiting family christmas highly recommended\", \"comments_nouns_adjs\": \"great experience joyce urban cottage small cozy family christmas\", \"review_topic\": 0, \"review_topic_interpreted\": \"Neighborhood Overall\"}, {\"listing_id\": 6606, \"date\": \"2016-01-02T00:00:00\", \"reviewer_id\": 23581473, \"comments\": \"Arrival at Joyce's was really easy. The place was tucked away in her backyard and was small, cozy, clean and certainly unique. Great location in the neighborhood, just a 5-10 minute walk to coffee and bars with plenty of available parking out front. Very unique kitchen & bathroom!  \", \"polarity\": 0.9133, \"cleaned_comments\": \"arrival joyce really easy place tucked away backyard small cozy clean certainly unique great location neighborhood 5 10 minute walk coffee bar plenty available parking front unique kitchen bathroom\", \"comments_nouns_adjs\": \"arrival joyce easy place small cozy clean unique great location minute walk coffee bar plenty available front unique kitchen bathroom\", \"review_topic\": 0, \"review_topic_interpreted\": \"Neighborhood Overall\"}, {\"listing_id\": 6606, \"date\": \"2016-04-07T00:00:00\", \"reviewer_id\": 189346, \"comments\": \"We had a great time staying here. The space is comfortable and private, and Joyce is a lovely host.\", \"polarity\": 0.9042, \"cleaned_comments\": \"great time staying space comfortable private joyce lovely host\", \"comments_nouns_adjs\": \"great time space comfortable private joyce host\", \"review_topic\": 2, \"review_topic_interpreted\": \"Host Communication\"}, {\"listing_id\": 6606, \"date\": \"2016-04-19T00:00:00\", \"reviewer_id\": 58730170, \"comments\": \"The cottage was incredible and so was our host Joyce. She gave us scones the morning after our arrival and there were fresh flowers in the cottage, which smelled wonderful. The bed was comfortable and the whole cottage clean. I would definitely recommend staying there. It was an amazing experience.\", \"polarity\": 0.9638, \"cleaned_comments\": \"cottage incredible host joyce gave scone morning arrival fresh flower cottage smelled wonderful bed comfortable whole cottage clean definitely recommend staying amazing experience\", \"comments_nouns_adjs\": \"cottage incredible host joyce scone morning arrival fresh flower cottage wonderful bed comfortable whole cottage clean amazing experience\", \"review_topic\": 2, \"review_topic_interpreted\": \"Host Communication\"}, {\"listing_id\": 6606, \"date\": \"2016-04-24T00:00:00\", \"reviewer_id\": 29689514, \"comments\": \"We arrived in the middle of the night and the cottage was ready for us. It was easy to find it with Joyce's directions. She had also prepared some maps for us and listed her favourite restaurants and we used both tools and were not disappointed.  The location was perfect and we could take a leisure walk to downtown - we were very close to very cool, affordable food, coffee and drinks and even a few blocks away from a live music venue! The cottage was well stocked and clean and had plenty of instructions, it was a very enjoyable stay!\", \"polarity\": 0.9675, \"cleaned_comments\": \"arrived middle night cottage ready easy find joyce direction prepared map listed favourite restaurant used tool disappointed location perfect could take leisure walk downtown close cool affordable food coffee drink even block away live music venue cottage well stocked clean plenty instruction enjoyable\", \"comments_nouns_adjs\": \"middle night cottage ready easy joyce direction favourite restaurant tool disappointed location perfect leisure cool affordable food coffee live music venue cottage stocked clean plenty instruction enjoyable\", \"review_topic\": 0, \"review_topic_interpreted\": \"Neighborhood Overall\"}, {\"listing_id\": 6606, \"date\": \"2016-05-04T00:00:00\", \"reviewer_id\": 67311536, \"comments\": \"Great, cozy place surrounded by a beautiful, zen garden.  It reminded me of a cozy hut in Belize wrapped up in a cute Seattle home.  The area was quiet and centrally located as Joyce mentions.  Lastly, Joyce was wonderful and helpful.  \", \"polarity\": 0.9552, \"cleaned_comments\": \"great cozy place surrounded beautiful zen garden reminded cozy hut belize wrapped cute seattle home area quiet centrally located joyce mention lastly joyce wonderful helpful\", \"comments_nouns_adjs\": \"great cozy place beautiful zen garden cozy hut belize cute seattle home area quiet joyce mention wonderful helpful\", \"review_topic\": 0, \"review_topic_interpreted\": \"Neighborhood Overall\"}, {\"listing_id\": 6606, \"date\": \"2016-05-08T00:00:00\", \"reviewer_id\": 48803117, \"comments\": \"I had an amazing stay at the garden cottage. The location was perfect for what I was to town for - close to restaurants, shops, and parks. The garden was lovely and the weather was perfect for sitting outside and enjoying a cup of coffee and watching the hummingbirds flying around. The bed was comfortable and the snacks are a nice touch. I knew I wasn't going to be around too much, so I just needed a really just needed place to sleep, so I didn't get a chance to watch TV or use the hot tub. But this place was beyond what I expected for sure.\", \"polarity\": 0.9771, \"cleaned_comments\": \"amazing garden cottage location perfect town close restaurant shop park garden lovely weather perfect sitting outside enjoying cup coffee watching hummingbird flying around bed comfortable snack nice touch knew going around much needed really needed place sleep get chance watch tv use hot tub place beyond expected sure\", \"comments_nouns_adjs\": \"garden cottage location town close restaurant shop park garden weather perfect outside cup coffee hummingbird comfortable snack nice touch needed place sleep get chance watch tv use hot tub place sure\", \"review_topic\": 0, \"review_topic_interpreted\": \"Neighborhood Overall\"}, {\"listing_id\": 6606, \"date\": \"2016-06-05T00:00:00\", \"reviewer_id\": 6466328, \"comments\": \"Very sweet little backyard cotta7\", \"polarity\": 0.5095, \"cleaned_comments\": \"sweet little backyard cotta7\", \"comments_nouns_adjs\": \"sweet little backyard cotta7\", \"review_topic\": 0, \"review_topic_interpreted\": \"Neighborhood Overall\"}, {\"listing_id\": 6606, \"date\": \"2016-06-24T00:00:00\", \"reviewer_id\": 76450494, \"comments\": \"The Urban Cottage is a little gem. We found everything we needed and expected for our stay. The property was exactly as described and located in a very quiet and safe neighborhood. We will hope to stay there again when we visit Seattle in the future. Thanks Joyce!\", \"polarity\": 0.8502, \"cleaned_comments\": \"urban cottage little gem found everything needed expected property exactly described located quiet safe neighborhood hope visit seattle future thanks joyce\", \"comments_nouns_adjs\": \"urban cottage little gem everything property quiet safe neighborhood visit seattle future thanks joyce\", \"review_topic\": 0, \"review_topic_interpreted\": \"Neighborhood Overall\"}, {\"listing_id\": 6606, \"date\": \"2016-06-29T00:00:00\", \"reviewer_id\": 8265319, \"comments\": \"Super cute place.  Had everything I needed.  I could walk anywhere.  Joyce was lovely.  If you want to stay in the area for under $100.00 you can't beat it.\", \"polarity\": 0.9001, \"cleaned_comments\": \"super cute place everything needed could walk anywhere joyce lovely want area 100 00 beat\", \"comments_nouns_adjs\": \"super cute place everything joyce area beat\", \"review_topic\": 0, \"review_topic_interpreted\": \"Neighborhood Overall\"}, {\"listing_id\": 6606, \"date\": \"2016-07-05T00:00:00\", \"reviewer_id\": 9540594, \"comments\": \"Joyce checked in with me before I arrived with great directions for checking in. She left coffee, wine and snacks for us.\\r<br/>The cottage was really cute and thoughtfully appointed. The yard was private and comfortable. We had a great time.\", \"polarity\": 0.9569, \"cleaned_comments\": \"joyce checked arrived great direction checking left coffee wine snack cottage really cute thoughtfully appointed yard private comfortable great time\", \"comments_nouns_adjs\": \"joyce arrived great direction checking coffee wine snack cottage cute private comfortable great time\", \"review_topic\": 0, \"review_topic_interpreted\": \"Neighborhood Overall\"}, {\"listing_id\": 6606, \"date\": \"2016-07-10T00:00:00\", \"reviewer_id\": 58581831, \"comments\": \"The cottage was in a quiet neighborhood with many shops and restaurants within walking distance (about 0.5 mile away) and bus stops nearby. The photos of the cottage painted an accurate picture of the place. The shower/bathroom combo in the same room as the kitchen was a bit awkward at times, since the person using the shower or toilet was shielded from view by anyone in the kitchen via a clear shower curtain.\\u00a0 However, it was a quaint homey place with a cheery hospitable host and friendly puppy. We enjoyed our stay there!\", \"polarity\": 0.8955, \"cleaned_comments\": \"cottage quiet neighborhood many shop restaurant walking distance 0 5 mile away bus stop nearby photo cottage painted accurate picture place shower bathroom combo room kitchen bit awkward time person using shower toilet shielded view anyone kitchen via clear shower curtain however quaint homey place cheery hospitable host friendly puppy enjoyed\", \"comments_nouns_adjs\": \"cottage quiet neighborhood many shop restaurant distance mile bus stop photo cottage accurate picture place shower bathroom combo room kitchen bit awkward time person shower toilet view anyone kitchen clear shower curtain quaint homey place cheery hospitable host friendly puppy enjoyed\", \"review_topic\": 0, \"review_topic_interpreted\": \"Neighborhood Overall\"}, {\"listing_id\": 6606, \"date\": \"2016-07-16T00:00:00\", \"reviewer_id\": 16403357, \"comments\": \"Joyce's urban cottage was perfect for me and my boyfriend. When we arrived, the cottage was stocked with wine, cookies, fruit, and various other food items. We were provided with everything we needed for a comfortable stay. The toilet and shower are fairly open and directly off the kitchen, so if you're traveling with a companion, note that you're going to be up close and personal. It's a small, cozy space, and Joyce has definitely made the most of it! The location was great\\u2014about a fifteen-minute walk to the Fremont Troll and Gas Works Park, and a quick Uber ride everywhere else. There's also a bodega down the street and a 7-11 within walking distance. We met Joyce and her dog Cleo, and they were both welcoming and happy to share their home and neighborhood. Joyce was communicative, friendly, and very helpful. This is a beautiful little place, hidden away in Joyce's lovely garden. Highly recommended!\\r<br/>\", \"polarity\": 0.9874, \"cleaned_comments\": \"joyce urban cottage perfect boyfriend arrived cottage stocked wine cooky fruit various food item provided everything needed comfortable toilet shower fairly open directly kitchen traveling companion note going close personal small cozy space joyce definitely made location great fifteen minute walk fremont troll gas work park quick uber ride everywhere else bodega street 7 11 walking distance met joyce dog cleo welcoming happy share home neighborhood joyce communicative friendly helpful beautiful little place hidden away joyce lovely garden highly recommended\", \"comments_nouns_adjs\": \"joyce urban cottage perfect boyfriend cottage wine cooky fruit various food item everything comfortable toilet shower open companion note close personal small cozy space joyce location great fifteen minute walk fremont troll gas work park quick uber ride bodega street distance joyce dog cleo happy share home neighborhood joyce communicative helpful beautiful little place joyce garden\", \"review_topic\": 0, \"review_topic_interpreted\": \"Neighborhood Overall\"}, {\"listing_id\": 6606, \"date\": \"2016-07-18T00:00:00\", \"reviewer_id\": 2842305, \"comments\": \"Joyce was out of town while we were there, but she checked in via text and left us with all the information and help we could have asked for!  The cottage was a little smaller than we expected, but comfortable.  It was an easy walk to excellent restaurants and the Fremont farmer's market Sunday morning!\", \"polarity\": 0.9611, \"cleaned_comments\": \"joyce town checked via text left information help could asked cottage little smaller expected comfortable easy walk excellent restaurant fremont farmer market sunday morning\", \"comments_nouns_adjs\": \"joyce town text information help cottage little smaller comfortable easy walk excellent restaurant fremont farmer market sunday morning\", \"review_topic\": 0, \"review_topic_interpreted\": \"Neighborhood Overall\"}, {\"listing_id\": 6606, \"date\": \"2016-07-22T00:00:00\", \"reviewer_id\": 8328976, \"comments\": \"Joyce's cottage is an adorable cozy space perfect for one! There are a few quirks to the place but I felt very comfortable and Joyce was an attentive host.\", \"polarity\": 0.8635, \"cleaned_comments\": \"joyce cottage adorable cozy space perfect one quirk place felt comfortable joyce attentive host\", \"comments_nouns_adjs\": \"joyce cottage adorable cozy space quirk place comfortable joyce attentive host\", \"review_topic\": 2, \"review_topic_interpreted\": \"Host Communication\"}, {\"listing_id\": 6606, \"date\": \"2016-08-01T00:00:00\", \"reviewer_id\": 82172823, \"comments\": \"The host was polite and offered us fresh plums off the tree in the backyard. The picture of the backyard is true but doesn't convey how very small the converted garage space really is. Guests need to understand that there is no A/C.\", \"polarity\": -0.0644, \"cleaned_comments\": \"host polite offered fresh plum tree backyard picture backyard true convey small converted garage space really guest need understand c\", \"comments_nouns_adjs\": \"host polite fresh plum tree backyard picture backyard true convey small garage space guest need\", \"review_topic\": 2, \"review_topic_interpreted\": \"Host Communication\"}, {\"listing_id\": 6606, \"date\": \"2016-08-07T00:00:00\", \"reviewer_id\": 50378291, \"comments\": \"Joyce was very helpful, and provided us with everything we needed. The space is small but clean and comfortable, and the backyard is lovely\", \"polarity\": 0.9455, \"cleaned_comments\": \"joyce helpful provided everything needed space small clean comfortable backyard lovely\", \"comments_nouns_adjs\": \"joyce helpful everything space small clean comfortable backyard\", \"review_topic\": 3, \"review_topic_interpreted\": \"Housing Experience\"}, {\"listing_id\": 6606, \"date\": \"2016-08-17T00:00:00\", \"reviewer_id\": 57172890, \"comments\": \"Joyce's cottage was perfect for me! It was clean,private and had a great garden area to relax in. The location is excellent and I will definitely reserve this Airbnb the next time I am in Seattle. \", \"polarity\": 0.9545, \"cleaned_comments\": \"joyce cottage perfect clean private great garden area relax location excellent definitely reserve airbnb next time seattle\", \"comments_nouns_adjs\": \"joyce cottage perfect clean private great garden area relax location excellent airbnb next time seattle\", \"review_topic\": 0, \"review_topic_interpreted\": \"Neighborhood Overall\"}, {\"listing_id\": 6606, \"date\": \"2016-08-23T00:00:00\", \"reviewer_id\": 80914819, \"comments\": \"My stay at Joyce's was excellent. She was very accomadating. There was a heat advisory while I was there and she made sure I was comfortable. The neighborhood was safe. The cottage was perfect for me and was advertised accurately. I will definitely book with Joyce on my next trip.\", \"polarity\": 0.9559, \"cleaned_comments\": \"joyce excellent accomadating heat advisory made sure comfortable neighborhood safe cottage perfect advertised accurately definitely book joyce next trip\", \"comments_nouns_adjs\": \"joyce excellent heat advisory sure comfortable neighborhood safe cottage perfect definitely book joyce next trip\", \"review_topic\": 0, \"review_topic_interpreted\": \"Neighborhood Overall\"}, {\"listing_id\": 6606, \"date\": \"2016-08-25T00:00:00\", \"reviewer_id\": 85393702, \"comments\": \"The urban cottage was a great experience! Joyce welcomed us upon arrival and gave us all the info we needed. Location was excellent with easy access to all the areas around Lake Union!\", \"polarity\": 0.9285, \"cleaned_comments\": \"urban cottage great experience joyce welcomed upon arrival gave info needed location excellent easy access area around lake union\", \"comments_nouns_adjs\": \"urban cottage great experience joyce arrival info location excellent easy access area lake union\", \"review_topic\": 1, \"review_topic_interpreted\": \"Location Convenience\"}, {\"listing_id\": 6606, \"date\": \"2016-08-28T00:00:00\", \"reviewer_id\": 28647948, \"comments\": \"We enjoyed our stay at Joyce's cottage. The location was just as described, 15 minutes to mostly everything (about a $10-12 Lyft or Uber ride). Joyce had water, coffee, and fruit waiting for us on arrival. She also made sure to let us know her dogs would be wandering the yard in the event we weren't dog-friendly folks. Thanks again Joyce for everything, we'll definitely keep you in mind for future visits! \", \"polarity\": 0.734, \"cleaned_comments\": \"enjoyed joyce cottage location described 15 minute mostly everything 10 12 lyft uber ride joyce water coffee fruit waiting arrival made sure let know dog wandering yard event dog friendly folk thanks joyce everything definitely keep mind future visit\", \"comments_nouns_adjs\": \"joyce cottage location minute everything lyft uber ride joyce water coffee fruit arrival sure yard event dog friendly folk thanks everything mind future visit\", \"review_topic\": 1, \"review_topic_interpreted\": \"Location Convenience\"}, {\"listing_id\": 6606, \"date\": \"2016-09-12T00:00:00\", \"reviewer_id\": 6494945, \"comments\": \"We had a great stay at the urban cottage. The space was well looked after, and was just right for two people. Joyce was also a very attentive host who was happy to make neighborhood recommendations and make sure we were comfortable. I would be happy to stay here again!\", \"polarity\": 0.9612, \"cleaned_comments\": \"great urban cottage space well looked right two people joyce attentive host happy make neighborhood recommendation make sure comfortable happy\", \"comments_nouns_adjs\": \"great urban cottage space right people attentive host happy neighborhood recommendation sure comfortable happy\", \"review_topic\": 2, \"review_topic_interpreted\": \"Host Communication\"}, {\"listing_id\": 6606, \"date\": \"2016-09-13T00:00:00\", \"reviewer_id\": 94294629, \"comments\": \"The cottage was very nice. Quiet, clean and private space. Perfect for what I needed. Thank you Joyce!\", \"polarity\": 0.9109, \"cleaned_comments\": \"cottage nice quiet clean private space perfect needed thank joyce\", \"comments_nouns_adjs\": \"cottage nice quiet clean private space perfect thank joyce\", \"review_topic\": 3, \"review_topic_interpreted\": \"Housing Experience\"}, {\"listing_id\": 6606, \"date\": \"2016-09-17T00:00:00\", \"reviewer_id\": 31342123, \"comments\": \"We absolutely loved Joyce's cottage. Very cute, clean and cozy! Great location, about a 10 minute drive from downtown. Would definitely recommend! \", \"polarity\": 0.9654, \"cleaned_comments\": \"absolutely loved joyce cottage cute clean cozy great location 10 minute drive downtown definitely recommend\", \"comments_nouns_adjs\": \"joyce cottage cute clean cozy great location minute drive downtown\", \"review_topic\": 3, \"review_topic_interpreted\": \"Housing Experience\"}, {\"listing_id\": 6606, \"date\": \"2016-09-26T00:00:00\", \"reviewer_id\": 37016581, \"comments\": \"The cottage is beyond charming and supremely lovely. Joyce took good care of us and I highly recommend.\", \"polarity\": 0.9647, \"cleaned_comments\": \"cottage beyond charming supremely lovely joyce took good care highly recommend\", \"comments_nouns_adjs\": \"cottage lovely joyce good care\", \"review_topic\": 0, \"review_topic_interpreted\": \"Neighborhood Overall\"}, {\"listing_id\": 6606, \"date\": \"2016-10-02T00:00:00\", \"reviewer_id\": 87266380, \"comments\": \"This place was cozy and clean. We desired a bit more privacy as there were folks walking through the back yard where this converted garage was at one point. However, we loved the local coffee shop and beautiful neighborhood this home was in. We were grateful for the time away!\", \"polarity\": 0.9422, \"cleaned_comments\": \"place cozy clean desired bit privacy folk walking back yard converted garage one point however loved local coffee shop beautiful neighborhood home grateful time away\", \"comments_nouns_adjs\": \"place cozy clean bit privacy folk garage point local coffee shop beautiful neighborhood home grateful time\", \"review_topic\": 0, \"review_topic_interpreted\": \"Neighborhood Overall\"}, {\"listing_id\": 6606, \"date\": \"2016-10-07T00:00:00\", \"reviewer_id\": 7882482, \"comments\": \"Joyce was so welcoming to us and made us feel at home in her cozy backyard cottage. Her cottage was clean and stocked with snacks, coffee and tea and she was quick to respond to any of our questions. We recommend her cottage to anyone looking for a place to stay in Seattle!\", \"polarity\": 0.8494, \"cleaned_comments\": \"joyce welcoming made feel home cozy backyard cottage cottage clean stocked snack coffee tea quick respond question recommend cottage anyone looking place seattle\", \"comments_nouns_adjs\": \"joyce feel home cozy backyard cottage cottage clean snack coffee tea quick respond question cottage anyone place seattle\", \"review_topic\": 0, \"review_topic_interpreted\": \"Neighborhood Overall\"}, {\"listing_id\": 6606, \"date\": \"2016-10-09T00:00:00\", \"reviewer_id\": 11975193, \"comments\": \"Small but nicely appointed. Snacks were a nice touch! Very functional. \", \"polarity\": 0.8335, \"cleaned_comments\": \"small nicely appointed snack nice touch functional\", \"comments_nouns_adjs\": \"small snack nice touch functional\", \"review_topic\": 0, \"review_topic_interpreted\": \"Neighborhood Overall\"}, {\"listing_id\": 6606, \"date\": \"2016-10-18T00:00:00\", \"reviewer_id\": 96655244, \"comments\": \"Joyce was a pleasure to stay with! She made the stay very easy and welcoming & was very helpful with knowledge & must sees. Her cottage was exactly how described & very cozy! Such a great stay, would definitely stay again!\", \"polarity\": 0.9686, \"cleaned_comments\": \"joyce pleasure made easy welcoming helpful knowledge must see cottage exactly described cozy great definitely\", \"comments_nouns_adjs\": \"joyce pleasure easy welcoming helpful knowledge cottage cozy great\", \"review_topic\": 0, \"review_topic_interpreted\": \"Neighborhood Overall\"}, {\"listing_id\": 6606, \"date\": \"2017-05-19T00:00:00\", \"reviewer_id\": 130602310, \"comments\": \"Great calm cottage in a wonderful garden. Close to everything and Joyce was a wonderful host with lots of advice for what to see. \", \"polarity\": 0.93, \"cleaned_comments\": \"great calm cottage wonderful garden close everything joyce wonderful host lot advice see\", \"comments_nouns_adjs\": \"great calm cottage wonderful garden everything joyce wonderful host lot advice see\", \"review_topic\": 2, \"review_topic_interpreted\": \"Host Communication\"}, {\"listing_id\": 6606, \"date\": \"2017-05-28T00:00:00\", \"reviewer_id\": 46860016, \"comments\": \"Joyce's place was in a great location, and she was an awesome host- easy to communicate with, and gave us a lot of great ideas.<br/><br/>However, the cottage is MUCH smaller than pictured or described. The kitchen, bathroom, shower is all together in about a 4-5 foot area. There is no working hot tub - it looks to have been out of commission for quite a while. We tried to turn the air-conditioning on, but there was a cover super glued to the outside where we could turn on / off. The door to the kitchen/bathroom fell off the hinge before we even tried to close it, and wouldn't go back on.<br/><br/>Don't get me wrong, we were hardly in the cottage so it was a fine place for us; however, if you're expecting a semi-spacious area, this is not nearly as big as it looks in pictures. \", \"polarity\": 0.96, \"cleaned_comments\": \"joyce place great location awesome host easy communicate gave lot great idea however cottage much smaller pictured described kitchen bathroom shower together 4 5 foot area working hot tub look commission quite tried turn air conditioning cover super glued outside could turn door kitchen bathroom fell hinge even tried close go back get wrong hardly cottage fine place however expecting semi spacious area nearly big look picture\", \"comments_nouns_adjs\": \"joyce place great location host easy communicate lot great idea much smaller pictured kitchen bathroom shower foot area hot tub commission tried cover super kitchen bathroom close wrong fine place spacious area big look picture\", \"review_topic\": 0, \"review_topic_interpreted\": \"Neighborhood Overall\"}, {\"listing_id\": 6606, \"date\": \"2017-05-31T00:00:00\", \"reviewer_id\": 33463594, \"comments\": \"Really nice house and area of<br/>Town, great host and close to public transportation. It's really easy to<br/>Get on and off the bus to downtown. Nice spot\", \"polarity\": 0.9214, \"cleaned_comments\": \"really nice house area town great host close public transportation really easy get bus downtown nice spot\", \"comments_nouns_adjs\": \"nice house area town great host close public transportation easy bus downtown nice spot\", \"review_topic\": 0, \"review_topic_interpreted\": \"Neighborhood Overall\"}, {\"listing_id\": 6606, \"date\": \"2017-06-05T00:00:00\", \"reviewer_id\": 91283290, \"comments\": \"Joyce's place is so cozy and comfortable. She made us feel very comfortable and outfitted the cottage with amenities, pieces of fruit, and little snacks.  Her backyard is a verdant lively garden with a sweet little table and chairs. Very walkable + central! Would absolutely send friends and family to stay here! \", \"polarity\": 0.9516, \"cleaned_comments\": \"joyce place cozy comfortable made feel comfortable outfitted cottage amenity piece fruit little snack backyard verdant lively garden sweet little table chair walkable central absolutely send friend family\", \"comments_nouns_adjs\": \"joyce place cozy comfortable feel comfortable cottage amenity piece fruit little snack backyard verdant garden sweet little table chair walkable central family\", \"review_topic\": 0, \"review_topic_interpreted\": \"Neighborhood Overall\"}, {\"listing_id\": 6606, \"date\": \"2017-06-10T00:00:00\", \"reviewer_id\": 3374786, \"comments\": \"Great neighborhood with regular buses to various areas of Seattle. Easy access to restaurants and shops in Wallingford and a short walk to Gasworks park. Space was very small, but accommodated us well. \", \"polarity\": 0.7311, \"cleaned_comments\": \"great neighborhood regular bus various area seattle easy access restaurant shop wallingford short walk gasworks park space small accommodated well\", \"comments_nouns_adjs\": \"great neighborhood regular bus various area seattle easy access restaurant shop wallingford short walk gasworks space small\", \"review_topic\": 0, \"review_topic_interpreted\": \"Neighborhood Overall\"}, {\"listing_id\": 6606, \"date\": \"2017-06-13T00:00:00\", \"reviewer_id\": 127897629, \"comments\": \"We had a great stay here in Joyce's little cottage. The neighborhood is beautiful and we were walking distance to lots of great restaurants, parks, coffee shops and the zoo. Only awkward part is the toilet not really having a door and the room being small. \", \"polarity\": 0.91, \"cleaned_comments\": \"great joyce little cottage neighborhood beautiful walking distance lot great restaurant park coffee shop zoo awkward part toilet really door room small\", \"comments_nouns_adjs\": \"great joyce little cottage neighborhood beautiful distance lot great restaurant park coffee shop zoo part toilet door room small\", \"review_topic\": 0, \"review_topic_interpreted\": \"Neighborhood Overall\"}, {\"listing_id\": 6606, \"date\": \"2017-06-23T00:00:00\", \"reviewer_id\": 103473852, \"comments\": \"Joyce was so helpful and worked with us when we needed to check in early. The cottage is centrally located to everything you may want to do to experience Seattle and was such a treat to stay at! \", \"polarity\": 0.785, \"cleaned_comments\": \"joyce helpful worked needed check early cottage centrally located everything may want experience seattle treat\", \"comments_nouns_adjs\": \"joyce helpful check early cottage everything experience seattle treat\", \"review_topic\": 0, \"review_topic_interpreted\": \"Neighborhood Overall\"}, {\"listing_id\": 6606, \"date\": \"2017-06-26T00:00:00\", \"reviewer_id\": 105492371, \"comments\": \"We stayed at Joyce's cabin for 2 nights and it was an all around wonderful mini vacation. It is so cozy, clean, and functional - and the location is perfect! Joyce was very friendly, let us know all the great places to go, and gave us a few cold beers upon arrival which hit the spot on a semi hot day. Thanks for the great stay Joyce!\", \"polarity\": 0.9789, \"cleaned_comments\": \"stayed joyce cabin 2 night around wonderful mini vacation cozy clean functional location perfect joyce friendly let know great place go gave cold beer upon arrival hit spot semi hot day thanks great joyce\", \"comments_nouns_adjs\": \"joyce cabin night wonderful mini vacation cozy clean functional location perfect joyce friendly let great place cold beer arrival spot semi hot day thanks great joyce\", \"review_topic\": 0, \"review_topic_interpreted\": \"Neighborhood Overall\"}, {\"listing_id\": 6606, \"date\": \"2017-07-02T00:00:00\", \"reviewer_id\": 12111753, \"comments\": \"For Wallingford and Fremont, this is Avery good place to stay. Joyce is a good host. \", \"polarity\": 0.7003, \"cleaned_comments\": \"wallingford fremont avery good place joyce good host\", \"comments_nouns_adjs\": \"wallingford fremont good place joyce good host\", \"review_topic\": 2, \"review_topic_interpreted\": \"Host Communication\"}, {\"listing_id\": 6606, \"date\": \"2017-07-09T00:00:00\", \"reviewer_id\": 20488268, \"comments\": \"Good cheap last minute option. The cottage is in a great neighborhood but the interior is lacking. Bathroom was uncomfortable to use and in disrepair. Joyce was a friendly host and we enjoyed her dog Cleo.\", \"polarity\": 0.8705, \"cleaned_comments\": \"good cheap last minute option cottage great neighborhood interior lacking bathroom uncomfortable use disrepair joyce friendly host enjoyed dog cleo\", \"comments_nouns_adjs\": \"good cheap last minute option cottage great neighborhood interior lacking bathroom uncomfortable use disrepair joyce enjoyed dog cleo\", \"review_topic\": 0, \"review_topic_interpreted\": \"Neighborhood Overall\"}, {\"listing_id\": 6606, \"date\": \"2017-07-11T00:00:00\", \"reviewer_id\": 138948772, \"comments\": \"Location is great. Outside area is very pretty and private.\", \"polarity\": 0.8221, \"cleaned_comments\": \"location great outside area pretty private\", \"comments_nouns_adjs\": \"location great outside area private\", \"review_topic\": 1, \"review_topic_interpreted\": \"Location Convenience\"}, {\"listing_id\": 6606, \"date\": \"2017-07-16T00:00:00\", \"reviewer_id\": 63016447, \"comments\": \"Joyce's cottage was great, cozy, serene, and wonderful.  Very easy to communicate and the arrival sequence was simple.  A must stay if you're traveling alone or with a significant other.\", \"polarity\": 0.9299, \"cleaned_comments\": \"joyce cottage great cozy serene wonderful easy communicate arrival sequence simple must traveling alone significant\", \"comments_nouns_adjs\": \"joyce cottage great cozy serene wonderful easy communicate arrival sequence simple significant\", \"review_topic\": 0, \"review_topic_interpreted\": \"Neighborhood Overall\"}, {\"listing_id\": 6606, \"date\": \"2017-07-20T00:00:00\", \"reviewer_id\": 7658464, \"comments\": \"My stay at Joyce's place was great! It's in a nice central location (with easy walk) between Green Lake, Fremont, Gasworks Park, and the university, and the bus stop is right near her place! As others mentioned, the cottage is small, but it met my needs as a business traveler who leaves a small footprint (and likes adventure). She has a couple of Airbnb's here, so make sure you go to the right one (each is named). I would stay again, especially if I was on a budget.\", \"polarity\": 0.9091, \"cleaned_comments\": \"joyce place great nice central location easy walk green lake fremont gasworks park university bus stop right near place others mentioned cottage small met need business traveler leaf small footprint like adventure couple airbnb make sure go right one named especially budget\", \"comments_nouns_adjs\": \"joyce place great nice central location easy walk green lake fremont gasworks university bus right place others small met business traveler leaf small footprint adventure couple airbnb sure right budget\", \"review_topic\": 0, \"review_topic_interpreted\": \"Neighborhood Overall\"}, {\"listing_id\": 6606, \"date\": \"2017-07-22T00:00:00\", \"reviewer_id\": 46625100, \"comments\": \"Imaginative and efficient use of space!  We had a lovely 3 1/2 mile walk along the river to the Pike Place market. Very nice residential neighborhood with great restaurants and at least one great bar nearby.  Not roomy, but meets every need.\", \"polarity\": 0.867, \"cleaned_comments\": \"imaginative efficient use space lovely 3 1 2 mile walk along river pike place market nice residential neighborhood great restaurant least one great bar nearby roomy meet every need\", \"comments_nouns_adjs\": \"imaginative efficient use space mile walk river place market nice residential neighborhood great restaurant least great bar nearby roomy meet need\", \"review_topic\": 0, \"review_topic_interpreted\": \"Neighborhood Overall\"}, {\"listing_id\": 6606, \"date\": \"2017-08-07T00:00:00\", \"reviewer_id\": 68179569, \"comments\": \"What a lovely little cottage! My friend and I had a wonderful time staying here. We walked to Gasworks park and to the downtown area of Fremont. Joyce's place is fully equipped and accomplishes comfort in small space. It was quite hot during our stay but the fans were so helpful we didn't even have to run the air during this crazy once in a blue moon heat wave. Her bed is soooooo comfortable! Would definitely be back here the next time I come to Seattle.\", \"polarity\": 0.9603, \"cleaned_comments\": \"lovely little cottage friend wonderful time staying walked gasworks park downtown area fremont joyce place fully equipped accomplishes comfort small space quite hot fan helpful even run air crazy blue moon heat wave bed soooooo comfortable definitely back next time come seattle\", \"comments_nouns_adjs\": \"little cottage friend wonderful time gasworks downtown area fremont joyce place accomplishes small space hot fan helpful air crazy blue moon heat soooooo comfortable next time seattle\", \"review_topic\": 0, \"review_topic_interpreted\": \"Neighborhood Overall\"}, {\"listing_id\": 6606, \"date\": \"2017-08-10T00:00:00\", \"reviewer_id\": 60537980, \"comments\": \"Joyce's cottage is cozy, comfortable, and clean! In fact, I don't think the pictures do the adorable space justice! It has a well appointed kitchen, natural light, and AC if needed. We stayed here for three nights during a visit to Seattle and surrounding areas, and we really loved it. It is close to a lot of good restaurants, a beautiful lake (Green Lake), cafes, and downtown. Definitely recommend!\", \"polarity\": 0.9864, \"cleaned_comments\": \"joyce cottage cozy comfortable clean fact think picture adorable space justice well appointed kitchen natural light ac needed stayed three night visit seattle surrounding area really loved close lot good restaurant beautiful lake green lake cafe downtown definitely recommend\", \"comments_nouns_adjs\": \"joyce cottage cozy comfortable clean fact picture adorable space justice kitchen natural light ac stayed night visit seattle area lot good restaurant beautiful lake green lake cafe downtown\", \"review_topic\": 0, \"review_topic_interpreted\": \"Neighborhood Overall\"}, {\"listing_id\": 6606, \"date\": \"2017-08-16T00:00:00\", \"reviewer_id\": 25854145, \"comments\": \"Great value and wonderful location!  Joyce was great, very easy to get in touch with and really helpful. The place is very small but does have everything you would need.  Loved the bed and quiet neighborhood.  Caught up on my sleep!  The only thing I had a hard time with is the combined toilet and shower area.  I have a bad back and can't bend very well.  The toilet is small, low and the seat moves around.  Not ideal if you have any physical limitations.  Other than that, comfy and easy to get pretty much anywhere.  Make sure to meet Cleo, she's a sweetie.\", \"polarity\": 0.9631, \"cleaned_comments\": \"great value wonderful location joyce great easy get touch really helpful place small everything need loved bed quiet neighborhood caught sleep thing hard time combined toilet shower area bad back bend well toilet small low seat move around ideal physical limitation comfy easy get pretty much anywhere make sure meet cleo sweetie\", \"comments_nouns_adjs\": \"great value wonderful location joyce great easy touch helpful place small everything need bed quiet neighborhood sleep thing hard time toilet shower area bad small low seat move ideal physical limitation comfy easy much sure meet cleo sweetie\", \"review_topic\": 0, \"review_topic_interpreted\": \"Neighborhood Overall\"}, {\"listing_id\": 6606, \"date\": \"2017-08-18T00:00:00\", \"reviewer_id\": 52869998, \"comments\": \"A great value and absolutely fantastic location. We were easily able to walk to some of the best and most fun neighborhoods in the city. The cottage was clean and well kept, and just enough space for two people on a short vacation. If we had been staying longer the tiny kitchen area and camper-style bathroom/shower combo might have eventually felt too small, but for our 3 day trip was just right. Overall, everything was as we expected from other reviews and we would consider staying here again on our next visit.\", \"polarity\": 0.9134, \"cleaned_comments\": \"great value absolutely fantastic location easily able walk best fun neighborhood city cottage clean well kept enough space two people short vacation staying longer tiny kitchen area camper style bathroom shower combo might eventually felt small 3 day trip right overall everything expected review consider staying next visit\", \"comments_nouns_adjs\": \"great value fantastic location able walk best fun neighborhood city cottage clean enough space people short vacation longer tiny kitchen area camper style bathroom shower combo small day trip everything review next visit\", \"review_topic\": 0, \"review_topic_interpreted\": \"Neighborhood Overall\"}, {\"listing_id\": 6606, \"date\": \"2017-08-23T00:00:00\", \"reviewer_id\": 34545030, \"comments\": \"Joyce's cottage was cozy and comfortable. The kitchenette, though small, was impressively stocked with ground coffee, a French press, a mini-fridge with a water filter pitcher, microwave (which we didn't use), and fresh fruit.<br/><br/>The bed was very comfortable and the sheets and blankets seemed quite clean. There was a TV which we didn't use, and a nice window fan.<br/><br/>We loved staying in Joyce's cottage during our stay in Seattle, and would recommend it for travelers looking for a homey feel in the Wallingford area.\", \"polarity\": 0.9403, \"cleaned_comments\": \"joyce cottage cozy comfortable kitchenette though small impressively stocked ground coffee french press mini fridge water filter pitcher microwave use fresh fruit bed comfortable sheet blanket seemed quite clean tv use nice window fan loved staying joyce cottage seattle recommend traveler looking homey feel wallingford area\", \"comments_nouns_adjs\": \"joyce cottage cozy comfortable kitchenette small ground coffee french press mini fridge water filter pitcher microwave use fresh fruit comfortable sheet blanket quite clean tv use nice window fan joyce cottage seattle recommend traveler homey feel wallingford area\", \"review_topic\": 3, \"review_topic_interpreted\": \"Housing Experience\"}, {\"listing_id\": 6606, \"date\": \"2017-09-05T00:00:00\", \"reviewer_id\": 39509300, \"comments\": \"The cottage at Joyce's place is lovely. Tucked behind her house its quiet and has a beautiful outdoor area. The cottage is small but has everything you need in terms of amenities and is perfect for couples.\", \"polarity\": 0.872, \"cleaned_comments\": \"cottage joyce place lovely tucked behind house quiet beautiful outdoor area cottage small everything need term amenity perfect couple\", \"comments_nouns_adjs\": \"cottage joyce place house quiet beautiful outdoor area cottage small everything need term amenity couple\", \"review_topic\": 0, \"review_topic_interpreted\": \"Neighborhood Overall\"}, {\"listing_id\": 6606, \"date\": \"2017-09-15T00:00:00\", \"reviewer_id\": 4052448, \"comments\": \"The cottage was the perfect place to stay for a quick business trip in the area!\", \"polarity\": 0.6114, \"cleaned_comments\": \"cottage perfect place quick business trip area\", \"comments_nouns_adjs\": \"cottage perfect place quick business trip area\", \"review_topic\": 0, \"review_topic_interpreted\": \"Neighborhood Overall\"}, {\"listing_id\": 6606, \"date\": \"2017-09-18T00:00:00\", \"reviewer_id\": 34539709, \"comments\": \"Location was fine and size of space was not a problem.  However, everything felt like it needed to be touched very carefully and things felt jury rigged, especially the toilet in the shower.  The toilet seat came off even after putting it back on properly it came off again.  Shelves in kitchen fell and almost broke all the dishes.  I wouldn't book if you aren't ready to walk on eggshells.\", \"polarity\": 0.0603, \"cleaned_comments\": \"location fine size space problem however everything felt like needed touched carefully thing felt jury rigged especially toilet shower toilet seat came even putting back properly came shelf kitchen fell almost broke dish book ready walk eggshell\", \"comments_nouns_adjs\": \"location fine size space problem everything felt thing jury shower toilet seat kitchen dish book ready walk eggshell\", \"review_topic\": 1, \"review_topic_interpreted\": \"Location Convenience\"}, {\"listing_id\": 6606, \"date\": \"2017-09-27T00:00:00\", \"reviewer_id\": 27917460, \"comments\": \"The pros: Joyce quickly responses to issues, she's very nice, the garden is beautiful, and the location is *excellent*<br/><br/>The cons: wifi didnt work for us (though Joyce made efforts to work with us on this), the toilet seat wasnt working when we were there, it bares repeating that the toilet and shower share a space (although Joyce did include a photo of this in the profile)\", \"polarity\": 0.8479, \"cleaned_comments\": \"pro joyce quickly response issue nice garden beautiful location excellent con wifi didnt work though joyce made effort work toilet seat wasnt working bares repeating toilet shower share space although joyce include photo profile\", \"comments_nouns_adjs\": \"pro response issue nice garden beautiful location excellent con wifi didnt work joyce effort work toilet seat wasnt bares toilet shower share space joyce photo profile\", \"review_topic\": 1, \"review_topic_interpreted\": \"Location Convenience\"}, {\"listing_id\": 6606, \"date\": \"2017-10-10T00:00:00\", \"reviewer_id\": 54232879, \"comments\": \"This was in such a great location! It was within walking distance to a lot of cool things to do. Joyce shared recommendations and helped us shape our itinerary for the day, which was greatly appreciated!\", \"polarity\": 0.9182, \"cleaned_comments\": \"great location walking distance lot cool thing joyce shared recommendation helped shape itinerary day greatly appreciated\", \"comments_nouns_adjs\": \"great location distance lot cool thing joyce recommendation itinerary day\", \"review_topic\": 1, \"review_topic_interpreted\": \"Location Convenience\"}, {\"listing_id\": 6606, \"date\": \"2017-11-12T00:00:00\", \"reviewer_id\": 42045429, \"comments\": \"The location is ideal for exploring the Ballard area.  Close  to so much, yet peaceful and quiet.  Fun little hideaway in the city.\", \"polarity\": 0.8797, \"cleaned_comments\": \"location ideal exploring ballard area close much yet peaceful quiet fun little hideaway city\", \"comments_nouns_adjs\": \"location ideal area much peaceful quiet fun little hideaway city\", \"review_topic\": 1, \"review_topic_interpreted\": \"Location Convenience\"}, {\"listing_id\": 6606, \"date\": \"2018-05-06T00:00:00\", \"reviewer_id\": 80517504, \"comments\": \"This cottage was perfect for our needs. Nestled into a beautiful backyard garden in historic Wallingford, it was a bright and airy place to stay with exactly what we needed - plus snacks! Thanks, Joyce!\", \"polarity\": 0.9323, \"cleaned_comments\": \"cottage perfect need nestled beautiful backyard garden historic wallingford bright airy place exactly needed plus snack thanks joyce\", \"comments_nouns_adjs\": \"cottage perfect need beautiful garden historic wallingford airy place snack thanks joyce\", \"review_topic\": 0, \"review_topic_interpreted\": \"Neighborhood Overall\"}, {\"listing_id\": 6606, \"date\": \"2018-05-19T00:00:00\", \"reviewer_id\": 166909480, \"comments\": \"Joyce was awesome! We were moving from Hawaii to Seattle and she gave us a lot of information, tips, and helpful advice.  The place was beautiful, small, and well priced, with a very friendly dog.\", \"polarity\": 0.9492, \"cleaned_comments\": \"joyce awesome moving hawaii seattle gave lot information tip helpful advice place beautiful small well priced friendly dog\", \"comments_nouns_adjs\": \"joyce awesome hawaii seattle lot information tip helpful advice place beautiful small friendly dog\", \"review_topic\": 0, \"review_topic_interpreted\": \"Neighborhood Overall\"}, {\"listing_id\": 6606, \"date\": \"2018-05-23T00:00:00\", \"reviewer_id\": 32302553, \"comments\": \"great location, great communication.<br/>tiny garage turned into guest house ...\", \"polarity\": 0.8481, \"cleaned_comments\": \"great location great communication tiny garage turned guest house\", \"comments_nouns_adjs\": \"great location great communication tiny garage guest house\", \"review_topic\": 1, \"review_topic_interpreted\": \"Location Convenience\"}, {\"listing_id\": 6606, \"date\": \"2018-05-27T00:00:00\", \"reviewer_id\": 17133614, \"comments\": \"I\\u2019d recommend the cottage for anyone staying in Seattle! Best for one person, or two who are very comfortable is a completely shared space. The location is absolutely perfect, and Joyce is friendly and accommodating. I\\u2019d come back in a heartbeat.\", \"polarity\": 0.966, \"cleaned_comments\": \"recommend cottage anyone staying seattle best one person two comfortable completely shared space location absolutely perfect joyce friendly accommodating come back heartbeat\", \"comments_nouns_adjs\": \"recommend cottage anyone seattle best person comfortable space location perfect joyce heartbeat\", \"review_topic\": 0, \"review_topic_interpreted\": \"Neighborhood Overall\"}, {\"listing_id\": 6606, \"date\": \"2018-06-04T00:00:00\", \"reviewer_id\": 15139218, \"comments\": \"Such a cute space and a beautiful garden to relax in. Walking distance to pubs and restaurants. About a 10 minute drive to downtown. Very central location. I loved the neighborhood!\", \"polarity\": 0.9355, \"cleaned_comments\": \"cute space beautiful garden relax walking distance pub restaurant 10 minute drive downtown central location loved neighborhood\", \"comments_nouns_adjs\": \"cute space beautiful garden relax distance pub restaurant minute drive downtown central location neighborhood\", \"review_topic\": 0, \"review_topic_interpreted\": \"Neighborhood Overall\"}, {\"listing_id\": 6606, \"date\": \"2018-06-11T00:00:00\", \"reviewer_id\": 64344016, \"comments\": \"Joyce\\u2019s cottage is in a wonderful location! So easy to get anywhere within about 15 min. Has all of the amenities needed as well.\", \"polarity\": 0.8513, \"cleaned_comments\": \"joyce cottage wonderful location easy get anywhere 15 min amenity needed well\", \"comments_nouns_adjs\": \"joyce cottage wonderful location easy get min amenity\", \"review_topic\": 1, \"review_topic_interpreted\": \"Location Convenience\"}, {\"listing_id\": 6606, \"date\": \"2018-06-15T00:00:00\", \"reviewer_id\": 51523162, \"comments\": \"Very small space, but well considered. Joyce has taken the time to understand what her guests will need, and it's right there before you realize you need it!\", \"polarity\": 0.4482, \"cleaned_comments\": \"small space well considered joyce taken time understand guest need right realize need\", \"comments_nouns_adjs\": \"small space joyce time understand guest need need\", \"review_topic\": 0, \"review_topic_interpreted\": \"Neighborhood Overall\"}, {\"listing_id\": 6606, \"date\": \"2018-06-20T00:00:00\", \"reviewer_id\": 12111753, \"comments\": \"Joyce is very accomodating and a great host\", \"polarity\": 0.6557, \"cleaned_comments\": \"joyce accomodating great host\", \"comments_nouns_adjs\": \"joyce great host\", \"review_topic\": 2, \"review_topic_interpreted\": \"Host Communication\"}, {\"listing_id\": 6606, \"date\": \"2018-06-24T00:00:00\", \"reviewer_id\": 18102967, \"comments\": \"We had a great stay, thanks Joyce!\", \"polarity\": 0.807, \"cleaned_comments\": \"great thanks joyce\", \"comments_nouns_adjs\": \"great thanks joyce\", \"review_topic\": 0, \"review_topic_interpreted\": \"Neighborhood Overall\"}, {\"listing_id\": 6606, \"date\": \"2018-06-26T00:00:00\", \"reviewer_id\": 37948100, \"comments\": \"Very cute garden and great location!\", \"polarity\": 0.8264, \"cleaned_comments\": \"cute garden great location\", \"comments_nouns_adjs\": \"cute garden great location\", \"review_topic\": 1, \"review_topic_interpreted\": \"Location Convenience\"}, {\"listing_id\": 6606, \"date\": \"2018-07-02T00:00:00\", \"reviewer_id\": 464683, \"comments\": \"Joyce's place is in pretty much the perfect location. Beautiful neighborhood with plants and flowers everywhere--Wallingford and Fremont are great and it's easy to get everywhere. Joyce's cottage is small, but it was totally fine--we really only slept there, and it was a great spot to come back to. Be ready for a somewhat unique bathroom/shower experience, but all in all, a great deal in a great spot. Bonus: Cleopatra the dog!\", \"polarity\": 0.9896, \"cleaned_comments\": \"joyce place pretty much perfect location beautiful neighborhood plant flower everywhere wallingford fremont great easy get everywhere joyce cottage small totally fine really slept great spot come back ready somewhat unique bathroom shower experience great deal great spot bonus cleopatra dog\", \"comments_nouns_adjs\": \"joyce place much perfect location beautiful neighborhood plant flower wallingford great easy get joyce cottage small fine slept great spot ready unique bathroom shower experience great deal great spot bonus cleopatra dog\", \"review_topic\": 0, \"review_topic_interpreted\": \"Neighborhood Overall\"}, {\"listing_id\": 6606, \"date\": \"2018-07-08T00:00:00\", \"reviewer_id\": 546880, \"comments\": \"Small space in backyard off of the alley and fine for one person.  Good location and a short walk (6 blocks or so) from a number of restaurants.  The shower and toilet are in the kitchen, which is different, with a small shared sink.  Cable TV with internet connection, plus WiFi. Good for young male traveler on a budget.\", \"polarity\": 0.8126, \"cleaned_comments\": \"small space backyard alley fine one person good location short walk 6 block number restaurant shower toilet kitchen different small shared sink cable tv internet connection plus wifi good young male traveler budget\", \"comments_nouns_adjs\": \"small space backyard alley person good location short walk block number restaurant shower toilet different small sink cable tv internet connection wifi good young male traveler budget\", \"review_topic\": 0, \"review_topic_interpreted\": \"Neighborhood Overall\"}, {\"listing_id\": 6606, \"date\": \"2018-07-16T00:00:00\", \"reviewer_id\": 57835241, \"comments\": \"Cottage is clean and quiet. Great location to easily reach almost anywhere in Seattle via public transportation.  Would definitely recommend!\", \"polarity\": 0.9299, \"cleaned_comments\": \"cottage clean quiet great location easily reach almost anywhere seattle via public transportation definitely recommend\", \"comments_nouns_adjs\": \"cottage clean quiet great location anywhere seattle public transportation\", \"review_topic\": 3, \"review_topic_interpreted\": \"Housing Experience\"}, {\"listing_id\": 6606, \"date\": \"2018-07-19T00:00:00\", \"reviewer_id\": 38717203, \"comments\": \"The cottage is so adorable! Check in and communication were easy. We were able to walk to wonderful restaurants and coffee shops. Joyce was able to give us some great recommendations. We would love to stay at the cottage again! \", \"polarity\": 0.9666, \"cleaned_comments\": \"cottage adorable check communication easy able walk wonderful restaurant coffee shop joyce able give great recommendation love cottage\", \"comments_nouns_adjs\": \"cottage adorable check communication easy able walk wonderful restaurant coffee shop joyce able give great recommendation love cottage\", \"review_topic\": 0, \"review_topic_interpreted\": \"Neighborhood Overall\"}, {\"listing_id\": 6606, \"date\": \"2018-07-27T00:00:00\", \"reviewer_id\": 89892966, \"comments\": \"Joyce\\u2019s place is super cute and she\\u2019s a fantastic host! The cottage is in a nice quiet street in a great area for getting around all over the city. AC and TV are great, bathroom/kitchen layout is funny and works well. Really responsive via text and totally knowledgeable and helpful. We had a great time!\", \"polarity\": 0.9891, \"cleaned_comments\": \"joyce place super cute fantastic host cottage nice quiet street great area getting around city ac tv great bathroom kitchen layout funny work well really responsive via text totally knowledgeable helpful great time\", \"comments_nouns_adjs\": \"joyce place super cute fantastic host cottage nice quiet street great area city ac tv great bathroom kitchen layout funny work responsive text knowledgeable helpful great time\", \"review_topic\": 2, \"review_topic_interpreted\": \"Host Communication\"}, {\"listing_id\": 6606, \"date\": \"2018-08-02T00:00:00\", \"reviewer_id\": 199451180, \"comments\": \"Great place\", \"polarity\": 0.6249, \"cleaned_comments\": \"great place\", \"comments_nouns_adjs\": \"great place\", \"review_topic\": 0, \"review_topic_interpreted\": \"Neighborhood Overall\"}, {\"listing_id\": 6606, \"date\": \"2018-08-06T00:00:00\", \"reviewer_id\": 160668086, \"comments\": \"Joyce was a great host, very friendly and always answering quickly.<br/>Her cottage has a very special atmosphere, I loved all the decorations and the fabrics. <br/>Yes, the shower is right next to the toilet, but that turned out not to be a problem at all. <br/>When we come back, and Seattle is such a great city we definitely have to, we would love to stay at her place again. \", \"polarity\": 0.9804, \"cleaned_comments\": \"joyce great host friendly always answering quickly cottage special atmosphere loved decoration fabric yes shower right next toilet turned problem come back seattle great city definitely love place\", \"comments_nouns_adjs\": \"joyce great host friendly special decoration fabric shower right next toilet problem come seattle great city place\", \"review_topic\": 2, \"review_topic_interpreted\": \"Host Communication\"}, {\"listing_id\": 6606, \"date\": \"2018-08-08T00:00:00\", \"reviewer_id\": 93491750, \"comments\": \"Great small cottage! \", \"polarity\": 0.6588, \"cleaned_comments\": \"great small cottage\", \"comments_nouns_adjs\": \"great small cottage\", \"review_topic\": 0, \"review_topic_interpreted\": \"Neighborhood Overall\"}, {\"listing_id\": 6606, \"date\": \"2018-08-13T00:00:00\", \"reviewer_id\": 21844636, \"comments\": \"We had a lovely stay at Joyce's place. It was clean and comfortable and just the right amount of space for 2, and the garden was the perfect space to enjoy coffee in the morning. The neighborhood was ideally located for getting around all the great Seattle neighborhoods which we did on Lime bikes. The property shares a yard with another part of the house that is also an Airbnb and we had nice conversation with the guests staying simultaneously. The place is affordable and we would recommend it to budget minded couples traveling to Seattle.\", \"polarity\": 0.9836, \"cleaned_comments\": \"lovely joyce place clean comfortable right amount space 2 garden perfect space enjoy coffee morning neighborhood ideally located getting around great seattle neighborhood lime bike property share yard another part house airbnb nice conversation guest staying simultaneously place affordable recommend budget minded couple traveling seattle\", \"comments_nouns_adjs\": \"joyce place comfortable right amount space garden perfect space enjoy coffee morning neighborhood great seattle neighborhood lime bike property share yard part house airbnb nice conversation guest place affordable recommend budget couple seattle\", \"review_topic\": 0, \"review_topic_interpreted\": \"Neighborhood Overall\"}, {\"listing_id\": 6606, \"date\": \"2018-08-25T00:00:00\", \"reviewer_id\": 19357452, \"comments\": \"Great neighborhood, short walk or Uber to everywhere you'd want to go! Small but cozy place, all you really need.  We had a wonderful stay!\", \"polarity\": 0.8531, \"cleaned_comments\": \"great neighborhood short walk uber everywhere want go small cozy place really need wonderful\", \"comments_nouns_adjs\": \"great neighborhood short walk uber small cozy place wonderful\", \"review_topic\": 0, \"review_topic_interpreted\": \"Neighborhood Overall\"}, {\"listing_id\": 6606, \"date\": \"2018-09-11T00:00:00\", \"reviewer_id\": 126268032, \"comments\": \"PROS: Location!  Value! <br/>If you've looked around Seattle prices you'll know this is a great deal.  The place is in an adorable, walkable neighborhood with everything you could need (including a grocery store) just a few blocks away.  Downtown Seattle vistas can be seen just by looking down the street, and we were able to easily get to all of our destinations (inside and outside of Seattle) during our stay.  Joyce was friendly and easy to communicate with.<br/><br/>CONS: As another reviewer said, everything felt kind of jury-rigged together, like if you bumped something the shelves would come crashing down.  There are wooden planks in the shower that aren't in the photos; these are so you don't have to stand in water.  The drain doesn't function well and there was standing water left around as late as 24 hours after a shower.  You can't set things on the little counter set up on the fridge, because the fridge is crooked and it will roll right off.  There was a wet patch on the carpet in the bedroom that never dried.  The dresser was put on little blocks to prop it off of the wet spot.  There was a faint sewage smell during our stay that I suspect was due to the drains.  Finally, I wasn't able to tell this from the pictures, but heads up that the kitchen is the same room as the bathroom.  It felt unsanitary and we didn't prep as much food as we had planned to as a result.<br/><br/>It was a great deal, we loved the location and the garden.  But I will probably find somewhere else to stay the next time I'm in Seattle.\", \"polarity\": 0.9662, \"cleaned_comments\": \"pro location value looked around seattle price know great deal place adorable walkable neighborhood everything could need including grocery store block away downtown seattle vista seen looking street able easily get destination inside outside seattle joyce friendly easy communicate con another reviewer said everything felt kind jury rigged together like bumped something shelf come crashing wooden plank shower photo stand water drain function well standing water left around late 24 hour shower set thing little counter set fridge fridge crooked roll right wet patch carpet bedroom never dried dresser put little block prop wet spot faint sewage smell suspect due drain finally able tell picture head kitchen room bathroom felt unsanitary prep much food planned result great deal loved location garden probably find somewhere else next time seattle\", \"comments_nouns_adjs\": \"pro location value seattle price great deal place adorable walkable neighborhood everything grocery store block downtown seattle vista street able destination outside seattle joyce friendly easy communicate con reviewer everything kind jury something wooden plank shower photo water drain function water late hour shower thing little counter fridge fridge roll wet patch carpet bedroom dresser little block prop wet spot faint sewage smell due drain able tell picture head kitchen room bathroom unsanitary food result great deal location garden next time seattle\", \"review_topic\": 0, \"review_topic_interpreted\": \"Neighborhood Overall\"}, {\"listing_id\": 6606, \"date\": \"2018-09-21T00:00:00\", \"reviewer_id\": 4026155, \"comments\": \"Great location,  very quiet and tranquil.\", \"polarity\": 0.6771, \"cleaned_comments\": \"great location quiet tranquil\", \"comments_nouns_adjs\": \"great location quiet tranquil\", \"review_topic\": 1, \"review_topic_interpreted\": \"Location Convenience\"}, {\"listing_id\": 6606, \"date\": \"2018-09-29T00:00:00\", \"reviewer_id\": 109129785, \"comments\": \"cozy and private cottage. and Joyce gave us many local tips and we loved the places she recommended\", \"polarity\": 0.6908, \"cleaned_comments\": \"cozy private cottage joyce gave many local tip loved place recommended\", \"comments_nouns_adjs\": \"cozy private cottage joyce many local tip place\", \"review_topic\": 0, \"review_topic_interpreted\": \"Neighborhood Overall\"}, {\"listing_id\": 6606, \"date\": \"2018-10-09T00:00:00\", \"reviewer_id\": 53318194, \"comments\": \"Everything was precisely as described and pictured.\", \"polarity\": 0.0, \"cleaned_comments\": \"everything precisely described pictured\", \"comments_nouns_adjs\": \"everything pictured\", \"review_topic\": 0, \"review_topic_interpreted\": \"Neighborhood Overall\"}, {\"listing_id\": 6606, \"date\": \"2018-10-14T00:00:00\", \"reviewer_id\": 48623904, \"comments\": \"I loved my stay at Joyce's place! Everything was comfortable and neat, and Wallingford is a wonderful, walkable neighborhood. Joyce was very friendly, and had lots of suggestions for things to do and see in Seattle. It was chilly while I was there, so I made use of a few of the heaters in my room. Overall, a lovely visist!\", \"polarity\": 0.9712, \"cleaned_comments\": \"loved joyce place everything comfortable neat wallingford wonderful walkable neighborhood joyce friendly lot suggestion thing see seattle chilly made use heater room overall lovely visist\", \"comments_nouns_adjs\": \"joyce place everything comfortable neat wallingford wonderful walkable neighborhood joyce friendly lot suggestion thing seattle use heater room overall lovely visist\", \"review_topic\": 0, \"review_topic_interpreted\": \"Neighborhood Overall\"}, {\"listing_id\": 6606, \"date\": \"2018-10-21T00:00:00\", \"reviewer_id\": 12111753, \"comments\": \"as usual, joyce was a great host\", \"polarity\": 0.6249, \"cleaned_comments\": \"usual joyce great host\", \"comments_nouns_adjs\": \"usual joyce great host\", \"review_topic\": 2, \"review_topic_interpreted\": \"Host Communication\"}, {\"listing_id\": 6606, \"date\": \"2019-03-20T00:00:00\", \"reviewer_id\": 242387025, \"comments\": \"Such a nice place for relaxation and quiet.  The bed was sleeping on a cloud ! Everything you need all in a doll house \\ud83c\\udfe1\", \"polarity\": 0.7574, \"cleaned_comments\": \"nice place relaxation quiet bed sleeping cloud everything need doll house\", \"comments_nouns_adjs\": \"nice place relaxation quiet cloud everything doll house\", \"review_topic\": 0, \"review_topic_interpreted\": \"Neighborhood Overall\"}, {\"listing_id\": 6606, \"date\": \"2019-06-09T00:00:00\", \"reviewer_id\": 11736388, \"comments\": \"The cottage was adorable and perfect for our short stay in Seattle. It was super comfortable, had everything we needed and in a great location. The garden is also gorgeous!\", \"polarity\": 0.9735, \"cleaned_comments\": \"cottage adorable perfect short seattle super comfortable everything needed great location garden gorgeous\", \"comments_nouns_adjs\": \"cottage adorable perfect short seattle comfortable everything great location garden gorgeous\", \"review_topic\": 1, \"review_topic_interpreted\": \"Location Convenience\"}, {\"listing_id\": 6606, \"date\": \"2019-06-23T00:00:00\", \"reviewer_id\": 23437044, \"comments\": \"Joyce is a great host! Easy communication and helpful suggestions. The location of the cottage is in a nice, quiet neighborhood. The set up in the cottage is a bit funky - the bathroom is in the kitchen, same room. It was not a problem, though it was a surprise, for me as a single person, but might be awkward for two people!\", \"polarity\": 0.7884, \"cleaned_comments\": \"joyce great host easy communication helpful suggestion location cottage nice quiet neighborhood set cottage bit funky bathroom kitchen room problem though surprise single person might awkward two people\", \"comments_nouns_adjs\": \"joyce great host easy communication helpful suggestion location cottage nice quiet neighborhood cottage bit funky bathroom kitchen room problem surprise single person people\", \"review_topic\": 2, \"review_topic_interpreted\": \"Host Communication\"}, {\"listing_id\": 6606, \"date\": \"2019-07-18T00:00:00\", \"reviewer_id\": 186122675, \"comments\": \"We had a great stay.  Excellent location - close to Fremont, Ballard, and Green Lake.  Nice cozy inside area and a great private garden.  Joyce was very nice and responsive.  Would stay again in the future.\", \"polarity\": 0.9664, \"cleaned_comments\": \"great excellent location close fremont ballard green lake nice cozy inside area great private garden joyce nice responsive future\", \"comments_nouns_adjs\": \"great excellent location fremont ballard green lake nice cozy area great private garden joyce nice responsive future\", \"review_topic\": 1, \"review_topic_interpreted\": \"Location Convenience\"}, {\"listing_id\": 6606, \"date\": \"2019-07-20T00:00:00\", \"reviewer_id\": 74896600, \"comments\": \"Joyce's urban cottage was perfect for a weekend in Seattle. The place is adorable, the bed is comfortable, Joyce was easy to get in touch with and suggested things to do. I would definitely come back!\", \"polarity\": 0.9441, \"cleaned_comments\": \"joyce urban cottage perfect weekend seattle place adorable bed comfortable joyce easy get touch suggested thing definitely come back\", \"comments_nouns_adjs\": \"joyce urban cottage perfect weekend seattle place adorable bed comfortable joyce easy touch suggested thing\", \"review_topic\": 0, \"review_topic_interpreted\": \"Neighborhood Overall\"}, {\"listing_id\": 6606, \"date\": \"2019-07-27T00:00:00\", \"reviewer_id\": 142624674, \"comments\": \"The cottage is a lovely little place to stay with a beautiful backyard patio. If you\\u2019re a Airbnb or hotel snob this may not be the place for you. If you like to venture out and explore the beautiful quite neighborhood and Seattle and come home to a nice bed for less, then you\\u2019ve found your place to stay.\", \"polarity\": 0.9313, \"cleaned_comments\": \"cottage lovely little place beautiful backyard patio airbnb hotel snob may place like venture explore beautiful quite neighborhood seattle come home nice bed le found place\", \"comments_nouns_adjs\": \"cottage little place beautiful backyard patio airbnb hotel snob venture beautiful neighborhood seattle come home nice le place\", \"review_topic\": 0, \"review_topic_interpreted\": \"Neighborhood Overall\"}, {\"listing_id\": 6606, \"date\": \"2019-08-12T00:00:00\", \"reviewer_id\": 18984568, \"comments\": \"Joyce's home is located in a great neighbourhood \\u2013\\u00a0very central. It felt totally safe walking around at night and it was close to the main attractions \\u2013\\u00a0great for a first trip to Seattle! The place is basically what is pictured and described \\u2013 very small but fine for a couple. However, I would not recommend it for a long term stay.  When we booked, the listing stated \\\"free parking on premises\\\" which we assumed meant a driveway, but be aware that there is only street parking. We never had trouble finding a spot close to the house, however it did get quite busy later in the day. It's also good to note that the wifi was extremely slow.<br/><br/>We were very disappointed in the cleanliness of the place. Although tidy and clean at first glance, it was quite dirty and evidently had not been deep cleaned in a long time. Overall it was very dusty and covered in thick cob webs and a few dead bugs on the ground. The tiles in the shower are not sloped properly and, regardless of using the squeegee, the shower kept a musty smell that only got worse days after using it. The soap that was provided in the shower was a used bar of soap. The long shower curtain separating the kitchen from the bathroom was also very grungy. We did bring up these concerns with Joyce and she refunded us our cleaning fee with no questions asked. <br/><br/>Overall it was okay, but just okay. It's advertised as a cottage and it feels like one.\", \"polarity\": 0.7373, \"cleaned_comments\": \"joyce home located great neighbourhood central felt totally safe walking around night close main attraction great first trip seattle place basically pictured described small fine couple however recommend long term booked listing stated free parking premise assumed meant driveway aware street parking never trouble finding spot close house however get quite busy later day good note wifi extremely slow disappointed cleanliness place although tidy clean first glance quite dirty evidently deep cleaned long time overall dusty covered thick cob web dead bug ground tile shower sloped properly regardless using squeegee shower kept musty smell got worse day using soap provided shower used bar soap long shower curtain separating kitchen bathroom grungy bring concern joyce refunded cleaning fee question asked overall okay okay advertised cottage feel like one\", \"comments_nouns_adjs\": \"joyce home great neighbourhood central safe night main attraction great first trip seattle place small fine couple long term listing free parking premise meant driveway aware street trouble spot close house busy day good note slow disappointed cleanliness place tidy first glance deep long time overall dusty thick cob web dead bug ground tile shower squeegee shower musty smell worse day soap shower bar soap curtain kitchen bathroom grungy bring concern joyce fee question overall okay okay cottage feel\", \"review_topic\": 0, \"review_topic_interpreted\": \"Neighborhood Overall\"}, {\"listing_id\": 6606, \"date\": \"2019-08-15T00:00:00\", \"reviewer_id\": 9825569, \"comments\": \"A perfect place to stay in the Wallingford area.  The garden outside the cottage is a lovely place to sit outside and enjoy the weather, surrounded by fragrant plants, away from the noise of the city in such a peaceful neighborhood.  The cottage is cozy and perfect amount of space for a single traveler.\", \"polarity\": 0.9559, \"cleaned_comments\": \"perfect place wallingford area garden outside cottage lovely place sit outside enjoy weather surrounded fragrant plant away noise city peaceful neighborhood cottage cozy perfect amount space single traveler\", \"comments_nouns_adjs\": \"perfect place wallingford area garden outside cottage lovely place sit enjoy weather fragrant plant noise city peaceful neighborhood cottage cozy perfect amount space single traveler\", \"review_topic\": 0, \"review_topic_interpreted\": \"Neighborhood Overall\"}, {\"listing_id\": 6606, \"date\": \"2019-08-24T00:00:00\", \"reviewer_id\": 158629037, \"comments\": \"Feels like you are staying in your family\\u2019s guest room. Quiet, cool location, near a bus line.\", \"polarity\": 0.5859, \"cleaned_comments\": \"feel like staying family guest room quiet cool location near bus line\", \"comments_nouns_adjs\": \"feel family guest room quiet cool location bus line\", \"review_topic\": 1, \"review_topic_interpreted\": \"Location Convenience\"}, {\"listing_id\": 6606, \"date\": \"2019-09-07T00:00:00\", \"reviewer_id\": 50660286, \"comments\": \"This place is incredible. A perfect cozy home base to recharge at while you're exploring Seattle.<br/><br/>Joyce is an incredible host and made us feel welcome and comfortable.<br/><br/>Joyce's dog, Cleo, stole my heart!\", \"polarity\": 0.7901, \"cleaned_comments\": \"place incredible perfect cozy home base recharge exploring seattle joyce incredible host made feel welcome comfortable joyce dog cleo stole heart\", \"comments_nouns_adjs\": \"place incredible perfect cozy home base recharge seattle joyce incredible host feel welcome comfortable joyce dog cleo stole heart\", \"review_topic\": 2, \"review_topic_interpreted\": \"Host Communication\"}, {\"listing_id\": 6606, \"date\": \"2019-09-19T00:00:00\", \"reviewer_id\": 79583943, \"comments\": \"Fantastic location at a very reasonable price. Super walkable to plenty of shops and restaurants, easy access to multiple bus routes. Great little private garden.\", \"polarity\": 0.9409, \"cleaned_comments\": \"fantastic location reasonable price super walkable plenty shop restaurant easy access multiple bus route great little private garden\", \"comments_nouns_adjs\": \"fantastic location reasonable price walkable plenty shop restaurant easy access multiple bus route great little private garden\", \"review_topic\": 0, \"review_topic_interpreted\": \"Neighborhood Overall\"}, {\"listing_id\": 6606, \"date\": \"2019-09-23T00:00:00\", \"reviewer_id\": 113187686, \"comments\": \"Everything was as expected. Bed was comfy. I especially enjoyed being outside in the private garden. Joyce was a wonderful host And responded quickly with questions.\", \"polarity\": 0.807, \"cleaned_comments\": \"everything expected bed comfy especially enjoyed outside private garden joyce wonderful host responded quickly question\", \"comments_nouns_adjs\": \"everything bed comfy outside private garden joyce wonderful host question\", \"review_topic\": 2, \"review_topic_interpreted\": \"Host Communication\"}, {\"listing_id\": 6606, \"date\": \"2019-09-28T00:00:00\", \"reviewer_id\": 283795230, \"comments\": \"Joyce's cabin was a wonderful stay. Perfect for sleeping in and watching tv or for waking up with the (admittedly little) Seattle sunlight. Everything was smoothly communicated and I had no trouble getting things to work. The one issue I did have was resolved immediately. I also found it pretty awesome that the tankless toilet was basically next to me in the shower. Pretty convenient.\", \"polarity\": 0.9403, \"cleaned_comments\": \"joyce cabin wonderful perfect sleeping watching tv waking admittedly little seattle sunlight everything smoothly communicated trouble getting thing work one issue resolved immediately found pretty awesome tankless toilet basically next shower pretty convenient\", \"comments_nouns_adjs\": \"joyce cabin wonderful perfect tv little seattle everything trouble thing work issue awesome tankless toilet next shower pretty convenient\", \"review_topic\": 0, \"review_topic_interpreted\": \"Neighborhood Overall\"}, {\"listing_id\": 6606, \"date\": \"2021-05-23T00:00:00\", \"reviewer_id\": 121346625, \"comments\": \"Cottage and backyard are cute and charming. Easy walk to good food and great views. Joyce is a delight. I would stay here again.\", \"polarity\": 0.9666, \"cleaned_comments\": \"cottage backyard cute charming easy walk good food great view joyce delight\", \"comments_nouns_adjs\": \"cottage cute easy walk good food great view joyce delight\", \"review_topic\": 0, \"review_topic_interpreted\": \"Neighborhood Overall\"}, {\"listing_id\": 6606, \"date\": \"2021-05-31T00:00:00\", \"reviewer_id\": 40907427, \"comments\": \"Joyce\\u2019s place was perfect for our trip to Seattle! While very quaint, it was an adventure having the toilet in the shower in the kitchen! :) The area was very quiet, and the backyard peaceful. We really only slept there (the bed is very comfortable!) so we didn\\u2019t mind the minimal space. Joyce was also very communicative and helpful!  It was a quick Uber to Pike Market and other spots, but also walking distance to other restaurants. Definitely recommend her place if you plan to spend most of your trip out in the city and aren\\u2019t needing anything spacious- we hope to stay here again for our next trip!\", \"polarity\": 0.9636, \"cleaned_comments\": \"joyce place perfect trip seattle quaint adventure toilet shower kitchen area quiet backyard peaceful really slept bed comfortable mind minimal space joyce communicative helpful quick uber pike market spot walking distance restaurant definitely recommend place plan spend trip city needing anything spacious hope next trip\", \"comments_nouns_adjs\": \"joyce place perfect trip seattle quaint adventure toilet kitchen area quiet backyard peaceful slept bed comfortable mind minimal space joyce communicative helpful quick uber pike market spot distance restaurant recommend place plan trip city anything spacious hope trip\", \"review_topic\": 0, \"review_topic_interpreted\": \"Neighborhood Overall\"}, {\"listing_id\": 6606, \"date\": \"2021-07-04T00:00:00\", \"reviewer_id\": 88726020, \"comments\": \"Joyce was a fantastic host and this location is amazing. Great option for a longer stay.\", \"polarity\": 0.91, \"cleaned_comments\": \"joyce fantastic host location amazing great option longer\", \"comments_nouns_adjs\": \"joyce fantastic host location great option\", \"review_topic\": 2, \"review_topic_interpreted\": \"Host Communication\"}, {\"listing_id\": 6606, \"date\": \"2021-07-08T00:00:00\", \"reviewer_id\": 27142051, \"comments\": \"Pros: clean, lovely neighborhood, cute house, affordable, comfortable bed<br/><br/>Cons: the kitchen/bathroom setup was uncomfortable (no need to repeat other reviews),  but the door to the space was also broken\", \"polarity\": 0.1154, \"cleaned_comments\": \"pro clean lovely neighborhood cute house affordable comfortable bed con kitchen bathroom setup uncomfortable need repeat review door space broken\", \"comments_nouns_adjs\": \"pro clean cute house affordable comfortable bed con kitchen bathroom setup uncomfortable need repeat door space broken\", \"review_topic\": 3, \"review_topic_interpreted\": \"Housing Experience\"}, {\"listing_id\": 6606, \"date\": \"2021-07-12T00:00:00\", \"reviewer_id\": 60130119, \"comments\": \"This place has a great outdoor space that was definitely the highlight of this Airbnb. Good location close to bus lines. A little weird kitchen/toilet/shower situation but the photos are definitely representative of it.\", \"polarity\": 0.8554, \"cleaned_comments\": \"place great outdoor space definitely highlight airbnb good location close bus line little weird kitchen toilet shower situation photo definitely representative\", \"comments_nouns_adjs\": \"place great outdoor space highlight good location bus line little weird kitchen toilet shower situation photo representative\", \"review_topic\": 1, \"review_topic_interpreted\": \"Location Convenience\"}, {\"listing_id\": 6606, \"date\": \"2021-08-25T00:00:00\", \"reviewer_id\": 125068434, \"comments\": \"Really great, cozy place! Small but has everything you need. Joyce was very communicative during my stay and also put little treats in the kitchen area, which was much appreciated!\", \"polarity\": 0.8285, \"cleaned_comments\": \"really great cozy place small everything need joyce communicative put little treat kitchen area much appreciated\", \"comments_nouns_adjs\": \"great cozy place small everything need communicative put little treat area\", \"review_topic\": 0, \"review_topic_interpreted\": \"Neighborhood Overall\"}, {\"listing_id\": 6606, \"date\": \"2021-09-01T00:00:00\", \"reviewer_id\": 419740264, \"comments\": \"When I found the cottage from the alley, I was a little nervous, as it looked like a storage shed or garage. However, the second I walked through the gate into the backyard, the place was as welcoming and tranquil as it looked online. The cottage is mostly bedroom, with a bathroom and small shower tiled off in the kitchen area. It was reminiscent of a camper bathroom and kitchen. There wasn't a way to cook food, so come prepared for that. But the microwave and mini fridge were perfect for storing leftovers, and Joyce gave some great recommendations for places to visit. Very accessible for street parking or public transportation. Overall, a really lovely place- don't let the alley-view make you nervous! I was a solo traveler and had a lovely stay.\", \"polarity\": 0.97, \"cleaned_comments\": \"found cottage alley little nervous looked like storage shed garage however second walked gate backyard place welcoming tranquil looked online cottage mostly bedroom bathroom small shower tiled kitchen area reminiscent camper bathroom kitchen way cook food come prepared microwave mini fridge perfect storing leftover joyce gave great recommendation place visit accessible street parking public transportation overall really lovely place let alley view make nervous solo traveler lovely\", \"comments_nouns_adjs\": \"cottage alley nervous like storage garage second walked gate backyard place tranquil online cottage bedroom bathroom small shower kitchen area reminiscent camper bathroom way cook food prepared microwave mini fridge leftover joyce great recommendation place visit accessible street public transportation overall lovely place alley view nervous solo traveler\", \"review_topic\": 0, \"review_topic_interpreted\": \"Neighborhood Overall\"}, {\"listing_id\": 6606, \"date\": \"2021-09-14T00:00:00\", \"reviewer_id\": 66078916, \"comments\": \"I really wasn\\u2019t sure what to expect but wow oh wow what a perfect place. Definitely small but it really has everything you need. Quiet area but close to absolutely everything. Would absolutely recommend. We had a fantastic time! (:\", \"polarity\": 0.9891, \"cleaned_comments\": \"really sure expect wow oh wow perfect place definitely small really everything need quiet area close absolutely everything absolutely recommend fantastic time\", \"comments_nouns_adjs\": \"sure wow oh wow perfect place small everything need quiet area everything fantastic time\", \"review_topic\": 0, \"review_topic_interpreted\": \"Neighborhood Overall\"}, {\"listing_id\": 6606, \"date\": \"2022-07-24T00:00:00\", \"reviewer_id\": 454620463, \"comments\": \"Lovely place and the price is unbeatable. The host totally respected my privacy which is much appreciated. Loved the samsung tv included. Very minor caveats:<br/>AC can be loud if you're visiting in summer <br/>Don't plan to do a lot of cooking, the tight kitchen space is tough to work with\", \"polarity\": 0.9312, \"cleaned_comments\": \"lovely place price unbeatable host totally respected privacy much appreciated loved samsung tv included minor caveat ac loud visiting summer plan lot cooking tight kitchen space tough work\", \"comments_nouns_adjs\": \"place price unbeatable host privacy loved samsung tv minor caveat ac loud summer plan lot tight kitchen space tough work\", \"review_topic\": 2, \"review_topic_interpreted\": \"Host Communication\"}, {\"listing_id\": 6606, \"date\": \"2022-09-03T00:00:00\", \"reviewer_id\": 192187862, \"comments\": \"Cannot recommend the cottage enough! Joyce has paid great attention to making the space feel like home and it was the perfect spot for my month long stay. Fantastic location, close to plenty of restaurants, things to see, and public transportation. Take advantage of her vacation guide, it\\u2019s got great recommendations :)\", \"polarity\": 0.969, \"cleaned_comments\": \"recommend cottage enough joyce paid great attention making space feel like home perfect spot month long fantastic location close plenty restaurant thing see public transportation take advantage vacation guide got great recommendation\", \"comments_nouns_adjs\": \"recommend cottage enough joyce great attention space feel home perfect month fantastic location plenty restaurant thing public transportation advantage vacation guide great recommendation\", \"review_topic\": 0, \"review_topic_interpreted\": \"Neighborhood Overall\"}]}}, {\"mode\": \"vega-lite\"});\n",
       "</script>"
      ],
      "text/plain": [
       "alt.Chart(...)"
      ]
     },
     "execution_count": 43,
     "metadata": {},
     "output_type": "execute_result"
    }
   ],
   "source": [
    "def plot_listing_review_topics(df,col, listing_id):\n",
    "    if listing_id in df['listing_id'].values:\n",
    "        sub_df = df[df['listing_id'] == listing_id]\n",
    "        plot = alt.Chart(sub_df).mark_bar().encode(\n",
    "                        y=alt.Y('review_topic_interpreted:O', sort='-x'),\n",
    "                        x='count():Q',\n",
    "                        color=alt.Color('listing_id:O', scale=alt.Scale(scheme= 'dark2'))\n",
    "                    ).properties(\n",
    "                        width=500,\n",
    "                        height=300\n",
    "                    ).interactive()\n",
    "        return plot\n",
    "    else:\n",
    "        print(\"Oops, this listing currently has no comments.\")\n",
    "\n",
    "selected_listing_id = sample_review['listing_id'].unique()[0]\n",
    "plot_listing_review_topics(sample_review,'review_topic_interpreted', selected_listing_id)"
   ]
  },
  {
   "cell_type": "markdown",
   "metadata": {
    "cell_id": "73b1ea8aa83749a5a2341eaebb89bcd6",
    "deepnote_cell_type": "markdown"
   },
   "source": [
    "#### Save dataset"
   ]
  },
  {
   "cell_type": "code",
   "execution_count": 44,
   "metadata": {
    "cell_id": "01f5c8b207d54483a9ee50e67c74fcf0",
    "deepnote_cell_type": "code"
   },
   "outputs": [],
   "source": [
    "# save the dataset that contains the preprocessed nouns and adjectives and topics\n",
    "# of all the listing comments for plots in the streamlit app.\n",
    "sample_review.to_pickle('../data/data_cleaned/cleaned_review_with_polarity_and_topic.zip')"
   ]
  },
  {
   "cell_type": "code",
   "execution_count": 45,
   "metadata": {
    "cell_id": "c621be3609e64e7c90fc34fc5cb2a50f",
    "deepnote_cell_type": "code"
   },
   "outputs": [
    {
     "name": "stdout",
     "output_type": "stream",
     "text": [
      "(375173, 9)\n"
     ]
    },
    {
     "data": {
      "text/html": [
       "<div>\n",
       "<style scoped>\n",
       "    .dataframe tbody tr th:only-of-type {\n",
       "        vertical-align: middle;\n",
       "    }\n",
       "\n",
       "    .dataframe tbody tr th {\n",
       "        vertical-align: top;\n",
       "    }\n",
       "\n",
       "    .dataframe thead th {\n",
       "        text-align: right;\n",
       "    }\n",
       "</style>\n",
       "<table border=\"1\" class=\"dataframe\">\n",
       "  <thead>\n",
       "    <tr style=\"text-align: right;\">\n",
       "      <th></th>\n",
       "      <th>listing_id</th>\n",
       "      <th>date</th>\n",
       "      <th>reviewer_id</th>\n",
       "      <th>comments</th>\n",
       "      <th>polarity</th>\n",
       "      <th>cleaned_comments</th>\n",
       "      <th>comments_nouns_adjs</th>\n",
       "      <th>review_topic</th>\n",
       "      <th>review_topic_interpreted</th>\n",
       "    </tr>\n",
       "  </thead>\n",
       "  <tbody>\n",
       "    <tr>\n",
       "      <th>0</th>\n",
       "      <td>6606</td>\n",
       "      <td>2009-07-17</td>\n",
       "      <td>18085</td>\n",
       "      <td>The Urban Cottage is comfortable, beautiful, f...</td>\n",
       "      <td>0.9878</td>\n",
       "      <td>urban cottage comfortable beautiful fun really...</td>\n",
       "      <td>urban cottage comfortable beautiful fun conven...</td>\n",
       "      <td>0</td>\n",
       "      <td>Neighborhood Overall</td>\n",
       "    </tr>\n",
       "    <tr>\n",
       "      <th>1</th>\n",
       "      <td>491958</td>\n",
       "      <td>2012-07-09</td>\n",
       "      <td>2595909</td>\n",
       "      <td>Jay, Colleen, Mica &amp; Gigi-dog were excellent h...</td>\n",
       "      <td>0.9979</td>\n",
       "      <td>jay colleen mica gigi dog excellent host welco...</td>\n",
       "      <td>jay colleen mica gigi dog excellent host warm ...</td>\n",
       "      <td>0</td>\n",
       "      <td>Neighborhood Overall</td>\n",
       "    </tr>\n",
       "  </tbody>\n",
       "</table>\n",
       "</div>"
      ],
      "text/plain": [
       "  listing_id       date  reviewer_id  \\\n",
       "0       6606 2009-07-17        18085   \n",
       "1     491958 2012-07-09      2595909   \n",
       "\n",
       "                                            comments  polarity  \\\n",
       "0  The Urban Cottage is comfortable, beautiful, f...    0.9878   \n",
       "1  Jay, Colleen, Mica & Gigi-dog were excellent h...    0.9979   \n",
       "\n",
       "                                    cleaned_comments  \\\n",
       "0  urban cottage comfortable beautiful fun really...   \n",
       "1  jay colleen mica gigi dog excellent host welco...   \n",
       "\n",
       "                                 comments_nouns_adjs  review_topic  \\\n",
       "0  urban cottage comfortable beautiful fun conven...             0   \n",
       "1  jay colleen mica gigi dog excellent host warm ...             0   \n",
       "\n",
       "  review_topic_interpreted  \n",
       "0     Neighborhood Overall  \n",
       "1     Neighborhood Overall  "
      ]
     },
     "execution_count": 45,
     "metadata": {},
     "output_type": "execute_result"
    }
   ],
   "source": [
    "# # check the saved dataset\n",
    "df = pd.read_pickle('../data/data_cleaned/cleaned_review_with_polarity_and_topic.zip')\n",
    "print(df.shape)\n",
    "df.head(2)"
   ]
  },
  {
   "cell_type": "markdown",
   "metadata": {
    "cell_id": "004151140b97416c94062eca5a494772",
    "deepnote_cell_type": "markdown"
   },
   "source": []
  },
  {
   "cell_type": "markdown",
   "metadata": {
    "created_in_deepnote_cell": true,
    "deepnote_cell_type": "markdown"
   },
   "source": [
    "<a style='text-decoration:none;line-height:16px;display:flex;color:#5B5B62;padding:10px;justify-content:end;' href='https://deepnote.com?utm_source=created-in-deepnote-cell&projectId=f2a50dc6-ff6a-45ff-9dbe-d7a35bd1e393' target=\"_blank\">\n",
    "<img alt='Created in deepnote.com' style='display:inline;max-height:16px;margin:0px;margin-right:7.5px;' src='data:image/svg+xml;base64,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' > </img>\n",
    "Created in <span style='font-weight:600;margin-left:4px;'>Deepnote</span></a>"
   ]
  }
 ],
 "metadata": {
  "deepnote": {},
  "deepnote_execution_queue": [],
  "deepnote_notebook_id": "29781b50aa0c458e87ef2fe6b080c492",
  "kernelspec": {
   "display_name": "Python 3",
   "language": "python",
   "name": "python3"
  },
  "language_info": {
   "codemirror_mode": {
    "name": "ipython",
    "version": 3
   },
   "file_extension": ".py",
   "mimetype": "text/x-python",
   "name": "python",
   "nbconvert_exporter": "python",
   "pygments_lexer": "ipython3",
   "version": "3.8.3"
  }
 },
 "nbformat": 4,
 "nbformat_minor": 1
}
