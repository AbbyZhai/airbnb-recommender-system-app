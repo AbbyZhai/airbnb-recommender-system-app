{
 "cells": [
  {
   "cell_type": "markdown",
   "metadata": {
    "cell_id": "0716a747062b4bc0838234297ea0b4f2",
    "deepnote_cell_type": "markdown"
   },
   "source": [
    "## Review sentiment analysis 1\n",
    "#### Comparison of Vader, TextBlob, and Hugging Face in sentiment analysis using sample review data."
   ]
  },
  {
   "cell_type": "markdown",
   "metadata": {
    "cell_id": "c9a01b10be56457a9cbdcbee329b2781",
    "deepnote_cell_type": "markdown"
   },
   "source": [
    "### Import libraries"
   ]
  },
  {
   "cell_type": "code",
   "execution_count": 1,
   "metadata": {
    "cell_id": "d735386d525a4eacb54a7e9818b009d3",
    "deepnote_cell_type": "code",
    "deepnote_to_be_reexecuted": false,
    "execution_millis": 1874,
    "execution_start": 1680287920541,
    "source_hash": "b902d513"
   },
   "outputs": [],
   "source": [
    "import pandas as pd\n",
    "import numpy as np\n",
    "import seaborn as sns\n",
    "import matplotlib.pyplot as plt\n",
    "\n",
    "import warnings\n",
    "warnings.filterwarnings('ignore')\n",
    "\n",
    "pd.set_option('display.max_columns', 100)\n",
    "\n",
    "RANDOM_STATE= 42"
   ]
  },
  {
   "cell_type": "code",
   "execution_count": 2,
   "metadata": {
    "cell_id": "f9eb6f3d576443858566f2310d1726aa",
    "deepnote_cell_type": "code",
    "deepnote_to_be_reexecuted": false,
    "execution_millis": 1432,
    "execution_start": 1680287922424,
    "source_hash": "d0b9cf76"
   },
   "outputs": [
    {
     "name": "stderr",
     "output_type": "stream",
     "text": [
      "[nltk_data] Downloading package stopwords to /root/nltk_data...\n",
      "[nltk_data]   Unzipping corpora/stopwords.zip.\n",
      "[nltk_data] Downloading package punkt to /root/nltk_data...\n",
      "[nltk_data]   Unzipping tokenizers/punkt.zip.\n",
      "[nltk_data] Downloading package vader_lexicon to /root/nltk_data...\n"
     ]
    },
    {
     "data": {
      "text/plain": [
       "True"
      ]
     },
     "execution_count": 2,
     "metadata": {},
     "output_type": "execute_result"
    }
   ],
   "source": [
    "import nltk\n",
    "nltk.download('stopwords')\n",
    "nltk.download('punkt')\n",
    "nltk.download('vader_lexicon')"
   ]
  },
  {
   "cell_type": "code",
   "execution_count": 3,
   "metadata": {
    "cell_id": "541dc4ac8ebb431fa4d80c21ce987688",
    "deepnote_cell_type": "code",
    "deepnote_to_be_reexecuted": false,
    "execution_millis": 9,
    "execution_start": 1680287923864,
    "source_hash": "6ec7e87a"
   },
   "outputs": [],
   "source": [
    "\n",
    "from nltk import word_tokenize\n",
    "from nltk.corpus import stopwords\n",
    "from nltk.stem.porter import PorterStemmer"
   ]
  },
  {
   "cell_type": "markdown",
   "metadata": {
    "cell_id": "60cfe7135dd94e03a0d1ca8c2385d00e",
    "deepnote_cell_type": "markdown"
   },
   "source": [
    "### Prepare data"
   ]
  },
  {
   "cell_type": "code",
   "execution_count": 4,
   "metadata": {
    "cell_id": "bcee9471b59a4d25aa5b3315a2760d94",
    "deepnote_cell_type": "code",
    "deepnote_to_be_reexecuted": false,
    "execution_millis": 1077,
    "execution_start": 1680287923868,
    "source_hash": "5eaf5a97"
   },
   "outputs": [
    {
     "name": "stdout",
     "output_type": "stream",
     "text": [
      "(375173, 4)\n"
     ]
    }
   ],
   "source": [
    "# load cleaned review dataset\n",
    "review_df = pd.read_pickle('../data/data_cleaned/cleaned_review.zip')\n",
    "print(review_df.shape)"
   ]
  },
  {
   "cell_type": "code",
   "execution_count": 5,
   "metadata": {
    "cell_id": "88fbaea82f514f8bb3eb68789b7ae9e0",
    "deepnote_cell_type": "code",
    "deepnote_to_be_reexecuted": false,
    "execution_millis": 41,
    "execution_start": 1680287924955,
    "source_hash": "741ef305"
   },
   "outputs": [
    {
     "name": "stdout",
     "output_type": "stream",
     "text": [
      "(18759, 4)\n"
     ]
    },
    {
     "data": {
      "application/vnd.deepnote.dataframe.v3+json": {
       "column_count": 4,
       "columns": [
        {
         "dtype": "object",
         "name": "listing_id",
         "stats": {
          "categories": [
           {
            "count": 1,
            "name": "2693700"
           },
           {
            "count": 1,
            "name": "26961134"
           }
          ],
          "nan_count": 0,
          "unique_count": 2
         }
        },
        {
         "dtype": "datetime64[ns]",
         "name": "date",
         "stats": {
          "histogram": [
           {
            "bin_end": 1439760960000000000,
            "bin_start": 1429315200000000000,
            "count": 1
           },
           {
            "bin_end": 1450206720000000000,
            "bin_start": 1439760960000000000,
            "count": 0
           },
           {
            "bin_end": 1460652480000000000,
            "bin_start": 1450206720000000000,
            "count": 0
           },
           {
            "bin_end": 1471098240000000000,
            "bin_start": 1460652480000000000,
            "count": 0
           },
           {
            "bin_end": 1481544000000000000,
            "bin_start": 1471098240000000000,
            "count": 0
           },
           {
            "bin_end": 1491989760000000000,
            "bin_start": 1481544000000000000,
            "count": 0
           },
           {
            "bin_end": 1502435520000000000,
            "bin_start": 1491989760000000000,
            "count": 0
           },
           {
            "bin_end": 1512881280000000000,
            "bin_start": 1502435520000000000,
            "count": 0
           },
           {
            "bin_end": 1523327040000000000,
            "bin_start": 1512881280000000000,
            "count": 0
           },
           {
            "bin_end": 1533772800000000000,
            "bin_start": 1523327040000000000,
            "count": 1
           }
          ],
          "max": "2018-08-09 00:00:00",
          "min": "2015-04-18 00:00:00",
          "nan_count": 0,
          "unique_count": 2
         }
        },
        {
         "dtype": "int64",
         "name": "reviewer_id",
         "stats": {
          "histogram": [
           {
            "bin_end": 2986086.6,
            "bin_start": 114166,
            "count": 1
           },
           {
            "bin_end": 5858007.2,
            "bin_start": 2986086.6,
            "count": 0
           },
           {
            "bin_end": 8729927.8,
            "bin_start": 5858007.2,
            "count": 0
           },
           {
            "bin_end": 11601848.4,
            "bin_start": 8729927.8,
            "count": 0
           },
           {
            "bin_end": 14473769,
            "bin_start": 11601848.4,
            "count": 0
           },
           {
            "bin_end": 17345689.6,
            "bin_start": 14473769,
            "count": 0
           },
           {
            "bin_end": 20217610.2,
            "bin_start": 17345689.6,
            "count": 0
           },
           {
            "bin_end": 23089530.8,
            "bin_start": 20217610.2,
            "count": 0
           },
           {
            "bin_end": 25961451.400000002,
            "bin_start": 23089530.8,
            "count": 0
           },
           {
            "bin_end": 28833372,
            "bin_start": 25961451.400000002,
            "count": 1
           }
          ],
          "max": "28833372",
          "min": "114166",
          "nan_count": 0,
          "unique_count": 2
         }
        },
        {
         "dtype": "object",
         "name": "comments",
         "stats": {
          "categories": [
           {
            "count": 1,
            "name": "The room was absolutely charming. Not only was the space welcoming, bed comfortable, and deep soaking tub delightful, but our host left special treats for us like local coffee, bath salts, chocolate, and quality staples. We enjoyed the tasteful music and reading the books. The outdoor patio was gorgeous. We can't say enough good things about this place or our host. For those of you who are sensitive to noise, there was some foot traffic since the host and her family live above the apartment, but it didn't bother us."
           },
           {
            "count": 1,
            "name": "Perfect little spot for a getaway. Loved the autonomy of coming and going without having to coordinate arrival times. Very clean and comfortable spot in a quiet neighbourhood. Easy to find and close to lots of great spots to eat, drink and shop!"
           }
          ],
          "nan_count": 0,
          "unique_count": 2
         }
        },
        {
         "dtype": "int64",
         "name": "_deepnote_index_column"
        }
       ],
       "row_count": 2,
       "rows": [
        {
         "_deepnote_index_column": "26051",
         "comments": "The room was absolutely charming. Not only was the space welcoming, bed comfortable, and deep soaking tub delightful, but our host left special treats for us like local coffee, bath salts, chocolate, and quality staples. We enjoyed the tasteful music and reading the books. The outdoor patio was gorgeous. We can't say enough good things about this place or our host. For those of you who are sensitive to noise, there was some foot traffic since the host and her family live above the apartment, but it didn't bother us.",
         "date": "2015-04-18 00:00:00",
         "listing_id": "2693700",
         "reviewer_id": "28833372"
        },
        {
         "_deepnote_index_column": "233531",
         "comments": "Perfect little spot for a getaway. Loved the autonomy of coming and going without having to coordinate arrival times. Very clean and comfortable spot in a quiet neighbourhood. Easy to find and close to lots of great spots to eat, drink and shop!",
         "date": "2018-08-09 00:00:00",
         "listing_id": "26961134",
         "reviewer_id": "114166"
        }
       ]
      },
      "text/html": [
       "<div>\n",
       "<style scoped>\n",
       "    .dataframe tbody tr th:only-of-type {\n",
       "        vertical-align: middle;\n",
       "    }\n",
       "\n",
       "    .dataframe tbody tr th {\n",
       "        vertical-align: top;\n",
       "    }\n",
       "\n",
       "    .dataframe thead th {\n",
       "        text-align: right;\n",
       "    }\n",
       "</style>\n",
       "<table border=\"1\" class=\"dataframe\">\n",
       "  <thead>\n",
       "    <tr style=\"text-align: right;\">\n",
       "      <th></th>\n",
       "      <th>listing_id</th>\n",
       "      <th>date</th>\n",
       "      <th>reviewer_id</th>\n",
       "      <th>comments</th>\n",
       "    </tr>\n",
       "  </thead>\n",
       "  <tbody>\n",
       "    <tr>\n",
       "      <th>26051</th>\n",
       "      <td>2693700</td>\n",
       "      <td>2015-04-18</td>\n",
       "      <td>28833372</td>\n",
       "      <td>The room was absolutely charming. Not only was...</td>\n",
       "    </tr>\n",
       "    <tr>\n",
       "      <th>233531</th>\n",
       "      <td>26961134</td>\n",
       "      <td>2018-08-09</td>\n",
       "      <td>114166</td>\n",
       "      <td>Perfect little spot for a getaway. Loved the a...</td>\n",
       "    </tr>\n",
       "  </tbody>\n",
       "</table>\n",
       "</div>"
      ],
      "text/plain": [
       "       listing_id       date  reviewer_id  \\\n",
       "26051     2693700 2015-04-18     28833372   \n",
       "233531   26961134 2018-08-09       114166   \n",
       "\n",
       "                                                 comments  \n",
       "26051   The room was absolutely charming. Not only was...  \n",
       "233531  Perfect little spot for a getaway. Loved the a...  "
      ]
     },
     "execution_count": 5,
     "metadata": {},
     "output_type": "execute_result"
    }
   ],
   "source": [
    "# get a sample data for quick access\n",
    "sample_review = review_df.sample(frac=0.05, random_state= RANDOM_STATE)\n",
    "print(sample_review.shape)\n",
    "sample_review.head(2)"
   ]
  },
  {
   "cell_type": "code",
   "execution_count": 6,
   "metadata": {
    "cell_id": "f7721ef0e4d840f9906dc534edcec6a8",
    "deepnote_cell_type": "code",
    "deepnote_to_be_reexecuted": false,
    "execution_millis": 2,
    "execution_start": 1680287925006,
    "source_hash": "af5a1761"
   },
   "outputs": [],
   "source": [
    "# tokenize comments\n",
    "def tokenize_text(text):\n",
    "    \n",
    "    stop_words = set(stopwords.words(\"english\"))\n",
    "    # tokenize the text\n",
    "    text_tokenized = word_tokenize(text)     \n",
    "    # remove stopwords and non alpha words\n",
    "    text_removed_sw = [word.lower() for word in text_tokenized if (word.isalpha()) & (word.lower() not in stop_words)]\n",
    "    # no stemming since we want to show the words\n",
    "#     # stem each word\n",
    "#     stemmer = PorterStemmer()\n",
    "#     text_stemmed = [stemmer.stem(word) for word in text_removed_sw]\n",
    "    return text_removed_sw"
   ]
  },
  {
   "cell_type": "code",
   "execution_count": 7,
   "metadata": {
    "cell_id": "52ff52ff7cd84efa85935f4fdfac11c1",
    "deepnote_cell_type": "code",
    "deepnote_to_be_reexecuted": false,
    "execution_millis": 15036,
    "execution_start": 1680287925012,
    "source_hash": "b040c9dc"
   },
   "outputs": [
    {
     "name": "stdout",
     "output_type": "stream",
     "text": [
      "CPU times: user 14.6 s, sys: 346 ms, total: 14.9 s\n",
      "Wall time: 15 s\n"
     ]
    }
   ],
   "source": [
    "%%time\n",
    "sample_review['comments_tokenized'] = sample_review['comments'].apply(lambda x: tokenize_text(x)).apply(' '.join)"
   ]
  },
  {
   "cell_type": "code",
   "execution_count": 8,
   "metadata": {
    "cell_id": "85e4e2e3243f4e8dae2bb7e592b0fc94",
    "deepnote_cell_type": "code",
    "deepnote_to_be_reexecuted": false,
    "execution_millis": 2,
    "execution_start": 1680287940073,
    "source_hash": "5f5f696c"
   },
   "outputs": [
    {
     "data": {
      "application/vnd.deepnote.dataframe.v3+json": {
       "column_count": 5,
       "columns": [
        {
         "dtype": "object",
         "name": "listing_id",
         "stats": {
          "categories": [
           {
            "count": 1,
            "name": "2693700"
           },
           {
            "count": 1,
            "name": "26961134"
           }
          ],
          "nan_count": 0,
          "unique_count": 2
         }
        },
        {
         "dtype": "datetime64[ns]",
         "name": "date",
         "stats": {
          "histogram": [
           {
            "bin_end": 1439760960000000000,
            "bin_start": 1429315200000000000,
            "count": 1
           },
           {
            "bin_end": 1450206720000000000,
            "bin_start": 1439760960000000000,
            "count": 0
           },
           {
            "bin_end": 1460652480000000000,
            "bin_start": 1450206720000000000,
            "count": 0
           },
           {
            "bin_end": 1471098240000000000,
            "bin_start": 1460652480000000000,
            "count": 0
           },
           {
            "bin_end": 1481544000000000000,
            "bin_start": 1471098240000000000,
            "count": 0
           },
           {
            "bin_end": 1491989760000000000,
            "bin_start": 1481544000000000000,
            "count": 0
           },
           {
            "bin_end": 1502435520000000000,
            "bin_start": 1491989760000000000,
            "count": 0
           },
           {
            "bin_end": 1512881280000000000,
            "bin_start": 1502435520000000000,
            "count": 0
           },
           {
            "bin_end": 1523327040000000000,
            "bin_start": 1512881280000000000,
            "count": 0
           },
           {
            "bin_end": 1533772800000000000,
            "bin_start": 1523327040000000000,
            "count": 1
           }
          ],
          "max": "2018-08-09 00:00:00",
          "min": "2015-04-18 00:00:00",
          "nan_count": 0,
          "unique_count": 2
         }
        },
        {
         "dtype": "int64",
         "name": "reviewer_id",
         "stats": {
          "histogram": [
           {
            "bin_end": 2986086.6,
            "bin_start": 114166,
            "count": 1
           },
           {
            "bin_end": 5858007.2,
            "bin_start": 2986086.6,
            "count": 0
           },
           {
            "bin_end": 8729927.8,
            "bin_start": 5858007.2,
            "count": 0
           },
           {
            "bin_end": 11601848.4,
            "bin_start": 8729927.8,
            "count": 0
           },
           {
            "bin_end": 14473769,
            "bin_start": 11601848.4,
            "count": 0
           },
           {
            "bin_end": 17345689.6,
            "bin_start": 14473769,
            "count": 0
           },
           {
            "bin_end": 20217610.2,
            "bin_start": 17345689.6,
            "count": 0
           },
           {
            "bin_end": 23089530.8,
            "bin_start": 20217610.2,
            "count": 0
           },
           {
            "bin_end": 25961451.400000002,
            "bin_start": 23089530.8,
            "count": 0
           },
           {
            "bin_end": 28833372,
            "bin_start": 25961451.400000002,
            "count": 1
           }
          ],
          "max": "28833372",
          "min": "114166",
          "nan_count": 0,
          "unique_count": 2
         }
        },
        {
         "dtype": "object",
         "name": "comments",
         "stats": {
          "categories": [
           {
            "count": 1,
            "name": "The room was absolutely charming. Not only was the space welcoming, bed comfortable, and deep soaking tub delightful, but our host left special treats for us like local coffee, bath salts, chocolate, and quality staples. We enjoyed the tasteful music and reading the books. The outdoor patio was gorgeous. We can't say enough good things about this place or our host. For those of you who are sensitive to noise, there was some foot traffic since the host and her family live above the apartment, but it didn't bother us."
           },
           {
            "count": 1,
            "name": "Perfect little spot for a getaway. Loved the autonomy of coming and going without having to coordinate arrival times. Very clean and comfortable spot in a quiet neighbourhood. Easy to find and close to lots of great spots to eat, drink and shop!"
           }
          ],
          "nan_count": 0,
          "unique_count": 2
         }
        },
        {
         "dtype": "object",
         "name": "comments_tokenized",
         "stats": {
          "categories": [
           {
            "count": 1,
            "name": "room absolutely charming space welcoming bed comfortable deep soaking tub delightful host left special treats us like local coffee bath salts chocolate quality staples enjoyed tasteful music reading books outdoor patio gorgeous ca say enough good things place host sensitive noise foot traffic since host family live apartment bother us"
           },
           {
            "count": 1,
            "name": "perfect little spot getaway loved autonomy coming going without coordinate arrival times clean comfortable spot quiet neighbourhood easy find close lots great spots eat drink shop"
           }
          ],
          "nan_count": 0,
          "unique_count": 2
         }
        },
        {
         "dtype": "int64",
         "name": "_deepnote_index_column"
        }
       ],
       "row_count": 2,
       "rows": [
        {
         "_deepnote_index_column": "26051",
         "comments": "The room was absolutely charming. Not only was the space welcoming, bed comfortable, and deep soaking tub delightful, but our host left special treats for us like local coffee, bath salts, chocolate, and quality staples. We enjoyed the tasteful music and reading the books. The outdoor patio was gorgeous. We can't say enough good things about this place or our host. For those of you who are sensitive to noise, there was some foot traffic since the host and her family live above the apartment, but it didn't bother us.",
         "comments_tokenized": "room absolutely charming space welcoming bed comfortable deep soaking tub delightful host left special treats us like local coffee bath salts chocolate quality staples enjoyed tasteful music reading books outdoor patio gorgeous ca say enough good things place host sensitive noise foot traffic since host family live apartment bother us",
         "date": "2015-04-18 00:00:00",
         "listing_id": "2693700",
         "reviewer_id": "28833372"
        },
        {
         "_deepnote_index_column": "233531",
         "comments": "Perfect little spot for a getaway. Loved the autonomy of coming and going without having to coordinate arrival times. Very clean and comfortable spot in a quiet neighbourhood. Easy to find and close to lots of great spots to eat, drink and shop!",
         "comments_tokenized": "perfect little spot getaway loved autonomy coming going without coordinate arrival times clean comfortable spot quiet neighbourhood easy find close lots great spots eat drink shop",
         "date": "2018-08-09 00:00:00",
         "listing_id": "26961134",
         "reviewer_id": "114166"
        }
       ]
      },
      "text/html": [
       "<div>\n",
       "<style scoped>\n",
       "    .dataframe tbody tr th:only-of-type {\n",
       "        vertical-align: middle;\n",
       "    }\n",
       "\n",
       "    .dataframe tbody tr th {\n",
       "        vertical-align: top;\n",
       "    }\n",
       "\n",
       "    .dataframe thead th {\n",
       "        text-align: right;\n",
       "    }\n",
       "</style>\n",
       "<table border=\"1\" class=\"dataframe\">\n",
       "  <thead>\n",
       "    <tr style=\"text-align: right;\">\n",
       "      <th></th>\n",
       "      <th>listing_id</th>\n",
       "      <th>date</th>\n",
       "      <th>reviewer_id</th>\n",
       "      <th>comments</th>\n",
       "      <th>comments_tokenized</th>\n",
       "    </tr>\n",
       "  </thead>\n",
       "  <tbody>\n",
       "    <tr>\n",
       "      <th>26051</th>\n",
       "      <td>2693700</td>\n",
       "      <td>2015-04-18</td>\n",
       "      <td>28833372</td>\n",
       "      <td>The room was absolutely charming. Not only was...</td>\n",
       "      <td>room absolutely charming space welcoming bed c...</td>\n",
       "    </tr>\n",
       "    <tr>\n",
       "      <th>233531</th>\n",
       "      <td>26961134</td>\n",
       "      <td>2018-08-09</td>\n",
       "      <td>114166</td>\n",
       "      <td>Perfect little spot for a getaway. Loved the a...</td>\n",
       "      <td>perfect little spot getaway loved autonomy com...</td>\n",
       "    </tr>\n",
       "  </tbody>\n",
       "</table>\n",
       "</div>"
      ],
      "text/plain": [
       "       listing_id       date  reviewer_id  \\\n",
       "26051     2693700 2015-04-18     28833372   \n",
       "233531   26961134 2018-08-09       114166   \n",
       "\n",
       "                                                 comments  \\\n",
       "26051   The room was absolutely charming. Not only was...   \n",
       "233531  Perfect little spot for a getaway. Loved the a...   \n",
       "\n",
       "                                       comments_tokenized  \n",
       "26051   room absolutely charming space welcoming bed c...  \n",
       "233531  perfect little spot getaway loved autonomy com...  "
      ]
     },
     "execution_count": 8,
     "metadata": {},
     "output_type": "execute_result"
    }
   ],
   "source": [
    "sample_review.head(2)"
   ]
  },
  {
   "cell_type": "markdown",
   "metadata": {
    "cell_id": "5157a9ef62db4b30bd76cbb5d778e2a4",
    "deepnote_cell_type": "markdown"
   },
   "source": [
    "### Review sentiment analysis using Vader"
   ]
  },
  {
   "cell_type": "code",
   "execution_count": 9,
   "metadata": {
    "cell_id": "ba91fb342db24d74a2bdc1d75a9898bd",
    "deepnote_cell_type": "code",
    "deepnote_to_be_reexecuted": false,
    "execution_millis": 22,
    "execution_start": 1680287940079,
    "source_hash": "a3e16441"
   },
   "outputs": [],
   "source": [
    "# estimate polarity socre using Vader\n",
    "from nltk.sentiment.vader import SentimentIntensityAnalyzer\n",
    "\n",
    "def vader_polarity_score(df,col):\n",
    "    vader_pol_score = lambda s: (SentimentIntensityAnalyzer().polarity_scores(s))['compound']\n",
    "    df[col + '_pol_vader'] = df[col].apply(vader_pol_score)\n",
    "    return df"
   ]
  },
  {
   "cell_type": "code",
   "execution_count": 10,
   "metadata": {
    "cell_id": "4a05655497d947ff9db3ba36704963bc",
    "deepnote_cell_type": "code",
    "deepnote_to_be_reexecuted": false,
    "execution_millis": 169129,
    "execution_start": 1680287940108,
    "source_hash": "c97336ed"
   },
   "outputs": [
    {
     "name": "stdout",
     "output_type": "stream",
     "text": [
      "CPU times: user 2min 47s, sys: 649 ms, total: 2min 48s\n",
      "Wall time: 2min 49s\n"
     ]
    }
   ],
   "source": [
    "%%time\n",
    "sample_review = vader_polarity_score(sample_review,'comments')"
   ]
  },
  {
   "cell_type": "code",
   "execution_count": 11,
   "metadata": {
    "cell_id": "d7912373d0ed4c46a350f5d44035303f",
    "deepnote_cell_type": "code",
    "deepnote_to_be_reexecuted": false,
    "execution_millis": 133048,
    "execution_start": 1680288109241,
    "source_hash": "1757e7c5"
   },
   "outputs": [
    {
     "name": "stdout",
     "output_type": "stream",
     "text": [
      "CPU times: user 2min 12s, sys: 171 ms, total: 2min 12s\n",
      "Wall time: 2min 13s\n"
     ]
    }
   ],
   "source": [
    "%%time\n",
    "sample_review = vader_polarity_score(sample_review,'comments_tokenized')"
   ]
  },
  {
   "cell_type": "code",
   "execution_count": 12,
   "metadata": {
    "cell_id": "f5d94a0cc29042f38dacc0445fe1cf1e",
    "deepnote_cell_type": "code",
    "deepnote_to_be_reexecuted": false,
    "execution_millis": 4,
    "execution_start": 1680288242288,
    "source_hash": "1d563948"
   },
   "outputs": [
    {
     "data": {
      "application/vnd.deepnote.dataframe.v3+json": {
       "column_count": 7,
       "columns": [
        {
         "dtype": "object",
         "name": "listing_id",
         "stats": {
          "categories": [
           {
            "count": 1,
            "name": "2693700"
           },
           {
            "count": 1,
            "name": "26961134"
           },
           {
            "count": 3,
            "name": "3 others"
           }
          ],
          "nan_count": 0,
          "unique_count": 5
         }
        },
        {
         "dtype": "datetime64[ns]",
         "name": "date",
         "stats": {
          "histogram": [
           {
            "bin_end": 1452504960000000000,
            "bin_start": 1429315200000000000,
            "count": 1
           },
           {
            "bin_end": 1475694720000000000,
            "bin_start": 1452504960000000000,
            "count": 0
           },
           {
            "bin_end": 1498884480000000000,
            "bin_start": 1475694720000000000,
            "count": 0
           },
           {
            "bin_end": 1522074240000000000,
            "bin_start": 1498884480000000000,
            "count": 0
           },
           {
            "bin_end": 1545264000000000000,
            "bin_start": 1522074240000000000,
            "count": 1
           },
           {
            "bin_end": 1568453760000000000,
            "bin_start": 1545264000000000000,
            "count": 0
           },
           {
            "bin_end": 1591643520000000000,
            "bin_start": 1568453760000000000,
            "count": 0
           },
           {
            "bin_end": 1614833280000000000,
            "bin_start": 1591643520000000000,
            "count": 1
           },
           {
            "bin_end": 1638023040000000000,
            "bin_start": 1614833280000000000,
            "count": 0
           },
           {
            "bin_end": 1661212800000000000,
            "bin_start": 1638023040000000000,
            "count": 2
           }
          ],
          "max": "2022-08-23 00:00:00",
          "min": "2015-04-18 00:00:00",
          "nan_count": 0,
          "unique_count": 5
         }
        },
        {
         "dtype": "int64",
         "name": "reviewer_id",
         "stats": {
          "histogram": [
           {
            "bin_end": 15457548.7,
            "bin_start": 114166,
            "count": 1
           },
           {
            "bin_end": 30800931.4,
            "bin_start": 15457548.7,
            "count": 2
           },
           {
            "bin_end": 46144314.099999994,
            "bin_start": 30800931.4,
            "count": 0
           },
           {
            "bin_end": 61487696.8,
            "bin_start": 46144314.099999994,
            "count": 0
           },
           {
            "bin_end": 76831079.5,
            "bin_start": 61487696.8,
            "count": 0
           },
           {
            "bin_end": 92174462.19999999,
            "bin_start": 76831079.5,
            "count": 0
           },
           {
            "bin_end": 107517844.89999999,
            "bin_start": 92174462.19999999,
            "count": 0
           },
           {
            "bin_end": 122861227.6,
            "bin_start": 107517844.89999999,
            "count": 0
           },
           {
            "bin_end": 138204610.29999998,
            "bin_start": 122861227.6,
            "count": 1
           },
           {
            "bin_end": 153547993,
            "bin_start": 138204610.29999998,
            "count": 1
           }
          ],
          "max": "153547993",
          "min": "114166",
          "nan_count": 0,
          "unique_count": 5
         }
        },
        {
         "dtype": "object",
         "name": "comments",
         "stats": {
          "categories": [
           {
            "count": 1,
            "name": "The room was absolutely charming. Not only was the space welcoming, bed comfortable, and deep soaking tub delightful, but our host left special treats for us like local coffee, bath salts, chocolate, and quality staples. We enjoyed the tasteful music and reading the books. The outdoor patio was gorgeous. We can't say enough good things about this place or our host. For those of you who are sensitive to noise, there was some foot traffic since the host and her family live above the apartment, but it didn't bother us."
           },
           {
            "count": 1,
            "name": "Perfect little spot for a getaway. Loved the autonomy of coming and going without having to coordinate arrival times. Very clean and comfortable spot in a quiet neighbourhood. Easy to find and close to lots of great spots to eat, drink and shop!"
           },
           {
            "count": 3,
            "name": "3 others"
           }
          ],
          "nan_count": 0,
          "unique_count": 5
         }
        },
        {
         "dtype": "object",
         "name": "comments_tokenized",
         "stats": {
          "categories": [
           {
            "count": 1,
            "name": "room absolutely charming space welcoming bed comfortable deep soaking tub delightful host left special treats us like local coffee bath salts chocolate quality staples enjoyed tasteful music reading books outdoor patio gorgeous ca say enough good things place host sensitive noise foot traffic since host family live apartment bother us"
           },
           {
            "count": 1,
            "name": "perfect little spot getaway loved autonomy coming going without coordinate arrival times clean comfortable spot quiet neighbourhood easy find close lots great spots eat drink shop"
           },
           {
            "count": 3,
            "name": "3 others"
           }
          ],
          "nan_count": 0,
          "unique_count": 5
         }
        },
        {
         "dtype": "float64",
         "name": "comments_pol_vader",
         "stats": {
          "histogram": [
           {
            "bin_end": 0.81433,
            "bin_start": 0.7964,
            "count": 1
           },
           {
            "bin_end": 0.83226,
            "bin_start": 0.81433,
            "count": 0
           },
           {
            "bin_end": 0.85019,
            "bin_start": 0.83226,
            "count": 0
           },
           {
            "bin_end": 0.86812,
            "bin_start": 0.85019,
            "count": 1
           },
           {
            "bin_end": 0.88605,
            "bin_start": 0.86812,
            "count": 0
           },
           {
            "bin_end": 0.90398,
            "bin_start": 0.88605,
            "count": 0
           },
           {
            "bin_end": 0.92191,
            "bin_start": 0.90398,
            "count": 0
           },
           {
            "bin_end": 0.93984,
            "bin_start": 0.92191,
            "count": 1
           },
           {
            "bin_end": 0.95777,
            "bin_start": 0.93984,
            "count": 0
           },
           {
            "bin_end": 0.9757,
            "bin_start": 0.95777,
            "count": 2
           }
          ],
          "max": "0.9757",
          "min": "0.7964",
          "nan_count": 0,
          "unique_count": 5
         }
        },
        {
         "dtype": "float64",
         "name": "comments_tokenized_pol_vader",
         "stats": {
          "histogram": [
           {
            "bin_end": 0.81482,
            "bin_start": 0.7964,
            "count": 1
           },
           {
            "bin_end": 0.83324,
            "bin_start": 0.81482,
            "count": 0
           },
           {
            "bin_end": 0.85166,
            "bin_start": 0.83324,
            "count": 1
           },
           {
            "bin_end": 0.87008,
            "bin_start": 0.85166,
            "count": 0
           },
           {
            "bin_end": 0.8885000000000001,
            "bin_start": 0.87008,
            "count": 0
           },
           {
            "bin_end": 0.90692,
            "bin_start": 0.8885000000000001,
            "count": 0
           },
           {
            "bin_end": 0.92534,
            "bin_start": 0.90692,
            "count": 0
           },
           {
            "bin_end": 0.94376,
            "bin_start": 0.92534,
            "count": 1
           },
           {
            "bin_end": 0.96218,
            "bin_start": 0.94376,
            "count": 0
           },
           {
            "bin_end": 0.9806,
            "bin_start": 0.96218,
            "count": 2
           }
          ],
          "max": "0.9806",
          "min": "0.7964",
          "nan_count": 0,
          "unique_count": 5
         }
        },
        {
         "dtype": "int64",
         "name": "_deepnote_index_column"
        }
       ],
       "row_count": 5,
       "rows": [
        {
         "_deepnote_index_column": "26051",
         "comments": "The room was absolutely charming. Not only was the space welcoming, bed comfortable, and deep soaking tub delightful, but our host left special treats for us like local coffee, bath salts, chocolate, and quality staples. We enjoyed the tasteful music and reading the books. The outdoor patio was gorgeous. We can't say enough good things about this place or our host. For those of you who are sensitive to noise, there was some foot traffic since the host and her family live above the apartment, but it didn't bother us.",
         "comments_pol_vader": "0.9757",
         "comments_tokenized": "room absolutely charming space welcoming bed comfortable deep soaking tub delightful host left special treats us like local coffee bath salts chocolate quality staples enjoyed tasteful music reading books outdoor patio gorgeous ca say enough good things place host sensitive noise foot traffic since host family live apartment bother us",
         "comments_tokenized_pol_vader": "0.9806",
         "date": "2015-04-18 00:00:00",
         "listing_id": "2693700",
         "reviewer_id": "28833372"
        },
        {
         "_deepnote_index_column": "233531",
         "comments": "Perfect little spot for a getaway. Loved the autonomy of coming and going without having to coordinate arrival times. Very clean and comfortable spot in a quiet neighbourhood. Easy to find and close to lots of great spots to eat, drink and shop!",
         "comments_pol_vader": "0.97",
         "comments_tokenized": "perfect little spot getaway loved autonomy coming going without coordinate arrival times clean comfortable spot quiet neighbourhood easy find close lots great spots eat drink shop",
         "comments_tokenized_pol_vader": "0.9654",
         "date": "2018-08-09 00:00:00",
         "listing_id": "26961134",
         "reviewer_id": "114166"
        },
        {
         "_deepnote_index_column": "230941",
         "comments": "Great place to stay in a great area!",
         "comments_pol_vader": "0.8588",
         "comments_tokenized": "great place stay great area",
         "comments_tokenized_pol_vader": "0.8481",
         "date": "2022-08-23 00:00:00",
         "listing_id": "26804995",
         "reviewer_id": "153547993"
        },
        {
         "_deepnote_index_column": "371448",
         "comments": "We really enjoyed our stay at Vince’s place. Great location on a quiet block in a lovely neighborhood. Would definitely recommend!",
         "comments_pol_vader": "0.9335",
         "comments_tokenized": "really enjoyed stay vince place great location quiet block lovely neighborhood would definitely recommend",
         "comments_tokenized_pol_vader": "0.9299",
         "date": "2022-07-04 00:00:00",
         "listing_id": "654310843421448825",
         "reviewer_id": "24748581"
        },
        {
         "_deepnote_index_column": "320629",
         "comments": "Neat hotel in a great location",
         "comments_pol_vader": "0.7964",
         "comments_tokenized": "neat hotel great location",
         "comments_tokenized_pol_vader": "0.7964",
         "date": "2020-12-22 00:00:00",
         "listing_id": "49229073",
         "reviewer_id": "136486144"
        }
       ]
      },
      "text/html": [
       "<div>\n",
       "<style scoped>\n",
       "    .dataframe tbody tr th:only-of-type {\n",
       "        vertical-align: middle;\n",
       "    }\n",
       "\n",
       "    .dataframe tbody tr th {\n",
       "        vertical-align: top;\n",
       "    }\n",
       "\n",
       "    .dataframe thead th {\n",
       "        text-align: right;\n",
       "    }\n",
       "</style>\n",
       "<table border=\"1\" class=\"dataframe\">\n",
       "  <thead>\n",
       "    <tr style=\"text-align: right;\">\n",
       "      <th></th>\n",
       "      <th>listing_id</th>\n",
       "      <th>date</th>\n",
       "      <th>reviewer_id</th>\n",
       "      <th>comments</th>\n",
       "      <th>comments_tokenized</th>\n",
       "      <th>comments_pol_vader</th>\n",
       "      <th>comments_tokenized_pol_vader</th>\n",
       "    </tr>\n",
       "  </thead>\n",
       "  <tbody>\n",
       "    <tr>\n",
       "      <th>26051</th>\n",
       "      <td>2693700</td>\n",
       "      <td>2015-04-18</td>\n",
       "      <td>28833372</td>\n",
       "      <td>The room was absolutely charming. Not only was...</td>\n",
       "      <td>room absolutely charming space welcoming bed c...</td>\n",
       "      <td>0.9757</td>\n",
       "      <td>0.9806</td>\n",
       "    </tr>\n",
       "    <tr>\n",
       "      <th>233531</th>\n",
       "      <td>26961134</td>\n",
       "      <td>2018-08-09</td>\n",
       "      <td>114166</td>\n",
       "      <td>Perfect little spot for a getaway. Loved the a...</td>\n",
       "      <td>perfect little spot getaway loved autonomy com...</td>\n",
       "      <td>0.9700</td>\n",
       "      <td>0.9654</td>\n",
       "    </tr>\n",
       "    <tr>\n",
       "      <th>230941</th>\n",
       "      <td>26804995</td>\n",
       "      <td>2022-08-23</td>\n",
       "      <td>153547993</td>\n",
       "      <td>Great place to stay in a great area!</td>\n",
       "      <td>great place stay great area</td>\n",
       "      <td>0.8588</td>\n",
       "      <td>0.8481</td>\n",
       "    </tr>\n",
       "    <tr>\n",
       "      <th>371448</th>\n",
       "      <td>654310843421448825</td>\n",
       "      <td>2022-07-04</td>\n",
       "      <td>24748581</td>\n",
       "      <td>We really enjoyed our stay at Vince’s place. G...</td>\n",
       "      <td>really enjoyed stay vince place great location...</td>\n",
       "      <td>0.9335</td>\n",
       "      <td>0.9299</td>\n",
       "    </tr>\n",
       "    <tr>\n",
       "      <th>320629</th>\n",
       "      <td>49229073</td>\n",
       "      <td>2020-12-22</td>\n",
       "      <td>136486144</td>\n",
       "      <td>Neat hotel in a great location</td>\n",
       "      <td>neat hotel great location</td>\n",
       "      <td>0.7964</td>\n",
       "      <td>0.7964</td>\n",
       "    </tr>\n",
       "  </tbody>\n",
       "</table>\n",
       "</div>"
      ],
      "text/plain": [
       "                listing_id       date  reviewer_id  \\\n",
       "26051              2693700 2015-04-18     28833372   \n",
       "233531            26961134 2018-08-09       114166   \n",
       "230941            26804995 2022-08-23    153547993   \n",
       "371448  654310843421448825 2022-07-04     24748581   \n",
       "320629            49229073 2020-12-22    136486144   \n",
       "\n",
       "                                                 comments  \\\n",
       "26051   The room was absolutely charming. Not only was...   \n",
       "233531  Perfect little spot for a getaway. Loved the a...   \n",
       "230941               Great place to stay in a great area!   \n",
       "371448  We really enjoyed our stay at Vince’s place. G...   \n",
       "320629                     Neat hotel in a great location   \n",
       "\n",
       "                                       comments_tokenized  comments_pol_vader  \\\n",
       "26051   room absolutely charming space welcoming bed c...              0.9757   \n",
       "233531  perfect little spot getaway loved autonomy com...              0.9700   \n",
       "230941                        great place stay great area              0.8588   \n",
       "371448  really enjoyed stay vince place great location...              0.9335   \n",
       "320629                          neat hotel great location              0.7964   \n",
       "\n",
       "        comments_tokenized_pol_vader  \n",
       "26051                         0.9806  \n",
       "233531                        0.9654  \n",
       "230941                        0.8481  \n",
       "371448                        0.9299  \n",
       "320629                        0.7964  "
      ]
     },
     "execution_count": 12,
     "metadata": {},
     "output_type": "execute_result"
    }
   ],
   "source": [
    "sample_review.head(5)"
   ]
  },
  {
   "cell_type": "code",
   "execution_count": 13,
   "metadata": {
    "cell_id": "f21ee281e8c5495cb56e0ace85b82b5e",
    "deepnote_cell_type": "code",
    "deepnote_to_be_reexecuted": false,
    "execution_millis": 692,
    "execution_start": 1680288242329,
    "source_hash": "c421ae47"
   },
   "outputs": [
    {
     "data": {
      "image/png": "[encoded data removed]",
      "text/plain": [
       "<Figure size 640x480 with 1 Axes>"
      ]
     },
     "metadata": {
      "image/png": {
       "height": 455,
       "width": 580
      }
     },
     "output_type": "display_data"
    }
   ],
   "source": [
    "sns.histplot(data=sample_review, x='comments_pol_vader', bins=25, kde=True);\n",
    "plt.title('Distribution of comments polarity scores (Vader)');"
   ]
  },
  {
   "cell_type": "code",
   "execution_count": 14,
   "metadata": {
    "cell_id": "ee349e7a70d844fa9ee37bbb3ba8ea0f",
    "deepnote_cell_type": "code",
    "deepnote_to_be_reexecuted": false,
    "execution_millis": 6,
    "execution_start": 1680288243025,
    "source_hash": "ac39698c"
   },
   "outputs": [
    {
     "data": {
      "text/plain": [
       "count    18759.000000\n",
       "mean         0.847389\n",
       "std          0.211155\n",
       "min         -0.979300\n",
       "25%          0.821300\n",
       "50%          0.920800\n",
       "75%          0.963000\n",
       "max          0.999000\n",
       "Name: comments_pol_vader, dtype: float64"
      ]
     },
     "execution_count": 14,
     "metadata": {},
     "output_type": "execute_result"
    }
   ],
   "source": [
    "sample_review['comments_pol_vader'].describe()"
   ]
  },
  {
   "cell_type": "code",
   "execution_count": 15,
   "metadata": {
    "cell_id": "2ee6dc3dc2c04d1faa814411d4340a85",
    "deepnote_cell_type": "code",
    "deepnote_to_be_reexecuted": false,
    "execution_millis": 3,
    "execution_start": 1680288243081,
    "source_hash": "70d7b2b6"
   },
   "outputs": [],
   "source": [
    "# check if there are some large diffences polarity score between tokenized and untokenized\n",
    "condition = (sample_review['comments_pol_vader']-sample_review['comments_tokenized_pol_vader'] > 0.9)"
   ]
  },
  {
   "cell_type": "code",
   "execution_count": 16,
   "metadata": {
    "cell_id": "84ca39ef2edc40c48e2239d61f6b05a1",
    "deepnote_cell_type": "code",
    "deepnote_to_be_reexecuted": false,
    "execution_millis": 2,
    "execution_start": 1680288243082,
    "source_hash": "afc7bead"
   },
   "outputs": [
    {
     "data": {
      "text/plain": [
       "array([  182,  1273,  1744,  5647,  5668, 10297, 10403, 11777, 13594,\n",
       "       17259])"
      ]
     },
     "execution_count": 16,
     "metadata": {},
     "output_type": "execute_result"
    }
   ],
   "source": [
    "dif_idx= np.where(condition)[0]\n",
    "dif_idx"
   ]
  },
  {
   "cell_type": "code",
   "execution_count": 17,
   "metadata": {
    "cell_id": "c0425ce9ca1c446ca7494d52bdb8cdcf",
    "deepnote_cell_type": "code",
    "deepnote_to_be_reexecuted": false,
    "execution_millis": 19,
    "execution_start": 1680288243083,
    "source_hash": "4b68c045"
   },
   "outputs": [
    {
     "data": {
      "application/vnd.deepnote.dataframe.v3+json": {
       "column_count": 7,
       "columns": [
        {
         "dtype": "object",
         "name": "listing_id",
         "stats": {
          "categories": [
           {
            "count": 1,
            "name": "32793488"
           },
           {
            "count": 1,
            "name": "27208473"
           },
           {
            "count": 1,
            "name": "45960931"
           }
          ],
          "nan_count": 0,
          "unique_count": 3
         }
        },
        {
         "dtype": "datetime64[ns]",
         "name": "date",
         "stats": {
          "histogram": [
           {
            "bin_end": 1583046720000000000,
            "bin_start": 1575676800000000000,
            "count": 1
           },
           {
            "bin_end": 1590416640000000000,
            "bin_start": 1583046720000000000,
            "count": 0
           },
           {
            "bin_end": 1597786560000000000,
            "bin_start": 1590416640000000000,
            "count": 0
           },
           {
            "bin_end": 1605156480000000000,
            "bin_start": 1597786560000000000,
            "count": 1
           },
           {
            "bin_end": 1612526400000000000,
            "bin_start": 1605156480000000000,
            "count": 0
           },
           {
            "bin_end": 1619896320000000000,
            "bin_start": 1612526400000000000,
            "count": 0
           },
           {
            "bin_end": 1627266240000000000,
            "bin_start": 1619896320000000000,
            "count": 0
           },
           {
            "bin_end": 1634636160000000000,
            "bin_start": 1627266240000000000,
            "count": 0
           },
           {
            "bin_end": 1642006080000000000,
            "bin_start": 1634636160000000000,
            "count": 0
           },
           {
            "bin_end": 1649376000000000000,
            "bin_start": 1642006080000000000,
            "count": 1
           }
          ],
          "max": "2022-04-08 00:00:00",
          "min": "2019-12-07 00:00:00",
          "nan_count": 0,
          "unique_count": 3
         }
        },
        {
         "dtype": "int64",
         "name": "reviewer_id",
         "stats": {
          "histogram": [
           {
            "bin_end": 13184445.6,
            "bin_start": 1918775,
            "count": 1
           },
           {
            "bin_end": 24450116.2,
            "bin_start": 13184445.6,
            "count": 0
           },
           {
            "bin_end": 35715786.8,
            "bin_start": 24450116.2,
            "count": 1
           },
           {
            "bin_end": 46981457.4,
            "bin_start": 35715786.8,
            "count": 0
           },
           {
            "bin_end": 58247128,
            "bin_start": 46981457.4,
            "count": 0
           },
           {
            "bin_end": 69512798.6,
            "bin_start": 58247128,
            "count": 0
           },
           {
            "bin_end": 80778469.2,
            "bin_start": 69512798.6,
            "count": 0
           },
           {
            "bin_end": 92044139.8,
            "bin_start": 80778469.2,
            "count": 0
           },
           {
            "bin_end": 103309810.39999999,
            "bin_start": 92044139.8,
            "count": 0
           },
           {
            "bin_end": 114575481,
            "bin_start": 103309810.39999999,
            "count": 1
           }
          ],
          "max": "114575481",
          "min": "1918775",
          "nan_count": 0,
          "unique_count": 3
         }
        },
        {
         "dtype": "object",
         "name": "comments",
         "stats": {
          "categories": [
           {
            "count": 1,
            "name": "The interior design is beautiful. <br/><br/>However, the cleanliness of the house was totally unacceptable. When I arrived, the house smelled like a dirty kitty litter and I discovered the garbage hadn’t been taken out for a week. I reported it to Brendan and he immediately offered to take the garbage out and credit me $35. That was great. <br/><br/>It went downhill from there and I discovered so many dirty things: dirty and crusty baking sheets in the oven, both cutting boards were dirty, crumbs in the kitchen drawers, dirty dishes in the cupboards, bed nightstand wasn’t wiped down, and the only kitchen dish towel I could find smelled dirty. In a time of Covid-19 and higher sanitation standards, it made me inspect everything I touched and wonder if it’s dirty. I wanted to take a bath, but opted not to since I would need to clean the bath tub to feel comfortable. <br/><br/>I reported all these issues to Brandon and he reacted with surprise and shock, but no offers to reduce the rent or clean the house. I considered contacting AirBnB to move out but I’d just arrived from Indonesia and was quarantining so didn’t want to deal with the hassle of complaining and moving. Throughout my remaining days I discovered many more things but didn’t tell Brandon since it seemed he wouldn’t make any changes (cat hair covering the dining room chair, outdoor patio furniture dirty, the list goes on). The day before I checked out Brendan messaged me asking if he could improve anything but after 6 days in the dirty house his offer seemed disingenuous and I was leaving the next day.<br/><br/>I’m not a clean freak and have never written a negative review on AirBnB. I paid $1,000 for the week so expect a high standard of cleanliness. Due to this experience, I probably won’t stay at AirBnBs during Covid-19."
           },
           {
            "count": 1,
            "name": "From the very beginning of my booking Julia’s home to check out, I was met with nothing but quick and clear responses to any question that I posed. The place is gorgeous and in a prime location for finding much to do.<br/><br/>At first, I was a bit worried about the noise from the bar that’s next door, but that didn’t really bother me. Julia was very transparent about the potential inconvenience and I really appreciated it.<br/><br/>This was a work trip for me and, by the time I made it back to the apartment, I was too tired to really mind the extra noise. Otherwise, some headphones and a white noise generator will suit you just fine. :)"
           },
           {
            "count": 1,
            "name": "It’s not a house nor an apartment.<br/><br/>It is an office renovated into a living place.. so Its very noise, cold but with that price not a bad place !"
           }
          ],
          "nan_count": 0,
          "unique_count": 3
         }
        },
        {
         "dtype": "object",
         "name": "comments_tokenized",
         "stats": {
          "categories": [
           {
            "count": 1,
            "name": "interior design beautiful however cleanliness house totally unacceptable arrived house smelled like dirty kitty litter discovered garbage taken week reported brendan immediately offered take garbage credit great went downhill discovered many dirty things dirty crusty baking sheets oven cutting boards dirty crumbs kitchen drawers dirty dishes cupboards bed nightstand wiped kitchen dish towel could find smelled dirty time higher sanitation standards made inspect everything touched wonder dirty wanted take bath opted since would need clean bath tub feel comfortable reported issues brandon reacted surprise shock offers reduce rent clean house considered contacting airbnb move arrived indonesia quarantining want deal hassle complaining moving throughout remaining days discovered many things tell brandon since seemed make changes cat hair covering dining room chair outdoor patio furniture dirty list goes day checked brendan messaged asking could improve anything days dirty house offer seemed disingenuous leaving next clean freak never written negative review airbnb paid week expect high standard cleanliness due experience probably stay airbnbs"
           },
           {
            "count": 1,
            "name": "beginning booking julia home check met nothing quick clear responses question posed place gorgeous prime location finding much first bit worried noise bar next door really bother julia transparent potential inconvenience really appreciated work trip time made back apartment tired really mind extra noise otherwise headphones white noise generator suit fine"
           },
           {
            "count": 1,
            "name": "house office renovated living place noise cold price bad place"
           }
          ],
          "nan_count": 0,
          "unique_count": 3
         }
        },
        {
         "dtype": "float64",
         "name": "comments_pol_vader",
         "stats": {
          "histogram": [
           {
            "bin_end": 0.64615,
            "bin_start": 0.6208,
            "count": 1
           },
           {
            "bin_end": 0.6715,
            "bin_start": 0.64615,
            "count": 0
           },
           {
            "bin_end": 0.69685,
            "bin_start": 0.6715,
            "count": 0
           },
           {
            "bin_end": 0.7222,
            "bin_start": 0.69685,
            "count": 0
           },
           {
            "bin_end": 0.7475499999999999,
            "bin_start": 0.7222,
            "count": 0
           },
           {
            "bin_end": 0.7728999999999999,
            "bin_start": 0.7475499999999999,
            "count": 0
           },
           {
            "bin_end": 0.79825,
            "bin_start": 0.7728999999999999,
            "count": 0
           },
           {
            "bin_end": 0.8236,
            "bin_start": 0.79825,
            "count": 1
           },
           {
            "bin_end": 0.84895,
            "bin_start": 0.8236,
            "count": 0
           },
           {
            "bin_end": 0.8743,
            "bin_start": 0.84895,
            "count": 1
           }
          ],
          "max": "0.8743",
          "min": "0.6208",
          "nan_count": 0,
          "unique_count": 3
         }
        },
        {
         "dtype": "float64",
         "name": "comments_tokenized_pol_vader",
         "stats": {
          "histogram": [
           {
            "bin_end": -0.51502,
            "bin_start": -0.5423,
            "count": 2
           },
           {
            "bin_end": -0.48774,
            "bin_start": -0.51502,
            "count": 0
           },
           {
            "bin_end": -0.46046,
            "bin_start": -0.48774,
            "count": 0
           },
           {
            "bin_end": -0.43318,
            "bin_start": -0.46046,
            "count": 0
           },
           {
            "bin_end": -0.40590000000000004,
            "bin_start": -0.43318,
            "count": 0
           },
           {
            "bin_end": -0.37862,
            "bin_start": -0.40590000000000004,
            "count": 0
           },
           {
            "bin_end": -0.35134,
            "bin_start": -0.37862,
            "count": 0
           },
           {
            "bin_end": -0.32406,
            "bin_start": -0.35134,
            "count": 0
           },
           {
            "bin_end": -0.29678000000000004,
            "bin_start": -0.32406,
            "count": 0
           },
           {
            "bin_end": -0.2695,
            "bin_start": -0.29678000000000004,
            "count": 1
           }
          ],
          "max": "-0.2695",
          "min": "-0.5423",
          "nan_count": 0,
          "unique_count": 3
         }
        },
        {
         "dtype": "int64",
         "name": "_deepnote_index_column"
        }
       ],
       "row_count": 3,
       "rows": [
        {
         "_deepnote_index_column": "266959",
         "comments": "The interior design is beautiful. <br/><br/>However, the cleanliness of the house was totally unacceptable. When I arrived, the house smelled like a dirty kitty litter and I discovered the garbage hadn’t been taken out for a week. I reported it to Brendan and he immediately offered to take the garbage out and credit me $35. That was great. <br/><br/>It went downhill from there and I discovered so many dirty things: dirty and crusty baking sheets in the oven, both cutting boards were dirty, crumbs in the kitchen drawers, dirty dishes in the cupboards, bed nightstand wasn’t wiped down, and the only kitchen dish towel I could find smelled dirty. In a time of Covid-19 and higher sanitation standards, it made me inspect everything I touched and wonder if it’s dirty. I wanted to take a bath, but opted not to since I would need to clean the bath tub to feel comfortable. <br/><br/>I reported all these issues to Brandon and he reacted with surprise and shock, but no offers to reduce the rent o…",
         "comments_pol_vader": "0.8743",
         "comments_tokenized": "interior design beautiful however cleanliness house totally unacceptable arrived house smelled like dirty kitty litter discovered garbage taken week reported brendan immediately offered take garbage credit great went downhill discovered many dirty things dirty crusty baking sheets oven cutting boards dirty crumbs kitchen drawers dirty dishes cupboards bed nightstand wiped kitchen dish towel could find smelled dirty time higher sanitation standards made inspect everything touched wonder dirty wanted take bath opted since would need clean bath tub feel comfortable reported issues brandon reacted surprise shock offers reduce rent clean house considered contacting airbnb move arrived indonesia quarantining want deal hassle complaining moving throughout remaining days discovered many things tell brandon since seemed make changes cat hair covering dining room chair outdoor patio furniture dirty list goes day checked brendan messaged asking could improve anything days dirty house offer seeme…",
         "comments_tokenized_pol_vader": "-0.5259",
         "date": "2020-09-19 00:00:00",
         "listing_id": "32793488",
         "reviewer_id": "1918775"
        },
        {
         "_deepnote_index_column": "236611",
         "comments": "From the very beginning of my booking Julia’s home to check out, I was met with nothing but quick and clear responses to any question that I posed. The place is gorgeous and in a prime location for finding much to do.<br/><br/>At first, I was a bit worried about the noise from the bar that’s next door, but that didn’t really bother me. Julia was very transparent about the potential inconvenience and I really appreciated it.<br/><br/>This was a work trip for me and, by the time I made it back to the apartment, I was too tired to really mind the extra noise. Otherwise, some headphones and a white noise generator will suit you just fine. :)",
         "comments_pol_vader": "0.8201",
         "comments_tokenized": "beginning booking julia home check met nothing quick clear responses question posed place gorgeous prime location finding much first bit worried noise bar next door really bother julia transparent potential inconvenience really appreciated work trip time made back apartment tired really mind extra noise otherwise headphones white noise generator suit fine",
         "comments_tokenized_pol_vader": "-0.2695",
         "date": "2019-12-07 00:00:00",
         "listing_id": "27208473",
         "reviewer_id": "34865547"
        },
        {
         "_deepnote_index_column": "309593",
         "comments": "It’s not a house nor an apartment.<br/><br/>It is an office renovated into a living place.. so Its very noise, cold but with that price not a bad place !",
         "comments_pol_vader": "0.6208",
         "comments_tokenized": "house office renovated living place noise cold price bad place",
         "comments_tokenized_pol_vader": "-0.5423",
         "date": "2022-04-08 00:00:00",
         "listing_id": "45960931",
         "reviewer_id": "114575481"
        }
       ]
      },
      "text/html": [
       "<div>\n",
       "<style scoped>\n",
       "    .dataframe tbody tr th:only-of-type {\n",
       "        vertical-align: middle;\n",
       "    }\n",
       "\n",
       "    .dataframe tbody tr th {\n",
       "        vertical-align: top;\n",
       "    }\n",
       "\n",
       "    .dataframe thead th {\n",
       "        text-align: right;\n",
       "    }\n",
       "</style>\n",
       "<table border=\"1\" class=\"dataframe\">\n",
       "  <thead>\n",
       "    <tr style=\"text-align: right;\">\n",
       "      <th></th>\n",
       "      <th>listing_id</th>\n",
       "      <th>date</th>\n",
       "      <th>reviewer_id</th>\n",
       "      <th>comments</th>\n",
       "      <th>comments_tokenized</th>\n",
       "      <th>comments_pol_vader</th>\n",
       "      <th>comments_tokenized_pol_vader</th>\n",
       "    </tr>\n",
       "  </thead>\n",
       "  <tbody>\n",
       "    <tr>\n",
       "      <th>266959</th>\n",
       "      <td>32793488</td>\n",
       "      <td>2020-09-19</td>\n",
       "      <td>1918775</td>\n",
       "      <td>The interior design is beautiful. &lt;br/&gt;&lt;br/&gt;Ho...</td>\n",
       "      <td>interior design beautiful however cleanliness ...</td>\n",
       "      <td>0.8743</td>\n",
       "      <td>-0.5259</td>\n",
       "    </tr>\n",
       "    <tr>\n",
       "      <th>236611</th>\n",
       "      <td>27208473</td>\n",
       "      <td>2019-12-07</td>\n",
       "      <td>34865547</td>\n",
       "      <td>From the very beginning of my booking Julia’s ...</td>\n",
       "      <td>beginning booking julia home check met nothing...</td>\n",
       "      <td>0.8201</td>\n",
       "      <td>-0.2695</td>\n",
       "    </tr>\n",
       "    <tr>\n",
       "      <th>309593</th>\n",
       "      <td>45960931</td>\n",
       "      <td>2022-04-08</td>\n",
       "      <td>114575481</td>\n",
       "      <td>It’s not a house nor an apartment.&lt;br/&gt;&lt;br/&gt;It...</td>\n",
       "      <td>house office renovated living place noise cold...</td>\n",
       "      <td>0.6208</td>\n",
       "      <td>-0.5423</td>\n",
       "    </tr>\n",
       "  </tbody>\n",
       "</table>\n",
       "</div>"
      ],
      "text/plain": [
       "       listing_id       date  reviewer_id  \\\n",
       "266959   32793488 2020-09-19      1918775   \n",
       "236611   27208473 2019-12-07     34865547   \n",
       "309593   45960931 2022-04-08    114575481   \n",
       "\n",
       "                                                 comments  \\\n",
       "266959  The interior design is beautiful. <br/><br/>Ho...   \n",
       "236611  From the very beginning of my booking Julia’s ...   \n",
       "309593  It’s not a house nor an apartment.<br/><br/>It...   \n",
       "\n",
       "                                       comments_tokenized  comments_pol_vader  \\\n",
       "266959  interior design beautiful however cleanliness ...              0.8743   \n",
       "236611  beginning booking julia home check met nothing...              0.8201   \n",
       "309593  house office renovated living place noise cold...              0.6208   \n",
       "\n",
       "        comments_tokenized_pol_vader  \n",
       "266959                       -0.5259  \n",
       "236611                       -0.2695  \n",
       "309593                       -0.5423  "
      ]
     },
     "execution_count": 17,
     "metadata": {},
     "output_type": "execute_result"
    }
   ],
   "source": [
    "dif_reviews = sample_review.iloc[dif_idx[:3]]\n",
    "dif_reviews"
   ]
  },
  {
   "cell_type": "markdown",
   "metadata": {
    "cell_id": "d663b81a8f254d73aaf7ddfecd207847",
    "deepnote_cell_type": "markdown"
   },
   "source": [
    "The three example polarity scores estimated on the original comments are positive, while those estimated on tokenized comments are negative. Let's see whether they should be positive or negative."
   ]
  },
  {
   "cell_type": "code",
   "execution_count": 20,
   "metadata": {
    "cell_id": "8d78f9ce752c4e0aa1d31c8d3126f027",
    "deepnote_cell_type": "code",
    "deepnote_to_be_reexecuted": false,
    "execution_millis": 2,
    "execution_start": 1680288429406,
    "source_hash": "1fb06ec"
   },
   "outputs": [
    {
     "name": "stdout",
     "output_type": "stream",
     "text": [
      "The interior design is beautiful. <br/><br/>However, the cleanliness of the house was totally unacceptable. When I arrived, the house smelled like a dirty kitty litter and I discovered the garbage hadn’t been taken out for a week. I reported it to Brendan and he immediately offered to take the garbage out and credit me $35. That was great. <br/><br/>It went downhill from there and I discovered so many dirty things: dirty and crusty baking sheets in the oven, both cutting boards were dirty, crumbs in the kitchen drawers, dirty dishes in the cupboards, bed nightstand wasn’t wiped down, and the only kitchen dish towel I could find smelled dirty. In a time of Covid-19 and higher sanitation standards, it made me inspect everything I touched and wonder if it’s dirty. I wanted to take a bath, but opted not to since I would need to clean the bath tub to feel comfortable. <br/><br/>I reported all these issues to Brandon and he reacted with surprise and shock, but no offers to reduce the rent or clean the house. I considered contacting AirBnB to move out but I’d just arrived from Indonesia and was quarantining so didn’t want to deal with the hassle of complaining and moving. Throughout my remaining days I discovered many more things but didn’t tell Brandon since it seemed he wouldn’t make any changes (cat hair covering the dining room chair, outdoor patio furniture dirty, the list goes on). The day before I checked out Brendan messaged me asking if he could improve anything but after 6 days in the dirty house his offer seemed disingenuous and I was leaving the next day.<br/><br/>I’m not a clean freak and have never written a negative review on AirBnB. I paid $1,000 for the week so expect a high standard of cleanliness. Due to this experience, I probably won’t stay at AirBnBs during Covid-19.\n",
      "---\n",
      "From the very beginning of my booking Julia’s home to check out, I was met with nothing but quick and clear responses to any question that I posed. The place is gorgeous and in a prime location for finding much to do.<br/><br/>At first, I was a bit worried about the noise from the bar that’s next door, but that didn’t really bother me. Julia was very transparent about the potential inconvenience and I really appreciated it.<br/><br/>This was a work trip for me and, by the time I made it back to the apartment, I was too tired to really mind the extra noise. Otherwise, some headphones and a white noise generator will suit you just fine. :)\n",
      "---\n",
      "It’s not a house nor an apartment.<br/><br/>It is an office renovated into a living place.. so Its very noise, cold but with that price not a bad place !\n"
     ]
    }
   ],
   "source": [
    "# idx = dif_reviews\n",
    "\n",
    "print(dif_reviews['comments'][266959])\n",
    "print('---')\n",
    "print(dif_reviews['comments'][236611])\n",
    "print('---')\n",
    "print(dif_reviews['comments'][309593])"
   ]
  },
  {
   "cell_type": "markdown",
   "metadata": {
    "cell_id": "20c0ac0704b443c4af1b3b7533dcdb6e",
    "deepnote_cell_type": "markdown"
   },
   "source": [
    "Seem all the three commments should be positive, so the polarity scores estimated on the original comments are more accurate."
   ]
  },
  {
   "cell_type": "markdown",
   "metadata": {
    "cell_id": "0322a449f1e84c8cab780cd58f92f900",
    "deepnote_cell_type": "markdown"
   },
   "source": [
    "Findings:\n",
    "1. Vader works better on the original text. It can handle captitalizations and punctuations(eg:LIKE, GREAT, ALL, !!).For example: the polarity score of the original comment,\"ALL five stars\", is 0.80 and the score of tokenized version,\"five stars\", is only 0.47.\n",
    "2. Vader doesn't work well on some of the tokenized comments, because words like 'dont', 'no' are not in the tokenized comments. Need to include these word in the tokenized comments, and consider about bi-gram tokenization.\n",
    "3. The majority polarity scores are positive with a a mean of 0.84.\n",
    "    "
   ]
  },
  {
   "cell_type": "markdown",
   "metadata": {
    "cell_id": "7ad3ca58ffd34de8b43d3998a856391a",
    "deepnote_cell_type": "markdown"
   },
   "source": [
    "### Review sentiment analysis using TextBlob"
   ]
  },
  {
   "cell_type": "code",
   "execution_count": 21,
   "metadata": {
    "cell_id": "7fa0b619d80e4748b08a3b9b967f2f6e",
    "deepnote_cell_type": "code",
    "deepnote_to_be_reexecuted": false,
    "execution_millis": 72,
    "execution_start": 1680288441578,
    "source_hash": "64c0ad7a"
   },
   "outputs": [],
   "source": [
    "# estimate polarity socre using TextBlob\n",
    "from textblob import TextBlob\n",
    "\n",
    "def textblob_polarity_score(df,col):\n",
    "    textblob_pol_score = lambda s: (TextBlob(s).sentiment.polarity)\n",
    "    df[col + '_pol_textblob'] = df[col].apply(textblob_pol_score)\n",
    "    return df"
   ]
  },
  {
   "cell_type": "code",
   "execution_count": 22,
   "metadata": {
    "cell_id": "fe4e1f9202ca44928af1c4f2f48eb9da",
    "deepnote_cell_type": "code",
    "deepnote_to_be_reexecuted": false,
    "execution_millis": 4673,
    "execution_start": 1680288443719,
    "source_hash": "bace2f55"
   },
   "outputs": [
    {
     "name": "stdout",
     "output_type": "stream",
     "text": [
      "CPU times: user 4.62 s, sys: 31.8 ms, total: 4.66 s\n",
      "Wall time: 4.67 s\n"
     ]
    }
   ],
   "source": [
    "%%time\n",
    "sample_review = textblob_polarity_score(sample_review,'comments_tokenized')"
   ]
  },
  {
   "cell_type": "code",
   "execution_count": 23,
   "metadata": {
    "cell_id": "3062d237924a463b8fe0d4e321bc3f59",
    "deepnote_cell_type": "code",
    "deepnote_to_be_reexecuted": false,
    "execution_millis": 29,
    "execution_start": 1680288448396,
    "source_hash": "cd0c263b"
   },
   "outputs": [
    {
     "data": {
      "application/vnd.deepnote.dataframe.v3+json": {
       "column_count": 8,
       "columns": [
        {
         "dtype": "object",
         "name": "listing_id",
         "stats": {
          "categories": [
           {
            "count": 1,
            "name": "2693700"
           },
           {
            "count": 1,
            "name": "26961134"
           },
           {
            "count": 1,
            "name": "26804995"
           }
          ],
          "nan_count": 0,
          "unique_count": 3
         }
        },
        {
         "dtype": "datetime64[ns]",
         "name": "date",
         "stats": {
          "histogram": [
           {
            "bin_end": 1452504960000000000,
            "bin_start": 1429315200000000000,
            "count": 1
           },
           {
            "bin_end": 1475694720000000000,
            "bin_start": 1452504960000000000,
            "count": 0
           },
           {
            "bin_end": 1498884480000000000,
            "bin_start": 1475694720000000000,
            "count": 0
           },
           {
            "bin_end": 1522074240000000000,
            "bin_start": 1498884480000000000,
            "count": 0
           },
           {
            "bin_end": 1545264000000000000,
            "bin_start": 1522074240000000000,
            "count": 1
           },
           {
            "bin_end": 1568453760000000000,
            "bin_start": 1545264000000000000,
            "count": 0
           },
           {
            "bin_end": 1591643520000000000,
            "bin_start": 1568453760000000000,
            "count": 0
           },
           {
            "bin_end": 1614833280000000000,
            "bin_start": 1591643520000000000,
            "count": 0
           },
           {
            "bin_end": 1638023040000000000,
            "bin_start": 1614833280000000000,
            "count": 0
           },
           {
            "bin_end": 1661212800000000000,
            "bin_start": 1638023040000000000,
            "count": 1
           }
          ],
          "max": "2022-08-23 00:00:00",
          "min": "2015-04-18 00:00:00",
          "nan_count": 0,
          "unique_count": 3
         }
        },
        {
         "dtype": "int64",
         "name": "reviewer_id",
         "stats": {
          "histogram": [
           {
            "bin_end": 15457548.7,
            "bin_start": 114166,
            "count": 1
           },
           {
            "bin_end": 30800931.4,
            "bin_start": 15457548.7,
            "count": 1
           },
           {
            "bin_end": 46144314.099999994,
            "bin_start": 30800931.4,
            "count": 0
           },
           {
            "bin_end": 61487696.8,
            "bin_start": 46144314.099999994,
            "count": 0
           },
           {
            "bin_end": 76831079.5,
            "bin_start": 61487696.8,
            "count": 0
           },
           {
            "bin_end": 92174462.19999999,
            "bin_start": 76831079.5,
            "count": 0
           },
           {
            "bin_end": 107517844.89999999,
            "bin_start": 92174462.19999999,
            "count": 0
           },
           {
            "bin_end": 122861227.6,
            "bin_start": 107517844.89999999,
            "count": 0
           },
           {
            "bin_end": 138204610.29999998,
            "bin_start": 122861227.6,
            "count": 0
           },
           {
            "bin_end": 153547993,
            "bin_start": 138204610.29999998,
            "count": 1
           }
          ],
          "max": "153547993",
          "min": "114166",
          "nan_count": 0,
          "unique_count": 3
         }
        },
        {
         "dtype": "object",
         "name": "comments",
         "stats": {
          "categories": [
           {
            "count": 1,
            "name": "The room was absolutely charming. Not only was the space welcoming, bed comfortable, and deep soaking tub delightful, but our host left special treats for us like local coffee, bath salts, chocolate, and quality staples. We enjoyed the tasteful music and reading the books. The outdoor patio was gorgeous. We can't say enough good things about this place or our host. For those of you who are sensitive to noise, there was some foot traffic since the host and her family live above the apartment, but it didn't bother us."
           },
           {
            "count": 1,
            "name": "Perfect little spot for a getaway. Loved the autonomy of coming and going without having to coordinate arrival times. Very clean and comfortable spot in a quiet neighbourhood. Easy to find and close to lots of great spots to eat, drink and shop!"
           },
           {
            "count": 1,
            "name": "Great place to stay in a great area!"
           }
          ],
          "nan_count": 0,
          "unique_count": 3
         }
        },
        {
         "dtype": "object",
         "name": "comments_tokenized",
         "stats": {
          "categories": [
           {
            "count": 1,
            "name": "room absolutely charming space welcoming bed comfortable deep soaking tub delightful host left special treats us like local coffee bath salts chocolate quality staples enjoyed tasteful music reading books outdoor patio gorgeous ca say enough good things place host sensitive noise foot traffic since host family live apartment bother us"
           },
           {
            "count": 1,
            "name": "perfect little spot getaway loved autonomy coming going without coordinate arrival times clean comfortable spot quiet neighbourhood easy find close lots great spots eat drink shop"
           },
           {
            "count": 1,
            "name": "great place stay great area"
           }
          ],
          "nan_count": 0,
          "unique_count": 3
         }
        },
        {
         "dtype": "float64",
         "name": "comments_pol_vader",
         "stats": {
          "histogram": [
           {
            "bin_end": 0.87049,
            "bin_start": 0.8588,
            "count": 1
           },
           {
            "bin_end": 0.88218,
            "bin_start": 0.87049,
            "count": 0
           },
           {
            "bin_end": 0.89387,
            "bin_start": 0.88218,
            "count": 0
           },
           {
            "bin_end": 0.90556,
            "bin_start": 0.89387,
            "count": 0
           },
           {
            "bin_end": 0.91725,
            "bin_start": 0.90556,
            "count": 0
           },
           {
            "bin_end": 0.92894,
            "bin_start": 0.91725,
            "count": 0
           },
           {
            "bin_end": 0.94063,
            "bin_start": 0.92894,
            "count": 0
           },
           {
            "bin_end": 0.95232,
            "bin_start": 0.94063,
            "count": 0
           },
           {
            "bin_end": 0.96401,
            "bin_start": 0.95232,
            "count": 0
           },
           {
            "bin_end": 0.9757,
            "bin_start": 0.96401,
            "count": 2
           }
          ],
          "max": "0.9757",
          "min": "0.8588",
          "nan_count": 0,
          "unique_count": 3
         }
        },
        {
         "dtype": "float64",
         "name": "comments_tokenized_pol_vader",
         "stats": {
          "histogram": [
           {
            "bin_end": 0.86135,
            "bin_start": 0.8481,
            "count": 1
           },
           {
            "bin_end": 0.8745999999999999,
            "bin_start": 0.86135,
            "count": 0
           },
           {
            "bin_end": 0.88785,
            "bin_start": 0.8745999999999999,
            "count": 0
           },
           {
            "bin_end": 0.9011,
            "bin_start": 0.88785,
            "count": 0
           },
           {
            "bin_end": 0.91435,
            "bin_start": 0.9011,
            "count": 0
           },
           {
            "bin_end": 0.9276,
            "bin_start": 0.91435,
            "count": 0
           },
           {
            "bin_end": 0.94085,
            "bin_start": 0.9276,
            "count": 0
           },
           {
            "bin_end": 0.9541000000000001,
            "bin_start": 0.94085,
            "count": 0
           },
           {
            "bin_end": 0.96735,
            "bin_start": 0.9541000000000001,
            "count": 1
           },
           {
            "bin_end": 0.9806,
            "bin_start": 0.96735,
            "count": 1
           }
          ],
          "max": "0.9806",
          "min": "0.8481",
          "nan_count": 0,
          "unique_count": 3
         }
        },
        {
         "dtype": "float64",
         "name": "comments_tokenized_pol_textblob",
         "stats": {
          "histogram": [
           {
            "bin_end": 0.39801198801198806,
            "bin_start": 0.3533466533466534,
            "count": 1
           },
           {
            "bin_end": 0.44267732267732274,
            "bin_start": 0.39801198801198806,
            "count": 1
           },
           {
            "bin_end": 0.48734265734265736,
            "bin_start": 0.44267732267732274,
            "count": 0
           },
           {
            "bin_end": 0.5320079920079921,
            "bin_start": 0.48734265734265736,
            "count": 0
           },
           {
            "bin_end": 0.5766733266733267,
            "bin_start": 0.5320079920079921,
            "count": 0
           },
           {
            "bin_end": 0.6213386613386613,
            "bin_start": 0.5766733266733267,
            "count": 0
           },
           {
            "bin_end": 0.6660039960039961,
            "bin_start": 0.6213386613386613,
            "count": 0
           },
           {
            "bin_end": 0.7106693306693307,
            "bin_start": 0.6660039960039961,
            "count": 0
           },
           {
            "bin_end": 0.7553346653346653,
            "bin_start": 0.7106693306693307,
            "count": 0
           },
           {
            "bin_end": 0.8,
            "bin_start": 0.7553346653346653,
            "count": 1
           }
          ],
          "max": "0.8",
          "min": "0.3533466533466534",
          "nan_count": 0,
          "unique_count": 3
         }
        },
        {
         "dtype": "int64",
         "name": "_deepnote_index_column"
        }
       ],
       "row_count": 3,
       "rows": [
        {
         "_deepnote_index_column": "26051",
         "comments": "The room was absolutely charming. Not only was the space welcoming, bed comfortable, and deep soaking tub delightful, but our host left special treats for us like local coffee, bath salts, chocolate, and quality staples. We enjoyed the tasteful music and reading the books. The outdoor patio was gorgeous. We can't say enough good things about this place or our host. For those of you who are sensitive to noise, there was some foot traffic since the host and her family live above the apartment, but it didn't bother us.",
         "comments_pol_vader": "0.9757",
         "comments_tokenized": "room absolutely charming space welcoming bed comfortable deep soaking tub delightful host left special treats us like local coffee bath salts chocolate quality staples enjoyed tasteful music reading books outdoor patio gorgeous ca say enough good things place host sensitive noise foot traffic since host family live apartment bother us",
         "comments_tokenized_pol_textblob": "0.3533466533466534",
         "comments_tokenized_pol_vader": "0.9806",
         "date": "2015-04-18 00:00:00",
         "listing_id": "2693700",
         "reviewer_id": "28833372"
        },
        {
         "_deepnote_index_column": "233531",
         "comments": "Perfect little spot for a getaway. Loved the autonomy of coming and going without having to coordinate arrival times. Very clean and comfortable spot in a quiet neighbourhood. Easy to find and close to lots of great spots to eat, drink and shop!",
         "comments_pol_vader": "0.97",
         "comments_tokenized": "perfect little spot getaway loved autonomy coming going without coordinate arrival times clean comfortable spot quiet neighbourhood easy find close lots great spots eat drink shop",
         "comments_tokenized_pol_textblob": "0.4390625",
         "comments_tokenized_pol_vader": "0.9654",
         "date": "2018-08-09 00:00:00",
         "listing_id": "26961134",
         "reviewer_id": "114166"
        },
        {
         "_deepnote_index_column": "230941",
         "comments": "Great place to stay in a great area!",
         "comments_pol_vader": "0.8588",
         "comments_tokenized": "great place stay great area",
         "comments_tokenized_pol_textblob": "0.8",
         "comments_tokenized_pol_vader": "0.8481",
         "date": "2022-08-23 00:00:00",
         "listing_id": "26804995",
         "reviewer_id": "153547993"
        }
       ]
      },
      "text/html": [
       "<div>\n",
       "<style scoped>\n",
       "    .dataframe tbody tr th:only-of-type {\n",
       "        vertical-align: middle;\n",
       "    }\n",
       "\n",
       "    .dataframe tbody tr th {\n",
       "        vertical-align: top;\n",
       "    }\n",
       "\n",
       "    .dataframe thead th {\n",
       "        text-align: right;\n",
       "    }\n",
       "</style>\n",
       "<table border=\"1\" class=\"dataframe\">\n",
       "  <thead>\n",
       "    <tr style=\"text-align: right;\">\n",
       "      <th></th>\n",
       "      <th>listing_id</th>\n",
       "      <th>date</th>\n",
       "      <th>reviewer_id</th>\n",
       "      <th>comments</th>\n",
       "      <th>comments_tokenized</th>\n",
       "      <th>comments_pol_vader</th>\n",
       "      <th>comments_tokenized_pol_vader</th>\n",
       "      <th>comments_tokenized_pol_textblob</th>\n",
       "    </tr>\n",
       "  </thead>\n",
       "  <tbody>\n",
       "    <tr>\n",
       "      <th>26051</th>\n",
       "      <td>2693700</td>\n",
       "      <td>2015-04-18</td>\n",
       "      <td>28833372</td>\n",
       "      <td>The room was absolutely charming. Not only was...</td>\n",
       "      <td>room absolutely charming space welcoming bed c...</td>\n",
       "      <td>0.9757</td>\n",
       "      <td>0.9806</td>\n",
       "      <td>0.353347</td>\n",
       "    </tr>\n",
       "    <tr>\n",
       "      <th>233531</th>\n",
       "      <td>26961134</td>\n",
       "      <td>2018-08-09</td>\n",
       "      <td>114166</td>\n",
       "      <td>Perfect little spot for a getaway. Loved the a...</td>\n",
       "      <td>perfect little spot getaway loved autonomy com...</td>\n",
       "      <td>0.9700</td>\n",
       "      <td>0.9654</td>\n",
       "      <td>0.439063</td>\n",
       "    </tr>\n",
       "    <tr>\n",
       "      <th>230941</th>\n",
       "      <td>26804995</td>\n",
       "      <td>2022-08-23</td>\n",
       "      <td>153547993</td>\n",
       "      <td>Great place to stay in a great area!</td>\n",
       "      <td>great place stay great area</td>\n",
       "      <td>0.8588</td>\n",
       "      <td>0.8481</td>\n",
       "      <td>0.800000</td>\n",
       "    </tr>\n",
       "  </tbody>\n",
       "</table>\n",
       "</div>"
      ],
      "text/plain": [
       "       listing_id       date  reviewer_id  \\\n",
       "26051     2693700 2015-04-18     28833372   \n",
       "233531   26961134 2018-08-09       114166   \n",
       "230941   26804995 2022-08-23    153547993   \n",
       "\n",
       "                                                 comments  \\\n",
       "26051   The room was absolutely charming. Not only was...   \n",
       "233531  Perfect little spot for a getaway. Loved the a...   \n",
       "230941               Great place to stay in a great area!   \n",
       "\n",
       "                                       comments_tokenized  comments_pol_vader  \\\n",
       "26051   room absolutely charming space welcoming bed c...              0.9757   \n",
       "233531  perfect little spot getaway loved autonomy com...              0.9700   \n",
       "230941                        great place stay great area              0.8588   \n",
       "\n",
       "        comments_tokenized_pol_vader  comments_tokenized_pol_textblob  \n",
       "26051                         0.9806                         0.353347  \n",
       "233531                        0.9654                         0.439063  \n",
       "230941                        0.8481                         0.800000  "
      ]
     },
     "execution_count": 23,
     "metadata": {},
     "output_type": "execute_result"
    }
   ],
   "source": [
    "sample_review.head(3)"
   ]
  },
  {
   "cell_type": "code",
   "execution_count": 24,
   "metadata": {
    "cell_id": "4cd88457beae4e73808ff541dc602af7",
    "deepnote_cell_type": "code",
    "deepnote_to_be_reexecuted": false,
    "execution_millis": 675,
    "execution_start": 1680288448429,
    "source_hash": "d8945a8a"
   },
   "outputs": [
    {
     "data": {
      "image/png": "[encoded data removed]",
      "text/plain": [
       "<Figure size 640x480 with 1 Axes>"
      ]
     },
     "metadata": {
      "image/png": {
       "height": 455,
       "width": 580
      }
     },
     "output_type": "display_data"
    }
   ],
   "source": [
    "sns.histplot(data=sample_review, x='comments_tokenized_pol_textblob', bins=25, kde=True);\n",
    "plt.title('Distribution of comments polarity scores (TextBlob)');"
   ]
  },
  {
   "cell_type": "code",
   "execution_count": 25,
   "metadata": {
    "cell_id": "117a939d54ae4e8ebe05ea8c71d6edbf",
    "deepnote_cell_type": "code",
    "deepnote_to_be_reexecuted": false,
    "execution_millis": 12,
    "execution_start": 1680288453896,
    "source_hash": "16e3df0c"
   },
   "outputs": [
    {
     "data": {
      "text/plain": [
       "count    18759.000000\n",
       "mean         0.433056\n",
       "std          0.193913\n",
       "min         -0.750000\n",
       "25%          0.309444\n",
       "50%          0.416667\n",
       "75%          0.544444\n",
       "max          1.000000\n",
       "Name: comments_tokenized_pol_textblob, dtype: float64"
      ]
     },
     "execution_count": 25,
     "metadata": {},
     "output_type": "execute_result"
    }
   ],
   "source": [
    "sample_review['comments_tokenized_pol_textblob'].describe()"
   ]
  },
  {
   "cell_type": "code",
   "execution_count": 26,
   "metadata": {
    "cell_id": "d0befa8848764cd1bde20b190e219945",
    "deepnote_cell_type": "code",
    "deepnote_to_be_reexecuted": false,
    "execution_millis": 29,
    "execution_start": 1680288456656,
    "scrolled": false,
    "source_hash": "5a17446a"
   },
   "outputs": [
    {
     "data": {
      "application/vnd.deepnote.dataframe.v3+json": {
       "column_count": 8,
       "columns": [
        {
         "dtype": "object",
         "name": "listing_id",
         "stats": {
          "categories": [
           {
            "count": 1,
            "name": "17865690"
           },
           {
            "count": 1,
            "name": "36212430"
           },
           {
            "count": 3,
            "name": "3 others"
           }
          ],
          "nan_count": 0,
          "unique_count": 5
         }
        },
        {
         "dtype": "datetime64[ns]",
         "name": "date",
         "stats": {
          "histogram": [
           {
            "bin_end": 1543691520000000000,
            "bin_start": 1531180800000000000,
            "count": 1
           },
           {
            "bin_end": 1556202240000000000,
            "bin_start": 1543691520000000000,
            "count": 1
           },
           {
            "bin_end": 1568712960000000000,
            "bin_start": 1556202240000000000,
            "count": 1
           },
           {
            "bin_end": 1581223680000000000,
            "bin_start": 1568712960000000000,
            "count": 0
           },
           {
            "bin_end": 1593734400000000000,
            "bin_start": 1581223680000000000,
            "count": 0
           },
           {
            "bin_end": 1606245120000000000,
            "bin_start": 1593734400000000000,
            "count": 0
           },
           {
            "bin_end": 1618755840000000000,
            "bin_start": 1606245120000000000,
            "count": 1
           },
           {
            "bin_end": 1631266560000000000,
            "bin_start": 1618755840000000000,
            "count": 0
           },
           {
            "bin_end": 1643777280000000000,
            "bin_start": 1631266560000000000,
            "count": 0
           },
           {
            "bin_end": 1656288000000000000,
            "bin_start": 1643777280000000000,
            "count": 1
           }
          ],
          "max": "2022-06-27 00:00:00",
          "min": "2018-07-10 00:00:00",
          "nan_count": 0,
          "unique_count": 5
         }
        },
        {
         "dtype": "int64",
         "name": "reviewer_id",
         "stats": {
          "histogram": [
           {
            "bin_end": 52971538.3,
            "bin_start": 25150372,
            "count": 2
           },
           {
            "bin_end": 80792704.6,
            "bin_start": 52971538.3,
            "count": 0
           },
           {
            "bin_end": 108613870.9,
            "bin_start": 80792704.6,
            "count": 1
           },
           {
            "bin_end": 136435037.2,
            "bin_start": 108613870.9,
            "count": 0
           },
           {
            "bin_end": 164256203.5,
            "bin_start": 136435037.2,
            "count": 1
           },
           {
            "bin_end": 192077369.8,
            "bin_start": 164256203.5,
            "count": 0
           },
           {
            "bin_end": 219898536.1,
            "bin_start": 192077369.8,
            "count": 0
           },
           {
            "bin_end": 247719702.4,
            "bin_start": 219898536.1,
            "count": 0
           },
           {
            "bin_end": 275540868.70000005,
            "bin_start": 247719702.4,
            "count": 0
           },
           {
            "bin_end": 303362035,
            "bin_start": 275540868.70000005,
            "count": 1
           }
          ],
          "max": "303362035",
          "min": "25150372",
          "nan_count": 0,
          "unique_count": 5
         }
        },
        {
         "dtype": "object",
         "name": "comments",
         "stats": {
          "categories": [
           {
            "count": 1,
            "name": "Great space.  Beautiful backyard oasis, wonderful hospitality, well connected, excellent sleep.  Recommended!"
           },
           {
            "count": 1,
            "name": "Awesome and beautiful home!"
           },
           {
            "count": 3,
            "name": "3 others"
           }
          ],
          "nan_count": 0,
          "unique_count": 5
         }
        },
        {
         "dtype": "object",
         "name": "comments_tokenized",
         "stats": {
          "categories": [
           {
            "count": 1,
            "name": "great space beautiful backyard oasis wonderful hospitality well connected excellent sleep recommended"
           },
           {
            "count": 1,
            "name": "awesome beautiful home"
           },
           {
            "count": 3,
            "name": "3 others"
           }
          ],
          "nan_count": 0,
          "unique_count": 5
         }
        },
        {
         "dtype": "float64",
         "name": "comments_pol_vader",
         "stats": {
          "histogram": [
           {
            "bin_end": 0.85892,
            "bin_start": 0.8475,
            "count": 2
           },
           {
            "bin_end": 0.87034,
            "bin_start": 0.85892,
            "count": 1
           },
           {
            "bin_end": 0.88176,
            "bin_start": 0.87034,
            "count": 0
           },
           {
            "bin_end": 0.89318,
            "bin_start": 0.88176,
            "count": 0
           },
           {
            "bin_end": 0.9046000000000001,
            "bin_start": 0.89318,
            "count": 0
           },
           {
            "bin_end": 0.9160200000000001,
            "bin_start": 0.9046000000000001,
            "count": 0
           },
           {
            "bin_end": 0.92744,
            "bin_start": 0.9160200000000001,
            "count": 0
           },
           {
            "bin_end": 0.93886,
            "bin_start": 0.92744,
            "count": 1
           },
           {
            "bin_end": 0.95028,
            "bin_start": 0.93886,
            "count": 0
           },
           {
            "bin_end": 0.9617,
            "bin_start": 0.95028,
            "count": 1
           }
          ],
          "max": "0.9617",
          "min": "0.8475",
          "nan_count": 0,
          "unique_count": 5
         }
        },
        {
         "dtype": "float64",
         "name": "comments_tokenized_pol_vader",
         "stats": {
          "histogram": [
           {
            "bin_end": 0.84814,
            "bin_start": 0.8357,
            "count": 3
           },
           {
            "bin_end": 0.86058,
            "bin_start": 0.84814,
            "count": 0
           },
           {
            "bin_end": 0.87302,
            "bin_start": 0.86058,
            "count": 0
           },
           {
            "bin_end": 0.88546,
            "bin_start": 0.87302,
            "count": 0
           },
           {
            "bin_end": 0.8978999999999999,
            "bin_start": 0.88546,
            "count": 0
           },
           {
            "bin_end": 0.9103399999999999,
            "bin_start": 0.8978999999999999,
            "count": 0
           },
           {
            "bin_end": 0.9227799999999999,
            "bin_start": 0.9103399999999999,
            "count": 0
           },
           {
            "bin_end": 0.9352199999999999,
            "bin_start": 0.9227799999999999,
            "count": 1
           },
           {
            "bin_end": 0.94766,
            "bin_start": 0.9352199999999999,
            "count": 0
           },
           {
            "bin_end": 0.9601,
            "bin_start": 0.94766,
            "count": 1
           }
          ],
          "max": "0.9601",
          "min": "0.8357",
          "nan_count": 0,
          "unique_count": 5
         }
        },
        {
         "dtype": "float64",
         "name": "comments_tokenized_pol_textblob",
         "stats": {
          "histogram": [
           {
            "bin_end": 0.91375,
            "bin_start": 0.9125,
            "count": 1
           },
           {
            "bin_end": 0.915,
            "bin_start": 0.91375,
            "count": 0
           },
           {
            "bin_end": 0.91625,
            "bin_start": 0.915,
            "count": 0
           },
           {
            "bin_end": 0.9175,
            "bin_start": 0.91625,
            "count": 0
           },
           {
            "bin_end": 0.91875,
            "bin_start": 0.9175,
            "count": 0
           },
           {
            "bin_end": 0.92,
            "bin_start": 0.91875,
            "count": 0
           },
           {
            "bin_end": 0.92125,
            "bin_start": 0.92,
            "count": 0
           },
           {
            "bin_end": 0.9225,
            "bin_start": 0.92125,
            "count": 0
           },
           {
            "bin_end": 0.9237500000000001,
            "bin_start": 0.9225,
            "count": 0
           },
           {
            "bin_end": 0.925,
            "bin_start": 0.9237500000000001,
            "count": 4
           }
          ],
          "max": "0.925",
          "min": "0.9125",
          "nan_count": 0,
          "unique_count": 2
         }
        },
        {
         "dtype": "int64",
         "name": "_deepnote_index_column"
        }
       ],
       "row_count": 5,
       "rows": [
        {
         "_deepnote_index_column": "170934",
         "comments": "Great space.  Beautiful backyard oasis, wonderful hospitality, well connected, excellent sleep.  Recommended!",
         "comments_pol_vader": "0.9617",
         "comments_tokenized": "great space beautiful backyard oasis wonderful hospitality well connected excellent sleep recommended",
         "comments_tokenized_pol_textblob": "0.9125",
         "comments_tokenized_pol_vader": "0.9601",
         "date": "2019-08-13 00:00:00",
         "listing_id": "17865690",
         "reviewer_id": "25230985"
        },
        {
         "_deepnote_index_column": "283660",
         "comments": "Awesome and beautiful home!",
         "comments_pol_vader": "0.8516",
         "comments_tokenized": "awesome beautiful home",
         "comments_tokenized_pol_textblob": "0.925",
         "comments_tokenized_pol_vader": "0.8402",
         "date": "2021-02-21 00:00:00",
         "listing_id": "36212430",
         "reviewer_id": "303362035"
        },
        {
         "_deepnote_index_column": "184424",
         "comments": "Pam and Byron’s house was absolutely beautiful and the downstairs space was perfect for an overnight stay!",
         "comments_pol_vader": "0.8475",
         "comments_tokenized": "pam byron house absolutely beautiful downstairs space perfect overnight stay",
         "comments_tokenized_pol_textblob": "0.925",
         "comments_tokenized_pol_vader": "0.8357",
         "date": "2019-02-25 00:00:00",
         "listing_id": "20889482",
         "reviewer_id": "105492371"
        },
        {
         "_deepnote_index_column": "100238",
         "comments": "Emily/Trevor’s place is the perfect location to explore Seattle. You’re in the heart of Fremont and a stone throw away from some of the best restaurants in Seattle. They were incredibly responsive and provided some really great recommendations.  I wouldn’t hesitate to stay again!",
         "comments_pol_vader": "0.9358",
         "comments_tokenized": "place perfect location explore seattle heart fremont stone throw away best restaurants seattle incredibly responsive provided really great recommendations hesitate stay",
         "comments_tokenized_pol_textblob": "0.925",
         "comments_tokenized_pol_vader": "0.929",
         "date": "2018-07-10 00:00:00",
         "listing_id": "7745196",
         "reviewer_id": "25150372"
        },
        {
         "_deepnote_index_column": "225670",
         "comments": "Beautiful place !! Best views around .",
         "comments_pol_vader": "0.8652",
         "comments_tokenized": "beautiful place best views around",
         "comments_tokenized_pol_textblob": "0.925",
         "comments_tokenized_pol_vader": "0.8442",
         "date": "2022-06-27 00:00:00",
         "listing_id": "26466765",
         "reviewer_id": "153367900"
        }
       ]
      },
      "text/html": [
       "<div>\n",
       "<style scoped>\n",
       "    .dataframe tbody tr th:only-of-type {\n",
       "        vertical-align: middle;\n",
       "    }\n",
       "\n",
       "    .dataframe tbody tr th {\n",
       "        vertical-align: top;\n",
       "    }\n",
       "\n",
       "    .dataframe thead th {\n",
       "        text-align: right;\n",
       "    }\n",
       "</style>\n",
       "<table border=\"1\" class=\"dataframe\">\n",
       "  <thead>\n",
       "    <tr style=\"text-align: right;\">\n",
       "      <th></th>\n",
       "      <th>listing_id</th>\n",
       "      <th>date</th>\n",
       "      <th>reviewer_id</th>\n",
       "      <th>comments</th>\n",
       "      <th>comments_tokenized</th>\n",
       "      <th>comments_pol_vader</th>\n",
       "      <th>comments_tokenized_pol_vader</th>\n",
       "      <th>comments_tokenized_pol_textblob</th>\n",
       "    </tr>\n",
       "  </thead>\n",
       "  <tbody>\n",
       "    <tr>\n",
       "      <th>170934</th>\n",
       "      <td>17865690</td>\n",
       "      <td>2019-08-13</td>\n",
       "      <td>25230985</td>\n",
       "      <td>Great space.  Beautiful backyard oasis, wonder...</td>\n",
       "      <td>great space beautiful backyard oasis wonderful...</td>\n",
       "      <td>0.9617</td>\n",
       "      <td>0.9601</td>\n",
       "      <td>0.9125</td>\n",
       "    </tr>\n",
       "    <tr>\n",
       "      <th>283660</th>\n",
       "      <td>36212430</td>\n",
       "      <td>2021-02-21</td>\n",
       "      <td>303362035</td>\n",
       "      <td>Awesome and beautiful home!</td>\n",
       "      <td>awesome beautiful home</td>\n",
       "      <td>0.8516</td>\n",
       "      <td>0.8402</td>\n",
       "      <td>0.9250</td>\n",
       "    </tr>\n",
       "    <tr>\n",
       "      <th>184424</th>\n",
       "      <td>20889482</td>\n",
       "      <td>2019-02-25</td>\n",
       "      <td>105492371</td>\n",
       "      <td>Pam and Byron’s house was absolutely beautiful...</td>\n",
       "      <td>pam byron house absolutely beautiful downstair...</td>\n",
       "      <td>0.8475</td>\n",
       "      <td>0.8357</td>\n",
       "      <td>0.9250</td>\n",
       "    </tr>\n",
       "    <tr>\n",
       "      <th>100238</th>\n",
       "      <td>7745196</td>\n",
       "      <td>2018-07-10</td>\n",
       "      <td>25150372</td>\n",
       "      <td>Emily/Trevor’s place is the perfect location t...</td>\n",
       "      <td>place perfect location explore seattle heart f...</td>\n",
       "      <td>0.9358</td>\n",
       "      <td>0.9290</td>\n",
       "      <td>0.9250</td>\n",
       "    </tr>\n",
       "    <tr>\n",
       "      <th>225670</th>\n",
       "      <td>26466765</td>\n",
       "      <td>2022-06-27</td>\n",
       "      <td>153367900</td>\n",
       "      <td>Beautiful place !! Best views around .</td>\n",
       "      <td>beautiful place best views around</td>\n",
       "      <td>0.8652</td>\n",
       "      <td>0.8442</td>\n",
       "      <td>0.9250</td>\n",
       "    </tr>\n",
       "  </tbody>\n",
       "</table>\n",
       "</div>"
      ],
      "text/plain": [
       "       listing_id       date  reviewer_id  \\\n",
       "170934   17865690 2019-08-13     25230985   \n",
       "283660   36212430 2021-02-21    303362035   \n",
       "184424   20889482 2019-02-25    105492371   \n",
       "100238    7745196 2018-07-10     25150372   \n",
       "225670   26466765 2022-06-27    153367900   \n",
       "\n",
       "                                                 comments  \\\n",
       "170934  Great space.  Beautiful backyard oasis, wonder...   \n",
       "283660                        Awesome and beautiful home!   \n",
       "184424  Pam and Byron’s house was absolutely beautiful...   \n",
       "100238  Emily/Trevor’s place is the perfect location t...   \n",
       "225670             Beautiful place !! Best views around .   \n",
       "\n",
       "                                       comments_tokenized  comments_pol_vader  \\\n",
       "170934  great space beautiful backyard oasis wonderful...              0.9617   \n",
       "283660                             awesome beautiful home              0.8516   \n",
       "184424  pam byron house absolutely beautiful downstair...              0.8475   \n",
       "100238  place perfect location explore seattle heart f...              0.9358   \n",
       "225670                  beautiful place best views around              0.8652   \n",
       "\n",
       "        comments_tokenized_pol_vader  comments_tokenized_pol_textblob  \n",
       "170934                        0.9601                           0.9125  \n",
       "283660                        0.8402                           0.9250  \n",
       "184424                        0.8357                           0.9250  \n",
       "100238                        0.9290                           0.9250  \n",
       "225670                        0.8442                           0.9250  "
      ]
     },
     "execution_count": 26,
     "metadata": {},
     "output_type": "execute_result"
    }
   ],
   "source": [
    "# check the top 5 records having polarity score (by textblob) >0.9\n",
    "sample_review[sample_review['comments_tokenized_pol_textblob']>0.9].sort_values(by ='comments_tokenized_pol_textblob')[:5]"
   ]
  },
  {
   "cell_type": "code",
   "execution_count": 27,
   "metadata": {
    "cell_id": "13c1f3675b4a4be78b15a6fd1c4b74ce",
    "deepnote_cell_type": "code",
    "deepnote_to_be_reexecuted": false,
    "execution_millis": 8,
    "execution_start": 1680288465881,
    "source_hash": "fe528e68"
   },
   "outputs": [
    {
     "data": {
      "text/plain": [
       "(215, 8)"
      ]
     },
     "execution_count": 27,
     "metadata": {},
     "output_type": "execute_result"
    }
   ],
   "source": [
    "# check how many reviews has a polarity score > 0.9 using textblob\n",
    "sample_review[sample_review['comments_tokenized_pol_textblob']>0.9].sort_values(by ='comments_tokenized_pol_textblob').shape"
   ]
  },
  {
   "cell_type": "code",
   "execution_count": 28,
   "metadata": {
    "cell_id": "021bfc72802e4f39b0701beb3db8d683",
    "deepnote_cell_type": "code",
    "deepnote_to_be_reexecuted": false,
    "execution_millis": 54,
    "execution_start": 1680288467609,
    "source_hash": "9bb560e3"
   },
   "outputs": [
    {
     "data": {
      "text/plain": [
       "(10634, 8)"
      ]
     },
     "execution_count": 28,
     "metadata": {},
     "output_type": "execute_result"
    }
   ],
   "source": [
    "# check how many reviews has a polarity score > 0.9 using vader\n",
    "sample_review[sample_review['comments_tokenized_pol_vader']>0.9].sort_values(by ='comments_tokenized_pol_vader').shape"
   ]
  },
  {
   "cell_type": "markdown",
   "metadata": {
    "cell_id": "b9ceb0acdade4805a95dcb6b59ca3bf2",
    "deepnote_cell_type": "markdown"
   },
   "source": [
    "Findings:\n",
    "1. TextBlob doesn't handle well on the captitalizations and punctuations(eg:LIKE, GREAT, ALL, !!). For example: the polarity score of the original comment,\"ALL five stars\", is 0.80 and the score of tokenized version,\"five stars\", is only 0.47.\n",
    "2. Only a small portion (239) of the comments are classified as highly positive (>0.9) compare to that of vader (10739).\n",
    "3. The majority polarity scores are positive with a a mean of 0.4."
   ]
  },
  {
   "cell_type": "markdown",
   "metadata": {
    "cell_id": "741c86b638014316ad1bd091d3fa9761",
    "deepnote_cell_type": "markdown"
   },
   "source": [
    "### Review sentiment analysis using HuggingFace"
   ]
  },
  {
   "cell_type": "code",
   "execution_count": 29,
   "metadata": {
    "cell_id": "9df9899b04d44aa794ccb7c78bd27fbf",
    "deepnote_cell_type": "code",
    "deepnote_to_be_reexecuted": false,
    "execution_millis": 10614,
    "execution_start": 1680288472931,
    "source_hash": "be45887c"
   },
   "outputs": [
    {
     "name": "stdout",
     "output_type": "stream",
     "text": [
      "\u001b[33mWARNING: You are using pip version 22.0.4; however, version 23.0.1 is available.\n",
      "You should consider upgrading via the '/root/venv/bin/python -m pip install --upgrade pip' command.\u001b[0m\u001b[33m\n",
      "\u001b[0m"
     ]
    }
   ],
   "source": [
    "!pip install -q transformers"
   ]
  },
  {
   "cell_type": "code",
   "execution_count": 30,
   "metadata": {
    "cell_id": "4bf0b63216374c1c81157d2fb34b073d",
    "deepnote_cell_type": "code",
    "deepnote_to_be_reexecuted": false,
    "execution_millis": 4017,
    "execution_start": 1680288483543,
    "source_hash": "670d26ae"
   },
   "outputs": [
    {
     "name": "stdout",
     "output_type": "stream",
     "text": [
      "Requirement already satisfied: huggingface-hub in /root/venv/lib/python3.9/site-packages (0.13.3)\n",
      "Requirement already satisfied: typing-extensions>=3.7.4.3 in /shared-libs/python3.9/py/lib/python3.9/site-packages (from huggingface-hub) (4.4.0)\n",
      "Requirement already satisfied: requests in /shared-libs/python3.9/py/lib/python3.9/site-packages (from huggingface-hub) (2.28.1)\n",
      "Requirement already satisfied: packaging>=20.9 in /shared-libs/python3.9/py-core/lib/python3.9/site-packages (from huggingface-hub) (21.3)\n",
      "Requirement already satisfied: filelock in /shared-libs/python3.9/py/lib/python3.9/site-packages (from huggingface-hub) (3.8.0)\n",
      "Requirement already satisfied: pyyaml>=5.1 in /root/venv/lib/python3.9/site-packages (from huggingface-hub) (6.0)\n",
      "Requirement already satisfied: tqdm>=4.42.1 in /shared-libs/python3.9/py/lib/python3.9/site-packages (from huggingface-hub) (4.64.1)\n",
      "Requirement already satisfied: pyparsing!=3.0.5,>=2.0.2 in /shared-libs/python3.9/py-core/lib/python3.9/site-packages (from packaging>=20.9->huggingface-hub) (3.0.9)\n",
      "Requirement already satisfied: urllib3<1.27,>=1.21.1 in /shared-libs/python3.9/py/lib/python3.9/site-packages (from requests->huggingface-hub) (1.26.12)\n",
      "Requirement already satisfied: idna<4,>=2.5 in /shared-libs/python3.9/py-core/lib/python3.9/site-packages (from requests->huggingface-hub) (3.4)\n",
      "Requirement already satisfied: charset-normalizer<3,>=2 in /shared-libs/python3.9/py-core/lib/python3.9/site-packages (from requests->huggingface-hub) (2.1.1)\n",
      "Requirement already satisfied: certifi>=2017.4.17 in /shared-libs/python3.9/py/lib/python3.9/site-packages (from requests->huggingface-hub) (2022.9.24)\n",
      "\u001b[33mWARNING: Running pip as the 'root' user can result in broken permissions and conflicting behaviour with the system package manager. It is recommended to use a virtual environment instead: https://pip.pypa.io/warnings/venv\u001b[0m\u001b[33m\n",
      "\u001b[0m\u001b[33mWARNING: You are using pip version 22.0.4; however, version 23.0.1 is available.\n",
      "You should consider upgrading via the '/usr/local/bin/python -m pip install --upgrade pip' command.\u001b[0m\u001b[33m\n",
      "\u001b[0mNote: you may need to restart the kernel to use updated packages.\n"
     ]
    }
   ],
   "source": [
    "pip install --upgrade huggingface-hub"
   ]
  },
  {
   "cell_type": "code",
   "execution_count": 31,
   "metadata": {
    "cell_id": "7bc82ca13a654b2394056fd086544d65",
    "deepnote_cell_type": "code",
    "deepnote_to_be_reexecuted": false,
    "execution_millis": 11776,
    "execution_start": 1680288487564,
    "source_hash": "b33b8ea8"
   },
   "outputs": [
    {
     "name": "stderr",
     "output_type": "stream",
     "text": [
      "2023-03-31 18:48:10.744601: I tensorflow/core/platform/cpu_feature_guard.cc:193] This TensorFlow binary is optimized with oneAPI Deep Neural Network Library (oneDNN) to use the following CPU instructions in performance-critical operations:  AVX2 AVX512F FMA\n",
      "To enable them in other operations, rebuild TensorFlow with the appropriate compiler flags.\n",
      "2023-03-31 18:48:10.933500: W tensorflow/stream_executor/platform/default/dso_loader.cc:64] Could not load dynamic library 'libcudart.so.11.0'; dlerror: libcudart.so.11.0: cannot open shared object file: No such file or directory\n",
      "2023-03-31 18:48:10.933543: I tensorflow/stream_executor/cuda/cudart_stub.cc:29] Ignore above cudart dlerror if you do not have a GPU set up on your machine.\n",
      "2023-03-31 18:48:10.964539: E tensorflow/stream_executor/cuda/cuda_blas.cc:2981] Unable to register cuBLAS factory: Attempting to register factory for plugin cuBLAS when one has already been registered\n",
      "2023-03-31 18:48:13.331696: W tensorflow/stream_executor/platform/default/dso_loader.cc:64] Could not load dynamic library 'libnvinfer.so.7'; dlerror: libnvinfer.so.7: cannot open shared object file: No such file or directory\n",
      "2023-03-31 18:48:13.331791: W tensorflow/stream_executor/platform/default/dso_loader.cc:64] Could not load dynamic library 'libnvinfer_plugin.so.7'; dlerror: libnvinfer_plugin.so.7: cannot open shared object file: No such file or directory\n",
      "2023-03-31 18:48:13.331800: W tensorflow/compiler/tf2tensorrt/utils/py_utils.cc:38] TF-TRT Warning: Cannot dlopen some TensorRT libraries. If you would like to use Nvidia GPU with TensorRT, please make sure the missing libraries mentioned above are installed properly.\n",
      "No model was supplied, defaulted to distilbert-base-uncased-finetuned-sst-2-english and revision af0f99b (https://huggingface.co/distilbert-base-uncased-finetuned-sst-2-english).\n",
      "Using a pipeline without specifying a model name and revision in production is not recommended.\n",
      "Downloading (…)lve/main/config.json: 100%|██████████| 629/629 [00:00<00:00, 79.1kB/s]\n",
      "Downloading pytorch_model.bin: 100%|██████████| 268M/268M [00:00<00:00, 350MB/s]\n",
      "Downloading (…)okenizer_config.json: 100%|██████████| 48.0/48.0 [00:00<00:00, 13.9kB/s]\n",
      "Downloading (…)solve/main/vocab.txt: 100%|██████████| 232k/232k [00:00<00:00, 50.0MB/s]\n"
     ]
    }
   ],
   "source": [
    "# use the pipeline class to make predictions \n",
    "from transformers import pipeline\n",
    "sentiment_pipeline = pipeline(\"sentiment-analysis\")\n",
    "# use a specific model avalible in teh huggingface\n",
    "# sentiment_pipeline = pipeline(model=\"finiteautomata/bertweet-base-sentiment-analysis\")"
   ]
  },
  {
   "cell_type": "code",
   "execution_count": 32,
   "metadata": {
    "cell_id": "73b1571c271a49f58ea65b3bbd08a570",
    "deepnote_cell_type": "code",
    "deepnote_to_be_reexecuted": false,
    "execution_millis": 23,
    "execution_start": 1680288499344,
    "source_hash": "767ee3de"
   },
   "outputs": [],
   "source": [
    "def huggingface_polarity_score(df,col):\n",
    "    global sentiment_pipeline\n",
    "    huggingface_pol_score = lambda s: (sentiment_pipeline(s)[0]['score'])\n",
    "    df[col + '_pol_huggingface'] = df[col].apply(huggingface_pol_score)\n",
    "    return df"
   ]
  },
  {
   "cell_type": "code",
   "execution_count": 33,
   "metadata": {
    "cell_id": "f1d32970dd974e5d9fff9221de771dbb",
    "deepnote_cell_type": "code",
    "deepnote_to_be_reexecuted": false,
    "execution_millis": 6965,
    "execution_start": 1680288499348,
    "source_hash": "cb2f0f55"
   },
   "outputs": [
    {
     "name": "stdout",
     "output_type": "stream",
     "text": [
      "CPU times: user 6.73 s, sys: 206 ms, total: 6.94 s\n",
      "Wall time: 6.96 s\n"
     ]
    }
   ],
   "source": [
    "%%time\n",
    "# it takes too much time estimating polarity score,\n",
    "# here i only use the bottom 20 reviews ordered by comments_pol_vader to see the differences\n",
    "bottom_20_review = sample_review.sort_values(by='comments_pol_vader')[:20]\n",
    "test_review = huggingface_polarity_score(bottom_20_review,'comments_tokenized')"
   ]
  },
  {
   "cell_type": "code",
   "execution_count": 34,
   "metadata": {
    "cell_id": "8d6650aa660a407dbb69e67b9fa0924c",
    "deepnote_cell_type": "code",
    "deepnote_to_be_reexecuted": false,
    "execution_millis": 9,
    "execution_start": 1680288506317,
    "source_hash": "f8461b0c"
   },
   "outputs": [
    {
     "data": {
      "text/plain": [
       "array([-0.9793, -0.9792, -0.9783, -0.9758, -0.9754])"
      ]
     },
     "execution_count": 34,
     "metadata": {},
     "output_type": "execute_result"
    }
   ],
   "source": [
    "test_review['comments_pol_vader'].iloc[:5].values"
   ]
  },
  {
   "cell_type": "code",
   "execution_count": 35,
   "metadata": {
    "cell_id": "dcb8cacf5f50416b86f0fa20fbeb0805",
    "deepnote_cell_type": "code",
    "deepnote_to_be_reexecuted": false,
    "execution_millis": 1797,
    "execution_start": 1680288506415,
    "source_hash": "2b59f553"
   },
   "outputs": [
    {
     "name": "stdout",
     "output_type": "stream",
     "text": [
      "[{'label': 'NEGATIVE', 'score': 0.9973649382591248}]\n",
      "[{'label': 'NEGATIVE', 'score': 0.9988445043563843}]\n",
      "[{'label': 'NEGATIVE', 'score': 0.992530882358551}]\n",
      "[{'label': 'NEGATIVE', 'score': 0.9623371362686157}]\n",
      "[{'label': 'NEGATIVE', 'score': 0.9984685778617859}]\n"
     ]
    }
   ],
   "source": [
    "comments = test_review['comments_tokenized'].iloc[:5].values\n",
    "for comment in comments:\n",
    "    print(sentiment_pipeline(comment))"
   ]
  },
  {
   "cell_type": "markdown",
   "metadata": {
    "cell_id": "6ac0187ce20c4210abfc9d799c83e7e0",
    "deepnote_cell_type": "markdown"
   },
   "source": [
    "Findings:\n",
    "1. Huggingface takes much more time to estimate the polarity scores comparing to Vader and TextBlob.\n",
    "2. Huggingface sentiment analysis has max_len of 512 for a comments, longer comments cannot be processed.\n",
    "3. The scores are too close (eg: .9998, .9991), which is hard to see the difference and has more incorrect labels. "
   ]
  },
  {
   "cell_type": "markdown",
   "metadata": {
    "cell_id": "9d47e06c6e4a4d8096361a3f3e80efe0",
    "deepnote_cell_type": "markdown"
   },
   "source": [
    "### Conclusion:\n",
    "Overall, Vader works better for a more accurate review polarity score on the original comments. It outperforms TextBlob in handling capitalizations and punctuations (e.g BAD PLACE!!!), and outperforms Hugging face in terms of resource consumption (word limitation and long time to run).\n",
    "\n",
    "Next, We will apply Vader to the entire cleaned_review dataset to do review sentiment analysis (review_sentiment_analysis notebook).\n",
    "\n",
    "\n"
   ]
  },
  {
   "cell_type": "code",
   "execution_count": 35,
   "metadata": {
    "cell_id": "a1527cd901ba4011916cd1c3349b57f0",
    "deepnote_cell_type": "code",
    "deepnote_to_be_reexecuted": false,
    "execution_millis": 81,
    "execution_start": 1680288508216,
    "source_hash": "b623e53d"
   },
   "outputs": [],
   "source": []
  },
  {
   "cell_type": "code",
   "execution_count": null,
   "metadata": {
    "cell_id": "258486cb46474dd6abba0c600e6ddaa2",
    "deepnote_cell_type": "code"
   },
   "outputs": [],
   "source": []
  },
  {
   "cell_type": "markdown",
   "metadata": {
    "created_in_deepnote_cell": true,
    "deepnote_cell_type": "markdown"
   },
   "source": [
    "<a style='text-decoration:none;line-height:16px;display:flex;color:#5B5B62;padding:10px;justify-content:end;' href='https://deepnote.com?utm_source=created-in-deepnote-cell&projectId=f2a50dc6-ff6a-45ff-9dbe-d7a35bd1e393' target=\"_blank\">\n",
    "<img alt='Created in deepnote.com' style='display:inline;max-height:16px;margin:0px;margin-right:7.5px;' src='data:image/svg+xml;base64,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' > </img>\n",
    "Created in <span style='font-weight:600;margin-left:4px;'>Deepnote</span></a>"
   ]
  }
 ],
 "metadata": {
  "deepnote": {},
  "deepnote_execution_queue": [],
  "deepnote_notebook_id": "2bb2ad2d16b64f1da38c8829d295e1d9",
  "kernelspec": {
   "display_name": "Python 3",
   "language": "python",
   "name": "python3"
  },
  "language_info": {
   "codemirror_mode": {
    "name": "ipython",
    "version": 3
   },
   "file_extension": ".py",
   "mimetype": "text/x-python",
   "name": "python",
   "nbconvert_exporter": "python",
   "pygments_lexer": "ipython3",
   "version": "3.8.3"
  }
 },
 "nbformat": 4,
 "nbformat_minor": 1
}
