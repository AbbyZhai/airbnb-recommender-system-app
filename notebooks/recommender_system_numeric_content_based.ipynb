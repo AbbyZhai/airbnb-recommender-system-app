{
 "cells": [
  {
   "cell_type": "markdown",
   "metadata": {
    "cell_id": "8e80e0665391484f9d109edd224b478d",
    "deepnote_cell_type": "markdown",
    "id": "SX5MZlaNOqp6"
   },
   "source": [
    "file version v0.2"
   ]
  },
  {
   "cell_type": "markdown",
   "metadata": {
    "cell_id": "5976965362ec49d7a959396e5eb0dbca",
    "deepnote_cell_type": "markdown",
    "id": "32x22aAOkucC"
   },
   "source": [
    "## A recommender system based on listing numeric data"
   ]
  },
  {
   "cell_type": "markdown",
   "metadata": {
    "cell_id": "b1fb167c33e1416e90649deba0825b98",
    "deepnote_cell_type": "markdown",
    "id": "S26IXYvr-lZ8"
   },
   "source": [
    "### Import libraries"
   ]
  },
  {
   "cell_type": "code",
   "execution_count": 1,
   "metadata": {
    "cell_id": "97d7169dad1f4596ac52cd0d96e1c4f8",
    "deepnote_cell_type": "code",
    "deepnote_to_be_reexecuted": false,
    "execution_millis": 1592,
    "execution_start": 1679800365982,
    "id": "k6xvzdQDwaVU",
    "source_hash": "30a09edc"
   },
   "outputs": [],
   "source": [
    "import pandas as pd\n",
    "import numpy as np\n",
    "import seaborn as sns\n",
    "import matplotlib.pyplot as plt\n",
    "\n",
    "import warnings\n",
    "warnings.filterwarnings('ignore',category=DeprecationWarning)\n",
    "\n",
    "pd.set_option('display.max_columns', 100)\n",
    "pd.set_option('display.max_rows', 100)\n",
    "\n",
    "RANDOM_STATE= 42\n",
    "\n",
    "from sklearn.metrics.pairwise import cosine_similarity"
   ]
  },
  {
   "cell_type": "markdown",
   "metadata": {
    "cell_id": "e88e55fd5099420ebd2970324cc8be89",
    "deepnote_cell_type": "markdown",
    "id": "KrB952ua--6A"
   },
   "source": [
    "### Prepare data"
   ]
  },
  {
   "cell_type": "markdown",
   "metadata": {
    "cell_id": "99287fb557ed42e0ad028aac54231b02",
    "deepnote_cell_type": "markdown",
    "id": "WfZw3E47ZdYT"
   },
   "source": [
    "#### Basic additional cleaning"
   ]
  },
  {
   "cell_type": "code",
   "execution_count": 2,
   "metadata": {
    "cell_id": "8fa151f7c232458591565c075572ff92",
    "colab": {
     "base_uri": "https://localhost:8080/"
    },
    "deepnote_cell_type": "code",
    "deepnote_to_be_reexecuted": false,
    "execution_millis": 852,
    "execution_start": 1679800367577,
    "id": "8XXxic2b_A6D",
    "outputId": "7008235a-5e06-4c92-f721-40be8b1dfba9",
    "source_hash": "80f0d3e4"
   },
   "outputs": [
    {
     "name": "stdout",
     "output_type": "stream",
     "text": [
      "(4933, 73)\n"
     ]
    }
   ],
   "source": [
    "# load dataset that has already been cleaned\n",
    "raw_df = pd.read_pickle('../data/data_cleaned/cleaned_listing_and_review_with_polarity.zip')\n",
    "print(raw_df.shape)"
   ]
  },
  {
   "cell_type": "code",
   "execution_count": 3,
   "metadata": {
    "cell_id": "30e7056d679849e096e3ec07d3c1ac1d",
    "colab": {
     "base_uri": "https://localhost:8080/"
    },
    "deepnote_cell_type": "code",
    "deepnote_to_be_reexecuted": false,
    "execution_millis": 3,
    "execution_start": 1679800368441,
    "id": "swN9mPE2_LAc",
    "outputId": "6ae670c6-3b7c-468e-aebf-c27f6388b328",
    "source_hash": "20f49dd0"
   },
   "outputs": [
    {
     "data": {
      "text/plain": [
       "Index(['listing_id', 'listing_url', 'last_scraped', 'listing_name',\n",
       "       'description', 'neighborhood_overview', 'picture_url', 'host_id',\n",
       "       'host_url', 'host_name', 'host_since', 'host_location', 'host_about',\n",
       "       'host_response_time', 'host_response_rate', 'host_acceptance_rate',\n",
       "       'host_is_superhost', 'host_picture_url', 'host_neighbourhood',\n",
       "       'host_listings_count', 'host_total_listings_count',\n",
       "       'host_verifications', 'host_has_profile_pic', 'host_identity_verified',\n",
       "       'neighbourhood_cleansed', 'neighbourhood_group_cleansed', 'latitude',\n",
       "       'longitude', 'property_type', 'room_type', 'accommodates', 'bedrooms',\n",
       "       'beds', 'amenities', 'price', 'minimum_nights', 'maximum_nights',\n",
       "       'minimum_minimum_nights', 'maximum_minimum_nights',\n",
       "       'minimum_maximum_nights', 'maximum_maximum_nights',\n",
       "       'minimum_nights_avg_ntm', 'maximum_nights_avg_ntm', 'has_availability',\n",
       "       'availability_30', 'availability_60', 'availability_90',\n",
       "       'availability_365', 'number_of_reviews', 'number_of_reviews_ltm',\n",
       "       'number_of_reviews_l30d', 'first_review', 'last_review',\n",
       "       'review_scores_rating', 'review_scores_accuracy',\n",
       "       'review_scores_cleanliness', 'review_scores_checkin',\n",
       "       'review_scores_communication', 'review_scores_location',\n",
       "       'review_scores_value', 'has_license', 'instant_bookable',\n",
       "       'calculated_host_listings_count',\n",
       "       'calculated_host_listings_count_entire_homes',\n",
       "       'calculated_host_listings_count_private_rooms',\n",
       "       'calculated_host_listings_count_shared_rooms', 'reviews_per_month',\n",
       "       'bathrooms_count', 'amenities_count', 'host_response_time_encoded',\n",
       "       'host_operate_years', 'comments', 'polarity'],\n",
       "      dtype='object')"
      ]
     },
     "execution_count": 3,
     "metadata": {},
     "output_type": "execute_result"
    }
   ],
   "source": [
    "raw_df.columns"
   ]
  },
  {
   "cell_type": "markdown",
   "metadata": {
    "cell_id": "cde7cbab14434dc9a40b37a064d1b34b",
    "deepnote_cell_type": "markdown",
    "id": "jzzz3s-DP3eU"
   },
   "source": [
    "Some columns we decided to remove with the reason in comments"
   ]
  },
  {
   "cell_type": "code",
   "execution_count": 4,
   "metadata": {
    "cell_id": "ff010baf73c645bc95da49f7598c3e76",
    "deepnote_cell_type": "code",
    "deepnote_to_be_reexecuted": false,
    "execution_millis": 25,
    "execution_start": 1679800368448,
    "id": "3ElNTZiiJkb-",
    "source_hash": "e419296c"
   },
   "outputs": [],
   "source": [
    "feature_to_remove = ['host_total_listings_count','host_listings_count', # same description with different values, use calculated_host_listings_count instead\n",
    "                    'minimum_minimum_nights', 'maximum_minimum_nights', # those num are from calender\n",
    "                    'minimum_maximum_nights', 'maximum_maximum_nights', # they're constantly changing \n",
    "                    'minimum_nights_avg_ntm', 'maximum_nights_avg_ntm', # so do not make much sense\n",
    "\n",
    "                    'has_availability','availability_30',\n",
    "                    'availability_60', 'availability_90','availability_365',\n",
    "                    #'reviewer_count', #TODO: remove it, already has it # REMOVED\n",
    "                    #'host_number_of_year', # TODO: rename it as host_operating_years #RENAMEED\n",
    "                    ]"
   ]
  },
  {
   "cell_type": "code",
   "execution_count": 5,
   "metadata": {
    "cell_id": "bffc0ac9e24e4c67af603320f19b4f66",
    "colab": {
     "base_uri": "https://localhost:8080/"
    },
    "deepnote_cell_type": "code",
    "deepnote_to_be_reexecuted": false,
    "execution_millis": 4,
    "execution_start": 1679800368477,
    "id": "gQzLl8PUP8Dx",
    "outputId": "dabb00ff-e1ba-4226-b3bc-7ee1bc65e106",
    "source_hash": "ef39970b"
   },
   "outputs": [
    {
     "data": {
      "text/plain": [
       "(4933, 60)"
      ]
     },
     "execution_count": 5,
     "metadata": {},
     "output_type": "execute_result"
    }
   ],
   "source": [
    "df_model = raw_df.drop(columns=feature_to_remove)\n",
    "df_model.shape"
   ]
  },
  {
   "cell_type": "code",
   "execution_count": 6,
   "metadata": {
    "cell_id": "79d5e74dc1e9451eaaa2d1e539df3c57",
    "colab": {
     "base_uri": "https://localhost:8080/"
    },
    "deepnote_cell_type": "code",
    "deepnote_to_be_reexecuted": false,
    "execution_millis": 2,
    "execution_start": 1679800368529,
    "id": "lAq7kdDXDju3",
    "outputId": "3d9cc698-51f6-41e8-e423-69a9b904d50b",
    "source_hash": "e20cfba6"
   },
   "outputs": [
    {
     "data": {
      "text/plain": [
       "listing_id                                        0\n",
       "listing_url                                       0\n",
       "last_scraped                                      0\n",
       "listing_name                                      0\n",
       "description                                       0\n",
       "neighborhood_overview                             0\n",
       "picture_url                                       0\n",
       "host_id                                           0\n",
       "host_url                                          0\n",
       "host_name                                         0\n",
       "host_since                                        0\n",
       "host_location                                     0\n",
       "host_about                                        0\n",
       "host_response_time                                0\n",
       "host_response_rate                                0\n",
       "host_acceptance_rate                              0\n",
       "host_is_superhost                                 0\n",
       "host_picture_url                                  0\n",
       "host_neighbourhood                                0\n",
       "host_verifications                                0\n",
       "host_has_profile_pic                              0\n",
       "host_identity_verified                            0\n",
       "neighbourhood_cleansed                            0\n",
       "neighbourhood_group_cleansed                      0\n",
       "latitude                                          0\n",
       "longitude                                         0\n",
       "property_type                                     0\n",
       "room_type                                         0\n",
       "accommodates                                      0\n",
       "bedrooms                                          0\n",
       "beds                                              0\n",
       "amenities                                         0\n",
       "price                                             0\n",
       "minimum_nights                                    0\n",
       "maximum_nights                                    0\n",
       "number_of_reviews                                 0\n",
       "number_of_reviews_ltm                             0\n",
       "number_of_reviews_l30d                            0\n",
       "first_review                                      0\n",
       "last_review                                       0\n",
       "review_scores_rating                              0\n",
       "review_scores_accuracy                            0\n",
       "review_scores_cleanliness                         0\n",
       "review_scores_checkin                             0\n",
       "review_scores_communication                       0\n",
       "review_scores_location                            0\n",
       "review_scores_value                               0\n",
       "has_license                                       0\n",
       "instant_bookable                                  0\n",
       "calculated_host_listings_count                    0\n",
       "calculated_host_listings_count_entire_homes       0\n",
       "calculated_host_listings_count_private_rooms      0\n",
       "calculated_host_listings_count_shared_rooms       0\n",
       "reviews_per_month                                 0\n",
       "bathrooms_count                                   0\n",
       "amenities_count                                   0\n",
       "host_response_time_encoded                        0\n",
       "host_operate_years                                0\n",
       "comments                                        847\n",
       "polarity                                        847\n",
       "dtype: int64"
      ]
     },
     "execution_count": 6,
     "metadata": {},
     "output_type": "execute_result"
    }
   ],
   "source": [
    "df_model.isna().sum()"
   ]
  },
  {
   "cell_type": "code",
   "execution_count": 7,
   "metadata": {
    "cell_id": "21283418738a4a2f95269791a89b83e1",
    "colab": {
     "base_uri": "https://localhost:8080/"
    },
    "deepnote_cell_type": "code",
    "deepnote_to_be_reexecuted": false,
    "execution_millis": 44,
    "execution_start": 1679800368530,
    "id": "LCo1s-NvDB1a",
    "outputId": "d8ce1d6d-97dc-46d2-8540-dd9db4a9e000",
    "source_hash": "31be81ac"
   },
   "outputs": [
    {
     "data": {
      "text/plain": [
       "['comments', 'polarity']"
      ]
     },
     "execution_count": 7,
     "metadata": {},
     "output_type": "execute_result"
    }
   ],
   "source": [
    "# check if any columns have Nan... \n",
    "df_model.columns[df_model.isna().any()].tolist()"
   ]
  },
  {
   "cell_type": "code",
   "execution_count": 8,
   "metadata": {
    "cell_id": "e2fd7f4c81cb4a22a72f6a70eca4b91a",
    "colab": {
     "base_uri": "https://localhost:8080/"
    },
    "deepnote_cell_type": "code",
    "deepnote_to_be_reexecuted": false,
    "execution_millis": 25,
    "execution_start": 1679800368578,
    "id": "rm5-xduADdlU",
    "outputId": "0c54cd7b-7b50-4e5b-ec7b-2f348f5ead39",
    "source_hash": "f257c1c2"
   },
   "outputs": [
    {
     "name": "stdout",
     "output_type": "stream",
     "text": [
      "[] (4086, 60)\n"
     ]
    }
   ],
   "source": [
    "# remove na polarity rows, polarity is numeric, goal is to get all numeric columns\n",
    "df_model = df_model.dropna()\n",
    "print(df_model.columns[df_model.isna().any()].tolist(), df_model.shape)"
   ]
  },
  {
   "cell_type": "code",
   "execution_count": 9,
   "metadata": {
    "cell_id": "c543975298bc43fc8d9650d6a1e21a1a",
    "colab": {
     "base_uri": "https://localhost:8080/",
     "height": 591
    },
    "deepnote_cell_type": "code",
    "deepnote_to_be_reexecuted": false,
    "execution_millis": 153,
    "execution_start": 1679800368746,
    "id": "FokwOfmrBb3o",
    "outputId": "99718ea5-5293-4af9-b781-bb45191f70a0",
    "source_hash": "7b2f12a3"
   },
   "outputs": [
    {
     "data": {
      "application/vnd.deepnote.dataframe.v3+json": {
       "column_count": 60,
       "columns": [
        {
         "dtype": "int64",
         "name": "listing_id",
         "stats": {
          "histogram": [
           {
            "bin_end": 11621631.4,
            "bin_start": 7455832,
            "count": 1
           },
           {
            "bin_end": 15787430.8,
            "bin_start": 11621631.4,
            "count": 0
           },
           {
            "bin_end": 19953230.2,
            "bin_start": 15787430.8,
            "count": 1
           },
           {
            "bin_end": 24119029.6,
            "bin_start": 19953230.2,
            "count": 0
           },
           {
            "bin_end": 28284829,
            "bin_start": 24119029.6,
            "count": 0
           },
           {
            "bin_end": 32450628.4,
            "bin_start": 28284829,
            "count": 0
           },
           {
            "bin_end": 36616427.8,
            "bin_start": 32450628.4,
            "count": 0
           },
           {
            "bin_end": 40782227.2,
            "bin_start": 36616427.8,
            "count": 0
           },
           {
            "bin_end": 44948026.6,
            "bin_start": 40782227.2,
            "count": 1
           },
           {
            "bin_end": 49113826,
            "bin_start": 44948026.6,
            "count": 2
           }
          ],
          "max": "49113826",
          "min": "7455832",
          "nan_count": 0,
          "unique_count": 5
         }
        },
        {
         "dtype": "object",
         "name": "listing_url",
         "stats": {
          "categories": [
           {
            "count": 1,
            "name": "https://www.airbnb.com/rooms/49113826"
           },
           {
            "count": 1,
            "name": "https://www.airbnb.com/rooms/7455832"
           },
           {
            "count": 3,
            "name": "3 others"
           }
          ],
          "nan_count": 0,
          "unique_count": 5
         }
        },
        {
         "dtype": "datetime64[ns]",
         "name": "last_scraped",
         "stats": {
          "histogram": null,
          "max": "2022-12-24 00:00:00",
          "min": "2022-12-24 00:00:00",
          "nan_count": 0,
          "unique_count": 1
         }
        },
        {
         "dtype": "object",
         "name": "listing_name",
         "stats": {
          "categories": [
           {
            "count": 1,
            "name": "Private Seattle Getaway Home Near Lake Washington!"
           },
           {
            "count": 1,
            "name": "Classic remodeled in Georgetown"
           },
           {
            "count": 3,
            "name": "3 others"
           }
          ],
          "nan_count": 0,
          "unique_count": 5
         }
        },
        {
         "dtype": "object",
         "name": "description",
         "stats": {
          "categories": [
           {
            "count": 1,
            "name": "A Seattle vacation destination for those from out of town or a Staycation for those who live close by. We welcome you to this partial lake view gated family friendly home with 4 bedrooms, 2 bathrooms. A beautiful & serene creek flows through the front of the home. There is a fully functioning kitchen with appliances & utensils.  & laundry room. Only a few mins walk to Lakeridge playfield just behind the house! 15 min drive to SeaTac International Airport and 25 min drive to downtown Seattle.<br /><br /><b>The space</b><br />Smart lock for easy check in and Xfinity Home Security Alarm for your protection and peace of mind. There are a few steps leading into the home. There is one security camera at the house facing the front entrance and driveway. The front driveway can fit 6 cars.<br /><br />Bed Arrangements: <br /><br />Lower levels: 2 bedrooms, 1 bathroom<br />Room #1: One Queen bed (sleeps 2)<br />Room #4: One Queen bed (sleeps 2)<br /><br />Upper level: 2 bedrooms, 1 bathroom<br />"
           },
           {
            "count": 1,
            "name": "Enjoy your Seattle stay in the vibrant & artistic Georgetown neighborhood! Georgetown is truly one of the last artsy, funky neighborhoods left in Seattle - you will be a five minute walk from the many restaurants, bars, wine tasting rooms & more in the \"downtown\" Georgetown neighborhood. It's also kid friendly as you will see many families out and pushing strollers around.<br /><br />The neighborhood is located a few miles south of the downtown Seattle core.<br /><br /><b>The space</b><br />This is the top unit of a completely remodeled craftsman (if bottom unit is available you can rent the whole house and have 6 beds & 4 baths!)<br /><br />This unit has the classic craftsman feel, but it has been completely remodeled with some modern touches!<br /><br /><b>Guest access</b><br />Obviously you have access to the entire unit - there is a lower unit of the house that may be rented too, so you will need to be respectful of other guests. The front yard and side yards are also yours to enjo"
           },
           {
            "count": 3,
            "name": "3 others"
           }
          ],
          "nan_count": 0,
          "unique_count": 5
         }
        },
        {
         "dtype": "object",
         "name": "neighborhood_overview",
         "stats": {
          "categories": [
           {
            "count": 1,
            "name": "SeaTac International Airport: 14 min drive<br /><br />Grocery Stores nearby:<br />- Safeway & Rite Aid: 5 min drive<br />- Walgreens: 6 min drive<br />- Walmart & Fred Meyer: 9 min drive<br />- Uwajimaya: 10 min drive<br /><br />Dining nearby:<br />- Pizzeria Pulcinella: 2 min walk<br />- Stonehouse Cafe: 10 min walk<br />- The Landing (popular outdoor retail & restaurant area): 10 min drive<br /><br />Activities nearby:<br />- Lakeridge Playground: 2 min walk<br />- Downtown Renton: 10 min drive<br />- Southcenter Mall (large shopping mall): 14 min drive<br />- Round 1 (arcade, bowling, pool) inside Southcenter: 14 min drive<br />- iFly (mock sky diving): 15 min drive<br />- Downtown Seattle & Pike Place Market: 25 min drive"
           },
           {
            "count": 1,
            "name": "Georgetown is a cool neighborhood about three miles south of Seattle. Formerly an industrial area filled with warehouses, Georgetown has gone from shabby to chic, from industrial to artsy. Today, the neighborhood is a great place to find trendy restaurants, breweries, and art galleries."
           },
           {
            "count": 3,
            "name": "3 others"
           }
          ],
          "nan_count": 0,
          "unique_count": 5
         }
        },
        {
         "dtype": "object",
         "name": "picture_url",
         "stats": {
          "categories": [
           {
            "count": 1,
            "name": "https://a0.muscache.com/pictures/miso/Hosting-49113826/original/29c08a31-b625-4e8f-bbc6-93e7994fef05.jpeg"
           },
           {
            "count": 1,
            "name": "https://a0.muscache.com/pictures/miso/Hosting-7455832/original/87dcaee3-d543-440c-8cf0-19ac171d7200.jpeg"
           },
           {
            "count": 3,
            "name": "3 others"
           }
          ],
          "nan_count": 0,
          "unique_count": 5
         }
        },
        {
         "dtype": "int64",
         "name": "host_id",
         "stats": {
          "histogram": [
           {
            "bin_end": 20784291.1,
            "bin_start": 2144954,
            "count": 2
           },
           {
            "bin_end": 39423628.2,
            "bin_start": 20784291.1,
            "count": 0
           },
           {
            "bin_end": 58062965.300000004,
            "bin_start": 39423628.2,
            "count": 1
           },
           {
            "bin_end": 76702302.4,
            "bin_start": 58062965.300000004,
            "count": 0
           },
           {
            "bin_end": 95341639.5,
            "bin_start": 76702302.4,
            "count": 0
           },
           {
            "bin_end": 113980976.60000001,
            "bin_start": 95341639.5,
            "count": 1
           },
           {
            "bin_end": 132620313.70000002,
            "bin_start": 113980976.60000001,
            "count": 0
           },
           {
            "bin_end": 151259650.8,
            "bin_start": 132620313.70000002,
            "count": 0
           },
           {
            "bin_end": 169898987.9,
            "bin_start": 151259650.8,
            "count": 0
           },
           {
            "bin_end": 188538325,
            "bin_start": 169898987.9,
            "count": 1
           }
          ],
          "max": "188538325",
          "min": "2144954",
          "nan_count": 0,
          "unique_count": 5
         }
        },
        {
         "dtype": "object",
         "name": "host_url",
         "stats": {
          "categories": [
           {
            "count": 1,
            "name": "https://www.airbnb.com/users/show/188538325"
           },
           {
            "count": 1,
            "name": "https://www.airbnb.com/users/show/2144954"
           },
           {
            "count": 3,
            "name": "3 others"
           }
          ],
          "nan_count": 0,
          "unique_count": 5
         }
        },
        {
         "dtype": "object",
         "name": "host_name",
         "stats": {
          "categories": [
           {
            "count": 1,
            "name": "Xiao"
           },
           {
            "count": 1,
            "name": "Ryan"
           },
           {
            "count": 3,
            "name": "3 others"
           }
          ],
          "nan_count": 0,
          "unique_count": 5
         }
        },
        {
         "dtype": "datetime64[ns]",
         "name": "host_since",
         "stats": {
          "histogram": [
           {
            "bin_end": 1353576960000000000,
            "bin_start": 1334448000000000000,
            "count": 1
           },
           {
            "bin_end": 1372705920000000000,
            "bin_start": 1353576960000000000,
            "count": 0
           },
           {
            "bin_end": 1391834880000000000,
            "bin_start": 1372705920000000000,
            "count": 1
           },
           {
            "bin_end": 1410963840000000000,
            "bin_start": 1391834880000000000,
            "count": 0
           },
           {
            "bin_end": 1430092800000000000,
            "bin_start": 1410963840000000000,
            "count": 0
           },
           {
            "bin_end": 1449221760000000000,
            "bin_start": 1430092800000000000,
            "count": 1
           },
           {
            "bin_end": 1468350720000000000,
            "bin_start": 1449221760000000000,
            "count": 0
           },
           {
            "bin_end": 1487479680000000000,
            "bin_start": 1468350720000000000,
            "count": 1
           },
           {
            "bin_end": 1506608640000000000,
            "bin_start": 1487479680000000000,
            "count": 0
           },
           {
            "bin_end": 1525737600000000000,
            "bin_start": 1506608640000000000,
            "count": 1
           }
          ],
          "max": "2018-05-08 00:00:00",
          "min": "2012-04-15 00:00:00",
          "nan_count": 0,
          "unique_count": 5
         }
        },
        {
         "dtype": "object",
         "name": "host_location",
         "stats": {
          "categories": [
           {
            "count": 4,
            "name": "Seattle, WA"
           },
           {
            "count": 1,
            "name": " "
           }
          ],
          "nan_count": 0,
          "unique_count": 2
         }
        },
        {
         "dtype": "object",
         "name": "host_about",
         "stats": {
          "categories": [
           {
            "count": 3,
            "name": " "
           },
           {
            "count": 1,
            "name": "New Mexico and Texas natives who couldn't wait to call Seattle home. We've lived in Seattle for 10 years and are still in awe daily with the surrounding beauty of the PNW.\n\nWe're new to the AirBNB hosting but can't wait to welcome you to ensure you have a wonderful stay.\n\nWe love the outdoors: gardening, hiking, kayaking, camping... "
           },
           {
            "count": 1,
            "name": "Vacasa\nVacation Home Management\n\nVacasa unlocks the possibilities of how we enjoy vacation homes. We take care of managing our homeowners’ vacation houses so they can have peace of mind (and their home when they want to). And our guests book vacations confidently knowing they’re going to find exactly what they’re looking for without any surprises.\n\nEach vacation home is always cared for by our professional local teams who implement our high cleanliness and maintenance values, while the hands-off tasks of vacation rental management--marketing, filing taxes, and maintaining a website--are handled by a specialized central support team. Our passion and focus remain true: to empower our homeowners, guests, and employees to invest in vacation."
           }
          ],
          "nan_count": 0,
          "unique_count": 3
         }
        },
        {
         "dtype": "object",
         "name": "host_response_time",
         "stats": {
          "categories": [
           {
            "count": 5,
            "name": "within an hour"
           }
          ],
          "nan_count": 0,
          "unique_count": 1
         }
        },
        {
         "dtype": "float64",
         "name": "host_response_rate",
         "stats": {
          "histogram": [
           {
            "bin_end": 0.973,
            "bin_start": 0.97,
            "count": 1
           },
           {
            "bin_end": 0.976,
            "bin_start": 0.973,
            "count": 0
           },
           {
            "bin_end": 0.979,
            "bin_start": 0.976,
            "count": 0
           },
           {
            "bin_end": 0.982,
            "bin_start": 0.979,
            "count": 0
           },
           {
            "bin_end": 0.985,
            "bin_start": 0.982,
            "count": 0
           },
           {
            "bin_end": 0.988,
            "bin_start": 0.985,
            "count": 0
           },
           {
            "bin_end": 0.991,
            "bin_start": 0.988,
            "count": 0
           },
           {
            "bin_end": 0.994,
            "bin_start": 0.991,
            "count": 0
           },
           {
            "bin_end": 0.997,
            "bin_start": 0.994,
            "count": 0
           },
           {
            "bin_end": 1,
            "bin_start": 0.997,
            "count": 4
           }
          ],
          "max": "1.0",
          "min": "0.97",
          "nan_count": 0,
          "unique_count": 2
         }
        },
        {
         "dtype": "float64",
         "name": "host_acceptance_rate",
         "stats": {
          "histogram": [
           {
            "bin_end": 0.955,
            "bin_start": 0.95,
            "count": 1
           },
           {
            "bin_end": 0.96,
            "bin_start": 0.955,
            "count": 0
           },
           {
            "bin_end": 0.965,
            "bin_start": 0.96,
            "count": 0
           },
           {
            "bin_end": 0.97,
            "bin_start": 0.965,
            "count": 0
           },
           {
            "bin_end": 0.975,
            "bin_start": 0.97,
            "count": 0
           },
           {
            "bin_end": 0.98,
            "bin_start": 0.975,
            "count": 0
           },
           {
            "bin_end": 0.985,
            "bin_start": 0.98,
            "count": 0
           },
           {
            "bin_end": 0.99,
            "bin_start": 0.985,
            "count": 0
           },
           {
            "bin_end": 0.995,
            "bin_start": 0.99,
            "count": 1
           },
           {
            "bin_end": 1,
            "bin_start": 0.995,
            "count": 3
           }
          ],
          "max": "1.0",
          "min": "0.95",
          "nan_count": 0,
          "unique_count": 3
         }
        },
        {
         "dtype": "int64",
         "name": "host_is_superhost",
         "stats": {
          "histogram": [
           {
            "bin_end": 0.1,
            "bin_start": 0,
            "count": 2
           },
           {
            "bin_end": 0.2,
            "bin_start": 0.1,
            "count": 0
           },
           {
            "bin_end": 0.30000000000000004,
            "bin_start": 0.2,
            "count": 0
           },
           {
            "bin_end": 0.4,
            "bin_start": 0.30000000000000004,
            "count": 0
           },
           {
            "bin_end": 0.5,
            "bin_start": 0.4,
            "count": 0
           },
           {
            "bin_end": 0.6000000000000001,
            "bin_start": 0.5,
            "count": 0
           },
           {
            "bin_end": 0.7000000000000001,
            "bin_start": 0.6000000000000001,
            "count": 0
           },
           {
            "bin_end": 0.8,
            "bin_start": 0.7000000000000001,
            "count": 0
           },
           {
            "bin_end": 0.9,
            "bin_start": 0.8,
            "count": 0
           },
           {
            "bin_end": 1,
            "bin_start": 0.9,
            "count": 3
           }
          ],
          "max": "1",
          "min": "0",
          "nan_count": 0,
          "unique_count": 2
         }
        },
        {
         "dtype": "object",
         "name": "host_picture_url",
         "stats": {
          "categories": [
           {
            "count": 1,
            "name": "https://a0.muscache.com/im/pictures/user/32fd3116-b515-46d9-8048-d5773e1bac5a.jpg?aki_policy=profile_x_medium"
           },
           {
            "count": 1,
            "name": "https://a0.muscache.com/im/pictures/user/a671129c-f502-4968-85ef-7ef088d81ab3.jpg?aki_policy=profile_x_medium"
           },
           {
            "count": 3,
            "name": "3 others"
           }
          ],
          "nan_count": 0,
          "unique_count": 5
         }
        },
        {
         "dtype": "object",
         "name": "host_neighbourhood",
         "stats": {
          "categories": [
           {
            "count": 1,
            "name": "Oakland"
           },
           {
            "count": 1,
            "name": "Greater Duwamish"
           },
           {
            "count": 3,
            "name": "3 others"
           }
          ],
          "nan_count": 0,
          "unique_count": 5
         }
        },
        {
         "dtype": "object",
         "name": "host_verifications",
         "stats": {
          "categories": [
           {
            "count": 3,
            "name": "['email', 'phone']"
           },
           {
            "count": 2,
            "name": "['email', 'phone', 'work_email']"
           }
          ],
          "nan_count": 0,
          "unique_count": 2
         }
        },
        {
         "dtype": "int64",
         "name": "host_has_profile_pic",
         "stats": {
          "histogram": [
           {
            "bin_end": 0.6,
            "bin_start": 0.5,
            "count": 0
           },
           {
            "bin_end": 0.7,
            "bin_start": 0.6,
            "count": 0
           },
           {
            "bin_end": 0.8,
            "bin_start": 0.7,
            "count": 0
           },
           {
            "bin_end": 0.9,
            "bin_start": 0.8,
            "count": 0
           },
           {
            "bin_end": 1,
            "bin_start": 0.9,
            "count": 0
           },
           {
            "bin_end": 1.1,
            "bin_start": 1,
            "count": 5
           },
           {
            "bin_end": 1.2000000000000002,
            "bin_start": 1.1,
            "count": 0
           },
           {
            "bin_end": 1.3,
            "bin_start": 1.2000000000000002,
            "count": 0
           },
           {
            "bin_end": 1.4,
            "bin_start": 1.3,
            "count": 0
           },
           {
            "bin_end": 1.5,
            "bin_start": 1.4,
            "count": 0
           }
          ],
          "max": "1",
          "min": "1",
          "nan_count": 0,
          "unique_count": 1
         }
        },
        {
         "dtype": "int64",
         "name": "host_identity_verified",
         "stats": {
          "histogram": [
           {
            "bin_end": 0.1,
            "bin_start": 0,
            "count": 1
           },
           {
            "bin_end": 0.2,
            "bin_start": 0.1,
            "count": 0
           },
           {
            "bin_end": 0.30000000000000004,
            "bin_start": 0.2,
            "count": 0
           },
           {
            "bin_end": 0.4,
            "bin_start": 0.30000000000000004,
            "count": 0
           },
           {
            "bin_end": 0.5,
            "bin_start": 0.4,
            "count": 0
           },
           {
            "bin_end": 0.6000000000000001,
            "bin_start": 0.5,
            "count": 0
           },
           {
            "bin_end": 0.7000000000000001,
            "bin_start": 0.6000000000000001,
            "count": 0
           },
           {
            "bin_end": 0.8,
            "bin_start": 0.7000000000000001,
            "count": 0
           },
           {
            "bin_end": 0.9,
            "bin_start": 0.8,
            "count": 0
           },
           {
            "bin_end": 1,
            "bin_start": 0.9,
            "count": 4
           }
          ],
          "max": "1",
          "min": "0",
          "nan_count": 0,
          "unique_count": 2
         }
        },
        {
         "dtype": "object",
         "name": "neighbourhood_cleansed",
         "stats": {
          "categories": [
           {
            "count": 1,
            "name": "Rainier View"
           },
           {
            "count": 1,
            "name": "Georgetown"
           },
           {
            "count": 3,
            "name": "3 others"
           }
          ],
          "nan_count": 0,
          "unique_count": 5
         }
        },
        {
         "dtype": "object",
         "name": "neighbourhood_group_cleansed",
         "stats": {
          "categories": [
           {
            "count": 2,
            "name": "Other neighborhoods"
           },
           {
            "count": 1,
            "name": "Rainier Valley"
           },
           {
            "count": 2,
            "name": "2 others"
           }
          ],
          "nan_count": 0,
          "unique_count": 4
         }
        },
        {
         "dtype": "float64",
         "name": "latitude",
         "stats": {
          "histogram": [
           {
            "bin_end": 47.524204000000005,
            "bin_start": 47.51028,
            "count": 1
           },
           {
            "bin_end": 47.538128,
            "bin_start": 47.524204000000005,
            "count": 0
           },
           {
            "bin_end": 47.552052,
            "bin_start": 47.538128,
            "count": 1
           },
           {
            "bin_end": 47.565976,
            "bin_start": 47.552052,
            "count": 0
           },
           {
            "bin_end": 47.5799,
            "bin_start": 47.565976,
            "count": 1
           },
           {
            "bin_end": 47.593824000000005,
            "bin_start": 47.5799,
            "count": 0
           },
           {
            "bin_end": 47.607748,
            "bin_start": 47.593824000000005,
            "count": 0
           },
           {
            "bin_end": 47.621672000000004,
            "bin_start": 47.607748,
            "count": 0
           },
           {
            "bin_end": 47.635596,
            "bin_start": 47.621672000000004,
            "count": 1
           },
           {
            "bin_end": 47.64952,
            "bin_start": 47.635596,
            "count": 1
           }
          ],
          "max": "47.64952",
          "min": "47.51028",
          "nan_count": 0,
          "unique_count": 5
         }
        },
        {
         "dtype": "float64",
         "name": "longitude",
         "stats": {
          "histogram": [
           {
            "bin_end": -122.398636,
            "bin_start": -122.41552,
            "count": 1
           },
           {
            "bin_end": -122.381752,
            "bin_start": -122.398636,
            "count": 0
           },
           {
            "bin_end": -122.364868,
            "bin_start": -122.381752,
            "count": 1
           },
           {
            "bin_end": -122.347984,
            "bin_start": -122.364868,
            "count": 0
           },
           {
            "bin_end": -122.33109999999999,
            "bin_start": -122.347984,
            "count": 1
           },
           {
            "bin_end": -122.314216,
            "bin_start": -122.33109999999999,
            "count": 1
           },
           {
            "bin_end": -122.297332,
            "bin_start": -122.314216,
            "count": 0
           },
           {
            "bin_end": -122.28044799999999,
            "bin_start": -122.297332,
            "count": 0
           },
           {
            "bin_end": -122.263564,
            "bin_start": -122.28044799999999,
            "count": 0
           },
           {
            "bin_end": -122.24668,
            "bin_start": -122.263564,
            "count": 1
           }
          ],
          "max": "-122.24668",
          "min": "-122.41552",
          "nan_count": 0,
          "unique_count": 5
         }
        },
        {
         "dtype": "object",
         "name": "property_type",
         "stats": {
          "categories": [
           {
            "count": 3,
            "name": "Entire home"
           },
           {
            "count": 1,
            "name": "Entire guesthouse"
           },
           {
            "count": 1,
            "name": "Entire guest suite"
           }
          ],
          "nan_count": 0,
          "unique_count": 3
         }
        },
        {
         "dtype": "object",
         "name": "room_type",
         "stats": {
          "categories": [
           {
            "count": 5,
            "name": "Entire home/apt"
           }
          ],
          "nan_count": 0,
          "unique_count": 1
         }
        },
        {
         "dtype": "int64",
         "name": "accommodates",
         "stats": {
          "histogram": [
           {
            "bin_end": 2.6,
            "bin_start": 2,
            "count": 1
           },
           {
            "bin_end": 3.2,
            "bin_start": 2.6,
            "count": 0
           },
           {
            "bin_end": 3.8,
            "bin_start": 3.2,
            "count": 0
           },
           {
            "bin_end": 4.4,
            "bin_start": 3.8,
            "count": 0
           },
           {
            "bin_end": 5,
            "bin_start": 4.4,
            "count": 0
           },
           {
            "bin_end": 5.6,
            "bin_start": 5,
            "count": 0
           },
           {
            "bin_end": 6.2,
            "bin_start": 5.6,
            "count": 3
           },
           {
            "bin_end": 6.8,
            "bin_start": 6.2,
            "count": 0
           },
           {
            "bin_end": 7.3999999999999995,
            "bin_start": 6.8,
            "count": 0
           },
           {
            "bin_end": 8,
            "bin_start": 7.3999999999999995,
            "count": 1
           }
          ],
          "max": "8",
          "min": "2",
          "nan_count": 0,
          "unique_count": 3
         }
        },
        {
         "dtype": "float64",
         "name": "bedrooms",
         "stats": {
          "histogram": [
           {
            "bin_end": 1.3,
            "bin_start": 1,
            "count": 1
           },
           {
            "bin_end": 1.6,
            "bin_start": 1.3,
            "count": 0
           },
           {
            "bin_end": 1.9,
            "bin_start": 1.6,
            "count": 0
           },
           {
            "bin_end": 2.2,
            "bin_start": 1.9,
            "count": 1
           },
           {
            "bin_end": 2.5,
            "bin_start": 2.2,
            "count": 0
           },
           {
            "bin_end": 2.8,
            "bin_start": 2.5,
            "count": 0
           },
           {
            "bin_end": 3.1,
            "bin_start": 2.8,
            "count": 2
           },
           {
            "bin_end": 3.4,
            "bin_start": 3.1,
            "count": 0
           },
           {
            "bin_end": 3.6999999999999997,
            "bin_start": 3.4,
            "count": 0
           },
           {
            "bin_end": 4,
            "bin_start": 3.6999999999999997,
            "count": 1
           }
          ],
          "max": "4.0",
          "min": "1.0",
          "nan_count": 0,
          "unique_count": 4
         }
        },
        {
         "dtype": "float64",
         "name": "beds",
         "stats": {
          "histogram": [
           {
            "bin_end": 1.3,
            "bin_start": 1,
            "count": 1
           },
           {
            "bin_end": 1.6,
            "bin_start": 1.3,
            "count": 0
           },
           {
            "bin_end": 1.9,
            "bin_start": 1.6,
            "count": 0
           },
           {
            "bin_end": 2.2,
            "bin_start": 1.9,
            "count": 1
           },
           {
            "bin_end": 2.5,
            "bin_start": 2.2,
            "count": 0
           },
           {
            "bin_end": 2.8,
            "bin_start": 2.5,
            "count": 0
           },
           {
            "bin_end": 3.1,
            "bin_start": 2.8,
            "count": 2
           },
           {
            "bin_end": 3.4,
            "bin_start": 3.1,
            "count": 0
           },
           {
            "bin_end": 3.6999999999999997,
            "bin_start": 3.4,
            "count": 0
           },
           {
            "bin_end": 4,
            "bin_start": 3.6999999999999997,
            "count": 1
           }
          ],
          "max": "4.0",
          "min": "1.0",
          "nan_count": 0,
          "unique_count": 4
         }
        },
        {
         "dtype": "object",
         "name": "amenities",
         "stats": {
          "categories": [
           {
            "count": 1,
            "name": "[\"Hot water\", \"Dining table\", \"Toaster\", \"Refrigerator\", \"Bathtub\", \"Dishwasher\", \"Coffee maker: drip coffee maker\", \"Room-darkening shades\", \"Private entrance\", \"Dishes and silverware\", \"Washer\", \"Kitchen\", \"TV\", \"Body soap\", \"Indoor fireplace\", \"Private patio or balcony\", \"Free street parking\", \"Iron\", \"Hair dryer\", \"Microwave\", \"Cooking basics\", \"Oven\", \"Private backyard \\u2013 Fully fenced\", \"Pack \\u2019n play/Travel crib\", \"Keypad\", \"Stove\", \"Smoke alarm\", \"Dryer\", \"Essentials\", \"Wine glasses\", \"Self check-in\", \"Cleaning products\", \"Fire extinguisher\", \"High chair\", \"Heating\", \"Outdoor furniture\", \"Long term stays allowed\", \"Wifi\", \"Air conditioning\", \"Outdoor dining area\", \"BBQ grill\", \"First aid kit\", \"Hangers\", \"Extra pillows and blankets\", \"Shampoo\", \"Security cameras on property\", \"Carbon monoxide alarm\", \"Fire pit\", \"Dedicated workspace\", \"Lake view\", \"Bed linens\", \"Park view\", \"Free parking on premises\"]"
           },
           {
            "count": 1,
            "name": "[\"Hot water\", \"Crib - available upon request\", \"Dining table\", \"Toaster\", \"Refrigerator\", \"Bathtub\", \"Dishwasher\", \"Hot water kettle\", \"Room-darkening shades\", \"Private entrance\", \"Dishes and silverware\", \"Conditioner\", \"Kitchen\", \"Body soap\", \"Private patio or balcony\", \"Free street parking\", \"Google Nest sound system\", \"Iron\", \"Hair dryer\", \"Microwave\", \"Cooking basics\", \"Oven\", \"Shared backyard \\u2013 Not fully fenced\", \"Pets allowed\", \"Keypad\", \"Free dryer \\u2013 In unit\", \"Stove\", \"Smoke alarm\", \"Wine glasses\", \"Essentials\", \"Pack \\u2019n play/Travel crib - available upon request\", \"Self check-in\", \"Cleaning products\", \"AC - split type ductless system\", \"Fire extinguisher\", \"Long term stays allowed\", \"Outdoor furniture\", \"Wifi\", \"Coffee\", \"Single level home\", \"Outdoor dining area\", \"Coffee maker: french press\", \"First aid kit\", \"65\\\" HDTV with standard cable\", \"Hangers\", \"Freezer\", \"Free washer \\u2013 In unit\", \"Extra pillows and blankets\", \"Shampoo\", \"Carbon monoxide alarm\", \"Heating - split type ductless system\", \"Dedicated workspace\", \"Bed linens\", \"Free parking on premises\", \"Books and reading material\"]"
           },
           {
            "count": 3,
            "name": "3 others"
           }
          ],
          "nan_count": 0,
          "unique_count": 5
         }
        },
        {
         "dtype": "float64",
         "name": "price",
         "stats": {
          "histogram": [
           {
            "bin_end": 145.6,
            "bin_start": 130,
            "count": 2
           },
           {
            "bin_end": 161.2,
            "bin_start": 145.6,
            "count": 1
           },
           {
            "bin_end": 176.8,
            "bin_start": 161.2,
            "count": 0
           },
           {
            "bin_end": 192.4,
            "bin_start": 176.8,
            "count": 0
           },
           {
            "bin_end": 208,
            "bin_start": 192.4,
            "count": 0
           },
           {
            "bin_end": 223.6,
            "bin_start": 208,
            "count": 0
           },
           {
            "bin_end": 239.2,
            "bin_start": 223.6,
            "count": 0
           },
           {
            "bin_end": 254.8,
            "bin_start": 239.2,
            "count": 0
           },
           {
            "bin_end": 270.4,
            "bin_start": 254.8,
            "count": 0
           },
           {
            "bin_end": 286,
            "bin_start": 270.4,
            "count": 2
           }
          ],
          "max": "286.0",
          "min": "130.0",
          "nan_count": 0,
          "unique_count": 5
         }
        },
        {
         "dtype": "int64",
         "name": "minimum_nights",
         "stats": {
          "histogram": [
           {
            "bin_end": 1.2,
            "bin_start": 1,
            "count": 2
           },
           {
            "bin_end": 1.4,
            "bin_start": 1.2,
            "count": 0
           },
           {
            "bin_end": 1.6,
            "bin_start": 1.4,
            "count": 0
           },
           {
            "bin_end": 1.8,
            "bin_start": 1.6,
            "count": 0
           },
           {
            "bin_end": 2,
            "bin_start": 1.8,
            "count": 0
           },
           {
            "bin_end": 2.2,
            "bin_start": 2,
            "count": 1
           },
           {
            "bin_end": 2.4000000000000004,
            "bin_start": 2.2,
            "count": 0
           },
           {
            "bin_end": 2.6,
            "bin_start": 2.4000000000000004,
            "count": 0
           },
           {
            "bin_end": 2.8,
            "bin_start": 2.6,
            "count": 0
           },
           {
            "bin_end": 3,
            "bin_start": 2.8,
            "count": 2
           }
          ],
          "max": "3",
          "min": "1",
          "nan_count": 0,
          "unique_count": 3
         }
        },
        {
         "dtype": "int64",
         "name": "maximum_nights",
         "stats": {
          "histogram": [
           {
            "bin_end": 139.5,
            "bin_start": 30,
            "count": 2
           },
           {
            "bin_end": 249,
            "bin_start": 139.5,
            "count": 1
           },
           {
            "bin_end": 358.5,
            "bin_start": 249,
            "count": 0
           },
           {
            "bin_end": 468,
            "bin_start": 358.5,
            "count": 0
           },
           {
            "bin_end": 577.5,
            "bin_start": 468,
            "count": 0
           },
           {
            "bin_end": 687,
            "bin_start": 577.5,
            "count": 0
           },
           {
            "bin_end": 796.5,
            "bin_start": 687,
            "count": 0
           },
           {
            "bin_end": 906,
            "bin_start": 796.5,
            "count": 0
           },
           {
            "bin_end": 1015.5,
            "bin_start": 906,
            "count": 0
           },
           {
            "bin_end": 1125,
            "bin_start": 1015.5,
            "count": 2
           }
          ],
          "max": "1125",
          "min": "30",
          "nan_count": 0,
          "unique_count": 4
         }
        },
        {
         "dtype": "int64",
         "name": "number_of_reviews",
         "stats": {
          "histogram": [
           {
            "bin_end": 33.9,
            "bin_start": 18,
            "count": 2
           },
           {
            "bin_end": 49.8,
            "bin_start": 33.9,
            "count": 1
           },
           {
            "bin_end": 65.7,
            "bin_start": 49.8,
            "count": 0
           },
           {
            "bin_end": 81.6,
            "bin_start": 65.7,
            "count": 0
           },
           {
            "bin_end": 97.5,
            "bin_start": 81.6,
            "count": 0
           },
           {
            "bin_end": 113.4,
            "bin_start": 97.5,
            "count": 1
           },
           {
            "bin_end": 129.3,
            "bin_start": 113.4,
            "count": 0
           },
           {
            "bin_end": 145.2,
            "bin_start": 129.3,
            "count": 0
           },
           {
            "bin_end": 161.1,
            "bin_start": 145.2,
            "count": 0
           },
           {
            "bin_end": 177,
            "bin_start": 161.1,
            "count": 1
           }
          ],
          "max": "177",
          "min": "18",
          "nan_count": 0,
          "unique_count": 5
         }
        },
        {
         "dtype": "int64",
         "name": "number_of_reviews_ltm",
         "stats": {
          "histogram": [
           {
            "bin_end": 14.5,
            "bin_start": 7,
            "count": 1
           },
           {
            "bin_end": 22,
            "bin_start": 14.5,
            "count": 1
           },
           {
            "bin_end": 29.5,
            "bin_start": 22,
            "count": 2
           },
           {
            "bin_end": 37,
            "bin_start": 29.5,
            "count": 0
           },
           {
            "bin_end": 44.5,
            "bin_start": 37,
            "count": 0
           },
           {
            "bin_end": 52,
            "bin_start": 44.5,
            "count": 0
           },
           {
            "bin_end": 59.5,
            "bin_start": 52,
            "count": 0
           },
           {
            "bin_end": 67,
            "bin_start": 59.5,
            "count": 0
           },
           {
            "bin_end": 74.5,
            "bin_start": 67,
            "count": 0
           },
           {
            "bin_end": 82,
            "bin_start": 74.5,
            "count": 1
           }
          ],
          "max": "82",
          "min": "7",
          "nan_count": 0,
          "unique_count": 5
         }
        },
        {
         "dtype": "int64",
         "name": "number_of_reviews_l30d",
         "stats": {
          "histogram": [
           {
            "bin_end": 0.4,
            "bin_start": 0,
            "count": 1
           },
           {
            "bin_end": 0.8,
            "bin_start": 0.4,
            "count": 0
           },
           {
            "bin_end": 1.2000000000000002,
            "bin_start": 0.8,
            "count": 1
           },
           {
            "bin_end": 1.6,
            "bin_start": 1.2000000000000002,
            "count": 0
           },
           {
            "bin_end": 2,
            "bin_start": 1.6,
            "count": 0
           },
           {
            "bin_end": 2.4000000000000004,
            "bin_start": 2,
            "count": 0
           },
           {
            "bin_end": 2.8000000000000003,
            "bin_start": 2.4000000000000004,
            "count": 0
           },
           {
            "bin_end": 3.2,
            "bin_start": 2.8000000000000003,
            "count": 2
           },
           {
            "bin_end": 3.6,
            "bin_start": 3.2,
            "count": 0
           },
           {
            "bin_end": 4,
            "bin_start": 3.6,
            "count": 1
           }
          ],
          "max": "4",
          "min": "0",
          "nan_count": 0,
          "unique_count": 4
         }
        },
        {
         "dtype": "datetime64[ns]",
         "name": "first_review",
         "stats": {
          "histogram": [
           {
            "bin_end": 1508544000000000000,
            "bin_start": 1492300800000000000,
            "count": 1
           },
           {
            "bin_end": 1524787200000000000,
            "bin_start": 1508544000000000000,
            "count": 0
           },
           {
            "bin_end": 1541030400000000000,
            "bin_start": 1524787200000000000,
            "count": 0
           },
           {
            "bin_end": 1557273600000000000,
            "bin_start": 1541030400000000000,
            "count": 0
           },
           {
            "bin_end": 1573516800000000000,
            "bin_start": 1557273600000000000,
            "count": 0
           },
           {
            "bin_end": 1589760000000000000,
            "bin_start": 1573516800000000000,
            "count": 0
           },
           {
            "bin_end": 1606003200000000000,
            "bin_start": 1589760000000000000,
            "count": 0
           },
           {
            "bin_end": 1622246400000000000,
            "bin_start": 1606003200000000000,
            "count": 2
           },
           {
            "bin_end": 1638489600000000000,
            "bin_start": 1622246400000000000,
            "count": 1
           },
           {
            "bin_end": 1654732800000000000,
            "bin_start": 1638489600000000000,
            "count": 1
           }
          ],
          "max": "2022-06-09 00:00:00",
          "min": "2017-04-16 00:00:00",
          "nan_count": 0,
          "unique_count": 5
         }
        },
        {
         "dtype": "datetime64[ns]",
         "name": "last_review",
         "stats": {
          "histogram": [
           {
            "bin_end": 1662638400000000000,
            "bin_start": 1661644800000000000,
            "count": 1
           },
           {
            "bin_end": 1663632000000000000,
            "bin_start": 1662638400000000000,
            "count": 0
           },
           {
            "bin_end": 1664625600000000000,
            "bin_start": 1663632000000000000,
            "count": 0
           },
           {
            "bin_end": 1665619200000000000,
            "bin_start": 1664625600000000000,
            "count": 0
           },
           {
            "bin_end": 1666612800000000000,
            "bin_start": 1665619200000000000,
            "count": 0
           },
           {
            "bin_end": 1667606400000000000,
            "bin_start": 1666612800000000000,
            "count": 0
           },
           {
            "bin_end": 1668600000000000000,
            "bin_start": 1667606400000000000,
            "count": 0
           },
           {
            "bin_end": 1669593600000000000,
            "bin_start": 1668600000000000000,
            "count": 0
           },
           {
            "bin_end": 1670587200000000000,
            "bin_start": 1669593600000000000,
            "count": 1
           },
           {
            "bin_end": 1671580800000000000,
            "bin_start": 1670587200000000000,
            "count": 3
           }
          ],
          "max": "2022-12-21 00:00:00",
          "min": "2022-08-28 00:00:00",
          "nan_count": 0,
          "unique_count": 4
         }
        },
        {
         "dtype": "float64",
         "name": "review_scores_rating",
         "stats": {
          "histogram": [
           {
            "bin_end": 4.765000000000001,
            "bin_start": 4.74,
            "count": 1
           },
           {
            "bin_end": 4.79,
            "bin_start": 4.765000000000001,
            "count": 0
           },
           {
            "bin_end": 4.815,
            "bin_start": 4.79,
            "count": 0
           },
           {
            "bin_end": 4.84,
            "bin_start": 4.815,
            "count": 1
           },
           {
            "bin_end": 4.865,
            "bin_start": 4.84,
            "count": 0
           },
           {
            "bin_end": 4.890000000000001,
            "bin_start": 4.865,
            "count": 1
           },
           {
            "bin_end": 4.915,
            "bin_start": 4.890000000000001,
            "count": 0
           },
           {
            "bin_end": 4.94,
            "bin_start": 4.915,
            "count": 0
           },
           {
            "bin_end": 4.965,
            "bin_start": 4.94,
            "count": 1
           },
           {
            "bin_end": 4.99,
            "bin_start": 4.965,
            "count": 1
           }
          ],
          "max": "4.99",
          "min": "4.74",
          "nan_count": 0,
          "unique_count": 5
         }
        },
        {
         "dtype": "float64",
         "name": "review_scores_accuracy",
         "stats": {
          "histogram": [
           {
            "bin_end": 4.7829999999999995,
            "bin_start": 4.76,
            "count": 1
           },
           {
            "bin_end": 4.806,
            "bin_start": 4.7829999999999995,
            "count": 0
           },
           {
            "bin_end": 4.829,
            "bin_start": 4.806,
            "count": 0
           },
           {
            "bin_end": 4.852,
            "bin_start": 4.829,
            "count": 0
           },
           {
            "bin_end": 4.875,
            "bin_start": 4.852,
            "count": 0
           },
           {
            "bin_end": 4.898,
            "bin_start": 4.875,
            "count": 1
           },
           {
            "bin_end": 4.921,
            "bin_start": 4.898,
            "count": 0
           },
           {
            "bin_end": 4.944,
            "bin_start": 4.921,
            "count": 0
           },
           {
            "bin_end": 4.9670000000000005,
            "bin_start": 4.944,
            "count": 2
           },
           {
            "bin_end": 4.99,
            "bin_start": 4.9670000000000005,
            "count": 1
           }
          ],
          "max": "4.99",
          "min": "4.76",
          "nan_count": 0,
          "unique_count": 4
         }
        },
        {
         "dtype": "float64",
         "name": "review_scores_cleanliness",
         "stats": {
          "histogram": [
           {
            "bin_end": 4.838,
            "bin_start": 4.82,
            "count": 1
           },
           {
            "bin_end": 4.856,
            "bin_start": 4.838,
            "count": 0
           },
           {
            "bin_end": 4.8740000000000006,
            "bin_start": 4.856,
            "count": 0
           },
           {
            "bin_end": 4.892,
            "bin_start": 4.8740000000000006,
            "count": 1
           },
           {
            "bin_end": 4.91,
            "bin_start": 4.892,
            "count": 0
           },
           {
            "bin_end": 4.928,
            "bin_start": 4.91,
            "count": 1
           },
           {
            "bin_end": 4.946,
            "bin_start": 4.928,
            "count": 1
           },
           {
            "bin_end": 4.964,
            "bin_start": 4.946,
            "count": 0
           },
           {
            "bin_end": 4.982,
            "bin_start": 4.964,
            "count": 0
           },
           {
            "bin_end": 5,
            "bin_start": 4.982,
            "count": 1
           }
          ],
          "max": "5.0",
          "min": "4.82",
          "nan_count": 0,
          "unique_count": 5
         }
        },
        {
         "dtype": "float64",
         "name": "review_scores_checkin",
         "stats": {
          "histogram": [
           {
            "bin_end": 4.8919999999999995,
            "bin_start": 4.88,
            "count": 2
           },
           {
            "bin_end": 4.904,
            "bin_start": 4.8919999999999995,
            "count": 0
           },
           {
            "bin_end": 4.916,
            "bin_start": 4.904,
            "count": 0
           },
           {
            "bin_end": 4.928,
            "bin_start": 4.916,
            "count": 0
           },
           {
            "bin_end": 4.9399999999999995,
            "bin_start": 4.928,
            "count": 1
           },
           {
            "bin_end": 4.952,
            "bin_start": 4.9399999999999995,
            "count": 0
           },
           {
            "bin_end": 4.964,
            "bin_start": 4.952,
            "count": 0
           },
           {
            "bin_end": 4.976,
            "bin_start": 4.964,
            "count": 0
           },
           {
            "bin_end": 4.9879999999999995,
            "bin_start": 4.976,
            "count": 0
           },
           {
            "bin_end": 5,
            "bin_start": 4.9879999999999995,
            "count": 2
           }
          ],
          "max": "5.0",
          "min": "4.88",
          "nan_count": 0,
          "unique_count": 5
         }
        },
        {
         "dtype": "float64",
         "name": "review_scores_communication",
         "stats": {
          "histogram": [
           {
            "bin_end": 4.739,
            "bin_start": 4.71,
            "count": 1
           },
           {
            "bin_end": 4.768,
            "bin_start": 4.739,
            "count": 0
           },
           {
            "bin_end": 4.797,
            "bin_start": 4.768,
            "count": 0
           },
           {
            "bin_end": 4.826,
            "bin_start": 4.797,
            "count": 0
           },
           {
            "bin_end": 4.855,
            "bin_start": 4.826,
            "count": 0
           },
           {
            "bin_end": 4.884,
            "bin_start": 4.855,
            "count": 0
           },
           {
            "bin_end": 4.913,
            "bin_start": 4.884,
            "count": 1
           },
           {
            "bin_end": 4.942,
            "bin_start": 4.913,
            "count": 0
           },
           {
            "bin_end": 4.971,
            "bin_start": 4.942,
            "count": 1
           },
           {
            "bin_end": 5,
            "bin_start": 4.971,
            "count": 2
           }
          ],
          "max": "5.0",
          "min": "4.71",
          "nan_count": 0,
          "unique_count": 5
         }
        },
        {
         "dtype": "float64",
         "name": "review_scores_location",
         "stats": {
          "histogram": [
           {
            "bin_end": 4.648000000000001,
            "bin_start": 4.61,
            "count": 1
           },
           {
            "bin_end": 4.686,
            "bin_start": 4.648000000000001,
            "count": 0
           },
           {
            "bin_end": 4.724,
            "bin_start": 4.686,
            "count": 0
           },
           {
            "bin_end": 4.7620000000000005,
            "bin_start": 4.724,
            "count": 0
           },
           {
            "bin_end": 4.800000000000001,
            "bin_start": 4.7620000000000005,
            "count": 0
           },
           {
            "bin_end": 4.838,
            "bin_start": 4.800000000000001,
            "count": 0
           },
           {
            "bin_end": 4.876,
            "bin_start": 4.838,
            "count": 0
           },
           {
            "bin_end": 4.914000000000001,
            "bin_start": 4.876,
            "count": 0
           },
           {
            "bin_end": 4.952,
            "bin_start": 4.914000000000001,
            "count": 2
           },
           {
            "bin_end": 4.99,
            "bin_start": 4.952,
            "count": 2
           }
          ],
          "max": "4.99",
          "min": "4.61",
          "nan_count": 0,
          "unique_count": 5
         }
        },
        {
         "dtype": "float64",
         "name": "review_scores_value",
         "stats": {
          "histogram": [
           {
            "bin_end": 4.679,
            "bin_start": 4.65,
            "count": 1
           },
           {
            "bin_end": 4.708,
            "bin_start": 4.679,
            "count": 0
           },
           {
            "bin_end": 4.737,
            "bin_start": 4.708,
            "count": 1
           },
           {
            "bin_end": 4.766,
            "bin_start": 4.737,
            "count": 0
           },
           {
            "bin_end": 4.795,
            "bin_start": 4.766,
            "count": 0
           },
           {
            "bin_end": 4.824000000000001,
            "bin_start": 4.795,
            "count": 0
           },
           {
            "bin_end": 4.853000000000001,
            "bin_start": 4.824000000000001,
            "count": 0
           },
           {
            "bin_end": 4.882000000000001,
            "bin_start": 4.853000000000001,
            "count": 0
           },
           {
            "bin_end": 4.9110000000000005,
            "bin_start": 4.882000000000001,
            "count": 1
           },
           {
            "bin_end": 4.94,
            "bin_start": 4.9110000000000005,
            "count": 2
           }
          ],
          "max": "4.94",
          "min": "4.65",
          "nan_count": 0,
          "unique_count": 5
         }
        },
        {
         "dtype": "int64",
         "name": "has_license",
         "stats": {
          "histogram": [
           {
            "bin_end": 0.6,
            "bin_start": 0.5,
            "count": 0
           },
           {
            "bin_end": 0.7,
            "bin_start": 0.6,
            "count": 0
           },
           {
            "bin_end": 0.8,
            "bin_start": 0.7,
            "count": 0
           },
           {
            "bin_end": 0.9,
            "bin_start": 0.8,
            "count": 0
           },
           {
            "bin_end": 1,
            "bin_start": 0.9,
            "count": 0
           },
           {
            "bin_end": 1.1,
            "bin_start": 1,
            "count": 5
           },
           {
            "bin_end": 1.2000000000000002,
            "bin_start": 1.1,
            "count": 0
           },
           {
            "bin_end": 1.3,
            "bin_start": 1.2000000000000002,
            "count": 0
           },
           {
            "bin_end": 1.4,
            "bin_start": 1.3,
            "count": 0
           },
           {
            "bin_end": 1.5,
            "bin_start": 1.4,
            "count": 0
           }
          ],
          "max": "1",
          "min": "1",
          "nan_count": 0,
          "unique_count": 1
         }
        },
        {
         "dtype": "int64",
         "name": "instant_bookable",
         "stats": {
          "histogram": [
           {
            "bin_end": 0.1,
            "bin_start": 0,
            "count": 3
           },
           {
            "bin_end": 0.2,
            "bin_start": 0.1,
            "count": 0
           },
           {
            "bin_end": 0.30000000000000004,
            "bin_start": 0.2,
            "count": 0
           },
           {
            "bin_end": 0.4,
            "bin_start": 0.30000000000000004,
            "count": 0
           },
           {
            "bin_end": 0.5,
            "bin_start": 0.4,
            "count": 0
           },
           {
            "bin_end": 0.6000000000000001,
            "bin_start": 0.5,
            "count": 0
           },
           {
            "bin_end": 0.7000000000000001,
            "bin_start": 0.6000000000000001,
            "count": 0
           },
           {
            "bin_end": 0.8,
            "bin_start": 0.7000000000000001,
            "count": 0
           },
           {
            "bin_end": 0.9,
            "bin_start": 0.8,
            "count": 0
           },
           {
            "bin_end": 1,
            "bin_start": 0.9,
            "count": 2
           }
          ],
          "max": "1",
          "min": "0",
          "nan_count": 0,
          "unique_count": 2
         }
        },
        {
         "dtype": "int64",
         "name": "calculated_host_listings_count",
         "stats": {
          "histogram": [
           {
            "bin_end": 3.6,
            "bin_start": 1,
            "count": 4
           },
           {
            "bin_end": 6.2,
            "bin_start": 3.6,
            "count": 0
           },
           {
            "bin_end": 8.8,
            "bin_start": 6.2,
            "count": 0
           },
           {
            "bin_end": 11.4,
            "bin_start": 8.8,
            "count": 0
           },
           {
            "bin_end": 14,
            "bin_start": 11.4,
            "count": 0
           },
           {
            "bin_end": 16.6,
            "bin_start": 14,
            "count": 0
           },
           {
            "bin_end": 19.2,
            "bin_start": 16.6,
            "count": 0
           },
           {
            "bin_end": 21.8,
            "bin_start": 19.2,
            "count": 0
           },
           {
            "bin_end": 24.400000000000002,
            "bin_start": 21.8,
            "count": 0
           },
           {
            "bin_end": 27,
            "bin_start": 24.400000000000002,
            "count": 1
           }
          ],
          "max": "27",
          "min": "1",
          "nan_count": 0,
          "unique_count": 3
         }
        },
        {
         "dtype": "int64",
         "name": "calculated_host_listings_count_entire_homes",
         "stats": {
          "histogram": [
           {
            "bin_end": 3.6,
            "bin_start": 1,
            "count": 4
           },
           {
            "bin_end": 6.2,
            "bin_start": 3.6,
            "count": 0
           },
           {
            "bin_end": 8.8,
            "bin_start": 6.2,
            "count": 0
           },
           {
            "bin_end": 11.4,
            "bin_start": 8.8,
            "count": 0
           },
           {
            "bin_end": 14,
            "bin_start": 11.4,
            "count": 0
           },
           {
            "bin_end": 16.6,
            "bin_start": 14,
            "count": 0
           },
           {
            "bin_end": 19.2,
            "bin_start": 16.6,
            "count": 0
           },
           {
            "bin_end": 21.8,
            "bin_start": 19.2,
            "count": 0
           },
           {
            "bin_end": 24.400000000000002,
            "bin_start": 21.8,
            "count": 0
           },
           {
            "bin_end": 27,
            "bin_start": 24.400000000000002,
            "count": 1
           }
          ],
          "max": "27",
          "min": "1",
          "nan_count": 0,
          "unique_count": 3
         }
        },
        {
         "dtype": "int64",
         "name": "calculated_host_listings_count_private_rooms",
         "stats": {
          "histogram": [
           {
            "bin_end": -0.4,
            "bin_start": -0.5,
            "count": 0
           },
           {
            "bin_end": -0.3,
            "bin_start": -0.4,
            "count": 0
           },
           {
            "bin_end": -0.19999999999999996,
            "bin_start": -0.3,
            "count": 0
           },
           {
            "bin_end": -0.09999999999999998,
            "bin_start": -0.19999999999999996,
            "count": 0
           },
           {
            "bin_end": 0,
            "bin_start": -0.09999999999999998,
            "count": 0
           },
           {
            "bin_end": 0.10000000000000009,
            "bin_start": 0,
            "count": 5
           },
           {
            "bin_end": 0.20000000000000007,
            "bin_start": 0.10000000000000009,
            "count": 0
           },
           {
            "bin_end": 0.30000000000000004,
            "bin_start": 0.20000000000000007,
            "count": 0
           },
           {
            "bin_end": 0.4,
            "bin_start": 0.30000000000000004,
            "count": 0
           },
           {
            "bin_end": 0.5,
            "bin_start": 0.4,
            "count": 0
           }
          ],
          "max": "0",
          "min": "0",
          "nan_count": 0,
          "unique_count": 1
         }
        },
        {
         "dtype": "int64",
         "name": "calculated_host_listings_count_shared_rooms",
         "stats": {
          "histogram": [
           {
            "bin_end": -0.4,
            "bin_start": -0.5,
            "count": 0
           },
           {
            "bin_end": -0.3,
            "bin_start": -0.4,
            "count": 0
           },
           {
            "bin_end": -0.19999999999999996,
            "bin_start": -0.3,
            "count": 0
           },
           {
            "bin_end": -0.09999999999999998,
            "bin_start": -0.19999999999999996,
            "count": 0
           },
           {
            "bin_end": 0,
            "bin_start": -0.09999999999999998,
            "count": 0
           },
           {
            "bin_end": 0.10000000000000009,
            "bin_start": 0,
            "count": 5
           },
           {
            "bin_end": 0.20000000000000007,
            "bin_start": 0.10000000000000009,
            "count": 0
           },
           {
            "bin_end": 0.30000000000000004,
            "bin_start": 0.20000000000000007,
            "count": 0
           },
           {
            "bin_end": 0.4,
            "bin_start": 0.30000000000000004,
            "count": 0
           },
           {
            "bin_end": 0.5,
            "bin_start": 0.4,
            "count": 0
           }
          ],
          "max": "0",
          "min": "0",
          "nan_count": 0,
          "unique_count": 1
         }
        },
        {
         "dtype": "float64",
         "name": "reviews_per_month",
         "stats": {
          "histogram": [
           {
            "bin_end": 1.6760000000000002,
            "bin_start": 0.98,
            "count": 3
           },
           {
            "bin_end": 2.372,
            "bin_start": 1.6760000000000002,
            "count": 0
           },
           {
            "bin_end": 3.068,
            "bin_start": 2.372,
            "count": 0
           },
           {
            "bin_end": 3.7640000000000002,
            "bin_start": 3.068,
            "count": 0
           },
           {
            "bin_end": 4.460000000000001,
            "bin_start": 3.7640000000000002,
            "count": 1
           },
           {
            "bin_end": 5.156000000000001,
            "bin_start": 4.460000000000001,
            "count": 0
           },
           {
            "bin_end": 5.852,
            "bin_start": 5.156000000000001,
            "count": 0
           },
           {
            "bin_end": 6.548,
            "bin_start": 5.852,
            "count": 0
           },
           {
            "bin_end": 7.244,
            "bin_start": 6.548,
            "count": 0
           },
           {
            "bin_end": 7.94,
            "bin_start": 7.244,
            "count": 1
           }
          ],
          "max": "7.94",
          "min": "0.98",
          "nan_count": 0,
          "unique_count": 5
         }
        },
        {
         "dtype": "float64",
         "name": "bathrooms_count",
         "stats": {
          "histogram": [
           {
            "bin_end": 1.1,
            "bin_start": 1,
            "count": 3
           },
           {
            "bin_end": 1.2,
            "bin_start": 1.1,
            "count": 0
           },
           {
            "bin_end": 1.3,
            "bin_start": 1.2,
            "count": 0
           },
           {
            "bin_end": 1.4,
            "bin_start": 1.3,
            "count": 0
           },
           {
            "bin_end": 1.5,
            "bin_start": 1.4,
            "count": 0
           },
           {
            "bin_end": 1.6,
            "bin_start": 1.5,
            "count": 0
           },
           {
            "bin_end": 1.7000000000000002,
            "bin_start": 1.6,
            "count": 0
           },
           {
            "bin_end": 1.8,
            "bin_start": 1.7000000000000002,
            "count": 0
           },
           {
            "bin_end": 1.9,
            "bin_start": 1.8,
            "count": 0
           },
           {
            "bin_end": 2,
            "bin_start": 1.9,
            "count": 2
           }
          ],
          "max": "2.0",
          "min": "1.0",
          "nan_count": 0,
          "unique_count": 2
         }
        },
        {
         "dtype": "int64",
         "name": "amenities_count",
         "stats": {
          "histogram": [
           {
            "bin_end": 34.3,
            "bin_start": 32,
            "count": 1
           },
           {
            "bin_end": 36.6,
            "bin_start": 34.3,
            "count": 0
           },
           {
            "bin_end": 38.9,
            "bin_start": 36.6,
            "count": 0
           },
           {
            "bin_end": 41.2,
            "bin_start": 38.9,
            "count": 1
           },
           {
            "bin_end": 43.5,
            "bin_start": 41.2,
            "count": 0
           },
           {
            "bin_end": 45.8,
            "bin_start": 43.5,
            "count": 0
           },
           {
            "bin_end": 48.099999999999994,
            "bin_start": 45.8,
            "count": 1
           },
           {
            "bin_end": 50.4,
            "bin_start": 48.099999999999994,
            "count": 0
           },
           {
            "bin_end": 52.7,
            "bin_start": 50.4,
            "count": 0
           },
           {
            "bin_end": 55,
            "bin_start": 52.7,
            "count": 2
           }
          ],
          "max": "55",
          "min": "32",
          "nan_count": 0,
          "unique_count": 5
         }
        },
        {
         "dtype": "int64",
         "name": "host_response_time_encoded",
         "stats": {
          "histogram": [
           {
            "bin_end": 0.6,
            "bin_start": 0.5,
            "count": 0
           },
           {
            "bin_end": 0.7,
            "bin_start": 0.6,
            "count": 0
           },
           {
            "bin_end": 0.8,
            "bin_start": 0.7,
            "count": 0
           },
           {
            "bin_end": 0.9,
            "bin_start": 0.8,
            "count": 0
           },
           {
            "bin_end": 1,
            "bin_start": 0.9,
            "count": 0
           },
           {
            "bin_end": 1.1,
            "bin_start": 1,
            "count": 5
           },
           {
            "bin_end": 1.2000000000000002,
            "bin_start": 1.1,
            "count": 0
           },
           {
            "bin_end": 1.3,
            "bin_start": 1.2000000000000002,
            "count": 0
           },
           {
            "bin_end": 1.4,
            "bin_start": 1.3,
            "count": 0
           },
           {
            "bin_end": 1.5,
            "bin_start": 1.4,
            "count": 0
           }
          ],
          "max": "1",
          "min": "1",
          "nan_count": 0,
          "unique_count": 1
         }
        },
        {
         "dtype": "int64",
         "name": "host_operate_years",
         "stats": {
          "histogram": [
           {
            "bin_end": 4.6,
            "bin_start": 4,
            "count": 1
           },
           {
            "bin_end": 5.2,
            "bin_start": 4.6,
            "count": 1
           },
           {
            "bin_end": 5.8,
            "bin_start": 5.2,
            "count": 0
           },
           {
            "bin_end": 6.4,
            "bin_start": 5.8,
            "count": 0
           },
           {
            "bin_end": 7,
            "bin_start": 6.4,
            "count": 0
           },
           {
            "bin_end": 7.6,
            "bin_start": 7,
            "count": 1
           },
           {
            "bin_end": 8.2,
            "bin_start": 7.6,
            "count": 0
           },
           {
            "bin_end": 8.8,
            "bin_start": 8.2,
            "count": 0
           },
           {
            "bin_end": 9.399999999999999,
            "bin_start": 8.8,
            "count": 1
           },
           {
            "bin_end": 10,
            "bin_start": 9.399999999999999,
            "count": 1
           }
          ],
          "max": "10",
          "min": "4",
          "nan_count": 0,
          "unique_count": 5
         }
        },
        {
         "dtype": "object",
         "name": "comments",
         "stats": {
          "categories": [
           {
            "count": 1,
            "name": "Unexpectedly the place was like new home since it got recently refreshed. Xiao was very reponsive and easy to communicate with. We really enjoyed this compy home and proximity to downtown Seattle. Thanks Xiao! Excellent home, great communication from start to finish , nice location - surely recommend! We enjoyed our trip thoroughly. All amenities listed were in great working order. The flow of the house was splendid and the outdoor space was amazing. Even with two kids, there was ample room. It was easy taking up the hosts and they gave us all the information very quickly after booking. Great hosts, great house, great location! Xiao's place is a great house for groups to stay in the Seattle area. It is situated just off of the south side of lake Washington with a very nice creek running right through the property. Just a few steps away is a delicious pizza restaurant and a nice forested park for hiking. Traffic is very minimal in the area and creates virtually no noise. There is also access to a freeway that goes north to Seattle and a light rail station, with free parking, only a few miles from the location. This house was clean, spacious, and secure. Check-in instructions were great and host was quick to respond to messages. Would have given a 5 star review but we thought the beds were uncomfortable, we had to buy some kitchen basics in order to prepare meals, and we did not see any ducks during our stay. Beautiful home close to Lake Washington.  My family and I had a wonderful time walking the nearby trail and grabbing a bite at the local pizzeria.  <br/><br/>Xiao was very attentive to the couple of needs we had during our stay.  We would definitely stay here again! Oh where do I start! From the moment you pull up to the home, you'll find a very large driveway with a yard that has a really cool creek! the sound of the water is so relaxing. Entrance to the home was easy as Xiao's communication was very thorough. This is such a beautiful, and cozy home. Very thoughtful touches were added to make our stay as relaxing as possible.  Very spacious indoor AND outdoor area. Everything we needed was here. and the area / town is beautiful as well. THANK YOU FOR A WONDERFUL STAY!!! The property was true to its listing. It can accommodate a larger party, the home was clean and comfortable. A bit farther from the central city, but about 20 min away. Clean, roomy house in South Seattle. We were in town for our daughters wedding in Ranier Beach, and it was great. Nice little walking path just up the road, too. Amazing home & an incredibly communicative and accommodating host! If I were to choose a place to recommend for anyone that will be traveling to Seattle, and wants to experience what the PNW has to offer, Xiao’s Airbnb would be the first that comes to mind. <br/><br/>From the picturesque surroundings, to how clean & well stocked the house is, there’s nothing bad I could say about the home at all. It is also incredibly spacious. The house is also conveniently located to a number of convenient stores, as well as a local bakery called Umami Kushi that serves up excellent beignets and stuffed baked goods.<br/><br/>Xiao was also quick to respond to any questions that I had, and was thorough and concise with her communication. Our check-in was smooth and there wasn’t any hiccups along the way. We enjoyed a perfect stay at this private home in south Seattle. The perfect home base for us visiting friends and family. We appreciated the home's security and bathroom/shower updates. Host communication was excellent. Really an enjoyable stay within an easy drive to everywhere we needed to go. Plus pizza and Kubota garden. We had a great stay in this house. The playground and pizza place nearby were convenient, and the stream running through the front yard was beautiful.  Would absolutely stay there again. We were able to get into this house on short notice after another one fell through. Nice place, true to pictures and clean. Really liked walking up the street to the park and walking up the valley in the snow. Kids were able to sled in the park behind the house. Fun to watch the family get out of the car and look up at the trees, not realizing it was the creek they were hearing and not the wind. this was a wonderful home. very spacious with a clawfoot bathtub and open fully stocked kitchen and private creek. Our team of 4 got thier own room and bed.<br/><br/>the neighbohood is quiet and very family friendly. getting from renton area to downtown is a 14 min drive but there are plenty of shops in the area to visit.<br/><br/>the gate to enter the property isnt automated so if you have a car some one has to get out to manually unlock the gate. Clean and nice decorated house with everything we needed for the trip.   Host responded quickly to an unexpected issue.    Really enjoyed our stay. Very nice. Just what we wanted and asked for. 100/10 on our experience with Xiao. Responds quickly to questions and the whole experience was as painless as she could make it. The home itself was nice & cozy and equipped with the essentials you would need during your stay. It was perfect for our family of 7 and a safe enough space for kids to roam and explore within the house."
           },
           {
            "count": 1,
            "name": "The house is so comfortable and clean. It has everything you need and makes you feel like home. I like the one floor house compared some 3 floor townhouse it’s easy for everything. Ryan is very helpful with all questions and service. Great experience here. Our family had a wonderful stay at Ryan’s place. Check-in was easy; location was great with quick access to highway; house was beautiful and well stocked; great neighborhood with restaurants nearby. The location was great as it was close to downtown and easily accessible by car or bus. It is recently remodeled with new furnishings and very spacious and clean. Ryan was also very responsive to our questions and was a great host. Would definitely recommend! Ryan’s place was wonderful. Roomy, clean, and in a fun neighborhood. Our kids loved walking to Oxbow park (for the giant hat and boots), and we were only a short walk to downtown Georgetown!<br/><br/>I wholeheartedly recommend! Wow! This place is extraordinarily clean and well appointed. Great modern amenities, great neighborhood. The beds were comfortable, the kitchen and bathrooms looked newly remodeled. Would definitely stay here again when in Seattle! Really lovely house and feels like a miracle to find a true three bedroom. Stayed for a week with two co-workers for required work meetings. House is awesomely convenient to I-5, Marginal Way and 99 as well as restaurants and things to do in Georgetown (most are walk-able!). Incredibly clean and larger than expected, there was plenty of room for all of us to spend time together... or apart. Beautiful kitchen and laundry room. Quiet and secure. Look forward to our next stay. Ryan is an attentive and thoughtful host. Thank you! Great spot! Cute place - easy to get to and close to downtown! Nice house is a great location. Would recommend. this is a lovely homey home in a very charming part of town.  with a walking adventure in every direction  😀 We enjoyed staying at Ryan’s house in Georgetown. The house is remodeled and modern mixed with a little bit of rustic charm as described. Lots of room for a family with everyone on one story. Two good bathrooms one with a nice tub. The location is good for getting to the airport or Seward park, downtown on I-5 or getting out to the beach without staying at the beach.  There is some airport noise but that is common in many places in Seattle. Proximity to The Museum of Flight is a bonus, I was able to start the day with my toddler and then send her home for a nap while i continued exploring the planes! I felt secure and happy here for 3 nights with my family. Great location, clean, and charming. Our family was staying at Ryan's place as we attended a wedding in Seattle. This was my parents first time staying at an Airbnb, and they absolutely loved it! Plenty of space to sleep, eat, and hangout. We enjoyed our stay very much. Great stay, freshly renovated and well equipped house! Great location for what we needed and Ryan is VERY responsive. Probably the easiest check-in and check-out procedure I’ve ever had for a bnb unit. And the House was great, too. Ryan’s place is very clean, beautifully updated and nicely appointed with everything you might need. Beds are comfortable & linens are great. We appreciated the big luxurious bath towels!! Plenty of the basics:paper towels,TP, garbage bags, etc which a lot of rentals skimp on. Nice neighborhood, sweet front porch & fabulous fenced outdoor area with table & chairs. We had one small issue with having very few drinking glasses but as soon as Ryan was made aware he dropped off an entire set! <br/>The house is great & Ryan is an excellent host. We recommend this little gem! Nice spot near downtown. Great if you there as a business traveler Our family enjoyed our stay at this location.  Very clean and close walking distance to restaurants and coffee shops. Comfortable beds and cozy outside patio. Easy access to airport and downtown Seattle.  Would look to use again when we return to Seattle in the future. Hello from our Indiana travel tribe.. We enjoyed Ryan’s place so much.  Extremely clean, spacious yet private feeling.  The house was so comfortable, we didn’t want to leave.  Great location between Seattle and The Airport.  The bedrooms were  a great size with comfortable beds and bedding.  We will definitely try to stay next time we visit the area. This is really a gem of a place to stay… hope you all try it out. Beautiful, well appointed home. Charming neighborhood with llvely gardens and an amazing nakery a couple blocks away. Ryan was very quick to respond when we messaged him with some questions, and his response was super helpful. Ill definitely look for an opportunity to go back! A quick-to-respond host and a beautifully renovated and spacious craftsman house with cozy beds made for an excellent stay during our trip down south. The kitchen was equipped with brand new appliances and condiments, and the beds were all comfortable to sleep in. We enjoyed the outdoor space well as the indoor space. We loved the proximity to our targeted tourist sites, and appreciated the quiet neighborhood the house is situated in. The kids found it fun to hear the planes as they came into landing and take off from the nearby airport. We have bookmarked Ryan’s place for future Seattle trips! Lovely house, clean and well taken care of. Good location near freeway, restaurants and bars but in a quiet neighborhood with a cute park nearby. The whole family enjoyed it very much. Master bedroom door sticks slightly, in the way doors in older houses often do. I wouldn’t have noticed if I didn’t have a toddler I was worried about waking. Would recommend! This place was perfect! Clean, bright, with plenty of room for six guests. Super close to Georgetown in a beautiful neighbourhood. Highly recommend! We had a little mishap with our checkin but Ryan was great helping us resolve things and being very accommodating to our needs. The location is walkable to some great restaurants and breweries. We were there for business and had no issues with the wifi. Easy parking too. Ryan had a super cozy and clean home. It was perfect for my parents and grandparents. Very warm, comfortable beds, and a nice kitchen space. Only thing is you hear the planes overhead but still 5/5. Our family loved Ryan’s place.  It had all the amenities that made our stay extremely comfortable.  The location is perfect for sightseeing, eating and walking. We would rent Ryan’s house again.  Thank you for being a responsible and responsive host. My work colleague and I enjoyed our stay. We would be happy to stay there again. Close to job site, easy commute to down town Seattle, walking distance to local Mexican, Thai, Sushi restaurants. Ryan was very helpful - we arrived on an early flight and but we were able to drop our bags at the house before check in and once the cleaner was finished we were able to check in several hours early. The home was clean and comfortable. Would definitely stay here again!"
           },
           {
            "count": 3,
            "name": "3 others"
           }
          ],
          "nan_count": 0,
          "unique_count": 5
         }
        },
        {
         "dtype": "float64",
         "name": "polarity",
         "stats": {
          "histogram": [
           {
            "bin_end": 0.7946479617224879,
            "bin_start": 0.7807121212121211,
            "count": 1
           },
           {
            "bin_end": 0.8085838022328548,
            "bin_start": 0.7946479617224879,
            "count": 0
           },
           {
            "bin_end": 0.8225196427432215,
            "bin_start": 0.8085838022328548,
            "count": 1
           },
           {
            "bin_end": 0.8364554832535884,
            "bin_start": 0.8225196427432215,
            "count": 0
           },
           {
            "bin_end": 0.8503913237639552,
            "bin_start": 0.8364554832535884,
            "count": 0
           },
           {
            "bin_end": 0.864327164274322,
            "bin_start": 0.8503913237639552,
            "count": 0
           },
           {
            "bin_end": 0.8782630047846889,
            "bin_start": 0.864327164274322,
            "count": 0
           },
           {
            "bin_end": 0.8921988452950557,
            "bin_start": 0.8782630047846889,
            "count": 1
           },
           {
            "bin_end": 0.9061346858054226,
            "bin_start": 0.8921988452950557,
            "count": 0
           },
           {
            "bin_end": 0.9200705263157893,
            "bin_start": 0.9061346858054226,
            "count": 2
           }
          ],
          "max": "0.9200705263157893",
          "min": "0.7807121212121211",
          "nan_count": 0,
          "unique_count": 5
         }
        },
        {
         "dtype": "int64",
         "name": "_deepnote_index_column"
        }
       ],
       "row_count": 5,
       "rows": [
        {
         "_deepnote_index_column": "0",
         "accommodates": "8",
         "amenities": "[\"Hot water\", \"Dining table\", \"Toaster\", \"Refrigerator\", \"Bathtub\", \"Dishwasher\", \"Coffee maker: drip coffee maker\", \"Room-darkening shades\", \"Private entrance\", \"Dishes and silverware\", \"Washer\", \"Kitchen\", \"TV\", \"Body soap\", \"Indoor fireplace\", \"Private patio or balcony\", \"Free street parking\", \"Iron\", \"Hair dryer\", \"Microwave\", \"Cooking basics\", \"Oven\", \"Private backyard \\u2013 Fully fenced\", \"Pack \\u2019n play/Travel crib\", \"Keypad\", \"Stove\", \"Smoke alarm\", \"Dryer\", \"Essentials\", \"Wine glasses\", \"Self check-in\", \"Cleaning products\", \"Fire extinguisher\", \"High chair\", \"Heating\", \"Outdoor furniture\", \"Long term stays allowed\", \"Wifi\", \"Air conditioning\", \"Outdoor dining area\", \"BBQ grill\", \"First aid kit\", \"Hangers\", \"Extra pillows and blankets\", \"Shampoo\", \"Security cameras on property\", \"Carbon monoxide alarm\", \"Fire pit\", \"Dedicated workspace\", \"Lake view\", \"Bed linens\", \"Park view\", \"Free parking on premises\"]",
         "amenities_count": "53",
         "bathrooms_count": "2.0",
         "bedrooms": "4.0",
         "beds": "4.0",
         "calculated_host_listings_count": "1",
         "calculated_host_listings_count_entire_homes": "1",
         "calculated_host_listings_count_private_rooms": "0",
         "calculated_host_listings_count_shared_rooms": "0",
         "comments": "Unexpectedly the place was like new home since it got recently refreshed. Xiao was very reponsive and easy to communicate with. We really enjoyed this compy home and proximity to downtown Seattle. Thanks Xiao! Excellent home, great communication from start to finish , nice location - surely recommend! We enjoyed our trip thoroughly. All amenities listed were in great working order. The flow of the house was splendid and the outdoor space was amazing. Even with two kids, there was ample room. It was easy taking up the hosts and they gave us all the information very quickly after booking. Great hosts, great house, great location! Xiao's place is a great house for groups to stay in the Seattle area. It is situated just off of the south side of lake Washington with a very nice creek running right through the property. Just a few steps away is a delicious pizza restaurant and a nice forested park for hiking. Traffic is very minimal in the area and creates virtually no noise. There is also …",
         "description": "A Seattle vacation destination for those from out of town or a Staycation for those who live close by. We welcome you to this partial lake view gated family friendly home with 4 bedrooms, 2 bathrooms. A beautiful & serene creek flows through the front of the home. There is a fully functioning kitchen with appliances & utensils.  & laundry room. Only a few mins walk to Lakeridge playfield just behind the house! 15 min drive to SeaTac International Airport and 25 min drive to downtown Seattle.<br /><br /><b>The space</b><br />Smart lock for easy check in and Xfinity Home Security Alarm for your protection and peace of mind. There are a few steps leading into the home. There is one security camera at the house facing the front entrance and driveway. The front driveway can fit 6 cars.<br /><br />Bed Arrangements: <br /><br />Lower levels: 2 bedrooms, 1 bathroom<br />Room #1: One Queen bed (sleeps 2)<br />Room #4: One Queen bed (sleeps 2)<br /><br />Upper level: 2 bedrooms, 1 bathroom<br />",
         "first_review": "2021-06-22 00:00:00",
         "has_license": "1",
         "host_about": " ",
         "host_acceptance_rate": "1.0",
         "host_has_profile_pic": "1",
         "host_id": "188538325",
         "host_identity_verified": "1",
         "host_is_superhost": "1",
         "host_location": "Seattle, WA",
         "host_name": "Xiao",
         "host_neighbourhood": "Oakland",
         "host_operate_years": "4",
         "host_picture_url": "https://a0.muscache.com/im/pictures/user/32fd3116-b515-46d9-8048-d5773e1bac5a.jpg?aki_policy=profile_x_medium",
         "host_response_rate": "1.0",
         "host_response_time": "within an hour",
         "host_response_time_encoded": "1",
         "host_since": "2018-05-08 00:00:00",
         "host_url": "https://www.airbnb.com/users/show/188538325",
         "host_verifications": "['email', 'phone']",
         "instant_bookable": "0",
         "last_review": "2022-11-29 00:00:00",
         "last_scraped": "2022-12-24 00:00:00",
         "latitude": "47.51028",
         "listing_id": "49113826",
         "listing_name": "Private Seattle Getaway Home Near Lake Washington!",
         "listing_url": "https://www.airbnb.com/rooms/49113826",
         "longitude": "-122.24668",
         "maximum_nights": "30",
         "minimum_nights": "3",
         "neighborhood_overview": "SeaTac International Airport: 14 min drive<br /><br />Grocery Stores nearby:<br />- Safeway & Rite Aid: 5 min drive<br />- Walgreens: 6 min drive<br />- Walmart & Fred Meyer: 9 min drive<br />- Uwajimaya: 10 min drive<br /><br />Dining nearby:<br />- Pizzeria Pulcinella: 2 min walk<br />- Stonehouse Cafe: 10 min walk<br />- The Landing (popular outdoor retail & restaurant area): 10 min drive<br /><br />Activities nearby:<br />- Lakeridge Playground: 2 min walk<br />- Downtown Renton: 10 min drive<br />- Southcenter Mall (large shopping mall): 14 min drive<br />- Round 1 (arcade, bowling, pool) inside Southcenter: 14 min drive<br />- iFly (mock sky diving): 15 min drive<br />- Downtown Seattle & Pike Place Market: 25 min drive",
         "neighbourhood_cleansed": "Rainier View",
         "neighbourhood_group_cleansed": "Rainier Valley",
         "number_of_reviews": "18",
         "number_of_reviews_l30d": "1",
         "number_of_reviews_ltm": "7",
         "picture_url": "https://a0.muscache.com/pictures/miso/Hosting-49113826/original/29c08a31-b625-4e8f-bbc6-93e7994fef05.jpeg",
         "polarity": "0.8173647058823529",
         "price": "280.0",
         "property_type": "Entire home",
         "review_scores_accuracy": "4.89",
         "review_scores_checkin": "4.89",
         "review_scores_cleanliness": "4.94",
         "review_scores_communication": "4.89",
         "review_scores_location": "4.61",
         "review_scores_rating": "4.83",
         "review_scores_value": "4.72",
         "reviews_per_month": "0.98",
         "room_type": "Entire home/apt"
        },
        {
         "_deepnote_index_column": "1",
         "accommodates": "6",
         "amenities": "[\"Hot water\", \"Crib - available upon request\", \"Dining table\", \"Toaster\", \"Refrigerator\", \"Bathtub\", \"Dishwasher\", \"Hot water kettle\", \"Room-darkening shades\", \"Private entrance\", \"Dishes and silverware\", \"Conditioner\", \"Kitchen\", \"Body soap\", \"Private patio or balcony\", \"Free street parking\", \"Google Nest sound system\", \"Iron\", \"Hair dryer\", \"Microwave\", \"Cooking basics\", \"Oven\", \"Shared backyard \\u2013 Not fully fenced\", \"Pets allowed\", \"Keypad\", \"Free dryer \\u2013 In unit\", \"Stove\", \"Smoke alarm\", \"Wine glasses\", \"Essentials\", \"Pack \\u2019n play/Travel crib - available upon request\", \"Self check-in\", \"Cleaning products\", \"AC - split type ductless system\", \"Fire extinguisher\", \"Long term stays allowed\", \"Outdoor furniture\", \"Wifi\", \"Coffee\", \"Single level home\", \"Outdoor dining area\", \"Coffee maker: french press\", \"First aid kit\", \"65\\\" HDTV with standard cable\", \"Hangers\", \"Freezer\", \"Free washer \\u2013 In unit\", \"Extra pillows and blankets\", \"Shampoo\", \"Carbon monoxide alarm\", \"He…",
         "amenities_count": "55",
         "bathrooms_count": "2.0",
         "bedrooms": "3.0",
         "beds": "3.0",
         "calculated_host_listings_count": "2",
         "calculated_host_listings_count_entire_homes": "2",
         "calculated_host_listings_count_private_rooms": "0",
         "calculated_host_listings_count_shared_rooms": "0",
         "comments": "The house is so comfortable and clean. It has everything you need and makes you feel like home. I like the one floor house compared some 3 floor townhouse it’s easy for everything. Ryan is very helpful with all questions and service. Great experience here. Our family had a wonderful stay at Ryan’s place. Check-in was easy; location was great with quick access to highway; house was beautiful and well stocked; great neighborhood with restaurants nearby. The location was great as it was close to downtown and easily accessible by car or bus. It is recently remodeled with new furnishings and very spacious and clean. Ryan was also very responsive to our questions and was a great host. Would definitely recommend! Ryan’s place was wonderful. Roomy, clean, and in a fun neighborhood. Our kids loved walking to Oxbow park (for the giant hat and boots), and we were only a short walk to downtown Georgetown!<br/><br/>I wholeheartedly recommend! Wow! This place is extraordinarily clean and well appoi…",
         "description": "Enjoy your Seattle stay in the vibrant & artistic Georgetown neighborhood! Georgetown is truly one of the last artsy, funky neighborhoods left in Seattle - you will be a five minute walk from the many restaurants, bars, wine tasting rooms & more in the \"downtown\" Georgetown neighborhood. It's also kid friendly as you will see many families out and pushing strollers around.<br /><br />The neighborhood is located a few miles south of the downtown Seattle core.<br /><br /><b>The space</b><br />This is the top unit of a completely remodeled craftsman (if bottom unit is available you can rent the whole house and have 6 beds & 4 baths!)<br /><br />This unit has the classic craftsman feel, but it has been completely remodeled with some modern touches!<br /><br /><b>Guest access</b><br />Obviously you have access to the entire unit - there is a lower unit of the house that may be rented too, so you will need to be respectful of other guests. The front yard and side yards are also yours to enjo",
         "first_review": "2022-06-09 00:00:00",
         "has_license": "1",
         "host_about": " ",
         "host_acceptance_rate": "1.0",
         "host_has_profile_pic": "1",
         "host_id": "2144954",
         "host_identity_verified": "0",
         "host_is_superhost": "0",
         "host_location": "Seattle, WA",
         "host_name": "Ryan",
         "host_neighbourhood": "Greater Duwamish",
         "host_operate_years": "10",
         "host_picture_url": "https://a0.muscache.com/im/pictures/user/a671129c-f502-4968-85ef-7ef088d81ab3.jpg?aki_policy=profile_x_medium",
         "host_response_rate": "1.0",
         "host_response_time": "within an hour",
         "host_response_time_encoded": "1",
         "host_since": "2012-04-15 00:00:00",
         "host_url": "https://www.airbnb.com/users/show/2144954",
         "host_verifications": "['email', 'phone', 'work_email']",
         "instant_bookable": "1",
         "last_review": "2022-12-13 00:00:00",
         "last_scraped": "2022-12-24 00:00:00",
         "latitude": "47.544739",
         "listing_id": "7455832",
         "listing_name": "Classic remodeled in Georgetown",
         "listing_url": "https://www.airbnb.com/rooms/7455832",
         "longitude": "-122.319786",
         "maximum_nights": "150",
         "minimum_nights": "1",
         "neighborhood_overview": "Georgetown is a cool neighborhood about three miles south of Seattle. Formerly an industrial area filled with warehouses, Georgetown has gone from shabby to chic, from industrial to artsy. Today, the neighborhood is a great place to find trendy restaurants, breweries, and art galleries.",
         "neighbourhood_cleansed": "Georgetown",
         "neighbourhood_group_cleansed": "Other neighborhoods",
         "number_of_reviews": "27",
         "number_of_reviews_l30d": "3",
         "number_of_reviews_ltm": "27",
         "picture_url": "https://a0.muscache.com/pictures/miso/Hosting-7455832/original/87dcaee3-d543-440c-8cf0-19ac171d7200.jpeg",
         "polarity": "0.9136481481481482",
         "price": "156.0",
         "property_type": "Entire home",
         "review_scores_accuracy": "4.96",
         "review_scores_checkin": "4.93",
         "review_scores_cleanliness": "4.89",
         "review_scores_communication": "4.96",
         "review_scores_location": "4.93",
         "review_scores_rating": "4.89",
         "review_scores_value": "4.93",
         "reviews_per_month": "4.07",
         "room_type": "Entire home/apt"
        },
        {
         "_deepnote_index_column": "2",
         "accommodates": "2",
         "amenities": "[\"Hot water\", \"Toaster\", \"Refrigerator\", \"Mini fridge\", \"Private entrance\", \"Dishes and silverware\", \"Shower gel\", \"Kitchen\", \"Coffee maker\", \"Public or shared beach access\", \"Private patio or balcony\", \"Free street parking\", \"Hair dryer\", \"Microwave\", \"Keypad\", \"Free dryer \\u2013 In unit\", \"Smoke alarm\", \"Wine glasses\", \"Essentials\", \"Self check-in\", \"Fire extinguisher\", \"Heating\", \"Outdoor furniture\", \"Long term stays allowed\", \"Wifi\", \"Coffee\", \"Single level home\", \"First aid kit\", \"Garden view\", \"Hangers\", \"Freezer\", \"Free washer \\u2013 In unit\", \"TV with Amazon Prime Video, Hulu, Netflix\", \"Extra pillows and blankets\", \"Private backyard \\u2013 Not fully fenced\", \"Shampoo\", \"Security cameras on property\", \"Carbon monoxide alarm\", \"Bed linens\", \"Books and reading material\"]",
         "amenities_count": "40",
         "bathrooms_count": "1.0",
         "bedrooms": "1.0",
         "beds": "1.0",
         "calculated_host_listings_count": "1",
         "calculated_host_listings_count_entire_homes": "1",
         "calculated_host_listings_count_private_rooms": "0",
         "calculated_host_listings_count_shared_rooms": "0",
         "comments": "Kristin and Stuart’s cottage is the perfect vacation or staycation spot with the scenic Alki beach just blocks away. They have added so many thoughtful touches and the cottage has really anything you may need while staying away from home - modern appliances, full kitchen and laundry. Stuart responded quickly to my questions and easily accommodated my change of plans. Great value, amazing location. I needed a quiet retreat from home for a couple nights and Kristin and Stuart's place was PERFECT!  They thought of everything to make this small space functional, beautiful, comfortable and serene.  It was SO quiet, the main house is not attached and it is located in a quiet neighborhood.  Staying in quiet place was a priority for me and this more than satisfied.  They provided the basics needed for preparing simple meals and snacks. The location is also great.  It's only couple blocks to the water and Alki Beach district where you can find multiple good restaurants and walk along the walki…",
         "description": "Welcome to your private, quiet retreat, featuring a tiny footprint with luxe features in a garden setting. Only 1-block from Alki beach, experience the best of PNW beach living. Your own secure building (325 sq ft studio) with kitchenette, queen bed and washer/dryer (no A/C). The cottage studio has the added feature of its own lovely private outdoor area that is filled with garden blooms during the spring and summer. Find us on IG @alkicottage.<br /><br /><b>The space</b><br />Completely renovated in Jan of 2021, we've created a peaceful cottage studio experience that we can't wait to share with you!  <br /><br />The cottage studio is 325 sq ft in a 1-story building with a bed, kitchenette and bar top seating, and bathroom with shower. There is no separate living room. The space is attached to the garage on one side. We do not park a vehicle in the garage and will limit accessing it when possible, but you may occasionally hear noise from the garage/garage door.<br /><br />*Patio*<br />",
         "first_review": "2021-02-24 00:00:00",
         "has_license": "1",
         "host_about": "New Mexico and Texas natives who couldn't wait to call Seattle home. We've lived in Seattle for 10 years and are still in awe daily with the surrounding beauty of the PNW.\n\nWe're new to the AirBNB hosting but can't wait to welcome you to ensure you have a wonderful stay.\n\nWe love the outdoors: gardening, hiking, kayaking, camping... ",
         "host_acceptance_rate": "1.0",
         "host_has_profile_pic": "1",
         "host_id": "10181843",
         "host_identity_verified": "1",
         "host_is_superhost": "1",
         "host_location": "Seattle, WA",
         "host_name": "Kristin & Stuart",
         "host_neighbourhood": "West Seattle",
         "host_operate_years": "9",
         "host_picture_url": "https://a0.muscache.com/im/pictures/user/c5d483b2-4e0d-45fb-b709-91314dd6bbbd.jpg?aki_policy=profile_x_medium",
         "host_response_rate": "1.0",
         "host_response_time": "within an hour",
         "host_response_time_encoded": "1",
         "host_since": "2013-11-21 00:00:00",
         "host_url": "https://www.airbnb.com/users/show/10181843",
         "host_verifications": "['email', 'phone']",
         "instant_bookable": "0",
         "last_review": "2022-12-21 00:00:00",
         "last_scraped": "2022-12-24 00:00:00",
         "latitude": "47.5738",
         "listing_id": "42313537",
         "listing_name": "Beautifully renovated cottage studio at Alki",
         "listing_url": "https://www.airbnb.com/rooms/42313537",
         "longitude": "-122.41552",
         "maximum_nights": "31",
         "minimum_nights": "1",
         "neighborhood_overview": "Only 1-block away, Alki Beach is perfect for a sunny day in the city. Wade in the tidepools, try your hand at paddle boarding or rent a bike and cycle along the beach front. Restaurants, cafes and bars all within walking distance.",
         "neighbourhood_cleansed": "Alki",
         "neighbourhood_group_cleansed": "West Seattle",
         "number_of_reviews": "177",
         "number_of_reviews_l30d": "4",
         "number_of_reviews_ltm": "82",
         "picture_url": "https://a0.muscache.com/pictures/6ba9d3d0-68d2-4ab1-bceb-57416297b677.jpg",
         "polarity": "0.8811813559322037",
         "price": "135.0",
         "property_type": "Entire guesthouse",
         "review_scores_accuracy": "4.99",
         "review_scores_checkin": "5.0",
         "review_scores_cleanliness": "5.0",
         "review_scores_communication": "5.0",
         "review_scores_location": "4.99",
         "review_scores_rating": "4.99",
         "review_scores_value": "4.94",
         "reviews_per_month": "7.94",
         "room_type": "Entire home/apt"
        },
        {
         "_deepnote_index_column": "4",
         "accommodates": "6",
         "amenities": "[\"Hot water\", \"Refrigerator\", \"Bathtub\", \"Dishwasher\", \"Lockbox\", \"Room-darkening shades\", \"Private entrance\", \"Dishes and silverware\", \"Washer\", \"Kitchen\", \"TV\", \"Coffee maker\", \"Indoor fireplace\", \"Patio or balcony\", \"Free street parking\", \"Microwave\", \"Backyard\", \"Oven\", \"Stove\", \"Smoke alarm\", \"Dryer\", \"Essentials\", \"Self check-in\", \"Fire extinguisher\", \"Heating\", \"Long term stays allowed\", \"Wifi\", \"Hangers\", \"Shampoo\", \"Carbon monoxide alarm\", \"Dedicated workspace\", \"Bed linens\"]",
         "amenities_count": "32",
         "bathrooms_count": "1.0",
         "bedrooms": "3.0",
         "beds": "3.0",
         "calculated_host_listings_count": "27",
         "calculated_host_listings_count_entire_homes": "27",
         "calculated_host_listings_count_private_rooms": "0",
         "calculated_host_listings_count_shared_rooms": "0",
         "comments": "Good location. A great spot in the trendiest part of Seattle, can’t recommend this enough, it is a huge value Great home in a nice neighborhood, near some terrific spots for food or walks. Would definitely recommend staying in this lovely home. Lovely home. Clean, pretty, quiet, peaceful, comfortable and well furnished. Fantastic location. Friendly neighbors. If you want to prepare gourmet meals and have guests, you’ll likely find it a bit challenging, but it’s perfect for a couple and guest. Loved our stay there. Cute house in a great location! 5 minute walk to the main street where you'll find lots of restaurants and coffee shops. Keep in mind, this house does have downstairs neighbors living below. We rarely heard them, but did try to keep our noise level down to not bother them. Would definitely stay here again! Fantastic. Highly recommend The “fully equipped kitchen” was anything but. There was no flatware and really couldn’t prepare a meal with what was provided. Also expect to …",
         "description": "<b>The space</b><br />Northlake Excellence<br /><br />Along with unique art and splashes of color, this classic, two-story home also features a number of modern amenities to ensure you have a memorable vacation here in the Emerald City. Prepare anything from your morning coffee (with the help of the Breville espresso machine) to full-course dinners in the well-equipped, full kitchen with stainless steel appliances. Gather together for movie nights in the cozy living area with a gas fireplace and a Netflix-equipped flatscreen TV, or head out back and relax on the furnished balcony with a local microbrew in-hand. And upstairs, you'll find a bonus room with another flatscreen TV, shelves of books, and a desk and chair if you need to get a little work done (or do some remote schooling). <br /> <br />What's nearby: <br />This home is located just a few blocks from Fremont, a bohemian neighborhood that has it all including public art, stellar views of Seattle’s skyline, delicious food, quirk",
         "first_review": "2021-02-06 00:00:00",
         "has_license": "1",
         "host_about": "Vacasa\nVacation Home Management\n\nVacasa unlocks the possibilities of how we enjoy vacation homes. We take care of managing our homeowners’ vacation houses so they can have peace of mind (and their home when they want to). And our guests book vacations confidently knowing they’re going to find exactly what they’re looking for without any surprises.\n\nEach vacation home is always cared for by our professional local teams who implement our high cleanliness and maintenance values, while the hands-off tasks of vacation rental management--marketing, filing taxes, and maintaining a website--are handled by a specialized central support team. Our passion and focus remain true: to empower our homeowners, guests, and employees to invest in vacation.",
         "host_acceptance_rate": "0.99",
         "host_has_profile_pic": "1",
         "host_id": "111812937",
         "host_identity_verified": "1",
         "host_is_superhost": "0",
         "host_location": " ",
         "host_name": "Vacasa Washington",
         "host_neighbourhood": "Capitol Hill",
         "host_operate_years": "5",
         "host_picture_url": "https://a0.muscache.com/im/pictures/user/4a227ebe-74c0-4180-881a-f4db35adb1a0.jpg?aki_policy=profile_x_medium",
         "host_response_rate": "0.97",
         "host_response_time": "within an hour",
         "host_response_time_encoded": "1",
         "host_since": "2017-01-16 00:00:00",
         "host_url": "https://www.airbnb.com/users/show/111812937",
         "host_verifications": "['email', 'phone', 'work_email']",
         "instant_bookable": "1",
         "last_review": "2022-08-28 00:00:00",
         "last_scraped": "2022-12-24 00:00:00",
         "latitude": "47.64952",
         "listing_id": "46727219",
         "listing_name": "Classic, two-story home w/ high-speed WiFi, furnished deck, and washer/dryer",
         "listing_url": "https://www.airbnb.com/rooms/46727219",
         "longitude": "-122.33891",
         "maximum_nights": "1125",
         "minimum_nights": "2",
         "neighborhood_overview": " ",
         "neighbourhood_cleansed": "Wallingford",
         "neighbourhood_group_cleansed": "Other neighborhoods",
         "number_of_reviews": "34",
         "number_of_reviews_l30d": "0",
         "number_of_reviews_ltm": "20",
         "picture_url": "https://a0.muscache.com/pictures/prohost-api/Hosting-46727219/original/f2a6ce05-a2a7-47b9-a81e-858dd6284f3a.jpeg",
         "polarity": "0.7807121212121211",
         "price": "130.0",
         "property_type": "Entire home",
         "review_scores_accuracy": "4.76",
         "review_scores_checkin": "4.88",
         "review_scores_cleanliness": "4.82",
         "review_scores_communication": "4.71",
         "review_scores_location": "4.94",
         "review_scores_rating": "4.74",
         "review_scores_value": "4.65",
         "reviews_per_month": "1.48",
         "room_type": "Entire home/apt"
        },
        {
         "_deepnote_index_column": "6",
         "accommodates": "6",
         "amenities": "[\"Hot water\", \"Refrigerator\", \"Dishwasher\", \"Lockbox\", \"Private entrance\", \"Bay view\", \"Dishes and silverware\", \"Washer\", \"Kitchen\", \"Coffee maker\", \"Private patio or balcony\", \"Indoor fireplace\", \"Free street parking\", \"Iron\", \"Hair dryer\", \"Microwave\", \"Cooking basics\", \"Oven\", \"Mountain view\", \"Stove\", \"Smoke alarm\", \"Babysitter recommendations\", \"Dryer\", \"Essentials\", \"Self check-in\", \"Sea view\", \"Fire extinguisher\", \"Ocean view\", \"Heating\", \"Outdoor furniture\", \"Long term stays allowed\", \"Wifi\", \"Harbor view\", \"Luggage dropoff allowed\", \"Children\\u2019s books and toys\", \"Outdoor dining area\", \"First aid kit\", \"Garden view\", \"Hangers\", \"Extra pillows and blankets\", \"Private backyard \\u2013 Not fully fenced\", \"Shampoo\", \"Carbon monoxide alarm\", \"Marina view\", \"Bed linens\", \"TV with standard cable\"]",
         "amenities_count": "46",
         "bathrooms_count": "1.0",
         "bedrooms": "2.0",
         "beds": "2.0",
         "calculated_host_listings_count": "1",
         "calculated_host_listings_count_entire_homes": "1",
         "calculated_host_listings_count_private_rooms": "0",
         "calculated_host_listings_count_shared_rooms": "0",
         "comments": "We loved staying at this clean and conveniently located Queen Anne neighborhood home with spectacular views of Puget Sound and Olympic mountains. <br/><br/>Very clean and as pictured. The home is very open, spacious, quiet, and gets great natural light. Lots of seating around bay windows to enjoy the gorgeous views. It's fun to watch the barges and ferries going to and fro. Kitchen is well-stocked and beds are super comfy. The pool table and foosball are fun to play at night. There are also some games and books which offer a homey touch. <br/><br/>Great central location to explore Seattle and surrounding areas in the beautiful Queen Anne neighborhood. 10 minute walk to Kerry Park which offers some of the best views of Seattle. Plenty of restaurants and coffee shops nearby. <br/><br/>Cathy was a wonderful host. She was quick to respond on AirBnB and answered all of our questions. She greeted us on arrival and showed us around her place so we felt comfortable where everything was. She e…",
         "description": "*  PRIVATE entry to 2+ B/R Luxury Apt. with own backyard, furnished patio<br />*  FREE PARKING on street in front of house or nearby<br />*  Minutes from Space Needle & downtown in QUIET stately neighborhood <br />*  Sweeping views of Elliott Bay, Puget Sound, and Olympic Mts.<br />*  Sleeps 4-6 with New Kitchen, Bath, Luxury Mattresses & Pull-out sofa<br />*  Dining Room, Washer/Dryer, Fireplace, Pool Table, & Patio Hammock!<br />*  5 min. walk to Kerry Park view- City skyline, Mt. Rainier, Space Needle<br />*  Cable TV/Wi-Fi<br /><br /><b>The space</b><br />Grey's Anatomy just finished shooting for neighborhoods scenes in the upcoming season.  Airy, open floor plan with sweeping view windows from dining room and living room with french doors to patio.  Two bedrooms and pullout couch (new beds) make this space perfect for two couples, a family or anyone who is looking to relax and appreciate stunning sound and mountain views in a quiet neighborhood convenient to downtown and attractio",
         "first_review": "2017-04-16 00:00:00",
         "has_license": "1",
         "host_about": " ",
         "host_acceptance_rate": "0.95",
         "host_has_profile_pic": "1",
         "host_id": "40706640",
         "host_identity_verified": "1",
         "host_is_superhost": "1",
         "host_location": "Seattle, WA",
         "host_name": "Cathy",
         "host_neighbourhood": "Queen Anne",
         "host_operate_years": "7",
         "host_picture_url": "https://a0.muscache.com/im/users/40706640/profile_pic/1438881418/original.jpg?aki_policy=profile_x_medium",
         "host_response_rate": "1.0",
         "host_response_time": "within an hour",
         "host_response_time_encoded": "1",
         "host_since": "2015-08-06 00:00:00",
         "host_url": "https://www.airbnb.com/users/show/40706640",
         "host_verifications": "['email', 'phone']",
         "instant_bookable": "0",
         "last_review": "2022-12-21 00:00:00",
         "last_scraped": "2022-12-24 00:00:00",
         "latitude": "47.63194",
         "listing_id": "16962405",
         "listing_name": "Spectacular Apt in 5-STAR Home -Mt. & Sunset views",
         "listing_url": "https://www.airbnb.com/rooms/16962405",
         "longitude": "-122.36813",
         "maximum_nights": "1125",
         "minimum_nights": "3",
         "neighborhood_overview": "Queen Anne is a quiet, residential walking neighborhood, close to downtown with easy walks to nearby coffee shops, great restaurants & local markets.<br /><br />Set up on a Hill, overlooking / minutes away from the iconic Space Needle, Monorail, Seattle Center, Gates Foundation, Chihuly Museum, Science Museum, IMAX, Key Arena, & Experience Music Project & Museum and Lake Union (remember the houseboat in Sleepless in Seattle?)<br /><br />5-10 minute short drive ( or Uber/Lyft/Bus) to Pike Place Market, waterfront Sculpture Garden, Downtown, Mariners, Sounders and Seahawks Stadiums, and historic Ballard and Pioneer Square neighborhoods.",
         "neighbourhood_cleansed": "West Queen Anne",
         "neighbourhood_group_cleansed": "Queen Anne",
         "number_of_reviews": "98",
         "number_of_reviews_l30d": "3",
         "number_of_reviews_ltm": "23",
         "picture_url": "https://a0.muscache.com/pictures/2d7918da-4568-4c66-91ee-d2b374db723e.jpg",
         "polarity": "0.9200705263157893",
         "price": "286.0",
         "property_type": "Entire guest suite",
         "review_scores_accuracy": "4.96",
         "review_scores_checkin": "4.99",
         "review_scores_cleanliness": "4.91",
         "review_scores_communication": "4.99",
         "review_scores_location": "4.97",
         "review_scores_rating": "4.94",
         "review_scores_value": "4.9",
         "reviews_per_month": "1.41",
         "room_type": "Entire home/apt"
        }
       ]
      },
      "text/html": [
       "<div>\n",
       "<style scoped>\n",
       "    .dataframe tbody tr th:only-of-type {\n",
       "        vertical-align: middle;\n",
       "    }\n",
       "\n",
       "    .dataframe tbody tr th {\n",
       "        vertical-align: top;\n",
       "    }\n",
       "\n",
       "    .dataframe thead th {\n",
       "        text-align: right;\n",
       "    }\n",
       "</style>\n",
       "<table border=\"1\" class=\"dataframe\">\n",
       "  <thead>\n",
       "    <tr style=\"text-align: right;\">\n",
       "      <th></th>\n",
       "      <th>listing_id</th>\n",
       "      <th>listing_url</th>\n",
       "      <th>last_scraped</th>\n",
       "      <th>listing_name</th>\n",
       "      <th>description</th>\n",
       "      <th>neighborhood_overview</th>\n",
       "      <th>picture_url</th>\n",
       "      <th>host_id</th>\n",
       "      <th>host_url</th>\n",
       "      <th>host_name</th>\n",
       "      <th>host_since</th>\n",
       "      <th>host_location</th>\n",
       "      <th>host_about</th>\n",
       "      <th>host_response_time</th>\n",
       "      <th>host_response_rate</th>\n",
       "      <th>host_acceptance_rate</th>\n",
       "      <th>host_is_superhost</th>\n",
       "      <th>host_picture_url</th>\n",
       "      <th>host_neighbourhood</th>\n",
       "      <th>host_verifications</th>\n",
       "      <th>host_has_profile_pic</th>\n",
       "      <th>host_identity_verified</th>\n",
       "      <th>neighbourhood_cleansed</th>\n",
       "      <th>neighbourhood_group_cleansed</th>\n",
       "      <th>latitude</th>\n",
       "      <th>longitude</th>\n",
       "      <th>property_type</th>\n",
       "      <th>room_type</th>\n",
       "      <th>accommodates</th>\n",
       "      <th>bedrooms</th>\n",
       "      <th>beds</th>\n",
       "      <th>amenities</th>\n",
       "      <th>price</th>\n",
       "      <th>minimum_nights</th>\n",
       "      <th>maximum_nights</th>\n",
       "      <th>number_of_reviews</th>\n",
       "      <th>number_of_reviews_ltm</th>\n",
       "      <th>number_of_reviews_l30d</th>\n",
       "      <th>first_review</th>\n",
       "      <th>last_review</th>\n",
       "      <th>review_scores_rating</th>\n",
       "      <th>review_scores_accuracy</th>\n",
       "      <th>review_scores_cleanliness</th>\n",
       "      <th>review_scores_checkin</th>\n",
       "      <th>review_scores_communication</th>\n",
       "      <th>review_scores_location</th>\n",
       "      <th>review_scores_value</th>\n",
       "      <th>has_license</th>\n",
       "      <th>instant_bookable</th>\n",
       "      <th>calculated_host_listings_count</th>\n",
       "      <th>calculated_host_listings_count_entire_homes</th>\n",
       "      <th>calculated_host_listings_count_private_rooms</th>\n",
       "      <th>calculated_host_listings_count_shared_rooms</th>\n",
       "      <th>reviews_per_month</th>\n",
       "      <th>bathrooms_count</th>\n",
       "      <th>amenities_count</th>\n",
       "      <th>host_response_time_encoded</th>\n",
       "      <th>host_operate_years</th>\n",
       "      <th>comments</th>\n",
       "      <th>polarity</th>\n",
       "    </tr>\n",
       "  </thead>\n",
       "  <tbody>\n",
       "    <tr>\n",
       "      <th>0</th>\n",
       "      <td>49113826</td>\n",
       "      <td>https://www.airbnb.com/rooms/49113826</td>\n",
       "      <td>2022-12-24</td>\n",
       "      <td>Private Seattle Getaway Home Near Lake Washing...</td>\n",
       "      <td>A Seattle vacation destination for those from ...</td>\n",
       "      <td>SeaTac International Airport: 14 min drive&lt;br ...</td>\n",
       "      <td>https://a0.muscache.com/pictures/miso/Hosting-...</td>\n",
       "      <td>188538325</td>\n",
       "      <td>https://www.airbnb.com/users/show/188538325</td>\n",
       "      <td>Xiao</td>\n",
       "      <td>2018-05-08</td>\n",
       "      <td>Seattle, WA</td>\n",
       "      <td></td>\n",
       "      <td>within an hour</td>\n",
       "      <td>1.00</td>\n",
       "      <td>1.00</td>\n",
       "      <td>1</td>\n",
       "      <td>https://a0.muscache.com/im/pictures/user/32fd3...</td>\n",
       "      <td>Oakland</td>\n",
       "      <td>['email', 'phone']</td>\n",
       "      <td>1</td>\n",
       "      <td>1</td>\n",
       "      <td>Rainier View</td>\n",
       "      <td>Rainier Valley</td>\n",
       "      <td>47.510280</td>\n",
       "      <td>-122.246680</td>\n",
       "      <td>Entire home</td>\n",
       "      <td>Entire home/apt</td>\n",
       "      <td>8</td>\n",
       "      <td>4.0</td>\n",
       "      <td>4.0</td>\n",
       "      <td>[\"Hot water\", \"Dining table\", \"Toaster\", \"Refr...</td>\n",
       "      <td>280.0</td>\n",
       "      <td>3</td>\n",
       "      <td>30</td>\n",
       "      <td>18</td>\n",
       "      <td>7</td>\n",
       "      <td>1</td>\n",
       "      <td>2021-06-22</td>\n",
       "      <td>2022-11-29</td>\n",
       "      <td>4.83</td>\n",
       "      <td>4.89</td>\n",
       "      <td>4.94</td>\n",
       "      <td>4.89</td>\n",
       "      <td>4.89</td>\n",
       "      <td>4.61</td>\n",
       "      <td>4.72</td>\n",
       "      <td>1</td>\n",
       "      <td>0</td>\n",
       "      <td>1</td>\n",
       "      <td>1</td>\n",
       "      <td>0</td>\n",
       "      <td>0</td>\n",
       "      <td>0.98</td>\n",
       "      <td>2.0</td>\n",
       "      <td>53</td>\n",
       "      <td>1</td>\n",
       "      <td>4</td>\n",
       "      <td>Unexpectedly the place was like new home since...</td>\n",
       "      <td>0.817365</td>\n",
       "    </tr>\n",
       "    <tr>\n",
       "      <th>1</th>\n",
       "      <td>7455832</td>\n",
       "      <td>https://www.airbnb.com/rooms/7455832</td>\n",
       "      <td>2022-12-24</td>\n",
       "      <td>Classic remodeled in Georgetown</td>\n",
       "      <td>Enjoy your Seattle stay in the vibrant &amp; artis...</td>\n",
       "      <td>Georgetown is a cool neighborhood about three ...</td>\n",
       "      <td>https://a0.muscache.com/pictures/miso/Hosting-...</td>\n",
       "      <td>2144954</td>\n",
       "      <td>https://www.airbnb.com/users/show/2144954</td>\n",
       "      <td>Ryan</td>\n",
       "      <td>2012-04-15</td>\n",
       "      <td>Seattle, WA</td>\n",
       "      <td></td>\n",
       "      <td>within an hour</td>\n",
       "      <td>1.00</td>\n",
       "      <td>1.00</td>\n",
       "      <td>0</td>\n",
       "      <td>https://a0.muscache.com/im/pictures/user/a6711...</td>\n",
       "      <td>Greater Duwamish</td>\n",
       "      <td>['email', 'phone', 'work_email']</td>\n",
       "      <td>1</td>\n",
       "      <td>0</td>\n",
       "      <td>Georgetown</td>\n",
       "      <td>Other neighborhoods</td>\n",
       "      <td>47.544739</td>\n",
       "      <td>-122.319786</td>\n",
       "      <td>Entire home</td>\n",
       "      <td>Entire home/apt</td>\n",
       "      <td>6</td>\n",
       "      <td>3.0</td>\n",
       "      <td>3.0</td>\n",
       "      <td>[\"Hot water\", \"Crib - available upon request\",...</td>\n",
       "      <td>156.0</td>\n",
       "      <td>1</td>\n",
       "      <td>150</td>\n",
       "      <td>27</td>\n",
       "      <td>27</td>\n",
       "      <td>3</td>\n",
       "      <td>2022-06-09</td>\n",
       "      <td>2022-12-13</td>\n",
       "      <td>4.89</td>\n",
       "      <td>4.96</td>\n",
       "      <td>4.89</td>\n",
       "      <td>4.93</td>\n",
       "      <td>4.96</td>\n",
       "      <td>4.93</td>\n",
       "      <td>4.93</td>\n",
       "      <td>1</td>\n",
       "      <td>1</td>\n",
       "      <td>2</td>\n",
       "      <td>2</td>\n",
       "      <td>0</td>\n",
       "      <td>0</td>\n",
       "      <td>4.07</td>\n",
       "      <td>2.0</td>\n",
       "      <td>55</td>\n",
       "      <td>1</td>\n",
       "      <td>10</td>\n",
       "      <td>The house is so comfortable and clean. It has ...</td>\n",
       "      <td>0.913648</td>\n",
       "    </tr>\n",
       "    <tr>\n",
       "      <th>2</th>\n",
       "      <td>42313537</td>\n",
       "      <td>https://www.airbnb.com/rooms/42313537</td>\n",
       "      <td>2022-12-24</td>\n",
       "      <td>Beautifully renovated cottage studio at Alki</td>\n",
       "      <td>Welcome to your private, quiet retreat, featur...</td>\n",
       "      <td>Only 1-block away, Alki Beach is perfect for a...</td>\n",
       "      <td>https://a0.muscache.com/pictures/6ba9d3d0-68d2...</td>\n",
       "      <td>10181843</td>\n",
       "      <td>https://www.airbnb.com/users/show/10181843</td>\n",
       "      <td>Kristin &amp; Stuart</td>\n",
       "      <td>2013-11-21</td>\n",
       "      <td>Seattle, WA</td>\n",
       "      <td>New Mexico and Texas natives who couldn't wait...</td>\n",
       "      <td>within an hour</td>\n",
       "      <td>1.00</td>\n",
       "      <td>1.00</td>\n",
       "      <td>1</td>\n",
       "      <td>https://a0.muscache.com/im/pictures/user/c5d48...</td>\n",
       "      <td>West Seattle</td>\n",
       "      <td>['email', 'phone']</td>\n",
       "      <td>1</td>\n",
       "      <td>1</td>\n",
       "      <td>Alki</td>\n",
       "      <td>West Seattle</td>\n",
       "      <td>47.573800</td>\n",
       "      <td>-122.415520</td>\n",
       "      <td>Entire guesthouse</td>\n",
       "      <td>Entire home/apt</td>\n",
       "      <td>2</td>\n",
       "      <td>1.0</td>\n",
       "      <td>1.0</td>\n",
       "      <td>[\"Hot water\", \"Toaster\", \"Refrigerator\", \"Mini...</td>\n",
       "      <td>135.0</td>\n",
       "      <td>1</td>\n",
       "      <td>31</td>\n",
       "      <td>177</td>\n",
       "      <td>82</td>\n",
       "      <td>4</td>\n",
       "      <td>2021-02-24</td>\n",
       "      <td>2022-12-21</td>\n",
       "      <td>4.99</td>\n",
       "      <td>4.99</td>\n",
       "      <td>5.00</td>\n",
       "      <td>5.00</td>\n",
       "      <td>5.00</td>\n",
       "      <td>4.99</td>\n",
       "      <td>4.94</td>\n",
       "      <td>1</td>\n",
       "      <td>0</td>\n",
       "      <td>1</td>\n",
       "      <td>1</td>\n",
       "      <td>0</td>\n",
       "      <td>0</td>\n",
       "      <td>7.94</td>\n",
       "      <td>1.0</td>\n",
       "      <td>40</td>\n",
       "      <td>1</td>\n",
       "      <td>9</td>\n",
       "      <td>Kristin and Stuart’s cottage is the perfect va...</td>\n",
       "      <td>0.881181</td>\n",
       "    </tr>\n",
       "    <tr>\n",
       "      <th>4</th>\n",
       "      <td>46727219</td>\n",
       "      <td>https://www.airbnb.com/rooms/46727219</td>\n",
       "      <td>2022-12-24</td>\n",
       "      <td>Classic, two-story home w/ high-speed WiFi, fu...</td>\n",
       "      <td>&lt;b&gt;The space&lt;/b&gt;&lt;br /&gt;Northlake Excellence&lt;br ...</td>\n",
       "      <td></td>\n",
       "      <td>https://a0.muscache.com/pictures/prohost-api/H...</td>\n",
       "      <td>111812937</td>\n",
       "      <td>https://www.airbnb.com/users/show/111812937</td>\n",
       "      <td>Vacasa Washington</td>\n",
       "      <td>2017-01-16</td>\n",
       "      <td></td>\n",
       "      <td>Vacasa\\nVacation Home Management\\n\\nVacasa unl...</td>\n",
       "      <td>within an hour</td>\n",
       "      <td>0.97</td>\n",
       "      <td>0.99</td>\n",
       "      <td>0</td>\n",
       "      <td>https://a0.muscache.com/im/pictures/user/4a227...</td>\n",
       "      <td>Capitol Hill</td>\n",
       "      <td>['email', 'phone', 'work_email']</td>\n",
       "      <td>1</td>\n",
       "      <td>1</td>\n",
       "      <td>Wallingford</td>\n",
       "      <td>Other neighborhoods</td>\n",
       "      <td>47.649520</td>\n",
       "      <td>-122.338910</td>\n",
       "      <td>Entire home</td>\n",
       "      <td>Entire home/apt</td>\n",
       "      <td>6</td>\n",
       "      <td>3.0</td>\n",
       "      <td>3.0</td>\n",
       "      <td>[\"Hot water\", \"Refrigerator\", \"Bathtub\", \"Dish...</td>\n",
       "      <td>130.0</td>\n",
       "      <td>2</td>\n",
       "      <td>1125</td>\n",
       "      <td>34</td>\n",
       "      <td>20</td>\n",
       "      <td>0</td>\n",
       "      <td>2021-02-06</td>\n",
       "      <td>2022-08-28</td>\n",
       "      <td>4.74</td>\n",
       "      <td>4.76</td>\n",
       "      <td>4.82</td>\n",
       "      <td>4.88</td>\n",
       "      <td>4.71</td>\n",
       "      <td>4.94</td>\n",
       "      <td>4.65</td>\n",
       "      <td>1</td>\n",
       "      <td>1</td>\n",
       "      <td>27</td>\n",
       "      <td>27</td>\n",
       "      <td>0</td>\n",
       "      <td>0</td>\n",
       "      <td>1.48</td>\n",
       "      <td>1.0</td>\n",
       "      <td>32</td>\n",
       "      <td>1</td>\n",
       "      <td>5</td>\n",
       "      <td>Good location. A great spot in the trendiest p...</td>\n",
       "      <td>0.780712</td>\n",
       "    </tr>\n",
       "    <tr>\n",
       "      <th>6</th>\n",
       "      <td>16962405</td>\n",
       "      <td>https://www.airbnb.com/rooms/16962405</td>\n",
       "      <td>2022-12-24</td>\n",
       "      <td>Spectacular Apt in 5-STAR Home -Mt. &amp; Sunset v...</td>\n",
       "      <td>*  PRIVATE entry to 2+ B/R Luxury Apt. with ow...</td>\n",
       "      <td>Queen Anne is a quiet, residential walking nei...</td>\n",
       "      <td>https://a0.muscache.com/pictures/2d7918da-4568...</td>\n",
       "      <td>40706640</td>\n",
       "      <td>https://www.airbnb.com/users/show/40706640</td>\n",
       "      <td>Cathy</td>\n",
       "      <td>2015-08-06</td>\n",
       "      <td>Seattle, WA</td>\n",
       "      <td></td>\n",
       "      <td>within an hour</td>\n",
       "      <td>1.00</td>\n",
       "      <td>0.95</td>\n",
       "      <td>1</td>\n",
       "      <td>https://a0.muscache.com/im/users/40706640/prof...</td>\n",
       "      <td>Queen Anne</td>\n",
       "      <td>['email', 'phone']</td>\n",
       "      <td>1</td>\n",
       "      <td>1</td>\n",
       "      <td>West Queen Anne</td>\n",
       "      <td>Queen Anne</td>\n",
       "      <td>47.631940</td>\n",
       "      <td>-122.368130</td>\n",
       "      <td>Entire guest suite</td>\n",
       "      <td>Entire home/apt</td>\n",
       "      <td>6</td>\n",
       "      <td>2.0</td>\n",
       "      <td>2.0</td>\n",
       "      <td>[\"Hot water\", \"Refrigerator\", \"Dishwasher\", \"L...</td>\n",
       "      <td>286.0</td>\n",
       "      <td>3</td>\n",
       "      <td>1125</td>\n",
       "      <td>98</td>\n",
       "      <td>23</td>\n",
       "      <td>3</td>\n",
       "      <td>2017-04-16</td>\n",
       "      <td>2022-12-21</td>\n",
       "      <td>4.94</td>\n",
       "      <td>4.96</td>\n",
       "      <td>4.91</td>\n",
       "      <td>4.99</td>\n",
       "      <td>4.99</td>\n",
       "      <td>4.97</td>\n",
       "      <td>4.90</td>\n",
       "      <td>1</td>\n",
       "      <td>0</td>\n",
       "      <td>1</td>\n",
       "      <td>1</td>\n",
       "      <td>0</td>\n",
       "      <td>0</td>\n",
       "      <td>1.41</td>\n",
       "      <td>1.0</td>\n",
       "      <td>46</td>\n",
       "      <td>1</td>\n",
       "      <td>7</td>\n",
       "      <td>We loved staying at this clean and convenientl...</td>\n",
       "      <td>0.920071</td>\n",
       "    </tr>\n",
       "  </tbody>\n",
       "</table>\n",
       "</div>"
      ],
      "text/plain": [
       "   listing_id                            listing_url last_scraped  \\\n",
       "0    49113826  https://www.airbnb.com/rooms/49113826   2022-12-24   \n",
       "1     7455832   https://www.airbnb.com/rooms/7455832   2022-12-24   \n",
       "2    42313537  https://www.airbnb.com/rooms/42313537   2022-12-24   \n",
       "4    46727219  https://www.airbnb.com/rooms/46727219   2022-12-24   \n",
       "6    16962405  https://www.airbnb.com/rooms/16962405   2022-12-24   \n",
       "\n",
       "                                        listing_name  \\\n",
       "0  Private Seattle Getaway Home Near Lake Washing...   \n",
       "1                    Classic remodeled in Georgetown   \n",
       "2       Beautifully renovated cottage studio at Alki   \n",
       "4  Classic, two-story home w/ high-speed WiFi, fu...   \n",
       "6  Spectacular Apt in 5-STAR Home -Mt. & Sunset v...   \n",
       "\n",
       "                                         description  \\\n",
       "0  A Seattle vacation destination for those from ...   \n",
       "1  Enjoy your Seattle stay in the vibrant & artis...   \n",
       "2  Welcome to your private, quiet retreat, featur...   \n",
       "4  <b>The space</b><br />Northlake Excellence<br ...   \n",
       "6  *  PRIVATE entry to 2+ B/R Luxury Apt. with ow...   \n",
       "\n",
       "                               neighborhood_overview  \\\n",
       "0  SeaTac International Airport: 14 min drive<br ...   \n",
       "1  Georgetown is a cool neighborhood about three ...   \n",
       "2  Only 1-block away, Alki Beach is perfect for a...   \n",
       "4                                                      \n",
       "6  Queen Anne is a quiet, residential walking nei...   \n",
       "\n",
       "                                         picture_url    host_id  \\\n",
       "0  https://a0.muscache.com/pictures/miso/Hosting-...  188538325   \n",
       "1  https://a0.muscache.com/pictures/miso/Hosting-...    2144954   \n",
       "2  https://a0.muscache.com/pictures/6ba9d3d0-68d2...   10181843   \n",
       "4  https://a0.muscache.com/pictures/prohost-api/H...  111812937   \n",
       "6  https://a0.muscache.com/pictures/2d7918da-4568...   40706640   \n",
       "\n",
       "                                      host_url          host_name host_since  \\\n",
       "0  https://www.airbnb.com/users/show/188538325               Xiao 2018-05-08   \n",
       "1    https://www.airbnb.com/users/show/2144954               Ryan 2012-04-15   \n",
       "2   https://www.airbnb.com/users/show/10181843   Kristin & Stuart 2013-11-21   \n",
       "4  https://www.airbnb.com/users/show/111812937  Vacasa Washington 2017-01-16   \n",
       "6   https://www.airbnb.com/users/show/40706640              Cathy 2015-08-06   \n",
       "\n",
       "  host_location                                         host_about  \\\n",
       "0   Seattle, WA                                                      \n",
       "1   Seattle, WA                                                      \n",
       "2   Seattle, WA  New Mexico and Texas natives who couldn't wait...   \n",
       "4                Vacasa\\nVacation Home Management\\n\\nVacasa unl...   \n",
       "6   Seattle, WA                                                      \n",
       "\n",
       "  host_response_time  host_response_rate  host_acceptance_rate  \\\n",
       "0     within an hour                1.00                  1.00   \n",
       "1     within an hour                1.00                  1.00   \n",
       "2     within an hour                1.00                  1.00   \n",
       "4     within an hour                0.97                  0.99   \n",
       "6     within an hour                1.00                  0.95   \n",
       "\n",
       "   host_is_superhost                                   host_picture_url  \\\n",
       "0                  1  https://a0.muscache.com/im/pictures/user/32fd3...   \n",
       "1                  0  https://a0.muscache.com/im/pictures/user/a6711...   \n",
       "2                  1  https://a0.muscache.com/im/pictures/user/c5d48...   \n",
       "4                  0  https://a0.muscache.com/im/pictures/user/4a227...   \n",
       "6                  1  https://a0.muscache.com/im/users/40706640/prof...   \n",
       "\n",
       "  host_neighbourhood                host_verifications  host_has_profile_pic  \\\n",
       "0            Oakland                ['email', 'phone']                     1   \n",
       "1   Greater Duwamish  ['email', 'phone', 'work_email']                     1   \n",
       "2       West Seattle                ['email', 'phone']                     1   \n",
       "4       Capitol Hill  ['email', 'phone', 'work_email']                     1   \n",
       "6         Queen Anne                ['email', 'phone']                     1   \n",
       "\n",
       "   host_identity_verified neighbourhood_cleansed neighbourhood_group_cleansed  \\\n",
       "0                       1           Rainier View               Rainier Valley   \n",
       "1                       0             Georgetown          Other neighborhoods   \n",
       "2                       1                   Alki                 West Seattle   \n",
       "4                       1            Wallingford          Other neighborhoods   \n",
       "6                       1        West Queen Anne                   Queen Anne   \n",
       "\n",
       "    latitude   longitude       property_type        room_type  accommodates  \\\n",
       "0  47.510280 -122.246680         Entire home  Entire home/apt             8   \n",
       "1  47.544739 -122.319786         Entire home  Entire home/apt             6   \n",
       "2  47.573800 -122.415520   Entire guesthouse  Entire home/apt             2   \n",
       "4  47.649520 -122.338910         Entire home  Entire home/apt             6   \n",
       "6  47.631940 -122.368130  Entire guest suite  Entire home/apt             6   \n",
       "\n",
       "   bedrooms  beds                                          amenities  price  \\\n",
       "0       4.0   4.0  [\"Hot water\", \"Dining table\", \"Toaster\", \"Refr...  280.0   \n",
       "1       3.0   3.0  [\"Hot water\", \"Crib - available upon request\",...  156.0   \n",
       "2       1.0   1.0  [\"Hot water\", \"Toaster\", \"Refrigerator\", \"Mini...  135.0   \n",
       "4       3.0   3.0  [\"Hot water\", \"Refrigerator\", \"Bathtub\", \"Dish...  130.0   \n",
       "6       2.0   2.0  [\"Hot water\", \"Refrigerator\", \"Dishwasher\", \"L...  286.0   \n",
       "\n",
       "   minimum_nights  maximum_nights  number_of_reviews  number_of_reviews_ltm  \\\n",
       "0               3              30                 18                      7   \n",
       "1               1             150                 27                     27   \n",
       "2               1              31                177                     82   \n",
       "4               2            1125                 34                     20   \n",
       "6               3            1125                 98                     23   \n",
       "\n",
       "   number_of_reviews_l30d first_review last_review  review_scores_rating  \\\n",
       "0                       1   2021-06-22  2022-11-29                  4.83   \n",
       "1                       3   2022-06-09  2022-12-13                  4.89   \n",
       "2                       4   2021-02-24  2022-12-21                  4.99   \n",
       "4                       0   2021-02-06  2022-08-28                  4.74   \n",
       "6                       3   2017-04-16  2022-12-21                  4.94   \n",
       "\n",
       "   review_scores_accuracy  review_scores_cleanliness  review_scores_checkin  \\\n",
       "0                    4.89                       4.94                   4.89   \n",
       "1                    4.96                       4.89                   4.93   \n",
       "2                    4.99                       5.00                   5.00   \n",
       "4                    4.76                       4.82                   4.88   \n",
       "6                    4.96                       4.91                   4.99   \n",
       "\n",
       "   review_scores_communication  review_scores_location  review_scores_value  \\\n",
       "0                         4.89                    4.61                 4.72   \n",
       "1                         4.96                    4.93                 4.93   \n",
       "2                         5.00                    4.99                 4.94   \n",
       "4                         4.71                    4.94                 4.65   \n",
       "6                         4.99                    4.97                 4.90   \n",
       "\n",
       "   has_license  instant_bookable  calculated_host_listings_count  \\\n",
       "0            1                 0                               1   \n",
       "1            1                 1                               2   \n",
       "2            1                 0                               1   \n",
       "4            1                 1                              27   \n",
       "6            1                 0                               1   \n",
       "\n",
       "   calculated_host_listings_count_entire_homes  \\\n",
       "0                                            1   \n",
       "1                                            2   \n",
       "2                                            1   \n",
       "4                                           27   \n",
       "6                                            1   \n",
       "\n",
       "   calculated_host_listings_count_private_rooms  \\\n",
       "0                                             0   \n",
       "1                                             0   \n",
       "2                                             0   \n",
       "4                                             0   \n",
       "6                                             0   \n",
       "\n",
       "   calculated_host_listings_count_shared_rooms  reviews_per_month  \\\n",
       "0                                            0               0.98   \n",
       "1                                            0               4.07   \n",
       "2                                            0               7.94   \n",
       "4                                            0               1.48   \n",
       "6                                            0               1.41   \n",
       "\n",
       "   bathrooms_count  amenities_count  host_response_time_encoded  \\\n",
       "0              2.0               53                           1   \n",
       "1              2.0               55                           1   \n",
       "2              1.0               40                           1   \n",
       "4              1.0               32                           1   \n",
       "6              1.0               46                           1   \n",
       "\n",
       "   host_operate_years                                           comments  \\\n",
       "0                   4  Unexpectedly the place was like new home since...   \n",
       "1                  10  The house is so comfortable and clean. It has ...   \n",
       "2                   9  Kristin and Stuart’s cottage is the perfect va...   \n",
       "4                   5  Good location. A great spot in the trendiest p...   \n",
       "6                   7  We loved staying at this clean and convenientl...   \n",
       "\n",
       "   polarity  \n",
       "0  0.817365  \n",
       "1  0.913648  \n",
       "2  0.881181  \n",
       "4  0.780712  \n",
       "6  0.920071  "
      ]
     },
     "execution_count": 9,
     "metadata": {},
     "output_type": "execute_result"
    }
   ],
   "source": [
    "df_model.head(5)"
   ]
  },
  {
   "cell_type": "markdown",
   "metadata": {
    "cell_id": "5d6c985e2d704951828bf1962a64d808",
    "deepnote_cell_type": "markdown",
    "id": "cjN5uqoYxVkS"
   },
   "source": [
    "Reset index so easier to debug later"
   ]
  },
  {
   "cell_type": "code",
   "execution_count": 10,
   "metadata": {
    "cell_id": "5a3f029395a04816a0539b51d754b92a",
    "colab": {
     "base_uri": "https://localhost:8080/",
     "height": 591
    },
    "deepnote_cell_type": "code",
    "deepnote_to_be_reexecuted": false,
    "execution_millis": 127,
    "execution_start": 1679772645969,
    "id": "Kgeo5TROxYPE",
    "outputId": "390726c9-eadb-448f-d2b2-94c967a70ea4",
    "source_hash": "ed40aa54"
   },
   "outputs": [
    {
     "data": {
      "application/vnd.deepnote.dataframe.v3+json": {
       "column_count": 60,
       "columns": [
        {
         "dtype": "int64",
         "name": "listing_id",
         "stats": {
          "histogram": [
           {
            "bin_end": 11621631.4,
            "bin_start": 7455832,
            "count": 1
           },
           {
            "bin_end": 15787430.8,
            "bin_start": 11621631.4,
            "count": 0
           },
           {
            "bin_end": 19953230.2,
            "bin_start": 15787430.8,
            "count": 1
           },
           {
            "bin_end": 24119029.6,
            "bin_start": 19953230.2,
            "count": 0
           },
           {
            "bin_end": 28284829,
            "bin_start": 24119029.6,
            "count": 0
           },
           {
            "bin_end": 32450628.4,
            "bin_start": 28284829,
            "count": 0
           },
           {
            "bin_end": 36616427.8,
            "bin_start": 32450628.4,
            "count": 0
           },
           {
            "bin_end": 40782227.2,
            "bin_start": 36616427.8,
            "count": 0
           },
           {
            "bin_end": 44948026.6,
            "bin_start": 40782227.2,
            "count": 1
           },
           {
            "bin_end": 49113826,
            "bin_start": 44948026.6,
            "count": 2
           }
          ],
          "max": "49113826",
          "min": "7455832",
          "nan_count": 0,
          "unique_count": 5
         }
        },
        {
         "dtype": "object",
         "name": "listing_url",
         "stats": {
          "categories": [
           {
            "count": 1,
            "name": "https://www.airbnb.com/rooms/49113826"
           },
           {
            "count": 1,
            "name": "https://www.airbnb.com/rooms/7455832"
           },
           {
            "count": 3,
            "name": "3 others"
           }
          ],
          "nan_count": 0,
          "unique_count": 5
         }
        },
        {
         "dtype": "datetime64[ns]",
         "name": "last_scraped",
         "stats": {
          "histogram": null,
          "max": "2022-12-24 00:00:00",
          "min": "2022-12-24 00:00:00",
          "nan_count": 0,
          "unique_count": 1
         }
        },
        {
         "dtype": "object",
         "name": "listing_name",
         "stats": {
          "categories": [
           {
            "count": 1,
            "name": "Private Seattle Getaway Home Near Lake Washington!"
           },
           {
            "count": 1,
            "name": "Classic remodeled in Georgetown"
           },
           {
            "count": 3,
            "name": "3 others"
           }
          ],
          "nan_count": 0,
          "unique_count": 5
         }
        },
        {
         "dtype": "object",
         "name": "description",
         "stats": {
          "categories": [
           {
            "count": 1,
            "name": "A Seattle vacation destination for those from out of town or a Staycation for those who live close by. We welcome you to this partial lake view gated family friendly home with 4 bedrooms, 2 bathrooms. A beautiful & serene creek flows through the front of the home. There is a fully functioning kitchen with appliances & utensils.  & laundry room. Only a few mins walk to Lakeridge playfield just behind the house! 15 min drive to SeaTac International Airport and 25 min drive to downtown Seattle.<br /><br /><b>The space</b><br />Smart lock for easy check in and Xfinity Home Security Alarm for your protection and peace of mind. There are a few steps leading into the home. There is one security camera at the house facing the front entrance and driveway. The front driveway can fit 6 cars.<br /><br />Bed Arrangements: <br /><br />Lower levels: 2 bedrooms, 1 bathroom<br />Room #1: One Queen bed (sleeps 2)<br />Room #4: One Queen bed (sleeps 2)<br /><br />Upper level: 2 bedrooms, 1 bathroom<br />"
           },
           {
            "count": 1,
            "name": "Enjoy your Seattle stay in the vibrant & artistic Georgetown neighborhood! Georgetown is truly one of the last artsy, funky neighborhoods left in Seattle - you will be a five minute walk from the many restaurants, bars, wine tasting rooms & more in the \"downtown\" Georgetown neighborhood. It's also kid friendly as you will see many families out and pushing strollers around.<br /><br />The neighborhood is located a few miles south of the downtown Seattle core.<br /><br /><b>The space</b><br />This is the top unit of a completely remodeled craftsman (if bottom unit is available you can rent the whole house and have 6 beds & 4 baths!)<br /><br />This unit has the classic craftsman feel, but it has been completely remodeled with some modern touches!<br /><br /><b>Guest access</b><br />Obviously you have access to the entire unit - there is a lower unit of the house that may be rented too, so you will need to be respectful of other guests. The front yard and side yards are also yours to enjo"
           },
           {
            "count": 3,
            "name": "3 others"
           }
          ],
          "nan_count": 0,
          "unique_count": 5
         }
        },
        {
         "dtype": "object",
         "name": "neighborhood_overview",
         "stats": {
          "categories": [
           {
            "count": 1,
            "name": "SeaTac International Airport: 14 min drive<br /><br />Grocery Stores nearby:<br />- Safeway & Rite Aid: 5 min drive<br />- Walgreens: 6 min drive<br />- Walmart & Fred Meyer: 9 min drive<br />- Uwajimaya: 10 min drive<br /><br />Dining nearby:<br />- Pizzeria Pulcinella: 2 min walk<br />- Stonehouse Cafe: 10 min walk<br />- The Landing (popular outdoor retail & restaurant area): 10 min drive<br /><br />Activities nearby:<br />- Lakeridge Playground: 2 min walk<br />- Downtown Renton: 10 min drive<br />- Southcenter Mall (large shopping mall): 14 min drive<br />- Round 1 (arcade, bowling, pool) inside Southcenter: 14 min drive<br />- iFly (mock sky diving): 15 min drive<br />- Downtown Seattle & Pike Place Market: 25 min drive"
           },
           {
            "count": 1,
            "name": "Georgetown is a cool neighborhood about three miles south of Seattle. Formerly an industrial area filled with warehouses, Georgetown has gone from shabby to chic, from industrial to artsy. Today, the neighborhood is a great place to find trendy restaurants, breweries, and art galleries."
           },
           {
            "count": 3,
            "name": "3 others"
           }
          ],
          "nan_count": 0,
          "unique_count": 5
         }
        },
        {
         "dtype": "object",
         "name": "picture_url",
         "stats": {
          "categories": [
           {
            "count": 1,
            "name": "https://a0.muscache.com/pictures/miso/Hosting-49113826/original/29c08a31-b625-4e8f-bbc6-93e7994fef05.jpeg"
           },
           {
            "count": 1,
            "name": "https://a0.muscache.com/pictures/miso/Hosting-7455832/original/87dcaee3-d543-440c-8cf0-19ac171d7200.jpeg"
           },
           {
            "count": 3,
            "name": "3 others"
           }
          ],
          "nan_count": 0,
          "unique_count": 5
         }
        },
        {
         "dtype": "int64",
         "name": "host_id",
         "stats": {
          "histogram": [
           {
            "bin_end": 20784291.1,
            "bin_start": 2144954,
            "count": 2
           },
           {
            "bin_end": 39423628.2,
            "bin_start": 20784291.1,
            "count": 0
           },
           {
            "bin_end": 58062965.300000004,
            "bin_start": 39423628.2,
            "count": 1
           },
           {
            "bin_end": 76702302.4,
            "bin_start": 58062965.300000004,
            "count": 0
           },
           {
            "bin_end": 95341639.5,
            "bin_start": 76702302.4,
            "count": 0
           },
           {
            "bin_end": 113980976.60000001,
            "bin_start": 95341639.5,
            "count": 1
           },
           {
            "bin_end": 132620313.70000002,
            "bin_start": 113980976.60000001,
            "count": 0
           },
           {
            "bin_end": 151259650.8,
            "bin_start": 132620313.70000002,
            "count": 0
           },
           {
            "bin_end": 169898987.9,
            "bin_start": 151259650.8,
            "count": 0
           },
           {
            "bin_end": 188538325,
            "bin_start": 169898987.9,
            "count": 1
           }
          ],
          "max": "188538325",
          "min": "2144954",
          "nan_count": 0,
          "unique_count": 5
         }
        },
        {
         "dtype": "object",
         "name": "host_url",
         "stats": {
          "categories": [
           {
            "count": 1,
            "name": "https://www.airbnb.com/users/show/188538325"
           },
           {
            "count": 1,
            "name": "https://www.airbnb.com/users/show/2144954"
           },
           {
            "count": 3,
            "name": "3 others"
           }
          ],
          "nan_count": 0,
          "unique_count": 5
         }
        },
        {
         "dtype": "object",
         "name": "host_name",
         "stats": {
          "categories": [
           {
            "count": 1,
            "name": "Xiao"
           },
           {
            "count": 1,
            "name": "Ryan"
           },
           {
            "count": 3,
            "name": "3 others"
           }
          ],
          "nan_count": 0,
          "unique_count": 5
         }
        },
        {
         "dtype": "datetime64[ns]",
         "name": "host_since",
         "stats": {
          "histogram": [
           {
            "bin_end": 1353576960000000000,
            "bin_start": 1334448000000000000,
            "count": 1
           },
           {
            "bin_end": 1372705920000000000,
            "bin_start": 1353576960000000000,
            "count": 0
           },
           {
            "bin_end": 1391834880000000000,
            "bin_start": 1372705920000000000,
            "count": 1
           },
           {
            "bin_end": 1410963840000000000,
            "bin_start": 1391834880000000000,
            "count": 0
           },
           {
            "bin_end": 1430092800000000000,
            "bin_start": 1410963840000000000,
            "count": 0
           },
           {
            "bin_end": 1449221760000000000,
            "bin_start": 1430092800000000000,
            "count": 1
           },
           {
            "bin_end": 1468350720000000000,
            "bin_start": 1449221760000000000,
            "count": 0
           },
           {
            "bin_end": 1487479680000000000,
            "bin_start": 1468350720000000000,
            "count": 1
           },
           {
            "bin_end": 1506608640000000000,
            "bin_start": 1487479680000000000,
            "count": 0
           },
           {
            "bin_end": 1525737600000000000,
            "bin_start": 1506608640000000000,
            "count": 1
           }
          ],
          "max": "2018-05-08 00:00:00",
          "min": "2012-04-15 00:00:00",
          "nan_count": 0,
          "unique_count": 5
         }
        },
        {
         "dtype": "object",
         "name": "host_location",
         "stats": {
          "categories": [
           {
            "count": 4,
            "name": "Seattle, WA"
           },
           {
            "count": 1,
            "name": " "
           }
          ],
          "nan_count": 0,
          "unique_count": 2
         }
        },
        {
         "dtype": "object",
         "name": "host_about",
         "stats": {
          "categories": [
           {
            "count": 3,
            "name": " "
           },
           {
            "count": 1,
            "name": "New Mexico and Texas natives who couldn't wait to call Seattle home. We've lived in Seattle for 10 years and are still in awe daily with the surrounding beauty of the PNW.\n\nWe're new to the AirBNB hosting but can't wait to welcome you to ensure you have a wonderful stay.\n\nWe love the outdoors: gardening, hiking, kayaking, camping... "
           },
           {
            "count": 1,
            "name": "Vacasa\nVacation Home Management\n\nVacasa unlocks the possibilities of how we enjoy vacation homes. We take care of managing our homeowners’ vacation houses so they can have peace of mind (and their home when they want to). And our guests book vacations confidently knowing they’re going to find exactly what they’re looking for without any surprises.\n\nEach vacation home is always cared for by our professional local teams who implement our high cleanliness and maintenance values, while the hands-off tasks of vacation rental management--marketing, filing taxes, and maintaining a website--are handled by a specialized central support team. Our passion and focus remain true: to empower our homeowners, guests, and employees to invest in vacation."
           }
          ],
          "nan_count": 0,
          "unique_count": 3
         }
        },
        {
         "dtype": "object",
         "name": "host_response_time",
         "stats": {
          "categories": [
           {
            "count": 5,
            "name": "within an hour"
           }
          ],
          "nan_count": 0,
          "unique_count": 1
         }
        },
        {
         "dtype": "float64",
         "name": "host_response_rate",
         "stats": {
          "histogram": [
           {
            "bin_end": 0.973,
            "bin_start": 0.97,
            "count": 1
           },
           {
            "bin_end": 0.976,
            "bin_start": 0.973,
            "count": 0
           },
           {
            "bin_end": 0.979,
            "bin_start": 0.976,
            "count": 0
           },
           {
            "bin_end": 0.982,
            "bin_start": 0.979,
            "count": 0
           },
           {
            "bin_end": 0.985,
            "bin_start": 0.982,
            "count": 0
           },
           {
            "bin_end": 0.988,
            "bin_start": 0.985,
            "count": 0
           },
           {
            "bin_end": 0.991,
            "bin_start": 0.988,
            "count": 0
           },
           {
            "bin_end": 0.994,
            "bin_start": 0.991,
            "count": 0
           },
           {
            "bin_end": 0.997,
            "bin_start": 0.994,
            "count": 0
           },
           {
            "bin_end": 1,
            "bin_start": 0.997,
            "count": 4
           }
          ],
          "max": "1.0",
          "min": "0.97",
          "nan_count": 0,
          "unique_count": 2
         }
        },
        {
         "dtype": "float64",
         "name": "host_acceptance_rate",
         "stats": {
          "histogram": [
           {
            "bin_end": 0.955,
            "bin_start": 0.95,
            "count": 1
           },
           {
            "bin_end": 0.96,
            "bin_start": 0.955,
            "count": 0
           },
           {
            "bin_end": 0.965,
            "bin_start": 0.96,
            "count": 0
           },
           {
            "bin_end": 0.97,
            "bin_start": 0.965,
            "count": 0
           },
           {
            "bin_end": 0.975,
            "bin_start": 0.97,
            "count": 0
           },
           {
            "bin_end": 0.98,
            "bin_start": 0.975,
            "count": 0
           },
           {
            "bin_end": 0.985,
            "bin_start": 0.98,
            "count": 0
           },
           {
            "bin_end": 0.99,
            "bin_start": 0.985,
            "count": 0
           },
           {
            "bin_end": 0.995,
            "bin_start": 0.99,
            "count": 1
           },
           {
            "bin_end": 1,
            "bin_start": 0.995,
            "count": 3
           }
          ],
          "max": "1.0",
          "min": "0.95",
          "nan_count": 0,
          "unique_count": 3
         }
        },
        {
         "dtype": "int64",
         "name": "host_is_superhost",
         "stats": {
          "histogram": [
           {
            "bin_end": 0.1,
            "bin_start": 0,
            "count": 2
           },
           {
            "bin_end": 0.2,
            "bin_start": 0.1,
            "count": 0
           },
           {
            "bin_end": 0.30000000000000004,
            "bin_start": 0.2,
            "count": 0
           },
           {
            "bin_end": 0.4,
            "bin_start": 0.30000000000000004,
            "count": 0
           },
           {
            "bin_end": 0.5,
            "bin_start": 0.4,
            "count": 0
           },
           {
            "bin_end": 0.6000000000000001,
            "bin_start": 0.5,
            "count": 0
           },
           {
            "bin_end": 0.7000000000000001,
            "bin_start": 0.6000000000000001,
            "count": 0
           },
           {
            "bin_end": 0.8,
            "bin_start": 0.7000000000000001,
            "count": 0
           },
           {
            "bin_end": 0.9,
            "bin_start": 0.8,
            "count": 0
           },
           {
            "bin_end": 1,
            "bin_start": 0.9,
            "count": 3
           }
          ],
          "max": "1",
          "min": "0",
          "nan_count": 0,
          "unique_count": 2
         }
        },
        {
         "dtype": "object",
         "name": "host_picture_url",
         "stats": {
          "categories": [
           {
            "count": 1,
            "name": "https://a0.muscache.com/im/pictures/user/32fd3116-b515-46d9-8048-d5773e1bac5a.jpg?aki_policy=profile_x_medium"
           },
           {
            "count": 1,
            "name": "https://a0.muscache.com/im/pictures/user/a671129c-f502-4968-85ef-7ef088d81ab3.jpg?aki_policy=profile_x_medium"
           },
           {
            "count": 3,
            "name": "3 others"
           }
          ],
          "nan_count": 0,
          "unique_count": 5
         }
        },
        {
         "dtype": "object",
         "name": "host_neighbourhood",
         "stats": {
          "categories": [
           {
            "count": 1,
            "name": "Oakland"
           },
           {
            "count": 1,
            "name": "Greater Duwamish"
           },
           {
            "count": 3,
            "name": "3 others"
           }
          ],
          "nan_count": 0,
          "unique_count": 5
         }
        },
        {
         "dtype": "object",
         "name": "host_verifications",
         "stats": {
          "categories": [
           {
            "count": 3,
            "name": "['email', 'phone']"
           },
           {
            "count": 2,
            "name": "['email', 'phone', 'work_email']"
           }
          ],
          "nan_count": 0,
          "unique_count": 2
         }
        },
        {
         "dtype": "int64",
         "name": "host_has_profile_pic",
         "stats": {
          "histogram": [
           {
            "bin_end": 0.6,
            "bin_start": 0.5,
            "count": 0
           },
           {
            "bin_end": 0.7,
            "bin_start": 0.6,
            "count": 0
           },
           {
            "bin_end": 0.8,
            "bin_start": 0.7,
            "count": 0
           },
           {
            "bin_end": 0.9,
            "bin_start": 0.8,
            "count": 0
           },
           {
            "bin_end": 1,
            "bin_start": 0.9,
            "count": 0
           },
           {
            "bin_end": 1.1,
            "bin_start": 1,
            "count": 5
           },
           {
            "bin_end": 1.2000000000000002,
            "bin_start": 1.1,
            "count": 0
           },
           {
            "bin_end": 1.3,
            "bin_start": 1.2000000000000002,
            "count": 0
           },
           {
            "bin_end": 1.4,
            "bin_start": 1.3,
            "count": 0
           },
           {
            "bin_end": 1.5,
            "bin_start": 1.4,
            "count": 0
           }
          ],
          "max": "1",
          "min": "1",
          "nan_count": 0,
          "unique_count": 1
         }
        },
        {
         "dtype": "int64",
         "name": "host_identity_verified",
         "stats": {
          "histogram": [
           {
            "bin_end": 0.1,
            "bin_start": 0,
            "count": 1
           },
           {
            "bin_end": 0.2,
            "bin_start": 0.1,
            "count": 0
           },
           {
            "bin_end": 0.30000000000000004,
            "bin_start": 0.2,
            "count": 0
           },
           {
            "bin_end": 0.4,
            "bin_start": 0.30000000000000004,
            "count": 0
           },
           {
            "bin_end": 0.5,
            "bin_start": 0.4,
            "count": 0
           },
           {
            "bin_end": 0.6000000000000001,
            "bin_start": 0.5,
            "count": 0
           },
           {
            "bin_end": 0.7000000000000001,
            "bin_start": 0.6000000000000001,
            "count": 0
           },
           {
            "bin_end": 0.8,
            "bin_start": 0.7000000000000001,
            "count": 0
           },
           {
            "bin_end": 0.9,
            "bin_start": 0.8,
            "count": 0
           },
           {
            "bin_end": 1,
            "bin_start": 0.9,
            "count": 4
           }
          ],
          "max": "1",
          "min": "0",
          "nan_count": 0,
          "unique_count": 2
         }
        },
        {
         "dtype": "object",
         "name": "neighbourhood_cleansed",
         "stats": {
          "categories": [
           {
            "count": 1,
            "name": "Rainier View"
           },
           {
            "count": 1,
            "name": "Georgetown"
           },
           {
            "count": 3,
            "name": "3 others"
           }
          ],
          "nan_count": 0,
          "unique_count": 5
         }
        },
        {
         "dtype": "object",
         "name": "neighbourhood_group_cleansed",
         "stats": {
          "categories": [
           {
            "count": 2,
            "name": "Other neighborhoods"
           },
           {
            "count": 1,
            "name": "Rainier Valley"
           },
           {
            "count": 2,
            "name": "2 others"
           }
          ],
          "nan_count": 0,
          "unique_count": 4
         }
        },
        {
         "dtype": "float64",
         "name": "latitude",
         "stats": {
          "histogram": [
           {
            "bin_end": 47.524204000000005,
            "bin_start": 47.51028,
            "count": 1
           },
           {
            "bin_end": 47.538128,
            "bin_start": 47.524204000000005,
            "count": 0
           },
           {
            "bin_end": 47.552052,
            "bin_start": 47.538128,
            "count": 1
           },
           {
            "bin_end": 47.565976,
            "bin_start": 47.552052,
            "count": 0
           },
           {
            "bin_end": 47.5799,
            "bin_start": 47.565976,
            "count": 1
           },
           {
            "bin_end": 47.593824000000005,
            "bin_start": 47.5799,
            "count": 0
           },
           {
            "bin_end": 47.607748,
            "bin_start": 47.593824000000005,
            "count": 0
           },
           {
            "bin_end": 47.621672000000004,
            "bin_start": 47.607748,
            "count": 0
           },
           {
            "bin_end": 47.635596,
            "bin_start": 47.621672000000004,
            "count": 1
           },
           {
            "bin_end": 47.64952,
            "bin_start": 47.635596,
            "count": 1
           }
          ],
          "max": "47.64952",
          "min": "47.51028",
          "nan_count": 0,
          "unique_count": 5
         }
        },
        {
         "dtype": "float64",
         "name": "longitude",
         "stats": {
          "histogram": [
           {
            "bin_end": -122.398636,
            "bin_start": -122.41552,
            "count": 1
           },
           {
            "bin_end": -122.381752,
            "bin_start": -122.398636,
            "count": 0
           },
           {
            "bin_end": -122.364868,
            "bin_start": -122.381752,
            "count": 1
           },
           {
            "bin_end": -122.347984,
            "bin_start": -122.364868,
            "count": 0
           },
           {
            "bin_end": -122.33109999999999,
            "bin_start": -122.347984,
            "count": 1
           },
           {
            "bin_end": -122.314216,
            "bin_start": -122.33109999999999,
            "count": 1
           },
           {
            "bin_end": -122.297332,
            "bin_start": -122.314216,
            "count": 0
           },
           {
            "bin_end": -122.28044799999999,
            "bin_start": -122.297332,
            "count": 0
           },
           {
            "bin_end": -122.263564,
            "bin_start": -122.28044799999999,
            "count": 0
           },
           {
            "bin_end": -122.24668,
            "bin_start": -122.263564,
            "count": 1
           }
          ],
          "max": "-122.24668",
          "min": "-122.41552",
          "nan_count": 0,
          "unique_count": 5
         }
        },
        {
         "dtype": "object",
         "name": "property_type",
         "stats": {
          "categories": [
           {
            "count": 3,
            "name": "Entire home"
           },
           {
            "count": 1,
            "name": "Entire guesthouse"
           },
           {
            "count": 1,
            "name": "Entire guest suite"
           }
          ],
          "nan_count": 0,
          "unique_count": 3
         }
        },
        {
         "dtype": "object",
         "name": "room_type",
         "stats": {
          "categories": [
           {
            "count": 5,
            "name": "Entire home/apt"
           }
          ],
          "nan_count": 0,
          "unique_count": 1
         }
        },
        {
         "dtype": "int64",
         "name": "accommodates",
         "stats": {
          "histogram": [
           {
            "bin_end": 2.6,
            "bin_start": 2,
            "count": 1
           },
           {
            "bin_end": 3.2,
            "bin_start": 2.6,
            "count": 0
           },
           {
            "bin_end": 3.8,
            "bin_start": 3.2,
            "count": 0
           },
           {
            "bin_end": 4.4,
            "bin_start": 3.8,
            "count": 0
           },
           {
            "bin_end": 5,
            "bin_start": 4.4,
            "count": 0
           },
           {
            "bin_end": 5.6,
            "bin_start": 5,
            "count": 0
           },
           {
            "bin_end": 6.2,
            "bin_start": 5.6,
            "count": 3
           },
           {
            "bin_end": 6.8,
            "bin_start": 6.2,
            "count": 0
           },
           {
            "bin_end": 7.3999999999999995,
            "bin_start": 6.8,
            "count": 0
           },
           {
            "bin_end": 8,
            "bin_start": 7.3999999999999995,
            "count": 1
           }
          ],
          "max": "8",
          "min": "2",
          "nan_count": 0,
          "unique_count": 3
         }
        },
        {
         "dtype": "float64",
         "name": "bedrooms",
         "stats": {
          "histogram": [
           {
            "bin_end": 1.3,
            "bin_start": 1,
            "count": 1
           },
           {
            "bin_end": 1.6,
            "bin_start": 1.3,
            "count": 0
           },
           {
            "bin_end": 1.9,
            "bin_start": 1.6,
            "count": 0
           },
           {
            "bin_end": 2.2,
            "bin_start": 1.9,
            "count": 1
           },
           {
            "bin_end": 2.5,
            "bin_start": 2.2,
            "count": 0
           },
           {
            "bin_end": 2.8,
            "bin_start": 2.5,
            "count": 0
           },
           {
            "bin_end": 3.1,
            "bin_start": 2.8,
            "count": 2
           },
           {
            "bin_end": 3.4,
            "bin_start": 3.1,
            "count": 0
           },
           {
            "bin_end": 3.6999999999999997,
            "bin_start": 3.4,
            "count": 0
           },
           {
            "bin_end": 4,
            "bin_start": 3.6999999999999997,
            "count": 1
           }
          ],
          "max": "4.0",
          "min": "1.0",
          "nan_count": 0,
          "unique_count": 4
         }
        },
        {
         "dtype": "float64",
         "name": "beds",
         "stats": {
          "histogram": [
           {
            "bin_end": 1.3,
            "bin_start": 1,
            "count": 1
           },
           {
            "bin_end": 1.6,
            "bin_start": 1.3,
            "count": 0
           },
           {
            "bin_end": 1.9,
            "bin_start": 1.6,
            "count": 0
           },
           {
            "bin_end": 2.2,
            "bin_start": 1.9,
            "count": 1
           },
           {
            "bin_end": 2.5,
            "bin_start": 2.2,
            "count": 0
           },
           {
            "bin_end": 2.8,
            "bin_start": 2.5,
            "count": 0
           },
           {
            "bin_end": 3.1,
            "bin_start": 2.8,
            "count": 2
           },
           {
            "bin_end": 3.4,
            "bin_start": 3.1,
            "count": 0
           },
           {
            "bin_end": 3.6999999999999997,
            "bin_start": 3.4,
            "count": 0
           },
           {
            "bin_end": 4,
            "bin_start": 3.6999999999999997,
            "count": 1
           }
          ],
          "max": "4.0",
          "min": "1.0",
          "nan_count": 0,
          "unique_count": 4
         }
        },
        {
         "dtype": "object",
         "name": "amenities",
         "stats": {
          "categories": [
           {
            "count": 1,
            "name": "[\"Hot water\", \"Dining table\", \"Toaster\", \"Refrigerator\", \"Bathtub\", \"Dishwasher\", \"Coffee maker: drip coffee maker\", \"Room-darkening shades\", \"Private entrance\", \"Dishes and silverware\", \"Washer\", \"Kitchen\", \"TV\", \"Body soap\", \"Indoor fireplace\", \"Private patio or balcony\", \"Free street parking\", \"Iron\", \"Hair dryer\", \"Microwave\", \"Cooking basics\", \"Oven\", \"Private backyard \\u2013 Fully fenced\", \"Pack \\u2019n play/Travel crib\", \"Keypad\", \"Stove\", \"Smoke alarm\", \"Dryer\", \"Essentials\", \"Wine glasses\", \"Self check-in\", \"Cleaning products\", \"Fire extinguisher\", \"High chair\", \"Heating\", \"Outdoor furniture\", \"Long term stays allowed\", \"Wifi\", \"Air conditioning\", \"Outdoor dining area\", \"BBQ grill\", \"First aid kit\", \"Hangers\", \"Extra pillows and blankets\", \"Shampoo\", \"Security cameras on property\", \"Carbon monoxide alarm\", \"Fire pit\", \"Dedicated workspace\", \"Lake view\", \"Bed linens\", \"Park view\", \"Free parking on premises\"]"
           },
           {
            "count": 1,
            "name": "[\"Hot water\", \"Crib - available upon request\", \"Dining table\", \"Toaster\", \"Refrigerator\", \"Bathtub\", \"Dishwasher\", \"Hot water kettle\", \"Room-darkening shades\", \"Private entrance\", \"Dishes and silverware\", \"Conditioner\", \"Kitchen\", \"Body soap\", \"Private patio or balcony\", \"Free street parking\", \"Google Nest sound system\", \"Iron\", \"Hair dryer\", \"Microwave\", \"Cooking basics\", \"Oven\", \"Shared backyard \\u2013 Not fully fenced\", \"Pets allowed\", \"Keypad\", \"Free dryer \\u2013 In unit\", \"Stove\", \"Smoke alarm\", \"Wine glasses\", \"Essentials\", \"Pack \\u2019n play/Travel crib - available upon request\", \"Self check-in\", \"Cleaning products\", \"AC - split type ductless system\", \"Fire extinguisher\", \"Long term stays allowed\", \"Outdoor furniture\", \"Wifi\", \"Coffee\", \"Single level home\", \"Outdoor dining area\", \"Coffee maker: french press\", \"First aid kit\", \"65\\\" HDTV with standard cable\", \"Hangers\", \"Freezer\", \"Free washer \\u2013 In unit\", \"Extra pillows and blankets\", \"Shampoo\", \"Carbon monoxide alarm\", \"Heating - split type ductless system\", \"Dedicated workspace\", \"Bed linens\", \"Free parking on premises\", \"Books and reading material\"]"
           },
           {
            "count": 3,
            "name": "3 others"
           }
          ],
          "nan_count": 0,
          "unique_count": 5
         }
        },
        {
         "dtype": "float64",
         "name": "price",
         "stats": {
          "histogram": [
           {
            "bin_end": 145.6,
            "bin_start": 130,
            "count": 2
           },
           {
            "bin_end": 161.2,
            "bin_start": 145.6,
            "count": 1
           },
           {
            "bin_end": 176.8,
            "bin_start": 161.2,
            "count": 0
           },
           {
            "bin_end": 192.4,
            "bin_start": 176.8,
            "count": 0
           },
           {
            "bin_end": 208,
            "bin_start": 192.4,
            "count": 0
           },
           {
            "bin_end": 223.6,
            "bin_start": 208,
            "count": 0
           },
           {
            "bin_end": 239.2,
            "bin_start": 223.6,
            "count": 0
           },
           {
            "bin_end": 254.8,
            "bin_start": 239.2,
            "count": 0
           },
           {
            "bin_end": 270.4,
            "bin_start": 254.8,
            "count": 0
           },
           {
            "bin_end": 286,
            "bin_start": 270.4,
            "count": 2
           }
          ],
          "max": "286.0",
          "min": "130.0",
          "nan_count": 0,
          "unique_count": 5
         }
        },
        {
         "dtype": "int64",
         "name": "minimum_nights",
         "stats": {
          "histogram": [
           {
            "bin_end": 1.2,
            "bin_start": 1,
            "count": 2
           },
           {
            "bin_end": 1.4,
            "bin_start": 1.2,
            "count": 0
           },
           {
            "bin_end": 1.6,
            "bin_start": 1.4,
            "count": 0
           },
           {
            "bin_end": 1.8,
            "bin_start": 1.6,
            "count": 0
           },
           {
            "bin_end": 2,
            "bin_start": 1.8,
            "count": 0
           },
           {
            "bin_end": 2.2,
            "bin_start": 2,
            "count": 1
           },
           {
            "bin_end": 2.4000000000000004,
            "bin_start": 2.2,
            "count": 0
           },
           {
            "bin_end": 2.6,
            "bin_start": 2.4000000000000004,
            "count": 0
           },
           {
            "bin_end": 2.8,
            "bin_start": 2.6,
            "count": 0
           },
           {
            "bin_end": 3,
            "bin_start": 2.8,
            "count": 2
           }
          ],
          "max": "3",
          "min": "1",
          "nan_count": 0,
          "unique_count": 3
         }
        },
        {
         "dtype": "int64",
         "name": "maximum_nights",
         "stats": {
          "histogram": [
           {
            "bin_end": 139.5,
            "bin_start": 30,
            "count": 2
           },
           {
            "bin_end": 249,
            "bin_start": 139.5,
            "count": 1
           },
           {
            "bin_end": 358.5,
            "bin_start": 249,
            "count": 0
           },
           {
            "bin_end": 468,
            "bin_start": 358.5,
            "count": 0
           },
           {
            "bin_end": 577.5,
            "bin_start": 468,
            "count": 0
           },
           {
            "bin_end": 687,
            "bin_start": 577.5,
            "count": 0
           },
           {
            "bin_end": 796.5,
            "bin_start": 687,
            "count": 0
           },
           {
            "bin_end": 906,
            "bin_start": 796.5,
            "count": 0
           },
           {
            "bin_end": 1015.5,
            "bin_start": 906,
            "count": 0
           },
           {
            "bin_end": 1125,
            "bin_start": 1015.5,
            "count": 2
           }
          ],
          "max": "1125",
          "min": "30",
          "nan_count": 0,
          "unique_count": 4
         }
        },
        {
         "dtype": "int64",
         "name": "number_of_reviews",
         "stats": {
          "histogram": [
           {
            "bin_end": 33.9,
            "bin_start": 18,
            "count": 2
           },
           {
            "bin_end": 49.8,
            "bin_start": 33.9,
            "count": 1
           },
           {
            "bin_end": 65.7,
            "bin_start": 49.8,
            "count": 0
           },
           {
            "bin_end": 81.6,
            "bin_start": 65.7,
            "count": 0
           },
           {
            "bin_end": 97.5,
            "bin_start": 81.6,
            "count": 0
           },
           {
            "bin_end": 113.4,
            "bin_start": 97.5,
            "count": 1
           },
           {
            "bin_end": 129.3,
            "bin_start": 113.4,
            "count": 0
           },
           {
            "bin_end": 145.2,
            "bin_start": 129.3,
            "count": 0
           },
           {
            "bin_end": 161.1,
            "bin_start": 145.2,
            "count": 0
           },
           {
            "bin_end": 177,
            "bin_start": 161.1,
            "count": 1
           }
          ],
          "max": "177",
          "min": "18",
          "nan_count": 0,
          "unique_count": 5
         }
        },
        {
         "dtype": "int64",
         "name": "number_of_reviews_ltm",
         "stats": {
          "histogram": [
           {
            "bin_end": 14.5,
            "bin_start": 7,
            "count": 1
           },
           {
            "bin_end": 22,
            "bin_start": 14.5,
            "count": 1
           },
           {
            "bin_end": 29.5,
            "bin_start": 22,
            "count": 2
           },
           {
            "bin_end": 37,
            "bin_start": 29.5,
            "count": 0
           },
           {
            "bin_end": 44.5,
            "bin_start": 37,
            "count": 0
           },
           {
            "bin_end": 52,
            "bin_start": 44.5,
            "count": 0
           },
           {
            "bin_end": 59.5,
            "bin_start": 52,
            "count": 0
           },
           {
            "bin_end": 67,
            "bin_start": 59.5,
            "count": 0
           },
           {
            "bin_end": 74.5,
            "bin_start": 67,
            "count": 0
           },
           {
            "bin_end": 82,
            "bin_start": 74.5,
            "count": 1
           }
          ],
          "max": "82",
          "min": "7",
          "nan_count": 0,
          "unique_count": 5
         }
        },
        {
         "dtype": "int64",
         "name": "number_of_reviews_l30d",
         "stats": {
          "histogram": [
           {
            "bin_end": 0.4,
            "bin_start": 0,
            "count": 1
           },
           {
            "bin_end": 0.8,
            "bin_start": 0.4,
            "count": 0
           },
           {
            "bin_end": 1.2000000000000002,
            "bin_start": 0.8,
            "count": 1
           },
           {
            "bin_end": 1.6,
            "bin_start": 1.2000000000000002,
            "count": 0
           },
           {
            "bin_end": 2,
            "bin_start": 1.6,
            "count": 0
           },
           {
            "bin_end": 2.4000000000000004,
            "bin_start": 2,
            "count": 0
           },
           {
            "bin_end": 2.8000000000000003,
            "bin_start": 2.4000000000000004,
            "count": 0
           },
           {
            "bin_end": 3.2,
            "bin_start": 2.8000000000000003,
            "count": 2
           },
           {
            "bin_end": 3.6,
            "bin_start": 3.2,
            "count": 0
           },
           {
            "bin_end": 4,
            "bin_start": 3.6,
            "count": 1
           }
          ],
          "max": "4",
          "min": "0",
          "nan_count": 0,
          "unique_count": 4
         }
        },
        {
         "dtype": "datetime64[ns]",
         "name": "first_review",
         "stats": {
          "histogram": [
           {
            "bin_end": 1508544000000000000,
            "bin_start": 1492300800000000000,
            "count": 1
           },
           {
            "bin_end": 1524787200000000000,
            "bin_start": 1508544000000000000,
            "count": 0
           },
           {
            "bin_end": 1541030400000000000,
            "bin_start": 1524787200000000000,
            "count": 0
           },
           {
            "bin_end": 1557273600000000000,
            "bin_start": 1541030400000000000,
            "count": 0
           },
           {
            "bin_end": 1573516800000000000,
            "bin_start": 1557273600000000000,
            "count": 0
           },
           {
            "bin_end": 1589760000000000000,
            "bin_start": 1573516800000000000,
            "count": 0
           },
           {
            "bin_end": 1606003200000000000,
            "bin_start": 1589760000000000000,
            "count": 0
           },
           {
            "bin_end": 1622246400000000000,
            "bin_start": 1606003200000000000,
            "count": 2
           },
           {
            "bin_end": 1638489600000000000,
            "bin_start": 1622246400000000000,
            "count": 1
           },
           {
            "bin_end": 1654732800000000000,
            "bin_start": 1638489600000000000,
            "count": 1
           }
          ],
          "max": "2022-06-09 00:00:00",
          "min": "2017-04-16 00:00:00",
          "nan_count": 0,
          "unique_count": 5
         }
        },
        {
         "dtype": "datetime64[ns]",
         "name": "last_review",
         "stats": {
          "histogram": [
           {
            "bin_end": 1662638400000000000,
            "bin_start": 1661644800000000000,
            "count": 1
           },
           {
            "bin_end": 1663632000000000000,
            "bin_start": 1662638400000000000,
            "count": 0
           },
           {
            "bin_end": 1664625600000000000,
            "bin_start": 1663632000000000000,
            "count": 0
           },
           {
            "bin_end": 1665619200000000000,
            "bin_start": 1664625600000000000,
            "count": 0
           },
           {
            "bin_end": 1666612800000000000,
            "bin_start": 1665619200000000000,
            "count": 0
           },
           {
            "bin_end": 1667606400000000000,
            "bin_start": 1666612800000000000,
            "count": 0
           },
           {
            "bin_end": 1668600000000000000,
            "bin_start": 1667606400000000000,
            "count": 0
           },
           {
            "bin_end": 1669593600000000000,
            "bin_start": 1668600000000000000,
            "count": 0
           },
           {
            "bin_end": 1670587200000000000,
            "bin_start": 1669593600000000000,
            "count": 1
           },
           {
            "bin_end": 1671580800000000000,
            "bin_start": 1670587200000000000,
            "count": 3
           }
          ],
          "max": "2022-12-21 00:00:00",
          "min": "2022-08-28 00:00:00",
          "nan_count": 0,
          "unique_count": 4
         }
        },
        {
         "dtype": "float64",
         "name": "review_scores_rating",
         "stats": {
          "histogram": [
           {
            "bin_end": 4.765000000000001,
            "bin_start": 4.74,
            "count": 1
           },
           {
            "bin_end": 4.79,
            "bin_start": 4.765000000000001,
            "count": 0
           },
           {
            "bin_end": 4.815,
            "bin_start": 4.79,
            "count": 0
           },
           {
            "bin_end": 4.84,
            "bin_start": 4.815,
            "count": 1
           },
           {
            "bin_end": 4.865,
            "bin_start": 4.84,
            "count": 0
           },
           {
            "bin_end": 4.890000000000001,
            "bin_start": 4.865,
            "count": 1
           },
           {
            "bin_end": 4.915,
            "bin_start": 4.890000000000001,
            "count": 0
           },
           {
            "bin_end": 4.94,
            "bin_start": 4.915,
            "count": 0
           },
           {
            "bin_end": 4.965,
            "bin_start": 4.94,
            "count": 1
           },
           {
            "bin_end": 4.99,
            "bin_start": 4.965,
            "count": 1
           }
          ],
          "max": "4.99",
          "min": "4.74",
          "nan_count": 0,
          "unique_count": 5
         }
        },
        {
         "dtype": "float64",
         "name": "review_scores_accuracy",
         "stats": {
          "histogram": [
           {
            "bin_end": 4.7829999999999995,
            "bin_start": 4.76,
            "count": 1
           },
           {
            "bin_end": 4.806,
            "bin_start": 4.7829999999999995,
            "count": 0
           },
           {
            "bin_end": 4.829,
            "bin_start": 4.806,
            "count": 0
           },
           {
            "bin_end": 4.852,
            "bin_start": 4.829,
            "count": 0
           },
           {
            "bin_end": 4.875,
            "bin_start": 4.852,
            "count": 0
           },
           {
            "bin_end": 4.898,
            "bin_start": 4.875,
            "count": 1
           },
           {
            "bin_end": 4.921,
            "bin_start": 4.898,
            "count": 0
           },
           {
            "bin_end": 4.944,
            "bin_start": 4.921,
            "count": 0
           },
           {
            "bin_end": 4.9670000000000005,
            "bin_start": 4.944,
            "count": 2
           },
           {
            "bin_end": 4.99,
            "bin_start": 4.9670000000000005,
            "count": 1
           }
          ],
          "max": "4.99",
          "min": "4.76",
          "nan_count": 0,
          "unique_count": 4
         }
        },
        {
         "dtype": "float64",
         "name": "review_scores_cleanliness",
         "stats": {
          "histogram": [
           {
            "bin_end": 4.838,
            "bin_start": 4.82,
            "count": 1
           },
           {
            "bin_end": 4.856,
            "bin_start": 4.838,
            "count": 0
           },
           {
            "bin_end": 4.8740000000000006,
            "bin_start": 4.856,
            "count": 0
           },
           {
            "bin_end": 4.892,
            "bin_start": 4.8740000000000006,
            "count": 1
           },
           {
            "bin_end": 4.91,
            "bin_start": 4.892,
            "count": 0
           },
           {
            "bin_end": 4.928,
            "bin_start": 4.91,
            "count": 1
           },
           {
            "bin_end": 4.946,
            "bin_start": 4.928,
            "count": 1
           },
           {
            "bin_end": 4.964,
            "bin_start": 4.946,
            "count": 0
           },
           {
            "bin_end": 4.982,
            "bin_start": 4.964,
            "count": 0
           },
           {
            "bin_end": 5,
            "bin_start": 4.982,
            "count": 1
           }
          ],
          "max": "5.0",
          "min": "4.82",
          "nan_count": 0,
          "unique_count": 5
         }
        },
        {
         "dtype": "float64",
         "name": "review_scores_checkin",
         "stats": {
          "histogram": [
           {
            "bin_end": 4.8919999999999995,
            "bin_start": 4.88,
            "count": 2
           },
           {
            "bin_end": 4.904,
            "bin_start": 4.8919999999999995,
            "count": 0
           },
           {
            "bin_end": 4.916,
            "bin_start": 4.904,
            "count": 0
           },
           {
            "bin_end": 4.928,
            "bin_start": 4.916,
            "count": 0
           },
           {
            "bin_end": 4.9399999999999995,
            "bin_start": 4.928,
            "count": 1
           },
           {
            "bin_end": 4.952,
            "bin_start": 4.9399999999999995,
            "count": 0
           },
           {
            "bin_end": 4.964,
            "bin_start": 4.952,
            "count": 0
           },
           {
            "bin_end": 4.976,
            "bin_start": 4.964,
            "count": 0
           },
           {
            "bin_end": 4.9879999999999995,
            "bin_start": 4.976,
            "count": 0
           },
           {
            "bin_end": 5,
            "bin_start": 4.9879999999999995,
            "count": 2
           }
          ],
          "max": "5.0",
          "min": "4.88",
          "nan_count": 0,
          "unique_count": 5
         }
        },
        {
         "dtype": "float64",
         "name": "review_scores_communication",
         "stats": {
          "histogram": [
           {
            "bin_end": 4.739,
            "bin_start": 4.71,
            "count": 1
           },
           {
            "bin_end": 4.768,
            "bin_start": 4.739,
            "count": 0
           },
           {
            "bin_end": 4.797,
            "bin_start": 4.768,
            "count": 0
           },
           {
            "bin_end": 4.826,
            "bin_start": 4.797,
            "count": 0
           },
           {
            "bin_end": 4.855,
            "bin_start": 4.826,
            "count": 0
           },
           {
            "bin_end": 4.884,
            "bin_start": 4.855,
            "count": 0
           },
           {
            "bin_end": 4.913,
            "bin_start": 4.884,
            "count": 1
           },
           {
            "bin_end": 4.942,
            "bin_start": 4.913,
            "count": 0
           },
           {
            "bin_end": 4.971,
            "bin_start": 4.942,
            "count": 1
           },
           {
            "bin_end": 5,
            "bin_start": 4.971,
            "count": 2
           }
          ],
          "max": "5.0",
          "min": "4.71",
          "nan_count": 0,
          "unique_count": 5
         }
        },
        {
         "dtype": "float64",
         "name": "review_scores_location",
         "stats": {
          "histogram": [
           {
            "bin_end": 4.648000000000001,
            "bin_start": 4.61,
            "count": 1
           },
           {
            "bin_end": 4.686,
            "bin_start": 4.648000000000001,
            "count": 0
           },
           {
            "bin_end": 4.724,
            "bin_start": 4.686,
            "count": 0
           },
           {
            "bin_end": 4.7620000000000005,
            "bin_start": 4.724,
            "count": 0
           },
           {
            "bin_end": 4.800000000000001,
            "bin_start": 4.7620000000000005,
            "count": 0
           },
           {
            "bin_end": 4.838,
            "bin_start": 4.800000000000001,
            "count": 0
           },
           {
            "bin_end": 4.876,
            "bin_start": 4.838,
            "count": 0
           },
           {
            "bin_end": 4.914000000000001,
            "bin_start": 4.876,
            "count": 0
           },
           {
            "bin_end": 4.952,
            "bin_start": 4.914000000000001,
            "count": 2
           },
           {
            "bin_end": 4.99,
            "bin_start": 4.952,
            "count": 2
           }
          ],
          "max": "4.99",
          "min": "4.61",
          "nan_count": 0,
          "unique_count": 5
         }
        },
        {
         "dtype": "float64",
         "name": "review_scores_value",
         "stats": {
          "histogram": [
           {
            "bin_end": 4.679,
            "bin_start": 4.65,
            "count": 1
           },
           {
            "bin_end": 4.708,
            "bin_start": 4.679,
            "count": 0
           },
           {
            "bin_end": 4.737,
            "bin_start": 4.708,
            "count": 1
           },
           {
            "bin_end": 4.766,
            "bin_start": 4.737,
            "count": 0
           },
           {
            "bin_end": 4.795,
            "bin_start": 4.766,
            "count": 0
           },
           {
            "bin_end": 4.824000000000001,
            "bin_start": 4.795,
            "count": 0
           },
           {
            "bin_end": 4.853000000000001,
            "bin_start": 4.824000000000001,
            "count": 0
           },
           {
            "bin_end": 4.882000000000001,
            "bin_start": 4.853000000000001,
            "count": 0
           },
           {
            "bin_end": 4.9110000000000005,
            "bin_start": 4.882000000000001,
            "count": 1
           },
           {
            "bin_end": 4.94,
            "bin_start": 4.9110000000000005,
            "count": 2
           }
          ],
          "max": "4.94",
          "min": "4.65",
          "nan_count": 0,
          "unique_count": 5
         }
        },
        {
         "dtype": "int64",
         "name": "has_license",
         "stats": {
          "histogram": [
           {
            "bin_end": 0.6,
            "bin_start": 0.5,
            "count": 0
           },
           {
            "bin_end": 0.7,
            "bin_start": 0.6,
            "count": 0
           },
           {
            "bin_end": 0.8,
            "bin_start": 0.7,
            "count": 0
           },
           {
            "bin_end": 0.9,
            "bin_start": 0.8,
            "count": 0
           },
           {
            "bin_end": 1,
            "bin_start": 0.9,
            "count": 0
           },
           {
            "bin_end": 1.1,
            "bin_start": 1,
            "count": 5
           },
           {
            "bin_end": 1.2000000000000002,
            "bin_start": 1.1,
            "count": 0
           },
           {
            "bin_end": 1.3,
            "bin_start": 1.2000000000000002,
            "count": 0
           },
           {
            "bin_end": 1.4,
            "bin_start": 1.3,
            "count": 0
           },
           {
            "bin_end": 1.5,
            "bin_start": 1.4,
            "count": 0
           }
          ],
          "max": "1",
          "min": "1",
          "nan_count": 0,
          "unique_count": 1
         }
        },
        {
         "dtype": "int64",
         "name": "instant_bookable",
         "stats": {
          "histogram": [
           {
            "bin_end": 0.1,
            "bin_start": 0,
            "count": 3
           },
           {
            "bin_end": 0.2,
            "bin_start": 0.1,
            "count": 0
           },
           {
            "bin_end": 0.30000000000000004,
            "bin_start": 0.2,
            "count": 0
           },
           {
            "bin_end": 0.4,
            "bin_start": 0.30000000000000004,
            "count": 0
           },
           {
            "bin_end": 0.5,
            "bin_start": 0.4,
            "count": 0
           },
           {
            "bin_end": 0.6000000000000001,
            "bin_start": 0.5,
            "count": 0
           },
           {
            "bin_end": 0.7000000000000001,
            "bin_start": 0.6000000000000001,
            "count": 0
           },
           {
            "bin_end": 0.8,
            "bin_start": 0.7000000000000001,
            "count": 0
           },
           {
            "bin_end": 0.9,
            "bin_start": 0.8,
            "count": 0
           },
           {
            "bin_end": 1,
            "bin_start": 0.9,
            "count": 2
           }
          ],
          "max": "1",
          "min": "0",
          "nan_count": 0,
          "unique_count": 2
         }
        },
        {
         "dtype": "int64",
         "name": "calculated_host_listings_count",
         "stats": {
          "histogram": [
           {
            "bin_end": 3.6,
            "bin_start": 1,
            "count": 4
           },
           {
            "bin_end": 6.2,
            "bin_start": 3.6,
            "count": 0
           },
           {
            "bin_end": 8.8,
            "bin_start": 6.2,
            "count": 0
           },
           {
            "bin_end": 11.4,
            "bin_start": 8.8,
            "count": 0
           },
           {
            "bin_end": 14,
            "bin_start": 11.4,
            "count": 0
           },
           {
            "bin_end": 16.6,
            "bin_start": 14,
            "count": 0
           },
           {
            "bin_end": 19.2,
            "bin_start": 16.6,
            "count": 0
           },
           {
            "bin_end": 21.8,
            "bin_start": 19.2,
            "count": 0
           },
           {
            "bin_end": 24.400000000000002,
            "bin_start": 21.8,
            "count": 0
           },
           {
            "bin_end": 27,
            "bin_start": 24.400000000000002,
            "count": 1
           }
          ],
          "max": "27",
          "min": "1",
          "nan_count": 0,
          "unique_count": 3
         }
        },
        {
         "dtype": "int64",
         "name": "calculated_host_listings_count_entire_homes",
         "stats": {
          "histogram": [
           {
            "bin_end": 3.6,
            "bin_start": 1,
            "count": 4
           },
           {
            "bin_end": 6.2,
            "bin_start": 3.6,
            "count": 0
           },
           {
            "bin_end": 8.8,
            "bin_start": 6.2,
            "count": 0
           },
           {
            "bin_end": 11.4,
            "bin_start": 8.8,
            "count": 0
           },
           {
            "bin_end": 14,
            "bin_start": 11.4,
            "count": 0
           },
           {
            "bin_end": 16.6,
            "bin_start": 14,
            "count": 0
           },
           {
            "bin_end": 19.2,
            "bin_start": 16.6,
            "count": 0
           },
           {
            "bin_end": 21.8,
            "bin_start": 19.2,
            "count": 0
           },
           {
            "bin_end": 24.400000000000002,
            "bin_start": 21.8,
            "count": 0
           },
           {
            "bin_end": 27,
            "bin_start": 24.400000000000002,
            "count": 1
           }
          ],
          "max": "27",
          "min": "1",
          "nan_count": 0,
          "unique_count": 3
         }
        },
        {
         "dtype": "int64",
         "name": "calculated_host_listings_count_private_rooms",
         "stats": {
          "histogram": [
           {
            "bin_end": -0.4,
            "bin_start": -0.5,
            "count": 0
           },
           {
            "bin_end": -0.3,
            "bin_start": -0.4,
            "count": 0
           },
           {
            "bin_end": -0.19999999999999996,
            "bin_start": -0.3,
            "count": 0
           },
           {
            "bin_end": -0.09999999999999998,
            "bin_start": -0.19999999999999996,
            "count": 0
           },
           {
            "bin_end": 0,
            "bin_start": -0.09999999999999998,
            "count": 0
           },
           {
            "bin_end": 0.10000000000000009,
            "bin_start": 0,
            "count": 5
           },
           {
            "bin_end": 0.20000000000000007,
            "bin_start": 0.10000000000000009,
            "count": 0
           },
           {
            "bin_end": 0.30000000000000004,
            "bin_start": 0.20000000000000007,
            "count": 0
           },
           {
            "bin_end": 0.4,
            "bin_start": 0.30000000000000004,
            "count": 0
           },
           {
            "bin_end": 0.5,
            "bin_start": 0.4,
            "count": 0
           }
          ],
          "max": "0",
          "min": "0",
          "nan_count": 0,
          "unique_count": 1
         }
        },
        {
         "dtype": "int64",
         "name": "calculated_host_listings_count_shared_rooms",
         "stats": {
          "histogram": [
           {
            "bin_end": -0.4,
            "bin_start": -0.5,
            "count": 0
           },
           {
            "bin_end": -0.3,
            "bin_start": -0.4,
            "count": 0
           },
           {
            "bin_end": -0.19999999999999996,
            "bin_start": -0.3,
            "count": 0
           },
           {
            "bin_end": -0.09999999999999998,
            "bin_start": -0.19999999999999996,
            "count": 0
           },
           {
            "bin_end": 0,
            "bin_start": -0.09999999999999998,
            "count": 0
           },
           {
            "bin_end": 0.10000000000000009,
            "bin_start": 0,
            "count": 5
           },
           {
            "bin_end": 0.20000000000000007,
            "bin_start": 0.10000000000000009,
            "count": 0
           },
           {
            "bin_end": 0.30000000000000004,
            "bin_start": 0.20000000000000007,
            "count": 0
           },
           {
            "bin_end": 0.4,
            "bin_start": 0.30000000000000004,
            "count": 0
           },
           {
            "bin_end": 0.5,
            "bin_start": 0.4,
            "count": 0
           }
          ],
          "max": "0",
          "min": "0",
          "nan_count": 0,
          "unique_count": 1
         }
        },
        {
         "dtype": "float64",
         "name": "reviews_per_month",
         "stats": {
          "histogram": [
           {
            "bin_end": 1.6760000000000002,
            "bin_start": 0.98,
            "count": 3
           },
           {
            "bin_end": 2.372,
            "bin_start": 1.6760000000000002,
            "count": 0
           },
           {
            "bin_end": 3.068,
            "bin_start": 2.372,
            "count": 0
           },
           {
            "bin_end": 3.7640000000000002,
            "bin_start": 3.068,
            "count": 0
           },
           {
            "bin_end": 4.460000000000001,
            "bin_start": 3.7640000000000002,
            "count": 1
           },
           {
            "bin_end": 5.156000000000001,
            "bin_start": 4.460000000000001,
            "count": 0
           },
           {
            "bin_end": 5.852,
            "bin_start": 5.156000000000001,
            "count": 0
           },
           {
            "bin_end": 6.548,
            "bin_start": 5.852,
            "count": 0
           },
           {
            "bin_end": 7.244,
            "bin_start": 6.548,
            "count": 0
           },
           {
            "bin_end": 7.94,
            "bin_start": 7.244,
            "count": 1
           }
          ],
          "max": "7.94",
          "min": "0.98",
          "nan_count": 0,
          "unique_count": 5
         }
        },
        {
         "dtype": "float64",
         "name": "bathrooms_count",
         "stats": {
          "histogram": [
           {
            "bin_end": 1.1,
            "bin_start": 1,
            "count": 3
           },
           {
            "bin_end": 1.2,
            "bin_start": 1.1,
            "count": 0
           },
           {
            "bin_end": 1.3,
            "bin_start": 1.2,
            "count": 0
           },
           {
            "bin_end": 1.4,
            "bin_start": 1.3,
            "count": 0
           },
           {
            "bin_end": 1.5,
            "bin_start": 1.4,
            "count": 0
           },
           {
            "bin_end": 1.6,
            "bin_start": 1.5,
            "count": 0
           },
           {
            "bin_end": 1.7000000000000002,
            "bin_start": 1.6,
            "count": 0
           },
           {
            "bin_end": 1.8,
            "bin_start": 1.7000000000000002,
            "count": 0
           },
           {
            "bin_end": 1.9,
            "bin_start": 1.8,
            "count": 0
           },
           {
            "bin_end": 2,
            "bin_start": 1.9,
            "count": 2
           }
          ],
          "max": "2.0",
          "min": "1.0",
          "nan_count": 0,
          "unique_count": 2
         }
        },
        {
         "dtype": "int64",
         "name": "amenities_count",
         "stats": {
          "histogram": [
           {
            "bin_end": 34.3,
            "bin_start": 32,
            "count": 1
           },
           {
            "bin_end": 36.6,
            "bin_start": 34.3,
            "count": 0
           },
           {
            "bin_end": 38.9,
            "bin_start": 36.6,
            "count": 0
           },
           {
            "bin_end": 41.2,
            "bin_start": 38.9,
            "count": 1
           },
           {
            "bin_end": 43.5,
            "bin_start": 41.2,
            "count": 0
           },
           {
            "bin_end": 45.8,
            "bin_start": 43.5,
            "count": 0
           },
           {
            "bin_end": 48.099999999999994,
            "bin_start": 45.8,
            "count": 1
           },
           {
            "bin_end": 50.4,
            "bin_start": 48.099999999999994,
            "count": 0
           },
           {
            "bin_end": 52.7,
            "bin_start": 50.4,
            "count": 0
           },
           {
            "bin_end": 55,
            "bin_start": 52.7,
            "count": 2
           }
          ],
          "max": "55",
          "min": "32",
          "nan_count": 0,
          "unique_count": 5
         }
        },
        {
         "dtype": "int64",
         "name": "host_response_time_encoded",
         "stats": {
          "histogram": [
           {
            "bin_end": 0.6,
            "bin_start": 0.5,
            "count": 0
           },
           {
            "bin_end": 0.7,
            "bin_start": 0.6,
            "count": 0
           },
           {
            "bin_end": 0.8,
            "bin_start": 0.7,
            "count": 0
           },
           {
            "bin_end": 0.9,
            "bin_start": 0.8,
            "count": 0
           },
           {
            "bin_end": 1,
            "bin_start": 0.9,
            "count": 0
           },
           {
            "bin_end": 1.1,
            "bin_start": 1,
            "count": 5
           },
           {
            "bin_end": 1.2000000000000002,
            "bin_start": 1.1,
            "count": 0
           },
           {
            "bin_end": 1.3,
            "bin_start": 1.2000000000000002,
            "count": 0
           },
           {
            "bin_end": 1.4,
            "bin_start": 1.3,
            "count": 0
           },
           {
            "bin_end": 1.5,
            "bin_start": 1.4,
            "count": 0
           }
          ],
          "max": "1",
          "min": "1",
          "nan_count": 0,
          "unique_count": 1
         }
        },
        {
         "dtype": "int64",
         "name": "host_operate_years",
         "stats": {
          "histogram": [
           {
            "bin_end": 4.6,
            "bin_start": 4,
            "count": 1
           },
           {
            "bin_end": 5.2,
            "bin_start": 4.6,
            "count": 1
           },
           {
            "bin_end": 5.8,
            "bin_start": 5.2,
            "count": 0
           },
           {
            "bin_end": 6.4,
            "bin_start": 5.8,
            "count": 0
           },
           {
            "bin_end": 7,
            "bin_start": 6.4,
            "count": 0
           },
           {
            "bin_end": 7.6,
            "bin_start": 7,
            "count": 1
           },
           {
            "bin_end": 8.2,
            "bin_start": 7.6,
            "count": 0
           },
           {
            "bin_end": 8.8,
            "bin_start": 8.2,
            "count": 0
           },
           {
            "bin_end": 9.399999999999999,
            "bin_start": 8.8,
            "count": 1
           },
           {
            "bin_end": 10,
            "bin_start": 9.399999999999999,
            "count": 1
           }
          ],
          "max": "10",
          "min": "4",
          "nan_count": 0,
          "unique_count": 5
         }
        },
        {
         "dtype": "object",
         "name": "comments",
         "stats": {
          "categories": [
           {
            "count": 1,
            "name": "Unexpectedly the place was like new home since it got recently refreshed. Xiao was very reponsive and easy to communicate with. We really enjoyed this compy home and proximity to downtown Seattle. Thanks Xiao! Excellent home, great communication from start to finish , nice location - surely recommend! We enjoyed our trip thoroughly. All amenities listed were in great working order. The flow of the house was splendid and the outdoor space was amazing. Even with two kids, there was ample room. It was easy taking up the hosts and they gave us all the information very quickly after booking. Great hosts, great house, great location! Xiao's place is a great house for groups to stay in the Seattle area. It is situated just off of the south side of lake Washington with a very nice creek running right through the property. Just a few steps away is a delicious pizza restaurant and a nice forested park for hiking. Traffic is very minimal in the area and creates virtually no noise. There is also access to a freeway that goes north to Seattle and a light rail station, with free parking, only a few miles from the location. This house was clean, spacious, and secure. Check-in instructions were great and host was quick to respond to messages. Would have given a 5 star review but we thought the beds were uncomfortable, we had to buy some kitchen basics in order to prepare meals, and we did not see any ducks during our stay. Beautiful home close to Lake Washington.  My family and I had a wonderful time walking the nearby trail and grabbing a bite at the local pizzeria.  <br/><br/>Xiao was very attentive to the couple of needs we had during our stay.  We would definitely stay here again! Oh where do I start! From the moment you pull up to the home, you'll find a very large driveway with a yard that has a really cool creek! the sound of the water is so relaxing. Entrance to the home was easy as Xiao's communication was very thorough. This is such a beautiful, and cozy home. Very thoughtful touches were added to make our stay as relaxing as possible.  Very spacious indoor AND outdoor area. Everything we needed was here. and the area / town is beautiful as well. THANK YOU FOR A WONDERFUL STAY!!! The property was true to its listing. It can accommodate a larger party, the home was clean and comfortable. A bit farther from the central city, but about 20 min away. Clean, roomy house in South Seattle. We were in town for our daughters wedding in Ranier Beach, and it was great. Nice little walking path just up the road, too. Amazing home & an incredibly communicative and accommodating host! If I were to choose a place to recommend for anyone that will be traveling to Seattle, and wants to experience what the PNW has to offer, Xiao’s Airbnb would be the first that comes to mind. <br/><br/>From the picturesque surroundings, to how clean & well stocked the house is, there’s nothing bad I could say about the home at all. It is also incredibly spacious. The house is also conveniently located to a number of convenient stores, as well as a local bakery called Umami Kushi that serves up excellent beignets and stuffed baked goods.<br/><br/>Xiao was also quick to respond to any questions that I had, and was thorough and concise with her communication. Our check-in was smooth and there wasn’t any hiccups along the way. We enjoyed a perfect stay at this private home in south Seattle. The perfect home base for us visiting friends and family. We appreciated the home's security and bathroom/shower updates. Host communication was excellent. Really an enjoyable stay within an easy drive to everywhere we needed to go. Plus pizza and Kubota garden. We had a great stay in this house. The playground and pizza place nearby were convenient, and the stream running through the front yard was beautiful.  Would absolutely stay there again. We were able to get into this house on short notice after another one fell through. Nice place, true to pictures and clean. Really liked walking up the street to the park and walking up the valley in the snow. Kids were able to sled in the park behind the house. Fun to watch the family get out of the car and look up at the trees, not realizing it was the creek they were hearing and not the wind. this was a wonderful home. very spacious with a clawfoot bathtub and open fully stocked kitchen and private creek. Our team of 4 got thier own room and bed.<br/><br/>the neighbohood is quiet and very family friendly. getting from renton area to downtown is a 14 min drive but there are plenty of shops in the area to visit.<br/><br/>the gate to enter the property isnt automated so if you have a car some one has to get out to manually unlock the gate. Clean and nice decorated house with everything we needed for the trip.   Host responded quickly to an unexpected issue.    Really enjoyed our stay. Very nice. Just what we wanted and asked for. 100/10 on our experience with Xiao. Responds quickly to questions and the whole experience was as painless as she could make it. The home itself was nice & cozy and equipped with the essentials you would need during your stay. It was perfect for our family of 7 and a safe enough space for kids to roam and explore within the house."
           },
           {
            "count": 1,
            "name": "The house is so comfortable and clean. It has everything you need and makes you feel like home. I like the one floor house compared some 3 floor townhouse it’s easy for everything. Ryan is very helpful with all questions and service. Great experience here. Our family had a wonderful stay at Ryan’s place. Check-in was easy; location was great with quick access to highway; house was beautiful and well stocked; great neighborhood with restaurants nearby. The location was great as it was close to downtown and easily accessible by car or bus. It is recently remodeled with new furnishings and very spacious and clean. Ryan was also very responsive to our questions and was a great host. Would definitely recommend! Ryan’s place was wonderful. Roomy, clean, and in a fun neighborhood. Our kids loved walking to Oxbow park (for the giant hat and boots), and we were only a short walk to downtown Georgetown!<br/><br/>I wholeheartedly recommend! Wow! This place is extraordinarily clean and well appointed. Great modern amenities, great neighborhood. The beds were comfortable, the kitchen and bathrooms looked newly remodeled. Would definitely stay here again when in Seattle! Really lovely house and feels like a miracle to find a true three bedroom. Stayed for a week with two co-workers for required work meetings. House is awesomely convenient to I-5, Marginal Way and 99 as well as restaurants and things to do in Georgetown (most are walk-able!). Incredibly clean and larger than expected, there was plenty of room for all of us to spend time together... or apart. Beautiful kitchen and laundry room. Quiet and secure. Look forward to our next stay. Ryan is an attentive and thoughtful host. Thank you! Great spot! Cute place - easy to get to and close to downtown! Nice house is a great location. Would recommend. this is a lovely homey home in a very charming part of town.  with a walking adventure in every direction  😀 We enjoyed staying at Ryan’s house in Georgetown. The house is remodeled and modern mixed with a little bit of rustic charm as described. Lots of room for a family with everyone on one story. Two good bathrooms one with a nice tub. The location is good for getting to the airport or Seward park, downtown on I-5 or getting out to the beach without staying at the beach.  There is some airport noise but that is common in many places in Seattle. Proximity to The Museum of Flight is a bonus, I was able to start the day with my toddler and then send her home for a nap while i continued exploring the planes! I felt secure and happy here for 3 nights with my family. Great location, clean, and charming. Our family was staying at Ryan's place as we attended a wedding in Seattle. This was my parents first time staying at an Airbnb, and they absolutely loved it! Plenty of space to sleep, eat, and hangout. We enjoyed our stay very much. Great stay, freshly renovated and well equipped house! Great location for what we needed and Ryan is VERY responsive. Probably the easiest check-in and check-out procedure I’ve ever had for a bnb unit. And the House was great, too. Ryan’s place is very clean, beautifully updated and nicely appointed with everything you might need. Beds are comfortable & linens are great. We appreciated the big luxurious bath towels!! Plenty of the basics:paper towels,TP, garbage bags, etc which a lot of rentals skimp on. Nice neighborhood, sweet front porch & fabulous fenced outdoor area with table & chairs. We had one small issue with having very few drinking glasses but as soon as Ryan was made aware he dropped off an entire set! <br/>The house is great & Ryan is an excellent host. We recommend this little gem! Nice spot near downtown. Great if you there as a business traveler Our family enjoyed our stay at this location.  Very clean and close walking distance to restaurants and coffee shops. Comfortable beds and cozy outside patio. Easy access to airport and downtown Seattle.  Would look to use again when we return to Seattle in the future. Hello from our Indiana travel tribe.. We enjoyed Ryan’s place so much.  Extremely clean, spacious yet private feeling.  The house was so comfortable, we didn’t want to leave.  Great location between Seattle and The Airport.  The bedrooms were  a great size with comfortable beds and bedding.  We will definitely try to stay next time we visit the area. This is really a gem of a place to stay… hope you all try it out. Beautiful, well appointed home. Charming neighborhood with llvely gardens and an amazing nakery a couple blocks away. Ryan was very quick to respond when we messaged him with some questions, and his response was super helpful. Ill definitely look for an opportunity to go back! A quick-to-respond host and a beautifully renovated and spacious craftsman house with cozy beds made for an excellent stay during our trip down south. The kitchen was equipped with brand new appliances and condiments, and the beds were all comfortable to sleep in. We enjoyed the outdoor space well as the indoor space. We loved the proximity to our targeted tourist sites, and appreciated the quiet neighborhood the house is situated in. The kids found it fun to hear the planes as they came into landing and take off from the nearby airport. We have bookmarked Ryan’s place for future Seattle trips! Lovely house, clean and well taken care of. Good location near freeway, restaurants and bars but in a quiet neighborhood with a cute park nearby. The whole family enjoyed it very much. Master bedroom door sticks slightly, in the way doors in older houses often do. I wouldn’t have noticed if I didn’t have a toddler I was worried about waking. Would recommend! This place was perfect! Clean, bright, with plenty of room for six guests. Super close to Georgetown in a beautiful neighbourhood. Highly recommend! We had a little mishap with our checkin but Ryan was great helping us resolve things and being very accommodating to our needs. The location is walkable to some great restaurants and breweries. We were there for business and had no issues with the wifi. Easy parking too. Ryan had a super cozy and clean home. It was perfect for my parents and grandparents. Very warm, comfortable beds, and a nice kitchen space. Only thing is you hear the planes overhead but still 5/5. Our family loved Ryan’s place.  It had all the amenities that made our stay extremely comfortable.  The location is perfect for sightseeing, eating and walking. We would rent Ryan’s house again.  Thank you for being a responsible and responsive host. My work colleague and I enjoyed our stay. We would be happy to stay there again. Close to job site, easy commute to down town Seattle, walking distance to local Mexican, Thai, Sushi restaurants. Ryan was very helpful - we arrived on an early flight and but we were able to drop our bags at the house before check in and once the cleaner was finished we were able to check in several hours early. The home was clean and comfortable. Would definitely stay here again!"
           },
           {
            "count": 3,
            "name": "3 others"
           }
          ],
          "nan_count": 0,
          "unique_count": 5
         }
        },
        {
         "dtype": "float64",
         "name": "polarity",
         "stats": {
          "histogram": [
           {
            "bin_end": 0.7946479617224879,
            "bin_start": 0.7807121212121211,
            "count": 1
           },
           {
            "bin_end": 0.8085838022328548,
            "bin_start": 0.7946479617224879,
            "count": 0
           },
           {
            "bin_end": 0.8225196427432215,
            "bin_start": 0.8085838022328548,
            "count": 1
           },
           {
            "bin_end": 0.8364554832535884,
            "bin_start": 0.8225196427432215,
            "count": 0
           },
           {
            "bin_end": 0.8503913237639552,
            "bin_start": 0.8364554832535884,
            "count": 0
           },
           {
            "bin_end": 0.864327164274322,
            "bin_start": 0.8503913237639552,
            "count": 0
           },
           {
            "bin_end": 0.8782630047846889,
            "bin_start": 0.864327164274322,
            "count": 0
           },
           {
            "bin_end": 0.8921988452950557,
            "bin_start": 0.8782630047846889,
            "count": 1
           },
           {
            "bin_end": 0.9061346858054226,
            "bin_start": 0.8921988452950557,
            "count": 0
           },
           {
            "bin_end": 0.9200705263157893,
            "bin_start": 0.9061346858054226,
            "count": 2
           }
          ],
          "max": "0.9200705263157893",
          "min": "0.7807121212121211",
          "nan_count": 0,
          "unique_count": 5
         }
        },
        {
         "dtype": "int64",
         "name": "_deepnote_index_column"
        }
       ],
       "row_count": 5,
       "rows": [
        {
         "_deepnote_index_column": "0",
         "accommodates": "8",
         "amenities": "[\"Hot water\", \"Dining table\", \"Toaster\", \"Refrigerator\", \"Bathtub\", \"Dishwasher\", \"Coffee maker: drip coffee maker\", \"Room-darkening shades\", \"Private entrance\", \"Dishes and silverware\", \"Washer\", \"Kitchen\", \"TV\", \"Body soap\", \"Indoor fireplace\", \"Private patio or balcony\", \"Free street parking\", \"Iron\", \"Hair dryer\", \"Microwave\", \"Cooking basics\", \"Oven\", \"Private backyard \\u2013 Fully fenced\", \"Pack \\u2019n play/Travel crib\", \"Keypad\", \"Stove\", \"Smoke alarm\", \"Dryer\", \"Essentials\", \"Wine glasses\", \"Self check-in\", \"Cleaning products\", \"Fire extinguisher\", \"High chair\", \"Heating\", \"Outdoor furniture\", \"Long term stays allowed\", \"Wifi\", \"Air conditioning\", \"Outdoor dining area\", \"BBQ grill\", \"First aid kit\", \"Hangers\", \"Extra pillows and blankets\", \"Shampoo\", \"Security cameras on property\", \"Carbon monoxide alarm\", \"Fire pit\", \"Dedicated workspace\", \"Lake view\", \"Bed linens\", \"Park view\", \"Free parking on premises\"]",
         "amenities_count": "53",
         "bathrooms_count": "2.0",
         "bedrooms": "4.0",
         "beds": "4.0",
         "calculated_host_listings_count": "1",
         "calculated_host_listings_count_entire_homes": "1",
         "calculated_host_listings_count_private_rooms": "0",
         "calculated_host_listings_count_shared_rooms": "0",
         "comments": "Unexpectedly the place was like new home since it got recently refreshed. Xiao was very reponsive and easy to communicate with. We really enjoyed this compy home and proximity to downtown Seattle. Thanks Xiao! Excellent home, great communication from start to finish , nice location - surely recommend! We enjoyed our trip thoroughly. All amenities listed were in great working order. The flow of the house was splendid and the outdoor space was amazing. Even with two kids, there was ample room. It was easy taking up the hosts and they gave us all the information very quickly after booking. Great hosts, great house, great location! Xiao's place is a great house for groups to stay in the Seattle area. It is situated just off of the south side of lake Washington with a very nice creek running right through the property. Just a few steps away is a delicious pizza restaurant and a nice forested park for hiking. Traffic is very minimal in the area and creates virtually no noise. There is also …",
         "description": "A Seattle vacation destination for those from out of town or a Staycation for those who live close by. We welcome you to this partial lake view gated family friendly home with 4 bedrooms, 2 bathrooms. A beautiful & serene creek flows through the front of the home. There is a fully functioning kitchen with appliances & utensils.  & laundry room. Only a few mins walk to Lakeridge playfield just behind the house! 15 min drive to SeaTac International Airport and 25 min drive to downtown Seattle.<br /><br /><b>The space</b><br />Smart lock for easy check in and Xfinity Home Security Alarm for your protection and peace of mind. There are a few steps leading into the home. There is one security camera at the house facing the front entrance and driveway. The front driveway can fit 6 cars.<br /><br />Bed Arrangements: <br /><br />Lower levels: 2 bedrooms, 1 bathroom<br />Room #1: One Queen bed (sleeps 2)<br />Room #4: One Queen bed (sleeps 2)<br /><br />Upper level: 2 bedrooms, 1 bathroom<br />",
         "first_review": "2021-06-22 00:00:00",
         "has_license": "1",
         "host_about": " ",
         "host_acceptance_rate": "1.0",
         "host_has_profile_pic": "1",
         "host_id": "188538325",
         "host_identity_verified": "1",
         "host_is_superhost": "1",
         "host_location": "Seattle, WA",
         "host_name": "Xiao",
         "host_neighbourhood": "Oakland",
         "host_operate_years": "4",
         "host_picture_url": "https://a0.muscache.com/im/pictures/user/32fd3116-b515-46d9-8048-d5773e1bac5a.jpg?aki_policy=profile_x_medium",
         "host_response_rate": "1.0",
         "host_response_time": "within an hour",
         "host_response_time_encoded": "1",
         "host_since": "2018-05-08 00:00:00",
         "host_url": "https://www.airbnb.com/users/show/188538325",
         "host_verifications": "['email', 'phone']",
         "instant_bookable": "0",
         "last_review": "2022-11-29 00:00:00",
         "last_scraped": "2022-12-24 00:00:00",
         "latitude": "47.51028",
         "listing_id": "49113826",
         "listing_name": "Private Seattle Getaway Home Near Lake Washington!",
         "listing_url": "https://www.airbnb.com/rooms/49113826",
         "longitude": "-122.24668",
         "maximum_nights": "30",
         "minimum_nights": "3",
         "neighborhood_overview": "SeaTac International Airport: 14 min drive<br /><br />Grocery Stores nearby:<br />- Safeway & Rite Aid: 5 min drive<br />- Walgreens: 6 min drive<br />- Walmart & Fred Meyer: 9 min drive<br />- Uwajimaya: 10 min drive<br /><br />Dining nearby:<br />- Pizzeria Pulcinella: 2 min walk<br />- Stonehouse Cafe: 10 min walk<br />- The Landing (popular outdoor retail & restaurant area): 10 min drive<br /><br />Activities nearby:<br />- Lakeridge Playground: 2 min walk<br />- Downtown Renton: 10 min drive<br />- Southcenter Mall (large shopping mall): 14 min drive<br />- Round 1 (arcade, bowling, pool) inside Southcenter: 14 min drive<br />- iFly (mock sky diving): 15 min drive<br />- Downtown Seattle & Pike Place Market: 25 min drive",
         "neighbourhood_cleansed": "Rainier View",
         "neighbourhood_group_cleansed": "Rainier Valley",
         "number_of_reviews": "18",
         "number_of_reviews_l30d": "1",
         "number_of_reviews_ltm": "7",
         "picture_url": "https://a0.muscache.com/pictures/miso/Hosting-49113826/original/29c08a31-b625-4e8f-bbc6-93e7994fef05.jpeg",
         "polarity": "0.8173647058823529",
         "price": "280.0",
         "property_type": "Entire home",
         "review_scores_accuracy": "4.89",
         "review_scores_checkin": "4.89",
         "review_scores_cleanliness": "4.94",
         "review_scores_communication": "4.89",
         "review_scores_location": "4.61",
         "review_scores_rating": "4.83",
         "review_scores_value": "4.72",
         "reviews_per_month": "0.98",
         "room_type": "Entire home/apt"
        },
        {
         "_deepnote_index_column": "1",
         "accommodates": "6",
         "amenities": "[\"Hot water\", \"Crib - available upon request\", \"Dining table\", \"Toaster\", \"Refrigerator\", \"Bathtub\", \"Dishwasher\", \"Hot water kettle\", \"Room-darkening shades\", \"Private entrance\", \"Dishes and silverware\", \"Conditioner\", \"Kitchen\", \"Body soap\", \"Private patio or balcony\", \"Free street parking\", \"Google Nest sound system\", \"Iron\", \"Hair dryer\", \"Microwave\", \"Cooking basics\", \"Oven\", \"Shared backyard \\u2013 Not fully fenced\", \"Pets allowed\", \"Keypad\", \"Free dryer \\u2013 In unit\", \"Stove\", \"Smoke alarm\", \"Wine glasses\", \"Essentials\", \"Pack \\u2019n play/Travel crib - available upon request\", \"Self check-in\", \"Cleaning products\", \"AC - split type ductless system\", \"Fire extinguisher\", \"Long term stays allowed\", \"Outdoor furniture\", \"Wifi\", \"Coffee\", \"Single level home\", \"Outdoor dining area\", \"Coffee maker: french press\", \"First aid kit\", \"65\\\" HDTV with standard cable\", \"Hangers\", \"Freezer\", \"Free washer \\u2013 In unit\", \"Extra pillows and blankets\", \"Shampoo\", \"Carbon monoxide alarm\", \"He…",
         "amenities_count": "55",
         "bathrooms_count": "2.0",
         "bedrooms": "3.0",
         "beds": "3.0",
         "calculated_host_listings_count": "2",
         "calculated_host_listings_count_entire_homes": "2",
         "calculated_host_listings_count_private_rooms": "0",
         "calculated_host_listings_count_shared_rooms": "0",
         "comments": "The house is so comfortable and clean. It has everything you need and makes you feel like home. I like the one floor house compared some 3 floor townhouse it’s easy for everything. Ryan is very helpful with all questions and service. Great experience here. Our family had a wonderful stay at Ryan’s place. Check-in was easy; location was great with quick access to highway; house was beautiful and well stocked; great neighborhood with restaurants nearby. The location was great as it was close to downtown and easily accessible by car or bus. It is recently remodeled with new furnishings and very spacious and clean. Ryan was also very responsive to our questions and was a great host. Would definitely recommend! Ryan’s place was wonderful. Roomy, clean, and in a fun neighborhood. Our kids loved walking to Oxbow park (for the giant hat and boots), and we were only a short walk to downtown Georgetown!<br/><br/>I wholeheartedly recommend! Wow! This place is extraordinarily clean and well appoi…",
         "description": "Enjoy your Seattle stay in the vibrant & artistic Georgetown neighborhood! Georgetown is truly one of the last artsy, funky neighborhoods left in Seattle - you will be a five minute walk from the many restaurants, bars, wine tasting rooms & more in the \"downtown\" Georgetown neighborhood. It's also kid friendly as you will see many families out and pushing strollers around.<br /><br />The neighborhood is located a few miles south of the downtown Seattle core.<br /><br /><b>The space</b><br />This is the top unit of a completely remodeled craftsman (if bottom unit is available you can rent the whole house and have 6 beds & 4 baths!)<br /><br />This unit has the classic craftsman feel, but it has been completely remodeled with some modern touches!<br /><br /><b>Guest access</b><br />Obviously you have access to the entire unit - there is a lower unit of the house that may be rented too, so you will need to be respectful of other guests. The front yard and side yards are also yours to enjo",
         "first_review": "2022-06-09 00:00:00",
         "has_license": "1",
         "host_about": " ",
         "host_acceptance_rate": "1.0",
         "host_has_profile_pic": "1",
         "host_id": "2144954",
         "host_identity_verified": "0",
         "host_is_superhost": "0",
         "host_location": "Seattle, WA",
         "host_name": "Ryan",
         "host_neighbourhood": "Greater Duwamish",
         "host_operate_years": "10",
         "host_picture_url": "https://a0.muscache.com/im/pictures/user/a671129c-f502-4968-85ef-7ef088d81ab3.jpg?aki_policy=profile_x_medium",
         "host_response_rate": "1.0",
         "host_response_time": "within an hour",
         "host_response_time_encoded": "1",
         "host_since": "2012-04-15 00:00:00",
         "host_url": "https://www.airbnb.com/users/show/2144954",
         "host_verifications": "['email', 'phone', 'work_email']",
         "instant_bookable": "1",
         "last_review": "2022-12-13 00:00:00",
         "last_scraped": "2022-12-24 00:00:00",
         "latitude": "47.544739",
         "listing_id": "7455832",
         "listing_name": "Classic remodeled in Georgetown",
         "listing_url": "https://www.airbnb.com/rooms/7455832",
         "longitude": "-122.319786",
         "maximum_nights": "150",
         "minimum_nights": "1",
         "neighborhood_overview": "Georgetown is a cool neighborhood about three miles south of Seattle. Formerly an industrial area filled with warehouses, Georgetown has gone from shabby to chic, from industrial to artsy. Today, the neighborhood is a great place to find trendy restaurants, breweries, and art galleries.",
         "neighbourhood_cleansed": "Georgetown",
         "neighbourhood_group_cleansed": "Other neighborhoods",
         "number_of_reviews": "27",
         "number_of_reviews_l30d": "3",
         "number_of_reviews_ltm": "27",
         "picture_url": "https://a0.muscache.com/pictures/miso/Hosting-7455832/original/87dcaee3-d543-440c-8cf0-19ac171d7200.jpeg",
         "polarity": "0.9136481481481482",
         "price": "156.0",
         "property_type": "Entire home",
         "review_scores_accuracy": "4.96",
         "review_scores_checkin": "4.93",
         "review_scores_cleanliness": "4.89",
         "review_scores_communication": "4.96",
         "review_scores_location": "4.93",
         "review_scores_rating": "4.89",
         "review_scores_value": "4.93",
         "reviews_per_month": "4.07",
         "room_type": "Entire home/apt"
        },
        {
         "_deepnote_index_column": "2",
         "accommodates": "2",
         "amenities": "[\"Hot water\", \"Toaster\", \"Refrigerator\", \"Mini fridge\", \"Private entrance\", \"Dishes and silverware\", \"Shower gel\", \"Kitchen\", \"Coffee maker\", \"Public or shared beach access\", \"Private patio or balcony\", \"Free street parking\", \"Hair dryer\", \"Microwave\", \"Keypad\", \"Free dryer \\u2013 In unit\", \"Smoke alarm\", \"Wine glasses\", \"Essentials\", \"Self check-in\", \"Fire extinguisher\", \"Heating\", \"Outdoor furniture\", \"Long term stays allowed\", \"Wifi\", \"Coffee\", \"Single level home\", \"First aid kit\", \"Garden view\", \"Hangers\", \"Freezer\", \"Free washer \\u2013 In unit\", \"TV with Amazon Prime Video, Hulu, Netflix\", \"Extra pillows and blankets\", \"Private backyard \\u2013 Not fully fenced\", \"Shampoo\", \"Security cameras on property\", \"Carbon monoxide alarm\", \"Bed linens\", \"Books and reading material\"]",
         "amenities_count": "40",
         "bathrooms_count": "1.0",
         "bedrooms": "1.0",
         "beds": "1.0",
         "calculated_host_listings_count": "1",
         "calculated_host_listings_count_entire_homes": "1",
         "calculated_host_listings_count_private_rooms": "0",
         "calculated_host_listings_count_shared_rooms": "0",
         "comments": "Kristin and Stuart’s cottage is the perfect vacation or staycation spot with the scenic Alki beach just blocks away. They have added so many thoughtful touches and the cottage has really anything you may need while staying away from home - modern appliances, full kitchen and laundry. Stuart responded quickly to my questions and easily accommodated my change of plans. Great value, amazing location. I needed a quiet retreat from home for a couple nights and Kristin and Stuart's place was PERFECT!  They thought of everything to make this small space functional, beautiful, comfortable and serene.  It was SO quiet, the main house is not attached and it is located in a quiet neighborhood.  Staying in quiet place was a priority for me and this more than satisfied.  They provided the basics needed for preparing simple meals and snacks. The location is also great.  It's only couple blocks to the water and Alki Beach district where you can find multiple good restaurants and walk along the walki…",
         "description": "Welcome to your private, quiet retreat, featuring a tiny footprint with luxe features in a garden setting. Only 1-block from Alki beach, experience the best of PNW beach living. Your own secure building (325 sq ft studio) with kitchenette, queen bed and washer/dryer (no A/C). The cottage studio has the added feature of its own lovely private outdoor area that is filled with garden blooms during the spring and summer. Find us on IG @alkicottage.<br /><br /><b>The space</b><br />Completely renovated in Jan of 2021, we've created a peaceful cottage studio experience that we can't wait to share with you!  <br /><br />The cottage studio is 325 sq ft in a 1-story building with a bed, kitchenette and bar top seating, and bathroom with shower. There is no separate living room. The space is attached to the garage on one side. We do not park a vehicle in the garage and will limit accessing it when possible, but you may occasionally hear noise from the garage/garage door.<br /><br />*Patio*<br />",
         "first_review": "2021-02-24 00:00:00",
         "has_license": "1",
         "host_about": "New Mexico and Texas natives who couldn't wait to call Seattle home. We've lived in Seattle for 10 years and are still in awe daily with the surrounding beauty of the PNW.\n\nWe're new to the AirBNB hosting but can't wait to welcome you to ensure you have a wonderful stay.\n\nWe love the outdoors: gardening, hiking, kayaking, camping... ",
         "host_acceptance_rate": "1.0",
         "host_has_profile_pic": "1",
         "host_id": "10181843",
         "host_identity_verified": "1",
         "host_is_superhost": "1",
         "host_location": "Seattle, WA",
         "host_name": "Kristin & Stuart",
         "host_neighbourhood": "West Seattle",
         "host_operate_years": "9",
         "host_picture_url": "https://a0.muscache.com/im/pictures/user/c5d483b2-4e0d-45fb-b709-91314dd6bbbd.jpg?aki_policy=profile_x_medium",
         "host_response_rate": "1.0",
         "host_response_time": "within an hour",
         "host_response_time_encoded": "1",
         "host_since": "2013-11-21 00:00:00",
         "host_url": "https://www.airbnb.com/users/show/10181843",
         "host_verifications": "['email', 'phone']",
         "instant_bookable": "0",
         "last_review": "2022-12-21 00:00:00",
         "last_scraped": "2022-12-24 00:00:00",
         "latitude": "47.5738",
         "listing_id": "42313537",
         "listing_name": "Beautifully renovated cottage studio at Alki",
         "listing_url": "https://www.airbnb.com/rooms/42313537",
         "longitude": "-122.41552",
         "maximum_nights": "31",
         "minimum_nights": "1",
         "neighborhood_overview": "Only 1-block away, Alki Beach is perfect for a sunny day in the city. Wade in the tidepools, try your hand at paddle boarding or rent a bike and cycle along the beach front. Restaurants, cafes and bars all within walking distance.",
         "neighbourhood_cleansed": "Alki",
         "neighbourhood_group_cleansed": "West Seattle",
         "number_of_reviews": "177",
         "number_of_reviews_l30d": "4",
         "number_of_reviews_ltm": "82",
         "picture_url": "https://a0.muscache.com/pictures/6ba9d3d0-68d2-4ab1-bceb-57416297b677.jpg",
         "polarity": "0.8811813559322037",
         "price": "135.0",
         "property_type": "Entire guesthouse",
         "review_scores_accuracy": "4.99",
         "review_scores_checkin": "5.0",
         "review_scores_cleanliness": "5.0",
         "review_scores_communication": "5.0",
         "review_scores_location": "4.99",
         "review_scores_rating": "4.99",
         "review_scores_value": "4.94",
         "reviews_per_month": "7.94",
         "room_type": "Entire home/apt"
        },
        {
         "_deepnote_index_column": "3",
         "accommodates": "6",
         "amenities": "[\"Hot water\", \"Refrigerator\", \"Bathtub\", \"Dishwasher\", \"Lockbox\", \"Room-darkening shades\", \"Private entrance\", \"Dishes and silverware\", \"Washer\", \"Kitchen\", \"TV\", \"Coffee maker\", \"Indoor fireplace\", \"Patio or balcony\", \"Free street parking\", \"Microwave\", \"Backyard\", \"Oven\", \"Stove\", \"Smoke alarm\", \"Dryer\", \"Essentials\", \"Self check-in\", \"Fire extinguisher\", \"Heating\", \"Long term stays allowed\", \"Wifi\", \"Hangers\", \"Shampoo\", \"Carbon monoxide alarm\", \"Dedicated workspace\", \"Bed linens\"]",
         "amenities_count": "32",
         "bathrooms_count": "1.0",
         "bedrooms": "3.0",
         "beds": "3.0",
         "calculated_host_listings_count": "27",
         "calculated_host_listings_count_entire_homes": "27",
         "calculated_host_listings_count_private_rooms": "0",
         "calculated_host_listings_count_shared_rooms": "0",
         "comments": "Good location. A great spot in the trendiest part of Seattle, can’t recommend this enough, it is a huge value Great home in a nice neighborhood, near some terrific spots for food or walks. Would definitely recommend staying in this lovely home. Lovely home. Clean, pretty, quiet, peaceful, comfortable and well furnished. Fantastic location. Friendly neighbors. If you want to prepare gourmet meals and have guests, you’ll likely find it a bit challenging, but it’s perfect for a couple and guest. Loved our stay there. Cute house in a great location! 5 minute walk to the main street where you'll find lots of restaurants and coffee shops. Keep in mind, this house does have downstairs neighbors living below. We rarely heard them, but did try to keep our noise level down to not bother them. Would definitely stay here again! Fantastic. Highly recommend The “fully equipped kitchen” was anything but. There was no flatware and really couldn’t prepare a meal with what was provided. Also expect to …",
         "description": "<b>The space</b><br />Northlake Excellence<br /><br />Along with unique art and splashes of color, this classic, two-story home also features a number of modern amenities to ensure you have a memorable vacation here in the Emerald City. Prepare anything from your morning coffee (with the help of the Breville espresso machine) to full-course dinners in the well-equipped, full kitchen with stainless steel appliances. Gather together for movie nights in the cozy living area with a gas fireplace and a Netflix-equipped flatscreen TV, or head out back and relax on the furnished balcony with a local microbrew in-hand. And upstairs, you'll find a bonus room with another flatscreen TV, shelves of books, and a desk and chair if you need to get a little work done (or do some remote schooling). <br /> <br />What's nearby: <br />This home is located just a few blocks from Fremont, a bohemian neighborhood that has it all including public art, stellar views of Seattle’s skyline, delicious food, quirk",
         "first_review": "2021-02-06 00:00:00",
         "has_license": "1",
         "host_about": "Vacasa\nVacation Home Management\n\nVacasa unlocks the possibilities of how we enjoy vacation homes. We take care of managing our homeowners’ vacation houses so they can have peace of mind (and their home when they want to). And our guests book vacations confidently knowing they’re going to find exactly what they’re looking for without any surprises.\n\nEach vacation home is always cared for by our professional local teams who implement our high cleanliness and maintenance values, while the hands-off tasks of vacation rental management--marketing, filing taxes, and maintaining a website--are handled by a specialized central support team. Our passion and focus remain true: to empower our homeowners, guests, and employees to invest in vacation.",
         "host_acceptance_rate": "0.99",
         "host_has_profile_pic": "1",
         "host_id": "111812937",
         "host_identity_verified": "1",
         "host_is_superhost": "0",
         "host_location": " ",
         "host_name": "Vacasa Washington",
         "host_neighbourhood": "Capitol Hill",
         "host_operate_years": "5",
         "host_picture_url": "https://a0.muscache.com/im/pictures/user/4a227ebe-74c0-4180-881a-f4db35adb1a0.jpg?aki_policy=profile_x_medium",
         "host_response_rate": "0.97",
         "host_response_time": "within an hour",
         "host_response_time_encoded": "1",
         "host_since": "2017-01-16 00:00:00",
         "host_url": "https://www.airbnb.com/users/show/111812937",
         "host_verifications": "['email', 'phone', 'work_email']",
         "instant_bookable": "1",
         "last_review": "2022-08-28 00:00:00",
         "last_scraped": "2022-12-24 00:00:00",
         "latitude": "47.64952",
         "listing_id": "46727219",
         "listing_name": "Classic, two-story home w/ high-speed WiFi, furnished deck, and washer/dryer",
         "listing_url": "https://www.airbnb.com/rooms/46727219",
         "longitude": "-122.33891",
         "maximum_nights": "1125",
         "minimum_nights": "2",
         "neighborhood_overview": " ",
         "neighbourhood_cleansed": "Wallingford",
         "neighbourhood_group_cleansed": "Other neighborhoods",
         "number_of_reviews": "34",
         "number_of_reviews_l30d": "0",
         "number_of_reviews_ltm": "20",
         "picture_url": "https://a0.muscache.com/pictures/prohost-api/Hosting-46727219/original/f2a6ce05-a2a7-47b9-a81e-858dd6284f3a.jpeg",
         "polarity": "0.7807121212121211",
         "price": "130.0",
         "property_type": "Entire home",
         "review_scores_accuracy": "4.76",
         "review_scores_checkin": "4.88",
         "review_scores_cleanliness": "4.82",
         "review_scores_communication": "4.71",
         "review_scores_location": "4.94",
         "review_scores_rating": "4.74",
         "review_scores_value": "4.65",
         "reviews_per_month": "1.48",
         "room_type": "Entire home/apt"
        },
        {
         "_deepnote_index_column": "4",
         "accommodates": "6",
         "amenities": "[\"Hot water\", \"Refrigerator\", \"Dishwasher\", \"Lockbox\", \"Private entrance\", \"Bay view\", \"Dishes and silverware\", \"Washer\", \"Kitchen\", \"Coffee maker\", \"Private patio or balcony\", \"Indoor fireplace\", \"Free street parking\", \"Iron\", \"Hair dryer\", \"Microwave\", \"Cooking basics\", \"Oven\", \"Mountain view\", \"Stove\", \"Smoke alarm\", \"Babysitter recommendations\", \"Dryer\", \"Essentials\", \"Self check-in\", \"Sea view\", \"Fire extinguisher\", \"Ocean view\", \"Heating\", \"Outdoor furniture\", \"Long term stays allowed\", \"Wifi\", \"Harbor view\", \"Luggage dropoff allowed\", \"Children\\u2019s books and toys\", \"Outdoor dining area\", \"First aid kit\", \"Garden view\", \"Hangers\", \"Extra pillows and blankets\", \"Private backyard \\u2013 Not fully fenced\", \"Shampoo\", \"Carbon monoxide alarm\", \"Marina view\", \"Bed linens\", \"TV with standard cable\"]",
         "amenities_count": "46",
         "bathrooms_count": "1.0",
         "bedrooms": "2.0",
         "beds": "2.0",
         "calculated_host_listings_count": "1",
         "calculated_host_listings_count_entire_homes": "1",
         "calculated_host_listings_count_private_rooms": "0",
         "calculated_host_listings_count_shared_rooms": "0",
         "comments": "We loved staying at this clean and conveniently located Queen Anne neighborhood home with spectacular views of Puget Sound and Olympic mountains. <br/><br/>Very clean and as pictured. The home is very open, spacious, quiet, and gets great natural light. Lots of seating around bay windows to enjoy the gorgeous views. It's fun to watch the barges and ferries going to and fro. Kitchen is well-stocked and beds are super comfy. The pool table and foosball are fun to play at night. There are also some games and books which offer a homey touch. <br/><br/>Great central location to explore Seattle and surrounding areas in the beautiful Queen Anne neighborhood. 10 minute walk to Kerry Park which offers some of the best views of Seattle. Plenty of restaurants and coffee shops nearby. <br/><br/>Cathy was a wonderful host. She was quick to respond on AirBnB and answered all of our questions. She greeted us on arrival and showed us around her place so we felt comfortable where everything was. She e…",
         "description": "*  PRIVATE entry to 2+ B/R Luxury Apt. with own backyard, furnished patio<br />*  FREE PARKING on street in front of house or nearby<br />*  Minutes from Space Needle & downtown in QUIET stately neighborhood <br />*  Sweeping views of Elliott Bay, Puget Sound, and Olympic Mts.<br />*  Sleeps 4-6 with New Kitchen, Bath, Luxury Mattresses & Pull-out sofa<br />*  Dining Room, Washer/Dryer, Fireplace, Pool Table, & Patio Hammock!<br />*  5 min. walk to Kerry Park view- City skyline, Mt. Rainier, Space Needle<br />*  Cable TV/Wi-Fi<br /><br /><b>The space</b><br />Grey's Anatomy just finished shooting for neighborhoods scenes in the upcoming season.  Airy, open floor plan with sweeping view windows from dining room and living room with french doors to patio.  Two bedrooms and pullout couch (new beds) make this space perfect for two couples, a family or anyone who is looking to relax and appreciate stunning sound and mountain views in a quiet neighborhood convenient to downtown and attractio",
         "first_review": "2017-04-16 00:00:00",
         "has_license": "1",
         "host_about": " ",
         "host_acceptance_rate": "0.95",
         "host_has_profile_pic": "1",
         "host_id": "40706640",
         "host_identity_verified": "1",
         "host_is_superhost": "1",
         "host_location": "Seattle, WA",
         "host_name": "Cathy",
         "host_neighbourhood": "Queen Anne",
         "host_operate_years": "7",
         "host_picture_url": "https://a0.muscache.com/im/users/40706640/profile_pic/1438881418/original.jpg?aki_policy=profile_x_medium",
         "host_response_rate": "1.0",
         "host_response_time": "within an hour",
         "host_response_time_encoded": "1",
         "host_since": "2015-08-06 00:00:00",
         "host_url": "https://www.airbnb.com/users/show/40706640",
         "host_verifications": "['email', 'phone']",
         "instant_bookable": "0",
         "last_review": "2022-12-21 00:00:00",
         "last_scraped": "2022-12-24 00:00:00",
         "latitude": "47.63194",
         "listing_id": "16962405",
         "listing_name": "Spectacular Apt in 5-STAR Home -Mt. & Sunset views",
         "listing_url": "https://www.airbnb.com/rooms/16962405",
         "longitude": "-122.36813",
         "maximum_nights": "1125",
         "minimum_nights": "3",
         "neighborhood_overview": "Queen Anne is a quiet, residential walking neighborhood, close to downtown with easy walks to nearby coffee shops, great restaurants & local markets.<br /><br />Set up on a Hill, overlooking / minutes away from the iconic Space Needle, Monorail, Seattle Center, Gates Foundation, Chihuly Museum, Science Museum, IMAX, Key Arena, & Experience Music Project & Museum and Lake Union (remember the houseboat in Sleepless in Seattle?)<br /><br />5-10 minute short drive ( or Uber/Lyft/Bus) to Pike Place Market, waterfront Sculpture Garden, Downtown, Mariners, Sounders and Seahawks Stadiums, and historic Ballard and Pioneer Square neighborhoods.",
         "neighbourhood_cleansed": "West Queen Anne",
         "neighbourhood_group_cleansed": "Queen Anne",
         "number_of_reviews": "98",
         "number_of_reviews_l30d": "3",
         "number_of_reviews_ltm": "23",
         "picture_url": "https://a0.muscache.com/pictures/2d7918da-4568-4c66-91ee-d2b374db723e.jpg",
         "polarity": "0.9200705263157893",
         "price": "286.0",
         "property_type": "Entire guest suite",
         "review_scores_accuracy": "4.96",
         "review_scores_checkin": "4.99",
         "review_scores_cleanliness": "4.91",
         "review_scores_communication": "4.99",
         "review_scores_location": "4.97",
         "review_scores_rating": "4.94",
         "review_scores_value": "4.9",
         "reviews_per_month": "1.41",
         "room_type": "Entire home/apt"
        }
       ]
      },
      "text/html": [
       "<div>\n",
       "<style scoped>\n",
       "    .dataframe tbody tr th:only-of-type {\n",
       "        vertical-align: middle;\n",
       "    }\n",
       "\n",
       "    .dataframe tbody tr th {\n",
       "        vertical-align: top;\n",
       "    }\n",
       "\n",
       "    .dataframe thead th {\n",
       "        text-align: right;\n",
       "    }\n",
       "</style>\n",
       "<table border=\"1\" class=\"dataframe\">\n",
       "  <thead>\n",
       "    <tr style=\"text-align: right;\">\n",
       "      <th></th>\n",
       "      <th>listing_id</th>\n",
       "      <th>listing_url</th>\n",
       "      <th>last_scraped</th>\n",
       "      <th>listing_name</th>\n",
       "      <th>description</th>\n",
       "      <th>neighborhood_overview</th>\n",
       "      <th>picture_url</th>\n",
       "      <th>host_id</th>\n",
       "      <th>host_url</th>\n",
       "      <th>host_name</th>\n",
       "      <th>host_since</th>\n",
       "      <th>host_location</th>\n",
       "      <th>host_about</th>\n",
       "      <th>host_response_time</th>\n",
       "      <th>host_response_rate</th>\n",
       "      <th>host_acceptance_rate</th>\n",
       "      <th>host_is_superhost</th>\n",
       "      <th>host_picture_url</th>\n",
       "      <th>host_neighbourhood</th>\n",
       "      <th>host_verifications</th>\n",
       "      <th>host_has_profile_pic</th>\n",
       "      <th>host_identity_verified</th>\n",
       "      <th>neighbourhood_cleansed</th>\n",
       "      <th>neighbourhood_group_cleansed</th>\n",
       "      <th>latitude</th>\n",
       "      <th>longitude</th>\n",
       "      <th>property_type</th>\n",
       "      <th>room_type</th>\n",
       "      <th>accommodates</th>\n",
       "      <th>bedrooms</th>\n",
       "      <th>beds</th>\n",
       "      <th>amenities</th>\n",
       "      <th>price</th>\n",
       "      <th>minimum_nights</th>\n",
       "      <th>maximum_nights</th>\n",
       "      <th>number_of_reviews</th>\n",
       "      <th>number_of_reviews_ltm</th>\n",
       "      <th>number_of_reviews_l30d</th>\n",
       "      <th>first_review</th>\n",
       "      <th>last_review</th>\n",
       "      <th>review_scores_rating</th>\n",
       "      <th>review_scores_accuracy</th>\n",
       "      <th>review_scores_cleanliness</th>\n",
       "      <th>review_scores_checkin</th>\n",
       "      <th>review_scores_communication</th>\n",
       "      <th>review_scores_location</th>\n",
       "      <th>review_scores_value</th>\n",
       "      <th>has_license</th>\n",
       "      <th>instant_bookable</th>\n",
       "      <th>calculated_host_listings_count</th>\n",
       "      <th>calculated_host_listings_count_entire_homes</th>\n",
       "      <th>calculated_host_listings_count_private_rooms</th>\n",
       "      <th>calculated_host_listings_count_shared_rooms</th>\n",
       "      <th>reviews_per_month</th>\n",
       "      <th>bathrooms_count</th>\n",
       "      <th>amenities_count</th>\n",
       "      <th>host_response_time_encoded</th>\n",
       "      <th>host_operate_years</th>\n",
       "      <th>comments</th>\n",
       "      <th>polarity</th>\n",
       "    </tr>\n",
       "  </thead>\n",
       "  <tbody>\n",
       "    <tr>\n",
       "      <th>0</th>\n",
       "      <td>49113826</td>\n",
       "      <td>https://www.airbnb.com/rooms/49113826</td>\n",
       "      <td>2022-12-24</td>\n",
       "      <td>Private Seattle Getaway Home Near Lake Washing...</td>\n",
       "      <td>A Seattle vacation destination for those from ...</td>\n",
       "      <td>SeaTac International Airport: 14 min drive&lt;br ...</td>\n",
       "      <td>https://a0.muscache.com/pictures/miso/Hosting-...</td>\n",
       "      <td>188538325</td>\n",
       "      <td>https://www.airbnb.com/users/show/188538325</td>\n",
       "      <td>Xiao</td>\n",
       "      <td>2018-05-08</td>\n",
       "      <td>Seattle, WA</td>\n",
       "      <td></td>\n",
       "      <td>within an hour</td>\n",
       "      <td>1.00</td>\n",
       "      <td>1.00</td>\n",
       "      <td>1</td>\n",
       "      <td>https://a0.muscache.com/im/pictures/user/32fd3...</td>\n",
       "      <td>Oakland</td>\n",
       "      <td>['email', 'phone']</td>\n",
       "      <td>1</td>\n",
       "      <td>1</td>\n",
       "      <td>Rainier View</td>\n",
       "      <td>Rainier Valley</td>\n",
       "      <td>47.510280</td>\n",
       "      <td>-122.246680</td>\n",
       "      <td>Entire home</td>\n",
       "      <td>Entire home/apt</td>\n",
       "      <td>8</td>\n",
       "      <td>4.0</td>\n",
       "      <td>4.0</td>\n",
       "      <td>[\"Hot water\", \"Dining table\", \"Toaster\", \"Refr...</td>\n",
       "      <td>280.0</td>\n",
       "      <td>3</td>\n",
       "      <td>30</td>\n",
       "      <td>18</td>\n",
       "      <td>7</td>\n",
       "      <td>1</td>\n",
       "      <td>2021-06-22</td>\n",
       "      <td>2022-11-29</td>\n",
       "      <td>4.83</td>\n",
       "      <td>4.89</td>\n",
       "      <td>4.94</td>\n",
       "      <td>4.89</td>\n",
       "      <td>4.89</td>\n",
       "      <td>4.61</td>\n",
       "      <td>4.72</td>\n",
       "      <td>1</td>\n",
       "      <td>0</td>\n",
       "      <td>1</td>\n",
       "      <td>1</td>\n",
       "      <td>0</td>\n",
       "      <td>0</td>\n",
       "      <td>0.98</td>\n",
       "      <td>2.0</td>\n",
       "      <td>53</td>\n",
       "      <td>1</td>\n",
       "      <td>4</td>\n",
       "      <td>Unexpectedly the place was like new home since...</td>\n",
       "      <td>0.817365</td>\n",
       "    </tr>\n",
       "    <tr>\n",
       "      <th>1</th>\n",
       "      <td>7455832</td>\n",
       "      <td>https://www.airbnb.com/rooms/7455832</td>\n",
       "      <td>2022-12-24</td>\n",
       "      <td>Classic remodeled in Georgetown</td>\n",
       "      <td>Enjoy your Seattle stay in the vibrant &amp; artis...</td>\n",
       "      <td>Georgetown is a cool neighborhood about three ...</td>\n",
       "      <td>https://a0.muscache.com/pictures/miso/Hosting-...</td>\n",
       "      <td>2144954</td>\n",
       "      <td>https://www.airbnb.com/users/show/2144954</td>\n",
       "      <td>Ryan</td>\n",
       "      <td>2012-04-15</td>\n",
       "      <td>Seattle, WA</td>\n",
       "      <td></td>\n",
       "      <td>within an hour</td>\n",
       "      <td>1.00</td>\n",
       "      <td>1.00</td>\n",
       "      <td>0</td>\n",
       "      <td>https://a0.muscache.com/im/pictures/user/a6711...</td>\n",
       "      <td>Greater Duwamish</td>\n",
       "      <td>['email', 'phone', 'work_email']</td>\n",
       "      <td>1</td>\n",
       "      <td>0</td>\n",
       "      <td>Georgetown</td>\n",
       "      <td>Other neighborhoods</td>\n",
       "      <td>47.544739</td>\n",
       "      <td>-122.319786</td>\n",
       "      <td>Entire home</td>\n",
       "      <td>Entire home/apt</td>\n",
       "      <td>6</td>\n",
       "      <td>3.0</td>\n",
       "      <td>3.0</td>\n",
       "      <td>[\"Hot water\", \"Crib - available upon request\",...</td>\n",
       "      <td>156.0</td>\n",
       "      <td>1</td>\n",
       "      <td>150</td>\n",
       "      <td>27</td>\n",
       "      <td>27</td>\n",
       "      <td>3</td>\n",
       "      <td>2022-06-09</td>\n",
       "      <td>2022-12-13</td>\n",
       "      <td>4.89</td>\n",
       "      <td>4.96</td>\n",
       "      <td>4.89</td>\n",
       "      <td>4.93</td>\n",
       "      <td>4.96</td>\n",
       "      <td>4.93</td>\n",
       "      <td>4.93</td>\n",
       "      <td>1</td>\n",
       "      <td>1</td>\n",
       "      <td>2</td>\n",
       "      <td>2</td>\n",
       "      <td>0</td>\n",
       "      <td>0</td>\n",
       "      <td>4.07</td>\n",
       "      <td>2.0</td>\n",
       "      <td>55</td>\n",
       "      <td>1</td>\n",
       "      <td>10</td>\n",
       "      <td>The house is so comfortable and clean. It has ...</td>\n",
       "      <td>0.913648</td>\n",
       "    </tr>\n",
       "    <tr>\n",
       "      <th>2</th>\n",
       "      <td>42313537</td>\n",
       "      <td>https://www.airbnb.com/rooms/42313537</td>\n",
       "      <td>2022-12-24</td>\n",
       "      <td>Beautifully renovated cottage studio at Alki</td>\n",
       "      <td>Welcome to your private, quiet retreat, featur...</td>\n",
       "      <td>Only 1-block away, Alki Beach is perfect for a...</td>\n",
       "      <td>https://a0.muscache.com/pictures/6ba9d3d0-68d2...</td>\n",
       "      <td>10181843</td>\n",
       "      <td>https://www.airbnb.com/users/show/10181843</td>\n",
       "      <td>Kristin &amp; Stuart</td>\n",
       "      <td>2013-11-21</td>\n",
       "      <td>Seattle, WA</td>\n",
       "      <td>New Mexico and Texas natives who couldn't wait...</td>\n",
       "      <td>within an hour</td>\n",
       "      <td>1.00</td>\n",
       "      <td>1.00</td>\n",
       "      <td>1</td>\n",
       "      <td>https://a0.muscache.com/im/pictures/user/c5d48...</td>\n",
       "      <td>West Seattle</td>\n",
       "      <td>['email', 'phone']</td>\n",
       "      <td>1</td>\n",
       "      <td>1</td>\n",
       "      <td>Alki</td>\n",
       "      <td>West Seattle</td>\n",
       "      <td>47.573800</td>\n",
       "      <td>-122.415520</td>\n",
       "      <td>Entire guesthouse</td>\n",
       "      <td>Entire home/apt</td>\n",
       "      <td>2</td>\n",
       "      <td>1.0</td>\n",
       "      <td>1.0</td>\n",
       "      <td>[\"Hot water\", \"Toaster\", \"Refrigerator\", \"Mini...</td>\n",
       "      <td>135.0</td>\n",
       "      <td>1</td>\n",
       "      <td>31</td>\n",
       "      <td>177</td>\n",
       "      <td>82</td>\n",
       "      <td>4</td>\n",
       "      <td>2021-02-24</td>\n",
       "      <td>2022-12-21</td>\n",
       "      <td>4.99</td>\n",
       "      <td>4.99</td>\n",
       "      <td>5.00</td>\n",
       "      <td>5.00</td>\n",
       "      <td>5.00</td>\n",
       "      <td>4.99</td>\n",
       "      <td>4.94</td>\n",
       "      <td>1</td>\n",
       "      <td>0</td>\n",
       "      <td>1</td>\n",
       "      <td>1</td>\n",
       "      <td>0</td>\n",
       "      <td>0</td>\n",
       "      <td>7.94</td>\n",
       "      <td>1.0</td>\n",
       "      <td>40</td>\n",
       "      <td>1</td>\n",
       "      <td>9</td>\n",
       "      <td>Kristin and Stuart’s cottage is the perfect va...</td>\n",
       "      <td>0.881181</td>\n",
       "    </tr>\n",
       "    <tr>\n",
       "      <th>3</th>\n",
       "      <td>46727219</td>\n",
       "      <td>https://www.airbnb.com/rooms/46727219</td>\n",
       "      <td>2022-12-24</td>\n",
       "      <td>Classic, two-story home w/ high-speed WiFi, fu...</td>\n",
       "      <td>&lt;b&gt;The space&lt;/b&gt;&lt;br /&gt;Northlake Excellence&lt;br ...</td>\n",
       "      <td></td>\n",
       "      <td>https://a0.muscache.com/pictures/prohost-api/H...</td>\n",
       "      <td>111812937</td>\n",
       "      <td>https://www.airbnb.com/users/show/111812937</td>\n",
       "      <td>Vacasa Washington</td>\n",
       "      <td>2017-01-16</td>\n",
       "      <td></td>\n",
       "      <td>Vacasa\\nVacation Home Management\\n\\nVacasa unl...</td>\n",
       "      <td>within an hour</td>\n",
       "      <td>0.97</td>\n",
       "      <td>0.99</td>\n",
       "      <td>0</td>\n",
       "      <td>https://a0.muscache.com/im/pictures/user/4a227...</td>\n",
       "      <td>Capitol Hill</td>\n",
       "      <td>['email', 'phone', 'work_email']</td>\n",
       "      <td>1</td>\n",
       "      <td>1</td>\n",
       "      <td>Wallingford</td>\n",
       "      <td>Other neighborhoods</td>\n",
       "      <td>47.649520</td>\n",
       "      <td>-122.338910</td>\n",
       "      <td>Entire home</td>\n",
       "      <td>Entire home/apt</td>\n",
       "      <td>6</td>\n",
       "      <td>3.0</td>\n",
       "      <td>3.0</td>\n",
       "      <td>[\"Hot water\", \"Refrigerator\", \"Bathtub\", \"Dish...</td>\n",
       "      <td>130.0</td>\n",
       "      <td>2</td>\n",
       "      <td>1125</td>\n",
       "      <td>34</td>\n",
       "      <td>20</td>\n",
       "      <td>0</td>\n",
       "      <td>2021-02-06</td>\n",
       "      <td>2022-08-28</td>\n",
       "      <td>4.74</td>\n",
       "      <td>4.76</td>\n",
       "      <td>4.82</td>\n",
       "      <td>4.88</td>\n",
       "      <td>4.71</td>\n",
       "      <td>4.94</td>\n",
       "      <td>4.65</td>\n",
       "      <td>1</td>\n",
       "      <td>1</td>\n",
       "      <td>27</td>\n",
       "      <td>27</td>\n",
       "      <td>0</td>\n",
       "      <td>0</td>\n",
       "      <td>1.48</td>\n",
       "      <td>1.0</td>\n",
       "      <td>32</td>\n",
       "      <td>1</td>\n",
       "      <td>5</td>\n",
       "      <td>Good location. A great spot in the trendiest p...</td>\n",
       "      <td>0.780712</td>\n",
       "    </tr>\n",
       "    <tr>\n",
       "      <th>4</th>\n",
       "      <td>16962405</td>\n",
       "      <td>https://www.airbnb.com/rooms/16962405</td>\n",
       "      <td>2022-12-24</td>\n",
       "      <td>Spectacular Apt in 5-STAR Home -Mt. &amp; Sunset v...</td>\n",
       "      <td>*  PRIVATE entry to 2+ B/R Luxury Apt. with ow...</td>\n",
       "      <td>Queen Anne is a quiet, residential walking nei...</td>\n",
       "      <td>https://a0.muscache.com/pictures/2d7918da-4568...</td>\n",
       "      <td>40706640</td>\n",
       "      <td>https://www.airbnb.com/users/show/40706640</td>\n",
       "      <td>Cathy</td>\n",
       "      <td>2015-08-06</td>\n",
       "      <td>Seattle, WA</td>\n",
       "      <td></td>\n",
       "      <td>within an hour</td>\n",
       "      <td>1.00</td>\n",
       "      <td>0.95</td>\n",
       "      <td>1</td>\n",
       "      <td>https://a0.muscache.com/im/users/40706640/prof...</td>\n",
       "      <td>Queen Anne</td>\n",
       "      <td>['email', 'phone']</td>\n",
       "      <td>1</td>\n",
       "      <td>1</td>\n",
       "      <td>West Queen Anne</td>\n",
       "      <td>Queen Anne</td>\n",
       "      <td>47.631940</td>\n",
       "      <td>-122.368130</td>\n",
       "      <td>Entire guest suite</td>\n",
       "      <td>Entire home/apt</td>\n",
       "      <td>6</td>\n",
       "      <td>2.0</td>\n",
       "      <td>2.0</td>\n",
       "      <td>[\"Hot water\", \"Refrigerator\", \"Dishwasher\", \"L...</td>\n",
       "      <td>286.0</td>\n",
       "      <td>3</td>\n",
       "      <td>1125</td>\n",
       "      <td>98</td>\n",
       "      <td>23</td>\n",
       "      <td>3</td>\n",
       "      <td>2017-04-16</td>\n",
       "      <td>2022-12-21</td>\n",
       "      <td>4.94</td>\n",
       "      <td>4.96</td>\n",
       "      <td>4.91</td>\n",
       "      <td>4.99</td>\n",
       "      <td>4.99</td>\n",
       "      <td>4.97</td>\n",
       "      <td>4.90</td>\n",
       "      <td>1</td>\n",
       "      <td>0</td>\n",
       "      <td>1</td>\n",
       "      <td>1</td>\n",
       "      <td>0</td>\n",
       "      <td>0</td>\n",
       "      <td>1.41</td>\n",
       "      <td>1.0</td>\n",
       "      <td>46</td>\n",
       "      <td>1</td>\n",
       "      <td>7</td>\n",
       "      <td>We loved staying at this clean and convenientl...</td>\n",
       "      <td>0.920071</td>\n",
       "    </tr>\n",
       "  </tbody>\n",
       "</table>\n",
       "</div>"
      ],
      "text/plain": [
       "   listing_id                            listing_url last_scraped  \\\n",
       "0    49113826  https://www.airbnb.com/rooms/49113826   2022-12-24   \n",
       "1     7455832   https://www.airbnb.com/rooms/7455832   2022-12-24   \n",
       "2    42313537  https://www.airbnb.com/rooms/42313537   2022-12-24   \n",
       "3    46727219  https://www.airbnb.com/rooms/46727219   2022-12-24   \n",
       "4    16962405  https://www.airbnb.com/rooms/16962405   2022-12-24   \n",
       "\n",
       "                                        listing_name  \\\n",
       "0  Private Seattle Getaway Home Near Lake Washing...   \n",
       "1                    Classic remodeled in Georgetown   \n",
       "2       Beautifully renovated cottage studio at Alki   \n",
       "3  Classic, two-story home w/ high-speed WiFi, fu...   \n",
       "4  Spectacular Apt in 5-STAR Home -Mt. & Sunset v...   \n",
       "\n",
       "                                         description  \\\n",
       "0  A Seattle vacation destination for those from ...   \n",
       "1  Enjoy your Seattle stay in the vibrant & artis...   \n",
       "2  Welcome to your private, quiet retreat, featur...   \n",
       "3  <b>The space</b><br />Northlake Excellence<br ...   \n",
       "4  *  PRIVATE entry to 2+ B/R Luxury Apt. with ow...   \n",
       "\n",
       "                               neighborhood_overview  \\\n",
       "0  SeaTac International Airport: 14 min drive<br ...   \n",
       "1  Georgetown is a cool neighborhood about three ...   \n",
       "2  Only 1-block away, Alki Beach is perfect for a...   \n",
       "3                                                      \n",
       "4  Queen Anne is a quiet, residential walking nei...   \n",
       "\n",
       "                                         picture_url    host_id  \\\n",
       "0  https://a0.muscache.com/pictures/miso/Hosting-...  188538325   \n",
       "1  https://a0.muscache.com/pictures/miso/Hosting-...    2144954   \n",
       "2  https://a0.muscache.com/pictures/6ba9d3d0-68d2...   10181843   \n",
       "3  https://a0.muscache.com/pictures/prohost-api/H...  111812937   \n",
       "4  https://a0.muscache.com/pictures/2d7918da-4568...   40706640   \n",
       "\n",
       "                                      host_url          host_name host_since  \\\n",
       "0  https://www.airbnb.com/users/show/188538325               Xiao 2018-05-08   \n",
       "1    https://www.airbnb.com/users/show/2144954               Ryan 2012-04-15   \n",
       "2   https://www.airbnb.com/users/show/10181843   Kristin & Stuart 2013-11-21   \n",
       "3  https://www.airbnb.com/users/show/111812937  Vacasa Washington 2017-01-16   \n",
       "4   https://www.airbnb.com/users/show/40706640              Cathy 2015-08-06   \n",
       "\n",
       "  host_location                                         host_about  \\\n",
       "0   Seattle, WA                                                      \n",
       "1   Seattle, WA                                                      \n",
       "2   Seattle, WA  New Mexico and Texas natives who couldn't wait...   \n",
       "3                Vacasa\\nVacation Home Management\\n\\nVacasa unl...   \n",
       "4   Seattle, WA                                                      \n",
       "\n",
       "  host_response_time  host_response_rate  host_acceptance_rate  \\\n",
       "0     within an hour                1.00                  1.00   \n",
       "1     within an hour                1.00                  1.00   \n",
       "2     within an hour                1.00                  1.00   \n",
       "3     within an hour                0.97                  0.99   \n",
       "4     within an hour                1.00                  0.95   \n",
       "\n",
       "   host_is_superhost                                   host_picture_url  \\\n",
       "0                  1  https://a0.muscache.com/im/pictures/user/32fd3...   \n",
       "1                  0  https://a0.muscache.com/im/pictures/user/a6711...   \n",
       "2                  1  https://a0.muscache.com/im/pictures/user/c5d48...   \n",
       "3                  0  https://a0.muscache.com/im/pictures/user/4a227...   \n",
       "4                  1  https://a0.muscache.com/im/users/40706640/prof...   \n",
       "\n",
       "  host_neighbourhood                host_verifications  host_has_profile_pic  \\\n",
       "0            Oakland                ['email', 'phone']                     1   \n",
       "1   Greater Duwamish  ['email', 'phone', 'work_email']                     1   \n",
       "2       West Seattle                ['email', 'phone']                     1   \n",
       "3       Capitol Hill  ['email', 'phone', 'work_email']                     1   \n",
       "4         Queen Anne                ['email', 'phone']                     1   \n",
       "\n",
       "   host_identity_verified neighbourhood_cleansed neighbourhood_group_cleansed  \\\n",
       "0                       1           Rainier View               Rainier Valley   \n",
       "1                       0             Georgetown          Other neighborhoods   \n",
       "2                       1                   Alki                 West Seattle   \n",
       "3                       1            Wallingford          Other neighborhoods   \n",
       "4                       1        West Queen Anne                   Queen Anne   \n",
       "\n",
       "    latitude   longitude       property_type        room_type  accommodates  \\\n",
       "0  47.510280 -122.246680         Entire home  Entire home/apt             8   \n",
       "1  47.544739 -122.319786         Entire home  Entire home/apt             6   \n",
       "2  47.573800 -122.415520   Entire guesthouse  Entire home/apt             2   \n",
       "3  47.649520 -122.338910         Entire home  Entire home/apt             6   \n",
       "4  47.631940 -122.368130  Entire guest suite  Entire home/apt             6   \n",
       "\n",
       "   bedrooms  beds                                          amenities  price  \\\n",
       "0       4.0   4.0  [\"Hot water\", \"Dining table\", \"Toaster\", \"Refr...  280.0   \n",
       "1       3.0   3.0  [\"Hot water\", \"Crib - available upon request\",...  156.0   \n",
       "2       1.0   1.0  [\"Hot water\", \"Toaster\", \"Refrigerator\", \"Mini...  135.0   \n",
       "3       3.0   3.0  [\"Hot water\", \"Refrigerator\", \"Bathtub\", \"Dish...  130.0   \n",
       "4       2.0   2.0  [\"Hot water\", \"Refrigerator\", \"Dishwasher\", \"L...  286.0   \n",
       "\n",
       "   minimum_nights  maximum_nights  number_of_reviews  number_of_reviews_ltm  \\\n",
       "0               3              30                 18                      7   \n",
       "1               1             150                 27                     27   \n",
       "2               1              31                177                     82   \n",
       "3               2            1125                 34                     20   \n",
       "4               3            1125                 98                     23   \n",
       "\n",
       "   number_of_reviews_l30d first_review last_review  review_scores_rating  \\\n",
       "0                       1   2021-06-22  2022-11-29                  4.83   \n",
       "1                       3   2022-06-09  2022-12-13                  4.89   \n",
       "2                       4   2021-02-24  2022-12-21                  4.99   \n",
       "3                       0   2021-02-06  2022-08-28                  4.74   \n",
       "4                       3   2017-04-16  2022-12-21                  4.94   \n",
       "\n",
       "   review_scores_accuracy  review_scores_cleanliness  review_scores_checkin  \\\n",
       "0                    4.89                       4.94                   4.89   \n",
       "1                    4.96                       4.89                   4.93   \n",
       "2                    4.99                       5.00                   5.00   \n",
       "3                    4.76                       4.82                   4.88   \n",
       "4                    4.96                       4.91                   4.99   \n",
       "\n",
       "   review_scores_communication  review_scores_location  review_scores_value  \\\n",
       "0                         4.89                    4.61                 4.72   \n",
       "1                         4.96                    4.93                 4.93   \n",
       "2                         5.00                    4.99                 4.94   \n",
       "3                         4.71                    4.94                 4.65   \n",
       "4                         4.99                    4.97                 4.90   \n",
       "\n",
       "   has_license  instant_bookable  calculated_host_listings_count  \\\n",
       "0            1                 0                               1   \n",
       "1            1                 1                               2   \n",
       "2            1                 0                               1   \n",
       "3            1                 1                              27   \n",
       "4            1                 0                               1   \n",
       "\n",
       "   calculated_host_listings_count_entire_homes  \\\n",
       "0                                            1   \n",
       "1                                            2   \n",
       "2                                            1   \n",
       "3                                           27   \n",
       "4                                            1   \n",
       "\n",
       "   calculated_host_listings_count_private_rooms  \\\n",
       "0                                             0   \n",
       "1                                             0   \n",
       "2                                             0   \n",
       "3                                             0   \n",
       "4                                             0   \n",
       "\n",
       "   calculated_host_listings_count_shared_rooms  reviews_per_month  \\\n",
       "0                                            0               0.98   \n",
       "1                                            0               4.07   \n",
       "2                                            0               7.94   \n",
       "3                                            0               1.48   \n",
       "4                                            0               1.41   \n",
       "\n",
       "   bathrooms_count  amenities_count  host_response_time_encoded  \\\n",
       "0              2.0               53                           1   \n",
       "1              2.0               55                           1   \n",
       "2              1.0               40                           1   \n",
       "3              1.0               32                           1   \n",
       "4              1.0               46                           1   \n",
       "\n",
       "   host_operate_years                                           comments  \\\n",
       "0                   4  Unexpectedly the place was like new home since...   \n",
       "1                  10  The house is so comfortable and clean. It has ...   \n",
       "2                   9  Kristin and Stuart’s cottage is the perfect va...   \n",
       "3                   5  Good location. A great spot in the trendiest p...   \n",
       "4                   7  We loved staying at this clean and convenientl...   \n",
       "\n",
       "   polarity  \n",
       "0  0.817365  \n",
       "1  0.913648  \n",
       "2  0.881181  \n",
       "3  0.780712  \n",
       "4  0.920071  "
      ]
     },
     "execution_count": 10,
     "metadata": {},
     "output_type": "execute_result"
    }
   ],
   "source": [
    "df_model.reset_index(inplace=True, drop=True)\n",
    "df_model.head(5)"
   ]
  },
  {
   "cell_type": "markdown",
   "metadata": {
    "cell_id": "3e44d6ce9c4d4ee9b659f2431b91b84a",
    "deepnote_cell_type": "markdown",
    "id": "20VFfHHOZwfF"
   },
   "source": [
    "#### TODO: Add in categorical values using one hot encoding"
   ]
  },
  {
   "cell_type": "markdown",
   "metadata": {
    "cell_id": "f0644995a32046ee88b748ec88f1a36a",
    "deepnote_cell_type": "markdown",
    "id": "h2Ob1-zCdwgx"
   },
   "source": [
    "One hot encoding is a common strategy to turn a categorical column into multiple numeric columns so we can more easily use numeric methods on them such as cosine_similarity later."
   ]
  },
  {
   "cell_type": "code",
   "execution_count": 10,
   "metadata": {
    "cell_id": "093f1db52ef742bf9a75088d5fb1d730",
    "colab": {
     "base_uri": "https://localhost:8080/"
    },
    "deepnote_cell_type": "code",
    "deepnote_to_be_reexecuted": false,
    "execution_millis": 2,
    "execution_start": 1679800375407,
    "id": "AalsD_nhBb0R",
    "outputId": "905802b8-c51f-4973-a20e-c6095a3a1a37",
    "source_hash": "7dca2313"
   },
   "outputs": [
    {
     "data": {
      "text/plain": [
       "(4086, 60)"
      ]
     },
     "execution_count": 10,
     "metadata": {},
     "output_type": "execute_result"
    }
   ],
   "source": [
    "df_model.shape"
   ]
  },
  {
   "cell_type": "code",
   "execution_count": 12,
   "metadata": {
    "cell_id": "ae2acc1322ea4e0881329b11788580d2",
    "deepnote_cell_type": "code",
    "deepnote_to_be_reexecuted": false,
    "execution_millis": 27,
    "execution_start": 1679772646110,
    "id": "TeUIaP5YaF5K",
    "source_hash": "8e9f0adf"
   },
   "outputs": [],
   "source": [
    "# X = df_model.copy()\n",
    "# X = pd.get_dummies(data=X)\n",
    "# X.shape"
   ]
  },
  {
   "cell_type": "markdown",
   "metadata": {
    "cell_id": "f24c75fc2b9c4265a73eb82a14645ef9",
    "deepnote_cell_type": "markdown",
    "id": "HZcI7BEecyJN"
   },
   "source": [
    "#### TODO: Should we also add in datetime types too since they are kind of numeric?"
   ]
  },
  {
   "cell_type": "code",
   "execution_count": 13,
   "metadata": {
    "cell_id": "01b8bc26e78b4fe6962e660e250e4fd1",
    "deepnote_cell_type": "code",
    "deepnote_to_be_reexecuted": false,
    "execution_millis": 25,
    "execution_start": 1679772646112,
    "id": "o6AtbrvwBbhx",
    "source_hash": "5ade2592"
   },
   "outputs": [],
   "source": [
    "# Might need to get date objects into our model too?"
   ]
  },
  {
   "cell_type": "markdown",
   "metadata": {
    "cell_id": "582505af6f234b5d8e0bee9d03305d47",
    "deepnote_cell_type": "markdown",
    "id": "zZ6WtQeb-Wey"
   },
   "source": [
    "#### TODO: Should we also add in clustering results as a column?"
   ]
  },
  {
   "cell_type": "code",
   "execution_count": 14,
   "metadata": {
    "cell_id": "cde8278ecf1243f499cf168b0a697692",
    "deepnote_cell_type": "code",
    "deepnote_to_be_reexecuted": false,
    "execution_millis": 25,
    "execution_start": 1679772646115,
    "id": "DdFSU9QE-Wez",
    "source_hash": "e4b79c6d"
   },
   "outputs": [],
   "source": [
    "# If we decide to add in the cluster id, would be great if we had a \n",
    "# cleaned data set that had the cluster id once the clustering research\n",
    "# is complete"
   ]
  },
  {
   "cell_type": "markdown",
   "metadata": {
    "cell_id": "324050e141814e9eb3a8e73151cea23b",
    "deepnote_cell_type": "markdown",
    "id": "WfR9i0cnadG6"
   },
   "source": [
    "#### Take all the numerical columns as features for our model"
   ]
  },
  {
   "cell_type": "markdown",
   "metadata": {
    "cell_id": "d69ab4ecbe294d428d7475d2ccd97b68",
    "deepnote_cell_type": "text-cell-p",
    "formattedRanges": [],
    "id": "v8OQdenF-We0",
    "is_collapsed": false
   },
   "source": [
    "TODO: should we take all the numeric features?"
   ]
  },
  {
   "cell_type": "code",
   "execution_count": 15,
   "metadata": {
    "cell_id": "0c6934a24d354de79e379c18b75e4b35",
    "colab": {
     "base_uri": "https://localhost:8080/"
    },
    "deepnote_cell_type": "code",
    "deepnote_to_be_reexecuted": false,
    "execution_millis": 29,
    "execution_start": 1679772646121,
    "id": "ck1zOv1seYIW",
    "outputId": "63929f6f-f2e9-4914-8b6d-20f29310c945",
    "source_hash": "7dca2313"
   },
   "outputs": [
    {
     "data": {
      "text/plain": [
       "(4086, 60)"
      ]
     },
     "execution_count": 15,
     "metadata": {},
     "output_type": "execute_result"
    }
   ],
   "source": [
    "df_model.shape"
   ]
  },
  {
   "cell_type": "code",
   "execution_count": 16,
   "metadata": {
    "cell_id": "84a2786c926b47d5b719777071df50e4",
    "colab": {
     "base_uri": "https://localhost:8080/"
    },
    "deepnote_cell_type": "code",
    "deepnote_to_be_reexecuted": false,
    "execution_millis": 6,
    "execution_start": 1679772646145,
    "id": "aoOeyYSEBbwm",
    "outputId": "bc08185c-f100-4a85-ecef-bacbcd4a0256",
    "source_hash": "94f35a37"
   },
   "outputs": [
    {
     "data": {
      "text/plain": [
       "listing_id                                               int64\n",
       "listing_url                                             object\n",
       "last_scraped                                    datetime64[ns]\n",
       "listing_name                                            object\n",
       "description                                             object\n",
       "neighborhood_overview                                   object\n",
       "picture_url                                             object\n",
       "host_id                                                  int64\n",
       "host_url                                                object\n",
       "host_name                                               object\n",
       "host_since                                      datetime64[ns]\n",
       "host_location                                           object\n",
       "host_about                                              object\n",
       "host_response_time                                      object\n",
       "host_response_rate                                     float64\n",
       "host_acceptance_rate                                   float64\n",
       "host_is_superhost                                        int64\n",
       "host_picture_url                                        object\n",
       "host_neighbourhood                                      object\n",
       "host_verifications                                      object\n",
       "host_has_profile_pic                                     int64\n",
       "host_identity_verified                                   int64\n",
       "neighbourhood_cleansed                                  object\n",
       "neighbourhood_group_cleansed                            object\n",
       "latitude                                               float64\n",
       "longitude                                              float64\n",
       "property_type                                           object\n",
       "room_type                                               object\n",
       "accommodates                                             int64\n",
       "bedrooms                                               float64\n",
       "beds                                                   float64\n",
       "amenities                                               object\n",
       "price                                                  float64\n",
       "minimum_nights                                           int64\n",
       "maximum_nights                                           int64\n",
       "number_of_reviews                                        int64\n",
       "number_of_reviews_ltm                                    int64\n",
       "number_of_reviews_l30d                                   int64\n",
       "first_review                                    datetime64[ns]\n",
       "last_review                                     datetime64[ns]\n",
       "review_scores_rating                                   float64\n",
       "review_scores_accuracy                                 float64\n",
       "review_scores_cleanliness                              float64\n",
       "review_scores_checkin                                  float64\n",
       "review_scores_communication                            float64\n",
       "review_scores_location                                 float64\n",
       "review_scores_value                                    float64\n",
       "has_license                                              int64\n",
       "instant_bookable                                         int64\n",
       "calculated_host_listings_count                           int64\n",
       "calculated_host_listings_count_entire_homes              int64\n",
       "calculated_host_listings_count_private_rooms             int64\n",
       "calculated_host_listings_count_shared_rooms              int64\n",
       "reviews_per_month                                      float64\n",
       "bathrooms_count                                        float64\n",
       "amenities_count                                          int64\n",
       "host_response_time_encoded                               int64\n",
       "host_operate_years                                       int64\n",
       "comments                                                object\n",
       "polarity                                               float64\n",
       "dtype: object"
      ]
     },
     "execution_count": 16,
     "metadata": {},
     "output_type": "execute_result"
    }
   ],
   "source": [
    "df_model.dtypes"
   ]
  },
  {
   "cell_type": "code",
   "execution_count": 18,
   "metadata": {
    "cell_id": "4a56b29eef2d4567b0ed3b3ca84af60c",
    "colab": {
     "base_uri": "https://localhost:8080/"
    },
    "deepnote_cell_type": "code",
    "deepnote_to_be_reexecuted": false,
    "execution_millis": 5,
    "execution_start": 1679800999395,
    "id": "qX51A1l1BbqS",
    "outputId": "b3f0240a-1f05-43b9-af4b-d116fa4767a9",
    "source_hash": "b3f7dfae"
   },
   "outputs": [
    {
     "data": {
      "text/plain": [
       "(4086, 37)"
      ]
     },
     "execution_count": 18,
     "metadata": {},
     "output_type": "execute_result"
    }
   ],
   "source": [
    "number_types = ['int16', 'int32', 'int64', 'float16', 'float32', 'float64']\n",
    "df_model_num = df_model.select_dtypes(include=number_types)\n",
    "df_model_num.shape"
   ]
  },
  {
   "cell_type": "code",
   "execution_count": 19,
   "metadata": {
    "cell_id": "20559b66a4fd49cd81387566688cb58e",
    "colab": {
     "base_uri": "https://localhost:8080/"
    },
    "deepnote_cell_type": "code",
    "deepnote_to_be_reexecuted": false,
    "execution_millis": 2,
    "execution_start": 1679801000938,
    "id": "vhIoUidPefmX",
    "outputId": "5d19455d-a1f2-4961-ff56-0155725128f4",
    "source_hash": "396453ca"
   },
   "outputs": [
    {
     "data": {
      "text/plain": [
       "listing_id                                        int64\n",
       "host_id                                           int64\n",
       "host_response_rate                              float64\n",
       "host_acceptance_rate                            float64\n",
       "host_is_superhost                                 int64\n",
       "host_has_profile_pic                              int64\n",
       "host_identity_verified                            int64\n",
       "latitude                                        float64\n",
       "longitude                                       float64\n",
       "accommodates                                      int64\n",
       "bedrooms                                        float64\n",
       "beds                                            float64\n",
       "price                                           float64\n",
       "minimum_nights                                    int64\n",
       "maximum_nights                                    int64\n",
       "number_of_reviews                                 int64\n",
       "number_of_reviews_ltm                             int64\n",
       "number_of_reviews_l30d                            int64\n",
       "review_scores_rating                            float64\n",
       "review_scores_accuracy                          float64\n",
       "review_scores_cleanliness                       float64\n",
       "review_scores_checkin                           float64\n",
       "review_scores_communication                     float64\n",
       "review_scores_location                          float64\n",
       "review_scores_value                             float64\n",
       "has_license                                       int64\n",
       "instant_bookable                                  int64\n",
       "calculated_host_listings_count                    int64\n",
       "calculated_host_listings_count_entire_homes       int64\n",
       "calculated_host_listings_count_private_rooms      int64\n",
       "calculated_host_listings_count_shared_rooms       int64\n",
       "reviews_per_month                               float64\n",
       "bathrooms_count                                 float64\n",
       "amenities_count                                   int64\n",
       "host_response_time_encoded                        int64\n",
       "host_operate_years                                int64\n",
       "polarity                                        float64\n",
       "dtype: object"
      ]
     },
     "execution_count": 19,
     "metadata": {},
     "output_type": "execute_result"
    }
   ],
   "source": [
    "df_model_num.dtypes"
   ]
  },
  {
   "cell_type": "markdown",
   "metadata": {
    "cell_id": "726ccd5940404002aed17ebc64166969",
    "deepnote_cell_type": "markdown",
    "id": "aDyqkv9yfil0"
   },
   "source": [
    "### Find cosine similarity between all rental properties"
   ]
  },
  {
   "cell_type": "markdown",
   "metadata": {
    "cell_id": "520e46298b7f4f16ac5f1155881fa177",
    "deepnote_cell_type": "markdown",
    "id": "CE5hLhCb1Vkh"
   },
   "source": [
    "#### Build similarity matrix"
   ]
  },
  {
   "cell_type": "code",
   "execution_count": 20,
   "metadata": {
    "cell_id": "3fdfc86465f44485aa3978de0671ec1d",
    "colab": {
     "base_uri": "https://localhost:8080/",
     "height": 268
    },
    "deepnote_cell_type": "code",
    "deepnote_to_be_reexecuted": false,
    "execution_millis": 81,
    "execution_start": 1679801003217,
    "id": "2Kgp8BEmfrju",
    "outputId": "6639baf2-3d3c-40d3-9ba7-0e251d595c81",
    "source_hash": "df542c0"
   },
   "outputs": [
    {
     "data": {
      "application/vnd.deepnote.dataframe.v3+json": {
       "column_count": 37,
       "columns": [
        {
         "dtype": "int64",
         "name": "listing_id",
         "stats": {
          "histogram": [
           {
            "bin_end": 11621631.4,
            "bin_start": 7455832,
            "count": 1
           },
           {
            "bin_end": 15787430.8,
            "bin_start": 11621631.4,
            "count": 0
           },
           {
            "bin_end": 19953230.2,
            "bin_start": 15787430.8,
            "count": 1
           },
           {
            "bin_end": 24119029.6,
            "bin_start": 19953230.2,
            "count": 0
           },
           {
            "bin_end": 28284829,
            "bin_start": 24119029.6,
            "count": 0
           },
           {
            "bin_end": 32450628.4,
            "bin_start": 28284829,
            "count": 0
           },
           {
            "bin_end": 36616427.8,
            "bin_start": 32450628.4,
            "count": 0
           },
           {
            "bin_end": 40782227.2,
            "bin_start": 36616427.8,
            "count": 0
           },
           {
            "bin_end": 44948026.6,
            "bin_start": 40782227.2,
            "count": 1
           },
           {
            "bin_end": 49113826,
            "bin_start": 44948026.6,
            "count": 2
           }
          ],
          "max": "49113826",
          "min": "7455832",
          "nan_count": 0,
          "unique_count": 5
         }
        },
        {
         "dtype": "int64",
         "name": "host_id",
         "stats": {
          "histogram": [
           {
            "bin_end": 20784291.1,
            "bin_start": 2144954,
            "count": 2
           },
           {
            "bin_end": 39423628.2,
            "bin_start": 20784291.1,
            "count": 0
           },
           {
            "bin_end": 58062965.300000004,
            "bin_start": 39423628.2,
            "count": 1
           },
           {
            "bin_end": 76702302.4,
            "bin_start": 58062965.300000004,
            "count": 0
           },
           {
            "bin_end": 95341639.5,
            "bin_start": 76702302.4,
            "count": 0
           },
           {
            "bin_end": 113980976.60000001,
            "bin_start": 95341639.5,
            "count": 1
           },
           {
            "bin_end": 132620313.70000002,
            "bin_start": 113980976.60000001,
            "count": 0
           },
           {
            "bin_end": 151259650.8,
            "bin_start": 132620313.70000002,
            "count": 0
           },
           {
            "bin_end": 169898987.9,
            "bin_start": 151259650.8,
            "count": 0
           },
           {
            "bin_end": 188538325,
            "bin_start": 169898987.9,
            "count": 1
           }
          ],
          "max": "188538325",
          "min": "2144954",
          "nan_count": 0,
          "unique_count": 5
         }
        },
        {
         "dtype": "float64",
         "name": "host_response_rate",
         "stats": {
          "histogram": [
           {
            "bin_end": 0.973,
            "bin_start": 0.97,
            "count": 1
           },
           {
            "bin_end": 0.976,
            "bin_start": 0.973,
            "count": 0
           },
           {
            "bin_end": 0.979,
            "bin_start": 0.976,
            "count": 0
           },
           {
            "bin_end": 0.982,
            "bin_start": 0.979,
            "count": 0
           },
           {
            "bin_end": 0.985,
            "bin_start": 0.982,
            "count": 0
           },
           {
            "bin_end": 0.988,
            "bin_start": 0.985,
            "count": 0
           },
           {
            "bin_end": 0.991,
            "bin_start": 0.988,
            "count": 0
           },
           {
            "bin_end": 0.994,
            "bin_start": 0.991,
            "count": 0
           },
           {
            "bin_end": 0.997,
            "bin_start": 0.994,
            "count": 0
           },
           {
            "bin_end": 1,
            "bin_start": 0.997,
            "count": 4
           }
          ],
          "max": "1.0",
          "min": "0.97",
          "nan_count": 0,
          "unique_count": 2
         }
        },
        {
         "dtype": "float64",
         "name": "host_acceptance_rate",
         "stats": {
          "histogram": [
           {
            "bin_end": 0.955,
            "bin_start": 0.95,
            "count": 1
           },
           {
            "bin_end": 0.96,
            "bin_start": 0.955,
            "count": 0
           },
           {
            "bin_end": 0.965,
            "bin_start": 0.96,
            "count": 0
           },
           {
            "bin_end": 0.97,
            "bin_start": 0.965,
            "count": 0
           },
           {
            "bin_end": 0.975,
            "bin_start": 0.97,
            "count": 0
           },
           {
            "bin_end": 0.98,
            "bin_start": 0.975,
            "count": 0
           },
           {
            "bin_end": 0.985,
            "bin_start": 0.98,
            "count": 0
           },
           {
            "bin_end": 0.99,
            "bin_start": 0.985,
            "count": 0
           },
           {
            "bin_end": 0.995,
            "bin_start": 0.99,
            "count": 1
           },
           {
            "bin_end": 1,
            "bin_start": 0.995,
            "count": 3
           }
          ],
          "max": "1.0",
          "min": "0.95",
          "nan_count": 0,
          "unique_count": 3
         }
        },
        {
         "dtype": "int64",
         "name": "host_is_superhost",
         "stats": {
          "histogram": [
           {
            "bin_end": 0.1,
            "bin_start": 0,
            "count": 2
           },
           {
            "bin_end": 0.2,
            "bin_start": 0.1,
            "count": 0
           },
           {
            "bin_end": 0.30000000000000004,
            "bin_start": 0.2,
            "count": 0
           },
           {
            "bin_end": 0.4,
            "bin_start": 0.30000000000000004,
            "count": 0
           },
           {
            "bin_end": 0.5,
            "bin_start": 0.4,
            "count": 0
           },
           {
            "bin_end": 0.6000000000000001,
            "bin_start": 0.5,
            "count": 0
           },
           {
            "bin_end": 0.7000000000000001,
            "bin_start": 0.6000000000000001,
            "count": 0
           },
           {
            "bin_end": 0.8,
            "bin_start": 0.7000000000000001,
            "count": 0
           },
           {
            "bin_end": 0.9,
            "bin_start": 0.8,
            "count": 0
           },
           {
            "bin_end": 1,
            "bin_start": 0.9,
            "count": 3
           }
          ],
          "max": "1",
          "min": "0",
          "nan_count": 0,
          "unique_count": 2
         }
        },
        {
         "dtype": "int64",
         "name": "host_has_profile_pic",
         "stats": {
          "histogram": [
           {
            "bin_end": 0.6,
            "bin_start": 0.5,
            "count": 0
           },
           {
            "bin_end": 0.7,
            "bin_start": 0.6,
            "count": 0
           },
           {
            "bin_end": 0.8,
            "bin_start": 0.7,
            "count": 0
           },
           {
            "bin_end": 0.9,
            "bin_start": 0.8,
            "count": 0
           },
           {
            "bin_end": 1,
            "bin_start": 0.9,
            "count": 0
           },
           {
            "bin_end": 1.1,
            "bin_start": 1,
            "count": 5
           },
           {
            "bin_end": 1.2000000000000002,
            "bin_start": 1.1,
            "count": 0
           },
           {
            "bin_end": 1.3,
            "bin_start": 1.2000000000000002,
            "count": 0
           },
           {
            "bin_end": 1.4,
            "bin_start": 1.3,
            "count": 0
           },
           {
            "bin_end": 1.5,
            "bin_start": 1.4,
            "count": 0
           }
          ],
          "max": "1",
          "min": "1",
          "nan_count": 0,
          "unique_count": 1
         }
        },
        {
         "dtype": "int64",
         "name": "host_identity_verified",
         "stats": {
          "histogram": [
           {
            "bin_end": 0.1,
            "bin_start": 0,
            "count": 1
           },
           {
            "bin_end": 0.2,
            "bin_start": 0.1,
            "count": 0
           },
           {
            "bin_end": 0.30000000000000004,
            "bin_start": 0.2,
            "count": 0
           },
           {
            "bin_end": 0.4,
            "bin_start": 0.30000000000000004,
            "count": 0
           },
           {
            "bin_end": 0.5,
            "bin_start": 0.4,
            "count": 0
           },
           {
            "bin_end": 0.6000000000000001,
            "bin_start": 0.5,
            "count": 0
           },
           {
            "bin_end": 0.7000000000000001,
            "bin_start": 0.6000000000000001,
            "count": 0
           },
           {
            "bin_end": 0.8,
            "bin_start": 0.7000000000000001,
            "count": 0
           },
           {
            "bin_end": 0.9,
            "bin_start": 0.8,
            "count": 0
           },
           {
            "bin_end": 1,
            "bin_start": 0.9,
            "count": 4
           }
          ],
          "max": "1",
          "min": "0",
          "nan_count": 0,
          "unique_count": 2
         }
        },
        {
         "dtype": "float64",
         "name": "latitude",
         "stats": {
          "histogram": [
           {
            "bin_end": 47.524204000000005,
            "bin_start": 47.51028,
            "count": 1
           },
           {
            "bin_end": 47.538128,
            "bin_start": 47.524204000000005,
            "count": 0
           },
           {
            "bin_end": 47.552052,
            "bin_start": 47.538128,
            "count": 1
           },
           {
            "bin_end": 47.565976,
            "bin_start": 47.552052,
            "count": 0
           },
           {
            "bin_end": 47.5799,
            "bin_start": 47.565976,
            "count": 1
           },
           {
            "bin_end": 47.593824000000005,
            "bin_start": 47.5799,
            "count": 0
           },
           {
            "bin_end": 47.607748,
            "bin_start": 47.593824000000005,
            "count": 0
           },
           {
            "bin_end": 47.621672000000004,
            "bin_start": 47.607748,
            "count": 0
           },
           {
            "bin_end": 47.635596,
            "bin_start": 47.621672000000004,
            "count": 1
           },
           {
            "bin_end": 47.64952,
            "bin_start": 47.635596,
            "count": 1
           }
          ],
          "max": "47.64952",
          "min": "47.51028",
          "nan_count": 0,
          "unique_count": 5
         }
        },
        {
         "dtype": "float64",
         "name": "longitude",
         "stats": {
          "histogram": [
           {
            "bin_end": -122.398636,
            "bin_start": -122.41552,
            "count": 1
           },
           {
            "bin_end": -122.381752,
            "bin_start": -122.398636,
            "count": 0
           },
           {
            "bin_end": -122.364868,
            "bin_start": -122.381752,
            "count": 1
           },
           {
            "bin_end": -122.347984,
            "bin_start": -122.364868,
            "count": 0
           },
           {
            "bin_end": -122.33109999999999,
            "bin_start": -122.347984,
            "count": 1
           },
           {
            "bin_end": -122.314216,
            "bin_start": -122.33109999999999,
            "count": 1
           },
           {
            "bin_end": -122.297332,
            "bin_start": -122.314216,
            "count": 0
           },
           {
            "bin_end": -122.28044799999999,
            "bin_start": -122.297332,
            "count": 0
           },
           {
            "bin_end": -122.263564,
            "bin_start": -122.28044799999999,
            "count": 0
           },
           {
            "bin_end": -122.24668,
            "bin_start": -122.263564,
            "count": 1
           }
          ],
          "max": "-122.24668",
          "min": "-122.41552",
          "nan_count": 0,
          "unique_count": 5
         }
        },
        {
         "dtype": "int64",
         "name": "accommodates",
         "stats": {
          "histogram": [
           {
            "bin_end": 2.6,
            "bin_start": 2,
            "count": 1
           },
           {
            "bin_end": 3.2,
            "bin_start": 2.6,
            "count": 0
           },
           {
            "bin_end": 3.8,
            "bin_start": 3.2,
            "count": 0
           },
           {
            "bin_end": 4.4,
            "bin_start": 3.8,
            "count": 0
           },
           {
            "bin_end": 5,
            "bin_start": 4.4,
            "count": 0
           },
           {
            "bin_end": 5.6,
            "bin_start": 5,
            "count": 0
           },
           {
            "bin_end": 6.2,
            "bin_start": 5.6,
            "count": 3
           },
           {
            "bin_end": 6.8,
            "bin_start": 6.2,
            "count": 0
           },
           {
            "bin_end": 7.3999999999999995,
            "bin_start": 6.8,
            "count": 0
           },
           {
            "bin_end": 8,
            "bin_start": 7.3999999999999995,
            "count": 1
           }
          ],
          "max": "8",
          "min": "2",
          "nan_count": 0,
          "unique_count": 3
         }
        },
        {
         "dtype": "float64",
         "name": "bedrooms",
         "stats": {
          "histogram": [
           {
            "bin_end": 1.3,
            "bin_start": 1,
            "count": 1
           },
           {
            "bin_end": 1.6,
            "bin_start": 1.3,
            "count": 0
           },
           {
            "bin_end": 1.9,
            "bin_start": 1.6,
            "count": 0
           },
           {
            "bin_end": 2.2,
            "bin_start": 1.9,
            "count": 1
           },
           {
            "bin_end": 2.5,
            "bin_start": 2.2,
            "count": 0
           },
           {
            "bin_end": 2.8,
            "bin_start": 2.5,
            "count": 0
           },
           {
            "bin_end": 3.1,
            "bin_start": 2.8,
            "count": 2
           },
           {
            "bin_end": 3.4,
            "bin_start": 3.1,
            "count": 0
           },
           {
            "bin_end": 3.6999999999999997,
            "bin_start": 3.4,
            "count": 0
           },
           {
            "bin_end": 4,
            "bin_start": 3.6999999999999997,
            "count": 1
           }
          ],
          "max": "4.0",
          "min": "1.0",
          "nan_count": 0,
          "unique_count": 4
         }
        },
        {
         "dtype": "float64",
         "name": "beds",
         "stats": {
          "histogram": [
           {
            "bin_end": 1.3,
            "bin_start": 1,
            "count": 1
           },
           {
            "bin_end": 1.6,
            "bin_start": 1.3,
            "count": 0
           },
           {
            "bin_end": 1.9,
            "bin_start": 1.6,
            "count": 0
           },
           {
            "bin_end": 2.2,
            "bin_start": 1.9,
            "count": 1
           },
           {
            "bin_end": 2.5,
            "bin_start": 2.2,
            "count": 0
           },
           {
            "bin_end": 2.8,
            "bin_start": 2.5,
            "count": 0
           },
           {
            "bin_end": 3.1,
            "bin_start": 2.8,
            "count": 2
           },
           {
            "bin_end": 3.4,
            "bin_start": 3.1,
            "count": 0
           },
           {
            "bin_end": 3.6999999999999997,
            "bin_start": 3.4,
            "count": 0
           },
           {
            "bin_end": 4,
            "bin_start": 3.6999999999999997,
            "count": 1
           }
          ],
          "max": "4.0",
          "min": "1.0",
          "nan_count": 0,
          "unique_count": 4
         }
        },
        {
         "dtype": "float64",
         "name": "price",
         "stats": {
          "histogram": [
           {
            "bin_end": 145.6,
            "bin_start": 130,
            "count": 2
           },
           {
            "bin_end": 161.2,
            "bin_start": 145.6,
            "count": 1
           },
           {
            "bin_end": 176.8,
            "bin_start": 161.2,
            "count": 0
           },
           {
            "bin_end": 192.4,
            "bin_start": 176.8,
            "count": 0
           },
           {
            "bin_end": 208,
            "bin_start": 192.4,
            "count": 0
           },
           {
            "bin_end": 223.6,
            "bin_start": 208,
            "count": 0
           },
           {
            "bin_end": 239.2,
            "bin_start": 223.6,
            "count": 0
           },
           {
            "bin_end": 254.8,
            "bin_start": 239.2,
            "count": 0
           },
           {
            "bin_end": 270.4,
            "bin_start": 254.8,
            "count": 0
           },
           {
            "bin_end": 286,
            "bin_start": 270.4,
            "count": 2
           }
          ],
          "max": "286.0",
          "min": "130.0",
          "nan_count": 0,
          "unique_count": 5
         }
        },
        {
         "dtype": "int64",
         "name": "minimum_nights",
         "stats": {
          "histogram": [
           {
            "bin_end": 1.2,
            "bin_start": 1,
            "count": 2
           },
           {
            "bin_end": 1.4,
            "bin_start": 1.2,
            "count": 0
           },
           {
            "bin_end": 1.6,
            "bin_start": 1.4,
            "count": 0
           },
           {
            "bin_end": 1.8,
            "bin_start": 1.6,
            "count": 0
           },
           {
            "bin_end": 2,
            "bin_start": 1.8,
            "count": 0
           },
           {
            "bin_end": 2.2,
            "bin_start": 2,
            "count": 1
           },
           {
            "bin_end": 2.4000000000000004,
            "bin_start": 2.2,
            "count": 0
           },
           {
            "bin_end": 2.6,
            "bin_start": 2.4000000000000004,
            "count": 0
           },
           {
            "bin_end": 2.8,
            "bin_start": 2.6,
            "count": 0
           },
           {
            "bin_end": 3,
            "bin_start": 2.8,
            "count": 2
           }
          ],
          "max": "3",
          "min": "1",
          "nan_count": 0,
          "unique_count": 3
         }
        },
        {
         "dtype": "int64",
         "name": "maximum_nights",
         "stats": {
          "histogram": [
           {
            "bin_end": 139.5,
            "bin_start": 30,
            "count": 2
           },
           {
            "bin_end": 249,
            "bin_start": 139.5,
            "count": 1
           },
           {
            "bin_end": 358.5,
            "bin_start": 249,
            "count": 0
           },
           {
            "bin_end": 468,
            "bin_start": 358.5,
            "count": 0
           },
           {
            "bin_end": 577.5,
            "bin_start": 468,
            "count": 0
           },
           {
            "bin_end": 687,
            "bin_start": 577.5,
            "count": 0
           },
           {
            "bin_end": 796.5,
            "bin_start": 687,
            "count": 0
           },
           {
            "bin_end": 906,
            "bin_start": 796.5,
            "count": 0
           },
           {
            "bin_end": 1015.5,
            "bin_start": 906,
            "count": 0
           },
           {
            "bin_end": 1125,
            "bin_start": 1015.5,
            "count": 2
           }
          ],
          "max": "1125",
          "min": "30",
          "nan_count": 0,
          "unique_count": 4
         }
        },
        {
         "dtype": "int64",
         "name": "number_of_reviews",
         "stats": {
          "histogram": [
           {
            "bin_end": 33.9,
            "bin_start": 18,
            "count": 2
           },
           {
            "bin_end": 49.8,
            "bin_start": 33.9,
            "count": 1
           },
           {
            "bin_end": 65.7,
            "bin_start": 49.8,
            "count": 0
           },
           {
            "bin_end": 81.6,
            "bin_start": 65.7,
            "count": 0
           },
           {
            "bin_end": 97.5,
            "bin_start": 81.6,
            "count": 0
           },
           {
            "bin_end": 113.4,
            "bin_start": 97.5,
            "count": 1
           },
           {
            "bin_end": 129.3,
            "bin_start": 113.4,
            "count": 0
           },
           {
            "bin_end": 145.2,
            "bin_start": 129.3,
            "count": 0
           },
           {
            "bin_end": 161.1,
            "bin_start": 145.2,
            "count": 0
           },
           {
            "bin_end": 177,
            "bin_start": 161.1,
            "count": 1
           }
          ],
          "max": "177",
          "min": "18",
          "nan_count": 0,
          "unique_count": 5
         }
        },
        {
         "dtype": "int64",
         "name": "number_of_reviews_ltm",
         "stats": {
          "histogram": [
           {
            "bin_end": 14.5,
            "bin_start": 7,
            "count": 1
           },
           {
            "bin_end": 22,
            "bin_start": 14.5,
            "count": 1
           },
           {
            "bin_end": 29.5,
            "bin_start": 22,
            "count": 2
           },
           {
            "bin_end": 37,
            "bin_start": 29.5,
            "count": 0
           },
           {
            "bin_end": 44.5,
            "bin_start": 37,
            "count": 0
           },
           {
            "bin_end": 52,
            "bin_start": 44.5,
            "count": 0
           },
           {
            "bin_end": 59.5,
            "bin_start": 52,
            "count": 0
           },
           {
            "bin_end": 67,
            "bin_start": 59.5,
            "count": 0
           },
           {
            "bin_end": 74.5,
            "bin_start": 67,
            "count": 0
           },
           {
            "bin_end": 82,
            "bin_start": 74.5,
            "count": 1
           }
          ],
          "max": "82",
          "min": "7",
          "nan_count": 0,
          "unique_count": 5
         }
        },
        {
         "dtype": "int64",
         "name": "number_of_reviews_l30d",
         "stats": {
          "histogram": [
           {
            "bin_end": 0.4,
            "bin_start": 0,
            "count": 1
           },
           {
            "bin_end": 0.8,
            "bin_start": 0.4,
            "count": 0
           },
           {
            "bin_end": 1.2000000000000002,
            "bin_start": 0.8,
            "count": 1
           },
           {
            "bin_end": 1.6,
            "bin_start": 1.2000000000000002,
            "count": 0
           },
           {
            "bin_end": 2,
            "bin_start": 1.6,
            "count": 0
           },
           {
            "bin_end": 2.4000000000000004,
            "bin_start": 2,
            "count": 0
           },
           {
            "bin_end": 2.8000000000000003,
            "bin_start": 2.4000000000000004,
            "count": 0
           },
           {
            "bin_end": 3.2,
            "bin_start": 2.8000000000000003,
            "count": 2
           },
           {
            "bin_end": 3.6,
            "bin_start": 3.2,
            "count": 0
           },
           {
            "bin_end": 4,
            "bin_start": 3.6,
            "count": 1
           }
          ],
          "max": "4",
          "min": "0",
          "nan_count": 0,
          "unique_count": 4
         }
        },
        {
         "dtype": "float64",
         "name": "review_scores_rating",
         "stats": {
          "histogram": [
           {
            "bin_end": 4.765000000000001,
            "bin_start": 4.74,
            "count": 1
           },
           {
            "bin_end": 4.79,
            "bin_start": 4.765000000000001,
            "count": 0
           },
           {
            "bin_end": 4.815,
            "bin_start": 4.79,
            "count": 0
           },
           {
            "bin_end": 4.84,
            "bin_start": 4.815,
            "count": 1
           },
           {
            "bin_end": 4.865,
            "bin_start": 4.84,
            "count": 0
           },
           {
            "bin_end": 4.890000000000001,
            "bin_start": 4.865,
            "count": 1
           },
           {
            "bin_end": 4.915,
            "bin_start": 4.890000000000001,
            "count": 0
           },
           {
            "bin_end": 4.94,
            "bin_start": 4.915,
            "count": 0
           },
           {
            "bin_end": 4.965,
            "bin_start": 4.94,
            "count": 1
           },
           {
            "bin_end": 4.99,
            "bin_start": 4.965,
            "count": 1
           }
          ],
          "max": "4.99",
          "min": "4.74",
          "nan_count": 0,
          "unique_count": 5
         }
        },
        {
         "dtype": "float64",
         "name": "review_scores_accuracy",
         "stats": {
          "histogram": [
           {
            "bin_end": 4.7829999999999995,
            "bin_start": 4.76,
            "count": 1
           },
           {
            "bin_end": 4.806,
            "bin_start": 4.7829999999999995,
            "count": 0
           },
           {
            "bin_end": 4.829,
            "bin_start": 4.806,
            "count": 0
           },
           {
            "bin_end": 4.852,
            "bin_start": 4.829,
            "count": 0
           },
           {
            "bin_end": 4.875,
            "bin_start": 4.852,
            "count": 0
           },
           {
            "bin_end": 4.898,
            "bin_start": 4.875,
            "count": 1
           },
           {
            "bin_end": 4.921,
            "bin_start": 4.898,
            "count": 0
           },
           {
            "bin_end": 4.944,
            "bin_start": 4.921,
            "count": 0
           },
           {
            "bin_end": 4.9670000000000005,
            "bin_start": 4.944,
            "count": 2
           },
           {
            "bin_end": 4.99,
            "bin_start": 4.9670000000000005,
            "count": 1
           }
          ],
          "max": "4.99",
          "min": "4.76",
          "nan_count": 0,
          "unique_count": 4
         }
        },
        {
         "dtype": "float64",
         "name": "review_scores_cleanliness",
         "stats": {
          "histogram": [
           {
            "bin_end": 4.838,
            "bin_start": 4.82,
            "count": 1
           },
           {
            "bin_end": 4.856,
            "bin_start": 4.838,
            "count": 0
           },
           {
            "bin_end": 4.8740000000000006,
            "bin_start": 4.856,
            "count": 0
           },
           {
            "bin_end": 4.892,
            "bin_start": 4.8740000000000006,
            "count": 1
           },
           {
            "bin_end": 4.91,
            "bin_start": 4.892,
            "count": 0
           },
           {
            "bin_end": 4.928,
            "bin_start": 4.91,
            "count": 1
           },
           {
            "bin_end": 4.946,
            "bin_start": 4.928,
            "count": 1
           },
           {
            "bin_end": 4.964,
            "bin_start": 4.946,
            "count": 0
           },
           {
            "bin_end": 4.982,
            "bin_start": 4.964,
            "count": 0
           },
           {
            "bin_end": 5,
            "bin_start": 4.982,
            "count": 1
           }
          ],
          "max": "5.0",
          "min": "4.82",
          "nan_count": 0,
          "unique_count": 5
         }
        },
        {
         "dtype": "float64",
         "name": "review_scores_checkin",
         "stats": {
          "histogram": [
           {
            "bin_end": 4.8919999999999995,
            "bin_start": 4.88,
            "count": 2
           },
           {
            "bin_end": 4.904,
            "bin_start": 4.8919999999999995,
            "count": 0
           },
           {
            "bin_end": 4.916,
            "bin_start": 4.904,
            "count": 0
           },
           {
            "bin_end": 4.928,
            "bin_start": 4.916,
            "count": 0
           },
           {
            "bin_end": 4.9399999999999995,
            "bin_start": 4.928,
            "count": 1
           },
           {
            "bin_end": 4.952,
            "bin_start": 4.9399999999999995,
            "count": 0
           },
           {
            "bin_end": 4.964,
            "bin_start": 4.952,
            "count": 0
           },
           {
            "bin_end": 4.976,
            "bin_start": 4.964,
            "count": 0
           },
           {
            "bin_end": 4.9879999999999995,
            "bin_start": 4.976,
            "count": 0
           },
           {
            "bin_end": 5,
            "bin_start": 4.9879999999999995,
            "count": 2
           }
          ],
          "max": "5.0",
          "min": "4.88",
          "nan_count": 0,
          "unique_count": 5
         }
        },
        {
         "dtype": "float64",
         "name": "review_scores_communication",
         "stats": {
          "histogram": [
           {
            "bin_end": 4.739,
            "bin_start": 4.71,
            "count": 1
           },
           {
            "bin_end": 4.768,
            "bin_start": 4.739,
            "count": 0
           },
           {
            "bin_end": 4.797,
            "bin_start": 4.768,
            "count": 0
           },
           {
            "bin_end": 4.826,
            "bin_start": 4.797,
            "count": 0
           },
           {
            "bin_end": 4.855,
            "bin_start": 4.826,
            "count": 0
           },
           {
            "bin_end": 4.884,
            "bin_start": 4.855,
            "count": 0
           },
           {
            "bin_end": 4.913,
            "bin_start": 4.884,
            "count": 1
           },
           {
            "bin_end": 4.942,
            "bin_start": 4.913,
            "count": 0
           },
           {
            "bin_end": 4.971,
            "bin_start": 4.942,
            "count": 1
           },
           {
            "bin_end": 5,
            "bin_start": 4.971,
            "count": 2
           }
          ],
          "max": "5.0",
          "min": "4.71",
          "nan_count": 0,
          "unique_count": 5
         }
        },
        {
         "dtype": "float64",
         "name": "review_scores_location",
         "stats": {
          "histogram": [
           {
            "bin_end": 4.648000000000001,
            "bin_start": 4.61,
            "count": 1
           },
           {
            "bin_end": 4.686,
            "bin_start": 4.648000000000001,
            "count": 0
           },
           {
            "bin_end": 4.724,
            "bin_start": 4.686,
            "count": 0
           },
           {
            "bin_end": 4.7620000000000005,
            "bin_start": 4.724,
            "count": 0
           },
           {
            "bin_end": 4.800000000000001,
            "bin_start": 4.7620000000000005,
            "count": 0
           },
           {
            "bin_end": 4.838,
            "bin_start": 4.800000000000001,
            "count": 0
           },
           {
            "bin_end": 4.876,
            "bin_start": 4.838,
            "count": 0
           },
           {
            "bin_end": 4.914000000000001,
            "bin_start": 4.876,
            "count": 0
           },
           {
            "bin_end": 4.952,
            "bin_start": 4.914000000000001,
            "count": 2
           },
           {
            "bin_end": 4.99,
            "bin_start": 4.952,
            "count": 2
           }
          ],
          "max": "4.99",
          "min": "4.61",
          "nan_count": 0,
          "unique_count": 5
         }
        },
        {
         "dtype": "float64",
         "name": "review_scores_value",
         "stats": {
          "histogram": [
           {
            "bin_end": 4.679,
            "bin_start": 4.65,
            "count": 1
           },
           {
            "bin_end": 4.708,
            "bin_start": 4.679,
            "count": 0
           },
           {
            "bin_end": 4.737,
            "bin_start": 4.708,
            "count": 1
           },
           {
            "bin_end": 4.766,
            "bin_start": 4.737,
            "count": 0
           },
           {
            "bin_end": 4.795,
            "bin_start": 4.766,
            "count": 0
           },
           {
            "bin_end": 4.824000000000001,
            "bin_start": 4.795,
            "count": 0
           },
           {
            "bin_end": 4.853000000000001,
            "bin_start": 4.824000000000001,
            "count": 0
           },
           {
            "bin_end": 4.882000000000001,
            "bin_start": 4.853000000000001,
            "count": 0
           },
           {
            "bin_end": 4.9110000000000005,
            "bin_start": 4.882000000000001,
            "count": 1
           },
           {
            "bin_end": 4.94,
            "bin_start": 4.9110000000000005,
            "count": 2
           }
          ],
          "max": "4.94",
          "min": "4.65",
          "nan_count": 0,
          "unique_count": 5
         }
        },
        {
         "dtype": "int64",
         "name": "has_license",
         "stats": {
          "histogram": [
           {
            "bin_end": 0.6,
            "bin_start": 0.5,
            "count": 0
           },
           {
            "bin_end": 0.7,
            "bin_start": 0.6,
            "count": 0
           },
           {
            "bin_end": 0.8,
            "bin_start": 0.7,
            "count": 0
           },
           {
            "bin_end": 0.9,
            "bin_start": 0.8,
            "count": 0
           },
           {
            "bin_end": 1,
            "bin_start": 0.9,
            "count": 0
           },
           {
            "bin_end": 1.1,
            "bin_start": 1,
            "count": 5
           },
           {
            "bin_end": 1.2000000000000002,
            "bin_start": 1.1,
            "count": 0
           },
           {
            "bin_end": 1.3,
            "bin_start": 1.2000000000000002,
            "count": 0
           },
           {
            "bin_end": 1.4,
            "bin_start": 1.3,
            "count": 0
           },
           {
            "bin_end": 1.5,
            "bin_start": 1.4,
            "count": 0
           }
          ],
          "max": "1",
          "min": "1",
          "nan_count": 0,
          "unique_count": 1
         }
        },
        {
         "dtype": "int64",
         "name": "instant_bookable",
         "stats": {
          "histogram": [
           {
            "bin_end": 0.1,
            "bin_start": 0,
            "count": 3
           },
           {
            "bin_end": 0.2,
            "bin_start": 0.1,
            "count": 0
           },
           {
            "bin_end": 0.30000000000000004,
            "bin_start": 0.2,
            "count": 0
           },
           {
            "bin_end": 0.4,
            "bin_start": 0.30000000000000004,
            "count": 0
           },
           {
            "bin_end": 0.5,
            "bin_start": 0.4,
            "count": 0
           },
           {
            "bin_end": 0.6000000000000001,
            "bin_start": 0.5,
            "count": 0
           },
           {
            "bin_end": 0.7000000000000001,
            "bin_start": 0.6000000000000001,
            "count": 0
           },
           {
            "bin_end": 0.8,
            "bin_start": 0.7000000000000001,
            "count": 0
           },
           {
            "bin_end": 0.9,
            "bin_start": 0.8,
            "count": 0
           },
           {
            "bin_end": 1,
            "bin_start": 0.9,
            "count": 2
           }
          ],
          "max": "1",
          "min": "0",
          "nan_count": 0,
          "unique_count": 2
         }
        },
        {
         "dtype": "int64",
         "name": "calculated_host_listings_count",
         "stats": {
          "histogram": [
           {
            "bin_end": 3.6,
            "bin_start": 1,
            "count": 4
           },
           {
            "bin_end": 6.2,
            "bin_start": 3.6,
            "count": 0
           },
           {
            "bin_end": 8.8,
            "bin_start": 6.2,
            "count": 0
           },
           {
            "bin_end": 11.4,
            "bin_start": 8.8,
            "count": 0
           },
           {
            "bin_end": 14,
            "bin_start": 11.4,
            "count": 0
           },
           {
            "bin_end": 16.6,
            "bin_start": 14,
            "count": 0
           },
           {
            "bin_end": 19.2,
            "bin_start": 16.6,
            "count": 0
           },
           {
            "bin_end": 21.8,
            "bin_start": 19.2,
            "count": 0
           },
           {
            "bin_end": 24.400000000000002,
            "bin_start": 21.8,
            "count": 0
           },
           {
            "bin_end": 27,
            "bin_start": 24.400000000000002,
            "count": 1
           }
          ],
          "max": "27",
          "min": "1",
          "nan_count": 0,
          "unique_count": 3
         }
        },
        {
         "dtype": "int64",
         "name": "calculated_host_listings_count_entire_homes",
         "stats": {
          "histogram": [
           {
            "bin_end": 3.6,
            "bin_start": 1,
            "count": 4
           },
           {
            "bin_end": 6.2,
            "bin_start": 3.6,
            "count": 0
           },
           {
            "bin_end": 8.8,
            "bin_start": 6.2,
            "count": 0
           },
           {
            "bin_end": 11.4,
            "bin_start": 8.8,
            "count": 0
           },
           {
            "bin_end": 14,
            "bin_start": 11.4,
            "count": 0
           },
           {
            "bin_end": 16.6,
            "bin_start": 14,
            "count": 0
           },
           {
            "bin_end": 19.2,
            "bin_start": 16.6,
            "count": 0
           },
           {
            "bin_end": 21.8,
            "bin_start": 19.2,
            "count": 0
           },
           {
            "bin_end": 24.400000000000002,
            "bin_start": 21.8,
            "count": 0
           },
           {
            "bin_end": 27,
            "bin_start": 24.400000000000002,
            "count": 1
           }
          ],
          "max": "27",
          "min": "1",
          "nan_count": 0,
          "unique_count": 3
         }
        },
        {
         "dtype": "int64",
         "name": "calculated_host_listings_count_private_rooms",
         "stats": {
          "histogram": [
           {
            "bin_end": -0.4,
            "bin_start": -0.5,
            "count": 0
           },
           {
            "bin_end": -0.3,
            "bin_start": -0.4,
            "count": 0
           },
           {
            "bin_end": -0.19999999999999996,
            "bin_start": -0.3,
            "count": 0
           },
           {
            "bin_end": -0.09999999999999998,
            "bin_start": -0.19999999999999996,
            "count": 0
           },
           {
            "bin_end": 0,
            "bin_start": -0.09999999999999998,
            "count": 0
           },
           {
            "bin_end": 0.10000000000000009,
            "bin_start": 0,
            "count": 5
           },
           {
            "bin_end": 0.20000000000000007,
            "bin_start": 0.10000000000000009,
            "count": 0
           },
           {
            "bin_end": 0.30000000000000004,
            "bin_start": 0.20000000000000007,
            "count": 0
           },
           {
            "bin_end": 0.4,
            "bin_start": 0.30000000000000004,
            "count": 0
           },
           {
            "bin_end": 0.5,
            "bin_start": 0.4,
            "count": 0
           }
          ],
          "max": "0",
          "min": "0",
          "nan_count": 0,
          "unique_count": 1
         }
        },
        {
         "dtype": "int64",
         "name": "calculated_host_listings_count_shared_rooms",
         "stats": {
          "histogram": [
           {
            "bin_end": -0.4,
            "bin_start": -0.5,
            "count": 0
           },
           {
            "bin_end": -0.3,
            "bin_start": -0.4,
            "count": 0
           },
           {
            "bin_end": -0.19999999999999996,
            "bin_start": -0.3,
            "count": 0
           },
           {
            "bin_end": -0.09999999999999998,
            "bin_start": -0.19999999999999996,
            "count": 0
           },
           {
            "bin_end": 0,
            "bin_start": -0.09999999999999998,
            "count": 0
           },
           {
            "bin_end": 0.10000000000000009,
            "bin_start": 0,
            "count": 5
           },
           {
            "bin_end": 0.20000000000000007,
            "bin_start": 0.10000000000000009,
            "count": 0
           },
           {
            "bin_end": 0.30000000000000004,
            "bin_start": 0.20000000000000007,
            "count": 0
           },
           {
            "bin_end": 0.4,
            "bin_start": 0.30000000000000004,
            "count": 0
           },
           {
            "bin_end": 0.5,
            "bin_start": 0.4,
            "count": 0
           }
          ],
          "max": "0",
          "min": "0",
          "nan_count": 0,
          "unique_count": 1
         }
        },
        {
         "dtype": "float64",
         "name": "reviews_per_month",
         "stats": {
          "histogram": [
           {
            "bin_end": 1.6760000000000002,
            "bin_start": 0.98,
            "count": 3
           },
           {
            "bin_end": 2.372,
            "bin_start": 1.6760000000000002,
            "count": 0
           },
           {
            "bin_end": 3.068,
            "bin_start": 2.372,
            "count": 0
           },
           {
            "bin_end": 3.7640000000000002,
            "bin_start": 3.068,
            "count": 0
           },
           {
            "bin_end": 4.460000000000001,
            "bin_start": 3.7640000000000002,
            "count": 1
           },
           {
            "bin_end": 5.156000000000001,
            "bin_start": 4.460000000000001,
            "count": 0
           },
           {
            "bin_end": 5.852,
            "bin_start": 5.156000000000001,
            "count": 0
           },
           {
            "bin_end": 6.548,
            "bin_start": 5.852,
            "count": 0
           },
           {
            "bin_end": 7.244,
            "bin_start": 6.548,
            "count": 0
           },
           {
            "bin_end": 7.94,
            "bin_start": 7.244,
            "count": 1
           }
          ],
          "max": "7.94",
          "min": "0.98",
          "nan_count": 0,
          "unique_count": 5
         }
        },
        {
         "dtype": "float64",
         "name": "bathrooms_count",
         "stats": {
          "histogram": [
           {
            "bin_end": 1.1,
            "bin_start": 1,
            "count": 3
           },
           {
            "bin_end": 1.2,
            "bin_start": 1.1,
            "count": 0
           },
           {
            "bin_end": 1.3,
            "bin_start": 1.2,
            "count": 0
           },
           {
            "bin_end": 1.4,
            "bin_start": 1.3,
            "count": 0
           },
           {
            "bin_end": 1.5,
            "bin_start": 1.4,
            "count": 0
           },
           {
            "bin_end": 1.6,
            "bin_start": 1.5,
            "count": 0
           },
           {
            "bin_end": 1.7000000000000002,
            "bin_start": 1.6,
            "count": 0
           },
           {
            "bin_end": 1.8,
            "bin_start": 1.7000000000000002,
            "count": 0
           },
           {
            "bin_end": 1.9,
            "bin_start": 1.8,
            "count": 0
           },
           {
            "bin_end": 2,
            "bin_start": 1.9,
            "count": 2
           }
          ],
          "max": "2.0",
          "min": "1.0",
          "nan_count": 0,
          "unique_count": 2
         }
        },
        {
         "dtype": "int64",
         "name": "amenities_count",
         "stats": {
          "histogram": [
           {
            "bin_end": 34.3,
            "bin_start": 32,
            "count": 1
           },
           {
            "bin_end": 36.6,
            "bin_start": 34.3,
            "count": 0
           },
           {
            "bin_end": 38.9,
            "bin_start": 36.6,
            "count": 0
           },
           {
            "bin_end": 41.2,
            "bin_start": 38.9,
            "count": 1
           },
           {
            "bin_end": 43.5,
            "bin_start": 41.2,
            "count": 0
           },
           {
            "bin_end": 45.8,
            "bin_start": 43.5,
            "count": 0
           },
           {
            "bin_end": 48.099999999999994,
            "bin_start": 45.8,
            "count": 1
           },
           {
            "bin_end": 50.4,
            "bin_start": 48.099999999999994,
            "count": 0
           },
           {
            "bin_end": 52.7,
            "bin_start": 50.4,
            "count": 0
           },
           {
            "bin_end": 55,
            "bin_start": 52.7,
            "count": 2
           }
          ],
          "max": "55",
          "min": "32",
          "nan_count": 0,
          "unique_count": 5
         }
        },
        {
         "dtype": "int64",
         "name": "host_response_time_encoded",
         "stats": {
          "histogram": [
           {
            "bin_end": 0.6,
            "bin_start": 0.5,
            "count": 0
           },
           {
            "bin_end": 0.7,
            "bin_start": 0.6,
            "count": 0
           },
           {
            "bin_end": 0.8,
            "bin_start": 0.7,
            "count": 0
           },
           {
            "bin_end": 0.9,
            "bin_start": 0.8,
            "count": 0
           },
           {
            "bin_end": 1,
            "bin_start": 0.9,
            "count": 0
           },
           {
            "bin_end": 1.1,
            "bin_start": 1,
            "count": 5
           },
           {
            "bin_end": 1.2000000000000002,
            "bin_start": 1.1,
            "count": 0
           },
           {
            "bin_end": 1.3,
            "bin_start": 1.2000000000000002,
            "count": 0
           },
           {
            "bin_end": 1.4,
            "bin_start": 1.3,
            "count": 0
           },
           {
            "bin_end": 1.5,
            "bin_start": 1.4,
            "count": 0
           }
          ],
          "max": "1",
          "min": "1",
          "nan_count": 0,
          "unique_count": 1
         }
        },
        {
         "dtype": "int64",
         "name": "host_operate_years",
         "stats": {
          "histogram": [
           {
            "bin_end": 4.6,
            "bin_start": 4,
            "count": 1
           },
           {
            "bin_end": 5.2,
            "bin_start": 4.6,
            "count": 1
           },
           {
            "bin_end": 5.8,
            "bin_start": 5.2,
            "count": 0
           },
           {
            "bin_end": 6.4,
            "bin_start": 5.8,
            "count": 0
           },
           {
            "bin_end": 7,
            "bin_start": 6.4,
            "count": 0
           },
           {
            "bin_end": 7.6,
            "bin_start": 7,
            "count": 1
           },
           {
            "bin_end": 8.2,
            "bin_start": 7.6,
            "count": 0
           },
           {
            "bin_end": 8.8,
            "bin_start": 8.2,
            "count": 0
           },
           {
            "bin_end": 9.399999999999999,
            "bin_start": 8.8,
            "count": 1
           },
           {
            "bin_end": 10,
            "bin_start": 9.399999999999999,
            "count": 1
           }
          ],
          "max": "10",
          "min": "4",
          "nan_count": 0,
          "unique_count": 5
         }
        },
        {
         "dtype": "float64",
         "name": "polarity",
         "stats": {
          "histogram": [
           {
            "bin_end": 0.7946479617224879,
            "bin_start": 0.7807121212121211,
            "count": 1
           },
           {
            "bin_end": 0.8085838022328548,
            "bin_start": 0.7946479617224879,
            "count": 0
           },
           {
            "bin_end": 0.8225196427432215,
            "bin_start": 0.8085838022328548,
            "count": 1
           },
           {
            "bin_end": 0.8364554832535884,
            "bin_start": 0.8225196427432215,
            "count": 0
           },
           {
            "bin_end": 0.8503913237639552,
            "bin_start": 0.8364554832535884,
            "count": 0
           },
           {
            "bin_end": 0.864327164274322,
            "bin_start": 0.8503913237639552,
            "count": 0
           },
           {
            "bin_end": 0.8782630047846889,
            "bin_start": 0.864327164274322,
            "count": 0
           },
           {
            "bin_end": 0.8921988452950557,
            "bin_start": 0.8782630047846889,
            "count": 1
           },
           {
            "bin_end": 0.9061346858054226,
            "bin_start": 0.8921988452950557,
            "count": 0
           },
           {
            "bin_end": 0.9200705263157893,
            "bin_start": 0.9061346858054226,
            "count": 2
           }
          ],
          "max": "0.9200705263157893",
          "min": "0.7807121212121211",
          "nan_count": 0,
          "unique_count": 5
         }
        },
        {
         "dtype": "int64",
         "name": "_deepnote_index_column"
        }
       ],
       "row_count": 5,
       "rows": [
        {
         "_deepnote_index_column": "0",
         "accommodates": "8",
         "amenities_count": "53",
         "bathrooms_count": "2.0",
         "bedrooms": "4.0",
         "beds": "4.0",
         "calculated_host_listings_count": "1",
         "calculated_host_listings_count_entire_homes": "1",
         "calculated_host_listings_count_private_rooms": "0",
         "calculated_host_listings_count_shared_rooms": "0",
         "has_license": "1",
         "host_acceptance_rate": "1.0",
         "host_has_profile_pic": "1",
         "host_id": "188538325",
         "host_identity_verified": "1",
         "host_is_superhost": "1",
         "host_operate_years": "4",
         "host_response_rate": "1.0",
         "host_response_time_encoded": "1",
         "instant_bookable": "0",
         "latitude": "47.51028",
         "listing_id": "49113826",
         "longitude": "-122.24668",
         "maximum_nights": "30",
         "minimum_nights": "3",
         "number_of_reviews": "18",
         "number_of_reviews_l30d": "1",
         "number_of_reviews_ltm": "7",
         "polarity": "0.8173647058823529",
         "price": "280.0",
         "review_scores_accuracy": "4.89",
         "review_scores_checkin": "4.89",
         "review_scores_cleanliness": "4.94",
         "review_scores_communication": "4.89",
         "review_scores_location": "4.61",
         "review_scores_rating": "4.83",
         "review_scores_value": "4.72",
         "reviews_per_month": "0.98"
        },
        {
         "_deepnote_index_column": "1",
         "accommodates": "6",
         "amenities_count": "55",
         "bathrooms_count": "2.0",
         "bedrooms": "3.0",
         "beds": "3.0",
         "calculated_host_listings_count": "2",
         "calculated_host_listings_count_entire_homes": "2",
         "calculated_host_listings_count_private_rooms": "0",
         "calculated_host_listings_count_shared_rooms": "0",
         "has_license": "1",
         "host_acceptance_rate": "1.0",
         "host_has_profile_pic": "1",
         "host_id": "2144954",
         "host_identity_verified": "0",
         "host_is_superhost": "0",
         "host_operate_years": "10",
         "host_response_rate": "1.0",
         "host_response_time_encoded": "1",
         "instant_bookable": "1",
         "latitude": "47.544739",
         "listing_id": "7455832",
         "longitude": "-122.319786",
         "maximum_nights": "150",
         "minimum_nights": "1",
         "number_of_reviews": "27",
         "number_of_reviews_l30d": "3",
         "number_of_reviews_ltm": "27",
         "polarity": "0.9136481481481482",
         "price": "156.0",
         "review_scores_accuracy": "4.96",
         "review_scores_checkin": "4.93",
         "review_scores_cleanliness": "4.89",
         "review_scores_communication": "4.96",
         "review_scores_location": "4.93",
         "review_scores_rating": "4.89",
         "review_scores_value": "4.93",
         "reviews_per_month": "4.07"
        },
        {
         "_deepnote_index_column": "2",
         "accommodates": "2",
         "amenities_count": "40",
         "bathrooms_count": "1.0",
         "bedrooms": "1.0",
         "beds": "1.0",
         "calculated_host_listings_count": "1",
         "calculated_host_listings_count_entire_homes": "1",
         "calculated_host_listings_count_private_rooms": "0",
         "calculated_host_listings_count_shared_rooms": "0",
         "has_license": "1",
         "host_acceptance_rate": "1.0",
         "host_has_profile_pic": "1",
         "host_id": "10181843",
         "host_identity_verified": "1",
         "host_is_superhost": "1",
         "host_operate_years": "9",
         "host_response_rate": "1.0",
         "host_response_time_encoded": "1",
         "instant_bookable": "0",
         "latitude": "47.5738",
         "listing_id": "42313537",
         "longitude": "-122.41552",
         "maximum_nights": "31",
         "minimum_nights": "1",
         "number_of_reviews": "177",
         "number_of_reviews_l30d": "4",
         "number_of_reviews_ltm": "82",
         "polarity": "0.8811813559322037",
         "price": "135.0",
         "review_scores_accuracy": "4.99",
         "review_scores_checkin": "5.0",
         "review_scores_cleanliness": "5.0",
         "review_scores_communication": "5.0",
         "review_scores_location": "4.99",
         "review_scores_rating": "4.99",
         "review_scores_value": "4.94",
         "reviews_per_month": "7.94"
        },
        {
         "_deepnote_index_column": "4",
         "accommodates": "6",
         "amenities_count": "32",
         "bathrooms_count": "1.0",
         "bedrooms": "3.0",
         "beds": "3.0",
         "calculated_host_listings_count": "27",
         "calculated_host_listings_count_entire_homes": "27",
         "calculated_host_listings_count_private_rooms": "0",
         "calculated_host_listings_count_shared_rooms": "0",
         "has_license": "1",
         "host_acceptance_rate": "0.99",
         "host_has_profile_pic": "1",
         "host_id": "111812937",
         "host_identity_verified": "1",
         "host_is_superhost": "0",
         "host_operate_years": "5",
         "host_response_rate": "0.97",
         "host_response_time_encoded": "1",
         "instant_bookable": "1",
         "latitude": "47.64952",
         "listing_id": "46727219",
         "longitude": "-122.33891",
         "maximum_nights": "1125",
         "minimum_nights": "2",
         "number_of_reviews": "34",
         "number_of_reviews_l30d": "0",
         "number_of_reviews_ltm": "20",
         "polarity": "0.7807121212121211",
         "price": "130.0",
         "review_scores_accuracy": "4.76",
         "review_scores_checkin": "4.88",
         "review_scores_cleanliness": "4.82",
         "review_scores_communication": "4.71",
         "review_scores_location": "4.94",
         "review_scores_rating": "4.74",
         "review_scores_value": "4.65",
         "reviews_per_month": "1.48"
        },
        {
         "_deepnote_index_column": "6",
         "accommodates": "6",
         "amenities_count": "46",
         "bathrooms_count": "1.0",
         "bedrooms": "2.0",
         "beds": "2.0",
         "calculated_host_listings_count": "1",
         "calculated_host_listings_count_entire_homes": "1",
         "calculated_host_listings_count_private_rooms": "0",
         "calculated_host_listings_count_shared_rooms": "0",
         "has_license": "1",
         "host_acceptance_rate": "0.95",
         "host_has_profile_pic": "1",
         "host_id": "40706640",
         "host_identity_verified": "1",
         "host_is_superhost": "1",
         "host_operate_years": "7",
         "host_response_rate": "1.0",
         "host_response_time_encoded": "1",
         "instant_bookable": "0",
         "latitude": "47.63194",
         "listing_id": "16962405",
         "longitude": "-122.36813",
         "maximum_nights": "1125",
         "minimum_nights": "3",
         "number_of_reviews": "98",
         "number_of_reviews_l30d": "3",
         "number_of_reviews_ltm": "23",
         "polarity": "0.9200705263157893",
         "price": "286.0",
         "review_scores_accuracy": "4.96",
         "review_scores_checkin": "4.99",
         "review_scores_cleanliness": "4.91",
         "review_scores_communication": "4.99",
         "review_scores_location": "4.97",
         "review_scores_rating": "4.94",
         "review_scores_value": "4.9",
         "reviews_per_month": "1.41"
        }
       ]
      },
      "text/html": [
       "<div>\n",
       "<style scoped>\n",
       "    .dataframe tbody tr th:only-of-type {\n",
       "        vertical-align: middle;\n",
       "    }\n",
       "\n",
       "    .dataframe tbody tr th {\n",
       "        vertical-align: top;\n",
       "    }\n",
       "\n",
       "    .dataframe thead th {\n",
       "        text-align: right;\n",
       "    }\n",
       "</style>\n",
       "<table border=\"1\" class=\"dataframe\">\n",
       "  <thead>\n",
       "    <tr style=\"text-align: right;\">\n",
       "      <th></th>\n",
       "      <th>listing_id</th>\n",
       "      <th>host_id</th>\n",
       "      <th>host_response_rate</th>\n",
       "      <th>host_acceptance_rate</th>\n",
       "      <th>host_is_superhost</th>\n",
       "      <th>host_has_profile_pic</th>\n",
       "      <th>host_identity_verified</th>\n",
       "      <th>latitude</th>\n",
       "      <th>longitude</th>\n",
       "      <th>accommodates</th>\n",
       "      <th>bedrooms</th>\n",
       "      <th>beds</th>\n",
       "      <th>price</th>\n",
       "      <th>minimum_nights</th>\n",
       "      <th>maximum_nights</th>\n",
       "      <th>number_of_reviews</th>\n",
       "      <th>number_of_reviews_ltm</th>\n",
       "      <th>number_of_reviews_l30d</th>\n",
       "      <th>review_scores_rating</th>\n",
       "      <th>review_scores_accuracy</th>\n",
       "      <th>review_scores_cleanliness</th>\n",
       "      <th>review_scores_checkin</th>\n",
       "      <th>review_scores_communication</th>\n",
       "      <th>review_scores_location</th>\n",
       "      <th>review_scores_value</th>\n",
       "      <th>has_license</th>\n",
       "      <th>instant_bookable</th>\n",
       "      <th>calculated_host_listings_count</th>\n",
       "      <th>calculated_host_listings_count_entire_homes</th>\n",
       "      <th>calculated_host_listings_count_private_rooms</th>\n",
       "      <th>calculated_host_listings_count_shared_rooms</th>\n",
       "      <th>reviews_per_month</th>\n",
       "      <th>bathrooms_count</th>\n",
       "      <th>amenities_count</th>\n",
       "      <th>host_response_time_encoded</th>\n",
       "      <th>host_operate_years</th>\n",
       "      <th>polarity</th>\n",
       "    </tr>\n",
       "  </thead>\n",
       "  <tbody>\n",
       "    <tr>\n",
       "      <th>0</th>\n",
       "      <td>49113826</td>\n",
       "      <td>188538325</td>\n",
       "      <td>1.00</td>\n",
       "      <td>1.00</td>\n",
       "      <td>1</td>\n",
       "      <td>1</td>\n",
       "      <td>1</td>\n",
       "      <td>47.510280</td>\n",
       "      <td>-122.246680</td>\n",
       "      <td>8</td>\n",
       "      <td>4.0</td>\n",
       "      <td>4.0</td>\n",
       "      <td>280.0</td>\n",
       "      <td>3</td>\n",
       "      <td>30</td>\n",
       "      <td>18</td>\n",
       "      <td>7</td>\n",
       "      <td>1</td>\n",
       "      <td>4.83</td>\n",
       "      <td>4.89</td>\n",
       "      <td>4.94</td>\n",
       "      <td>4.89</td>\n",
       "      <td>4.89</td>\n",
       "      <td>4.61</td>\n",
       "      <td>4.72</td>\n",
       "      <td>1</td>\n",
       "      <td>0</td>\n",
       "      <td>1</td>\n",
       "      <td>1</td>\n",
       "      <td>0</td>\n",
       "      <td>0</td>\n",
       "      <td>0.98</td>\n",
       "      <td>2.0</td>\n",
       "      <td>53</td>\n",
       "      <td>1</td>\n",
       "      <td>4</td>\n",
       "      <td>0.817365</td>\n",
       "    </tr>\n",
       "    <tr>\n",
       "      <th>1</th>\n",
       "      <td>7455832</td>\n",
       "      <td>2144954</td>\n",
       "      <td>1.00</td>\n",
       "      <td>1.00</td>\n",
       "      <td>0</td>\n",
       "      <td>1</td>\n",
       "      <td>0</td>\n",
       "      <td>47.544739</td>\n",
       "      <td>-122.319786</td>\n",
       "      <td>6</td>\n",
       "      <td>3.0</td>\n",
       "      <td>3.0</td>\n",
       "      <td>156.0</td>\n",
       "      <td>1</td>\n",
       "      <td>150</td>\n",
       "      <td>27</td>\n",
       "      <td>27</td>\n",
       "      <td>3</td>\n",
       "      <td>4.89</td>\n",
       "      <td>4.96</td>\n",
       "      <td>4.89</td>\n",
       "      <td>4.93</td>\n",
       "      <td>4.96</td>\n",
       "      <td>4.93</td>\n",
       "      <td>4.93</td>\n",
       "      <td>1</td>\n",
       "      <td>1</td>\n",
       "      <td>2</td>\n",
       "      <td>2</td>\n",
       "      <td>0</td>\n",
       "      <td>0</td>\n",
       "      <td>4.07</td>\n",
       "      <td>2.0</td>\n",
       "      <td>55</td>\n",
       "      <td>1</td>\n",
       "      <td>10</td>\n",
       "      <td>0.913648</td>\n",
       "    </tr>\n",
       "    <tr>\n",
       "      <th>2</th>\n",
       "      <td>42313537</td>\n",
       "      <td>10181843</td>\n",
       "      <td>1.00</td>\n",
       "      <td>1.00</td>\n",
       "      <td>1</td>\n",
       "      <td>1</td>\n",
       "      <td>1</td>\n",
       "      <td>47.573800</td>\n",
       "      <td>-122.415520</td>\n",
       "      <td>2</td>\n",
       "      <td>1.0</td>\n",
       "      <td>1.0</td>\n",
       "      <td>135.0</td>\n",
       "      <td>1</td>\n",
       "      <td>31</td>\n",
       "      <td>177</td>\n",
       "      <td>82</td>\n",
       "      <td>4</td>\n",
       "      <td>4.99</td>\n",
       "      <td>4.99</td>\n",
       "      <td>5.00</td>\n",
       "      <td>5.00</td>\n",
       "      <td>5.00</td>\n",
       "      <td>4.99</td>\n",
       "      <td>4.94</td>\n",
       "      <td>1</td>\n",
       "      <td>0</td>\n",
       "      <td>1</td>\n",
       "      <td>1</td>\n",
       "      <td>0</td>\n",
       "      <td>0</td>\n",
       "      <td>7.94</td>\n",
       "      <td>1.0</td>\n",
       "      <td>40</td>\n",
       "      <td>1</td>\n",
       "      <td>9</td>\n",
       "      <td>0.881181</td>\n",
       "    </tr>\n",
       "    <tr>\n",
       "      <th>4</th>\n",
       "      <td>46727219</td>\n",
       "      <td>111812937</td>\n",
       "      <td>0.97</td>\n",
       "      <td>0.99</td>\n",
       "      <td>0</td>\n",
       "      <td>1</td>\n",
       "      <td>1</td>\n",
       "      <td>47.649520</td>\n",
       "      <td>-122.338910</td>\n",
       "      <td>6</td>\n",
       "      <td>3.0</td>\n",
       "      <td>3.0</td>\n",
       "      <td>130.0</td>\n",
       "      <td>2</td>\n",
       "      <td>1125</td>\n",
       "      <td>34</td>\n",
       "      <td>20</td>\n",
       "      <td>0</td>\n",
       "      <td>4.74</td>\n",
       "      <td>4.76</td>\n",
       "      <td>4.82</td>\n",
       "      <td>4.88</td>\n",
       "      <td>4.71</td>\n",
       "      <td>4.94</td>\n",
       "      <td>4.65</td>\n",
       "      <td>1</td>\n",
       "      <td>1</td>\n",
       "      <td>27</td>\n",
       "      <td>27</td>\n",
       "      <td>0</td>\n",
       "      <td>0</td>\n",
       "      <td>1.48</td>\n",
       "      <td>1.0</td>\n",
       "      <td>32</td>\n",
       "      <td>1</td>\n",
       "      <td>5</td>\n",
       "      <td>0.780712</td>\n",
       "    </tr>\n",
       "    <tr>\n",
       "      <th>6</th>\n",
       "      <td>16962405</td>\n",
       "      <td>40706640</td>\n",
       "      <td>1.00</td>\n",
       "      <td>0.95</td>\n",
       "      <td>1</td>\n",
       "      <td>1</td>\n",
       "      <td>1</td>\n",
       "      <td>47.631940</td>\n",
       "      <td>-122.368130</td>\n",
       "      <td>6</td>\n",
       "      <td>2.0</td>\n",
       "      <td>2.0</td>\n",
       "      <td>286.0</td>\n",
       "      <td>3</td>\n",
       "      <td>1125</td>\n",
       "      <td>98</td>\n",
       "      <td>23</td>\n",
       "      <td>3</td>\n",
       "      <td>4.94</td>\n",
       "      <td>4.96</td>\n",
       "      <td>4.91</td>\n",
       "      <td>4.99</td>\n",
       "      <td>4.99</td>\n",
       "      <td>4.97</td>\n",
       "      <td>4.90</td>\n",
       "      <td>1</td>\n",
       "      <td>0</td>\n",
       "      <td>1</td>\n",
       "      <td>1</td>\n",
       "      <td>0</td>\n",
       "      <td>0</td>\n",
       "      <td>1.41</td>\n",
       "      <td>1.0</td>\n",
       "      <td>46</td>\n",
       "      <td>1</td>\n",
       "      <td>7</td>\n",
       "      <td>0.920071</td>\n",
       "    </tr>\n",
       "  </tbody>\n",
       "</table>\n",
       "</div>"
      ],
      "text/plain": [
       "   listing_id    host_id  host_response_rate  host_acceptance_rate  \\\n",
       "0    49113826  188538325                1.00                  1.00   \n",
       "1     7455832    2144954                1.00                  1.00   \n",
       "2    42313537   10181843                1.00                  1.00   \n",
       "4    46727219  111812937                0.97                  0.99   \n",
       "6    16962405   40706640                1.00                  0.95   \n",
       "\n",
       "   host_is_superhost  host_has_profile_pic  host_identity_verified   latitude  \\\n",
       "0                  1                     1                       1  47.510280   \n",
       "1                  0                     1                       0  47.544739   \n",
       "2                  1                     1                       1  47.573800   \n",
       "4                  0                     1                       1  47.649520   \n",
       "6                  1                     1                       1  47.631940   \n",
       "\n",
       "    longitude  accommodates  bedrooms  beds  price  minimum_nights  \\\n",
       "0 -122.246680             8       4.0   4.0  280.0               3   \n",
       "1 -122.319786             6       3.0   3.0  156.0               1   \n",
       "2 -122.415520             2       1.0   1.0  135.0               1   \n",
       "4 -122.338910             6       3.0   3.0  130.0               2   \n",
       "6 -122.368130             6       2.0   2.0  286.0               3   \n",
       "\n",
       "   maximum_nights  number_of_reviews  number_of_reviews_ltm  \\\n",
       "0              30                 18                      7   \n",
       "1             150                 27                     27   \n",
       "2              31                177                     82   \n",
       "4            1125                 34                     20   \n",
       "6            1125                 98                     23   \n",
       "\n",
       "   number_of_reviews_l30d  review_scores_rating  review_scores_accuracy  \\\n",
       "0                       1                  4.83                    4.89   \n",
       "1                       3                  4.89                    4.96   \n",
       "2                       4                  4.99                    4.99   \n",
       "4                       0                  4.74                    4.76   \n",
       "6                       3                  4.94                    4.96   \n",
       "\n",
       "   review_scores_cleanliness  review_scores_checkin  \\\n",
       "0                       4.94                   4.89   \n",
       "1                       4.89                   4.93   \n",
       "2                       5.00                   5.00   \n",
       "4                       4.82                   4.88   \n",
       "6                       4.91                   4.99   \n",
       "\n",
       "   review_scores_communication  review_scores_location  review_scores_value  \\\n",
       "0                         4.89                    4.61                 4.72   \n",
       "1                         4.96                    4.93                 4.93   \n",
       "2                         5.00                    4.99                 4.94   \n",
       "4                         4.71                    4.94                 4.65   \n",
       "6                         4.99                    4.97                 4.90   \n",
       "\n",
       "   has_license  instant_bookable  calculated_host_listings_count  \\\n",
       "0            1                 0                               1   \n",
       "1            1                 1                               2   \n",
       "2            1                 0                               1   \n",
       "4            1                 1                              27   \n",
       "6            1                 0                               1   \n",
       "\n",
       "   calculated_host_listings_count_entire_homes  \\\n",
       "0                                            1   \n",
       "1                                            2   \n",
       "2                                            1   \n",
       "4                                           27   \n",
       "6                                            1   \n",
       "\n",
       "   calculated_host_listings_count_private_rooms  \\\n",
       "0                                             0   \n",
       "1                                             0   \n",
       "2                                             0   \n",
       "4                                             0   \n",
       "6                                             0   \n",
       "\n",
       "   calculated_host_listings_count_shared_rooms  reviews_per_month  \\\n",
       "0                                            0               0.98   \n",
       "1                                            0               4.07   \n",
       "2                                            0               7.94   \n",
       "4                                            0               1.48   \n",
       "6                                            0               1.41   \n",
       "\n",
       "   bathrooms_count  amenities_count  host_response_time_encoded  \\\n",
       "0              2.0               53                           1   \n",
       "1              2.0               55                           1   \n",
       "2              1.0               40                           1   \n",
       "4              1.0               32                           1   \n",
       "6              1.0               46                           1   \n",
       "\n",
       "   host_operate_years  polarity  \n",
       "0                   4  0.817365  \n",
       "1                  10  0.913648  \n",
       "2                   9  0.881181  \n",
       "4                   5  0.780712  \n",
       "6                   7  0.920071  "
      ]
     },
     "execution_count": 20,
     "metadata": {},
     "output_type": "execute_result"
    }
   ],
   "source": [
    "df_model_num.head(5)"
   ]
  },
  {
   "cell_type": "code",
   "execution_count": 21,
   "metadata": {
    "cell_id": "9763de477fe14bff8b14a00aee72f517",
    "colab": {
     "base_uri": "https://localhost:8080/"
    },
    "deepnote_cell_type": "code",
    "deepnote_to_be_reexecuted": false,
    "execution_millis": 350,
    "execution_start": 1679801004341,
    "id": "rED9DVpXgUi_",
    "outputId": "ec91afb8-0512-4423-a683-be27e4d57ca6",
    "source_hash": "6f2651c"
   },
   "outputs": [
    {
     "data": {
      "text/plain": [
       "array([[1.        , 0.50980478, 0.4714846 , ..., 0.99273633, 0.99243226,\n",
       "        0.25208508],\n",
       "       [0.50980478, 1.        , 0.99903284, ..., 0.60960351, 0.40030876,\n",
       "        0.96102129],\n",
       "       [0.4714846 , 0.99903284, 1.        , ..., 0.57415848, 0.35962819,\n",
       "        0.97224846],\n",
       "       ...,\n",
       "       [0.99273633, 0.60960351, 0.57415848, ..., 1.        , 0.97045024,\n",
       "        0.36667893],\n",
       "       [0.99243226, 0.40030876, 0.35962819, ..., 0.97045024, 1.        ,\n",
       "        0.13134957],\n",
       "       [0.25208508, 0.96102129, 0.97224846, ..., 0.36667893, 0.13134957,\n",
       "        1.        ]])"
      ]
     },
     "execution_count": 21,
     "metadata": {},
     "output_type": "execute_result"
    }
   ],
   "source": [
    "similarity = cosine_similarity(df_model_num)\n",
    "similarity"
   ]
  },
  {
   "cell_type": "code",
   "execution_count": 22,
   "metadata": {
    "cell_id": "61bd9b22a8904f558d0319710472aad2",
    "colab": {
     "base_uri": "https://localhost:8080/"
    },
    "deepnote_cell_type": "code",
    "deepnote_to_be_reexecuted": false,
    "execution_millis": 1,
    "execution_start": 1679801007358,
    "id": "0u7E_KV8ji0R",
    "outputId": "e5e109a1-602d-4296-c94b-1b135e7df632",
    "source_hash": "247637cd"
   },
   "outputs": [
    {
     "data": {
      "text/plain": [
       "array([0.99904379, 0.47170479, 0.43247758, ..., 0.98652701, 0.9968519 ,\n",
       "       0.20953526])"
      ]
     },
     "execution_count": 22,
     "metadata": {},
     "output_type": "execute_result"
    }
   ],
   "source": [
    "similarity[500]"
   ]
  },
  {
   "cell_type": "markdown",
   "metadata": {
    "cell_id": "593a879b2d0e49b398f29cf4059dcda1",
    "deepnote_cell_type": "markdown",
    "id": "fMoyo_A_hUFW"
   },
   "source": [
    "#### Recommend top n similar properties"
   ]
  },
  {
   "cell_type": "markdown",
   "metadata": {
    "cell_id": "a3b150679a1348708cf6e7af620d8a61",
    "deepnote_cell_type": "markdown",
    "id": "f24hl6TamS0o"
   },
   "source": [
    "Let's determine what columns should we show in our app"
   ]
  },
  {
   "cell_type": "code",
   "execution_count": 23,
   "metadata": {
    "cell_id": "4f29a6512f694e5bb10e62e91b0a2fba",
    "colab": {
     "base_uri": "https://localhost:8080/"
    },
    "deepnote_cell_type": "code",
    "deepnote_to_be_reexecuted": false,
    "execution_millis": 2,
    "execution_start": 1679801014188,
    "id": "QaJElzZGnEbI",
    "outputId": "1757e379-7406-44f7-ac41-ed7a5454100f",
    "source_hash": "4b3ee47f"
   },
   "outputs": [
    {
     "data": {
      "text/plain": [
       "['listing_id',\n",
       " 'listing_url',\n",
       " 'last_scraped',\n",
       " 'listing_name',\n",
       " 'description',\n",
       " 'neighborhood_overview',\n",
       " 'picture_url',\n",
       " 'host_id',\n",
       " 'host_url',\n",
       " 'host_name']"
      ]
     },
     "execution_count": 23,
     "metadata": {},
     "output_type": "execute_result"
    }
   ],
   "source": [
    "model_columns_all = list(df_model.columns.values)\n",
    "model_columns_all[:10]"
   ]
  },
  {
   "cell_type": "code",
   "execution_count": 24,
   "metadata": {
    "cell_id": "083293a9f76340b1bc237f28a73db55b",
    "deepnote_cell_type": "code",
    "deepnote_to_be_reexecuted": false,
    "execution_millis": 2,
    "execution_start": 1679801015231,
    "id": "J5BXtw_smaFU",
    "source_hash": "e4c652ca"
   },
   "outputs": [],
   "source": [
    "ui_display_columns = ['listing_id', 'listing_url', \n",
    "                    'neighbourhood_cleansed', 'neighbourhood_group_cleansed', 'latitude',\n",
    "                    'longitude', 'property_type', 'room_type', 'accommodates', 'bedrooms',\n",
    "                    'beds', 'amenities', 'price', 'review_scores_rating',\n",
    "                    'bathrooms_count', 'amenities_count', 'host_response_time_encoded',\n",
    "                    'host_operate_years', 'polarity']"
   ]
  },
  {
   "cell_type": "markdown",
   "metadata": {
    "cell_id": "e76cc99660c1428db48c09f415397643",
    "deepnote_cell_type": "markdown",
    "id": "P-hDCvjYpaIh"
   },
   "source": [
    "Since we're using iloc in our recommender to retrieve the rows, we need to also use the numeric index for the columns."
   ]
  },
  {
   "cell_type": "code",
   "execution_count": 25,
   "metadata": {
    "cell_id": "8940d655134c4cc1aa28f5f55dfecc05",
    "colab": {
     "base_uri": "https://localhost:8080/"
    },
    "deepnote_cell_type": "code",
    "deepnote_to_be_reexecuted": false,
    "execution_millis": 3,
    "execution_start": 1679801020618,
    "id": "un7au-M_nbfe",
    "outputId": "b5fe1509-365e-43c8-a0ba-25e2ea836240",
    "source_hash": "107b75b6"
   },
   "outputs": [
    {
     "data": {
      "text/plain": [
       "[0, 1, 22, 23, 24, 25, 26, 27, 28, 29, 30, 31, 32, 40, 54, 55, 56, 57, 59]"
      ]
     },
     "execution_count": 25,
     "metadata": {},
     "output_type": "execute_result"
    }
   ],
   "source": [
    "iloc_cols = [model_columns_all.index(x) for x in ui_display_columns]\n",
    "iloc_cols"
   ]
  },
  {
   "cell_type": "markdown",
   "metadata": {
    "cell_id": "e436ace5cf734618bf62c3a1c6d9bff6",
    "deepnote_cell_type": "markdown",
    "id": "ayDqK8Bi1ulb"
   },
   "source": [
    "Get the recommendations"
   ]
  },
  {
   "cell_type": "code",
   "execution_count": 26,
   "metadata": {
    "cell_id": "bfc99734707d4a268a1b18d45e9b4d9d",
    "deepnote_cell_type": "code",
    "deepnote_to_be_reexecuted": false,
    "execution_millis": 2,
    "execution_start": 1679801026268,
    "id": "kNBy2NkMhgJL",
    "source_hash": "d4f30ad5"
   },
   "outputs": [],
   "source": [
    "def get_recommendations(df, similarity, n, listing_id=None, listing_url=None, query_element=None):\n",
    "\n",
    "    # convert query into and a similarity matrix row index\n",
    "    item_index = None\n",
    "    try:    \n",
    "        if listing_id is not None:\n",
    "            item_index = df['listing_id'].tolist().index(listing_id)\n",
    "        elif listing_url is not None:\n",
    "            item_index = df['listing_url'].tolist().index(listing_url)\n",
    "        elif query_element is not None:\n",
    "            item_index = query_element\n",
    "    except ValueError as error:\n",
    "        print(error)\n",
    "\n",
    "    # get the top n similar items\n",
    "    top_idx = np.argsort(similarity[item_index])[::-1][:n]\n",
    "    print(top_idx)\n",
    "    result_df = df.iloc[top_idx, iloc_cols]\n",
    "\n",
    "    # add in similarity score as a column\n",
    "    top_scores = [similarity[item_index][x] for x in top_idx]\n",
    "    result_df.insert(loc=2, column='similarity', value=top_scores)\n",
    "\n",
    "    return result_df\n"
   ]
  },
  {
   "cell_type": "markdown",
   "metadata": {
    "cell_id": "a2fa94c0f35648e584e5404da850b84f",
    "deepnote_cell_type": "markdown",
    "id": "5kR5hsy41yC2"
   },
   "source": [
    "### Try the recommender system"
   ]
  },
  {
   "cell_type": "markdown",
   "metadata": {
    "cell_id": "f630473b567a47988a83d6d284f78a2a",
    "deepnote_cell_type": "markdown",
    "id": "ubuijVJ4ydmB"
   },
   "source": [
    "Search for properties similar to the property at index == 500"
   ]
  },
  {
   "cell_type": "code",
   "execution_count": 27,
   "metadata": {
    "cell_id": "156195091d5144e6af2cf24c0e10271e",
    "colab": {
     "base_uri": "https://localhost:8080/"
    },
    "deepnote_cell_type": "code",
    "deepnote_to_be_reexecuted": false,
    "execution_millis": 6,
    "execution_start": 1679801084263,
    "id": "xp0eCjQpjTSU",
    "outputId": "ce59f4a0-edb7-43d3-b4fb-0aa1b1fbea4c",
    "source_hash": "bc6f9c77"
   },
   "outputs": [
    {
     "name": "stdout",
     "output_type": "stream",
     "text": [
      "[ 500  345 1741  360 1680]\n"
     ]
    }
   ],
   "source": [
    "df_recs = get_recommendations(df_model, similarity, 5, query_element=500)"
   ]
  },
  {
   "cell_type": "markdown",
   "metadata": {
    "cell_id": "97031e65884746e7919ab0c6a3b927c5",
    "deepnote_cell_type": "markdown",
    "id": "Yw79m6eGy188"
   },
   "source": [
    "The similarities seem so close! **Too good to be true?** Probably because we haven't included our categorical values yet. Or we need feature reduction maybe. Have to display with 10 digit precision just to see the difference!"
   ]
  },
  {
   "cell_type": "code",
   "execution_count": 28,
   "metadata": {
    "cell_id": "d3fa70aeb2804c0f829aefb2c8582bb5",
    "colab": {
     "base_uri": "https://localhost:8080/",
     "height": 523
    },
    "deepnote_cell_type": "code",
    "deepnote_to_be_reexecuted": false,
    "execution_millis": 13,
    "execution_start": 1679801097543,
    "id": "RSD5iV-1yKLp",
    "outputId": "a8fc49f2-9cd3-43cc-99f0-c5e48f56e856",
    "source_hash": "73ee5f5d"
   },
   "outputs": [
    {
     "data": {
      "application/vnd.deepnote.dataframe.v3+json": {
       "column_count": 20,
       "columns": [
        {
         "dtype": "int64",
         "name": "listing_id",
         "stats": {
          "histogram": [
           {
            "bin_end": 8842648.1,
            "bin_start": 4129218,
            "count": 1
           },
           {
            "bin_end": 13556078.2,
            "bin_start": 8842648.1,
            "count": 0
           },
           {
            "bin_end": 18269508.299999997,
            "bin_start": 13556078.2,
            "count": 0
           },
           {
            "bin_end": 22982938.4,
            "bin_start": 18269508.299999997,
            "count": 0
           },
           {
            "bin_end": 27696368.5,
            "bin_start": 22982938.4,
            "count": 1
           },
           {
            "bin_end": 32409798.599999998,
            "bin_start": 27696368.5,
            "count": 0
           },
           {
            "bin_end": 37123228.699999996,
            "bin_start": 32409798.599999998,
            "count": 0
           },
           {
            "bin_end": 41836658.8,
            "bin_start": 37123228.699999996,
            "count": 1
           },
           {
            "bin_end": 46550088.9,
            "bin_start": 41836658.8,
            "count": 0
           },
           {
            "bin_end": 51263519,
            "bin_start": 46550088.9,
            "count": 2
           }
          ],
          "max": "51263519",
          "min": "4129218",
          "nan_count": 0,
          "unique_count": 5
         }
        },
        {
         "dtype": "object",
         "name": "listing_url",
         "stats": {
          "categories": [
           {
            "count": 1,
            "name": "https://www.airbnb.com/rooms/26258898"
           },
           {
            "count": 1,
            "name": "https://www.airbnb.com/rooms/41218952"
           },
           {
            "count": 3,
            "name": "3 others"
           }
          ],
          "nan_count": 0,
          "unique_count": 5
         }
        },
        {
         "dtype": "float64",
         "name": "similarity",
         "stats": {
          "histogram": [
           {
            "bin_end": 0.9999997890637171,
            "bin_start": 0.9999997656263523,
            "count": 1
           },
           {
            "bin_end": 0.999999812501082,
            "bin_start": 0.9999997890637171,
            "count": 0
           },
           {
            "bin_end": 0.9999998359384469,
            "bin_start": 0.999999812501082,
            "count": 0
           },
           {
            "bin_end": 0.9999998593758117,
            "bin_start": 0.9999998359384469,
            "count": 0
           },
           {
            "bin_end": 0.9999998828131766,
            "bin_start": 0.9999998593758117,
            "count": 0
           },
           {
            "bin_end": 0.9999999062505415,
            "bin_start": 0.9999998828131766,
            "count": 0
           },
           {
            "bin_end": 0.9999999296879063,
            "bin_start": 0.9999999062505415,
            "count": 0
           },
           {
            "bin_end": 0.9999999531252711,
            "bin_start": 0.9999999296879063,
            "count": 0
           },
           {
            "bin_end": 0.9999999765626361,
            "bin_start": 0.9999999531252711,
            "count": 2
           },
           {
            "bin_end": 1.0000000000000009,
            "bin_start": 0.9999999765626361,
            "count": 2
           }
          ],
          "max": "1.0000000000000009",
          "min": "0.9999997656263523",
          "nan_count": 0,
          "unique_count": 5
         }
        },
        {
         "dtype": "object",
         "name": "neighbourhood_cleansed",
         "stats": {
          "categories": [
           {
            "count": 1,
            "name": "Greenwood"
           },
           {
            "count": 1,
            "name": "Bitter Lake"
           },
           {
            "count": 3,
            "name": "3 others"
           }
          ],
          "nan_count": 0,
          "unique_count": 5
         }
        },
        {
         "dtype": "object",
         "name": "neighbourhood_group_cleansed",
         "stats": {
          "categories": [
           {
            "count": 2,
            "name": "Other neighborhoods"
           },
           {
            "count": 1,
            "name": "Capitol Hill"
           },
           {
            "count": 2,
            "name": "2 others"
           }
          ],
          "nan_count": 0,
          "unique_count": 4
         }
        },
        {
         "dtype": "float64",
         "name": "latitude",
         "stats": {
          "histogram": [
           {
            "bin_end": 47.574200000000005,
            "bin_start": 47.5589,
            "count": 1
           },
           {
            "bin_end": 47.5895,
            "bin_start": 47.574200000000005,
            "count": 0
           },
           {
            "bin_end": 47.6048,
            "bin_start": 47.5895,
            "count": 0
           },
           {
            "bin_end": 47.6201,
            "bin_start": 47.6048,
            "count": 1
           },
           {
            "bin_end": 47.635400000000004,
            "bin_start": 47.6201,
            "count": 1
           },
           {
            "bin_end": 47.6507,
            "bin_start": 47.635400000000004,
            "count": 0
           },
           {
            "bin_end": 47.666,
            "bin_start": 47.6507,
            "count": 0
           },
           {
            "bin_end": 47.6813,
            "bin_start": 47.666,
            "count": 0
           },
           {
            "bin_end": 47.696600000000004,
            "bin_start": 47.6813,
            "count": 1
           },
           {
            "bin_end": 47.7119,
            "bin_start": 47.696600000000004,
            "count": 1
           }
          ],
          "max": "47.7119",
          "min": "47.5589",
          "nan_count": 0,
          "unique_count": 5
         }
        },
        {
         "dtype": "float64",
         "name": "longitude",
         "stats": {
          "histogram": [
           {
            "bin_end": -122.35359199999999,
            "bin_start": -122.35851,
            "count": 1
           },
           {
            "bin_end": -122.348674,
            "bin_start": -122.35359199999999,
            "count": 1
           },
           {
            "bin_end": -122.343756,
            "bin_start": -122.348674,
            "count": 0
           },
           {
            "bin_end": -122.338838,
            "bin_start": -122.343756,
            "count": 0
           },
           {
            "bin_end": -122.33392,
            "bin_start": -122.338838,
            "count": 0
           },
           {
            "bin_end": -122.329002,
            "bin_start": -122.33392,
            "count": 0
           },
           {
            "bin_end": -122.324084,
            "bin_start": -122.329002,
            "count": 1
           },
           {
            "bin_end": -122.319166,
            "bin_start": -122.324084,
            "count": 1
           },
           {
            "bin_end": -122.314248,
            "bin_start": -122.319166,
            "count": 0
           },
           {
            "bin_end": -122.30933,
            "bin_start": -122.314248,
            "count": 1
           }
          ],
          "max": "-122.30933",
          "min": "-122.35851",
          "nan_count": 0,
          "unique_count": 5
         }
        },
        {
         "dtype": "object",
         "name": "property_type",
         "stats": {
          "categories": [
           {
            "count": 2,
            "name": "Entire home"
           },
           {
            "count": 2,
            "name": "Entire rental unit"
           },
           {
            "count": 1,
            "name": "Entire guest suite"
           }
          ],
          "nan_count": 0,
          "unique_count": 3
         }
        },
        {
         "dtype": "object",
         "name": "room_type",
         "stats": {
          "categories": [
           {
            "count": 5,
            "name": "Entire home/apt"
           }
          ],
          "nan_count": 0,
          "unique_count": 1
         }
        },
        {
         "dtype": "int64",
         "name": "accommodates",
         "stats": {
          "histogram": [
           {
            "bin_end": 2.8,
            "bin_start": 2,
            "count": 1
           },
           {
            "bin_end": 3.6,
            "bin_start": 2.8,
            "count": 2
           },
           {
            "bin_end": 4.4,
            "bin_start": 3.6,
            "count": 0
           },
           {
            "bin_end": 5.2,
            "bin_start": 4.4,
            "count": 1
           },
           {
            "bin_end": 6,
            "bin_start": 5.2,
            "count": 0
           },
           {
            "bin_end": 6.800000000000001,
            "bin_start": 6,
            "count": 0
           },
           {
            "bin_end": 7.6000000000000005,
            "bin_start": 6.800000000000001,
            "count": 0
           },
           {
            "bin_end": 8.4,
            "bin_start": 7.6000000000000005,
            "count": 0
           },
           {
            "bin_end": 9.2,
            "bin_start": 8.4,
            "count": 0
           },
           {
            "bin_end": 10,
            "bin_start": 9.2,
            "count": 1
           }
          ],
          "max": "10",
          "min": "2",
          "nan_count": 0,
          "unique_count": 4
         }
        },
        {
         "dtype": "float64",
         "name": "bedrooms",
         "stats": {
          "histogram": [
           {
            "bin_end": 1.4,
            "bin_start": 1,
            "count": 2
           },
           {
            "bin_end": 1.8,
            "bin_start": 1.4,
            "count": 0
           },
           {
            "bin_end": 2.2,
            "bin_start": 1.8,
            "count": 1
           },
           {
            "bin_end": 2.6,
            "bin_start": 2.2,
            "count": 0
           },
           {
            "bin_end": 3,
            "bin_start": 2.6,
            "count": 0
           },
           {
            "bin_end": 3.4000000000000004,
            "bin_start": 3,
            "count": 1
           },
           {
            "bin_end": 3.8000000000000003,
            "bin_start": 3.4000000000000004,
            "count": 0
           },
           {
            "bin_end": 4.2,
            "bin_start": 3.8000000000000003,
            "count": 0
           },
           {
            "bin_end": 4.6,
            "bin_start": 4.2,
            "count": 0
           },
           {
            "bin_end": 5,
            "bin_start": 4.6,
            "count": 1
           }
          ],
          "max": "5.0",
          "min": "1.0",
          "nan_count": 0,
          "unique_count": 4
         }
        },
        {
         "dtype": "float64",
         "name": "beds",
         "stats": {
          "histogram": [
           {
            "bin_end": 1.4,
            "bin_start": 1,
            "count": 1
           },
           {
            "bin_end": 1.8,
            "bin_start": 1.4,
            "count": 0
           },
           {
            "bin_end": 2.2,
            "bin_start": 1.8,
            "count": 2
           },
           {
            "bin_end": 2.6,
            "bin_start": 2.2,
            "count": 0
           },
           {
            "bin_end": 3,
            "bin_start": 2.6,
            "count": 0
           },
           {
            "bin_end": 3.4000000000000004,
            "bin_start": 3,
            "count": 0
           },
           {
            "bin_end": 3.8000000000000003,
            "bin_start": 3.4000000000000004,
            "count": 0
           },
           {
            "bin_end": 4.2,
            "bin_start": 3.8000000000000003,
            "count": 1
           },
           {
            "bin_end": 4.6,
            "bin_start": 4.2,
            "count": 0
           },
           {
            "bin_end": 5,
            "bin_start": 4.6,
            "count": 1
           }
          ],
          "max": "5.0",
          "min": "1.0",
          "nan_count": 0,
          "unique_count": 4
         }
        },
        {
         "dtype": "object",
         "name": "amenities",
         "stats": {
          "categories": [
           {
            "count": 1,
            "name": "[\"Hot water\", \"Gas stove\", \"Refrigerator\", \"Bathtub\", \"Dishwasher\", \"Lockbox\", \"Private entrance\", \"54\\\" HDTV\", \"Dishes and silverware\", \"Kitchen\", \"Coffee maker\", \"Private patio or balcony\", \"Free street parking\", \"Iron\", \"Hair dryer\", \"Baby bath\", \"Microwave\", \"Fireplace guards\", \"Cooking basics\", \"Pack \\u2019n play/Travel crib\", \"Oven\", \"Free dryer \\u2013 In unit\", \"Private backyard \\u2013 Fully fenced\", \"Smoke alarm\", \"Babysitter recommendations\", \"Essentials\", \"Self check-in\", \"Fire extinguisher\", \"High chair\", \"Outlet covers\", \"Heating\", \"Outdoor furniture\", \"Long term stays allowed\", \"Wifi\", \"Children\\u2019s books and toys\", \"Children\\u2019s dinnerware\", \"Outdoor dining area\", \"BBQ grill\", \"First aid kit\", \"Hangers\", \"Free washer \\u2013 In unit\", \"Extra pillows and blankets\", \"Shampoo\", \"Game console\", \"Carbon monoxide alarm\", \"Crib\", \"Dedicated workspace\", \"Baby safety gates\", \"Bed linens\", \"Free parking on premises\"]"
           },
           {
            "count": 1,
            "name": "[\"Hot water\", \"Blender\", \"Shared patio or balcony\", \"Toaster\", \"Refrigerator\", \"Hot water kettle\", \"Free washer \\u2013 In building\", \"Private entrance\", \"Drying rack for clothing\", \"Fast wifi \\u2013 104 Mbps\", \"Dishes and silverware\", \"Kitchen\", \"Ginger Lily Farms, 100% vegan/cruelty free body soap\", \"Free street parking\", \"Ginger Lily Farms, 100% vegan/cruelty free shampoo\", \"Ginger Lily Farms, 100% vegan/cruelty free conditioner\", \"Iron\", \"Hair dryer\", \"Microwave\", \"Cooking basics\", \"Oven\", \"Private backyard \\u2013 Fully fenced\", \"Keypad\", \"Stove\", \"Smoke alarm\", \"Wine glasses\", \"Essentials\", \"Self check-in\", \"Cleaning products\", \"Safe\", \"Portable fans\", \"Fire extinguisher\", \"Free dryer \\u2013 In building\", \"Outlet covers\", \"Clothing storage: closet and dresser\", \"Heating\", \"Outdoor furniture\", \"Long term stays allowed\", \"Coffee\", \"Luggage dropoff allowed\", \"Baking sheet\", \"Outdoor dining area\", \"BBQ grill\", \"Coffee maker: french press\", \"First aid kit\", \"Garden view\", \"Hangers\", \"Freezer\", \"Extra pillows and blankets\", \"Carbon monoxide alarm\", \"Fire pit\", \"Dedicated workspace\", \"Bed linens\", \"Free parking on premises\", \"Books and reading material\"]"
           },
           {
            "count": 3,
            "name": "3 others"
           }
          ],
          "nan_count": 0,
          "unique_count": 5
         }
        },
        {
         "dtype": "float64",
         "name": "price",
         "stats": {
          "histogram": [
           {
            "bin_end": 95.5,
            "bin_start": 77,
            "count": 1
           },
           {
            "bin_end": 114,
            "bin_start": 95.5,
            "count": 1
           },
           {
            "bin_end": 132.5,
            "bin_start": 114,
            "count": 0
           },
           {
            "bin_end": 151,
            "bin_start": 132.5,
            "count": 1
           },
           {
            "bin_end": 169.5,
            "bin_start": 151,
            "count": 1
           },
           {
            "bin_end": 188,
            "bin_start": 169.5,
            "count": 0
           },
           {
            "bin_end": 206.5,
            "bin_start": 188,
            "count": 0
           },
           {
            "bin_end": 225,
            "bin_start": 206.5,
            "count": 0
           },
           {
            "bin_end": 243.5,
            "bin_start": 225,
            "count": 0
           },
           {
            "bin_end": 262,
            "bin_start": 243.5,
            "count": 1
           }
          ],
          "max": "262.0",
          "min": "77.0",
          "nan_count": 0,
          "unique_count": 5
         }
        },
        {
         "dtype": "float64",
         "name": "review_scores_rating",
         "stats": {
          "histogram": [
           {
            "bin_end": 4.55,
            "bin_start": 4.5,
            "count": 1
           },
           {
            "bin_end": 4.6,
            "bin_start": 4.55,
            "count": 0
           },
           {
            "bin_end": 4.65,
            "bin_start": 4.6,
            "count": 0
           },
           {
            "bin_end": 4.7,
            "bin_start": 4.65,
            "count": 0
           },
           {
            "bin_end": 4.75,
            "bin_start": 4.7,
            "count": 1
           },
           {
            "bin_end": 4.8,
            "bin_start": 4.75,
            "count": 0
           },
           {
            "bin_end": 4.85,
            "bin_start": 4.8,
            "count": 1
           },
           {
            "bin_end": 4.9,
            "bin_start": 4.85,
            "count": 0
           },
           {
            "bin_end": 4.95,
            "bin_start": 4.9,
            "count": 0
           },
           {
            "bin_end": 5,
            "bin_start": 4.95,
            "count": 2
           }
          ],
          "max": "5.0",
          "min": "4.5",
          "nan_count": 0,
          "unique_count": 5
         }
        },
        {
         "dtype": "float64",
         "name": "bathrooms_count",
         "stats": {
          "histogram": [
           {
            "bin_end": 0.3,
            "bin_start": 0,
            "count": 1
           },
           {
            "bin_end": 0.6,
            "bin_start": 0.3,
            "count": 0
           },
           {
            "bin_end": 0.8999999999999999,
            "bin_start": 0.6,
            "count": 0
           },
           {
            "bin_end": 1.2,
            "bin_start": 0.8999999999999999,
            "count": 2
           },
           {
            "bin_end": 1.5,
            "bin_start": 1.2,
            "count": 0
           },
           {
            "bin_end": 1.7999999999999998,
            "bin_start": 1.5,
            "count": 1
           },
           {
            "bin_end": 2.1,
            "bin_start": 1.7999999999999998,
            "count": 0
           },
           {
            "bin_end": 2.4,
            "bin_start": 2.1,
            "count": 0
           },
           {
            "bin_end": 2.6999999999999997,
            "bin_start": 2.4,
            "count": 0
           },
           {
            "bin_end": 3,
            "bin_start": 2.6999999999999997,
            "count": 1
           }
          ],
          "max": "3.0",
          "min": "0.0",
          "nan_count": 0,
          "unique_count": 4
         }
        },
        {
         "dtype": "int64",
         "name": "amenities_count",
         "stats": {
          "histogram": [
           {
            "bin_end": 24.4,
            "bin_start": 21,
            "count": 1
           },
           {
            "bin_end": 27.8,
            "bin_start": 24.4,
            "count": 0
           },
           {
            "bin_end": 31.2,
            "bin_start": 27.8,
            "count": 0
           },
           {
            "bin_end": 34.6,
            "bin_start": 31.2,
            "count": 0
           },
           {
            "bin_end": 38,
            "bin_start": 34.6,
            "count": 0
           },
           {
            "bin_end": 41.4,
            "bin_start": 38,
            "count": 0
           },
           {
            "bin_end": 44.8,
            "bin_start": 41.4,
            "count": 2
           },
           {
            "bin_end": 48.2,
            "bin_start": 44.8,
            "count": 0
           },
           {
            "bin_end": 51.599999999999994,
            "bin_start": 48.2,
            "count": 1
           },
           {
            "bin_end": 55,
            "bin_start": 51.599999999999994,
            "count": 1
           }
          ],
          "max": "55",
          "min": "21",
          "nan_count": 0,
          "unique_count": 5
         }
        },
        {
         "dtype": "int64",
         "name": "host_response_time_encoded",
         "stats": {
          "histogram": [
           {
            "bin_end": 1.4,
            "bin_start": 1,
            "count": 4
           },
           {
            "bin_end": 1.8,
            "bin_start": 1.4,
            "count": 0
           },
           {
            "bin_end": 2.2,
            "bin_start": 1.8,
            "count": 0
           },
           {
            "bin_end": 2.6,
            "bin_start": 2.2,
            "count": 0
           },
           {
            "bin_end": 3,
            "bin_start": 2.6,
            "count": 0
           },
           {
            "bin_end": 3.4000000000000004,
            "bin_start": 3,
            "count": 0
           },
           {
            "bin_end": 3.8000000000000003,
            "bin_start": 3.4000000000000004,
            "count": 0
           },
           {
            "bin_end": 4.2,
            "bin_start": 3.8000000000000003,
            "count": 0
           },
           {
            "bin_end": 4.6,
            "bin_start": 4.2,
            "count": 0
           },
           {
            "bin_end": 5,
            "bin_start": 4.6,
            "count": 1
           }
          ],
          "max": "5",
          "min": "1",
          "nan_count": 0,
          "unique_count": 2
         }
        },
        {
         "dtype": "int64",
         "name": "host_operate_years",
         "stats": {
          "histogram": [
           {
            "bin_end": 3.5,
            "bin_start": 3,
            "count": 2
           },
           {
            "bin_end": 4,
            "bin_start": 3.5,
            "count": 0
           },
           {
            "bin_end": 4.5,
            "bin_start": 4,
            "count": 1
           },
           {
            "bin_end": 5,
            "bin_start": 4.5,
            "count": 0
           },
           {
            "bin_end": 5.5,
            "bin_start": 5,
            "count": 1
           },
           {
            "bin_end": 6,
            "bin_start": 5.5,
            "count": 0
           },
           {
            "bin_end": 6.5,
            "bin_start": 6,
            "count": 0
           },
           {
            "bin_end": 7,
            "bin_start": 6.5,
            "count": 0
           },
           {
            "bin_end": 7.5,
            "bin_start": 7,
            "count": 0
           },
           {
            "bin_end": 8,
            "bin_start": 7.5,
            "count": 1
           }
          ],
          "max": "8",
          "min": "3",
          "nan_count": 0,
          "unique_count": 4
         }
        },
        {
         "dtype": "float64",
         "name": "polarity",
         "stats": {
          "histogram": [
           {
            "bin_end": 0.710875,
            "bin_start": 0.6816222222222222,
            "count": 1
           },
           {
            "bin_end": 0.7401277777777778,
            "bin_start": 0.710875,
            "count": 0
           },
           {
            "bin_end": 0.7693805555555555,
            "bin_start": 0.7401277777777778,
            "count": 0
           },
           {
            "bin_end": 0.7986333333333333,
            "bin_start": 0.7693805555555555,
            "count": 0
           },
           {
            "bin_end": 0.8278861111111111,
            "bin_start": 0.7986333333333333,
            "count": 0
           },
           {
            "bin_end": 0.8571388888888889,
            "bin_start": 0.8278861111111111,
            "count": 1
           },
           {
            "bin_end": 0.8863916666666667,
            "bin_start": 0.8571388888888889,
            "count": 0
           },
           {
            "bin_end": 0.9156444444444445,
            "bin_start": 0.8863916666666667,
            "count": 0
           },
           {
            "bin_end": 0.9448972222222223,
            "bin_start": 0.9156444444444445,
            "count": 1
           },
           {
            "bin_end": 0.97415,
            "bin_start": 0.9448972222222223,
            "count": 2
           }
          ],
          "max": "0.97415",
          "min": "0.6816222222222222",
          "nan_count": 0,
          "unique_count": 5
         }
        },
        {
         "dtype": "int64",
         "name": "_deepnote_index_column"
        }
       ],
       "row_count": 5,
       "rows": [
        {
         "_deepnote_index_column": "594",
         "accommodates": "5",
         "amenities": "[\"Hot water\", \"Gas stove\", \"Refrigerator\", \"Bathtub\", \"Dishwasher\", \"Lockbox\", \"Private entrance\", \"54\\\" HDTV\", \"Dishes and silverware\", \"Kitchen\", \"Coffee maker\", \"Private patio or balcony\", \"Free street parking\", \"Iron\", \"Hair dryer\", \"Baby bath\", \"Microwave\", \"Fireplace guards\", \"Cooking basics\", \"Pack \\u2019n play/Travel crib\", \"Oven\", \"Free dryer \\u2013 In unit\", \"Private backyard \\u2013 Fully fenced\", \"Smoke alarm\", \"Babysitter recommendations\", \"Essentials\", \"Self check-in\", \"Fire extinguisher\", \"High chair\", \"Outlet covers\", \"Heating\", \"Outdoor furniture\", \"Long term stays allowed\", \"Wifi\", \"Children\\u2019s books and toys\", \"Children\\u2019s dinnerware\", \"Outdoor dining area\", \"BBQ grill\", \"First aid kit\", \"Hangers\", \"Free washer \\u2013 In unit\", \"Extra pillows and blankets\", \"Shampoo\", \"Game console\", \"Carbon monoxide alarm\", \"Crib\", \"Dedicated workspace\", \"Baby safety gates\", \"Bed linens\", \"Free parking on premises\"]",
         "amenities_count": "50",
         "bathrooms_count": "1.5",
         "bedrooms": "3.0",
         "beds": "4.0",
         "host_operate_years": "5",
         "host_response_time_encoded": "1",
         "latitude": "47.68454",
         "listing_id": "26258898",
         "listing_url": "https://www.airbnb.com/rooms/26258898",
         "longitude": "-122.35851",
         "neighbourhood_cleansed": "Greenwood",
         "neighbourhood_group_cleansed": "Other neighborhoods",
         "polarity": "0.9563",
         "price": "262.0",
         "property_type": "Entire home",
         "review_scores_rating": "5.0",
         "room_type": "Entire home/apt",
         "similarity": "1.0000000000000009"
        },
        {
         "_deepnote_index_column": "419",
         "accommodates": "2",
         "amenities": "[\"Hot water\", \"Blender\", \"Shared patio or balcony\", \"Toaster\", \"Refrigerator\", \"Hot water kettle\", \"Free washer \\u2013 In building\", \"Private entrance\", \"Drying rack for clothing\", \"Fast wifi \\u2013 104 Mbps\", \"Dishes and silverware\", \"Kitchen\", \"Ginger Lily Farms, 100% vegan/cruelty free body soap\", \"Free street parking\", \"Ginger Lily Farms, 100% vegan/cruelty free shampoo\", \"Ginger Lily Farms, 100% vegan/cruelty free conditioner\", \"Iron\", \"Hair dryer\", \"Microwave\", \"Cooking basics\", \"Oven\", \"Private backyard \\u2013 Fully fenced\", \"Keypad\", \"Stove\", \"Smoke alarm\", \"Wine glasses\", \"Essentials\", \"Self check-in\", \"Cleaning products\", \"Safe\", \"Portable fans\", \"Fire extinguisher\", \"Free dryer \\u2013 In building\", \"Outlet covers\", \"Clothing storage: closet and dresser\", \"Heating\", \"Outdoor furniture\", \"Long term stays allowed\", \"Coffee\", \"Luggage dropoff allowed\", \"Baking sheet\", \"Outdoor dining area\", \"BBQ grill\", \"Coffee maker: french press\", \"First aid kit\", \"Garden view\", \"Hangers\", \"F…",
         "amenities_count": "55",
         "bathrooms_count": "1.0",
         "bedrooms": "1.0",
         "beds": "1.0",
         "host_operate_years": "4",
         "host_response_time_encoded": "1",
         "latitude": "47.7119",
         "listing_id": "41218952",
         "listing_url": "https://www.airbnb.com/rooms/41218952",
         "longitude": "-122.35053",
         "neighbourhood_cleansed": "Bitter Lake",
         "neighbourhood_group_cleansed": "Other neighborhoods",
         "polarity": "0.9356799999999998",
         "price": "77.0",
         "property_type": "Entire guest suite",
         "review_scores_rating": "4.97",
         "room_type": "Entire home/apt",
         "similarity": "0.9999999998216362"
        },
        {
         "_deepnote_index_column": "2098",
         "accommodates": "3",
         "amenities": "[\"Hot water\", \"32\\\" HDTV with standard cable\", \"Refrigerator\", \"Dishwasher\", \"Lockbox\", \"Private entrance\", \"Dishes and silverware\", \"Conditioner\", \"Shower gel\", \"Kitchen\", \"Body soap\", \"Iron\", \"Hair dryer\", \"Microwave\", \"Cooking basics\", \"Oven\", \"Free dryer \\u2013 In unit\", \"Stove\", \"Ceiling fan\", \"Smoke alarm\", \"Essentials\", \"Self check-in\", \"Clock radio sound system with Bluetooth and aux\", \"Portable fans\", \"Coffee maker: pour-over coffee\", \"Fire extinguisher\", \"Heating\", \"Long term stays allowed\", \"Cleaning available during stay\", \"Wifi\", \"Single level home\", \"Baking sheet\", \"Laundromat nearby\", \"First aid kit\", \"Hangers\", \"Freezer\", \"Free washer \\u2013 In unit\", \"Extra pillows and blankets\", \"Shampoo\", \"Carbon monoxide alarm\", \"Dedicated workspace\", \"Bed linens\"]",
         "amenities_count": "42",
         "bathrooms_count": "1.0",
         "bedrooms": "2.0",
         "beds": "2.0",
         "host_operate_years": "8",
         "host_response_time_encoded": "1",
         "latitude": "47.62233",
         "listing_id": "4129218",
         "listing_url": "https://www.airbnb.com/rooms/4129218",
         "longitude": "-122.31947",
         "neighbourhood_cleansed": "Broadway",
         "neighbourhood_group_cleansed": "Capitol Hill",
         "polarity": "0.8422106557377046",
         "price": "140.0",
         "property_type": "Entire rental unit",
         "review_scores_rating": "4.83",
         "room_type": "Entire home/apt",
         "similarity": "0.9999999629771724"
        },
        {
         "_deepnote_index_column": "435",
         "accommodates": "3",
         "amenities": "[\"Hot water\", \"Private entrance\", \"Bay view\", \"Washer\", \"Kitchen\", \"TV\", \"Elevator\", \"City skyline view\", \"Iron\", \"Smoke alarm\", \"Dryer\", \"Essentials\", \"Fire extinguisher\", \"Heating\", \"Long term stays allowed\", \"Wifi\", \"Air conditioning\", \"Hangers\", \"Shampoo\", \"Carbon monoxide alarm\", \"Dedicated workspace\"]",
         "amenities_count": "21",
         "bathrooms_count": "0.0",
         "bedrooms": "1.0",
         "beds": "2.0",
         "host_operate_years": "3",
         "host_response_time_encoded": "5",
         "latitude": "47.61189",
         "listing_id": "50159554",
         "listing_url": "https://www.airbnb.com/rooms/50159554",
         "longitude": "-122.32485",
         "neighbourhood_cleansed": "First Hill",
         "neighbourhood_group_cleansed": "Downtown",
         "polarity": "0.97415",
         "price": "110.0",
         "property_type": "Entire rental unit",
         "review_scores_rating": "4.5",
         "room_type": "Entire home/apt",
         "similarity": "0.9999999578233008"
        },
        {
         "_deepnote_index_column": "2025",
         "accommodates": "10",
         "amenities": "[\"Hot water\", \"Refrigerator\", \"Bathtub\", \"Dishwasher\", \"Room-darkening shades\", \"Private entrance\", \"Dishes and silverware\", \"Washer\", \"Kitchen\", \"TV\", \"Coffee maker\", \"Indoor fireplace\", \"Patio or balcony\", \"Free street parking\", \"Iron\", \"Hair dryer\", \"Microwave\", \"Cooking basics\", \"Fireplace guards\", \"Oven\", \"Pack \\u2019n play/Travel crib\", \"Stove\", \"Smoke alarm\", \"Dryer\", \"Essentials\", \"Self check-in\", \"Fire extinguisher\", \"Heating\", \"Long term stays allowed\", \"Cleaning available during stay\", \"Wifi\", \"Luggage dropoff allowed\", \"BBQ grill\", \"First aid kit\", \"Hangers\", \"Extra pillows and blankets\", \"Shampoo\", \"Game console\", \"Carbon monoxide alarm\", \"Smart lock\", \"Dedicated workspace\", \"Bed linens\", \"Free parking on premises\"]",
         "amenities_count": "43",
         "bathrooms_count": "3.0",
         "bedrooms": "5.0",
         "beds": "5.0",
         "host_operate_years": "3",
         "host_response_time_encoded": "1",
         "latitude": "47.5589",
         "listing_id": "51263519",
         "listing_url": "https://www.airbnb.com/rooms/51263519",
         "longitude": "-122.30933",
         "neighbourhood_cleansed": "Mid-Beacon Hill",
         "neighbourhood_group_cleansed": "Beacon Hill",
         "polarity": "0.6816222222222222",
         "price": "153.0",
         "property_type": "Entire home",
         "review_scores_rating": "4.7",
         "room_type": "Entire home/apt",
         "similarity": "0.9999997656263523"
        }
       ]
      },
      "text/html": [
       "<div>\n",
       "<style scoped>\n",
       "    .dataframe tbody tr th:only-of-type {\n",
       "        vertical-align: middle;\n",
       "    }\n",
       "\n",
       "    .dataframe tbody tr th {\n",
       "        vertical-align: top;\n",
       "    }\n",
       "\n",
       "    .dataframe thead th {\n",
       "        text-align: right;\n",
       "    }\n",
       "</style>\n",
       "<table border=\"1\" class=\"dataframe\">\n",
       "  <thead>\n",
       "    <tr style=\"text-align: right;\">\n",
       "      <th></th>\n",
       "      <th>listing_id</th>\n",
       "      <th>listing_url</th>\n",
       "      <th>similarity</th>\n",
       "      <th>neighbourhood_cleansed</th>\n",
       "      <th>neighbourhood_group_cleansed</th>\n",
       "      <th>latitude</th>\n",
       "      <th>longitude</th>\n",
       "      <th>property_type</th>\n",
       "      <th>room_type</th>\n",
       "      <th>accommodates</th>\n",
       "      <th>bedrooms</th>\n",
       "      <th>beds</th>\n",
       "      <th>amenities</th>\n",
       "      <th>price</th>\n",
       "      <th>review_scores_rating</th>\n",
       "      <th>bathrooms_count</th>\n",
       "      <th>amenities_count</th>\n",
       "      <th>host_response_time_encoded</th>\n",
       "      <th>host_operate_years</th>\n",
       "      <th>polarity</th>\n",
       "    </tr>\n",
       "  </thead>\n",
       "  <tbody>\n",
       "    <tr>\n",
       "      <th>594</th>\n",
       "      <td>26258898</td>\n",
       "      <td>https://www.airbnb.com/rooms/26258898</td>\n",
       "      <td>1.0000000000</td>\n",
       "      <td>Greenwood</td>\n",
       "      <td>Other neighborhoods</td>\n",
       "      <td>47.6845400000</td>\n",
       "      <td>-122.3585100000</td>\n",
       "      <td>Entire home</td>\n",
       "      <td>Entire home/apt</td>\n",
       "      <td>5</td>\n",
       "      <td>3.0000000000</td>\n",
       "      <td>4.0000000000</td>\n",
       "      <td>[\"Hot water\", \"Gas stove\", \"Refrigerator\", \"Ba...</td>\n",
       "      <td>262.0000000000</td>\n",
       "      <td>5.0000000000</td>\n",
       "      <td>1.5000000000</td>\n",
       "      <td>50</td>\n",
       "      <td>1</td>\n",
       "      <td>5</td>\n",
       "      <td>0.9563000000</td>\n",
       "    </tr>\n",
       "    <tr>\n",
       "      <th>419</th>\n",
       "      <td>41218952</td>\n",
       "      <td>https://www.airbnb.com/rooms/41218952</td>\n",
       "      <td>0.9999999998</td>\n",
       "      <td>Bitter Lake</td>\n",
       "      <td>Other neighborhoods</td>\n",
       "      <td>47.7119000000</td>\n",
       "      <td>-122.3505300000</td>\n",
       "      <td>Entire guest suite</td>\n",
       "      <td>Entire home/apt</td>\n",
       "      <td>2</td>\n",
       "      <td>1.0000000000</td>\n",
       "      <td>1.0000000000</td>\n",
       "      <td>[\"Hot water\", \"Blender\", \"Shared patio or balc...</td>\n",
       "      <td>77.0000000000</td>\n",
       "      <td>4.9700000000</td>\n",
       "      <td>1.0000000000</td>\n",
       "      <td>55</td>\n",
       "      <td>1</td>\n",
       "      <td>4</td>\n",
       "      <td>0.9356800000</td>\n",
       "    </tr>\n",
       "    <tr>\n",
       "      <th>2098</th>\n",
       "      <td>4129218</td>\n",
       "      <td>https://www.airbnb.com/rooms/4129218</td>\n",
       "      <td>0.9999999630</td>\n",
       "      <td>Broadway</td>\n",
       "      <td>Capitol Hill</td>\n",
       "      <td>47.6223300000</td>\n",
       "      <td>-122.3194700000</td>\n",
       "      <td>Entire rental unit</td>\n",
       "      <td>Entire home/apt</td>\n",
       "      <td>3</td>\n",
       "      <td>2.0000000000</td>\n",
       "      <td>2.0000000000</td>\n",
       "      <td>[\"Hot water\", \"32\\\" HDTV with standard cable\",...</td>\n",
       "      <td>140.0000000000</td>\n",
       "      <td>4.8300000000</td>\n",
       "      <td>1.0000000000</td>\n",
       "      <td>42</td>\n",
       "      <td>1</td>\n",
       "      <td>8</td>\n",
       "      <td>0.8422106557</td>\n",
       "    </tr>\n",
       "    <tr>\n",
       "      <th>435</th>\n",
       "      <td>50159554</td>\n",
       "      <td>https://www.airbnb.com/rooms/50159554</td>\n",
       "      <td>0.9999999578</td>\n",
       "      <td>First Hill</td>\n",
       "      <td>Downtown</td>\n",
       "      <td>47.6118900000</td>\n",
       "      <td>-122.3248500000</td>\n",
       "      <td>Entire rental unit</td>\n",
       "      <td>Entire home/apt</td>\n",
       "      <td>3</td>\n",
       "      <td>1.0000000000</td>\n",
       "      <td>2.0000000000</td>\n",
       "      <td>[\"Hot water\", \"Private entrance\", \"Bay view\", ...</td>\n",
       "      <td>110.0000000000</td>\n",
       "      <td>4.5000000000</td>\n",
       "      <td>0.0000000000</td>\n",
       "      <td>21</td>\n",
       "      <td>5</td>\n",
       "      <td>3</td>\n",
       "      <td>0.9741500000</td>\n",
       "    </tr>\n",
       "    <tr>\n",
       "      <th>2025</th>\n",
       "      <td>51263519</td>\n",
       "      <td>https://www.airbnb.com/rooms/51263519</td>\n",
       "      <td>0.9999997656</td>\n",
       "      <td>Mid-Beacon Hill</td>\n",
       "      <td>Beacon Hill</td>\n",
       "      <td>47.5589000000</td>\n",
       "      <td>-122.3093300000</td>\n",
       "      <td>Entire home</td>\n",
       "      <td>Entire home/apt</td>\n",
       "      <td>10</td>\n",
       "      <td>5.0000000000</td>\n",
       "      <td>5.0000000000</td>\n",
       "      <td>[\"Hot water\", \"Refrigerator\", \"Bathtub\", \"Dish...</td>\n",
       "      <td>153.0000000000</td>\n",
       "      <td>4.7000000000</td>\n",
       "      <td>3.0000000000</td>\n",
       "      <td>43</td>\n",
       "      <td>1</td>\n",
       "      <td>3</td>\n",
       "      <td>0.6816222222</td>\n",
       "    </tr>\n",
       "  </tbody>\n",
       "</table>\n",
       "</div>"
      ],
      "text/plain": [
       "      listing_id                            listing_url   similarity  \\\n",
       "594     26258898  https://www.airbnb.com/rooms/26258898 1.0000000000   \n",
       "419     41218952  https://www.airbnb.com/rooms/41218952 0.9999999998   \n",
       "2098     4129218   https://www.airbnb.com/rooms/4129218 0.9999999630   \n",
       "435     50159554  https://www.airbnb.com/rooms/50159554 0.9999999578   \n",
       "2025    51263519  https://www.airbnb.com/rooms/51263519 0.9999997656   \n",
       "\n",
       "     neighbourhood_cleansed neighbourhood_group_cleansed      latitude  \\\n",
       "594               Greenwood          Other neighborhoods 47.6845400000   \n",
       "419             Bitter Lake          Other neighborhoods 47.7119000000   \n",
       "2098               Broadway                 Capitol Hill 47.6223300000   \n",
       "435              First Hill                     Downtown 47.6118900000   \n",
       "2025        Mid-Beacon Hill                  Beacon Hill 47.5589000000   \n",
       "\n",
       "           longitude       property_type        room_type  accommodates  \\\n",
       "594  -122.3585100000         Entire home  Entire home/apt             5   \n",
       "419  -122.3505300000  Entire guest suite  Entire home/apt             2   \n",
       "2098 -122.3194700000  Entire rental unit  Entire home/apt             3   \n",
       "435  -122.3248500000  Entire rental unit  Entire home/apt             3   \n",
       "2025 -122.3093300000         Entire home  Entire home/apt            10   \n",
       "\n",
       "         bedrooms         beds  \\\n",
       "594  3.0000000000 4.0000000000   \n",
       "419  1.0000000000 1.0000000000   \n",
       "2098 2.0000000000 2.0000000000   \n",
       "435  1.0000000000 2.0000000000   \n",
       "2025 5.0000000000 5.0000000000   \n",
       "\n",
       "                                              amenities          price  \\\n",
       "594   [\"Hot water\", \"Gas stove\", \"Refrigerator\", \"Ba... 262.0000000000   \n",
       "419   [\"Hot water\", \"Blender\", \"Shared patio or balc...  77.0000000000   \n",
       "2098  [\"Hot water\", \"32\\\" HDTV with standard cable\",... 140.0000000000   \n",
       "435   [\"Hot water\", \"Private entrance\", \"Bay view\", ... 110.0000000000   \n",
       "2025  [\"Hot water\", \"Refrigerator\", \"Bathtub\", \"Dish... 153.0000000000   \n",
       "\n",
       "      review_scores_rating  bathrooms_count  amenities_count  \\\n",
       "594           5.0000000000     1.5000000000               50   \n",
       "419           4.9700000000     1.0000000000               55   \n",
       "2098          4.8300000000     1.0000000000               42   \n",
       "435           4.5000000000     0.0000000000               21   \n",
       "2025          4.7000000000     3.0000000000               43   \n",
       "\n",
       "      host_response_time_encoded  host_operate_years     polarity  \n",
       "594                            1                   5 0.9563000000  \n",
       "419                            1                   4 0.9356800000  \n",
       "2098                           1                   8 0.8422106557  \n",
       "435                            5                   3 0.9741500000  \n",
       "2025                           1                   3 0.6816222222  "
      ]
     },
     "metadata": {},
     "output_type": "display_data"
    }
   ],
   "source": [
    "with pd.option_context('display.float_format', '{:0.10f}'.format):\n",
    "    display(df_recs)"
   ]
  },
  {
   "cell_type": "markdown",
   "metadata": {
    "cell_id": "2d24ac4964dc4923825b266d1e16aae0",
    "deepnote_cell_type": "markdown",
    "id": "bWVUzQrvMWrY"
   },
   "source": [
    "Search for the simular properties using listing_id"
   ]
  },
  {
   "cell_type": "code",
   "execution_count": 28,
   "metadata": {
    "cell_id": "0595cb595e5b44359d73385b56eefe0e",
    "colab": {
     "base_uri": "https://localhost:8080/",
     "height": 540
    },
    "deepnote_cell_type": "code",
    "deepnote_to_be_reexecuted": false,
    "execution_millis": 79,
    "execution_start": 1679772646736,
    "id": "zPZ3hCDXMa8Y",
    "outputId": "7662caa4-17d9-4c9c-8782-39b8589713c3",
    "source_hash": "d327d94d"
   },
   "outputs": [
    {
     "name": "stdout",
     "output_type": "stream",
     "text": [
      "[ 500  345 1741  360 1680]\n"
     ]
    },
    {
     "data": {
      "application/vnd.deepnote.dataframe.v3+json": {
       "column_count": 20,
       "columns": [
        {
         "dtype": "int64",
         "name": "listing_id",
         "stats": {
          "histogram": [
           {
            "bin_end": 8842648.1,
            "bin_start": 4129218,
            "count": 1
           },
           {
            "bin_end": 13556078.2,
            "bin_start": 8842648.1,
            "count": 0
           },
           {
            "bin_end": 18269508.299999997,
            "bin_start": 13556078.2,
            "count": 0
           },
           {
            "bin_end": 22982938.4,
            "bin_start": 18269508.299999997,
            "count": 0
           },
           {
            "bin_end": 27696368.5,
            "bin_start": 22982938.4,
            "count": 1
           },
           {
            "bin_end": 32409798.599999998,
            "bin_start": 27696368.5,
            "count": 0
           },
           {
            "bin_end": 37123228.699999996,
            "bin_start": 32409798.599999998,
            "count": 0
           },
           {
            "bin_end": 41836658.8,
            "bin_start": 37123228.699999996,
            "count": 1
           },
           {
            "bin_end": 46550088.9,
            "bin_start": 41836658.8,
            "count": 0
           },
           {
            "bin_end": 51263519,
            "bin_start": 46550088.9,
            "count": 2
           }
          ],
          "max": "51263519",
          "min": "4129218",
          "nan_count": 0,
          "unique_count": 5
         }
        },
        {
         "dtype": "object",
         "name": "listing_url",
         "stats": {
          "categories": [
           {
            "count": 1,
            "name": "https://www.airbnb.com/rooms/26258898"
           },
           {
            "count": 1,
            "name": "https://www.airbnb.com/rooms/41218952"
           },
           {
            "count": 3,
            "name": "3 others"
           }
          ],
          "nan_count": 0,
          "unique_count": 5
         }
        },
        {
         "dtype": "float64",
         "name": "similarity",
         "stats": {
          "histogram": [
           {
            "bin_end": 0.9999997890637171,
            "bin_start": 0.9999997656263523,
            "count": 1
           },
           {
            "bin_end": 0.999999812501082,
            "bin_start": 0.9999997890637171,
            "count": 0
           },
           {
            "bin_end": 0.9999998359384469,
            "bin_start": 0.999999812501082,
            "count": 0
           },
           {
            "bin_end": 0.9999998593758117,
            "bin_start": 0.9999998359384469,
            "count": 0
           },
           {
            "bin_end": 0.9999998828131766,
            "bin_start": 0.9999998593758117,
            "count": 0
           },
           {
            "bin_end": 0.9999999062505415,
            "bin_start": 0.9999998828131766,
            "count": 0
           },
           {
            "bin_end": 0.9999999296879063,
            "bin_start": 0.9999999062505415,
            "count": 0
           },
           {
            "bin_end": 0.9999999531252711,
            "bin_start": 0.9999999296879063,
            "count": 0
           },
           {
            "bin_end": 0.9999999765626361,
            "bin_start": 0.9999999531252711,
            "count": 2
           },
           {
            "bin_end": 1.0000000000000009,
            "bin_start": 0.9999999765626361,
            "count": 2
           }
          ],
          "max": "1.0000000000000009",
          "min": "0.9999997656263523",
          "nan_count": 0,
          "unique_count": 5
         }
        },
        {
         "dtype": "object",
         "name": "neighbourhood_cleansed",
         "stats": {
          "categories": [
           {
            "count": 1,
            "name": "Greenwood"
           },
           {
            "count": 1,
            "name": "Bitter Lake"
           },
           {
            "count": 3,
            "name": "3 others"
           }
          ],
          "nan_count": 0,
          "unique_count": 5
         }
        },
        {
         "dtype": "object",
         "name": "neighbourhood_group_cleansed",
         "stats": {
          "categories": [
           {
            "count": 2,
            "name": "Other neighborhoods"
           },
           {
            "count": 1,
            "name": "Capitol Hill"
           },
           {
            "count": 2,
            "name": "2 others"
           }
          ],
          "nan_count": 0,
          "unique_count": 4
         }
        },
        {
         "dtype": "float64",
         "name": "latitude",
         "stats": {
          "histogram": [
           {
            "bin_end": 47.574200000000005,
            "bin_start": 47.5589,
            "count": 1
           },
           {
            "bin_end": 47.5895,
            "bin_start": 47.574200000000005,
            "count": 0
           },
           {
            "bin_end": 47.6048,
            "bin_start": 47.5895,
            "count": 0
           },
           {
            "bin_end": 47.6201,
            "bin_start": 47.6048,
            "count": 1
           },
           {
            "bin_end": 47.635400000000004,
            "bin_start": 47.6201,
            "count": 1
           },
           {
            "bin_end": 47.6507,
            "bin_start": 47.635400000000004,
            "count": 0
           },
           {
            "bin_end": 47.666,
            "bin_start": 47.6507,
            "count": 0
           },
           {
            "bin_end": 47.6813,
            "bin_start": 47.666,
            "count": 0
           },
           {
            "bin_end": 47.696600000000004,
            "bin_start": 47.6813,
            "count": 1
           },
           {
            "bin_end": 47.7119,
            "bin_start": 47.696600000000004,
            "count": 1
           }
          ],
          "max": "47.7119",
          "min": "47.5589",
          "nan_count": 0,
          "unique_count": 5
         }
        },
        {
         "dtype": "float64",
         "name": "longitude",
         "stats": {
          "histogram": [
           {
            "bin_end": -122.35359199999999,
            "bin_start": -122.35851,
            "count": 1
           },
           {
            "bin_end": -122.348674,
            "bin_start": -122.35359199999999,
            "count": 1
           },
           {
            "bin_end": -122.343756,
            "bin_start": -122.348674,
            "count": 0
           },
           {
            "bin_end": -122.338838,
            "bin_start": -122.343756,
            "count": 0
           },
           {
            "bin_end": -122.33392,
            "bin_start": -122.338838,
            "count": 0
           },
           {
            "bin_end": -122.329002,
            "bin_start": -122.33392,
            "count": 0
           },
           {
            "bin_end": -122.324084,
            "bin_start": -122.329002,
            "count": 1
           },
           {
            "bin_end": -122.319166,
            "bin_start": -122.324084,
            "count": 1
           },
           {
            "bin_end": -122.314248,
            "bin_start": -122.319166,
            "count": 0
           },
           {
            "bin_end": -122.30933,
            "bin_start": -122.314248,
            "count": 1
           }
          ],
          "max": "-122.30933",
          "min": "-122.35851",
          "nan_count": 0,
          "unique_count": 5
         }
        },
        {
         "dtype": "object",
         "name": "property_type",
         "stats": {
          "categories": [
           {
            "count": 2,
            "name": "Entire home"
           },
           {
            "count": 2,
            "name": "Entire rental unit"
           },
           {
            "count": 1,
            "name": "Entire guest suite"
           }
          ],
          "nan_count": 0,
          "unique_count": 3
         }
        },
        {
         "dtype": "object",
         "name": "room_type",
         "stats": {
          "categories": [
           {
            "count": 5,
            "name": "Entire home/apt"
           }
          ],
          "nan_count": 0,
          "unique_count": 1
         }
        },
        {
         "dtype": "int64",
         "name": "accommodates",
         "stats": {
          "histogram": [
           {
            "bin_end": 2.8,
            "bin_start": 2,
            "count": 1
           },
           {
            "bin_end": 3.6,
            "bin_start": 2.8,
            "count": 2
           },
           {
            "bin_end": 4.4,
            "bin_start": 3.6,
            "count": 0
           },
           {
            "bin_end": 5.2,
            "bin_start": 4.4,
            "count": 1
           },
           {
            "bin_end": 6,
            "bin_start": 5.2,
            "count": 0
           },
           {
            "bin_end": 6.800000000000001,
            "bin_start": 6,
            "count": 0
           },
           {
            "bin_end": 7.6000000000000005,
            "bin_start": 6.800000000000001,
            "count": 0
           },
           {
            "bin_end": 8.4,
            "bin_start": 7.6000000000000005,
            "count": 0
           },
           {
            "bin_end": 9.2,
            "bin_start": 8.4,
            "count": 0
           },
           {
            "bin_end": 10,
            "bin_start": 9.2,
            "count": 1
           }
          ],
          "max": "10",
          "min": "2",
          "nan_count": 0,
          "unique_count": 4
         }
        },
        {
         "dtype": "float64",
         "name": "bedrooms",
         "stats": {
          "histogram": [
           {
            "bin_end": 1.4,
            "bin_start": 1,
            "count": 2
           },
           {
            "bin_end": 1.8,
            "bin_start": 1.4,
            "count": 0
           },
           {
            "bin_end": 2.2,
            "bin_start": 1.8,
            "count": 1
           },
           {
            "bin_end": 2.6,
            "bin_start": 2.2,
            "count": 0
           },
           {
            "bin_end": 3,
            "bin_start": 2.6,
            "count": 0
           },
           {
            "bin_end": 3.4000000000000004,
            "bin_start": 3,
            "count": 1
           },
           {
            "bin_end": 3.8000000000000003,
            "bin_start": 3.4000000000000004,
            "count": 0
           },
           {
            "bin_end": 4.2,
            "bin_start": 3.8000000000000003,
            "count": 0
           },
           {
            "bin_end": 4.6,
            "bin_start": 4.2,
            "count": 0
           },
           {
            "bin_end": 5,
            "bin_start": 4.6,
            "count": 1
           }
          ],
          "max": "5.0",
          "min": "1.0",
          "nan_count": 0,
          "unique_count": 4
         }
        },
        {
         "dtype": "float64",
         "name": "beds",
         "stats": {
          "histogram": [
           {
            "bin_end": 1.4,
            "bin_start": 1,
            "count": 1
           },
           {
            "bin_end": 1.8,
            "bin_start": 1.4,
            "count": 0
           },
           {
            "bin_end": 2.2,
            "bin_start": 1.8,
            "count": 2
           },
           {
            "bin_end": 2.6,
            "bin_start": 2.2,
            "count": 0
           },
           {
            "bin_end": 3,
            "bin_start": 2.6,
            "count": 0
           },
           {
            "bin_end": 3.4000000000000004,
            "bin_start": 3,
            "count": 0
           },
           {
            "bin_end": 3.8000000000000003,
            "bin_start": 3.4000000000000004,
            "count": 0
           },
           {
            "bin_end": 4.2,
            "bin_start": 3.8000000000000003,
            "count": 1
           },
           {
            "bin_end": 4.6,
            "bin_start": 4.2,
            "count": 0
           },
           {
            "bin_end": 5,
            "bin_start": 4.6,
            "count": 1
           }
          ],
          "max": "5.0",
          "min": "1.0",
          "nan_count": 0,
          "unique_count": 4
         }
        },
        {
         "dtype": "object",
         "name": "amenities",
         "stats": {
          "categories": [
           {
            "count": 1,
            "name": "[\"Hot water\", \"Gas stove\", \"Refrigerator\", \"Bathtub\", \"Dishwasher\", \"Lockbox\", \"Private entrance\", \"54\\\" HDTV\", \"Dishes and silverware\", \"Kitchen\", \"Coffee maker\", \"Private patio or balcony\", \"Free street parking\", \"Iron\", \"Hair dryer\", \"Baby bath\", \"Microwave\", \"Fireplace guards\", \"Cooking basics\", \"Pack \\u2019n play/Travel crib\", \"Oven\", \"Free dryer \\u2013 In unit\", \"Private backyard \\u2013 Fully fenced\", \"Smoke alarm\", \"Babysitter recommendations\", \"Essentials\", \"Self check-in\", \"Fire extinguisher\", \"High chair\", \"Outlet covers\", \"Heating\", \"Outdoor furniture\", \"Long term stays allowed\", \"Wifi\", \"Children\\u2019s books and toys\", \"Children\\u2019s dinnerware\", \"Outdoor dining area\", \"BBQ grill\", \"First aid kit\", \"Hangers\", \"Free washer \\u2013 In unit\", \"Extra pillows and blankets\", \"Shampoo\", \"Game console\", \"Carbon monoxide alarm\", \"Crib\", \"Dedicated workspace\", \"Baby safety gates\", \"Bed linens\", \"Free parking on premises\"]"
           },
           {
            "count": 1,
            "name": "[\"Hot water\", \"Blender\", \"Shared patio or balcony\", \"Toaster\", \"Refrigerator\", \"Hot water kettle\", \"Free washer \\u2013 In building\", \"Private entrance\", \"Drying rack for clothing\", \"Fast wifi \\u2013 104 Mbps\", \"Dishes and silverware\", \"Kitchen\", \"Ginger Lily Farms, 100% vegan/cruelty free body soap\", \"Free street parking\", \"Ginger Lily Farms, 100% vegan/cruelty free shampoo\", \"Ginger Lily Farms, 100% vegan/cruelty free conditioner\", \"Iron\", \"Hair dryer\", \"Microwave\", \"Cooking basics\", \"Oven\", \"Private backyard \\u2013 Fully fenced\", \"Keypad\", \"Stove\", \"Smoke alarm\", \"Wine glasses\", \"Essentials\", \"Self check-in\", \"Cleaning products\", \"Safe\", \"Portable fans\", \"Fire extinguisher\", \"Free dryer \\u2013 In building\", \"Outlet covers\", \"Clothing storage: closet and dresser\", \"Heating\", \"Outdoor furniture\", \"Long term stays allowed\", \"Coffee\", \"Luggage dropoff allowed\", \"Baking sheet\", \"Outdoor dining area\", \"BBQ grill\", \"Coffee maker: french press\", \"First aid kit\", \"Garden view\", \"Hangers\", \"Freezer\", \"Extra pillows and blankets\", \"Carbon monoxide alarm\", \"Fire pit\", \"Dedicated workspace\", \"Bed linens\", \"Free parking on premises\", \"Books and reading material\"]"
           },
           {
            "count": 3,
            "name": "3 others"
           }
          ],
          "nan_count": 0,
          "unique_count": 5
         }
        },
        {
         "dtype": "float64",
         "name": "price",
         "stats": {
          "histogram": [
           {
            "bin_end": 95.5,
            "bin_start": 77,
            "count": 1
           },
           {
            "bin_end": 114,
            "bin_start": 95.5,
            "count": 1
           },
           {
            "bin_end": 132.5,
            "bin_start": 114,
            "count": 0
           },
           {
            "bin_end": 151,
            "bin_start": 132.5,
            "count": 1
           },
           {
            "bin_end": 169.5,
            "bin_start": 151,
            "count": 1
           },
           {
            "bin_end": 188,
            "bin_start": 169.5,
            "count": 0
           },
           {
            "bin_end": 206.5,
            "bin_start": 188,
            "count": 0
           },
           {
            "bin_end": 225,
            "bin_start": 206.5,
            "count": 0
           },
           {
            "bin_end": 243.5,
            "bin_start": 225,
            "count": 0
           },
           {
            "bin_end": 262,
            "bin_start": 243.5,
            "count": 1
           }
          ],
          "max": "262.0",
          "min": "77.0",
          "nan_count": 0,
          "unique_count": 5
         }
        },
        {
         "dtype": "float64",
         "name": "review_scores_rating",
         "stats": {
          "histogram": [
           {
            "bin_end": 4.55,
            "bin_start": 4.5,
            "count": 1
           },
           {
            "bin_end": 4.6,
            "bin_start": 4.55,
            "count": 0
           },
           {
            "bin_end": 4.65,
            "bin_start": 4.6,
            "count": 0
           },
           {
            "bin_end": 4.7,
            "bin_start": 4.65,
            "count": 0
           },
           {
            "bin_end": 4.75,
            "bin_start": 4.7,
            "count": 1
           },
           {
            "bin_end": 4.8,
            "bin_start": 4.75,
            "count": 0
           },
           {
            "bin_end": 4.85,
            "bin_start": 4.8,
            "count": 1
           },
           {
            "bin_end": 4.9,
            "bin_start": 4.85,
            "count": 0
           },
           {
            "bin_end": 4.95,
            "bin_start": 4.9,
            "count": 0
           },
           {
            "bin_end": 5,
            "bin_start": 4.95,
            "count": 2
           }
          ],
          "max": "5.0",
          "min": "4.5",
          "nan_count": 0,
          "unique_count": 5
         }
        },
        {
         "dtype": "float64",
         "name": "bathrooms_count",
         "stats": {
          "histogram": [
           {
            "bin_end": 0.3,
            "bin_start": 0,
            "count": 1
           },
           {
            "bin_end": 0.6,
            "bin_start": 0.3,
            "count": 0
           },
           {
            "bin_end": 0.8999999999999999,
            "bin_start": 0.6,
            "count": 0
           },
           {
            "bin_end": 1.2,
            "bin_start": 0.8999999999999999,
            "count": 2
           },
           {
            "bin_end": 1.5,
            "bin_start": 1.2,
            "count": 0
           },
           {
            "bin_end": 1.7999999999999998,
            "bin_start": 1.5,
            "count": 1
           },
           {
            "bin_end": 2.1,
            "bin_start": 1.7999999999999998,
            "count": 0
           },
           {
            "bin_end": 2.4,
            "bin_start": 2.1,
            "count": 0
           },
           {
            "bin_end": 2.6999999999999997,
            "bin_start": 2.4,
            "count": 0
           },
           {
            "bin_end": 3,
            "bin_start": 2.6999999999999997,
            "count": 1
           }
          ],
          "max": "3.0",
          "min": "0.0",
          "nan_count": 0,
          "unique_count": 4
         }
        },
        {
         "dtype": "int64",
         "name": "amenities_count",
         "stats": {
          "histogram": [
           {
            "bin_end": 24.4,
            "bin_start": 21,
            "count": 1
           },
           {
            "bin_end": 27.8,
            "bin_start": 24.4,
            "count": 0
           },
           {
            "bin_end": 31.2,
            "bin_start": 27.8,
            "count": 0
           },
           {
            "bin_end": 34.6,
            "bin_start": 31.2,
            "count": 0
           },
           {
            "bin_end": 38,
            "bin_start": 34.6,
            "count": 0
           },
           {
            "bin_end": 41.4,
            "bin_start": 38,
            "count": 0
           },
           {
            "bin_end": 44.8,
            "bin_start": 41.4,
            "count": 2
           },
           {
            "bin_end": 48.2,
            "bin_start": 44.8,
            "count": 0
           },
           {
            "bin_end": 51.599999999999994,
            "bin_start": 48.2,
            "count": 1
           },
           {
            "bin_end": 55,
            "bin_start": 51.599999999999994,
            "count": 1
           }
          ],
          "max": "55",
          "min": "21",
          "nan_count": 0,
          "unique_count": 5
         }
        },
        {
         "dtype": "int64",
         "name": "host_response_time_encoded",
         "stats": {
          "histogram": [
           {
            "bin_end": 1.4,
            "bin_start": 1,
            "count": 4
           },
           {
            "bin_end": 1.8,
            "bin_start": 1.4,
            "count": 0
           },
           {
            "bin_end": 2.2,
            "bin_start": 1.8,
            "count": 0
           },
           {
            "bin_end": 2.6,
            "bin_start": 2.2,
            "count": 0
           },
           {
            "bin_end": 3,
            "bin_start": 2.6,
            "count": 0
           },
           {
            "bin_end": 3.4000000000000004,
            "bin_start": 3,
            "count": 0
           },
           {
            "bin_end": 3.8000000000000003,
            "bin_start": 3.4000000000000004,
            "count": 0
           },
           {
            "bin_end": 4.2,
            "bin_start": 3.8000000000000003,
            "count": 0
           },
           {
            "bin_end": 4.6,
            "bin_start": 4.2,
            "count": 0
           },
           {
            "bin_end": 5,
            "bin_start": 4.6,
            "count": 1
           }
          ],
          "max": "5",
          "min": "1",
          "nan_count": 0,
          "unique_count": 2
         }
        },
        {
         "dtype": "int64",
         "name": "host_operate_years",
         "stats": {
          "histogram": [
           {
            "bin_end": 3.5,
            "bin_start": 3,
            "count": 2
           },
           {
            "bin_end": 4,
            "bin_start": 3.5,
            "count": 0
           },
           {
            "bin_end": 4.5,
            "bin_start": 4,
            "count": 1
           },
           {
            "bin_end": 5,
            "bin_start": 4.5,
            "count": 0
           },
           {
            "bin_end": 5.5,
            "bin_start": 5,
            "count": 1
           },
           {
            "bin_end": 6,
            "bin_start": 5.5,
            "count": 0
           },
           {
            "bin_end": 6.5,
            "bin_start": 6,
            "count": 0
           },
           {
            "bin_end": 7,
            "bin_start": 6.5,
            "count": 0
           },
           {
            "bin_end": 7.5,
            "bin_start": 7,
            "count": 0
           },
           {
            "bin_end": 8,
            "bin_start": 7.5,
            "count": 1
           }
          ],
          "max": "8",
          "min": "3",
          "nan_count": 0,
          "unique_count": 4
         }
        },
        {
         "dtype": "float64",
         "name": "polarity",
         "stats": {
          "histogram": [
           {
            "bin_end": 0.710875,
            "bin_start": 0.6816222222222222,
            "count": 1
           },
           {
            "bin_end": 0.7401277777777778,
            "bin_start": 0.710875,
            "count": 0
           },
           {
            "bin_end": 0.7693805555555555,
            "bin_start": 0.7401277777777778,
            "count": 0
           },
           {
            "bin_end": 0.7986333333333333,
            "bin_start": 0.7693805555555555,
            "count": 0
           },
           {
            "bin_end": 0.8278861111111111,
            "bin_start": 0.7986333333333333,
            "count": 0
           },
           {
            "bin_end": 0.8571388888888889,
            "bin_start": 0.8278861111111111,
            "count": 1
           },
           {
            "bin_end": 0.8863916666666667,
            "bin_start": 0.8571388888888889,
            "count": 0
           },
           {
            "bin_end": 0.9156444444444445,
            "bin_start": 0.8863916666666667,
            "count": 0
           },
           {
            "bin_end": 0.9448972222222223,
            "bin_start": 0.9156444444444445,
            "count": 1
           },
           {
            "bin_end": 0.97415,
            "bin_start": 0.9448972222222223,
            "count": 2
           }
          ],
          "max": "0.97415",
          "min": "0.6816222222222222",
          "nan_count": 0,
          "unique_count": 5
         }
        },
        {
         "dtype": "int64",
         "name": "_deepnote_index_column"
        }
       ],
       "row_count": 5,
       "rows": [
        {
         "_deepnote_index_column": "500",
         "accommodates": "5",
         "amenities": "[\"Hot water\", \"Gas stove\", \"Refrigerator\", \"Bathtub\", \"Dishwasher\", \"Lockbox\", \"Private entrance\", \"54\\\" HDTV\", \"Dishes and silverware\", \"Kitchen\", \"Coffee maker\", \"Private patio or balcony\", \"Free street parking\", \"Iron\", \"Hair dryer\", \"Baby bath\", \"Microwave\", \"Fireplace guards\", \"Cooking basics\", \"Pack \\u2019n play/Travel crib\", \"Oven\", \"Free dryer \\u2013 In unit\", \"Private backyard \\u2013 Fully fenced\", \"Smoke alarm\", \"Babysitter recommendations\", \"Essentials\", \"Self check-in\", \"Fire extinguisher\", \"High chair\", \"Outlet covers\", \"Heating\", \"Outdoor furniture\", \"Long term stays allowed\", \"Wifi\", \"Children\\u2019s books and toys\", \"Children\\u2019s dinnerware\", \"Outdoor dining area\", \"BBQ grill\", \"First aid kit\", \"Hangers\", \"Free washer \\u2013 In unit\", \"Extra pillows and blankets\", \"Shampoo\", \"Game console\", \"Carbon monoxide alarm\", \"Crib\", \"Dedicated workspace\", \"Baby safety gates\", \"Bed linens\", \"Free parking on premises\"]",
         "amenities_count": "50",
         "bathrooms_count": "1.5",
         "bedrooms": "3.0",
         "beds": "4.0",
         "host_operate_years": "5",
         "host_response_time_encoded": "1",
         "latitude": "47.68454",
         "listing_id": "26258898",
         "listing_url": "https://www.airbnb.com/rooms/26258898",
         "longitude": "-122.35851",
         "neighbourhood_cleansed": "Greenwood",
         "neighbourhood_group_cleansed": "Other neighborhoods",
         "polarity": "0.9563",
         "price": "262.0",
         "property_type": "Entire home",
         "review_scores_rating": "5.0",
         "room_type": "Entire home/apt",
         "similarity": "1.0000000000000009"
        },
        {
         "_deepnote_index_column": "345",
         "accommodates": "2",
         "amenities": "[\"Hot water\", \"Blender\", \"Shared patio or balcony\", \"Toaster\", \"Refrigerator\", \"Hot water kettle\", \"Free washer \\u2013 In building\", \"Private entrance\", \"Drying rack for clothing\", \"Fast wifi \\u2013 104 Mbps\", \"Dishes and silverware\", \"Kitchen\", \"Ginger Lily Farms, 100% vegan/cruelty free body soap\", \"Free street parking\", \"Ginger Lily Farms, 100% vegan/cruelty free shampoo\", \"Ginger Lily Farms, 100% vegan/cruelty free conditioner\", \"Iron\", \"Hair dryer\", \"Microwave\", \"Cooking basics\", \"Oven\", \"Private backyard \\u2013 Fully fenced\", \"Keypad\", \"Stove\", \"Smoke alarm\", \"Wine glasses\", \"Essentials\", \"Self check-in\", \"Cleaning products\", \"Safe\", \"Portable fans\", \"Fire extinguisher\", \"Free dryer \\u2013 In building\", \"Outlet covers\", \"Clothing storage: closet and dresser\", \"Heating\", \"Outdoor furniture\", \"Long term stays allowed\", \"Coffee\", \"Luggage dropoff allowed\", \"Baking sheet\", \"Outdoor dining area\", \"BBQ grill\", \"Coffee maker: french press\", \"First aid kit\", \"Garden view\", \"Hangers\", \"F…",
         "amenities_count": "55",
         "bathrooms_count": "1.0",
         "bedrooms": "1.0",
         "beds": "1.0",
         "host_operate_years": "4",
         "host_response_time_encoded": "1",
         "latitude": "47.7119",
         "listing_id": "41218952",
         "listing_url": "https://www.airbnb.com/rooms/41218952",
         "longitude": "-122.35053",
         "neighbourhood_cleansed": "Bitter Lake",
         "neighbourhood_group_cleansed": "Other neighborhoods",
         "polarity": "0.9356799999999998",
         "price": "77.0",
         "property_type": "Entire guest suite",
         "review_scores_rating": "4.97",
         "room_type": "Entire home/apt",
         "similarity": "0.9999999998216362"
        },
        {
         "_deepnote_index_column": "1741",
         "accommodates": "3",
         "amenities": "[\"Hot water\", \"32\\\" HDTV with standard cable\", \"Refrigerator\", \"Dishwasher\", \"Lockbox\", \"Private entrance\", \"Dishes and silverware\", \"Conditioner\", \"Shower gel\", \"Kitchen\", \"Body soap\", \"Iron\", \"Hair dryer\", \"Microwave\", \"Cooking basics\", \"Oven\", \"Free dryer \\u2013 In unit\", \"Stove\", \"Ceiling fan\", \"Smoke alarm\", \"Essentials\", \"Self check-in\", \"Clock radio sound system with Bluetooth and aux\", \"Portable fans\", \"Coffee maker: pour-over coffee\", \"Fire extinguisher\", \"Heating\", \"Long term stays allowed\", \"Cleaning available during stay\", \"Wifi\", \"Single level home\", \"Baking sheet\", \"Laundromat nearby\", \"First aid kit\", \"Hangers\", \"Freezer\", \"Free washer \\u2013 In unit\", \"Extra pillows and blankets\", \"Shampoo\", \"Carbon monoxide alarm\", \"Dedicated workspace\", \"Bed linens\"]",
         "amenities_count": "42",
         "bathrooms_count": "1.0",
         "bedrooms": "2.0",
         "beds": "2.0",
         "host_operate_years": "8",
         "host_response_time_encoded": "1",
         "latitude": "47.62233",
         "listing_id": "4129218",
         "listing_url": "https://www.airbnb.com/rooms/4129218",
         "longitude": "-122.31947",
         "neighbourhood_cleansed": "Broadway",
         "neighbourhood_group_cleansed": "Capitol Hill",
         "polarity": "0.8422106557377046",
         "price": "140.0",
         "property_type": "Entire rental unit",
         "review_scores_rating": "4.83",
         "room_type": "Entire home/apt",
         "similarity": "0.9999999629771724"
        },
        {
         "_deepnote_index_column": "360",
         "accommodates": "3",
         "amenities": "[\"Hot water\", \"Private entrance\", \"Bay view\", \"Washer\", \"Kitchen\", \"TV\", \"Elevator\", \"City skyline view\", \"Iron\", \"Smoke alarm\", \"Dryer\", \"Essentials\", \"Fire extinguisher\", \"Heating\", \"Long term stays allowed\", \"Wifi\", \"Air conditioning\", \"Hangers\", \"Shampoo\", \"Carbon monoxide alarm\", \"Dedicated workspace\"]",
         "amenities_count": "21",
         "bathrooms_count": "0.0",
         "bedrooms": "1.0",
         "beds": "2.0",
         "host_operate_years": "3",
         "host_response_time_encoded": "5",
         "latitude": "47.61189",
         "listing_id": "50159554",
         "listing_url": "https://www.airbnb.com/rooms/50159554",
         "longitude": "-122.32485",
         "neighbourhood_cleansed": "First Hill",
         "neighbourhood_group_cleansed": "Downtown",
         "polarity": "0.97415",
         "price": "110.0",
         "property_type": "Entire rental unit",
         "review_scores_rating": "4.5",
         "room_type": "Entire home/apt",
         "similarity": "0.9999999578233008"
        },
        {
         "_deepnote_index_column": "1680",
         "accommodates": "10",
         "amenities": "[\"Hot water\", \"Refrigerator\", \"Bathtub\", \"Dishwasher\", \"Room-darkening shades\", \"Private entrance\", \"Dishes and silverware\", \"Washer\", \"Kitchen\", \"TV\", \"Coffee maker\", \"Indoor fireplace\", \"Patio or balcony\", \"Free street parking\", \"Iron\", \"Hair dryer\", \"Microwave\", \"Cooking basics\", \"Fireplace guards\", \"Oven\", \"Pack \\u2019n play/Travel crib\", \"Stove\", \"Smoke alarm\", \"Dryer\", \"Essentials\", \"Self check-in\", \"Fire extinguisher\", \"Heating\", \"Long term stays allowed\", \"Cleaning available during stay\", \"Wifi\", \"Luggage dropoff allowed\", \"BBQ grill\", \"First aid kit\", \"Hangers\", \"Extra pillows and blankets\", \"Shampoo\", \"Game console\", \"Carbon monoxide alarm\", \"Smart lock\", \"Dedicated workspace\", \"Bed linens\", \"Free parking on premises\"]",
         "amenities_count": "43",
         "bathrooms_count": "3.0",
         "bedrooms": "5.0",
         "beds": "5.0",
         "host_operate_years": "3",
         "host_response_time_encoded": "1",
         "latitude": "47.5589",
         "listing_id": "51263519",
         "listing_url": "https://www.airbnb.com/rooms/51263519",
         "longitude": "-122.30933",
         "neighbourhood_cleansed": "Mid-Beacon Hill",
         "neighbourhood_group_cleansed": "Beacon Hill",
         "polarity": "0.6816222222222222",
         "price": "153.0",
         "property_type": "Entire home",
         "review_scores_rating": "4.7",
         "room_type": "Entire home/apt",
         "similarity": "0.9999997656263523"
        }
       ]
      },
      "text/html": [
       "<div>\n",
       "<style scoped>\n",
       "    .dataframe tbody tr th:only-of-type {\n",
       "        vertical-align: middle;\n",
       "    }\n",
       "\n",
       "    .dataframe tbody tr th {\n",
       "        vertical-align: top;\n",
       "    }\n",
       "\n",
       "    .dataframe thead th {\n",
       "        text-align: right;\n",
       "    }\n",
       "</style>\n",
       "<table border=\"1\" class=\"dataframe\">\n",
       "  <thead>\n",
       "    <tr style=\"text-align: right;\">\n",
       "      <th></th>\n",
       "      <th>listing_id</th>\n",
       "      <th>listing_url</th>\n",
       "      <th>similarity</th>\n",
       "      <th>neighbourhood_cleansed</th>\n",
       "      <th>neighbourhood_group_cleansed</th>\n",
       "      <th>latitude</th>\n",
       "      <th>longitude</th>\n",
       "      <th>property_type</th>\n",
       "      <th>room_type</th>\n",
       "      <th>accommodates</th>\n",
       "      <th>bedrooms</th>\n",
       "      <th>beds</th>\n",
       "      <th>amenities</th>\n",
       "      <th>price</th>\n",
       "      <th>review_scores_rating</th>\n",
       "      <th>bathrooms_count</th>\n",
       "      <th>amenities_count</th>\n",
       "      <th>host_response_time_encoded</th>\n",
       "      <th>host_operate_years</th>\n",
       "      <th>polarity</th>\n",
       "    </tr>\n",
       "  </thead>\n",
       "  <tbody>\n",
       "    <tr>\n",
       "      <th>500</th>\n",
       "      <td>26258898</td>\n",
       "      <td>https://www.airbnb.com/rooms/26258898</td>\n",
       "      <td>1.0000000000</td>\n",
       "      <td>Greenwood</td>\n",
       "      <td>Other neighborhoods</td>\n",
       "      <td>47.6845400000</td>\n",
       "      <td>-122.3585100000</td>\n",
       "      <td>Entire home</td>\n",
       "      <td>Entire home/apt</td>\n",
       "      <td>5</td>\n",
       "      <td>3.0000000000</td>\n",
       "      <td>4.0000000000</td>\n",
       "      <td>[\"Hot water\", \"Gas stove\", \"Refrigerator\", \"Ba...</td>\n",
       "      <td>262.0000000000</td>\n",
       "      <td>5.0000000000</td>\n",
       "      <td>1.5000000000</td>\n",
       "      <td>50</td>\n",
       "      <td>1</td>\n",
       "      <td>5</td>\n",
       "      <td>0.9563000000</td>\n",
       "    </tr>\n",
       "    <tr>\n",
       "      <th>345</th>\n",
       "      <td>41218952</td>\n",
       "      <td>https://www.airbnb.com/rooms/41218952</td>\n",
       "      <td>0.9999999998</td>\n",
       "      <td>Bitter Lake</td>\n",
       "      <td>Other neighborhoods</td>\n",
       "      <td>47.7119000000</td>\n",
       "      <td>-122.3505300000</td>\n",
       "      <td>Entire guest suite</td>\n",
       "      <td>Entire home/apt</td>\n",
       "      <td>2</td>\n",
       "      <td>1.0000000000</td>\n",
       "      <td>1.0000000000</td>\n",
       "      <td>[\"Hot water\", \"Blender\", \"Shared patio or balc...</td>\n",
       "      <td>77.0000000000</td>\n",
       "      <td>4.9700000000</td>\n",
       "      <td>1.0000000000</td>\n",
       "      <td>55</td>\n",
       "      <td>1</td>\n",
       "      <td>4</td>\n",
       "      <td>0.9356800000</td>\n",
       "    </tr>\n",
       "    <tr>\n",
       "      <th>1741</th>\n",
       "      <td>4129218</td>\n",
       "      <td>https://www.airbnb.com/rooms/4129218</td>\n",
       "      <td>0.9999999630</td>\n",
       "      <td>Broadway</td>\n",
       "      <td>Capitol Hill</td>\n",
       "      <td>47.6223300000</td>\n",
       "      <td>-122.3194700000</td>\n",
       "      <td>Entire rental unit</td>\n",
       "      <td>Entire home/apt</td>\n",
       "      <td>3</td>\n",
       "      <td>2.0000000000</td>\n",
       "      <td>2.0000000000</td>\n",
       "      <td>[\"Hot water\", \"32\\\" HDTV with standard cable\",...</td>\n",
       "      <td>140.0000000000</td>\n",
       "      <td>4.8300000000</td>\n",
       "      <td>1.0000000000</td>\n",
       "      <td>42</td>\n",
       "      <td>1</td>\n",
       "      <td>8</td>\n",
       "      <td>0.8422106557</td>\n",
       "    </tr>\n",
       "    <tr>\n",
       "      <th>360</th>\n",
       "      <td>50159554</td>\n",
       "      <td>https://www.airbnb.com/rooms/50159554</td>\n",
       "      <td>0.9999999578</td>\n",
       "      <td>First Hill</td>\n",
       "      <td>Downtown</td>\n",
       "      <td>47.6118900000</td>\n",
       "      <td>-122.3248500000</td>\n",
       "      <td>Entire rental unit</td>\n",
       "      <td>Entire home/apt</td>\n",
       "      <td>3</td>\n",
       "      <td>1.0000000000</td>\n",
       "      <td>2.0000000000</td>\n",
       "      <td>[\"Hot water\", \"Private entrance\", \"Bay view\", ...</td>\n",
       "      <td>110.0000000000</td>\n",
       "      <td>4.5000000000</td>\n",
       "      <td>0.0000000000</td>\n",
       "      <td>21</td>\n",
       "      <td>5</td>\n",
       "      <td>3</td>\n",
       "      <td>0.9741500000</td>\n",
       "    </tr>\n",
       "    <tr>\n",
       "      <th>1680</th>\n",
       "      <td>51263519</td>\n",
       "      <td>https://www.airbnb.com/rooms/51263519</td>\n",
       "      <td>0.9999997656</td>\n",
       "      <td>Mid-Beacon Hill</td>\n",
       "      <td>Beacon Hill</td>\n",
       "      <td>47.5589000000</td>\n",
       "      <td>-122.3093300000</td>\n",
       "      <td>Entire home</td>\n",
       "      <td>Entire home/apt</td>\n",
       "      <td>10</td>\n",
       "      <td>5.0000000000</td>\n",
       "      <td>5.0000000000</td>\n",
       "      <td>[\"Hot water\", \"Refrigerator\", \"Bathtub\", \"Dish...</td>\n",
       "      <td>153.0000000000</td>\n",
       "      <td>4.7000000000</td>\n",
       "      <td>3.0000000000</td>\n",
       "      <td>43</td>\n",
       "      <td>1</td>\n",
       "      <td>3</td>\n",
       "      <td>0.6816222222</td>\n",
       "    </tr>\n",
       "  </tbody>\n",
       "</table>\n",
       "</div>"
      ],
      "text/plain": [
       "      listing_id                            listing_url   similarity  \\\n",
       "500     26258898  https://www.airbnb.com/rooms/26258898 1.0000000000   \n",
       "345     41218952  https://www.airbnb.com/rooms/41218952 0.9999999998   \n",
       "1741     4129218   https://www.airbnb.com/rooms/4129218 0.9999999630   \n",
       "360     50159554  https://www.airbnb.com/rooms/50159554 0.9999999578   \n",
       "1680    51263519  https://www.airbnb.com/rooms/51263519 0.9999997656   \n",
       "\n",
       "     neighbourhood_cleansed neighbourhood_group_cleansed      latitude  \\\n",
       "500               Greenwood          Other neighborhoods 47.6845400000   \n",
       "345             Bitter Lake          Other neighborhoods 47.7119000000   \n",
       "1741               Broadway                 Capitol Hill 47.6223300000   \n",
       "360              First Hill                     Downtown 47.6118900000   \n",
       "1680        Mid-Beacon Hill                  Beacon Hill 47.5589000000   \n",
       "\n",
       "           longitude       property_type        room_type  accommodates  \\\n",
       "500  -122.3585100000         Entire home  Entire home/apt             5   \n",
       "345  -122.3505300000  Entire guest suite  Entire home/apt             2   \n",
       "1741 -122.3194700000  Entire rental unit  Entire home/apt             3   \n",
       "360  -122.3248500000  Entire rental unit  Entire home/apt             3   \n",
       "1680 -122.3093300000         Entire home  Entire home/apt            10   \n",
       "\n",
       "         bedrooms         beds  \\\n",
       "500  3.0000000000 4.0000000000   \n",
       "345  1.0000000000 1.0000000000   \n",
       "1741 2.0000000000 2.0000000000   \n",
       "360  1.0000000000 2.0000000000   \n",
       "1680 5.0000000000 5.0000000000   \n",
       "\n",
       "                                              amenities          price  \\\n",
       "500   [\"Hot water\", \"Gas stove\", \"Refrigerator\", \"Ba... 262.0000000000   \n",
       "345   [\"Hot water\", \"Blender\", \"Shared patio or balc...  77.0000000000   \n",
       "1741  [\"Hot water\", \"32\\\" HDTV with standard cable\",... 140.0000000000   \n",
       "360   [\"Hot water\", \"Private entrance\", \"Bay view\", ... 110.0000000000   \n",
       "1680  [\"Hot water\", \"Refrigerator\", \"Bathtub\", \"Dish... 153.0000000000   \n",
       "\n",
       "      review_scores_rating  bathrooms_count  amenities_count  \\\n",
       "500           5.0000000000     1.5000000000               50   \n",
       "345           4.9700000000     1.0000000000               55   \n",
       "1741          4.8300000000     1.0000000000               42   \n",
       "360           4.5000000000     0.0000000000               21   \n",
       "1680          4.7000000000     3.0000000000               43   \n",
       "\n",
       "      host_response_time_encoded  host_operate_years     polarity  \n",
       "500                            1                   5 0.9563000000  \n",
       "345                            1                   4 0.9356800000  \n",
       "1741                           1                   8 0.8422106557  \n",
       "360                            5                   3 0.9741500000  \n",
       "1680                           1                   3 0.6816222222  "
      ]
     },
     "metadata": {},
     "output_type": "display_data"
    }
   ],
   "source": [
    "df_recs = get_recommendations(df_model, similarity, 5, listing_id=26258898)\n",
    "with pd.option_context('display.float_format', '{:0.10f}'.format):\n",
    "    display(df_recs)"
   ]
  },
  {
   "cell_type": "markdown",
   "metadata": {
    "cell_id": "73656648429548d291a27adce68d70ad",
    "deepnote_cell_type": "markdown",
    "id": "SL10xGB4MuY7"
   },
   "source": [
    "Search for simular properties by listing_url"
   ]
  },
  {
   "cell_type": "code",
   "execution_count": 29,
   "metadata": {
    "cell_id": "7485b9b56c4748bcab5913a8f4cb243d",
    "colab": {
     "base_uri": "https://localhost:8080/",
     "height": 540
    },
    "deepnote_cell_type": "code",
    "deepnote_to_be_reexecuted": false,
    "execution_millis": 159,
    "execution_start": 1679772646825,
    "id": "ckMbvBN2Mz93",
    "outputId": "4ff030d5-0c44-41c2-d547-f2d73ad78aca",
    "source_hash": "e4466229"
   },
   "outputs": [
    {
     "name": "stdout",
     "output_type": "stream",
     "text": [
      "[ 500  345 1741  360 1680]\n"
     ]
    },
    {
     "data": {
      "application/vnd.deepnote.dataframe.v3+json": {
       "column_count": 20,
       "columns": [
        {
         "dtype": "int64",
         "name": "listing_id",
         "stats": {
          "histogram": [
           {
            "bin_end": 8842648.1,
            "bin_start": 4129218,
            "count": 1
           },
           {
            "bin_end": 13556078.2,
            "bin_start": 8842648.1,
            "count": 0
           },
           {
            "bin_end": 18269508.299999997,
            "bin_start": 13556078.2,
            "count": 0
           },
           {
            "bin_end": 22982938.4,
            "bin_start": 18269508.299999997,
            "count": 0
           },
           {
            "bin_end": 27696368.5,
            "bin_start": 22982938.4,
            "count": 1
           },
           {
            "bin_end": 32409798.599999998,
            "bin_start": 27696368.5,
            "count": 0
           },
           {
            "bin_end": 37123228.699999996,
            "bin_start": 32409798.599999998,
            "count": 0
           },
           {
            "bin_end": 41836658.8,
            "bin_start": 37123228.699999996,
            "count": 1
           },
           {
            "bin_end": 46550088.9,
            "bin_start": 41836658.8,
            "count": 0
           },
           {
            "bin_end": 51263519,
            "bin_start": 46550088.9,
            "count": 2
           }
          ],
          "max": "51263519",
          "min": "4129218",
          "nan_count": 0,
          "unique_count": 5
         }
        },
        {
         "dtype": "object",
         "name": "listing_url",
         "stats": {
          "categories": [
           {
            "count": 1,
            "name": "https://www.airbnb.com/rooms/26258898"
           },
           {
            "count": 1,
            "name": "https://www.airbnb.com/rooms/41218952"
           },
           {
            "count": 3,
            "name": "3 others"
           }
          ],
          "nan_count": 0,
          "unique_count": 5
         }
        },
        {
         "dtype": "float64",
         "name": "similarity",
         "stats": {
          "histogram": [
           {
            "bin_end": 0.9999997890637171,
            "bin_start": 0.9999997656263523,
            "count": 1
           },
           {
            "bin_end": 0.999999812501082,
            "bin_start": 0.9999997890637171,
            "count": 0
           },
           {
            "bin_end": 0.9999998359384469,
            "bin_start": 0.999999812501082,
            "count": 0
           },
           {
            "bin_end": 0.9999998593758117,
            "bin_start": 0.9999998359384469,
            "count": 0
           },
           {
            "bin_end": 0.9999998828131766,
            "bin_start": 0.9999998593758117,
            "count": 0
           },
           {
            "bin_end": 0.9999999062505415,
            "bin_start": 0.9999998828131766,
            "count": 0
           },
           {
            "bin_end": 0.9999999296879063,
            "bin_start": 0.9999999062505415,
            "count": 0
           },
           {
            "bin_end": 0.9999999531252711,
            "bin_start": 0.9999999296879063,
            "count": 0
           },
           {
            "bin_end": 0.9999999765626361,
            "bin_start": 0.9999999531252711,
            "count": 2
           },
           {
            "bin_end": 1.0000000000000009,
            "bin_start": 0.9999999765626361,
            "count": 2
           }
          ],
          "max": "1.0000000000000009",
          "min": "0.9999997656263523",
          "nan_count": 0,
          "unique_count": 5
         }
        },
        {
         "dtype": "object",
         "name": "neighbourhood_cleansed",
         "stats": {
          "categories": [
           {
            "count": 1,
            "name": "Greenwood"
           },
           {
            "count": 1,
            "name": "Bitter Lake"
           },
           {
            "count": 3,
            "name": "3 others"
           }
          ],
          "nan_count": 0,
          "unique_count": 5
         }
        },
        {
         "dtype": "object",
         "name": "neighbourhood_group_cleansed",
         "stats": {
          "categories": [
           {
            "count": 2,
            "name": "Other neighborhoods"
           },
           {
            "count": 1,
            "name": "Capitol Hill"
           },
           {
            "count": 2,
            "name": "2 others"
           }
          ],
          "nan_count": 0,
          "unique_count": 4
         }
        },
        {
         "dtype": "float64",
         "name": "latitude",
         "stats": {
          "histogram": [
           {
            "bin_end": 47.574200000000005,
            "bin_start": 47.5589,
            "count": 1
           },
           {
            "bin_end": 47.5895,
            "bin_start": 47.574200000000005,
            "count": 0
           },
           {
            "bin_end": 47.6048,
            "bin_start": 47.5895,
            "count": 0
           },
           {
            "bin_end": 47.6201,
            "bin_start": 47.6048,
            "count": 1
           },
           {
            "bin_end": 47.635400000000004,
            "bin_start": 47.6201,
            "count": 1
           },
           {
            "bin_end": 47.6507,
            "bin_start": 47.635400000000004,
            "count": 0
           },
           {
            "bin_end": 47.666,
            "bin_start": 47.6507,
            "count": 0
           },
           {
            "bin_end": 47.6813,
            "bin_start": 47.666,
            "count": 0
           },
           {
            "bin_end": 47.696600000000004,
            "bin_start": 47.6813,
            "count": 1
           },
           {
            "bin_end": 47.7119,
            "bin_start": 47.696600000000004,
            "count": 1
           }
          ],
          "max": "47.7119",
          "min": "47.5589",
          "nan_count": 0,
          "unique_count": 5
         }
        },
        {
         "dtype": "float64",
         "name": "longitude",
         "stats": {
          "histogram": [
           {
            "bin_end": -122.35359199999999,
            "bin_start": -122.35851,
            "count": 1
           },
           {
            "bin_end": -122.348674,
            "bin_start": -122.35359199999999,
            "count": 1
           },
           {
            "bin_end": -122.343756,
            "bin_start": -122.348674,
            "count": 0
           },
           {
            "bin_end": -122.338838,
            "bin_start": -122.343756,
            "count": 0
           },
           {
            "bin_end": -122.33392,
            "bin_start": -122.338838,
            "count": 0
           },
           {
            "bin_end": -122.329002,
            "bin_start": -122.33392,
            "count": 0
           },
           {
            "bin_end": -122.324084,
            "bin_start": -122.329002,
            "count": 1
           },
           {
            "bin_end": -122.319166,
            "bin_start": -122.324084,
            "count": 1
           },
           {
            "bin_end": -122.314248,
            "bin_start": -122.319166,
            "count": 0
           },
           {
            "bin_end": -122.30933,
            "bin_start": -122.314248,
            "count": 1
           }
          ],
          "max": "-122.30933",
          "min": "-122.35851",
          "nan_count": 0,
          "unique_count": 5
         }
        },
        {
         "dtype": "object",
         "name": "property_type",
         "stats": {
          "categories": [
           {
            "count": 2,
            "name": "Entire home"
           },
           {
            "count": 2,
            "name": "Entire rental unit"
           },
           {
            "count": 1,
            "name": "Entire guest suite"
           }
          ],
          "nan_count": 0,
          "unique_count": 3
         }
        },
        {
         "dtype": "object",
         "name": "room_type",
         "stats": {
          "categories": [
           {
            "count": 5,
            "name": "Entire home/apt"
           }
          ],
          "nan_count": 0,
          "unique_count": 1
         }
        },
        {
         "dtype": "int64",
         "name": "accommodates",
         "stats": {
          "histogram": [
           {
            "bin_end": 2.8,
            "bin_start": 2,
            "count": 1
           },
           {
            "bin_end": 3.6,
            "bin_start": 2.8,
            "count": 2
           },
           {
            "bin_end": 4.4,
            "bin_start": 3.6,
            "count": 0
           },
           {
            "bin_end": 5.2,
            "bin_start": 4.4,
            "count": 1
           },
           {
            "bin_end": 6,
            "bin_start": 5.2,
            "count": 0
           },
           {
            "bin_end": 6.800000000000001,
            "bin_start": 6,
            "count": 0
           },
           {
            "bin_end": 7.6000000000000005,
            "bin_start": 6.800000000000001,
            "count": 0
           },
           {
            "bin_end": 8.4,
            "bin_start": 7.6000000000000005,
            "count": 0
           },
           {
            "bin_end": 9.2,
            "bin_start": 8.4,
            "count": 0
           },
           {
            "bin_end": 10,
            "bin_start": 9.2,
            "count": 1
           }
          ],
          "max": "10",
          "min": "2",
          "nan_count": 0,
          "unique_count": 4
         }
        },
        {
         "dtype": "float64",
         "name": "bedrooms",
         "stats": {
          "histogram": [
           {
            "bin_end": 1.4,
            "bin_start": 1,
            "count": 2
           },
           {
            "bin_end": 1.8,
            "bin_start": 1.4,
            "count": 0
           },
           {
            "bin_end": 2.2,
            "bin_start": 1.8,
            "count": 1
           },
           {
            "bin_end": 2.6,
            "bin_start": 2.2,
            "count": 0
           },
           {
            "bin_end": 3,
            "bin_start": 2.6,
            "count": 0
           },
           {
            "bin_end": 3.4000000000000004,
            "bin_start": 3,
            "count": 1
           },
           {
            "bin_end": 3.8000000000000003,
            "bin_start": 3.4000000000000004,
            "count": 0
           },
           {
            "bin_end": 4.2,
            "bin_start": 3.8000000000000003,
            "count": 0
           },
           {
            "bin_end": 4.6,
            "bin_start": 4.2,
            "count": 0
           },
           {
            "bin_end": 5,
            "bin_start": 4.6,
            "count": 1
           }
          ],
          "max": "5.0",
          "min": "1.0",
          "nan_count": 0,
          "unique_count": 4
         }
        },
        {
         "dtype": "float64",
         "name": "beds",
         "stats": {
          "histogram": [
           {
            "bin_end": 1.4,
            "bin_start": 1,
            "count": 1
           },
           {
            "bin_end": 1.8,
            "bin_start": 1.4,
            "count": 0
           },
           {
            "bin_end": 2.2,
            "bin_start": 1.8,
            "count": 2
           },
           {
            "bin_end": 2.6,
            "bin_start": 2.2,
            "count": 0
           },
           {
            "bin_end": 3,
            "bin_start": 2.6,
            "count": 0
           },
           {
            "bin_end": 3.4000000000000004,
            "bin_start": 3,
            "count": 0
           },
           {
            "bin_end": 3.8000000000000003,
            "bin_start": 3.4000000000000004,
            "count": 0
           },
           {
            "bin_end": 4.2,
            "bin_start": 3.8000000000000003,
            "count": 1
           },
           {
            "bin_end": 4.6,
            "bin_start": 4.2,
            "count": 0
           },
           {
            "bin_end": 5,
            "bin_start": 4.6,
            "count": 1
           }
          ],
          "max": "5.0",
          "min": "1.0",
          "nan_count": 0,
          "unique_count": 4
         }
        },
        {
         "dtype": "object",
         "name": "amenities",
         "stats": {
          "categories": [
           {
            "count": 1,
            "name": "[\"Hot water\", \"Gas stove\", \"Refrigerator\", \"Bathtub\", \"Dishwasher\", \"Lockbox\", \"Private entrance\", \"54\\\" HDTV\", \"Dishes and silverware\", \"Kitchen\", \"Coffee maker\", \"Private patio or balcony\", \"Free street parking\", \"Iron\", \"Hair dryer\", \"Baby bath\", \"Microwave\", \"Fireplace guards\", \"Cooking basics\", \"Pack \\u2019n play/Travel crib\", \"Oven\", \"Free dryer \\u2013 In unit\", \"Private backyard \\u2013 Fully fenced\", \"Smoke alarm\", \"Babysitter recommendations\", \"Essentials\", \"Self check-in\", \"Fire extinguisher\", \"High chair\", \"Outlet covers\", \"Heating\", \"Outdoor furniture\", \"Long term stays allowed\", \"Wifi\", \"Children\\u2019s books and toys\", \"Children\\u2019s dinnerware\", \"Outdoor dining area\", \"BBQ grill\", \"First aid kit\", \"Hangers\", \"Free washer \\u2013 In unit\", \"Extra pillows and blankets\", \"Shampoo\", \"Game console\", \"Carbon monoxide alarm\", \"Crib\", \"Dedicated workspace\", \"Baby safety gates\", \"Bed linens\", \"Free parking on premises\"]"
           },
           {
            "count": 1,
            "name": "[\"Hot water\", \"Blender\", \"Shared patio or balcony\", \"Toaster\", \"Refrigerator\", \"Hot water kettle\", \"Free washer \\u2013 In building\", \"Private entrance\", \"Drying rack for clothing\", \"Fast wifi \\u2013 104 Mbps\", \"Dishes and silverware\", \"Kitchen\", \"Ginger Lily Farms, 100% vegan/cruelty free body soap\", \"Free street parking\", \"Ginger Lily Farms, 100% vegan/cruelty free shampoo\", \"Ginger Lily Farms, 100% vegan/cruelty free conditioner\", \"Iron\", \"Hair dryer\", \"Microwave\", \"Cooking basics\", \"Oven\", \"Private backyard \\u2013 Fully fenced\", \"Keypad\", \"Stove\", \"Smoke alarm\", \"Wine glasses\", \"Essentials\", \"Self check-in\", \"Cleaning products\", \"Safe\", \"Portable fans\", \"Fire extinguisher\", \"Free dryer \\u2013 In building\", \"Outlet covers\", \"Clothing storage: closet and dresser\", \"Heating\", \"Outdoor furniture\", \"Long term stays allowed\", \"Coffee\", \"Luggage dropoff allowed\", \"Baking sheet\", \"Outdoor dining area\", \"BBQ grill\", \"Coffee maker: french press\", \"First aid kit\", \"Garden view\", \"Hangers\", \"Freezer\", \"Extra pillows and blankets\", \"Carbon monoxide alarm\", \"Fire pit\", \"Dedicated workspace\", \"Bed linens\", \"Free parking on premises\", \"Books and reading material\"]"
           },
           {
            "count": 3,
            "name": "3 others"
           }
          ],
          "nan_count": 0,
          "unique_count": 5
         }
        },
        {
         "dtype": "float64",
         "name": "price",
         "stats": {
          "histogram": [
           {
            "bin_end": 95.5,
            "bin_start": 77,
            "count": 1
           },
           {
            "bin_end": 114,
            "bin_start": 95.5,
            "count": 1
           },
           {
            "bin_end": 132.5,
            "bin_start": 114,
            "count": 0
           },
           {
            "bin_end": 151,
            "bin_start": 132.5,
            "count": 1
           },
           {
            "bin_end": 169.5,
            "bin_start": 151,
            "count": 1
           },
           {
            "bin_end": 188,
            "bin_start": 169.5,
            "count": 0
           },
           {
            "bin_end": 206.5,
            "bin_start": 188,
            "count": 0
           },
           {
            "bin_end": 225,
            "bin_start": 206.5,
            "count": 0
           },
           {
            "bin_end": 243.5,
            "bin_start": 225,
            "count": 0
           },
           {
            "bin_end": 262,
            "bin_start": 243.5,
            "count": 1
           }
          ],
          "max": "262.0",
          "min": "77.0",
          "nan_count": 0,
          "unique_count": 5
         }
        },
        {
         "dtype": "float64",
         "name": "review_scores_rating",
         "stats": {
          "histogram": [
           {
            "bin_end": 4.55,
            "bin_start": 4.5,
            "count": 1
           },
           {
            "bin_end": 4.6,
            "bin_start": 4.55,
            "count": 0
           },
           {
            "bin_end": 4.65,
            "bin_start": 4.6,
            "count": 0
           },
           {
            "bin_end": 4.7,
            "bin_start": 4.65,
            "count": 0
           },
           {
            "bin_end": 4.75,
            "bin_start": 4.7,
            "count": 1
           },
           {
            "bin_end": 4.8,
            "bin_start": 4.75,
            "count": 0
           },
           {
            "bin_end": 4.85,
            "bin_start": 4.8,
            "count": 1
           },
           {
            "bin_end": 4.9,
            "bin_start": 4.85,
            "count": 0
           },
           {
            "bin_end": 4.95,
            "bin_start": 4.9,
            "count": 0
           },
           {
            "bin_end": 5,
            "bin_start": 4.95,
            "count": 2
           }
          ],
          "max": "5.0",
          "min": "4.5",
          "nan_count": 0,
          "unique_count": 5
         }
        },
        {
         "dtype": "float64",
         "name": "bathrooms_count",
         "stats": {
          "histogram": [
           {
            "bin_end": 0.3,
            "bin_start": 0,
            "count": 1
           },
           {
            "bin_end": 0.6,
            "bin_start": 0.3,
            "count": 0
           },
           {
            "bin_end": 0.8999999999999999,
            "bin_start": 0.6,
            "count": 0
           },
           {
            "bin_end": 1.2,
            "bin_start": 0.8999999999999999,
            "count": 2
           },
           {
            "bin_end": 1.5,
            "bin_start": 1.2,
            "count": 0
           },
           {
            "bin_end": 1.7999999999999998,
            "bin_start": 1.5,
            "count": 1
           },
           {
            "bin_end": 2.1,
            "bin_start": 1.7999999999999998,
            "count": 0
           },
           {
            "bin_end": 2.4,
            "bin_start": 2.1,
            "count": 0
           },
           {
            "bin_end": 2.6999999999999997,
            "bin_start": 2.4,
            "count": 0
           },
           {
            "bin_end": 3,
            "bin_start": 2.6999999999999997,
            "count": 1
           }
          ],
          "max": "3.0",
          "min": "0.0",
          "nan_count": 0,
          "unique_count": 4
         }
        },
        {
         "dtype": "int64",
         "name": "amenities_count",
         "stats": {
          "histogram": [
           {
            "bin_end": 24.4,
            "bin_start": 21,
            "count": 1
           },
           {
            "bin_end": 27.8,
            "bin_start": 24.4,
            "count": 0
           },
           {
            "bin_end": 31.2,
            "bin_start": 27.8,
            "count": 0
           },
           {
            "bin_end": 34.6,
            "bin_start": 31.2,
            "count": 0
           },
           {
            "bin_end": 38,
            "bin_start": 34.6,
            "count": 0
           },
           {
            "bin_end": 41.4,
            "bin_start": 38,
            "count": 0
           },
           {
            "bin_end": 44.8,
            "bin_start": 41.4,
            "count": 2
           },
           {
            "bin_end": 48.2,
            "bin_start": 44.8,
            "count": 0
           },
           {
            "bin_end": 51.599999999999994,
            "bin_start": 48.2,
            "count": 1
           },
           {
            "bin_end": 55,
            "bin_start": 51.599999999999994,
            "count": 1
           }
          ],
          "max": "55",
          "min": "21",
          "nan_count": 0,
          "unique_count": 5
         }
        },
        {
         "dtype": "int64",
         "name": "host_response_time_encoded",
         "stats": {
          "histogram": [
           {
            "bin_end": 1.4,
            "bin_start": 1,
            "count": 4
           },
           {
            "bin_end": 1.8,
            "bin_start": 1.4,
            "count": 0
           },
           {
            "bin_end": 2.2,
            "bin_start": 1.8,
            "count": 0
           },
           {
            "bin_end": 2.6,
            "bin_start": 2.2,
            "count": 0
           },
           {
            "bin_end": 3,
            "bin_start": 2.6,
            "count": 0
           },
           {
            "bin_end": 3.4000000000000004,
            "bin_start": 3,
            "count": 0
           },
           {
            "bin_end": 3.8000000000000003,
            "bin_start": 3.4000000000000004,
            "count": 0
           },
           {
            "bin_end": 4.2,
            "bin_start": 3.8000000000000003,
            "count": 0
           },
           {
            "bin_end": 4.6,
            "bin_start": 4.2,
            "count": 0
           },
           {
            "bin_end": 5,
            "bin_start": 4.6,
            "count": 1
           }
          ],
          "max": "5",
          "min": "1",
          "nan_count": 0,
          "unique_count": 2
         }
        },
        {
         "dtype": "int64",
         "name": "host_operate_years",
         "stats": {
          "histogram": [
           {
            "bin_end": 3.5,
            "bin_start": 3,
            "count": 2
           },
           {
            "bin_end": 4,
            "bin_start": 3.5,
            "count": 0
           },
           {
            "bin_end": 4.5,
            "bin_start": 4,
            "count": 1
           },
           {
            "bin_end": 5,
            "bin_start": 4.5,
            "count": 0
           },
           {
            "bin_end": 5.5,
            "bin_start": 5,
            "count": 1
           },
           {
            "bin_end": 6,
            "bin_start": 5.5,
            "count": 0
           },
           {
            "bin_end": 6.5,
            "bin_start": 6,
            "count": 0
           },
           {
            "bin_end": 7,
            "bin_start": 6.5,
            "count": 0
           },
           {
            "bin_end": 7.5,
            "bin_start": 7,
            "count": 0
           },
           {
            "bin_end": 8,
            "bin_start": 7.5,
            "count": 1
           }
          ],
          "max": "8",
          "min": "3",
          "nan_count": 0,
          "unique_count": 4
         }
        },
        {
         "dtype": "float64",
         "name": "polarity",
         "stats": {
          "histogram": [
           {
            "bin_end": 0.710875,
            "bin_start": 0.6816222222222222,
            "count": 1
           },
           {
            "bin_end": 0.7401277777777778,
            "bin_start": 0.710875,
            "count": 0
           },
           {
            "bin_end": 0.7693805555555555,
            "bin_start": 0.7401277777777778,
            "count": 0
           },
           {
            "bin_end": 0.7986333333333333,
            "bin_start": 0.7693805555555555,
            "count": 0
           },
           {
            "bin_end": 0.8278861111111111,
            "bin_start": 0.7986333333333333,
            "count": 0
           },
           {
            "bin_end": 0.8571388888888889,
            "bin_start": 0.8278861111111111,
            "count": 1
           },
           {
            "bin_end": 0.8863916666666667,
            "bin_start": 0.8571388888888889,
            "count": 0
           },
           {
            "bin_end": 0.9156444444444445,
            "bin_start": 0.8863916666666667,
            "count": 0
           },
           {
            "bin_end": 0.9448972222222223,
            "bin_start": 0.9156444444444445,
            "count": 1
           },
           {
            "bin_end": 0.97415,
            "bin_start": 0.9448972222222223,
            "count": 2
           }
          ],
          "max": "0.97415",
          "min": "0.6816222222222222",
          "nan_count": 0,
          "unique_count": 5
         }
        },
        {
         "dtype": "int64",
         "name": "_deepnote_index_column"
        }
       ],
       "row_count": 5,
       "rows": [
        {
         "_deepnote_index_column": "500",
         "accommodates": "5",
         "amenities": "[\"Hot water\", \"Gas stove\", \"Refrigerator\", \"Bathtub\", \"Dishwasher\", \"Lockbox\", \"Private entrance\", \"54\\\" HDTV\", \"Dishes and silverware\", \"Kitchen\", \"Coffee maker\", \"Private patio or balcony\", \"Free street parking\", \"Iron\", \"Hair dryer\", \"Baby bath\", \"Microwave\", \"Fireplace guards\", \"Cooking basics\", \"Pack \\u2019n play/Travel crib\", \"Oven\", \"Free dryer \\u2013 In unit\", \"Private backyard \\u2013 Fully fenced\", \"Smoke alarm\", \"Babysitter recommendations\", \"Essentials\", \"Self check-in\", \"Fire extinguisher\", \"High chair\", \"Outlet covers\", \"Heating\", \"Outdoor furniture\", \"Long term stays allowed\", \"Wifi\", \"Children\\u2019s books and toys\", \"Children\\u2019s dinnerware\", \"Outdoor dining area\", \"BBQ grill\", \"First aid kit\", \"Hangers\", \"Free washer \\u2013 In unit\", \"Extra pillows and blankets\", \"Shampoo\", \"Game console\", \"Carbon monoxide alarm\", \"Crib\", \"Dedicated workspace\", \"Baby safety gates\", \"Bed linens\", \"Free parking on premises\"]",
         "amenities_count": "50",
         "bathrooms_count": "1.5",
         "bedrooms": "3.0",
         "beds": "4.0",
         "host_operate_years": "5",
         "host_response_time_encoded": "1",
         "latitude": "47.68454",
         "listing_id": "26258898",
         "listing_url": "https://www.airbnb.com/rooms/26258898",
         "longitude": "-122.35851",
         "neighbourhood_cleansed": "Greenwood",
         "neighbourhood_group_cleansed": "Other neighborhoods",
         "polarity": "0.9563",
         "price": "262.0",
         "property_type": "Entire home",
         "review_scores_rating": "5.0",
         "room_type": "Entire home/apt",
         "similarity": "1.0000000000000009"
        },
        {
         "_deepnote_index_column": "345",
         "accommodates": "2",
         "amenities": "[\"Hot water\", \"Blender\", \"Shared patio or balcony\", \"Toaster\", \"Refrigerator\", \"Hot water kettle\", \"Free washer \\u2013 In building\", \"Private entrance\", \"Drying rack for clothing\", \"Fast wifi \\u2013 104 Mbps\", \"Dishes and silverware\", \"Kitchen\", \"Ginger Lily Farms, 100% vegan/cruelty free body soap\", \"Free street parking\", \"Ginger Lily Farms, 100% vegan/cruelty free shampoo\", \"Ginger Lily Farms, 100% vegan/cruelty free conditioner\", \"Iron\", \"Hair dryer\", \"Microwave\", \"Cooking basics\", \"Oven\", \"Private backyard \\u2013 Fully fenced\", \"Keypad\", \"Stove\", \"Smoke alarm\", \"Wine glasses\", \"Essentials\", \"Self check-in\", \"Cleaning products\", \"Safe\", \"Portable fans\", \"Fire extinguisher\", \"Free dryer \\u2013 In building\", \"Outlet covers\", \"Clothing storage: closet and dresser\", \"Heating\", \"Outdoor furniture\", \"Long term stays allowed\", \"Coffee\", \"Luggage dropoff allowed\", \"Baking sheet\", \"Outdoor dining area\", \"BBQ grill\", \"Coffee maker: french press\", \"First aid kit\", \"Garden view\", \"Hangers\", \"F…",
         "amenities_count": "55",
         "bathrooms_count": "1.0",
         "bedrooms": "1.0",
         "beds": "1.0",
         "host_operate_years": "4",
         "host_response_time_encoded": "1",
         "latitude": "47.7119",
         "listing_id": "41218952",
         "listing_url": "https://www.airbnb.com/rooms/41218952",
         "longitude": "-122.35053",
         "neighbourhood_cleansed": "Bitter Lake",
         "neighbourhood_group_cleansed": "Other neighborhoods",
         "polarity": "0.9356799999999998",
         "price": "77.0",
         "property_type": "Entire guest suite",
         "review_scores_rating": "4.97",
         "room_type": "Entire home/apt",
         "similarity": "0.9999999998216362"
        },
        {
         "_deepnote_index_column": "1741",
         "accommodates": "3",
         "amenities": "[\"Hot water\", \"32\\\" HDTV with standard cable\", \"Refrigerator\", \"Dishwasher\", \"Lockbox\", \"Private entrance\", \"Dishes and silverware\", \"Conditioner\", \"Shower gel\", \"Kitchen\", \"Body soap\", \"Iron\", \"Hair dryer\", \"Microwave\", \"Cooking basics\", \"Oven\", \"Free dryer \\u2013 In unit\", \"Stove\", \"Ceiling fan\", \"Smoke alarm\", \"Essentials\", \"Self check-in\", \"Clock radio sound system with Bluetooth and aux\", \"Portable fans\", \"Coffee maker: pour-over coffee\", \"Fire extinguisher\", \"Heating\", \"Long term stays allowed\", \"Cleaning available during stay\", \"Wifi\", \"Single level home\", \"Baking sheet\", \"Laundromat nearby\", \"First aid kit\", \"Hangers\", \"Freezer\", \"Free washer \\u2013 In unit\", \"Extra pillows and blankets\", \"Shampoo\", \"Carbon monoxide alarm\", \"Dedicated workspace\", \"Bed linens\"]",
         "amenities_count": "42",
         "bathrooms_count": "1.0",
         "bedrooms": "2.0",
         "beds": "2.0",
         "host_operate_years": "8",
         "host_response_time_encoded": "1",
         "latitude": "47.62233",
         "listing_id": "4129218",
         "listing_url": "https://www.airbnb.com/rooms/4129218",
         "longitude": "-122.31947",
         "neighbourhood_cleansed": "Broadway",
         "neighbourhood_group_cleansed": "Capitol Hill",
         "polarity": "0.8422106557377046",
         "price": "140.0",
         "property_type": "Entire rental unit",
         "review_scores_rating": "4.83",
         "room_type": "Entire home/apt",
         "similarity": "0.9999999629771724"
        },
        {
         "_deepnote_index_column": "360",
         "accommodates": "3",
         "amenities": "[\"Hot water\", \"Private entrance\", \"Bay view\", \"Washer\", \"Kitchen\", \"TV\", \"Elevator\", \"City skyline view\", \"Iron\", \"Smoke alarm\", \"Dryer\", \"Essentials\", \"Fire extinguisher\", \"Heating\", \"Long term stays allowed\", \"Wifi\", \"Air conditioning\", \"Hangers\", \"Shampoo\", \"Carbon monoxide alarm\", \"Dedicated workspace\"]",
         "amenities_count": "21",
         "bathrooms_count": "0.0",
         "bedrooms": "1.0",
         "beds": "2.0",
         "host_operate_years": "3",
         "host_response_time_encoded": "5",
         "latitude": "47.61189",
         "listing_id": "50159554",
         "listing_url": "https://www.airbnb.com/rooms/50159554",
         "longitude": "-122.32485",
         "neighbourhood_cleansed": "First Hill",
         "neighbourhood_group_cleansed": "Downtown",
         "polarity": "0.97415",
         "price": "110.0",
         "property_type": "Entire rental unit",
         "review_scores_rating": "4.5",
         "room_type": "Entire home/apt",
         "similarity": "0.9999999578233008"
        },
        {
         "_deepnote_index_column": "1680",
         "accommodates": "10",
         "amenities": "[\"Hot water\", \"Refrigerator\", \"Bathtub\", \"Dishwasher\", \"Room-darkening shades\", \"Private entrance\", \"Dishes and silverware\", \"Washer\", \"Kitchen\", \"TV\", \"Coffee maker\", \"Indoor fireplace\", \"Patio or balcony\", \"Free street parking\", \"Iron\", \"Hair dryer\", \"Microwave\", \"Cooking basics\", \"Fireplace guards\", \"Oven\", \"Pack \\u2019n play/Travel crib\", \"Stove\", \"Smoke alarm\", \"Dryer\", \"Essentials\", \"Self check-in\", \"Fire extinguisher\", \"Heating\", \"Long term stays allowed\", \"Cleaning available during stay\", \"Wifi\", \"Luggage dropoff allowed\", \"BBQ grill\", \"First aid kit\", \"Hangers\", \"Extra pillows and blankets\", \"Shampoo\", \"Game console\", \"Carbon monoxide alarm\", \"Smart lock\", \"Dedicated workspace\", \"Bed linens\", \"Free parking on premises\"]",
         "amenities_count": "43",
         "bathrooms_count": "3.0",
         "bedrooms": "5.0",
         "beds": "5.0",
         "host_operate_years": "3",
         "host_response_time_encoded": "1",
         "latitude": "47.5589",
         "listing_id": "51263519",
         "listing_url": "https://www.airbnb.com/rooms/51263519",
         "longitude": "-122.30933",
         "neighbourhood_cleansed": "Mid-Beacon Hill",
         "neighbourhood_group_cleansed": "Beacon Hill",
         "polarity": "0.6816222222222222",
         "price": "153.0",
         "property_type": "Entire home",
         "review_scores_rating": "4.7",
         "room_type": "Entire home/apt",
         "similarity": "0.9999997656263523"
        }
       ]
      },
      "text/html": [
       "<div>\n",
       "<style scoped>\n",
       "    .dataframe tbody tr th:only-of-type {\n",
       "        vertical-align: middle;\n",
       "    }\n",
       "\n",
       "    .dataframe tbody tr th {\n",
       "        vertical-align: top;\n",
       "    }\n",
       "\n",
       "    .dataframe thead th {\n",
       "        text-align: right;\n",
       "    }\n",
       "</style>\n",
       "<table border=\"1\" class=\"dataframe\">\n",
       "  <thead>\n",
       "    <tr style=\"text-align: right;\">\n",
       "      <th></th>\n",
       "      <th>listing_id</th>\n",
       "      <th>listing_url</th>\n",
       "      <th>similarity</th>\n",
       "      <th>neighbourhood_cleansed</th>\n",
       "      <th>neighbourhood_group_cleansed</th>\n",
       "      <th>latitude</th>\n",
       "      <th>longitude</th>\n",
       "      <th>property_type</th>\n",
       "      <th>room_type</th>\n",
       "      <th>accommodates</th>\n",
       "      <th>bedrooms</th>\n",
       "      <th>beds</th>\n",
       "      <th>amenities</th>\n",
       "      <th>price</th>\n",
       "      <th>review_scores_rating</th>\n",
       "      <th>bathrooms_count</th>\n",
       "      <th>amenities_count</th>\n",
       "      <th>host_response_time_encoded</th>\n",
       "      <th>host_operate_years</th>\n",
       "      <th>polarity</th>\n",
       "    </tr>\n",
       "  </thead>\n",
       "  <tbody>\n",
       "    <tr>\n",
       "      <th>500</th>\n",
       "      <td>26258898</td>\n",
       "      <td>https://www.airbnb.com/rooms/26258898</td>\n",
       "      <td>1.0000000000</td>\n",
       "      <td>Greenwood</td>\n",
       "      <td>Other neighborhoods</td>\n",
       "      <td>47.6845400000</td>\n",
       "      <td>-122.3585100000</td>\n",
       "      <td>Entire home</td>\n",
       "      <td>Entire home/apt</td>\n",
       "      <td>5</td>\n",
       "      <td>3.0000000000</td>\n",
       "      <td>4.0000000000</td>\n",
       "      <td>[\"Hot water\", \"Gas stove\", \"Refrigerator\", \"Ba...</td>\n",
       "      <td>262.0000000000</td>\n",
       "      <td>5.0000000000</td>\n",
       "      <td>1.5000000000</td>\n",
       "      <td>50</td>\n",
       "      <td>1</td>\n",
       "      <td>5</td>\n",
       "      <td>0.9563000000</td>\n",
       "    </tr>\n",
       "    <tr>\n",
       "      <th>345</th>\n",
       "      <td>41218952</td>\n",
       "      <td>https://www.airbnb.com/rooms/41218952</td>\n",
       "      <td>0.9999999998</td>\n",
       "      <td>Bitter Lake</td>\n",
       "      <td>Other neighborhoods</td>\n",
       "      <td>47.7119000000</td>\n",
       "      <td>-122.3505300000</td>\n",
       "      <td>Entire guest suite</td>\n",
       "      <td>Entire home/apt</td>\n",
       "      <td>2</td>\n",
       "      <td>1.0000000000</td>\n",
       "      <td>1.0000000000</td>\n",
       "      <td>[\"Hot water\", \"Blender\", \"Shared patio or balc...</td>\n",
       "      <td>77.0000000000</td>\n",
       "      <td>4.9700000000</td>\n",
       "      <td>1.0000000000</td>\n",
       "      <td>55</td>\n",
       "      <td>1</td>\n",
       "      <td>4</td>\n",
       "      <td>0.9356800000</td>\n",
       "    </tr>\n",
       "    <tr>\n",
       "      <th>1741</th>\n",
       "      <td>4129218</td>\n",
       "      <td>https://www.airbnb.com/rooms/4129218</td>\n",
       "      <td>0.9999999630</td>\n",
       "      <td>Broadway</td>\n",
       "      <td>Capitol Hill</td>\n",
       "      <td>47.6223300000</td>\n",
       "      <td>-122.3194700000</td>\n",
       "      <td>Entire rental unit</td>\n",
       "      <td>Entire home/apt</td>\n",
       "      <td>3</td>\n",
       "      <td>2.0000000000</td>\n",
       "      <td>2.0000000000</td>\n",
       "      <td>[\"Hot water\", \"32\\\" HDTV with standard cable\",...</td>\n",
       "      <td>140.0000000000</td>\n",
       "      <td>4.8300000000</td>\n",
       "      <td>1.0000000000</td>\n",
       "      <td>42</td>\n",
       "      <td>1</td>\n",
       "      <td>8</td>\n",
       "      <td>0.8422106557</td>\n",
       "    </tr>\n",
       "    <tr>\n",
       "      <th>360</th>\n",
       "      <td>50159554</td>\n",
       "      <td>https://www.airbnb.com/rooms/50159554</td>\n",
       "      <td>0.9999999578</td>\n",
       "      <td>First Hill</td>\n",
       "      <td>Downtown</td>\n",
       "      <td>47.6118900000</td>\n",
       "      <td>-122.3248500000</td>\n",
       "      <td>Entire rental unit</td>\n",
       "      <td>Entire home/apt</td>\n",
       "      <td>3</td>\n",
       "      <td>1.0000000000</td>\n",
       "      <td>2.0000000000</td>\n",
       "      <td>[\"Hot water\", \"Private entrance\", \"Bay view\", ...</td>\n",
       "      <td>110.0000000000</td>\n",
       "      <td>4.5000000000</td>\n",
       "      <td>0.0000000000</td>\n",
       "      <td>21</td>\n",
       "      <td>5</td>\n",
       "      <td>3</td>\n",
       "      <td>0.9741500000</td>\n",
       "    </tr>\n",
       "    <tr>\n",
       "      <th>1680</th>\n",
       "      <td>51263519</td>\n",
       "      <td>https://www.airbnb.com/rooms/51263519</td>\n",
       "      <td>0.9999997656</td>\n",
       "      <td>Mid-Beacon Hill</td>\n",
       "      <td>Beacon Hill</td>\n",
       "      <td>47.5589000000</td>\n",
       "      <td>-122.3093300000</td>\n",
       "      <td>Entire home</td>\n",
       "      <td>Entire home/apt</td>\n",
       "      <td>10</td>\n",
       "      <td>5.0000000000</td>\n",
       "      <td>5.0000000000</td>\n",
       "      <td>[\"Hot water\", \"Refrigerator\", \"Bathtub\", \"Dish...</td>\n",
       "      <td>153.0000000000</td>\n",
       "      <td>4.7000000000</td>\n",
       "      <td>3.0000000000</td>\n",
       "      <td>43</td>\n",
       "      <td>1</td>\n",
       "      <td>3</td>\n",
       "      <td>0.6816222222</td>\n",
       "    </tr>\n",
       "  </tbody>\n",
       "</table>\n",
       "</div>"
      ],
      "text/plain": [
       "      listing_id                            listing_url   similarity  \\\n",
       "500     26258898  https://www.airbnb.com/rooms/26258898 1.0000000000   \n",
       "345     41218952  https://www.airbnb.com/rooms/41218952 0.9999999998   \n",
       "1741     4129218   https://www.airbnb.com/rooms/4129218 0.9999999630   \n",
       "360     50159554  https://www.airbnb.com/rooms/50159554 0.9999999578   \n",
       "1680    51263519  https://www.airbnb.com/rooms/51263519 0.9999997656   \n",
       "\n",
       "     neighbourhood_cleansed neighbourhood_group_cleansed      latitude  \\\n",
       "500               Greenwood          Other neighborhoods 47.6845400000   \n",
       "345             Bitter Lake          Other neighborhoods 47.7119000000   \n",
       "1741               Broadway                 Capitol Hill 47.6223300000   \n",
       "360              First Hill                     Downtown 47.6118900000   \n",
       "1680        Mid-Beacon Hill                  Beacon Hill 47.5589000000   \n",
       "\n",
       "           longitude       property_type        room_type  accommodates  \\\n",
       "500  -122.3585100000         Entire home  Entire home/apt             5   \n",
       "345  -122.3505300000  Entire guest suite  Entire home/apt             2   \n",
       "1741 -122.3194700000  Entire rental unit  Entire home/apt             3   \n",
       "360  -122.3248500000  Entire rental unit  Entire home/apt             3   \n",
       "1680 -122.3093300000         Entire home  Entire home/apt            10   \n",
       "\n",
       "         bedrooms         beds  \\\n",
       "500  3.0000000000 4.0000000000   \n",
       "345  1.0000000000 1.0000000000   \n",
       "1741 2.0000000000 2.0000000000   \n",
       "360  1.0000000000 2.0000000000   \n",
       "1680 5.0000000000 5.0000000000   \n",
       "\n",
       "                                              amenities          price  \\\n",
       "500   [\"Hot water\", \"Gas stove\", \"Refrigerator\", \"Ba... 262.0000000000   \n",
       "345   [\"Hot water\", \"Blender\", \"Shared patio or balc...  77.0000000000   \n",
       "1741  [\"Hot water\", \"32\\\" HDTV with standard cable\",... 140.0000000000   \n",
       "360   [\"Hot water\", \"Private entrance\", \"Bay view\", ... 110.0000000000   \n",
       "1680  [\"Hot water\", \"Refrigerator\", \"Bathtub\", \"Dish... 153.0000000000   \n",
       "\n",
       "      review_scores_rating  bathrooms_count  amenities_count  \\\n",
       "500           5.0000000000     1.5000000000               50   \n",
       "345           4.9700000000     1.0000000000               55   \n",
       "1741          4.8300000000     1.0000000000               42   \n",
       "360           4.5000000000     0.0000000000               21   \n",
       "1680          4.7000000000     3.0000000000               43   \n",
       "\n",
       "      host_response_time_encoded  host_operate_years     polarity  \n",
       "500                            1                   5 0.9563000000  \n",
       "345                            1                   4 0.9356800000  \n",
       "1741                           1                   8 0.8422106557  \n",
       "360                            5                   3 0.9741500000  \n",
       "1680                           1                   3 0.6816222222  "
      ]
     },
     "metadata": {},
     "output_type": "display_data"
    }
   ],
   "source": [
    "df_recs = get_recommendations(df_model, similarity, 5,\n",
    "                              listing_url='https://www.airbnb.com/rooms/26258898')\n",
    "with pd.option_context('display.float_format', '{:0.10f}'.format):\n",
    "    display(df_recs)"
   ]
  },
  {
   "cell_type": "markdown",
   "metadata": {
    "cell_id": "7a6a9932a80244aca9d6a458455f328b",
    "deepnote_cell_type": "markdown",
    "id": "3uHFQe-EzaYh"
   },
   "source": [
    "Quick double check that our original table with all the juicy data is the same number of rows as our numeric dataframe that we used to calculate cosine_similarity. (Otherwise we might be pulling the wrong listings in our UI) Yep, both are 4086."
   ]
  },
  {
   "cell_type": "code",
   "execution_count": 30,
   "metadata": {
    "cell_id": "3928ea8cc009448899464b531ec4d626",
    "colab": {
     "base_uri": "https://localhost:8080/"
    },
    "deepnote_cell_type": "code",
    "deepnote_to_be_reexecuted": false,
    "execution_millis": 99,
    "execution_start": 1679772646900,
    "id": "OaeGEBm0zLVv",
    "outputId": "87a256ab-52b0-4754-8a73-ab402bf2d103",
    "source_hash": "f28ac6f9"
   },
   "outputs": [
    {
     "data": {
      "text/plain": [
       "((4086, 60), (4086, 37))"
      ]
     },
     "execution_count": 30,
     "metadata": {},
     "output_type": "execute_result"
    }
   ],
   "source": [
    "df_model.shape, df_model_num.shape"
   ]
  },
  {
   "cell_type": "code",
   "execution_count": 31,
   "metadata": {
    "cell_id": "f3da9c0abb9c48e1a8cfd314f64a768e",
    "colab": {
     "base_uri": "https://localhost:8080/"
    },
    "deepnote_cell_type": "code",
    "deepnote_to_be_reexecuted": false,
    "execution_millis": 58,
    "execution_start": 1679772646941,
    "id": "wJCw_wDyh3oU",
    "outputId": "05a57fee-5355-4993-e37e-661e88e35364",
    "source_hash": "90ab8470"
   },
   "outputs": [
    {
     "data": {
      "text/plain": [
       "array([ 500,  345, 1741,  360, 1680])"
      ]
     },
     "execution_count": 31,
     "metadata": {},
     "output_type": "execute_result"
    }
   ],
   "source": [
    "top_idx = np.argsort(similarity[500])[::-1][:5]\n",
    "#top_idx = np.argsort(similarity[500])[:5]\n",
    "top_idx"
   ]
  },
  {
   "cell_type": "code",
   "execution_count": 32,
   "metadata": {
    "cell_id": "fff3e7cebf46442da3856b85b7f5411c",
    "colab": {
     "base_uri": "https://localhost:8080/"
    },
    "deepnote_cell_type": "code",
    "deepnote_to_be_reexecuted": false,
    "execution_millis": 56,
    "execution_start": 1679772646943,
    "id": "xFSK-pPfrT-_",
    "outputId": "617862d4-abd8-4e2c-a6a3-8014e7dca614",
    "source_hash": "c8fa6ad0"
   },
   "outputs": [
    {
     "data": {
      "text/plain": [
       "0.9999999998216362"
      ]
     },
     "execution_count": 32,
     "metadata": {},
     "output_type": "execute_result"
    }
   ],
   "source": [
    "similarity[500][345]"
   ]
  },
  {
   "cell_type": "code",
   "execution_count": 33,
   "metadata": {
    "cell_id": "70c5d49bcfaa4fb29f3f838e7ef921ae",
    "colab": {
     "base_uri": "https://localhost:8080/"
    },
    "deepnote_cell_type": "code",
    "deepnote_to_be_reexecuted": false,
    "execution_millis": 55,
    "execution_start": 1679772646944,
    "id": "0HdIeyIKryw_",
    "outputId": "73ae2240-d350-43c6-c23e-6db835429b49",
    "source_hash": "86e839a8"
   },
   "outputs": [
    {
     "data": {
      "text/plain": [
       "[1.0000000000000009,\n",
       " 0.9999999998216362,\n",
       " 0.9999999629771724,\n",
       " 0.9999999578233008,\n",
       " 0.9999997656263523]"
      ]
     },
     "execution_count": 33,
     "metadata": {},
     "output_type": "execute_result"
    }
   ],
   "source": [
    "[similarity[500][x] for x in top_idx]"
   ]
  },
  {
   "cell_type": "code",
   "execution_count": 34,
   "metadata": {
    "cell_id": "800865555b464f218570e73d298753d1",
    "colab": {
     "base_uri": "https://localhost:8080/"
    },
    "deepnote_cell_type": "code",
    "deepnote_to_be_reexecuted": false,
    "execution_millis": 53,
    "execution_start": 1679772646946,
    "id": "h5cZc3T1u-D9",
    "outputId": "70263322-789e-4168-d724-88df1b6e6e42",
    "source_hash": "f140948c"
   },
   "outputs": [
    {
     "data": {
      "text/plain": [
       "(4086, 4086, 0.9990430489087069)"
      ]
     },
     "execution_count": 34,
     "metadata": {},
     "output_type": "execute_result"
    }
   ],
   "source": [
    "len(similarity), len(similarity[0]), similarity[0][345]"
   ]
  },
  {
   "cell_type": "code",
   "execution_count": 35,
   "metadata": {
    "cell_id": "1ae99cb919584e24b5453f2ed57dbe1d",
    "colab": {
     "base_uri": "https://localhost:8080/",
     "height": 229
    },
    "deepnote_cell_type": "code",
    "deepnote_to_be_reexecuted": false,
    "execution_millis": 79,
    "execution_start": 1679772647033,
    "id": "J5QVIkmEvETU",
    "outputId": "80177817-4899-4250-b73d-61f9e2cf753e",
    "source_hash": "22f50795"
   },
   "outputs": [
    {
     "data": {
      "application/vnd.deepnote.dataframe.v3+json": {
       "column_count": 60,
       "columns": [
        {
         "dtype": "int64",
         "name": "listing_id",
         "stats": {
          "histogram": [
           {
            "bin_end": 41218951.6,
            "bin_start": 41218951.5,
            "count": 0
           },
           {
            "bin_end": 41218951.7,
            "bin_start": 41218951.6,
            "count": 0
           },
           {
            "bin_end": 41218951.8,
            "bin_start": 41218951.7,
            "count": 0
           },
           {
            "bin_end": 41218951.9,
            "bin_start": 41218951.8,
            "count": 0
           },
           {
            "bin_end": 41218952,
            "bin_start": 41218951.9,
            "count": 0
           },
           {
            "bin_end": 41218952.1,
            "bin_start": 41218952,
            "count": 1
           },
           {
            "bin_end": 41218952.2,
            "bin_start": 41218952.1,
            "count": 0
           },
           {
            "bin_end": 41218952.3,
            "bin_start": 41218952.2,
            "count": 0
           },
           {
            "bin_end": 41218952.4,
            "bin_start": 41218952.3,
            "count": 0
           },
           {
            "bin_end": 41218952.5,
            "bin_start": 41218952.4,
            "count": 0
           }
          ],
          "max": "41218952",
          "min": "41218952",
          "nan_count": 0,
          "unique_count": 1
         }
        },
        {
         "dtype": "object",
         "name": "listing_url",
         "stats": {
          "categories": [
           {
            "count": 1,
            "name": "https://www.airbnb.com/rooms/41218952"
           }
          ],
          "nan_count": 0,
          "unique_count": 1
         }
        },
        {
         "dtype": "datetime64[ns]",
         "name": "last_scraped",
         "stats": {
          "histogram": null,
          "max": "2022-12-24 00:00:00",
          "min": "2022-12-24 00:00:00",
          "nan_count": 0,
          "unique_count": 1
         }
        },
        {
         "dtype": "object",
         "name": "listing_name",
         "stats": {
          "categories": [
           {
            "count": 1,
            "name": "Jewel Box studio ~ an art-filled North Seattle gem"
           }
          ],
          "nan_count": 0,
          "unique_count": 1
         }
        },
        {
         "dtype": "object",
         "name": "description",
         "stats": {
          "categories": [
           {
            "count": 1,
            "name": "This peaceful and colorful north Seattle studio mother-in-law is in the basement level of my charming 1949 house.  It is compact, cozy and well-designed for a feeling of spaciousness. The apartment's walls showcase the work of several local artists.  There is a separate entrance and a full kitchen. Wool area rugs are on comfortable and insulating rubber flooring.  You will find the fabulous country-style garden a tranquil place to read and relax.<br /><br /><b>The space</b><br />The apartment is 362 square feet, which is not large, but the  space is maximized to feel surprisingly roomy.  Plenty of space for one person,  just fine for a close couple.  I would consider a parent with one child.<br /><br />The apartment comes with a comfortable queen bed, down comforter, blankets, cotton sheets, large antique oak dresser, loveseat couch, wide kitchen counter, barstool seating and standard size closet.   The entire space is private and separate from my own living area.  In the warmer months"
           }
          ],
          "nan_count": 0,
          "unique_count": 1
         }
        },
        {
         "dtype": "object",
         "name": "neighborhood_overview",
         "stats": {
          "categories": [
           {
            "count": 1,
            "name": "My area of the North Seattle neighborhood of Broadview is  quiet and peaceful, comprised mainly of modest single family houses in a mixture of styles.  My house is located 1 block from the Interurban bike and walking trail and the Washelli Cemetery which is interesting to walk through.  It is a 45 minute walk to beautiful Carkeek Park and beach.  Not far are the neighborhoods of Greenlake, Greenwood, Northgate and Ballard, and the city of Shoreline."
           }
          ],
          "nan_count": 0,
          "unique_count": 1
         }
        },
        {
         "dtype": "object",
         "name": "picture_url",
         "stats": {
          "categories": [
           {
            "count": 1,
            "name": "https://a0.muscache.com/pictures/e0d6bfd8-f193-4fee-bfc0-4e20589deb05.jpg"
           }
          ],
          "nan_count": 0,
          "unique_count": 1
         }
        },
        {
         "dtype": "int64",
         "name": "host_id",
         "stats": {
          "histogram": [
           {
            "bin_end": 192365130.6,
            "bin_start": 192365130.5,
            "count": 0
           },
           {
            "bin_end": 192365130.7,
            "bin_start": 192365130.6,
            "count": 0
           },
           {
            "bin_end": 192365130.8,
            "bin_start": 192365130.7,
            "count": 0
           },
           {
            "bin_end": 192365130.9,
            "bin_start": 192365130.8,
            "count": 0
           },
           {
            "bin_end": 192365131,
            "bin_start": 192365130.9,
            "count": 0
           },
           {
            "bin_end": 192365131.1,
            "bin_start": 192365131,
            "count": 1
           },
           {
            "bin_end": 192365131.2,
            "bin_start": 192365131.1,
            "count": 0
           },
           {
            "bin_end": 192365131.3,
            "bin_start": 192365131.2,
            "count": 0
           },
           {
            "bin_end": 192365131.4,
            "bin_start": 192365131.3,
            "count": 0
           },
           {
            "bin_end": 192365131.5,
            "bin_start": 192365131.4,
            "count": 0
           }
          ],
          "max": "192365131",
          "min": "192365131",
          "nan_count": 0,
          "unique_count": 1
         }
        },
        {
         "dtype": "object",
         "name": "host_url",
         "stats": {
          "categories": [
           {
            "count": 1,
            "name": "https://www.airbnb.com/users/show/192365131"
           }
          ],
          "nan_count": 0,
          "unique_count": 1
         }
        },
        {
         "dtype": "object",
         "name": "host_name",
         "stats": {
          "categories": [
           {
            "count": 1,
            "name": "Joline"
           }
          ],
          "nan_count": 0,
          "unique_count": 1
         }
        },
        {
         "dtype": "datetime64[ns]",
         "name": "host_since",
         "stats": {
          "histogram": null,
          "max": "2018-05-29 00:00:00",
          "min": "2018-05-29 00:00:00",
          "nan_count": 0,
          "unique_count": 1
         }
        },
        {
         "dtype": "object",
         "name": "host_location",
         "stats": {
          "categories": [
           {
            "count": 1,
            "name": "Seattle, WA"
           }
          ],
          "nan_count": 0,
          "unique_count": 1
         }
        },
        {
         "dtype": "object",
         "name": "host_about",
         "stats": {
          "categories": [
           {
            "count": 1,
            "name": "I’m a professional artist, a gardener, a lover of nature and dance. Sensitive and considerate with a good sense of humor, as a guest I will treat your property with respect, and as a host I will be responsive and helpful.  I recently recently was awarded dual citizenship with Spain and welcome the opportunity to speak Spanish. "
           }
          ],
          "nan_count": 0,
          "unique_count": 1
         }
        },
        {
         "dtype": "object",
         "name": "host_response_time",
         "stats": {
          "categories": [
           {
            "count": 1,
            "name": "within an hour"
           }
          ],
          "nan_count": 0,
          "unique_count": 1
         }
        },
        {
         "dtype": "float64",
         "name": "host_response_rate",
         "stats": {
          "histogram": [
           {
            "bin_end": 0.6,
            "bin_start": 0.5,
            "count": 0
           },
           {
            "bin_end": 0.7,
            "bin_start": 0.6,
            "count": 0
           },
           {
            "bin_end": 0.8,
            "bin_start": 0.7,
            "count": 0
           },
           {
            "bin_end": 0.9,
            "bin_start": 0.8,
            "count": 0
           },
           {
            "bin_end": 1,
            "bin_start": 0.9,
            "count": 0
           },
           {
            "bin_end": 1.1,
            "bin_start": 1,
            "count": 1
           },
           {
            "bin_end": 1.2000000000000002,
            "bin_start": 1.1,
            "count": 0
           },
           {
            "bin_end": 1.3,
            "bin_start": 1.2000000000000002,
            "count": 0
           },
           {
            "bin_end": 1.4,
            "bin_start": 1.3,
            "count": 0
           },
           {
            "bin_end": 1.5,
            "bin_start": 1.4,
            "count": 0
           }
          ],
          "max": "1.0",
          "min": "1.0",
          "nan_count": 0,
          "unique_count": 1
         }
        },
        {
         "dtype": "float64",
         "name": "host_acceptance_rate",
         "stats": {
          "histogram": [
           {
            "bin_end": 0.5599999999999999,
            "bin_start": 0.45999999999999996,
            "count": 0
           },
           {
            "bin_end": 0.6599999999999999,
            "bin_start": 0.5599999999999999,
            "count": 0
           },
           {
            "bin_end": 0.76,
            "bin_start": 0.6599999999999999,
            "count": 0
           },
           {
            "bin_end": 0.86,
            "bin_start": 0.76,
            "count": 0
           },
           {
            "bin_end": 0.96,
            "bin_start": 0.86,
            "count": 0
           },
           {
            "bin_end": 1.06,
            "bin_start": 0.96,
            "count": 1
           },
           {
            "bin_end": 1.1600000000000001,
            "bin_start": 1.06,
            "count": 0
           },
           {
            "bin_end": 1.26,
            "bin_start": 1.1600000000000001,
            "count": 0
           },
           {
            "bin_end": 1.3599999999999999,
            "bin_start": 1.26,
            "count": 0
           },
           {
            "bin_end": 1.46,
            "bin_start": 1.3599999999999999,
            "count": 0
           }
          ],
          "max": "0.96",
          "min": "0.96",
          "nan_count": 0,
          "unique_count": 1
         }
        },
        {
         "dtype": "int64",
         "name": "host_is_superhost",
         "stats": {
          "histogram": [
           {
            "bin_end": 0.6,
            "bin_start": 0.5,
            "count": 0
           },
           {
            "bin_end": 0.7,
            "bin_start": 0.6,
            "count": 0
           },
           {
            "bin_end": 0.8,
            "bin_start": 0.7,
            "count": 0
           },
           {
            "bin_end": 0.9,
            "bin_start": 0.8,
            "count": 0
           },
           {
            "bin_end": 1,
            "bin_start": 0.9,
            "count": 0
           },
           {
            "bin_end": 1.1,
            "bin_start": 1,
            "count": 1
           },
           {
            "bin_end": 1.2000000000000002,
            "bin_start": 1.1,
            "count": 0
           },
           {
            "bin_end": 1.3,
            "bin_start": 1.2000000000000002,
            "count": 0
           },
           {
            "bin_end": 1.4,
            "bin_start": 1.3,
            "count": 0
           },
           {
            "bin_end": 1.5,
            "bin_start": 1.4,
            "count": 0
           }
          ],
          "max": "1",
          "min": "1",
          "nan_count": 0,
          "unique_count": 1
         }
        },
        {
         "dtype": "object",
         "name": "host_picture_url",
         "stats": {
          "categories": [
           {
            "count": 1,
            "name": "https://a0.muscache.com/im/pictures/user/0546a58b-ae4e-4d9c-84ad-2c1e3ee465d7.jpg?aki_policy=profile_x_medium"
           }
          ],
          "nan_count": 0,
          "unique_count": 1
         }
        },
        {
         "dtype": "object",
         "name": "host_neighbourhood",
         "stats": {
          "categories": [
           {
            "count": 1,
            "name": "Bitter Lake"
           }
          ],
          "nan_count": 0,
          "unique_count": 1
         }
        },
        {
         "dtype": "object",
         "name": "host_verifications",
         "stats": {
          "categories": [
           {
            "count": 1,
            "name": "['email', 'phone']"
           }
          ],
          "nan_count": 0,
          "unique_count": 1
         }
        },
        {
         "dtype": "int64",
         "name": "host_has_profile_pic",
         "stats": {
          "histogram": [
           {
            "bin_end": 0.6,
            "bin_start": 0.5,
            "count": 0
           },
           {
            "bin_end": 0.7,
            "bin_start": 0.6,
            "count": 0
           },
           {
            "bin_end": 0.8,
            "bin_start": 0.7,
            "count": 0
           },
           {
            "bin_end": 0.9,
            "bin_start": 0.8,
            "count": 0
           },
           {
            "bin_end": 1,
            "bin_start": 0.9,
            "count": 0
           },
           {
            "bin_end": 1.1,
            "bin_start": 1,
            "count": 1
           },
           {
            "bin_end": 1.2000000000000002,
            "bin_start": 1.1,
            "count": 0
           },
           {
            "bin_end": 1.3,
            "bin_start": 1.2000000000000002,
            "count": 0
           },
           {
            "bin_end": 1.4,
            "bin_start": 1.3,
            "count": 0
           },
           {
            "bin_end": 1.5,
            "bin_start": 1.4,
            "count": 0
           }
          ],
          "max": "1",
          "min": "1",
          "nan_count": 0,
          "unique_count": 1
         }
        },
        {
         "dtype": "int64",
         "name": "host_identity_verified",
         "stats": {
          "histogram": [
           {
            "bin_end": 0.6,
            "bin_start": 0.5,
            "count": 0
           },
           {
            "bin_end": 0.7,
            "bin_start": 0.6,
            "count": 0
           },
           {
            "bin_end": 0.8,
            "bin_start": 0.7,
            "count": 0
           },
           {
            "bin_end": 0.9,
            "bin_start": 0.8,
            "count": 0
           },
           {
            "bin_end": 1,
            "bin_start": 0.9,
            "count": 0
           },
           {
            "bin_end": 1.1,
            "bin_start": 1,
            "count": 1
           },
           {
            "bin_end": 1.2000000000000002,
            "bin_start": 1.1,
            "count": 0
           },
           {
            "bin_end": 1.3,
            "bin_start": 1.2000000000000002,
            "count": 0
           },
           {
            "bin_end": 1.4,
            "bin_start": 1.3,
            "count": 0
           },
           {
            "bin_end": 1.5,
            "bin_start": 1.4,
            "count": 0
           }
          ],
          "max": "1",
          "min": "1",
          "nan_count": 0,
          "unique_count": 1
         }
        },
        {
         "dtype": "object",
         "name": "neighbourhood_cleansed",
         "stats": {
          "categories": [
           {
            "count": 1,
            "name": "Bitter Lake"
           }
          ],
          "nan_count": 0,
          "unique_count": 1
         }
        },
        {
         "dtype": "object",
         "name": "neighbourhood_group_cleansed",
         "stats": {
          "categories": [
           {
            "count": 1,
            "name": "Other neighborhoods"
           }
          ],
          "nan_count": 0,
          "unique_count": 1
         }
        },
        {
         "dtype": "float64",
         "name": "latitude",
         "stats": {
          "histogram": [
           {
            "bin_end": 47.3119,
            "bin_start": 47.2119,
            "count": 0
           },
           {
            "bin_end": 47.4119,
            "bin_start": 47.3119,
            "count": 0
           },
           {
            "bin_end": 47.5119,
            "bin_start": 47.4119,
            "count": 0
           },
           {
            "bin_end": 47.6119,
            "bin_start": 47.5119,
            "count": 0
           },
           {
            "bin_end": 47.7119,
            "bin_start": 47.6119,
            "count": 0
           },
           {
            "bin_end": 47.8119,
            "bin_start": 47.7119,
            "count": 1
           },
           {
            "bin_end": 47.9119,
            "bin_start": 47.8119,
            "count": 0
           },
           {
            "bin_end": 48.0119,
            "bin_start": 47.9119,
            "count": 0
           },
           {
            "bin_end": 48.1119,
            "bin_start": 48.0119,
            "count": 0
           },
           {
            "bin_end": 48.2119,
            "bin_start": 48.1119,
            "count": 0
           }
          ],
          "max": "47.7119",
          "min": "47.7119",
          "nan_count": 0,
          "unique_count": 1
         }
        },
        {
         "dtype": "float64",
         "name": "longitude",
         "stats": {
          "histogram": [
           {
            "bin_end": -122.75053000000001,
            "bin_start": -122.85053,
            "count": 0
           },
           {
            "bin_end": -122.65053,
            "bin_start": -122.75053000000001,
            "count": 0
           },
           {
            "bin_end": -122.55053000000001,
            "bin_start": -122.65053,
            "count": 0
           },
           {
            "bin_end": -122.45053,
            "bin_start": -122.55053000000001,
            "count": 0
           },
           {
            "bin_end": -122.35053,
            "bin_start": -122.45053,
            "count": 0
           },
           {
            "bin_end": -122.25053000000001,
            "bin_start": -122.35053,
            "count": 1
           },
           {
            "bin_end": -122.15053,
            "bin_start": -122.25053000000001,
            "count": 0
           },
           {
            "bin_end": -122.05053000000001,
            "bin_start": -122.15053,
            "count": 0
           },
           {
            "bin_end": -121.95053,
            "bin_start": -122.05053000000001,
            "count": 0
           },
           {
            "bin_end": -121.85053,
            "bin_start": -121.95053,
            "count": 0
           }
          ],
          "max": "-122.35053",
          "min": "-122.35053",
          "nan_count": 0,
          "unique_count": 1
         }
        },
        {
         "dtype": "object",
         "name": "property_type",
         "stats": {
          "categories": [
           {
            "count": 1,
            "name": "Entire guest suite"
           }
          ],
          "nan_count": 0,
          "unique_count": 1
         }
        },
        {
         "dtype": "object",
         "name": "room_type",
         "stats": {
          "categories": [
           {
            "count": 1,
            "name": "Entire home/apt"
           }
          ],
          "nan_count": 0,
          "unique_count": 1
         }
        },
        {
         "dtype": "int64",
         "name": "accommodates",
         "stats": {
          "histogram": [
           {
            "bin_end": 1.6,
            "bin_start": 1.5,
            "count": 0
           },
           {
            "bin_end": 1.7,
            "bin_start": 1.6,
            "count": 0
           },
           {
            "bin_end": 1.8,
            "bin_start": 1.7,
            "count": 0
           },
           {
            "bin_end": 1.9,
            "bin_start": 1.8,
            "count": 0
           },
           {
            "bin_end": 2,
            "bin_start": 1.9,
            "count": 0
           },
           {
            "bin_end": 2.1,
            "bin_start": 2,
            "count": 1
           },
           {
            "bin_end": 2.2,
            "bin_start": 2.1,
            "count": 0
           },
           {
            "bin_end": 2.3,
            "bin_start": 2.2,
            "count": 0
           },
           {
            "bin_end": 2.4,
            "bin_start": 2.3,
            "count": 0
           },
           {
            "bin_end": 2.5,
            "bin_start": 2.4,
            "count": 0
           }
          ],
          "max": "2",
          "min": "2",
          "nan_count": 0,
          "unique_count": 1
         }
        },
        {
         "dtype": "float64",
         "name": "bedrooms",
         "stats": {
          "histogram": [
           {
            "bin_end": 0.6,
            "bin_start": 0.5,
            "count": 0
           },
           {
            "bin_end": 0.7,
            "bin_start": 0.6,
            "count": 0
           },
           {
            "bin_end": 0.8,
            "bin_start": 0.7,
            "count": 0
           },
           {
            "bin_end": 0.9,
            "bin_start": 0.8,
            "count": 0
           },
           {
            "bin_end": 1,
            "bin_start": 0.9,
            "count": 0
           },
           {
            "bin_end": 1.1,
            "bin_start": 1,
            "count": 1
           },
           {
            "bin_end": 1.2000000000000002,
            "bin_start": 1.1,
            "count": 0
           },
           {
            "bin_end": 1.3,
            "bin_start": 1.2000000000000002,
            "count": 0
           },
           {
            "bin_end": 1.4,
            "bin_start": 1.3,
            "count": 0
           },
           {
            "bin_end": 1.5,
            "bin_start": 1.4,
            "count": 0
           }
          ],
          "max": "1.0",
          "min": "1.0",
          "nan_count": 0,
          "unique_count": 1
         }
        },
        {
         "dtype": "float64",
         "name": "beds",
         "stats": {
          "histogram": [
           {
            "bin_end": 0.6,
            "bin_start": 0.5,
            "count": 0
           },
           {
            "bin_end": 0.7,
            "bin_start": 0.6,
            "count": 0
           },
           {
            "bin_end": 0.8,
            "bin_start": 0.7,
            "count": 0
           },
           {
            "bin_end": 0.9,
            "bin_start": 0.8,
            "count": 0
           },
           {
            "bin_end": 1,
            "bin_start": 0.9,
            "count": 0
           },
           {
            "bin_end": 1.1,
            "bin_start": 1,
            "count": 1
           },
           {
            "bin_end": 1.2000000000000002,
            "bin_start": 1.1,
            "count": 0
           },
           {
            "bin_end": 1.3,
            "bin_start": 1.2000000000000002,
            "count": 0
           },
           {
            "bin_end": 1.4,
            "bin_start": 1.3,
            "count": 0
           },
           {
            "bin_end": 1.5,
            "bin_start": 1.4,
            "count": 0
           }
          ],
          "max": "1.0",
          "min": "1.0",
          "nan_count": 0,
          "unique_count": 1
         }
        },
        {
         "dtype": "object",
         "name": "amenities",
         "stats": {
          "categories": [
           {
            "count": 1,
            "name": "[\"Hot water\", \"Blender\", \"Shared patio or balcony\", \"Toaster\", \"Refrigerator\", \"Hot water kettle\", \"Free washer \\u2013 In building\", \"Private entrance\", \"Drying rack for clothing\", \"Fast wifi \\u2013 104 Mbps\", \"Dishes and silverware\", \"Kitchen\", \"Ginger Lily Farms, 100% vegan/cruelty free body soap\", \"Free street parking\", \"Ginger Lily Farms, 100% vegan/cruelty free shampoo\", \"Ginger Lily Farms, 100% vegan/cruelty free conditioner\", \"Iron\", \"Hair dryer\", \"Microwave\", \"Cooking basics\", \"Oven\", \"Private backyard \\u2013 Fully fenced\", \"Keypad\", \"Stove\", \"Smoke alarm\", \"Wine glasses\", \"Essentials\", \"Self check-in\", \"Cleaning products\", \"Safe\", \"Portable fans\", \"Fire extinguisher\", \"Free dryer \\u2013 In building\", \"Outlet covers\", \"Clothing storage: closet and dresser\", \"Heating\", \"Outdoor furniture\", \"Long term stays allowed\", \"Coffee\", \"Luggage dropoff allowed\", \"Baking sheet\", \"Outdoor dining area\", \"BBQ grill\", \"Coffee maker: french press\", \"First aid kit\", \"Garden view\", \"Hangers\", \"Freezer\", \"Extra pillows and blankets\", \"Carbon monoxide alarm\", \"Fire pit\", \"Dedicated workspace\", \"Bed linens\", \"Free parking on premises\", \"Books and reading material\"]"
           }
          ],
          "nan_count": 0,
          "unique_count": 1
         }
        },
        {
         "dtype": "float64",
         "name": "price",
         "stats": {
          "histogram": [
           {
            "bin_end": 76.6,
            "bin_start": 76.5,
            "count": 0
           },
           {
            "bin_end": 76.7,
            "bin_start": 76.6,
            "count": 0
           },
           {
            "bin_end": 76.8,
            "bin_start": 76.7,
            "count": 0
           },
           {
            "bin_end": 76.9,
            "bin_start": 76.8,
            "count": 0
           },
           {
            "bin_end": 77,
            "bin_start": 76.9,
            "count": 0
           },
           {
            "bin_end": 77.1,
            "bin_start": 77,
            "count": 1
           },
           {
            "bin_end": 77.2,
            "bin_start": 77.1,
            "count": 0
           },
           {
            "bin_end": 77.3,
            "bin_start": 77.2,
            "count": 0
           },
           {
            "bin_end": 77.4,
            "bin_start": 77.3,
            "count": 0
           },
           {
            "bin_end": 77.5,
            "bin_start": 77.4,
            "count": 0
           }
          ],
          "max": "77.0",
          "min": "77.0",
          "nan_count": 0,
          "unique_count": 1
         }
        },
        {
         "dtype": "int64",
         "name": "minimum_nights",
         "stats": {
          "histogram": [
           {
            "bin_end": 1.6,
            "bin_start": 1.5,
            "count": 0
           },
           {
            "bin_end": 1.7,
            "bin_start": 1.6,
            "count": 0
           },
           {
            "bin_end": 1.8,
            "bin_start": 1.7,
            "count": 0
           },
           {
            "bin_end": 1.9,
            "bin_start": 1.8,
            "count": 0
           },
           {
            "bin_end": 2,
            "bin_start": 1.9,
            "count": 0
           },
           {
            "bin_end": 2.1,
            "bin_start": 2,
            "count": 1
           },
           {
            "bin_end": 2.2,
            "bin_start": 2.1,
            "count": 0
           },
           {
            "bin_end": 2.3,
            "bin_start": 2.2,
            "count": 0
           },
           {
            "bin_end": 2.4,
            "bin_start": 2.3,
            "count": 0
           },
           {
            "bin_end": 2.5,
            "bin_start": 2.4,
            "count": 0
           }
          ],
          "max": "2",
          "min": "2",
          "nan_count": 0,
          "unique_count": 1
         }
        },
        {
         "dtype": "int64",
         "name": "maximum_nights",
         "stats": {
          "histogram": [
           {
            "bin_end": 179.6,
            "bin_start": 179.5,
            "count": 0
           },
           {
            "bin_end": 179.7,
            "bin_start": 179.6,
            "count": 0
           },
           {
            "bin_end": 179.8,
            "bin_start": 179.7,
            "count": 0
           },
           {
            "bin_end": 179.9,
            "bin_start": 179.8,
            "count": 0
           },
           {
            "bin_end": 180,
            "bin_start": 179.9,
            "count": 0
           },
           {
            "bin_end": 180.1,
            "bin_start": 180,
            "count": 1
           },
           {
            "bin_end": 180.2,
            "bin_start": 180.1,
            "count": 0
           },
           {
            "bin_end": 180.3,
            "bin_start": 180.2,
            "count": 0
           },
           {
            "bin_end": 180.4,
            "bin_start": 180.3,
            "count": 0
           },
           {
            "bin_end": 180.5,
            "bin_start": 180.4,
            "count": 0
           }
          ],
          "max": "180",
          "min": "180",
          "nan_count": 0,
          "unique_count": 1
         }
        },
        {
         "dtype": "int64",
         "name": "number_of_reviews",
         "stats": {
          "histogram": [
           {
            "bin_end": 69.6,
            "bin_start": 69.5,
            "count": 0
           },
           {
            "bin_end": 69.7,
            "bin_start": 69.6,
            "count": 0
           },
           {
            "bin_end": 69.8,
            "bin_start": 69.7,
            "count": 0
           },
           {
            "bin_end": 69.9,
            "bin_start": 69.8,
            "count": 0
           },
           {
            "bin_end": 70,
            "bin_start": 69.9,
            "count": 0
           },
           {
            "bin_end": 70.1,
            "bin_start": 70,
            "count": 1
           },
           {
            "bin_end": 70.2,
            "bin_start": 70.1,
            "count": 0
           },
           {
            "bin_end": 70.3,
            "bin_start": 70.2,
            "count": 0
           },
           {
            "bin_end": 70.4,
            "bin_start": 70.3,
            "count": 0
           },
           {
            "bin_end": 70.5,
            "bin_start": 70.4,
            "count": 0
           }
          ],
          "max": "70",
          "min": "70",
          "nan_count": 0,
          "unique_count": 1
         }
        },
        {
         "dtype": "int64",
         "name": "number_of_reviews_ltm",
         "stats": {
          "histogram": [
           {
            "bin_end": 30.6,
            "bin_start": 30.5,
            "count": 0
           },
           {
            "bin_end": 30.7,
            "bin_start": 30.6,
            "count": 0
           },
           {
            "bin_end": 30.8,
            "bin_start": 30.7,
            "count": 0
           },
           {
            "bin_end": 30.9,
            "bin_start": 30.8,
            "count": 0
           },
           {
            "bin_end": 31,
            "bin_start": 30.9,
            "count": 0
           },
           {
            "bin_end": 31.1,
            "bin_start": 31,
            "count": 1
           },
           {
            "bin_end": 31.2,
            "bin_start": 31.1,
            "count": 0
           },
           {
            "bin_end": 31.3,
            "bin_start": 31.2,
            "count": 0
           },
           {
            "bin_end": 31.4,
            "bin_start": 31.3,
            "count": 0
           },
           {
            "bin_end": 31.5,
            "bin_start": 31.4,
            "count": 0
           }
          ],
          "max": "31",
          "min": "31",
          "nan_count": 0,
          "unique_count": 1
         }
        },
        {
         "dtype": "int64",
         "name": "number_of_reviews_l30d",
         "stats": {
          "histogram": [
           {
            "bin_end": 1.6,
            "bin_start": 1.5,
            "count": 0
           },
           {
            "bin_end": 1.7,
            "bin_start": 1.6,
            "count": 0
           },
           {
            "bin_end": 1.8,
            "bin_start": 1.7,
            "count": 0
           },
           {
            "bin_end": 1.9,
            "bin_start": 1.8,
            "count": 0
           },
           {
            "bin_end": 2,
            "bin_start": 1.9,
            "count": 0
           },
           {
            "bin_end": 2.1,
            "bin_start": 2,
            "count": 1
           },
           {
            "bin_end": 2.2,
            "bin_start": 2.1,
            "count": 0
           },
           {
            "bin_end": 2.3,
            "bin_start": 2.2,
            "count": 0
           },
           {
            "bin_end": 2.4,
            "bin_start": 2.3,
            "count": 0
           },
           {
            "bin_end": 2.5,
            "bin_start": 2.4,
            "count": 0
           }
          ],
          "max": "2",
          "min": "2",
          "nan_count": 0,
          "unique_count": 1
         }
        },
        {
         "dtype": "datetime64[ns]",
         "name": "first_review",
         "stats": {
          "histogram": null,
          "max": "2020-02-24 00:00:00",
          "min": "2020-02-24 00:00:00",
          "nan_count": 0,
          "unique_count": 1
         }
        },
        {
         "dtype": "datetime64[ns]",
         "name": "last_review",
         "stats": {
          "histogram": null,
          "max": "2022-12-18 00:00:00",
          "min": "2022-12-18 00:00:00",
          "nan_count": 0,
          "unique_count": 1
         }
        },
        {
         "dtype": "float64",
         "name": "review_scores_rating",
         "stats": {
          "histogram": [
           {
            "bin_end": 4.569999999999999,
            "bin_start": 4.47,
            "count": 0
           },
           {
            "bin_end": 4.67,
            "bin_start": 4.569999999999999,
            "count": 0
           },
           {
            "bin_end": 4.77,
            "bin_start": 4.67,
            "count": 0
           },
           {
            "bin_end": 4.87,
            "bin_start": 4.77,
            "count": 0
           },
           {
            "bin_end": 4.97,
            "bin_start": 4.87,
            "count": 0
           },
           {
            "bin_end": 5.07,
            "bin_start": 4.97,
            "count": 1
           },
           {
            "bin_end": 5.17,
            "bin_start": 5.07,
            "count": 0
           },
           {
            "bin_end": 5.27,
            "bin_start": 5.17,
            "count": 0
           },
           {
            "bin_end": 5.37,
            "bin_start": 5.27,
            "count": 0
           },
           {
            "bin_end": 5.47,
            "bin_start": 5.37,
            "count": 0
           }
          ],
          "max": "4.97",
          "min": "4.97",
          "nan_count": 0,
          "unique_count": 1
         }
        },
        {
         "dtype": "float64",
         "name": "review_scores_accuracy",
         "stats": {
          "histogram": [
           {
            "bin_end": 4.6,
            "bin_start": 4.5,
            "count": 0
           },
           {
            "bin_end": 4.7,
            "bin_start": 4.6,
            "count": 0
           },
           {
            "bin_end": 4.8,
            "bin_start": 4.7,
            "count": 0
           },
           {
            "bin_end": 4.9,
            "bin_start": 4.8,
            "count": 0
           },
           {
            "bin_end": 5,
            "bin_start": 4.9,
            "count": 0
           },
           {
            "bin_end": 5.1,
            "bin_start": 5,
            "count": 1
           },
           {
            "bin_end": 5.2,
            "bin_start": 5.1,
            "count": 0
           },
           {
            "bin_end": 5.3,
            "bin_start": 5.2,
            "count": 0
           },
           {
            "bin_end": 5.4,
            "bin_start": 5.3,
            "count": 0
           },
           {
            "bin_end": 5.5,
            "bin_start": 5.4,
            "count": 0
           }
          ],
          "max": "5.0",
          "min": "5.0",
          "nan_count": 0,
          "unique_count": 1
         }
        },
        {
         "dtype": "float64",
         "name": "review_scores_cleanliness",
         "stats": {
          "histogram": [
           {
            "bin_end": 4.59,
            "bin_start": 4.49,
            "count": 0
           },
           {
            "bin_end": 4.69,
            "bin_start": 4.59,
            "count": 0
           },
           {
            "bin_end": 4.79,
            "bin_start": 4.69,
            "count": 0
           },
           {
            "bin_end": 4.890000000000001,
            "bin_start": 4.79,
            "count": 0
           },
           {
            "bin_end": 4.99,
            "bin_start": 4.890000000000001,
            "count": 0
           },
           {
            "bin_end": 5.09,
            "bin_start": 4.99,
            "count": 1
           },
           {
            "bin_end": 5.19,
            "bin_start": 5.09,
            "count": 0
           },
           {
            "bin_end": 5.29,
            "bin_start": 5.19,
            "count": 0
           },
           {
            "bin_end": 5.390000000000001,
            "bin_start": 5.29,
            "count": 0
           },
           {
            "bin_end": 5.49,
            "bin_start": 5.390000000000001,
            "count": 0
           }
          ],
          "max": "4.99",
          "min": "4.99",
          "nan_count": 0,
          "unique_count": 1
         }
        },
        {
         "dtype": "float64",
         "name": "review_scores_checkin",
         "stats": {
          "histogram": [
           {
            "bin_end": 4.59,
            "bin_start": 4.49,
            "count": 0
           },
           {
            "bin_end": 4.69,
            "bin_start": 4.59,
            "count": 0
           },
           {
            "bin_end": 4.79,
            "bin_start": 4.69,
            "count": 0
           },
           {
            "bin_end": 4.890000000000001,
            "bin_start": 4.79,
            "count": 0
           },
           {
            "bin_end": 4.99,
            "bin_start": 4.890000000000001,
            "count": 0
           },
           {
            "bin_end": 5.09,
            "bin_start": 4.99,
            "count": 1
           },
           {
            "bin_end": 5.19,
            "bin_start": 5.09,
            "count": 0
           },
           {
            "bin_end": 5.29,
            "bin_start": 5.19,
            "count": 0
           },
           {
            "bin_end": 5.390000000000001,
            "bin_start": 5.29,
            "count": 0
           },
           {
            "bin_end": 5.49,
            "bin_start": 5.390000000000001,
            "count": 0
           }
          ],
          "max": "4.99",
          "min": "4.99",
          "nan_count": 0,
          "unique_count": 1
         }
        },
        {
         "dtype": "float64",
         "name": "review_scores_communication",
         "stats": {
          "histogram": [
           {
            "bin_end": 4.59,
            "bin_start": 4.49,
            "count": 0
           },
           {
            "bin_end": 4.69,
            "bin_start": 4.59,
            "count": 0
           },
           {
            "bin_end": 4.79,
            "bin_start": 4.69,
            "count": 0
           },
           {
            "bin_end": 4.890000000000001,
            "bin_start": 4.79,
            "count": 0
           },
           {
            "bin_end": 4.99,
            "bin_start": 4.890000000000001,
            "count": 0
           },
           {
            "bin_end": 5.09,
            "bin_start": 4.99,
            "count": 1
           },
           {
            "bin_end": 5.19,
            "bin_start": 5.09,
            "count": 0
           },
           {
            "bin_end": 5.29,
            "bin_start": 5.19,
            "count": 0
           },
           {
            "bin_end": 5.390000000000001,
            "bin_start": 5.29,
            "count": 0
           },
           {
            "bin_end": 5.49,
            "bin_start": 5.390000000000001,
            "count": 0
           }
          ],
          "max": "4.99",
          "min": "4.99",
          "nan_count": 0,
          "unique_count": 1
         }
        },
        {
         "dtype": "float64",
         "name": "review_scores_location",
         "stats": {
          "histogram": [
           {
            "bin_end": 4.5,
            "bin_start": 4.4,
            "count": 0
           },
           {
            "bin_end": 4.6000000000000005,
            "bin_start": 4.5,
            "count": 0
           },
           {
            "bin_end": 4.7,
            "bin_start": 4.6000000000000005,
            "count": 0
           },
           {
            "bin_end": 4.800000000000001,
            "bin_start": 4.7,
            "count": 0
           },
           {
            "bin_end": 4.9,
            "bin_start": 4.800000000000001,
            "count": 0
           },
           {
            "bin_end": 5,
            "bin_start": 4.9,
            "count": 1
           },
           {
            "bin_end": 5.1000000000000005,
            "bin_start": 5,
            "count": 0
           },
           {
            "bin_end": 5.2,
            "bin_start": 5.1000000000000005,
            "count": 0
           },
           {
            "bin_end": 5.300000000000001,
            "bin_start": 5.2,
            "count": 0
           },
           {
            "bin_end": 5.4,
            "bin_start": 5.300000000000001,
            "count": 0
           }
          ],
          "max": "4.9",
          "min": "4.9",
          "nan_count": 0,
          "unique_count": 1
         }
        },
        {
         "dtype": "float64",
         "name": "review_scores_value",
         "stats": {
          "histogram": [
           {
            "bin_end": 4.569999999999999,
            "bin_start": 4.47,
            "count": 0
           },
           {
            "bin_end": 4.67,
            "bin_start": 4.569999999999999,
            "count": 0
           },
           {
            "bin_end": 4.77,
            "bin_start": 4.67,
            "count": 0
           },
           {
            "bin_end": 4.87,
            "bin_start": 4.77,
            "count": 0
           },
           {
            "bin_end": 4.97,
            "bin_start": 4.87,
            "count": 0
           },
           {
            "bin_end": 5.07,
            "bin_start": 4.97,
            "count": 1
           },
           {
            "bin_end": 5.17,
            "bin_start": 5.07,
            "count": 0
           },
           {
            "bin_end": 5.27,
            "bin_start": 5.17,
            "count": 0
           },
           {
            "bin_end": 5.37,
            "bin_start": 5.27,
            "count": 0
           },
           {
            "bin_end": 5.47,
            "bin_start": 5.37,
            "count": 0
           }
          ],
          "max": "4.97",
          "min": "4.97",
          "nan_count": 0,
          "unique_count": 1
         }
        },
        {
         "dtype": "int64",
         "name": "has_license",
         "stats": {
          "histogram": [
           {
            "bin_end": 0.6,
            "bin_start": 0.5,
            "count": 0
           },
           {
            "bin_end": 0.7,
            "bin_start": 0.6,
            "count": 0
           },
           {
            "bin_end": 0.8,
            "bin_start": 0.7,
            "count": 0
           },
           {
            "bin_end": 0.9,
            "bin_start": 0.8,
            "count": 0
           },
           {
            "bin_end": 1,
            "bin_start": 0.9,
            "count": 0
           },
           {
            "bin_end": 1.1,
            "bin_start": 1,
            "count": 1
           },
           {
            "bin_end": 1.2000000000000002,
            "bin_start": 1.1,
            "count": 0
           },
           {
            "bin_end": 1.3,
            "bin_start": 1.2000000000000002,
            "count": 0
           },
           {
            "bin_end": 1.4,
            "bin_start": 1.3,
            "count": 0
           },
           {
            "bin_end": 1.5,
            "bin_start": 1.4,
            "count": 0
           }
          ],
          "max": "1",
          "min": "1",
          "nan_count": 0,
          "unique_count": 1
         }
        },
        {
         "dtype": "int64",
         "name": "instant_bookable",
         "stats": {
          "histogram": [
           {
            "bin_end": -0.4,
            "bin_start": -0.5,
            "count": 0
           },
           {
            "bin_end": -0.3,
            "bin_start": -0.4,
            "count": 0
           },
           {
            "bin_end": -0.19999999999999996,
            "bin_start": -0.3,
            "count": 0
           },
           {
            "bin_end": -0.09999999999999998,
            "bin_start": -0.19999999999999996,
            "count": 0
           },
           {
            "bin_end": 0,
            "bin_start": -0.09999999999999998,
            "count": 0
           },
           {
            "bin_end": 0.10000000000000009,
            "bin_start": 0,
            "count": 1
           },
           {
            "bin_end": 0.20000000000000007,
            "bin_start": 0.10000000000000009,
            "count": 0
           },
           {
            "bin_end": 0.30000000000000004,
            "bin_start": 0.20000000000000007,
            "count": 0
           },
           {
            "bin_end": 0.4,
            "bin_start": 0.30000000000000004,
            "count": 0
           },
           {
            "bin_end": 0.5,
            "bin_start": 0.4,
            "count": 0
           }
          ],
          "max": "0",
          "min": "0",
          "nan_count": 0,
          "unique_count": 1
         }
        },
        {
         "dtype": "int64",
         "name": "calculated_host_listings_count",
         "stats": {
          "histogram": [
           {
            "bin_end": 0.6,
            "bin_start": 0.5,
            "count": 0
           },
           {
            "bin_end": 0.7,
            "bin_start": 0.6,
            "count": 0
           },
           {
            "bin_end": 0.8,
            "bin_start": 0.7,
            "count": 0
           },
           {
            "bin_end": 0.9,
            "bin_start": 0.8,
            "count": 0
           },
           {
            "bin_end": 1,
            "bin_start": 0.9,
            "count": 0
           },
           {
            "bin_end": 1.1,
            "bin_start": 1,
            "count": 1
           },
           {
            "bin_end": 1.2000000000000002,
            "bin_start": 1.1,
            "count": 0
           },
           {
            "bin_end": 1.3,
            "bin_start": 1.2000000000000002,
            "count": 0
           },
           {
            "bin_end": 1.4,
            "bin_start": 1.3,
            "count": 0
           },
           {
            "bin_end": 1.5,
            "bin_start": 1.4,
            "count": 0
           }
          ],
          "max": "1",
          "min": "1",
          "nan_count": 0,
          "unique_count": 1
         }
        },
        {
         "dtype": "int64",
         "name": "calculated_host_listings_count_entire_homes",
         "stats": {
          "histogram": [
           {
            "bin_end": 0.6,
            "bin_start": 0.5,
            "count": 0
           },
           {
            "bin_end": 0.7,
            "bin_start": 0.6,
            "count": 0
           },
           {
            "bin_end": 0.8,
            "bin_start": 0.7,
            "count": 0
           },
           {
            "bin_end": 0.9,
            "bin_start": 0.8,
            "count": 0
           },
           {
            "bin_end": 1,
            "bin_start": 0.9,
            "count": 0
           },
           {
            "bin_end": 1.1,
            "bin_start": 1,
            "count": 1
           },
           {
            "bin_end": 1.2000000000000002,
            "bin_start": 1.1,
            "count": 0
           },
           {
            "bin_end": 1.3,
            "bin_start": 1.2000000000000002,
            "count": 0
           },
           {
            "bin_end": 1.4,
            "bin_start": 1.3,
            "count": 0
           },
           {
            "bin_end": 1.5,
            "bin_start": 1.4,
            "count": 0
           }
          ],
          "max": "1",
          "min": "1",
          "nan_count": 0,
          "unique_count": 1
         }
        },
        {
         "dtype": "int64",
         "name": "calculated_host_listings_count_private_rooms",
         "stats": {
          "histogram": [
           {
            "bin_end": -0.4,
            "bin_start": -0.5,
            "count": 0
           },
           {
            "bin_end": -0.3,
            "bin_start": -0.4,
            "count": 0
           },
           {
            "bin_end": -0.19999999999999996,
            "bin_start": -0.3,
            "count": 0
           },
           {
            "bin_end": -0.09999999999999998,
            "bin_start": -0.19999999999999996,
            "count": 0
           },
           {
            "bin_end": 0,
            "bin_start": -0.09999999999999998,
            "count": 0
           },
           {
            "bin_end": 0.10000000000000009,
            "bin_start": 0,
            "count": 1
           },
           {
            "bin_end": 0.20000000000000007,
            "bin_start": 0.10000000000000009,
            "count": 0
           },
           {
            "bin_end": 0.30000000000000004,
            "bin_start": 0.20000000000000007,
            "count": 0
           },
           {
            "bin_end": 0.4,
            "bin_start": 0.30000000000000004,
            "count": 0
           },
           {
            "bin_end": 0.5,
            "bin_start": 0.4,
            "count": 0
           }
          ],
          "max": "0",
          "min": "0",
          "nan_count": 0,
          "unique_count": 1
         }
        },
        {
         "dtype": "int64",
         "name": "calculated_host_listings_count_shared_rooms",
         "stats": {
          "histogram": [
           {
            "bin_end": -0.4,
            "bin_start": -0.5,
            "count": 0
           },
           {
            "bin_end": -0.3,
            "bin_start": -0.4,
            "count": 0
           },
           {
            "bin_end": -0.19999999999999996,
            "bin_start": -0.3,
            "count": 0
           },
           {
            "bin_end": -0.09999999999999998,
            "bin_start": -0.19999999999999996,
            "count": 0
           },
           {
            "bin_end": 0,
            "bin_start": -0.09999999999999998,
            "count": 0
           },
           {
            "bin_end": 0.10000000000000009,
            "bin_start": 0,
            "count": 1
           },
           {
            "bin_end": 0.20000000000000007,
            "bin_start": 0.10000000000000009,
            "count": 0
           },
           {
            "bin_end": 0.30000000000000004,
            "bin_start": 0.20000000000000007,
            "count": 0
           },
           {
            "bin_end": 0.4,
            "bin_start": 0.30000000000000004,
            "count": 0
           },
           {
            "bin_end": 0.5,
            "bin_start": 0.4,
            "count": 0
           }
          ],
          "max": "0",
          "min": "0",
          "nan_count": 0,
          "unique_count": 1
         }
        },
        {
         "dtype": "float64",
         "name": "reviews_per_month",
         "stats": {
          "histogram": [
           {
            "bin_end": 1.63,
            "bin_start": 1.5299999999999998,
            "count": 0
           },
           {
            "bin_end": 1.7299999999999998,
            "bin_start": 1.63,
            "count": 0
           },
           {
            "bin_end": 1.8299999999999998,
            "bin_start": 1.7299999999999998,
            "count": 0
           },
           {
            "bin_end": 1.9299999999999997,
            "bin_start": 1.8299999999999998,
            "count": 0
           },
           {
            "bin_end": 2.03,
            "bin_start": 1.9299999999999997,
            "count": 0
           },
           {
            "bin_end": 2.13,
            "bin_start": 2.03,
            "count": 1
           },
           {
            "bin_end": 2.23,
            "bin_start": 2.13,
            "count": 0
           },
           {
            "bin_end": 2.33,
            "bin_start": 2.23,
            "count": 0
           },
           {
            "bin_end": 2.4299999999999997,
            "bin_start": 2.33,
            "count": 0
           },
           {
            "bin_end": 2.53,
            "bin_start": 2.4299999999999997,
            "count": 0
           }
          ],
          "max": "2.03",
          "min": "2.03",
          "nan_count": 0,
          "unique_count": 1
         }
        },
        {
         "dtype": "float64",
         "name": "bathrooms_count",
         "stats": {
          "histogram": [
           {
            "bin_end": 0.6,
            "bin_start": 0.5,
            "count": 0
           },
           {
            "bin_end": 0.7,
            "bin_start": 0.6,
            "count": 0
           },
           {
            "bin_end": 0.8,
            "bin_start": 0.7,
            "count": 0
           },
           {
            "bin_end": 0.9,
            "bin_start": 0.8,
            "count": 0
           },
           {
            "bin_end": 1,
            "bin_start": 0.9,
            "count": 0
           },
           {
            "bin_end": 1.1,
            "bin_start": 1,
            "count": 1
           },
           {
            "bin_end": 1.2000000000000002,
            "bin_start": 1.1,
            "count": 0
           },
           {
            "bin_end": 1.3,
            "bin_start": 1.2000000000000002,
            "count": 0
           },
           {
            "bin_end": 1.4,
            "bin_start": 1.3,
            "count": 0
           },
           {
            "bin_end": 1.5,
            "bin_start": 1.4,
            "count": 0
           }
          ],
          "max": "1.0",
          "min": "1.0",
          "nan_count": 0,
          "unique_count": 1
         }
        },
        {
         "dtype": "int64",
         "name": "amenities_count",
         "stats": {
          "histogram": [
           {
            "bin_end": 54.6,
            "bin_start": 54.5,
            "count": 0
           },
           {
            "bin_end": 54.7,
            "bin_start": 54.6,
            "count": 0
           },
           {
            "bin_end": 54.8,
            "bin_start": 54.7,
            "count": 0
           },
           {
            "bin_end": 54.9,
            "bin_start": 54.8,
            "count": 0
           },
           {
            "bin_end": 55,
            "bin_start": 54.9,
            "count": 0
           },
           {
            "bin_end": 55.1,
            "bin_start": 55,
            "count": 1
           },
           {
            "bin_end": 55.2,
            "bin_start": 55.1,
            "count": 0
           },
           {
            "bin_end": 55.3,
            "bin_start": 55.2,
            "count": 0
           },
           {
            "bin_end": 55.4,
            "bin_start": 55.3,
            "count": 0
           },
           {
            "bin_end": 55.5,
            "bin_start": 55.4,
            "count": 0
           }
          ],
          "max": "55",
          "min": "55",
          "nan_count": 0,
          "unique_count": 1
         }
        },
        {
         "dtype": "int64",
         "name": "host_response_time_encoded",
         "stats": {
          "histogram": [
           {
            "bin_end": 0.6,
            "bin_start": 0.5,
            "count": 0
           },
           {
            "bin_end": 0.7,
            "bin_start": 0.6,
            "count": 0
           },
           {
            "bin_end": 0.8,
            "bin_start": 0.7,
            "count": 0
           },
           {
            "bin_end": 0.9,
            "bin_start": 0.8,
            "count": 0
           },
           {
            "bin_end": 1,
            "bin_start": 0.9,
            "count": 0
           },
           {
            "bin_end": 1.1,
            "bin_start": 1,
            "count": 1
           },
           {
            "bin_end": 1.2000000000000002,
            "bin_start": 1.1,
            "count": 0
           },
           {
            "bin_end": 1.3,
            "bin_start": 1.2000000000000002,
            "count": 0
           },
           {
            "bin_end": 1.4,
            "bin_start": 1.3,
            "count": 0
           },
           {
            "bin_end": 1.5,
            "bin_start": 1.4,
            "count": 0
           }
          ],
          "max": "1",
          "min": "1",
          "nan_count": 0,
          "unique_count": 1
         }
        },
        {
         "dtype": "int64",
         "name": "host_operate_years",
         "stats": {
          "histogram": [
           {
            "bin_end": 3.6,
            "bin_start": 3.5,
            "count": 0
           },
           {
            "bin_end": 3.7,
            "bin_start": 3.6,
            "count": 0
           },
           {
            "bin_end": 3.8,
            "bin_start": 3.7,
            "count": 0
           },
           {
            "bin_end": 3.9,
            "bin_start": 3.8,
            "count": 0
           },
           {
            "bin_end": 4,
            "bin_start": 3.9,
            "count": 0
           },
           {
            "bin_end": 4.1,
            "bin_start": 4,
            "count": 1
           },
           {
            "bin_end": 4.2,
            "bin_start": 4.1,
            "count": 0
           },
           {
            "bin_end": 4.3,
            "bin_start": 4.2,
            "count": 0
           },
           {
            "bin_end": 4.4,
            "bin_start": 4.3,
            "count": 0
           },
           {
            "bin_end": 4.5,
            "bin_start": 4.4,
            "count": 0
           }
          ],
          "max": "4",
          "min": "4",
          "nan_count": 0,
          "unique_count": 1
         }
        },
        {
         "dtype": "object",
         "name": "comments",
         "stats": {
          "categories": [
           {
            "count": 1,
            "name": "The Jewel Box is such a wonderful space. It was perfect for what I needed. Joline added lots of sweet touches and it's filled with cheery colors and great light which make up for the daylight basement vibes. Kitchen well appointed, comfortable bed, and kind host. A wonderful stay in a great place in Seattle!  A very wonderful and peaceful garden also! The place is really comfortable. Joline is a very nice host. Very happy with my stay. The Jewel Box is such a great place to stay! Joline is very nice and helpful, the location is awesome and I couldn’t have asked for a better place to stay! The garden is beautiful, a great place for a quite rest! The Jewel Box is a hidden treasure tucked in a quiet unassuming neighborhood. Joline is an amazing host and made us feel right at home. The place is extremely clean, efficient, accessible, and serene. There is incredible artwork displayed throughout the home and garden that give this place a special touch. Joline’s place it quite with beautiful views all around, wether you’re inside or outside walking around you’ll love the scenery and the back yard garden is amazing. There’s trails and plenty to explore all around. I would happily stay there again if I’m ever in Seattle again. The Jewel Box is delightful!!! Smart layout, top quality furnishings, wonderful artwork, relaxing backyard garden and very accommodating host. I would highly recommend. The Jewel Box was a wonderful place to stay in Northwest Seattle. Walking distance to anything you might need, including the beautiful Carkeek park and beach. The apartment has everything you might need for a short or long stay, and the artwork in the apartment is beautiful and makes the space feel very homey. I really enjoyed my time in this place and would definitely recommend it if you need a quiet and comfortable place to stay. I loved staying at the Jewel Box.  It is beautifully decorated and cozy.  Looking forward to staying again. Great place to feel cozy while visiting the Seattle area. My partner and I rented the Jewel Box for a week while we looked for apartments in the area during our relocation. Joline was great, very helpful and kind, but also gave us the space we needed while figuring out our big move. She even gave us some eggs from her chickens and we made omelettes ! Very cute place and gracious host. Highly recommend! We are Seattle locals, so my dad stayed here while he was visiting us. Joline was a very thoughtful host, she communicated with us frequently to make sure we didn't need anything. The unit is clean, and has all the amenities one could need for a short stay, as well as complementary coffee fruits, and sweets. The stay overall was great, we would stay here again. This is a wonderful gem, cozy and private, with all the necessities. Joline is a thoughtful host and her garden is magical. I will definitely be back! One of the best Airbnb experiences I’ve had. Check in was easy, the space was cozy, and Joline was so friendly and communicative. Highly recommend! The jewel box studio is a very special place in north seattle. All the touches are very thoughtful and we had everything we needed for a wonderful stay. The garden is luscious and green and beautiful. Joline was even kind enough to offer some of her fresh eggs and flowers for us! Simply wonderful. Joline has put so much love and attention into this space. It is personal, thoughtful and warm. The garden is a bliss, and blooming at the time I was there. The place is comfortable, has everything you need and as an experienced traveler I enjoyed coming to a place where things are just nice- nice cutlery, nice details. They seem like small thing but they made me feel welcome and at home. On top of that Joline is just wonderful, very hospitable and willing to help navigate the city and just really nice to talk to. If I good give 10 stars I would, but 5 stars it is. Thanks Joline, hope to be back. Joline is a very lovely host. She made our trip very easy and relaxing. The location is beautiful and is a short drive to a lot of desired locations. I would highly recommend staying here if you have the chance! Joline's place was just amazing. There were her thoughtful touches everywhere. She left fresh eggs (from her chickens) and drinks in the fridge and goodies (fruits and candies) on the kitchen counter. Oh, and don't miss a little present from her! She left a hand made glass fridge magnet!! So nice. Everything was very tastefully done. Arts everywhere. Clean and comfortable. Thanks, Joline, for a really peaceful and lovely experience at your place. It truly was a gem!! The stay was absolutely amazing. Joline is such a kind soul and her garden area shows the amount of love she has put in. Waking up in the morning to visit the hens and hummingbirds around the garden put me in such a great mood. The room had everything we needed and the pillows were so comfortable. We loved talking to Joline about her art and her animals that we felt as if we were staying with family. She also made my boyfriend a gift for his birthday! I would recommend her place to anyone looking for a tranquil spot while visiting Seattle. This is a gem! Clean, cozy, well equipped with everything you need! And Joline is a DELIGHT! The Jewel Box is truly a treasure! Joline is the consummate hostess: welcoming, accommodating, generous, and available for as much or as little interaction as you wish. The basement studio apartment is bright and cozy, and the yard is a serene haven. We were fortunate enough to be there at a time when Joline was able to share delicious eggs from her hens as well as greens from her garden. The location is also ideal. The house is in a quiet neighborhood very near the Interurban Trail, with easy access to Greenwood Ave, Aurora Ave N. and I-5. Jolene’s place was exactly what we were looking for. She was very friendly and great at communicating. Loved that she had local artwork on display. There is a reason Joline is a Super Host! Here studio is incredibly curated with many special touches from her own art as well as many others. Everything was sparkly clean and my stay was fantastic. Her studio is in a safe and very quiet neighborhood. Her communication and accommodations were exactly what I hoped for and made my stay in Seattle very easy and enjoyable!  I would surely stay here again. the studio was simply wonderful. Joline was a delight and I enjoyed my stay very much, I only wish I could of stayed there longer. the garden area was perfect and peaceful and relaxing in a space itself is very homey and comfortable. Jolene kept me well stocked on the vegetables so I got to eat like a rabbit which was delicious. the studio was one of the best airbnbs I've ever stayed at and I hope to again soon. Joline’s place is one of the nicest airbnbs I’ve ever stayed at. The garden is peaceful, and there were so many thoughtful touches around the room and courtyard. Especially good for an extended stay. Highly recommend! Joline’s place was absolutely perfect. The apartment was spotlessly clean with many amazing personal touches. The internet was incredibly fast and allowed for two people to work easily, including video conferences. The apartment has all utensils and kitchen items needed to make your stay easy. The highlight above all of this though, is the host and the yard. Joline is gracious and attentive as a host. All questions are answers quickly and she is easily available whenever needed. Her garden is so calm and peaceful with endless entertainment from her 3 hens. It truly is a diamond in the rough and we would gladly stay here again on any trip in the area! Joline is a delightful host and The Jewel Box is beautifully curated and oh-so-homey. It was wonderful to be able to come home to such a warm and inviting oasis for a few days. Bonuses include a stunning garden, good conversation, and 3 charming hens who laid a half-dozen delicious eggs which we were so generously gifted. I highly reccomend The Jewel Box! It was a wonderful stay nice and cozy Jewel box is tidy, cute little apartment equipped with everything you need. We were pleased with the stay.  This place is sufficient for a couple. It’ll be little congested for a family of 3 with an infant.<br/><br/>Joline is an amazing host. She welcomed us with a welcome note, flowers, gift, greeting card, cookies. We had a very pleasant stay.<br/><br/>She gave her blender so that we could prepare smoothies for my daughter. <br/><br/>We loved the lush green garden, my daughter loved her pet chickens.<br/><br/>This place is very near to space needle, aquarium, art museum, giant wheel, woodland zoo. There’s enough parking for the cars.<br/><br/>We would recommend this place to any couple who’s going to Seattle. Great place in a wonderful location. Walking distance to just about anything you’ll need. Near to Carkeek park that is a must!<br/> Joline is a wonderful and thoughtful host, even shared some of her sweet chickens’ eggs and delicious plums from her tree with us. Space was cozy and clean with all the accommodations we were looking for. Joline’s love for her home, garden, and art is apparent, and even inspiring. We hope to be able to stay again on our next visit. Thank you Joline! We found a little treasure with Jewel Box Studio. Not only is it spotless and has all the amenities we need, but host, Joline, made us welcome to the studio and her lovely garden.  The beautiful artwork and ambience gives Jewel Box Studio a warm and inviting character of its own. Joline’s place is immaculately clean and comfortable. The art work and colors made it feel homey and unique. Unexpected treats from the garden enhanced the stay. Joline was kind and generous, even helping us charge our Tesla . Her book had great suggestions for nearby eats. Wish we could have stayed longer. Great little spot just outside downtown Seattle. Private kitchen and bathroom gives a really nice hotel vibe. Joline is a great host who responds to any question or concern quickly. You will enjoy your stay at the Jewel Box! I needed a place to stay on a weekend trip to Seattle that was in a central location and affordable. Joline’s studio checked off those boxes and so much more. The studio was clean, tidy, and well decorated with local art and beautiful rugs. Despite the small sq footage the space felt very open and could easily work for two people. I was greeted by a beautiful card, flowers, and even some snacks. Location is close to everything you could need and parking was a breeze. This has become my go-to anytime I’m in town! The Jewel Box is by far the best Airbnb we have ever stayed in. Joline is also the sweetest and most welcoming host! The property is gorgeous with lush flowers, a serene sitting area, and a private garden. We loved the quick accessibility/privacy of the room. We would definitely stay here again! This airBnB is even more lovely and comfortable than the photos and description. The bed is very comfortable and the kitchen is well-equipped and laid out. Not only an excellent supply of dishes, coffee mugs, prep bowls and pots/pans but also an extensive set of cooking spices, coffee and teas for use of the guests. The refrigerator/freezer is new and clean and there's a microwave, toaster, blender, several types of coffee makers and a tea kettle. Extra pillows and comforters are stored in the cabinets under the kitchen bar. The atmosphere is very welcoming, decorated with bright comforters and pillows and original art created by the host and other artists. This subbasement apartment has a large window in the living and kitchen counter area that let's in lots of sunlight giving it an airy feel during the day. WiFi available with the password in the helpful information binder on the kitchen counter.  I'll definitely book this airBnB when I visit Seattle again. if it's available. One note: There's no TV. I didn't notice it until the fourth day there because I seldom watch television and had my laptop to watch NetFlix via wifi. Very pleasant stay Joline has amazing cozy place, with great communication and always went the extra mile with lending us an extra phone charger and also some allergy medicine!<br/>I highly recommend her spot, it’s so private and with your own entrance! A wonderful quaint, clean, and cozy place to stay. A great spot if you'd like something outside the downtown area (though near public transportation) and near some parks. Joline is very friendly and has made the space unique with many accommodations. Highly recommend! My best Airbnb experience ever! I stayed at the Jewel Box for a month while doing a school rotation, and Joline provided a restful nest that felt like home. Joline is the perfect host — attentive, communicative, and fully anticipating every need. The space is cozy, clean, and so thoughtfully arranged and decorated. The hot showers, speedy WiFi, and fresh organic coffee grounds were particularly appreciated, along with fresh eggs from the backyard chickens. Just an all-around wonderful experience. Eleven out of 10! considerate, polite and quiet host, cosy place with a more than adequate kitchen and a very comfortable bed. The Jewel Box is an absolute gem of a find. <br/><br/>The property is exactly as described and a perfect hideout for a couple or single person. <br/><br/>Joline was attentive and although my stay was cut unexpectedly short, I thoroughly enjoyed my stay and will definitely be returning. <br/><br/>Thanks Joline- hope to see you again soon in more normal times! A cozy find (with everything that you could need at such a good value) that I would be happy to return to someday! Bed was soft, water was hot, and Joline was very attentive during my weekend stay. I greatly appreciated the art and eco-friendly amenities, too! This cozy and colorful basement studio made a very pleasant retreat after full days with our grandchildren. <br/>The kitchen is well-equipped, and Joline made us feel welcome with a personal note and some special treats.<br/>We hope to return when the garden is in bloom to enjoy even more of her creativity. Joline has created a lovely space with everything you might need. I really appreciate that this studio has a full kitchen, nice bathroom, and comfortable bed. It is private and well located. Also, in warmer weather, she has a beautiful backyard area to enjoy. I also had the privilege of receiving a few of the eggs from her chickens and that was a nice treat. Thanks so much for a wonderful stay and it was great meeting you! I stayed at Joline's lovely Jewel Box for a long-term stay while I moved to Seattle and looked to get my own place. It was perfect for a single-person long-term stay as it had everything you needed - the kitchen in particular was very well equipped and made it convenient to whip up easy meals and not spend a lot eating out everyday during my long stay. Internet was fast and reliable, shower had hot water, and despite being a garden-level unit you got decent light and ventilation was easy if you let the window open for a bit. Would definitely recommend if you are looking for a longer stay! It's a good place. Clean, neat, well-stocked. Nice location. Joline is a good and responsive host. Would recommend to other people traveling to Seattle. Beautiful and outstanding space. Immaculately clean. I would definately and wholeheartedly recommend staying here. Great experience staying in the Jewel Box. A lovely studio apartment with creative use of space. Having a place to make a real breakfast was a huge plus for me, and I enjoyed not having a t.v. Pleasant & quiet neighborhood. Joline is an awesome host, her place is clean, so comfortable and beautiful. I believe this is my favorite Airbnb of many I have stayed in through the US! Joline's truly created a wonderful, warm, and welcoming space for her guests to enjoy. The Jewel Box is cozy, comfortable, and filled with the most lovely art you can imagine. Every part of the experience has been thought through with intention and care from the flower arrangement there to greet you upon your arrival, to the warm lighting and gorgeous luminette nightlights that add to the magic of the space (check out her website for unique and perfect gift ideas!) The positive energy and love it was designed with are evident everywhere you turn your head. The garden is absolutely divine, and all of the chickens and hummingbirds that accompany the yard just add to the overall connection with nature, life, and one's self. I'm so impressed with how she's used her talents to create a beautiful respite from the world, an offering of what the world could look like with more art, generosity, and creativity. I left feeling renewed, hopeful, and truly inspired just knowing that the Jewel Box exists and that others will be experiencing similar states of bliss there in the future. My search for comfortable places to stay upon my future trips to Seattle are over as the Jewel Box has stolen my heart. Already looking forward to next time. Thank you, Joline. Joline was wonderful! Her place was clean and well kept. I recently moved to Seattle and I stayed here while apartment hunting. I’d highly this place, you will not be disappointed. Joline was awesome with communication prior to our stay. Jewel Box is a charming, well lit, art-filled space that had all the amenities available. Outdoors has grounds with a lovely restful garden in full bloom. Joline our host, provided flowers and other welcoming gifts including a recommendations for local restaurants and attractions. Joline is the most wonderful host! Before my arrival she sent me detailed instructions on how to get to her place and everything I needed to know regarding the apartment.<br/>During my stay we had a lovely chat in the garden and she was always available whenever I had a question. She even offered to take me to the nearest local train station. (Since I was traveling without a car and had quite some luggage.)<br/>The apartment was very well equipped with a comfy bed and blanket, a kitchen and a well working bathroom. I very much appreciated the opportunity to use the washing machine. If traveling without a car, you can reach the place via the local bus coming from the city center.<br/>Upon arriving, I was greeted with a personal welcome card and notes. All of which little details, that made me feel very welcome at this wonderful place. :) I definitively recommend staying at Joline's apartment! Cozy apartment very handy for those with a car looking to do things on the north side of Seattle. Joline shared her beautiful flowers and fresh eggs with us during our 2-night stay. Comfy bed and everything we needed to make a couple meals. What a phenomenal space for a stay! Joline has created an adorable, cozy studio apartment that has all you could want or need for a weekend getaway or an extended stay. It is furnished with very cool art work and if you enjoy it, you'll find information about the artists and how to order their works in her information book. (I had to buy one of her luminettes because they are just so cool!) In addition to providing a very cool sanctuary, Joline offered fresh eggs, has a spice rack for guests to season their own foods with, and even baked a pie that she shared with us. Would love to visit again if we make it back to the Pacific Northwest anytime soon. It's obvious Joline has put much thought and care and work into creating a beautiful place. The kitchen is completely furnished with everything you need. The space is very attractive and comfortable. The artwork is wonderful and interesting. The bathroom, in contrast with lots of places, has several glass shelves to hold all your required belongings, and the lighting is excellent for shaving or make-up. The sitting area in the backyard is comfortable and in a beautiful setting. Communication with Joline was easy and pleasant. I highly recommend Joline and her B&B! By far one of the best airbnb experiences i’ve had period! Joline was a wonderful and friendly host, and the art/decor in my room was fascinating enough to keep me occupied and inspired for a full night. The only downside is that Aurora, which is near the neighbourhood, is a little sketchy, but that didn’t detract from  the overall experience. Still definitely a must-stay for solo travellers like myself. The Jewel Box is the best!!!! Joline is an amazing, generous, friendly host. The yard is gorgeous and the chickens are adorable. The Bnb is very comfortable and relaxing. I would definitely stay again! All was well. Beautiful garden and excellent communication. Joline’s Jewel Box is a home away from home. The place has so much thought, intention, and style behind it. I did not notice a single thing that was missing or neglected. Joline is a great communicator if you have any questions or concerns and was so lovely to have a conversation with when our paths crossed. Loved all of the homey and practical touches. The location was in a great neighborhood that did take a little longer to use public transportation but it was not impossible. I had no problem on the day that I used a car since you can park right out front. One of the best Airbnbs I’ve ever stayed in. Highly recommend! super cute and cozy at the jewel box, there are great cut art pieces all over with a homey feel. Talking with Joline was a pleasure she was so kind and helpful whenever I had questions. She also left some fresh eggs from her kitchens, omg the best eggs I've ever had swear to God. I would 100% come back again if I find myself back in Seattle. The suite is equipped with everything you need, including a full kitchen. It’s quiet, clean, and comfortable. Lots of interesting art, pretty garden. Host is kind and helpful. Thanks for the fresh eggs and flowers, and the extension cord for my car. Would definitely stay here again! The Jewelbox is a lovely place to stay, beautiful, clean, and close to everything. Definitely would recommend! This eclectic apartment is full of artwork from local artists. It’s got a full kitchen that’s very well stocked with both dishes  and basic food staples. Also has a very pretty garden in the back for you to relax in. As a reminder, there’s not a tv, but that wasn’t important to me for my stay. Wonderful place! It was clean and homey. A lot of local art. Joline had fresh flowers in the airBnB that were beautiful. The garden was gorgeous. Great and quiet location! Would stay here again. Beautiful place! Love the artwork and thoughtfulness. Clean and organized. I would stay here again. Small tip, allocate about 20 or so mins at the end of your check out as there are several things that is asked to be done including removing bedding, taking out trash, washing dishes etc. overall,<br/>I would recommend this place. Very Nice basement apartment. Artwork everywhere. Especial;ly interesting to us was the backyard garden with its beautiful brickwork, glass filled shed, flowers, vegetables. artwork, ceramics and chickens. Jewel Box is absolutely wonderful, it has really set the new bar in Airbnbs for me. The space is a work of art and well-equipped, Joline was a great host and has a fantastic artistic sense. I had a great stay for several weeks. My second stay at Jewel Box.  This time my wife came along.  It's a very cozy space, quite nicely decorated.  Perfectly splendid!"
           }
          ],
          "nan_count": 0,
          "unique_count": 1
         }
        },
        {
         "dtype": "float64",
         "name": "polarity",
         "stats": {
          "histogram": [
           {
            "bin_end": 0.5356799999999998,
            "bin_start": 0.43567999999999985,
            "count": 0
           },
           {
            "bin_end": 0.6356799999999998,
            "bin_start": 0.5356799999999998,
            "count": 0
           },
           {
            "bin_end": 0.7356799999999999,
            "bin_start": 0.6356799999999998,
            "count": 0
           },
           {
            "bin_end": 0.8356799999999999,
            "bin_start": 0.7356799999999999,
            "count": 0
           },
           {
            "bin_end": 0.9356799999999998,
            "bin_start": 0.8356799999999999,
            "count": 0
           },
           {
            "bin_end": 1.03568,
            "bin_start": 0.9356799999999998,
            "count": 1
           },
           {
            "bin_end": 1.1356799999999998,
            "bin_start": 1.03568,
            "count": 0
           },
           {
            "bin_end": 1.23568,
            "bin_start": 1.1356799999999998,
            "count": 0
           },
           {
            "bin_end": 1.33568,
            "bin_start": 1.23568,
            "count": 0
           },
           {
            "bin_end": 1.4356799999999998,
            "bin_start": 1.33568,
            "count": 0
           }
          ],
          "max": "0.9356799999999998",
          "min": "0.9356799999999998",
          "nan_count": 0,
          "unique_count": 1
         }
        },
        {
         "dtype": "int64",
         "name": "_deepnote_index_column"
        }
       ],
       "row_count": 1,
       "rows": [
        {
         "_deepnote_index_column": "345",
         "accommodates": "2",
         "amenities": "[\"Hot water\", \"Blender\", \"Shared patio or balcony\", \"Toaster\", \"Refrigerator\", \"Hot water kettle\", \"Free washer \\u2013 In building\", \"Private entrance\", \"Drying rack for clothing\", \"Fast wifi \\u2013 104 Mbps\", \"Dishes and silverware\", \"Kitchen\", \"Ginger Lily Farms, 100% vegan/cruelty free body soap\", \"Free street parking\", \"Ginger Lily Farms, 100% vegan/cruelty free shampoo\", \"Ginger Lily Farms, 100% vegan/cruelty free conditioner\", \"Iron\", \"Hair dryer\", \"Microwave\", \"Cooking basics\", \"Oven\", \"Private backyard \\u2013 Fully fenced\", \"Keypad\", \"Stove\", \"Smoke alarm\", \"Wine glasses\", \"Essentials\", \"Self check-in\", \"Cleaning products\", \"Safe\", \"Portable fans\", \"Fire extinguisher\", \"Free dryer \\u2013 In building\", \"Outlet covers\", \"Clothing storage: closet and dresser\", \"Heating\", \"Outdoor furniture\", \"Long term stays allowed\", \"Coffee\", \"Luggage dropoff allowed\", \"Baking sheet\", \"Outdoor dining area\", \"BBQ grill\", \"Coffee maker: french press\", \"First aid kit\", \"Garden view\", \"Hangers\", \"F…",
         "amenities_count": "55",
         "bathrooms_count": "1.0",
         "bedrooms": "1.0",
         "beds": "1.0",
         "calculated_host_listings_count": "1",
         "calculated_host_listings_count_entire_homes": "1",
         "calculated_host_listings_count_private_rooms": "0",
         "calculated_host_listings_count_shared_rooms": "0",
         "comments": "The Jewel Box is such a wonderful space. It was perfect for what I needed. Joline added lots of sweet touches and it's filled with cheery colors and great light which make up for the daylight basement vibes. Kitchen well appointed, comfortable bed, and kind host. A wonderful stay in a great place in Seattle!  A very wonderful and peaceful garden also! The place is really comfortable. Joline is a very nice host. Very happy with my stay. The Jewel Box is such a great place to stay! Joline is very nice and helpful, the location is awesome and I couldn’t have asked for a better place to stay! The garden is beautiful, a great place for a quite rest! The Jewel Box is a hidden treasure tucked in a quiet unassuming neighborhood. Joline is an amazing host and made us feel right at home. The place is extremely clean, efficient, accessible, and serene. There is incredible artwork displayed throughout the home and garden that give this place a special touch. Joline’s place it quite with beautiful…",
         "description": "This peaceful and colorful north Seattle studio mother-in-law is in the basement level of my charming 1949 house.  It is compact, cozy and well-designed for a feeling of spaciousness. The apartment's walls showcase the work of several local artists.  There is a separate entrance and a full kitchen. Wool area rugs are on comfortable and insulating rubber flooring.  You will find the fabulous country-style garden a tranquil place to read and relax.<br /><br /><b>The space</b><br />The apartment is 362 square feet, which is not large, but the  space is maximized to feel surprisingly roomy.  Plenty of space for one person,  just fine for a close couple.  I would consider a parent with one child.<br /><br />The apartment comes with a comfortable queen bed, down comforter, blankets, cotton sheets, large antique oak dresser, loveseat couch, wide kitchen counter, barstool seating and standard size closet.   The entire space is private and separate from my own living area.  In the warmer months",
         "first_review": "2020-02-24 00:00:00",
         "has_license": "1",
         "host_about": "I’m a professional artist, a gardener, a lover of nature and dance. Sensitive and considerate with a good sense of humor, as a guest I will treat your property with respect, and as a host I will be responsive and helpful.  I recently recently was awarded dual citizenship with Spain and welcome the opportunity to speak Spanish. ",
         "host_acceptance_rate": "0.96",
         "host_has_profile_pic": "1",
         "host_id": "192365131",
         "host_identity_verified": "1",
         "host_is_superhost": "1",
         "host_location": "Seattle, WA",
         "host_name": "Joline",
         "host_neighbourhood": "Bitter Lake",
         "host_operate_years": "4",
         "host_picture_url": "https://a0.muscache.com/im/pictures/user/0546a58b-ae4e-4d9c-84ad-2c1e3ee465d7.jpg?aki_policy=profile_x_medium",
         "host_response_rate": "1.0",
         "host_response_time": "within an hour",
         "host_response_time_encoded": "1",
         "host_since": "2018-05-29 00:00:00",
         "host_url": "https://www.airbnb.com/users/show/192365131",
         "host_verifications": "['email', 'phone']",
         "instant_bookable": "0",
         "last_review": "2022-12-18 00:00:00",
         "last_scraped": "2022-12-24 00:00:00",
         "latitude": "47.7119",
         "listing_id": "41218952",
         "listing_name": "Jewel Box studio ~ an art-filled North Seattle gem",
         "listing_url": "https://www.airbnb.com/rooms/41218952",
         "longitude": "-122.35053",
         "maximum_nights": "180",
         "minimum_nights": "2",
         "neighborhood_overview": "My area of the North Seattle neighborhood of Broadview is  quiet and peaceful, comprised mainly of modest single family houses in a mixture of styles.  My house is located 1 block from the Interurban bike and walking trail and the Washelli Cemetery which is interesting to walk through.  It is a 45 minute walk to beautiful Carkeek Park and beach.  Not far are the neighborhoods of Greenlake, Greenwood, Northgate and Ballard, and the city of Shoreline.",
         "neighbourhood_cleansed": "Bitter Lake",
         "neighbourhood_group_cleansed": "Other neighborhoods",
         "number_of_reviews": "70",
         "number_of_reviews_l30d": "2",
         "number_of_reviews_ltm": "31",
         "picture_url": "https://a0.muscache.com/pictures/e0d6bfd8-f193-4fee-bfc0-4e20589deb05.jpg",
         "polarity": "0.9356799999999998",
         "price": "77.0",
         "property_type": "Entire guest suite",
         "review_scores_accuracy": "5.0",
         "review_scores_checkin": "4.99",
         "review_scores_cleanliness": "4.99",
         "review_scores_communication": "4.99",
         "review_scores_location": "4.9",
         "review_scores_rating": "4.97",
         "review_scores_value": "4.97",
         "reviews_per_month": "2.03",
         "room_type": "Entire home/apt"
        }
       ]
      },
      "text/html": [
       "<div>\n",
       "<style scoped>\n",
       "    .dataframe tbody tr th:only-of-type {\n",
       "        vertical-align: middle;\n",
       "    }\n",
       "\n",
       "    .dataframe tbody tr th {\n",
       "        vertical-align: top;\n",
       "    }\n",
       "\n",
       "    .dataframe thead th {\n",
       "        text-align: right;\n",
       "    }\n",
       "</style>\n",
       "<table border=\"1\" class=\"dataframe\">\n",
       "  <thead>\n",
       "    <tr style=\"text-align: right;\">\n",
       "      <th></th>\n",
       "      <th>listing_id</th>\n",
       "      <th>listing_url</th>\n",
       "      <th>last_scraped</th>\n",
       "      <th>listing_name</th>\n",
       "      <th>description</th>\n",
       "      <th>neighborhood_overview</th>\n",
       "      <th>picture_url</th>\n",
       "      <th>host_id</th>\n",
       "      <th>host_url</th>\n",
       "      <th>host_name</th>\n",
       "      <th>host_since</th>\n",
       "      <th>host_location</th>\n",
       "      <th>host_about</th>\n",
       "      <th>host_response_time</th>\n",
       "      <th>host_response_rate</th>\n",
       "      <th>host_acceptance_rate</th>\n",
       "      <th>host_is_superhost</th>\n",
       "      <th>host_picture_url</th>\n",
       "      <th>host_neighbourhood</th>\n",
       "      <th>host_verifications</th>\n",
       "      <th>host_has_profile_pic</th>\n",
       "      <th>host_identity_verified</th>\n",
       "      <th>neighbourhood_cleansed</th>\n",
       "      <th>neighbourhood_group_cleansed</th>\n",
       "      <th>latitude</th>\n",
       "      <th>longitude</th>\n",
       "      <th>property_type</th>\n",
       "      <th>room_type</th>\n",
       "      <th>accommodates</th>\n",
       "      <th>bedrooms</th>\n",
       "      <th>beds</th>\n",
       "      <th>amenities</th>\n",
       "      <th>price</th>\n",
       "      <th>minimum_nights</th>\n",
       "      <th>maximum_nights</th>\n",
       "      <th>number_of_reviews</th>\n",
       "      <th>number_of_reviews_ltm</th>\n",
       "      <th>number_of_reviews_l30d</th>\n",
       "      <th>first_review</th>\n",
       "      <th>last_review</th>\n",
       "      <th>review_scores_rating</th>\n",
       "      <th>review_scores_accuracy</th>\n",
       "      <th>review_scores_cleanliness</th>\n",
       "      <th>review_scores_checkin</th>\n",
       "      <th>review_scores_communication</th>\n",
       "      <th>review_scores_location</th>\n",
       "      <th>review_scores_value</th>\n",
       "      <th>has_license</th>\n",
       "      <th>instant_bookable</th>\n",
       "      <th>calculated_host_listings_count</th>\n",
       "      <th>calculated_host_listings_count_entire_homes</th>\n",
       "      <th>calculated_host_listings_count_private_rooms</th>\n",
       "      <th>calculated_host_listings_count_shared_rooms</th>\n",
       "      <th>reviews_per_month</th>\n",
       "      <th>bathrooms_count</th>\n",
       "      <th>amenities_count</th>\n",
       "      <th>host_response_time_encoded</th>\n",
       "      <th>host_operate_years</th>\n",
       "      <th>comments</th>\n",
       "      <th>polarity</th>\n",
       "    </tr>\n",
       "  </thead>\n",
       "  <tbody>\n",
       "    <tr>\n",
       "      <th>345</th>\n",
       "      <td>41218952</td>\n",
       "      <td>https://www.airbnb.com/rooms/41218952</td>\n",
       "      <td>2022-12-24</td>\n",
       "      <td>Jewel Box studio ~ an art-filled North Seattle...</td>\n",
       "      <td>This peaceful and colorful north Seattle studi...</td>\n",
       "      <td>My area of the North Seattle neighborhood of B...</td>\n",
       "      <td>https://a0.muscache.com/pictures/e0d6bfd8-f193...</td>\n",
       "      <td>192365131</td>\n",
       "      <td>https://www.airbnb.com/users/show/192365131</td>\n",
       "      <td>Joline</td>\n",
       "      <td>2018-05-29</td>\n",
       "      <td>Seattle, WA</td>\n",
       "      <td>I’m a professional artist, a gardener, a lover...</td>\n",
       "      <td>within an hour</td>\n",
       "      <td>1.0</td>\n",
       "      <td>0.96</td>\n",
       "      <td>1</td>\n",
       "      <td>https://a0.muscache.com/im/pictures/user/0546a...</td>\n",
       "      <td>Bitter Lake</td>\n",
       "      <td>['email', 'phone']</td>\n",
       "      <td>1</td>\n",
       "      <td>1</td>\n",
       "      <td>Bitter Lake</td>\n",
       "      <td>Other neighborhoods</td>\n",
       "      <td>47.7119</td>\n",
       "      <td>-122.35053</td>\n",
       "      <td>Entire guest suite</td>\n",
       "      <td>Entire home/apt</td>\n",
       "      <td>2</td>\n",
       "      <td>1.0</td>\n",
       "      <td>1.0</td>\n",
       "      <td>[\"Hot water\", \"Blender\", \"Shared patio or balc...</td>\n",
       "      <td>77.0</td>\n",
       "      <td>2</td>\n",
       "      <td>180</td>\n",
       "      <td>70</td>\n",
       "      <td>31</td>\n",
       "      <td>2</td>\n",
       "      <td>2020-02-24</td>\n",
       "      <td>2022-12-18</td>\n",
       "      <td>4.97</td>\n",
       "      <td>5.0</td>\n",
       "      <td>4.99</td>\n",
       "      <td>4.99</td>\n",
       "      <td>4.99</td>\n",
       "      <td>4.9</td>\n",
       "      <td>4.97</td>\n",
       "      <td>1</td>\n",
       "      <td>0</td>\n",
       "      <td>1</td>\n",
       "      <td>1</td>\n",
       "      <td>0</td>\n",
       "      <td>0</td>\n",
       "      <td>2.03</td>\n",
       "      <td>1.0</td>\n",
       "      <td>55</td>\n",
       "      <td>1</td>\n",
       "      <td>4</td>\n",
       "      <td>The Jewel Box is such a wonderful space. It wa...</td>\n",
       "      <td>0.93568</td>\n",
       "    </tr>\n",
       "  </tbody>\n",
       "</table>\n",
       "</div>"
      ],
      "text/plain": [
       "     listing_id                            listing_url last_scraped  \\\n",
       "345    41218952  https://www.airbnb.com/rooms/41218952   2022-12-24   \n",
       "\n",
       "                                          listing_name  \\\n",
       "345  Jewel Box studio ~ an art-filled North Seattle...   \n",
       "\n",
       "                                           description  \\\n",
       "345  This peaceful and colorful north Seattle studi...   \n",
       "\n",
       "                                 neighborhood_overview  \\\n",
       "345  My area of the North Seattle neighborhood of B...   \n",
       "\n",
       "                                           picture_url    host_id  \\\n",
       "345  https://a0.muscache.com/pictures/e0d6bfd8-f193...  192365131   \n",
       "\n",
       "                                        host_url host_name host_since  \\\n",
       "345  https://www.airbnb.com/users/show/192365131    Joline 2018-05-29   \n",
       "\n",
       "    host_location                                         host_about  \\\n",
       "345   Seattle, WA  I’m a professional artist, a gardener, a lover...   \n",
       "\n",
       "    host_response_time  host_response_rate  host_acceptance_rate  \\\n",
       "345     within an hour                 1.0                  0.96   \n",
       "\n",
       "     host_is_superhost                                   host_picture_url  \\\n",
       "345                  1  https://a0.muscache.com/im/pictures/user/0546a...   \n",
       "\n",
       "    host_neighbourhood  host_verifications  host_has_profile_pic  \\\n",
       "345        Bitter Lake  ['email', 'phone']                     1   \n",
       "\n",
       "     host_identity_verified neighbourhood_cleansed  \\\n",
       "345                       1            Bitter Lake   \n",
       "\n",
       "    neighbourhood_group_cleansed  latitude  longitude       property_type  \\\n",
       "345          Other neighborhoods   47.7119 -122.35053  Entire guest suite   \n",
       "\n",
       "           room_type  accommodates  bedrooms  beds  \\\n",
       "345  Entire home/apt             2       1.0   1.0   \n",
       "\n",
       "                                             amenities  price  minimum_nights  \\\n",
       "345  [\"Hot water\", \"Blender\", \"Shared patio or balc...   77.0               2   \n",
       "\n",
       "     maximum_nights  number_of_reviews  number_of_reviews_ltm  \\\n",
       "345             180                 70                     31   \n",
       "\n",
       "     number_of_reviews_l30d first_review last_review  review_scores_rating  \\\n",
       "345                       2   2020-02-24  2022-12-18                  4.97   \n",
       "\n",
       "     review_scores_accuracy  review_scores_cleanliness  review_scores_checkin  \\\n",
       "345                     5.0                       4.99                   4.99   \n",
       "\n",
       "     review_scores_communication  review_scores_location  review_scores_value  \\\n",
       "345                         4.99                     4.9                 4.97   \n",
       "\n",
       "     has_license  instant_bookable  calculated_host_listings_count  \\\n",
       "345            1                 0                               1   \n",
       "\n",
       "     calculated_host_listings_count_entire_homes  \\\n",
       "345                                            1   \n",
       "\n",
       "     calculated_host_listings_count_private_rooms  \\\n",
       "345                                             0   \n",
       "\n",
       "     calculated_host_listings_count_shared_rooms  reviews_per_month  \\\n",
       "345                                            0               2.03   \n",
       "\n",
       "     bathrooms_count  amenities_count  host_response_time_encoded  \\\n",
       "345              1.0               55                           1   \n",
       "\n",
       "     host_operate_years                                           comments  \\\n",
       "345                   4  The Jewel Box is such a wonderful space. It wa...   \n",
       "\n",
       "     polarity  \n",
       "345   0.93568  "
      ]
     },
     "execution_count": 35,
     "metadata": {},
     "output_type": "execute_result"
    }
   ],
   "source": [
    "df_model.iloc[[345]]"
   ]
  },
  {
   "cell_type": "markdown",
   "metadata": {
    "created_in_deepnote_cell": true,
    "deepnote_cell_type": "markdown"
   },
   "source": [
    "<a style='text-decoration:none;line-height:16px;display:flex;color:#5B5B62;padding:10px;justify-content:end;' href='https://deepnote.com?utm_source=created-in-deepnote-cell&projectId=f2a50dc6-ff6a-45ff-9dbe-d7a35bd1e393' target=\"_blank\">\n",
    "<img alt='Created in deepnote.com' style='display:inline;max-height:16px;margin:0px;margin-right:7.5px;' src='data:image/svg+xml;base64,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' > </img>\n",
    "Created in <span style='font-weight:600;margin-left:4px;'>Deepnote</span></a>"
   ]
  }
 ],
 "metadata": {
  "colab": {
   "provenance": []
  },
  "deepnote": {},
  "deepnote_execution_queue": [],
  "deepnote_notebook_id": "1331e0304135468ebe702eefa13bcec0",
  "kernelspec": {
   "display_name": "Python 3",
   "language": "python",
   "name": "python3"
  },
  "language_info": {
   "codemirror_mode": {
    "name": "ipython",
    "version": 3
   },
   "file_extension": ".py",
   "mimetype": "text/x-python",
   "name": "python",
   "nbconvert_exporter": "python",
   "pygments_lexer": "ipython3",
   "version": "3.8.3"
  }
 },
 "nbformat": 4,
 "nbformat_minor": 1
}
